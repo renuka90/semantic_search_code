{
 "cells": [
  {
   "cell_type": "code",
   "execution_count": 1,
   "metadata": {},
   "outputs": [],
   "source": [
    "import os\n",
    "import re\n",
    "import pandas as pd\n",
    "import urllib\n",
    "from nltk import SnowballStemmer\n",
    "from gensim.models import Word2Vec\n",
    "#import langdetect\n",
    "import tika\n",
    "import time\n",
    "from tika import parser\n",
    "import pickle"
   ]
  },
  {
   "cell_type": "markdown",
   "metadata": {},
   "source": [
    "# Load Data proc"
   ]
  },
  {
   "cell_type": "code",
   "execution_count": 1,
   "metadata": {},
   "outputs": [],
   "source": [
    "#load data MD-1 HRM and HRMJ\n",
    "import pickle\n",
    "#data_proc = pickle.load(open(\"C:/Thesis/Data/save/Master_Data/MD_2/data_proc_latest/PP_data_proc.p\", \"rb\"))\n",
    "#data_proc = pickle.load(open(\"C:/Thesis/Data/save/Master_Data/MD_2/data_proc_removed_ref_auth/IJHRM_data_proc.p\", \"rb\"))\n",
    "\n",
    "#data_proc = pickle.load(open(\"C:/Thesis/Data/save/Master_Data/MD_4/data_proc_latest/org_B_and_HDP_data_proc.p\", \"rb\"))"
   ]
  },
  {
   "cell_type": "code",
   "execution_count": null,
   "metadata": {},
   "outputs": [],
   "source": [
    "#data_proc = pickle.load(open(\"C:/Thesis/Data/save/Master_Data/MD_2/data_proc_removed_ref_auth/IJHRM_data_proc_new.p\", \"rb\"))"
   ]
  },
  {
   "cell_type": "code",
   "execution_count": 10,
   "metadata": {},
   "outputs": [],
   "source": [
    "#data_proc = pickle.load(open(\"C:/Thesis/Data/save/Master_Data/MD_1/data_proc_removed_ref_auth/HRM_data_proc_new.p\", \"rb\"))"
   ]
  },
  {
   "cell_type": "code",
   "execution_count": null,
   "metadata": {},
   "outputs": [],
   "source": [
    "#data_proc = pickle.load(open(\"C:/Thesis/Data/save/Master_Data/MD_1/data_proc_removed_ref_auth/HRMJ_data_proc_new.p\", \"rb\"))"
   ]
  },
  {
   "cell_type": "code",
   "execution_count": 9,
   "metadata": {},
   "outputs": [],
   "source": [
    "# to do JM_studies_data_proc_new\n",
    "data_proc = pickle.load(open(\"C:/Thesis/Data/save/Master_Data/MD_1/data_proc_latest/J_of_applied_psy_data_proc.p\", \"rb\"))"
   ]
  },
  {
   "cell_type": "code",
   "execution_count": null,
   "metadata": {},
   "outputs": [],
   "source": [
    "#data_proc = pickle.load(open(\"C:/Thesis/Data/save/Master_Data/MD_3/data_proc_removed_ref_auth/JM_data_proc_new.p\", \"rb\"))"
   ]
  },
  {
   "cell_type": "code",
   "execution_count": null,
   "metadata": {},
   "outputs": [],
   "source": []
  },
  {
   "cell_type": "code",
   "execution_count": 3,
   "metadata": {
    "scrolled": true
   },
   "outputs": [
    {
     "data": {
      "text/plain": [
       "list"
      ]
     },
     "execution_count": 3,
     "metadata": {},
     "output_type": "execute_result"
    }
   ],
   "source": [
    "type(data_proc)"
   ]
  },
  {
   "cell_type": "code",
   "execution_count": 10,
   "metadata": {},
   "outputs": [],
   "source": [
    "# reading text file per sentence and append it into a list\n",
    "#First read the text file into a container. \n",
    "#Then use regular expressions to parse the document. \n",
    "# split() methods can be used for breaking the strings\n",
    "\n",
    "import re\n",
    "doclist = [ line for line in data_proc ]\n",
    "docstr = '' . join(doclist)\n",
    "sentences = re.split(r'[.!?]', docstr)\n",
    "\n",
    "#sentences"
   ]
  },
  {
   "cell_type": "code",
   "execution_count": 11,
   "metadata": {},
   "outputs": [],
   "source": [
    "# Lemmatize with POS Tag\n",
    "import nltk\n",
    "from nltk.corpus import wordnet\n",
    "from nltk.stem.wordnet import WordNetLemmatizer\n",
    "from nltk import word_tokenize\n",
    "\n",
    "def get_wordnet_pos(word):\n",
    "    \"\"\"Map POS tag to first character lemmatize() accepts\"\"\"\n",
    "    tag = nltk.pos_tag([word])[0][1][0].upper()\n",
    "    tag_dict = {\"J\": wordnet.ADJ,\n",
    "                \"N\": wordnet.NOUN,\n",
    "                \"V\": wordnet.VERB,\n",
    "                \"R\": wordnet.ADV}\n",
    "\n",
    "    return tag_dict.get(tag, wordnet.NOUN)\n",
    "\n",
    "\n",
    "# 1. Init Lemmatizer\n",
    "lmtzr = WordNetLemmatizer()\n",
    "\n",
    "# 2. Lemmatize Single Word with the appropriate POS tag\n",
    "#word = 'feet'\n",
    "#print(lemmatizer.lemmatize(word, get_wordnet_pos(word)))\n",
    "\n",
    "# 3. Lemmatize a Sentence with the appropriate POS tag\n",
    "#sentence = \"The striped bats are hanging on their feet for best…\n",
    "#print([lemmatizer.lemmatize(w, get_wordnet_pos(w)) for w in nltk.word_tokenize(sentence)])\n",
    "\n",
    "lemmatized = [[lmtzr.lemmatize(word,get_wordnet_pos(word)) for word in word_tokenize(s)]\n",
    "              for s in sentences]\n",
    "#> ['The', 'strip', 'bat', 'be', 'hang', 'on', 'their', 'foot', 'for', 'best']"
   ]
  },
  {
   "cell_type": "code",
   "execution_count": null,
   "metadata": {},
   "outputs": [],
   "source": [
    "# save lemmatized data \n",
    "#Note: Done\n",
    "# C:/Thesis/Data/save/Master_Data/MD_lemmatized/IJHRM_lemmatized.txt\n",
    "\n",
    "import re\n",
    "\n",
    "#with open(\"C:/Thesis/Data/save/Master_Data/MD_lemmatized/AMJ_lemmatized.txt\", \"w\",encoding=\"utf-8\") as outfile:\n",
    "#with open(\"C:/Thesis/Data/save/Master_Data/MD_lemmatized_ref_auth/HRM_lemmatized.txt\", \"w\",encoding=\"utf-8\") as outfile: \n",
    "with open(\"C:/Thesis/Data/save/Master_Data/MD_lemmatized_latest/J_of_applied_psy_lemmatized.txt\", \"w\",encoding=\"utf-8\") as outfile:\n",
    "    test = [re.sub('[\\[\\]\\'\\ ]', ',', str(t))for t in lemmatized]\n",
    "    test = [re.sub(',,*', ',', str(t))for t in test]\n",
    "    test = [re.sub('^,' , '', str(t))for t in test]\n",
    "    \n",
    "    for i in range(len(test)):\n",
    "        outstring = \"\"    \n",
    "        outstring += str(test[i])\n",
    "        outfile.write(outstring)"
   ]
  },
  {
   "cell_type": "code",
   "execution_count": 1,
   "metadata": {},
   "outputs": [],
   "source": [
    "#with open(\"C:/Thesis/Data/save/Master_Data/MD_lemmatized_ref_auth/LQ_lemmatized.txt\", \"r\",encoding=\"utf-8\") as outfile: \n",
    " #    filter_LQ = outfile.read()"
   ]
  }
 ],
 "metadata": {
  "kernelspec": {
   "display_name": "Python 3",
   "language": "python",
   "name": "python3"
  },
  "language_info": {
   "codemirror_mode": {
    "name": "ipython",
    "version": 3
   },
   "file_extension": ".py",
   "mimetype": "text/x-python",
   "name": "python",
   "nbconvert_exporter": "python",
   "pygments_lexer": "ipython3",
   "version": "3.7.6"
  }
 },
 "nbformat": 4,
 "nbformat_minor": 2
}
