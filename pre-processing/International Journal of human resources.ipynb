{
 "cells": [
  {
   "cell_type": "code",
   "execution_count": null,
   "metadata": {},
   "outputs": [],
   "source": [
    "import os\n",
    "import re\n",
    "import pandas as pd\n",
    "import urllib\n",
    "from nltk import SnowballStemmer\n",
    "from gensim.models import Word2Vec\n",
    "#import langdetect\n",
    "import tika\n",
    "import time\n",
    "from tika import parser\n",
    "import pickle"
   ]
  },
  {
   "cell_type": "markdown",
   "metadata": {},
   "source": [
    "# Raw Articles pdf Data\n",
    "Convert pdf to text using Tika apache server "
   ]
  },
  {
   "cell_type": "code",
   "execution_count": null,
   "metadata": {},
   "outputs": [],
   "source": [
    "# specify the target data folder\n",
    "\n",
    "target_dir = 'C:/Thesis/Data/International_Journal_of_Human_Resource_Management'"
   ]
  },
  {
   "cell_type": "code",
   "execution_count": null,
   "metadata": {},
   "outputs": [],
   "source": [
    "# prep pdf extraction\n",
    "pdf_files = []\n",
    "wrd_files = []\n",
    "\n",
    "for f in os.listdir(target_dir):\n",
    "    if f.endswith(\".pdf\") | f.endswith(\".PDF\"):\n",
    "        thispdf = os.path.join(target_dir, f)\n",
    "        pdf_files = pdf_files + [thispdf]\n",
    "    if f.endswith(\".doc\") | f.endswith(\".docx\") | f.endswith(\".DOC\") | f.endswith(\".DOCX\"):\n",
    "        thiswrd = os.path.join(target_dir, f)\n",
    "        wrd_files = wrd_files + [thiswrd]"
   ]
  },
  {
   "cell_type": "code",
   "execution_count": null,
   "metadata": {
    "scrolled": true
   },
   "outputs": [],
   "source": [
    "port = 4321 # port to use for Tika server (chosen arbitrarily)\n",
    "server_str = 'http://localhost:' + str(port)\n",
    "tika_path  = 'C:\\Software\\ tika-server-1.23.jar'\n",
    "tika_run   = 'java -jar' + tika_path + ' --port ' + str(port)\n",
    "print('Command to start Tika:')\n",
    "print(tika_run)\n",
    "print('---')\n",
    "print('Number of pdf files: ' + str(len(pdf_files)))\n",
    "print('Number of word files: ' + str(len(wrd_files)))"
   ]
  },
  {
   "cell_type": "code",
   "execution_count": null,
   "metadata": {},
   "outputs": [],
   "source": [
    "# process the PDF files, store text in memory\n",
    "tika.TikaClientOnly = True \n",
    "\n",
    "pdf_metadata = [parser.from_file(t, server_str, xmlContent=False)[\"metadata\"] for t in (pdf_files + wrd_files)]"
   ]
  },
  {
   "cell_type": "code",
   "execution_count": null,
   "metadata": {},
   "outputs": [],
   "source": [
    "# save data metadata\n",
    "pickle.dump(pdf_metadata, open( \"C:/Thesis/Data/save/International_Journal_of_Human_Resource_Management/metadata/metadata_all.p\", \"wb\" ) )"
   ]
  },
  {
   "cell_type": "markdown",
   "metadata": {},
   "source": [
    "# Text Data\n",
    "\n",
    "Eliminate title, sections (eg: content between Method and Discussion) and Reference. It is saved as a pre-processed data"
   ]
  },
  {
   "cell_type": "code",
   "execution_count": null,
   "metadata": {
    "scrolled": true
   },
   "outputs": [],
   "source": [
    "# process the PDF files, store text in memory\n",
    "tika.TikaClientOnly = True \n",
    "\n",
    "pdf_text = [parser.from_file(t, server_str, xmlContent=False)[\"content\"] for t in (pdf_files + wrd_files)]"
   ]
  },
  {
   "cell_type": "code",
   "execution_count": null,
   "metadata": {},
   "outputs": [],
   "source": [
    "# save data\n",
    "pickle.dump(pdf_text, open( \"C:/Thesis/Data/save/International_Journal_of_Human_Resource_Management/save_alltextData.p\", \"wb\" ) )"
   ]
  },
  {
   "cell_type": "markdown",
   "metadata": {},
   "source": [
    "#  Load the Text data"
   ]
  },
  {
   "cell_type": "code",
   "execution_count": 39,
   "metadata": {},
   "outputs": [],
   "source": [
    "import pickle\n",
    "#load the text data\n",
    "pdf_text = pickle.load(open(\"C:/Thesis/Data/save/International_Journal_of_Human_Resource_Management/save_alltextData.p\", \"rb\"))\n"
   ]
  },
  {
   "cell_type": "code",
   "execution_count": 40,
   "metadata": {},
   "outputs": [
    {
     "data": {
      "text/plain": [
       "525"
      ]
     },
     "execution_count": 40,
     "metadata": {},
     "output_type": "execute_result"
    }
   ],
   "source": [
    "len(pdf_text)"
   ]
  },
  {
   "cell_type": "markdown",
   "metadata": {},
   "source": [
    "# Get country names"
   ]
  },
  {
   "cell_type": "code",
   "execution_count": 41,
   "metadata": {},
   "outputs": [],
   "source": [
    "# Since it is case sensetive, firstly get the list of country before converting the text to lowercase\n",
    "country_list = ['america', 'vietnam', 'usa']\n",
    "import pycountry\n",
    "\n",
    "for country in pycountry.countries:\n",
    "    country_list.append(country.name.lower())"
   ]
  },
  {
   "cell_type": "code",
   "execution_count": 42,
   "metadata": {},
   "outputs": [],
   "source": [
    "#Convert country list to lower case. it will be called in filter function\n",
    "#country_lower = [x.lower() for x in country_list]\n",
    "#print(country_list)"
   ]
  },
  {
   "cell_type": "markdown",
   "metadata": {},
   "source": [
    "# Get city names (and additional countries)"
   ]
  },
  {
   "cell_type": "code",
   "execution_count": 43,
   "metadata": {},
   "outputs": [],
   "source": [
    "from geotext import GeoText\n",
    "\n",
    "cities_list = []\n",
    "for i in pdf_text:\n",
    "    place = GeoText(i)\n",
    "    #print(place.cities)\n",
    "    #print(place.countries)\n",
    "    cities_list.append(place.cities + place.countries)\n",
    "\n",
    "t = []\n",
    "for i in cities_list:\n",
    "    t += i\n",
    "    \n",
    "# print(len(t))    \n",
    "    \n",
    "cities_list = list(set(t))\n",
    "# cities_list"
   ]
  },
  {
   "cell_type": "code",
   "execution_count": 44,
   "metadata": {},
   "outputs": [
    {
     "name": "stdout",
     "output_type": "stream",
     "text": [
      "1333\n"
     ]
    }
   ],
   "source": [
    "#Convert cities list to lower case. it will be called in filter function\n",
    "cities_lower =[]\n",
    "for i in cities_list:\n",
    "    #for j in i:\n",
    "    cities_lower.append(i.lower())\n",
    "print(len(cities_lower))\n"
   ]
  },
  {
   "cell_type": "markdown",
   "metadata": {},
   "source": [
    "#  Convert pdf text to lower case"
   ]
  },
  {
   "cell_type": "code",
   "execution_count": 45,
   "metadata": {},
   "outputs": [],
   "source": [
    "#Convert each string to lowercase\n",
    "for i in range(len(pdf_text)):\n",
    "    pdf_text[i] = pdf_text[i].lower()"
   ]
  },
  {
   "cell_type": "markdown",
   "metadata": {},
   "source": [
    "# Excluding pdfs if it doesnot have the standard format \n",
    "check the standard format of pdf- if it contains method and discussion section or not"
   ]
  },
  {
   "cell_type": "code",
   "execution_count": 46,
   "metadata": {},
   "outputs": [
    {
     "data": {
      "text/plain": [
       "108"
      ]
     },
     "execution_count": 46,
     "metadata": {},
     "output_type": "execute_result"
    }
   ],
   "source": [
    "import re\n",
    "pdf_included =[]\n",
    "pdf_excluded =[]\n",
    "\n",
    "for i in pdf_text:\n",
    "    flag_1 = re.search(r'\\n(general )?discussion\\n', i)\n",
    "    flag_2 = re.search(r'\\nmethods?\\n', i)\n",
    "   \n",
    "    if flag_1 and flag_2: \n",
    "        pdf_included.append(i)\n",
    "     \n",
    "    else:\n",
    "        pdf_excluded.append(i)\n",
    "len(pdf_included)"
   ]
  },
  {
   "cell_type": "code",
   "execution_count": 47,
   "metadata": {},
   "outputs": [
    {
     "data": {
      "text/plain": [
       "417"
      ]
     },
     "execution_count": 47,
     "metadata": {},
     "output_type": "execute_result"
    }
   ],
   "source": [
    "len(pdf_excluded)"
   ]
  },
  {
   "cell_type": "code",
   "execution_count": 48,
   "metadata": {},
   "outputs": [],
   "source": [
    "# Within JM: acknowledgement section appears in two approaches:1: before or after keyword section (only few pdfs)\n",
    "# 2: before reference section (maximum pdfs)\n",
    "# thus, focusing on the majority occurance of acknowledgements before reference second, we removed it based on that condition.\n",
    "\n",
    "# step-1 remove content after acknowledgements section( it will include appendix, reference section)\n",
    "pdf_remove_step1 = [re.sub(r\"(?is)\\nacknowledgments\\n.*\", \"\", f) for f in pdf_included]\n",
    "\n",
    "# step-2 if there is no acknowledgements section than start with appendix (it will include reference section.)\n",
    "pdf_remove_step2 = [re.sub(r\"(?is)\\nappendix\\n.*\", \"\", f) for f in pdf_remove_step1]\n",
    "\n",
    "# step-3 remove all from reference section\n",
    "pdf_remove_step3 = [re.sub(r\"(?is)\\nreferences\\n.*\", \"\", f) for f in pdf_remove_step2]\n",
    "\n",
    "# get the reference section\n",
    "references = [re.sub(r\"^(.|\\n)+\\nreferences\\n\", \"\", f) for f in pdf_included]"
   ]
  },
  {
   "cell_type": "code",
   "execution_count": 49,
   "metadata": {},
   "outputs": [
    {
     "data": {
      "text/plain": [
       "108"
      ]
     },
     "execution_count": 49,
     "metadata": {},
     "output_type": "execute_result"
    }
   ],
   "source": [
    "len(pdf_remove_step3)"
   ]
  },
  {
   "cell_type": "code",
   "execution_count": 50,
   "metadata": {},
   "outputs": [],
   "source": [
    "# step-4: remove content between method and discussion section (it contains method and result section)\n",
    "def remove_method_result(method, discussion, text):\n",
    "    \n",
    "    import re    \n",
    "    start = method\n",
    "    end = discussion\n",
    "    #start of pattern, followed by any number of times 'any character OR a newline' and terminated by the end pattern.\n",
    "    #pattern = start + '.*'+'(.|\\n)*'+end\n",
    "    pattern = start +'(.|\\n)*'+end\n",
    "    #pdf_method_dis = [re.sub(pattern, '', f) for f in pdf_text]\n",
    "    pdf_method_dis = re.sub(pattern, '', text)\n",
    "\n",
    "    return pdf_method_dis"
   ]
  },
  {
   "cell_type": "code",
   "execution_count": 51,
   "metadata": {},
   "outputs": [],
   "source": [
    "import re\n",
    "#  remove method and result\n",
    "pdf_remove_step4 = [remove_method_result('\\nmethods?\\n', '\\n(general )?discussion\\n', t) for t in pdf_remove_step3]"
   ]
  },
  {
   "cell_type": "code",
   "execution_count": 52,
   "metadata": {},
   "outputs": [
    {
     "data": {
      "text/plain": [
       "108"
      ]
     },
     "execution_count": 52,
     "metadata": {},
     "output_type": "execute_result"
    }
   ],
   "source": [
    "len(pdf_remove_step4)"
   ]
  },
  {
   "cell_type": "markdown",
   "metadata": {},
   "source": [
    "# Pre-processing\n",
    "Regular expression is used to clean up the data"
   ]
  },
  {
   "cell_type": "code",
   "execution_count": 53,
   "metadata": {},
   "outputs": [
    {
     "name": "stdout",
     "output_type": "stream",
     "text": [
      "\n",
      "\n",
      "\n",
      "\n",
      "\n",
      "\n",
      "\n",
      "\n",
      "\n",
      "\n",
      "\n",
      "\n",
      "\n",
      "\n",
      "\n",
      "\n",
      "\n",
      "\n",
      "\n",
      "\n",
      "\n",
      "\n",
      "\n",
      "\n",
      "\n",
      "\n",
      "\n",
      "\n",
      "\n",
      "\n",
      "\n",
      "\n",
      "\n",
      "\n",
      "\n",
      "\n",
      "\n",
      "\n",
      "full terms & conditions of access and use can be found at\n",
      "https://www.tandfonline.com/action/journalinformation?journalcode=rijh20\n",
      "\n",
      "the international journal of human resource\n",
      "management\n",
      "\n",
      "issn: 0958-5192 (print) 1466-4399 (online) journal homepage: https://www.tandfonline.com/loi/rijh20\n",
      "\n",
      "person–organization fit and the war for talent:\n",
      "does diversity management make a difference?\n",
      "\n",
      "eddy s.w. ng & ronald j. burke\n",
      "\n",
      "to cite this article: eddy s.w. ng & ronald j. burke (2005) person–organization fit and the war\n",
      "for talent: does diversity management make a difference?, the international journal of human\n",
      "resource management, 16:7, 1195-1210, doi: 10.1080/09585190500144038\n",
      "\n",
      "to link to this article:  https://doi.org/10.1080/09585190500144038\n",
      "\n",
      "published online: 17 feb 2007.\n",
      "\n",
      "submit your article to this journal \n",
      "\n",
      "article views: 6233\n",
      "\n",
      "view related articles \n",
      "\n",
      "citing articles: 121 view citing articles \n",
      "\n",
      "https://www.tandfonline.com/action/journalinformation?journalcode=rijh20\n",
      "https://www.tandfonline.com/loi/rijh20\n",
      "https://www.tandfonline.com/action/showcitformats?doi=10.1080/09585190500144038\n",
      "https://doi.org/10.1080/09585190500144038\n",
      "https://www.tandfonline.com/action/authorsubmission?journalcode=rijh20&show=instructions\n",
      "https://www.tandfonline.com/action/authorsubmission?journalcode=rijh20&show=instructions\n",
      "https://www.tandfonline.com/doi/mlt/10.1080/09585190500144038\n",
      "https://www.tandfonline.com/doi/mlt/10.1080/09585190500144038\n",
      "https://www.tandfonline.com/doi/citedby/10.1080/09585190500144038#tabmodule\n",
      "https://www.tandfonline.com/doi/citedby/10.1080/09585190500144038#tabmodule\n",
      "\n",
      "\n",
      "person–organization fit and the war for\n",
      "talent: does diversity management make\n",
      "a difference?\n",
      "\n",
      "eddy s.w. ng and ronald j. burke\n",
      "\n",
      "abstract this study investigates the importance of diversity management in applicants’\n",
      "job choice decisions. according to the person–organization fit theory, individuals make\n",
      "assessments of fit between their personal values and the values of the organizations, and\n",
      "they make job choice decisions based on these assessments. a survey of 113 mba job\n",
      "seekers concluded that women and ethnic minorities found diversity management to be\n",
      "important when accepting offers of employment. in addition, high achievers and new\n",
      "immigrants rated organizations with diversity management as more attractive as potential\n",
      "employers. the findings suggest a need to place a higher emphasis on diversity\n",
      "management in women and minority applicant attraction.\n",
      "\n",
      "keywords affirmative action; applicant attraction; diversity management; organi-\n",
      "zational attractiveness; person–organization fit; recruitment.\n",
      "\n",
      "introduction\n",
      "\n",
      "over the next decade, the economy will face a two-pronged challenge of satisfying rapid\n",
      "growth in the demand for highly skilled workers and of baby boomers pondering early\n",
      "retirement (corporate leadership council, 2001). faced with a shortage of qualified\n",
      "workers, employers must look to a new pool of qualified labour-force participants.\n",
      "fortunately, canada and the us benefit from an inflow of workers from the rest of the\n",
      "world. many of these individuals are highly trained and educated in knowledge-based\n",
      "professions, such as managerial workers, engineers, computer scientists and academics\n",
      "(burleton, 2001). organizations that want to compete for the best talent must seek to\n",
      "attract and hire from this pool of workers, which is increasingly diverse in terms of\n",
      "gender, race and nationality.\n",
      "\n",
      "this study investigates women and minority attraction to upper-level or managerial\n",
      "positions. despite some promising, albeit preliminary findings, on women and minority\n",
      "attraction, previous studies (williams and bauer, 1994; gilbert and stead, 1999; avery,\n",
      "2003) overlooked the quality of applicants who are attracted to diversity management.\n",
      "specifically, we are interested in the quality of applicants who find diversity management\n",
      "to be attractive and consider it to be a factor in their job choice decisions. women and\n",
      "\n",
      "the international journal of human resource management\n",
      "\n",
      "issn 0958-5192 print/issn 1466-4399 online q 2005 taylor & francis\n",
      "\n",
      "http://www.tandf.co.uk/journals\n",
      "\n",
      "doi: 10.1080/09585190500144038\n",
      "\n",
      "eddy s.w. ng, business administration program, trent university, peterborough, ontario,\n",
      "\n",
      "canada k9j 7b8 (tel: þ705 748 1011 ext. 7932; fax: þ705 748 1409; e-mail: edng@trentu.ca).\n",
      "\n",
      "ronald j. burke, schulich school of business, york university, toronto, ontario, canada m3j 1p3\n",
      "\n",
      "(tel: þ416 736 2100 ext. 77921; fax: þ416 736 5762; e-mail: rburke@schulich.yorku.ca).\n",
      "\n",
      "int. j. of human resource management 16:7 july 2005 1195–1210\n",
      "\n",
      "\n",
      "\n",
      "minority recruitment is important because organizations remain challenged in achieving\n",
      "the proportionate population representation in their workforce, particularly for\n",
      "professional and upper management jobs (taggar et al., 1997).\n",
      "\n",
      "several factors contribute to the lack of representation among women and minorities\n",
      "in higher-level positions. first, white male managers continue to control the bulk of the\n",
      "power in organizations and largely determine a company’s hiring, compensation and\n",
      "performance evaluation practices (blum et al., 1994). for example, men seemed to\n",
      "appreciate men’s work more than women’s (nieva and gutek, 1980), received higher\n",
      "performance ratings (drazin and auster, 1987) and commanded higher salary levels\n",
      "(drazin and auster, 1987; lefkowitz, 1994). thus, women and minorities faced greater\n",
      "challenges in organizational entry and in moving up the organizational ranks. second,\n",
      "gender and ethnic stereotyping also contributed to the lack of acceptance of women and\n",
      "minorities as authoritative figures. for example, certain attributes such as being diligent,\n",
      "intelligent, and reserved among asians were not seen as ‘managerial’ qualities\n",
      "(giscombe and mattis, 2002). third, the lack of similar ‘others’ in high positions also led\n",
      "to the exclusion of women and minorities in organizational networks (giscombe and\n",
      "mattis, 2002), which often provide knowledge about an organization (ibarra, 1995).\n",
      "thus, many women reported receiving less information about their companies and being\n",
      "shut out of better jobs (cianni and romberger, 1995).\n",
      "\n",
      "policy-makers in canada and the us have responded with employment equity\n",
      "(ee) or affirmative action (aa) legislation to remove the barriers facing women and\n",
      "minorities in the workplace (jain and verma, 1996). however, the reaction towards\n",
      "such policies has been negative both from the white male majority and from women\n",
      "and minority groups who are the intended beneficiaries. white males are opposed to\n",
      "aa because they perceived such practices as abandoning the principle of merit in\n",
      "favour of numerical targets (falkenberg and boland, 1997; gilbert et al., 1999).\n",
      "women hired under aa were perceived to be incompetent and less qualified\n",
      "(heilman, 1997; heilman et al., 1997). as a result, women and minorities resented\n",
      "such stigmatization and disassociated themselves from aa. many reported reduced\n",
      "perceptions of competence by others and receiving lower job evaluations (heilman\n",
      "and alcott, 2001). although recent research has shown that aa practices do not\n",
      "generally lead to lower credentials or performance (holzer and neumark, 1999,\n",
      "2000), organizations are implementing diversity hrm practices to deal with the\n",
      "stigmatization associated with aa (konrad and linnehan, 1995; gilbert et al.,\n",
      "1999).\n",
      "\n",
      "diversity management\n",
      "\n",
      "diversity management is considered a more popular alternative to aa for two reasons.\n",
      "first diversity management can help organizations capitalize on the benefits of a diverse\n",
      "workforce. cox and blake (1991) proposed that diversity management reduces turnover\n",
      "and absenteeism, attracts the best workers, increases sales and marketing efforts,\n",
      "enhances creativity and innovation, and improves decision-making. thus, executives are\n",
      "more likely to devote resources and commitment to diversity efforts (robinson and\n",
      "dechant, 1997). second, diversity management is a voluntary corporate approach to\n",
      "dealing with increasing demographic diversity in the workplace. agocs and burr (1996)\n",
      "pointed out that diversity management helps promote awareness of individual difference\n",
      "and empathy for those who are different, and encourages attitude change. diversity\n",
      "management also seeks to create a greater inclusion of all individuals into formal\n",
      "company programmes and informal networks (gilbert et al., 1999). consequently, it is\n",
      "\n",
      "1196 the international journal of human resource management\n",
      "\n",
      "\n",
      "\n",
      "viewed as less controversial than aa and thus is useful in dealing with issues left\n",
      "unaddressed by aa.\n",
      "\n",
      "previous studies have shown that diversity management is related to applicants’\n",
      "intention to pursue employment. organizations with advertised diversity management\n",
      "practices were perceived to be more attractive employers (williams and bauer, 1994),\n",
      "attracted more black applicants (highhouse et al., 1999a; avery, 2003), and were more\n",
      "successful at recruiting women and minorities (cox and blake, 1991). the supply of\n",
      "women and minorities qualified for management positions continues to increase as they\n",
      "complete management and professional education programmes (blum et al., 1994). this\n",
      "study investigates women and minority application attraction to management positions,\n",
      "and the quality of applicants who are attracted to diversity management practices.\n",
      "specifically, we tackle the issue of stigmatization to determine if diversity management\n",
      "is associated with higher-quality applicants, operationalized in terms of achievement\n",
      "ability using grade point averages (gpa) and graduate management admission test\n",
      "scores (gmat).\n",
      "\n",
      "conceptual background and theory\n",
      "\n",
      "rynes and cable (2003) argued that applicants are at least as concerned about picking the\n",
      "right organization as about choosing the right job. previous research has shown that\n",
      "organizational policies and practices, corporate image and corporate social performance\n",
      "were considered when applicants make job-choice decisions (schwoerer and rosen,\n",
      "1989; gatewood et al., 1993; turban and greening, 1996; highhouse et al., 1999b;\n",
      "albinger and freeman, 2000; turban, 2001). this suggests that perceptions of\n",
      "organizational attractiveness are related to employment practices: an organization that\n",
      "projects a positive employment message may signal that it is likely to provide desirable\n",
      "job attributes, such as strong opportunities for career growth and development, for\n",
      "potential job applicants (rynes and cable, 2003).\n",
      "\n",
      "person–organization fit\n",
      "\n",
      "person–organization (p-o) fit, as an attempt to account for how people make\n",
      "assessments of fit between themselves and the organization, offers an explanation of how\n",
      "applicants make decisions about their job choices. chatman (1989) defined p-o fit as ‘the\n",
      "congruence between organizational values and individual values (which is what\n",
      "individuals want in an organization)’. murray (1938), in his conceptual work, proposed\n",
      "that ‘when given a choice, a person activated by a particular need or set of needs may be\n",
      "expected to seek out the environments that offer fulfillment of these needs, and avoid\n",
      "environments that stifle such fulfillment’.\n",
      "\n",
      "therefore, the congruence between internal state needs and organizational attributes\n",
      "drives the organizational-choice process. p-o fit occurs when an organization satisfies an\n",
      "individual’s needs, desires and preferences (kristoff, 1996). thus the fit between an\n",
      "individual’s values, beliefs and personal characteristics and those of the organization can\n",
      "shed light on the process in which job applicants find organizations attractive and make\n",
      "job-choice decisions. achieving high levels of p-o fit through recruitment is desirable\n",
      "because it is linked to work-related outcomes such as organizational commitment,\n",
      "identification, and retention (kristoff, 1996; saks and ashforth, 1997; van vianen,\n",
      "2000). cable and judge (1996) found that applicants’ perceived value congruence with\n",
      "their chosen organization was related to their p-o fit perceptions, and the perceived p-o\n",
      "fit perceptions predicted actual job choice decisions. for example, individuals with high\n",
      "\n",
      "ng and burke: person–organization fit and the war for talent 1197\n",
      "\n",
      "\n",
      "\n",
      "need for achievement were found to be more attracted to organizations that reward\n",
      "performance (turban and keon, 1993; trank et al., 2002).\n",
      "\n",
      "additionally, an individual’s value systems and characteristics are relatively enduring\n",
      "(chatman, 1989). this may be due to the fact that personal values and beliefs are based on\n",
      "group identities, such as gender and ethnicity (cox, 1993). applicants develop perceptions\n",
      "of fit with organizations based on their values and identities, and will self-select themselves\n",
      "out of the recruitment process if they perceived a lack of fit. for example, black job\n",
      "applicants more readily accepted an organization’s commitment to diversity when recruiting\n",
      "ads depicted blacks in managerial positions (avery, 2003). the congruence between\n",
      "applicants’ preferences, based on group identities, and the recruiting organization’s reputed\n",
      "employment policies is thus important in organizational attraction.\n",
      "\n",
      "employment messages\n",
      "\n",
      "a recent survey concluded that minority employees, like everyone else, want fulfilling\n",
      "work, opportunities for advancement and assurances that their efforts will pay off\n",
      "(fortune, 2000). thus organizations that offer opportunities, encouragement and\n",
      "inclusiveness will attract women and minority job applicants. one way in which\n",
      "organizations can communicate this message prior to organizational entry is through\n",
      "employment messages.\n",
      "\n",
      "an organization’s orientation towards woman and minorities, as reflected in\n",
      "employment messages, is more salient among women and minority applicants (thomas\n",
      "and wise, 1999). employment messages in recruitment ads serve as a vehicle for\n",
      "providing insights into the employment relationships offered by organizations (rafaeli\n",
      "and oliver, 1998). as applicants have incomplete information about organizations, they\n",
      "interpret information they receive as indicators of the organization’s working\n",
      "environment. employment messages are particularly important for women and\n",
      "minorities because, unlike their white male counterparts, they do not enjoy the same\n",
      "access to informal sources of referrals and job information (kirnan et al., 1989;\n",
      "giscombe and mattis, 2002). thus, they rely far more heavily on formal sources of\n",
      "information, such as job ads, recruitment brochures and the information contained in\n",
      "employment offers.\n",
      "\n",
      "consistent with the p-o fit literature, we propose that women and minorities would\n",
      "find organizations that offer opportunities and a work environment free from\n",
      "discrimination to be attractive employers. we expect women and minorities would\n",
      "look for cues on management practices when making job choice decisions. to test this\n",
      "proposition, we conducted an experimental study to investigate the characteristics of\n",
      "applicants for management jobs who find employers with diversity management to be\n",
      "attractive, and consider diversity management to be important in their job choice\n",
      "decisions. based on the foregoing, we hypothesize that:\n",
      "\n",
      "hypothesis 1: minority job applicants (i.e. women and ethnic minorities) are more\n",
      "likely to rate employers with diversity management practices as more\n",
      "attractive.\n",
      "\n",
      "hypothesis 2: minority job applicants will consider diversity management to be an\n",
      "important factor in their job-choice decisions.\n",
      "\n",
      "in addition, high achievers with high abilities are also more likely to seek out\n",
      "environments that offer challenges and opportunities (trank et al., 2002). many new\n",
      "\n",
      "1198 the international journal of human resource management\n",
      "\n",
      "\n",
      "\n",
      "workforce entrants are also highly educated and skilled (e.g. immigrant workers) and\n",
      "have high career aspirations (kirchmeyer and mclellan, 1991; burleton, 2001). thus we\n",
      "expect that diversity management will also attract job applicants who are high achievers.\n",
      "\n",
      "hypothesis 3: job applicants who are high achievers are more likely to rate employers\n",
      "with diversity management practices as more attractive.\n",
      "\n",
      "this study examined job-choice decisions among women and minorities when presented\n",
      "with offers from organizations with and without diversity practices. although support for\n",
      "organization attractiveness with diversity management did not reach conventional levels\n",
      "of significance (hypothesis 1), the results clearly indicate that women and minorities\n",
      "considered organizational diversity practices to be important when accepting employ-\n",
      "ment (hypothesis 2). thus, the findings lend support to the p-o fit hypothesis where an\n",
      "organization’s espoused diversity values are related to women and minorities’ job-choice\n",
      "decisions. a number of factors can influence applicants’ job-choice decisions, such as\n",
      "compensation (goddeeris, 1988; bretz et al., 1994), working conditions (bretz and\n",
      "judge, 1998), and the nature of the work offered (chew and teo, 1993; bretz and judge,\n",
      "1998). however, previous studies (e.g. cable and judge, 1996; judge and cable, 1997)\n",
      "have shown convincingly that p-o fit with an organization’s espoused values is a\n",
      "significant factor in an applicant’s job choices. the advantages of the perceived fit to\n",
      "organizations are obvious. high levels of p-o fit lead to improved organizational\n",
      "outcomes such as commitment, identification and retention (saks and ashforth, 1997).\n",
      "for example, women and minority managers employed in organizations more accepting\n",
      "\n",
      "ng and burke: person–organization fit and the war for talent 1205\n",
      "\n",
      "\n",
      "\n",
      "of minorities, experienced more positive treatment, were more satisfied in their careers,\n",
      "committed and integrated (burke, 1991; mckeen and burke, 1991).\n",
      "\n",
      "as hypothesized, high achievers (those with first-class grades and gmat scores over\n",
      "700) rated organizations with diversity practices more attractive as employers\n",
      "(hypothesis 3). high achievers look for job challenges, rewards and recognition, and\n",
      "fast-track promotions (trank et al., 2002), while diversity management promises\n",
      "fulfilling work, encouragement and equal opportunities for everyone. thus, it is logical\n",
      "for high achievers to accept employment with firms associated with diversity\n",
      "management. from an hrm perspective, organizations that can best attract employees\n",
      "with high levels of ability and achievements can expect to enhance their firms’\n",
      "competitiveness (schmidt and hunter, 1981; hough, 1984).\n",
      "\n",
      "additionally, new immigrants to canada (less than a year) reported greater attraction\n",
      "to organizations with diversity management. this finding is not surprising as many\n",
      "immigrants are attracted to canada because of its official policy promoting\n",
      "multiculturalism and acceptance of diversity. many of these immigrants are highly\n",
      "trained and educated, and are already high achievers in their native countries. they bring\n",
      "with them a sense of enthusiasm and a willingness to work hard to fulfil their career\n",
      "aspirations. building on this knowledge, organizations can gain access to and capitalize\n",
      "on a highly motivated and talented pool of workers with diversity management practices.\n",
      "\n",
      "conclusions and limitations\n",
      "\n",
      "this study makes several contributions to diversity management literature, particularly\n",
      "for women and minority recruitment. first, this study establishes a link between diversity\n",
      "management practices and the attraction of high achievers. it supports the notion that\n",
      "individuals with high levels of abilities prefer to work for more progressive\n",
      "organizations. as this study represents an initial attempt to investigate this issue, we\n",
      "caution that more replication is necessary to establish this finding.\n",
      "\n",
      "second, the sample in this study is more representative of the diverse population found\n",
      "in most industrialized countries such as the uk, australia, and new zealand, and thus\n",
      "provides greater generalizability. for example, the sample of this study consisted of 27\n",
      "per cent asians, 9.5 per cent eastern europeans, 3.6 per cent arabs and so on. most\n",
      "studies on minority applicant attraction have focused on blacks (e.g. highhouse et al.,\n",
      "1999a; avery, 2003). it is expected that, by 2020, the population of the us will comprise\n",
      "47 per cent hispanics, 22 per cent blacks, 18 per cent asians and other minority groups\n",
      "(perkins et al., 2000). thus existing studies on minority attraction may have limited\n",
      "external validity in the future.\n",
      "\n",
      "third, this study investigated women and minority attraction at managerial levels.\n",
      "prior research (e.g. gilbert and stead, 1999) concentrated on entry-level positions as it\n",
      "was not typical for women and minorities to assume upper-level or managerial positions.\n",
      "however, recent trends have indicated women and minority talents are no longer in short\n",
      "supply, and organizations that wish to enhance their competitiveness should seek to\n",
      "recruit and hire from this diverse pool of workers.\n",
      "\n",
      "despite the theoretical and practical contributions to the recruitment and diversity\n",
      "literature, this study has several limitations. first, the main effects of diversity\n",
      "management on organization attractiveness lacked statistical significance (for hypothesis\n",
      "1) or received mixed results (e.g. nv rated as more attractive than fc for gender and for\n",
      "minority status). as previously suggested, a potential explanation for this finding may be\n",
      "attributed to the tone of the letters.2 specifically, the offer from nv appears to make a\n",
      "friendlier overture and uses phrases like ‘understand starting a new job can be\n",
      "\n",
      "1206 the international journal of human resource management\n",
      "\n",
      "\n",
      "\n",
      "overwhelming’, ‘help make your transition easier’ and ‘feel part of national venture\n",
      "bank before starting’. thus, it is possible that the tone of the letter moderated the effect\n",
      "of organizational effectiveness. for example, degroot and motowidlo (1999) found\n",
      "visual and vocal cues (e.g. pitch, pitch variability, amplitude variability) during job\n",
      "interviews affected interviewer judgements. if visual and vocal cues affect interviewer\n",
      "judgements, then a similar effect should also exist between the tone in employment offers\n",
      "and organizational attractiveness. an examination of the tone in employment offers is\n",
      "warranted in future studies and may help shed light on the effectiveness of employment\n",
      "messages.\n",
      "\n",
      "second, the gpa and gmat scores were self-reported by the participants, and could\n",
      "potentially suffer from social desirability. due to the close proximity of the participants\n",
      "to each other when responding to the questionnaires, participants may represent\n",
      "themselves more favourably. for example, when self-reported mean gmat scores are\n",
      "compared with those published in mba rankings, the self-reported scores are found to be\n",
      "slightly higher (642 vs. 620) (canadian business, 2001). thus, future studies should\n",
      "incorporate other measures, such as peer and supervisory ratings of applicant\n",
      "achievements.\n",
      "\n",
      "in sum, diversity practices make organizations more attractive to women and\n",
      "minorities, and there is initial evidence to show that they also attract high achievers and\n",
      "new immigrants as potential employees. this finding has important implications for\n",
      "traditionally homogeneous organizations that remain challenged in attracting women and\n",
      "minorities, particularly for managerial and upper-level positions.\n",
      "\n",
      "notes\n",
      "\n",
      "1 although affirmative action and diversity management are not the same, affirmative action plans\n",
      "\n",
      "and programs form a dimension of diversity management (wright et al., 1995).\n",
      "2 in order for participants to make job-choice decisions, it was necessary to use two offers. as with\n",
      "\n",
      "any experimental studies, minimal adjustments were made to the letters to keep them as realistic\n",
      "\n",
      "as possible.\n",
      "\n",
      "--**************************************-\n",
      "-**************************************--\n",
      "-**************************************--\n"
     ]
    }
   ],
   "source": [
    "# testing it works\n",
    "ref_doc = 20\n",
    "print(pdf_remove_step4[ref_doc])\n",
    "print('--**************************************-')\n",
    "print('-**************************************--')\n",
    "print('-**************************************--')\n",
    "# print(pdf_remove_step4[ref_doc])"
   ]
  },
  {
   "cell_type": "code",
   "execution_count": 54,
   "metadata": {},
   "outputs": [],
   "source": [
    "# remove journal title here?\n",
    "pdf_p = [re.sub('journal of management', '', t) for t in pdf_remove_step4]\n",
    "pdf_p = [re.sub('et al.', '', t) for t in pdf_p]\n",
    "pdf_p = [re.sub('e.g.', '', t) for t in pdf_p] \n",
    "pdf_p = [re.sub('e-mail:', '', t) for t in pdf_p] \n",
    "# CHECK ORDER OF OPERATIONS BELOW:\n",
    "#remove email address <-- IMPROVED, BUT E-MAIL SEEMS TO BE BROKEN UP, BUT STILL PRESENT IN DOCUMENTS AT TIMES         \n",
    "pdf_p = [re.sub(r'[\\w\\.\\-]+@[\\w\\.\\-]+\\.(?:com|net|org|live|edu)', \"\", t) for t in pdf_p]"
   ]
  },
  {
   "cell_type": "code",
   "execution_count": 55,
   "metadata": {},
   "outputs": [],
   "source": [
    "pdf_p = [re.sub( r'https?://[^\\s<>\"]+|www\\.[^\\s<>\"]+', \"\", t) for t in pdf_p]\n",
    "pdf_p = [re.sub(\"[\\S\\.\\-\\?\\!\\=]+\\.(net|com|org|info|edu|gov|uk|de|ca|jp|fr|au|us|ru|ch|it|nel|se|no|es|mil)(/[\\S\\.\\-\\?\\!\\=]*)?\\s?\", \" \", t) for t in pdf_p]"
   ]
  },
  {
   "cell_type": "code",
   "execution_count": 56,
   "metadata": {},
   "outputs": [
    {
     "data": {
      "text/plain": [
       "'\\n\\n\\n\\n\\n\\n\\n\\n\\n\\n\\n\\n\\n\\n\\n\\n\\n\\n\\n\\n\\n\\n\\n\\n\\n\\n\\n\\n\\n\\n\\n\\n\\n\\n\\n\\n\\n\\nfull terms & conditions of access and use can be found at\\n\\n\\nthe international journal of human resource\\nmanagement\\n\\nissn: 0958-5192 (print) 1466-4399 (online) journal homepage: \\n\\nperson–organization fit and the war for talent:\\ndoes diversity management make a difference?\\n\\neddy s.w. ng & ronald j. burke\\n\\nto cite this article: eddy s.w. ng & ronald j. burke (2005) person–organization fit and the war\\nfor talent: does diversity management make a difference?, the international journal of human\\nresource management, 16:7, 1195-1210, doi: 10.1080/09585190500144038\\n\\nto link to this article:  \\n\\npublished online: 17 feb 2007.\\n\\nsubmit your article to this journal \\n\\narticle views: 6233\\n\\nview related articles \\n\\nciting articles: 121 view citing articles \\n\\n\\n\\n\\n\\n\\n\\n\\n\\n\\n\\n\\n\\nperson–organization fit and the war for\\ntalent: does diversity management make\\na difference?\\n\\neddy s.w. ng and ronald j. burke\\n\\nabstract this study investigates the importance of diversity management in applicants’\\njob choice decisions. according to the person–organization fit theory, individuals make\\nassessments of fit between their personal values and the values of the organizations, and\\nthey make job choice decisions based on these assessments. a survey of 113 mba job\\nseekers concluded that women and ethnic minorities found diversity management to be\\nimportant when accepting offers of employment. in addition, high achievers and new\\nimmigrants rated organizations with diversity management as more attractive as potential\\nemployers. the findings suggest a need to place a higher emphasis on diversity\\nmanagement in women and minority applicant attraction.\\n\\nkeywords affirmative action; applicant attraction; diversity management; organi-\\nzational attractiveness; person–organization fit; recruitment.\\n\\nintroduction\\n\\nover the next decade, the economy will face a two-pronged chall of satisfying rapid\\ngrowth in the demand for highly skilled workers and of baby boomers pondering early\\nretirement (corporate leadership council, 2001). faced with a shortage of qualified\\nworkers, employers must look to a new pool of qualified labour-force participants.\\nfortunately, canada and the us benefit from an inflow of workers from the rest of the\\nworld. many of these individuals are highly trained and educated in knowl-based\\nprofessions, such as managerial workers, neers, computer scientists and academics\\n(burleton, 2001). organizations that want to compete for the best talent must seek to\\nattract and hire from this pool of workers, which is increasingly diverse in terms of\\ngender, race and nationality.\\n\\nthis study investigates women and minority attraction to upper-level or managerial\\npositions. despite some promising, albeit preliminary findings, on women and minority\\nattraction, previous studies (williams and bauer, 1994; gilbert and stead, 1999; avery,\\n2003) overlooked the quality of applicants who are attracted to diversity management.\\nspecifically, we are interested in the quality of applicants who find diversity management\\nto be attractive and consider it to be a factor in their job choice decisions. women and\\n\\nthe international journal of human resource management\\n\\nissn 0958-5192 print/issn 1466-4399 online q 2005 taylor & francis\\n\\n\\n\\ndoi: 10.1080/09585190500144038\\n\\neddy s.w. ng, business administration program, trent university, peterborough, ontario,\\n\\ncanada k9j 7b8 (tel: þ705 748 1011 ext. 7932; fax: þ705 748 1409;   ).\\n\\nronald j. burke, schulich school of business, york university, toronto, ontario, canada m3j 1p3\\n\\n(tel: þ416 736 2100 ext. 77921; fax: þ416 736 5762;   ).\\n\\nint. j. of human resource management 16:7 july 2005 1195–1210\\n\\n\\n\\nminority recruitment is important because organizations remain challd in achieving\\nthe proportionate population representation in their workforce, particularly for\\nprofessional and upper management jobs (taggar , 1997).\\n\\nseveral factors contribute to the lack of representation among women and minorities\\nin higher-level positions. first, white male managers continue to control the bulk of the\\npower in organizations and largely determine a company’s hiring, compensation and\\nperformance evaluation practices (blum , 1994). for example, men seemed to\\nappreciate men’s work more than women’s (nieva and gutek, 1980), received higher\\nperformance ratings (drazin and auster, 1987) and commanded higher salary levels\\n(drazin and auster, 1987; lefkowitz, 1994). thus, women and minorities faced greater\\nchalls in organizational entry and in moving up the organizational ranks. second,\\ngender and ethnic stereotyping also contributed to the lack of acceptance of women and\\nminorities as authoritative figures. for example, certain attributes such as being diligent,\\nintelligent, and reserved among asians were not seen as ‘managerial’ qualities\\n(giscombe and mattis, 2002). third, the lack of similar ‘others’ in high positions also led\\nto the exclusion of women and minorities in organizational networks (giscombe and\\nmattis, 2002), which often provide knowl about an organization (ibarra, 1995).\\nthus, many women reported receiving less information about their companies and being\\nshut out of better jobs (cianni and rombr, 1995).\\n\\npolicy-makers in canada and the us have responded with employment equity\\n(ee) or affirmative action (aa) legislation to remove the barriers facing women and\\nminorities in the workplace (jain and verma, 1996). however, the reaction towards\\nsuch policies has been negative both from the white male majority and from women\\nand minority groups who are the intended beneficiaries. white males are opposed to\\naa because they perceived such practices as abandoning the principle of merit in\\nfavour of numerical targets (falkenband boland, 1997; gilbert , 1999).\\nwomen hired under aa were perceived to be incompetent and less qualified\\n(heilman, 1997; heilman , 1997). as a result, women and minorities resented\\nsuch stigmatization and disassociated themselves from aa. many reported reduced\\nperceptions of competence by others and receiving lower job evaluations (heilman\\nand alcott, 2001). although recent research has shown that aa practices do not\\ngenerally lead to lower credentials or performance (holzer and neumark, 1999,\\n2000), organizations are implementing diversity hrm practices to deal with the\\nstigmatization associated with aa (konrad and linnehan, 1995; gilbert ,\\n1999).\\n\\ndiversity management\\n\\ndiversity management is considered a more popular alternative to aa for two reasons.\\nfirst diversity management can help organizations capitalize on the benefits of a diverse\\nworkforce. cox and blake (1991) proposed that diversity management reduces turnover\\nand absenteeism, attracts the best workers, increases sales and marketing efforts,\\nenhances creativity and innovation, and improves decision-making. thus, executives are\\nmore likely to devote resources and commitment to diversity efforts (robinson and\\ndechant, 1997). second, diversity management is a voluntary corporate approach to\\ndealing with increasing demographic diversity in the workplace. agocs and burr (1996)\\npointed out that diversity management helps promote awareness of individual difference\\nand empathy for those who are different, and encourages attitude change. diversity\\nmanagement also seeks to create a greater inclusion of all individuals into formal\\ncompany programmes and informal networks (gilbert , 1999). consequently, it is\\n\\n1196 the international journal of human resource management\\n\\n\\n\\nviewed as less controversial than aa and thus is useful in dealing with issues left\\nunaddressed by aa.\\n\\nprevious studies have shown that diversity management is related to applicants’\\nintention to pursue employment. organizations with advertised diversity management\\npractices were perceived to be more attractive employers (williams and bauer, 1994),\\nattracted more black applicants (highhouse , 1999a; avery, 2003), and were more\\nsuccessful at recruiting women and minorities (cox and blake, 1991). the supply of\\nwomen and minorities qualified for management positions continues to increase as they\\ncomplete management and professional education programmes (blum , 1994). this\\nstudy investigates women and minority application attraction to management positions,\\nand the quality of applicants who are attracted to diversity management practices.\\nspecifically, we tackle the issue of stigmatization to determine if diversity management\\nis associated with higher-quality applicants, operationalized in terms of achievement\\nability using grade point averages (gpa) and graduate management admission test\\nscores (gmat).\\n\\nconceptual background and theory\\n\\nrynes and cable (2003) argued that applicants are at least as concerned about picking the\\nright organization as about choosing the right job. previous research has shown that\\norganizational policies and practices, corporate image and corporate social performance\\nwere considered when applicants make job-choice decisions (schwoerer and rosen,\\n1989; gatewood , 1993; turban and greening, 1996; highhouse , 1999b;\\nalbinger and freeman, 2000; turban, 2001). this suggests that perceptions of\\norganizational attractiveness are related to employment practices: an organization that\\nprojects a positive employment message may signal that it is likely to provide desirable\\njob attributes, such as strong opportunities for career growth and development, for\\npotential job applicants (rynes and cable, 2003).\\n\\nperson–organization fit\\n\\nperson–organization (p-o) fit, as an attempt to account for how people make\\nassessments of fit between themselves and the organization, offers an explanation of how\\napplicants make decisions about their job choices. chatman (1989) defined p-o fit as ‘the\\ncongruence between organizational values and individual values (which is what\\nindividuals want in an organization)’. murray (1938), in his conceptual work, proposed\\nthat ‘when given a choice, a person activated by a particular need or set of needs may be\\nexpected to seek out the environments that offer fulfillment of these needs, and avoid\\nenvironments that stifle such fulfillment’.\\n\\ntherefore, the congruence between internal state needs and organizational attributes\\ndrives the organizational-choice process. p-o fit occurs when an organization satisfies an\\nindividual’s needs, desires and preferences (kristoff, 1996). thus the fit between an\\nindividual’s values, beliefs and personal characteristics and those of the organization can\\nshed light on the process in which job applicants find organizations attractive and make\\njob-choice decisions. achieving high levels of p-o fit through recruitment is desirable\\nbecause it is linked to work-related outcomes such as organizational commitment,\\nidentification, and retention (kristoff, 1996; saks and ashforth, 1997; van vianen,\\n2000). cable and judge (1996) found that applicants’ perceived value congruence with\\ntheir chosen organization was related to their p-o fit perceptions, and the perceived p-o\\nfit perceptions predicted actual job choice decisions. for example, individuals with high\\n\\nng and burke: person–organization fit and the war for talent 1197\\n\\n\\n\\nneed for achievement were found to be more attracted to organizations that reward\\nperformance (turban and keon, 1993; trank , 2002).\\n\\nadditionally, an individual’s value systems and characteristics are relatively enduring\\n(chatman, 1989). this may be due to the fact that personal values and beliefs are based on\\ngroup identities, such as gender and ethnicity (cox, 1993). applicants develop perceptions\\nof fit with organizations based on their values and identities, and will self-select themselves\\nout of the recruitment process if they perceived a lack of fit. for example, black job\\napplicants more readily accepted an organization’s commitment to diversity when recruiting\\nads depicted blacks in managerial positions (avery, 2003). the congruence between\\napplicants’ preferences, based on group identities, and the recruiting organization’s reputed\\nemployment policies is thus important in organizational attraction.\\n\\nemployment messages\\n\\na recent survey concluded that minority employees, like everyone else, want fulfilling\\nwork, opportunities for advancement and assurances that their efforts will pay off\\n(fortune, 2000). thus organizations that offer opportunities, encouragement and\\ninclusiveness will attract women and minority job applicants. one way in which\\norganizations can communicate this message prior to organizational entry is through\\nemployment messages.\\n\\nan organization’s orientation towards woman and minorities, as reflected in\\nemployment messages, is more salient among women and minority applicants (thomas\\nand wise, 1999). employment messages in recruitment ads serve as a vehicle for\\nproviding insights into the employment relationships offered by organizations (rafaeli\\nand oliver, 1998). as applicants have incomplete information about organizations, they\\ninterpret information they receive as indicators of the organization’s working\\nenvironment. employment messages are particularly important for women and\\nminorities because, unlike their white male counterparts, they do not enjoy the same\\naccess to informal sources of referrals and job information (kirnan , 1989;\\ngiscombe and mattis, 2002). thus, they rely far more heavily on formal sources of\\ninformation, such as job ads, recruitment brochures and the information contained in\\nemployment offers.\\n\\nconsistent with the p-o fit literature, we propose that women and minorities would\\nfind organizations that offer opportunities and a work environment free from\\ndiscrimination to be attractive employers. we expect women and minorities would\\nlook for cues on management practices when making job choice decisions. to test this\\nproposition, we conducted an experimental study to investigate the characteristics of\\napplicants for management jobs who find employers with diversity management to be\\nattractive, and consider diversity management to be important in their job choice\\ndecisions. based on the foregoing, we hypothesize that:\\n\\nhypothesis 1: minority job applicants (i.e. women and ethnic minorities) are more\\nlikely to rate employers with diversity management practices as more\\nattractive.\\n\\nhypothesis 2: minority job applicants will consider diversity management to be an\\nimportant factor in their job-choice decisions.\\n\\nin addition, high achievers with high abilities are also more likely to seek out\\nenvironments that offer challs and opportunities (trank , 2002). many new\\n\\n1198 the international journal of human resource management\\n\\n\\n\\nworkforce entrants are also highly educated and skilled ( immigrant workers) and\\nhave high career aspirations (kirchmeyer and mclellan, 1991; burleton, 2001). thus we\\nexpect that diversity management will also attract job applicants who are high achievers.\\n\\nhypothesis 3: job applicants who are high achievers are more likely to rate employers\\nwith diversity management practices as more attractive.\\n\\nthis study examined job-choice decisions among women and minorities when presented\\nwith offers from organizations with and without diversity practices. although support for\\norganization attractiveness with diversity management did not reach conventional levels\\nof significance (hypothesis 1), the results clearly indicate that women and minorities\\nconsidered organizational diversity practices to be important when accepting employ-\\nment (hypothesis 2). thus, the findings lend support to the p-o fit hypothesis where an\\norganization’s espoused diversity values are related to women and minorities’ job-choice\\ndecisions. a number of factors can influence applicants’ job-choice decisions, such as\\ncompensation (goddeeris, 1988; bretz , 1994), working conditions (bretz and\\njudge, 1998), and the nature of the work offered (chew and teo, 1993; bretz and judge,\\n1998). however, previous studies ( cable and judge, 1996; judge and cable, 1997)\\nhave shown convincingly that p-o fit with an organization’s espoused values is a\\nsignificant factor in an applicant’s job choices. the advantages of the perceived fit to\\norganizations are obvious. high levels of p-o fit lead to improved organizational\\noutcomes such as commitment, identification and retention (saks and ashforth, 1997).\\nfor example, women and minority managers employed in organizations more accepting\\n\\nng and burke: person–organization fit and the war for talent 1205\\n\\n\\n\\nof minorities, experienced more positive treatment, were more satisfied in their careers,\\ncommitted and integrated (burke, 1991; mckeen and burke, 1991).\\n\\nas hypothesized, high achievers (those with first-class grades and gmat scores over\\n700) rated organizations with diversity practices more attractive as employers\\n(hypothesis 3). high achievers look for job challs, rewards and recognition, and\\nfast-track promotions (trank , 2002), while diversity management promises\\nfulfilling work, encouragement and equal opportunities for everyone. thus, it is logical\\nfor high achievers to accept employment with firms associated with diversity\\nmanagement. from an hrm perspective, organizations that can best attract employees\\nwith high levels of ability and achievements can expect to enhance their firms’\\ncompetitiveness (schmidt and hunter, 1981; hough, 1984).\\n\\nadditionally, new immigrants to canada (less than a year) reported greater attraction\\nto organizations with diversity management. this finding is not surprising as many\\nimmigrants are attracted to canada because of its official policy promoting\\nmulticulturalism and acceptance of diversity. many of these immigrants are highly\\ntrained and educated, and are already high achievers in their native countries. they bring\\nwith them a sense of enthusiasm and a willingness to work hard to fulfil their career\\naspirations. building on this knowl, organizations can gain access to and capitalize\\non a highly motivated and talented pool of workers with diversity management practices.\\n\\nconclusions and limitations\\n\\nthis study makes several contributions to diversity management literature, particularly\\nfor women and minority recruitment. first, this study establishes a link between diversity\\nmanagement practices and the attraction of high achievers. it supports the notion that\\nindividuals with high levels of abilities prefer to work for more progressive\\norganizations. as this study represents an initial attempt to investigate this issue, we\\ncaution that more replication is necessary to establish this finding.\\n\\nsecond, the sample in this study is more representative of the diverse population found\\nin most industrialized countries such as the uk, australia, and new zealand, and thus\\nprovides greater generalizability. for example, the sample of this study consisted of 27\\nper cent asians, 9.5 per cent eastern europeans, 3.6 per cent arabs and so on. most\\nstudies on minority applicant attraction have focused on blacks ( highhouse ,\\n1999a; avery, 2003). it is expected that, by 2020, the population of the us will comprise\\n47 per cent hispanics, 22 per cent blacks, 18 per cent asians and other minority groups\\n(perkins , 2000). thus existing studies on minority attraction may have limited\\nexternal validity in the future.\\n\\nthird, this study investigated women and minority attraction at managerial levels.\\nprior research ( gilbert and stead, 1999) concentrated on entry-level positions as it\\nwas not typical for women and minorities to assume upper-level or managerial positions.\\nhowever, recent trends have indicated women and minority talents are no longer in short\\nsupply, and organizations that wish to enhance their competitiveness should seek to\\nrecruit and hire from this diverse pool of workers.\\n\\ndespite the theoretical and practical contributions to the recruitment and diversity\\nliterature, this study has several limitations. first, the main effects of diversity\\nmanagement on organization attractiveness lacked statistical significance (for hypothesis\\n1) or received mixed results ( nv rated as more attractive than fc for gender and for\\nminority status). as previously suggested, a potential explanation for this finding may be\\nattributed to the tone of the letters.2 specifically, the offer from nv appears to make a\\nfriendlier overture and uses phrases like ‘understand starting a new job can be\\n\\n1206 the international journal of human resource management\\n\\n\\n\\noverwhelming’, ‘help make your transition easier’ and ‘feel part of national venture\\nbank before starting’. thus, it is possible that the tone of the letter moderated the effect\\nof organizational effectiveness. for example, degroot and motowidlo (1999) found\\nvisual and vocal cues ( pitch, pitch variability, amplitude variability) during job\\ninterviews affected interviewer judgements. if visual and vocal cues affect interviewer\\njudgements, then a similar effect should also exist between the tone in employment offers\\nand organizational attractiveness. an examination of the tone in employment offers is\\nwarranted in future studies and may help shed light on the effectiveness of employment\\nmessages.\\n\\nsecond, tha and gmat scores were self-reported by the participants, and could\\npotentially suffer from social desirability. due to the close proximity of the participants\\nto each other when responding to the questionnaires, participants may represent\\nthemselves more favourably. for example, when self-reported mean gmat scores are\\ncompared with those published in mba rankings, the self-reported scores are found to be\\nslightly higher (642 vs. 620) (canadian business, 2001). thus, future studies should\\nincorporate other measures, such as peer and supervisory ratings of applicant\\nachievements.\\n\\nin sum, diversity practices make organizations more attractive to women and\\nminorities, and there is initial evidence to show that they also attract high achievers and\\nnew immigrants as potential employees. this finding has important implications for\\ntraditionally homogeneous organizations that remain challd in attracting women and\\nminorities, particularly for managerial and upper-level positions.\\n\\nnotes\\n\\n1 although affirmative action and diversity management are not the same, affirmative action plans\\n\\nand programs form a dimension of diversity management (wright , 1995).\\n2 in order for participants to make job-choice decisions, it was necessary to use two offers. as with\\n\\nany experimental studies, minimal adjustments were made to the letters to keep them as realistic\\n\\nas possible.\\n'"
      ]
     },
     "execution_count": 56,
     "metadata": {},
     "output_type": "execute_result"
    }
   ],
   "source": [
    "pdf_p[20]"
   ]
  },
  {
   "cell_type": "code",
   "execution_count": 57,
   "metadata": {},
   "outputs": [],
   "source": [
    "#remove hyphon only if it is at the end of the line.\n",
    "#pdf_p = [re.sub(r'(\\W[a-z]+)-\\n(\\W[a-z]+)', r'\\1\\2', t) for t in pdf_p]\n",
    "pdf_p = [re.sub(r'-\\n', '', t) for t in pdf_p]"
   ]
  },
  {
   "cell_type": "code",
   "execution_count": 58,
   "metadata": {},
   "outputs": [],
   "source": [
    "#remove text within ()\n",
    "pdf_p = [re.sub(r\"\\([^)]*\\)\", \"\", t) for t in pdf_p]\n",
    "# remove text with [] eg citation\n",
    "pdf_p = [re.sub(r\"\\[[^)]*\\]\", \"\", t) for t in pdf_p]\n",
    "#Remove numbers\n",
    "pdf_p = [re.sub('[0-9]+', '', f) for f in pdf_p]\n"
   ]
  },
  {
   "cell_type": "code",
   "execution_count": 59,
   "metadata": {},
   "outputs": [],
   "source": [
    "pdf_p = [re.sub('[\\n\\r]+', ' ', f) for f in pdf_p] # remove newline and linebreak characters, replace with space\n",
    "pdf_p = [re.sub('[@/%#$,=\\+:’“”]', ' ', f) for f in pdf_p] # remove stray non-word characters"
   ]
  },
  {
   "cell_type": "code",
   "execution_count": 60,
   "metadata": {},
   "outputs": [],
   "source": [
    "#pdf_p = [re.sub(r\"\\s\\([A-Z][a-z]+,\\s[A-Z][a-z]?\\.[^\\)]*,\\s\\d{4}\\)\", \"\", f) for f in pdf_p] # is this supposed to filter out citations?\n",
    "\n",
    "# save all periods, exclamation marks and question marks, but get rid of unnecessary characters\n",
    "pdf_p = [re.sub('[\\.!?]+ ', 'XYZXYZ', t) for t in pdf_p]\n",
    "pdf_p = [re.sub('-', 'ZYXXYZ', t) for t in pdf_p]\n",
    "pdf_p = [re.sub('[\\W_]+', ' ', f) for f in pdf_p]\n",
    "pdf_p = [re.sub('XYZXYZ', '. ', f) for f in pdf_p]\n",
    "pdf_p = [re.sub('ZYXXYZ', '-', f) for f in pdf_p]\n",
    "#pdf_p[0]\n",
    "\n",
    "#Remove placeholder x repetitions\n",
    "pdf_p = [re.sub(' x+ ', '', f) for f in pdf_p]\n",
    "\n",
    "# remove single characters\n",
    "pdf_p = [re.sub(' [a-z] ' ,  ' ', f) for f in pdf_p]\n",
    "pdf_p = [re.sub(' [a-z]\\.', '.', f) for f in pdf_p]\n",
    "pdf_p = [re.sub(' \\.', '.', f) for f in pdf_p]"
   ]
  },
  {
   "cell_type": "code",
   "execution_count": 61,
   "metadata": {},
   "outputs": [
    {
     "name": "stdout",
     "output_type": "stream",
     "text": [
      " full terms conditions of access and use can be found at the international journal of human resource management issn - - journal homepage person organization fit and the war for talent does diversity management make difference. eddy. ng ronald. burke to cite this article eddy. ng ronald. burke person organization fit and the war for talent does diversity management make difference.  the international journal of human resource management - doi.  to link to this article published online feb. submit your article to this journal article views view related articles citing articles view citing articles person organization fit and the war for talent does diversity management make difference. eddy. ng and ronald. burke abstract this study investigates the importance of diversity management in applicants job choice decisions. according to the person organization fit theory individuals make assessments of fit between their personal values and the values of the organizations and they make job choice decisions based on these assessments. survey of mba job seekers concluded that women and ethnic minorities found diversity management to be important when accepting offers of employment. in addition high achievers and new immigrants rated organizations with diversity management as more attractive as potential employers. the findings suggest need to place higher emphasis on diversity management in women and minority applicant attraction. keywords affirmative action applicant attraction diversity management organizational attractiveness person organization fit recruitment. introduction over the next decade the economy will face two-pronged chall of satisfying rapid growth in the demand for highly skilled workers and of baby boomers pondering early retirement. faced with shortage of qualified workers employers must look to new pool of qualified labour-force participants. fortunately canada and the us benefit from an inflow of workers from the rest of the world. many of these individuals are highly trained and educated in knowl-based professions such as managerial workers neers computer scientists and academics. organizations that want to compete for the best talent must seek to attract and hire from this pool of workers which is increasingly diverse in terms of gender race and nationality. this study investigates women and minority attraction to upper-level or managerial positions. despite some promising albeit preliminary findings on women and minority attraction previous studies overlooked the quality of applicants who are attracted to diversity management. specifically we are interested in the quality of applicants who find diversity management to be attractive and consider it to be factor in their job choice decisions. women and the international journal of human resource management issn - print issn - online taylor francis doi.  eddy. ng business administration program trent university peterborough ontario canada kj. ronald. burke schulich school of business york university toronto ontario canada mj. int.. of human resource management july minority recruitment is important because organizations remain challd in achieving the proportionate population representation in their workforce particularly for professional and upper management jobs. several factors contribute to the lack of representation among women and minorities in higher-level positions. first white male managers continue to control the bulk of the power in organizations and largely determine company hiring compensation and performance evaluation practices. for example men seemed to appreciate men work more than women received higher performance ratings and commanded higher salary levels. thus women and minorities faced greater challs in organizational entry and in moving up the organizational ranks. second gender and ethnic stereotyping also contributed to the lack of acceptance of women and minorities as authoritative figures. for example certain attributes such as being diligent intelligent and reserved among asians were not seen as managerial qualities. third the lack of similar others in high positions also led to the exclusion of women and minorities in organizational networks which often provide knowl about an organization. thus many women reported receiving less information about their companies and being shut out of better jobs. policy-makers in canada and the us have responded with employment equity or affirmative action legislation to remove the barriers facing women and minorities in the workplace. however the reaction towards such policies has been negative both from the white male majority and from women and minority groups who are the intended beneficiaries. white males are opposed to aa because they perceived such practices as abandoning the principle of merit in favour of numerical targets. women hired under aa were perceived to be incompetent and less qualified. as result women and minorities resented such stigmatization and disassociated themselves from aa. many reported reduced perceptions of competence by others and receiving lower job evaluations. although recent research has shown that aa practices do not generally lead to lower credentials or performance organizations are implementing diversity hrm practices to deal with the stigmatization associated with aa. diversity management diversity management is considered more popular alternative to aa for two reasons. first diversity management can help organizations capitalize on the benefits of diverse workforce. cox and blake proposed that diversity management reduces turnover and absenteeism attracts the best workers increases sales and marketing efforts enhances creativity and innovation and improves decision-making. thus executives are more likely to devote resources and commitment to diversity efforts. second diversity management is voluntary corporate approach to dealing with increasing demographic diversity in the workplace. agocs and burr pointed out that diversity management helps promote awareness of individual difference and empathy for those who are different and encourages attitude change. diversity management also seeks to create greater inclusion of all individuals into formal company programmes and informal networks. consequently it is the international journal of human resource management viewed as less controversial than aa and thus is useful in dealing with issues left unaddressed by aa. previous studies have shown that diversity management is related to applicants intention to pursue employment. organizations with advertised diversity management practices were perceived to be more attractive employers attracted more black applicants and were more successful at recruiting women and minorities. the supply of women and minorities qualified for management positions continues to increase as they complete management and professional education programmes. this study investigates women and minority application attraction to management positions and the quality of applicants who are attracted to diversity management practices. specifically we tackle the issue of stigmatization to determine if diversity management is associated with higher-quality applicants operationalized in terms of achievement ability using grade point averages and graduate management admission test scores. conceptual background and theory rynes and cable argued that applicants are at least as concerned about picking the right organization as about choosing the right job. previous research has shown that organizational policies and practices corporate image and corporate social performance were considered when applicants make job-choice decisions. this suggests that perceptions of organizational attractiveness are related to employment practices an organization that projects positive employment message may signal that it is likely to provide desirable job attributes such as strong opportunities for career growth and development for potential job applicants. person organization fit person organization fit as an attempt to account for how people make assessments of fit between themselves and the organization offers an explanation of how applicants make decisions about their job choices. chatman defined p-o fit as the congruence between organizational values and individual values. murray in his conceptual work proposed that when given choice person activated by particular need or set of needs may be expected to seek out the environments that offer fulfillment of these needs and avoid environments that stifle such fulfillment. therefore the congruence between internal state needs and organizational attributes drives the organizational-choice process. p-o fit occurs when an organization satisfies an individual needs desires and preferences. thus the fit between an individual values beliefs and personal characteristics and those of the organization can shed light on the process in which job applicants find organizations attractive and make job-choice decisions. achieving high levels of p-o fit through recruitment is desirable because it is linked to work-related outcomes such as organizational commitment identification and retention. cable and judge found that applicants perceived value congruence with their chosen organization was related to their p-o fit perceptions and the perceived p-o fit perceptions predicted actual job choice decisions. for example individuals with high ng and burke person organization fit and the war for talent need for achievement were found to be more attracted to organizations that reward performance. additionally an individual value systems and characteristics are relatively enduring. this may be due to the fact that personal values and beliefs are based on group identities such as gender and ethnicity. applicants develop perceptions of fit with organizations based on their values and identities and will self-select themselves out of the recruitment process if they perceived lack of fit. for example black job applicants more readily accepted an organization commitment to diversity when recruiting ads depicted blacks in managerial positions. the congruence between applicants preferences based on group identities and the recruiting organization reputed employment policies is thus important in organizational attraction. employment messages recent survey concluded that minority employees like everyone else want fulfilling work opportunities for advancement and assurances that their efforts will pay off. thus organizations that offer opportunities encouragement and inclusiveness will attract women and minority job applicants. one way in which organizations can communicate this message prior to organizational entry is through employment messages. an organization orientation towards woman and minorities as reflected in employment messages is more salient among women and minority applicants. employment messages in recruitment ads serve as vehicle for providing insights into the employment relationships offered by organizations. as applicants have incomplete information about organizations they interpret information they receive as indicators of the organization working environment. employment messages are particularly important for women and minorities because unlike their white male counterparts they do not enjoy the same access to informal sources of referrals and job information. thus they rely far more heavily on formal sources of information such as job ads recruitment brochures and the information contained in employment offers. consistent with the p-o fit literature we propose that women and minorities would find organizations that offer opportunities and work environment free from discrimination to be attractive employers. we expect women and minorities would look for cues on management practices when making job choice decisions. to test this proposition we conducted an experimental study to investigate the characteristics of applicants for management jobs who find employers with diversity management to be attractive and consider diversity management to be important in their job choice decisions. based on the foregoing we hypothesize that hypothesis minority job applicants are more likely to rate employers with diversity management practices as more attractive. hypothesis minority job applicants will consider diversity management to be an important factor in their job-choice decisions. in addition high achievers with high abilities are also more likely to seek out environments that offer challs and opportunities. many new the international journal of human resource management workforce entrants are also highly educated and skilled and have high career aspirations. thus we expect that diversity management will also attract job applicants who are high achievers. hypothesis job applicants who are high achievers are more likely to rate employers with diversity management practices as more attractive. this study examined job-choice decisions among women and minorities when presented with offers from organizations with and without diversity practices. although support for organization attractiveness with diversity management did not reach conventional levels of significance the results clearly indicate that women and minorities considered organizational diversity practices to be important when accepting employment. thus the findings lend support to the p-o fit hypothesis where an organization espoused diversity values are related to women and minorities job-choice decisions. number of factors can influence applicants job-choice decisions such as compensation working conditions and the nature of the work offered. however previous studies have shown convincingly that p-o fit with an organization espoused values is significant factor in an applicant job choices. the advantages of the perceived fit to organizations are obvious. high levels of p-o fit lead to improved organizational outcomes such as commitment identification and retention. for example women and minority managers employed in organizations more accepting ng and burke person organization fit and the war for talent of minorities experienced more positive treatment were more satisfied in their careers committed and integrated. as hypothesized high achievers rated organizations with diversity practices more attractive as employers. high achievers look for job challs rewards and recognition and fast-track promotions while diversity management promises fulfilling work encouragement and equal opportunities for everyone. thus it is logical for high achievers to accept employment with firms associated with diversity management. from an hrm perspective organizations that can best attract employees with high levels of ability and achievements can expect to enhance their firms competitiveness. additionally new immigrants to canada reported greater attraction to organizations with diversity management. this finding is not surprising as many immigrants are attracted to canada because of its official policy promoting multiculturalism and acceptance of diversity. many of these immigrants are highly trained and educated and are already high achievers in their native countries. they bring with them sense of enthusiasm and willingness to work hard to fulfil their career aspirations. building on this knowl organizations can gain access to and capitalize on highly motivated and talented pool of workers with diversity management practices. conclusions and limitations this study makes several contributions to diversity management literature particularly for women and minority recruitment. first this study establishes link between diversity management practices and the attraction of high achievers. it supports the notion that individuals with high levels of abilities prefer to work for more progressive organizations. as this study represents an initial attempt to investigate this issue we caution that more replication is necessary to establish this finding. second the sample in this study is more representative of the diverse population found in most industrialized countries such as the uk australia and new zealand and thus provides greater generalizability. for example the sample of this study consisted of per cent asians. per cent eastern europeans. per cent arabs and so on. most studies on minority applicant attraction have focused on blacks. it is expected that by the population of the us will comprise per cent hispanics per cent blacks per cent asians and other minority groups. thus existing studies on minority attraction may have limited external validity in the future. third this study investigated women and minority attraction at managerial levels. prior research concentrated on entry-level positions as it was not typical for women and minorities to assume upper-level or managerial positions. however recent trends have indicated women and minority talents are no longer in short supply and organizations that wish to enhance their competitiveness should seek to recruit and hire from this diverse pool of workers. despite the theoretical and practical contributions to the recruitment and diversity literature this study has several limitations. first the main effects of diversity management on organization attractiveness lacked statistical significance or received mixed results. as previously suggested potential explanation for this finding may be attributed to the tone of the letters. specifically the offer from nv appears to make friendlier overture and uses phrases like understand starting new job can be the international journal of human resource management overwhelming help make your transition easier and feel part of national venture bank before starting. thus it is possible that the tone of the letter moderated the effect of organizational effectiveness. for example degroot and motowidlo found visual and vocal cues during job interviews affected interviewer judgements. if visual and vocal cues affect interviewer judgements then similar effect should also exist between the tone in employment offers and organizational attractiveness. an examination of the tone in employment offers is warranted in future studies and may help shed light on the effectiveness of employment messages. second tha and gmat scores were self-reported by the participants and could potentially suffer from social desirability. due to the close proximity of the participants to each other when responding to the questionnaires participants may represent themselves more favourably. for example when self-reported mean gmat scores are compared with those published in mba rankings the self-reported scores are found to be slightly higher. thus future studies should incorporate other measures such as peer and supervisory ratings of applicant achievements. in sum diversity practices make organizations more attractive to women and minorities and there is initial evidence to show that they also attract high achievers and new immigrants as potential employees. this finding has important implications for traditionally homogeneous organizations that remain challd in attracting women and minorities particularly for managerial and upper-level positions. notes although affirmative action and diversity management are not the same affirmative action plans and programs form dimension of diversity management.  in order for participants to make job-choice decisions it was necessary to use two offers. as with any experimental studies minimal adjustments were made to the letters to keep them as realistic as possible. \n",
      "---\n",
      "---\n",
      "---\n"
     ]
    }
   ],
   "source": [
    "print(pdf_p[ref_doc])\n",
    "print('---')\n",
    "print('---')\n",
    "print('---')\n",
    "# print(pdf_p[ref_doc])"
   ]
  },
  {
   "cell_type": "code",
   "execution_count": 62,
   "metadata": {},
   "outputs": [],
   "source": [
    "def get_author_names(txt):\n",
    "\n",
    "    refs = re.sub('[0-9]{4}.*\\n','',txt)\n",
    "\n",
    "    l = re.compile(\" [a-z]\\.\").split(refs)\n",
    "    l = [ll for ll in l if not bool(re.search('[0-9]+', ll))]\n",
    "    l = [ll for ll in l if len(ll) < 35]\n",
    "    l = [re.sub('[\\n ,\\&\\.]', '', ll) for ll in l]\n",
    "    l = [re.sub('[!(*);&$]', '', l1) for l1 in l]\n",
    "    authors = [ll for ll in l if len(ll) > 1]\n",
    "\n",
    "    return(authors)\n",
    "#for n in names:\n",
    "#    print(n)\n",
    "\n",
    "#refs = re.sub('\\n.*[0-9].*', '', refs)\n",
    "#refs = re.sub('\\n[^,]+\\n', '\\n', refs)\n",
    "#print(refs)"
   ]
  },
  {
   "cell_type": "code",
   "execution_count": 63,
   "metadata": {
    "scrolled": true
   },
   "outputs": [
    {
     "name": "stdout",
     "output_type": "stream",
     "text": [
      "['kschoolpressharzing', 'eneuman', 'banduhl-bien', 'eandwestney', 'kienzle', 'aandcronshaw', 'laurence', 'tandboulian', 'brunner', 'andcascio', 'aolian', 'andkrueger', 'wandwagner', 'aclay-warner', 'parkca:sageallen', 'andgellatly', 'andhopehailey', 'sziemba', 'gireland', 'beverlyhillsca:sagehouse', 'kpuia', 'sandflap', 'andsexton', 'psandgelfland', 'andandrews', 'andostenfield', 'kandwyer', 'andguttman', 'trevino', 'handfetter', 'andwood', 'jandtillery', 'healthcass', 'anddix', 'jborman', 'rpressgraf', 'andkothari', 'guérin', 'landscarborough', 'jandkrueger', 'andtag', 'andloader', 'gilbertand', '-landbendick', 'sgudykunst', 'kandblau', 'jburkealdershot:ashgate', 'landbobko', 'handcovi', 'saliliand', 'prehar', 'lafferty', 'mandbarnett', 'jmurphy-berman', 'randanderson', 'fanddesaint-giniez', 'jsheehan', 'jthepost-geddes', 'kandfrancesco', 'aandahmed', 'greilly', 'azimmerman', 'kanddoz', 'gaddison-wesleypeck', 'aandlarcker', 'tpfeffer', 'gandskill', 'hbond', 'amclaughlin', 'aandbarber', 'gandalutto', 'jo’driscoll', 'mrichardsen', 'janddecieri', 'french', 'sdunkel-schetter', 'mraghuram', 'mandgardiner', 'andpodsakoff', 'indavidson', 'androthbard', 'kossek', 'wandkinicki', 'herscovitch', 'andnord', 'coyle-shapiro', 'conway', 'dandzanna', 'mandlawler', 'sandsparrow', 'greenwoodpressmathieu', 'jli', 'ipe', 'androdwell', 'mcgee', 'kandbarrick', 'candstarbuck', 'andellemers', 'anddelhaise', 'rock', 'stamper', 'bandmedoff', 'eandbennett', 'nandverburg', 'candditomaso', 'svensson', 'inlewin', 'andwelbourne', 'dejonge', 'andtornikoski', 'andibrayeva', 'kandellis', 'argyris', 'anddiener', 'sando’reilly', 'bandbakker', 'aandtoth', 'andbaxter', 'handwei', 'jcrocker', 'cchen', 'andheuer', 'dbhagat', 'hofmeyr', 'wma:lexingtonbookspaauwe', 'aandlatham', 'andmauch', 'bandcasper', 'chinesepeopleed', 'watermann', 'mandsosik', 'andvanderzee', 'andrimmer', 'andsainfort', 'andleiter', 'macmillanyin', 'kandhubbard', 'wandahmed', 'kandvu', 'gunnigle', 'sandpeng', 'andwilliamson', 'earley', 'achartel', 'wintsui', 'anddargie', 'stahland', 'dandxin', 'andng', 'perspectiveeds']\n",
      "5421\n"
     ]
    }
   ],
   "source": [
    "authors = []\n",
    "for r in references:\n",
    "    authors += get_author_names(r)\n",
    "    \n",
    "author_nam = list(set(list(authors)))\n",
    "\n",
    "# result is still not perfect, but I have not found any stray 'plain English' so far\n",
    "print(author_nam[100:250])\n",
    "print(len(author_nam))"
   ]
  },
  {
   "cell_type": "code",
   "execution_count": 64,
   "metadata": {},
   "outputs": [],
   "source": [
    "# GET REFERENCE LISTS OF STOPWORDS, I.E. WORDS THAT ARE ESSENTIALLY MEANINGLESS\n",
    "# Get all the list of authors names\n",
    "\n",
    "from nltk.corpus import stopwords as wrd\n",
    "\n",
    "sw = wrd.words('english') + author_nam + country_list + cities_lower\n",
    "\n",
    "#print(sw)"
   ]
  },
  {
   "cell_type": "code",
   "execution_count": 65,
   "metadata": {},
   "outputs": [],
   "source": [
    "#include corpus-specific stopwords\n",
    "sw += ['vol', 'doi', 'article', 'articles', 'reuse', 'sagepub', 'journal', 'journals', 'com', 'quarter', 'quarterly', 'annual', 'proceedings']\n",
    "sw += ['sage', 'editorial', 'report', 'publications', 'publication', 'publisher', 'jom', 'manuscript', 'manuscripts', 'submission', 'submissions']\n",
    "sw += ['editor', 'editors', 'orcid', 'id', 'month', 'mailto', 'author', 'authors', 'homepage', 'sciencedirect', 'scopus']\n",
    "sw += ['january', 'february', 'march', 'april', 'may', 'june', 'july', 'august', 'september', 'october', 'november', 'december']\n",
    "sw += ['monday', 'tuesday', 'wednesday', 'thursday', 'friday', 'saturday', 'sunday']\n",
    "\n",
    "# add a metric ton of generic terms\n",
    "sw += ['a', 'about', 'above', 'across', 'after', 'afterwards']\n",
    "sw += ['again', 'against', 'all', 'almost', 'alone', 'along']\n",
    "sw += ['already', 'also', 'although', 'always', 'am', 'among']\n",
    "sw += ['amongst', 'amoungst', 'amount', 'an', 'and', 'another']\n",
    "sw += ['any', 'anyhow', 'anyone', 'anything', 'anyway', 'anywhere']\n",
    "sw += ['are', 'around', 'as', 'at', 'back', 'be', 'became']\n",
    "sw += ['because', 'become', 'becomes', 'becoming', 'been']\n",
    "sw += ['before', 'beforehand', 'behind', 'being', 'below']\n",
    "sw += ['beside', 'besides', 'between', 'beyond', 'bill', 'both']\n",
    "sw += ['bottom', 'but', 'by', 'call', 'can', 'cannot', 'cant']\n",
    "sw += ['co', 'computer', 'con', 'could', 'couldnt', 'cry', 'de']\n",
    "sw += ['describe', 'detail', 'did', 'do', 'done', 'down', 'due']\n",
    "sw += ['during', 'each', 'eg', 'eight', 'either', 'eleven', 'else']\n",
    "sw += ['elsewhere', 'empty', 'enough', 'etc', 'even', 'ever']\n",
    "sw += ['every', 'everyone', 'everything', 'everywhere', 'except']\n",
    "sw += ['few', 'fifteen', 'fifty', 'fill', 'find', 'fire', 'first']\n",
    "sw += ['five', 'for', 'former', 'formerly', 'forty', 'found']\n",
    "sw += ['four', 'from', 'front', 'full', 'further', 'get', 'give']\n",
    "sw += ['go', 'had', 'has', 'hasnt', 'have', 'he', 'hence', 'her']\n",
    "sw += ['here', 'hereafter', 'hereby', 'herein', 'hereupon', 'hers']\n",
    "sw += ['herself', 'him', 'himself', 'his', 'how', 'however']\n",
    "sw += ['hundred', 'i', 'ie', 'if', 'in', 'inc', 'indeed']\n",
    "sw += ['interest', 'into', 'is', 'it', 'its', 'itself', 'keep']\n",
    "sw += ['last', 'latter', 'latterly', 'least', 'less', 'ltd', 'made']\n",
    "sw += ['many', 'may', 'me', 'meanwhile', 'might', 'mill', 'mine']\n",
    "sw += ['more', 'moreover', 'most', 'mostly', 'move', 'much']\n",
    "sw += ['must', 'my', 'myself', 'name', 'namely', 'neither', 'never']\n",
    "sw += ['nevertheless', 'next', 'nine', 'no', 'nobody', 'none']\n",
    "sw += ['noone', 'nor', 'not', 'nothing', 'now', 'nowhere', 'of']\n",
    "sw += ['off', 'often', 'on','once', 'one', 'only', 'onto', 'or']\n",
    "sw += ['other', 'others', 'otherwise', 'our', 'ours', 'ourselves']\n",
    "sw += ['out', 'over', 'own', 'part', 'per', 'perhaps', 'please']\n",
    "sw += ['put', 'rather', 're', 's', 'same', 'see', 'seem', 'seemed']\n",
    "sw += ['seeming', 'seems', 'serious', 'several', 'she', 'should']\n",
    "sw += ['show', 'side', 'since', 'sincere', 'six', 'sixty', 'so']\n",
    "sw += ['some', 'somehow', 'someone', 'something', 'sometime']\n",
    "sw += ['sometimes', 'somewhere', 'still', 'such', 'system', 'take']\n",
    "sw += ['ten', 'than', 'that', 'the', 'their', 'them', 'themselves']\n",
    "sw += ['then', 'thence', 'there', 'thereafter', 'thereby']\n",
    "sw += ['therefore', 'therein', 'thereupon', 'these', 'they']\n",
    "sw += ['thick', 'thin', 'third', 'this', 'those', 'though', 'three']\n",
    "sw += ['three', 'through', 'throughout', 'thru', 'thus', 'to']\n",
    "sw += ['together', 'too', 'top', 'toward', 'towards', 'twelve']\n",
    "sw += ['twenty', 'two', 'un', 'under', 'until', 'up', 'upon']\n",
    "sw += ['us', 'very', 'via', 'was', 'we', 'well', 'were', 'what']\n",
    "sw += ['whatever', 'when', 'whence', 'whenever', 'where']\n",
    "sw += ['whereafter', 'whereas', 'whereby', 'wherein', 'whereupon']\n",
    "sw += ['wherever', 'whether', 'which', 'while', 'whither', 'who']\n",
    "sw += ['whoever', 'whole', 'whom', 'whose', 'why', 'will', 'with']\n",
    "sw += ['within', 'without', 'would', 'yet', 'you', 'your']\n",
    "sw += ['yours', 'yourself', 'yourselves']\n",
    "\n",
    "sw = list(set(sw))"
   ]
  },
  {
   "cell_type": "code",
   "execution_count": 66,
   "metadata": {},
   "outputs": [],
   "source": [
    "# Function to filter out the stopwords and authors names\n",
    "def filterWords(msg, words):\n",
    "    m = msg.split(' ')\n",
    "    words_end = [w + '.' for w in words]\n",
    "    filtered_words = list(filter(lambda word: word not in words, m))\n",
    "    filtered_words = [(w if w not in words_end else '.') for w in filtered_words]\n",
    "    result = ' '.join(filtered_words)\n",
    "    return(result)"
   ]
  },
  {
   "cell_type": "code",
   "execution_count": 67,
   "metadata": {},
   "outputs": [],
   "source": [
    "# GET RID OF THE STOPWORDS IN TEXTS\n",
    "data_proc = [filterWords(f, sw) for f in pdf_p]  #running"
   ]
  },
  {
   "cell_type": "code",
   "execution_count": 31,
   "metadata": {},
   "outputs": [],
   "source": [
    "import pickle\n",
    "# exclude author list from metadata\n",
    "author_metadata = pickle.load(open(\"C:/Thesis/Data/save/Master_Data/author_list/author_list.p\", \"rb\"))"
   ]
  },
  {
   "cell_type": "code",
   "execution_count": 32,
   "metadata": {},
   "outputs": [],
   "source": [
    "# GET RID OF THE author names (extracted from the metadata)\n",
    "data_proc_1 = [filterWords(f, author_metadata) for f in data_proc] #running"
   ]
  },
  {
   "cell_type": "code",
   "execution_count": 33,
   "metadata": {},
   "outputs": [
    {
     "data": {
      "text/plain": [
       "' terms conditions access use international human resource issn - - person organization fit war talent diversity make difference. eddy. . cite eddy. . person organization fit war talent diversity make difference.  international human resource - .  link published online feb. submit views view related citing view citing person organization fit war talent diversity make difference. eddy. . abstract study investigates importance diversity applicants job choice decisions. according person organization fit theory individuals make assessments fit personal values values organizations make job choice decisions based assessments. survey mba job seekers concluded women ethnic minorities diversity important accepting offers employment. addition high achievers new immigrants rated organizations diversity attractive potential employers. findings suggest need place higher emphasis diversity women minority applicant attraction. keywords affirmative action applicant attraction diversity organizational attractiveness person organization fit recruitment. introduction decade economy face two-pronged chall satisfying rapid growth demand highly skilled workers baby boomers pondering early retirement. faced shortage qualified workers employers look new pool qualified labour-force participants. fortunately benefit inflow workers rest world. individuals highly trained educated knowl-based professions managerial workers neers scientists academics. organizations want compete talent seek attract hire pool workers increasingly diverse terms gender race nationality. study investigates women minority attraction upper-level managerial positions. despite promising albeit preliminary findings women minority attraction previous studies overlooked quality applicants attracted diversity . specifically interested quality applicants diversity attractive consider factor job choice decisions. women international human resource issn - print issn - online .  eddy. administration program trent peterborough ontario kj. . schulich toronto ontario mj. int.. human resource minority recruitment important organizations remain challd achieving proportionate population representation workforce particularly professional upper jobs. factors contribute lack representation women minorities higher-level positions. male managers continue control bulk power organizations largely determine company hiring compensation performance evaluation practices. example men appreciate men work women received higher performance ratings commanded higher salary levels. women minorities faced greater challs organizational entry moving organizational ranks. second gender ethnic stereotyping contributed lack acceptance women minorities authoritative figures. example certain attributes diligent intelligent reserved asians seen managerial qualities. lack similar high positions led exclusion women minorities organizational networks provide knowl organization. women reported receiving information companies shut better jobs. policy-makers responded employment equity affirmative action legislation remove barriers facing women minorities workplace. reaction policies negative male majority women minority groups intended beneficiaries. males opposed aa perceived practices abandoning principle merit favour numerical targets. women hired aa perceived incompetent qualified. result women minorities resented stigmatization disassociated aa. reported reduced perceptions competence receiving lower job evaluations. recent shown aa practices generally lead lower credentials performance organizations implementing diversity hrm practices deal stigmatization associated aa. diversity diversity considered popular alternative aa reasons. diversity help organizations capitalize benefits diverse workforce. cox proposed diversity reduces turnover absenteeism attracts workers increases sales marketing efforts enhances creativity innovation improves decision-making. executives likely devote resources commitment diversity efforts. second diversity voluntary corporate approach dealing increasing demographic diversity workplace. agocs pointed diversity helps promote awareness individual difference empathy different encourages attitude change. diversity seeks create greater inclusion individuals formal company programmes informal networks. consequently international human resource viewed controversial aa useful dealing issues left unaddressed aa. previous studies shown diversity related applicants intention pursue employment. organizations advertised diversity practices perceived attractive employers attracted applicants successful recruiting women minorities. supply women minorities qualified positions continues increase complete professional education programmes. study investigates women minority application attraction positions quality applicants attracted diversity practices. specifically tackle issue stigmatization determine diversity associated higher-quality applicants operationalized terms achievement ability using grade averages graduate admission test scores. conceptual background theory cable argued applicants concerned picking right organization choosing right job. previous shown organizational policies practices corporate image corporate performance considered applicants make job-choice decisions. suggests perceptions organizational attractiveness related employment practices organization projects positive employment message signal likely provide desirable job attributes strong opportunities career growth development potential job applicants. person organization fit person organization fit attempt account people make assessments fit organization offers explanation applicants make decisions job choices. defined p-o fit congruence organizational values individual values. conceptual work proposed given choice person activated particular need set needs expected seek environments offer fulfillment needs avoid environments stifle fulfillment. congruence internal state needs organizational attributes drives organizational-choice process. p-o fit occurs organization satisfies individual needs desires preferences. fit individual values beliefs personal characteristics organization shed process job applicants organizations attractive make job-choice decisions. achieving high levels p-o fit recruitment desirable linked work-related outcomes organizational commitment identification retention. cable applicants perceived value congruence chosen organization related p-o fit perceptions perceived p-o fit perceptions predicted actual job choice decisions. example individuals high person organization fit war talent need achievement attracted organizations reward performance. additionally individual value systems characteristics relatively enduring. fact personal values beliefs based group identities gender ethnicity. applicants develop perceptions fit organizations based values identities self-select recruitment process perceived lack fit. example job applicants readily accepted organization commitment diversity recruiting ads depicted blacks managerial positions. congruence applicants preferences based group identities recruiting organization reputed employment policies important organizational attraction. employment messages recent survey concluded minority employees like want fulfilling work opportunities advancement assurances efforts pay . organizations offer opportunities encouragement inclusiveness attract women minority job applicants. way organizations communicate message prior organizational entry employment messages. organization orientation woman minorities reflected employment messages salient women minority applicants. employment messages recruitment ads serve vehicle providing insights employment relationships offered organizations. applicants incomplete information organizations interpret information receive indicators organization working environment. employment messages particularly important women minorities unlike male counterparts enjoy access informal sources referrals job information. rely far heavily formal sources information job ads recruitment brochures information contained employment offers. consistent p-o fit literature propose women minorities organizations offer opportunities work environment free discrimination attractive employers. expect women minorities look cues practices making job choice decisions. test proposition conducted experimental study investigate characteristics applicants jobs employers diversity attractive consider diversity important job choice decisions. based foregoing hypothesize hypothesis minority job applicants likely rate employers diversity practices attractive. hypothesis minority job applicants consider diversity important factor job-choice decisions. addition high achievers high abilities likely seek environments offer challs opportunities. new international human resource workforce entrants highly educated skilled high career aspirations. expect diversity attract job applicants high achievers. hypothesis job applicants high achievers likely rate employers diversity practices attractive. study examined job-choice decisions women minorities presented offers organizations diversity practices. support organization attractiveness diversity reach conventional levels significance results clearly indicate women minorities considered organizational diversity practices important accepting employment. findings lend support p-o fit hypothesis organization espoused diversity values related women minorities job-choice decisions. number factors influence applicants job-choice decisions compensation working conditions nature work offered. previous studies shown convincingly p-o fit organization espoused values significant factor applicant job choices. advantages perceived fit organizations obvious. high levels p-o fit lead improved organizational outcomes commitment identification retention. example women minority managers employed organizations accepting person organization fit war talent minorities experienced positive treatment satisfied careers committed integrated. hypothesized high achievers rated organizations diversity practices attractive employers. high achievers look job challs rewards recognition fast-track promotions diversity promises fulfilling work encouragement equal opportunities . logical high achievers accept employment firms associated diversity . hrm perspective organizations attract employees high levels ability achievements expect enhance firms competitiveness. additionally new immigrants reported greater attraction organizations diversity . finding surprising immigrants attracted official policy promoting multiculturalism acceptance diversity. immigrants highly trained educated high achievers native countries. bring sense enthusiasm willingness work hard fulfil career aspirations. building knowl organizations gain access capitalize highly motivated talented pool workers diversity practices. conclusions limitations study makes contributions diversity literature particularly women minority recruitment. study establishes link diversity practices attraction high achievers. supports notion individuals high levels abilities prefer work progressive organizations. study represents initial attempt investigate issue caution replication necessary establish finding. second sample study representative diverse population industrialized countries uk new zealand provides greater generalizability. example sample study consisted cent asians. cent eastern europeans. cent arabs . studies minority applicant attraction focused blacks. expected population comprise cent hispanics cent blacks cent asians minority groups. existing studies minority attraction limited external validity future. study investigated women minority attraction managerial levels. prior concentrated entry-level positions typical women minorities assume upper-level managerial positions. recent trends indicated women minority talents longer supply organizations wish enhance competitiveness seek recruit hire diverse pool workers. despite theoretical practical contributions recruitment diversity literature study limitations. effects diversity organization attractiveness lacked statistical significance received mixed results. previously suggested potential explanation finding attributed tone letters. specifically offer nv appears make friendlier overture uses phrases like understand starting new job international human resource overwhelming help make transition easier feel national venture bank starting. possible tone letter moderated effect organizational effectiveness. example degroot motowidlo visual vocal cues job interviews affected interviewer judgements. visual vocal cues affect interviewer judgements similar effect exist tone employment offers organizational attractiveness. examination tone employment offers warranted future studies help shed effectiveness employment messages. second tha gmat scores self-reported participants potentially suffer desirability. close proximity participants responding questionnaires participants represent favourably. example self-reported mean gmat scores compared published mba rankings self-reported scores slightly higher. future studies incorporate measures peer supervisory ratings applicant achievements. sum diversity practices make organizations attractive women minorities initial evidence attract high achievers new immigrants potential employees. finding important implications traditionally homogeneous organizations remain challd attracting women minorities particularly managerial upper-level positions. notes affirmative action diversity affirmative action plans programs form dimension diversity .  order participants make job-choice decisions necessary use offers. experimental studies minimal adjustments letters realistic possible. '"
      ]
     },
     "execution_count": 33,
     "metadata": {},
     "output_type": "execute_result"
    }
   ],
   "source": [
    "data_proc_1[ref_doc]"
   ]
  },
  {
   "cell_type": "code",
   "execution_count": 34,
   "metadata": {},
   "outputs": [],
   "source": [
    "data_proc2 = [re.sub(\"([a-z]+\\.)+[a-z]+\",\"\", f) for f in data_proc_1]\n",
    "data_proc2 = [re.sub('\\s([?\\.!\"](?:\\s|$))' , r'\\1', f) for f in data_proc2]\n",
    "data_proc2 = [re.sub(\"^\\s+\",\"\", f) for f in data_proc2]\n",
    "data_proc2 = [re.sub(\"\\s+\\Z\",\"\", f) for f in data_proc2]\n",
    "data_proc2 = [re.sub(\"(\\.)+\",\".\", f) for f in data_proc2]\n",
    "data_proc2 = [re.sub(\" +\",\" \", f) for f in data_proc2]\n",
    "data_proc2 = [re.sub(\"( +\\.)\",\".\", f) for f in data_proc2]\n",
    "data_proc2 = [re.sub(\"\\.$\",\"\", f) for f in data_proc2]"
   ]
  },
  {
   "cell_type": "code",
   "execution_count": 35,
   "metadata": {},
   "outputs": [
    {
     "name": "stdout",
     "output_type": "stream",
     "text": [
      "['terms conditions access use international human resource issn - - person organization fit war talent diversity make difference', 'eddy', 'cite eddy', 'person organization fit war talent diversity make difference', 'international human resource -', 'link published online feb', 'submit views view related citing view citing person organization fit war talent diversity make difference', 'eddy', 'abstract study investigates importance diversity applicants job choice decisions', 'according person organization fit theory individuals make assessments fit personal values values organizations make job choice decisions based assessments', 'survey mba job seekers concluded women ethnic minorities diversity important accepting offers employment', 'addition high achievers new immigrants rated organizations diversity attractive potential employers', 'findings suggest need place higher emphasis diversity women minority applicant attraction', 'keywords affirmative action applicant attraction diversity organizational attractiveness person organization fit recruitment', 'introduction decade economy face two-pronged chall satisfying rapid growth demand highly skilled workers baby boomers pondering early retirement', 'faced shortage qualified workers employers look new pool qualified labour-force participants', 'fortunately benefit inflow workers rest world', 'individuals highly trained educated knowl-based professions managerial workers neers scientists academics', 'organizations want compete talent seek attract hire pool workers increasingly diverse terms gender race nationality', 'study investigates women minority attraction upper-level managerial positions', 'despite promising albeit preliminary findings women minority attraction previous studies overlooked quality applicants attracted diversity', 'specifically interested quality applicants diversity attractive consider factor job choice decisions', 'women international human resource issn - print issn - online', 'eddy', 'administration program trent peterborough ontario kj', 'schulich toronto ontario mj', 'int', 'human resource minority recruitment important organizations remain challd achieving proportionate population representation workforce particularly professional upper jobs', 'factors contribute lack representation women minorities higher-level positions', 'male managers continue control bulk power organizations largely determine company hiring compensation performance evaluation practices', 'example men appreciate men work women received higher performance ratings commanded higher salary levels', 'women minorities faced greater challs organizational entry moving organizational ranks', 'second gender ethnic stereotyping contributed lack acceptance women minorities authoritative figures', 'example certain attributes diligent intelligent reserved asians seen managerial qualities', 'lack similar high positions led exclusion women minorities organizational networks provide knowl organization', 'women reported receiving information companies shut better jobs', 'policy-makers responded employment equity affirmative action legislation remove barriers facing women minorities workplace', 'reaction policies negative male majority women minority groups intended beneficiaries', 'males opposed aa perceived practices abandoning principle merit favour numerical targets', 'women hired aa perceived incompetent qualified', 'result women minorities resented stigmatization disassociated aa', 'reported reduced perceptions competence receiving lower job evaluations', 'recent shown aa practices generally lead lower credentials performance organizations implementing diversity hrm practices deal stigmatization associated aa', 'diversity diversity considered popular alternative aa reasons', 'diversity help organizations capitalize benefits diverse workforce', 'cox proposed diversity reduces turnover absenteeism attracts workers increases sales marketing efforts enhances creativity innovation improves decision-making', 'executives likely devote resources commitment diversity efforts', 'second diversity voluntary corporate approach dealing increasing demographic diversity workplace', 'agocs pointed diversity helps promote awareness individual difference empathy different encourages attitude change', 'diversity seeks create greater inclusion individuals formal company programmes informal networks', 'consequently international human resource viewed controversial aa useful dealing issues left unaddressed aa', 'previous studies shown diversity related applicants intention pursue employment', 'organizations advertised diversity practices perceived attractive employers attracted applicants successful recruiting women minorities', 'supply women minorities qualified positions continues increase complete professional education programmes', 'study investigates women minority application attraction positions quality applicants attracted diversity practices', 'specifically tackle issue stigmatization determine diversity associated higher-quality applicants operationalized terms achievement ability using grade averages graduate admission test scores', 'conceptual background theory cable argued applicants concerned picking right organization choosing right job', 'previous shown organizational policies practices corporate image corporate performance considered applicants make job-choice decisions', 'suggests perceptions organizational attractiveness related employment practices organization projects positive employment message signal likely provide desirable job attributes strong opportunities career growth development potential job applicants', 'person organization fit person organization fit attempt account people make assessments fit organization offers explanation applicants make decisions job choices', 'defined p-o fit congruence organizational values individual values', 'conceptual work proposed given choice person activated particular need set needs expected seek environments offer fulfillment needs avoid environments stifle fulfillment', 'congruence internal state needs organizational attributes drives organizational-choice process', 'p-o fit occurs organization satisfies individual needs desires preferences', 'fit individual values beliefs personal characteristics organization shed process job applicants organizations attractive make job-choice decisions', 'achieving high levels p-o fit recruitment desirable linked work-related outcomes organizational commitment identification retention', 'cable applicants perceived value congruence chosen organization related p-o fit perceptions perceived p-o fit perceptions predicted actual job choice decisions', 'example individuals high person organization fit war talent need achievement attracted organizations reward performance', 'additionally individual value systems characteristics relatively enduring', 'fact personal values beliefs based group identities gender ethnicity', 'applicants develop perceptions fit organizations based values identities self-select recruitment process perceived lack fit', 'example job applicants readily accepted organization commitment diversity recruiting ads depicted blacks managerial positions', 'congruence applicants preferences based group identities recruiting organization reputed employment policies important organizational attraction', 'employment messages recent survey concluded minority employees like want fulfilling work opportunities advancement assurances efforts pay', 'organizations offer opportunities encouragement inclusiveness attract women minority job applicants', 'way organizations communicate message prior organizational entry employment messages', 'organization orientation woman minorities reflected employment messages salient women minority applicants', 'employment messages recruitment ads serve vehicle providing insights employment relationships offered organizations', 'applicants incomplete information organizations interpret information receive indicators organization working environment', 'employment messages particularly important women minorities unlike male counterparts enjoy access informal sources referrals job information', 'rely far heavily formal sources information job ads recruitment brochures information contained employment offers', 'consistent p-o fit literature propose women minorities organizations offer opportunities work environment free discrimination attractive employers', 'expect women minorities look cues practices making job choice decisions', 'test proposition conducted experimental study investigate characteristics applicants jobs employers diversity attractive consider diversity important job choice decisions', 'based foregoing hypothesize hypothesis minority job applicants likely rate employers diversity practices attractive', 'hypothesis minority job applicants consider diversity important factor job-choice decisions', 'addition high achievers high abilities likely seek environments offer challs opportunities', 'new international human resource workforce entrants highly educated skilled high career aspirations', 'expect diversity attract job applicants high achievers', 'hypothesis job applicants high achievers likely rate employers diversity practices attractive', 'study examined job-choice decisions women minorities presented offers organizations diversity practices', 'support organization attractiveness diversity reach conventional levels significance results clearly indicate women minorities considered organizational diversity practices important accepting employment', 'findings lend support p-o fit hypothesis organization espoused diversity values related women minorities job-choice decisions', 'number factors influence applicants job-choice decisions compensation working conditions nature work offered', 'previous studies shown convincingly p-o fit organization espoused values significant factor applicant job choices', 'advantages perceived fit organizations obvious', 'high levels p-o fit lead improved organizational outcomes commitment identification retention', 'example women minority managers employed organizations accepting person organization fit war talent minorities experienced positive treatment satisfied careers committed integrated', 'hypothesized high achievers rated organizations diversity practices attractive employers', 'high achievers look job challs rewards recognition fast-track promotions diversity promises fulfilling work encouragement equal opportunities', 'logical high achievers accept employment firms associated diversity', 'hrm perspective organizations attract employees high levels ability achievements expect enhance firms competitiveness', 'additionally new immigrants reported greater attraction organizations diversity', 'finding surprising immigrants attracted official policy promoting multiculturalism acceptance diversity', 'immigrants highly trained educated high achievers native countries', 'bring sense enthusiasm willingness work hard fulfil career aspirations', 'building knowl organizations gain access capitalize highly motivated talented pool workers diversity practices', 'conclusions limitations study makes contributions diversity literature particularly women minority recruitment', 'study establishes link diversity practices attraction high achievers', 'supports notion individuals high levels abilities prefer work progressive organizations', 'study represents initial attempt investigate issue caution replication necessary establish finding', 'second sample study representative diverse population industrialized countries uk new zealand provides greater generalizability', 'example sample study consisted cent asians', 'cent eastern europeans', 'cent arabs', 'studies minority applicant attraction focused blacks', 'expected population comprise cent hispanics cent blacks cent asians minority groups', 'existing studies minority attraction limited external validity future', 'study investigated women minority attraction managerial levels', 'prior concentrated entry-level positions typical women minorities assume upper-level managerial positions', 'recent trends indicated women minority talents longer supply organizations wish enhance competitiveness seek recruit hire diverse pool workers', 'despite theoretical practical contributions recruitment diversity literature study limitations', 'effects diversity organization attractiveness lacked statistical significance received mixed results', 'previously suggested potential explanation finding attributed tone letters', 'specifically offer nv appears make friendlier overture uses phrases like understand starting new job international human resource overwhelming help make transition easier feel national venture bank starting', 'possible tone letter moderated effect organizational effectiveness', 'example degroot motowidlo visual vocal cues job interviews affected interviewer judgements', 'visual vocal cues affect interviewer judgements similar effect exist tone employment offers organizational attractiveness', 'examination tone employment offers warranted future studies help shed effectiveness employment messages', 'second tha gmat scores self-reported participants potentially suffer desirability', 'close proximity participants responding questionnaires participants represent favourably', 'example self-reported mean gmat scores compared published mba rankings self-reported scores slightly higher', 'future studies incorporate measures peer supervisory ratings applicant achievements', 'sum diversity practices make organizations attractive women minorities initial evidence attract high achievers new immigrants potential employees', 'finding important implications traditionally homogeneous organizations remain challd attracting women minorities particularly managerial upper-level positions', 'notes affirmative action diversity affirmative action plans programs form dimension diversity', 'order participants make job-choice decisions necessary use offers', 'experimental studies minimal adjustments letters realistic possible']\n"
     ]
    }
   ],
   "source": [
    "print(data_proc2[ref_doc].split('. '))\n",
    "\n",
    "sents = []\n",
    "for d in data_proc2:\n",
    "    sents += d.split('. ')"
   ]
  },
  {
   "cell_type": "code",
   "execution_count": 36,
   "metadata": {},
   "outputs": [
    {
     "name": "stdout",
     "output_type": "stream",
     "text": [
      "['variances staff-related practices country subsidiaries global firm terms conditions access use international human resource issn - - variances staff-related practices country subsidiaries global firm leonardo liberman ingemar torbiorn cite leonardo liberman ingemar torbiorn variances staff-related practices country subsidiaries global firm international human resource -', 'link published online feb', 'submit views view related citing view citing variances staff-related practices country subsidiaries global rm leonardo liberman ingemar torbio rn abstract purpose study explore possible variances commonalities staff-related practices different country subsidiaries multinational corporation', 'study exploratory using data ninety-six semi-structured interviews current practices country subsidiaries', 'results based statements practices different countries', 'analysis statements evidenced variances commonalities practices country subsidiaries studied', 'suggested variances attributable cultural factors institutional pressures societal forces commonalities explained common organizational culture', 'theoretical model adapted explain conditions practices place different country settings', 'keywords cross-cultural practices human resources subsidiaries multinational culture', 'introduction internationalization increased cross-frontier mobility information people cross-national scopes placed new queries sciences agenda understanding impact local cultural settings societal forces daily organizational practices', 'trend resulted ow studies searching new insights cross-cultural differences work organizational behaviour perspectives', 'studies mainly stemmed value-orientation perspective leadership comparative view eld comparative human resource practices policies national systems related societal approaches', 'managerial practices recently emphasized pivotal understanding cross-cultural work differences', 'asserted need comparison values understanding cultural differences typical managerial practices', 'studies suggest mps differ depending country context', 'int', 'human resource - international human resource issn - print issn - online kanungo', 'studies considered limited number mps using miscellaneous nitions different levels analysis mps taken organizational culture account potential source variance including organizations cross-cultural studies', 'hand traditional cross-cultural studies estimate assume variations mps determined systems values evidence occurs facto terms variances probable mechanisms explain', 'empirical evidence variance mps single multinational corporation theoretically relevant eld relatively little empirical work', 'add understanding issue recognized jelinek regarding relation oc national culture', 'evidence indirectly add understanding term dif cult chall international central vs', 'local dilemma requiring resolution contradictory demands global competitiveness local responsiveness', 'somneral questions emanate practices vary country subsidiaries mnc sharing oc performing identical tasks', 'practices vary pattern variation distinguishable', 'circumstances implementing practices derived norms given organizational culture different national settings', 'order answer questions present study following purposes examine variances mps organization different national cultures summarize practices differ countries probable patterns variation identifying sources variation', 'variables taken account study practices national culture organizational culture ned', 'practices concept mps extensively documented literature utilized senses pattern behaviours activities roles performed manager work interaction subordinates plan activities performed group organization particular eld human resources mps', 'rst view accounts routines guided short-term purposes taking place direct interaction managers subordinates second refers set systematized routines guided purposes wider scope', 'double-sided notion practices actually corresponds considered critical distinction feudal-patrimonial systems bureaucratic ones personalized-charismatic arrangements opposition rational-impersonal arrangements', 'later simultaneous occurrence sorts arrangements organization recognized local unof cial activities taking place blind spots bureaucracy', 'approaches account duality organizations empirical studies contrasting unof cial loose subtle informal personalized mechanisms cial structural tight formal bureaucratic ones', 'international human resource need build model groups different staff-related practices examining relationship practices cultures acknowld recently rogovsky', 'order dual sense practices account study practices assorted comprehensivoups labelled tactical strategic ned follows', 'tactical practices observational shown daily activities managers inherently reactive heterogeneous fragmented hectic', 'recognized taxonomies attempt classify managers practices coherent categories', 'taxonomies delineate content scope usual middle-range behaviours practices manager dealing subordinates peers', 'dif culty using taxonomies cross-cultural comparisons mps tend ned terms assumed appropriate effective leader', 'normative prescriptive features categories mps considered study based previous taxonomies understood generic terms presupposing proper direction action order avoid claims universality', 'group practices considered tactical sense colles ned middle-range behavioural routines performed manager ful particular goal particular situation', 'typically place interpersonal level ad lib ad hoc unof cial unregistered limited speci immediate needs', 'activities use directly available resources literature usually conceptualized particular leadership style manager', 'summary attributes tacticalstrategic distinction presented table', 'focus present study description usual practices performed managers dealing directly', 'practices taken account related communication uence control reinforcement decisions crisis ict', 'strategic practices second group practices refers set wide-range routines exercised summarized procedures policies guiding limiting actions', 'routines respond general purposes oriented satisfaction long-term needs involve large number', 'furthermore practices group follow pre-de ned sequences steps programmes methodically collectively implemented familiar parties involved execution results recorded', 'study focus following human resource mps communication reinforcement control decisions instruction progression', 'organizational national culture variables organizational national culture variables relevant constructs account variances commonalties observed practices countries', 'national culture liberman torbio rn variances staff-related practices understood pattern behaviours derived shared norms characteristic distinctive people certain gaphical region', 'concept ned operationally variances norms inferred reports habitual practices country subsidiaries organization', 'hand organizational culture construct characterized development mixture extremely divnt positions nitions explanations', 'divnce mainly relevant variables involved oc different facets', 'empirical ndings garsten suggested facets organizational culture concerns desired core organization concerns actually takes place periphery organization', 'rst facet intended oc inferred messages prompting consistency direction apex mnc', 'second facet oc concerns takes place dayto-day basis', 'subsidiary', 'study focus current oc intended oc considered discussion', 'oc understood common guration tacit manifest rules inferable regular acts', 'operationalization oc mnc reformulated commonalities norms inferred reports patterns practices different country subsidiaries multinational organization', 'purpose study examine possible variances commonalities mps country subsidiaries single mnc', 'rationale given matched structural features variances reports mps different country subsidiaries ought attributable uences local settings', 'hand mps fairly similar countries taken express presupposed common factor', 'review statements ninety-six managerial non-managerial equivalent positions countries showed mps vary mnc', 'study performed matched subsidiaries single mnc observed variances attributable local uences', 'pattern variation mps country subsidiaries number considerations drawn', 'rst consideration matters material reveals variances commonalities place smps tmps', 'source variance mps particular smps material suggests group subsidiaries deviated minor degree intended smps group subsidiaries deviated major degree', 'rst group consisted nexo-uk nexo-spain nexo-turkey nexo-russia nexo-poland', 'subsidiaries deviated intended hr practices especially nexo-germany nexo-sweden nexo-france', 'reviewing divisions national cultures systems terms value-system orientation possible explain grouping nexo-countries', 'second look material shows apparent common feature link rst group nexo-countries fewer labour market regulations countries uential absent bodies representatives subsidiaries', 'hand second group common greater uence bodies representatives decisions', 'suggests mps mnc synchronized rst institutional factors secondarily informal norms given oc nc', 'assertion contradicts conclusion recent studies considering national culture ned operationalized terms valueorientation dimensions critical factor account cross-country differences hr practices policies mncs', 'contrarily ndings coherent suggestion degree international human resource table summary variances commonalities tactical strategic practices country subsidiaries commonalities tactical practices commonalities strategic practices reinforcement practices total commonality', 'communication uence practices aphorisms goals customers acronyms mixture common ish words local languages personalized way address control practices total commonalities decisions customer argument justify decisions crisis ict total commonalities reinforcement practices administration compensations senior expatriate classify positions study market competitiveness salaries bene ts communication practices common formal channels communication induction process interdepartmental complaints satisfaction surveys control practices performance assessment senior managers based shared budget gures revenue peformance quality indicators hr control based nancial gures decision practices direct involvement regional ce recruitment positions country using informal methodologies age personality criteria selection candidates instructional progression practices training senior managers technical non-technical matters progression senior positions based previous peformance informal deals variances tactical practices variances strategic practices reinforcement practices type reinforcement favoured discretion manager supply reinforcement type behaviour reinforced communication practices managers communicational approach employees attitude image projected utilization signs status reinforcement practices relation performance-compensation non-managerial positions mechanisms ne wages dispersion wages communication practices favoured communication channels facto use regional communication programmes liberman torbio rn variances staff-related practices weakness local institutional arrangements facilitates transferability home-country practices', 'second consideration source variance tmps', 'studies described countries terms value orientation described uk countries low power distance orientation russia federation countries high power distance orientation', 'study tactical practices control decisions communication uence nexo-uk nexo-sweden nexo-germany fairly consistent expected countries low power distance', 'hand tactical practices control decisions communication uence nexo-spain nexo-turkey nexo-russia nexo-poland fairly consistent expected countries high power distance value orientation', 'tentatively suggest tmps synchronized tacit informal norms cultural values', 'suggested tmps simultaneously responding discrepancies normative pressures', 'consideration conditions implementing mp according norms coming oc nc', 'practices table continued variances tactical practices variances strategic practices control practices source control decisions manager discretion decisions issues manager discretion decisions task issues arguments used convince people involved decision making processes peculiarities decisional process stability decisions crisis ict proximity involvement manager crises problems customary way solve ict control practices adherence regional programme performance assessment scope assessment time span assessment methodology used assessment consequence assessment decision practices source recruitment favoured selection methdology involved process instructional progression practices objectives content non-technical matters type instructional methodology favoured involvement direct managers criteria progression direct manager discretion progression transference involvement representative bodies international human resource disagree local norms', 'according data commonalities concerned practices contradict countries institutional frameworks applicable managerial positions expatriate', 'example countries norms counter measurement reinforcement individual performance norms allow manager discretion task matters', 'subsidiaries smps implemented following intentions programmes headquarters', 'expectations according local norms matched expected according oc norms tactical strategic mps coherent', 'local organizational norms regarding organizational behaviour matched partially practices implemented following oc norms', 'example mps matched legal informal norms ncs', 'unof cial manoeuvres respond local cultural pressures', 'regional standard computational implemented strategically region', 'designed quantitative weekly rankings performance ne monthly bonuses', 'despite fact disagreement formal norm ict informal norm make rankings people', 'tactically altered direct managers order infringe tacit informal local norms', 'smaller bonus supplied wholoup matter performance avoid making differences thoups prevent icts turnover', 'tmps buffered discrepancies prescribed smp culture cultural norms apply organizational behaviour cultural norms apply organizational behaviour cultural norms apply organizational behaviour c- norms b similar oc applies smps tmps c- norms b differ nc applies smps tmps tmps buffer oc c- oc applies smps tmps cultural norms apply organizational behaviour c- nc applies smps tmps c- oc nc applies smps tmps source adapted torbio rn figure relation local organizational norms u lt r liberman torbio rn variances staff-related practices headquarters incompatible local cultural norm']\n"
     ]
    }
   ],
   "source": [
    "print(sents[0:100])"
   ]
  },
  {
   "cell_type": "code",
   "execution_count": 37,
   "metadata": {},
   "outputs": [],
   "source": [
    "# save data\n",
    "pickle.dump(data_proc2, open( \"C:/Thesis/Data/save/Master_Data/pre_processed_data/data_preprocessed.p\", \"wb\" ) )"
   ]
  },
  {
   "cell_type": "code",
   "execution_count": 38,
   "metadata": {},
   "outputs": [],
   "source": [
    "import io\n",
    "\n",
    "# writing documents one sentence per line to form a larger data set (allowing use of a generator for model training):\n",
    "with open(\"C:/Thesis/Data/save/Master_Data/pre_processed_data/data_preprocessed_txt.txt\", \"a\",encoding=\"utf-8\") as outfile:\n",
    "    \n",
    "    for s in sents:\n",
    "        outstring = s + '\\n'\n",
    "        outfile.write(outstring)\n",
    "        \n",
    "# (additionally you could keep document boundaries intact, \n",
    "# e.g. by writing a file per document or marking start and end of articles in the larger file)"
   ]
  },
  {
   "cell_type": "code",
   "execution_count": null,
   "metadata": {},
   "outputs": [],
   "source": [
    "#import io\n",
    "#with open(\"C:/Thesis/Data/save/Master_Data/MD_3/data_proc_latest/JM_data_proc_txt.txt\", \"w\",encoding=\"utf-8\") as outfile:\n",
    "#    for i in range(len(data_proc)):\n",
    "#        outstring = \"\"\n",
    "#        outstring += str(data_proc[i])\n",
    "#        outfile.write(outstring)"
   ]
  },
  {
   "cell_type": "code",
   "execution_count": null,
   "metadata": {},
   "outputs": [],
   "source": []
  }
 ],
 "metadata": {
  "kernelspec": {
   "display_name": "Python 3",
   "language": "python",
   "name": "python3"
  },
  "language_info": {
   "codemirror_mode": {
    "name": "ipython",
    "version": 3
   },
   "file_extension": ".py",
   "mimetype": "text/x-python",
   "name": "python",
   "nbconvert_exporter": "python",
   "pygments_lexer": "ipython3",
   "version": "3.7.6"
  }
 },
 "nbformat": 4,
 "nbformat_minor": 2
}
