{
 "cells": [
  {
   "cell_type": "code",
   "execution_count": null,
   "metadata": {},
   "outputs": [],
   "source": [
    "import os\n",
    "import re\n",
    "import pandas as pd\n",
    "import urllib\n",
    "from nltk import SnowballStemmer\n",
    "from gensim.models import Word2Vec\n",
    "#import langdetect\n",
    "import tika\n",
    "import time\n",
    "from tika import parser\n",
    "import pickle"
   ]
  },
  {
   "cell_type": "markdown",
   "metadata": {},
   "source": [
    "# Raw Articles pdf Data\n",
    "Convert pdf to text using Tika apache server "
   ]
  },
  {
   "cell_type": "code",
   "execution_count": null,
   "metadata": {},
   "outputs": [],
   "source": [
    "# specify the target data folder\n",
    "\n",
    "target_dir = 'C:/Thesis/Data/Journal_of_management_studies'"
   ]
  },
  {
   "cell_type": "code",
   "execution_count": null,
   "metadata": {},
   "outputs": [],
   "source": [
    "# prep pdf extraction\n",
    "pdf_files = []\n",
    "wrd_files = []\n",
    "\n",
    "for f in os.listdir(target_dir):\n",
    "    if f.endswith(\".pdf\") | f.endswith(\".PDF\"):\n",
    "        thispdf = os.path.join(target_dir, f)\n",
    "        pdf_files = pdf_files + [thispdf]\n",
    "    if f.endswith(\".doc\") | f.endswith(\".docx\") | f.endswith(\".DOC\") | f.endswith(\".DOCX\"):\n",
    "        thiswrd = os.path.join(target_dir, f)\n",
    "        wrd_files = wrd_files + [thiswrd]"
   ]
  },
  {
   "cell_type": "code",
   "execution_count": null,
   "metadata": {
    "scrolled": true
   },
   "outputs": [],
   "source": [
    "port = 4321 # port to use for Tika server (chosen arbitrarily)\n",
    "server_str = 'http://localhost:' + str(port)\n",
    "tika_path  = 'C:\\Software\\ tika-server-1.23.jar'\n",
    "tika_run   = 'java -jar' + tika_path + ' --port ' + str(port)\n",
    "print('Command to start Tika:')\n",
    "print(tika_run)\n",
    "print('---')\n",
    "print('Number of pdf files: ' + str(len(pdf_files)))\n",
    "print('Number of word files: ' + str(len(wrd_files)))"
   ]
  },
  {
   "cell_type": "code",
   "execution_count": null,
   "metadata": {},
   "outputs": [],
   "source": [
    "# process the PDF files, store text in memory\n",
    "tika.TikaClientOnly = True \n",
    "\n",
    "pdf_metadata = [parser.from_file(t, server_str, xmlContent=False)[\"metadata\"] for t in (pdf_files + wrd_files)]"
   ]
  },
  {
   "cell_type": "code",
   "execution_count": null,
   "metadata": {},
   "outputs": [],
   "source": [
    "# save data metadata\n",
    "pickle.dump(pdf_metadata, open( \"C:/Thesis/Data/save/Journal_of_management_studies/metadata/metadata_all.p\", \"wb\" ) )"
   ]
  },
  {
   "cell_type": "markdown",
   "metadata": {},
   "source": [
    "# Text Data\n",
    "\n",
    "Eliminate title, sections (eg: content between Method and Discussion) and Reference. It is saved as a pre-processed data"
   ]
  },
  {
   "cell_type": "code",
   "execution_count": null,
   "metadata": {
    "scrolled": true
   },
   "outputs": [],
   "source": [
    "# process the PDF files, store text in memory\n",
    "tika.TikaClientOnly = True \n",
    "\n",
    "pdf_text = [parser.from_file(t, server_str, xmlContent=False)[\"content\"] for t in (pdf_files + wrd_files)]"
   ]
  },
  {
   "cell_type": "code",
   "execution_count": null,
   "metadata": {},
   "outputs": [],
   "source": [
    "# save data\n",
    "pickle.dump(pdf_text, open( \"C:/Thesis/Data/save/Journal_of_management_studies/save_alltextData.p\", \"wb\" ) )"
   ]
  },
  {
   "cell_type": "markdown",
   "metadata": {},
   "source": [
    "#  Load the Text data"
   ]
  },
  {
   "cell_type": "code",
   "execution_count": 30,
   "metadata": {},
   "outputs": [],
   "source": [
    "import pickle\n",
    "#load the text data\n",
    "pdf_text = pickle.load(open(\"C:/Thesis/Data/save/Journal_of_management_studies/save_alltextData.p\", \"rb\"))\n"
   ]
  },
  {
   "cell_type": "code",
   "execution_count": 31,
   "metadata": {},
   "outputs": [
    {
     "data": {
      "text/plain": [
       "1133"
      ]
     },
     "execution_count": 31,
     "metadata": {},
     "output_type": "execute_result"
    }
   ],
   "source": [
    "len(pdf_text)"
   ]
  },
  {
   "cell_type": "markdown",
   "metadata": {},
   "source": [
    "# Get country names"
   ]
  },
  {
   "cell_type": "code",
   "execution_count": 32,
   "metadata": {},
   "outputs": [],
   "source": [
    "# Since it is case sensetive, firstly get the list of country before converting the text to lowercase\n",
    "country_list = ['america', 'vietnam', 'usa']\n",
    "import pycountry\n",
    "\n",
    "for country in pycountry.countries:\n",
    "    country_list.append(country.name.lower())"
   ]
  },
  {
   "cell_type": "code",
   "execution_count": 33,
   "metadata": {},
   "outputs": [],
   "source": [
    "#Convert country list to lower case. it will be called in filter function\n",
    "#country_lower = [x.lower() for x in country_list]\n",
    "#print(country_list)"
   ]
  },
  {
   "cell_type": "markdown",
   "metadata": {},
   "source": [
    "# Get city names (and additional countries)"
   ]
  },
  {
   "cell_type": "code",
   "execution_count": 34,
   "metadata": {},
   "outputs": [],
   "source": [
    "from geotext import GeoText\n",
    "\n",
    "cities_list = []\n",
    "for i in pdf_text:\n",
    "    place = GeoText(i)\n",
    "    #print(place.cities)\n",
    "    #print(place.countries)\n",
    "    cities_list.append(place.cities + place.countries)\n",
    "\n",
    "t = []\n",
    "for i in cities_list:\n",
    "    t += i\n",
    "    \n",
    "# print(len(t))    \n",
    "    \n",
    "cities_list = list(set(t))\n",
    "# cities_list"
   ]
  },
  {
   "cell_type": "code",
   "execution_count": 35,
   "metadata": {},
   "outputs": [
    {
     "name": "stdout",
     "output_type": "stream",
     "text": [
      "1822\n"
     ]
    }
   ],
   "source": [
    "#Convert cities list to lower case. it will be called in filter function\n",
    "cities_lower =[]\n",
    "for i in cities_list:\n",
    "    #for j in i:\n",
    "    cities_lower.append(i.lower())\n",
    "print(len(cities_lower))\n"
   ]
  },
  {
   "cell_type": "code",
   "execution_count": null,
   "metadata": {},
   "outputs": [],
   "source": [
    "# Convert pdf text to lower case"
   ]
  },
  {
   "cell_type": "code",
   "execution_count": 37,
   "metadata": {},
   "outputs": [],
   "source": [
    "#Convert each string to lowercase\n",
    "for i in range(len(pdf_text)):\n",
    "    pdf_text[i] = pdf_text[i].lower()"
   ]
  },
  {
   "cell_type": "markdown",
   "metadata": {},
   "source": [
    "# Excluding pdfs if it doesnot have the standard format \n",
    "check the standard format of pdf- if it contains method and discussion section or not"
   ]
  },
  {
   "cell_type": "code",
   "execution_count": 38,
   "metadata": {},
   "outputs": [
    {
     "data": {
      "text/plain": [
       "239"
      ]
     },
     "execution_count": 38,
     "metadata": {},
     "output_type": "execute_result"
    }
   ],
   "source": [
    "import re\n",
    "pdf_included =[]\n",
    "pdf_excluded =[]\n",
    "\n",
    "for i in pdf_text:\n",
    "    flag_1 = re.search(r'\\n(general )?discussion\\n', i)\n",
    "    flag_2 = re.search(r'\\nmethods?\\n', i)\n",
    "   \n",
    "    if flag_1 and flag_2: \n",
    "        pdf_included.append(i)\n",
    "     \n",
    "    else:\n",
    "        pdf_excluded.append(i)\n",
    "len(pdf_included)"
   ]
  },
  {
   "cell_type": "code",
   "execution_count": 39,
   "metadata": {},
   "outputs": [
    {
     "data": {
      "text/plain": [
       "894"
      ]
     },
     "execution_count": 39,
     "metadata": {},
     "output_type": "execute_result"
    }
   ],
   "source": [
    "len(pdf_excluded)"
   ]
  },
  {
   "cell_type": "code",
   "execution_count": 40,
   "metadata": {},
   "outputs": [],
   "source": [
    "# Within JM: acknowledgement section appears in two approaches:1: before or after keyword section (only few pdfs)\n",
    "# 2: before reference section (maximum pdfs)\n",
    "# thus, focusing on the majority occurance of acknowledgements before reference second, we removed it based on that condition.\n",
    "\n",
    "# step-1 remove content after acknowledgements section( it will include appendix, reference section)\n",
    "pdf_remove_step1 = [re.sub(r\"(?is)\\nacknowledgments\\n.*\", \"\", f) for f in pdf_included]\n",
    "\n",
    "# step-2 if there is no acknowledgements section than start with appendix (it will include reference section.)\n",
    "pdf_remove_step2 = [re.sub(r\"(?is)\\nappendix\\n.*\", \"\", f) for f in pdf_remove_step1]\n",
    "\n",
    "# step-3 remove all from reference section\n",
    "pdf_remove_step3 = [re.sub(r\"(?is)\\nreferences\\n.*\", \"\", f) for f in pdf_remove_step2]\n",
    "\n",
    "# get the reference section\n",
    "references = [re.sub(r\"^(.|\\n)+\\nreferences\\n\", \"\", f) for f in pdf_included]"
   ]
  },
  {
   "cell_type": "code",
   "execution_count": 41,
   "metadata": {},
   "outputs": [
    {
     "data": {
      "text/plain": [
       "239"
      ]
     },
     "execution_count": 41,
     "metadata": {},
     "output_type": "execute_result"
    }
   ],
   "source": [
    "len(pdf_remove_step3)"
   ]
  },
  {
   "cell_type": "code",
   "execution_count": 42,
   "metadata": {},
   "outputs": [],
   "source": [
    "# step-4: remove content between method and discussion section (it contains method and result section)\n",
    "def remove_method_result(method, discussion, text):\n",
    "    \n",
    "    import re    \n",
    "    start = method\n",
    "    end = discussion\n",
    "    #start of pattern, followed by any number of times 'any character OR a newline' and terminated by the end pattern.\n",
    "    #pattern = start + '.*'+'(.|\\n)*'+end\n",
    "    pattern = start +'(.|\\n)*'+end\n",
    "    #pdf_method_dis = [re.sub(pattern, '', f) for f in pdf_text]\n",
    "    pdf_method_dis = re.sub(pattern, '', text)\n",
    "\n",
    "    return pdf_method_dis"
   ]
  },
  {
   "cell_type": "code",
   "execution_count": 43,
   "metadata": {},
   "outputs": [],
   "source": [
    "import re\n",
    "#  remove method and result\n",
    "pdf_remove_step4 = [remove_method_result('\\nmethods?\\n', '\\n(general )?discussion\\n', t) for t in pdf_remove_step3]"
   ]
  },
  {
   "cell_type": "code",
   "execution_count": 44,
   "metadata": {},
   "outputs": [
    {
     "data": {
      "text/plain": [
       "239"
      ]
     },
     "execution_count": 44,
     "metadata": {},
     "output_type": "execute_result"
    }
   ],
   "source": [
    "len(pdf_remove_step4)"
   ]
  },
  {
   "cell_type": "markdown",
   "metadata": {},
   "source": [
    "# Pre-processing\n",
    "Regular expression is used to clean up the data"
   ]
  },
  {
   "cell_type": "code",
   "execution_count": 45,
   "metadata": {},
   "outputs": [
    {
     "name": "stdout",
     "output_type": "stream",
     "text": [
      "\n",
      "\n",
      "\n",
      "\n",
      "\n",
      "\n",
      "\n",
      "\n",
      "\n",
      "\n",
      "\n",
      "\n",
      "\n",
      "\n",
      "\n",
      "\n",
      "\n",
      "\n",
      "\n",
      "\n",
      "\n",
      "\n",
      "\n",
      "\n",
      "\n",
      "\n",
      "\n",
      "\n",
      "\n",
      "\n",
      "\n",
      "\n",
      "\n",
      "\n",
      "\n",
      "\n",
      "\n",
      "\n",
      "\n",
      "\n",
      "\n",
      "\n",
      "\n",
      "\n",
      "\n",
      "\n",
      "no job name\n",
      "\n",
      "\n",
      "typology of the eight domains of discretion\n",
      "in organizationsjoms_982 144..177\n",
      "\n",
      "arran caza\n",
      "wake forest university schools of business\n",
      "\n",
      "abstract discretion (an individual’s latitude of action) is a fundamental element of work,\n",
      "with extensive individual and organizational consequences. research has demonstrated the\n",
      "importance of discretion, but there is not yet a mature theory of discretion in organizations.\n",
      "towards that end, this paper derives a multidimensional typology of discretion in\n",
      "organizations, integrating previous empirical results and archival interview data. it is found\n",
      "that discretion comprises eight distinct domains. this eight-part typology casts new light on\n",
      "previous findings and contributes towards a mature theory of discretion. this article discusses\n",
      "the circumplex structure of the eight domains and their potential utility in characterizing\n",
      "fundamental aspects of work.\n",
      "\n",
      "keywords: autonomy, choice, discretion, typology\n",
      "\n",
      "introduction\n",
      "\n",
      "discretion, defined as latitude of action or control over how one does one’s work, is a\n",
      "central aspect of organizational behaviour, and one with extensive and varied conse-\n",
      "quences (e.g. dickson, 1985; littler et al., 2003; logan and ganster, 2007). control has\n",
      "been identified as a universal human need; all people desire some feelings of control (deci\n",
      "and ryan, 2000). moreover, discretion is inevitable in organizations because it arises in\n",
      "every ambiguous situation (hambrick and finkelstein, 1987), and these situations are\n",
      "fundamental determinants of organizational structure (march and simon, 1958). dis-\n",
      "cretion influences a vast range of outcomes, including capital investment (dimov and\n",
      "gedajlovic, 2010), compensation (finkelstein and boyd, 1998), trust (perrone et al.,\n",
      "2003), satisfaction (dwyer and ganster, 1991), motivation (spector, 1986), physical\n",
      "health (karasek, 1990), and performance (caza, forthcoming; kuvaas, 2008). in fact,\n",
      "one review suggested that discretion was one of the most studied work characteristics in\n",
      "traditional organization studies (morgeson and humphrey, 2006). there is also exten-\n",
      "sive discussion of discretion in related managerial, organizational, and behavioural\n",
      "\n",
      "address for reprints: arran caza, wake forest university schools of business, po box 7285, winston-salem,\n",
      "nc 27109, usa (cazaa@wfu.edu).\n",
      "\n",
      "© 2011 the author\n",
      "journal of management studies © 2011 blackwell publishing ltd and society for the advancement of management\n",
      "studies. published by blackwell publishing, 9600 garsington road, oxford, ox4 2dq, uk and 350 main street,\n",
      "malden, ma 02148, usa.\n",
      "\n",
      "journal of management studies 49:1 january 2012\n",
      "doi: 10.1111/j.1467-6486.2010.00982.x\n",
      "\n",
      "\n",
      "\n",
      "disciplines (e.g. hawkins, 1995; hodder et al., 2006; polanyi, 1969; vaughn and otenyo,\n",
      "2007; vinzant and crothers, 1998).\n",
      "\n",
      "however, despite its obvious importance, there is as yet no theory of discretion per se in\n",
      "organizations. one reason for this lack of a coherent theory is that most studies have used\n",
      "discretion as a means to understand some other phenomenon, such as executive domi-\n",
      "nance (haleblian and finkelstein, 1993) or role-breadth (morgeson et al., 2005), rather\n",
      "than studying discretion itself. in addition, those studies that were primarily concerned\n",
      "with discretion have remained isolated from one another. this has produced a number of\n",
      "models about particular aspects of discretion, but no overarching theory to integrate them.\n",
      "for example, previous research had examined the consequences of ‘general control’\n",
      "(dwyer and ganster, 1991) and of ‘decision authority’ (karasek et al., 1985), but it was not\n",
      "recognized until later that these two constructs had significant overlap (smith et al., 1997).\n",
      "as a result, one is left to wonder how the findings about general control relate to those of\n",
      "decision authority, and vice versa. in the absence of a comprehensive model to integrate\n",
      "individual studies, there are no clear answers to such questions.\n",
      "\n",
      "the example of general control and decision authority suggests that the current\n",
      "understanding of discretion in organizations is what sonpar and golden-biddle (2008)\n",
      "refer to as ‘adolescent’. adolescent theories are those which have not yet been fully\n",
      "developed and tested. bacharach (1989) provided criteria for evaluating the maturity of\n",
      "organizational theories, among the most important of which was clearly defining the\n",
      "central construct. unless discretion is precisely defined, with sufficient specificity for\n",
      "effective predictions and measures, further theoretical development will be limited\n",
      "(hambrick and abrahamson, 1995; mcallister et al., 2007; smith et al., 1997). there-\n",
      "fore, this paper synthesizes previous findings to develop a complete typology of the\n",
      "domains of discretion in organizations.\n",
      "\n",
      "delineating the domain structure of discretion in organizations helps to move the theory\n",
      "past adolescence towards maturity. in bacharach’s (1989) terms, it increases the clarity\n",
      "and robustness of this central construct. greater clarity improves the interpretation of\n",
      "previous findings and can contribute to better predictions in future work. for example,\n",
      "despite a strong theoretical rationale (hambrick and finkelstein, 1987), investigations\n",
      "have repeatedly failed to find the predicted relationship between demand instability and\n",
      "executive discretion (finkelstein and boyd, 1998; hambrick and abrahamson, 1995).\n",
      "however, as discussed later in this paper, this is likely an artefact of imprecision in defining\n",
      "discretion, rather than a failure of theory. this is revealed by using the typology of\n",
      "discretion developed here to reconsider the previous studies’ findings, and suggests that the\n",
      "apparent predictive failure could have been prevented if the researchers had incorporated\n",
      "the multidimensional nature of discretion in their design.\n",
      "\n",
      "the typology developed here also contributes directly towards the development of a\n",
      "mature theory of discretion in organizations. while a typology does not constitute a\n",
      "theory in itself (sutton and staw, 1995), it is an essential first step towards one\n",
      "(bacharach, 1989). precisely defining the domains of discretion has important implica-\n",
      "tions. specifically, it was found that there are eight distinct domains of discretion in\n",
      "organizations, and that these eight have a circumplex structure of mutual support and\n",
      "antagonism. moreover, the typology can be used to develop discretion profiles that\n",
      "facilitate a fundamental analysis of different types of work. these and other theoretical\n",
      "\n",
      "typology of discretion 145\n",
      "\n",
      "© 2011 the author\n",
      "journal of management studies © 2011 blackwell publishing ltd and\n",
      "\n",
      "society for the advancement of management studies\n",
      "\n",
      "\n",
      "\n",
      "implications arising from the typology are consistent with previous emphasis on the\n",
      "importance of construct clarity (bacharach, 1989; sonpar and golden-biddle, 2008).\n",
      "\n",
      "this paper begins by defining the general construct of discretion. existing empirical\n",
      "measures and archival interview data are then used to derive the eight-domain typology.\n",
      "theoretical implications are then explored, showing the typology’s power to contribute\n",
      "to the empirical study of discretion and the development of a mature theory.\n",
      "\n",
      "discretion in organizations\n",
      "\n",
      "in this paper, the term discretion is used in the tradition of hambrick and finkelstein’s\n",
      "(1987) development of work by march and simon (1958) and thompson (1967). dis-\n",
      "cretion refers to an individual’s latitude of action in doing their work. it reflects the range\n",
      "of options available to an individual when taking consequential action. as such, discre-\n",
      "tion is distinct from choice and from action. which available option an individual\n",
      "chooses and the effects of that choice are consequent to discretion, not part of it.\n",
      "discretion is defined by the available possibilities from which an action choice can be\n",
      "made.\n",
      "\n",
      "as a concrete example, consider a manager who is required to increase sales by 20 per\n",
      "cent in one year. the manager presumably has little choice about the target level of sales,\n",
      "which is a goal given by organizational superiors. however, in the absence of other\n",
      "stipulations, the manager is free to choose the method for increasing sales (e.g. a sales\n",
      "promotion, increased productivity, working longer hours). in this example, the manager\n",
      "has discretion over the method of achieving the goal, but not in the selection of the goal\n",
      "itself.\n",
      "\n",
      "this hypothetical case raises an important issue: the domains of discretion. implicit in\n",
      "the example above is a distinction between discretion over methods and discretion over\n",
      "goals. more generally, the example implies that there are distinct domains in which one\n",
      "may have varying levels of discretion. this assumption of domain variance is consistent\n",
      "with the foundational analyses of discretion in organizations, which explicitly recognized\n",
      "that an individual may have more or less discretion in different aspects of their work\n",
      "(hambrick and finkelstein, 1987; march and simon, 1958; thompson, 1967).\n",
      "\n",
      "the goal of this paper is to delineate the domains in which discretion may vary.\n",
      "previous work has identified many potential domains, but no effort has been made to\n",
      "synthesize these results. this contrasts with mature theories, where there is general\n",
      "agreement about the relevant domains, such as in transformational leadership (bass and\n",
      "avolio, 1997) or personality ( john and srivastava, 2001). in practical terms, uncertainty\n",
      "about the dimensions of discretion means that the construct has not yet been precisely\n",
      "defined. since construct clarity is the essential foundation for theory (bacharach, 1989),\n",
      "the current ambiguity is an impediment to theoretical progress. without a clear domain\n",
      "structure for discretion, it is difficult to compare studies or generalize findings; research-\n",
      "ers claiming to study the same phenomenon may be using incompatible understandings.\n",
      "at present, there seems to be a consensus that discretion varies by domain, but no\n",
      "agreement on what those domains are (hambrick and abrahamson, 1995; mcallister\n",
      "et al., 2007; smith et al., 1997). in response, this paper synthesizes the many domains of\n",
      "discretion that have previously been identified into a single, multidimensional typology.\n",
      "\n",
      "a. caza146\n",
      "\n",
      "© 2011 the author\n",
      "journal of management studies © 2011 blackwell publishing ltd and\n",
      "society for the advancement of management studies\n",
      "\n",
      "\n",
      "\n",
      "the focus here is entirely on discretion in organizations, and more specifically on\n",
      "empirical evidence concerning discretion’s domains. related constructs are not\n",
      "addressed. for example, while the antecedents and consequences of discretion are\n",
      "obviously important considerations, they are beyond the scope of this paper. as\n",
      "described above, even the most proximal of such relationships cannot be examined in\n",
      "any consistent, theoretically sound fashion without a clear definition of the constructs\n",
      "involved. hence, the first step must be to define the multidimensional nature of discre-\n",
      "tion itself. this paper contributes towards such a definition.\n",
      "\n",
      "the most common empirical definition of discretion has been as a single domain\n",
      "encompassing all aspects of an individual’s work (e.g. finkelstein and boyd, 1998;\n",
      "hackman and lawler, 1971; karasek, 1979; morgeson et al., 2005; spreitzer, 1995).\n",
      "this approach has had success, with researchers detecting anticipated relationships\n",
      "among various antecedents and consequences of discretion. however, there has been\n",
      "criticism of this approach, and evidence suggests that the sub-domains of discretion have\n",
      "unique relationships with some antecedents and consequences, and therefore should be\n",
      "distinguished (fried, 1991). making distinctions among one’s discretion in different\n",
      "domains of work is also consistent with theoretical treatments of the construct, which\n",
      "treat discretion in organizations as a multi-dimensional phenomenon (hambrick and\n",
      "finkelstein, 1987; march and simon, 1958; thompson, 1967).\n",
      "\n",
      "related to this, others have noted that research on discretion has devoted more\n",
      "attention to substantive validity than to construct validity (podsakoff et al., 2000; wilson\n",
      "and caza, 2008). this means that more is known about the consequences of discretion\n",
      "than is known about the nature of discretion itself (schwab, 1980). this creates a\n",
      "potentially unstable foundation for theorizing (bacharach, 1989). as such, the crucial\n",
      "first step in developing a mature theory of discretion in organizations is to clearly define\n",
      "its nature.\n",
      "\n",
      "while prior research identified a number of potential domains of discretion, these\n",
      "dimensions had not been previously integrated. therefore, this paper used existing\n",
      "\n",
      "a. caza156\n",
      "\n",
      "© 2011 the author\n",
      "journal of management studies © 2011 blackwell publishing ltd and\n",
      "society for the advancement of management studies\n",
      "\n",
      "\n",
      "\n",
      "empirical measures of discretion in organizations and a sample of archival interview data\n",
      "to develop an integrative typology. the results suggest that individuals think of their work\n",
      "in terms of eight distinct domains in which they may have varying levels of discretion.\n",
      "these domains concern their discretion over effort, goal, technical, staffing, support,\n",
      "interpersonal style, civic virtue, and buffering issues. each domain represents a distinct\n",
      "sphere for the exercise of discretion in organizations.\n",
      "\n",
      "the typology goes beyond previous efforts in being multidimensional and broadly\n",
      "applicable. rather than focusing on a specific hierarchical level (e.g. hambrick and\n",
      "finkelstein, 1987; van mierlo et al., 2007) or type of discretion (e.g. langfred, 2000;\n",
      "schnake and dumler, 2003), the typology developed here encompasses findings from\n",
      "multiple levels and types so as to apply to them all. as such, the typology extends and\n",
      "complements previous efforts by not only clarifying past and future empirical findings,\n",
      "but also by advancing the theory of discretion in organizations towards maturity. both of\n",
      "these contributions are discussed below.\n",
      "\n",
      "contributions to empirical study\n",
      "\n",
      "clarifying previous findings. by providing an integrated view of the domains in which\n",
      "discretion varies, the typology described here provides new insight into previous findings.\n",
      "for example, in contrast to earlier ocb models involving five (e.g. organ, 1988;\n",
      "podsakoff et al., 1990) or more (e.g. farh et al., 1997) factors, there is a recent trend\n",
      "towards using only three: conscientious initiative, organizational support, and personal\n",
      "support (allen et al., 2004; becton and field, 2009; coleman and borman, 2000). while\n",
      "the labels are somewhat different, two of these three factors correspond to domains in the\n",
      "typology: conscientious initiative describes a domain like that of effort discretion, and\n",
      "organizational support is comparable to the typology’s domain of civic virtue discretion.\n",
      "in contrast, the third ocb factor, personal support, is described as follows (becton and\n",
      "field, 2009, p. 1658):\n",
      "\n",
      "helping others by offering suggestions, teaching them useful knowledge or skills,\n",
      "directly performing some of their tasks, and providing emotional support for their\n",
      "personal problems. cooperating with others by accepting suggestions, informing them\n",
      "of events they should know about, putting team objectives ahead of personal interests.\n",
      "showing consideration, courtesy, and tact in relation to others as well as motivating\n",
      "and showing confidence in them.\n",
      "\n",
      "from the perspective of the typology developed here, this description blurs the bound-\n",
      "aries between the support and interpersonal style domains of discretion, apparently\n",
      "conflating the two.\n",
      "\n",
      "failing to distinguish between these two domains is problematic. for example, a\n",
      "cross-cultural study using the definition above predicted that american and chinese\n",
      "workers would report different levels of personal support (becton and field, 2009). since\n",
      "china is a more collectivistic culture, the researchers predicted that chinese workers\n",
      "would be less competitive and thus more supportive with peers. however, their data did\n",
      "not support this prediction.\n",
      "\n",
      "typology of discretion 157\n",
      "\n",
      "© 2011 the author\n",
      "journal of management studies © 2011 blackwell publishing ltd and\n",
      "\n",
      "society for the advancement of management studies\n",
      "\n",
      "\n",
      "\n",
      "given the insight granted by the typology developed here, this failure may not be\n",
      "surprising. the authors’ operationalization of personal support combined elements of\n",
      "the support discretion and interpersonal style discretion domains and treated them as\n",
      "one factor (becton and field, 2009). this is theoretically imprecise. while america’s\n",
      "individualism may well make workers less helpful towards peers, it is not clear why it\n",
      "should also make them less social or interpersonally polite. there is no obvious reason\n",
      "why collectivism should influence interpersonal style choices, relative to local norms.\n",
      "collectivism is a matter of self versus other priorities, not social style or acumen (hofst-\n",
      "ede, 1980). as a result, the study mixed two distinct domains together, each with unique\n",
      "relationships to the relevant outcome, and this mixing could explain the failure of their\n",
      "hypothesis. consistent with this interpretation, the original work from which the three-\n",
      "factor ocb structure derives (coleman and borman, 2000) makes a distinction between\n",
      "two sub-factors of personal support: helping others (i.e. support discretion), and how one\n",
      "treats others (i.e. interpersonal style discretion). thus, in light of the typology derived\n",
      "here, it seems unsurprising that the personal support hypothesis was not supported.\n",
      "\n",
      "similarly, consider the failure of hambrick and finkelstein’s (1987) model to predict\n",
      "some of the antecedents of executive discretion. specifically, despite repeated efforts,\n",
      "researchers have been unable to show the predicted relationship between demand\n",
      "instability and executive discretion (finkelstein and boyd, 1998; hambrick and abra-\n",
      "hamson, 1995). examining these findings with the typology of discretion’s domains\n",
      "reveals that the observed non-relation may be an artefact of measurement, rather than\n",
      "a failure of theory. the hypothesized effect of demand instability is two-fold: it will\n",
      "reduce the clarity of means–ends linkages and it will increase the complexity of conduct-\n",
      "ing routine operations, creating greater demands on attention and information process-\n",
      "ing capacity (finkelstein and boyd, 1998; hambrick and abrahamson, 1995).\n",
      "\n",
      "the first effect of unclear means–ends linkages suggests that technical and staffing\n",
      "discretion will be increased by demand instability; executives could justify a range of\n",
      "different production capacities, staffing levels, and pricing schedules to reach their stated\n",
      "ends. in contrast, if increased complexity and cognitive load had any effect on discretion,\n",
      "it would be to reduce effort discretion, because overwhelmed executives will have fewer\n",
      "resources to devote to their work, and thus be less able to pursue certain options. given\n",
      "this, it is not surprising that demand instability showed no consistent link with measures\n",
      "of discretion that failed to distinguish between domains. if one assumes that demand\n",
      "instability increases technical and staffing discretion, while having either a negative or a\n",
      "null effect on effort, goal, support, style, civic virtue, and buffering discretion, one would\n",
      "expect a null relationship with a discretion measure that combines these domains. the\n",
      "typology thus allows a reinterpretation of the findings, and suggests that the theoretical\n",
      "prediction may well be accurate; it has yet to be tested precisely.\n",
      "\n",
      "as both of these examples show, having a comprehensive typology of the domains of\n",
      "discretion in organizations provides new insight into previous findings. prior work can be\n",
      "re-examined with greater theoretical precision, and new conclusions drawn. this under-\n",
      "scores other discussion of the importance of clearly defining a construct (bacharach,\n",
      "1989; hambrick and abrahamson, 1995; mcallister et al., 2007; smith et al., 1997).\n",
      "the typology will allow more to be learned from research that has already been\n",
      "conducted.\n",
      "\n",
      "a. caza158\n",
      "\n",
      "© 2011 the author\n",
      "journal of management studies © 2011 blackwell publishing ltd and\n",
      "society for the advancement of management studies\n",
      "\n",
      "\n",
      "\n",
      "improving future investigations. the typology of discretion also can facilitate improved\n",
      "research efforts in the future. a clear understanding of the domain structure of discretion\n",
      "will enhance the accuracy with which hypotheses are developed. for example, the\n",
      "typology suggests that the three-factor model of ocb may be more effective with four\n",
      "factors, allowing for the distinction between the support and interpersonal style elements\n",
      "that are currently combined in that model’s personal support factor. re-examination\n",
      "along the lines of becton and field (2009) could be made more precise in predicting that\n",
      "cultural collectivism will influence discretionary support behaviour, but not discretionary\n",
      "choices about interpersonal style. likewise, investigations of executive discretion may be\n",
      "more fruitful if they recognize that discretion varies independently in the different\n",
      "domains. for example, demand instability may not increase effort discretion, but it likely\n",
      "will enhance technical discretion.\n",
      "\n",
      "a detailed understanding of discretion’s domains contributes to precision, and thus to\n",
      "better empirical study. evidence consistent with this reasoning has begun to emerge in\n",
      "recent investigations of karasek’s (1979) job demands–control ( jdc) model. the basic\n",
      "predictions of the jdc model are for main effects on strain from the level of demands and\n",
      "the level of control in a job, plus an interaction between the two, in which greater control\n",
      "(i.e. discretion) buffers the strain of job demands. while decades of research have\n",
      "consistently demonstrated the two main effects, support for the interaction has been weak\n",
      "and inconsistent (van der doef and maes, 1999). however, preliminary evidence sug-\n",
      "gests that the failure to find the proposed interaction results from the fact that demands\n",
      "and control occur in distinct domains (hausser et al., 2010). that is, unless the control is\n",
      "in the same domain as the relevant job demand, there will be limited buffering effects.\n",
      "this suggests that the buffering interaction of the jdc model does exist, but will only\n",
      "reliably be detected if research designs incorporate the eight domains in which discretion\n",
      "varies. more generally, the typology will allow future research to define discretion with\n",
      "a precision that will enhance the quality of research designs and results.\n",
      "\n",
      "contributions towards a mature theory of discretion\n",
      "\n",
      "the typology suggests directions for the development of a general theory of discretion in\n",
      "organizations. these directions include explicating the antecedents and consequences of\n",
      "discretion in each domain, as there are likely to be important differences among the\n",
      "factors that influence the recognition and use of discretion in particular domains (e.g.\n",
      "huang et al., 2010; mccarter and caza, 2009; pieterse et al., 2010), as well as how\n",
      "individuals respond to the exercise of discretion in each domain (e.g. bryant et al., 2010;\n",
      "haar and spell, 2009; yukl and fu, 1999). for example, one would expect that most\n",
      "organizational actors report relatively high agreement about an individual’s level of goal\n",
      "discretion, since decisions about outputs and performance evaluations tend to be gov-\n",
      "erned by rules and established norms (carpenter and golden, 1997). in contrast, there\n",
      "may be significant variance in recognition and agreement about one’s civic virtue\n",
      "discretion, as this is not often explicitly discussed (pond et al., 1997).\n",
      "\n",
      "however, even before investigating these substantive relationships, the typology devel-\n",
      "oped here suggests some fundamental issues to be addressed. theoretical development\n",
      "along these lines will move the theory of discretion in organizations towards maturity.\n",
      "\n",
      "typology of discretion 159\n",
      "\n",
      "© 2011 the author\n",
      "journal of management studies © 2011 blackwell publishing ltd and\n",
      "\n",
      "society for the advancement of management studies\n",
      "\n",
      "\n",
      "\n",
      "three in particular are discussed below: the comprehensiveness of the typology, the\n",
      "relationships among domains, and the developent of discretion profiles. for each of\n",
      "these, specific theoretical propositions are offered.\n",
      "\n",
      "comprehensiveness of the typology. it is asserted here that the eight-domain typology of\n",
      "discretion in organizations is comprehensive. that is, it is proposed that the typology\n",
      "defines all of the domains in which individuals think about their discretion at work, and\n",
      "that it is inclusive of all types and levels of work. however, this claim can only be asserted,\n",
      "not proved, due to limitations in the present paper. one such limitation is the exclusive\n",
      "use of empirical measures of discretion. while this approach offered the advantage of\n",
      "limiting the typology to domains that had been demonstrated as meaningful to organi-\n",
      "zational members, it also may have limited comprehensiveness. it is possible that there\n",
      "is an important domain of discretion that has simply not been investigated by previous\n",
      "research. as a step towards addressing this issue, the current paper used archival inter-\n",
      "view data, and this did reveal a domain that had previously been neglected (i.e. buffering\n",
      "discretion). since the interview data were from a convenience sample of volunteers, their\n",
      "comprehensiveness is suspect. as such, the claim that the typology developed here is\n",
      "comprehensive and universal remains to be confirmed. a crucial next step will be testing\n",
      "the typology’s comprehensiveness.\n",
      "\n",
      "circumplex structure of domains. the second theoretical assertion arising from the typology\n",
      "is that the eight domains of discretion have a circumplex structure of interrelations. a\n",
      "circumplex model derives from the statistical techniques of multidimensional scaling\n",
      "(kruskal and wish, 1978), and uses a spatial analogy to represent relationships of varying\n",
      "strength in a circular space that is defined by two underlying dimensions (denison et al.,\n",
      "1995; levy, 1976). circumplex models have been used in a range of behavioural and\n",
      "organizational studies, as a way to parsimoniously represent relatively complex links\n",
      "among multiple domains that are simultaneously distinct and connected (e.g. lawrence\n",
      "et al., 2009; olson, 2009; traupman et al., 2009). it is asserted here that the eight\n",
      "domains of discretion in organizations have a circumplex structure defined by the\n",
      "dimensions of internal versus external focus and task versus relational focus (see\n",
      "figure 1). specifically, the eight domains form four pairs of relatively antagonistic oppo-\n",
      "sites, as defined by the two underlying dimensions.\n",
      "\n",
      "the internal–external dimension concerns individuals’ relative focus on their internal\n",
      "environment (e.g. areas of formal authority and specific job duties) or the external\n",
      "environment (e.g. the organization beyond their department or the industry of their\n",
      "organization; cameron and quinn, 2006; quinn and rohrbaugh, 1983). this dimen-\n",
      "sion is epitomized by the distinction between the internally focused effort discretion\n",
      "(deciding how much personal energy to expend) and buffering discretion (focusing on the\n",
      "demands of external stakeholders). the task-relational dimension refers to the distinction\n",
      "between focusing primarily on task-related aspects of work versus the social, contextual\n",
      "environment in which work occurs (fiedler, 1971; motowidlo and van scotter, 1994;\n",
      "schein, 1980). the extremes of this dimension are shown in technical discretion, with its\n",
      "focus on the details of how a task is executed, and in interpersonal style discretion, which\n",
      "concerns choices about the approach one adopts in dealing with others.\n",
      "\n",
      "a. caza160\n",
      "\n",
      "© 2011 the author\n",
      "journal of management studies © 2011 blackwell publishing ltd and\n",
      "society for the advancement of management studies\n",
      "\n",
      "\n",
      "\n",
      "although this circumplex model has not been empirically tested, it is consistent with\n",
      "available evidence. for one, it seems logical that some of the eight domains are more\n",
      "closely related than others. for example, the types of civic virtue behaviours that one\n",
      "chooses to engage in are likely to reflect and influence one’s choices about interpersonal\n",
      "style and the treatment of others (e.g. the hr director opting to spend the night at the\n",
      "hospital with an injured worker). as well, civic virtue choices about promoting the\n",
      "organization to outsiders are different from buffering, because civic virtue is not formally\n",
      "part of one’s work tasks, whereas buffering may be; the two are nonetheless closely\n",
      "related activities. similarly, the goals that one sets using goal discretion will be tightly\n",
      "linked to issues of technical discretion: goals may imply methods or specific technical\n",
      "options may promote particular goals (cohen et al., 1972; hambrick et al., 2004). as\n",
      "such, although the eight domains are conceptually distinct, one would expect larger\n",
      "correlations between some pairs of domains than others.\n",
      "\n",
      "the corollary is that some domains may be relatively antagonistic, with greater\n",
      "discretion in one domain implying less in another. for example, the interpersonal style\n",
      "and technical domains of discretion reflect the traditional split between task and rela-\n",
      "tionship focus, and evidence has shown that individuals tend to pursue one of these\n",
      "domains at the expense of the other (fiedler, 1971; motowidlo and van scotter, 1994).\n",
      "as well, one might imagine an inherent tension between effort discretion and buffering\n",
      "discretion: the more one chooses to engage in buffering behaviour, the less choice one\n",
      "may have about personal levels of effort, because satisfying external constituencies will\n",
      "demand one’s time and energy. consistent with this, the archival interview comments\n",
      "tended to frame buffering activities as demanding ones in which there was little choice\n",
      "but to do the difficult work required once one committed to them.\n",
      "\n",
      "in the data reported here, even stronger evidence of potential antagonism between\n",
      "domains was suggested by goal discretion and civic virtue discretion. goal discretion was\n",
      "mentioned more often by those informants who did not have an organizational superior\n",
      "\n",
      "figure 1. circumplex structure of the domains of discretion in organizations\n",
      "\n",
      "typology of discretion 161\n",
      "\n",
      "© 2011 the author\n",
      "journal of management studies © 2011 blackwell publishing ltd and\n",
      "\n",
      "society for the advancement of management studies\n",
      "\n",
      "\n",
      "\n",
      "(e.g. ceo, business owner). moreover, when those with superiors did mention goal\n",
      "discretion, it was typically described in terms of issue selling rather than outright choice\n",
      "(ashford et al., 1998). for example, the air force general mentioned judging ‘hot spots’\n",
      "of potential trouble (bowe et al., 2000, p. 570). he described his role as identifying such\n",
      "hot spots to his superior, who would choose the appropriate response. the general was\n",
      "issue selling, in the sense that he directed his superior’s attention to particular areas, but\n",
      "final decisions were out of the general’s control. as such, the general had some goal\n",
      "discretion, but it was not as great as that of the food business owner, who described freely\n",
      "choosing which products to make and where to market them. overall, in the sample of\n",
      "interview informants, those with organizational superiors were less likely to mention goal\n",
      "discretion, and when they did, that discretion was usually of an issue-selling variety.\n",
      "\n",
      "in contrast, informants with organizational superiors mentioned twice as many\n",
      "instances of civic virtue discretion, compared to those without superiors. this pattern of\n",
      "apparent trade-off between civic virtue and goal discretion could imply that as an\n",
      "individual’s goal discretion increases, the meaningfulness of civic virtue behaviour wanes.\n",
      "this is easiest to see at the extreme. recall that civic virtue behaviours concern selfless\n",
      "actions that benefit the organization (mackenzie et al., 1991). imagine the owner of a\n",
      "sole proprietorship: the owner has maximal goal discretion, and that owner’s primary\n",
      "task is the success of the business, so any action taken for the good of the organization is\n",
      "likely to be construed as essential work, rather than any sort of selfless civic virtue. it may\n",
      "be that the civic virtue domain becomes increasingly less meaningful with greater goal\n",
      "discretion. consistent with this, previous research has shown that managers tend to\n",
      "report less ocb than do their subordinates (becton and field, 2009), and that managers\n",
      "often do not consider specific behaviours to be instances of ocb, even when subordi-\n",
      "nates do (podsakoff et al., 2000).\n",
      "\n",
      "other empirical evidence also is consistent with the circumplex structure in figure 1.\n",
      "for example, the three-factor model of ocb includes the dimensions of personal\n",
      "support, organizational support, and conscientious initiative (allen et al., 2004; borman\n",
      "et al., 2001), which correspond to the typology’s domains of effort, support, interpersonal\n",
      "style, and civic virtue discretion. based on the correlations in ocb work, one would\n",
      "expect these four domains to be more highly correlated with each other than with other\n",
      "domains in the typology. moreover, as discussed earlier, the ocb factor of personal\n",
      "support has to two sub-factors, which correspond to the support discretion and inter-\n",
      "personal style discretion domains of the typology (coleman and borman, 2000). the fact\n",
      "that the ocb model combines these two domains into one factor suggests that they are\n",
      "even more closely related to each other than to the two remaining factors, such that\n",
      "interpersonal style discretion will be more highly correlated (i.e. spatially closer) to\n",
      "support discretion, than to effort discretion, even though interpersonal style discretion\n",
      "and effort discretion are more closely related to each other than either is to staffing\n",
      "discretion.\n",
      "\n",
      "although this evidence is not conclusive, it is suggestive. the eight domains of\n",
      "discretion likely have a circumplex structure of interrelationships, one defined by relative\n",
      "focus on internal versus external and task versus relationship aspects of work. confirming\n",
      "this through empirical investigation will be an important step in defining the construct’s\n",
      "nature and advancing towards a mature theory of discretion in organizations.\n",
      "\n",
      "a. caza162\n",
      "\n",
      "© 2011 the author\n",
      "journal of management studies © 2011 blackwell publishing ltd and\n",
      "society for the advancement of management studies\n",
      "\n",
      "\n",
      "\n",
      "discretion profiles. combining the previous two propositions, of comprehensiveness and of\n",
      "circumplexity, leads to the third: work can be described by specific patterns of discretion\n",
      "in the eight domains. in particular, because of the close relationship between discretion\n",
      "and formal power (langbein, 2000; olk and elvira, 2001; welbourne and trevor,\n",
      "2000), different hierarchical positions are likely to show reliable patterns of discretion. in\n",
      "other words, one’s discretion across domains is likely to follow a consistent pattern based\n",
      "on one’s hierarchical power; different types of work will have particular clusters of\n",
      "relatively high and low discretion in each domain.\n",
      "\n",
      "this proposition of discretion profiles is consistent with previous observations (kotter,\n",
      "2001). it is implicit in the tendency to focus on particular positions and hierarchical levels\n",
      "in research, such as using only line staff or senior management (e.g. hambrick and\n",
      "abrahamson, 1995; parker and collins, 2008; tepper et al., 2001). the logic of treating\n",
      "all staff in one position as comparable to each other, but distinct from other positions,\n",
      "accords with the assumption that each position has a defining pattern of discretion across\n",
      "the eight domains. for example, the discretion of supervisors is probably more like that\n",
      "of other supervisors than it is like that of senior executives.\n",
      "\n",
      "some support is provided by studies that explicitly compare across hierarchical levels.\n",
      "for example, a study of job crafting (i.e. intentionally redefining the scope of one’s work;\n",
      "wrzesniewski and dutton, 2001) found that the nature of job crafting differed by\n",
      "hierarchical level (berg et al., 2010). higher-level employees reported that the primary\n",
      "concerns in their job crafting were addressing their own expectations and priorities,\n",
      "whereas lower-level employees had to contend with others’ expectations of what they\n",
      "should do. for example, while higher-level employees described having freedom in\n",
      "specifying the details of general objectives and in choosing the means used to reach them,\n",
      "lower-level employees often were assigned specific tasks and given prescribed ways in\n",
      "which to execute them. using the terms of the typology developed here, middle man-\n",
      "agers reported moderate goal discretion and high technical discretion, whereas line\n",
      "employees perceived little discretion in both domains (berg et al., 2010).\n",
      "\n",
      "based on such findings, it is proposed that there are four fundamental patterns of\n",
      "discretion in organizations (see table ii). staff discretion is distinguished by high levels of\n",
      "discretion over effort, support, interpersonal style, and civic virtue, combined with low\n",
      "\n",
      "table ii. discretion profiles\n",
      "\n",
      "domain staff\n",
      "discretion\n",
      "\n",
      "supervisory\n",
      "discretion\n",
      "\n",
      "managerial\n",
      "discretion\n",
      "\n",
      "executive\n",
      "discretion\n",
      "\n",
      "(1) effort discretion high moderate moderate low\n",
      "(2) goal discretion low low moderate high\n",
      "(3) technical discretion low moderate high high\n",
      "(4) staffing discretion low moderate high high\n",
      "(5) support discretion high moderate high high\n",
      "(6) interpersonal style discretion high moderate low low\n",
      "(7) civic virtue discretion high high moderate low\n",
      "(8) buffering discretion low moderate moderate high\n",
      "\n",
      "typology of discretion 163\n",
      "\n",
      "© 2011 the author\n",
      "journal of management studies © 2011 blackwell publishing ltd and\n",
      "\n",
      "society for the advancement of management studies\n",
      "\n",
      "\n",
      "\n",
      "discretion in the other four domains. typical staff members have some discretion over\n",
      "their contextual, extra-role behaviour, but relatively little choice in their task duties. in\n",
      "contrast, while supervisory discretion provides somewhat more control over technical\n",
      "choices, staffing, and buffering behaviour, those gains come at the expense of less\n",
      "freedom about choosing levels of effort, support, and interpersonal style. for example,\n",
      "the sorts of marginally rude behaviour that a curmudgeonly staff member might get away\n",
      "with would be considered inappropriate and potentially discriminatory from a supervi-\n",
      "sor. managerial discretion is predicted to provide some discretion in most domains, as\n",
      "managers generally have more freedom in organizations (whitley, 1989), whereas execu-\n",
      "tive discretion provides the greatest choice in operational areas, though with consequently\n",
      "less freedom in effort, civic virtue, and interpersonal style.\n",
      "\n",
      "an important note about the managerial and executive discretion profiles is that they\n",
      "have relatively high levels of staffing discretion simultaneously with high levels support\n",
      "discretion. in the circumplex model, these two dimensions correspond to the bottom-\n",
      "right and top-left quadrants, respectively, and are therefore predicted to be antagonistic.\n",
      "the circumplex model suggests that increased discretion in one domain would under-\n",
      "mine discretion in the other. while this apparent conflict may prove to reflect a defi-\n",
      "ciency in either the circumplex model or the discretion profiles, it is more likely indicative\n",
      "of one of the tensions of holding a senior office (cameron, 1986; goffee and jones, 2005).\n",
      "for example, research has shown that the best organizational leaders are required to\n",
      "engage in apparently opposing behaviours; they must overcome the paradox of simul-\n",
      "taneously achieving opposites (denison et al., 1995; quinn, 1988). in the same way,\n",
      "so-called full range leadership requires individuals to be simultaneously transformational\n",
      "and transactional with followers, despite the inherent antagonism in those two styles\n",
      "(bass and avolio, 1997; toor and ofori, 2009). therefore, the apparent contradiction in\n",
      "the managerial and executive profiles is likely a reflection of the paradox involved in\n",
      "leadership (e.g. jansen et al., 2008).\n",
      "\n",
      "the discretion profiles offer numerous theoretical opportunities. for one, they could\n",
      "provide a rigorous way to classify and compare different workers and jobs. if two\n",
      "individuals have similar discretion in various domains, then their work situations are\n",
      "similar at a fundamental level. it may make more sense to compare individuals based\n",
      "on their domains of high and low discretion, rather than using more traditional job\n",
      "classifications (e.g. list of duties, number of subordinates, number of levels from the\n",
      "top). for example, if two workers in different industries with different work content\n",
      "and job titles both have patterns of discretion comparable to that of the supervisory\n",
      "discretion profile, they may still be usefully compared on that basis. their discretion\n",
      "profiles provide a way to describe their work that reveals similarities that might oth-\n",
      "erwise be missed in the details of their jobs. discretion profiles might also facilitate\n",
      "better descriptions of research efforts. for example, ocb research, which is currently\n",
      "experiencing internal disagreement about the definition of citizenship (becton and\n",
      "field, 2009; mcallister et al., 2007; snape and redman, 2010), might usefully be\n",
      "reframed as studying the antecedents and consequences of staff discretion at work.\n",
      "defined in this way, the ocb project would avoid many problems it is currently\n",
      "facing, such as the differences in ocb perception by hierarchical level (huang et al.,\n",
      "2010; podsakoff et al., 2000).\n",
      "\n",
      "a. caza164\n",
      "\n",
      "© 2011 the author\n",
      "journal of management studies © 2011 blackwell publishing ltd and\n",
      "society for the advancement of management studies\n",
      "\n",
      "\n",
      "\n",
      "conclusion\n",
      "\n",
      "discretion is a fundamental element of life in organizations. it is a universal human need,\n",
      "and an inevitable consequence of interdependent activity. as such, it is not surprising\n",
      "that discretion has been shown to influence most of the key outcomes with which\n",
      "organization studies are concerned. however, despite its ubiquity and importance, there\n",
      "is as yet no mature theory of discretion in organizations. this paper offers a first step\n",
      "towards such a theory, by integrating previous findings to reveal that discretion encom-\n",
      "passes eight distinct domains. delineating this typology can contribute to better inter-\n",
      "pretation of previous findings, as well as greater precision in future studies. it also\n",
      "highlights the circumplex structure of discretion in organizations, and the fundamental\n",
      "discretion profiles by which work may be described. in these ways, the typology devel-\n",
      "oped here contributes towards a mature theory of discretion. it begins the work of\n",
      "reaching construct clarity, which is the foundation of strong theory and insight.\n",
      "\n",
      "--**************************************-\n",
      "-**************************************--\n",
      "-**************************************--\n"
     ]
    }
   ],
   "source": [
    "# testing it works\n",
    "ref_doc = 20\n",
    "print(pdf_remove_step4[ref_doc])\n",
    "print('--**************************************-')\n",
    "print('-**************************************--')\n",
    "print('-**************************************--')\n",
    "# print(pdf_remove_step4[ref_doc])"
   ]
  },
  {
   "cell_type": "code",
   "execution_count": 46,
   "metadata": {},
   "outputs": [],
   "source": [
    "# remove journal title here?\n",
    "pdf_p = [re.sub('journal of management', '', t) for t in pdf_remove_step4]\n",
    "pdf_p = [re.sub('et al.', '', t) for t in pdf_p]\n",
    "pdf_p = [re.sub('e.g.', '', t) for t in pdf_p] \n",
    "pdf_p = [re.sub('e-mail:', '', t) for t in pdf_p] \n",
    "# CHECK ORDER OF OPERATIONS BELOW:\n",
    "#remove email address <-- IMPROVED, BUT E-MAIL SEEMS TO BE BROKEN UP, BUT STILL PRESENT IN DOCUMENTS AT TIMES         \n",
    "pdf_p = [re.sub(r'[\\w\\.\\-]+@[\\w\\.\\-]+\\.(?:com|net|org|live|edu)', \"\", t) for t in pdf_p]"
   ]
  },
  {
   "cell_type": "code",
   "execution_count": 47,
   "metadata": {},
   "outputs": [],
   "source": [
    "pdf_p = [re.sub( r'https?://[^\\s<>\"]+|www\\.[^\\s<>\"]+', \"\", t) for t in pdf_p]\n",
    "pdf_p = [re.sub(\"[\\S\\.\\-\\?\\!\\=]+\\.(net|com|org|info|edu|gov|uk|de|ca|jp|fr|au|us|ru|ch|it|nel|se|no|es|mil)(/[\\S\\.\\-\\?\\!\\=]*)?\\s?\", \" \", t) for t in pdf_p]"
   ]
  },
  {
   "cell_type": "code",
   "execution_count": 48,
   "metadata": {},
   "outputs": [
    {
     "data": {
      "text/plain": [
       "'\\n\\n\\n\\n\\n\\n\\n\\n\\n\\n\\n\\n\\n\\n\\n\\n\\n\\n\\n\\n\\n\\n\\n\\n\\n\\n\\n\\n\\n\\n\\n\\n\\n\\n\\n\\n\\n\\n\\n\\n\\n\\n\\n\\n\\n\\nno job name\\n\\n\\ntypology of the t domains of discretion\\nin organizationsjoms_982 144..177\\n\\narran caza\\nwake forest university schools of business\\n\\nabstract discretion (an individual’s latitude of action) is a fundamental element of work,\\nwith extensive individual and organizational consequences. research has demonstrated the\\nimportance of discretion, but there is not yet a mature theory of discretion in organizations.\\ntowards that end, this paper derives a multidimensional typology of discretion in\\norganizations, integrating previous empirical results and archival interview data. it is found\\nthat discretion comprises t distinct domains. this t-part typology casts new light on\\nprevious findings and contributes towards a mature theory of discretion. this article discusses\\nthe circumplex structure of the t domains and their potential utility in characterizing\\nfundamental aspects of work.\\n\\nkeywords: autonomy, choice, discretion, typology\\n\\nintroduction\\n\\ndiscretion, defined as latitude of action or control over how one does one’s work, is a\\ncentral aspect of organizational behaviour, and one with extensive and varied conse-\\nquences ( dickson, 1985; littler , 2003; logan and ganster, 2007). control has\\nbeen identified as a universal human need; all people desire some feelings of control (deci\\nand ryan, 2000). moreover, discretion is inevitable in organizations because it arises in\\nevery ambiguous situation (hambrick and finkelstein, 1987), and these situations are\\nfundamental determinants of organizational structure (march and simon, 1958). dis-\\ncretion influences a vast range of outcomes, including capital investment (dimov and\\ngedajlovic, 2010), compensation (finkelstein and boyd, 1998), trust (perrone ,\\n2003), satisfaction (dwyer and ganster, 1991), motivation (spector, 1986), physical\\nhealth (karasek, 1990), and performance (caza, forthcoming; kuvaas, 2008). in fact,\\none review suggested that discretion was one of the most studied work characteristics in\\ntraditional organization studies (morgeson and humphrey, 2006). there is also exten-\\nsive discussion of discretion in related managerial, organizational, and behavioural\\n\\naddress for reprints: arran caza, wake forest university schools of business, po box 7285, winston-salem,\\nnc 27109, usa ().\\n\\n© 2011 the author\\n studies © 2011 blackwell publishing ltd and society for the advancement of management\\nstudies. published by blackwell publishing, 9600 garsington road, oxford, ox4 2dq, uk and 350 main street,\\nmalden, ma 02148, usa.\\n\\n studies 49:1 january 2012\\ndoi: 10.1111/j.1467-6486.2010.00982.x\\n\\n\\n\\ndisciplines ( hawkins, 1995; hodder , 2006; polanyi, 1969; vaughn and otenyo,\\n2007; vinzant and crothers, 1998).\\n\\nhowever, despite its obvious importance, there is as yet no theory of discretion per se in\\norganizations. one reason for this lack of a coherent theory is that most studies have used\\ndiscretion as a means to understand some other phenomenon, such as executive domi-\\nnance (haleblian and finkelstein, 1993) or role-breadth (morgeson , 2005), rather\\nthan studying discretion itself. in addition, those studies that were primarily concerned\\nwith discretion have remained isolated from one another. this has produced a number of\\nmodels about particular aspects of discretion, but no overarching theory to integrate them.\\nfor example, previous research had examined the consequences of ‘general control’\\n(dwyer and ganster, 1991) and of ‘decision authority’ (karasek , 1985), but it was not\\nrecognized until later that these two constructs had significant overlap (smith , 1997).\\nas a result, one is left to wonder how the findings about general control relate to those of\\ndecision authority, and vice versa. in the absence of a comprehensive model to integrate\\nindividual studies, there are no clear answers to such questions.\\n\\nthe example of general control and decision authority suggests that the current\\nunderstanding of discretion in organizations is what sonpar and golden-biddle (2008)\\nrefer to as ‘adolescent’. adolescent theories are those which have not yet been fully\\ndeveloped and tested. bacharach (1989) provided criteria for evaluating the maturity of\\norganizational theories, among the most important of which was clearly defining the\\ncentral construct. unless discretion is precisely defined, with sufficient specificity for\\neffective predictions and measures, further theoretical development will be limited\\n(hambrick and abrahamson, 1995; mcallister , 2007; smith , 1997). there-\\nfore, this paper synthesizes previous findings to develop a complete typology of the\\ndomains of discretion in organizations.\\n\\ndelineating the domain structure of discretion in organizations helps to move the theory\\npast adolescence towards maturity. in bacharach’s (1989) terms, it increases the clarity\\nand robustness of this central construct. greater clarity improves the interpretation of\\nprevious findings and can contribute to better predictions in future work. for example,\\ndespite a strong theoretical rationale (hambrick and finkelstein, 1987), investigations\\nhave repeatedly failed to find the predicted relationship between demand instability and\\nexecutive discretion (finkelstein and boyd, 1998; hambrick and abrahamson, 1995).\\nhowever, as discussed later in this paper, this is likely an artefact of imprecision in defining\\ndiscretion, rather than a failure of theory. this is revealed by using the typology of\\ndiscretion developed here to reconsider the previous studies’ findings, and suggests that the\\napparent predictive failure could have been prevented if the researchers had incorporated\\nthe multidimensional nature of discretion in their design.\\n\\nthe typology developed here also contributes directly towards the development of a\\nmature theory of discretion in organizations. while a typology does not constitute a\\ntheory in itself (sutton and staw, 1995), it is an essential first step towards one\\n(bacharach, 1989). precisely defining the domains of discretion has important implica-\\ntions. specifically, it was found that there are t distinct domains of discretion in\\norganizations, and that these t have a circumplex structure of mutual support and\\nantagonism. moreover, the typology can be used to develop discretion profiles that\\nfacilitate a fundamental analysis of different types of work. these and other theoretical\\n\\ntypology of discretion 145\\n\\n© 2011 the author\\n studies © 2011 blackwell publishing ltd and\\n\\nsociety for the advancement of management studies\\n\\n\\n\\nimplications arising from the typology are consistent with previous emphasis on the\\nimportance of construct clarity (bacharach, 1989; sonpar and golden-biddle, 2008).\\n\\nthis paper begins by defining thneral construct of discretion. existing empirical\\nmeasures and archival interview data are then used to derive the t-domain typology.\\ntheoretical implications are then explored, showing the typology’s power to contribute\\nto the empirical study of discretion and the development of a mature theory.\\n\\ndiscretion in organizations\\n\\nin this paper, the term discretion is used in the tradition of hambrick and finkelstein’s\\n(1987) development of work by march and simon (1958) and thompson (1967). dis-\\ncretion refers to an individual’s latitude of action in doing their work. it reflects the range\\nof options available to an individual when taking consequential action. as such, discre-\\ntion is distinct from choice and from action. which available option an individual\\nchooses and the effects of that choice are consequent to discretion, not part of it.\\ndiscretion is defined by the available possibilities from which an action choice can be\\nmade.\\n\\nas a concrete example, consider a manager who is required to increase sales by 20 per\\ncent in one year. the manager presumably has little choice about the target level of sales,\\nwhich is a goal given by organizational superiors. however, in the absence of other\\nstipulations, the manager is free to choose the method for increasing sales ( a sales\\npromotion, increased productivity, working longer hours). in this example, the manager\\nhas discretion over the method of achieving thal, but not in the selection of thal\\nitself.\\n\\nthis hypothetical case raises an important issue: the domains of discretion. implicit in\\nthe example above is a distinction between discretion over methods and discretion over\\ngoals. mornerally, the example implies that there are distinct domains in which one\\nmay have varying levels of discretion. this assumption of domain variance is consistent\\nwith the foundational analyses of discretion in organizations, which explicitly recognized\\nthat an individual may have more or less discretion in different aspects of their work\\n(hambrick and finkelstein, 1987; march and simon, 1958; thompson, 1967).\\n\\nthal of this paper is to delineate the domains in which discretion may vary.\\nprevious work has identified many potential domains, but no effort has been made to\\nsynthesize these results. this contrasts with mature theories, where there is general\\nagreement about the relevant domains, such as in transformational leadership (bass and\\navolio, 1997) or personality ( john and srivastava, 2001). in practical terms, uncertainty\\nabout the dimensions of discretion means that the construct has not yet been precisely\\ndefined. since construct clarity is the essential foundation for theory (bacharach, 1989),\\nthe current ambiguity is an impediment to theoretical progress. without a clear domain\\nstructure for discretion, it is difficult to compare studies or generalize findings; research-\\ners claiming to study the same phenomenon may be using incompatible understandings.\\nat present, there seems to be a consensus that discretion varies by domain, but no\\nagreement on what those domains are (hambrick and abrahamson, 1995; mcallister\\n, 2007; smith , 1997). in response, this paper synthesizes the many domains of\\ndiscretion that have previously been identified into a single, multidimensional typology.\\n\\na. caza146\\n\\n© 2011 the author\\n studies © 2011 blackwell publishing ltd and\\nsociety for the advancement of management studies\\n\\n\\n\\nthe focus here is entirely on discretion in organizations, and more specifically on\\nempirical evidence concerning discretion’s domains. related constructs are not\\naddressed. for example, while the antecedents and consequences of discretion are\\nobviously important considerations, they are beyond the scope of this paper. as\\ndescribed above, even the most proximal of such relationships cannot be examined in\\nany consistent, theoretically sound fashion without a clear definition of the constructs\\ninvolved. hence, the first step must be to define the multidimensional nature of discre-\\ntion itself. this paper contributes towards such a definition.\\n\\nthe most common empirical definition of discretion has been as a single domain\\nencompassing all aspects of an individual’s work ( finkelstein and boyd, 1998;\\nhackman and lawler, 1971; karasek, 1979; morgeson , 2005; spreitzer, 1995).\\nthis approach has had success, with researchers detecting anticipated relationships\\namong various antecedents and consequences of discretion. however, there has been\\ncriticism of this approach, and evidence suggests that the sub-domains of discretion have\\nunique relationships with some antecedents and consequences, and therefore should be\\ndistinguished (fried, 1991). making distinctions among one’s discretion in different\\ndomains of work is also consistent with theoretical treatments of the construct, which\\ntreat discretion in organizations as a multi-dimensional phenomenon (hambrick and\\nfinkelstein, 1987; march and simon, 1958; thompson, 1967).\\n\\nrelated to this, others have noted that research on discretion has devoted more\\nattention to substantive validity than to construct validity (podsakoff , 2000; wilson\\nand caza, 2008). this means that more is known about the consequences of discretion\\nthan is known about the nature of discretion itself (schwab, 1980). this creates a\\npotentially unstable foundation for theorizing (bacharach, 1989). as such, the crucial\\nfirst step in developing a mature theory of discretion in organizations is to clearly define\\nits nature.\\n\\nwhile prior research identified a number of potential domains of discretion, these\\ndimensions had not been previously integrated. therefore, this paper used existing\\n\\na. caza156\\n\\n© 2011 the author\\n studies © 2011 blackwell publishing ltd and\\nsociety for the advancement of management studies\\n\\n\\n\\nempirical measures of discretion in organizations and a sample of archival interview data\\nto develop an integrative typology. the results suggest that individuals think of their work\\nin terms of t distinct domains in which they may have varying levels of discretion.\\nthese domains concern their discretion over effort, goal, technical, staffing, support,\\ninterpersonal style, civic virtue, and buffering issues. each domain represents a distinct\\nsphere for the exercise of discretion in organizations.\\n\\nthe typology goes beyond previous efforts in being multidimensional and broadly\\napplicable. rather than focusing on a specific hierarchical level ( hambrick and\\nfinkelstein, 1987; van mierlo , 2007) or type of discretion ( langfred, 2000;\\nschnake and dumler, 2003), the typology developed here encompasses findings from\\nmultiple levels and types so as to apply to them all. as such, the typology extends and\\ncomplements previous efforts by not only clarifying past and future empirical findings,\\nbut also by advancing the theory of discretion in organizations towards maturity. both of\\nthese contributions are discussed below.\\n\\ncontributions to empirical study\\n\\nclarifying previous findings. by providing an integrated view of the domains in which\\ndiscretion varies, the typology described here provides new insight into previous findings.\\nfor example, in contrast to earlier ocb models involving five ( organ, 1988;\\npodsakoff , 1990) or more ( farh , 1997) factors, there is a recent trend\\ntowards using only three: conscientious initiative, organizational support, and personal\\nsupport (allen , 2004; becton and field, 2009; coleman and borman, 2000). while\\nthe labels are somewhat different, two of these three factors correspond to domains in the\\ntypology: conscientious initiative describes a domain like that of effort discretion, and\\norganizational support is comparable to the typology’s domain of civic virtue discretion.\\nin contrast, the third ocb factor, personal support, is described as follows (becton and\\nfield, 2009, p. 1658):\\n\\nhelping others by offering suggestions, teaching them useful knowl or skills,\\ndirectly performing some of their tasks, and providing emotional support for their\\npersonal problems. cooperating with others by accepting suggestions, informing them\\nof events they should know about, putting team objectives ahead of personal interests.\\nshowing consideration, courtesy, and tact in relation to others as well as motivating\\nand showing confidence in them.\\n\\nfrom the perspective of the typology developed here, this description blurs the bound-\\naries between the support and interpersonal style domains of discretion, apparently\\nconflating the two.\\n\\nfailing to distinguish between these two domains is problematic. for example, a\\ncross-cultural study using the definition above predicted that american and chinese\\nworkers would report different levels of personal support (becton and field, 2009). since\\nchina is a more collectivistic culture, the researchers predicted that chinese workers\\nwould be less competitive and thus more supportive with peers. however, their data did\\nnot support this prediction.\\n\\ntypology of discretion 157\\n\\n© 2011 the author\\n studies © 2011 blackwell publishing ltd and\\n\\nsociety for the advancement of management studies\\n\\n\\n\\ngiven the insight granted by the typology developed here, this failure may not be\\nsurprising. the authors’ operationalization of personal support combined elements of\\nthe support discretion and interpersonal style discretion domains and treated them as\\none factor (becton and field, 2009). this is theoretically imprecise. while america’s\\nindividualism may well make workers less helpful towards peers, it is not clear why it\\nshould also make them less social or interpersonally polite. there is no obvious reason\\nwhy collectivism should influence interpersonal style choices, relative to local norms.\\ncollectivism is a matter of self versus other priorities, not social style or acumen (hofst-\\nede, 1980). as a result, the study mixed two distinct domains together, each with unique\\nrelationships to the relevant outcome, and this mixing could explain the failure of their\\nhypothesis. consistent with this interpretation, the original work from which the three-\\nfactor ocb structure derives (coleman and borman, 2000) makes a distinction between\\ntwo sub-factors of personal support: helping others (i.e. support discretion), and how one\\ntreats others (i.e. interpersonal style discretion). thus, in light of the typology derived\\nhere, it seems unsurprising that the personal support hypothesis was not supported.\\n\\nsimilarly, consider the failure of hambrick and finkelstein’s (1987) model to predict\\nsome of the antecedents of executive discretion. specifically, despite repeated efforts,\\nresearchers have been unable to show the predicted relationship between demand\\ninstability and executive discretion (finkelstein and boyd, 1998; hambrick and abra-\\nhamson, 1995). examining these findings with the typology of discretion’s domains\\nreveals that the observed non-relation may be an artefact of measurement, rather than\\na failure of theory. the hypothesized effect of demand instability is two-fold: it will\\nreduce the clarity of means–ends linkages and it will increase the complexity of conduct-\\ning routine operations, creating greater demands on attention and information process-\\ning capacity (finkelstein and boyd, 1998; hambrick and abrahamson, 1995).\\n\\nthe first effect of unclear means–ends linkages suggests that technical and staffing\\ndiscretion will be increased by demand instability; executives could justify a range of\\ndifferent production capacities, staffing levels, and pricing schedules to reach their stated\\nends. in contrast, if increased complexity and cognitive load had any effect on discretion,\\nit would be to reduce effort discretion, because overwhelmed executives will have fewer\\nresources to devote to their work, and thus be less able to pursue certain options. given\\nthis, it is not surprising that demand instability showed no consistent link with measures\\nof discretion that failed to distinguish between domains. if one assumes that demand\\ninstability increases technical and staffing discretion, while having either a negative or a\\nnull effect on effort, goal, support, style, civic virtue, and buffering discretion, one would\\nexpect a null relationship with a discretion measure that combines these domains. the\\ntypology thus allows a reinterpretation of the findings, and suggests that the theoretical\\nprediction may well be accurate; it has yet to be tested precisely.\\n\\nas both of these examples show, having a comprehensive typology of the domains of\\ndiscretion in organizations provides new insight into previous findings. prior work can be\\nre-examined with greater theoretical precision, and new conclusions drawn. this under-\\nscores other discussion of the importance of clearly defining a construct (bacharach,\\n1989; hambrick and abrahamson, 1995; mcallister , 2007; smith , 1997).\\nthe typology will allow more to be learned from research that has already been\\nconducted.\\n\\na. caza158\\n\\n© 2011 the author\\n studies © 2011 blackwell publishing ltd and\\nsociety for the advancement of management studies\\n\\n\\n\\nimproving future investigations. the typology of discretion also can facilitate improved\\nresearch efforts in the future. a clear understanding of the domain structure of discretion\\nwill enhance the accuracy with which hypotheses are developed. for example, the\\ntypology suggests that the three-factor model of ocb may be more effective with four\\nfactors, allowing for the distinction between the support and interpersonal style elements\\nthat are currently combined in that model’s personal support factor. re-examination\\nalong the lines of becton and field (2009) could be made more precise in predicting that\\ncultural collectivism will influence discretionary support behaviour, but not discretionary\\nchoices about interpersonal style. likewise, investigations of executive discretion may be\\nmore fruitful if they recognize that discretion varies independently in the different\\ndomains. for example, demand instability may not increase effort discretion, but it likely\\nwill enhance technical discretion.\\n\\na detailed understanding of discretion’s domains contributes to precision, and thus to\\nbetter empirical study. evidence consistent with this reasoning has begun to em in\\nrecent investigations of karasek’s (1979) job demands–control ( jdc) model. the basic\\npredictions of the jdc model are for main effects on strain from the level of demands and\\nthe level of control in a job, plus an interaction between the two, in which greater control\\n(i.e. discretion) buffers the strain of job demands. while decades of research have\\nconsistently demonstrated the two main effects, support for the interaction has been weak\\nand inconsistent (van der doef and maes, 1999). however, preliminary evidence sug-\\ngests that the failure to find the proposed interaction results from the fact that demands\\nand control occur in distinct domains (hausser , 2010). that is, unless the control is\\nin the same domain as the relevant job demand, there will be limited buffering effects.\\nthis suggests that the buffering interaction of the jdc model does exist, but will only\\nreliably be detected if research designs incorporate the t domains in which discretion\\nvaries. mornerally, the typology will allow future research to define discretion with\\na precision that will enhance the quality of research designs and results.\\n\\ncontributions towards a mature theory of discretion\\n\\nthe typology suggests directions for the development of a general theory of discretion in\\norganizations. these directions include explicating the antecedents and consequences of\\ndiscretion in each domain, as there are likely to be important differences among the\\nfactors that influence the recognition and use of discretion in particular domains (\\nhuang , 2010; mccarter and caza, 2009; pieterse , 2010), as well as how\\nindividuals respond to the exercise of discretion in each domain ( bryant , 2010;\\nhaar and spell, 2009; yukl and fu, 1999). for example, one would expect that most\\norganizational actors report relatively high agreement about an individual’s level of goal\\ndiscretion, since decisions about outputs and performance evaluations tend to bv-\\nerned by rules and established norms (carpenter and golden, 1997). in contrast, there\\nmay be significant variance in recognition and agreement about one’s civic virtue\\ndiscretion, as this is not often explicitly discussed (pond , 1997).\\n\\nhowever, even before investigating these substantive relationships, the typology devel-\\noped here suggests some fundamental issues to be addressed. theoretical development\\nalong these lines will move the theory of discretion in organizations towards maturity.\\n\\ntypology of discretion 159\\n\\n© 2011 the author\\n studies © 2011 blackwell publishing ltd and\\n\\nsociety for the advancement of management studies\\n\\n\\n\\nthree in particular are discussed below: the comprehensiveness of the typology, the\\nrelationships among domains, and the developent of discretion profiles. for each of\\nthese, specific theoretical propositions are offered.\\n\\ncomprehensiveness of the typology. it is asserted here that the t-domain typology of\\ndiscretion in organizations is comprehensive. that is, it is proposed that the typology\\ndefines all of the domains in which individuals think about their discretion at work, and\\nthat it is inclusive of all types and levels of work. however, this claim can only be asserted,\\nnot proved, due to limitations in the present paper. one such limitation is the exclusive\\nuse of empirical measures of discretion. while this approach offered the advantage of\\nlimiting the typology to domains that had been demonstrated as meaningful to organi-\\nzational members, it also may have limited comprehensiveness. it is possible that there\\nis an important domain of discretion that has simply not been investigated by previous\\nresearch. as a step towards addressing this issue, the current paper used archival inter-\\nview data, and this did reveal a domain that had previously been neglected (i.e. buffering\\ndiscretion). since the interview data were from a convenience sample of volunteers, their\\ncomprehensiveness is suspect. as such, the claim that the typology developed here is\\ncomprehensive and universal remains to be confirmed. a crucial next step will be testing\\nthe typology’s comprehensiveness.\\n\\ncircumplex structure of domains. the second theoretical assertion arising from the typology\\nis that the t domains of discretion have a circumplex structure of interrelations. a\\ncircumplex model derives from the statistical techniques of multidimensional scaling\\n(kruskal and wish, 1978), and uses a spatial analogy to represent relationships of varying\\nstrh in a circular space that is defined by two underlying dimensions (denison ,\\n1995; levy, 1976). circumplex models have been used in a range of behavioural and\\norganizational studies, as a way to parsimoniously represent relatively complex links\\namong multiple domains that are simultaneously distinct and connected ( lawrence\\n, 2009; olson, 2009; traupman , 2009). it is asserted here that the t\\ndomains of discretion in organizations have a circumplex structure defined by the\\ndimensions of internal versus external focus and task versus relational focus (see\\nfigure 1). specifically, the t domains form four pairs of relatively antagonistic oppo-\\nsites, as defined by the two underlying dimensions.\\n\\nthe internal–external dimension concerns individuals’ relative focus on their internal\\nenvironment ( areas of formal authority and specific job duties) or the external\\nenvironment ( the organization beyond their department or the industry of their\\norganization; cameron and quinn, 2006; quinn and rohrbaugh, 1983). this dimen-\\nsion is epitomized by the distinction between the internally focused effort discretion\\n(deciding how much personal en to expend) and buffering discretion (focusing on the\\ndemands of external stakeholders). the task-relational dimension refers to the distinction\\nbetween focusing primarily on task-related aspects of work versus the social, contextual\\nenvironment in which work occurs (fiedler, 1971; motowidlo and van scotter, 1994;\\nschein, 1980). the extremes of this dimension are shown in technical discretion, with its\\nfocus on the details of how a task is executed, and in interpersonal style discretion, which\\nconcerns choices about the approach one adopts in dealing with others.\\n\\na. caza160\\n\\n© 2011 the author\\n studies © 2011 blackwell publishing ltd and\\nsociety for the advancement of management studies\\n\\n\\n\\nalthough this circumplex model has not been empirically tested, it is consistent with\\navailable evidence. for one, it seems logical that some of the t domains are more\\nclosely related than others. for example, the types of civic virtue behaviours that one\\nchooses to ge in are likely to reflect and influence one’s choices about interpersonal\\nstyle and the treatment of others ( the hr director opting to spend the night at the\\nhospital with an injured worker). as well, civic virtue choices about promoting the\\norganization to outsiders are different from buffering, because civic virtue is not formally\\npart of one’s work tasks, whereas buffering may be; the two are nonetheless closely\\nrelated activities. similarly, thals that one sets using goal discretion will be tightly\\nlinked to issues of technical discretion: goals may imply methods or specific technical\\noptions may promote particular goals (cohen , 1972; hambrick , 2004). as\\nsuch, although the t domains are conceptually distinct, one would expect larger\\ncorrelations between some pairs of domains than others.\\n\\nthe corollary is that some domains may be relatively antagonistic, with greater\\ndiscretion in one domain implying less in another. for example, the interpersonal style\\nand technical domains of discretion reflect the traditional split between task and rela-\\ntionship focus, and evidence has shown that individuals tend to pursue one of these\\ndomains at the expense of the other (fiedler, 1971; motowidlo and van scotter, 1994).\\nas well, one might imagine an inherent tension between effort discretion and buffering\\ndiscretion: the more one chooses to ge in buffering behaviour, the less choice one\\nmay have about personal levels of effort, because satisfying external constituencies will\\ndemand one’s time and en. consistent with this, the archival interview comments\\ntended to frame buffering activities as demanding ones in which there was little choice\\nbut to do the difficult work required once one committed to them.\\n\\nin the data reported here, even stronger evidence of potential antagonism between\\ndomains was suggested by goal discretion and civic virtue discretion. goal discretion was\\nmentioned more often by those informants who did not have an organizational superior\\n\\nfigure 1. circumplex structure of the domains of discretion in organizations\\n\\ntypology of discretion 161\\n\\n© 2011 the author\\n studies © 2011 blackwell publishing ltd and\\n\\nsociety for the advancement of management studies\\n\\n\\n\\n( ceo, business owner). moreover, when those with superiors did mention goal\\ndiscretion, it was typically described in terms of issue selling rather than outright choice\\n(ashford , 1998). for example, the air forcneral mentioned judging ‘hot spots’\\nof potential trouble (bowe , 2000, p. 570). he described his role as identifying such\\nhot spots to his superior, who would choose the appropriate response. thneral was\\nissue selling, in the sense that he directed his superior’s attention to particular areas, but\\nfinal decisions were out of thneral’s control. as such, thneral had somal\\ndiscretion, but it was not as great as that of the food business owner, who described freely\\nchoosing which products to make and where to market them. overall, in the sample of\\ninterview informants, those with organizational superiors were less likely to mention goal\\ndiscretion, and when they did, that discretion was usually of an issue-selling variety.\\n\\nin contrast, informants with organizational superiors mentioned twice as many\\ninstances of civic virtue discretion, compared to those without superiors. this pattern of\\napparent trade-off between civic virtue and goal discretion could imply that as an\\nindividual’s goal discretion increases, the meaningfulness of civic virtue behaviour wanes.\\nthis is easiest to see at the extreme. recall that civic virtue behaviours concern selfless\\nactions that benefit the organization (mackenzie , 1991). imagine the owner of a\\nsole proprietorship: the owner has maximal goal discretion, and that owner’s primary\\ntask is the success of the business, so any action taken for thod of the organization is\\nlikely to be construed as essential work, rather than any sort of selfless civic virtue. it may\\nbe that the civic virtue domain becomes increasingly less meaningful with greater goal\\ndiscretion. consistent with this, previous research has shown that managers tend to\\nreport less ocb than do their subordinates (becton and field, 2009), and that managers\\noften do not consider specific behaviours to be instances of ocb, even when subordi-\\nnates do (podsakoff , 2000).\\n\\nother empirical evidence also is consistent with the circumplex structure in figure 1.\\nfor example, the three-factor model of ocb includes the dimensions of personal\\nsupport, organizational support, and conscientious initiative (allen , 2004; borman\\n, 2001), which correspond to the typology’s domains of effort, support, interpersonal\\nstyle, and civic virtue discretion. based on the correlations in ocb work, one would\\nexpect these four domains to be more highly correlated with each other than with other\\ndomains in the typology. moreover, as discussed earlier, the ocb factor of personal\\nsupport has to two sub-factors, which correspond to the support discretion and inter-\\npersonal style discretion domains of the typology (coleman and borman, 2000). the fact\\nthat the ocb model combines these two domains into one factor suggests that they are\\neven more closely related to each other than to the two remaining factors, such that\\ninterpersonal style discretion will be more highly correlated (i.e. spatially closer) to\\nsupport discretion, than to effort discretion, even though interpersonal style discretion\\nand effort discretion are more closely related to each other than either is to staffing\\ndiscretion.\\n\\nalthough this evidence is not conclusive, it is suggestive. the t domains of\\ndiscretion likely have a circumplex structure of interrelationships, one defined by relative\\nfocus on internal versus external and task versus relationship aspects of work. confirming\\nthis through empirical investigation will be an important step in defining the construct’s\\nnature and advancing towards a mature theory of discretion in organizations.\\n\\na. caza162\\n\\n© 2011 the author\\n studies © 2011 blackwell publishing ltd and\\nsociety for the advancement of management studies\\n\\n\\n\\ndiscretion profiles. combining the previous two propositions, of comprehensiveness and of\\ncircumplexity, leads to the third: work can be described by specific patterns of discretion\\nin the t domains. in particular, because of the close relationship between discretion\\nand formal power (langbein, 2000; olk and elvira, 2001; welbourne and trevor,\\n2000), different hierarchical positions are likely to show reliable patterns of discretion. in\\nother words, one’s discretion across domains is likely to follow a consistent pattern based\\non one’s hierarchical power; different types of work will have particular clusters of\\nrelatively high and low discretion in each domain.\\n\\nthis proposition of discretion profiles is consistent with previous observations (kotter,\\n2001). it is implicit in the tendency to focus on particular positions and hierarchical levels\\nin research, such as using only line staff or senior management ( hambrick and\\nabrahamson, 1995; parker and collins, 2008; tepper , 2001). the logic of treating\\nall staff in one position as comparable to each other, but distinct from other positions,\\naccords with the assumption that each position has a defining pattern of discretion across\\nthe t domains. for example, the discretion of supervisors is probably more like that\\nof other supervisors than it is like that of senior executives.\\n\\nsome support is provided by studies that explicitly compare across hierarchical levels.\\nfor example, a study of job crafting (i.e. intentionally redefining the scope of one’s work;\\nwrzesniewski and dutton, 2001) found that the nature of job crafting differed by\\nhierarchical level (b, 2010). higher-level employees reported that the primary\\nconcerns in their job crafting were addressing their own expectations and priorities,\\nwhereas lower-level employees had to contend with others’ expectations of what they\\nshould do. for example, while higher-level employees described having freedom in\\nspecifying the details of general objectives and in choosing the means used to reach them,\\nlower-level employees often were assigned specific tasks and given prescribed ways in\\nwhich to execute them. using the terms of the typology developed here, middle man-\\nagers reported moderatal discretion and high technical discretion, whereas line\\nemployees perceived little discretion in both domains (b, 2010).\\n\\nbased on such findings, it is proposed that there are four fundamental patterns of\\ndiscretion in organizations (see table ii). staff discretion is distinguished by high levels of\\ndiscretion over effort, support, interpersonal style, and civic virtue, combined with low\\n\\ntable ii. discretion profiles\\n\\ndomain staff\\ndiscretion\\n\\nsupervisory\\ndiscretion\\n\\nmanagerial\\ndiscretion\\n\\nexecutive\\ndiscretion\\n\\n(1) effort discretion high moderate moderate low\\n(2) goal discretion low low moderate high\\n(3) technical discretion low moderate high high\\n(4) staffing discretion low moderate high high\\n(5) support discretion high moderate high high\\n(6) interpersonal style discretion high moderate low low\\n(7) civic virtue discretion high high moderate low\\n(8) buffering discretion low moderate moderate high\\n\\ntypology of discretion 163\\n\\n© 2011 the author\\n studies © 2011 blackwell publishing ltd and\\n\\nsociety for the advancement of management studies\\n\\n\\n\\ndiscretion in the other four domains. typical staff members have some discretion over\\ntheir contextual, extra-role behaviour, but relatively little choice in their task duties. in\\ncontrast, while supervisory discretion provides somewhat more control over technical\\nchoices, staffing, and buffering behaviour, thosins come at the expense of less\\nfreedom about choosing levels of effort, support, and interpersonal style. for example,\\nthe sorts of marginally rude behaviour that a curmudgeonly staff member might get away\\nwith would be considered inappropriate and potentially discriminatory from a supervi-\\nsor. managerial discretion is predicted to provide some discretion in most domains, as\\nmanagers generally have more freedom in organizations (whitley, 1989), whereas execu-\\ntive discretion provides theatest choice in operational areas, though with consequently\\nless freedom in effort, civic virtue, and interpersonal style.\\n\\nan important note about the managerial and executive discretion profiles is that they\\nhave relatively high levels of staffing discretion simultaneously with high levels support\\ndiscretion. in the circumplex model, these two dimensions correspond to the bottom-\\nright and top-left quadrants, respectively, and are therefore predicted to be antagonistic.\\nthe circumplex model suggests that increased discretion in one domain would under-\\nmine discretion in the other. while this apparent conflict may prove to reflect a defi-\\nciency in either the circumplex model or the discretion profiles, it is more likely indicative\\nof one of the tensions of holding a senior office (cameron, 1986; goffee and jones, 2005).\\nfor example, research has shown that the best organizational leaders are required to\\nge in apparently opposing behaviours; they must overcome the paradox of simul-\\ntaneously achieving opposites (denison , 1995; quinn, 1988). in the same way,\\nso-called full range leadership requires individuals to be simultaneously transformational\\nand transactional with followers, despite the inherent antagonism in those two styles\\n(bass and avolio, 1997; toor and ofori, 2009). therefore, the apparent contradiction in\\nthe managerial and executive profiles is likely a reflection of the paradox involved in\\nleadership ( jansen , 2008).\\n\\nthe discretion profiles offer numerous theoretical opportunities. for one, they could\\nprovide a rigorous way to classify and compare different workers and jobs. if two\\nindividuals have similar discretion in various domains, then their work situations are\\nsimilar at a fundamental level. it may make more sense to compare individuals based\\non their domains of high and low discretion, rather than using more traditional job\\nclassifications ( list of duties, number of subordinates, number of levels from the\\ntop). for example, if two workers in different industries with different work content\\nand job titles both have patterns of discretion comparable to that of the supervisory\\ndiscretion profile, they may still be usefully compared on that basis. their discretion\\nprofiles provide a way to describe their work that reveals similarities that might oth-\\nerwise be missed in the details of their jobs. discretion profiles might also facilitate\\nbetter descriptions of research efforts. for example, ocb research, which is currently\\nexperiencing internal disagreement about the definition of citizenship (becton and\\nfield, 2009; mcallister , 2007; snape and redman, 2010), might usefully be\\nreframed as studying the antecedents and consequences of staff discretion at work.\\ndefined in this way, the ocb project would avoid many problems it is currently\\nfacing, such as the differences in ocb perception by hierarchical level (huang ,\\n2010; podsakoff , 2000).\\n\\na. caza164\\n\\n© 2011 the author\\n studies © 2011 blackwell publishing ltd and\\nsociety for the advancement of management studies\\n\\n\\n\\nconclusion\\n\\ndiscretion is a fundamental element of life in organizations. it is a universal human need,\\nand an inevitable consequence of interdependent activity. as such, it is not surprising\\nthat discretion has been shown to influence most of the key outcomes with which\\norganization studies are concerned. however, despite its ubiquity and importance, there\\nis as yet no mature theory of discretion in organizations. this paper offers a first step\\ntowards such a theory, by integrating previous findings to reveal that discretion encom-\\npasses t distinct domains. delineating this typology can contribute to better inter-\\npretation of previous findings, as well as greater precision in future studies. it also\\nhighlights the circumplex structure of discretion in organizations, and the fundamental\\ndiscretion profiles by which work may be described. in these ways, the typology devel-\\noped here contributes towards a mature theory of discretion. it begins the work of\\nreaching construct clarity, which is the foundation of strong theory and insight.\\n'"
      ]
     },
     "execution_count": 48,
     "metadata": {},
     "output_type": "execute_result"
    }
   ],
   "source": [
    "pdf_p[20]"
   ]
  },
  {
   "cell_type": "code",
   "execution_count": 49,
   "metadata": {},
   "outputs": [],
   "source": [
    "#remove hyphon only if it is at the end of the line.\n",
    "#pdf_p = [re.sub(r'(\\W[a-z]+)-\\n(\\W[a-z]+)', r'\\1\\2', t) for t in pdf_p]\n",
    "pdf_p = [re.sub(r'-\\n', '', t) for t in pdf_p]"
   ]
  },
  {
   "cell_type": "code",
   "execution_count": 50,
   "metadata": {},
   "outputs": [],
   "source": [
    "#remove text within ()\n",
    "pdf_p = [re.sub(r\"\\([^)]*\\)\", \"\", t) for t in pdf_p]\n",
    "# remove text with [] eg citation\n",
    "pdf_p = [re.sub(r\"\\[[^)]*\\]\", \"\", t) for t in pdf_p]\n",
    "#Remove numbers\n",
    "pdf_p = [re.sub('[0-9]+', '', f) for f in pdf_p]\n"
   ]
  },
  {
   "cell_type": "code",
   "execution_count": 51,
   "metadata": {},
   "outputs": [],
   "source": [
    "pdf_p = [re.sub('[\\n\\r]+', ' ', f) for f in pdf_p] # remove newline and linebreak characters, replace with space\n",
    "pdf_p = [re.sub('[@/%#$,=\\+:’“”]', ' ', f) for f in pdf_p] # remove stray non-word characters"
   ]
  },
  {
   "cell_type": "code",
   "execution_count": 52,
   "metadata": {},
   "outputs": [],
   "source": [
    "#pdf_p = [re.sub(r\"\\s\\([A-Z][a-z]+,\\s[A-Z][a-z]?\\.[^\\)]*,\\s\\d{4}\\)\", \"\", f) for f in pdf_p] # is this supposed to filter out citations?\n",
    "\n",
    "# save all periods, exclamation marks and question marks, but get rid of unnecessary characters\n",
    "pdf_p = [re.sub('[\\.!?]+ ', 'XYZXYZ', t) for t in pdf_p]\n",
    "pdf_p = [re.sub('-', 'ZYXXYZ', t) for t in pdf_p]\n",
    "pdf_p = [re.sub('[\\W_]+', ' ', f) for f in pdf_p]\n",
    "pdf_p = [re.sub('XYZXYZ', '. ', f) for f in pdf_p]\n",
    "pdf_p = [re.sub('ZYXXYZ', '-', f) for f in pdf_p]\n",
    "#pdf_p[0]\n",
    "\n",
    "#Remove placeholder x repetitions\n",
    "pdf_p = [re.sub(' x+ ', '', f) for f in pdf_p]\n",
    "\n",
    "# remove single characters\n",
    "pdf_p = [re.sub(' [a-z] ' ,  ' ', f) for f in pdf_p]\n",
    "pdf_p = [re.sub(' [a-z]\\.', '.', f) for f in pdf_p]\n",
    "pdf_p = [re.sub(' \\.', '.', f) for f in pdf_p]"
   ]
  },
  {
   "cell_type": "code",
   "execution_count": 53,
   "metadata": {},
   "outputs": [
    {
     "name": "stdout",
     "output_type": "stream",
     "text": [
      " no job name typology of the domains of discretion in organizationsjoms. arran caza wake forest university schools of business abstract discretion is fundamental element of work with extensive individual and organizational consequences. research has demonstrated the importance of discretion but there is not yet mature theory of discretion in organizations. towards that end this paper derives multidimensional typology of discretion in organizations integrating previous empirical results and archival interview data. it is found that discretion comprises distinct domains. this t-part typology casts new light on previous findings and contributes towards mature theory of discretion. this article discusses the circumplex structure of the domains and their potential utility in characterizing fundamental aspects of work. keywords autonomy choice discretion typology introduction discretion defined as latitude of action or control over how one does one work is central aspect of organizational behaviour and one with extensive and varied consequences. control has been identified as universal human need all people desire some feelings of control. moreover discretion is inevitable in organizations because it arises in every ambiguous situation and these situations are fundamental determinants of organizational structure. discretion influences vast range of outcomes including capital investment compensation trust satisfaction motivation physical health and performance. in fact one review suggested that discretion was one of the most studied work characteristics in traditional organization studies. there is also extensive discussion of discretion in related managerial organizational and behavioural address for reprints arran caza wake forest university schools of business po box winston-salem nc usa.  the author studies blackwell publishing ltd and society for the advancement of management studies. published by blackwell publishing garsington road oxford ox dq uk and main street malden ma usa.  studies january doi. -disciplines. however despite its obvious importance there is as yet no theory of discretion per se in organizations. one reason for this lack of coherent theory is that most studies have used discretion as means to understand some other phenomenon such as executive dominance or role-breadth rather than studying discretion itself. in addition those studies that were primarily concerned with discretion have remained isolated from one another. this has produced number of models about particular aspects of discretion but no overarching theory to integrate them. for example previous research had examined the consequences of general control and of decision authority but it was not recognized until later that these two constructs had significant overlap. as result one is left to wonder how the findings about general control relate to those of decision authority and vice versa. in the absence of comprehensive model to integrate individual studies there are no clear answers to such questions. the example of general control and decision authority suggests that the current understanding of discretion in organizations is what sonpar and golden-biddle refer to as adolescent. adolescent theories are those which have not yet been fully developed and tested. bacharach provided criteria for evaluating the maturity of organizational theories among the most important of which was clearly defining the central construct. unless discretion is precisely defined with sufficient specificity for effective predictions and measures further theoretical development will be limited. therefore this paper synthesizes previous findings to develop complete typology of the domains of discretion in organizations. delineating the domain structure of discretion in organizations helps to move the theory past adolescence towards maturity. in bacharach terms it increases the clarity and robustness of this central construct. greater clarity improves the interpretation of previous findings and can contribute to better predictions in future work. for example despite strong theoretical rationale investigations have repeatedly failed to find the predicted relationship between demand instability and executive discretion. however as discussed later in this paper this is likely an artefact of imprecision in defining discretion rather than failure of theory. this is revealed by using the typology of discretion developed here to reconsider the previous studies findings and suggests that the apparent predictive failure could have been prevented if the researchers had incorporated the multidimensional nature of discretion in their design. the typology developed here also contributes directly towards the development of mature theory of discretion in organizations. while typology does not constitute theory in itself it is an essential first step towards one. precisely defining the domains of discretion has important implications. specifically it was found that there are distinct domains of discretion in organizations and that these have circumplex structure of mutual support and antagonism. moreover the typology can be used to develop discretion profiles that facilitate fundamental analysis of different types of work. these and other theoretical typology of discretion the author studies blackwell publishing ltd and society for the advancement of management studies implications arising from the typology are consistent with previous emphasis on the importance of construct clarity. this paper begins by defining thneral construct of discretion. existing empirical measures and archival interview data are then used to derive the t-domain typology. theoretical implications are then explored showing the typology power to contribute to the empirical study of discretion and the development of mature theory. discretion in organizations in this paper the term discretion is used in the tradition of hambrick and finkelstein development of work by march and simon and thompson. discretion refers to an individual latitude of action in doing their work. it reflects the range of options available to an individual when taking consequential action. as such discretion is distinct from choice and from action. which available option an individual chooses and the effects of that choice are consequent to discretion not part of it. discretion is defined by the available possibilities from which an action choice can be made. as concrete example consider manager who is required to increase sales by per cent in one year. the manager presumably has little choice about the target level of sales which is goal given by organizational superiors. however in the absence of other stipulations the manager is free to choose the method for increasing sales. in this example the manager has discretion over the method of achieving thal but not in the selection of thal itself. this hypothetical case raises an important issue the domains of discretion. implicit in the example above is distinction between discretion over methods and discretion over goals. mornerally the example implies that there are distinct domains in which one may have varying levels of discretion. this assumption of domain variance is consistent with the foundational analyses of discretion in organizations which explicitly recognized that an individual may have more or less discretion in different aspects of their work. thal of this paper is to delineate the domains in which discretion may vary. previous work has identified many potential domains but no effort has been made to synthesize these results. this contrasts with mature theories where there is general agreement about the relevant domains such as in transformational leadership or personality. in practical terms uncertainty about the dimensions of discretion means that the construct has not yet been precisely defined. since construct clarity is the essential foundation for theory the current ambiguity is an impediment to theoretical progress. without clear domain structure for discretion it is difficult to compare studies or generalize findings researchers claiming to study the same phenomenon may be using incompatible understandings. at present there seems to be consensus that discretion varies by domain but no agreement on what those domains are. in response this paper synthesizes the many domains of discretion that have previously been identified into single multidimensional typology.. caza the author studies blackwell publishing ltd and society for the advancement of management studies the focus here is entirely on discretion in organizations and more specifically on empirical evidence concerning discretion domains. related constructs are not addressed. for example while the antecedents and consequences of discretion are obviously important considerations they are beyond the scope of this paper. as described above even the most proximal of such relationships cannot be examined in any consistent theoretically sound fashion without clear definition of the constructs involved. hence the first step must be to define the multidimensional nature of discretion itself. this paper contributes towards such definition. the most common empirical definition of discretion has been as single domain encompassing all aspects of an individual work. this approach has had success with researchers detecting anticipated relationships among various antecedents and consequences of discretion. however there has been criticism of this approach and evidence suggests that the sub-domains of discretion have unique relationships with some antecedents and consequences and therefore should be distinguished. making distinctions among one discretion in different domains of work is also consistent with theoretical treatments of the construct which treat discretion in organizations as multi-dimensional phenomenon. related to this others have noted that research on discretion has devoted more attention to substantive validity than to construct validity. this means that more is known about the consequences of discretion than is known about the nature of discretion itself. this creates potentially unstable foundation for theorizing. as such the crucial first step in developing mature theory of discretion in organizations is to clearly define its nature. while prior research identified number of potential domains of discretion these dimensions had not been previously integrated. therefore this paper used existing. caza the author studies blackwell publishing ltd and society for the advancement of management studies empirical measures of discretion in organizations and sample of archival interview data to develop an integrative typology. the results suggest that individuals think of their work in terms of distinct domains in which they may have varying levels of discretion. these domains concern their discretion over effort goal technical staffing support interpersonal style civic virtue and buffering issues. each domain represents distinct sphere for the exercise of discretion in organizations. the typology goes beyond previous efforts in being multidimensional and broadly applicable. rather than focusing on specific hierarchical level or type of discretion the typology developed here encompasses findings from multiple levels and types so as to apply to them all. as such the typology extends and complements previous efforts by not only clarifying past and future empirical findings but also by advancing the theory of discretion in organizations towards maturity. both of these contributions are discussed below. contributions to empirical study clarifying previous findings. by providing an integrated view of the domains in which discretion varies the typology described here provides new insight into previous findings. for example in contrast to earlier ocb models involving five or more factors there is recent trend towards using only three conscientious initiative organizational support and personal support. while the labels are somewhat different two of these three factors correspond to domains in the typology conscientious initiative describes domain like that of effort discretion and organizational support is comparable to the typology domain of civic virtue discretion. in contrast the third ocb factor personal support is described as follows helping others by offering suggestions teaching them useful knowl or skills directly performing some of their tasks and providing emotional support for their personal problems. cooperating with others by accepting suggestions informing them of events they should know about putting team objectives ahead of personal interests. showing consideration courtesy and tact in relation to others as well as motivating and showing confidence in them. from the perspective of the typology developed here this description blurs the boundaries between the support and interpersonal style domains of discretion apparently conflating the two. failing to distinguish between these two domains is problematic. for example cross-cultural study using the definition above predicted that american and chinese workers would report different levels of personal support. since china is more collectivistic culture the researchers predicted that chinese workers would be less competitive and thus more supportive with peers. however their data did not support this prediction. typology of discretion the author studies blackwell publishing ltd and society for the advancement of management studies given the insight granted by the typology developed here this failure may not be surprising. the authors operationalization of personal support combined elements of the support discretion and interpersonal style discretion domains and treated them as one factor. this is theoretically imprecise. while america individualism may well make workers less helpful towards peers it is not clear why it should also make them less social or interpersonally polite. there is no obvious reason why collectivism should influence interpersonal style choices relative to local norms. collectivism is matter of self versus other priorities not social style or acumen. as result the study mixed two distinct domains together each with unique relationships to the relevant outcome and this mixing could explain the failure of their hypothesis. consistent with this interpretation the original work from which the threefactor ocb structure derives makes distinction between two sub-factors of personal support helping others and how one treats others. thus in light of the typology derived here it seems unsurprising that the personal support hypothesis was not supported. similarly consider the failure of hambrick and finkelstein model to predict some of the antecedents of executive discretion. specifically despite repeated efforts researchers have been unable to show the predicted relationship between demand instability and executive discretion. examining these findings with the typology of discretion domains reveals that the observed non-relation may be an artefact of measurement rather than failure of theory. the hypothesized effect of demand instability is two-fold it will reduce the clarity of means ends linkages and it will increase the complexity of conducting routine operations creating greater demands on attention and information processing capacity. the first effect of unclear means ends linkages suggests that technical and staffing discretion will be increased by demand instability executives could justify range of different production capacities staffing levels and pricing schedules to reach their stated ends. in contrast if increased complexity and cognitive load had any effect on discretion it would be to reduce effort discretion because overwhelmed executives will have fewer resources to devote to their work and thus be less able to pursue certain options. given this it is not surprising that demand instability showed no consistent link with measures of discretion that failed to distinguish between domains. if one assumes that demand instability increases technical and staffing discretion while having either negative or null effect on effort goal support style civic virtue and buffering discretion one would expect null relationship with discretion measure that combines these domains. the typology thus allows reinterpretation of the findings and suggests that the theoretical prediction may well be accurate it has yet to be tested precisely. as both of these examples show having comprehensive typology of the domains of discretion in organizations provides new insight into previous findings. prior work can be re-examined with greater theoretical precision and new conclusions drawn. this underscores other discussion of the importance of clearly defining construct. the typology will allow more to be learned from research that has already been conducted.. caza the author studies blackwell publishing ltd and society for the advancement of management studies improving future investigations. the typology of discretion also can facilitate improved research efforts in the future. clear understanding of the domain structure of discretion will enhance the accuracy with which hypotheses are developed. for example the typology suggests that the three-factor model of ocb may be more effective with four factors allowing for the distinction between the support and interpersonal style elements that are currently combined in that model personal support factor. re-examination along the lines of becton and field could be made more precise in predicting that cultural collectivism will influence discretionary support behaviour but not discretionary choices about interpersonal style. likewise investigations of executive discretion may be more fruitful if they recognize that discretion varies independently in the different domains. for example demand instability may not increase effort discretion but it likely will enhance technical discretion. detailed understanding of discretion domains contributes to precision and thus to better empirical study. evidence consistent with this reasoning has begun to em in recent investigations of karasek job demands control model. the basic predictions of the jdc model are for main effects on strain from the level of demands and the level of control in job plus an interaction between the two in which greater control buffers the strain of job demands. while decades of research have consistently demonstrated the two main effects support for the interaction has been weak and inconsistent. however preliminary evidence suggests that the failure to find the proposed interaction results from the fact that demands and control occur in distinct domains. that is unless the control is in the same domain as the relevant job demand there will be limited buffering effects. this suggests that the buffering interaction of the jdc model does exist but will only reliably be detected if research designs incorporate the domains in which discretion varies. mornerally the typology will allow future research to define discretion with precision that will enhance the quality of research designs and results. contributions towards mature theory of discretion the typology suggests directions for the development of general theory of discretion in organizations. these directions include explicating the antecedents and consequences of discretion in each domain as there are likely to be important differences among the factors that influence the recognition and use of discretion in particular domains as well as how individuals respond to the exercise of discretion in each domain. for example one would expect that most organizational actors report relatively high agreement about an individual level of goal discretion since decisions about outputs and performance evaluations tend to bverned by rules and established norms. in contrast there may be significant variance in recognition and agreement about one civic virtue discretion as this is not often explicitly discussed. however even before investigating these substantive relationships the typology developed here suggests some fundamental issues to be addressed. theoretical development along these lines will move the theory of discretion in organizations towards maturity. typology of discretion the author studies blackwell publishing ltd and society for the advancement of management studies three in particular are discussed below the comprehensiveness of the typology the relationships among domains and the developent of discretion profiles. for each of these specific theoretical propositions are offered. comprehensiveness of the typology. it is asserted here that the t-domain typology of discretion in organizations is comprehensive. that is it is proposed that the typology defines all of the domains in which individuals think about their discretion at work and that it is inclusive of all types and levels of work. however this claim can only be asserted not proved due to limitations in the present paper. one such limitation is the exclusive use of empirical measures of discretion. while this approach offered the advantage of limiting the typology to domains that had been demonstrated as meaningful to organizational members it also may have limited comprehensiveness. it is possible that there is an important domain of discretion that has simply not been investigated by previous research. as step towards addressing this issue the current paper used archival interview data and this did reveal domain that had previously been neglected. since the interview data were from convenience sample of volunteers their comprehensiveness is suspect. as such the claim that the typology developed here is comprehensive and universal remains to be confirmed. crucial next step will be testing the typology comprehensiveness. circumplex structure of domains. the second theoretical assertion arising from the typology is that the domains of discretion have circumplex structure of interrelations. circumplex model derives from the statistical techniques of multidimensional scaling and uses spatial analogy to represent relationships of varying strh in circular space that is defined by two underlying dimensions. circumplex models have been used in range of behavioural and organizational studies as way to parsimoniously represent relatively complex links among multiple domains that are simultaneously distinct and connected. it is asserted here that the domains of discretion in organizations have circumplex structure defined by the dimensions of internal versus external focus and task versus relational focus. specifically the domains form four pairs of relatively antagonistic opposites as defined by the two underlying dimensions. the internal external dimension concerns individuals relative focus on their internal environment or the external environment. this dimension is epitomized by the distinction between the internally focused effort discretion and buffering discretion. the task-relational dimension refers to the distinction between focusing primarily on task-related aspects of work versus the social contextual environment in which work occurs. the extremes of this dimension are shown in technical discretion with its focus on the details of how task is executed and in interpersonal style discretion which concerns choices about the approach one adopts in dealing with others.. caza the author studies blackwell publishing ltd and society for the advancement of management studies although this circumplex model has not been empirically tested it is consistent with available evidence. for one it seems logical that some of the domains are more closely related than others. for example the types of civic virtue behaviours that one chooses to ge in are likely to reflect and influence one choices about interpersonal style and the treatment of others. as well civic virtue choices about promoting the organization to outsiders are different from buffering because civic virtue is not formally part of one work tasks whereas buffering may be the two are nonetheless closely related activities. similarly thals that one sets using goal discretion will be tightly linked to issues of technical discretion goals may imply methods or specific technical options may promote particular goals. as such although the domains are conceptually distinct one would expect larger correlations between some pairs of domains than others. the corollary is that some domains may be relatively antagonistic with greater discretion in one domain implying less in another. for example the interpersonal style and technical domains of discretion reflect the traditional split between task and relationship focus and evidence has shown that individuals tend to pursue one of these domains at the expense of the other. as well one might imagine an inherent tension between effort discretion and buffering discretion the more one chooses to ge in buffering behaviour the less choice one may have about personal levels of effort because satisfying external constituencies will demand one time and en. consistent with this the archival interview comments tended to frame buffering activities as demanding ones in which there was little choice but to do the difficult work required once one committed to them. in the data reported here even stronger evidence of potential antagonism between domains was suggested by goal discretion and civic virtue discretion. goal discretion was mentioned more often by those informants who did not have an organizational superior figure. circumplex structure of the domains of discretion in organizations typology of discretion the author studies blackwell publishing ltd and society for the advancement of management studies. moreover when those with superiors did mention goal discretion it was typically described in terms of issue selling rather than outright choice. for example the air forcneral mentioned judging hot spots of potential trouble. he described his role as identifying such hot spots to his superior who would choose the appropriate response. thneral was issue selling in the sense that he directed his superior attention to particular areas but final decisions were out of thneral control. as such thneral had somal discretion but it was not as great as that of the food business owner who described freely choosing which products to make and where to market them. overall in the sample of interview informants those with organizational superiors were less likely to mention goal discretion and when they did that discretion was usually of an issue-selling variety. in contrast informants with organizational superiors mentioned twice as many instances of civic virtue discretion compared to those without superiors. this pattern of apparent trade-off between civic virtue and goal discretion could imply that as an individual goal discretion increases the meaningfulness of civic virtue behaviour wanes. this is easiest to see at the extreme. recall that civic virtue behaviours concern selfless actions that benefit the organization. imagine the owner of sole proprietorship the owner has maximal goal discretion and that owner primary task is the success of the business so any action taken for thod of the organization is likely to be construed as essential work rather than any sort of selfless civic virtue. it may be that the civic virtue domain becomes increasingly less meaningful with greater goal discretion. consistent with this previous research has shown that managers tend to report less ocb than do their subordinates and that managers often do not consider specific behaviours to be instances of ocb even when subordinates do. other empirical evidence also is consistent with the circumplex structure in figure. for example the three-factor model of ocb includes the dimensions of personal support organizational support and conscientious initiative which correspond to the typology domains of effort support interpersonal style and civic virtue discretion. based on the correlations in ocb work one would expect these four domains to be more highly correlated with each other than with other domains in the typology. moreover as discussed earlier the ocb factor of personal support has to two sub-factors which correspond to the support discretion and interpersonal style discretion domains of the typology. the fact that the ocb model combines these two domains into one factor suggests that they are even more closely related to each other than to the two remaining factors such that interpersonal style discretion will be more highly correlated to support discretion than to effort discretion even though interpersonal style discretion and effort discretion are more closely related to each other than either is to staffing discretion. although this evidence is not conclusive it is suggestive. the domains of discretion likely have circumplex structure of interrelationships one defined by relative focus on internal versus external and task versus relationship aspects of work. confirming this through empirical investigation will be an important step in defining the construct nature and advancing towards mature theory of discretion in organizations.. caza the author studies blackwell publishing ltd and society for the advancement of management studies discretion profiles. combining the previous two propositions of comprehensiveness and of circumplexity leads to the third work can be described by specific patterns of discretion in the domains. in particular because of the close relationship between discretion and formal power different hierarchical positions are likely to show reliable patterns of discretion. in other words one discretion across domains is likely to follow consistent pattern based on one hierarchical power different types of work will have particular clusters of relatively high and low discretion in each domain. this proposition of discretion profiles is consistent with previous observations. it is implicit in the tendency to focus on particular positions and hierarchical levels in research such as using only line staff or senior management. the logic of treating all staff in one position as comparable to each other but distinct from other positions accords with the assumption that each position has defining pattern of discretion across the domains. for example the discretion of supervisors is probably more like that of other supervisors than it is like that of senior executives. some support is provided by studies that explicitly compare across hierarchical levels. for example study of job crafting found that the nature of job crafting differed by hierarchical level. higher-level employees reported that the primary concerns in their job crafting were addressing their own expectations and priorities whereas lower-level employees had to contend with others expectations of what they should do. for example while higher-level employees described having freedom in specifying the details of general objectives and in choosing the means used to reach them lower-level employees often were assigned specific tasks and given prescribed ways in which to execute them. using the terms of the typology developed here middle managers reported moderatal discretion and high technical discretion whereas line employees perceived little discretion in both domains. based on such findings it is proposed that there are four fundamental patterns of discretion in organizations. staff discretion is distinguished by high levels of discretion over effort support interpersonal style and civic virtue combined with low table ii. discretion profiles domain staff discretion supervisory discretion managerial discretion executive discretion effort discretion high moderate moderate low goal discretion low low moderate high technical discretion low moderate high high staffing discretion low moderate high high support discretion high moderate high high interpersonal style discretion high moderate low low civic virtue discretion high high moderate low buffering discretion low moderate moderate high typology of discretion the author studies blackwell publishing ltd and society for the advancement of management studies discretion in the other four domains. typical staff members have some discretion over their contextual extra-role behaviour but relatively little choice in their task duties. in contrast while supervisory discretion provides somewhat more control over technical choices staffing and buffering behaviour thosins come at the expense of less freedom about choosing levels of effort support and interpersonal style. for example the sorts of marginally rude behaviour that curmudgeonly staff member might get away with would be considered inappropriate and potentially discriminatory from supervisor. managerial discretion is predicted to provide some discretion in most domains as managers generally have more freedom in organizations whereas executive discretion provides theatest choice in operational areas though with consequently less freedom in effort civic virtue and interpersonal style. an important note about the managerial and executive discretion profiles is that they have relatively high levels of staffing discretion simultaneously with high levels support discretion. in the circumplex model these two dimensions correspond to the bottomright and top-left quadrants respectively and are therefore predicted to be antagonistic. the circumplex model suggests that increased discretion in one domain would undermine discretion in the other. while this apparent conflict may prove to reflect deficiency in either the circumplex model or the discretion profiles it is more likely indicative of one of the tensions of holding senior office. for example research has shown that the best organizational leaders are required to ge in apparently opposing behaviours they must overcome the paradox of simultaneously achieving opposites. in the same way so-called full range leadership requires individuals to be simultaneously transformational and transactional with followers despite the inherent antagonism in those two styles. therefore the apparent contradiction in the managerial and executive profiles is likely reflection of the paradox involved in leadership. the discretion profiles offer numerous theoretical opportunities. for one they could provide rigorous way to classify and compare different workers and jobs. if two individuals have similar discretion in various domains then their work situations are similar at fundamental level. it may make more sense to compare individuals based on their domains of high and low discretion rather than using more traditional job classifications. for example if two workers in different industries with different work content and job titles both have patterns of discretion comparable to that of the supervisory discretion profile they may still be usefully compared on that basis. their discretion profiles provide way to describe their work that reveals similarities that might otherwise be missed in the details of their jobs. discretion profiles might also facilitate better descriptions of research efforts. for example ocb research which is currently experiencing internal disagreement about the definition of citizenship might usefully be reframed as studying the antecedents and consequences of staff discretion at work. defined in this way the ocb project would avoid many problems it is currently facing such as the differences in ocb perception by hierarchical level.. caza the author studies blackwell publishing ltd and society for the advancement of management studies conclusion discretion is fundamental element of life in organizations. it is universal human need and an inevitable consequence of interdependent activity. as such it is not surprising that discretion has been shown to influence most of the key outcomes with which organization studies are concerned. however despite its ubiquity and importance there is as yet no mature theory of discretion in organizations. this paper offers first step towards such theory by integrating previous findings to reveal that discretion encompasses distinct domains. delineating this typology can contribute to better interpretation of previous findings as well as greater precision in future studies. it also highlights the circumplex structure of discretion in organizations and the fundamental discretion profiles by which work may be described. in these ways the typology developed here contributes towards mature theory of discretion. it begins the work of reaching construct clarity which is the foundation of strong theory and insight. \n",
      "---\n",
      "---\n",
      "---\n"
     ]
    }
   ],
   "source": [
    "print(pdf_p[ref_doc])\n",
    "print('---')\n",
    "print('---')\n",
    "print('---')\n",
    "# print(pdf_p[ref_doc])"
   ]
  },
  {
   "cell_type": "code",
   "execution_count": 54,
   "metadata": {},
   "outputs": [],
   "source": [
    "def get_author_names(txt):\n",
    "\n",
    "    refs = re.sub('[0-9]{4}.*\\n','',txt)\n",
    "\n",
    "    l = re.compile(\" [a-z]\\.\").split(refs)\n",
    "    l = [ll for ll in l if not bool(re.search('[0-9]+', ll))]\n",
    "    l = [ll for ll in l if len(ll) < 35]\n",
    "    l = [re.sub('[\\n ,\\&\\.]', '', ll) for ll in l]\n",
    "    l = [re.sub('[!(*);&$]', '', l1) for l1 in l]\n",
    "    authors = [ll for ll in l if len(ll) > 1]\n",
    "\n",
    "    return(authors)\n",
    "#for n in names:\n",
    "#    print(n)\n",
    "\n",
    "#refs = re.sub('\\n.*[0-9].*', '', refs)\n",
    "#refs = re.sub('\\n[^,]+\\n', '\\n', refs)\n",
    "#print(refs)"
   ]
  },
  {
   "cell_type": "code",
   "execution_count": 55,
   "metadata": {
    "scrolled": true
   },
   "outputs": [
    {
     "name": "stdout",
     "output_type": "stream",
     "text": [
      "['freepresswilliamson', 'andhazen', 'hahn', 'andrhoads', 'androdan', 'publisherstsai', 'oecdpresso’sullivan', 'leach', 'andgächter', 'andweightman', 'york:harperandrowphilips', 'gromb', 'hallagan', 'andmilkie', 'andweingart', 'neter', 'abell', 'andkürschner', 'andwieseke', 'kassicieh', 'profitsandbusinesses:part', 'alexander', 'andkumarpanda', 'imai', 'andkostova', 'pierre', 'bailey', 'andgeers', 'al-dajani', 'maynard', 'barley', 'eggers', 'andstroh', 'chalofsky', 'andaronsson', 'anddutton', 'wileykilduff', 'srivastava', 'yohannes', 'burns', 'andkirkman', 'andlev', 'andsearle', 'gasser', 'andmosley', 'andganesan', 'andgoregaokar', 'andyamagishi', 'andamore', 'andmonge', 'andbui', 'andhill', 'castellani', 'andbutler', 'andnii', 'dosi', 'andwathne', 'meglino', 'andperez', 'andpanunzi', 'andshanine', 'gimeno', 'pitt', 'leonard-barton', 'anddollar', 'levina', 'grunfeld', 'mcmillanasheim', 'mantere', 'andbowerman', 'parayitam', 'winter', 'o’donnell', 'anddemaree', 'andvaidyanath', 'edlund', 'valle', 'ruekert', 'andschirer', 'truxillo', 'fairfield', 'andwashburn', 'nachtsheim', 'günther', 'anddeyoung', 'brodt', 'major', 'andji', 'andribbens', 'parboteeah', 'andmichels', 'connelly', 'andholderness', 'andhaga', 'chatelin', 'jacquart', 'cronin', 'andfay', 'gambardella', 'weickmarch', 'czaplinski', 'edwardelgarwright', 'boudreau', 'tims', 'andbalogun', 'andvanessen', 'twigg', 'einarsen', 'testi', 'andboivie', 'andmarvel', 'andflanagan', 'andmccarthy', 'foundationgeorge', 'pressorlikowski', 'pucik', 'andkenney', 'healey', 'andstaats', 'andprasad', 'larsen', 'andsengul', 'sagemorgeson', 'andcannella', 'wrzesniewski', 'andszulanski', 'subramaniam', 'lorange', 'derkacs', 'andsheard', 'andsonenshein', 'lelchook', 'andmacdonald', 'andferrero', 'andmazumdar', 'andgiambatista', 'andbamossy', 'huddart', 'andherrbach', 'hillsdalenj:erlbaumcooper', 'catanese', 'andrews', 'barden', 'andaldrich', 'rosales', 'andkulatilaka', 'shukla', 'kiesler', 'zilber', 'andhoffmann']\n",
      "11465\n"
     ]
    }
   ],
   "source": [
    "authors = []\n",
    "for r in references:\n",
    "    authors += get_author_names(r)\n",
    "    \n",
    "author_nam = list(set(list(authors)))\n",
    "\n",
    "# result is still not perfect, but I have not found any stray 'plain English' so far\n",
    "print(author_nam[100:250])\n",
    "print(len(author_nam))"
   ]
  },
  {
   "cell_type": "code",
   "execution_count": 56,
   "metadata": {},
   "outputs": [],
   "source": [
    "# GET REFERENCE LISTS OF STOPWORDS, I.E. WORDS THAT ARE ESSENTIALLY MEANINGLESS\n",
    "# Get all the list of authors names\n",
    "\n",
    "from nltk.corpus import stopwords as wrd\n",
    "\n",
    "sw = wrd.words('english') + author_nam + country_list + cities_lower\n",
    "\n",
    "#print(sw)"
   ]
  },
  {
   "cell_type": "code",
   "execution_count": 57,
   "metadata": {},
   "outputs": [],
   "source": [
    "#include corpus-specific stopwords\n",
    "sw += ['vol', 'doi', 'article', 'articles', 'reuse', 'sagepub', 'journal', 'journals', 'com', 'quarter', 'quarterly', 'annual', 'proceedings']\n",
    "sw += ['sage', 'editorial', 'report', 'publications', 'publication', 'publisher', 'jom', 'manuscript', 'manuscripts', 'submission', 'submissions']\n",
    "sw += ['editor', 'editors', 'orcid', 'id', 'month', 'mailto', 'author', 'authors', 'homepage', 'sciencedirect', 'scopus']\n",
    "sw += ['january', 'february', 'march', 'april', 'may', 'june', 'july', 'august', 'september', 'october', 'november', 'december']\n",
    "sw += ['monday', 'tuesday', 'wednesday', 'thursday', 'friday', 'saturday', 'sunday']\n",
    "\n",
    "# add a metric ton of generic terms\n",
    "sw += ['a', 'about', 'above', 'across', 'after', 'afterwards']\n",
    "sw += ['again', 'against', 'all', 'almost', 'alone', 'along']\n",
    "sw += ['already', 'also', 'although', 'always', 'am', 'among']\n",
    "sw += ['amongst', 'amoungst', 'amount', 'an', 'and', 'another']\n",
    "sw += ['any', 'anyhow', 'anyone', 'anything', 'anyway', 'anywhere']\n",
    "sw += ['are', 'around', 'as', 'at', 'back', 'be', 'became']\n",
    "sw += ['because', 'become', 'becomes', 'becoming', 'been']\n",
    "sw += ['before', 'beforehand', 'behind', 'being', 'below']\n",
    "sw += ['beside', 'besides', 'between', 'beyond', 'bill', 'both']\n",
    "sw += ['bottom', 'but', 'by', 'call', 'can', 'cannot', 'cant']\n",
    "sw += ['co', 'computer', 'con', 'could', 'couldnt', 'cry', 'de']\n",
    "sw += ['describe', 'detail', 'did', 'do', 'done', 'down', 'due']\n",
    "sw += ['during', 'each', 'eg', 'eight', 'either', 'eleven', 'else']\n",
    "sw += ['elsewhere', 'empty', 'enough', 'etc', 'even', 'ever']\n",
    "sw += ['every', 'everyone', 'everything', 'everywhere', 'except']\n",
    "sw += ['few', 'fifteen', 'fifty', 'fill', 'find', 'fire', 'first']\n",
    "sw += ['five', 'for', 'former', 'formerly', 'forty', 'found']\n",
    "sw += ['four', 'from', 'front', 'full', 'further', 'get', 'give']\n",
    "sw += ['go', 'had', 'has', 'hasnt', 'have', 'he', 'hence', 'her']\n",
    "sw += ['here', 'hereafter', 'hereby', 'herein', 'hereupon', 'hers']\n",
    "sw += ['herself', 'him', 'himself', 'his', 'how', 'however']\n",
    "sw += ['hundred', 'i', 'ie', 'if', 'in', 'inc', 'indeed']\n",
    "sw += ['interest', 'into', 'is', 'it', 'its', 'itself', 'keep']\n",
    "sw += ['last', 'latter', 'latterly', 'least', 'less', 'ltd', 'made']\n",
    "sw += ['many', 'may', 'me', 'meanwhile', 'might', 'mill', 'mine']\n",
    "sw += ['more', 'moreover', 'most', 'mostly', 'move', 'much']\n",
    "sw += ['must', 'my', 'myself', 'name', 'namely', 'neither', 'never']\n",
    "sw += ['nevertheless', 'next', 'nine', 'no', 'nobody', 'none']\n",
    "sw += ['noone', 'nor', 'not', 'nothing', 'now', 'nowhere', 'of']\n",
    "sw += ['off', 'often', 'on','once', 'one', 'only', 'onto', 'or']\n",
    "sw += ['other', 'others', 'otherwise', 'our', 'ours', 'ourselves']\n",
    "sw += ['out', 'over', 'own', 'part', 'per', 'perhaps', 'please']\n",
    "sw += ['put', 'rather', 're', 's', 'same', 'see', 'seem', 'seemed']\n",
    "sw += ['seeming', 'seems', 'serious', 'several', 'she', 'should']\n",
    "sw += ['show', 'side', 'since', 'sincere', 'six', 'sixty', 'so']\n",
    "sw += ['some', 'somehow', 'someone', 'something', 'sometime']\n",
    "sw += ['sometimes', 'somewhere', 'still', 'such', 'system', 'take']\n",
    "sw += ['ten', 'than', 'that', 'the', 'their', 'them', 'themselves']\n",
    "sw += ['then', 'thence', 'there', 'thereafter', 'thereby']\n",
    "sw += ['therefore', 'therein', 'thereupon', 'these', 'they']\n",
    "sw += ['thick', 'thin', 'third', 'this', 'those', 'though', 'three']\n",
    "sw += ['three', 'through', 'throughout', 'thru', 'thus', 'to']\n",
    "sw += ['together', 'too', 'top', 'toward', 'towards', 'twelve']\n",
    "sw += ['twenty', 'two', 'un', 'under', 'until', 'up', 'upon']\n",
    "sw += ['us', 'very', 'via', 'was', 'we', 'well', 'were', 'what']\n",
    "sw += ['whatever', 'when', 'whence', 'whenever', 'where']\n",
    "sw += ['whereafter', 'whereas', 'whereby', 'wherein', 'whereupon']\n",
    "sw += ['wherever', 'whether', 'which', 'while', 'whither', 'who']\n",
    "sw += ['whoever', 'whole', 'whom', 'whose', 'why', 'will', 'with']\n",
    "sw += ['within', 'without', 'would', 'yet', 'you', 'your']\n",
    "sw += ['yours', 'yourself', 'yourselves']\n",
    "\n",
    "sw = list(set(sw))"
   ]
  },
  {
   "cell_type": "code",
   "execution_count": 58,
   "metadata": {},
   "outputs": [],
   "source": [
    "# Function to filter out the stopwords and authors names\n",
    "def filterWords(msg, words):\n",
    "    m = msg.split(' ')\n",
    "    words_end = [w + '.' for w in words]\n",
    "    filtered_words = list(filter(lambda word: word not in words, m))\n",
    "    filtered_words = [(w if w not in words_end else '.') for w in filtered_words]\n",
    "    result = ' '.join(filtered_words)\n",
    "    return(result)"
   ]
  },
  {
   "cell_type": "code",
   "execution_count": 59,
   "metadata": {},
   "outputs": [],
   "source": [
    "# GET RID OF THE STOPWORDS IN TEXTS\n",
    "data_proc = [filterWords(f, sw) for f in pdf_p]  "
   ]
  },
  {
   "cell_type": "code",
   "execution_count": 64,
   "metadata": {},
   "outputs": [],
   "source": [
    "import pickle\n",
    "# exclude author list from metadata\n",
    "author_metadata = pickle.load(open(\"C:/Thesis/Data/save/Master_Data/author_list/author_list.p\", \"rb\"))"
   ]
  },
  {
   "cell_type": "code",
   "execution_count": 65,
   "metadata": {},
   "outputs": [],
   "source": [
    "# GET RID OF THE author names (extracted from the metadata)\n",
    "data_proc_1 = [filterWords(f, author_metadata) for f in data_proc] #running"
   ]
  },
  {
   "cell_type": "code",
   "execution_count": 67,
   "metadata": {},
   "outputs": [
    {
     "data": {
      "text/plain": [
       "' job typology domains discretion organizationsjoms. arran wake schools abstract discretion fundamental element work extensive individual organizational consequences. demonstrated importance discretion mature theory discretion organizations. end paper derives multidimensional typology discretion organizations integrating previous empirical results archival interview data. discretion comprises distinct domains. t-part typology casts new previous findings contributes mature theory discretion. discusses circumplex structure domains potential utility characterizing fundamental aspects work. keywords autonomy choice discretion typology introduction discretion defined latitude action control work aspect organizational behaviour extensive varied consequences. control identified universal human need people desire feelings control. discretion inevitable organizations arises ambiguous situation situations fundamental determinants organizational structure. discretion influences vast range outcomes including capital investment compensation trust satisfaction motivation physical health performance. fact review suggested discretion studied work characteristics traditional organization studies. extensive discussion discretion related managerial organizational behavioural address reprints arran wake schools po box nc .  studies publishing society advancement studies. published publishing garsington road ox dq uk street .  studies . -disciplines. despite obvious importance theory discretion se organizations. lack coherent theory studies used discretion means understand phenomenon executive dominance role-breadth studying discretion . addition studies primarily concerned discretion remained isolated . produced number models particular aspects discretion overarching theory integrate . example previous examined consequences general control decision authority recognized later constructs significant overlap. result left wonder findings general control relate decision authority vice versa. absence comprehensive model integrate individual studies clear answers questions. example general control decision authority suggests current understanding discretion organizations refer adolescent. adolescent theories fully developed tested. bacharach provided criteria evaluating maturity organizational theories important clearly defining construct. unless discretion precisely defined sufficient specificity effective predictions measures theoretical development limited. paper synthesizes previous findings develop complete typology domains discretion organizations. delineating domain structure discretion organizations helps theory past adolescence maturity. bacharach terms increases clarity robustness construct. greater clarity improves interpretation previous findings contribute better predictions future work. example despite theoretical rationale investigations repeatedly failed predicted relationship demand instability executive discretion. discussed later paper likely artefact imprecision defining discretion failure theory. revealed using typology discretion developed reconsider previous studies findings suggests apparent predictive failure prevented researchers incorporated multidimensional nature discretion . typology developed contributes directly development mature theory discretion organizations. typology constitute theory essential step . precisely defining domains discretion important implications. specifically distinct domains discretion organizations circumplex structure mutual support antagonism. typology used develop discretion profiles facilitate fundamental analysis different types work. theoretical typology discretion studies publishing society advancement studies implications arising typology consistent previous emphasis importance construct clarity. paper begins defining thneral construct discretion. existing empirical measures archival interview data used derive t-domain typology. theoretical implications explored showing typology contribute empirical study discretion development mature theory. discretion organizations paper term discretion used tradition development work . discretion refers individual latitude action work. reflects range options available individual taking consequential action. discretion distinct choice action. available option individual chooses effects choice consequent discretion . discretion defined available possibilities action choice . concrete example consider manager required increase sales cent year. manager presumably little choice target level sales goal given organizational superiors. absence stipulations manager free choose method increasing sales. example manager discretion method achieving thal selection thal . hypothetical case raises important issue domains discretion. implicit example distinction discretion methods discretion goals. mornerally example implies distinct domains varying levels discretion. assumption domain variance consistent foundational analyses discretion organizations explicitly recognized individual discretion different aspects work. thal paper delineate domains discretion vary. previous work identified potential domains effort synthesize results. contrasts mature theories general agreement relevant domains transformational leadership personality. practical terms uncertainty dimensions discretion means construct precisely defined. construct clarity essential foundation theory current ambiguity impediment theoretical progress. clear domain structure discretion difficult compare studies generalize findings researchers claiming study phenomenon using incompatible understandings. present consensus discretion varies domain agreement domains . response paper synthesizes domains discretion previously identified single multidimensional typology.. studies publishing society advancement studies focus entirely discretion organizations specifically empirical evidence concerning discretion domains. related constructs addressed. example antecedents consequences discretion obviously important considerations scope paper. described proximal relationships examined consistent theoretically sound fashion clear definition constructs involved. step define multidimensional nature discretion . paper contributes definition. common empirical definition discretion single domain encompassing aspects individual work. approach success researchers detecting anticipated relationships various antecedents consequences discretion. criticism approach evidence suggests sub-domains discretion unique relationships antecedents consequences distinguished. making distinctions discretion different domains work consistent theoretical treatments construct treat discretion organizations multi-dimensional phenomenon. related noted discretion devoted attention substantive validity construct validity. means known consequences discretion known nature discretion . creates potentially unstable foundation theorizing. crucial step developing mature theory discretion organizations clearly define nature. prior identified number potential domains discretion dimensions previously integrated. paper used existing. studies publishing society advancement studies empirical measures discretion organizations sample archival interview data develop integrative typology. results suggest individuals think work terms distinct domains varying levels discretion. domains concern discretion effort goal technical staffing support interpersonal style civic virtue buffering issues. domain represents distinct sphere exercise discretion organizations. typology previous efforts multidimensional broadly applicable. focusing specific hierarchical level type discretion typology developed encompasses findings multiple levels types apply . typology extends complements previous efforts clarifying past future empirical findings advancing theory discretion organizations maturity. contributions discussed . contributions empirical study clarifying previous findings. providing integrated view domains discretion varies typology described provides new insight previous findings. example contrast earlier ocb models involving factors recent trend using conscientious initiative organizational support personal support. labels somewhat different factors correspond domains typology conscientious initiative describes domain like effort discretion organizational support comparable typology domain civic virtue discretion. contrast ocb factor personal support described follows helping offering suggestions teaching useful knowl skills directly performing tasks providing emotional support personal problems. cooperating accepting suggestions informing events know putting team objectives ahead personal interests. showing consideration courtesy tact relation motivating showing confidence . perspective typology developed description blurs boundaries support interpersonal style domains discretion apparently conflating . failing distinguish domains problematic. example cross-cultural study using definition predicted american chinese workers different levels personal support. collectivistic culture researchers predicted chinese workers competitive supportive peers. data support prediction. typology discretion studies publishing society advancement studies given insight granted typology developed failure surprising. operationalization personal support combined elements support discretion interpersonal style discretion domains treated factor. theoretically imprecise. individualism make workers helpful peers clear make interpersonally polite. obvious collectivism influence interpersonal style choices relative local norms. collectivism matter versus priorities style acumen. result study mixed distinct domains unique relationships relevant outcome mixing explain failure hypothesis. consistent interpretation original work threefactor ocb structure derives makes distinction sub-factors personal support helping treats . typology derived unsurprising personal support hypothesis supported. similarly consider failure model predict antecedents executive discretion. specifically despite repeated efforts researchers unable predicted relationship demand instability executive discretion. examining findings typology discretion domains reveals observed non-relation artefact measurement failure theory. hypothesized effect demand instability two-fold reduce clarity means ends linkages increase complexity conducting routine operations creating greater demands attention information processing capacity. effect unclear means ends linkages suggests technical staffing discretion increased demand instability executives justify range different capacities staffing levels pricing schedules reach stated ends. contrast increased complexity cognitive load effect discretion reduce effort discretion overwhelmed executives fewer resources devote work able pursue certain options. given surprising demand instability showed consistent measures discretion failed distinguish domains. assumes demand instability increases technical staffing discretion negative null effect effort goal support style civic virtue buffering discretion expect null relationship discretion measure combines domains. typology allows reinterpretation findings suggests theoretical prediction accurate tested precisely. examples comprehensive typology domains discretion organizations provides new insight previous findings. prior work re-examined greater theoretical precision new conclusions drawn. underscores discussion importance clearly defining construct. typology allow learned conducted.. studies publishing society advancement studies improving future investigations. typology discretion facilitate improved efforts future. clear understanding domain structure discretion enhance accuracy hypotheses developed. example typology suggests three-factor model ocb effective factors allowing distinction support interpersonal style elements currently combined model personal support factor. re-examination lines becton precise predicting cultural collectivism influence discretionary support behaviour discretionary choices interpersonal style. likewise investigations executive discretion fruitful recognize discretion varies independently different domains. example demand instability increase effort discretion likely enhance technical discretion. detailed understanding discretion domains contributes precision better empirical study. evidence consistent reasoning begun em recent investigations job demands control model. basic predictions jdc model effects strain level demands level control job plus interaction greater control buffers strain job demands. decades consistently demonstrated effects support interaction weak inconsistent. preliminary evidence suggests failure proposed interaction results fact demands control occur distinct domains. unless control domain relevant job demand limited buffering effects. suggests buffering interaction jdc model exist reliably detected designs incorporate domains discretion varies. mornerally typology allow future define discretion precision enhance quality designs results. contributions mature theory discretion typology suggests directions development general theory discretion organizations. directions include explicating antecedents consequences discretion domain likely important differences factors influence recognition use discretion particular domains individuals respond exercise discretion domain. example expect organizational actors relatively high agreement individual level goal discretion decisions outputs performance evaluations tend bverned rules established norms. contrast significant variance recognition agreement civic virtue discretion explicitly discussed. investigating substantive relationships typology developed suggests fundamental issues addressed. theoretical development lines theory discretion organizations maturity. typology discretion studies publishing society advancement studies particular discussed comprehensiveness typology relationships domains developent discretion profiles. specific theoretical propositions offered. comprehensiveness typology. asserted t-domain typology discretion organizations comprehensive. proposed typology defines domains individuals think discretion work inclusive types levels work. claim asserted proved limitations present paper. limitation exclusive use empirical measures discretion. approach offered advantage limiting typology domains demonstrated meaningful organizational members limited comprehensiveness. possible important domain discretion simply investigated previous . step addressing issue current paper used archival interview data reveal domain previously neglected. interview data convenience sample volunteers comprehensiveness suspect. claim typology developed comprehensive universal remains confirmed. crucial step testing typology comprehensiveness. circumplex structure domains. second theoretical assertion arising typology domains discretion circumplex structure interrelations. circumplex model derives statistical techniques multidimensional scaling uses spatial analogy represent relationships varying strh circular space defined underlying dimensions. circumplex models used range behavioural organizational studies parsimoniously represent relatively complex links multiple domains simultaneously distinct connected. asserted domains discretion organizations circumplex structure defined dimensions internal versus external focus task versus relational focus. specifically domains form pairs relatively antagonistic opposites defined underlying dimensions. internal external dimension concerns individuals relative focus internal environment external environment. dimension epitomized distinction internally focused effort discretion buffering discretion. task-relational dimension refers distinction focusing primarily task-related aspects work versus contextual environment work occurs. extremes dimension shown technical discretion focus details task executed interpersonal style discretion concerns choices approach adopts dealing others.. studies publishing society advancement studies circumplex model empirically tested consistent available evidence. logical domains closely related . example types civic virtue behaviours chooses ge likely reflect influence choices interpersonal style treatment . civic virtue choices promoting organization outsiders different buffering civic virtue formally work tasks buffering nonetheless closely related activities. similarly thals sets using goal discretion tightly linked issues technical discretion goals imply methods specific technical options promote particular goals. domains conceptually distinct expect larger correlations pairs domains . corollary domains relatively antagonistic greater discretion domain implying . example interpersonal style technical domains discretion reflect traditional task relationship focus evidence shown individuals tend pursue domains expense . imagine inherent tension effort discretion buffering discretion chooses ge buffering behaviour choice personal levels effort satisfying external constituencies demand time en. consistent archival interview comments tended frame buffering activities demanding little choice difficult work required committed . data reported stronger evidence potential antagonism domains suggested goal discretion civic virtue discretion. goal discretion mentioned informants organizational figure. circumplex structure domains discretion organizations typology discretion studies publishing society advancement studies. superiors mention goal discretion typically described terms issue selling outright choice. example air forcneral mentioned judging hot spots potential trouble. described role identifying hot spots choose appropriate response. thneral issue selling sense directed attention particular areas final decisions thneral control. thneral somal discretion great food owner described freely choosing products make market . overall sample interview informants organizational superiors likely mention goal discretion discretion usually issue-selling variety. contrast informants organizational superiors mentioned twice instances civic virtue discretion compared superiors. pattern apparent trade-off civic virtue goal discretion imply individual goal discretion increases meaningfulness civic virtue behaviour wanes. easiest extreme. recall civic virtue behaviours concern selfless actions benefit organization. imagine owner sole proprietorship owner maximal goal discretion owner primary task success action taken thod organization likely construed essential work sort selfless civic virtue. civic virtue domain increasingly meaningful greater goal discretion. consistent previous shown managers tend ocb subordinates managers consider specific behaviours instances ocb subordinates . empirical evidence consistent circumplex structure figure. example three-factor model ocb includes dimensions personal support organizational support conscientious initiative correspond typology domains effort support interpersonal style civic virtue discretion. based correlations ocb work expect domains highly correlated domains typology. discussed earlier ocb factor personal support sub-factors correspond support discretion interpersonal style discretion domains typology. fact ocb model combines domains factor suggests closely related remaining factors interpersonal style discretion highly correlated support discretion effort discretion interpersonal style discretion effort discretion closely related staffing discretion. evidence conclusive suggestive. domains discretion likely circumplex structure interrelationships defined relative focus internal versus external task versus relationship aspects work. confirming empirical investigation important step defining construct nature advancing mature theory discretion organizations.. studies publishing society advancement studies discretion profiles. combining previous propositions comprehensiveness circumplexity leads work described specific patterns discretion domains. particular close relationship discretion formal different hierarchical positions likely reliable patterns discretion. words discretion domains likely follow consistent pattern based hierarchical different types work particular clusters relatively high discretion domain. proposition discretion profiles consistent previous observations. implicit tendency focus particular positions hierarchical levels using line senior . logic treating position comparable distinct positions accords assumption position defining pattern discretion domains. example discretion supervisors probably like supervisors like senior executives. support provided studies explicitly compare hierarchical levels. example study job crafting nature job crafting differed hierarchical level. higher-level employees reported primary concerns job crafting addressing expectations priorities lower-level employees contend expectations . example higher-level employees described freedom specifying details general objectives choosing means used reach lower-level employees assigned specific tasks given prescribed ways execute . using terms typology developed middle managers reported moderatal discretion high technical discretion line employees perceived little discretion domains. based findings proposed fundamental patterns discretion organizations. discretion distinguished high levels discretion effort support interpersonal style civic virtue combined table ii. discretion profiles domain discretion supervisory discretion managerial discretion executive discretion effort discretion high moderate moderate goal discretion moderate high technical discretion moderate high high staffing discretion moderate high high support discretion high moderate high high interpersonal style discretion high moderate civic virtue discretion high high moderate buffering discretion moderate moderate high typology discretion studies publishing society advancement studies discretion domains. typical members discretion contextual extra-role behaviour relatively little choice task duties. contrast supervisory discretion provides somewhat control technical choices staffing buffering behaviour thosins come expense freedom choosing levels effort support interpersonal style. example sorts marginally rude behaviour curmudgeonly member away considered inappropriate potentially discriminatory supervisor. managerial discretion predicted provide discretion domains managers generally freedom organizations executive discretion provides theatest choice operational areas consequently freedom effort civic virtue interpersonal style. important note managerial executive discretion profiles relatively high levels staffing discretion simultaneously high levels support discretion. circumplex model dimensions correspond bottomright top-left quadrants respectively predicted antagonistic. circumplex model suggests increased discretion domain undermine discretion . apparent conflict prove reflect deficiency circumplex model discretion profiles likely indicative tensions holding senior office. example shown organizational leaders required ge apparently opposing behaviours overcome paradox simultaneously achieving opposites. so-called range leadership requires individuals simultaneously transformational transactional followers despite inherent antagonism styles. apparent contradiction managerial executive profiles likely reflection paradox involved leadership. discretion profiles numerous theoretical opportunities. provide rigorous classify compare different workers jobs. individuals similar discretion various domains work situations similar fundamental level. make sense compare individuals based domains high discretion using traditional job classifications. example workers different industries different work content job titles patterns discretion comparable supervisory discretion profile usefully compared basis. discretion profiles provide work reveals similarities missed details jobs. discretion profiles facilitate better descriptions efforts. example ocb currently experiencing internal disagreement definition citizenship usefully reframed studying antecedents consequences discretion work. defined ocb project avoid problems currently facing differences ocb perception hierarchical level.. studies publishing society advancement studies conclusion discretion fundamental element life organizations. universal human need inevitable consequence interdependent activity. surprising discretion shown influence key outcomes organization studies concerned. despite ubiquity importance mature theory discretion organizations. paper offers step theory integrating previous findings reveal discretion encompasses distinct domains. delineating typology contribute better interpretation previous findings greater precision future studies. highlights circumplex structure discretion organizations fundamental discretion profiles work described. ways typology developed contributes mature theory discretion. begins work reaching construct clarity foundation theory insight. '"
      ]
     },
     "execution_count": 67,
     "metadata": {},
     "output_type": "execute_result"
    }
   ],
   "source": [
    "data_proc_1[ref_doc]"
   ]
  },
  {
   "cell_type": "code",
   "execution_count": 68,
   "metadata": {},
   "outputs": [],
   "source": [
    "data_proc2 = [re.sub(\"([a-z]+\\.)+[a-z]+\",\"\", f) for f in data_proc_1]\n",
    "data_proc2 = [re.sub('\\s([?\\.!\"](?:\\s|$))' , r'\\1', f) for f in data_proc2]\n",
    "data_proc2 = [re.sub(\"^\\s+\",\"\", f) for f in data_proc2]\n",
    "data_proc2 = [re.sub(\"\\s+\\Z\",\"\", f) for f in data_proc2]\n",
    "data_proc2 = [re.sub(\"(\\.)+\",\".\", f) for f in data_proc2]\n",
    "data_proc2 = [re.sub(\" +\",\" \", f) for f in data_proc2]\n",
    "data_proc2 = [re.sub(\"( +\\.)\",\".\", f) for f in data_proc2]\n",
    "data_proc2 = [re.sub(\"\\.$\",\"\", f) for f in data_proc2]"
   ]
  },
  {
   "cell_type": "code",
   "execution_count": 69,
   "metadata": {},
   "outputs": [
    {
     "name": "stdout",
     "output_type": "stream",
     "text": [
      "['job typology domains discretion organizationsjoms', 'arran wake schools abstract discretion fundamental element work extensive individual organizational consequences', 'demonstrated importance discretion mature theory discretion organizations', 'end paper derives multidimensional typology discretion organizations integrating previous empirical results archival interview data', 'discretion comprises distinct domains', 't-part typology casts new previous findings contributes mature theory discretion', 'discusses circumplex structure domains potential utility characterizing fundamental aspects work', 'keywords autonomy choice discretion typology introduction discretion defined latitude action control work aspect organizational behaviour extensive varied consequences', 'control identified universal human need people desire feelings control', 'discretion inevitable organizations arises ambiguous situation situations fundamental determinants organizational structure', 'discretion influences vast range outcomes including capital investment compensation trust satisfaction motivation physical health performance', 'fact review suggested discretion studied work characteristics traditional organization studies', 'extensive discussion discretion related managerial organizational behavioural address reprints arran wake schools po box nc', 'studies publishing society advancement studies', 'published publishing garsington road ox dq uk street', 'studies', '-disciplines', 'despite obvious importance theory discretion se organizations', 'lack coherent theory studies used discretion means understand phenomenon executive dominance role-breadth studying discretion', 'addition studies primarily concerned discretion remained isolated', 'produced number models particular aspects discretion overarching theory integrate', 'example previous examined consequences general control decision authority recognized later constructs significant overlap', 'result left wonder findings general control relate decision authority vice versa', 'absence comprehensive model integrate individual studies clear answers questions', 'example general control decision authority suggests current understanding discretion organizations refer adolescent', 'adolescent theories fully developed tested', 'bacharach provided criteria evaluating maturity organizational theories important clearly defining construct', 'unless discretion precisely defined sufficient specificity effective predictions measures theoretical development limited', 'paper synthesizes previous findings develop complete typology domains discretion organizations', 'delineating domain structure discretion organizations helps theory past adolescence maturity', 'bacharach terms increases clarity robustness construct', 'greater clarity improves interpretation previous findings contribute better predictions future work', 'example despite theoretical rationale investigations repeatedly failed predicted relationship demand instability executive discretion', 'discussed later paper likely artefact imprecision defining discretion failure theory', 'revealed using typology discretion developed reconsider previous studies findings suggests apparent predictive failure prevented researchers incorporated multidimensional nature discretion', 'typology developed contributes directly development mature theory discretion organizations', 'typology constitute theory essential step', 'precisely defining domains discretion important implications', 'specifically distinct domains discretion organizations circumplex structure mutual support antagonism', 'typology used develop discretion profiles facilitate fundamental analysis different types work', 'theoretical typology discretion studies publishing society advancement studies implications arising typology consistent previous emphasis importance construct clarity', 'paper begins defining thneral construct discretion', 'existing empirical measures archival interview data used derive t-domain typology', 'theoretical implications explored showing typology contribute empirical study discretion development mature theory', 'discretion organizations paper term discretion used tradition development work', 'discretion refers individual latitude action work', 'reflects range options available individual taking consequential action', 'discretion distinct choice action', 'available option individual chooses effects choice consequent discretion', 'discretion defined available possibilities action choice', 'concrete example consider manager required increase sales cent year', 'manager presumably little choice target level sales goal given organizational superiors', 'absence stipulations manager free choose method increasing sales', 'example manager discretion method achieving thal selection thal', 'hypothetical case raises important issue domains discretion', 'implicit example distinction discretion methods discretion goals', 'mornerally example implies distinct domains varying levels discretion', 'assumption domain variance consistent foundational analyses discretion organizations explicitly recognized individual discretion different aspects work', 'thal paper delineate domains discretion vary', 'previous work identified potential domains effort synthesize results', 'contrasts mature theories general agreement relevant domains transformational leadership personality', 'practical terms uncertainty dimensions discretion means construct precisely defined', 'construct clarity essential foundation theory current ambiguity impediment theoretical progress', 'clear domain structure discretion difficult compare studies generalize findings researchers claiming study phenomenon using incompatible understandings', 'present consensus discretion varies domain agreement domains', 'response paper synthesizes domains discretion previously identified single multidimensional typology', 'studies publishing society advancement studies focus entirely discretion organizations specifically empirical evidence concerning discretion domains', 'related constructs addressed', 'example antecedents consequences discretion obviously important considerations scope paper', 'described proximal relationships examined consistent theoretically sound fashion clear definition constructs involved', 'step define multidimensional nature discretion', 'paper contributes definition', 'common empirical definition discretion single domain encompassing aspects individual work', 'approach success researchers detecting anticipated relationships various antecedents consequences discretion', 'criticism approach evidence suggests sub-domains discretion unique relationships antecedents consequences distinguished', 'making distinctions discretion different domains work consistent theoretical treatments construct treat discretion organizations multi-dimensional phenomenon', 'related noted discretion devoted attention substantive validity construct validity', 'means known consequences discretion known nature discretion', 'creates potentially unstable foundation theorizing', 'crucial step developing mature theory discretion organizations clearly define nature', 'prior identified number potential domains discretion dimensions previously integrated', 'paper used existing', 'studies publishing society advancement studies empirical measures discretion organizations sample archival interview data develop integrative typology', 'results suggest individuals think work terms distinct domains varying levels discretion', 'domains concern discretion effort goal technical staffing support interpersonal style civic virtue buffering issues', 'domain represents distinct sphere exercise discretion organizations', 'typology previous efforts multidimensional broadly applicable', 'focusing specific hierarchical level type discretion typology developed encompasses findings multiple levels types apply', 'typology extends complements previous efforts clarifying past future empirical findings advancing theory discretion organizations maturity', 'contributions discussed', 'contributions empirical study clarifying previous findings', 'providing integrated view domains discretion varies typology described provides new insight previous findings', 'example contrast earlier ocb models involving factors recent trend using conscientious initiative organizational support personal support', 'labels somewhat different factors correspond domains typology conscientious initiative describes domain like effort discretion organizational support comparable typology domain civic virtue discretion', 'contrast ocb factor personal support described follows helping offering suggestions teaching useful knowl skills directly performing tasks providing emotional support personal problems', 'cooperating accepting suggestions informing events know putting team objectives ahead personal interests', 'showing consideration courtesy tact relation motivating showing confidence', 'perspective typology developed description blurs boundaries support interpersonal style domains discretion apparently conflating', 'failing distinguish domains problematic', 'example cross-cultural study using definition predicted american chinese workers different levels personal support', 'collectivistic culture researchers predicted chinese workers competitive supportive peers', 'data support prediction', 'typology discretion studies publishing society advancement studies given insight granted typology developed failure surprising', 'operationalization personal support combined elements support discretion interpersonal style discretion domains treated factor', 'theoretically imprecise', 'individualism make workers helpful peers clear make interpersonally polite', 'obvious collectivism influence interpersonal style choices relative local norms', 'collectivism matter versus priorities style acumen', 'result study mixed distinct domains unique relationships relevant outcome mixing explain failure hypothesis', 'consistent interpretation original work threefactor ocb structure derives makes distinction sub-factors personal support helping treats', 'typology derived unsurprising personal support hypothesis supported', 'similarly consider failure model predict antecedents executive discretion', 'specifically despite repeated efforts researchers unable predicted relationship demand instability executive discretion', 'examining findings typology discretion domains reveals observed non-relation artefact measurement failure theory', 'hypothesized effect demand instability two-fold reduce clarity means ends linkages increase complexity conducting routine operations creating greater demands attention information processing capacity', 'effect unclear means ends linkages suggests technical staffing discretion increased demand instability executives justify range different capacities staffing levels pricing schedules reach stated ends', 'contrast increased complexity cognitive load effect discretion reduce effort discretion overwhelmed executives fewer resources devote work able pursue certain options', 'given surprising demand instability showed consistent measures discretion failed distinguish domains', 'assumes demand instability increases technical staffing discretion negative null effect effort goal support style civic virtue buffering discretion expect null relationship discretion measure combines domains', 'typology allows reinterpretation findings suggests theoretical prediction accurate tested precisely', 'examples comprehensive typology domains discretion organizations provides new insight previous findings', 'prior work re-examined greater theoretical precision new conclusions drawn', 'underscores discussion importance clearly defining construct', 'typology allow learned conducted', 'studies publishing society advancement studies improving future investigations', 'typology discretion facilitate improved efforts future', 'clear understanding domain structure discretion enhance accuracy hypotheses developed', 'example typology suggests three-factor model ocb effective factors allowing distinction support interpersonal style elements currently combined model personal support factor', 're-examination lines becton precise predicting cultural collectivism influence discretionary support behaviour discretionary choices interpersonal style', 'likewise investigations executive discretion fruitful recognize discretion varies independently different domains', 'example demand instability increase effort discretion likely enhance technical discretion', 'detailed understanding discretion domains contributes precision better empirical study', 'evidence consistent reasoning begun em recent investigations job demands control model', 'basic predictions jdc model effects strain level demands level control job plus interaction greater control buffers strain job demands', 'decades consistently demonstrated effects support interaction weak inconsistent', 'preliminary evidence suggests failure proposed interaction results fact demands control occur distinct domains', 'unless control domain relevant job demand limited buffering effects', 'suggests buffering interaction jdc model exist reliably detected designs incorporate domains discretion varies', 'mornerally typology allow future define discretion precision enhance quality designs results', 'contributions mature theory discretion typology suggests directions development general theory discretion organizations', 'directions include explicating antecedents consequences discretion domain likely important differences factors influence recognition use discretion particular domains individuals respond exercise discretion domain', 'example expect organizational actors relatively high agreement individual level goal discretion decisions outputs performance evaluations tend bverned rules established norms', 'contrast significant variance recognition agreement civic virtue discretion explicitly discussed', 'investigating substantive relationships typology developed suggests fundamental issues addressed', 'theoretical development lines theory discretion organizations maturity', 'typology discretion studies publishing society advancement studies particular discussed comprehensiveness typology relationships domains developent discretion profiles', 'specific theoretical propositions offered', 'comprehensiveness typology', 'asserted t-domain typology discretion organizations comprehensive', 'proposed typology defines domains individuals think discretion work inclusive types levels work', 'claim asserted proved limitations present paper', 'limitation exclusive use empirical measures discretion', 'approach offered advantage limiting typology domains demonstrated meaningful organizational members limited comprehensiveness', 'possible important domain discretion simply investigated previous', 'step addressing issue current paper used archival interview data reveal domain previously neglected', 'interview data convenience sample volunteers comprehensiveness suspect', 'claim typology developed comprehensive universal remains confirmed', 'crucial step testing typology comprehensiveness', 'circumplex structure domains', 'second theoretical assertion arising typology domains discretion circumplex structure interrelations', 'circumplex model derives statistical techniques multidimensional scaling uses spatial analogy represent relationships varying strh circular space defined underlying dimensions', 'circumplex models used range behavioural organizational studies parsimoniously represent relatively complex links multiple domains simultaneously distinct connected', 'asserted domains discretion organizations circumplex structure defined dimensions internal versus external focus task versus relational focus', 'specifically domains form pairs relatively antagonistic opposites defined underlying dimensions', 'internal external dimension concerns individuals relative focus internal environment external environment', 'dimension epitomized distinction internally focused effort discretion buffering discretion', 'task-relational dimension refers distinction focusing primarily task-related aspects work versus contextual environment work occurs', 'extremes dimension shown technical discretion focus details task executed interpersonal style discretion concerns choices approach adopts dealing others', 'studies publishing society advancement studies circumplex model empirically tested consistent available evidence', 'logical domains closely related', 'example types civic virtue behaviours chooses ge likely reflect influence choices interpersonal style treatment', 'civic virtue choices promoting organization outsiders different buffering civic virtue formally work tasks buffering nonetheless closely related activities', 'similarly thals sets using goal discretion tightly linked issues technical discretion goals imply methods specific technical options promote particular goals', 'domains conceptually distinct expect larger correlations pairs domains', 'corollary domains relatively antagonistic greater discretion domain implying', 'example interpersonal style technical domains discretion reflect traditional task relationship focus evidence shown individuals tend pursue domains expense', 'imagine inherent tension effort discretion buffering discretion chooses ge buffering behaviour choice personal levels effort satisfying external constituencies demand time en', 'consistent archival interview comments tended frame buffering activities demanding little choice difficult work required committed', 'data reported stronger evidence potential antagonism domains suggested goal discretion civic virtue discretion', 'goal discretion mentioned informants organizational figure', 'circumplex structure domains discretion organizations typology discretion studies publishing society advancement studies', 'superiors mention goal discretion typically described terms issue selling outright choice', 'example air forcneral mentioned judging hot spots potential trouble', 'described role identifying hot spots choose appropriate response', 'thneral issue selling sense directed attention particular areas final decisions thneral control', 'thneral somal discretion great food owner described freely choosing products make market', 'overall sample interview informants organizational superiors likely mention goal discretion discretion usually issue-selling variety', 'contrast informants organizational superiors mentioned twice instances civic virtue discretion compared superiors', 'pattern apparent trade-off civic virtue goal discretion imply individual goal discretion increases meaningfulness civic virtue behaviour wanes', 'easiest extreme', 'recall civic virtue behaviours concern selfless actions benefit organization', 'imagine owner sole proprietorship owner maximal goal discretion owner primary task success action taken thod organization likely construed essential work sort selfless civic virtue', 'civic virtue domain increasingly meaningful greater goal discretion', 'consistent previous shown managers tend ocb subordinates managers consider specific behaviours instances ocb subordinates', 'empirical evidence consistent circumplex structure figure', 'example three-factor model ocb includes dimensions personal support organizational support conscientious initiative correspond typology domains effort support interpersonal style civic virtue discretion', 'based correlations ocb work expect domains highly correlated domains typology', 'discussed earlier ocb factor personal support sub-factors correspond support discretion interpersonal style discretion domains typology', 'fact ocb model combines domains factor suggests closely related remaining factors interpersonal style discretion highly correlated support discretion effort discretion interpersonal style discretion effort discretion closely related staffing discretion', 'evidence conclusive suggestive', 'domains discretion likely circumplex structure interrelationships defined relative focus internal versus external task versus relationship aspects work', 'confirming empirical investigation important step defining construct nature advancing mature theory discretion organizations', 'studies publishing society advancement studies discretion profiles', 'combining previous propositions comprehensiveness circumplexity leads work described specific patterns discretion domains', 'particular close relationship discretion formal different hierarchical positions likely reliable patterns discretion', 'words discretion domains likely follow consistent pattern based hierarchical different types work particular clusters relatively high discretion domain', 'proposition discretion profiles consistent previous observations', 'implicit tendency focus particular positions hierarchical levels using line senior', 'logic treating position comparable distinct positions accords assumption position defining pattern discretion domains', 'example discretion supervisors probably like supervisors like senior executives', 'support provided studies explicitly compare hierarchical levels', 'example study job crafting nature job crafting differed hierarchical level', 'higher-level employees reported primary concerns job crafting addressing expectations priorities lower-level employees contend expectations', 'example higher-level employees described freedom specifying details general objectives choosing means used reach lower-level employees assigned specific tasks given prescribed ways execute', 'using terms typology developed middle managers reported moderatal discretion high technical discretion line employees perceived little discretion domains', 'based findings proposed fundamental patterns discretion organizations', 'discretion distinguished high levels discretion effort support interpersonal style civic virtue combined table ii', 'discretion profiles domain discretion supervisory discretion managerial discretion executive discretion effort discretion high moderate moderate goal discretion moderate high technical discretion moderate high high staffing discretion moderate high high support discretion high moderate high high interpersonal style discretion high moderate civic virtue discretion high high moderate buffering discretion moderate moderate high typology discretion studies publishing society advancement studies discretion domains', 'typical members discretion contextual extra-role behaviour relatively little choice task duties', 'contrast supervisory discretion provides somewhat control technical choices staffing buffering behaviour thosins come expense freedom choosing levels effort support interpersonal style', 'example sorts marginally rude behaviour curmudgeonly member away considered inappropriate potentially discriminatory supervisor', 'managerial discretion predicted provide discretion domains managers generally freedom organizations executive discretion provides theatest choice operational areas consequently freedom effort civic virtue interpersonal style', 'important note managerial executive discretion profiles relatively high levels staffing discretion simultaneously high levels support discretion', 'circumplex model dimensions correspond bottomright top-left quadrants respectively predicted antagonistic', 'circumplex model suggests increased discretion domain undermine discretion', 'apparent conflict prove reflect deficiency circumplex model discretion profiles likely indicative tensions holding senior office', 'example shown organizational leaders required ge apparently opposing behaviours overcome paradox simultaneously achieving opposites', 'so-called range leadership requires individuals simultaneously transformational transactional followers despite inherent antagonism styles', 'apparent contradiction managerial executive profiles likely reflection paradox involved leadership', 'discretion profiles numerous theoretical opportunities', 'provide rigorous classify compare different workers jobs', 'individuals similar discretion various domains work situations similar fundamental level', 'make sense compare individuals based domains high discretion using traditional job classifications', 'example workers different industries different work content job titles patterns discretion comparable supervisory discretion profile usefully compared basis', 'discretion profiles provide work reveals similarities missed details jobs', 'discretion profiles facilitate better descriptions efforts', 'example ocb currently experiencing internal disagreement definition citizenship usefully reframed studying antecedents consequences discretion work', 'defined ocb project avoid problems currently facing differences ocb perception hierarchical level', 'studies publishing society advancement studies conclusion discretion fundamental element life organizations', 'universal human need inevitable consequence interdependent activity', 'surprising discretion shown influence key outcomes organization studies concerned', 'despite ubiquity importance mature theory discretion organizations', 'paper offers step theory integrating previous findings reveal discretion encompasses distinct domains', 'delineating typology contribute better interpretation previous findings greater precision future studies', 'highlights circumplex structure discretion organizations fundamental discretion profiles work described', 'ways typology developed contributes mature theory discretion', 'begins work reaching construct clarity foundation theory insight']\n"
     ]
    }
   ],
   "source": [
    "print(data_proc2[ref_doc].split('. '))\n",
    "\n",
    "sents = []\n",
    "for d in data_proc2:\n",
    "    sents += d.split('. ')"
   ]
  },
  {
   "cell_type": "code",
   "execution_count": 70,
   "metadata": {},
   "outputs": [
    {
     "name": "stdout",
     "output_type": "stream",
     "text": [
      "['job time new economy impact interaction individual structural temporalities job satisfactionjoms', 'beth', 'abstract economy creates new organizational temporalities including temporal structure called layered-task time characterized greater simultaneity fragmentation contamination constraint', 'paper develops measure ltt examines relationship components job satisfaction moderated individual polychronicity propensity multitasking', 'total employees various jobs organizations industries surveyed', 'ltt measures provide promising initial evidence reliability content validity', 'polychronic satisfied environments characterized need multitasking using dissimilar skills organizational temporal constraint unpredictable shifts temporal boundaries', 'finally discuss implications temporal structures workplace', 'keywords job satisfaction layered-task time polychronicity temporal structures time introduction contemporary global economy operates unprecedented speeds information knowl transfer', 'acceleration economic activity impacts temporal structure organizations actors shifting temporal structures clock-based task-based', 'focused aspects organizational change empirical regarding new temporal structures organizations consequences experience organizational actors scarce', 'organizations changed response intensified global competition workplaces similarly changed allow rapid flexible responses unpredictable address reprints city boulevard nc', 'authorship alphabetical', 'earlier version paper presented meeting southern sociological society', 'studies publishing society advancement studies', 'published publishing garsington road ox dq uk street', 'studies', '-changes deadlines schedules cycles requiring employees variety tasks time', 'subsequent acceleration intensification work linked variety outcomes employees increased work family conflict time famine stress insufficient time complete tasks', 'similarly complex high pressure work conditions typically require multitasking lead work overload general sense declining job quality', 'time literature implies multitasking allows employees perform tasks smaller period time multitasking actually impairs performance cognitive toll task switching', 'studies restructuring financial industries instance considerable work intensification employees indicate despite working extremely hard unable complete tasks', 'likewise increased reliance teams newly structured organizations shifted bases organizational competitive advantage industry dominance temporal advantage', 'organizational success increasingly depends extent product development teams effectively multitask respond nimbly turbulent environments generate shifting deadlines irregular pacing', 'words current temporal conditions employees operate introduce new challs employees negotiate work effectively sustain job life satisfaction', 'macro-level changes micro-level consequences generate new questions sorts workplace factors mitigate adverse effects conditions', 'understanding factors mediate impact changed temporal conditions individuals requires understanding temporal conditions', 'chapter explores emnce new temporal conditions introduced construct layered-task time theoretically linking recent macro-level changes emnt temporal conditions jobs organizations characteristic new economy', 'study test hypotheses linking components new temporal structure called layered-task time employee job satisfaction depending polychronicity degree individuals prefer multitasking', 'job satisfaction particularly appropriate understanding organizational changes impact individuals experience jobs useful assessing consequences organizational changes', 'organizations shifted organizational structures affected temporal structures', 'explore interaction structural temporalities emd response macro-level organizational changes micro-level temporalities impact interaction important individual outcome', 'develop measure various facets ltt based theoretical arguments order inform theory organizational temporality', 'and', 'studies publishing society advancement studies layered-task time temporal structures contemporary organizations like pre-modern era task- clock-focused', 'transition premodern task event-based agricultural craft modern manufacturing required shift standardized clock-based temporal structures workplace', 'work effort defined explicit standardized blocks time regulated time employees spent tasks', 'work started employees punched ended employees punched', 'century later response competitive pressures globalized technologically mediated economy expectations working changed organizations individuals work', 'better respond new economy organizations flattened decentralized sought increase flexibility', 'debureaucratization alters organizational boundarymanagement sequencing tasks allocation predictability work', 'posited changes contemporary economy led emnce new organizational temporal structure ltt', 'organizations shifted linear processing tasks routines layered multi-dimensional temporal organizational process', 'turn determinant employee productivity rests completion tasks instead clock', 'addition distinction clock-time event-time temporalities ordered life events natural cycles new temporal orientation emd revolves tasks task-time', 'layered aspect ltt grounded excessive pressure facilitated organizational restructuring new technologies employees experience complete work tasks', 'tasks layered employees triage tasks order successfully complete', 'new temporalities require multitasking create new time-sense affects number tasks timing continuity rhythms work', 'disaggregated ltt job- organization-level components represent various facets temporality', 'based description ltt argued jobs characterized greater time urgency simultaneity fragmentation contamination constraint', 'specifically time urgency represents temporal pressure jobs simultaneity represents need work multiple tasks fragmentation captures discontinuity work job contamination reflects diverse sets skills contained variety tasks necessary perform job constraint captures irregularity job deadlines', 'unpredictable schedules highly synchronized jobs organization irregular work cycles loosely dictated temporal autonomy jobs organization irregular changes pacing work operate organizational level', 'posited changed temporal components debureaucratized decentralized organization longer derived centralized organizational processes instead develop organically linked activities flattened time new economy studies publishing society advancement studies organizations', 'work activities temporally non-linear causing regularity synchronization scheduling cycles pacing', 'flattened organizations use self-managed teams work allocated', 'teams negotiate temporalities uniformity despite coordinate efforts flattened organizations', 'ltt draws integrates extends recent organizational temporalities', 'scholars instance explored time urgency simultaneity schedules', 'literature examined macroorganizational job characteristics impact individuals experiences satisfaction jobs', 'considering relative importance temporal structure seek address', 'bring additional component temporality fore individuals polychronicity', 'turn discussion polychronicity potential impact job satisfaction', 'polychronicity job satisfaction organizational scientists attended temporality individual-level study polychronicity', 'draw literature examine interaction job- organization-level temporal structures individual-level polychronicity', 'focus interaction anticipate macro-temporal structures differentially affect employee job satisfaction dependent individual temporal perspective', 'polychronicity refers degree prefers performing multiple tasks', 'early polychronicity focused culture scholars recently begun examine individual-level polychronicity', 'relevant scholars linked variation polychronicity job satisfaction', 'demonstrated front-line retail jobs regularly entail interruptions task-switching polychronic satisfied jobs', 'examined effect person job fit polychronicity continuum theoretically empirically examined polychronicity interaction temporal structures job organization impact job satisfaction', 'interested individuals temporal preference multitasking interacts job organizational temporal structures impact researched dependent variable organizational sciences job satisfaction', 'considerable understanding job satisfaction makes relevant outcome variable exploratory', 'kalleb argued employees personality job structure position role characteristics organization structure job content factors environmental factors opportunities promotion hours work interact contribute experience satisfaction workplace', 'job satisfaction reflects impact organizational change individual particularly useful outcome context research', 'and', 'studies publishing society advancement studies study despitowing organizational workplace temporality little linked polychronicity individual job-related outcomes jobs characterized increased uncertainty unpredictability time urgency situated context organizations temporal structures', 'argued polychronicity life process strategy effectiveness dependent factors include workplace characteristics individuals respond positively free-running behavior polychronicity continuum convs work context', 'general ltt structures characterized discontinuity complexity unpredictably', 'polychronic people capable managing fragmented tasks time-pressured jobs require uncertainty-management flexibility polychronic likely satisfied jobs organizations characterized ltt', 'expect ltt facets identified time urgency simultaneity fragmentation contamination constraint schedule synchronization allocation unpredictability likely differentially vary interact polychronicity impacting job satisfaction', 'simultaneity simultaneity refers degree multitasking necessary facet job', 'polychronicity preference multitasking multitasking reflects actual behaviour ging multiple tasks', 'polychronicity multitasking theoretically linked könig significant relationship polychronicity multitasking', 'finding replicated given competing perspectives anticipate polychronicity positively impacts relationship simultaneity job satisfaction', 'hypothesis polychronicity moderates relationship simultaneity job satisfaction', 'individuals polychronic higher job satisfaction jobs characterized greater simultaneity', 'fragmentation fragmentation refers frequent job interruptions', 'highly fragmented jobs require employees ge various tasks interchangeably', 'polychronic handle interruptions better monochronic', 'employee polychronic likely satisfied job characterized frequent interruptions monochronic employee', 'hypothesize hypothesis polychronicity moderates relationship fragmentation job satisfaction', 'individuals polychronic higher job satisfaction jobs characterized greater fragmentation', 'time new economy studies publishing society advancement studies contamination contamination extent job requires employees use different skills skill sets perform different tasks interchangeably reflecting need multitask jobs characterized contamination definition replete varying tasks require dissimilar skills', 'kaufman-scarborough lindquist argued polychronic people likely able comfortable interruptions activity switches', 'polychronic employees likely better negotiate fragmented jobs jobs require changes skills required variable tasks', 'hypothesis polychronicity moderates relationship contamination job satisfaction', 'individuals polychronic higher job satisfaction jobs characterized greater contamination', 'constraint constraint degree irregular deadlines imposed employee job-level', 'irregular deadlines reflect unpredictable workplace employees adjust work plan accommodate unexpected demands', 'polychronic employees comfortable reacting irregular unpredictably changing deadlines haveater job satisfaction jobs require flexibility inconsistent work tasks']\n"
     ]
    }
   ],
   "source": [
    "print(sents[0:100])"
   ]
  },
  {
   "cell_type": "code",
   "execution_count": 71,
   "metadata": {},
   "outputs": [],
   "source": [
    "# save data\n",
    "pickle.dump(data_proc2, open( \"C:/Thesis/Data/save/Master_Data/pre_processed_data/data_preprocessed.p\", \"wb\" ) )"
   ]
  },
  {
   "cell_type": "code",
   "execution_count": 72,
   "metadata": {},
   "outputs": [],
   "source": [
    "import io\n",
    "\n",
    "# writing documents one sentence per line to form a larger data set (allowing use of a generator for model training):\n",
    "with open(\"C:/Thesis/Data/save/Master_Data/pre_processed_data/data_preprocessed_txt.txt\", \"a\",encoding=\"utf-8\") as outfile:\n",
    "    \n",
    "    for s in sents:\n",
    "        outstring = s + '\\n'\n",
    "        outfile.write(outstring)\n",
    "        \n",
    "# (additionally you could keep document boundaries intact, \n",
    "# e.g. by writing a file per document or marking start and end of articles in the larger file)"
   ]
  },
  {
   "cell_type": "code",
   "execution_count": null,
   "metadata": {},
   "outputs": [],
   "source": [
    "#import io\n",
    "#with open(\"C:/Thesis/Data/save/Master_Data/MD_3/data_proc_latest/JM_data_proc_txt.txt\", \"w\",encoding=\"utf-8\") as outfile:\n",
    "#    for i in range(len(data_proc)):\n",
    "#        outstring = \"\"\n",
    "#        outstring += str(data_proc[i])\n",
    "#        outfile.write(outstring)"
   ]
  },
  {
   "cell_type": "code",
   "execution_count": null,
   "metadata": {},
   "outputs": [],
   "source": []
  }
 ],
 "metadata": {
  "kernelspec": {
   "display_name": "Python 3",
   "language": "python",
   "name": "python3"
  },
  "language_info": {
   "codemirror_mode": {
    "name": "ipython",
    "version": 3
   },
   "file_extension": ".py",
   "mimetype": "text/x-python",
   "name": "python",
   "nbconvert_exporter": "python",
   "pygments_lexer": "ipython3",
   "version": "3.7.6"
  }
 },
 "nbformat": 4,
 "nbformat_minor": 2
}
