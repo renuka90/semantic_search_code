{
 "cells": [
  {
   "cell_type": "code",
   "execution_count": null,
   "metadata": {},
   "outputs": [],
   "source": [
    "import os\n",
    "import re\n",
    "import pandas as pd\n",
    "import urllib\n",
    "from nltk import SnowballStemmer\n",
    "from gensim.models import Word2Vec\n",
    "#import langdetect\n",
    "import tika\n",
    "import time\n",
    "from tika import parser\n",
    "import pickle"
   ]
  },
  {
   "cell_type": "markdown",
   "metadata": {},
   "source": [
    "# Raw Articles pdf Data\n",
    "Convert pdf to text using Tika apache server "
   ]
  },
  {
   "cell_type": "code",
   "execution_count": null,
   "metadata": {},
   "outputs": [],
   "source": [
    "# specify the target data folder\n",
    "\n",
    "target_dir = 'C:/Thesis/Data/Organizational_behavior_and_HDP'"
   ]
  },
  {
   "cell_type": "code",
   "execution_count": null,
   "metadata": {},
   "outputs": [],
   "source": [
    "# prep pdf extraction\n",
    "pdf_files = []\n",
    "wrd_files = []\n",
    "\n",
    "for f in os.listdir(target_dir):\n",
    "    if f.endswith(\".pdf\") | f.endswith(\".PDF\"):\n",
    "        thispdf = os.path.join(target_dir, f)\n",
    "        pdf_files = pdf_files + [thispdf]\n",
    "    if f.endswith(\".doc\") | f.endswith(\".docx\") | f.endswith(\".DOC\") | f.endswith(\".DOCX\"):\n",
    "        thiswrd = os.path.join(target_dir, f)\n",
    "        wrd_files = wrd_files + [thiswrd]"
   ]
  },
  {
   "cell_type": "code",
   "execution_count": null,
   "metadata": {
    "scrolled": true
   },
   "outputs": [],
   "source": [
    "port = 4321 # port to use for Tika server (chosen arbitrarily)\n",
    "server_str = 'http://localhost:' + str(port)\n",
    "tika_path  = 'C:\\Software\\ tika-server-1.23.jar'\n",
    "tika_run   = 'java -jar' + tika_path + ' --port ' + str(port)\n",
    "print('Command to start Tika:')\n",
    "print(tika_run)\n",
    "print('---')\n",
    "print('Number of pdf files: ' + str(len(pdf_files)))\n",
    "print('Number of word files: ' + str(len(wrd_files)))"
   ]
  },
  {
   "cell_type": "code",
   "execution_count": null,
   "metadata": {},
   "outputs": [],
   "source": [
    "# process the PDF files, store text in memory\n",
    "tika.TikaClientOnly = True \n",
    "\n",
    "pdf_metadata = [parser.from_file(t, server_str, xmlContent=False)[\"metadata\"] for t in (pdf_files + wrd_files)]"
   ]
  },
  {
   "cell_type": "code",
   "execution_count": null,
   "metadata": {},
   "outputs": [],
   "source": [
    "# save data metadata\n",
    "pickle.dump(pdf_metadata, open( \"C:/Thesis/Data/save/Organizational_behavior_and_HDP/metadata/metadata_all.p\", \"wb\" ) )"
   ]
  },
  {
   "cell_type": "markdown",
   "metadata": {},
   "source": [
    "# Text Data\n",
    "\n",
    "Eliminate title, sections (eg: content between Method and Discussion) and Reference. It is saved as a pre-processed data"
   ]
  },
  {
   "cell_type": "code",
   "execution_count": null,
   "metadata": {
    "scrolled": true
   },
   "outputs": [],
   "source": [
    "# process the PDF files, store text in memory\n",
    "tika.TikaClientOnly = True \n",
    "\n",
    "pdf_text = [parser.from_file(t, server_str, xmlContent=False)[\"content\"] for t in (pdf_files + wrd_files)]"
   ]
  },
  {
   "cell_type": "code",
   "execution_count": null,
   "metadata": {},
   "outputs": [],
   "source": [
    "# save data\n",
    "pickle.dump(pdf_text, open( \"C:/Thesis/Data/save/Organizational_behavior_and_HDP/save_alltextData.p\", \"wb\" ) )"
   ]
  },
  {
   "cell_type": "markdown",
   "metadata": {},
   "source": [
    "#  Load the Text data"
   ]
  },
  {
   "cell_type": "code",
   "execution_count": 1,
   "metadata": {},
   "outputs": [],
   "source": [
    "import pickle\n",
    "#load the text data\n",
    "pdf_text = pickle.load(open(\"C:/Thesis/Data/save/Organizational_behavior_and_HDP/save_alltextData.p\", \"rb\"))\n"
   ]
  },
  {
   "cell_type": "code",
   "execution_count": 2,
   "metadata": {},
   "outputs": [
    {
     "data": {
      "text/plain": [
       "793"
      ]
     },
     "execution_count": 2,
     "metadata": {},
     "output_type": "execute_result"
    }
   ],
   "source": [
    "len(pdf_text)"
   ]
  },
  {
   "cell_type": "markdown",
   "metadata": {},
   "source": [
    "# Get country names"
   ]
  },
  {
   "cell_type": "code",
   "execution_count": 3,
   "metadata": {},
   "outputs": [],
   "source": [
    "# Since it is case sensetive, firstly get the list of country before converting the text to lowercase\n",
    "country_list = ['america', 'vietnam', 'usa']\n",
    "import pycountry\n",
    "\n",
    "for country in pycountry.countries:\n",
    "#    for i in pdf_text:\n",
    "#        if country.name in i:\n",
    "            #print(country.name)\n",
    "            country_list.append(country.name.lower())"
   ]
  },
  {
   "cell_type": "code",
   "execution_count": 4,
   "metadata": {},
   "outputs": [],
   "source": [
    "#Convert country list to lower case. it will be called in filter function\n",
    "#country_lower = [x.lower() for x in country_list]\n",
    "#print(country_list)"
   ]
  },
  {
   "cell_type": "markdown",
   "metadata": {},
   "source": [
    "# Get city names (and additional countries)"
   ]
  },
  {
   "cell_type": "code",
   "execution_count": 5,
   "metadata": {},
   "outputs": [],
   "source": [
    "from geotext import GeoText\n",
    "\n",
    "cities_list = []\n",
    "for i in pdf_text:\n",
    "    place = GeoText(i)\n",
    "    #print(place.cities)\n",
    "    #print(place.countries)\n",
    "    cities_list.append(place.cities + place.countries)\n",
    "\n",
    "t = []\n",
    "for i in cities_list:\n",
    "    t += i\n",
    "    \n",
    "# print(len(t))    \n",
    "    \n",
    "cities_list = list(set(t))\n",
    "# cities_list"
   ]
  },
  {
   "cell_type": "code",
   "execution_count": 6,
   "metadata": {},
   "outputs": [
    {
     "name": "stdout",
     "output_type": "stream",
     "text": [
      "1326\n"
     ]
    }
   ],
   "source": [
    "#Convert cities list to lower case. it will be called in filter function\n",
    "cities_lower =[]\n",
    "for i in cities_list:\n",
    "    #for j in i:\n",
    "    cities_lower.append(i.lower())\n",
    "print(len(cities_lower))\n"
   ]
  },
  {
   "cell_type": "markdown",
   "metadata": {},
   "source": [
    "#  Convert pdf text to lower case"
   ]
  },
  {
   "cell_type": "code",
   "execution_count": 7,
   "metadata": {},
   "outputs": [],
   "source": [
    "#Convert each string to lowercase\n",
    "for i in range(len(pdf_text)):\n",
    "    pdf_text[i] = pdf_text[i].lower()"
   ]
  },
  {
   "cell_type": "markdown",
   "metadata": {},
   "source": [
    "# Excluding pdfs if it doesnot have the standard format \n",
    "check the standard format of pdf- if it contains method and discussion section or not"
   ]
  },
  {
   "cell_type": "code",
   "execution_count": 8,
   "metadata": {},
   "outputs": [
    {
     "data": {
      "text/plain": [
       "424"
      ]
     },
     "execution_count": 8,
     "metadata": {},
     "output_type": "execute_result"
    }
   ],
   "source": [
    "import re\n",
    "pdf_included =[]\n",
    "pdf_excluded =[]\n",
    "\n",
    "for i in pdf_text:\n",
    "    flag_1 = re.search(r'\\n(general )?discussion\\n', i)\n",
    "    flag_2 = re.search(r'\\nmethods?\\n', i)\n",
    "   \n",
    "    if flag_1 and flag_2: \n",
    "        pdf_included.append(i)\n",
    "     \n",
    "    else:\n",
    "        pdf_excluded.append(i)\n",
    "len(pdf_included)"
   ]
  },
  {
   "cell_type": "code",
   "execution_count": 9,
   "metadata": {},
   "outputs": [
    {
     "data": {
      "text/plain": [
       "369"
      ]
     },
     "execution_count": 9,
     "metadata": {},
     "output_type": "execute_result"
    }
   ],
   "source": [
    "len(pdf_excluded)"
   ]
  },
  {
   "cell_type": "code",
   "execution_count": 10,
   "metadata": {},
   "outputs": [],
   "source": [
    "# Within JM: acknowledgement section appears in two approaches:1: before or after keyword section (only few pdfs)\n",
    "# 2: before reference section (maximum pdfs)\n",
    "# thus, focusing on the majority occurance of acknowledgements before reference second, we removed it based on that condition.\n",
    "\n",
    "# step-1 remove content after acknowledgements section( it will include appendix, reference section)\n",
    "pdf_remove_step1 = [re.sub(r\"(?is)\\nacknowledgments\\n.*\", \"\", f) for f in pdf_included]\n",
    "\n",
    "# step-2 if there is no acknowledgements section than start with appendix (it will include reference section.)\n",
    "pdf_remove_step2 = [re.sub(r\"(?is)\\nappendix\\n.*\", \"\", f) for f in pdf_remove_step1]\n",
    "\n",
    "# step-3 remove all from reference section\n",
    "pdf_remove_step3 = [re.sub(r\"(?is)\\nreferences\\n.*\", \"\", f) for f in pdf_remove_step2]\n",
    "\n",
    "# get the reference section\n",
    "references = [re.sub(r\"^(.|\\n)+\\nreferences\\n\", \"\", f) for f in pdf_included]"
   ]
  },
  {
   "cell_type": "code",
   "execution_count": 11,
   "metadata": {},
   "outputs": [
    {
     "data": {
      "text/plain": [
       "424"
      ]
     },
     "execution_count": 11,
     "metadata": {},
     "output_type": "execute_result"
    }
   ],
   "source": [
    "len(pdf_remove_step3)"
   ]
  },
  {
   "cell_type": "code",
   "execution_count": 12,
   "metadata": {},
   "outputs": [],
   "source": [
    "# step-4: remove content between method and discussion section (it contains method and result section)\n",
    "def remove_method_result(method, discussion, text):\n",
    "    \n",
    "    import re    \n",
    "    start = method\n",
    "    end = discussion\n",
    "    #start of pattern, followed by any number of times 'any character OR a newline' and terminated by the end pattern.\n",
    "    #pattern = start + '.*'+'(.|\\n)*'+end\n",
    "    pattern = start +'(.|\\n)*'+end\n",
    "    #pdf_method_dis = [re.sub(pattern, '', f) for f in pdf_text]\n",
    "    pdf_method_dis = re.sub(pattern, '', text)\n",
    "\n",
    "    return pdf_method_dis"
   ]
  },
  {
   "cell_type": "code",
   "execution_count": 13,
   "metadata": {},
   "outputs": [],
   "source": [
    "import re\n",
    "#  remove method and result\n",
    "pdf_remove_step4 = [remove_method_result('\\nmethods?\\n', '\\n(general )?discussion\\n', t) for t in pdf_remove_step3]"
   ]
  },
  {
   "cell_type": "code",
   "execution_count": 14,
   "metadata": {},
   "outputs": [
    {
     "data": {
      "text/plain": [
       "424"
      ]
     },
     "execution_count": 14,
     "metadata": {},
     "output_type": "execute_result"
    }
   ],
   "source": [
    "len(pdf_remove_step4)"
   ]
  },
  {
   "cell_type": "markdown",
   "metadata": {},
   "source": [
    "# Pre-processing\n",
    "Regular expression is used to clean up the data"
   ]
  },
  {
   "cell_type": "code",
   "execution_count": 15,
   "metadata": {},
   "outputs": [
    {
     "name": "stdout",
     "output_type": "stream",
     "text": [
      "\n",
      "\n",
      "\n",
      "\n",
      "\n",
      "\n",
      "\n",
      "\n",
      "\n",
      "\n",
      "\n",
      "\n",
      "\n",
      "\n",
      "\n",
      "\n",
      "\n",
      "\n",
      "\n",
      "\n",
      "\n",
      "\n",
      "\n",
      "\n",
      "\n",
      "\n",
      "\n",
      "\n",
      "\n",
      "\n",
      "\n",
      "\n",
      "\n",
      "\n",
      "\n",
      "\n",
      "\n",
      "\n",
      "\n",
      "\n",
      "\n",
      "\n",
      "\n",
      "\n",
      "\n",
      "\n",
      "\n",
      "\n",
      "\n",
      "\n",
      "\n",
      "\n",
      "\n",
      "a cross-cultural study of reference point adaptation: evidence from china, korea, and the us\n",
      "\n",
      "\n",
      "organizational behavior and human decision processes 112 (2010) 99–111\n",
      "contents lists available at sciencedirect\n",
      "\n",
      "organizational behavior and human decision processes\n",
      "\n",
      "journal homepage: www.elsevier .com/ locate/obhdp\n",
      "a cross-cultural study of reference point adaptation: evidence from china, korea,\n",
      "and the us q\n",
      "\n",
      "hal r. arkes a,*, david hirshleifer b, danling jiang c, sonya s. lim d\n",
      "\n",
      "a department of psychology, the ohio state university, oh, united states\n",
      "b paul merage school of business, university of california, irvine, ca, united states\n",
      "c college of business, the florida state university, fl, united states\n",
      "d the kellstadt graduate school of business, depaul university, il, united states\n",
      "a r t i c l e i n f o\n",
      "\n",
      "article history:\n",
      "received 25 september 2008\n",
      "accepted 21 february 2010\n",
      "available online 25 march 2010\n",
      "\n",
      "accepted by william bottom\n",
      "\n",
      "keywords:\n",
      "prospect theory\n",
      "cross-cultural differences\n",
      "reference point adaptation\n",
      "mental accounting\n",
      "security trading\n",
      "0749-5978/$ - see front matter � 2010 elsevier inc. a\n",
      "doi:10.1016/j.obhdp.2010.02.002\n",
      "\n",
      "q the order of the authors is alphabetical. each a\n",
      "equally to the project.\n",
      "\n",
      "* corresponding author. address: department of ps\n",
      "sity, 240 n lazenby hall, columbus, oh 43210-1222, u\n",
      "3984 (h.r. arkes).\n",
      "\n",
      "e-mail address: arkes.1@osu.edu (h.r. arkes).\n",
      "a b s t r a c t\n",
      "\n",
      "we examined reference point adaptation following gains or losses in security trading using participants\n",
      "from china, korea, and the us. in both questionnaire studies and trading experiments with real money\n",
      "incentives, reference point adaptation was larger for asians than for americans. subjects in all countries\n",
      "adapted their reference points more after a gain than after an equal-sized loss. when we introduced a\n",
      "forced sale intervention that is designed to close the mental account for a prior outcome, americans\n",
      "showed greater adaptation toward the new price than their asian counterparts. we offer possible expla-\n",
      "nations both for the cross-cultural similarities and the cross-cultural differences.\n",
      "\n",
      "� 2010 elsevier inc. all rights reserved.\n",
      "introduction\n",
      "\n",
      "prospect theory (kahneman & tversky, 1979) is one of the – if\n",
      "not the – most prominent descriptive theories of decision making\n",
      "under uncertainty. although originally designed as a static model,\n",
      "it has been widely applied to dynamic settings in economics and\n",
      "business research to understand work effort, brand choices, capital\n",
      "budgeting, stock returns, trading volumes, and option exercises\n",
      "(e.g., barberis & huang, 2001; grinblatt & han, 2005; hardie, john-\n",
      "son, & fader, 1993; heath, huddart, & lang, 1999; heath, larrick, &\n",
      "wu, 1999; keasey & moon, 1996; mas, 2006). an important pre-\n",
      "mise of these applications of prospect theory is that reference\n",
      "points shift over time, but only recently have scholars started to\n",
      "explore systematically the dynamic properties of reference points.\n",
      "furthermore, research that examines such properties across differ-\n",
      "ent cultures is almost non-existent. given the large body of re-\n",
      "search showing that culture affects individual judgment and\n",
      "decisions, a primary purpose of this manuscript was to ascertain\n",
      "whether reference point adaptation exhibits cross-cultural varia-\n",
      "tions, and if so, what are the possible causes of these variations.\n",
      "ll rights reserved.\n",
      "\n",
      "uthor contributed fully and\n",
      "\n",
      "ychology, ohio state univer-\n",
      "nited states. fax: +1 614 688\n",
      "a natural hypothesis for the dynamics of reference point adapta-\n",
      "tion is that the reference point moves in a manner consistent with\n",
      "the prior outcome, shifting upward following a gain and downward\n",
      "following a loss. using subjects from the us, arkes, hirshleifer, jiang,\n",
      "and lim (2008) found that reference points adapt asymmetrically:\n",
      "such adaptation was significantly larger following a gain than fol-\n",
      "lowing a loss.1 they also found that when the initial paper gain or loss\n",
      "is realized, adaptation both to losses and gains appeared to be en-\n",
      "hanced. the current paper applied the measurement approach of\n",
      "arkes et al. to encompass both east-asian and us subjects. in addition,\n",
      "we employed two additional questionnaire designs to estimate refer-\n",
      "ence points. in all approaches we identified both cross-cultural simi-\n",
      "larities and differences in reference point adaptation.\n",
      "\n",
      "performing cross-cultural studies in reference point adaptation\n",
      "was motivated by recent research that has documented important\n",
      "differences in several judgment and decision making phenomena\n",
      "across countries. east-asians, who live in collectivist societies, ex-\n",
      "hibit behavioral differences in many aspects from americans, who\n",
      "live in an individualist society. research has shown that, relative to\n",
      "americans, east-asians appear to be more overconfident (yates,\n",
      "lee, & shinotsuka, 1996), more risk seeking in the financial domain\n",
      "(hsee & weber, 1999), more holistic than analytic, more likely to\n",
      "1 in a somewhat similar spirit, strahilevitz and loewenstein (1998) conjectured\n",
      "that ‘‘. . . adaptation to losses takes longer than adaptation to gains and would\n",
      "therefore require a greater time interval to observe.”\n",
      "\n",
      "http://dx.doi.org/10.1016/j.obhdp.2010.02.002\n",
      "mailto:arkes.1@osu.edu\n",
      "http://www.sciencedirect.com/science/journal/07495978\n",
      "http://www.elsevier.com/locate/obhdp\n",
      "\n",
      "\n",
      "fig. 1. (left): no adaptation to the loss that is depicted at point l. (right): full\n",
      "adaptation to the loss that is depicted at point l.\n",
      "\n",
      "100 h.r. arkes et al. / organizational behavior and human decision processes 112 (2010) 99–111\n",
      "attribute outcomes to contextual rather than to internal factors\n",
      "(morris & peng, 1994), more prone to detect stronger associations\n",
      "between events and apt to place less value on having personal con-\n",
      "trol (ji, peng, & nisbett, 2000), and more likely to expect that\n",
      "changes that have occurred in the past will reverse in the future\n",
      "(ji, nisbett, & su, 2001). all of these factors represent potential\n",
      "influences on the determination of reference points.\n",
      "\n",
      "cross-cultural study of reference point adaptation can help us\n",
      "to understand the potential sources of variations in financial mar-\n",
      "ket behavior across the world. scholars have used prospect theory\n",
      "to understand a number of anomalous stock market phenomena,\n",
      "including excess volatility, the equity premium puzzle, the value\n",
      "effect, the momentum effect, the disposition effect, and ipo under-\n",
      "performance (e.g., barberis & huang, 2001; barberis & xiong, 2009;\n",
      "bernartzi & thaler, 1995; shefrin & statman, 1985). there is evi-\n",
      "dence that the high equity premium, the value effect, the momen-\n",
      "tum effect, and the disposition effect are present outside the\n",
      "united states to varying extents.2 the issue of reference point\n",
      "updating is potentially important for applications of prospect theory\n",
      "to these empirical findings.\n",
      "motivation and literature review\n",
      "\n",
      "reference point adaptation in prospect theory\n",
      "\n",
      "kahneman and tversky (1979) proposed prospect theory as an\n",
      "alternative to the normative theory of expected utility maximiza-\n",
      "tion. there are three main elements of prospect theory: first, peo-\n",
      "ple derive utility from gains and losses relative to a reference point,\n",
      "while traditional utility theory assumes that people derive utility\n",
      "from total wealth or consumption. although the reference point\n",
      "is generally one’s current wealth (kahneman & tversky, 1979),\n",
      "aspiration levels or norms can also serve this function (heath,\n",
      "larrick, et al., 1999; kahneman & tversky, 1979, p. 286). second,\n",
      "the value function is concave in the domain of gains and convex\n",
      "in the domain of losses. the shape of the function captures ‘‘dual\n",
      "risk attitudes”: individuals tend to be risk averse in the gain do-\n",
      "main but risk seeking in the loss domain. third, the effect of a loss\n",
      "on utility is much larger than that of a gain of the same size (‘‘loss\n",
      "aversion”).\n",
      "\n",
      "prospect theory has most commonly been applied to static deci-\n",
      "sion environments. in dynamic applications such as stock trading,\n",
      "2 e.g., fama and french (1998), rouwenhorst (1998), grinblatt and keloharju\n",
      "(2001), chui, titman, and wei (2010), feng and seasholes (2005), and dimson, marsh,\n",
      "& staunton (2008).\n",
      "repeated bargaining and negotiation, work efforts, and firm invest-\n",
      "ments, it is important to understand how reference points are up-\n",
      "dated after individuals experience outcomes over time.\n",
      "\n",
      "consider the prospect theory value function depicted in fig. 1. if\n",
      "a loss has occurred, the decision maker is at point l in fig. 1a. if a\n",
      "subsequent decision is to be made and the reference point has not\n",
      "adapted to the initial loss, the decision maker will likely be risk\n",
      "seeking, in that a further loss will cause only a small decrease on\n",
      "the y-axis, whereas a further gain will result in a larger increase.\n",
      "however if the decision maker adapts fully to the initial loss, then\n",
      "fig. 1b depicts this situation. now the decision maker will be less\n",
      "risk seeking, because the ‘‘re-centering” of the origin of the graph\n",
      "on the current state of affairs causes a loss to be more painful than\n",
      "it would have been in fig. 1a. thus, if the reference point does not\n",
      "budge following a loss, then the decision maker is likely to become\n",
      "risk seeking and to try to recover the loss, leading to such phenom-\n",
      "ena as the sunk cost effect (arkes & blumer, 1985) or the disposi-\n",
      "tion effect (shefrin & statman, 1985). on the other hand, if the\n",
      "reference point adapts downward following a loss, the decision\n",
      "maker is able to ‘‘make peace” with this loss and will be less likely\n",
      "to ‘‘throw good money after bad.”\n",
      "\n",
      "there are a very few cross-cultural studies pertaining to the sta-\n",
      "tic aspects of prospect theory. however, we know of no cross-cul-\n",
      "tural research on its dynamic aspects, which are the focus of our\n",
      "study. there are a very few studies testing the dynamic aspects\n",
      "of prospect theory using us subjects. using both hypothetical out-\n",
      "comes depicted in questionnaire studies and monetary outcomes\n",
      "from a coin-toss game, chen and rao (2002) found that the order\n",
      "in which two equal but opposite events (gain/loss) occurred af-\n",
      "fected the subject’s final affective state, suggesting that a shift in\n",
      "the reference point must have occurred after the first event. they\n",
      "also found that adding a time lapse between the two events gener-\n",
      "ated results consistent with greater shift in reference points. how-\n",
      "ever, their method does not allow estimates of the location of new\n",
      "reference points. gneezy (2005) endowed subjects with a stock\n",
      "and then queried them about their willingness to hold or sell it\n",
      "as its price varied over several trading periods. gneezy assumed\n",
      "that subjects are most willing to sell when the current price is\n",
      "equal to the reference point, and showed that assuming a stock’s\n",
      "peak price to be the reference point best explained subjects’ will-\n",
      "ingness to sell that stock. gneezy’s method can position the refer-\n",
      "ence point relative to prior stock prices only when the subject sells\n",
      "the stock. baucells, weber, and welfens (2010) estimated the ref-\n",
      "erence point by asking subjects which selling price would make\n",
      "them neither happy nor unhappy after they observed a stock price\n",
      "path. by regressing the reference point indicated by the subject on\n",
      "the purchase price, the current price, and the intermediate prices,\n",
      "baucells et al. showed that the reference point is most heavily\n",
      "influenced by the first and the last observed stock price.\n",
      "\n",
      "all of these studies suggest that reference points are path-\n",
      "dependent: past prices, in addition to the purchase price, appear\n",
      "to have significant impacts on the current reference point. this im-\n",
      "plies that reference points adapt to outcome payoffs. however,\n",
      "these studies do not estimate the exact magnitude of reference\n",
      "point adaptation after a gain or loss. they therefore do not allow\n",
      "comparative analyses such as the test of gain-loss asymmetry.\n",
      "\n",
      "arkes et al. (2008) estimated the changes in reference point\n",
      "location following stock trading gains and losses using both ques-\n",
      "tionnaires and real money incentives. they found that the refer-\n",
      "ence point adapts to prior gains to a greater extent than to prior\n",
      "losses using two main procedures, which we adopted and will ex-\n",
      "plain in detail in the current studies 1 and 3. also, when subjects\n",
      "were forced to sell a stock and then repurchase it at the same price\n",
      "at which it had been sold (weber & camerer, 1998), arkes et al.\n",
      "found that reference point adaptation was accelerated; reference\n",
      "points moved closer towards the new purchase price.\n",
      "\n",
      "\n",
      "\n",
      "h.r. arkes et al. / organizational behavior and human decision processes 112 (2010) 99–111 101\n",
      "cross-cultural differences in decision making\n",
      "\n",
      "weber and hsee (1998) and hsee and weber (1999) showed\n",
      "that chinese are less risk averse than americans in their financial\n",
      "decisions, but not in other domains such as medical and academic\n",
      "decisions. weber and hsee (1998) found that, under a general risk-\n",
      "return framework, the perception of the riskiness of financial\n",
      "investment options is lower among chinese than americans, and\n",
      "argue that this difference in risk perception can explain cross-cul-\n",
      "tural differences in risk preferences. hsee and weber (1999) sug-\n",
      "gest that chinese are less risk averse because a financial\n",
      "‘‘cushion” that is available in a collectivist culture makes chinese\n",
      "less afraid of risk. consistent with this hypothesis, they found that\n",
      "the cross-cultural differences between the chinese and americans\n",
      "in perceived financial risks became insignificant once they con-\n",
      "trolled for social network variables, such as the number of people\n",
      "an individual could rely on for financial assistance.\n",
      "\n",
      "ji et al. (2001) documented greater expectation of reversals by\n",
      "asians than americans. in five studies, ji et al. (2001) showed that\n",
      "chinese students were more likely to predict change from an initial\n",
      "trend than were americans. in the research mostly closely related\n",
      "to our studies, ji, zhang, and guo (2008) presented north american\n",
      "and chinese subjects – both college students and experienced\n",
      "investors – with graphs illustrating upward, downward, or stable\n",
      "price trends of various stocks. compared to the north american\n",
      "subjects, the chinese participants were more likely to buy stocks\n",
      "whose prices were decreasing and sell stocks whose prices were\n",
      "increasing. protocol analyses indicated that this contrarian ten-\n",
      "dency on the part of the chinese was due to their belief that a\n",
      "change was likely in the future. thus, compared to americans, chi-\n",
      "nese subjects – or asian subjects in general – might be more likely\n",
      "to predict that gains would be followed by losses, and conversely.\n",
      "any such difference would have important implications for the val-\n",
      "uation and willingness to continue holding a stock following an ini-\n",
      "tial price movement.\n",
      "\n",
      "in this paper, we employed the experimental designs used in\n",
      "arkes et al. (2008) and two additional methods to infer reference\n",
      "points. we have four goals in mind. first, we measured reference\n",
      "point adaptation among east-asians to ascertain if the greater adap-\n",
      "tation to gains than losses was present across cultures, as was doc-\n",
      "umented among us participants in arkes et al. (2008). second, we\n",
      "examined if there is a cross-cultural difference in the magnitude\n",
      "of reference point adaptation between east-asians and americans.\n",
      "third, we ascertained whether the intervention of the sale and\n",
      "repurchase of stocks accelerated reference point adaptation in the\n",
      "asian culture, as was previously demonstrated in the american\n",
      "sample. finally, we explored the possible explanations for the ob-\n",
      "served cross-cultural variation in reference point adaptation.\n",
      "3 the exchange rate between the us dollar and korea won is close to the ratio of\n",
      "the purchasing powers of two currencies. however, there is a discrepancy between\n",
      "the exchange rate and the purchasing power ratio for the us dollars and china ¥. for\n",
      "instance, an equivalent mcdonald meal or an hour of math tutoring costs roughly 2–3\n",
      "times more in the us than in china. therefore, for the chinese subjects we made an\n",
      "adjustment to their prize based on the relative price of a mcdonald meal or payment\n",
      "for tutoring services in the two markets. this strategy ensured similar incentives from\n",
      "the perspective of an average subject across all countries.\n",
      "study 1: questionnaire study of reference point adaptation\n",
      "following arkes et al. (2008)\n",
      "\n",
      "in this questionnaire study we asked subjects to indicate a stock\n",
      "price today that would generate the same utility as a previous stock\n",
      "price change. assume that the first stock price p1 resulted in a level\n",
      "of utility v(p1 � r0), which is a function of the difference between\n",
      "the first stock price p1 and the reference point r0. subjects indicate\n",
      "the price of the stock today p� that would generate the same utility\n",
      "as the previous price. assuming a constant shape of the prospect va-\n",
      "lue function, we have v(p� � r1) = v(p1 � r0). thus the distance be-\n",
      "tween the indicated stock price and the new reference point must\n",
      "be equal to the distance between the prior stock price and the old\n",
      "reference point: p� � r1 = p1 � r0. so the reference point adaptation\n",
      "r1 � r0 = p� � p1. that is, reference point adaptation can be inferred\n",
      "from the subject’s indication of the stock price today that would\n",
      "generate the same utility as the previous price change.\n",
      "\n",
      "there were three main results in our studies. first, the asym-\n",
      "metric adaptation found in american students by arkes et al.\n",
      "(2008) was also found in the asian participants as well as our\n",
      "table 5\n",
      "mean reference point adaptation: base and intervention (study 5).\n",
      "\n",
      "gain\n",
      "(base)\n",
      "\n",
      "loss\n",
      "(base)\n",
      "\n",
      "gain\n",
      "(intervention)\n",
      "\n",
      "loss\n",
      "(intervention)\n",
      "\n",
      "asia 4.05 0.43 4.69 1.44\n",
      "(n = 59) (n = 67)\n",
      "\n",
      "us 1.65 1.12 4.89 2.66\n",
      "(n = 76) (n = 93)\n",
      "\n",
      "total 2.70 0.82 4.81 2.15\n",
      "\n",
      "note: each subject answered either the base case scenarios or the intervention\n",
      "scenarios.\n",
      "new us subjects. thus this result appears to generalize across\n",
      "cultures.\n",
      "\n",
      "the asymmetric adaptation to gains and losses, according to\n",
      "arkes et al. (2008), can be caused by fundamental hedonic pro-\n",
      "cesses. specifically, faster adaptation to gains than to losses results\n",
      "from hedonic benefits of segregating intertemporal gains and inte-\n",
      "grating intertemporal losses (thaler, 1985, 1999).\n",
      "\n",
      "after a gain, updating the reference point modestly upward to\n",
      "capture part of the gain generates an immediate hedonic benefit\n",
      "from recognizing the gain, at the cost of reducing any remaining\n",
      "gains to be experienced. however the increase in the immediate\n",
      "gain from 0 is in the steep portion of the value function, whereas\n",
      "the reduction in future gains is from a gently sloping part of the va-\n",
      "lue function. so due to the concavity of the value function within\n",
      "the region of gains, this is a net utility increase. for losses, simi-\n",
      "larly, recognizing part of a loss immediately has an immediate he-\n",
      "donic cost, and by the convexity of the value function in the realm\n",
      "of losses, this cost outweighs the benefit of reducing future losses.\n",
      "so no updating is preferred to updating after losses. while the he-\n",
      "donic maximization suggests a partial adaptation after a gain and\n",
      "no adaptation after a loss, the sense of reality is likely to encourage\n",
      "adaptation toward the current state in both directions. therefore\n",
      "we are likely to see some extent of adaptation in both directions,\n",
      "with a greater adaptation after a gain than after a loss.\n",
      "\n",
      "the goal of such ‘‘affective engineering” is hedonic maximiza-\n",
      "tion. we hypothesize that culture would have a minimal role to\n",
      "play in the pursuit of this goal. thus we expect to observe asym-\n",
      "metric adaptation to gains and losses in all countries.\n",
      "\n",
      "the second main finding was that, without the sales and repur-\n",
      "chase intervention, adaptation to prior outcomes was greater\n",
      "among asians than among americans. this result may be caused\n",
      "by different impacts of culture on balancing the two forces deter-\n",
      "mining the new reference point—recognizing the current state\n",
      "and deviating from it in order to maximize hedonic utility.\n",
      "\n",
      "we conjecture that there are two culture-related reasons that\n",
      "influence this balance. first, faster adaptation among asians can\n",
      "be attributed to the smaller loss aversion among asians that\n",
      "encourages greater adaptation to increase hedonic utility. based\n",
      "on the model of reference point updating explained above, smaller\n",
      "loss aversion facilitates adaptation to a loss since segregation of a\n",
      "prior loss is now less painful. it also encourages adaptation to a\n",
      "gain since it reduces the negative impact of a possible subsequent\n",
      "loss; updating of the reference point means that a subsequent loss\n",
      "will occur in the flatter portion of the gain function rather than in\n",
      "the relatively steep portion close to the origin of the graph where a\n",
      "person would be if no updating had occurred.8\n",
      "\n",
      "second, cross-cultural research has shown that in many respects\n",
      "east-asians hold a fundamentally different viewpoint than ameri-\n",
      "cans (e.g., nisbett, 2004), a viewpoint which might encourage\n",
      "asians to move the new reference point closer to the current stock\n",
      "price than americans would do. east-asians view the world as com-\n",
      "plex and highly changeable with interrelated components where\n",
      "individuals are less able to impact the course of an event. in con-\n",
      "trast, americans view the world consisting of discrete, indepen-\n",
      "dent, and stable objects where each individual is in control of\n",
      "their own behavior and the consequence of such behavior (ji\n",
      "et al., 2000). such viewpoints lead to asians’ more malleable and\n",
      "americans’ more stable preferences and personalities (norenzayan,\n",
      "8 it was suggested that cross-cultural differences in reference point adaptation\n",
      "might be caused by cultural differences in the cognitive ability of the subjects. in an\n",
      "unreported study using us participants (available upon request), we found no\n",
      "significant relationship between the magnitude/asymmetry of reference point\n",
      "adaptation and a measure of cognitive ability (frederick, 2005). therefore a difference\n",
      "in cognitive ability is unlikely to be responsible for the cultural differences we report\n",
      "here\n",
      "\n",
      "\n",
      "\n",
      "108 h.r. arkes et al. / organizational behavior and human decision processes 112 (2010) 99–111\n",
      "choi, & nisbett, 2002). as hsu (1981, p. 13) noted, ‘‘the chinese\n",
      "tends to mobilize his thought and action for the purpose of con-\n",
      "forming to the reality, while the american tends to do so for the\n",
      "purpose of making the reality conform to him.” these cultural dif-\n",
      "ferences suggest that, in the tradeoff between conforming to reality\n",
      "and hedonic maximization that involves personal control, asians\n",
      "are likely to be dictated by the former while americans by the lat-\n",
      "ter. thus, reference points tend to adapt more readily among asians\n",
      "than among americans.\n",
      "\n",
      "as for the third finding, the insertion of the stock sale interven-\n",
      "tion facilitated adaptation in the us significantly more than that in\n",
      "the two asian countries. this cross-cultural difference is reflected\n",
      "in a chinese proverb, ‘‘a good fortune may forebode bad luck,\n",
      "which may in turn disguise a good fortune,” that describes the be-\n",
      "lief of chinese in reversals. this effect is particularly strong in stud-\n",
      "ies 3 and 4, where asians’ reference point adaptation is decreased\n",
      "when the intervention is introduced while that of americans is in-\n",
      "creased. in study 5, however, the intervention slightly increased\n",
      "the adaptation of asians while increasing adaptation of americans\n",
      "to a greater extent. in other words, although the intervention\n",
      "caused greater adaptation in the americans – again replicating\n",
      "arkes et al. (2008) – it had a much milder, sometimes an opposite\n",
      "effect, among asians. we hypothesize that two factors are respon-\n",
      "sible for this result.\n",
      "\n",
      "the first factor is the one that motivated the use of this inter-\n",
      "vention. arkes et al. (2008) hypothesized that by having the subject\n",
      "sell the stock and realize the paper gain/loss, the new price at\n",
      "which their gain or loss occurs becomes more salient. this encour-\n",
      "ages adaptation from the original price toward that new price at\n",
      "which the sale and new purchase occurs. indeed, that is what hap-\n",
      "pened in the american sample in arkes et al. (2008) and consis-\n",
      "tently occurs to our american sample in this manuscript.\n",
      "\n",
      "the second factor is discussed by ji, peng, et al. (2000) and ji,\n",
      "nisbett, et al. (2001). ji, peng, et al. (2000) showed that compared\n",
      "to americans, asians thought that there were stronger associations\n",
      "between objects, consistent with the notion that east-asians pay\n",
      "more attention to the field and the interaction between objects.\n",
      "in contrast, americans viewed objects as more independent identi-\n",
      "ties. in our experimental setting the two outcomes – one being the\n",
      "prior outcome payoff and the other being the new gain or loss –\n",
      "may be viewed by americans as relatively independent. thus, the\n",
      "outcome payoff in the old mental account becomes distant and less\n",
      "relevant once the new mental account is established, with the new\n",
      "purchase price serving as a salient cue for the new reference point.\n",
      "in contrast, while east-asians may also close the old and open the\n",
      "new mental account to some extent, they are likely to feel the tug\n",
      "of the prior reference point more than the americans would and\n",
      "not dismiss it as an independent and irrelevant separate entity.\n",
      "\n",
      "depending how a scenario is framed and presented, a strong\n",
      "contrarian view in prediction among asians can be triggered. ji\n",
      "et al. (2001) demonstrated in a very wide variety of assessment\n",
      "tasks that chinese persons, to a significantly greater extent than\n",
      "americans, anticipated that circumstances would change. for\n",
      "example, chinese subjects, more than americans, expected a chess\n",
      "champion to lose the next match, bickering children to eventually\n",
      "become lovers, and dating couples to break up. ji et al. (2008)\n",
      "showed that this contrarian tendency also applied strongly to chi-\n",
      "nese participants’ beliefs about future stock prices. such a belief\n",
      "would foster exactly the results we obtained, namely less adapta-\n",
      "tion to the new price when it is emphasized via a sale and new pur-\n",
      "chase manipulation. this is due to the fact that in our experimental\n",
      "setting the sale intervention makes that outcome more salient and\n",
      "thus more strongly triggers the contrarian prediction of asians. if\n",
      "the first price change is positive, asian participants will have a\n",
      "somewhat greater expectation of an adverse outcome. therefore,\n",
      "they will be unwilling to adapt their reference point upward sub-\n",
      "stantially; by adapting sluggishly, they add a cushion to their men-\n",
      "tal account against the greater possibility of a future loss. in the\n",
      "case with a prior loss, asians will expect a greater likelihood of a\n",
      "future gain. by adapting less aggressively to the prior loss, asians\n",
      "will anticipate this future gain and use part of it to offset part of\n",
      "the prior loss. thus we expect asian subjects to adapt less to either\n",
      "prior outcome than americans after a sale and new purchase inter-\n",
      "vention, due to the contrarian tendency demonstrated by ji et al.\n",
      "(2008).\n",
      "\n",
      "within the stock trading experiment in study 3, subjects were\n",
      "informed of possible up and down states of future prices. in sce-\n",
      "nario ii of study 4 subjects were presented in the gain frame, for\n",
      "example, with no change in the $50 price from the first to the\n",
      "second period and then a gain to $55 for the third period ($50–\n",
      "$50–$55). subjects also read scenario i in which there was a gain\n",
      "from $50 to $60 from the first to the second period. they were\n",
      "then asked what price during the third period of scenario i would\n",
      "make then just as happy as the third period price of $55 in sce-\n",
      "nario ii ($50–$60–?). to answer this question subjects would\n",
      "have to consider the possibility of a reversal, that is, a lowering\n",
      "of the third period price in scenario i. by presenting cues of a\n",
      "possible future price reversal, we hypothesize that the contrarian\n",
      "predilection of asians is likely to be strengthened under either\n",
      "the studies 3 or 4 methodologies. thus, the sale intervention\n",
      "would impede adaptation to the new outcome for asians, as we\n",
      "explained above. in study 5, however, no future or alternate pros-\n",
      "pect whatsoever is specified, so the contrarian tendency of asians\n",
      "is likely to be weaker. therefore in study 5 use of the new pur-\n",
      "chase price as the reference point can eclipse the asians’ usual\n",
      "contrarian view to some extent, thereby resulting in a slight in-\n",
      "crease in reference point adaptation. nevertheless, in all studies,\n",
      "the increase in adaptation is much greater for westerners than\n",
      "for easterners, suggesting that for americans the dominant factor\n",
      "is the realization of paper gains/losses which helps close the old\n",
      "mental account and shifts the new reference point toward the\n",
      "new purchase price.\n",
      "\n",
      "we suggest that reference point adaptation is influenced by\n",
      "many external and internal factors. its cross-cultural variations\n",
      "encompass a broad set of causes and consequences. despite the\n",
      "several new findings presented in this manuscript, our knowledge\n",
      "of cross-cultural patterns in the static and dynamic properties of\n",
      "prospect theory or other reference-dependent preferences re-\n",
      "mains quite limited. therefore this domain seems ripe for future\n",
      "research. in particular, it may be helpful to study reference point\n",
      "updating and its effects using field data such as investor trading\n",
      "records, aggregate market prices, and analysts’ forecasts of\n",
      "earnings.\n",
      "\n",
      "--**************************************-\n",
      "-**************************************--\n",
      "-**************************************--\n"
     ]
    }
   ],
   "source": [
    "# testing it works\n",
    "ref_doc = 20\n",
    "print(pdf_remove_step4[ref_doc])\n",
    "print('--**************************************-')\n",
    "print('-**************************************--')\n",
    "print('-**************************************--')\n",
    "# print(pdf_remove_step4[ref_doc])"
   ]
  },
  {
   "cell_type": "code",
   "execution_count": 16,
   "metadata": {},
   "outputs": [],
   "source": [
    "# remove journal title here?\n",
    "pdf_p = [re.sub('journal of management', '', t) for t in pdf_remove_step4]\n",
    "pdf_p = [re.sub('et al.', '', t) for t in pdf_p]\n",
    "pdf_p = [re.sub('e.g.', '', t) for t in pdf_p] \n",
    "pdf_p = [re.sub('e-mail:', '', t) for t in pdf_p] \n",
    "# CHECK ORDER OF OPERATIONS BELOW:\n",
    "#remove email address <-- IMPROVED, BUT E-MAIL SEEMS TO BE BROKEN UP, BUT STILL PRESENT IN DOCUMENTS AT TIMES         \n",
    "pdf_p = [re.sub(r'[\\w\\.\\-]+@[\\w\\.\\-]+\\.(?:com|net|org|live|edu)', \"\", t) for t in pdf_p]"
   ]
  },
  {
   "cell_type": "code",
   "execution_count": 17,
   "metadata": {},
   "outputs": [],
   "source": [
    "pdf_p = [re.sub( r'https?://[^\\s<>\"]+|www\\.[^\\s<>\"]+', \"\", t) for t in pdf_p]\n",
    "pdf_p = [re.sub(\"[\\S\\.\\-\\?\\!\\=]+\\.(net|com|org|info|edu|gov|uk|de|ca|jp|fr|au|us|ru|ch|it|nel|se|no|es|mil)(/[\\S\\.\\-\\?\\!\\=]*)?\\s?\", \" \", t) for t in pdf_p]"
   ]
  },
  {
   "cell_type": "code",
   "execution_count": 18,
   "metadata": {},
   "outputs": [
    {
     "data": {
      "text/plain": [
       "'\\n\\n\\n\\n\\n\\n\\n\\n\\n\\n\\n\\n\\n\\n\\n\\n\\n\\n\\n\\n\\n\\n\\n\\n\\n\\n\\n\\n\\n\\n\\n\\n\\n\\n\\n\\n\\n\\n\\n\\n\\n\\n\\n\\n\\n\\n\\n\\n\\n\\n\\n\\n\\na cross-cultural study of reference point adaptation: evidence from china, korea, and the us\\n\\n\\norganizational behavior and human decision processes 112 (2010) 99–111\\ncontents lists available at sciencedirect\\n\\norganizational behavior and human decision processes\\n\\njournal homepage:  .com/ locate/obhdp\\na cross-cultural study of reference point adaptation: evidence from china, korea,\\nand the us q\\n\\nhal r. arkes a,*, david hirshleifer b, danling jiang c, sonya s. lim d\\n\\na department of psychology, the ohio state university, oh, united states\\nb paul merage school of business, university of california, irvine, ca, united states\\nc college of business, the florida state university, fl, united states\\nd the kellstadt graduate school of business, depaul university, il, united states\\na r t i c l e i n f o\\n\\narticle history:\\nreceived 25 september 2008\\naccepted 21 february 2010\\navailable online 25 march 2010\\n\\naccepted by william bottom\\n\\nkeywords:\\nprospect theory\\ncross-cultural differences\\nreference point adaptation\\nmental accounting\\nsecurity trading\\n0749-5978/$ - see front matter � 2010 elsevier inc. a\\ndoi:10.1016/j.obhdp.2010.02.002\\n\\nq the order of the authors is alphabetical. each a\\nequally to the project.\\n\\n* corresponding author. address: department of ps\\nsity, 240 n lazenby hall, columbus, oh 43210-1222, u\\n3984 (h.r. arkes).\\n\\ne-mail address:  (h.r. arkes).\\na b s t r a c t\\n\\nwe examined reference point adaptation following gains or losses in security trading using participants\\nfrom china, korea, and the us. in both questionnaire studies and trading experiments with real money\\nincentives, reference point adaptation was larger for asians than for americans. subjects in all countries\\nadapted their reference points more after a gain than after an equal-sized loss. when we introduced a\\nforced sale intervention that is designed to close the mental account for a prior outcome, americans\\nshowed greater adaptation toward the new price than their asian counterparts. we offer possible expla-\\nnations both for the cross-cultural similarities and the cross-cultural differences.\\n\\n� 2010 elsevier inc. all rights reserved.\\nintroduction\\n\\nprospect theory (kahneman & tversky, 1979) is one of the – if\\nnot the – most prominent descriptive theories of decision making\\nunder uncertainty. although originally designed as a static model,\\nit has been widely applied to dynamic settings in economics and\\nbusiness research to understand work effort, brand choices, capital\\nbudgeting, stock returns, trading volumes, and option exercises\\n(, barberis & huang, 2001; grinblatt & han, 2005; hardie, john-\\nson, & fader, 1993; heath, huddart, & lang, 1999; heath, larrick, &\\nwu, 1999; keasey & moon, 1996; mas, 2006). an important pre-\\nmise of these applications of prospect theory is that reference\\npoints shift over time, but only recently have scholars started to\\nexplore systematically the dynamic properties of reference points.\\nfurthermore, research that examines such properties across differ-\\nent cultures is almost non-existent. given the large body of re-\\nsearch showing that culture affects individual judgment and\\ndecisions, a primary purpose of this manuscript was to ascertain\\nwhether reference point adaptation exhibits cross-cultural varia-\\ntions, and if so, what are the possible causes of these variations.\\nll rights reserved.\\n\\nuthor contributed fully and\\n\\nychology, ohio state univer-\\nnited states. fax: +1 614 688\\na natural hypothesis for the dynamics of reference point adapta-\\ntion is that the reference point moves in a manner consistent with\\nthe prior outcome, shifting upward following a gain and downward\\nfollowing a loss. using subjects from the us, arkes, hirshleifer, jiang,\\nand lim (2008) found that reference points adapt asymmetrically:\\nsuch adaptation was significantly larger following a gain than fol-\\nlowing a loss.1 they also found that when the initial paper gain or loss\\nis realized, adaptation both to losses and gains appeared to be en-\\nhanced. the current paper applied the measurement approach of\\narkes  to encompass both east-asian and us subjects. in addition,\\nwe employed two additional questionnaire designs to estimate refer-\\nence points. in all approaches we identified both cross-cultural simi-\\nlarities and differences in reference point adaptation.\\n\\nperforming cross-cultural studies in reference point adaptation\\nwas motivated by recent research that has documented important\\ndifferences in several judgment and decision making phenomena\\nacross countries. east-asians, who live in collectivist societies, ex-\\nhibit behavioral differences in many aspects from americans, who\\nlive in an individualist society. research has shown that, relative to\\namericans, east-asians appear to be more overconfident (yates,\\nlee, & shinotsuka, 1996), more risk seeking in the financial domain\\n(hsee & weber, 1999), more holistic than analytic, more likely to\\n1 in a somewhat similar spirit, strahilevitz and loewenstein (1998) conjectured\\nthat ‘‘. . . adaptation to losses takes longer than adaptation to gains and would\\ntherefore require a greater time interval to observe.”\\n\\n\\nmailto:\\n\\n\\n\\n\\nfig. 1. (left): no adaptation to the loss that is depicted at point l. (right): full\\nadaptation to the loss that is depicted at point l.\\n\\n100 h.r. arkes  / organizational behavior and human decision processes 112 (2010) 99–111\\nattribute outcomes to contextual rather than to internal factors\\n(morris & p 1994), more prone to detect stronger associations\\nbetween events and apt to place less value on having personal con-\\ntrol (ji, p & nisbett, 2000), and more likely to expect that\\nchanges that have occurred in the past will reverse in the future\\n(ji, nisbett, & su, 2001). all of these factors represent potential\\ninfluences on the determination of reference points.\\n\\ncross-cultural study of reference point adaptation can help us\\nto understand the potential sources of variations in financial mar-\\nket behavior across the world. scholars have used prospect theory\\nto understand a number of anomalous stock market phenomena,\\nincluding excess volatility, the equity premium puzzle, the value\\neffect, the momentum effect, the disposition effect, and ipo under-\\nperformance (, barberis & huang, 2001; barberis & xiong, 2009;\\nbernartzi & thaler, 1995; shefrin & statman, 1985). there is evi-\\ndence that the high equity premium, the value effect, the momen-\\ntum effect, and the disposition effect are present outside the\\nunited states to varying extents.2 the issue of reference point\\nupdating is potentially important for applications of prospect theory\\nto these empirical findings.\\nmotivation and literature review\\n\\nreference point adaptation in prospect theory\\n\\nkahneman and tversky (1979) proposed prospect theory as an\\nalternative to the normative theory of expected utility maximiza-\\ntion. there are three main elements of prospect theory: first, peo-\\nple derive utility from gains and losses relative to a reference point,\\nwhile traditional utility theory assumes that people derive utility\\nfrom total wealth or consumption. although the reference point\\nis generally one’s current wealth (kahneman & tversky, 1979),\\naspiration levels or norms can also serve this function (heath,\\nlarrick, , 1999; kahneman & tversky, 1979, p. 286). second,\\nthe value function is concave in the domain of gains and convex\\nin the domain of losses. the shape of the function captures ‘‘dual\\nrisk attitudes”: individuals tend to be risk averse in thin do-\\nmain but risk seeking in the loss domain. third, the effect of a loss\\non utility is much larger than that of a gain of the same size (‘‘loss\\naversion”).\\n\\nprospect theory has most commonly been applied to static deci-\\nsion environments. in dynamic applications such as stock trading,\\n2 , fama and french (1998), rouwenhorst (1998), grinblatt and keloharju\\n(2001), chui, titman, and wei (2010), fand seasholes (2005), and dimson, marsh,\\n& staunton (2008).\\nrepeated bargaining and negotiation, work efforts, and firm invest-\\nments, it is important to understand how reference points are up-\\ndated after individuals experience outcomes over time.\\n\\nconsider the prospect theory value function depicted in fig. 1. if\\na loss has occurred, the decision maker is at point l in fig. 1a. if a\\nsubsequent decision is to be made and the reference point has not\\nadapted to the initial loss, the decision maker will likely be risk\\nseeking, in that a further loss will cause only a small decrease on\\nthe y-axis, whereas a further gain will result in a larger increase.\\nhowever if the decision maker adapts fully to the initial loss, then\\nfig. 1b depicts this situation. now the decision maker will be less\\nrisk seeking, because the ‘‘re-centering” of the origin of thaph\\non the current state of affairs causes a loss to be more painful than\\nit would have been in fig. 1a. thus, if the reference point does not\\nbudge following a loss, then the decision maker is likely to become\\nrisk seeking and to try to recover the loss, leading to such phenom-\\nena as the sunk cost effect (arkes & blumer, 1985) or the disposi-\\ntion effect (shefrin & statman, 1985). on the other hand, if the\\nreference point adapts downward following a loss, the decision\\nmaker is able to ‘‘make peace” with this loss and will be less likely\\nto ‘‘throw good money after bad.”\\n\\nthere are a very few cross-cultural studies pertaining to the sta-\\ntic aspects of prospect theory. however, we know of no cross-cul-\\ntural research on its dynamic aspects, which are the focus of our\\nstudy. there are a very few studies testing the dynamic aspects\\nof prospect theory using us subjects. using both hypothetical out-\\ncomes depicted in questionnaire studies and monetary outcomes\\nfrom a coin-toss game, chen and rao (2002) found that the order\\nin which two equal but opposite events (gain/loss) occurred af-\\nfected the subject’s final affective state, suggesting that a shift in\\nthe reference point must have occurred after the first event. they\\nalso found that adding a time lapse between the two events gener-\\nated results consistent with greater shift in reference points. how-\\never, their method does not allow estimates of the location of new\\nreference points. gneezy (2005) endowed subjects with a stock\\nand then queried them about their willingness to hold or sell it\\nas its price varied over several trading periods. gneezy assumed\\nthat subjects are most willing to sell when the current price is\\nequal to the reference point, and showed that assuming a stock’s\\npeak price to be the reference point best explained subjects’ will-\\ningness to sell that stock. gneezy’s method can position the refer-\\nence point relative to prior stock prices only when the subject sells\\nthe stock. baucells, weber, and welfens (2010) estimated the ref-\\nerence point by asking subjects which selling price would make\\nthem neither happy nor unhappy after they observed a stock price\\npath. by regressing the reference point indicated by the subject on\\nthe purchase price, the current price, and the intermediate prices,\\nbaucells  showed that the reference point is most heavily\\ninfluenced by the first and the last observed stock price.\\n\\nall of these studies suggest that reference points are path-\\ndependent: past prices, in addition to the purchase price, appear\\nto have significant impacts on the current reference point. this im-\\nplies that reference points adapt to outcome payoffs. however,\\nthese studies do not estimate the exact magnitude of reference\\npoint adaptation after a gain or loss. they therefore do not allow\\ncomparative analyses such as the test of gain-loss asymmetry.\\n\\narkes  (2008) estimated the changes in reference point\\nlocation following stock trading gains and losses using both ques-\\ntionnaires and real money incentives. they found that the refer-\\nence point adapts to prior gains to a greater extent than to prior\\nlosses using two main procedures, which we adopted and will ex-\\nplain in detail in the current studies 1 and 3. also, when subjects\\nwere forced to sell a stock and then repurchase it at the same price\\nat which it had been sold (weber & camerer, 1998), arkes \\nfound that reference point adaptation was accelerated; reference\\npoints moved closer towards the new purchase price.\\n\\n\\n\\nh.r. arkes  / organizational behavior and human decision processes 112 (2010) 99–111 101\\ncross-cultural differences in decision making\\n\\nweber and hsee (1998) and hsee and weber (1999) showed\\nthat chinese are less risk averse than americans in their financial\\ndecisions, but not in other domains such as medical and academic\\ndecisions. weber and hsee (1998) found that, under a general risk-\\nreturn framework, the perception of the riskiness of financial\\ninvestment options is lower among chinese than americans, and\\nargue that this difference in risk perception can explain cross-cul-\\ntural differences in risk preferences. hsee and weber (1999) sug-\\ngest that chinese are less risk averse because a financial\\n‘‘cushion” that is available in a collectivist culture makes chinese\\nless afraid of risk. consistent with this hypothesis, they found that\\nthe cross-cultural differences between the chinese and americans\\nin perceived financial risks became insignificant once they con-\\ntrolled for social network variables, such as the number of people\\nan individual could rely on for financial assistance.\\n\\nji  (2001) documented greater expectation of reversals by\\nasians than americans. in five studies, ji  (2001) showed that\\nchinese students were more likely to predict change from an initial\\ntrend than were americans. in the research mostly closely related\\nto our studies, ji, zhang, and guo (2008) presented north american\\nand chinese subjects – both college students and experienced\\ninvestors – with graphs illustrating upward, downward, or stable\\nprice trends of various stocks. compared to the north american\\nsubjects, the chinese participants were more likely to buy stocks\\nwhose prices were decreasing and sell stocks whose prices were\\nincreasing. protocol analyses indicated that this contrarian ten-\\ndency on the part of the chinese was due to their belief that a\\nchange was likely in the future. thus, compared to americans, chi-\\nnese subjects – or asian subjects in general – might be more likely\\nto predict that gains would be followed by losses, and conversely.\\nany such difference would have important implications for the val-\\nuation and willingness to continue holding a stock following an ini-\\ntial price movement.\\n\\nin this paper, we employed the experimental designs used in\\narkes  (2008) and two additional methods to infer reference\\npoints. we have four goals in mind. first, we measured reference\\npoint adaptation among east-asians to ascertain if theater adap-\\ntation to gains than losses was present across cultures, as was doc-\\numented among us participants in arkes  (2008). second, we\\nexamined if there is a cross-cultural difference in the magnitude\\nof reference point adaptation between east-asians and americans.\\nthird, we ascertained whether the intervention of the sale and\\nrepurchase of stocks accelerated reference point adaptation in the\\nasian culture, as was previously demonstrated in the american\\nsample. finally, we explored the possible explanations for the ob-\\nserved cross-cultural variation in reference point adaptation.\\n3 the exchange rate between the us dollar and korea won is close to the ratio of\\nthe purchasing powers of two currencies. however, there is a discrepancy between\\nthe exchange rate and the purchasing power ratio for the us dollars and china ¥. for\\ninstance, an equivalent mcdonald meal or an hour of math tutoring costs roughly 2–3\\ntimes more in the us than in china. therefore, for the chinese subjects we made an\\nadjustment to their prize based on the relative price of a mcdonald meal or payment\\nfor tutoring services in the two markets. this strategy ensured similar incentives from\\nthe perspective of an average subject across all countries.\\nstudy 1: questionnaire study of reference point adaptation\\nfollowing arkes  (2008)\\n\\nin this questionnaire study we asked subjects to indicate a stock\\nprice today that would generate the same utility as a previous stock\\nprice change. assume that the first stock price p1 resulted in a level\\nof utility v(p1 � r0), which is a function of the difference between\\nthe first stock price p1 and the reference point r0. subjects indicate\\nthe price of the stock today p� that would generate the same utility\\nas the previous price. assuming a constant shape of the prospect va-\\nlue function, we have v(p� � r1) = v(p1 � r0). thus the distance be-\\ntween the indicated stock price and the new reference point must\\nbe equal to the distance between the prior stock price and the old\\nreference point: p� � r1 = p1 � r0. so the reference point adaptation\\nr1 � r0 = p� � p1. that is, reference point adaptation can be inferred\\nfrom the subject’s indication of the stock price today that would\\ngenerate the same utility as the previous price change.\\n\\nthere were three main results in our studies. first, the asym-\\nmetric adaptation found in american students by arkes \\n(2008) was also found in the asian participants as well as our\\ntable 5\\nmean reference point adaptation: base and intervention (study 5).\\n\\ngain\\n(base)\\n\\nloss\\n(base)\\n\\ngain\\n(intervention)\\n\\nloss\\n(intervention)\\n\\nasia 4.05 0.43 4.69 1.44\\n(n = 59) (n = 67)\\n\\nus 1.65 1.12 4.89 2.66\\n(n = 76) (n = 93)\\n\\ntotal 2.70 0.82 4.81 2.15\\n\\nnote: each subject answered either the base case scenarios or the intervention\\nscenarios.\\nnew us subjects. thus this result appears to generalize across\\ncultures.\\n\\nthe asymmetric adaptation to gains and losses, according to\\narkes  (2008), can be caused by fundamental hedonic pro-\\ncesses. specifically, faster adaptation to gains than to losses results\\nfrom hedonic benefits of segregating intertemporal gains and inte-\\ngrating intertemporal losses (thaler, 1985, 1999).\\n\\nafter a gain, updating the reference point modestly upward to\\ncapture part of thin generates an immediate hedonic benefit\\nfrom recognizing thin, at the cost of reducing any remaining\\ngains to be experienced. however the increase in the immediate\\ngain from 0 is in the steep portion of the value function, whereas\\nthe reduction in futurins is from a gently sloping part of the va-\\nlue function. so due to the concavity of the value function within\\nthe region of gains, this is a net utility increase. for losses, simi-\\nlarly, recognizing part of a loss immediately has an immediate he-\\ndonic cost, and by the convexity of the value function in the realm\\nof losses, this cost outws the benefit of reducing future losses.\\nso no updating is preferred to updating after losses. while the he-\\ndonic maximization suggests a partial adaptation after a gain and\\nno adaptation after a loss, the sense of reality is likely to encourage\\nadaptation toward the current state in both directions. therefore\\nwe are likely to see some extent of adaptation in both directions,\\nwith a greater adaptation after a gain than after a loss.\\n\\nthal of such ‘‘affective neering” is hedonic maximiza-\\ntion. we hypothesize that culture would have a minimal role to\\nplay in the pursuit of this goal. thus we expect to observe asym-\\nmetric adaptation to gains and losses in all countries.\\n\\nthe second main finding was that, without the sales and repur-\\nchase intervention, adaptation to prior outcomes was greater\\namong asians than among americans. this result may be caused\\nby different impacts of culture on balancing the two forces deter-\\nmining the new reference point—recognizing the current state\\nand deviating from it in order to maximize hedonic utility.\\n\\nwe conjecture that there are two culture-related reasons that\\ninfluence this balance. first, faster adaptation among asians can\\nbe attributed to the smaller loss aversion among asians that\\nencourages greater adaptation to increase hedonic utility. based\\non the model of reference point updating explained above, smaller\\nloss aversion facilitates adaptation to a loss since segregation of a\\nprior loss is now less painful. it also encourages adaptation to a\\ngain since it reduces the negative impact of a possible subsequent\\nloss; updating of the reference point means that a subsequent loss\\nwill occur in the flatter portion of thin function rather than in\\nthe relatively steep portion close to the origin of thaph where a\\nperson would be if no updating had occurred.8\\n\\nsecond, cross-cultural research has shown that in many respects\\neast-asians hold a fundamentally different viewpoint than ameri-\\ncans (, nisbett, 2004), a viewpoint which might encourage\\nasians to move the new reference point closer to the current stock\\nprice than americans would do. east-asians view the world as com-\\nplex and highly changeable with interrelated components where\\nindividuals are less able to impact the course of an event. in con-\\ntrast, americans view the world consisting of discrete, indepen-\\ndent, and stable objects where each individual is in control of\\ntheir own behavior and the consequence of such behavior (ji\\n, 2000). such viewpoints lead to asians’ more malleable and\\namericans’ more stable preferences and personalities (norenzayan,\\n8 it was suggested that cross-cultural differences in reference point adaptation\\nmight be caused by cultural differences in the cognitive ability of the subjects. in an\\nunreported study using us participants (available upon request), we found no\\nsignificant relationship between the magnitude/asymmetry of reference point\\nadaptation and a measure of cognitive ability (frederick, 2005). therefore a difference\\nin cognitive ability is unlikely to be responsible for the cultural differences we report\\nhere\\n\\n\\n\\n108 h.r. arkes  / organizational behavior and human decision processes 112 (2010) 99–111\\nchoi, & nisbett, 2002). as hsu (1981, p. 13) noted, ‘‘the chinese\\ntends to mobilize his thought and action for the purpose of con-\\nforming to the reality, while the american tends to do so for the\\npurpose of making the reality conform to him.” these cultural dif-\\nferences suggest that, in the tradeoff between conforming to reality\\nand hedonic maximization that involves personal control, asians\\nare likely to be dictated by the former while americans by the lat-\\nter. thus, reference points tend to adapt more readily among asians\\nthan among americans.\\n\\nas for the third finding, the insertion of the stock sale interven-\\ntion facilitated adaptation in the us significantly more than that in\\nthe two asian countries. this cross-cultural difference is reflected\\nin a chinese proverb, ‘‘a good fortune may forebode bad luck,\\nwhich may in turn disguise a good fortune,” that describes the be-\\nlief of chinese in reversals. this effect is particularly strong in stud-\\nies 3 and 4, where asians’ reference point adaptation is decreased\\nwhen the intervention is introduced while that of americans is in-\\ncreased. in study 5, however, the intervention slightly increased\\nthe adaptation of asians while increasing adaptation of americans\\nto a greater extent. in other words, although the intervention\\ncaused greater adaptation in the americans – again replicating\\narkes  (2008) – it had a much milder, sometimes an opposite\\neffect, among asians. we hypothesize that two factors are respon-\\nsible for this result.\\n\\nthe first factor is the one that motivated the use of this inter-\\nvention. arkes  (2008) hypothesized that by having the subject\\nsell the stock and realize the paper gain/loss, the new price at\\nwhich their gain or loss occurs becomes more salient. this encour-\\nages adaptation from the original price toward that new price at\\nwhich the sale and new purchase occurs. indeed, that is what hap-\\npened in the american sample in arkes  (2008) and consis-\\ntently occurs to our american sample in this manuscript.\\n\\nthe second factor is discussed by ji, p  (2000) and ji,\\nnisbett,  (2001). ji, p  (2000) showed that compared\\nto americans, asians thought that there were stronger associations\\nbetween objects, consistent with the notion that east-asians pay\\nmore attention to the field and the interaction between objects.\\nin contrast, americans viewed objects as more independent identi-\\nties. in our experimental setting the two outcomes – one being the\\nprior outcome payoff and the other being the new gain or loss –\\nmay be viewed by americans as relatively independent. thus, the\\noutcome payoff in the old mental account becomes distant and less\\nrelevant once the new mental account is established, with the new\\npurchase price serving as a salient cue for the new reference point.\\nin contrast, while east-asians may also close the old and open the\\nnew mental account to some extent, they are likely to feel the tug\\nof the prior reference point more than the americans would and\\nnot dismiss it as an independent and irrelevant separate entity.\\n\\ndepending how a scenario is framed and presented, a strong\\ncontrarian view in prediction among asians can be triggered. ji\\n (2001) demonstrated in a very wide variety of assessment\\ntasks that chinese persons, to a significantly greater extent than\\namericans, anticipated that circumstances would change. for\\nexample, chinese subjects, more than americans, expected a chess\\nchampion to lose the next match, bickering children to eventually\\nbecome lovers, and dating couples to break up. ji  (2008)\\nshowed that this contrarian tendency also applied strongly to chi-\\nnese participants’ beliefs about future stock prices. such a belief\\nwould foster exactly the results we obtained, namely less adapta-\\ntion to the new price when it is emphasized via a sale and new pur-\\nchase manipulation. this is due to the fact that in our experimental\\nsetting the sale intervention makes that outcome more salient and\\nthus more strongly triggers the contrarian prediction of asians. if\\nthe first price change is positive, asian participants will have a\\nsomewhat greater expectation of an adverse outcome. therefore,\\nthey will be unwilling to adapt their reference point upward sub-\\nstantially; by adapting sluggishly, they add a cushion to their men-\\ntal account against theater possibility of a future loss. in the\\ncase with a prior loss, asians will expect a greater likelihood of a\\nfuturin. by adapting less aggressively to the prior loss, asians\\nwill anticipate this futurin and use part of it to offset part of\\nthe prior loss. thus we expect asian subjects to adapt less to either\\nprior outcome than americans after a sale and new purchase inter-\\nvention, due to the contrarian tendency demonstrated by ji \\n(2008).\\n\\nwithin the stock trading experiment in study 3, subjects were\\ninformed of possible up and down states of future prices. in sce-\\nnario ii of study 4 subjects were presented in thin frame, for\\nexample, with no change in the $50 price from the first to the\\nsecond period and then a gain to $55 for the third period ($50–\\n$50–$55). subjects also read scenario i in which there was a gain\\nfrom $50 to $60 from the first to the second period. they were\\nthen asked what price during the third period of scenario i would\\nmake then just as happy as the third period price of $55 in sce-\\nnario ii ($50–$60–?). to answer this question subjects would\\nhave to consider the possibility of a reversal, that is, a lowering\\nof the third period price in scenario i. by presenting cues of a\\npossible future price reversal, we hypothesize that the contrarian\\npredilection of asians is likely to be strhened under either\\nthe studies 3 or 4 methodologies. thus, the sale intervention\\nwould impede adaptation to the new outcome for asians, as we\\nexplained above. in study 5, however, no future or alternate pros-\\npect whatsoever is specified, so the contrarian tendency of asians\\nis likely to be weaker. therefore in study 5 use of the new pur-\\nchase price as the reference point can eclipse the asians’ usual\\ncontrarian view to some extent, thereby resulting in a slight in-\\ncrease in reference point adaptation. nevertheless, in all studies,\\nthe increase in adaptation is much greater for westerners than\\nfor easterners, suggesting that for americans the dominant factor\\nis the realization of paper gains/losses which helps close the old\\nmental account and shifts the new reference point toward the\\nnew purchase price.\\n\\nwe suggest that reference point adaptation is influenced by\\nmany external and internal factors. its cross-cultural variations\\nencompass a broad set of causes and consequences. despite the\\nseveral new findings presented in this manuscript, our knowl\\nof cross-cultural patterns in the static and dynamic properties of\\nprospect theory or other reference-dependent preferences re-\\nmains quite limited. therefore this domain seems ripe for future\\nresearch. in particular, it may be helpful to study reference point\\nupdating and its effects using field data such as investor trading\\nrecords, aggregate market prices, and analysts’ forecasts of\\nearnings.\\n'"
      ]
     },
     "execution_count": 18,
     "metadata": {},
     "output_type": "execute_result"
    }
   ],
   "source": [
    "pdf_p[ref_doc]"
   ]
  },
  {
   "cell_type": "code",
   "execution_count": 19,
   "metadata": {},
   "outputs": [],
   "source": [
    "#remove hyphon only if it is at the end of the line.\n",
    "#pdf_p = [re.sub(r'(\\W[a-z]+)-\\n(\\W[a-z]+)', r'\\1\\2', t) for t in pdf_p]\n",
    "pdf_p = [re.sub(r'-\\n', '', t) for t in pdf_p]"
   ]
  },
  {
   "cell_type": "code",
   "execution_count": 20,
   "metadata": {},
   "outputs": [],
   "source": [
    "#remove text within ()\n",
    "pdf_p = [re.sub(r\"\\([^)]*\\)\", \"\", t) for t in pdf_p]\n",
    "# remove text with [] eg citation\n",
    "pdf_p = [re.sub(r\"\\[[^)]*\\]\", \"\", t) for t in pdf_p]\n",
    "#Remove numbers\n",
    "pdf_p = [re.sub('[0-9]+', '', f) for f in pdf_p]\n"
   ]
  },
  {
   "cell_type": "code",
   "execution_count": 21,
   "metadata": {},
   "outputs": [],
   "source": [
    "pdf_p = [re.sub('[\\n\\r]+', ' ', f) for f in pdf_p] # remove newline and linebreak characters, replace with space\n",
    "pdf_p = [re.sub('[@/%#$,=\\+:’“”]', ' ', f) for f in pdf_p] # remove stray non-word characters"
   ]
  },
  {
   "cell_type": "code",
   "execution_count": 22,
   "metadata": {},
   "outputs": [],
   "source": [
    "#pdf_p = [re.sub(r\"\\s\\([A-Z][a-z]+,\\s[A-Z][a-z]?\\.[^\\)]*,\\s\\d{4}\\)\", \"\", f) for f in pdf_p] # is this supposed to filter out citations?\n",
    "\n",
    "# save all periods, exclamation marks and question marks, but get rid of unnecessary characters\n",
    "pdf_p = [re.sub('[\\.!?]+ ', 'XYZXYZ', t) for t in pdf_p]\n",
    "pdf_p = [re.sub('-', 'ZYXXYZ', t) for t in pdf_p]\n",
    "pdf_p = [re.sub('[\\W_]+', ' ', f) for f in pdf_p]\n",
    "pdf_p = [re.sub('XYZXYZ', '. ', f) for f in pdf_p]\n",
    "pdf_p = [re.sub('ZYXXYZ', '-', f) for f in pdf_p]\n",
    "#pdf_p[0]\n",
    "\n",
    "#Remove placeholder x repetitions\n",
    "pdf_p = [re.sub(' x+ ', '', f) for f in pdf_p]\n",
    "\n",
    "# remove single characters\n",
    "pdf_p = [re.sub(' [a-z] ' ,  ' ', f) for f in pdf_p]\n",
    "pdf_p = [re.sub(' [a-z]\\.', '.', f) for f in pdf_p]\n",
    "pdf_p = [re.sub(' \\.', '.', f) for f in pdf_p]"
   ]
  },
  {
   "cell_type": "code",
   "execution_count": 23,
   "metadata": {},
   "outputs": [
    {
     "name": "stdout",
     "output_type": "stream",
     "text": [
      " cross-cultural study of reference point adaptation evidence from china korea and the us organizational behavior and human decision processes contents lists available at sciencedirect organizational behavior and human decision processes journal homepage com locate obhdp cross-cultural study of reference point adaptation evidence from china korea and the us hal. arkes david hirshleifer danling jiang sonya. lim a department of psychology the ohio state university oh united states paul merage school of business university of california irvine ca united states college of business the florida state university fl united states the kellstadt graduate school of business depaul university il united states r i l i f article history received september accepted february available online march accepted by william bottom keywords prospect theory cross-cultural differences reference point adaptation mental accounting security trading - - see front matter elsevier inc. doi. obhdp. the order of the authors is alphabetical. each equally to the project.  corresponding author. address department of ps sity lazenby hall columbus oh -. e-mail address. b t a t we examined reference point adaptation following gains or losses in security trading using participants from china korea and the us. in both questionnaire studies and trading experiments with real money incentives reference point adaptation was larger for asians than for americans. subjects in all countries adapted their reference points more after gain than after an equal-sized loss. when we introduced forced sale intervention that is designed to close the mental account for prior outcome americans showed greater adaptation toward the new price than their asian counterparts. we offer possible explanations both for the cross-cultural similarities and the cross-cultural differences.  elsevier inc. all rights reserved. introduction prospect theory is one of the if not the most prominent descriptive theories of decision making under uncertainty. although originally designed as static model it has been widely applied to dynamic settings in economics and business research to understand work effort brand choices capital budgeting stock returns trading volumes and option exercises. an important premise of these applications of prospect theory is that reference points shift over time but only recently have scholars started to explore systematically the dynamic properties of reference points. furthermore research that examines such properties across different cultures is almost non-existent. given the large body of research showing that culture affects individual judgment and decisions primary purpose of this manuscript was to ascertain whether reference point adaptation exhibits cross-cultural variations and if so what are the possible causes of these variations. ll rights reserved. uthor contributed fully and ychology ohio state univernited states. fax natural hypothesis for the dynamics of reference point adaptation is that the reference point moves in manner consistent with the prior outcome shifting upward following gain and downward following loss. using subjects from the us arkes hirshleifer jiang and lim found that reference points adapt asymmetrically such adaptation was significantly larger following gain than following loss. they also found that when the initial paper gain or loss is realized adaptation both to losses and gains appeared to be enhanced. the current paper applied the measurement approach of arkes to encompass both east-asian and us subjects. in addition we employed two additional questionnaire designs to estimate reference points. in all approaches we identified both cross-cultural similarities and differences in reference point adaptation. performing cross-cultural studies in reference point adaptation was motivated by recent research that has documented important differences in several judgment and decision making phenomena across countries. east-asians who live in collectivist societies exhibit behavioral differences in many aspects from americans who live in an individualist society. research has shown that relative to americans east-asians appear to be more overconfident more risk seeking in the financial domain more holistic than analytic more likely to in somewhat similar spirit strahilevitz and loewenstein conjectured that... adaptation to losses takes longer than adaptation to gains and would therefore require greater time interval to observe.  mailto fig..  no adaptation to the loss that is depicted at point.  full adaptation to the loss that is depicted at point.. arkes organizational behavior and human decision processes attribute outcomes to contextual rather than to internal factors more prone to detect stronger associations between events and apt to place less value on having personal control and more likely to expect that changes that have occurred in the past will reverse in the future. all of these factors represent potential influences on the determination of reference points. cross-cultural study of reference point adaptation can help us to understand the potential sources of variations in financial market behavior across the world. scholars have used prospect theory to understand number of anomalous stock market phenomena including excess volatility the equity premium puzzle the value effect the momentum effect the disposition effect and ipo underperformance. there is evidence that the high equity premium the value effect the momentum effect and the disposition effect are present outside the united states to varying extents. the issue of reference point updating is potentially important for applications of prospect theory to these empirical findings. motivation and literature review reference point adaptation in prospect theory kahneman and tversky proposed prospect theory as an alternative to the normative theory of expected utility maximization. there are three main elements of prospect theory first people derive utility from gains and losses relative to reference point while traditional utility theory assumes that people derive utility from total wealth or consumption. although the reference point is generally one current wealth aspiration levels or norms can also serve this function. second the value function is concave in the domain of gains and convex in the domain of losses. the shape of the function captures dual risk attitudes individuals tend to be risk averse in thin domain but risk seeking in the loss domain. third the effect of loss on utility is much larger than that of gain of the same size. prospect theory has most commonly been applied to static decision environments. in dynamic applications such as stock trading fama and french rouwenhorst grinblatt and keloharju chui titman and wei fand seasholes and dimson marsh staunton. repeated bargaining and negotiation work efforts and firm investments it is important to understand how reference points are updated after individuals experience outcomes over time. consider the prospect theory value function depicted in fig.. if loss has occurred the decision maker is at point in fig.. if subsequent decision is to be made and the reference point has not adapted to the initial loss the decision maker will likely be risk seeking in that further loss will cause only small decrease on the y-axis whereas further gain will result in larger increase. however if the decision maker adapts fully to the initial loss then fig. depicts this situation. now the decision maker will be less risk seeking because the re-centering of the origin of thaph on the current state of affairs causes loss to be more painful than it would have been in fig.. thus if the reference point does not budge following loss then the decision maker is likely to become risk seeking and to try to recover the loss leading to such phenomena as the sunk cost effect or the disposition effect. on the other hand if the reference point adapts downward following loss the decision maker is able to make peace with this loss and will be less likely to throw good money after bad.  there are very few cross-cultural studies pertaining to the static aspects of prospect theory. however we know of no cross-cultural research on its dynamic aspects which are the focus of our study. there are very few studies testing the dynamic aspects of prospect theory using us subjects. using both hypothetical outcomes depicted in questionnaire studies and monetary outcomes from coin-toss game chen and rao found that the order in which two equal but opposite events occurred affected the subject final affective state suggesting that shift in the reference point must have occurred after the first event. they also found that adding time lapse between the two events generated results consistent with greater shift in reference points. however their method does not allow estimates of the location of new reference points. gneezy endowed subjects with stock and then queried them about their willingness to hold or sell it as its price varied over several trading periods. gneezy assumed that subjects are most willing to sell when the current price is equal to the reference point and showed that assuming stock peak price to be the reference point best explained subjects willingness to sell that stock. gneezy method can position the reference point relative to prior stock prices only when the subject sells the stock. baucells weber and welfens estimated the reference point by asking subjects which selling price would make them neither happy nor unhappy after they observed stock price path. by regressing the reference point indicated by the subject on the purchase price the current price and the intermediate prices baucells showed that the reference point is most heavily influenced by the first and the last observed stock price. all of these studies suggest that reference points are pathdependent past prices in addition to the purchase price appear to have significant impacts on the current reference point. this implies that reference points adapt to outcome payoffs. however these studies do not estimate the exact magnitude of reference point adaptation after gain or loss. they therefore do not allow comparative analyses such as the test of gain-loss asymmetry. arkes estimated the changes in reference point location following stock trading gains and losses using both questionnaires and real money incentives. they found that the reference point adapts to prior gains to greater extent than to prior losses using two main procedures which we adopted and will explain in detail in the current studies and. also when subjects were forced to sell stock and then repurchase it at the same price at which it had been sold arkes found that reference point adaptation was accelerated reference points moved closer towards the new purchase price.. arkes organizational behavior and human decision processes cross-cultural differences in decision making weber and hsee and hsee and weber showed that chinese are less risk averse than americans in their financial decisions but not in other domains such as medical and academic decisions. weber and hsee found that under general riskreturn framework the perception of the riskiness of financial investment options is lower among chinese than americans and argue that this difference in risk perception can explain cross-cultural differences in risk preferences. hsee and weber suggest that chinese are less risk averse because financial cushion that is available in collectivist culture makes chinese less afraid of risk. consistent with this hypothesis they found that the cross-cultural differences between the chinese and americans in perceived financial risks became insignificant once they controlled for social network variables such as the number of people an individual could rely on for financial assistance. ji documented greater expectation of reversals by asians than americans. in five studies ji showed that chinese students were more likely to predict change from an initial trend than were americans. in the research mostly closely related to our studies ji zhang and guo presented north american and chinese subjects both college students and experienced investors with graphs illustrating upward downward or stable price trends of various stocks. compared to the north american subjects the chinese participants were more likely to buy stocks whose prices were decreasing and sell stocks whose prices were increasing. protocol analyses indicated that this contrarian tendency on the part of the chinese was due to their belief that change was likely in the future. thus compared to americans chinese subjects or asian subjects in general might be more likely to predict that gains would be followed by losses and conversely. any such difference would have important implications for the valuation and willingness to continue holding stock following an initial price movement. in this paper we employed the experimental designs used in arkes and two additional methods to infer reference points. we have four goals in mind. first we measured reference point adaptation among east-asians to ascertain if theater adaptation to gains than losses was present across cultures as was documented among us participants in arkes. second we examined if there is cross-cultural difference in the magnitude of reference point adaptation between east-asians and americans. third we ascertained whether the intervention of the sale and repurchase of stocks accelerated reference point adaptation in the asian culture as was previously demonstrated in the american sample. finally we explored the possible explanations for the observed cross-cultural variation in reference point adaptation.  the exchange rate between the us dollar and korea won is close to the ratio of the purchasing powers of two currencies. however there is discrepancy between the exchange rate and the purchasing power ratio for the us dollars and china. for instance an equivalent mcdonald meal or an hour of math tutoring costs roughly times more in the us than in china. therefore for the chinese subjects we made an adjustment to their prize based on the relative price of mcdonald meal or payment for tutoring services in the two markets. this strategy ensured similar incentives from the perspective of an average subject across all countries. study questionnaire study of reference point adaptation following arkes in this questionnaire study we asked subjects to indicate stock price today that would generate the same utility as previous stock price change. assume that the first stock price resulted in level of utility which is function of the difference between the first stock price and the reference point. subjects indicate the price of the stock today that would generate the same utility as the previous price. assuming constant shape of the prospect value function we have. thus the distance between the indicated stock price and the new reference point must be equal to the distance between the prior stock price and the old reference point r. so the reference point adaptation r. that is reference point adaptation can be inferred from the subject indication of the stock price today that would generate the same utility as the previous price change. there were three main results in our studies. first the asymmetric adaptation found in american students by arkes was also found in the asian participants as well as our table mean reference point adaptation base and intervention. gain loss gain loss asia....  us....  total.... note each subject answered either the base case scenarios or the intervention scenarios. new us subjects. thus this result appears to generalize across cultures. the asymmetric adaptation to gains and losses according to arkes can be caused by fundamental hedonic processes. specifically faster adaptation to gains than to losses results from hedonic benefits of segregating intertemporal gains and integrating intertemporal losses. after gain updating the reference point modestly upward to capture part of thin generates an immediate hedonic benefit from recognizing thin at the cost of reducing any remaining gains to be experienced. however the increase in the immediate gain from is in the steep portion of the value function whereas the reduction in futurins is from gently sloping part of the value function. so due to the concavity of the value function within the region of gains this is net utility increase. for losses similarly recognizing part of loss immediately has an immediate hedonic cost and by the convexity of the value function in the realm of losses this cost outws the benefit of reducing future losses. so no updating is preferred to updating after losses. while the hedonic maximization suggests partial adaptation after gain and no adaptation after loss the sense of reality is likely to encourage adaptation toward the current state in both directions. therefore we are likely to see some extent of adaptation in both directions with greater adaptation after gain than after loss. thal of such affective neering is hedonic maximization. we hypothesize that culture would have minimal role to play in the pursuit of this goal. thus we expect to observe asymmetric adaptation to gains and losses in all countries. the second main finding was that without the sales and repurchase intervention adaptation to prior outcomes was greater among asians than among americans. this result may be caused by different impacts of culture on balancing the two forces determining the new reference point recognizing the current state and deviating from it in order to maximize hedonic utility. we conjecture that there are two culture-related reasons that influence this balance. first faster adaptation among asians can be attributed to the smaller loss aversion among asians that encourages greater adaptation to increase hedonic utility. based on the model of reference point updating explained above smaller loss aversion facilitates adaptation to loss since segregation of prior loss is now less painful. it also encourages adaptation to gain since it reduces the negative impact of possible subsequent loss updating of the reference point means that subsequent loss will occur in the flatter portion of thin function rather than in the relatively steep portion close to the origin of thaph where person would be if no updating had occurred. second cross-cultural research has shown that in many respects east-asians hold fundamentally different viewpoint than americans viewpoint which might encourage asians to move the new reference point closer to the current stock price than americans would do. east-asians view the world as complex and highly changeable with interrelated components where individuals are less able to impact the course of an event. in contrast americans view the world consisting of discrete independent and stable objects where each individual is in control of their own behavior and the consequence of such behavior. such viewpoints lead to asians more malleable and americans more stable preferences and personalities we found no significant relationship between the magnitude asymmetry of reference point adaptation and measure of cognitive ability. therefore difference in cognitive ability is unlikely to be responsible for the cultural differences we report here. arkes organizational behavior and human decision processes choi nisbett. as hsu noted the chinese tends to mobilize his thought and action for the purpose of conforming to the reality while the american tends to do so for the purpose of making the reality conform to him.  these cultural differences suggest that in the tradeoff between conforming to reality and hedonic maximization that involves personal control asians are likely to be dictated by the former while americans by the latter. thus reference points tend to adapt more readily among asians than among americans. as for the third finding the insertion of the stock sale intervention facilitated adaptation in the us significantly more than that in the two asian countries. this cross-cultural difference is reflected in chinese proverb good fortune may forebode bad luck which may in turn disguise good fortune that describes the belief of chinese in reversals. this effect is particularly strong in studies and where asians reference point adaptation is decreased when the intervention is introduced while that of americans is increased. in study however the intervention slightly increased the adaptation of asians while increasing adaptation of americans to greater extent. in other words although the intervention caused greater adaptation in the americans again replicating arkes it had much milder sometimes an opposite effect among asians. we hypothesize that two factors are responsible for this result. the first factor is the one that motivated the use of this intervention. arkes hypothesized that by having the subject sell the stock and realize the paper gain loss the new price at which their gain or loss occurs becomes more salient. this encourages adaptation from the original price toward that new price at which the sale and new purchase occurs. indeed that is what happened in the american sample in arkes and consistently occurs to our american sample in this manuscript. the second factor is discussed by ji and ji nisbett. ji showed that compared to americans asians thought that there were stronger associations between objects consistent with the notion that east-asians pay more attention to the field and the interaction between objects. in contrast americans viewed objects as more independent identities. in our experimental setting the two outcomes one being the prior outcome payoff and the other being the new gain or loss may be viewed by americans as relatively independent. thus the outcome payoff in the old mental account becomes distant and less relevant once the new mental account is established with the new purchase price serving as salient cue for the new reference point. in contrast while east-asians may also close the old and open the new mental account to some extent they are likely to feel the tug of the prior reference point more than the americans would and not dismiss it as an independent and irrelevant separate entity. depending how scenario is framed and presented strong contrarian view in prediction among asians can be triggered. ji demonstrated in very wide variety of assessment tasks that chinese persons to significantly greater extent than americans anticipated that circumstances would change. for example chinese subjects more than americans expected chess champion to lose the next match bickering children to eventually become lovers and dating couples to break up. ji showed that this contrarian tendency also applied strongly to chinese participants beliefs about future stock prices. such belief would foster exactly the results we obtained namely less adaptation to the new price when it is emphasized via sale and new purchase manipulation. this is due to the fact that in our experimental setting the sale intervention makes that outcome more salient and thus more strongly triggers the contrarian prediction of asians. if the first price change is positive asian participants will have somewhat greater expectation of an adverse outcome. therefore they will be unwilling to adapt their reference point upward substantially by adapting sluggishly they add cushion to their mental account against theater possibility of future loss. in the case with prior loss asians will expect greater likelihood of futurin. by adapting less aggressively to the prior loss asians will anticipate this futurin and use part of it to offset part of the prior loss. thus we expect asian subjects to adapt less to either prior outcome than americans after sale and new purchase intervention due to the contrarian tendency demonstrated by ji. within the stock trading experiment in study subjects were informed of possible up and down states of future prices. in scenario ii of study subjects were presented in thin frame for example with no change in the price from the first to the second period and then gain to for the third period. subjects also read scenario in which there was gain from to from the first to the second period. they were then asked what price during the third period of scenario would make then just as happy as the third period price of in scenario ii. to answer this question subjects would have to consider the possibility of reversal that is lowering of the third period price in scenario. by presenting cues of possible future price reversal we hypothesize that the contrarian predilection of asians is likely to be strhened under either the studies or methodologies. thus the sale intervention would impede adaptation to the new outcome for asians as we explained above. in study however no future or alternate prospect whatsoever is specified so the contrarian tendency of asians is likely to be weaker. therefore in study use of the new purchase price as the reference point can eclipse the asians usual contrarian view to some extent thereby resulting in slight increase in reference point adaptation. nevertheless in all studies the increase in adaptation is much greater for westerners than for easterners suggesting that for americans the dominant factor is the realization of paper gains losses which helps close the old mental account and shifts the new reference point toward the new purchase price. we suggest that reference point adaptation is influenced by many external and internal factors. its cross-cultural variations encompass broad set of causes and consequences. despite the several new findings presented in this manuscript our knowl of cross-cultural patterns in the static and dynamic properties of prospect theory or other reference-dependent preferences remains quite limited. therefore this domain seems ripe for future research. in particular it may be helpful to study reference point updating and its effects using field data such as investor trading records aggregate market prices and analysts forecasts of earnings. \n",
      "---\n",
      "---\n",
      "---\n"
     ]
    }
   ],
   "source": [
    "print(pdf_p[ref_doc])\n",
    "print('---')\n",
    "print('---')\n",
    "print('---')\n",
    "# print(pdf_p[ref_doc])"
   ]
  },
  {
   "cell_type": "code",
   "execution_count": 24,
   "metadata": {},
   "outputs": [],
   "source": [
    "def get_author_names(txt):\n",
    "\n",
    "    refs = re.sub('[0-9]{4}.*\\n','',txt)\n",
    "\n",
    "    l = re.compile(\" [a-z]\\.\").split(refs)\n",
    "    l = [ll for ll in l if not bool(re.search('[0-9]+', ll))]\n",
    "    l = [ll for ll in l if len(ll) < 35]\n",
    "    l = [re.sub('[\\n ,\\&\\.]', '', ll) for ll in l]\n",
    "    l = [re.sub('[!(*);&$]', '', l1) for l1 in l]\n",
    "    authors = [ll for ll in l if len(ll) > 1]\n",
    "\n",
    "    return(authors)\n",
    "#for n in names:\n",
    "#    print(n)\n",
    "\n",
    "#refs = re.sub('\\n.*[0-9].*', '', refs)\n",
    "#refs = re.sub('\\n[^,]+\\n', '\\n', refs)\n",
    "#print(refs)"
   ]
  },
  {
   "cell_type": "code",
   "execution_count": 25,
   "metadata": {
    "scrolled": true
   },
   "outputs": [
    {
     "name": "stdout",
     "output_type": "stream",
     "text": [
      "['gailliot', 'landy', 'jresteemnewyork:', 'tibshirani', 'mangel', 'tarr', 'judiesch', 'mcgue', 'man', 'crocker', 'glisky', 'meriläinen', 'potenza', 'bayer', 'petersen', 'molander', 'kemeny', 'beals', 'mackiewicz', 'perrew�e', 'foley', 'kaiser', 'bourdage', 'tassone', 'miyamoto', 'smallwatersarvey', 'timeseriesin', 'kazama', 'ridgeway', 'haggarty', 'mcgraw-hillfudenberg', 'intergroupbehaviorin', 'grafton', 'christensen', 'bennet', 'teamdecisionmakingin', 'brymer', 'jrhunt', 'lansang', 'karageorgopoulos', 'connelly', 'carnevale', 'wilkie', 'hesse', 'mynatt', 'mmackinnon', 'seabright', 's€orbom', 'foot', 'beier', 'suprenant', 'shen', 'andrews-hanna', 'zbylut', 'pressholmes', 'heideman', 'kok', 'morris', 'glaser', 'tynan', 'york:wileyamason', 'hiller', 'bar-hillel', 'newviewin', 'bridgeunivpressrosenthal', 'neal', 'tenbrunsela', 'shalley', 'gutman', 'fiore', 'luong', 'torelli', 'amit', 'waldman', 'guzzo', 'lewig', 'farley', 'zobrack', 'maxham', 'magliozzi', 'kukla', 'teasley', 'saunders', 'nembhard', 'malik', 'johannesson', 'tionalprocessesin', 'shiv', 'shoda', 'coburke', 'lysy', 'goalpursuitin', 'walther', 'aschersleben', 'kosasij', 'richard', 'smart', 'mosteller', 'biernat', 'atash', 'sagepublicationsgreenberg', 'tilly', 'carlson', 'jou', 'mayesb', 'robison', 'macrosson', 'busceme', 'shafir', 'mentzer', 'gruendl', 'mccluskey', 'kuh', 'pöhlmann', 'fudenberg', 'mikula', 'lozy', 'conceptualintegrationin', 'ordonez', 'heltman', 'szulkin', 'sonhing', 'hinds', 'mckinley', 'swartz', 'tunstall-pedoe', 'reitzes', 'dittrich', 'scholnickrodney', 'iliev', 'preparationgonzalez', 'villado', 'vadera', 'ofexperimentsfromsen', 'fortinsp', 'herron', 'kratochvil', 'hbazerman', 'solutionsin', 'andreoni', 'delbecq', 'schoen', 'menon', '-ypodsakoff', 'perrin', 'dieckmann', 'bryk', 'identityperspectivesin', 'raith', 'ghosh']\n",
      "10317\n"
     ]
    }
   ],
   "source": [
    "authors = []\n",
    "for r in references:\n",
    "    authors += get_author_names(r)\n",
    "    \n",
    "author_nam = list(set(list(authors)))\n",
    "\n",
    "# result is still not perfect, but I have not found any stray 'plain English' so far\n",
    "print(author_nam[100:250])\n",
    "print(len(author_nam))"
   ]
  },
  {
   "cell_type": "code",
   "execution_count": 26,
   "metadata": {},
   "outputs": [],
   "source": [
    "# GET REFERENCE LISTS OF STOPWORDS, I.E. WORDS THAT ARE ESSENTIALLY MEANINGLESS\n",
    "# Get all the list of authors names\n",
    "\n",
    "from nltk.corpus import stopwords as wrd\n",
    "\n",
    "sw = wrd.words('english') + author_nam + country_list + cities_lower\n",
    "\n",
    "#print(sw)"
   ]
  },
  {
   "cell_type": "code",
   "execution_count": 27,
   "metadata": {},
   "outputs": [],
   "source": [
    "#include corpus-specific stopwords\n",
    "sw += ['vol', 'doi', 'article', 'articles', 'reuse', 'sagepub', 'journal', 'journals', 'com', 'quarter', 'quarterly', 'annual', 'proceedings']\n",
    "sw += ['sage', 'editorial', 'report', 'publications', 'publication', 'publisher', 'jom', 'manuscript', 'manuscripts', 'submission', 'submissions']\n",
    "sw += ['editor', 'editors', 'orcid', 'id', 'month', 'mailto', 'author', 'authors', 'homepage', 'sciencedirect', 'scopus']\n",
    "sw += ['january', 'february', 'march', 'april', 'may', 'june', 'july', 'august', 'september', 'october', 'november', 'december']\n",
    "sw += ['monday', 'tuesday', 'wednesday', 'thursday', 'friday', 'saturday', 'sunday']\n",
    "\n",
    "# add a metric ton of generic terms\n",
    "sw += ['a', 'about', 'above', 'across', 'after', 'afterwards']\n",
    "sw += ['again', 'against', 'all', 'almost', 'alone', 'along']\n",
    "sw += ['already', 'also', 'although', 'always', 'am', 'among']\n",
    "sw += ['amongst', 'amoungst', 'amount', 'an', 'and', 'another']\n",
    "sw += ['any', 'anyhow', 'anyone', 'anything', 'anyway', 'anywhere']\n",
    "sw += ['are', 'around', 'as', 'at', 'back', 'be', 'became']\n",
    "sw += ['because', 'become', 'becomes', 'becoming', 'been']\n",
    "sw += ['before', 'beforehand', 'behind', 'being', 'below']\n",
    "sw += ['beside', 'besides', 'between', 'beyond', 'bill', 'both']\n",
    "sw += ['bottom', 'but', 'by', 'call', 'can', 'cannot', 'cant']\n",
    "sw += ['co', 'computer', 'con', 'could', 'couldnt', 'cry', 'de']\n",
    "sw += ['describe', 'detail', 'did', 'do', 'done', 'down', 'due']\n",
    "sw += ['during', 'each', 'eg', 'eight', 'either', 'eleven', 'else']\n",
    "sw += ['elsewhere', 'empty', 'enough', 'etc', 'even', 'ever']\n",
    "sw += ['every', 'everyone', 'everything', 'everywhere', 'except']\n",
    "sw += ['few', 'fifteen', 'fifty', 'fill', 'find', 'fire', 'first']\n",
    "sw += ['five', 'for', 'former', 'formerly', 'forty', 'found']\n",
    "sw += ['four', 'from', 'front', 'full', 'further', 'get', 'give']\n",
    "sw += ['go', 'had', 'has', 'hasnt', 'have', 'he', 'hence', 'her']\n",
    "sw += ['here', 'hereafter', 'hereby', 'herein', 'hereupon', 'hers']\n",
    "sw += ['herself', 'him', 'himself', 'his', 'how', 'however']\n",
    "sw += ['hundred', 'i', 'ie', 'if', 'in', 'inc', 'indeed']\n",
    "sw += ['interest', 'into', 'is', 'it', 'its', 'itself', 'keep']\n",
    "sw += ['last', 'latter', 'latterly', 'least', 'less', 'ltd', 'made']\n",
    "sw += ['many', 'may', 'me', 'meanwhile', 'might', 'mill', 'mine']\n",
    "sw += ['more', 'moreover', 'most', 'mostly', 'move', 'much']\n",
    "sw += ['must', 'my', 'myself', 'name', 'namely', 'neither', 'never']\n",
    "sw += ['nevertheless', 'next', 'nine', 'no', 'nobody', 'none']\n",
    "sw += ['noone', 'nor', 'not', 'nothing', 'now', 'nowhere', 'of']\n",
    "sw += ['off', 'often', 'on','once', 'one', 'only', 'onto', 'or']\n",
    "sw += ['other', 'others', 'otherwise', 'our', 'ours', 'ourselves']\n",
    "sw += ['out', 'over', 'own', 'part', 'per', 'perhaps', 'please']\n",
    "sw += ['put', 'rather', 're', 's', 'same', 'see', 'seem', 'seemed']\n",
    "sw += ['seeming', 'seems', 'serious', 'several', 'she', 'should']\n",
    "sw += ['show', 'side', 'since', 'sincere', 'six', 'sixty', 'so']\n",
    "sw += ['some', 'somehow', 'someone', 'something', 'sometime']\n",
    "sw += ['sometimes', 'somewhere', 'still', 'such', 'system', 'take']\n",
    "sw += ['ten', 'than', 'that', 'the', 'their', 'them', 'themselves']\n",
    "sw += ['then', 'thence', 'there', 'thereafter', 'thereby']\n",
    "sw += ['therefore', 'therein', 'thereupon', 'these', 'they']\n",
    "sw += ['thick', 'thin', 'third', 'this', 'those', 'though', 'three']\n",
    "sw += ['three', 'through', 'throughout', 'thru', 'thus', 'to']\n",
    "sw += ['together', 'too', 'top', 'toward', 'towards', 'twelve']\n",
    "sw += ['twenty', 'two', 'un', 'under', 'until', 'up', 'upon']\n",
    "sw += ['us', 'very', 'via', 'was', 'we', 'well', 'were', 'what']\n",
    "sw += ['whatever', 'when', 'whence', 'whenever', 'where']\n",
    "sw += ['whereafter', 'whereas', 'whereby', 'wherein', 'whereupon']\n",
    "sw += ['wherever', 'whether', 'which', 'while', 'whither', 'who']\n",
    "sw += ['whoever', 'whole', 'whom', 'whose', 'why', 'will', 'with']\n",
    "sw += ['within', 'without', 'would', 'yet', 'you', 'your']\n",
    "sw += ['yours', 'yourself', 'yourselves']\n",
    "\n",
    "sw = list(set(sw))"
   ]
  },
  {
   "cell_type": "code",
   "execution_count": 28,
   "metadata": {},
   "outputs": [],
   "source": [
    "# Function to filter out the stopwords and authors names\n",
    "def filterWords(msg, words):\n",
    "    m = msg.split(' ')\n",
    "    words_end = [w + '.' for w in words]\n",
    "    filtered_words = list(filter(lambda word: word not in words, m))\n",
    "    filtered_words = [(w if w not in words_end else '.') for w in filtered_words]\n",
    "    result = ' '.join(filtered_words)\n",
    "    return(result)"
   ]
  },
  {
   "cell_type": "code",
   "execution_count": 29,
   "metadata": {},
   "outputs": [],
   "source": [
    "# GET RID OF THE STOPWORDS IN TEXTS\n",
    "data_proc = [filterWords(f, sw) for f in pdf_p]  "
   ]
  },
  {
   "cell_type": "code",
   "execution_count": 30,
   "metadata": {},
   "outputs": [],
   "source": [
    "import pickle\n",
    "# exclude author list from metadata\n",
    "author_metadata = pickle.load(open(\"C:/Thesis/Data/save/Master_Data/author_list/author_list.p\", \"rb\"))"
   ]
  },
  {
   "cell_type": "code",
   "execution_count": 31,
   "metadata": {},
   "outputs": [],
   "source": [
    "# GET RID OF THE author names (extracted from the metadata)\n",
    "data_proc_1 = [filterWords(f, author_metadata) for f in data_proc] #running"
   ]
  },
  {
   "cell_type": "code",
   "execution_count": 32,
   "metadata": {},
   "outputs": [
    {
     "data": {
      "text/plain": [
       "' cross-cultural study reference adaptation evidence organizational behavior decision processes contents lists available organizational behavior decision processes locate obhdp cross-cultural study reference adaptation evidence hal. . department psychology ohio state united states merage california ca united states college state fl united states kellstadt graduate depaul il united states r l f history received accepted available online accepted keywords theory cross-cultural differences reference adaptation mental accounting security trading - - matter elsevier . . obhdp. order alphabetical. equally project.  corresponding . address department ps sity -. e-mail address. b examined reference adaptation following gains losses security trading using participants . questionnaire studies trading experiments real money incentives reference adaptation larger asians americans. subjects countries adapted reference points gain equal-sized loss. introduced forced intervention designed close mental account prior outcome americans showed greater adaptation new asian counterparts. offer possible explanations cross-cultural similarities cross-cultural differences.  elsevier . rights reserved. introduction theory prominent descriptive theories decision making uncertainty. originally designed static model widely dynamic settings understand work effort choices capital budgeting returns trading volumes option exercises. important premise applications theory reference points shift time recently scholars started explore systematically dynamic properties reference points. furthermore examines properties different cultures non-existent. given large body showing culture affects individual judgment decisions primary purpose ascertain reference adaptation exhibits cross-cultural variations possible causes variations. rights reserved. uthor contributed fully ychology ohio state univernited states. fax natural hypothesis dynamics reference adaptation reference moves manner consistent prior outcome shifting upward following gain downward following loss. using subjects reference points adapt asymmetrically adaptation significantly larger following gain following loss. initial paper gain loss realized adaptation losses gains appeared enhanced. current paper measurement approach encompass east-asian subjects. addition employed additional questionnaire designs estimate reference points. approaches identified cross-cultural similarities differences reference adaptation. performing cross-cultural studies reference adaptation motivated recent documented important differences judgment decision making phenomena countries. east-asians live collectivist societies exhibit behavioral differences aspects americans live individualist society. shown relative americans east-asians appear overconfident risk seeking financial domain holistic analytic likely somewhat similar spirit conjectured that... adaptation losses takes longer adaptation gains require greater time interval observe.  fig..  adaptation loss depicted .  adaptation loss depicted point.. organizational behavior decision processes attribute outcomes contextual internal factors prone detect stronger associations events apt place value personal control likely expect changes occurred past reverse future. factors represent potential influences determination reference points. cross-cultural study reference adaptation help understand potential sources variations financial market behavior world. scholars used theory understand number anomalous market phenomena including excess volatility equity premium puzzle value effect momentum effect disposition effect ipo underperformance. evidence high equity premium value effect momentum effect disposition effect present outside united states varying extents. issue reference updating potentially important applications theory empirical findings. motivation literature review reference adaptation theory proposed theory alternative normative theory expected utility maximization. elements theory people derive utility gains losses relative reference traditional utility theory assumes people derive utility total wealth consumption. reference generally current wealth aspiration levels norms serve function. second value function concave domain gains convex domain losses. shape function captures dual risk attitudes individuals tend risk averse domain risk seeking loss domain. effect loss utility larger gain size. theory commonly static decision environments. dynamic applications trading fama rouwenhorst grinblatt fand dimson . repeated bargaining negotiation work efforts firm investments important understand reference points updated individuals experience outcomes time. consider theory value function depicted fig.. loss occurred decision maker fig.. subsequent decision reference adapted initial loss decision maker likely risk seeking loss cause decrease y-axis gain result larger increase. decision maker adapts fully initial loss . depicts situation. decision maker risk seeking re-centering origin thaph current state affairs causes loss painful fig.. reference budge following loss decision maker likely risk seeking try recover loss leading phenomena sunk cost effect disposition effect. reference adapts downward following loss decision maker able make peace loss likely throw money bad.  cross-cultural studies pertaining static aspects theory. know cross-cultural dynamic aspects focus study. studies testing dynamic aspects theory using subjects. using hypothetical outcomes depicted questionnaire studies monetary outcomes coin-toss order equal opposite events occurred affected subject final affective state suggesting shift reference occurred event. adding time lapse events generated results consistent greater shift reference points. method allow estimates location new reference points. endowed subjects queried willingness hold sell varied trading periods. assumed subjects willing sell current equal reference showed assuming peak reference explained subjects willingness sell . method position reference relative prior prices subject sells . baucells estimated reference asking subjects selling make happy unhappy observed path. regressing reference indicated subject purchase current intermediate prices baucells showed reference heavily influenced observed . studies suggest reference points pathdependent past prices addition purchase appear significant impacts current reference . implies reference points adapt outcome payoffs. studies estimate exact magnitude reference adaptation gain loss. allow comparative analyses test gain-loss asymmetry. estimated changes reference location following trading gains losses using questionnaires real money incentives. reference adapts prior gains greater extent prior losses using procedures adopted explain current studies . subjects forced sell repurchase sold reference adaptation accelerated reference points moved closer new purchase price.. organizational behavior decision processes cross-cultural differences decision making showed chinese risk averse americans financial decisions domains academic decisions. general riskreturn framework perception riskiness financial investment options lower chinese americans argue difference risk perception explain cross-cultural differences risk preferences. suggest chinese risk averse financial cushion available collectivist culture makes chinese afraid risk. consistent hypothesis cross-cultural differences chinese americans perceived financial risks insignificant controlled network variables number people individual rely financial assistance. documented greater expectation reversals asians americans. studies showed chinese students likely predict change initial trend americans. closely related studies presented north american chinese subjects college students experienced investors graphs illustrating upward downward stable trends various . compared north american subjects chinese participants likely prices decreasing sell prices increasing. protocol analyses indicated contrarian tendency chinese belief change likely future. compared americans chinese subjects asian subjects general likely predict gains followed losses conversely. difference important implications valuation willingness continue holding following initial movement. paper employed experimental designs used additional methods infer reference points. goals mind. measured reference adaptation east-asians ascertain theater adaptation gains losses present cultures documented participants . second examined cross-cultural difference magnitude reference adaptation east-asians americans. ascertained intervention repurchase accelerated reference adaptation asian culture previously demonstrated american sample. finally explored possible explanations observed cross-cultural variation reference adaptation.  exchange rate dollar close ratio purchasing currencies. discrepancy exchange rate purchasing ratio dollars . instance equivalent meal hour math tutoring costs roughly . chinese subjects adjustment prize based relative meal payment tutoring markets. strategy ensured similar incentives perspective average subject countries. study questionnaire study reference adaptation following questionnaire study asked subjects indicate today generate utility previous change. assume resulted level utility function difference reference . subjects indicate today generate utility previous . assuming shape value function . distance indicated new reference equal distance prior old reference r. reference adaptation r. reference adaptation inferred subject indication today generate utility previous change. results studies. asymmetric adaptation american students asian participants table mean reference adaptation base intervention. gain loss gain loss asia....  us....  total.... note subject answered base case scenarios intervention scenarios. new subjects. result appears generalize cultures. asymmetric adaptation gains losses according caused fundamental hedonic processes. specifically faster adaptation gains losses results hedonic benefits segregating intertemporal gains integrating intertemporal losses. gain updating reference modestly upward capture generates immediate hedonic benefit recognizing cost reducing remaining gains experienced. increase immediate gain steep portion value function reduction futurins gently sloping value function. concavity value function region gains net utility increase. losses similarly recognizing loss immediately immediate hedonic cost convexity value function realm losses cost outws benefit reducing future losses. updating preferred updating losses. hedonic maximization suggests partial adaptation gain adaptation loss sense reality likely encourage adaptation current state directions. likely extent adaptation directions greater adaptation gain loss. thal affective neering hedonic maximization. hypothesize culture minimal role play pursuit goal. expect observe asymmetric adaptation gains losses countries. second finding repurchase intervention adaptation prior outcomes greater asians americans. result caused different impacts culture balancing forces determining new reference recognizing current state deviating order maximize hedonic utility. conjecture culture-related reasons influence balance. faster adaptation asians attributed smaller loss aversion asians encourages greater adaptation increase hedonic utility. based model reference updating explained smaller loss aversion facilitates adaptation loss segregation prior loss painful. encourages adaptation gain reduces negative impact possible subsequent loss updating reference subsequent loss occur flatter portion function relatively steep portion close origin thaph updating occurred. second cross-cultural shown respects east-asians hold fundamentally different viewpoint americans viewpoint encourage asians new reference closer current americans . east-asians view world complex highly changeable interrelated components individuals able impact course event. contrast americans view world consisting discrete independent stable objects individual control behavior consequence behavior. viewpoints lead asians malleable americans stable preferences personalities significant relationship magnitude asymmetry reference adaptation measure cognitive ability. difference cognitive ability unlikely responsible cultural differences . organizational behavior decision processes . noted chinese tends mobilize thought action purpose conforming reality american tends purpose making reality conform .  cultural differences suggest tradeoff conforming reality hedonic maximization involves personal control asians likely dictated americans . reference points tend adapt readily asians americans. finding insertion intervention facilitated adaptation significantly asian countries. cross-cultural difference reflected chinese proverb fortune forebode bad luck turn disguise fortune describes belief chinese reversals. effect particularly studies asians reference adaptation decreased intervention introduced americans increased. study intervention slightly increased adaptation asians increasing adaptation americans greater extent. words intervention caused greater adaptation americans replicating milder opposite effect asians. hypothesize factors responsible result. factor motivated use intervention. hypothesized subject sell realize paper gain loss new gain loss occurs salient. encourages adaptation original new new purchase occurs. happened american sample consistently occurs american sample . second factor discussed . showed compared americans asians thought stronger associations objects consistent notion east-asians pay attention interaction objects. contrast americans viewed objects independent identities. experimental setting outcomes prior outcome payoff new gain loss viewed americans relatively independent. outcome payoff old mental account distant relevant new mental account established new purchase serving salient cue new reference . contrast east-asians close old open new mental account extent likely feel tug prior reference americans dismiss independent irrelevant separate entity. depending scenario framed presented contrarian view prediction asians triggered. demonstrated wide variety assessment tasks chinese persons significantly greater extent americans anticipated circumstances change. example chinese subjects americans expected chess lose match bickering children eventually lovers dating couples break . showed contrarian tendency strongly chinese participants beliefs future prices. belief exactly results obtained adaptation new emphasized new purchase manipulation. fact experimental setting intervention makes outcome salient strongly triggers contrarian prediction asians. change positive asian participants somewhat greater expectation adverse outcome. unwilling adapt reference upward substantially adapting sluggishly add cushion mental account theater possibility future loss. case prior loss asians expect greater likelihood futurin. adapting aggressively prior loss asians anticipate futurin use offset prior loss. expect asian subjects adapt prior outcome americans new purchase intervention contrarian tendency demonstrated . trading experiment study subjects informed possible states future prices. scenario ii study subjects presented example change second period gain period. subjects scenario gain second period. asked period scenario make happy period scenario ii. answer question subjects consider possibility reversal lowering period scenario. presenting cues possible future reversal hypothesize contrarian predilection asians likely strhened studies methodologies. intervention impede adaptation new outcome asians explained . study future alternate whatsoever specified contrarian tendency asians likely weaker. study use new purchase reference eclipse asians usual contrarian view extent resulting slight increase reference adaptation. studies increase adaptation greater westerners easterners suggesting americans dominant factor realization paper gains losses helps close old mental account shifts new reference new purchase . suggest reference adaptation influenced external internal factors. cross-cultural variations encompass broad set causes consequences. despite new findings presented knowl cross-cultural patterns static dynamic properties theory reference-dependent preferences remains quite limited. domain ripe future . particular helpful study reference updating effects using data investor trading records aggregate market prices analysts forecasts earnings. '"
      ]
     },
     "execution_count": 32,
     "metadata": {},
     "output_type": "execute_result"
    }
   ],
   "source": [
    "data_proc_1[ref_doc]"
   ]
  },
  {
   "cell_type": "code",
   "execution_count": 33,
   "metadata": {},
   "outputs": [],
   "source": [
    "data_proc2 = [re.sub(\"([a-z]+\\.)+[a-z]+\",\"\", f) for f in data_proc_1]\n",
    "data_proc2 = [re.sub('\\s([?\\.!\"](?:\\s|$))' , r'\\1', f) for f in data_proc2]\n",
    "data_proc2 = [re.sub(\"^\\s+\",\"\", f) for f in data_proc2]\n",
    "data_proc2 = [re.sub(\"\\s+\\Z\",\"\", f) for f in data_proc2]\n",
    "data_proc2 = [re.sub(\"(\\.)+\",\".\", f) for f in data_proc2]\n",
    "data_proc2 = [re.sub(\" +\",\" \", f) for f in data_proc2]\n",
    "data_proc2 = [re.sub(\"( +\\.)\",\".\", f) for f in data_proc2]\n",
    "data_proc2 = [re.sub(\"\\.$\",\"\", f) for f in data_proc2]"
   ]
  },
  {
   "cell_type": "code",
   "execution_count": 34,
   "metadata": {},
   "outputs": [
    {
     "name": "stdout",
     "output_type": "stream",
     "text": [
      "['cross-cultural study reference adaptation evidence organizational behavior decision processes contents lists available organizational behavior decision processes locate obhdp cross-cultural study reference adaptation evidence hal', 'department psychology ohio state united states merage california ca united states college state fl united states kellstadt graduate depaul il united states r l f history received accepted available online accepted keywords theory cross-cultural differences reference adaptation mental accounting security trading - - matter elsevier.', 'obhdp', 'order alphabetical', 'equally project', 'corresponding', 'address department ps sity -', 'e-mail address', 'b examined reference adaptation following gains losses security trading using participants', 'questionnaire studies trading experiments real money incentives reference adaptation larger asians americans', 'subjects countries adapted reference points gain equal-sized loss', 'introduced forced intervention designed close mental account prior outcome americans showed greater adaptation new asian counterparts', 'offer possible explanations cross-cultural similarities cross-cultural differences', 'elsevier', 'rights reserved', 'introduction theory prominent descriptive theories decision making uncertainty', 'originally designed static model widely dynamic settings understand work effort choices capital budgeting returns trading volumes option exercises', 'important premise applications theory reference points shift time recently scholars started explore systematically dynamic properties reference points', 'furthermore examines properties different cultures non-existent', 'given large body showing culture affects individual judgment decisions primary purpose ascertain reference adaptation exhibits cross-cultural variations possible causes variations', 'rights reserved', 'uthor contributed fully ychology ohio state univernited states', 'fax natural hypothesis dynamics reference adaptation reference moves manner consistent prior outcome shifting upward following gain downward following loss', 'using subjects reference points adapt asymmetrically adaptation significantly larger following gain following loss', 'initial paper gain loss realized adaptation losses gains appeared enhanced', 'current paper measurement approach encompass east-asian subjects', 'addition employed additional questionnaire designs estimate reference points', 'approaches identified cross-cultural similarities differences reference adaptation', 'performing cross-cultural studies reference adaptation motivated recent documented important differences judgment decision making phenomena countries', 'east-asians live collectivist societies exhibit behavioral differences aspects americans live individualist society', 'shown relative americans east-asians appear overconfident risk seeking financial domain holistic analytic likely somewhat similar spirit conjectured that', 'adaptation losses takes longer adaptation gains require greater time interval observe', 'fig', 'adaptation loss depicted', 'adaptation loss depicted point', 'organizational behavior decision processes attribute outcomes contextual internal factors prone detect stronger associations events apt place value personal control likely expect changes occurred past reverse future', 'factors represent potential influences determination reference points', 'cross-cultural study reference adaptation help understand potential sources variations financial market behavior world', 'scholars used theory understand number anomalous market phenomena including excess volatility equity premium puzzle value effect momentum effect disposition effect ipo underperformance', 'evidence high equity premium value effect momentum effect disposition effect present outside united states varying extents', 'issue reference updating potentially important applications theory empirical findings', 'motivation literature review reference adaptation theory proposed theory alternative normative theory expected utility maximization', 'elements theory people derive utility gains losses relative reference traditional utility theory assumes people derive utility total wealth consumption', 'reference generally current wealth aspiration levels norms serve function', 'second value function concave domain gains convex domain losses', 'shape function captures dual risk attitudes individuals tend risk averse domain risk seeking loss domain', 'effect loss utility larger gain size', 'theory commonly static decision environments', 'dynamic applications trading fama rouwenhorst grinblatt fand dimson', 'repeated bargaining negotiation work efforts firm investments important understand reference points updated individuals experience outcomes time', 'consider theory value function depicted fig', 'loss occurred decision maker fig', 'subsequent decision reference adapted initial loss decision maker likely risk seeking loss cause decrease y-axis gain result larger increase', 'decision maker adapts fully initial loss', 'depicts situation', 'decision maker risk seeking re-centering origin thaph current state affairs causes loss painful fig', 'reference budge following loss decision maker likely risk seeking try recover loss leading phenomena sunk cost effect disposition effect', 'reference adapts downward following loss decision maker able make peace loss likely throw money bad', 'cross-cultural studies pertaining static aspects theory', 'know cross-cultural dynamic aspects focus study', 'studies testing dynamic aspects theory using subjects', 'using hypothetical outcomes depicted questionnaire studies monetary outcomes coin-toss order equal opposite events occurred affected subject final affective state suggesting shift reference occurred event', 'adding time lapse events generated results consistent greater shift reference points', 'method allow estimates location new reference points', 'endowed subjects queried willingness hold sell varied trading periods', 'assumed subjects willing sell current equal reference showed assuming peak reference explained subjects willingness sell', 'method position reference relative prior prices subject sells', 'baucells estimated reference asking subjects selling make happy unhappy observed path', 'regressing reference indicated subject purchase current intermediate prices baucells showed reference heavily influenced observed', 'studies suggest reference points pathdependent past prices addition purchase appear significant impacts current reference', 'implies reference points adapt outcome payoffs', 'studies estimate exact magnitude reference adaptation gain loss', 'allow comparative analyses test gain-loss asymmetry', 'estimated changes reference location following trading gains losses using questionnaires real money incentives', 'reference adapts prior gains greater extent prior losses using procedures adopted explain current studies', 'subjects forced sell repurchase sold reference adaptation accelerated reference points moved closer new purchase price', 'organizational behavior decision processes cross-cultural differences decision making showed chinese risk averse americans financial decisions domains academic decisions', 'general riskreturn framework perception riskiness financial investment options lower chinese americans argue difference risk perception explain cross-cultural differences risk preferences', 'suggest chinese risk averse financial cushion available collectivist culture makes chinese afraid risk', 'consistent hypothesis cross-cultural differences chinese americans perceived financial risks insignificant controlled network variables number people individual rely financial assistance', 'documented greater expectation reversals asians americans', 'studies showed chinese students likely predict change initial trend americans', 'closely related studies presented north american chinese subjects college students experienced investors graphs illustrating upward downward stable trends various', 'compared north american subjects chinese participants likely prices decreasing sell prices increasing', 'protocol analyses indicated contrarian tendency chinese belief change likely future', 'compared americans chinese subjects asian subjects general likely predict gains followed losses conversely', 'difference important implications valuation willingness continue holding following initial movement', 'paper employed experimental designs used additional methods infer reference points', 'goals mind', 'measured reference adaptation east-asians ascertain theater adaptation gains losses present cultures documented participants', 'second examined cross-cultural difference magnitude reference adaptation east-asians americans', 'ascertained intervention repurchase accelerated reference adaptation asian culture previously demonstrated american sample', 'finally explored possible explanations observed cross-cultural variation reference adaptation', 'exchange rate dollar close ratio purchasing currencies', 'discrepancy exchange rate purchasing ratio dollars', 'instance equivalent meal hour math tutoring costs roughly', 'chinese subjects adjustment prize based relative meal payment tutoring markets', 'strategy ensured similar incentives perspective average subject countries', 'study questionnaire study reference adaptation following questionnaire study asked subjects indicate today generate utility previous change', 'assume resulted level utility function difference reference', 'subjects indicate today generate utility previous', 'assuming shape value function', 'distance indicated new reference equal distance prior old reference r', 'reference adaptation r', 'reference adaptation inferred subject indication today generate utility previous change', 'results studies', 'asymmetric adaptation american students asian participants table mean reference adaptation base intervention', 'gain loss gain loss asia', 'us', 'total', 'note subject answered base case scenarios intervention scenarios', 'new subjects', 'result appears generalize cultures', 'asymmetric adaptation gains losses according caused fundamental hedonic processes', 'specifically faster adaptation gains losses results hedonic benefits segregating intertemporal gains integrating intertemporal losses', 'gain updating reference modestly upward capture generates immediate hedonic benefit recognizing cost reducing remaining gains experienced', 'increase immediate gain steep portion value function reduction futurins gently sloping value function', 'concavity value function region gains net utility increase', 'losses similarly recognizing loss immediately immediate hedonic cost convexity value function realm losses cost outws benefit reducing future losses', 'updating preferred updating losses', 'hedonic maximization suggests partial adaptation gain adaptation loss sense reality likely encourage adaptation current state directions', 'likely extent adaptation directions greater adaptation gain loss', 'thal affective neering hedonic maximization', 'hypothesize culture minimal role play pursuit goal', 'expect observe asymmetric adaptation gains losses countries', 'second finding repurchase intervention adaptation prior outcomes greater asians americans', 'result caused different impacts culture balancing forces determining new reference recognizing current state deviating order maximize hedonic utility', 'conjecture culture-related reasons influence balance', 'faster adaptation asians attributed smaller loss aversion asians encourages greater adaptation increase hedonic utility', 'based model reference updating explained smaller loss aversion facilitates adaptation loss segregation prior loss painful', 'encourages adaptation gain reduces negative impact possible subsequent loss updating reference subsequent loss occur flatter portion function relatively steep portion close origin thaph updating occurred', 'second cross-cultural shown respects east-asians hold fundamentally different viewpoint americans viewpoint encourage asians new reference closer current americans', 'east-asians view world complex highly changeable interrelated components individuals able impact course event', 'contrast americans view world consisting discrete independent stable objects individual control behavior consequence behavior', 'viewpoints lead asians malleable americans stable preferences personalities significant relationship magnitude asymmetry reference adaptation measure cognitive ability', 'difference cognitive ability unlikely responsible cultural differences', 'organizational behavior decision processes', 'noted chinese tends mobilize thought action purpose conforming reality american tends purpose making reality conform', 'cultural differences suggest tradeoff conforming reality hedonic maximization involves personal control asians likely dictated americans', 'reference points tend adapt readily asians americans', 'finding insertion intervention facilitated adaptation significantly asian countries', 'cross-cultural difference reflected chinese proverb fortune forebode bad luck turn disguise fortune describes belief chinese reversals', 'effect particularly studies asians reference adaptation decreased intervention introduced americans increased', 'study intervention slightly increased adaptation asians increasing adaptation americans greater extent', 'words intervention caused greater adaptation americans replicating milder opposite effect asians', 'hypothesize factors responsible result', 'factor motivated use intervention', 'hypothesized subject sell realize paper gain loss new gain loss occurs salient', 'encourages adaptation original new new purchase occurs', 'happened american sample consistently occurs american sample', 'second factor discussed', 'showed compared americans asians thought stronger associations objects consistent notion east-asians pay attention interaction objects', 'contrast americans viewed objects independent identities', 'experimental setting outcomes prior outcome payoff new gain loss viewed americans relatively independent', 'outcome payoff old mental account distant relevant new mental account established new purchase serving salient cue new reference', 'contrast east-asians close old open new mental account extent likely feel tug prior reference americans dismiss independent irrelevant separate entity', 'depending scenario framed presented contrarian view prediction asians triggered', 'demonstrated wide variety assessment tasks chinese persons significantly greater extent americans anticipated circumstances change', 'example chinese subjects americans expected chess lose match bickering children eventually lovers dating couples break', 'showed contrarian tendency strongly chinese participants beliefs future prices', 'belief exactly results obtained adaptation new emphasized new purchase manipulation', 'fact experimental setting intervention makes outcome salient strongly triggers contrarian prediction asians', 'change positive asian participants somewhat greater expectation adverse outcome', 'unwilling adapt reference upward substantially adapting sluggishly add cushion mental account theater possibility future loss', 'case prior loss asians expect greater likelihood futurin', 'adapting aggressively prior loss asians anticipate futurin use offset prior loss', 'expect asian subjects adapt prior outcome americans new purchase intervention contrarian tendency demonstrated', 'trading experiment study subjects informed possible states future prices', 'scenario ii study subjects presented example change second period gain period', 'subjects scenario gain second period', 'asked period scenario make happy period scenario ii', 'answer question subjects consider possibility reversal lowering period scenario', 'presenting cues possible future reversal hypothesize contrarian predilection asians likely strhened studies methodologies', 'intervention impede adaptation new outcome asians explained', 'study future alternate whatsoever specified contrarian tendency asians likely weaker', 'study use new purchase reference eclipse asians usual contrarian view extent resulting slight increase reference adaptation', 'studies increase adaptation greater westerners easterners suggesting americans dominant factor realization paper gains losses helps close old mental account shifts new reference new purchase', 'suggest reference adaptation influenced external internal factors', 'cross-cultural variations encompass broad set causes consequences', 'despite new findings presented knowl cross-cultural patterns static dynamic properties theory reference-dependent preferences remains quite limited', 'domain ripe future', 'particular helpful study reference updating effects using data investor trading records aggregate market prices analysts forecasts earnings']\n"
     ]
    }
   ],
   "source": [
    "print(data_proc2[ref_doc].split('. '))\n",
    "\n",
    "sents = []\n",
    "for d in data_proc2:\n",
    "    sents += d.split('. ')"
   ]
  },
  {
   "cell_type": "code",
   "execution_count": 35,
   "metadata": {},
   "outputs": [
    {
     "name": "stdout",
     "output_type": "stream",
     "text": [
      "['alignments representative negotiations pro-social agents fuel reduce inter-group conflict', 'organizational behavior decision processes contents lists available sciverse organizational behavior decision processes locate obhdp alignments representative negotiations pro-social agents fuel reduce inter-group conflict.', 'department psychology r l f history received accepted keywords personality cooperation competition altruism principal agent theory value orientation - - matter elsevier', 'corresponding', 'address psychology weesperplein xa th e-mail address nl b representative negotiations interests representative represented constituency aligned', 'investigated alignment representative value orientation influence representative negotiations', 'past theory principal agent problem value orientation cooperation dilemmas offer different perspectives examined experiments', 'experiment revealed representatives pro-social pro-self value orientation reluctant accommodate negotiation adversary cost constituency pro-social representatives willing sacrifice self-interest benefit constituency adversary combined', 'experiment replicated finding clarified pro-social representatives willing self-sacrifice served constituency indirectly served adversary', 'parochial altruism demonstrates discriminatory nature pro-socials cooperation reveals potential dark pro-social orientation constructive intoup negotiations', 'elsevier', 'rights reserved', 'introduction reduce inter-group tension facilitate dispute resolution strike mutually beneficial deals competing groups engage representatives negotiate behalf', 'representatives core members thoup external agents specific skills knowl expertise relevant negotiation domain', 'potential problem arises interests representative unequivocally aligned interests represented party', 'conflict exists example investment bankers representing bidding firms mr negotiations receive compensation based premium paid target firms', 'target firms reach maximum possible premium bidding firm strives premium possible potentially resulting lower compensation investment', 'problem alignment referred principal agent problem agent preferences principal personal preferences aligned opposing group', 'lead representative negotiate agreements benefit him- rights reserved', 'department netherlands', 'expense thoup represents', 'integrate theory principal agent problem thowing body representative negotiations intoup competition conflict', 'experiments examine representative negotiation behavior varies function alignment representative constituency represented opposing negotiator', 'importantly investigate representatives willingness sacrifice self-interest benefit constituency contingent interpersonal motivation', 'argue individuals natural tendency act pro-socially willing pro-self motivation sacrifice self-interest benefit constituency compete group', 'principal agent problem interdependence theory principal agent problem refers situation agent representative interests misaligned principal constituency supposed serve', 'misalignment interests creates problem principal constituency delegates decision control agent trustworthy', 'problem nl', 'organizational behavior decision processes inspired large number studies testing possible ensure representatives act interests thoup organization represent', 'work focused monitoring representative behavior using incentives align self-interest interests represented constituency', 'monitoring expensive logistically impractical incentives intended effects', 'underlying failure adequately incentive monitoring systems poor understanding representatives sacrifice self-interests benefit constituency', 'current study designed void', 'contrast work principal agent problem based assumption agents follow self-interest growing body work psychology organizational sciences behavioral shows humans violate assumptions rationality sacrifice self-interest help influenced norms fairness reciprocity', 'tendencies understood terms interdependence theory holds individuals transform objective interdependence structure subjective structure behave according effective matrix according objective given structure', 'transformations driven temporarily activated chronically available goals motivational orientations', 'different motivational orientations conceivable theory motivational orientation relies broad dichotomy pro-self pro-social orientations', 'individuals pro-self orientation opt non-cooperation value high outcomes pro-social orientation desire equality reciprocity tend initiate cooperation care', 'distributive bargaining negotiation individuals need strike balance self-interests adversary stronger desire equality fairness leads negotiators pro-social orientation demand concede negotiators pro-self orientation', 'value orientation alignment intoup negotiations negotiators represent constituency need account additional types interests constituency represent overarching collective comprising opposing group', 'complex set interdependencies representative self-interest aligned interests constituency', 'fact conceivable constituencies adversaries interests aligned odds representative', 'example groups desire quick resolution costly conflict representatives compensated hourly basis representatives motivated prolong conflict slow dispute resolution', 'similar lines representative self-interest quite compatible interests adversary opposed representative constituency - opening example investment bankers', 'fact representative self-interest interests constituency adversary differentially aligned misaligned relatively unimportant representatives pro-self orientation', 'pro-selves focus self-interest pro-socials', 'representatives sacrifice constituencies interests misaligned self-interest inasmuch tough adversary adversary interests oppose', 'differently expected pro-self representatives behave line agency theory assumes representatives driven self-interest serve constituencies interests conv self-interests', 'pro-social representatives matters complicated', 'pro-socials make large concessions relatively cooperative adversary different settings', 'suggests pro-social representatives willing accommodate interests opposing group cost', 'past considered interests representative constituency interact representatives personal motives determine eventual negotiation behavior', 'propose pro-socials likely proselves sacrifice self-interest benefit adversary benefits constituency', 'developing idea draw dilemmas shows pro-socials make self-costly contributions common goods pro-self individuals', 'finding holds different experimental settings using different dilemma games settings', 'example pro-socials pro-selves willing pro-environmental behavior signing petitions contributing money travel public transport car', 'following transformation-hypothesis interdependence theory reasoning pro-self individuals define dilemma terms individual rationality leading non-cooperation pro-social individuals define dilemma terms collective rationality leading cooperation', 'increased identification collective affect pro-socials level self-sacrificing cooperation focus collective welfare strongly increases cooperation pro-selves', 'pro-socials tendency accommodate adversary personal cost driven motivation serve overarching collective in-group out-group adversary constituency', 'pro-social representatives willing sacrifice benefits constituency adversary', 'problem arises collective different subgroups adversary group divnt interests', 'cooperating adversary scenario implies sacrificing constituents interests', 'pro-socials need choose subgroup cooperate constituency adversary', 'so-called nested dilemmas individuals choose benefit sub-group overarching collective shows individuals likely sacrifice personal interests contributing subgroup level', 'salience overarching collective enhanced self-sacrificial cooperation shifts subgroup overarching collective level benefitting in-group out-group', 'relating findings transformation hypothesis holds collective level salient pro-social pro-self individuals propose hypothesis', 'pro-social representatives makeater concessions pro-selves concessions serve collective interests concessions serve adversaries interests', 'experiment test hypothesis developed new inter-group conflict individuals negotiated behalf constituency representative adversary group', 'allow straightforward test hypothesis negotiation involved single issue representative self-interest opposed aligned interests represented constituency opposed adversary', 'concession making adversary hurt representative self-interest benefitted adversary', 'depending condition concession making benefitted hurt constituencies interests', 'hypothesis pro-self individuals relatively immune alignment pro-social individuals conciliatory adversary conciliatory behavior benefit constituency', 'self-sacrificial concession making operationalized terms offer participants higher offers personally costly number rounds representatives took reach agreement', 'participants interacted pre-programmed adversary matched concessions fewer rounds reflect greater self-sacrificial concession making participant', 'intoup competition conflict groups representative negotiate behalf', 'negotiation situations representatives interests aligned constituency represent', 'current highlights representatives decide sacrifice self-interest benefit constituency', 'studies value orientation interacted alignment moderate representatives concession making', 'compared pro-self orientation pro-social representatives inclined sacrifice interests promote interests constituency', 'experiment showed tendency stronger pro-social representatives interests opposed constituency self-interest actually aligned interests adversary group', 'contrast pro-self representatives behaved selfishly regardless constituencies preferences interests opposed constituency betrayed constituency close quick self-beneficial party', 'theoretical implications current studies provide extension integration theories', 'firstly results pro-socials indiscriminately cooperative', 'interests representative constituency aligned opposed adversary negotiation party pro-social representatives conciliatory behavior pro-selves', 'finding qualifies earlier results interpersonal negotiation showing ordinary situation self-interest opposes adversary interests pro-socials make larger concessions pro-selves', 'line examined influence presence constituency', 'conceding group situation imply sacrificing sacrificing constituency', 'pro-social representatives reluctant sacrificial behavior hurt constituency', 'pro-socials cooperative tendencies arared constituency deliberately inadvertently hurting group', 'tendency self-sacrificing behavior promote group important motivator', 'organizational behavior decision processes behavior conflict situations behavioral pattern pro-social representatives resembles parochial altruism adaptive strategy enduring inter-group conflicts', 'inter-group conflict thoup members willing sacrifice self-sacrificing benefit group implies hostile behavior competing group', 'parochial altruists competitive advantage inter-group conflicts contribute survival thoup run', 'pro-social individuals especially susceptible self-sacrificing behavior general inclination equality reciprocity', 'reciprocate cooperativeness group potentially leading self-sacrificing behavior time strhening thoup', 'reciprocate competitiveness facing competitive interaction partner easily exploitable hostiloups', 'pro-selves evolved according different survival mechanism', 'willing sacrifice benefit group lead disapproval eventually removal group refrain damaging competing group especially potentially incur personal losses follow strategy leads highest personal benefit', 'inter-group conflicts pro-selves follow strategy relatively indifferent parties avoid personal losses conflict escalation', 'findings send important message agency theory agents pursue self-interest']\n"
     ]
    }
   ],
   "source": [
    "print(sents[0:100])"
   ]
  },
  {
   "cell_type": "code",
   "execution_count": 36,
   "metadata": {},
   "outputs": [],
   "source": [
    "# save data\n",
    "pickle.dump(data_proc2, open( \"C:/Thesis/Data/save/Master_Data/pre_processed_data/data_preprocessed.p\", \"wb\" ) )"
   ]
  },
  {
   "cell_type": "code",
   "execution_count": 37,
   "metadata": {},
   "outputs": [],
   "source": [
    "import io\n",
    "\n",
    "# writing documents one sentence per line to form a larger data set (allowing use of a generator for model training):\n",
    "with open(\"C:/Thesis/Data/save/Master_Data/pre_processed_data/data_preprocessed_txt.txt\", \"a\",encoding=\"utf-8\") as outfile:\n",
    "    \n",
    "    for s in sents:\n",
    "        outstring = s + '\\n'\n",
    "        outfile.write(outstring)\n",
    "        \n",
    "# (additionally you could keep document boundaries intact, \n",
    "# e.g. by writing a file per document or marking start and end of articles in the larger file)"
   ]
  },
  {
   "cell_type": "code",
   "execution_count": null,
   "metadata": {},
   "outputs": [],
   "source": [
    "#import io\n",
    "#with open(\"C:/Thesis/Data/save/Master_Data/MD_3/data_proc_latest/JM_data_proc_txt.txt\", \"w\",encoding=\"utf-8\") as outfile:\n",
    "#    for i in range(len(data_proc)):\n",
    "#        outstring = \"\"\n",
    "#        outstring += str(data_proc[i])\n",
    "#        outfile.write(outstring)"
   ]
  },
  {
   "cell_type": "code",
   "execution_count": null,
   "metadata": {},
   "outputs": [],
   "source": []
  }
 ],
 "metadata": {
  "kernelspec": {
   "display_name": "Python 3",
   "language": "python",
   "name": "python3"
  },
  "language_info": {
   "codemirror_mode": {
    "name": "ipython",
    "version": 3
   },
   "file_extension": ".py",
   "mimetype": "text/x-python",
   "name": "python",
   "nbconvert_exporter": "python",
   "pygments_lexer": "ipython3",
   "version": "3.7.6"
  }
 },
 "nbformat": 4,
 "nbformat_minor": 2
}
