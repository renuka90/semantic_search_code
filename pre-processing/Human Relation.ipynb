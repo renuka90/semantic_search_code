{
 "cells": [
  {
   "cell_type": "code",
   "execution_count": 1,
   "metadata": {},
   "outputs": [],
   "source": [
    "import os\n",
    "import re\n",
    "import pandas as pd\n",
    "import urllib\n",
    "from nltk import SnowballStemmer\n",
    "from gensim.models import Word2Vec\n",
    "#import langdetect\n",
    "import tika\n",
    "import time\n",
    "from tika import parser\n",
    "import pickle"
   ]
  },
  {
   "cell_type": "markdown",
   "metadata": {},
   "source": [
    "# Raw Articles pdf Data\n",
    "Convert pdf to text using Tika apache server "
   ]
  },
  {
   "cell_type": "code",
   "execution_count": 2,
   "metadata": {},
   "outputs": [],
   "source": [
    "# specify the target data folder\n",
    "\n",
    "target_dir = 'C:/Thesis/Data/Human_Relations'"
   ]
  },
  {
   "cell_type": "code",
   "execution_count": null,
   "metadata": {},
   "outputs": [],
   "source": [
    "# prep pdf extraction\n",
    "pdf_files = []\n",
    "wrd_files = []\n",
    "\n",
    "for f in os.listdir(target_dir):\n",
    "    if f.endswith(\".pdf\") | f.endswith(\".PDF\"):\n",
    "        thispdf = os.path.join(target_dir, f)\n",
    "        pdf_files = pdf_files + [thispdf]\n",
    "    if f.endswith(\".doc\") | f.endswith(\".docx\") | f.endswith(\".DOC\") | f.endswith(\".DOCX\"):\n",
    "        thiswrd = os.path.join(target_dir, f)\n",
    "        wrd_files = wrd_files + [thiswrd]"
   ]
  },
  {
   "cell_type": "code",
   "execution_count": null,
   "metadata": {
    "scrolled": true
   },
   "outputs": [],
   "source": [
    "port = 4321 # port to use for Tika server (chosen arbitrarily)\n",
    "server_str = 'http://localhost:' + str(port)\n",
    "tika_path  = 'C:\\Software\\ tika-server-1.23.jar'\n",
    "tika_run   = 'java -jar' + tika_path + ' --port ' + str(port)\n",
    "print('Command to start Tika:')\n",
    "print(tika_run)\n",
    "print('---')\n",
    "print('Number of pdf files: ' + str(len(pdf_files)))\n",
    "print('Number of word files: ' + str(len(wrd_files)))"
   ]
  },
  {
   "cell_type": "code",
   "execution_count": null,
   "metadata": {},
   "outputs": [],
   "source": [
    "# process the PDF files, store text in memory\n",
    "tika.TikaClientOnly = True \n",
    "\n",
    "pdf_metadata = [parser.from_file(t, server_str, xmlContent=False)[\"metadata\"] for t in (pdf_files + wrd_files)]"
   ]
  },
  {
   "cell_type": "code",
   "execution_count": null,
   "metadata": {},
   "outputs": [],
   "source": [
    "# save data metadata\n",
    "pickle.dump(pdf_metadata, open( \"C:/Thesis/Data/save/Human_Relations/metadata/metadata_all.p\", \"wb\" ) )"
   ]
  },
  {
   "cell_type": "markdown",
   "metadata": {},
   "source": [
    "# Text Data\n",
    "\n",
    "Eliminate title, sections (eg: content between Method and Discussion) and Reference. It is saved as a pre-processed data"
   ]
  },
  {
   "cell_type": "code",
   "execution_count": null,
   "metadata": {
    "scrolled": true
   },
   "outputs": [],
   "source": [
    "# process the PDF files, store text in memory\n",
    "tika.TikaClientOnly = True \n",
    "\n",
    "pdf_text = [parser.from_file(t, server_str, xmlContent=False)[\"content\"] for t in (pdf_files + wrd_files)]"
   ]
  },
  {
   "cell_type": "code",
   "execution_count": null,
   "metadata": {},
   "outputs": [],
   "source": [
    "# save data\n",
    "pickle.dump(pdf_text, open( \"C:/Thesis/Data/save/Human_Relations/save_alltextData.p\", \"wb\" ) )"
   ]
  },
  {
   "cell_type": "markdown",
   "metadata": {},
   "source": [
    "#  Load the Text data"
   ]
  },
  {
   "cell_type": "code",
   "execution_count": 1,
   "metadata": {},
   "outputs": [],
   "source": [
    "import pickle\n",
    "#load the text data\n",
    "pdf_text = pickle.load(open(\"C:/Thesis/Data/save/Human_Relations/save_alltextData.p\", \"rb\"))\n"
   ]
  },
  {
   "cell_type": "code",
   "execution_count": 2,
   "metadata": {},
   "outputs": [
    {
     "data": {
      "text/plain": [
       "434"
      ]
     },
     "execution_count": 2,
     "metadata": {},
     "output_type": "execute_result"
    }
   ],
   "source": [
    "len(pdf_text)"
   ]
  },
  {
   "cell_type": "markdown",
   "metadata": {},
   "source": []
  },
  {
   "cell_type": "code",
   "execution_count": 7,
   "metadata": {},
   "outputs": [],
   "source": []
  },
  {
   "cell_type": "markdown",
   "metadata": {},
   "source": [
    "# Get country names"
   ]
  },
  {
   "cell_type": "code",
   "execution_count": 3,
   "metadata": {},
   "outputs": [],
   "source": [
    "# Since it is case sensetive, firstly get the list of country before converting the text to lowercase\n",
    "country_list = ['america', 'vietnam', 'usa']\n",
    "import pycountry\n",
    "\n",
    "for country in pycountry.countries:\n",
    "    country_list.append(country.name.lower())"
   ]
  },
  {
   "cell_type": "code",
   "execution_count": 4,
   "metadata": {},
   "outputs": [],
   "source": [
    "#Convert country list to lower case. it will be called in filter function\n",
    "#country_lower = [x.lower() for x in country_list]\n",
    "#print(country_list)"
   ]
  },
  {
   "cell_type": "markdown",
   "metadata": {},
   "source": [
    "# Get city names (and additional countries)"
   ]
  },
  {
   "cell_type": "code",
   "execution_count": 5,
   "metadata": {},
   "outputs": [],
   "source": [
    "from geotext import GeoText\n",
    "\n",
    "cities_list = []\n",
    "for i in pdf_text:\n",
    "    place = GeoText(i)\n",
    "    #print(place.cities)\n",
    "    #print(place.countries)\n",
    "    cities_list.append(place.cities + place.countries)\n",
    "\n",
    "t = []\n",
    "for i in cities_list:\n",
    "    t += i\n",
    "    \n",
    "# print(len(t))    \n",
    "    \n",
    "cities_list = list(set(t))\n",
    "# cities_list"
   ]
  },
  {
   "cell_type": "code",
   "execution_count": 6,
   "metadata": {},
   "outputs": [
    {
     "name": "stdout",
     "output_type": "stream",
     "text": [
      "1293\n"
     ]
    }
   ],
   "source": [
    "#Convert cities list to lower case. it will be called in filter function\n",
    "cities_lower =[]\n",
    "for i in cities_list:\n",
    "    #for j in i:\n",
    "    cities_lower.append(i.lower())\n",
    "print(len(cities_lower))\n"
   ]
  },
  {
   "cell_type": "markdown",
   "metadata": {},
   "source": [
    "#  Convert pdf text to lower case"
   ]
  },
  {
   "cell_type": "code",
   "execution_count": 7,
   "metadata": {},
   "outputs": [],
   "source": [
    "#Convert each string to lowercase\n",
    "for i in range(len(pdf_text)):\n",
    "    pdf_text[i] = pdf_text[i].lower()"
   ]
  },
  {
   "cell_type": "markdown",
   "metadata": {},
   "source": [
    "# Excluding pdfs if it doesnot have the standard format \n",
    "check the standard format of pdf- if it contains method and discussion section or not"
   ]
  },
  {
   "cell_type": "code",
   "execution_count": 8,
   "metadata": {},
   "outputs": [
    {
     "data": {
      "text/plain": [
       "56"
      ]
     },
     "execution_count": 8,
     "metadata": {},
     "output_type": "execute_result"
    }
   ],
   "source": [
    "import re\n",
    "pdf_included =[]\n",
    "pdf_excluded =[]\n",
    "\n",
    "for i in pdf_text:\n",
    "    flag_1 = re.search(r'\\n(general )?discussion\\n', i)\n",
    "    flag_2 = re.search(r'\\nmethods?\\n', i)\n",
    "   \n",
    "    if flag_1 and flag_2: \n",
    "        pdf_included.append(i)\n",
    "     \n",
    "    else:\n",
    "        pdf_excluded.append(i)\n",
    "len(pdf_included)"
   ]
  },
  {
   "cell_type": "code",
   "execution_count": 9,
   "metadata": {},
   "outputs": [
    {
     "data": {
      "text/plain": [
       "378"
      ]
     },
     "execution_count": 9,
     "metadata": {},
     "output_type": "execute_result"
    }
   ],
   "source": [
    "len(pdf_excluded)"
   ]
  },
  {
   "cell_type": "code",
   "execution_count": 10,
   "metadata": {},
   "outputs": [],
   "source": [
    "# Within JM: acknowledgement section appears in two approaches:1: before or after keyword section (only few pdfs)\n",
    "# 2: before reference section (maximum pdfs)\n",
    "# thus, focusing on the majority occurance of acknowledgements before reference second, we removed it based on that condition.\n",
    "\n",
    "# step-1 remove content after acknowledgements section( it will include appendix, reference section)\n",
    "pdf_remove_step1 = [re.sub(r\"(?is)\\nacknowledgments\\n.*\", \"\", f) for f in pdf_included]\n",
    "\n",
    "# step-2 if there is no acknowledgements section than start with appendix (it will include reference section.)\n",
    "pdf_remove_step2 = [re.sub(r\"(?is)\\nappendix\\n.*\", \"\", f) for f in pdf_remove_step1]\n",
    "\n",
    "# step-3 remove all from reference section\n",
    "pdf_remove_step3 = [re.sub(r\"(?is)\\nreferences\\n.*\", \"\", f) for f in pdf_remove_step2]\n",
    "\n",
    "# get the reference section\n",
    "references = [re.sub(r\"^(.|\\n)+\\nreferences\\n\", \"\", f) for f in pdf_included]"
   ]
  },
  {
   "cell_type": "code",
   "execution_count": 11,
   "metadata": {},
   "outputs": [
    {
     "data": {
      "text/plain": [
       "56"
      ]
     },
     "execution_count": 11,
     "metadata": {},
     "output_type": "execute_result"
    }
   ],
   "source": [
    "len(pdf_remove_step3)"
   ]
  },
  {
   "cell_type": "code",
   "execution_count": 12,
   "metadata": {},
   "outputs": [],
   "source": [
    "# step-4: remove content between method and discussion section (it contains method and result section)\n",
    "def remove_method_result(method, discussion, text):\n",
    "    \n",
    "    import re    \n",
    "    start = method\n",
    "    end = discussion\n",
    "    #start of pattern, followed by any number of times 'any character OR a newline' and terminated by the end pattern.\n",
    "    #pattern = start + '.*'+'(.|\\n)*'+end\n",
    "    pattern = start +'(.|\\n)*'+end\n",
    "    #pdf_method_dis = [re.sub(pattern, '', f) for f in pdf_text]\n",
    "    pdf_method_dis = re.sub(pattern, '', text)\n",
    "\n",
    "    return pdf_method_dis"
   ]
  },
  {
   "cell_type": "code",
   "execution_count": 13,
   "metadata": {},
   "outputs": [],
   "source": [
    "import re\n",
    "#  remove method and result\n",
    "pdf_remove_step4 = [remove_method_result('\\nmethods?\\n', '\\n(general )?discussion\\n', t) for t in pdf_remove_step3]"
   ]
  },
  {
   "cell_type": "code",
   "execution_count": 14,
   "metadata": {},
   "outputs": [
    {
     "data": {
      "text/plain": [
       "56"
      ]
     },
     "execution_count": 14,
     "metadata": {},
     "output_type": "execute_result"
    }
   ],
   "source": [
    "len(pdf_remove_step4)"
   ]
  },
  {
   "cell_type": "markdown",
   "metadata": {},
   "source": [
    "# Pre-processing\n",
    "Regular expression is used to clean up the data"
   ]
  },
  {
   "cell_type": "code",
   "execution_count": 15,
   "metadata": {},
   "outputs": [
    {
     "name": "stdout",
     "output_type": "stream",
     "text": [
      "\n",
      "\n",
      "\n",
      "\n",
      "\n",
      "\n",
      "\n",
      "\n",
      "\n",
      "\n",
      "\n",
      "\n",
      "\n",
      "\n",
      "\n",
      "\n",
      "\n",
      "\n",
      "\n",
      "\n",
      "\n",
      "\n",
      "\n",
      "\n",
      "\n",
      "\n",
      "\n",
      "\n",
      "\n",
      "\n",
      "\n",
      "\n",
      "\n",
      "\n",
      "\n",
      "\n",
      "\n",
      "\n",
      "\n",
      "\n",
      "\n",
      "\n",
      "\n",
      "\n",
      "\n",
      "the glass partition: obstacles to \n",
      "cross-sex friendships at work\n",
      "kim elsesser and letitia anne peplau\n",
      "\n",
      "a b s t r ac t this study explores cross-sex friendships within the professional\n",
      "\n",
      "workplace and examined the impact of the workplace environment\n",
      "\n",
      "and heightened awareness of sexual harassment on cross-sex friend-\n",
      "\n",
      "ship formation. results from interviews with 41 professionals suggest\n",
      "\n",
      "the existence of obstacles to developing cross-sex friendships at\n",
      "\n",
      "work. specifically, these professionals worried that their cross-sex\n",
      "\n",
      "friends would misinterpret their friendliness as romantic or sexual\n",
      "\n",
      "interest, that their co-workers would misinterpret their friendliness\n",
      "\n",
      "to a cross-sex friend, and that their humor and conversational topics\n",
      "\n",
      "might be perceived by a cross-sex friend as sexual harassment.\n",
      "\n",
      "barriers to cross-sex friendship at work were labeled the ‘glass\n",
      "\n",
      "partition,’ and the potential impact of this glass partition on women’s\n",
      "\n",
      "and men’s careers is discussed.\n",
      "\n",
      "k e y wo r d s cross-sex friendship � gender � organizational behavior � sexual\n",
      "harassment � work environment\n",
      "\n",
      "cross-sex friendships can be difficult to develop and maintain under any\n",
      "circumstances (o’meara, 1989). issues stemming from male-female differ-\n",
      "ences in friendship norms and interests, sexual attraction, and concerns that\n",
      "a cross-sex friendship may be misperceived as sexual all pose potential chal-\n",
      "lenges (martin, 1997; swain, 1992). within the workplace, where friend-\n",
      "ships are particularly important for career development (kram & isabella,\n",
      "1985), physical proximity and job requirements may facilitate cross-sex\n",
      "\n",
      "1 0 7 7\n",
      "\n",
      "human relations\n",
      "\n",
      "doi: 10.1177/0018726706068783\n",
      "\n",
      "volume 59(8): 1077–1100\n",
      "\n",
      "copyright © 2006\n",
      "\n",
      "the tavistock institute ®\n",
      "\n",
      "sage publications\n",
      "\n",
      "london, thousand oaks ca,\n",
      "\n",
      "new delhi \n",
      "\n",
      "www.sagepublications.com\n",
      "\n",
      "\n",
      "\n",
      "friendship formation. on the contrary, other organizational influences such\n",
      "as fear that a cross-sex friendship may be misperceived as a romantic\n",
      "relationship or fear of sexual harassment charges may decrease interactions\n",
      "between cross-sex co-workers, limiting the pool of potential friends. the\n",
      "present analysis of interviews with professionals investigates the impact of\n",
      "the workplace on the development and maintenance of these friendships.\n",
      "\n",
      "workplace friendships are important because they can provide benefits\n",
      "which promote career success. lincoln and miller (1979) defined friendship\n",
      "networks in organizations as ‘systems for making decisions, mobilizing\n",
      "resources, concealing or transmitting information, and performing other\n",
      "functions closely allied with work behavior and interaction’ (p. 196). friends\n",
      "in the workplace provide information, networking, and support that are\n",
      "invaluable for both job performance and satisfaction (kram & isabella,\n",
      "1985; lincoln & miller, 1979).\n",
      "\n",
      "bridge and baxter (1992) found that work friends provided career\n",
      "support in three forms. friends provided information access, serving ‘as a\n",
      "second pair of eyes and ears for one another.’ friends also provided work-\n",
      "related assistance, helping each other accomplish their job tasks. third,\n",
      "friends gave psychological support to one another, ‘providing understanding,\n",
      "empathy and comfort’ (bridge & baxter, 1992: 216).\n",
      "\n",
      "while friendships with peers are important, relationships with those\n",
      "more senior in the organization can also be valuable to the careers of junior\n",
      "employees. sometimes these mentor relationships are formally initiated and\n",
      "managed by the organization, but more often they are informal relationships\n",
      "similar to friendships (ragins & cotton, 1999). mentors can provide advice\n",
      "and information, offer protection, and promote the mentee’s career by\n",
      "making his or her accomplishments more visible (burke, 1984; kram &\n",
      "isabella, 1985; mobley et al., 1994).\n",
      "\n",
      "given the substantial advantages that friendships in the workplace\n",
      "offer, those not able to form friendships are at a career disadvantage. a pref-\n",
      "erence for same-sex friendships restricts an individual’s pool of potential\n",
      "friends. this may have the most impact for women in male-dominated work\n",
      "environments who need to befriend men in order to develop both peer friend-\n",
      "ships and mentor-like relationships. extending the previous research on\n",
      "cross-sex friendships to the workplace may therefore illuminate an import-\n",
      "ant barrier to women’s career advancement.\n",
      "\n",
      "cross-sex friendships\n",
      "\n",
      "to date, research on barriers to the development of cross-sex friendships has\n",
      "typically been conducted outside the context of work. nonetheless, this\n",
      "\n",
      "human relations 59(8)1 0 7 8\n",
      "\n",
      "\n",
      "\n",
      "research suggests several important factors that may be relevant to work-\n",
      "place friendships. first, gender differences in recreational interests and\n",
      "preferred topics of conversation result in a preference for same-sex friends\n",
      "(martin, 1997; swain, 1992). in addition, gender differences in norms and\n",
      "expectations of friendships could cause problems for cross-sex friends. for\n",
      "example, men often disapprove of their same and cross-sex friends crying\n",
      "while women approve of this behavior (felmlee, 1999).\n",
      "\n",
      "sexual attraction toward a potential friend can spur the initiation of a\n",
      "cross-sex friendship. however, in situations where a romantic or sexual\n",
      "relationship is inappropriate or where one partner prefers a non-romantic\n",
      "friendship, sexual undercurrents often jeopardize cross-sex relationships\n",
      "(kaplan & keys, 1998; monsour, 1992; swain, 1992; werking, 1997).\n",
      "finally, friends are concerned that a platonic cross-sex friendship will be\n",
      "misconstrued by third parties as romantic (monsour et al., 1994; o’meara,\n",
      "1989; swain, 1992).\n",
      "\n",
      "workplace environment\n",
      "\n",
      "since little research has examined cross-sex friendship in the workplace, the\n",
      "effects of organizational influences on these friendships remains unknown.\n",
      "certain aspects of the work environment may facilitate cross-sex friendship\n",
      "development while others may hinder the development of new friendships.\n",
      "\n",
      "many workplaces encourage teamwork (beyerlein et al., 1995) which\n",
      "leads to greater interaction between employees. therefore, the workplace\n",
      "potentially provides an environment where men and women can work closely\n",
      "together to achieve common goals. consequently, the workplace offers co-\n",
      "workers proximity, familiarity, and common interests, all of which have been\n",
      "shown to promote liking and friendship (berscheid & reis, 1998). this\n",
      "suggests that cross-sex friendships may be easier to develop within the work-\n",
      "place than outside of work.\n",
      "\n",
      "other current workplace trends may inhibit cross-sex friendship. for\n",
      "example, since workplace romances are often discouraged, some may want\n",
      "to avoid any possibility that their co-workers misperceive a friendship as a\n",
      "romance. even co-workers who are participants in workplace romances typi-\n",
      "cally attempt to keep their romance a secret (anderson & hunsaker, 1985).\n",
      "unlike friendships and other work-sanctioned relationships, workplace\n",
      "romances can be disruptive to the organization and typically lead to negative\n",
      "gossip (bowes-sperry & tata, 1999; mainiero, 1986; powell & graves,\n",
      "2003). the romantic label can be particularly damaging when the alleged\n",
      "couple are not peers in the organization. for example, powell (2001) found\n",
      "that when those perceived to be in a romantic relationship are not peers, and\n",
      "\n",
      "elsesser & peplau the glass partition 1 0 7 9\n",
      "\n",
      "\n",
      "\n",
      "the subordinate is female, other employees tend to believe that the relation-\n",
      "ship is utilitarian (where sex is traded for career advancement). once a\n",
      "relationship is deemed utilitarian, outsiders may question the basis for work-\n",
      "related rewards from the higher-level participant. to date, there is no\n",
      "research on how this fear of third-party misperception of cross-sex friend-\n",
      "ship impacts friendships at work.\n",
      "\n",
      "similarly, the increased awareness of sexual harassment within organiz-\n",
      "ations may impact cross-sex friendship development. a recent survey by the\n",
      "society for human resources management (shrm) found that 97 percent\n",
      "of organizations had sexual harassment policies, and 62 percent had formal\n",
      "training in dealing with sexual harassment (shrm, 1999). however, little\n",
      "research has addressed how increased awareness of sexual harassment has\n",
      "impacted interactions between cross-sex co-workers. one survey of university\n",
      "professors found that 68 percent were concerned about being unjustly accused\n",
      "of sexual harassment, and 45 percent had modified their behavior toward\n",
      "students due to that concern (nicks, 1996). in addition, gutek (1997) suggests\n",
      "that ‘the adversarial nature of the formal complaint procedures has had the\n",
      "effect of polarizing men and women in the workplace’ (p. 196).\n",
      "\n",
      "finally, an examination of the literature on social networks and mentor\n",
      "relationships provides material relevant to cross-sex friendships at work. the\n",
      "preference of men to associate with other men has been well-established in\n",
      "the literature on social networks (see mcpherson et al., 2001 for a review).\n",
      "among managers, men tend to have more gender homophilous networks\n",
      "than do women (ibarra, 1992, 1995). the causes for same-gender preference\n",
      "in these work networks have included similarity (individuals choose to be\n",
      "close to those who are similar to themselves) and contact (people are most\n",
      "likely to come into contact with others like themselves).\n",
      "\n",
      "research on cross-sex mentor relationships (typically male mentor and\n",
      "female protégé) indicates they can be more difficult to develop than same-\n",
      "sex mentor relationships. cross-sex mentor pairs socialize less outside of\n",
      "work than same-sex mentor pairs, and report their relationships are harder\n",
      "to initiate due to fear that the prospective mentor or other co-workers would\n",
      "misconstrue their friendliness as sexual interest (ragins & cotton, 1999).\n",
      "these same concerns may apply to cross-sex friendship development in the\n",
      "workplace.\n",
      "\n",
      "the purpose of this exploratory study was to investigate friendships\n",
      "within the professional workplace and to examine what impact, if any, the\n",
      "workplace environment has on cross-sex friendship formation. structured\n",
      "interviews were combined with a questionnaire in order to obtain a broad\n",
      "range of descriptions of friendship development within organizations. we\n",
      "focused exclusively on professionals in this study as one example of how the\n",
      "\n",
      "human relations 59(8)1 0 8 0\n",
      "\n",
      "\n",
      "\n",
      "work environment impacts cross-sex friendships. it will be left to future\n",
      "research to explore how other categories of workers’ cross-sex friendships\n",
      "are affected by their organizations.\n",
      "\n",
      "the professionals in this study reported receiving substantial benefits from\n",
      "their friends at work. in addition to making the workday more enjoyable,\n",
      "friends provided valuable advice, information, and assistance. although it\n",
      "was easier for the professionals to meet people and make friends at work\n",
      "than outside work, the participants reported the majority of their closest\n",
      "friends at work were of the same sex. even women working in predomi-\n",
      "nantly male organizations tended to form more friendships with women than\n",
      "with men.\n",
      "\n",
      "although many factors undoubtedly contribute to this pattern of same-\n",
      "sex friendships at work, several were particularly noteworthy. similar inter-\n",
      "ests played a role in the friendship development of the professionals in this\n",
      "study, and gender differences in interests may lead to a preference for same-\n",
      "sex friends (martin, 1997; swain, 1992). however, within the workplace,\n",
      "co-workers share a common interest in the work they perform, which facili-\n",
      "tates friendship development. the majority of the participants’ closest friend-\n",
      "ships in the present study were launched as a result of cooperating on a work\n",
      "project. although gendered interests may still pose some obstacle to friend-\n",
      "ships within the workplace, they most likely create a more substantial barrier\n",
      "to friendships outside of work.\n",
      "\n",
      "instead, barriers to cross-sex friendship at work centered around\n",
      "aspects of the work environment that discourage romantic entanglements\n",
      "among co-workers and seek to prevent sexual harassment. professionals were\n",
      "concerned that their co-workers might misperceive a platonic cross-sex\n",
      "friendship as an inappropriate sexual liaison. while misperception is also a\n",
      "concern of cross-sex friends outside of the workplace, it may present a\n",
      "greater barrier inside the organization, where co-workers speculate about the\n",
      "motives of the perceived romantic partners (bowes-sperry & tata, 1999;\n",
      "mainiero, 1986; powell & graves, 2003). in addition, men reported concern\n",
      "that women at work might misinterpret a friendly overture as sexual harass-\n",
      "ment, or that women would take offense at their jokes or topics of conver-\n",
      "sation. women were concerned that men felt uncomfortable in their presence\n",
      "and therefore might avoid them. these concerns appeared to be more\n",
      "\n",
      "elsesser & peplau the glass partition 1 0 9 3\n",
      "\n",
      "\n",
      "\n",
      "common in interactions with acquaintances and casual friends than among\n",
      "close friends and between senior and subordinate pairs than between peers.\n",
      "\n",
      "on a positive note, the findings of this study suggest that sexual harass-\n",
      "ment policies are working. men reported they joke less in front of women\n",
      "and are less likely to perform behaviors that may be interpreted as harass-\n",
      "ment. women concur that men joke less around them, and that men are less\n",
      "likely to be alone in an office with a woman. certainly these behaviors create\n",
      "a workplace with a less hostile environment for women. however, an\n",
      "additional, unintended consequence of increased sexual harassment aware-\n",
      "ness is that it may make cross-sex friendships harder to develop. consistent\n",
      "with research that indicates that women perceive more behaviors as harass-\n",
      "ing, the male participants restricted their behavior around women, but not\n",
      "around men, increasing contact among men (berryman-fink & riley, 1997;\n",
      "solomon & williams, 1997). furthermore, the same interactions that were\n",
      "deemed inappropriate for cross-sex communication were utilized to develop\n",
      "same-sex friendships. for example, male employees described initiating\n",
      "friendships by joking with other men, but not women. a male participant\n",
      "who complimented a woman on her clothes is charged with harassment,\n",
      "while a female participant reported offering clothing compliments to other\n",
      "women to start friendships. if co-workers believe that same-sex friends will\n",
      "not label their behavior as harassing, they may have a larger range of\n",
      "behaviors to utilize in initiating same-sex friendships.\n",
      "\n",
      "the glass partition\n",
      "\n",
      "along with obstacles associated with cross-sex friendships outside of the\n",
      "organization, organizational practices that heighten workers’ fears about\n",
      "sexual harassment and proper conduct on the job may create barriers that\n",
      "inhibit male and female employees from crossing the gender line to form\n",
      "cross-sex friendships. we label these barriers to cross-sex friendship in the\n",
      "workplace the ‘glass partition.’ much like the glass ceiling which prevents\n",
      "women from reaching the top levels of corporations, the glass partition may\n",
      "differentially disadvantage women who work in predominantly male\n",
      "organizations. as participants in this study clearly indicated, friends can be\n",
      "invaluable to success on the job.\n",
      "\n",
      "factors that limit a worker’s range of friends based on gender place\n",
      "greater restrictions on women than on men. for example, women in male-\n",
      "dominated professions need to befriend men in order to obtain the infor-\n",
      "mation and networking necessary for career success. men in these\n",
      "professions, however, have sufficient numbers of same-sex co-workers and\n",
      "senior managers to befriend.\n",
      "\n",
      "human relations 59(8)1 0 9 4\n",
      "\n",
      "\n",
      "\n",
      "obstacles to cross-sex friendships may also limit women’s ability to\n",
      "establish friendships with senior employees which could evolve into mentor\n",
      "relationships. the present research suggests that the barriers to cross-sex\n",
      "friendship may be greater for friendships between superiors and subordi-\n",
      "nates. since men often hold the most powerful positions in corporations (e.g.\n",
      "in 2002, 84 percent of the corporate officers in fortune 500 companies were\n",
      "men [catalyst, 2002]), women who are not able to forge friendships with\n",
      "men in their workplace may be left with less powerful mentors or no mentors\n",
      "at all. this may be particularly true for women who are senior within their\n",
      "organization and must seek out mentors at the top levels of the organization.\n",
      "\n",
      "although some have suggested same-sex mentor relationships may be\n",
      "more effective than cross-sex relationships, the research is inconclusive as to\n",
      "whether same-sex mentor relationships or cross-sex mentor relationships are\n",
      "more beneficial to the protégé (see powell, 1999, for review). however,\n",
      "because of their power in the organizations, male mentors may have the\n",
      "ability to provide more valuable support to both their male and female\n",
      "protégés. for example, dreher and cox (1996) found that both male and\n",
      "female mba graduates with male mentors were able to attain greater\n",
      "compensation than those with female mentors. once again, women who\n",
      "have more difficulty establishing friendships or mentor relationships with\n",
      "men in the organization have a career disadvantage.\n",
      "\n",
      "by contrast, the glass partition may have less impact for men in female-\n",
      "dominated environments, where women outnumber men. williams (1989,\n",
      "1992, 1995) suggests that men who enter female-dominated professions,\n",
      "such as nursing, befriend the men who are often at the supervisory levels of\n",
      "these professions. that is, since many female-dominated professions often\n",
      "have men at higher levels of management, the men entering these professions\n",
      "have other, more senior men with whom they can establish friendships or\n",
      "mentor relationships. these relationships with senior men create what\n",
      "williams labeled a ‘glass escalator’ for men in these fields, allowing them to\n",
      "advance their careers more quickly than their female co-workers. however,\n",
      "this preference for same-sex friends may prevent the women in female-\n",
      "dominated professions, which are still predominantly managed by men, from\n",
      "establishing valuable friendships with management and senior personnel.\n",
      "\n",
      "possible moderators of the impact of the glass partition on cross-sex\n",
      "friendship include the closeness of the friendship, the relative status of those\n",
      "in the organization, the marital status of the friends and the size of the\n",
      "organization. first, the discomfort with cross-sex co-workers may impact\n",
      "acquaintance relationships more than close friendships. although close\n",
      "friendships can create a strong bond between individuals, there are signifi-\n",
      "cant advantages to acquaintance-type relationships. granovetter (1973,\n",
      "\n",
      "elsesser & peplau the glass partition 1 0 9 5\n",
      "\n",
      "\n",
      "\n",
      "1974) found that people with whom an individual shares a close bond are likely\n",
      "to be in the same network as the individual and therefore provide redundant\n",
      "contacts and information. acquaintances, or what granovetter labels weak\n",
      "ties, can be more advantageous than closer ties because they bring individuals\n",
      "into new networks and provide less redundant information and contacts than\n",
      "the closer ties. for example, several studies have found those who used weak\n",
      "ties to find new jobs obtained better jobs than those who used only strong ties\n",
      "(bian, 1997; lin & dumin, 1986). in addition, closer friendships evolve from\n",
      "acquaintances in the organizations, so barriers to the establishment of weak\n",
      "ties may ultimately hinder the development of close friendships.\n",
      "\n",
      "second, the glass partition may have a greater impact on cross-sex\n",
      "friendships between superiors and subordinates than those between peers.\n",
      "senior employees may be more concerned about befriending cross-sex junior\n",
      "employees, because misperceptions may have consequences for both\n",
      "employees’ careers. if the cross-sex friendship is misperceived as romantic\n",
      "then others may speculate that the relationship is utilitarian or that inequities\n",
      "exist in the workplace (bowes-sperry & tata, 1999; powell, 2001). also,\n",
      "since sexual harassment often involves one party with greater power in the\n",
      "organization (tangri et al., 1982), the more senior employee may have a\n",
      "greater fear that friendly gestures will be misperceived as harassment.\n",
      "\n",
      "the relationship between marital status and the glass partition is less\n",
      "clear. some barriers may have less impact for married people whose ‘off-\n",
      "limits’ status reduces the likelihood that their friendliness will be misper-\n",
      "ceived as sexual interest, and thus allows them more freedom in establishing\n",
      "friendships. however, sexual attraction can aid in the development of cross-\n",
      "sex friendships (rose, 1985), and some single participants reported their\n",
      "ability to flirt broke down barriers to cross-sex friendship.\n",
      "\n",
      "the effect of organizational size on the glass partition remains equally\n",
      "unresolved. a small organization may foster more frequent contact facili-\n",
      "tating friendship development, but third-party concerns may be greater in a\n",
      "small organization where everyone can observe their co-workers’ behaviors.\n",
      "future research should further investigate the relationship between the glass\n",
      "partition, marital status and organization size.\n",
      "\n",
      "it is important to note that these barriers to cross-sex friendships are\n",
      "not insurmountable. with the exception of one male participant, all partici-\n",
      "pants in the study had at least one cross-sex friendship at work. the glass\n",
      "partition merely suggests that it may be more difficult to establish cross-sex\n",
      "friendships than same-sex friendships. with over 112 million women in the\n",
      "us workforce (us census bureau, 2003), and men holding the most powerful\n",
      "positions in many corporations (catalyst, 2002), phenomena which create\n",
      "even small barriers to cross-sex friendships could have a large impact on the\n",
      "\n",
      "human relations 59(8)1 0 9 6\n",
      "\n",
      "\n",
      "\n",
      "career advancement of women (prentice & miller, 1992). although a\n",
      "substantial number of cross-sex friendships develop in the workplace, future\n",
      "researchers of the glass partition are cautioned to examine not only these\n",
      "friendships that were able to overcome barriers, but also to consider poten-\n",
      "tial friendships that were never initiated due to the glass partition.\n",
      "\n",
      "limitations\n",
      "\n",
      "as a first study of cross-sex friendship at work, the goal of this research was\n",
      "exploratory. as a result the research was limited in several ways. due to the\n",
      "difficulty in recruiting busy professionals for lengthy interviews, the sample\n",
      "was relatively small. however, the sample of professionals came from diverse\n",
      "organizations and different regions of the country. it is also important to note\n",
      "that this study examined cross-sex friendships in large professional organiz-\n",
      "ations. it is possible that employees in smaller organizations or in non-\n",
      "professional work environments may have different experiences. in addition,\n",
      "different organizational cultures may differentially impact the barriers to\n",
      "cross-sex friendship. a systematic investigation of organizational culture\n",
      "and cross-sex friendship would be useful.\n",
      "\n",
      "no information was requested about the sexual orientation of the\n",
      "participants or of their cross-sex friends. it is possible that homosexuals and\n",
      "heterosexuals face different barriers to same-sex and cross-sex friendships at\n",
      "work. one woman in this study mentioned that a gay male work friend was\n",
      "‘no threat whatsoever’ and that her friendship with him was similar to her\n",
      "same-sex friendships. however, lesbians and gay men may encounter more\n",
      "barriers to same-sex friendship than cross-sex friendship in the workplace.\n",
      "future research examining sexual orientation and workplace friendship\n",
      "would be useful.\n",
      "\n",
      "although the gender make-up of the participants’ organizations was\n",
      "assessed, no information was collected on the gender makeup of the partici-\n",
      "pant’s work role. although men and women often work in the same organiz-\n",
      "ation, work roles or jobs are often segregated by sex (see padavic & reskin,\n",
      "2002, for review). having similar work roles may also lead workers to prefer\n",
      "same-sex friends. it will be left to future research to examine the impact of\n",
      "gender segregated work roles on the glass partition.\n",
      "\n",
      "future directions for the organization\n",
      "\n",
      "although some barriers to cross-sex friendships will exist regardless of\n",
      "organizational policies, there may be directions the organization can take to\n",
      "diminish the impact of the glass partition. for example, sexual harassment\n",
      "\n",
      "elsesser & peplau the glass partition 1 0 9 7\n",
      "\n",
      "\n",
      "\n",
      "policies that were initiated to make the workplace a more hospitable environ-\n",
      "ment for women may, inadvertently, have increased barriers to cross-sex\n",
      "friendship at work. sexual harassment has been a serious problem faced by\n",
      "women at work, and efforts to prevent harassment and to make the work-\n",
      "place more welcoming to women are commendable. fortunately, results of\n",
      "this study suggest that an awareness of harassment has successfully influ-\n",
      "enced men to reduce their inappropriate joking and conversation in front of\n",
      "women in the workplace. however, male employees may continue to utilize\n",
      "this inappropriate behavior to bond with other men in the workplace, leaving\n",
      "the female employees feeling ostracized. it is therefore time for those who\n",
      "train employees about sexual harassment to see beyond the legal liability and\n",
      "consider the behavioral consequences of these programs. for example,\n",
      "employees should understand that jokes and offensive language and behavior\n",
      "that are not appropriate for cross-sex interactions are also not appropriate\n",
      "for same-sex interactions in the workplace. in addition, if sexual harassment\n",
      "regulations were less ambiguous, employees might not need to fear misin-\n",
      "terpretation of their well-intentioned actions.\n",
      "\n",
      "future investigations could also explore other organizational changes\n",
      "that could help break down the glass partition. powell (2001) has suggested\n",
      "that the implementation of organizational training on handling workplace\n",
      "romances may reduce the negative reactions from co-workers. this may have\n",
      "the additional benefit of reducing the anxiety that surrounds cross-sex friend-\n",
      "ships that may appear romantic. finally, if organizations encouraged social\n",
      "interaction and facilitated friendship among men and women at work,\n",
      "perhaps social, cross-sex interactions would not be perceived as unusual.\n",
      "\n",
      "--**************************************-\n",
      "-**************************************--\n",
      "-**************************************--\n"
     ]
    }
   ],
   "source": [
    "# testing it works\n",
    "ref_doc = 20\n",
    "print(pdf_remove_step4[ref_doc])\n",
    "print('--**************************************-')\n",
    "print('-**************************************--')\n",
    "print('-**************************************--')\n",
    "# print(pdf_remove_step4[ref_doc])"
   ]
  },
  {
   "cell_type": "code",
   "execution_count": 17,
   "metadata": {},
   "outputs": [],
   "source": [
    "# remove journal title here?\n",
    "pdf_p = [re.sub('journal of management', '', t) for t in pdf_remove_step4]\n",
    "pdf_p = [re.sub('et al.', '', t) for t in pdf_p]\n",
    "pdf_p = [re.sub('e.g.', '', t) for t in pdf_p] \n",
    "pdf_p = [re.sub('e-mail:', '', t) for t in pdf_p] \n",
    "# CHECK ORDER OF OPERATIONS BELOW:\n",
    "#remove email address <-- IMPROVED, BUT E-MAIL SEEMS TO BE BROKEN UP, BUT STILL PRESENT IN DOCUMENTS AT TIMES         \n",
    "pdf_p = [re.sub(r'[\\w\\.\\-]+@[\\w\\.\\-]+\\.(?:com|net|org|live|edu)', \"\", t) for t in pdf_p]"
   ]
  },
  {
   "cell_type": "code",
   "execution_count": 18,
   "metadata": {},
   "outputs": [],
   "source": [
    "pdf_p = [re.sub( r'https?://[^\\s<>\"]+|www\\.[^\\s<>\"]+', \"\", t) for t in pdf_p]\n",
    "pdf_p = [re.sub(\"[\\S\\.\\-\\?\\!\\=]+\\.(net|com|org|info|edu|gov|uk|de|ca|jp|fr|au|us|ru|ch|it|nel|se|no|es|mil)(/[\\S\\.\\-\\?\\!\\=]*)?\\s?\", \" \", t) for t in pdf_p]"
   ]
  },
  {
   "cell_type": "code",
   "execution_count": 19,
   "metadata": {},
   "outputs": [
    {
     "data": {
      "text/plain": [
       "'\\n\\n\\n\\n\\n\\n\\n\\n\\n\\n\\n\\n\\n\\n\\n\\n\\n\\n\\n\\n\\n\\n\\n\\n\\n\\n\\n\\n\\n\\n\\n\\n\\n\\n\\n\\n\\n\\n\\n\\n\\n\\n\\n\\n\\nthass partition: obstacles to \\ncross-sex friendships at work\\nkim elsesser and letitia anne peplau\\n\\na b s t r ac t this study explores cross-sex friendships within the professional\\n\\nworkplace and examined the impact of the workplace environment\\n\\nand htened awareness of sexual harassment on cross-sex friend-\\n\\nship formation. results from interviews with 41 professionals suggest\\n\\nthe existence of obstacles to developing cross-sex friendships at\\n\\nwork. specifically, these professionals worried that their cross-sex\\n\\nfriends would misinterpret their friendliness as romantic or sexual\\n\\ninterest, that their co-workers would misinterpret their friendliness\\n\\nto a cross-sex friend, and that their humor and conversational topics\\n\\nmight be perceived by a cross-sex friend as sexual harassment.\\n\\nbarriers to cross-sex friendship at work were labeled the ‘glass\\n\\npartition,’ and the potential impact of this glass partition on women’s\\n\\nand men’s careers is discussed.\\n\\nk e y wo r d s cross-sex friendship � gender � organizational behavior � sexual\\nharassment � work environment\\n\\ncross-sex friendships can be difficult to develop and maintain under any\\ncircumstances (o’meara, 1989). issues stemming from male-female differ-\\nences in friendship norms and interests, sexual attraction, and concerns that\\na cross-sex friendship may be misperceived as sexual all pose potential chal-\\nls (martin, 1997; swain, 1992). within the workplace, where friend-\\nships are particularly important for career development (kram & isabella,\\n1985), physical proximity and job requirements may facilitate cross-sex\\n\\n1 0 7 7\\n\\nhuman relations\\n\\ndoi: 10.1177/0018726706068783\\n\\nvolume 59(8): 1077–1100\\n\\ncopyright © 2006\\n\\nthe tavistock institute ®\\n\\nsage publications\\n\\nlondon, thousand oaks ca,\\n\\nnew delhi \\n\\n\\n\\n\\n\\nfriendship formation. on the contrary, other organizational influences such\\nas fear that a cross-sex friendship may be misperceived as a romantic\\nrelationship or fear of sexual harassment charges may decrease interactions\\nbetween cross-sex co-workers, limiting the pool of potential friends. the\\npresent analysis of interviews with professionals investigates the impact of\\nthe workplace on the development and maintenance of these friendships.\\n\\nworkplace friendships are important because they can provide benefits\\nwhich promote career success. lincoln and miller (1979) defined friendship\\nnetworks in organizations as ‘systems for making decisions, mobilizing\\nresources, concealing or transmitting information, and performing other\\nfunctions closely allied with work behavior and interaction’ (p. 196). friends\\nin the workplace provide information, networking, and support that are\\ninvaluable for both job performance and satisfaction (kram & isabella,\\n1985; lincoln & miller, 1979).\\n\\nbridge and baxter (1992) found that work friends provided career\\nsupport in three forms. friends provided information access, serving ‘as a\\nsecond pair of eyes and ears for one another.’ friends also provided work-\\nrelated assistance, helping each other accomplish their job tasks. third,\\nfriends gave psychological support to one another, ‘providing understanding,\\nempathy and comfort’ (bridge & baxter, 1992: 216).\\n\\nwhile friendships with peers are important, relationships with those\\nmore senior in the organization can also be valuable to the careers of junior\\nemployees. sometimes these mentor relationships are formally initiated and\\nmanaged by the organization, but more often they are informal relationships\\nsimilar to friendships (ragins & cotton, 1999). mentors can provide advice\\nand information, offer protection, and promote the mentee’s career by\\nmaking his or her accomplishments more visible (burke, 1984; kram &\\nisabella, 1985; mobley , 1994).\\n\\ngiven the substantial advantages that friendships in the workplace\\noffer, those not able to form friendships are at a career disadvantage. a pref-\\nerence for same-sex friendships restricts an individual’s pool of potential\\nfriends. this may have the most impact for women in male-dominated work\\nenvironments who need to befriend men in order to develop both peer friend-\\nships and mentor-like relationships. extending the previous research on\\ncross-sex friendships to the workplace may therefore illuminate an import-\\nant barrier to women’s career advancement.\\n\\ncross-sex friendships\\n\\nto date, research on barriers to the development of cross-sex friendships has\\ntypically been conducted outside the context of work. nonetheless, this\\n\\nhuman relations 59(8)1 0 7 8\\n\\n\\n\\nresearch suggests several important factors that may be relevant to work-\\nplace friendships. first, gender differences in recreational interests and\\npreferred topics of conversation result in a preference for same-sex friends\\n(martin, 1997; swain, 1992). in addition, gender differences in norms and\\nexpectations of friendships could cause problems for cross-sex friends. for\\nexample, men often disapprove of their same and cross-sex friends crying\\nwhile women approve of this behavior (felmlee, 1999).\\n\\nsexual attraction toward a potential friend can spur the initiation of a\\ncross-sex friendship. however, in situations where a romantic or sexual\\nrelationship is inappropriate or where one partner prefers a non-romantic\\nfriendship, sexual undercurrents often jeopardize cross-sex relationships\\n(kaplan & keys, 1998; monsour, 1992; swain, 1992; werking, 1997).\\nfinally, friends are concerned that a platonic cross-sex friendship will be\\nmisconstrued by third parties as romantic (monsour , 1994; o’meara,\\n1989; swain, 1992).\\n\\nworkplace environment\\n\\nsince little research has examined cross-sex friendship in the workplace, the\\neffects of organizational influences on these friendships remains unknown.\\ncertain aspects of the work environment may facilitate cross-sex friendship\\ndevelopment while others may hinder the development of new friendships.\\n\\nmany workplaces encourage teamwork (beyerlein , 1995) which\\nleads to greater interaction between employees. therefore, the workplace\\npotentially provides an environment where men and women can work closely\\ntogether to achieve common goals. consequently, the workplace offers co-\\nworkers proximity, familiarity, and common interests, all of which have been\\nshown to promote liking and friendship (berscheid & reis, 1998). this\\nsuggests that cross-sex friendships may be easier to develop within the work-\\nplace than outside of work.\\n\\nother current workplace trends may inhibit cross-sex friendship. for\\nexample, since workplace romances are often discouraged, some may want\\nto avoid any possibility that their co-workers misperceive a friendship as a\\nromance. even co-workers who are participants in workplace romances typi-\\ncally attempt to keep their romance a secret (anderson & hunsaker, 1985).\\nunlike friendships and other work-sanctioned relationships, workplace\\nromances can be disruptive to the organization and typically lead to negative\\ngossip (bowes-sperry & tata, 1999; mainiero, 1986; powell & graves,\\n2003). the romantic label can be particularly damaging when the alleged\\ncouple are not peers in the organization. for example, powell (2001) found\\nthat when those perceived to be in a romantic relationship are not peers, and\\n\\nelsesser & peplau thass partition 1 0 7 9\\n\\n\\n\\nthe subordinate is female, other employees tend to believe that the relation-\\nship is utilitarian (where sex is traded for career advancement). once a\\nrelationship is deemed utilitarian, outsiders may question the basis for work-\\nrelated rewards from the higher-level participant. to date, there is no\\nresearch on how this fear of third-party misperception of cross-sex friend-\\nship impacts friendships at work.\\n\\nsimilarly, the increased awareness of sexual harassment within organiz-\\nations may impact cross-sex friendship development. a recent survey by the\\nsociety for human resources management (shrm) found that 97 percent\\nof organizations had sexual harassment policies, and 62 percent had formal\\ntraining in dealing with sexual harassment (shrm, 1999). however, little\\nresearch has addressed how increased awareness of sexual harassment has\\nimpacted interactions between cross-sex co-workers. one survey of university\\nprofessors found that 68 percent were concerned about being unjustly accused\\nof sexual harassment, and 45 percent had modified their behavior toward\\nstudents due to that concern (nicks, 1996). in addition, gutek (1997) suggests\\nthat ‘the adversarial nature of the formal complaint procedures has had the\\neffect of polarizing men and women in the workplace’ (p. 196).\\n\\nfinally, an examination of the literature on social networks and mentor\\nrelationships provides material relevant to cross-sex friendships at work. the\\npreference of men to associate with other men has been well-established in\\nthe literature on social networks (see mcpherson , 2001 for a review).\\namong managers, men tend to have mornder homophilous networks\\nthan do women (ibarra, 1992, 1995). the causes for samnder preference\\nin these work networks have included similarity (individuals choose to be\\nclose to those who are similar to themselves) and contact (people are most\\nlikely to come into contact with others like themselves).\\n\\nresearch on cross-sex mentor relationships (typically male mentor and\\nfemale protégé) indicates they can be more difficult to develop than same-\\nsex mentor relationships. cross-sex mentor pairs socialize less outside of\\nwork than same-sex mentor pairs, and report their relationships are harder\\nto initiate due to fear that the prospective mentor or other co-workers would\\nmisconstrue their friendliness as sexual interest (ragins & cotton, 1999).\\nthese same concerns may apply to cross-sex friendship development in the\\nworkplace.\\n\\nthe purpose of this exploratory study was to investigate friendships\\nwithin the professional workplace and to examine what impact, if any, the\\nworkplace environment has on cross-sex friendship formation. structured\\ninterviews were combined with a questionnaire in order to obtain a broad\\nrange of descriptions of friendship development within organizations. we\\nfocused exclusively on professionals in this study as one example of how the\\n\\nhuman relations 59(8)1 0 8 0\\n\\n\\n\\nwork environment impacts cross-sex friendships. it will be left to future\\nresearch to explore how other categories of workers’ cross-sex friendships\\nare affected by their organizations.\\n\\nthe professionals in this study reported receiving substantial benefits from\\ntheir friends at work. in addition to making the workday more enjoyable,\\nfriends provided valuable advice, information, and assistance. although it\\nwas easier for the professionals to meet people and make friends at work\\nthan outside work, the participants reported the majority of their closest\\nfriends at work were of the same sex. even women working in predomi-\\nnantly male organizations tended to form more friendships with women than\\nwith men.\\n\\nalthough many factors undoubtedly contribute to this pattern of same-\\nsex friendships at work, several were particularly noteworthy. similar inter-\\nests played a role in the friendship development of the professionals in this\\nstudy, and gender differences in interests may lead to a preference for same-\\nsex friends (martin, 1997; swain, 1992). however, within the workplace,\\nco-workers share a common interest in the work they perform, which facili-\\ntates friendship development. the majority of the participants’ closest friend-\\nships in the present study were launched as a result of cooperating on a work\\nproject. although gendered interests may still pose some obstacle to friend-\\nships within the workplace, they most likely create a more substantial barrier\\nto friendships outside of work.\\n\\ninstead, barriers to cross-sex friendship at work centered around\\naspects of the work environment that discourage romantic entanglements\\namong co-workers and seek to prevent sexual harassment. professionals were\\nconcerned that their co-workers might misperceive a platonic cross-sex\\nfriendship as an inappropriate sexual liaison. while misperception is also a\\nconcern of cross-sex friends outside of the workplace, it may present a\\ngreater barrier inside the organization, where co-workers speculate about the\\nmotives of the perceived romantic partners (bowes-sperry & tata, 1999;\\nmainiero, 1986; powell & graves, 2003). in addition, men reported concern\\nthat women at work might misinterpret a friendly overture as sexual harass-\\nment, or that women would take offense at their jokes or topics of conver-\\nsation. women were concerned that men felt uncomfortable in their presence\\nand therefore might avoid them. these concerns appeared to be more\\n\\nelsesser & peplau thass partition 1 0 9 3\\n\\n\\n\\ncommon in interactions with acquaintances and casual friends than among\\nclose friends and between senior and subordinate pairs than between peers.\\n\\non a positive note, the findings of this study suggest that sexual harass-\\nment policies are working. men reported they joke less in front of women\\nand are less likely to perform behaviors that may be interpreted as harass-\\nment. women concur that men joke less around them, and that men are less\\nlikely to be alone in an office with a woman. certainly these behaviors create\\na workplace with a less hostile environment for women. however, an\\nadditional, unintended consequence of increased sexual harassment aware-\\nness is that it may make cross-sex friendships harder to develop. consistent\\nwith research that indicates that women perceive more behaviors as harass-\\ning, the male participants restricted their behavior around women, but not\\naround men, increasing contact among men (berryman-fink & riley, 1997;\\nsolomon & williams, 1997). furthermore, the same interactions that were\\ndeemed inappropriate for cross-sex communication were utilized to develop\\nsame-sex friendships. for example, male employees described initiating\\nfriendships by joking with other men, but not women. a male participant\\nwho complimented a woman on her clothes is charged with harassment,\\nwhile a female participant reported offering clothing compliments to other\\nwomen to start friendships. if co-workers believe that same-sex friends will\\nnot label their behavior as harassing, they may have a larger range of\\nbehaviors to utilize in initiating same-sex friendships.\\n\\nthass partition\\n\\nalong with obstacles associated with cross-sex friendships outside of the\\norganization, organizational practices that hten workers’ fears about\\nsexual harassment and proper conduct on the job may create barriers that\\ninhibit male and female employees from crossing thnder line to form\\ncross-sex friendships. we label these barriers to cross-sex friendship in the\\nworkplace the ‘glass partition.’ much like thass ceiling which prevents\\nwomen from reaching the top levels of corporations, thass partition may\\ndifferentially disadvantage women who work in predominantly male\\norganizations. as participants in this study clearly indicated, friends can be\\ninvaluable to success on the job.\\n\\nfactors that limit a worker’s range of friends based on gender place\\ngreater restrictions on women than on men. for example, women in male-\\ndominated professions need to befriend men in order to obtain the infor-\\nmation and networking necessary for career success. men in these\\nprofessions, however, have sufficient numbers of same-sex co-workers and\\nsenior managers to befriend.\\n\\nhuman relations 59(8)1 0 9 4\\n\\n\\n\\nobstacles to cross-sex friendships may also limit women’s ability to\\nestablish friendships with senior employees which could evolve into mentor\\nrelationships. the present research suggests that the barriers to cross-sex\\nfriendship may beater for friendships between superiors and subordi-\\nnates. since men often hold the most powerful positions in corporations (\\nin 2002, 84 percent of the corporate officers in fortune 500 companies were\\nmen [catalyst, 2002]), women who are not able to forge friendships with\\nmen in their workplace may be left with less powerful mentors or no mentors\\nat all. this may be particularly true for women who are senior within their\\norganization and must seek out mentors at the top levels of the organization.\\n\\nalthough some have suggested same-sex mentor relationships may be\\nmore effective than cross-sex relationships, the research is inconclusive as to\\nwhether same-sex mentor relationships or cross-sex mentor relationships are\\nmore beneficial to the protégé (see powell, 1999, for review). however,\\nbecause of their power in the organizations, male mentors may have the\\nability to provide more valuable support to both their male and female\\nprotégés. for example, dreher and cox (1996) found that both male and\\nfemale mba graduates with male mentors were able to attain greater\\ncompensation than those with female mentors. once again, women who\\nhave more difficulty establishing friendships or mentor relationships with\\nmen in the organization have a career disadvantage.\\n\\nby contrast, thass partition may have less impact for men in female-\\ndominated environments, where women outnumber men. williams (1989,\\n1992, 1995) suggests that men who enter female-dominated professions,\\nsuch as nursing, befriend the men who are often at the supervisory levels of\\nthese professions. that is, since many female-dominated professions often\\nhave men at higher levels of management, the men entering these professions\\nhave other, more senior men with whom they can establish friendships or\\nmentor relationships. these relationships with senior men create what\\nwilliams labeled a ‘glass escalator’ for men in these fields, allowing them to\\nadvance their careers more quickly than their female co-workers. however,\\nthis preference for same-sex friends may prevent the women in female-\\ndominated professions, which are still predominantly managed by men, from\\nestablishing valuable friendships with management and senior personnel.\\n\\npossible moderators of the impact of thass partition on cross-sex\\nfriendship include the closeness of the friendship, the relative status of those\\nin the organization, the marital status of the friends and the size of the\\norganization. first, the discomfort with cross-sex co-workers may impact\\nacquaintance relationships more than close friendships. although close\\nfriendships can create a strong bond between individuals, there are signifi-\\ncant advantages to acquaintance-type relationships. granovetter (1973,\\n\\nelsesser & peplau thass partition 1 0 9 5\\n\\n\\n\\n1974) found that people with whom an individual shares a close bond are likely\\nto be in the same network as the individual and therefore provide redundant\\ncontacts and information. acquaintances, or what granovetter labels weak\\nties, can be more advantageous than closer ties because they bring individuals\\ninto new networks and provide less redundant information and contacts than\\nthe closer ties. for example, several studies have found those who used weak\\nties to find new jobs obtained better jobs than those who used only strong ties\\n(bian, 1997; lin & dumin, 1986). in addition, closer friendships evolve from\\nacquaintances in the organizations, so barriers to the establishment of weak\\nties may ultimately hinder the development of close friendships.\\n\\nsecond, thass partition may have a greater impact on cross-sex\\nfriendships between superiors and subordinates than those between peers.\\nsenior employees may be more concerned about befriending cross-sex junior\\nemployees, because misperceptions may have consequences for both\\nemployees’ careers. if the cross-sex friendship is misperceived as romantic\\nthen others may speculate that the relationship is utilitarian or that inequities\\nexist in the workplace (bowes-sperry & tata, 1999; powell, 2001). also,\\nsince sexual harassment often involves one party with greater power in the\\norganization (tangri , 1982), the more senior employee may have a\\ngreater fear that friendly gestures will be misperceived as harassment.\\n\\nthe relationship between marital status and thass partition is less\\nclear. some barriers may have less impact for married people whose ‘off-\\nlimits’ status reduces the likelihood that their friendliness will be misper-\\nceived as sexual interest, and thus allows them more freedom in establishing\\nfriendships. however, sexual attraction can aid in the development of cross-\\nsex friendships (rose, 1985), and some single participants reported their\\nability to flirt broke down barriers to cross-sex friendship.\\n\\nthe effect of organizational size on thass partition remains equally\\nunresolved. a small organization may foster more frequent contact facili-\\ntating friendship development, but third-party concerns may beater in a\\nsmall organization where everyone can observe their co-workers’ behaviors.\\nfuture research should further investigate the relationship between thass\\npartition, marital status and organization size.\\n\\nit is important to note that these barriers to cross-sex friendships are\\nnot insurmountable. with the exception of one male participant, all partici-\\npants in the study had at least one cross-sex friendship at work. thass\\npartition merely suggests that it may be more difficult to establish cross-sex\\nfriendships than same-sex friendships. with over 112 million women in the\\nus workforce (us census bureau, 2003), and men holding the most powerful\\npositions in many corporations (catalyst, 2002), phenomena which create\\neven small barriers to cross-sex friendships could have a large impact on the\\n\\nhuman relations 59(8)1 0 9 6\\n\\n\\n\\ncareer advancement of women (prentice & miller, 1992). although a\\nsubstantial number of cross-sex friendships develop in the workplace, future\\nresearchers of thass partition are cautioned to examine not only these\\nfriendships that were able to overcome barriers, but also to consider poten-\\ntial friendships that were never initiated due to thass partition.\\n\\nlimitations\\n\\nas a first study of cross-sex friendship at work, thal of this research was\\nexploratory. as a result the research was limited in several ways. due to the\\ndifficulty in recruiting busy professionals for lhy interviews, the sample\\nwas relatively small. however, the sample of professionals came from diverse\\norganizations and different regions of the country. it is also important to note\\nthat this study examined cross-sex friendships in large professional organiz-\\nations. it is possible that employees in smaller organizations or in non-\\nprofessional work environments may have different experiences. in addition,\\ndifferent organizational cultures may differentially impact the barriers to\\ncross-sex friendship. a systematic investigation of organizational culture\\nand cross-sex friendship would be useful.\\n\\nno information was requested about the sexual orientation of the\\nparticipants or of their cross-sex friends. it is possible that homosexuals and\\nheterosexuals face different barriers to same-sex and cross-sex friendships at\\nwork. one woman in this study mentioned that a gay male work friend was\\n‘no threat whatsoever’ and that her friendship with him was similar to her\\nsame-sex friendships. however, lesbians and gay men may encounter more\\nbarriers to same-sex friendship than cross-sex friendship in the workplace.\\nfuture research examining sexual orientation and workplace friendship\\nwould be useful.\\n\\nalthough thnder make-up of the participants’ organizations was\\nassessed, no information was collected on thnder makeup of the partici-\\npant’s work role. although men and women often work in the same organiz-\\nation, work roles or jobs are often segregated by sex (see padavic & reskin,\\n2002, for review). having similar work roles may also lead workers to prefer\\nsame-sex friends. it will be left to future research to examine the impact of\\ngender segregated work roles on thass partition.\\n\\nfuture directions for the organization\\n\\nalthough some barriers to cross-sex friendships will exist regardless of\\norganizational policies, there may be directions the organization can take to\\ndiminish the impact of thass partition. for example, sexual harassment\\n\\nelsesser & peplau thass partition 1 0 9 7\\n\\n\\n\\npolicies that were initiated to make the workplace a more hospitable environ-\\nment for women may, inadvertently, have increased barriers to cross-sex\\nfriendship at work. sexual harassment has been a serious problem faced by\\nwomen at work, and efforts to prevent harassment and to make the work-\\nplace more welcoming to women are commendable. fortunately, results of\\nthis study suggest that an awareness of harassment has successfully influ-\\nenced men to reduce their inappropriate joking and conversation in front of\\nwomen in the workplace. however, male employees may continue to utilize\\nthis inappropriate behavior to bond with other men in the workplace, leaving\\nthe female employees feeling ostracized. it is therefore time for those who\\ntrain employees about sexual harassment to see beyond the legal liability and\\nconsider the behavioral consequences of these programs. for example,\\nemployees should understand that jokes and offensive language and behavior\\nthat are not appropriate for cross-sex interactions are also not appropriate\\nfor same-sex interactions in the workplace. in addition, if sexual harassment\\nregulations were less ambiguous, employees might not need to fear misin-\\nterpretation of their well-intentioned actions.\\n\\nfuture investigations could also explore other organizational changes\\nthat could help break down thass partition. powell (2001) has suggested\\nthat the implementation of organizational training on handling workplace\\nromances may reduce the negative reactions from co-workers. this may have\\nthe additional benefit of reducing the anxiety that surrounds cross-sex friend-\\nships that may appear romantic. finally, if organizations encouraged social\\ninteraction and facilitated friendship among men and women at work,\\nperhaps social, cross-sex interactions would not be perceived as unusual.\\n'"
      ]
     },
     "execution_count": 19,
     "metadata": {},
     "output_type": "execute_result"
    }
   ],
   "source": [
    "pdf_p[ref_doc]"
   ]
  },
  {
   "cell_type": "code",
   "execution_count": 20,
   "metadata": {},
   "outputs": [],
   "source": [
    "#remove hyphon only if it is at the end of the line.\n",
    "#pdf_p = [re.sub(r'(\\W[a-z]+)-\\n(\\W[a-z]+)', r'\\1\\2', t) for t in pdf_p]\n",
    "pdf_p = [re.sub(r'-\\n', '', t) for t in pdf_p]"
   ]
  },
  {
   "cell_type": "code",
   "execution_count": 21,
   "metadata": {},
   "outputs": [],
   "source": [
    "#remove text within ()\n",
    "pdf_p = [re.sub(r\"\\([^)]*\\)\", \"\", t) for t in pdf_p]\n",
    "# remove text with [] eg citation\n",
    "pdf_p = [re.sub(r\"\\[[^)]*\\]\", \"\", t) for t in pdf_p]\n",
    "#Remove numbers\n",
    "pdf_p = [re.sub('[0-9]+', '', f) for f in pdf_p]\n"
   ]
  },
  {
   "cell_type": "code",
   "execution_count": 22,
   "metadata": {},
   "outputs": [],
   "source": [
    "pdf_p = [re.sub('[\\n\\r]+', ' ', f) for f in pdf_p] # remove newline and linebreak characters, replace with space\n",
    "pdf_p = [re.sub('[@/%#$,=\\+:’“”]', ' ', f) for f in pdf_p] # remove stray non-word characters"
   ]
  },
  {
   "cell_type": "code",
   "execution_count": 23,
   "metadata": {},
   "outputs": [],
   "source": [
    "#pdf_p = [re.sub(r\"\\s\\([A-Z][a-z]+,\\s[A-Z][a-z]?\\.[^\\)]*,\\s\\d{4}\\)\", \"\", f) for f in pdf_p] # is this supposed to filter out citations?\n",
    "\n",
    "# save all periods, exclamation marks and question marks, but get rid of unnecessary characters\n",
    "pdf_p = [re.sub('[\\.!?]+ ', 'XYZXYZ', t) for t in pdf_p]\n",
    "pdf_p = [re.sub('-', 'ZYXXYZ', t) for t in pdf_p]\n",
    "pdf_p = [re.sub('[\\W_]+', ' ', f) for f in pdf_p]\n",
    "pdf_p = [re.sub('XYZXYZ', '. ', f) for f in pdf_p]\n",
    "pdf_p = [re.sub('ZYXXYZ', '-', f) for f in pdf_p]\n",
    "#pdf_p[0]\n",
    "\n",
    "#Remove placeholder x repetitions\n",
    "pdf_p = [re.sub(' x+ ', '', f) for f in pdf_p]\n",
    "\n",
    "# remove single characters\n",
    "pdf_p = [re.sub(' [a-z] ' ,  ' ', f) for f in pdf_p]\n",
    "pdf_p = [re.sub(' [a-z]\\.', '.', f) for f in pdf_p]\n",
    "pdf_p = [re.sub(' \\.', '.', f) for f in pdf_p]"
   ]
  },
  {
   "cell_type": "code",
   "execution_count": 24,
   "metadata": {},
   "outputs": [
    {
     "name": "stdout",
     "output_type": "stream",
     "text": [
      " thass partition obstacles to cross-sex friendships at work kim elsesser and letitia anne peplau b t ac this study explores cross-sex friendships within the professional workplace and examined the impact of the workplace environment and htened awareness of sexual harassment on cross-sex friend ship formation. results from interviews with professionals suggest the existence of obstacles to developing cross-sex friendships at work. specifically these professionals worried that their cross-sex friends would misinterpret their friendliness as romantic or sexual interest that their co-workers would misinterpret their friendliness to cross-sex friend and that their humor and conversational topics might be perceived by cross-sex friend as sexual harassment. barriers to cross-sex friendship at work were labeled the glass partition and the potential impact of this glass partition on women and men careers is discussed. e wo d cross-sex friendship gender organizational behavior sexual harassment work environment cross-sex friendships can be difficult to develop and maintain under any circumstances. issues stemming from male-female differences in friendship norms and interests sexual attraction and concerns that cross-sex friendship may be misperceived as sexual all pose potential challs. within the workplace where friendships are particularly important for career development physical proximity and job requirements may facilitate cross-sex human relations doi.  volume copyright the tavistock institute sage publications london thousand oaks ca new delhi friendship formation. on the contrary other organizational influences such as fear that cross-sex friendship may be misperceived as romantic relationship or fear of sexual harassment charges may decrease interactions between cross-sex co-workers limiting the pool of potential friends. the present analysis of interviews with professionals investigates the impact of the workplace on the development and maintenance of these friendships. workplace friendships are important because they can provide benefits which promote career success. lincoln and miller defined friendship networks in organizations as systems for making decisions mobilizing resources concealing or transmitting information and performing other functions closely allied with work behavior and interaction. friends in the workplace provide information networking and support that are invaluable for both job performance and satisfaction. bridge and baxter found that work friends provided career support in three forms. friends provided information access serving as second pair of eyes and ears for one another.  friends also provided workrelated assistance helping each other accomplish their job tasks. third friends gave psychological support to one another providing understanding empathy and comfort. while friendships with peers are important relationships with those more senior in the organization can also be valuable to the careers of junior employees. sometimes these mentor relationships are formally initiated and managed by the organization but more often they are informal relationships similar to friendships. mentors can provide advice and information offer protection and promote the mentee career by making his or her accomplishments more visible. given the substantial advantages that friendships in the workplace offer those not able to form friendships are at career disadvantage. preference for same-sex friendships restricts an individual pool of potential friends. this may have the most impact for women in male-dominated work environments who need to befriend men in order to develop both peer friendships and mentor-like relationships. extending the previous research on cross-sex friendships to the workplace may therefore illuminate an important barrier to women career advancement. cross-sex friendships to date research on barriers to the development of cross-sex friendships has typically been conducted outside the context of work. nonetheless this human relations research suggests several important factors that may be relevant to workplace friendships. first gender differences in recreational interests and preferred topics of conversation result in preference for same-sex friends. in addition gender differences in norms and expectations of friendships could cause problems for cross-sex friends. for example men often disapprove of their same and cross-sex friends crying while women approve of this behavior. sexual attraction toward potential friend can spur the initiation of cross-sex friendship. however in situations where romantic or sexual relationship is inappropriate or where one partner prefers non-romantic friendship sexual undercurrents often jeopardize cross-sex relationships. finally friends are concerned that platonic cross-sex friendship will be misconstrued by third parties as romantic. workplace environment since little research has examined cross-sex friendship in the workplace the effects of organizational influences on these friendships remains unknown. certain aspects of the work environment may facilitate cross-sex friendship development while others may hinder the development of new friendships. many workplaces encourage teamwork which leads to greater interaction between employees. therefore the workplace potentially provides an environment where men and women can work closely together to achieve common goals. consequently the workplace offers coworkers proximity familiarity and common interests all of which have been shown to promote liking and friendship. this suggests that cross-sex friendships may be easier to develop within the workplace than outside of work. other current workplace trends may inhibit cross-sex friendship. for example since workplace romances are often discouraged some may want to avoid any possibility that their co-workers misperceive friendship as romance. even co-workers who are participants in workplace romances typically attempt to keep their romance secret. unlike friendships and other work-sanctioned relationships workplace romances can be disruptive to the organization and typically lead to negative gossip. the romantic label can be particularly damaging when the alleged couple are not peers in the organization. for example powell found that when those perceived to be in romantic relationship are not peers and elsesser peplau thass partition the subordinate is female other employees tend to believe that the relationship is utilitarian. once relationship is deemed utilitarian outsiders may question the basis for workrelated rewards from the higher-level participant. to date there is no research on how this fear of third-party misperception of cross-sex friendship impacts friendships at work. similarly the increased awareness of sexual harassment within organizations may impact cross-sex friendship development. recent survey by the society for human resources management found that percent of organizations had sexual harassment policies and percent had formal training in dealing with sexual harassment. however little research has addressed how increased awareness of sexual harassment has impacted interactions between cross-sex co-workers. one survey of university professors found that percent were concerned about being unjustly accused of sexual harassment and percent had modified their behavior toward students due to that concern. in addition gutek suggests that the adversarial nature of the formal complaint procedures has had the effect of polarizing men and women in the workplace. finally an examination of the literature on social networks and mentor relationships provides material relevant to cross-sex friendships at work. the preference of men to associate with other men has been well-established in the literature on social networks. among managers men tend to have mornder homophilous networks than do women. the causes for samnder preference in these work networks have included similarity and contact. research on cross-sex mentor relationships indicates they can be more difficult to develop than samesex mentor relationships. cross-sex mentor pairs socialize less outside of work than same-sex mentor pairs and report their relationships are harder to initiate due to fear that the prospective mentor or other co-workers would misconstrue their friendliness as sexual interest. these same concerns may apply to cross-sex friendship development in the workplace. the purpose of this exploratory study was to investigate friendships within the professional workplace and to examine what impact if any the workplace environment has on cross-sex friendship formation. structured interviews were combined with questionnaire in order to obtain broad range of descriptions of friendship development within organizations. we focused exclusively on professionals in this study as one example of how the human relations work environment impacts cross-sex friendships. it will be left to future research to explore how other categories of workers cross-sex friendships are affected by their organizations. the professionals in this study reported receiving substantial benefits from their friends at work. in addition to making the workday more enjoyable friends provided valuable advice information and assistance. although it was easier for the professionals to meet people and make friends at work than outside work the participants reported the majority of their closest friends at work were of the same sex. even women working in predominantly male organizations tended to form more friendships with women than with men. although many factors undoubtedly contribute to this pattern of samesex friendships at work several were particularly noteworthy. similar interests played role in the friendship development of the professionals in this study and gender differences in interests may lead to preference for samesex friends. however within the workplace co-workers share common interest in the work they perform which facilitates friendship development. the majority of the participants closest friendships in the present study were launched as result of cooperating on work project. although gendered interests may still pose some obstacle to friendships within the workplace they most likely create more substantial barrier to friendships outside of work. instead barriers to cross-sex friendship at work centered around aspects of the work environment that discourage romantic entanglements among co-workers and seek to prevent sexual harassment. professionals were concerned that their co-workers might misperceive platonic cross-sex friendship as an inappropriate sexual liaison. while misperception is also concern of cross-sex friends outside of the workplace it may present greater barrier inside the organization where co-workers speculate about the motives of the perceived romantic partners. in addition men reported concern that women at work might misinterpret friendly overture as sexual harassment or that women would take offense at their jokes or topics of conversation. women were concerned that men felt uncomfortable in their presence and therefore might avoid them. these concerns appeared to be more elsesser peplau thass partition common in interactions with acquaintances and casual friends than among close friends and between senior and subordinate pairs than between peers. on positive note the findings of this study suggest that sexual harassment policies are working. men reported they joke less in front of women and are less likely to perform behaviors that may be interpreted as harassment. women concur that men joke less around them and that men are less likely to be alone in an office with woman. certainly these behaviors create workplace with less hostile environment for women. however an additional unintended consequence of increased sexual harassment awareness is that it may make cross-sex friendships harder to develop. consistent with research that indicates that women perceive more behaviors as harassing the male participants restricted their behavior around women but not around men increasing contact among men. furthermore the same interactions that were deemed inappropriate for cross-sex communication were utilized to develop same-sex friendships. for example male employees described initiating friendships by joking with other men but not women. male participant who complimented woman on her clothes is charged with harassment while female participant reported offering clothing compliments to other women to start friendships. if co-workers believe that same-sex friends will not label their behavior as harassing they may have larger range of behaviors to utilize in initiating same-sex friendships. thass partition along with obstacles associated with cross-sex friendships outside of the organization organizational practices that hten workers fears about sexual harassment and proper conduct on the job may create barriers that inhibit male and female employees from crossing thnder line to form cross-sex friendships. we label these barriers to cross-sex friendship in the workplace the glass partition.  much like thass ceiling which prevents women from reaching the top levels of corporations thass partition may differentially disadvantage women who work in predominantly male organizations. as participants in this study clearly indicated friends can be invaluable to success on the job. factors that limit worker range of friends based on gender place greater restrictions on women than on men. for example women in maledominated professions need to befriend men in order to obtain the information and networking necessary for career success. men in these professions however have sufficient numbers of same-sex co-workers and senior managers to befriend. human relations obstacles to cross-sex friendships may also limit women ability to establish friendships with senior employees which could evolve into mentor relationships. the present research suggests that the barriers to cross-sex friendship may beater for friendships between superiors and subordinates. since men often hold the most powerful positions in corporations women who are not able to forge friendships with men in their workplace may be left with less powerful mentors or no mentors at all. this may be particularly true for women who are senior within their organization and must seek out mentors at the top levels of the organization. although some have suggested same-sex mentor relationships may be more effective than cross-sex relationships the research is inconclusive as to whether same-sex mentor relationships or cross-sex mentor relationships are more beneficial to the protégé. however because of their power in the organizations male mentors may have the ability to provide more valuable support to both their male and female protégés. for example dreher and cox found that both male and female mba graduates with male mentors were able to attain greater compensation than those with female mentors. once again women who have more difficulty establishing friendships or mentor relationships with men in the organization have career disadvantage. by contrast thass partition may have less impact for men in femaledominated environments where women outnumber men. williams suggests that men who enter female-dominated professions such as nursing befriend the men who are often at the supervisory levels of these professions. that is since many female-dominated professions often have men at higher levels of management the men entering these professions have other more senior men with whom they can establish friendships or mentor relationships. these relationships with senior men create what williams labeled glass escalator for men in these fields allowing them to advance their careers more quickly than their female co-workers. however this preference for same-sex friends may prevent the women in femaledominated professions which are still predominantly managed by men from establishing valuable friendships with management and senior personnel. possible moderators of the impact of thass partition on cross-sex friendship include the closeness of the friendship the relative status of those in the organization the marital status of the friends and the size of the organization. first the discomfort with cross-sex co-workers may impact acquaintance relationships more than close friendships. although close friendships can create strong bond between individuals there are significant advantages to acquaintance-type relationships. granovetter found that people with whom an individual shares close bond are likely to be in the same network as the individual and therefore provide redundant contacts and information. acquaintances or what granovetter labels weak ties can be more advantageous than closer ties because they bring individuals into new networks and provide less redundant information and contacts than the closer ties. for example several studies have found those who used weak ties to find new jobs obtained better jobs than those who used only strong ties. in addition closer friendships evolve from acquaintances in the organizations so barriers to the establishment of weak ties may ultimately hinder the development of close friendships. second thass partition may have greater impact on cross-sex friendships between superiors and subordinates than those between peers. senior employees may be more concerned about befriending cross-sex junior employees because misperceptions may have consequences for both employees careers. if the cross-sex friendship is misperceived as romantic then others may speculate that the relationship is utilitarian or that inequities exist in the workplace. also since sexual harassment often involves one party with greater power in the organization the more senior employee may have greater fear that friendly gestures will be misperceived as harassment. the relationship between marital status and thass partition is less clear. some barriers may have less impact for married people whose offlimits status reduces the likelihood that their friendliness will be misperceived as sexual interest and thus allows them more freedom in establishing friendships. however sexual attraction can aid in the development of crosssex friendships and some single participants reported their ability to flirt broke down barriers to cross-sex friendship. the effect of organizational size on thass partition remains equally unresolved. small organization may foster more frequent contact facilitating friendship development but third-party concerns may beater in small organization where everyone can observe their co-workers behaviors. future research should further investigate the relationship between thass partition marital status and organization size. it is important to note that these barriers to cross-sex friendships are not insurmountable. with the exception of one male participant all participants in the study had at least one cross-sex friendship at work. thass partition merely suggests that it may be more difficult to establish cross-sex friendships than same-sex friendships. with over million women in the us workforce and men holding the most powerful positions in many corporations phenomena which create even small barriers to cross-sex friendships could have large impact on the human relations career advancement of women. although substantial number of cross-sex friendships develop in the workplace future researchers of thass partition are cautioned to examine not only these friendships that were able to overcome barriers but also to consider potential friendships that were never initiated due to thass partition. limitations as first study of cross-sex friendship at work thal of this research was exploratory. as result the research was limited in several ways. due to the difficulty in recruiting busy professionals for lhy interviews the sample was relatively small. however the sample of professionals came from diverse organizations and different regions of the country. it is also important to note that this study examined cross-sex friendships in large professional organizations. it is possible that employees in smaller organizations or in nonprofessional work environments may have different experiences. in addition different organizational cultures may differentially impact the barriers to cross-sex friendship. systematic investigation of organizational culture and cross-sex friendship would be useful. no information was requested about the sexual orientation of the participants or of their cross-sex friends. it is possible that homosexuals and heterosexuals face different barriers to same-sex and cross-sex friendships at work. one woman in this study mentioned that gay male work friend was no threat whatsoever and that her friendship with him was similar to her same-sex friendships. however lesbians and gay men may encounter more barriers to same-sex friendship than cross-sex friendship in the workplace. future research examining sexual orientation and workplace friendship would be useful. although thnder make-up of the participants organizations was assessed no information was collected on thnder makeup of the participant work role. although men and women often work in the same organization work roles or jobs are often segregated by sex. having similar work roles may also lead workers to prefer same-sex friends. it will be left to future research to examine the impact of gender segregated work roles on thass partition. future directions for the organization although some barriers to cross-sex friendships will exist regardless of organizational policies there may be directions the organization can take to diminish the impact of thass partition. for example sexual harassment elsesser peplau thass partition policies that were initiated to make the workplace more hospitable environment for women may inadvertently have increased barriers to cross-sex friendship at work. sexual harassment has been serious problem faced by women at work and efforts to prevent harassment and to make the workplace more welcoming to women are commendable. fortunately results of this study suggest that an awareness of harassment has successfully influenced men to reduce their inappropriate joking and conversation in front of women in the workplace. however male employees may continue to utilize this inappropriate behavior to bond with other men in the workplace leaving the female employees feeling ostracized. it is therefore time for those who train employees about sexual harassment to see beyond the legal liability and consider the behavioral consequences of these programs. for example employees should understand that jokes and offensive language and behavior that are not appropriate for cross-sex interactions are also not appropriate for same-sex interactions in the workplace. in addition if sexual harassment regulations were less ambiguous employees might not need to fear misinterpretation of their well-intentioned actions. future investigations could also explore other organizational changes that could help break down thass partition. powell has suggested that the implementation of organizational training on handling workplace romances may reduce the negative reactions from co-workers. this may have the additional benefit of reducing the anxiety that surrounds cross-sex friendships that may appear romantic. finally if organizations encouraged social interaction and facilitated friendship among men and women at work perhaps social cross-sex interactions would not be perceived as unusual. \n",
      "---\n",
      "---\n",
      "---\n"
     ]
    }
   ],
   "source": [
    "print(pdf_p[ref_doc])\n",
    "print('---')\n",
    "print('---')\n",
    "print('---')\n",
    "# print(pdf_p[ref_doc])"
   ]
  },
  {
   "cell_type": "code",
   "execution_count": 25,
   "metadata": {},
   "outputs": [],
   "source": [
    "def get_author_names(txt):\n",
    "\n",
    "    refs = re.sub('[0-9]{4}.*\\n','',txt)\n",
    "\n",
    "    l = re.compile(\" [a-z]\\.\").split(refs)\n",
    "    l = [ll for ll in l if not bool(re.search('[0-9]+', ll))]\n",
    "    l = [ll for ll in l if len(ll) < 35]\n",
    "    l = [re.sub('[\\n ,\\&\\.]', '', ll) for ll in l]\n",
    "    l = [re.sub('[!(*);&$]', '', l1) for l1 in l]\n",
    "    authors = [ll for ll in l if len(ll) > 1]\n",
    "\n",
    "    return(authors)\n",
    "#for n in names:\n",
    "#    print(n)\n",
    "\n",
    "#refs = re.sub('\\n.*[0-9].*', '', refs)\n",
    "#refs = re.sub('\\n[^,]+\\n', '\\n', refs)\n",
    "#print(refs)"
   ]
  },
  {
   "cell_type": "code",
   "execution_count": 26,
   "metadata": {
    "scrolled": true
   },
   "outputs": [
    {
     "name": "stdout",
     "output_type": "stream",
     "text": [
      "['sörbom', 'aherold', 'slevin', 'bracken', 'hamel', 'ghoshal', 'demeuse', 'chassin', 'aghoshal', 'rlouis', 'mbeyerlein', 'liem', 'wcudeck', 'stening', 'lniehoff', 'wortman', 'sorbom', 'muczyk', 'baruchsesullivan', 'aelder', 'ashforth', 'gmcleanparks', 'asommerkamp', 'gamick', 'ryardley', 'hharland', 'chung', 'deane', 'holbek', 'mbrief', 'hschoorman', 'elarocco', 'hharvey', 'tata', 'mmartin', 'hkarau', 'mandel', 'ashkanasy', 'emohrman', 'rlorsch', 'tushman', 'stanton', 'jsmith', 'twayne', 'raja', 'worlady', 'thuselid', 'xardel', 'gleadle', 'jbryne', 'craudenbush', 'hamilton', 'lhouts', 'anorthcraft', 'ladyofthehousetimezukin', 'amannix', 'pshepard', 'wsnell', 'zuckerman', 'levenson', 'jpanzer', 'aoliver', 'pfeffer', 'linstead', 'edutton', 'cdoerpinghaus', 'shechter', 'simon', 'waters', 'emaslach', 'frankel', 'agoulden', 'weiss', 'buhl-bien', 'dferber', 'ailies', 'bennett', 'aking', 'march', 'mstroh', 'byang', 'mmackenzie', 'biernat', 'tanner', 'julian', 'achittipeddi', 'cropanzano', 'cturner', 'organ', 'atannenbaum', 'sstimpert', 'kjackson', 'wfolger', 'mmaitlis', 'slocum', 'bordeaux', 'emcvicar', 'groundedtheoryin', 'mturner', 'ecristol', 'medwards', 'kidder', 'barbarnelli', 'schröder', 'iturnley', 'dvbielby', 'mael', 'abarsade', 'nhebl', 'dallner', 'zempel', 'hconn', 'song', 'larsen', 'sharpe', 'perez', 'bacharach', 'benavides', 'ksutcliffe', 'graves', 'stracy', 'na', 'fchristopolus', 'jmiles', 'lazarsfeld', 'pambrose', 'bridges', 'phaslam', 'vandenbosch', 'kmollica', 'godwin', 'rsprigg', 'gsproull', 'colligan', 'abalmer', 'sivakumar', 'bheydens-gahir', 'segan', 'bones', 'ng', 'ebennett', 'weinberg', 'csethi', 'mcintyre', 'ebrocato', 'mgraves', 'csubbanarasimha', 'kreilly', 'vankatwyk', 'lterry']\n",
      "1321\n"
     ]
    }
   ],
   "source": [
    "authors = []\n",
    "for r in references:\n",
    "    authors += get_author_names(r)\n",
    "    \n",
    "author_nam = list(set(list(authors)))\n",
    "\n",
    "# result is still not perfect, but I have not found any stray 'plain English' so far\n",
    "print(author_nam[100:250])\n",
    "print(len(author_nam))"
   ]
  },
  {
   "cell_type": "code",
   "execution_count": 27,
   "metadata": {},
   "outputs": [],
   "source": [
    "# GET REFERENCE LISTS OF STOPWORDS, I.E. WORDS THAT ARE ESSENTIALLY MEANINGLESS\n",
    "# Get all the list of authors names\n",
    "\n",
    "from nltk.corpus import stopwords as wrd\n",
    "\n",
    "sw = wrd.words('english') + author_nam + country_list + cities_lower\n",
    "\n",
    "#print(sw)"
   ]
  },
  {
   "cell_type": "code",
   "execution_count": 28,
   "metadata": {},
   "outputs": [],
   "source": [
    "#include corpus-specific stopwords\n",
    "sw += ['vol', 'doi', 'article', 'articles', 'reuse', 'sagepub', 'journal', 'journals', 'com', 'quarter', 'quarterly', 'annual', 'proceedings']\n",
    "sw += ['sage', 'editorial', 'report', 'publications', 'publication', 'publisher', 'jom', 'manuscript', 'manuscripts', 'submission', 'submissions']\n",
    "sw += ['editor', 'editors', 'orcid', 'id', 'month', 'mailto', 'author', 'authors', 'homepage', 'sciencedirect', 'scopus']\n",
    "sw += ['january', 'february', 'march', 'april', 'may', 'june', 'july', 'august', 'september', 'october', 'november', 'december']\n",
    "sw += ['monday', 'tuesday', 'wednesday', 'thursday', 'friday', 'saturday', 'sunday']\n",
    "\n",
    "# add a metric ton of generic terms\n",
    "sw += ['a', 'about', 'above', 'across', 'after', 'afterwards']\n",
    "sw += ['again', 'against', 'all', 'almost', 'alone', 'along']\n",
    "sw += ['already', 'also', 'although', 'always', 'am', 'among']\n",
    "sw += ['amongst', 'amoungst', 'amount', 'an', 'and', 'another']\n",
    "sw += ['any', 'anyhow', 'anyone', 'anything', 'anyway', 'anywhere']\n",
    "sw += ['are', 'around', 'as', 'at', 'back', 'be', 'became']\n",
    "sw += ['because', 'become', 'becomes', 'becoming', 'been']\n",
    "sw += ['before', 'beforehand', 'behind', 'being', 'below']\n",
    "sw += ['beside', 'besides', 'between', 'beyond', 'bill', 'both']\n",
    "sw += ['bottom', 'but', 'by', 'call', 'can', 'cannot', 'cant']\n",
    "sw += ['co', 'computer', 'con', 'could', 'couldnt', 'cry', 'de']\n",
    "sw += ['describe', 'detail', 'did', 'do', 'done', 'down', 'due']\n",
    "sw += ['during', 'each', 'eg', 'eight', 'either', 'eleven', 'else']\n",
    "sw += ['elsewhere', 'empty', 'enough', 'etc', 'even', 'ever']\n",
    "sw += ['every', 'everyone', 'everything', 'everywhere', 'except']\n",
    "sw += ['few', 'fifteen', 'fifty', 'fill', 'find', 'fire', 'first']\n",
    "sw += ['five', 'for', 'former', 'formerly', 'forty', 'found']\n",
    "sw += ['four', 'from', 'front', 'full', 'further', 'get', 'give']\n",
    "sw += ['go', 'had', 'has', 'hasnt', 'have', 'he', 'hence', 'her']\n",
    "sw += ['here', 'hereafter', 'hereby', 'herein', 'hereupon', 'hers']\n",
    "sw += ['herself', 'him', 'himself', 'his', 'how', 'however']\n",
    "sw += ['hundred', 'i', 'ie', 'if', 'in', 'inc', 'indeed']\n",
    "sw += ['interest', 'into', 'is', 'it', 'its', 'itself', 'keep']\n",
    "sw += ['last', 'latter', 'latterly', 'least', 'less', 'ltd', 'made']\n",
    "sw += ['many', 'may', 'me', 'meanwhile', 'might', 'mill', 'mine']\n",
    "sw += ['more', 'moreover', 'most', 'mostly', 'move', 'much']\n",
    "sw += ['must', 'my', 'myself', 'name', 'namely', 'neither', 'never']\n",
    "sw += ['nevertheless', 'next', 'nine', 'no', 'nobody', 'none']\n",
    "sw += ['noone', 'nor', 'not', 'nothing', 'now', 'nowhere', 'of']\n",
    "sw += ['off', 'often', 'on','once', 'one', 'only', 'onto', 'or']\n",
    "sw += ['other', 'others', 'otherwise', 'our', 'ours', 'ourselves']\n",
    "sw += ['out', 'over', 'own', 'part', 'per', 'perhaps', 'please']\n",
    "sw += ['put', 'rather', 're', 's', 'same', 'see', 'seem', 'seemed']\n",
    "sw += ['seeming', 'seems', 'serious', 'several', 'she', 'should']\n",
    "sw += ['show', 'side', 'since', 'sincere', 'six', 'sixty', 'so']\n",
    "sw += ['some', 'somehow', 'someone', 'something', 'sometime']\n",
    "sw += ['sometimes', 'somewhere', 'still', 'such', 'system', 'take']\n",
    "sw += ['ten', 'than', 'that', 'the', 'their', 'them', 'themselves']\n",
    "sw += ['then', 'thence', 'there', 'thereafter', 'thereby']\n",
    "sw += ['therefore', 'therein', 'thereupon', 'these', 'they']\n",
    "sw += ['thick', 'thin', 'third', 'this', 'those', 'though', 'three']\n",
    "sw += ['three', 'through', 'throughout', 'thru', 'thus', 'to']\n",
    "sw += ['together', 'too', 'top', 'toward', 'towards', 'twelve']\n",
    "sw += ['twenty', 'two', 'un', 'under', 'until', 'up', 'upon']\n",
    "sw += ['us', 'very', 'via', 'was', 'we', 'well', 'were', 'what']\n",
    "sw += ['whatever', 'when', 'whence', 'whenever', 'where']\n",
    "sw += ['whereafter', 'whereas', 'whereby', 'wherein', 'whereupon']\n",
    "sw += ['wherever', 'whether', 'which', 'while', 'whither', 'who']\n",
    "sw += ['whoever', 'whole', 'whom', 'whose', 'why', 'will', 'with']\n",
    "sw += ['within', 'without', 'would', 'yet', 'you', 'your']\n",
    "sw += ['yours', 'yourself', 'yourselves']\n",
    "\n",
    "sw = list(set(sw))"
   ]
  },
  {
   "cell_type": "code",
   "execution_count": 29,
   "metadata": {},
   "outputs": [],
   "source": [
    "# Function to filter out the stopwords and authors names\n",
    "def filterWords(msg, words):\n",
    "    m = msg.split(' ')\n",
    "    words_end = [w + '.' for w in words]\n",
    "    filtered_words = list(filter(lambda word: word not in words, m))\n",
    "    filtered_words = [(w if w not in words_end else '.') for w in filtered_words]\n",
    "    result = ' '.join(filtered_words)\n",
    "    return(result)"
   ]
  },
  {
   "cell_type": "code",
   "execution_count": 30,
   "metadata": {},
   "outputs": [],
   "source": [
    "# GET RID OF THE STOPWORDS IN TEXTS\n",
    "data_proc = [filterWords(f, sw) for f in pdf_p]  "
   ]
  },
  {
   "cell_type": "code",
   "execution_count": 31,
   "metadata": {},
   "outputs": [],
   "source": [
    "import pickle\n",
    "# exclude author list from metadata\n",
    "author_metadata = pickle.load(open(\"C:/Thesis/Data/save/Master_Data/author_list/author_list.p\", \"rb\"))"
   ]
  },
  {
   "cell_type": "code",
   "execution_count": 32,
   "metadata": {},
   "outputs": [],
   "source": [
    "# GET RID OF THE author names (extracted from the metadata)\n",
    "data_proc_1 = [filterWords(f, author_metadata) for f in data_proc] #running"
   ]
  },
  {
   "cell_type": "code",
   "execution_count": 33,
   "metadata": {},
   "outputs": [
    {
     "data": {
      "text/plain": [
       "' thass partition obstacles cross-sex friendships work elsesser letitia peplau b ac study explores cross-sex friendships professional workplace examined impact workplace environment htened awareness sexual harassment cross-sex friend ship formation. results interviews professionals suggest existence obstacles developing cross-sex friendships work. specifically professionals worried cross-sex friends misinterpret friendliness romantic sexual co-workers misinterpret friendliness cross-sex friend humor conversational topics perceived cross-sex friend sexual harassment. barriers cross-sex friendship work labeled glass partition potential impact glass partition women men careers discussed. e wo cross-sex friendship gender organizational behavior sexual harassment work environment cross-sex friendships difficult develop maintain circumstances. issues stemming male-female differences friendship norms interests sexual attraction concerns cross-sex friendship misperceived sexual pose potential challs. workplace friendships particularly important career development physical proximity job requirements facilitate cross-sex human relations .  volume copyright tavistock institute thousand oaks ca new friendship formation. contrary organizational influences fear cross-sex friendship misperceived romantic relationship fear sexual harassment charges decrease interactions cross-sex co-workers limiting pool potential friends. present analysis interviews professionals investigates impact workplace development maintenance friendships. workplace friendships important provide benefits promote career success. defined friendship networks organizations systems making decisions mobilizing resources concealing transmitting information performing functions closely allied work behavior interaction. friends workplace provide information networking support invaluable job performance satisfaction. bridge work friends provided career support forms. friends provided information access serving second pair eyes ears .  friends provided workrelated assistance helping accomplish job tasks. friends gave psychological support providing understanding empathy comfort. friendships peers important relationships senior organization valuable careers junior employees. relationships formally initiated managed organization informal relationships similar friendships. mentors provide advice information offer protection promote mentee career making accomplishments visible. given substantial advantages friendships workplace offer able form friendships career disadvantage. preference same-sex friendships restricts individual pool potential friends. impact women male-dominated work environments need befriend men order develop friendships mentor-like relationships. extending previous cross-sex friendships workplace illuminate important barrier women career advancement. cross-sex friendships barriers development cross-sex friendships typically conducted outside context work. nonetheless human relations suggests important factors relevant workplace friendships. gender differences recreational interests preferred topics conversation result preference same-sex friends. addition gender differences norms expectations friendships cause problems cross-sex friends. example men disapprove cross-sex friends crying women approve behavior. sexual attraction potential friend spur initiation cross-sex friendship. situations romantic sexual relationship inappropriate partner prefers non-romantic friendship sexual undercurrents jeopardize cross-sex relationships. finally friends concerned platonic cross-sex friendship misconstrued parties romantic. workplace environment examined cross-sex friendship workplace effects organizational influences friendships remains . certain aspects work environment facilitate cross-sex friendship development hinder development new friendships. workplaces encourage teamwork leads greater interaction employees. workplace potentially provides environment men women work closely achieve common goals. consequently workplace offers coworkers proximity familiarity common interests shown promote liking friendship. suggests cross-sex friendships easier develop workplace outside work. current workplace trends inhibit cross-sex friendship. example workplace romances discouraged want avoid possibility co-workers misperceive friendship romance. co-workers participants workplace romances typically attempt romance secret. unlike friendships work-sanctioned relationships workplace romances disruptive organization typically lead negative gossip. romantic label particularly damaging alleged couple peers organization. example perceived romantic relationship peers elsesser peplau thass partition subordinate female employees tend believe relationship utilitarian. relationship deemed utilitarian outsiders question basis workrelated rewards higher-level participant. fear third-party misperception cross-sex friendship impacts friendships work. similarly increased awareness sexual harassment organizations impact cross-sex friendship development. recent survey society human resources percent organizations sexual harassment policies percent formal training dealing sexual harassment. addressed increased awareness sexual harassment impacted interactions cross-sex co-workers. survey professors percent concerned unjustly accused sexual harassment percent modified behavior students concern. addition suggests adversarial nature formal complaint procedures effect polarizing men women workplace. finally examination literature networks relationships provides material relevant cross-sex friendships work. preference men associate men well-established literature networks. managers men tend mornder homophilous networks women. causes samnder preference work networks included similarity contact. cross-sex relationships indicates difficult develop samesex relationships. cross-sex pairs socialize outside work same-sex pairs relationships harder initiate fear prospective co-workers misconstrue friendliness sexual . concerns apply cross-sex friendship development workplace. purpose exploratory study investigate friendships professional workplace examine impact workplace environment cross-sex friendship formation. structured interviews combined questionnaire order obtain broad range descriptions friendship development organizations. focused exclusively professionals study example human relations work environment impacts cross-sex friendships. left future explore categories workers cross-sex friendships affected organizations. professionals study reported receiving substantial benefits friends work. addition making workday enjoyable friends provided valuable advice information assistance. easier professionals meet people make friends work outside work participants reported majority closest friends work sex. women working predominantly organizations tended form friendships women men. factors undoubtedly contribute pattern samesex friendships work particularly noteworthy. similar interests played role friendship development professionals study gender differences interests lead preference samesex friends. workplace co-workers share common work perform facilitates friendship development. majority participants closest friendships present study launched result cooperating work project. gendered interests pose obstacle friendships workplace likely create substantial barrier friendships outside work. instead barriers cross-sex friendship work centered aspects work environment discourage romantic entanglements co-workers seek prevent sexual harassment. professionals concerned co-workers misperceive platonic cross-sex friendship inappropriate sexual liaison. misperception concern cross-sex friends outside workplace present greater barrier inside organization co-workers speculate motives perceived romantic partners. addition men reported concern women work misinterpret friendly overture sexual harassment women offense jokes topics conversation. women concerned men felt uncomfortable presence avoid . concerns appeared elsesser peplau thass partition common interactions acquaintances casual friends close friends senior subordinate pairs peers. positive note findings study suggest sexual harassment policies working. men reported joke women likely perform behaviors interpreted harassment. women concur men joke men likely office woman. certainly behaviors create workplace hostile environment women. additional unintended consequence increased sexual harassment awareness make cross-sex friendships harder develop. consistent indicates women perceive behaviors harassing participants restricted behavior women men increasing contact men. furthermore interactions deemed inappropriate cross-sex communication utilized develop same-sex friendships. example employees described initiating friendships joking men women. participant complimented woman clothes charged harassment female participant reported offering clothing compliments women start friendships. co-workers believe same-sex friends label behavior harassing larger range behaviors utilize initiating same-sex friendships. thass partition obstacles associated cross-sex friendships outside organization organizational practices hten workers fears sexual harassment proper conduct job create barriers inhibit female employees crossing thnder line form cross-sex friendships. label barriers cross-sex friendship workplace glass partition.  like thass ceiling prevents women reaching levels corporations thass partition differentially disadvantage women work predominantly organizations. participants study clearly indicated friends invaluable success job. factors limit worker range friends based gender place greater restrictions women men. example women maledominated professions need befriend men order obtain information networking necessary career success. men professions sufficient numbers same-sex co-workers senior managers befriend. human relations obstacles cross-sex friendships limit women ability establish friendships senior employees evolve relationships. present suggests barriers cross-sex friendship beater friendships superiors subordinates. men hold powerful positions corporations women able forge friendships men workplace left powerful mentors mentors . particularly true women senior organization seek mentors levels organization. suggested same-sex relationships effective cross-sex relationships inconclusive same-sex relationships cross-sex relationships beneficial protégé. power organizations mentors ability provide valuable support female protégés. example dreher female mba graduates mentors able attain greater compensation female mentors. women difficulty establishing friendships relationships men organization career disadvantage. contrast thass partition impact men femaledominated environments women outnumber men. suggests men enter female-dominated professions nursing befriend men supervisory levels professions. female-dominated professions men higher levels men entering professions senior men establish friendships relationships. relationships senior men create labeled glass escalator men fields allowing advance careers quickly female co-workers. preference same-sex friends prevent women femaledominated professions predominantly managed men establishing valuable friendships senior personnel. possible moderators impact thass partition cross-sex friendship include closeness friendship relative status organization marital status friends size organization. discomfort cross-sex co-workers impact acquaintance relationships close friendships. close friendships create strong individuals significant advantages acquaintance-type relationships. granovetter people individual shares close likely network individual provide redundant contacts information. acquaintances granovetter labels weak ties advantageous closer ties bring individuals new networks provide redundant information contacts closer ties. example studies used weak ties new jobs obtained better jobs used strong ties. addition closer friendships evolve acquaintances organizations barriers establishment weak ties ultimately hinder development close friendships. second thass partition greater impact cross-sex friendships superiors subordinates peers. senior employees concerned befriending cross-sex junior employees misperceptions consequences employees careers. cross-sex friendship misperceived romantic speculate relationship utilitarian inequities exist workplace. sexual harassment involves party greater power organization senior employee greater fear friendly gestures misperceived harassment. relationship marital status thass partition clear. barriers impact married people offlimits status reduces likelihood friendliness misperceived sexual allows freedom establishing friendships. sexual attraction aid development crosssex friendships single participants reported ability flirt broke barriers cross-sex friendship. effect organizational size thass partition remains equally unresolved. organization frequent contact facilitating friendship development third-party concerns beater organization observe co-workers behaviors. future investigate relationship thass partition marital status organization size. important note barriers cross-sex friendships insurmountable. exception participant participants study cross-sex friendship work. thass partition merely suggests difficult establish cross-sex friendships same-sex friendships. million women workforce men holding powerful positions corporations phenomena create barriers cross-sex friendships large impact human relations career advancement women. substantial number cross-sex friendships develop workplace future researchers thass partition cautioned examine friendships able overcome barriers consider potential friendships initiated thass partition. limitations study cross-sex friendship work thal exploratory. result limited ways. difficulty recruiting busy professionals lhy interviews sample relatively . sample professionals came diverse organizations different regions country. important note study examined cross-sex friendships large professional organizations. possible employees smaller organizations nonprofessional work environments different experiences. addition different organizational cultures differentially impact barriers cross-sex friendship. systematic investigation organizational culture cross-sex friendship useful. information requested sexual orientation participants cross-sex friends. possible homosexuals heterosexuals face different barriers same-sex cross-sex friendships work. woman study mentioned work friend threat whatsoever friendship similar same-sex friendships. lesbians men encounter barriers same-sex friendship cross-sex friendship workplace. future examining sexual orientation workplace friendship useful. thnder make-up participants organizations assessed information collected thnder makeup participant work role. men women work organization work roles jobs segregated sex. similar work roles lead workers prefer same-sex friends. left future examine impact gender segregated work roles thass partition. future directions organization barriers cross-sex friendships exist regardless organizational policies directions organization diminish impact thass partition. example sexual harassment elsesser peplau thass partition policies initiated make workplace hospitable environment women inadvertently increased barriers cross-sex friendship work. sexual harassment problem faced women work efforts prevent harassment make workplace welcoming women commendable. fortunately results study suggest awareness harassment successfully influenced men reduce inappropriate joking conversation women workplace. employees continue utilize inappropriate behavior men workplace leaving female employees feeling ostracized. time train employees sexual harassment legal liability consider behavioral consequences programs. example employees understand jokes offensive language behavior appropriate cross-sex interactions appropriate same-sex interactions workplace. addition sexual harassment regulations ambiguous employees need fear misinterpretation well-intentioned actions. future investigations explore organizational changes help break thass partition. suggested implementation organizational training handling workplace romances reduce negative reactions co-workers. additional benefit reducing anxiety surrounds cross-sex friendships appear romantic. finally organizations encouraged interaction facilitated friendship men women work cross-sex interactions perceived unusual. '"
      ]
     },
     "execution_count": 33,
     "metadata": {},
     "output_type": "execute_result"
    }
   ],
   "source": [
    "data_proc_1[ref_doc]"
   ]
  },
  {
   "cell_type": "code",
   "execution_count": 37,
   "metadata": {},
   "outputs": [],
   "source": [
    "data_proc2 = [re.sub(\"([a-z]+\\.)+[a-z]+\",\"\", f) for f in data_proc_1]\n",
    "data_proc2 = [re.sub('\\s([?\\.!\"](?:\\s|$))' , r'\\1', f) for f in data_proc2]\n",
    "data_proc2 = [re.sub(\"^\\s+\",\"\", f) for f in data_proc2]\n",
    "data_proc2 = [re.sub(\"\\s+\\Z\",\"\", f) for f in data_proc2]\n",
    "data_proc2 = [re.sub(\"(\\.)+\",\".\", f) for f in data_proc2]\n",
    "data_proc2 = [re.sub(\" +\",\" \", f) for f in data_proc2]\n",
    "data_proc2 = [re.sub(\"( +\\.)\",\".\", f) for f in data_proc2]\n",
    "data_proc2 = [re.sub(\"\\.$\",\"\", f) for f in data_proc2]\n",
    "data_proc2 = [re.sub('[!(*);ø&$]', '', f)for f in data_proc2]"
   ]
  },
  {
   "cell_type": "code",
   "execution_count": 38,
   "metadata": {},
   "outputs": [
    {
     "name": "stdout",
     "output_type": "stream",
     "text": [
      "['thass partition obstacles cross-sex friendships work elsesser letitia peplau b ac study explores cross-sex friendships professional workplace examined impact workplace environment htened awareness sexual harassment cross-sex friend ship formation', 'results interviews professionals suggest existence obstacles developing cross-sex friendships work', 'specifically professionals worried cross-sex friends misinterpret friendliness romantic sexual co-workers misinterpret friendliness cross-sex friend humor conversational topics perceived cross-sex friend sexual harassment', 'barriers cross-sex friendship work labeled glass partition potential impact glass partition women men careers discussed', 'e wo cross-sex friendship gender organizational behavior sexual harassment work environment cross-sex friendships difficult develop maintain circumstances', 'issues stemming male-female differences friendship norms interests sexual attraction concerns cross-sex friendship misperceived sexual pose potential challs', 'workplace friendships particularly important career development physical proximity job requirements facilitate cross-sex human relations', 'volume copyright tavistock institute thousand oaks ca new friendship formation', 'contrary organizational influences fear cross-sex friendship misperceived romantic relationship fear sexual harassment charges decrease interactions cross-sex co-workers limiting pool potential friends', 'present analysis interviews professionals investigates impact workplace development maintenance friendships', 'workplace friendships important provide benefits promote career success', 'defined friendship networks organizations systems making decisions mobilizing resources concealing transmitting information performing functions closely allied work behavior interaction', 'friends workplace provide information networking support invaluable job performance satisfaction', 'bridge work friends provided career support forms', 'friends provided information access serving second pair eyes ears', 'friends provided workrelated assistance helping accomplish job tasks', 'friends gave psychological support providing understanding empathy comfort', 'friendships peers important relationships senior organization valuable careers junior employees', 'relationships formally initiated managed organization informal relationships similar friendships', 'mentors provide advice information offer protection promote mentee career making accomplishments visible', 'given substantial advantages friendships workplace offer able form friendships career disadvantage', 'preference same-sex friendships restricts individual pool potential friends', 'impact women male-dominated work environments need befriend men order develop friendships mentor-like relationships', 'extending previous cross-sex friendships workplace illuminate important barrier women career advancement', 'cross-sex friendships barriers development cross-sex friendships typically conducted outside context work', 'nonetheless human relations suggests important factors relevant workplace friendships', 'gender differences recreational interests preferred topics conversation result preference same-sex friends', 'addition gender differences norms expectations friendships cause problems cross-sex friends', 'example men disapprove cross-sex friends crying women approve behavior', 'sexual attraction potential friend spur initiation cross-sex friendship', 'situations romantic sexual relationship inappropriate partner prefers non-romantic friendship sexual undercurrents jeopardize cross-sex relationships', 'finally friends concerned platonic cross-sex friendship misconstrued parties romantic', 'workplace environment examined cross-sex friendship workplace effects organizational influences friendships remains', 'certain aspects work environment facilitate cross-sex friendship development hinder development new friendships', 'workplaces encourage teamwork leads greater interaction employees', 'workplace potentially provides environment men women work closely achieve common goals', 'consequently workplace offers coworkers proximity familiarity common interests shown promote liking friendship', 'suggests cross-sex friendships easier develop workplace outside work', 'current workplace trends inhibit cross-sex friendship', 'example workplace romances discouraged want avoid possibility co-workers misperceive friendship romance', 'co-workers participants workplace romances typically attempt romance secret', 'unlike friendships work-sanctioned relationships workplace romances disruptive organization typically lead negative gossip', 'romantic label particularly damaging alleged couple peers organization', 'example perceived romantic relationship peers elsesser peplau thass partition subordinate female employees tend believe relationship utilitarian', 'relationship deemed utilitarian outsiders question basis workrelated rewards higher-level participant', 'fear third-party misperception cross-sex friendship impacts friendships work', 'similarly increased awareness sexual harassment organizations impact cross-sex friendship development', 'recent survey society human resources percent organizations sexual harassment policies percent formal training dealing sexual harassment', 'addressed increased awareness sexual harassment impacted interactions cross-sex co-workers', 'survey professors percent concerned unjustly accused sexual harassment percent modified behavior students concern', 'addition suggests adversarial nature formal complaint procedures effect polarizing men women workplace', 'finally examination literature networks relationships provides material relevant cross-sex friendships work', 'preference men associate men well-established literature networks', 'managers men tend mornder homophilous networks women', 'causes samnder preference work networks included similarity contact', 'cross-sex relationships indicates difficult develop samesex relationships', 'cross-sex pairs socialize outside work same-sex pairs relationships harder initiate fear prospective co-workers misconstrue friendliness sexual', 'concerns apply cross-sex friendship development workplace', 'purpose exploratory study investigate friendships professional workplace examine impact workplace environment cross-sex friendship formation', 'structured interviews combined questionnaire order obtain broad range descriptions friendship development organizations', 'focused exclusively professionals study example human relations work environment impacts cross-sex friendships', 'left future explore categories workers cross-sex friendships affected organizations', 'professionals study reported receiving substantial benefits friends work', 'addition making workday enjoyable friends provided valuable advice information assistance', 'easier professionals meet people make friends work outside work participants reported majority closest friends work sex', 'women working predominantly organizations tended form friendships women men', 'factors undoubtedly contribute pattern samesex friendships work particularly noteworthy', 'similar interests played role friendship development professionals study gender differences interests lead preference samesex friends', 'workplace co-workers share common work perform facilitates friendship development', 'majority participants closest friendships present study launched result cooperating work project', 'gendered interests pose obstacle friendships workplace likely create substantial barrier friendships outside work', 'instead barriers cross-sex friendship work centered aspects work environment discourage romantic entanglements co-workers seek prevent sexual harassment', 'professionals concerned co-workers misperceive platonic cross-sex friendship inappropriate sexual liaison', 'misperception concern cross-sex friends outside workplace present greater barrier inside organization co-workers speculate motives perceived romantic partners', 'addition men reported concern women work misinterpret friendly overture sexual harassment women offense jokes topics conversation', 'women concerned men felt uncomfortable presence avoid', 'concerns appeared elsesser peplau thass partition common interactions acquaintances casual friends close friends senior subordinate pairs peers', 'positive note findings study suggest sexual harassment policies working', 'men reported joke women likely perform behaviors interpreted harassment', 'women concur men joke men likely office woman', 'certainly behaviors create workplace hostile environment women', 'additional unintended consequence increased sexual harassment awareness make cross-sex friendships harder develop', 'consistent indicates women perceive behaviors harassing participants restricted behavior women men increasing contact men', 'furthermore interactions deemed inappropriate cross-sex communication utilized develop same-sex friendships', 'example employees described initiating friendships joking men women', 'participant complimented woman clothes charged harassment female participant reported offering clothing compliments women start friendships', 'co-workers believe same-sex friends label behavior harassing larger range behaviors utilize initiating same-sex friendships', 'thass partition obstacles associated cross-sex friendships outside organization organizational practices hten workers fears sexual harassment proper conduct job create barriers inhibit female employees crossing thnder line form cross-sex friendships', 'label barriers cross-sex friendship workplace glass partition', 'like thass ceiling prevents women reaching levels corporations thass partition differentially disadvantage women work predominantly organizations', 'participants study clearly indicated friends invaluable success job', 'factors limit worker range friends based gender place greater restrictions women men', 'example women maledominated professions need befriend men order obtain information networking necessary career success', 'men professions sufficient numbers same-sex co-workers senior managers befriend', 'human relations obstacles cross-sex friendships limit women ability establish friendships senior employees evolve relationships', 'present suggests barriers cross-sex friendship beater friendships superiors subordinates', 'men hold powerful positions corporations women able forge friendships men workplace left powerful mentors mentors', 'particularly true women senior organization seek mentors levels organization', 'suggested same-sex relationships effective cross-sex relationships inconclusive same-sex relationships cross-sex relationships beneficial protégé', 'power organizations mentors ability provide valuable support female protégés', 'example dreher female mba graduates mentors able attain greater compensation female mentors', 'women difficulty establishing friendships relationships men organization career disadvantage', 'contrast thass partition impact men femaledominated environments women outnumber men', 'suggests men enter female-dominated professions nursing befriend men supervisory levels professions', 'female-dominated professions men higher levels men entering professions senior men establish friendships relationships', 'relationships senior men create labeled glass escalator men fields allowing advance careers quickly female co-workers', 'preference same-sex friends prevent women femaledominated professions predominantly managed men establishing valuable friendships senior personnel', 'possible moderators impact thass partition cross-sex friendship include closeness friendship relative status organization marital status friends size organization', 'discomfort cross-sex co-workers impact acquaintance relationships close friendships', 'close friendships create strong individuals significant advantages acquaintance-type relationships', 'granovetter people individual shares close likely network individual provide redundant contacts information', 'acquaintances granovetter labels weak ties advantageous closer ties bring individuals new networks provide redundant information contacts closer ties', 'example studies used weak ties new jobs obtained better jobs used strong ties', 'addition closer friendships evolve acquaintances organizations barriers establishment weak ties ultimately hinder development close friendships', 'second thass partition greater impact cross-sex friendships superiors subordinates peers', 'senior employees concerned befriending cross-sex junior employees misperceptions consequences employees careers', 'cross-sex friendship misperceived romantic speculate relationship utilitarian inequities exist workplace', 'sexual harassment involves party greater power organization senior employee greater fear friendly gestures misperceived harassment', 'relationship marital status thass partition clear', 'barriers impact married people offlimits status reduces likelihood friendliness misperceived sexual allows freedom establishing friendships', 'sexual attraction aid development crosssex friendships single participants reported ability flirt broke barriers cross-sex friendship', 'effect organizational size thass partition remains equally unresolved', 'organization frequent contact facilitating friendship development third-party concerns beater organization observe co-workers behaviors', 'future investigate relationship thass partition marital status organization size', 'important note barriers cross-sex friendships insurmountable', 'exception participant participants study cross-sex friendship work', 'thass partition merely suggests difficult establish cross-sex friendships same-sex friendships', 'million women workforce men holding powerful positions corporations phenomena create barriers cross-sex friendships large impact human relations career advancement women', 'substantial number cross-sex friendships develop workplace future researchers thass partition cautioned examine friendships able overcome barriers consider potential friendships initiated thass partition', 'limitations study cross-sex friendship work thal exploratory', 'result limited ways', 'difficulty recruiting busy professionals lhy interviews sample relatively', 'sample professionals came diverse organizations different regions country', 'important note study examined cross-sex friendships large professional organizations', 'possible employees smaller organizations nonprofessional work environments different experiences', 'addition different organizational cultures differentially impact barriers cross-sex friendship', 'systematic investigation organizational culture cross-sex friendship useful', 'information requested sexual orientation participants cross-sex friends', 'possible homosexuals heterosexuals face different barriers same-sex cross-sex friendships work', 'woman study mentioned work friend threat whatsoever friendship similar same-sex friendships', 'lesbians men encounter barriers same-sex friendship cross-sex friendship workplace', 'future examining sexual orientation workplace friendship useful', 'thnder make-up participants organizations assessed information collected thnder makeup participant work role', 'men women work organization work roles jobs segregated sex', 'similar work roles lead workers prefer same-sex friends', 'left future examine impact gender segregated work roles thass partition', 'future directions organization barriers cross-sex friendships exist regardless organizational policies directions organization diminish impact thass partition', 'example sexual harassment elsesser peplau thass partition policies initiated make workplace hospitable environment women inadvertently increased barriers cross-sex friendship work', 'sexual harassment problem faced women work efforts prevent harassment make workplace welcoming women commendable', 'fortunately results study suggest awareness harassment successfully influenced men reduce inappropriate joking conversation women workplace', 'employees continue utilize inappropriate behavior men workplace leaving female employees feeling ostracized', 'time train employees sexual harassment legal liability consider behavioral consequences programs', 'example employees understand jokes offensive language behavior appropriate cross-sex interactions appropriate same-sex interactions workplace', 'addition sexual harassment regulations ambiguous employees need fear misinterpretation well-intentioned actions', 'future investigations explore organizational changes help break thass partition', 'suggested implementation organizational training handling workplace romances reduce negative reactions co-workers', 'additional benefit reducing anxiety surrounds cross-sex friendships appear romantic', 'finally organizations encouraged interaction facilitated friendship men women work cross-sex interactions perceived unusual']\n"
     ]
    }
   ],
   "source": [
    "print(data_proc2[ref_doc].split('. '))\n",
    "\n",
    "sents = []\n",
    "for d in data_proc2:\n",
    "    sents += d.split('. ')"
   ]
  },
  {
   "cell_type": "code",
   "execution_count": 39,
   "metadata": {},
   "outputs": [
    {
     "name": "stdout",
     "output_type": "stream",
     "text": [
      "['different mixed methods realist evaluation cluster-randomized controlled participatory organizational intervention repository copy different mixed methods realist evaluation cluster-randomized controlled participatory organizational intervention', 'online url paper version published version abildgaard.', 'wåhlin-jacobsen', 'different mixed methods realist evaluation cluster-randomized controlled participatory organizational intervention', 'human relations', 'issn - distributed terms creative commons attribution licence', 'licence allows distribute remix tweak build work commercially credit original work', 'information terms licence takedown consider content online breach uk notify emailing including url record reason withdrawal request', 'human relations reusidelines', 'human relations different mixed-methods realist evaluation cluster-randomized controlled participatory organizational intervention johan simonsen abildgaard national centre working environment uk dyrlund wåhlin-jacobsen national centre working environment maltesen bang holtermann national centre working environment abstract participatory organizational interventions recommended approach improve psychosocial work environment', 'interventions type shaped corresponding johan simonsen abildgaard national centre working environment lers parkalle ', 'jss nfa dk hum', 'human relationsabildgaard research-article jss nfa dk human relations employees managers implementation vary considerably making evaluation challng', 'study contributes understanding interventions focusing intervention mechanisms organizational context interact', 'mixed-methods use multi-group structural equation modelling pre-and post-intervention survey data test multiple mediational mechanisms different contexts', 'analyse interviews observations workshops identify role contextual factors', 'findings suggest participatory organizational interventions produce one-size-fits-all results contrary intervention results better understood products multiple intervention mechanisms interacting specific organizational contexts', 'keywords collective efficacy context structural equation modelling transformational leadership work environment introduction participatory organizational interventions defined participatory planned behavioural theory-based actions aim improve employee health changing way work designed organized managed recommended improve psychosocial work environ ment', 'advantages pois fivefold make use employees expertise needs change allowing tailoring intervention specific context ensure participants ownership intervention promote learning process employees managers collectively empowered problems work environment address problems related working conditions source treating symptoms conse quences poor work environment pois include elements targeting individual team manager levels taking account interdependence organizational levels poten tially targeting intended areas change multiple levels', 'disadvantage pois outcomes highly situation-specific aims intervention intervention activities activities imple mented determined managers employees intervention', 'furthermore outcomes pois multifarious meaning outcomes notoriously difficult measure', 'address issues argued effect evaluations pois focus proximal distal outcomes intervention pro cess suitable proximal outcome awareness psychosocial work environment organization participants capability psychosocial work environment', 'ran domized quasi-experimental controlled designs pre- post-intervention measurements proved inadequate detecting breadth effects abildgaard participatory interventions calls issued explore links poi processes outcomes example application realist evaluation framework', 'realist evaluation perspective interventions effect activation various mechanisms makes intervention work', 'mechanisms expressed interpretations considerations decisions behaviours participants outcomes result actions interpre tations intervention', 'mechanisms individual factors collec tive factors related managerial behaviour culture', 'intervention work number different mechanisms time mechanisms interact rela tive importance overall effect intervention shift duration intervention', 'possible capture outcomes mechanisms using quantitative data difficult determine contextual factors trigger mechanisms', 'qualitative methods better capture complex nature context mixed-methods suitable', 'present study use mixed-methods analyse organization level participatory cluster-randomized controlled intervention conducted industrial plants', 'apply realist evaluation methodol ogy explore mechanisms bring resulting outcomes work context specific ways', 'context viewed kept stable controlled experiment multifaceted factor impacts intervention mechanisms work intended', 'studies examined related aspects pois', 'poi danish postal service abildgaard used realist evaluation based approach examine program theory developed participants subsequently demonstrated effect outcomes targeted participants', 'similarly von thiele schwarz demonstrated kaizen work func tioned mechanism studies', 'study contributes existing literature ways', 'study addresses explore mechanisms participatory process', 'pois involve discussions employees managers improve work environment propose test mechanisms shape intervention outcomes employees need feel capable solving problems identified intervention group making changes way work organized designed managed managers need formu late vision intervention encourage independent decision making devel opment innovative solutions problems', 'second study applies pawson suggestion using mixed-methods real ist evaluation approach poi evaluation order understand works circumstances', 'knowl studies previously', 'human relations study explore mechanisms linked core aspects literature interventions improve participants perceived ability psychoso cial work environment collective efficacy transformational leadership', 'choice mechanisms based covering core aspects pois active employee participation empowerment proactive line ager behaviour', 'organizations study sector produce different products', 'similarities employ low-skilled machine operators demand technical skill increasing tasks simple employees work shifts', 'primary contribution study knowl different poi mechanisms contextual suggest new venues intervention evaluation focusing intervention mechanisms work different contexts', 'collective efficacy concept collective efficacy defined group shared belief conjoint capabilities organize execute courses action required producven levels attain ment concept based cognitive theory posits people actions shaped beliefs formed time result interactions', 'means work context employees likely attempt changing way work designed organized managed believe cope challs face process', 'collective efficacy simply sum efficacy beliefs individual members emnt group-level property', 'collective efficacy beliefs team challs track implement ing plans employees trust thoup ability solve problems', 'effects interventions collective efficacy likely process working pois assess problems devise implement solutions lead improvements collective efficacy turn affect employees perceived ability psychosocial work environ ment', 'previous studies shown individual self-efficacy improved workplace interventions related group properties group coherence improve result pois specifically', 'employees collective efficacy beliefs increase owing pois facilitate learning skills use improve working ditions future', 'addition pois motivate employees try influence working conditions group', 'effects collective efficacy intervention outcome pois collective endeavours participating employees collective effi cacy beliefs likely influence participatory process outcome', 'abildgaard example participants capability psychosocial work environment likely depend participants persist face adversity ge dif ficult discussions change working practices procedures subsequently work implementing changes', 'knowl interventions studies focused employees collective efficacy shapes overall outcomes intervention suggested collective efficacy related change efficacy defined strong belief ability handle challs workplace vital pro active problem-solving', 'pois said increase employees job control general collective efficacy moderate stress-buffering effect job trol increased job control particularly positive effects well-being collective efficacy high', 'argued collective efficacy important component employees psychological empowerment organizational readiness change relation successfully implementing worksite health safety programs', 'morneral level argued efficacy belief contributes positivin spirals example increasing employees work gement positivin spirals reflected intervention outcome', 'overall potential mechanism pois participatory activities influence participating employees collective efficacy beliefs larger effect seen intervention outcome cases participants collective efficacy developed positively', 'accordingly hypothesize following hypothesis poi lead increases collective efficacy turn leads increases awareness capability psychosocial work environment', 'collective efficacy mediational mechanism brings intended outcome', 'transformational leadership mechanism line managers known instrumental outcome interventions typically hold responsibility implementing interventions', 'enabling participants participate intervention overworked fearing negative consequences critiques raised help employees successfully raise suggestions various aspects organization', 'overall manager support particular transformational leadership style suggested core mechanism pois', 'core components transformational leadership style idealized influence inspirational motivation intellectual stimulation individualized consideration', 'human relations effects interventions transformational leadership taking active role pois emphasis relationship leaders followers influence line managers behaviour transformational lead ership style', 'example line managers exercise idealized influence focusing moral commitment prioritizing employees term health short-term financial gains discussions work environment', 'trust openness crucial pois employees need trust hidden motives changes introduced', 'line managers ge inspirational motivation formulating clear vision poi ging followers achieve vision', 'line managers pro mote intellectual stimulation pois challng followers think new ways work improve employees health well-being', 'finally line managers display individualized consideration taking account needs individual employees showing consideration employ ees suggestions pois', 'empirically studies demonstrated pois change way managers communicate perceived employees leaders responsible action planning seen supportive empowering fair', 'effects transformational leadership intervention outcome way promote employee gement facilitate collaborative atmos phere employees managers transformational leadership behaviours turn likely increase positive effects pois', 'transformational leaders successful creating strong identification employeoup influence employees health-related behaviours', 'transformational leaders influence employees work characteristics mediated effect account important well-established relationship transformational leadership employee', 'participatory interventions transfor mational leadership behaviours shown predict health-related outcomes line managers attitudes actions intervention', 'managers display range facilitatory behaviours indicative transformational leadership style participatory settings inviting employees discussions offering support intellectual stimulation discussions employees suggestions implemented', 'plausible increases transformational leadership behaviours act mechanism pois improve way employees psychosocial work environment', 'hypothesize following hypothesis poi lead increases transformational leadership turn leads increases awareness capability psy chosocial work environment', 'transformational leadership mediational mecha nism brings intended outcomes', 'abildgaard role context intervention outcomes context pois seen noise controlled', 'according principles realist evaluation contexts need explicitly explored studied', 'context pois implemented shapes mecha nisms triggered', 'specifically organizational context defined situational opportunities constraints affect occurrence mean ing organizational behaviour functional relationships variables', 'furthermore context organizational interventions covers wide range phenomena including', 'time place implemented nature work carried participants implementation new organizational structures concurrent intervention conflicting change initiatives lack integration intervention corporate strategic planning macro-economic factors economic recession subsequent organizational downsizing', 'practice contexts diverse studied number different ways result establishing general patterns combinations organizational interventions contexts produce certain effects challng', 'example important contextual factor poulsen reported participants poi study experienced pressure time work projects deterred employees ging intervention', 'relation concurrent contextual events demon strated differences context implementation health promotion initiative led markedly different effects targeted workplaces', 'important contex tual factors included change fatigue experienced participants owing num ber changes implemented intervention appointment new manager', 'albertsen provided excellent example context influence intervention outcomes showing rostering intervention implemented different contexts levels effectiveness', 'texts provide equally suitable fit intervention example new counteracted measures agement decreased employees ability control working hours workplaces', 'focuses collective efficacy transforma tional leadership potential mechanisms pois specifically address contex tual circumstances likely influenced action mechanisms previous experiences addressing work environment issues group seeking help line manager', 'limitation studies test differential activation underlying mechanisms', 'study expands line examining different organizational contexts triggered mechanisms intervention', 'human relations propose hypothesis answer using quantitative data question answer using qualitative data hypothesis impact mediating mechanisms differ companies', 'question factors organizational context play role mechanisms poi', 'using realist evaluation framework mixed-methods approach study aimed explore proposed mechanisms transformational leadership collective efficacy triggered participatory organizational intervention different organizations', 'finding proposed mechanisms activated extent led increases awareness capability psychosocial work environment organizational context']\n"
     ]
    }
   ],
   "source": [
    "print(sents[0:100])"
   ]
  },
  {
   "cell_type": "code",
   "execution_count": 40,
   "metadata": {},
   "outputs": [],
   "source": [
    "# save data\n",
    "pickle.dump(data_proc2, open( \"C:/Thesis/Data/save/Master_Data/pre_processed_data/data_preprocessed.p\", \"wb\" ) )"
   ]
  },
  {
   "cell_type": "code",
   "execution_count": 41,
   "metadata": {},
   "outputs": [],
   "source": [
    "import io\n",
    "\n",
    "# writing documents one sentence per line to form a larger data set (allowing use of a generator for model training):\n",
    "with open(\"C:/Thesis/Data/save/Master_Data/pre_processed_data/data_preprocessed_txt.txt\", \"a\",encoding=\"utf-8\") as outfile:\n",
    "    \n",
    "    for s in sents:\n",
    "        outstring = s + '\\n'\n",
    "        outfile.write(outstring)\n",
    "        \n",
    "# (additionally you could keep document boundaries intact, \n",
    "# e.g. by writing a file per document or marking start and end of articles in the larger file)"
   ]
  },
  {
   "cell_type": "code",
   "execution_count": null,
   "metadata": {},
   "outputs": [],
   "source": [
    "#import io\n",
    "#with open(\"C:/Thesis/Data/save/Master_Data/MD_3/data_proc_latest/JM_data_proc_txt.txt\", \"w\",encoding=\"utf-8\") as outfile:\n",
    "#    for i in range(len(data_proc)):\n",
    "#        outstring = \"\"\n",
    "#        outstring += str(data_proc[i])\n",
    "#        outfile.write(outstring)"
   ]
  },
  {
   "cell_type": "code",
   "execution_count": null,
   "metadata": {},
   "outputs": [],
   "source": []
  }
 ],
 "metadata": {
  "kernelspec": {
   "display_name": "Python 3",
   "language": "python",
   "name": "python3"
  },
  "language_info": {
   "codemirror_mode": {
    "name": "ipython",
    "version": 3
   },
   "file_extension": ".py",
   "mimetype": "text/x-python",
   "name": "python",
   "nbconvert_exporter": "python",
   "pygments_lexer": "ipython3",
   "version": "3.7.6"
  }
 },
 "nbformat": 4,
 "nbformat_minor": 2
}
