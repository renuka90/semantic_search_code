{
 "cells": [
  {
   "cell_type": "code",
   "execution_count": 37,
   "metadata": {},
   "outputs": [],
   "source": [
    "import os\n",
    "import re\n",
    "import pandas as pd\n",
    "import urllib\n",
    "from nltk import SnowballStemmer\n",
    "from gensim.models import Word2Vec\n",
    "#import langdetect\n",
    "import tika\n",
    "import time\n",
    "from tika import parser\n",
    "import pickle"
   ]
  },
  {
   "cell_type": "markdown",
   "metadata": {},
   "source": [
    "# Raw Articles pdf Data\n",
    "Convert pdf to text using Tika apache server "
   ]
  },
  {
   "cell_type": "code",
   "execution_count": 38,
   "metadata": {},
   "outputs": [],
   "source": [
    "# specify the target data folder\n",
    "#target_dir = 'C:/Thesis/Data/Journal Of management_2000_2020'\n",
    "target_dir = 'C:/Thesis/Data/Journal Of management_2000_2020'"
   ]
  },
  {
   "cell_type": "code",
   "execution_count": 39,
   "metadata": {},
   "outputs": [],
   "source": [
    "# prep pdf extraction\n",
    "pdf_files = []\n",
    "wrd_files = []\n",
    "\n",
    "for f in os.listdir(target_dir):\n",
    "    if f.endswith(\".pdf\") | f.endswith(\".PDF\"):\n",
    "        thispdf = os.path.join(target_dir, f)\n",
    "        pdf_files = pdf_files + [thispdf]\n",
    "    if f.endswith(\".doc\") | f.endswith(\".docx\") | f.endswith(\".DOC\") | f.endswith(\".DOCX\"):\n",
    "        thiswrd = os.path.join(target_dir, f)\n",
    "        wrd_files = wrd_files + [thiswrd]"
   ]
  },
  {
   "cell_type": "code",
   "execution_count": 40,
   "metadata": {
    "scrolled": true
   },
   "outputs": [
    {
     "name": "stdout",
     "output_type": "stream",
     "text": [
      "Command to start Tika:\n",
      "java -jarC:\\Software\\ tika-server-1.23.jar --port 4321\n",
      "---\n",
      "Number of pdf files: 1285\n",
      "Number of word files: 0\n"
     ]
    }
   ],
   "source": [
    "port = 4321 # port to use for Tika server (chosen arbitrarily)\n",
    "server_str = 'http://localhost:' + str(port)\n",
    "tika_path  = 'C:\\Software\\ tika-server-1.23.jar'\n",
    "tika_run   = 'java -jar' + tika_path + ' --port ' + str(port)\n",
    "print('Command to start Tika:')\n",
    "print(tika_run)\n",
    "print('---')\n",
    "print('Number of pdf files: ' + str(len(pdf_files)))\n",
    "print('Number of word files: ' + str(len(wrd_files)))"
   ]
  },
  {
   "cell_type": "code",
   "execution_count": 64,
   "metadata": {},
   "outputs": [],
   "source": [
    "# process the PDF files, store text in memory\n",
    "tika.TikaClientOnly = True \n",
    "\n",
    "pdf_metadata = [parser.from_file(t, server_str, xmlContent=False)[\"metadata\"] for t in (pdf_files + wrd_files)]"
   ]
  },
  {
   "cell_type": "markdown",
   "metadata": {},
   "source": [
    "# Text Data\n",
    "\n",
    "Eliminate title, sections (eg: content between Method and Discussion) and Reference. It is saved as a pre-processed data"
   ]
  },
  {
   "cell_type": "code",
   "execution_count": 50,
   "metadata": {
    "scrolled": true
   },
   "outputs": [],
   "source": [
    "# process the PDF files, store text in memory\n",
    "tika.TikaClientOnly = True \n",
    "\n",
    "pdf_text = [parser.from_file(t, server_str, xmlContent=False)[\"content\"] for t in (pdf_files + wrd_files)]"
   ]
  },
  {
   "cell_type": "code",
   "execution_count": 51,
   "metadata": {},
   "outputs": [],
   "source": [
    "# save data\n",
    "pickle.dump(pdf_text, open( \"C:/Thesis/Data/save/journal_of_management/save_alltext_jm.p\", \"wb\" ) )"
   ]
  },
  {
   "cell_type": "markdown",
   "metadata": {},
   "source": [
    "#  Load the Text data"
   ]
  },
  {
   "cell_type": "code",
   "execution_count": 3,
   "metadata": {},
   "outputs": [],
   "source": [
    "import pickle\n",
    "#load the text data\n",
    "pdf_text = pickle.load(open(\"C:/Thesis/Data/save/journal_of_management/save_alltext_jm.p\", \"rb\"))\n"
   ]
  },
  {
   "cell_type": "code",
   "execution_count": 4,
   "metadata": {},
   "outputs": [
    {
     "data": {
      "text/plain": [
       "1285"
      ]
     },
     "execution_count": 4,
     "metadata": {},
     "output_type": "execute_result"
    }
   ],
   "source": [
    "len(pdf_text)"
   ]
  },
  {
   "cell_type": "markdown",
   "metadata": {},
   "source": [
    "# Get country names"
   ]
  },
  {
   "cell_type": "code",
   "execution_count": 36,
   "metadata": {},
   "outputs": [],
   "source": [
    "# Since it is case sensetive, firstly get the list of country before converting the text to lowercase\n",
    "country_list = ['america', 'vietnam', 'usa']\n",
    "import pycountry\n",
    "\n",
    "for country in pycountry.countries:\n",
    "#    for i in pdf_text:\n",
    "#        if country.name in i:\n",
    "            #print(country.name)\n",
    "            country_list.append(country.name.lower())"
   ]
  },
  {
   "cell_type": "code",
   "execution_count": 38,
   "metadata": {},
   "outputs": [],
   "source": [
    "#Convert country list to lower case. it will be called in filter function\n",
    "#country_lower = [x.lower() for x in country_list]\n",
    "#print(country_list)"
   ]
  },
  {
   "cell_type": "markdown",
   "metadata": {},
   "source": [
    "# Get city names (and additional countries)"
   ]
  },
  {
   "cell_type": "code",
   "execution_count": 41,
   "metadata": {},
   "outputs": [
    {
     "name": "stdout",
     "output_type": "stream",
     "text": [
      "0\n"
     ]
    }
   ],
   "source": [
    "from geotext import GeoText\n",
    "\n",
    "cities_list = []\n",
    "for i in pdf_text:\n",
    "    place = GeoText(i)\n",
    "    #print(place.cities)\n",
    "    #print(place.countries)\n",
    "    cities_list.append(place.cities + place.countries)\n",
    "\n",
    "t = []\n",
    "for i in cities_list:\n",
    "    t += i\n",
    "    \n",
    "print(len(t))    \n",
    "    \n",
    "cities_list = list(set(t))\n",
    "# cities_list"
   ]
  },
  {
   "cell_type": "code",
   "execution_count": 42,
   "metadata": {},
   "outputs": [
    {
     "name": "stdout",
     "output_type": "stream",
     "text": [
      "0\n"
     ]
    }
   ],
   "source": [
    "#Convert cities list to lower case. it will be called in filter function\n",
    "cities_lower =[]\n",
    "for i in cities_list:\n",
    "    #for j in i:\n",
    "    cities_lower.append(i.lower())\n",
    "print(len(cities_lower))\n"
   ]
  },
  {
   "cell_type": "markdown",
   "metadata": {},
   "source": [
    "#  Convert pdf text to lower case"
   ]
  },
  {
   "cell_type": "code",
   "execution_count": 5,
   "metadata": {},
   "outputs": [],
   "source": [
    "#Convert each string to lowercase\n",
    "for i in range(len(pdf_text)):\n",
    "    pdf_text[i] = pdf_text[i].lower()"
   ]
  },
  {
   "cell_type": "markdown",
   "metadata": {},
   "source": [
    "# Excluding pdfs if it doesnot have the standard format \n",
    "check the standard format of pdf- if it contains method and discussion section or not"
   ]
  },
  {
   "cell_type": "code",
   "execution_count": 7,
   "metadata": {},
   "outputs": [
    {
     "data": {
      "text/plain": [
       "567"
      ]
     },
     "execution_count": 7,
     "metadata": {},
     "output_type": "execute_result"
    }
   ],
   "source": [
    "import re\n",
    "pdf_included =[]\n",
    "pdf_excluded =[]\n",
    "\n",
    "for i in pdf_text:\n",
    "    flag_1 = re.search(r'\\n(general )?discussion\\n', i)\n",
    "    flag_2 = re.search(r'\\nmethods?\\n', i)\n",
    "   \n",
    "    if flag_1 and flag_2: \n",
    "        pdf_included.append(i)\n",
    "     \n",
    "    else:\n",
    "        pdf_excluded.append(i)\n",
    "len(pdf_included)"
   ]
  },
  {
   "cell_type": "code",
   "execution_count": 51,
   "metadata": {},
   "outputs": [
    {
     "data": {
      "text/plain": [
       "718"
      ]
     },
     "execution_count": 51,
     "metadata": {},
     "output_type": "execute_result"
    }
   ],
   "source": [
    "len(pdf_excluded)"
   ]
  },
  {
   "cell_type": "code",
   "execution_count": 32,
   "metadata": {},
   "outputs": [],
   "source": [
    "# Within JM: acknowledgement section appears in two approaches:1: before or after keyword section (only few pdfs)\n",
    "# 2: before reference section (maximum pdfs)\n",
    "# thus, focusing on the majority occurance of acknowledgements before reference second, we removed it based on that condition.\n",
    "\n",
    "# step-1 remove content after acknowledgements section( it will include appendix, reference section)\n",
    "pdf_remove_step1 = [re.sub(r\"(?is)\\nacknowledgments\\n.*\", \"\", f) for f in pdf_included]\n",
    "\n",
    "# step-2 if there is no acknowledgements section than start with appendix (it will include reference section.)\n",
    "pdf_remove_step2 = [re.sub(r\"(?is)\\nappendix\\n.*\", \"\", f) for f in pdf_remove_step1]\n",
    "\n",
    "# step-3 remove all from reference section\n",
    "pdf_remove_step3 = [re.sub(r\"(?is)\\nreferences\\n.*\", \"\", f) for f in pdf_remove_step2]\n",
    "\n",
    "# get the reference section\n",
    "references = [re.sub(r\"^(.|\\n)+\\nreferences\\n\", \"\", f) for f in pdf_included]"
   ]
  },
  {
   "cell_type": "code",
   "execution_count": 9,
   "metadata": {},
   "outputs": [
    {
     "data": {
      "text/plain": [
       "567"
      ]
     },
     "execution_count": 9,
     "metadata": {},
     "output_type": "execute_result"
    }
   ],
   "source": [
    "len(pdf_remove_step3)"
   ]
  },
  {
   "cell_type": "code",
   "execution_count": 12,
   "metadata": {},
   "outputs": [],
   "source": [
    "# step-4: remove content between method and discussion section (it contains method and result section)\n",
    "def remove_method_result(method, discussion, text):\n",
    "    \n",
    "    import re    \n",
    "    start = method\n",
    "    end = discussion\n",
    "    #start of pattern, followed by any number of times 'any character OR a newline' and terminated by the end pattern.\n",
    "    #pattern = start + '.*'+'(.|\\n)*'+end\n",
    "    pattern = start +'(.|\\n)*'+end\n",
    "    #pdf_method_dis = [re.sub(pattern, '', f) for f in pdf_text]\n",
    "    pdf_method_dis = re.sub(pattern, '', text)\n",
    "\n",
    "    return pdf_method_dis"
   ]
  },
  {
   "cell_type": "code",
   "execution_count": 13,
   "metadata": {},
   "outputs": [],
   "source": [
    "import re\n",
    "#  remove method and result\n",
    "pdf_remove_step4 = [remove_method_result('\\nmethods?\\n', '\\n(general )?discussion\\n', t) for t in pdf_remove_step3]"
   ]
  },
  {
   "cell_type": "code",
   "execution_count": 14,
   "metadata": {},
   "outputs": [
    {
     "data": {
      "text/plain": [
       "567"
      ]
     },
     "execution_count": 14,
     "metadata": {},
     "output_type": "execute_result"
    }
   ],
   "source": [
    "len(pdf_remove_step4)"
   ]
  },
  {
   "cell_type": "markdown",
   "metadata": {},
   "source": [
    "# Pre-processing\n",
    "Regular expression is used to clean up the data"
   ]
  },
  {
   "cell_type": "code",
   "execution_count": 17,
   "metadata": {},
   "outputs": [
    {
     "name": "stdout",
     "output_type": "stream",
     "text": [
      "\n",
      "\n",
      "\n",
      "\n",
      "\n",
      "\n",
      "\n",
      "\n",
      "\n",
      "\n",
      "\n",
      "\n",
      "\n",
      "\n",
      "\n",
      "\n",
      "\n",
      "\n",
      "\n",
      "\n",
      "\n",
      "\n",
      "\n",
      "\n",
      "\n",
      "\n",
      "\n",
      "\n",
      "\n",
      "\n",
      "\n",
      "\n",
      "\n",
      "\n",
      "\n",
      "\n",
      "\n",
      "\n",
      "\n",
      "\n",
      "\n",
      "\n",
      "\n",
      "\n",
      "\n",
      "\n",
      "\n",
      "\n",
      "\n",
      "\n",
      "\n",
      "\n",
      "\n",
      "a multilevel investigation of leadership and turnover behavior\n",
      "\n",
      "\n",
      "1724\n",
      "\n",
      "a multilevel investigation of leadership  \n",
      "and turnover behavior\n",
      "\n",
      "david a. waldman\n",
      "arizona state university\n",
      "\n",
      "min z. carter\n",
      "southern illinois university\n",
      "\n",
      "peter w. hom\n",
      "arizona state university\n",
      "\n",
      "this study extends the sparse research on the connection between leadership and follower turn-\n",
      "over by investigating the effects of group-level transformational leadership on the withdrawal \n",
      "process. through an examination of 375 chinese employees from 96 work groups, we used \n",
      "hierarchical generalized linear modeling (hglm) analyses to test our proposed model. \n",
      "findings reveal that, even when we control for the effects of leader–member exchange and \n",
      "contingent reward leadership, transformational leadership predicts turnover through quit inten-\n",
      "tions. in addition, our test of cross-level moderation reveals that transformational leadership \n",
      "can weaken the effect of quit intentions on turnover. thus, employees are less likely to carry out \n",
      "quit intentions when they have transformational leaders.\n",
      "\n",
      "keywords: employee turnover; transformational leadership; hierarchical generalized linear \n",
      "modeling\n",
      "\n",
      "acknowledgments: this article was accepted under the editorship of deborah e. rupp. an earlier version of this \n",
      "article was presented at the 26th annual conference of the society for industrial organizational psychology, chicago, \n",
      "illinois. we wish to thank ben galvin and suzanne peterson for their comments on an earlier draft of this article. we \n",
      "also thank kristopher preacher and zhen zhang for their advice regarding our analytic procedures.\n",
      "\n",
      "corresponding author: david waldman, department of management, w. p. carey school of business, arizona \n",
      "state university, tempe, az, 85287, usa\n",
      "\n",
      "e-mail: waldman@asu.edu\n",
      "\n",
      "journal of management\n",
      "vol. 41 no. 6, september 2015 1724–1744\n",
      "\n",
      "doi: 10.1177/0149206312460679\n",
      "© the author(s) 2012\n",
      "\n",
      "reprints and permissions: \n",
      "sagepub.com/journalspermissions.nav\n",
      "\n",
      "http://crossmark.crossref.org/dialog/?doi=10.1177%2f0149206312460679&domain=pdf&date_stamp=2012-10-05\n",
      "\n",
      "\n",
      "waldman et al. / leadership and turnover  1725\n",
      "\n",
      "the loss of employees with vital skills or talents can incur sizeable personnel costs \n",
      "(peterson & luthans, 2006) and imperil organizational effectiveness, such as decreased \n",
      "customer service (shaw, duffy, johnson, & lockhart, 2005). indeed, a one standard deviation \n",
      "increase in turnover rates can depress financial performance by as much as 27% according to \n",
      "a recent estimate (park & shaw, 2011). although currently high unemployment rates are \n",
      "discouraging employees from quitting, forward-looking companies nonetheless are preparing \n",
      "for the eventual pent-up turnover that will arise as the economy recovers (allen, bryant, & \n",
      "vardaman, 2010). by contrast, u.s. multinationals struggle to retain host-country personnel, \n",
      "who increasingly predominate their workforces, especially in countries where talent shortages \n",
      "are acute, such as china and india (hom, 2011; wessel, 2011). given that turnover was an \n",
      "ongoing concern during much of the 20th century and remains so at present, it is not surprising \n",
      "that a large body of research (exceeding 1,000 studies) has accumulated on this topic and will \n",
      "continue to do so for the foreseeable future (griffeth, hom, & gaertner, 2000; holtom, \n",
      "mitchell, lee, & eberly, 2008; maltarich, nyberg, & reilly, 2010).\n",
      "\n",
      "all the same, the voluminous inquiry into why employees quit has largely dealt with “push-\n",
      "to-leave” forces, such as job dissatisfaction and negative workplace “shocks”—events \n",
      "prompting thoughts of leaving (lee & mitchell, 1994)—or alternatively, “pull-to-leave” \n",
      "forces, such as job alternatives (burton, holtom, sablynski, mitchell, & lee, 2010). reflecting \n",
      "march and simon’s (1958) seminal perspective that turnover hinges on movement desirability \n",
      "and ease, this preoccupation nevertheless neglects “pull-to-stay” forces that can induce staying. \n",
      "to more fully understand organizational participation, or why members participate in as well \n",
      "as withdraw from organizations (march & simon, 1958), contemporary scholars increasingly \n",
      "focus on the motives and psychology of staying that differ from those of leaving (hom, \n",
      "mitchell, lee, & griffeth, 2012; mitchell & lee, 2001; steel & lounsbury, 2009). this \n",
      "emerging research reveals that pull-to-stay forces can explain unique variance in turnover \n",
      "beyond that of job satisfaction and job alternatives and can even counteract leaving forces \n",
      "(burton et al., 2010; mitchell, holtom, lee, sablynski, & erez, 2001; ramesh & gelfand, \n",
      "2010; smith, holtom, & mitchell, 2011).\n",
      "\n",
      "addressing the call to recognize leadership as a pull-to-stay force (harris, wheeler, & \n",
      "kacmar, 2011; mitchell et al., 2001), we build on this emerging thinking by examining how \n",
      "transformational leadership may affect the turnover process. despite the popular adage that \n",
      "“people quit bosses, not jobs” (buckingham & coffman, 1999), turnover and embeddedness \n",
      "scholars have paid surprisingly scant attention to leadership antecedents, relative to predictors \n",
      "such as job attitudes and job characteristics (griffeth et al., 2000; holtom et al., 2008). indeed, \n",
      "prevailing turnover theories either omit leadership causes (hulin, roznowski, & hachiya, \n",
      "1985; lee & mitchell, 1994; mobley, 1977; price & mueller, 1981; rusbult & farrell, 1983; \n",
      "steers & mowday, 1981) or relegate them to distal antecedents (mobley, griffeth, hand, & \n",
      "meglino, 1979; steers & mowday, 1981), reflecting march and simon’s (1958) enduring \n",
      "legacy. yet immediate superiors not only are proximal “environmental” cues, but also are \n",
      "chiefly responsible for working conditions highlighted in many theories that impel quit \n",
      "behavior, such as role conflict and low pay (hom & griffeth, 1995). indeed, when asked, \n",
      "leavers often cite unfair or abusive supervision as a prime reason for leaving (bhattacharya, \n",
      "2008; campion, 1991; holtom, mitchell, lee, & inderrieden, 2005; tepper, 2000).\n",
      "\n",
      "\n",
      "\n",
      "1726   journal of management / september 2015\n",
      "\n",
      "moreover, available turnover scholarship on leadership effects has shown how subordinates’ \n",
      "dyadic relationships with superiors may induce them to stay, although leadership theorists \n",
      "have long conceived a wider array of potential pull-to-stay forces, such as idealized influence \n",
      "and inspiration (avey, hughes, norman, & luthans, 2008; bass, 1985). by comparison, most \n",
      "studies have centered narrowly on how leader–member exchange (lmx), attitudes toward \n",
      "supervisors, or perceived supervisory support sustain loyalty (dulebohn, bommer, liden, \n",
      "broucer, & ferris, 2012; griffeth et al., 2000; harris et al., 2011; harris, kacmar, & witt, \n",
      "2005; holtom et al., 2008; hom, 2011; maertz & griffeth, 2004; vandenberghe, bentein, & \n",
      "stinglhamber, 2004). furthermore, turnover researchers have primarily conceptualized and \n",
      "measured leadership influences on leaving at individual levels of analysis, neglecting \n",
      "potential unit-level leadership effects (bass & riggio, 2006; judge & piccolo, 2004; lowe, \n",
      "kroeck, & sivasubramaniam, 1996).\n",
      "\n",
      "moving beyond these limitations, our investigation contributes to both turnover and \n",
      "leadership literatures in the following ways. first, we ascertain whether unit-level \n",
      "leadership antecedents are related to turnover intentions and subsequent turnover behavior. \n",
      "improving on prior attrition tests on dyadic leader–follower relationships (dulebohn et al., \n",
      "2012; griffeth et al., 2000), we examine whether unit-level transformational leadership \n",
      "predicts follower actual turnover via quit intentions, while controlling for effects of lmx, \n",
      "a prime embodiment of dyadic leadership influences (ballinger, lehman, & schoorman, \n",
      "2010; harris et al., 2011). in so doing, we extend transformational leadership research, \n",
      "which has dealt predominantly with how transformational leadership drives follower \n",
      "performance per se (e.g., judge & piccolo, 2004). ideally, effective organizations (and \n",
      "leaders) should induce individuals to both remain employed with the firm and contribute to \n",
      "its success (march & simon, 1958).\n",
      "\n",
      "second, we demonstrate how leaders may disrupt the translation of followers’ quit \n",
      "intentions into actual turnover behavior. recent research documents that pull-to-stay \n",
      "forces, such as job embeddedness, not only reduce turnover but also prevent “shocks” \n",
      "from evolving into quitting behavior (burton et al., 2010; trevor & nyberg, 2008). shocks \n",
      "are critical events, such as pregnancy or disruptive organizational change, that prompt \n",
      "deliberations about leaving, according to the unfolding model (lee & mitchell, 1994). \n",
      "across multiple samples and studies, accumulated evidence reveals that shocks precipitate \n",
      "turnover more than does dissatisfaction, typically accounting for more than 60% of all \n",
      "quitting behavior (weller, holtom, matiaske, & mellewigt, 2009). while transformational \n",
      "leadership behavior cannot block all shocks from occurring, many of which are beyond \n",
      "leaders’ control (e.g., spousal relocations; lee, mitchell, wise, & fireman, 1996), \n",
      "leadership actions may still moderate how quit intentions affect actual subsequent \n",
      "turnover. our study thus extends the scant inquiry into factors moderating the imperfect \n",
      "relationship between quit intentions and turnover (allen, weeks, & moffitt, 2006) by \n",
      "considering leadership as a moderator. figure 1 displays the model guiding our research, \n",
      "portraying transformational leadership as a unit-level determinant associated with actual \n",
      "turnover via quit intentions. furthermore, this model depicts interactive effects, in which \n",
      "transformational leadership moderates the relationship between quit intentions and \n",
      "turnover.\n",
      "\n",
      "\n",
      "\n",
      "waldman et al. / leadership and turnover  1727\n",
      "\n",
      "transformational leadership as a unit-level leadership antecedent\n",
      "\n",
      "mitchell et al. (2001: 1116) recognized that supervisors represent a vital mechanism that \n",
      "can potentially deter followers from forming quit intentions or acting on those intentions. \n",
      "they asserted that “having a great boss may be hard to give up,” although the proliferating \n",
      "work on job embeddedness has neglected leadership influences (felps, mitchell, hekman, \n",
      "lee, holtom, & harman, 2009; holtom, burton, & crossley, 2012; jiang, liu, mckay, lee, \n",
      "& mitchell, 2012). remarkably, the capacity of transformational leadership to reduce \n",
      "turnover has long been overlooked, despite its well-established potent effects on individual \n",
      "and group performance (judge & piccolo, 2004; lowe et al., 1996). transformational leaders \n",
      "arouse greater follower motivation by displaying individualized consideration toward \n",
      "followers’ developmental needs, eliciting creative ideas for problem-solving through \n",
      "intellectual stimulation and inspiring followers (by communicating compelling visions) to \n",
      "put the needs of the greater collective ahead of their own (bass, avolio, jung, & berson, \n",
      "2003). with that said, the nature of the relationship between transformational leadership and \n",
      "turnover is yet to be described theoretically and tested empirically.\n",
      "\n",
      "specifically, transformational leadership may embed followers via greater job fit and \n",
      "links (mitchell & lee, 2001) and induce relational identification (sluss & ashforth, 2008). \n",
      "for example, transformational leadership theory (bass, 1985; bass & avolio, 1994) posits \n",
      "that through idealized influence, followers identify with leaders’ values and goals. greater \n",
      "value congruency between followers and leaders promote person–job fit, and thus staying \n",
      "behavior (mitchell & lee, 2001). moreover, transformational leaders help forge stronger \n",
      "links to the organization by expressing individualized consideration toward followers, who \n",
      "then feel more trust and loyalty to leaders. quite likely, transformational leaders uniformly \n",
      "show individualized consideration across members of an entire collective. by way of \n",
      "attributed charisma, followers also develop higher admiration and trust for leaders (judge & \n",
      "piccolo, 2004), forming stronger relational identification (sluss & ashforth, 2007).\n",
      "\n",
      "figure 1\n",
      "proposed model\n",
      "\n",
      "\n",
      "\n",
      "1728   journal of management / september 2015\n",
      "\n",
      "such relational identification can, in turn, generalize to organizational identification since \n",
      "followers are likely to view transformational leaders as corporate representatives (sluss & \n",
      "ashforth, 2008). specifically, these leaders encourage entire collectives of individuals to \n",
      "internalize and pursue corporate objectives, direction, and vision (kozlowski & ilgen, 2006). \n",
      "they inspire followers to subordinate personal goals by instilling a collective sense of mission \n",
      "or purpose with which they can identify, and thus adopt group or organizational goals as their \n",
      "own. this inspiration is strengthened by leaders’ espousal of attractive visions that appeal to \n",
      "followers’ values (shamir, house, & arthur, 1993). greater person–organizational fit in terms \n",
      "of goals and values should, in turn, reinforce staying (kristof-brown, zimmerman, & \n",
      "johnson, 2005; mitchell & lee, 2001).\n",
      "\n",
      "in support of this notion, waldman, siegel, and javidan (2006) showed how transformational \n",
      "leaders promote firms’ corporate social responsibility, which enhances firms’ reputations in \n",
      "the eyes of followers and appeal to followers’ values, thereby promoting organizational \n",
      "identification (carmeli, gilat, & waldman, 2007). given this leader-to-firm identity \n",
      "generalization (sluss & ashforth, 2008), we thus suggest that transformational leaders may \n",
      "induce their collectives of followers to have strong personal links to both them and the \n",
      "organizations that they represent. accordingly, followers should be less likely to form quit \n",
      "intentions and subsequently engage in quit behavior. consequently, we suggest,\n",
      "\n",
      "hypothesis 1: transformational leadership will predict voluntary turnover via quit intentions.\n",
      "\n",
      "transformational leadership as a moderator of intention–turnover relationships\n",
      "\n",
      "despite pull forces to stay that transformational leadership exerts, we note that other work \n",
      "and nonwork factors may concurrently act to increase turnover intentions and subsequent \n",
      "turnover behavior. that is, regardless of relational attachment to leaders or collective \n",
      "identification that transformational leaders engender, common well-documented push-and-\n",
      "pull forces to leave, such as job dissatisfaction or job alternatives (march & simon, 1958), \n",
      "can still trigger turnover intentions and thus actual turnover (griffeth et al., 2000; maltarich \n",
      "et al., 2010; mitchell & lee, 2001). nevertheless, quit intentions do not inevitably translate \n",
      "into higher quit behavior. while deemed by virtually all turnover models as the most proximal \n",
      "antecedent of leaving (hom & griffeth, 1995), quit intentions typically account for only 14% \n",
      "of the variance in actual turnover behavior (griffeth et al., 2000). to explain such modest \n",
      "intention–behavior congruence, some investigators have documented how unemployment \n",
      "(hom, caranikis-walker, prussia, & griffeth, 1992) and personality traits, such as risk \n",
      "aversion (allen et al., 2006), can dissuade prospective leavers from enacting their intentions. \n",
      "such moderator research remains sparse and, to date, centered on conditions outside of \n",
      "employers’ control, or unavoidable turnover (barrick & zimmerman, 2005). to deepen our \n",
      "insight into why quit intentions do not necessarily culminate in actual quits, we thus explore \n",
      "how transformational leadership can moderate the intention–turnover relationship.\n",
      "\n",
      "toward this end, we use a multilevel approach to examine whether unit-focused trans-\n",
      "formational leadership can deter individual followers who form quit intentions (irrespective of \n",
      "how they originated) from exiting. that is, these leadership processes may buffer against push \n",
      "\n",
      "\n",
      "\n",
      "waldman et al. / leadership and turnover  1729\n",
      "\n",
      "or pull forces for leaving that initiate cognitions about leaving. wang and walumbwa (2007) \n",
      "reported that strong transformational leadership can weaken the effects of work–family \n",
      "conflict, which can drive work withdrawal behaviors by inducing job dissatisfaction (hom & \n",
      "kinicki, 2001). albeit suggestive, their findings illustrate the potential for leaders to ameliorate \n",
      "the influence of dissatisfying or “shocking” work conditions on actual turnover behavior.\n",
      "\n",
      "to clarify how this process may unfold, as already noted, followers often encounter various \n",
      "workplace events or conditions that can activate turnover intentions, potentially leading to \n",
      "subsequent turnover behavior. turnover research reveals that negative job characteristics \n",
      "(e.g., routine job tasks), unfair reward systems, employment alternatives, and workplace \n",
      "change can trigger deliberations about leaving (burton et al., 2010; holtom et al., 2005). \n",
      "independent of the pull-to-stay effects of leadership, such push-to-leave forces can prompt \n",
      "follower quit intentions. to illustrate, nishii and mayer (2009) found that age diversity \n",
      "within departments still increased group turnover, although the average lmx within \n",
      "departments lessened turnover.\n",
      "\n",
      "transformational leaders might reframe how followers interpret or make sense of push-\n",
      "to-leave forces. through inspirational appeals, transformational leaders might talk \n",
      "optimistically and confidently about the unit’s future, despite the disaffection and turnover \n",
      "intentions that these forces can precipitate. in addition, strong attachment to both the leader \n",
      "and firm that transformational leadership foments could weaken the effects of quit intentions \n",
      "on actual quits. thus, even if quit intentions arise due to push-to-leave forces, transformational \n",
      "leaders may assuage employees’ concerns and persuade them to give up their plans to exit. in \n",
      "support of this notion, collective sense-making studies have suggested that positive cues from \n",
      "the social environment can promote loyalty. specifically, employees apparently “readily infer \n",
      "good things are happening in the organization” (liu, mitchell, lee, holtom, & hinkin, 2012) \n",
      "when observing or conversing with coworkers who express favorable views about the job or \n",
      "participate in, rather than withdraw from, the organization (felps et al., 2009).\n",
      "\n",
      "in sum, the aforementioned discussion explains how push-to-leave forces can engender \n",
      "quit intentions among followers, even though they may have transformational leaders. our \n",
      "goal is not to catalogue the myriad of causes that can precipitate turnover cognitions. rather, \n",
      "we suggest that transformational leadership can lessen the chances that quit intentions will \n",
      "progress into actual leaving, regardless of how such intentions emerge. we contend that unit-\n",
      "level transformational leadership may reduce the prospects of turnover actually materializing \n",
      "as a result of initial turnover intentions. taken together, our arguments suggest\n",
      "\n",
      "hypothesis 2: transformational leadership will attenuate the relationship between quit intentions \n",
      "and voluntary turnover.\n",
      "\n",
      "we extend prior research pertaining to leadership and turnover behavior by demonstrating \n",
      "how group-level transformational leadership is related to both quit intentions and behavior, \n",
      "even after controlling group-level contingent reward leadership and lmx. thus, the \n",
      "augmentation effect of transformational leadership on follower performance (cf. waldman \n",
      "et al., 1990) generalizes to follower retention. we further add to both turnover and \n",
      "transformational leadership literatures by showing that turnover intentions mediate the group-\n",
      "level effects of transformational leadership on actual individual-level turnover.\n",
      "\n",
      "our investigation confirms mitchell and colleagues’ (2001) long-standing speculation \n",
      "that leadership can be an important link that embeds employees. but beyond the achieving \n",
      "of high-quality relationships with followers, transformational leadership may reinforce \n",
      "workforce retention via other processes. this finding is important because ballinger et al. \n",
      "(2010) recently established that followers having high lmx relationships may actually quit \n",
      "if their leaders leave. conceivably, even if transformational leaders were to exit the \n",
      "organization (or move to another unit), their departure may not necessarily prompt followers \n",
      "to quit, given that such leaders may promote intense on-the-job ties among followers (cf. \n",
      "carmeli, ben-hador, waldman, & rupp, 2009), identification with the collective mission, \n",
      "and optimistic expectations about their future prospects in the organization (liu et al., 2012). \n",
      "at this point, we concede that our explanation is speculative but is nevertheless consonant \n",
      "with our evidence that transformational leadership enhances loyalty, even when lmx is \n",
      "controlled.\n",
      "\n",
      "we further demonstrated a cross-level moderating effect on the part of transformational \n",
      "leadership that attenuated the relationship between followers’ quit intentions and actual \n",
      "turnover. such moderation suggests that prospective leavers are less liable to quit when \n",
      "supervisors display transformational leadership toward their unit. despite the direct loyalty-\n",
      "sustaining effect of supervisory behavior (i.e., transformational leadership), we recognize \n",
      "that followers are still vulnerable to other push and pull forces for leaving. nonetheless, we \n",
      "found that transformational leaders can lessen the likelihood that such push- and pull-to-\n",
      "leave factors will actually translate into higher turnover. we speculate that enhanced \n",
      "commitment to the corporate mission and goals, bonding social capital (carmeli et al., \n",
      "2009), and positive social cues (liu et al., 2012) that are fostered by transformational \n",
      "leadership may discourage prospective leavers from following through on initial intentions \n",
      "to quit that might arise from push- and pull-to-leave factors.\n",
      "\n",
      "in total, our findings support emerging research that embedding forces can attenuate the \n",
      "loyalty-dissipating effects of events that prompt thoughts of leaving (burton et al., 2010; \n",
      "mitchell & lee, 2001). mitchell et al. (2001) proposed job embeddedness as an overarching \n",
      "construct that captures various pull-to-stay forces, although omitting or downplaying \n",
      "leadership variables. our demonstration that transformational leadership moderates the \n",
      "relationship among quit intentions, the immediate consequence of shocks or job dissatisfaction, \n",
      "and actual quitting behavior extends prior evidence that job embeddedness can prevent \n",
      "shocks from engendering turnover intentions and behaviors (mitchell & lee, 2001).\n",
      "\n",
      "moreover, we advance the sparse research on moderators of quit intention–behavior \n",
      "relationships, which hitherto examined joblessness rates or personality traits (allen et al., \n",
      "\n",
      "\n",
      "\n",
      "1738   journal of management / september 2015\n",
      "\n",
      "2006; hom et al., 1992). prevailing theoretical views simplistically presume that intentions \n",
      "are the most proximate determinant of turnover (mobley, 1977; mobley et al., 1979; price & \n",
      "mueller, 1981, 1986; rusbult & farrell, 1983). consequently, these perspectives largely \n",
      "neglected or underspecified factors that can disrupt intention-to-act transmission. to illustrate, \n",
      "mobley and colleagues (1979) underscored methodological moderators, such as measurement \n",
      "correspondence and time lags between intention and behavioral measures. by identifying a \n",
      "new substantive moderator (i.e., transformational leadership), we thus fill a theoretical void \n",
      "in deciphering why some prospective leavers ultimately stay, as well as identify a means by \n",
      "which organizations can offset push and pull forces for leaving, including those that they \n",
      "may not easily control (barrick & zimmerman, 2005). indeed, our cross-level moderating \n",
      "effect due to transformational leadership is remarkably strong compared to typical moderator \n",
      "effect sizes in field research (e.g., aguinis, beaty, boik, & pierce, 2005).\n",
      "\n",
      "strengths, limitations, and future research\n",
      "\n",
      "our research has several strengths. specifically, we used survey methods to assess \n",
      "leadership and turnover intentions, while incorporating an objective index of turnover obtained \n",
      "9 months after survey completion. we also extend past work on leadership and turnover by \n",
      "demonstrating group-level leadership effects. although both leadership and quit intentions \n",
      "were based on ratings from subordinates, and single-source bias is not fully controlled with a \n",
      "hierarchical generalized linear modeling (hglm) approach, we analyzed transformational \n",
      "leadership at the group level and quit intentions at the individual level. moreover, single-\n",
      "source or method bias is less problematic with moderator analyses. indeed, based on prior \n",
      "work (evans, 1985; siemsen, roth, & oliveira, 2010), podsakoff, mackenzie, and podsakoff \n",
      "(2012: 564-565) recently concluded that such bias “cannot inflate (but does deflate) quadratic \n",
      "or interaction effects. consequently, if a study is designed to test hypotheses about quadratic \n",
      "or interaction effects, . . . then method bias would not be able to account for any statistically \n",
      "significant effects observed.”\n",
      "\n",
      "with that said, we acknowledge shortcomings that additional research might address. \n",
      "first, we did not directly assess push- and pull-to-leave forces that could induce turnover \n",
      "intentions. future research might actually model these forces (i.e., both work and nonwork \n",
      "phenomena) to pinpoint the effects that leadership processes might best counteract. for \n",
      "example, subsequent research might assess work shocks, such as job stress or pay inequity, \n",
      "or nonwork shocks, such as spousal relocations or unsolicited job offers (holtom et al., \n",
      "2008; lee et al., 1996).\n",
      "\n",
      "second, the work of preacher, rucker, and hayes (2007), although focused at a single \n",
      "level of analysis, would imply a potential curvilinear effect for the independent variable in \n",
      "a mediated model (such as ours), whereby it also moderates its indirect effect on a dependent \n",
      "variable. applied to the current research, a curvilinear, indirect relationship between \n",
      "transformational leadership and turnover through quit intentions may exist. specifically, at \n",
      "high levels of transformational leadership, its negative effect on turnover (through quit \n",
      "intentions) may be weaker, as compared to lower levels of transformational leadership, \n",
      "where such effects may be stronger. conceivably, there could be diminishing returns for \n",
      "\n",
      "\n",
      "\n",
      "waldman et al. / leadership and turnover  1739\n",
      "\n",
      "transformational leadership as the various processes (e.g., collective identification, bonding \n",
      "social capital) that it induces reach their peak. alternatively, transformational leaders may \n",
      "increase the job performance of followers via expanded developmental opportunities \n",
      "(intellectual stimulation) or mentoring (individualized consideration). as followers develop \n",
      "into high performers and accumulate more ability to make job or career changes (trevor, \n",
      "2001), they become more attractive to other employers and thus may voluntarily leave \n",
      "(harris et al., 2005; sturman, shao, & katz, 2012). in sum, following harris et al.’s (2005) \n",
      "exploration into curvilinear lmx effects, we encourage additional research into potential \n",
      "curvilinear effects of transformational leadership on turnover.2\n",
      "\n",
      "third, although our theory suggested additional variables (e.g., identification processes) \n",
      "as potentially mediating relationships between transformational leadership and quit \n",
      "intentions, we did not measure them directly. to more precisely support our theory, future \n",
      "research might model and assess mediating mechanisms between transformational leadership \n",
      "and quit intentions. along the lines of prior embeddedness research (e.g., burton et al., 2010; \n",
      "mitchell & lee, 2001), further inquiry might also directly assess job embeddedness and \n",
      "contrast its relative moderating effects against that of leadership as a pull-to-stay force.\n",
      "\n",
      "fourth, given that social ties and obligations govern their actions, citizens of collectivist \n",
      "societies (gelfand, bhawuk, nishii, & bechtold, 2004) may feel greater allegiance to their \n",
      "leader, as compared to individualist nationals (ramesh & gelfand, 2010). that is, they are \n",
      "more loyal to people (including leaders) than to faceless institutions. to generalize our \n",
      "chinese findings to other cultures, we recommend following ramesh’s (2007) example. \n",
      "specifically, she recruited matched occupational samples from different cultures to evaluate \n",
      "cross-cultural moderation. as an important feature of her approach, she measured individual \n",
      "differences in cultural values to assess whether moderating effects are consistent within and \n",
      "between countries.\n",
      "\n",
      "we also recommend examining transformational leadership at higher management \n",
      "levels, which may affect employees’ turnover differently, as compared to such leadership \n",
      "at lower levels of supervision. conceivably, firms with transformational leaders at the \n",
      "upper echelons may also experience lower overall workforce attrition. specifically, \n",
      "executives can make strategic choices or implement strategy in a manner that lessens the \n",
      "impact of potentially threatening organizational events (finkelstein, hambrick, & \n",
      "cannella, 2009). for example, when companies undergo considerable change, upper-\n",
      "echelon transformational leaders can position or communicate change in such a way that \n",
      "lower-level employees perceive it as less risky and threatening. in turn, both quit intentions \n",
      "and actual quits may be reduced.\n",
      "\n",
      "in closing, our findings add to the leadership literature suggesting the value of selecting \n",
      "and developing transformational leaders, including at lower management levels. rather than \n",
      "focus on oft-examined performance outcomes (cf. judge & piccolo, 2004), we demonstrated \n",
      "the potential value of transformational leadership in relation to turnover intentions directly, \n",
      "and actual turnover indirectly. we also found that such leadership can moderate relationships \n",
      "between quit intentions and actual turnover. thus, we prescribe transformational leadership \n",
      "at lower levels of supervision as a vital pull-to-stay force reinforcing job incumbency. as we \n",
      "have argued, transformational leaders inspire self-sacrificial efforts by followers on behalf \n",
      "of the larger collectivity and give greater meaning to their work lives, thereby sustaining \n",
      "\n",
      "\n",
      "\n",
      "1740   journal of management / september 2015\n",
      "\n",
      "their loyalty. in conclusion, our research demonstrated the direct role of transformational \n",
      "leadership in retaining followers, as well as showing how it can prevent followers who form \n",
      "quit intentions (arising from numerous potential reasons) from actually leaving.\n",
      "\n",
      "notes\n",
      "\n",
      "1. we thank an anonymous reviewer for this suggestion.\n",
      "2. we thank an anonymous reviewer for pointing out this issue to us.\n",
      "\n",
      "--**************************************-\n",
      "-**************************************--\n",
      "-**************************************--\n"
     ]
    }
   ],
   "source": [
    "# testing it works\n",
    "ref_doc = 20\n",
    "print(pdf_remove_step4[ref_doc])\n",
    "print('--**************************************-')\n",
    "print('-**************************************--')\n",
    "print('-**************************************--')\n",
    "# print(pdf_remove_step4[ref_doc])"
   ]
  },
  {
   "cell_type": "code",
   "execution_count": 20,
   "metadata": {},
   "outputs": [],
   "source": [
    "# remove journal title here?\n",
    "pdf_p = [re.sub('journal of management', '', t) for t in pdf_remove_step4]\n",
    "pdf_p = [re.sub('et al.', '', t) for t in pdf_p]\n",
    "pdf_p = [re.sub('e.g.', '', t) for t in pdf_p] \n",
    "pdf_p = [re.sub('e-mail:', '', t) for t in pdf_p] \n",
    "# CHECK ORDER OF OPERATIONS BELOW:\n",
    "#remove email address <-- IMPROVED, BUT E-MAIL SEEMS TO BE BROKEN UP, BUT STILL PRESENT IN DOCUMENTS AT TIMES         \n",
    "pdf_p = [re.sub(r'[\\w\\.\\-]+@[\\w\\.\\-]+\\.(?:com|net|org|live|edu)', \"\", t) for t in pdf_p]"
   ]
  },
  {
   "cell_type": "code",
   "execution_count": 22,
   "metadata": {},
   "outputs": [],
   "source": [
    "pdf_p = [re.sub( r'https?://[^\\s<>\"]+|www\\.[^\\s<>\"]+', \"\", t) for t in pdf_p]\n",
    "pdf_p = [re.sub(\"[\\S\\.\\-\\?\\!\\=]+\\.(net|com|org|info|edu|gov|uk|de|ca|jp|fr|au|us|ru|ch|it|nel|se|no|es|mil)(/[\\S\\.\\-\\?\\!\\=]*)?\\s?\", \" \", t) for t in pdf_p]"
   ]
  },
  {
   "cell_type": "code",
   "execution_count": 23,
   "metadata": {},
   "outputs": [
    {
     "data": {
      "text/plain": [
       "'\\n\\n\\n\\n\\n\\n\\n\\n\\n\\n\\n\\n\\n\\n\\n\\n\\n\\n\\n\\n\\n\\n\\n\\n\\n\\n\\n\\n\\n\\n\\n\\n\\n\\n\\n\\n\\n\\n\\n\\n\\n\\n\\n\\n\\n\\n\\n\\n\\n\\n\\n\\n\\na multilevel investigation of leadership and turnover behavior\\n\\n\\n1724\\n\\na multilevel investigation of leadership  \\nand turnover behavior\\n\\ndavid a. waldman\\narizona state university\\n\\nmin z. carter\\nsouthern illinois university\\n\\npeter w. hom\\narizona state university\\n\\nthis study extends the sparse research on the connection between leadership and follower turn-\\nover by investigating the effects of group-level transformational leadership on the withdrawal \\nprocess. through an examination of 375 chinese employees from 96 work groups, we used \\nhierarchical generalized linear modeling (hglm) analyses to test our proposed model. \\nfindings reveal that, even when we control for the effects of leader–member exchange and \\ncontingent reward leadership, transformational leadership predicts turnover through quit inten-\\ntions. in addition, our test of cross-level moderation reveals that transformational leadership \\ncan weaken the effect of quit intentions on turnover. thus, employees are less likely to carry out \\nquit intentions when they have transformational leaders.\\n\\nkeywords: employee turnover; transformational leadership; hierarchical generalized linear \\nmodeling\\n\\nacknowlents: this article was accepted under the editorship of deborah e. rupp. an earlier version of this \\narticle was presented at the 26th annual conference of the society for industrial organizational psychology, chicago, \\nillinois. we wish to thank ben galvin and suzanne peterson for their comments on an earlier draft of this article. we \\nalso thank kristopher preacher and zhen zhang for their advice regarding our analytic procedures.\\n\\ncorresponding author: david waldman, department of management, w. p. carey school of business, arizona \\nstate university, tempe, az, 85287, usa\\n\\n \\n\\n\\nvol. 41 no. 6, september 2015 1724–1744\\n\\ndoi: 10.1177/0149206312460679\\n© the author(s) 2012\\n\\nreprints and permissions: \\n \\n\\n\\n\\nwaldman  / leadership and turnover  1725\\n\\nthe loss of employees with vital skills or talents can incur sizeable personnel costs \\n(peterson & luthans, 2006) and imperil organizational effectiveness, such as decreased \\ncustomer service (shaw, duffy, johnson, & lockhart, 2005). indeed, a one standard deviation \\nincrease in turnover rates can depress financial performance by as much as 27% according to \\na recent estimate (park & shaw, 2011). although currently high unemployment rates are \\ndiscouraging employees from quitting, forward-looking companies nonetheless are preparing \\nfor the eventual pent-up turnover that will arise as the economy recovers (allen, bryant, & \\nvardaman, 2010). by contrast, u.s. multinationals struggle to retain host-country personnel, \\nwho increasingly predominate their workforces, especially in countries where talent shortages \\nare acute, such as china and india (hom, 2011; wessel, 2011). given that turnover was an \\nongoing concern during much of the 20th century and remains so at present, it is not surprising \\nthat a large body of research (exceeding 1,000 studies) has accumulated on this topic and will \\ncontinue to do so for the foreseeable future (griffeth, hom, & gaertner, 2000; holtom, \\nmitchell, lee, & eberly, 2008; maltarich, nyb & reilly, 2010).\\n\\nall the same, the voluminous inquiry into why employees quit has largely dealt with “push-\\nto-leave” forces, such as job dissatisfaction and negative workplace “shocks”—events \\nprompting thoughts of leaving (lee & mitchell, 1994)—or alternatively, “pull-to-leave” \\nforces, such as job alternatives (burton, holtom, sablynski, mitchell, & lee, 2010). reflecting \\nmarch and simon’s (1958) seminal perspective that turnover hinges on movement desirability \\nand ease, this preoccupation nevertheless neglects “pull-to-stay” forces that can induce staying. \\nto more fully understand organizational participation, or why members participate in as well \\nas withdraw from organizations (march & simon, 1958), contemporary scholars increasingly \\nfocus on the motives and psychology of staying that differ from those of leaving (hom, \\nmitchell, lee, & griffeth, 2012; mitchell & lee, 2001; steel & lounsbury, 2009). this \\nemng research reveals that pull-to-stay forces can explain unique variance in turnover \\nbeyond that of job satisfaction and job alternatives and can even counteract leaving forces \\n(burton , 2010; mitchell, holtom, lee, sablynski, & erez, 2001; ramesh & gelfand, \\n2010; smith, holtom, & mitchell, 2011).\\n\\naddressing the call to recognize leadership as a pull-to-stay force (harris, wheeler, & \\nkacmar, 2011; mitchell , 2001), we build on this emng thinking by examining how \\ntransformational leadership may affect the turnover process. despite the popular adage that \\n“people quit bosses, not jobs” (buckingham & coffman, 1999), turnover and embeddedness \\nscholars have paid surprisingly scant attention to leadership antecedents, relative to predictors \\nsuch as job attitudes and job characteristics (griffeth , 2000; holtom , 2008). indeed, \\nprevailing turnover theories either omit leadership causes (hulin, roznowski, & hachiya, \\n1985; lee & mitchell, 1994; mobley, 1977; price & mueller, 1981; rusbult & farrell, 1983; \\nsteers & mowday, 1981) or relegate them to distal antecedents (mobley, griffeth, hand, & \\nmeglino, 1979; steers & mowday, 1981), reflecting march and simon’s (1958) enduring \\nlegacy. yet immediate superiors not only are proximal “environmental” cues, but also are \\nchiefly responsible for working conditions highlighted in many theories that impel quit \\nbehavior, such as role conflict and low pay (hom & griffeth, 1995). indeed, when asked, \\nleavers often cite unfair or abusive supervision as a prime reason for leaving (bhattacharya, \\n2008; campion, 1991; holtom, mitchell, lee, & inderrieden, 2005; tepper, 2000).\\n\\n\\n\\n1726    / september 2015\\n\\nmoreover, available turnover scholarship on leadership effects has shown how subordinates’ \\ndyadic relationships with superiors may induce them to stay, although leadership theorists \\nhave long conceived a wider array of potential pull-to-stay forces, such as idealized influence \\nand inspiration (avey, hughes, norman, & luthans, 2008; bass, 1985). by comparison, most \\nstudies have centered narrowly on how leader–member exchange (lmx), attitudes toward \\nsupervisors, or perceived supervisory support sustain loyalty (dulebohn, bommer, liden, \\nbroucer, & ferris, 2012; griffeth , 2000; harris , 2011; harris, kacmar, & witt, \\n2005; holtom , 2008; hom, 2011; maertz & griffeth, 2004; vandenbe, bentein, & \\nstinglhamber, 2004). furthermore, turnover researchers have primarily conceptualized and \\nmeasured leadership influences on leaving at individual levels of analysis, neglecting \\npotential unit-level leadership effects (bass & riggio, 2006; judge & piccolo, 2004; lowe, \\nkroeck, & sivasubramaniam, 1996).\\n\\nmoving beyond these limitations, our investigation contributes to both turnover and \\nleadership literatures in the following ways. first, we ascertain whether unit-level \\nleadership antecedents are related to turnover intentions and subsequent turnover behavior. \\nimproving on prior attrition tests on dyadic leader–follower relationships (dulebohn , \\n2012; griffeth , 2000), we examine whether unit-level transformational leadership \\npredicts follower actual turnover via quit intentions, while controlling for effects of lmx, \\na prime embodiment of dyadic leadership influences (ballinger, lehman, & schoorman, \\n2010; harris , 2011). in so doing, we extend transformational leadership research, \\nwhich has dealt predominantly with how transformational leadership drives follower \\nperformance per se (, judge & piccolo, 2004). ideally, effective organizations (and \\nleaders) should induce individuals to both remain employed with the firm and contribute to \\nits success (march & simon, 1958).\\n\\nsecond, we demonstrate how leaders may disrupt the translation of followers’ quit \\nintentions into actual turnover behavior. recent research documents that pull-to-stay \\nforces, such as job embeddedness, not only reduce turnover but also prevent “shocks” \\nfrom evolving into quitting behavior (burton , 2010; trevor & nyb 2008). shocks \\nare critical events, such as pregnancy or disruptive organizational change, that prompt \\ndeliberations about leaving, according to the unfolding model (lee & mitchell, 1994). \\nacross multiple samples and studies, accumulated evidence reveals that shocks precipitate \\nturnover more than does dissatisfaction, typically accounting for more than 60% of all \\nquitting behavior (weller, holtom, matiaske, & mellewigt, 2009). while transformational \\nleadership behavior cannot block all shocks from occurring, many of which are beyond \\nleaders’ control (, spousal relocations; lee, mitchell, wise, & fireman, 1996), \\nleadership actions may still moderate how quit intentions affect actual subsequent \\nturnover. our study thus extends the scant inquiry into factors moderating the imperfect \\nrelationship between quit intentions and turnover (allen, weeks, & moffitt, 2006) by \\nconsidering leadership as a moderator. figure 1 displays the model guiding our research, \\nportraying transformational leadership as a unit-level determinant associated with actual \\nturnover via quit intentions. furthermore, this model depicts interactive effects, in which \\ntransformational leadership moderates the relationship between quit intentions and \\nturnover.\\n\\n\\n\\nwaldman  / leadership and turnover  1727\\n\\ntransformational leadership as a unit-level leadership antecedent\\n\\nmitchell  (2001: 1116) recognized that supervisors represent a vital mechanism that \\ncan potentially deter followers from forming quit intentions or acting on those intentions. \\nthey asserted that “having a great boss may be hard to give up,” although the proliferating \\nwork on job embeddedness has neglected leadership influences (felps, mitchell, hekman, \\nlee, holtom, & harman, 2009; holtom, burton, & crossley, 2012; jiang, liu, mckay, lee, \\n& mitchell, 2012). remarkably, the capacity of transformational leadership to reduce \\nturnover has long been overlooked, despite its well-established potent effects on individual \\nand group performance (judge & piccolo, 2004; lowe , 1996). transformational leaders \\narouseater follower motivation by displaying individualized consideration toward \\nfollowers’ developmental needs, eliciting creative ideas for problem-solving through \\nintellectual stimulation and inspiring followers (by communicating compelling visions) to \\nput the needs of theater collective ahead of their own (bass, avolio, jung, & berson, \\n2003). with that said, the nature of the relationship between transformational leadership and \\nturnover is yet to be described theoretically and tested empirically.\\n\\nspecifically, transformational leadership may embed followers via greater job fit and \\nlinks (mitchell & lee, 2001) and induce relational identification (sluss & ashforth, 2008). \\nfor example, transformational leadership theory (bass, 1985; bass & avolio, 1994) posits \\nthat through idealized influence, followers identify with leaders’ values and goals. greater \\nvalue congruency between followers and leaders promote person–job fit, and thus staying \\nbehavior (mitchell & lee, 2001). moreover, transformational leaders help forge stronger \\nlinks to the organization by expressing individualized consideration toward followers, who \\nthen feel more trust and loyalty to leaders. quite likely, transformational leaders uniformly \\nshow individualized consideration across members of an entire collective. by way of \\nattributed charisma, followers also develop higher admiration and trust for leaders (judge & \\npiccolo, 2004), forming stronger relational identification (sluss & ashforth, 2007).\\n\\nfigure 1\\nproposed model\\n\\n\\n\\n1728    / september 2015\\n\\nsuch relational identification can, in turn, generalize to organizational identification since \\nfollowers are likely to view transformational leaders as corporate representatives (sluss & \\nashforth, 2008). specifically, these leaders encourage entire collectives of individuals to \\ninternalize and pursue corporate objectives, direction, and vision (kozlowski & ilgen, 2006). \\nthey inspire followers to subordinate personal goals by instilling a collective sense of mission \\nor purpose with which they can identify, and thus adopt group or organizational goals as their \\nown. this inspiration is strhened by leaders’ espousal of attractive visions that appeal to \\nfollowers’ values (shamir, house, & arthur, 1993). greater person–organizational fit in terms \\nof goals and values should, in turn, reinforce staying (kristof-brown, zimmerman, & \\njohnson, 2005; mitchell & lee, 2001).\\n\\nin support of this notion, waldman, siegel, and javidan (2006) showed how transformational \\nleaders promote firms’ corporate social responsibility, which enhances firms’ reputations in \\nthe eyes of followers and appeal to followers’ values, thereby promoting organizational \\nidentification (carmeli, gilat, & waldman, 2007). given this leader-to-firm identity \\ngeneralization (sluss & ashforth, 2008), we thus suggest that transformational leaders may \\ninduce their collectives of followers to have strong personal links to both them and the \\norganizations that they represent. accordingly, followers should be less likely to form quit \\nintentions and subsequently ge in quit behavior. consequently, we suggest,\\n\\nhypothesis 1: transformational leadership will predict voluntary turnover via quit intentions.\\n\\ntransformational leadership as a moderator of intention–turnover relationships\\n\\ndespite pull forces to stay that transformational leadership exerts, we note that other work \\nand nonwork factors may concurrently act to increase turnover intentions and subsequent \\nturnover behavior. that is, regardless of relational attachment to leaders or collective \\nidentification that transformational leaders nder, common well-documented push-and-\\npull forces to leave, such as job dissatisfaction or job alternatives (march & simon, 1958), \\ncan still trigger turnover intentions and thus actual turnover (griffeth , 2000; maltarich \\n, 2010; mitchell & lee, 2001). nevertheless, quit intentions do not inevitably translate \\ninto higher quit behavior. while deemed by virtually all turnover models as the most proximal \\nantecedent of leaving (hom & griffeth, 1995), quit intentions typically account for only 14% \\nof the variance in actual turnover behavior (griffeth , 2000). to explain such modest \\nintention–behavior congruence, some investigators have documented how unemployment \\n(hom, caranikis-walker, prussia, & griffeth, 1992) and personality traits, such as risk \\naversion (allen , 2006), can dissuade prospective leavers from enacting their intentions. \\nsuch moderator research remains sparse and, to date, centered on conditions outside of \\nemployers’ control, or unavoidable turnover (barrick & zimmerman, 2005). to deepen our \\ninsight into why quit intentions do not necessarily culminate in actual quits, we thus explore \\nhow transformational leadership can moderate the intention–turnover relationship.\\n\\ntoward this end, we use a multilevel approach to examine whether unit-focused trans-\\nformational leadership can deter individual followers who form quit intentions (irrespective of \\nhow they originated) from exiting. that is, these leadership processes may buffer against push \\n\\n\\n\\nwaldman  / leadership and turnover  1729\\n\\nor pull forces for leaving that initiate cognitions about leaving. wang and walumbwa (2007) \\nreported that strong transformational leadership can weaken the effects of work–family \\nconflict, which can drive work withdrawal behaviors by inducing job dissatisfaction (hom & \\nkinicki, 2001). albeit suggestive, their findings illustrate the potential for leaders to ameliorate \\nthe influence of dissatisfying or “shocking” work conditions on actual turnover behavior.\\n\\nto clarify how this process may unfold, as already noted, followers often encounter various \\nworkplace events or conditions that can activate turnover intentions, potentially leading to \\nsubsequent turnover behavior. turnover research reveals that negative job characteristics \\n(, routine job tasks), unfair reward systems, employment alternatives, and workplace \\nchange can trigger deliberations about leaving (burton , 2010; holtom , 2005). \\nindependent of the pull-to-stay effects of leadership, such push-to-leave forces can prompt \\nfollower quit intentions. to illustrate, nishii and mayer (2009) found that age diversity \\nwithin departments still increased group turnover, although the average lmx within \\ndepartments lessened turnover.\\n\\ntransformational leaders might reframe how followers interpret or make sense of push-\\nto-leave forces. through inspirational appeals, transformational leaders might talk \\noptimistically and confidently about the unit’s future, despite the disaffection and turnover \\nintentions that these forces can precipitate. in addition, strong attachment to both the leader \\nand firm that transformational leadership foments could weaken the effects of quit intentions \\non actual quits. thus, even if quit intentions arise due to push-to-leave forces, transformational \\nleaders may assuage employees’ concerns and persuade them to give up their plans to exit. in \\nsupport of this notion, collective sense-making studies have suggested that positive cues from \\nthe social environment can promote loyalty. specifically, employees apparently “readily infer \\ngood things are happening in the organization” (liu, mitchell, lee, holtom, & hinkin, 2012) \\nwhen observing or conversing with coworkers who express favorable views about the job or \\nparticipate in, rather than withdraw from, the organization (felps , 2009).\\n\\nin sum, the aforementioned discussion explains how push-to-leave forces can nder \\nquit intentions among followers, even though they may have transformational leaders. our \\ngoal is not to catalogue the myriad of causes that can precipitate turnover cognitions. rather, \\nwe suggest that transformational leadership can lessen the chances that quit intentions will \\nprogress into actual leaving, regardless of how such intentions em. we contend that unit-\\nlevel transformational leadership may reduce the prospects of turnover actually materializing \\nas a result of initial turnover intentions. taken together, our arguments suggest\\n\\nhypothesis 2: transformational leadership will attenuate the relationship between quit intentions \\nand voluntary turnover.\\n\\nwe extend prior research pertaining to leadership and turnover behavior by demonstrating \\nhow group-level transformational leadership is related to both quit intentions and behavior, \\neven after controlling group-level contingent reward leadership and lmx. thus, the \\naugmentation effect of transformational leadership on follower performance (cf. waldman \\n, 1990) generalizes to follower retention. we further add to both turnover and \\ntransformational leadership literatures by showing that turnover intentions mediate thoup-\\nlevel effects of transformational leadership on actual individual-level turnover.\\n\\nour investigation confirms mitchell and colles’ (2001) long-standing speculation \\nthat leadership can be an important link that embeds employees. but beyond the achieving \\nof high-quality relationships with followers, transformational leadership may reinforce \\nworkforce retention via other processes. this finding is important because ballinger  \\n(2010) recently established that followers having high lmx relationships may actually quit \\nif their leaders leave. conceivably, even if transformational leaders were to exit the \\norganization (or move to another unit), their departure may not necessarily prompt followers \\nto quit, given that such leaders may promote intense on-the-job ties among followers (cf. \\ncarmeli, ben-hador, waldman, & rupp, 2009), identification with the collective mission, \\nand optimistic expectations about their future prospects in the organization (liu , 2012). \\nat this point, we concede that our explanation is speculative but is nevertheless consonant \\nwith our evidence that transformational leadership enhances loyalty, even when lmx is \\ncontrolled.\\n\\nwe further demonstrated a cross-level moderating effect on the part of transformational \\nleadership that attenuated the relationship between followers’ quit intentions and actual \\nturnover. such moderation suggests that prospective leavers are less liable to quit when \\nsupervisors display transformational leadership toward their unit. despite the direct loyalty-\\nsustaining effect of supervisory behavior (i.e., transformational leadership), we recognize \\nthat followers are still vulnerable to other push and pull forces for leaving. nonetheless, we \\nfound that transformational leaders can lessen the likelihood that such push- and pull-to-\\nleave factors will actually translate into higher turnover. we speculate that enhanced \\ncommitment to the corporate mission and goals, bonding social capital (carmeli , \\n2009), and positive social cues (liu , 2012) that are fostered by transformational \\nleadership may discourage prospective leavers from following through on initial intentions \\nto quit that might arise from push- and pull-to-leave factors.\\n\\nin total, our findings support emng research that embedding forces can attenuate the \\nloyalty-dissipating effects of events that prompt thoughts of leaving (burton , 2010; \\nmitchell & lee, 2001). mitchell  (2001) proposed job embeddedness as an overarching \\nconstruct that captures various pull-to-stay forces, although omitting or downplaying \\nleadership variables. our demonstration that transformational leadership moderates the \\nrelationship among quit intentions, the immediate consequence of shocks or job dissatisfaction, \\nand actual quitting behavior extends prior evidence that job embeddedness can prevent \\nshocks from ndering turnover intentions and behaviors (mitchell & lee, 2001).\\n\\nmoreover, we advance the sparse research on moderators of quit intention–behavior \\nrelationships, which hitherto examined joblessness rates or personality traits (allen , \\n\\n\\n\\n1738    / september 2015\\n\\n2006; hom , 1992). prevailing theoretical views simplistically presume that intentions \\nare the most proximate determinant of turnover (mobley, 1977; mobley , 1979; price & \\nmueller, 1981, 1986; rusbult & farrell, 1983). consequently, these perspectives largely \\nneglected or underspecified factors that can disrupt intention-to-act transmission. to illustrate, \\nmobley and colles (1979) underscored methodological moderators, such as measurement \\ncorrespondence and time lags between intention and behavioral measures. by identifying a \\nnew substantive moderator (i.e., transformational leadership), we thus fill a theoretical void \\nin deciphering why some prospective leavers ultimately stay, as well as identify a means by \\nwhich organizations can offset push and pull forces for leaving, including those that they \\nmay not easily control (barrick & zimmerman, 2005). indeed, our cross-level moderating \\neffect due to transformational leadership is remarkably strong compared to typical moderator \\neffect sizes in field research (, aguinis, beaty, boik, & pierce, 2005).\\n\\nstrhs, limitations, and future research\\n\\nour research has several strhs. specifically, we used survey methods to assess \\nleadership and turnover intentions, while incorporating an objective index of turnover obtained \\n9 months after survey completion. we also extend past work on leadership and turnover by \\ndemonstrating group-level leadership effects. although both leadership and quit intentions \\nwere based on ratings from subordinates, and single-source bias is not fully controlled with a \\nhierarchical generalized linear modeling (hglm) approach, we analyzed transformational \\nleadership at thoup level and quit intentions at the individual level. moreover, single-\\nsource or method bias is less problematic with moderator analyses. indeed, based on prior \\nwork (evans, 1985; siemsen, roth, & oliveira, 2010), podsakoff, mackenzie, and podsakoff \\n(2012: 564-565) recently concluded that such bias “cannot inflate (but does deflate) quadratic \\nor interaction effects. consequently, if a study is designed to test hypotheses about quadratic \\nor interaction effects, . . . then method bias would not be able to account for any statistically \\nsignificant effects observed.”\\n\\nwith that said, we acknowl shortcomings that additional research might address. \\nfirst, we did not directly assess push- and pull-to-leave forces that could induce turnover \\nintentions. future research might actually model these forces (i.e., both work and nonwork \\nphenomena) to pinpoint the effects that leadership processes might best counteract. for \\nexample, subsequent research might assess work shocks, such as job stress or pay inequity, \\nor nonwork shocks, such as spousal relocations or unsolicited job offers (holtom , \\n2008; lee , 1996).\\n\\nsecond, the work of preacher, rucker, and hayes (2007), although focused at a single \\nlevel of analysis, would imply a potential curvilinear effect for the independent variable in \\na mediated model (such as ours), whereby it also moderates its indirect effect on a dependent \\nvariable. applied to the current research, a curvilinear, indirect relationship between \\ntransformational leadership and turnover through quit intentions may exist. specifically, at \\nhigh levels of transformational leadership, its negative effect on turnover (through quit \\nintentions) may be weaker, as compared to lower levels of transformational leadership, \\nwhere such effects may be stronger. conceivably, there could be diminishing returns for \\n\\n\\n\\nwaldman  / leadership and turnover  1739\\n\\ntransformational leadership as the various processes (, collective identification, bonding \\nsocial capital) that it induces reach their peak. alternatively, transformational leaders may \\nincrease the job performance of followers via expanded developmental opportunities \\n(intellectual stimulation) or mentoring (individualized consideration). as followers develop \\ninto high performers and accumulate more ability to make job or career changes (trevor, \\n2001), they become more attractive to other employers and thus may voluntarily leave \\n(harris , 2005; sturman, shao, & katz, 2012). in sum, following harris ’s (2005) \\nexploration into curvilinear lmx effects, we encourage additional research into potential \\ncurvilinear effects of transformational leadership on turnover.2\\n\\nthird, although our theory suggested additional variables (, identification processes) \\nas potentially mediating relationships between transformational leadership and quit \\nintentions, we did not measure them directly. to more precisely support our theory, future \\nresearch might model and assess mediating mechanisms between transformational leadership \\nand quit intentions. along the lines of prior embeddedness research (, burton , 2010; \\nmitchell & lee, 2001), further inquiry might also directly assess job embeddedness and \\ncontrast its relative moderating effects against that of leadership as a pull-to-stay force.\\n\\nfourth, given that social ties and obligations govern their actions, citizens of collectivist \\nsocieties (gelfand, bhawuk, nishii, & bechtold, 2004) may feel greater allegiance to their \\nleader, as compared to individualist nationals (ramesh & gelfand, 2010). that is, they are \\nmore loyal to people (including leaders) than to faceless institutions. to generalize our \\nchinese findings to other cultures, we recommend following ramesh’s (2007) example. \\nspecifically, she recruited matched occupational samples from different cultures to evaluate \\ncross-cultural moderation. as an important feature of her approach, she measured individual \\ndifferences in cultural values to assess whether moderating effects are consistent within and \\nbetween countries.\\n\\nwe also recommend examining transformational leadership at higher management \\nlevels, which may affect employees’ turnover differently, as compared to such leadership \\nat lower levels of supervision. conceivably, firms with transformational leaders at the \\nupper echelons may also experience lower overall workforce attrition. specifically, \\nexecutives can make strategic choices or implement strategy in a manner that lessens the \\nimpact of potentially threatening organizational events (finkelstein, hambrick, & \\ncannella, 2009). for example, when companies und considerable change, upper-\\nechelon transformational leaders can position or communicate change in such a way that \\nlower-level employees perceive it as less risky and threatening. in turn, both quit intentions \\nand actual quits may be reduced.\\n\\nin closing, our findings add to the leadership literature suggesting the value of selecting \\nand developing transformational leaders, including at lower management levels. rather than \\nfocus on oft-examined performance outcomes (cf. judge & piccolo, 2004), we demonstrated \\nthe potential value of transformational leadership in relation to turnover intentions directly, \\nand actual turnover indirectly. we also found that such leadership can moderate relationships \\nbetween quit intentions and actual turnover. thus, we prescribe transformational leadership \\nat lower levels of supervision as a vital pull-to-stay force reinforcing job incumbency. as we \\nhave argued, transformational leaders inspire self-sacrificial efforts by followers on behalf \\nof the larger collectivity and giveater meaning to their work lives, thereby sustaining \\n\\n\\n\\n1740    / september 2015\\n\\ntheir loyalty. in conclusion, our research demonstrated the direct role of transformational \\nleadership in retaining followers, as well as showing how it can prevent followers who form \\nquit intentions (arising from numerous potential reasons) from actually leaving.\\n\\nnotes\\n\\n1. we thank an anonymous reviewer for this suggestion.\\n2. we thank an anonymous reviewer for pointing out this issue to us.\\n'"
      ]
     },
     "execution_count": 23,
     "metadata": {},
     "output_type": "execute_result"
    }
   ],
   "source": [
    "pdf_p[20]"
   ]
  },
  {
   "cell_type": "code",
   "execution_count": 24,
   "metadata": {},
   "outputs": [],
   "source": [
    "#remove hyphon only if it is at the end of the line.\n",
    "#pdf_p = [re.sub(r'(\\W[a-z]+)-\\n(\\W[a-z]+)', r'\\1\\2', t) for t in pdf_p]\n",
    "pdf_p = [re.sub(r'-\\n', '', t) for t in pdf_p]"
   ]
  },
  {
   "cell_type": "code",
   "execution_count": 25,
   "metadata": {},
   "outputs": [],
   "source": [
    "#remove text within ()\n",
    "pdf_p = [re.sub(r\"\\([^)]*\\)\", \"\", t) for t in pdf_p]\n",
    "# remove text with [] eg citation\n",
    "pdf_p = [re.sub(r\"\\[[^)]*\\]\", \"\", t) for t in pdf_p]\n",
    "#Remove numbers\n",
    "pdf_p = [re.sub('[0-9]+', '', f) for f in pdf_p]\n"
   ]
  },
  {
   "cell_type": "code",
   "execution_count": 26,
   "metadata": {},
   "outputs": [],
   "source": [
    "pdf_p = [re.sub('[\\n\\r]+', ' ', f) for f in pdf_p] # remove newline and linebreak characters, replace with space\n",
    "pdf_p = [re.sub('[@/%#$,=\\+:’“”]', ' ', f) for f in pdf_p] # remove stray non-word characters"
   ]
  },
  {
   "cell_type": "code",
   "execution_count": 27,
   "metadata": {},
   "outputs": [],
   "source": [
    "#pdf_p = [re.sub(r\"\\s\\([A-Z][a-z]+,\\s[A-Z][a-z]?\\.[^\\)]*,\\s\\d{4}\\)\", \"\", f) for f in pdf_p] # is this supposed to filter out citations?\n",
    "\n",
    "# save all periods, exclamation marks and question marks, but get rid of unnecessary characters\n",
    "pdf_p = [re.sub('[\\.!?]+ ', 'XYZXYZ', t) for t in pdf_p]\n",
    "pdf_p = [re.sub('-', 'ZYXXYZ', t) for t in pdf_p]\n",
    "pdf_p = [re.sub('[\\W_]+', ' ', f) for f in pdf_p]\n",
    "pdf_p = [re.sub('XYZXYZ', '. ', f) for f in pdf_p]\n",
    "pdf_p = [re.sub('ZYXXYZ', '-', f) for f in pdf_p]\n",
    "#pdf_p[0]\n",
    "\n",
    "#Remove placeholder x repetitions\n",
    "pdf_p = [re.sub(' x+ ', '', f) for f in pdf_p]\n",
    "\n",
    "# remove single characters\n",
    "pdf_p = [re.sub(' [a-z] ' ,  ' ', f) for f in pdf_p]\n",
    "pdf_p = [re.sub(' [a-z]\\.', '.', f) for f in pdf_p]\n",
    "pdf_p = [re.sub(' \\.', '.', f) for f in pdf_p]"
   ]
  },
  {
   "cell_type": "code",
   "execution_count": 29,
   "metadata": {},
   "outputs": [
    {
     "name": "stdout",
     "output_type": "stream",
     "text": [
      " multilevel investigation of leadership and turnover behavior multilevel investigation of leadership and turnover behavior david. waldman arizona state university min. carter southern illinois university peter. hom arizona state university this study extends the sparse research on the connection between leadership and follower turnover by investigating the effects of group-level transformational leadership on the withdrawal process. through an examination of chinese employees from work groups we used hierarchical generalized linear modeling analyses to test our proposed model.  findings reveal that even when we control for the effects of leader member exchange and contingent reward leadership transformational leadership predicts turnover through quit intentions. in addition our test of cross-level moderation reveals that transformational leadership can weaken the effect of quit intentions on turnover. thus employees are less likely to carry out quit intentions when they have transformational leaders. keywords employee turnover transformational leadership hierarchical generalized linear modeling acknowlents this article was accepted under the editorship of deborah. rupp. an earlier version of this article was presented at the th annual conference of the society for industrial organizational psychology chicago illinois. we wish to thank ben galvin and suzanne peterson for their comments on an earlier draft of this article. we also thank kristopher preacher and zhen zhang for their advice regarding our analytic procedures. corresponding author david waldman department of management.. carey school of business arizona state university tempe az usa vol.  no.  september doi.  the author reprints and permissions waldman leadership and turnover the loss of employees with vital skills or talents can incur sizeable personnel costs and imperil organizational effectiveness such as decreased customer service. indeed one standard deviation increase in turnover rates can depress financial performance by as much as according to recent estimate. although currently high unemployment rates are discouraging employees from quitting forward-looking companies nonetheless are preparing for the eventual pent-up turnover that will arise as the economy recovers. by contrast. multinationals struggle to retain host-country personnel who increasingly predominate their workforces especially in countries where talent shortages are acute such as china and india. given that turnover was an ongoing concern during much of the th century and remains so at present it is not surprising that large body of research has accumulated on this topic and will continue to do so for the foreseeable future. all the same the voluminous inquiry into why employees quit has largely dealt with pushto-leave forces such as job dissatisfaction and negative workplace shocks events prompting thoughts of leaving or alternatively pull-to-leave forces such as job alternatives. reflecting march and simon seminal perspective that turnover hinges on movement desirability and ease this preoccupation nevertheless neglects pull-to-stay forces that can induce staying.  to more fully understand organizational participation or why members participate in as well as withdraw from organizations contemporary scholars increasingly focus on the motives and psychology of staying that differ from those of leaving. this emng research reveals that pull-to-stay forces can explain unique variance in turnover beyond that of job satisfaction and job alternatives and can even counteract leaving forces. addressing the call to recognize leadership as pull-to-stay force we build on this emng thinking by examining how transformational leadership may affect the turnover process. despite the popular adage that people quit bosses not jobs turnover and embeddedness scholars have paid surprisingly scant attention to leadership antecedents relative to predictors such as job attitudes and job characteristics. indeed prevailing turnover theories either omit leadership causes or relegate them to distal antecedents reflecting march and simon enduring legacy. yet immediate superiors not only are proximal environmental cues but also are chiefly responsible for working conditions highlighted in many theories that impel quit behavior such as role conflict and low pay. indeed when asked leavers often cite unfair or abusive supervision as prime reason for leaving.  september moreover available turnover scholarship on leadership effects has shown how subordinates dyadic relationships with superiors may induce them to stay although leadership theorists have long conceived wider array of potential pull-to-stay forces such as idealized influence and inspiration. by comparison most studies have centered narrowly on how leader member exchange attitudes toward supervisors or perceived supervisory support sustain loyalty. furthermore turnover researchers have primarily conceptualized and measured leadership influences on leaving at individual levels of analysis neglecting potential unit-level leadership effects. moving beyond these limitations our investigation contributes to both turnover and leadership literatures in the following ways. first we ascertain whether unit-level leadership antecedents are related to turnover intentions and subsequent turnover behavior.  improving on prior attrition tests on dyadic leader follower relationships we examine whether unit-level transformational leadership predicts follower actual turnover via quit intentions while controlling for effects of lmx prime embodiment of dyadic leadership influences. in so doing we extend transformational leadership research which has dealt predominantly with how transformational leadership drives follower performance per se. ideally effective organizations should induce individuals to both remain employed with the firm and contribute to its success. second we demonstrate how leaders may disrupt the translation of followers quit intentions into actual turnover behavior. recent research documents that pull-to-stay forces such as job embeddedness not only reduce turnover but also prevent shocks from evolving into quitting behavior. shocks are critical events such as pregnancy or disruptive organizational change that prompt deliberations about leaving according to the unfolding model.  across multiple samples and studies accumulated evidence reveals that shocks precipitate turnover more than does dissatisfaction typically accounting for more than of all quitting behavior. while transformational leadership behavior cannot block all shocks from occurring many of which are beyond leaders control leadership actions may still moderate how quit intentions affect actual subsequent turnover. our study thus extends the scant inquiry into factors moderating the imperfect relationship between quit intentions and turnover by considering leadership as moderator. figure displays the model guiding our research portraying transformational leadership as unit-level determinant associated with actual turnover via quit intentions. furthermore this model depicts interactive effects in which transformational leadership moderates the relationship between quit intentions and turnover. waldman leadership and turnover transformational leadership as unit-level leadership antecedent mitchell recognized that supervisors represent vital mechanism that can potentially deter followers from forming quit intentions or acting on those intentions.  they asserted that having great boss may be hard to give up although the proliferating work on job embeddedness has neglected leadership influences. remarkably the capacity of transformational leadership to reduce turnover has long been overlooked despite its well-established potent effects on individual and group performance. transformational leaders arouseater follower motivation by displaying individualized consideration toward followers developmental needs eliciting creative ideas for problem-solving through intellectual stimulation and inspiring followers to put the needs of theater collective ahead of their own. with that said the nature of the relationship between transformational leadership and turnover is yet to be described theoretically and tested empirically. specifically transformational leadership may embed followers via greater job fit and links and induce relational identification.  for example transformational leadership theory posits that through idealized influence followers identify with leaders values and goals. greater value congruency between followers and leaders promote person job fit and thus staying behavior. moreover transformational leaders help forge stronger links to the organization by expressing individualized consideration toward followers who then feel more trust and loyalty to leaders. quite likely transformational leaders uniformly show individualized consideration across members of an entire collective. by way of attributed charisma followers also develop higher admiration and trust for leaders forming stronger relational identification. figure proposed model september such relational identification can in turn generalize to organizational identification since followers are likely to view transformational leaders as corporate representatives. specifically these leaders encourage entire collectives of individuals to internalize and pursue corporate objectives direction and vision.  they inspire followers to subordinate personal goals by instilling collective sense of mission or purpose with which they can identify and thus adopt group or organizational goals as their own. this inspiration is strhened by leaders espousal of attractive visions that appeal to followers values. greater person organizational fit in terms of goals and values should in turn reinforce staying. in support of this notion waldman siegel and javidan showed how transformational leaders promote firms corporate social responsibility which enhances firms reputations in the eyes of followers and appeal to followers values thereby promoting organizational identification. given this leader-to-firm identity generalization we thus suggest that transformational leaders may induce their collectives of followers to have strong personal links to both them and the organizations that they represent. accordingly followers should be less likely to form quit intentions and subsequently ge in quit behavior. consequently we suggest hypothesis transformational leadership will predict voluntary turnover via quit intentions. transformational leadership as moderator of intention turnover relationships despite pull forces to stay that transformational leadership exerts we note that other work and nonwork factors may concurrently act to increase turnover intentions and subsequent turnover behavior. that is regardless of relational attachment to leaders or collective identification that transformational leaders nder common well-documented push-andpull forces to leave such as job dissatisfaction or job alternatives can still trigger turnover intentions and thus actual turnover. nevertheless quit intentions do not inevitably translate into higher quit behavior. while deemed by virtually all turnover models as the most proximal antecedent of leaving quit intentions typically account for only of the variance in actual turnover behavior. to explain such modest intention behavior congruence some investigators have documented how unemployment and personality traits such as risk aversion can dissuade prospective leavers from enacting their intentions.  such moderator research remains sparse and to date centered on conditions outside of employers control or unavoidable turnover. to deepen our insight into why quit intentions do not necessarily culminate in actual quits we thus explore how transformational leadership can moderate the intention turnover relationship. toward this end we use multilevel approach to examine whether unit-focused transformational leadership can deter individual followers who form quit intentions from exiting. that is these leadership processes may buffer against push waldman leadership and turnover or pull forces for leaving that initiate cognitions about leaving. wang and walumbwa reported that strong transformational leadership can weaken the effects of work family conflict which can drive work withdrawal behaviors by inducing job dissatisfaction. albeit suggestive their findings illustrate the potential for leaders to ameliorate the influence of dissatisfying or shocking work conditions on actual turnover behavior. to clarify how this process may unfold as already noted followers often encounter various workplace events or conditions that can activate turnover intentions potentially leading to subsequent turnover behavior. turnover research reveals that negative job characteristics unfair reward systems employment alternatives and workplace change can trigger deliberations about leaving.  independent of the pull-to-stay effects of leadership such push-to-leave forces can prompt follower quit intentions. to illustrate nishii and mayer found that age diversity within departments still increased group turnover although the average lmx within departments lessened turnover. transformational leaders might reframe how followers interpret or make sense of pushto-leave forces. through inspirational appeals transformational leaders might talk optimistically and confidently about the unit future despite the disaffection and turnover intentions that these forces can precipitate. in addition strong attachment to both the leader and firm that transformational leadership foments could weaken the effects of quit intentions on actual quits. thus even if quit intentions arise due to push-to-leave forces transformational leaders may assuage employees concerns and persuade them to give up their plans to exit. in support of this notion collective sense-making studies have suggested that positive cues from the social environment can promote loyalty. specifically employees apparently readily infer good things are happening in the organization when observing or conversing with coworkers who express favorable views about the job or participate in rather than withdraw from the organization. in sum the aforementioned discussion explains how push-to-leave forces can nder quit intentions among followers even though they may have transformational leaders. our goal is not to catalogue the myriad of causes that can precipitate turnover cognitions. rather we suggest that transformational leadership can lessen the chances that quit intentions will progress into actual leaving regardless of how such intentions em. we contend that unitlevel transformational leadership may reduce the prospects of turnover actually materializing as result of initial turnover intentions. taken together our arguments suggest hypothesis transformational leadership will attenuate the relationship between quit intentions and voluntary turnover. we extend prior research pertaining to leadership and turnover behavior by demonstrating how group-level transformational leadership is related to both quit intentions and behavior even after controlling group-level contingent reward leadership and lmx. thus the augmentation effect of transformational leadership on follower performance generalizes to follower retention. we further add to both turnover and transformational leadership literatures by showing that turnover intentions mediate thouplevel effects of transformational leadership on actual individual-level turnover. our investigation confirms mitchell and colles long-standing speculation that leadership can be an important link that embeds employees. but beyond the achieving of high-quality relationships with followers transformational leadership may reinforce workforce retention via other processes. this finding is important because ballinger recently established that followers having high lmx relationships may actually quit if their leaders leave. conceivably even if transformational leaders were to exit the organization their departure may not necessarily prompt followers to quit given that such leaders may promote intense on-the-job ties among followers identification with the collective mission and optimistic expectations about their future prospects in the organization.  at this point we concede that our explanation is speculative but is nevertheless consonant with our evidence that transformational leadership enhances loyalty even when lmx is controlled. we further demonstrated cross-level moderating effect on the part of transformational leadership that attenuated the relationship between followers quit intentions and actual turnover. such moderation suggests that prospective leavers are less liable to quit when supervisors display transformational leadership toward their unit. despite the direct loyaltysustaining effect of supervisory behavior we recognize that followers are still vulnerable to other push and pull forces for leaving. nonetheless we found that transformational leaders can lessen the likelihood that such push- and pull-toleave factors will actually translate into higher turnover. we speculate that enhanced commitment to the corporate mission and goals bonding social capital and positive social cues that are fostered by transformational leadership may discourage prospective leavers from following through on initial intentions to quit that might arise from push- and pull-to-leave factors. in total our findings support emng research that embedding forces can attenuate the loyalty-dissipating effects of events that prompt thoughts of leaving. mitchell proposed job embeddedness as an overarching construct that captures various pull-to-stay forces although omitting or downplaying leadership variables. our demonstration that transformational leadership moderates the relationship among quit intentions the immediate consequence of shocks or job dissatisfaction and actual quitting behavior extends prior evidence that job embeddedness can prevent shocks from ndering turnover intentions and behaviors. moreover we advance the sparse research on moderators of quit intention behavior relationships which hitherto examined joblessness rates or personality traits. prevailing theoretical views simplistically presume that intentions are the most proximate determinant of turnover. consequently these perspectives largely neglected or underspecified factors that can disrupt intention-to-act transmission. to illustrate mobley and colles underscored methodological moderators such as measurement correspondence and time lags between intention and behavioral measures. by identifying new substantive moderator we thus fill theoretical void in deciphering why some prospective leavers ultimately stay as well as identify means by which organizations can offset push and pull forces for leaving including those that they may not easily control. indeed our cross-level moderating effect due to transformational leadership is remarkably strong compared to typical moderator effect sizes in field research. strhs limitations and future research our research has several strhs. specifically we used survey methods to assess leadership and turnover intentions while incorporating an objective index of turnover obtained months after survey completion. we also extend past work on leadership and turnover by demonstrating group-level leadership effects. although both leadership and quit intentions were based on ratings from subordinates and single-source bias is not fully controlled with hierarchical generalized linear modeling approach we analyzed transformational leadership at thoup level and quit intentions at the individual level. moreover singlesource or method bias is less problematic with moderator analyses. indeed based on prior work podsakoff mackenzie and podsakoff recently concluded that such bias cannot inflate quadratic or interaction effects. consequently if study is designed to test hypotheses about quadratic or interaction effects... then method bias would not be able to account for any statistically significant effects observed.  with that said we acknowl shortcomings that additional research might address.  first we did not directly assess push- and pull-to-leave forces that could induce turnover intentions. future research might actually model these forces to pinpoint the effects that leadership processes might best counteract. for example subsequent research might assess work shocks such as job stress or pay inequity or nonwork shocks such as spousal relocations or unsolicited job offers. second the work of preacher rucker and hayes although focused at single level of analysis would imply potential curvilinear effect for the independent variable in mediated model whereby it also moderates its indirect effect on dependent variable. applied to the current research curvilinear indirect relationship between transformational leadership and turnover through quit intentions may exist. specifically at high levels of transformational leadership its negative effect on turnover may be weaker as compared to lower levels of transformational leadership where such effects may be stronger. conceivably there could be diminishing returns for waldman leadership and turnover transformational leadership as the various processes that it induces reach their peak. alternatively transformational leaders may increase the job performance of followers via expanded developmental opportunities or mentoring. as followers develop into high performers and accumulate more ability to make job or career changes they become more attractive to other employers and thus may voluntarily leave. in sum following harris exploration into curvilinear lmx effects we encourage additional research into potential curvilinear effects of transformational leadership on turnover. third although our theory suggested additional variables as potentially mediating relationships between transformational leadership and quit intentions we did not measure them directly. to more precisely support our theory future research might model and assess mediating mechanisms between transformational leadership and quit intentions. along the lines of prior embeddedness research further inquiry might also directly assess job embeddedness and contrast its relative moderating effects against that of leadership as pull-to-stay force. fourth given that social ties and obligations govern their actions citizens of collectivist societies may feel greater allegiance to their leader as compared to individualist nationals. that is they are more loyal to people than to faceless institutions. to generalize our chinese findings to other cultures we recommend following ramesh example.  specifically she recruited matched occupational samples from different cultures to evaluate cross-cultural moderation. as an important feature of her approach she measured individual differences in cultural values to assess whether moderating effects are consistent within and between countries. we also recommend examining transformational leadership at higher management levels which may affect employees turnover differently as compared to such leadership at lower levels of supervision. conceivably firms with transformational leaders at the upper echelons may also experience lower overall workforce attrition. specifically executives can make strategic choices or implement strategy in manner that lessens the impact of potentially threatening organizational events. for example when companies und considerable change upperechelon transformational leaders can position or communicate change in such way that lower-level employees perceive it as less risky and threatening. in turn both quit intentions and actual quits may be reduced. in closing our findings add to the leadership literature suggesting the value of selecting and developing transformational leaders including at lower management levels. rather than focus on oft-examined performance outcomes we demonstrated the potential value of transformational leadership in relation to turnover intentions directly and actual turnover indirectly. we also found that such leadership can moderate relationships between quit intentions and actual turnover. thus we prescribe transformational leadership at lower levels of supervision as vital pull-to-stay force reinforcing job incumbency. as we have argued transformational leaders inspire self-sacrificial efforts by followers on behalf of the larger collectivity and giveater meaning to their work lives thereby sustaining september their loyalty. in conclusion our research demonstrated the direct role of transformational leadership in retaining followers as well as showing how it can prevent followers who form quit intentions from actually leaving. notes. we thank an anonymous reviewer for this suggestion.. we thank an anonymous reviewer for pointing out this issue to us. \n",
      "---\n",
      "---\n",
      "---\n"
     ]
    }
   ],
   "source": [
    "print(pdf_p[ref_doc])\n",
    "print('---')\n",
    "print('---')\n",
    "print('---')\n",
    "# print(pdf_p[ref_doc])"
   ]
  },
  {
   "cell_type": "code",
   "execution_count": 30,
   "metadata": {},
   "outputs": [],
   "source": [
    "def get_author_names(txt):\n",
    "\n",
    "    refs = re.sub('[0-9]{4}.*\\n','',txt)\n",
    "\n",
    "    l = re.compile(\" [a-z]\\.\").split(refs)\n",
    "    l = [ll for ll in l if not bool(re.search('[0-9]+', ll))]\n",
    "    l = [ll for ll in l if len(ll) < 35]\n",
    "    l = [re.sub('[\\n ,\\&\\.]', '', ll) for ll in l]\n",
    "    authors = [ll for ll in l if len(ll) > 1]\n",
    "\n",
    "    return(authors)\n",
    "#for n in names:\n",
    "#    print(n)\n",
    "\n",
    "#refs = re.sub('\\n.*[0-9].*', '', refs)\n",
    "#refs = re.sub('\\n[^,]+\\n', '\\n', refs)\n",
    "#print(refs)"
   ]
  },
  {
   "cell_type": "code",
   "execution_count": null,
   "metadata": {},
   "outputs": [],
   "source": []
  },
  {
   "cell_type": "code",
   "execution_count": 33,
   "metadata": {},
   "outputs": [
    {
     "name": "stdout",
     "output_type": "stream",
     "text": [
      "['vandenbos', 'bhaskar-shrinivas', 'ca:sageamabile', 'ctrice', 'howmucharetheyinfluenced?in', 'herting', 'bavelas', 'warshaw', 'near', 'segerson', 'briscoe', 'tavakoli', 'kirkwood', 'henry', 'kleinschmidt', 'reingold', 'manstead', 'lean', 'andempiricalproblemsin', 'jacobson', 'morgeson', 'vadera', 'forst', 'schkade', 'mediaandinvestorsinthe', 'brymer', 'hutchinson', 'wanous', '*salamon', 'clayton', 'dharwadkar', 'tinsley', 'grint', 'happé', 'hanssen-bauer', 'fisicaro', 'bussin', 'walton', 'kidwell', 'rieskamp', 'bisoffi', 'mcnulty', 'vaske', 'waldman', 'vayanos', 'abe', 'componentsshoetker', 'kimberly', 'orina', 'gawronski', 'jrprice', 'kierstead', 'intuitiveauditoratworkin', 'momm', 'bosson', 'suutari', 'barkema', 'hartnagel', 'satorra', 'york:harpercollinswillett', 'thurgood', 'york:wileysonsjaccard', 'burnham', 'youtz', 'humanresourcesmanagementin', 'il:irwinpressnewman', 'hair', 'greer', '(ed)wood', 'kedrosky', 'edmans', 'biemann', 'sasovova', 'reichard', 'sagegilliland', 'ozgen', 'scheyer', 'cuomo', 'putti', 'hagan', '*gilson', 'ballard', 'huntley', 'venkataraman', 'hartzell', '*mitchell', 'wiltbank', 'vetter', 'clapp-smith', 'krause', 'breslau', 'amis', '*cady', 'gallucci', 'rogowski', 'erlbaummcenrue', 'mattila', 'phene', 'tighe', 'hopper', 'freepresswilliamson', 'schurr', 'universitypresscotton', 'welsh', 'chernysheako', 'capleton', 'burdick', 'gardberg', 'hedgvedt', 'dekerpel', 'crossman', 'ishii', 'aldag', 'fida', 'gaussmann', 'kingon', 'read', 'lahey', 'wendel', 'littler', 'nohel', 'potosky', 'pruyn', 'berrett-koehlerulrich', 'francisco:jossey-basstrevor', 'stitt', 'rodopman', 'groth', 'wichern', 'bundek', 'muslu', 'livingstone', 'hand', 'alease', 'boston:beaconpressmintzberg', 'beeck', 'fourie', 'iiishore', 'pglick', 'universitypresstepper', 'addison-wesleyarino', 'orobiodecastro', 'shotland', 'bono', 'kaufman', 'zuiker', 'loschelder', 'venz', 'habbel', 'tenkasi']\n",
      "15168\n"
     ]
    }
   ],
   "source": [
    "authors = []\n",
    "for r in references:\n",
    "    authors += get_author_names(r)\n",
    "    \n",
    "author_nam = list(set(list(authors)))\n",
    "\n",
    "# result is still not perfect, but I have not found any stray 'plain English' so far\n",
    "print(author_nam[100:250])\n",
    "print(len(author_nam))"
   ]
  },
  {
   "cell_type": "code",
   "execution_count": null,
   "metadata": {
    "collapsed": true
   },
   "outputs": [],
   "source": [
    "# Authors names are saved already (code is available at author name folder-get name list notebook)\n",
    "#load authors names\n",
    "#import pickle\n",
    "#author_nam = pickle.load(open(\"C:/Thesis/Data/save/Master_Data/auth_ref_filter_num_char/auth_Journal_of_management.p\", \"rb\"))"
   ]
  },
  {
   "cell_type": "code",
   "execution_count": 44,
   "metadata": {},
   "outputs": [],
   "source": [
    "# GET REFERENCE LISTS OF STOPWORDS, I.E. WORDS THAT ARE ESSENTIALLY MEANINGLESS\n",
    "# Get all the list of authors names\n",
    "\n",
    "from nltk.corpus import stopwords as wrd\n",
    "\n",
    "sw = wrd.words('english') + author_nam + country_list + cities_lower\n",
    "\n",
    "#print(sw)"
   ]
  },
  {
   "cell_type": "code",
   "execution_count": 45,
   "metadata": {},
   "outputs": [],
   "source": [
    "#include corpus-specific stopwords\n",
    "sw += ['vol', 'doi', 'article', 'articles', 'reuse', 'sagepub', 'journal', 'journals', 'com', 'quarter', 'quarterly', 'annual', 'proceedings']\n",
    "sw += ['sage', 'editorial', 'report', 'publications', 'publication', 'publisher', 'jom', 'manuscript', 'manuscripts', 'submission', 'submissions']\n",
    "sw += ['editor', 'editors', 'orcid', 'id', 'month', 'mailto', 'author', 'authors', 'homepage', 'sciencedirect', 'scopus']\n",
    "sw += ['january', 'february', 'march', 'april', 'may', 'june', 'july', 'august', 'september', 'october', 'november', 'december']\n",
    "sw += ['monday', 'tuesday', 'wednesday', 'thursday', 'friday', 'saturday', 'sunday']\n",
    "\n",
    "# add a metric ton of generic terms\n",
    "sw += ['a', 'about', 'above', 'across', 'after', 'afterwards']\n",
    "sw += ['again', 'against', 'all', 'almost', 'alone', 'along']\n",
    "sw += ['already', 'also', 'although', 'always', 'am', 'among']\n",
    "sw += ['amongst', 'amoungst', 'amount', 'an', 'and', 'another']\n",
    "sw += ['any', 'anyhow', 'anyone', 'anything', 'anyway', 'anywhere']\n",
    "sw += ['are', 'around', 'as', 'at', 'back', 'be', 'became']\n",
    "sw += ['because', 'become', 'becomes', 'becoming', 'been']\n",
    "sw += ['before', 'beforehand', 'behind', 'being', 'below']\n",
    "sw += ['beside', 'besides', 'between', 'beyond', 'bill', 'both']\n",
    "sw += ['bottom', 'but', 'by', 'call', 'can', 'cannot', 'cant']\n",
    "sw += ['co', 'computer', 'con', 'could', 'couldnt', 'cry', 'de']\n",
    "sw += ['describe', 'detail', 'did', 'do', 'done', 'down', 'due']\n",
    "sw += ['during', 'each', 'eg', 'eight', 'either', 'eleven', 'else']\n",
    "sw += ['elsewhere', 'empty', 'enough', 'etc', 'even', 'ever']\n",
    "sw += ['every', 'everyone', 'everything', 'everywhere', 'except']\n",
    "sw += ['few', 'fifteen', 'fifty', 'fill', 'find', 'fire', 'first']\n",
    "sw += ['five', 'for', 'former', 'formerly', 'forty', 'found']\n",
    "sw += ['four', 'from', 'front', 'full', 'further', 'get', 'give']\n",
    "sw += ['go', 'had', 'has', 'hasnt', 'have', 'he', 'hence', 'her']\n",
    "sw += ['here', 'hereafter', 'hereby', 'herein', 'hereupon', 'hers']\n",
    "sw += ['herself', 'him', 'himself', 'his', 'how', 'however']\n",
    "sw += ['hundred', 'i', 'ie', 'if', 'in', 'inc', 'indeed']\n",
    "sw += ['interest', 'into', 'is', 'it', 'its', 'itself', 'keep']\n",
    "sw += ['last', 'latter', 'latterly', 'least', 'less', 'ltd', 'made']\n",
    "sw += ['many', 'may', 'me', 'meanwhile', 'might', 'mill', 'mine']\n",
    "sw += ['more', 'moreover', 'most', 'mostly', 'move', 'much']\n",
    "sw += ['must', 'my', 'myself', 'name', 'namely', 'neither', 'never']\n",
    "sw += ['nevertheless', 'next', 'nine', 'no', 'nobody', 'none']\n",
    "sw += ['noone', 'nor', 'not', 'nothing', 'now', 'nowhere', 'of']\n",
    "sw += ['off', 'often', 'on','once', 'one', 'only', 'onto', 'or']\n",
    "sw += ['other', 'others', 'otherwise', 'our', 'ours', 'ourselves']\n",
    "sw += ['out', 'over', 'own', 'part', 'per', 'perhaps', 'please']\n",
    "sw += ['put', 'rather', 're', 's', 'same', 'see', 'seem', 'seemed']\n",
    "sw += ['seeming', 'seems', 'serious', 'several', 'she', 'should']\n",
    "sw += ['show', 'side', 'since', 'sincere', 'six', 'sixty', 'so']\n",
    "sw += ['some', 'somehow', 'someone', 'something', 'sometime']\n",
    "sw += ['sometimes', 'somewhere', 'still', 'such', 'system', 'take']\n",
    "sw += ['ten', 'than', 'that', 'the', 'their', 'them', 'themselves']\n",
    "sw += ['then', 'thence', 'there', 'thereafter', 'thereby']\n",
    "sw += ['therefore', 'therein', 'thereupon', 'these', 'they']\n",
    "sw += ['thick', 'thin', 'third', 'this', 'those', 'though', 'three']\n",
    "sw += ['three', 'through', 'throughout', 'thru', 'thus', 'to']\n",
    "sw += ['together', 'too', 'top', 'toward', 'towards', 'twelve']\n",
    "sw += ['twenty', 'two', 'un', 'under', 'until', 'up', 'upon']\n",
    "sw += ['us', 'very', 'via', 'was', 'we', 'well', 'were', 'what']\n",
    "sw += ['whatever', 'when', 'whence', 'whenever', 'where']\n",
    "sw += ['whereafter', 'whereas', 'whereby', 'wherein', 'whereupon']\n",
    "sw += ['wherever', 'whether', 'which', 'while', 'whither', 'who']\n",
    "sw += ['whoever', 'whole', 'whom', 'whose', 'why', 'will', 'with']\n",
    "sw += ['within', 'without', 'would', 'yet', 'you', 'your']\n",
    "sw += ['yours', 'yourself', 'yourselves']\n",
    "\n",
    "sw = list(set(sw))"
   ]
  },
  {
   "cell_type": "code",
   "execution_count": 46,
   "metadata": {},
   "outputs": [],
   "source": [
    "# Function to filter out the stopwords and authors names\n",
    "def filterWords(msg, words):\n",
    "    m = msg.split(' ')\n",
    "    words_end = [w + '.' for w in words]\n",
    "    filtered_words = list(filter(lambda word: word not in words, m))\n",
    "    filtered_words = [(w if w not in words_end else '.') for w in filtered_words]\n",
    "    result = ' '.join(filtered_words)\n",
    "    return(result)"
   ]
  },
  {
   "cell_type": "code",
   "execution_count": 47,
   "metadata": {},
   "outputs": [],
   "source": [
    "# GET RID OF THE STOPWORDS IN TEXTS\n",
    "data_proc = [filterWords(f, sw) for f in pdf_p] "
   ]
  },
  {
   "cell_type": "code",
   "execution_count": 48,
   "metadata": {},
   "outputs": [],
   "source": [
    "import pickle\n",
    "# exclude author list from metadata\n",
    "author_metadata = pickle.load(open(\"C:/Thesis/Data/save/Master_Data/author_list/author_list.p\", \"rb\"))"
   ]
  },
  {
   "cell_type": "code",
   "execution_count": 50,
   "metadata": {},
   "outputs": [],
   "source": [
    "# GET RID OF THE author names (extracted from the metadata)\n",
    "data_proc_1 = [filterWords(f, author_metadata) for f in data_proc] # running"
   ]
  },
  {
   "cell_type": "code",
   "execution_count": 52,
   "metadata": {},
   "outputs": [
    {
     "data": {
      "text/plain": [
       "' multilevel investigation leadership turnover behavior multilevel investigation leadership turnover behavior . arizona state . southern illinois . arizona state study extends sparse connection leadership follower turnover investigating effects group-level transformational leadership withdrawal process. examination chinese employees work groups used hierarchical generalized linear modeling analyses proposed model.  findings reveal control effects leader member exchange contingent reward leadership transformational leadership predicts turnover quit intentions. addition cross-level moderation reveals transformational leadership weaken effect quit intentions turnover. employees likely carry quit intentions transformational leaders. keywords employee turnover transformational leadership hierarchical generalized linear modeling acknowlents accepted editorship . . earlier version presented th conference society industrial organizational psychology chicago illinois. thank ben comments earlier draft . thank kristopher advice regarding analytic procedures. corresponding department management.. arizona state tempe az .  .  .  reprints permissions leadership turnover loss employees vital skills talents incur sizeable personnel costs imperil organizational effectiveness decreased customer service. standard deviation increase turnover rates depress financial performance according recent estimate. currently high unemployment rates discouraging employees quitting forward-looking companies nonetheless preparing eventual pent-up turnover arise economy recovers. contrast. multinationals struggle retain host-country personnel increasingly predominate workforces especially countries talent shortages acute . given turnover ongoing concern th century remains present surprising body accumulated topic continue foreseeable future. voluminous inquiry employees quit largely dealt pushto-leave forces job dissatisfaction negative workplace shocks events prompting thoughts leaving alternatively pull-to-leave forces job alternatives. reflecting seminal perspective turnover hinges movement desirability ease preoccupation neglects pull-to-stay forces induce staying.  fully understand organizational participation members participate withdraw organizations contemporary scholars increasingly focus motives psychology staying differ leaving. emng reveals pull-to-stay forces explain unique variance turnover job satisfaction job alternatives counteract leaving forces. addressing recognize leadership pull-to-stay force build emng thinking examining transformational leadership affect turnover process. despite popular adage people quit bosses jobs turnover embeddedness scholars paid surprisingly scant attention leadership antecedents relative predictors job attitudes job characteristics. prevailing turnover theories omit leadership causes relegate distal antecedents reflecting enduring legacy. immediate superiors proximal environmental cues chiefly responsible working conditions highlighted theories impel quit behavior role conflict pay. asked leavers cite unfair abusive supervision prime leaving.  available turnover scholarship leadership effects shown subordinates dyadic relationships superiors induce stay leadership theorists conceived wider array potential pull-to-stay forces idealized influence inspiration. comparison studies centered narrowly leader member exchange attitudes supervisors perceived supervisory support sustain loyalty. furthermore turnover researchers primarily conceptualized measured leadership influences leaving individual levels neglecting potential unit-level leadership effects. moving limitations investigation contributes turnover leadership literatures following ways. ascertain unit-level leadership antecedents related turnover intentions subsequent turnover behavior.  improving prior attrition tests dyadic leader follower relationships examine unit-level transformational leadership predicts follower actual turnover quit intentions controlling effects lmx prime embodiment dyadic leadership influences. extend transformational leadership dealt predominantly transformational leadership drives follower performance se. ideally effective organizations induce individuals remain employed firm contribute success. second demonstrate leaders disrupt translation followers quit intentions actual turnover behavior. recent documents pull-to-stay forces job embeddedness reduce turnover prevent shocks evolving quitting behavior. shocks critical events pregnancy disruptive organizational prompt deliberations leaving according unfolding model.  multiple samples studies accumulated evidence reveals shocks precipitate turnover dissatisfaction typically accounting quitting behavior. transformational leadership behavior shocks occurring leaders control leadership actions moderate quit intentions affect actual subsequent turnover. study extends scant inquiry factors moderating imperfect relationship quit intentions turnover considering leadership moderator. figure displays model guiding portraying transformational leadership unit-level determinant associated actual turnover quit intentions. furthermore model depicts interactive effects transformational leadership moderates relationship quit intentions turnover. leadership turnover transformational leadership unit-level leadership antecedent recognized supervisors represent vital mechanism potentially deter followers forming quit intentions acting intentions.  asserted great hard proliferating work job embeddedness neglected leadership influences. remarkably capacity transformational leadership reduce turnover overlooked despite well-established potent effects individual group performance. transformational leaders arouseater follower motivation displaying individualized consideration followers developmental needs eliciting creative ideas problem-solving intellectual stimulation inspiring followers needs theater collective ahead . said nature relationship transformational leadership turnover described theoretically tested empirically. specifically transformational leadership embed followers greater job fit links induce relational identification.  example transformational leadership theory posits idealized influence followers identify leaders values goals. greater value congruency followers leaders promote job fit staying behavior. transformational leaders help forge stronger links organization expressing individualized consideration followers feel trust loyalty leaders. quite likely transformational leaders uniformly individualized consideration members entire collective. attributed charisma followers develop higher admiration trust leaders forming stronger relational identification. figure proposed model relational identification turn generalize organizational identification followers likely view transformational leaders corporate representatives. specifically leaders encourage entire collectives individuals internalize pursue corporate objectives direction vision.  inspire followers subordinate personal goals instilling collective sense mission purpose identify adopt group organizational goals . inspiration strhened leaders espousal attractive visions appeal followers values. greater organizational fit terms goals values turn reinforce staying. support notion showed transformational leaders promote firms corporate responsibility enhances firms reputations eyes followers appeal followers values promoting organizational identification. given leader-to-firm identity generalization suggest transformational leaders induce collectives followers strong personal links organizations represent. accordingly followers likely quit intentions subsequently ge quit behavior. consequently suggest hypothesis transformational leadership predict voluntary turnover quit intentions. transformational leadership moderator intention turnover relationships despite forces stay transformational leadership exerts note work nonwork factors concurrently act increase turnover intentions subsequent turnover behavior. regardless relational attachment leaders collective identification transformational leaders nder common well-documented push-andpull forces leave job dissatisfaction job alternatives trigger turnover intentions actual turnover. quit intentions inevitably translate higher quit behavior. deemed virtually turnover models proximal antecedent leaving quit intentions typically account variance actual turnover behavior. explain modest intention behavior congruence investigators documented unemployment personality traits risk aversion dissuade prospective leavers enacting intentions.  moderator remains sparse date centered conditions outside employers control unavoidable turnover. deepen insight quit intentions necessarily culminate actual quits explore transformational leadership moderate intention turnover relationship. end use multilevel approach examine unit-focused transformational leadership deter individual followers quit intentions exiting. leadership processes buffer push leadership turnover forces leaving initiate cognitions leaving. reported strong transformational leadership weaken effects work family conflict drive work withdrawal behaviors inducing job dissatisfaction. albeit suggestive findings illustrate potential leaders ameliorate influence dissatisfying shocking work conditions actual turnover behavior. clarify process unfold noted followers encounter various workplace events conditions activate turnover intentions potentially leading subsequent turnover behavior. turnover reveals negative job characteristics unfair reward systems employment alternatives workplace trigger deliberations leaving.  independent pull-to-stay effects leadership push-to-leave forces prompt follower quit intentions. illustrate age diversity departments increased group turnover average lmx departments lessened turnover. transformational leaders reframe followers interpret make sense pushto-leave forces. inspirational appeals transformational leaders talk optimistically confidently future despite disaffection turnover intentions forces precipitate. addition strong attachment leader firm transformational leadership foments weaken effects quit intentions actual quits. quit intentions arise push-to-leave forces transformational leaders assuage employees concerns persuade plans exit. support notion collective sense-making studies suggested positive cues environment promote loyalty. specifically employees apparently readily infer things happening organization observing conversing coworkers express favorable views job participate withdraw organization. sum aforementioned discussion explains push-to-leave forces nder quit intentions followers transformational leaders. goal catalogue myriad causes precipitate turnover cognitions. suggest transformational leadership lessen chances quit intentions progress actual leaving regardless intentions em. contend unitlevel transformational leadership reduce prospects turnover actually materializing result initial turnover intentions. taken arguments suggest hypothesis transformational leadership attenuate relationship quit intentions voluntary turnover. extend prior pertaining leadership turnover behavior demonstrating group-level transformational leadership related quit intentions behavior controlling group-level contingent reward leadership lmx. augmentation effect transformational leadership follower performance generalizes follower retention. add turnover transformational leadership literatures showing turnover intentions mediate thouplevel effects transformational leadership actual individual-level turnover. investigation confirms colles long-standing speculation leadership important embeds employees. achieving high-quality relationships followers transformational leadership reinforce workforce retention processes. finding important recently established followers high lmx relationships actually quit leaders leave. conceivably transformational leaders exit organization departure necessarily prompt followers quit given leaders promote intense on-the-job ties followers identification collective mission optimistic expectations future prospects organization.  concede explanation speculative consonant evidence transformational leadership enhances loyalty lmx controlled. demonstrated cross-level moderating effect transformational leadership attenuated relationship followers quit intentions actual turnover. moderation suggests prospective leavers liable quit supervisors display transformational leadership . despite direct loyaltysustaining effect supervisory behavior recognize followers vulnerable push forces leaving. nonetheless transformational leaders lessen likelihood push- pull-toleave factors actually translate higher turnover. speculate enhanced commitment corporate mission goals bonding capital positive cues fostered transformational leadership discourage prospective leavers following initial intentions quit arise push- pull-to-leave factors. total findings support emng embedding forces attenuate loyalty-dissipating effects events prompt thoughts leaving. proposed job embeddedness overarching construct captures various pull-to-stay forces omitting downplaying leadership variables. demonstration transformational leadership moderates relationship quit intentions immediate consequence shocks job dissatisfaction actual quitting behavior extends prior evidence job embeddedness prevent shocks ndering turnover intentions behaviors. advance sparse moderators quit intention behavior relationships hitherto examined joblessness rates personality traits. prevailing theoretical views simplistically presume intentions proximate determinant turnover. consequently perspectives largely neglected underspecified factors disrupt intention-to-act transmission. illustrate colles underscored methodological moderators measurement correspondence time lags intention behavioral measures. identifying new substantive moderator theoretical void deciphering prospective leavers ultimately stay identify organizations offset push forces leaving including easily control. cross-level moderating effect transformational leadership remarkably strong compared typical moderator effect sizes . strhs limitations future strhs. specifically used survey methods assess leadership turnover intentions incorporating objective index turnover obtained months survey completion. extend past work leadership turnover demonstrating group-level leadership effects. leadership quit intentions based ratings subordinates single-source bias fully controlled hierarchical generalized linear modeling approach analyzed transformational leadership thoup level quit intentions individual level. singlesource method bias problematic moderator analyses. based prior work recently concluded bias inflate quadratic interaction effects. consequently study designed hypotheses quadratic interaction effects... method bias account statistically significant effects observed.  said acknowl shortcomings additional address.  directly assess push- pull-to-leave forces induce turnover intentions. future actually model forces pinpoint effects leadership processes counteract. example subsequent assess work shocks job stress pay inequity nonwork shocks spousal relocations unsolicited job offers. second work focused single level imply potential curvilinear effect independent variable mediated model moderates indirect effect dependent variable. current curvilinear indirect relationship transformational leadership turnover quit intentions exist. specifically high levels transformational leadership negative effect turnover weaker compared lower levels transformational leadership effects stronger. conceivably diminishing returns leadership turnover transformational leadership various processes induces reach peak. alternatively transformational leaders increase job performance followers expanded developmental opportunities mentoring. followers develop high performers accumulate ability make job career changes attractive employers voluntarily leave. sum following exploration curvilinear lmx effects encourage additional potential curvilinear effects transformational leadership turnover. theory suggested additional variables potentially mediating relationships transformational leadership quit intentions measure directly. precisely support theory future model assess mediating mechanisms transformational leadership quit intentions. lines prior embeddedness inquiry directly assess job embeddedness contrast relative moderating effects leadership pull-to-stay force. fourth given ties obligations govern actions citizens collectivist societies feel greater allegiance leader compared individualist nationals. loyal people faceless institutions. generalize chinese findings cultures recommend following example.  specifically recruited matched occupational samples different cultures evaluate cross-cultural moderation. important feature approach measured individual differences cultural values assess moderating effects consistent countries. recommend examining transformational leadership higher levels affect employees turnover differently compared leadership lower levels supervision. conceivably firms transformational leaders upper echelons experience lower overall workforce attrition. specifically executives make strategic choices implement strategy manner lessens impact potentially threatening organizational events. example companies und considerable upperechelon transformational leaders position communicate lower-level employees perceive risky threatening. turn quit intentions actual quits reduced. closing findings add leadership literature suggesting value selecting developing transformational leaders including lower levels. focus oft-examined performance outcomes demonstrated potential value transformational leadership relation turnover intentions directly actual turnover indirectly. leadership moderate relationships quit intentions actual turnover. prescribe transformational leadership lower levels supervision vital pull-to-stay force reinforcing job incumbency. argued transformational leaders inspire self-sacrificial efforts followers behalf larger collectivity giveater meaning work lives sustaining loyalty. conclusion demonstrated direct role transformational leadership retaining followers showing prevent followers quit intentions actually leaving. notes. thank reviewer suggestion.. thank reviewer pointing issue . '"
      ]
     },
     "execution_count": 52,
     "metadata": {},
     "output_type": "execute_result"
    }
   ],
   "source": [
    "data_proc_1[ref_doc]"
   ]
  },
  {
   "cell_type": "code",
   "execution_count": 53,
   "metadata": {},
   "outputs": [],
   "source": [
    "data_proc2 = [re.sub(\"([a-z]+\\.)+[a-z]+\",\"\", f) for f in data_proc_1]\n",
    "data_proc2 = [re.sub('\\s([?\\.!\"](?:\\s|$))' , r'\\1', f) for f in data_proc2]\n",
    "data_proc2 = [re.sub(\"^\\s+\",\"\", f) for f in data_proc2]\n",
    "data_proc2 = [re.sub(\"\\s+\\Z\",\"\", f) for f in data_proc2]\n",
    "data_proc2 = [re.sub(\"(\\.)+\",\".\", f) for f in data_proc2]\n",
    "data_proc2 = [re.sub(\" +\",\" \", f) for f in data_proc2]\n",
    "data_proc2 = [re.sub(\"( +\\.)\",\".\", f) for f in data_proc2]\n",
    "data_proc2 = [re.sub(\"\\.$\",\"\", f) for f in data_proc2]"
   ]
  },
  {
   "cell_type": "code",
   "execution_count": 54,
   "metadata": {},
   "outputs": [
    {
     "name": "stdout",
     "output_type": "stream",
     "text": [
      "['multilevel investigation leadership turnover behavior multilevel investigation leadership turnover behavior', 'arizona state', 'southern illinois', 'arizona state study extends sparse connection leadership follower turnover investigating effects group-level transformational leadership withdrawal process', 'examination chinese employees work groups used hierarchical generalized linear modeling analyses proposed model', 'findings reveal control effects leader member exchange contingent reward leadership transformational leadership predicts turnover quit intentions', 'addition cross-level moderation reveals transformational leadership weaken effect quit intentions turnover', 'employees likely carry quit intentions transformational leaders', 'keywords employee turnover transformational leadership hierarchical generalized linear modeling acknowlents accepted editorship.', 'earlier version presented th conference society industrial organizational psychology chicago illinois', 'thank ben comments earlier draft', 'thank kristopher advice regarding analytic procedures', 'corresponding department management', 'arizona state tempe az..', 'reprints permissions leadership turnover loss employees vital skills talents incur sizeable personnel costs imperil organizational effectiveness decreased customer service', 'standard deviation increase turnover rates depress financial performance according recent estimate', 'currently high unemployment rates discouraging employees quitting forward-looking companies nonetheless preparing eventual pent-up turnover arise economy recovers', 'contrast', 'multinationals struggle retain host-country personnel increasingly predominate workforces especially countries talent shortages acute', 'given turnover ongoing concern th century remains present surprising body accumulated topic continue foreseeable future', 'voluminous inquiry employees quit largely dealt pushto-leave forces job dissatisfaction negative workplace shocks events prompting thoughts leaving alternatively pull-to-leave forces job alternatives', 'reflecting seminal perspective turnover hinges movement desirability ease preoccupation neglects pull-to-stay forces induce staying', 'fully understand organizational participation members participate withdraw organizations contemporary scholars increasingly focus motives psychology staying differ leaving', 'emng reveals pull-to-stay forces explain unique variance turnover job satisfaction job alternatives counteract leaving forces', 'addressing recognize leadership pull-to-stay force build emng thinking examining transformational leadership affect turnover process', 'despite popular adage people quit bosses jobs turnover embeddedness scholars paid surprisingly scant attention leadership antecedents relative predictors job attitudes job characteristics', 'prevailing turnover theories omit leadership causes relegate distal antecedents reflecting enduring legacy', 'immediate superiors proximal environmental cues chiefly responsible working conditions highlighted theories impel quit behavior role conflict pay', 'asked leavers cite unfair abusive supervision prime leaving', 'available turnover scholarship leadership effects shown subordinates dyadic relationships superiors induce stay leadership theorists conceived wider array potential pull-to-stay forces idealized influence inspiration', 'comparison studies centered narrowly leader member exchange attitudes supervisors perceived supervisory support sustain loyalty', 'furthermore turnover researchers primarily conceptualized measured leadership influences leaving individual levels neglecting potential unit-level leadership effects', 'moving limitations investigation contributes turnover leadership literatures following ways', 'ascertain unit-level leadership antecedents related turnover intentions subsequent turnover behavior', 'improving prior attrition tests dyadic leader follower relationships examine unit-level transformational leadership predicts follower actual turnover quit intentions controlling effects lmx prime embodiment dyadic leadership influences', 'extend transformational leadership dealt predominantly transformational leadership drives follower performance se', 'ideally effective organizations induce individuals remain employed firm contribute success', 'second demonstrate leaders disrupt translation followers quit intentions actual turnover behavior', 'recent documents pull-to-stay forces job embeddedness reduce turnover prevent shocks evolving quitting behavior', 'shocks critical events pregnancy disruptive organizational prompt deliberations leaving according unfolding model', 'multiple samples studies accumulated evidence reveals shocks precipitate turnover dissatisfaction typically accounting quitting behavior', 'transformational leadership behavior shocks occurring leaders control leadership actions moderate quit intentions affect actual subsequent turnover', 'study extends scant inquiry factors moderating imperfect relationship quit intentions turnover considering leadership moderator', 'figure displays model guiding portraying transformational leadership unit-level determinant associated actual turnover quit intentions', 'furthermore model depicts interactive effects transformational leadership moderates relationship quit intentions turnover', 'leadership turnover transformational leadership unit-level leadership antecedent recognized supervisors represent vital mechanism potentially deter followers forming quit intentions acting intentions', 'asserted great hard proliferating work job embeddedness neglected leadership influences', 'remarkably capacity transformational leadership reduce turnover overlooked despite well-established potent effects individual group performance', 'transformational leaders arouseater follower motivation displaying individualized consideration followers developmental needs eliciting creative ideas problem-solving intellectual stimulation inspiring followers needs theater collective ahead', 'said nature relationship transformational leadership turnover described theoretically tested empirically', 'specifically transformational leadership embed followers greater job fit links induce relational identification', 'example transformational leadership theory posits idealized influence followers identify leaders values goals', 'greater value congruency followers leaders promote job fit staying behavior', 'transformational leaders help forge stronger links organization expressing individualized consideration followers feel trust loyalty leaders', 'quite likely transformational leaders uniformly individualized consideration members entire collective', 'attributed charisma followers develop higher admiration trust leaders forming stronger relational identification', 'figure proposed model relational identification turn generalize organizational identification followers likely view transformational leaders corporate representatives', 'specifically leaders encourage entire collectives individuals internalize pursue corporate objectives direction vision', 'inspire followers subordinate personal goals instilling collective sense mission purpose identify adopt group organizational goals', 'inspiration strhened leaders espousal attractive visions appeal followers values', 'greater organizational fit terms goals values turn reinforce staying', 'support notion showed transformational leaders promote firms corporate responsibility enhances firms reputations eyes followers appeal followers values promoting organizational identification', 'given leader-to-firm identity generalization suggest transformational leaders induce collectives followers strong personal links organizations represent', 'accordingly followers likely quit intentions subsequently ge quit behavior', 'consequently suggest hypothesis transformational leadership predict voluntary turnover quit intentions', 'transformational leadership moderator intention turnover relationships despite forces stay transformational leadership exerts note work nonwork factors concurrently act increase turnover intentions subsequent turnover behavior', 'regardless relational attachment leaders collective identification transformational leaders nder common well-documented push-andpull forces leave job dissatisfaction job alternatives trigger turnover intentions actual turnover', 'quit intentions inevitably translate higher quit behavior', 'deemed virtually turnover models proximal antecedent leaving quit intentions typically account variance actual turnover behavior', 'explain modest intention behavior congruence investigators documented unemployment personality traits risk aversion dissuade prospective leavers enacting intentions', 'moderator remains sparse date centered conditions outside employers control unavoidable turnover', 'deepen insight quit intentions necessarily culminate actual quits explore transformational leadership moderate intention turnover relationship', 'end use multilevel approach examine unit-focused transformational leadership deter individual followers quit intentions exiting', 'leadership processes buffer push leadership turnover forces leaving initiate cognitions leaving', 'reported strong transformational leadership weaken effects work family conflict drive work withdrawal behaviors inducing job dissatisfaction', 'albeit suggestive findings illustrate potential leaders ameliorate influence dissatisfying shocking work conditions actual turnover behavior', 'clarify process unfold noted followers encounter various workplace events conditions activate turnover intentions potentially leading subsequent turnover behavior', 'turnover reveals negative job characteristics unfair reward systems employment alternatives workplace trigger deliberations leaving', 'independent pull-to-stay effects leadership push-to-leave forces prompt follower quit intentions', 'illustrate age diversity departments increased group turnover average lmx departments lessened turnover', 'transformational leaders reframe followers interpret make sense pushto-leave forces', 'inspirational appeals transformational leaders talk optimistically confidently future despite disaffection turnover intentions forces precipitate', 'addition strong attachment leader firm transformational leadership foments weaken effects quit intentions actual quits', 'quit intentions arise push-to-leave forces transformational leaders assuage employees concerns persuade plans exit', 'support notion collective sense-making studies suggested positive cues environment promote loyalty', 'specifically employees apparently readily infer things happening organization observing conversing coworkers express favorable views job participate withdraw organization', 'sum aforementioned discussion explains push-to-leave forces nder quit intentions followers transformational leaders', 'goal catalogue myriad causes precipitate turnover cognitions', 'suggest transformational leadership lessen chances quit intentions progress actual leaving regardless intentions em', 'contend unitlevel transformational leadership reduce prospects turnover actually materializing result initial turnover intentions', 'taken arguments suggest hypothesis transformational leadership attenuate relationship quit intentions voluntary turnover', 'extend prior pertaining leadership turnover behavior demonstrating group-level transformational leadership related quit intentions behavior controlling group-level contingent reward leadership lmx', 'augmentation effect transformational leadership follower performance generalizes follower retention', 'add turnover transformational leadership literatures showing turnover intentions mediate thouplevel effects transformational leadership actual individual-level turnover', 'investigation confirms colles long-standing speculation leadership important embeds employees', 'achieving high-quality relationships followers transformational leadership reinforce workforce retention processes', 'finding important recently established followers high lmx relationships actually quit leaders leave', 'conceivably transformational leaders exit organization departure necessarily prompt followers quit given leaders promote intense on-the-job ties followers identification collective mission optimistic expectations future prospects organization', 'concede explanation speculative consonant evidence transformational leadership enhances loyalty lmx controlled', 'demonstrated cross-level moderating effect transformational leadership attenuated relationship followers quit intentions actual turnover', 'moderation suggests prospective leavers liable quit supervisors display transformational leadership', 'despite direct loyaltysustaining effect supervisory behavior recognize followers vulnerable push forces leaving', 'nonetheless transformational leaders lessen likelihood push- pull-toleave factors actually translate higher turnover', 'speculate enhanced commitment corporate mission goals bonding capital positive cues fostered transformational leadership discourage prospective leavers following initial intentions quit arise push- pull-to-leave factors', 'total findings support emng embedding forces attenuate loyalty-dissipating effects events prompt thoughts leaving', 'proposed job embeddedness overarching construct captures various pull-to-stay forces omitting downplaying leadership variables', 'demonstration transformational leadership moderates relationship quit intentions immediate consequence shocks job dissatisfaction actual quitting behavior extends prior evidence job embeddedness prevent shocks ndering turnover intentions behaviors', 'advance sparse moderators quit intention behavior relationships hitherto examined joblessness rates personality traits', 'prevailing theoretical views simplistically presume intentions proximate determinant turnover', 'consequently perspectives largely neglected underspecified factors disrupt intention-to-act transmission', 'illustrate colles underscored methodological moderators measurement correspondence time lags intention behavioral measures', 'identifying new substantive moderator theoretical void deciphering prospective leavers ultimately stay identify organizations offset push forces leaving including easily control', 'cross-level moderating effect transformational leadership remarkably strong compared typical moderator effect sizes', 'strhs limitations future strhs', 'specifically used survey methods assess leadership turnover intentions incorporating objective index turnover obtained months survey completion', 'extend past work leadership turnover demonstrating group-level leadership effects', 'leadership quit intentions based ratings subordinates single-source bias fully controlled hierarchical generalized linear modeling approach analyzed transformational leadership thoup level quit intentions individual level', 'singlesource method bias problematic moderator analyses', 'based prior work recently concluded bias inflate quadratic interaction effects', 'consequently study designed hypotheses quadratic interaction effects', 'method bias account statistically significant effects observed', 'said acknowl shortcomings additional address', 'directly assess push- pull-to-leave forces induce turnover intentions', 'future actually model forces pinpoint effects leadership processes counteract', 'example subsequent assess work shocks job stress pay inequity nonwork shocks spousal relocations unsolicited job offers', 'second work focused single level imply potential curvilinear effect independent variable mediated model moderates indirect effect dependent variable', 'current curvilinear indirect relationship transformational leadership turnover quit intentions exist', 'specifically high levels transformational leadership negative effect turnover weaker compared lower levels transformational leadership effects stronger', 'conceivably diminishing returns leadership turnover transformational leadership various processes induces reach peak', 'alternatively transformational leaders increase job performance followers expanded developmental opportunities mentoring', 'followers develop high performers accumulate ability make job career changes attractive employers voluntarily leave', 'sum following exploration curvilinear lmx effects encourage additional potential curvilinear effects transformational leadership turnover', 'theory suggested additional variables potentially mediating relationships transformational leadership quit intentions measure directly', 'precisely support theory future model assess mediating mechanisms transformational leadership quit intentions', 'lines prior embeddedness inquiry directly assess job embeddedness contrast relative moderating effects leadership pull-to-stay force', 'fourth given ties obligations govern actions citizens collectivist societies feel greater allegiance leader compared individualist nationals', 'loyal people faceless institutions', 'generalize chinese findings cultures recommend following example', 'specifically recruited matched occupational samples different cultures evaluate cross-cultural moderation', 'important feature approach measured individual differences cultural values assess moderating effects consistent countries', 'recommend examining transformational leadership higher levels affect employees turnover differently compared leadership lower levels supervision', 'conceivably firms transformational leaders upper echelons experience lower overall workforce attrition', 'specifically executives make strategic choices implement strategy manner lessens impact potentially threatening organizational events', 'example companies und considerable upperechelon transformational leaders position communicate lower-level employees perceive risky threatening', 'turn quit intentions actual quits reduced', 'closing findings add leadership literature suggesting value selecting developing transformational leaders including lower levels', 'focus oft-examined performance outcomes demonstrated potential value transformational leadership relation turnover intentions directly actual turnover indirectly', 'leadership moderate relationships quit intentions actual turnover', 'prescribe transformational leadership lower levels supervision vital pull-to-stay force reinforcing job incumbency', 'argued transformational leaders inspire self-sacrificial efforts followers behalf larger collectivity giveater meaning work lives sustaining loyalty', 'conclusion demonstrated direct role transformational leadership retaining followers showing prevent followers quit intentions actually leaving', 'notes', 'thank reviewer suggestion', 'thank reviewer pointing issue']\n"
     ]
    }
   ],
   "source": [
    "print(data_proc2[ref_doc].split('. '))\n",
    "\n",
    "sents = []\n",
    "for d in data_proc2:\n",
    "    sents += d.split('. ')"
   ]
  },
  {
   "cell_type": "code",
   "execution_count": 55,
   "metadata": {},
   "outputs": [
    {
     "name": "stdout",
     "output_type": "stream",
     "text": [
      "['closer look personality-turnover relationship..', 'reprints permissions closer look personality-turnover relationship criterion expansion traits time eun purdue minwoo national', 'jebb purdue yongdai national recent advances personality turnover literatures suggest importance expanding current turnover criteria incorporating personality traits examining role time relationships', 'present study investigates issues considering speed reasons leaving examining wider range personality variables predictors including traits exploring potential moderating effect time predictions', 'data collected sample employees working electronics manufacturing firm united states', 'using bayesian survival framework traits useful predicting turnover outcomes traditional personality traits predicted specific turnover reasons deviant behavior', 'investigating role time showed job satisfaction intellectual curiosity grew predictive strh course organizational tenure time-dependent effects predictors negligible', 'keywords personality turnover bayesian methods survival supplemental material available corresponding eun department psychological sciences purdue', 'lafayette', 'jomxxx', 'personality-turnover relationship research-article personality widely recognized useful concept predicting individuals work behaviors helps explain processes responds various situational cues environmental features workplace', 'line perspective evidence accumulated years predictive role personality turnover processes outcomes', 'example addition incidences actual turnover wide range personality traits shown relate key antecedents job satisfaction job search behavior intentions quit', 'uncovering relationships significantly broadened understanding psychological processes employee turnover', 'recent advances turnover personality literatures suggest remains revealed nuances predictor-criterion relationship', 'instance criterion turnover scholars noted ways conventional conceptualizations measurement turnover criteria deficient require expansion', 'include moving voluntary versus involuntary dichotomy considering reasons decision leave recognizing varying speed timing departure', 'contrast predictor empirical work personality domain begun illustrate importance personality traits predicting work outcomes extending standard sets personality traits associated normative human functioning', 'building existing bodies current study aims broaden understanding personality-turnover relationship integrating current directions personality turnover literatures', 'specifically investigations expanding turnover criterion considering speed reasons leaving examining wider range personality variables predictors including traits', 'addition seeks shed potential moderating role time predictions', 'elaborate examining questions potentially important implications theoretical development practices regarding personality-turnover relationship', 'expanding criterion turnover speed reasons order gain deeper psychological insights complex phenomenon employee turnover posit speed reasons associated departure considered', 'argument begins thesis used colles basis integrative model employee turnover eventually leaves stays organization forever', 'implies degree insight gained predicting leaves limited', 'instead argue predicting versus late employee leaves specific reasons exit occurs affords comprehensive investigation individual psychological perspective', 'personality-turnover relationship practical standpoint organizations realize turnover imperative differentiate turnover cases harmful costly organization disruptive beneficial organization run', 'scarcity predictive studies demarcating nuanced turnover outcomes current literature calls empirical insights specific strategies implemented', 'notion employees different dispositional characteristics likely differing prospects leave serves basis empirical work presented current', 'noted establishing predictive links number important implications organizations', 'example turnover cases avoided screening strong tendency ge maladaptive behaviors turnover cases require different set prevention intervention approaches altogether', 'backdrop devote remainder introduction delineating various personality traits associated expanded turnover criterion variables followed discussion importance acknowlng temporal issues predictive relationships', 'personality traits predictors turnover outcomes extant personality-turnover linkage focused role affective dispositions positive negative affectivity closely associated big personality dimensions extraversion neuroticism respectively', 'scholars argued individuals predisposed experience negative emotions general likely leave jobs result satisfaction', 'argument extended case positive affectivity tend feel happy entic general likely stay employers tend experience higher satisfaction work environment', 'support mediation hypothesis studies positive negative affectivity predicted work attitudes job satisfaction relationships affective dispositions turnover outcomes weakened taking account work attitude variables', 'similarly suggested agreeableness conscientiousness negatively related turnover attitudinal mechanisms', 'hardworking likely stay current jobs possibly strong sense obligation allegiance people work employing organization', 'furthermore highly agreeable conscientious individuals likely positive experiences work result ability develop maintain pleasant interpersonal relationships perform job tasks receive appropriate recognition', 'words employees high levels agreeableness conscientiousness characterized employees make positive contributions organization consequently positive attitudes jobs general reducing likelihood turnover', 'personality traits suggested influence turnover decisions work attitudes', 'notably openness experience positively associated various indicators propensity quit controlling satisfaction current job', 'theoretical explanation linkage curious seek new experiences life likely leave job opportunities relatively happy current jobs', 'consequently posit openness experience represent dispositional origin individuals propensity quit jobs sake novelty comes', 'idea gained empirical support showing openness positively correlated job hopping tendency hobo syndrome defined experiencing itch desire job job behavioral manifestation organizational switching', 'theoretical considerations supportive findings question posed current study question taking account work attitudes predictors personality traits predict turnover speed reasons', 'particular openness-related traits useful predicting turnover outcomes work attitudes', 'noted suspect openness-related traits em particularly strong predictors turnover outcomes controlling work attitude variables', 'addition openness suggested negative sides conscientiousness agreeableness predictive quitting behaviors characterized impulsive spontaneous', 'irresponsible disagreeable likely make hasty decisions quit period deliberation planning decide quit stop showing work giving prior notice employers', 'furthermore individuals levels conscientiousness agreeableness tend evaluated problematic employees workplace suboptimal work ethics general performance issues leading involuntary termination employer', 'ideas possibility lower ends conscientiousness agreeableness spectrum predict certain types turnover cases work attitudes spontaneous exits reluctant exits', 'probably operative capturing dysfunctional personality explaining turnover cases lies domain personality traits discuss', 'introducing personality traits turnover predictors contrast vast literature normal personality traits yielded numerous meta-analytic studies personality-turnover relationship examining role personality traits workplace relatively scarce', 'given ongoing debates organizational scholars traits superior incremental predictive validity compared normal personality traits empirical warranted explores personality conjunction predicting important organizational outcomes', 'remarkably attention given directly linkage personality traits turnover-related outcomes notable exceptions', 'number viable approaches conceptualizing measuring personality present draws represents earliest influential works personality employment context', 'attempt diagnose manage tendencies incompetent managerial leadership behaviors organization developed measurement framework used identifying dysfunctional personality dispositions thought relevant interpersonal relations work', 'measure developed development survey reflects nonclinical tendencies reflecting personality disorder dimensions categorized fourth edition diagnostic statistical mental disorders axis ii categories described table', 'basis database working adults dimensions loaded higher-order factors representing distinct dysfunctional patterns individuals relate moving away moving moving people', 'factor structure later corroborated fruyt', 'historically idea moving away inspired work horney posited primary ways individuals attempt protect anxiety withdrawal submissiveness affection', 'protective devices adaptive necessary effective human functioning contexts exclusive predominant focus particular coping strategy lead personality dysfunction', 'empirical specifically looked role traits predicting turnover speed explicit reasons associated decision leave', 'deduced literature patterns dysfunctional interpersonal functioning relevant turnover employee-organization relationships broadly', 'particular three-factor taxonomy personality leadership managerial behavior argue directly applicable understanding individual differences employees relate organization employing organization', 'drawing similarly horney theoretical foundations previous findings broadly speculate tendency away likely quit jobs result general inclination escape problems tendency likely various troubles organization tendency likely stay organization method acquiring security meeting expectations expense needs desires', 'furthermore expect tendency away decide quit spontaneous impulsive incidents relatively rare tendency', 'taken current state provides compelling rationale investigating role traits potentially useful predictor turnover outcomes offers initial insights table personality constructs assessed developmental survey horney theoretical themes hds scalesa definition corresponding dsm iv personality disorders moving away excitable hard intense shortlived enthusiasm people projects things', 'borderline skeptical cynical distrustful doubtful true intentions', 'paranoid cautious reluctant risks fear rejected negatively evaluated', 'avoidant reserved aloof detached uncommunicative lacking awareness feelings', 'schizoid leisurely independent ignoring people requests irritated argumentative persist', 'passive-aggressive moving bold unusually self-confident feelings grandiosity entitlement overevaluation capabilities', 'narcissistic mischievous enjoying risk taking testing limits needing excitement manipulative deceitful cunning exploitative', 'antisocial colorful expressive animated dramatic wanting noticed needing attention', 'histrionic imaginative acting thinking creative odd unusual ways', 'schizotypal moving diligent meticulous precise perfectionistic inflexible rules procedures critical performance', 'obsessive-compulsive dutiful reliant support guidance reluctant independent action popular opinion', 'dependent ahogan', 'personality-turnover relationship specific directions predictions', 'second question following question useful personality traits predicting turnover outcomes', 'specifically tendencies moving away people relate turnover speed reasons', 'considering role time turnover predictions addition expanding scope turnover criteria dispositional predictors current study investigates possibility temporal variations predictions', 'unlike work attitudes personality thought relatively stable enduring', 'shows individuals frequently views various features work environment periods time understanding tends slowly', 'predicting turnover personality depend personality assessed allowing analyst model personality static predictor', 'time knowl documented assessed predictive relationships personality turnover outcomes time', 'words construct personality stable time predictive effects personality individuals work experiences consequent behavioral responses moderated time', 'particular consistent suggested speculate high openness likely leave alternative jobs spend time job', 'openness predict turnover increasingly better time', 'case openness literature provide clear expectations time-dependent effects personality traits effects investigated largely inductive manner question personality traits predictive strhs course organizational tenure', 'questions current intends make primary contributions', 'expands turnover criterion considering speed reasons leaving providing clarity personality relates different types turnover divnt implications theories practices', 'second adds personality-turnover literature considering ends spectrum specifically evaluating three-factor framework traits serve useful predictor expanded turnover criteria', 'attempt explore potential time-dependent effects personality predicting turnover outcomes lead detecting new phenomenon theoretical importance', 'overall current study implements combined hypothetico-deductive inductive strategy addressing questions', 'intentionally refrain focusing testing narrow set hypotheses instead adopt flexible model-based inductive approach increasingly encouraged organizational scholars', 'time current study incorporates prior theory notable including expectations predictive relationships directly analytic process', 'achieved adopting bayesian approach estimation inference merits discussed following sections']\n"
     ]
    }
   ],
   "source": [
    "print(sents[0:100])"
   ]
  },
  {
   "cell_type": "code",
   "execution_count": 56,
   "metadata": {},
   "outputs": [],
   "source": [
    "# save data\n",
    "pickle.dump(data_proc2, open( \"C:/Thesis/Data/save/Master_Data/pre_processed_data/data_preprocessed.p\", \"wb\" ) )"
   ]
  },
  {
   "cell_type": "code",
   "execution_count": 57,
   "metadata": {},
   "outputs": [],
   "source": [
    "import io\n",
    "\n",
    "# writing documents one sentence per line to form a larger data set (allowing use of a generator for model training):\n",
    "with open(\"C:/Thesis/Data/save/Master_Data/pre_processed_data/data_preprocessed_txt.txt\", \"a\",encoding=\"utf-8\") as outfile:\n",
    "    \n",
    "    for s in sents:\n",
    "        outstring = s + '\\n'\n",
    "        outfile.write(outstring)\n",
    "        \n",
    "# (additionally you could keep document boundaries intact, \n",
    "# e.g. by writing a file per document or marking start and end of articles in the larger file)"
   ]
  },
  {
   "cell_type": "code",
   "execution_count": null,
   "metadata": {
    "collapsed": true
   },
   "outputs": [],
   "source": [
    "#import io\n",
    "#with open(\"C:/Thesis/Data/save/Master_Data/MD_3/data_proc_latest/JM_data_proc_txt.txt\", \"w\",encoding=\"utf-8\") as outfile:\n",
    "#    for i in range(len(data_proc)):\n",
    "#        outstring = \"\"\n",
    "#        outstring += str(data_proc[i])\n",
    "#        outfile.write(outstring)"
   ]
  },
  {
   "cell_type": "code",
   "execution_count": null,
   "metadata": {
    "collapsed": true
   },
   "outputs": [],
   "source": []
  }
 ],
 "metadata": {
  "kernelspec": {
   "display_name": "Python 3",
   "language": "python",
   "name": "python3"
  },
  "language_info": {
   "codemirror_mode": {
    "name": "ipython",
    "version": 3
   },
   "file_extension": ".py",
   "mimetype": "text/x-python",
   "name": "python",
   "nbconvert_exporter": "python",
   "pygments_lexer": "ipython3",
   "version": "3.7.6"
  }
 },
 "nbformat": 4,
 "nbformat_minor": 2
}
