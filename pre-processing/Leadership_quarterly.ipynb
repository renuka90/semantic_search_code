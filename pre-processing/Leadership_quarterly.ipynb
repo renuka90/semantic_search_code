{
 "cells": [
  {
   "cell_type": "code",
   "execution_count": 37,
   "metadata": {},
   "outputs": [],
   "source": [
    "import os\n",
    "import re\n",
    "import pandas as pd\n",
    "import urllib\n",
    "from nltk import SnowballStemmer\n",
    "from gensim.models import Word2Vec\n",
    "#import langdetect\n",
    "import tika\n",
    "import time\n",
    "from tika import parser\n",
    "import pickle"
   ]
  },
  {
   "cell_type": "markdown",
   "metadata": {},
   "source": [
    "# Raw Articles pdf Data\n",
    "Convert pdf to text using Tika apache server "
   ]
  },
  {
   "cell_type": "code",
   "execution_count": 38,
   "metadata": {},
   "outputs": [],
   "source": [
    "# specify the target data folder\n",
    "\n",
    "target_dir = 'C:/Thesis/Data/Leadership_Quarterly'"
   ]
  },
  {
   "cell_type": "code",
   "execution_count": 39,
   "metadata": {},
   "outputs": [],
   "source": [
    "# prep pdf extraction\n",
    "pdf_files = []\n",
    "wrd_files = []\n",
    "\n",
    "for f in os.listdir(target_dir):\n",
    "    if f.endswith(\".pdf\") | f.endswith(\".PDF\"):\n",
    "        thispdf = os.path.join(target_dir, f)\n",
    "        pdf_files = pdf_files + [thispdf]\n",
    "    if f.endswith(\".doc\") | f.endswith(\".docx\") | f.endswith(\".DOC\") | f.endswith(\".DOCX\"):\n",
    "        thiswrd = os.path.join(target_dir, f)\n",
    "        wrd_files = wrd_files + [thiswrd]"
   ]
  },
  {
   "cell_type": "code",
   "execution_count": 40,
   "metadata": {
    "scrolled": true
   },
   "outputs": [
    {
     "name": "stdout",
     "output_type": "stream",
     "text": [
      "Command to start Tika:\n",
      "java -jarC:\\Software\\ tika-server-1.23.jar --port 4321\n",
      "---\n",
      "Number of pdf files: 1285\n",
      "Number of word files: 0\n"
     ]
    }
   ],
   "source": [
    "port = 4321 # port to use for Tika server (chosen arbitrarily)\n",
    "server_str = 'http://localhost:' + str(port)\n",
    "tika_path  = 'C:\\Software\\ tika-server-1.23.jar'\n",
    "tika_run   = 'java -jar' + tika_path + ' --port ' + str(port)\n",
    "print('Command to start Tika:')\n",
    "print(tika_run)\n",
    "print('---')\n",
    "print('Number of pdf files: ' + str(len(pdf_files)))\n",
    "print('Number of word files: ' + str(len(wrd_files)))"
   ]
  },
  {
   "cell_type": "code",
   "execution_count": 64,
   "metadata": {},
   "outputs": [],
   "source": [
    "# process the PDF files, store text in memory\n",
    "tika.TikaClientOnly = True \n",
    "\n",
    "pdf_metadata = [parser.from_file(t, server_str, xmlContent=False)[\"metadata\"] for t in (pdf_files + wrd_files)]"
   ]
  },
  {
   "cell_type": "markdown",
   "metadata": {},
   "source": [
    "# Text Data\n",
    "\n",
    "Eliminate title, sections (eg: content between Method and Discussion) and Reference. It is saved as a pre-processed data"
   ]
  },
  {
   "cell_type": "code",
   "execution_count": 50,
   "metadata": {
    "scrolled": true
   },
   "outputs": [],
   "source": [
    "# process the PDF files, store text in memory\n",
    "tika.TikaClientOnly = True \n",
    "\n",
    "pdf_text = [parser.from_file(t, server_str, xmlContent=False)[\"content\"] for t in (pdf_files + wrd_files)]"
   ]
  },
  {
   "cell_type": "code",
   "execution_count": 51,
   "metadata": {},
   "outputs": [],
   "source": [
    "# save data\n",
    "pickle.dump(pdf_text, open( \"C:/Thesis/Data/save/Leadership_Quarterly/save_alltextData.p\", \"wb\" ) )"
   ]
  },
  {
   "cell_type": "markdown",
   "metadata": {},
   "source": [
    "#  Load the Text data"
   ]
  },
  {
   "cell_type": "code",
   "execution_count": 1,
   "metadata": {},
   "outputs": [],
   "source": [
    "import pickle\n",
    "#load the text data\n",
    "pdf_text = pickle.load(open(\"C:/Thesis/Data/save/Leadership_Quarterly/save_alltextData.p\", \"rb\"))\n"
   ]
  },
  {
   "cell_type": "code",
   "execution_count": 2,
   "metadata": {},
   "outputs": [
    {
     "data": {
      "text/plain": [
       "177"
      ]
     },
     "execution_count": 2,
     "metadata": {},
     "output_type": "execute_result"
    }
   ],
   "source": [
    "len(pdf_text)"
   ]
  },
  {
   "cell_type": "markdown",
   "metadata": {},
   "source": [
    "# Get country names"
   ]
  },
  {
   "cell_type": "code",
   "execution_count": 3,
   "metadata": {},
   "outputs": [],
   "source": [
    "# Since it is case sensetive, firstly get the list of country before converting the text to lowercase\n",
    "country_list = ['america', 'vietnam', 'usa']\n",
    "import pycountry\n",
    "\n",
    "for country in pycountry.countries:\n",
    "#    for i in pdf_text:\n",
    "#        if country.name in i:\n",
    "            #print(country.name)\n",
    "            country_list.append(country.name.lower())"
   ]
  },
  {
   "cell_type": "code",
   "execution_count": 38,
   "metadata": {},
   "outputs": [],
   "source": [
    "#Convert country list to lower case. it will be called in filter function\n",
    "#country_lower = [x.lower() for x in country_list]\n",
    "#print(country_list)"
   ]
  },
  {
   "cell_type": "markdown",
   "metadata": {},
   "source": [
    "# Get city names (and additional countries)"
   ]
  },
  {
   "cell_type": "code",
   "execution_count": 6,
   "metadata": {},
   "outputs": [],
   "source": [
    "from geotext import GeoText\n",
    "\n",
    "cities_list = []\n",
    "for i in pdf_text:\n",
    "    place = GeoText(i)\n",
    "    #print(place.cities)\n",
    "    #print(place.countries)\n",
    "    cities_list.append(place.cities + place.countries)\n",
    "\n",
    "t = []\n",
    "for i in cities_list:\n",
    "    t += i\n",
    "    \n",
    "#print(len(t))    \n",
    "    \n",
    "cities_list = list(set(t))\n",
    "# cities_list"
   ]
  },
  {
   "cell_type": "code",
   "execution_count": 5,
   "metadata": {},
   "outputs": [
    {
     "name": "stdout",
     "output_type": "stream",
     "text": [
      "993\n"
     ]
    }
   ],
   "source": [
    "#Convert cities list to lower case. it will be called in filter function\n",
    "cities_lower =[]\n",
    "for i in cities_list:\n",
    "    #for j in i:\n",
    "    cities_lower.append(i.lower())\n",
    "print(len(cities_lower))\n"
   ]
  },
  {
   "cell_type": "markdown",
   "metadata": {},
   "source": [
    "#  Convert pdf text to lower case"
   ]
  },
  {
   "cell_type": "code",
   "execution_count": 7,
   "metadata": {},
   "outputs": [],
   "source": [
    "#Convert each string to lowercase\n",
    "for i in range(len(pdf_text)):\n",
    "    pdf_text[i] = pdf_text[i].lower()"
   ]
  },
  {
   "cell_type": "markdown",
   "metadata": {},
   "source": [
    "# Excluding pdfs if it doesnot have the standard format \n",
    "check the standard format of pdf- if it contains method and discussion section or not"
   ]
  },
  {
   "cell_type": "code",
   "execution_count": 8,
   "metadata": {},
   "outputs": [
    {
     "data": {
      "text/plain": [
       "17"
      ]
     },
     "execution_count": 8,
     "metadata": {},
     "output_type": "execute_result"
    }
   ],
   "source": [
    "import re\n",
    "pdf_included =[]\n",
    "pdf_excluded =[]\n",
    "\n",
    "for i in pdf_text:\n",
    "    flag_1 = re.search(r'\\n(general )?discussion\\n', i)\n",
    "    flag_2 = re.search(r'\\nmethods?\\n', i)\n",
    "   \n",
    "    if flag_1 and flag_2: \n",
    "        pdf_included.append(i)\n",
    "     \n",
    "    else:\n",
    "        pdf_excluded.append(i)\n",
    "len(pdf_included)"
   ]
  },
  {
   "cell_type": "code",
   "execution_count": 9,
   "metadata": {},
   "outputs": [
    {
     "data": {
      "text/plain": [
       "160"
      ]
     },
     "execution_count": 9,
     "metadata": {},
     "output_type": "execute_result"
    }
   ],
   "source": [
    "len(pdf_excluded)"
   ]
  },
  {
   "cell_type": "code",
   "execution_count": 10,
   "metadata": {},
   "outputs": [],
   "source": [
    "# Within JM: acknowledgement section appears in two approaches:1: before or after keyword section (only few pdfs)\n",
    "# 2: before reference section (maximum pdfs)\n",
    "# thus, focusing on the majority occurance of acknowledgements before reference second, we removed it based on that condition.\n",
    "\n",
    "# step-1 remove content after acknowledgements section( it will include appendix, reference section)\n",
    "pdf_remove_step1 = [re.sub(r\"(?is)\\nacknowledgments\\n.*\", \"\", f) for f in pdf_included]\n",
    "\n",
    "# step-2 if there is no acknowledgements section than start with appendix (it will include reference section.)\n",
    "pdf_remove_step2 = [re.sub(r\"(?is)\\nappendix\\n.*\", \"\", f) for f in pdf_remove_step1]\n",
    "\n",
    "# step-3 remove all from reference section\n",
    "pdf_remove_step3 = [re.sub(r\"(?is)\\nreferences\\n.*\", \"\", f) for f in pdf_remove_step2]\n",
    "\n",
    "# get the reference section\n",
    "references = [re.sub(r\"^(.|\\n)+\\nreferences\\n\", \"\", f) for f in pdf_included]"
   ]
  },
  {
   "cell_type": "code",
   "execution_count": 11,
   "metadata": {},
   "outputs": [
    {
     "data": {
      "text/plain": [
       "17"
      ]
     },
     "execution_count": 11,
     "metadata": {},
     "output_type": "execute_result"
    }
   ],
   "source": [
    "len(pdf_remove_step3)"
   ]
  },
  {
   "cell_type": "code",
   "execution_count": 12,
   "metadata": {},
   "outputs": [],
   "source": [
    "# step-4: remove content between method and discussion section (it contains method and result section)\n",
    "def remove_method_result(method, discussion, text):\n",
    "    \n",
    "    import re    \n",
    "    start = method\n",
    "    end = discussion\n",
    "    #start of pattern, followed by any number of times 'any character OR a newline' and terminated by the end pattern.\n",
    "    #pattern = start + '.*'+'(.|\\n)*'+end\n",
    "    pattern = start +'(.|\\n)*'+end\n",
    "    #pdf_method_dis = [re.sub(pattern, '', f) for f in pdf_text]\n",
    "    pdf_method_dis = re.sub(pattern, '', text)\n",
    "\n",
    "    return pdf_method_dis"
   ]
  },
  {
   "cell_type": "code",
   "execution_count": 13,
   "metadata": {},
   "outputs": [],
   "source": [
    "import re\n",
    "#  remove method and result\n",
    "pdf_remove_step4 = [remove_method_result('\\nmethods?\\n', '\\n(general )?discussion\\n', t) for t in pdf_remove_step3]"
   ]
  },
  {
   "cell_type": "code",
   "execution_count": 14,
   "metadata": {},
   "outputs": [
    {
     "data": {
      "text/plain": [
       "17"
      ]
     },
     "execution_count": 14,
     "metadata": {},
     "output_type": "execute_result"
    }
   ],
   "source": [
    "len(pdf_remove_step4)"
   ]
  },
  {
   "cell_type": "markdown",
   "metadata": {},
   "source": [
    "# Pre-processing\n",
    "Regular expression is used to clean up the data"
   ]
  },
  {
   "cell_type": "code",
   "execution_count": 16,
   "metadata": {},
   "outputs": [
    {
     "name": "stdout",
     "output_type": "stream",
     "text": [
      "\n",
      "\n",
      "\n",
      "\n",
      "\n",
      "\n",
      "\n",
      "\n",
      "\n",
      "\n",
      "\n",
      "\n",
      "\n",
      "\n",
      "\n",
      "\n",
      "\n",
      "\n",
      "\n",
      "\n",
      "\n",
      "\n",
      "\n",
      "\n",
      "\n",
      "\n",
      "\n",
      "\n",
      "\n",
      "\n",
      "\n",
      "\n",
      "\n",
      "\n",
      "\n",
      "\n",
      "the role of leader emotion management in leader–member exchange and follower outcomes\n",
      "\n",
      "\n",
      "the leadership quarterly 27 (2016) 85–97\n",
      "\n",
      "contents lists available at sciencedirect\n",
      "\n",
      "the leadership quarterly\n",
      "\n",
      "j ourna l homepage: www.e lsev ie r .com/ locate / leaqua\n",
      "the role of leader emotion management in leader–member\n",
      "exchange and follower outcomes\n",
      "laura m. little a,⁎, janaki gooty b, michele williams c\n",
      "a terry college of business, university of georgia, athens, ga, united states\n",
      "b belk college of business, university of north carolina, charlotte, united states\n",
      "c michele williams, cornell university, united states\n",
      "a r t i c l e i n f o\n",
      "⁎ corresponding author.\n",
      "e-mail address: lmlittle@terry.uga.edu (l.m. little).\n",
      "\n",
      "http://dx.doi.org/10.1016/j.leaqua.2015.08.007\n",
      "1048-9843/© 2015 the authors. published\n",
      "(http://creativecommons.org/licenses/by-nc-nd/4.0/).\n",
      "a b s t r a c t\n",
      "article history:\n",
      "received 15 february 2015\n",
      "received in revised form 17 august 2015\n",
      "accepted 25 august 2015\n",
      "available online 2 november 2015\n",
      "\n",
      "handling editor: william gardner\n",
      "in response to growing calls for such research, we develop and test amodel of leader behaviors di-\n",
      "rected at managing followers' negative emotions. these leader interpersonal emotion manage-\n",
      "ment strategies (iems) are posited to affect followers' organizational citizenship behaviors\n",
      "performedwithin interpersonal relationships (ocbis) and job satisfaction via follower perceptions\n",
      "of the quality of the leader–member exchange relationship (lmx). in addition,we posit that some,\n",
      "but not all, leader iems promote and strengthen lmx relationships. results frommultisource data\n",
      "in a sample of 163 leader–follower dyads confirmed themajority of the hypothesizeddirect effects\n",
      "of the leader iems and mediating effects of lmx.\n",
      "© 2015 the authors. published by elsevier inc. this is an open access article under the cc by-nc-\n",
      "\n",
      "nd license (http://creativecommons.org/licenses/by-nc-nd/4.0/).\n",
      "keywords:\n",
      "interpersonal emotion management\n",
      "leader–member exchange\n",
      "social exchange theory\n",
      "emotion regulation\n",
      "introduction\n",
      "\n",
      "emotions are intricately intertwined in theories of leadership and lie at the core of many leadership mechanisms such as inspiring\n",
      "followers, building and sustaining interpersonal relationships, and investing in follower outcomes such as satisfaction, performance and\n",
      "citizenship behaviors (e.g., ashkanasy & humphrey, 2011; connelly, gaddis, & helton-fauth, 2002; gooty, connelly, griffith, & gupta,\n",
      "2010; humphrey, 2008; humphrey, pollack, & hawver, 2008; rajah, song, & arvey, 2011). indeed, many scholars have acknowledged\n",
      "that leaders are active managers of group emotion (ashkanasy & humphrey, 2011; brotheridge & lee, 2008; george, 2000; humphrey,\n",
      "2008; humphrey et al., 2008; pescosolido, 2002; pirola-merlo, härtel, mann, & hirst, 2002).\n",
      "\n",
      "given the vast number of studies, debates and comprehensive reviews that have accumulated (e.g., antonakis, ashkanasy, &\n",
      "dasborough, 2009; ashkanasy, 2003; gooty et al., 2010; humphrey, 2008; rajah et al., 2011), the study of leadership and emotions is no\n",
      "longer considered an emerging domain. many of these accumulated empirical studies have shed light on issues such as how leader's\n",
      "ownpositive andnegative emotional displays affect followers (i.e., brotheridge&lee, 2008), the impact of contagionprocesses that transmit\n",
      "leader affect to the workgroup (e.g., sy, côté, & saavedra, 2005), and the effects of leader surface and deep acting on follower outcomes to\n",
      "name just a few (i.e., humphrey et al., 2008). the role of emotions in leadership literature, then, has primarily focused on leaders' emotional\n",
      "displays, processes (e.g., contagion, emotional labor) and emotion-related abilities (e.g., emotional intelligence; positive and negative\n",
      "affectivity) and the effects thereof on their followers, or groups of followers. what is less common in the literature is a focus on the active\n",
      "or conscious behaviors enacted by leaders to manage follower emotions. such a focus would be consistent with the work of many scholars\n",
      "who have argued convincingly that followers and leaders alike consider the management of follower emotion, and negative emotion in\n",
      "by elsevier inc. this is an open access article under the cc by-nc-nd license\n",
      "\n",
      "http://crossmark.crossref.org/dialog/?doi=10.1016/j.leaqua.2015.08.007&domain=pdf\n",
      "http://dx.doi.org/10.1016/j.leaqua.2015.08.007\n",
      "lmlittle@terry.uga.edu\n",
      "http://dx.doi.org/10.1016/j.leaqua.2015.08.007\n",
      "http://www.sciencedirect.com/science/journal/10489843\n",
      "\n",
      "\n",
      "86 l.m. little et al. / the leadership quarterly 27 (2016) 85–97\n",
      "particular, a fundamental leadership task (e.g., ashkanasy, 2003; dasborough & ashkanasy, 2002; humphrey, 2008; huy, 2002; sanchez-\n",
      "burks &huy, 2009; pescosolido, 2002; seo et al., 2012; toegel, kilduff, & anand, 2013). indeed, humphrey (2008) coined the term “leading\n",
      "with emotional labor” to reflect this critical function of a leader as an activemanager of follower emotion. yet, rather surprisingly, the liter-\n",
      "ature is fairly scant in this domain with very few studies focusing on specific behaviors leaders enact in response to follower emotion\n",
      "(e.g., gooty et al., 2010).\n",
      "\n",
      "to be sure, a handful of studies have examined leader behaviors as the cause of follower emotions. for example, dasborough\n",
      "(2006) found that certain leader behaviors (e.g., empowering followers, communication, demonstrating concern, recognizing\n",
      "employee effort) are the causes of affective events in followers thus leading to emotion experiences. similarly, mccoll-kennedy\n",
      "and anderson (2002) found that followers experience more positive emotions when leaders display transformational behaviors.\n",
      "in an earlier theoretical treatise, weierter (1997) argued that charismatic leaders reinforce follower self-esteem via displays of\n",
      "enthusiasm and passion and thus engender positive emotions in followers. despite this progress, less is known about what specific\n",
      "behaviors leaders enact tomanage followers' negative emotions. and, importantly, what is the influence of these behaviors on impor-\n",
      "tant job-related outcomes such as relationship quality, contextual performance and satisfaction?\n",
      "\n",
      "in this paper, we cast interpersonal emotion management (iem) strategies (williams, 2007) as observable leader behaviors\n",
      "targeted at managing followers' negative emotions. drawing upon increasing evidence in emotion regulation theories and empirical\n",
      "findings which suggest that people routinely manage and regulate others' emotions (e.g., barden, zelko, duncan, & masters, 1980;\n",
      "covell & abramovitch, 1987; francis, 1997; huy, 2002; mccoy & masters, 1985; niven, holman, & totterdell, 2012; niven,\n",
      "totterdell, holman, & headley, 2012; pierce, 1995; rafaeli & sutton, 1990; richards, butler, & gross, 2003; toegel, anand, & kilduff,\n",
      "2007; williams, 2007; williams & emich, 2014), we suggest that leaders regulate follower emotions via the use of leader iem strate-\n",
      "gies. furthermore, drawing upon the tenets of social exchange theory and attribution theory we argue that followers attribute differ-\n",
      "ing intentionality to the use of these strategies, which in turn will influence relationship quality.\n",
      "\n",
      "specifically, a leader's use of problem-focused strategies that mitigate or eliminate underlying causes of negative emotions will\n",
      "relate to positive follower perceptions of a quality exchange relationship between the follower and leader (i.e., lmx). in contrast, a\n",
      "leader's use of iem strategies that are emotion-focused and leave the underlying cause of negative emotion unaddressed hinder\n",
      "the lmx relationship via decreased rapport and affiliation (e.g., butler et al., 2003). we further expect that lmx will mediate the\n",
      "relationships between each of the iem strategies and routinely studied work outcomes: organizational citizenship behaviors\n",
      "performedwithin interpersonalwork relationships (ocbis) and job satisfaction.we chose these outcomes because of their conceptual\n",
      "relationships with lmx and their organizational importance, as both have been linked to organizational performance (e.g., bolino,\n",
      "turnley, & bloodgood, 2002; ostroff, 1992).\n",
      "\n",
      "our work contributes to the leadership and emotions literature in three unique ways. first, we extend research on emotions in\n",
      "leadership by investigating perceptions of specific leader behavior targeted at managing followers' negative emotions. the lmx liter-\n",
      "ature has long contended that leader-follower interactions and role-making episodes can elicit high-quality lmx (e.g., ballinger &\n",
      "rockmann, 2010; liden, sparrowe, & wayne, 1997; liden & maslyn, 1998; sparrowe & liden, 1997; sin, nahrgang, & morgeson,\n",
      "2009). yet, we know very little about the specific leader behaviors that are enacted during such role-making episodes or interactions\n",
      "that relate to lmx. an understanding of such behaviors could stimulate further theory and empirical research by pinpointing specific\n",
      "leader behaviors (in addition to known lmx antecedents such as dyad tenure) that could foster higher quality lmx.\n",
      "\n",
      "second, we contribute to theory and findings in the study of social exchanges which have started to move away from a purely\n",
      "transactional-cognitive route to one that contends that emotion expression and regulation are key building blocks for the develop-\n",
      "ment and maintenance of interpersonal relationships (e.g., ballinger & rockmann, 2010; butler et al., 2003; gooty, thomas, &\n",
      "connelly, 2015; harker & keltner, 2001; lawler & thye, 1999; saavedra & van dyne, 1999). considering that leaders' responsiveness\n",
      "to followers' emotions in interpersonal relationships is laden with information, attributions and intentionality, a focus on such\n",
      "emotional phenomena may be central to understanding social exchange (e.g., butler et al., 2003; lawler, thye, & yoon, 2009).\n",
      "\n",
      "finally, we contribute to the iem literature by offering a finer grained examination of iem strategies. this examination suggests\n",
      "that specific iem strategies differentially affect the quality of leader-follower relationships. understanding why perceptions of some\n",
      "iem strategies are likely to elicit positive outcomes whereas some are likely to elicit negative outcomes deepens our theoretical\n",
      "understanding of iem strategies in organizations beyond current models, which suggest primarily positive effects for the target\n",
      "individual (williams & emich, 2014). in the following sections, we develop theory connecting the use of leader iem strategies to\n",
      "evaluations of the social exchange relationships between leaders and their followers, ocbis, and job satisfaction. next, we present\n",
      "empirical findings showing the importance of iem strategies in building or thwarting high-quality lmx. such lmx, in turn, mediates\n",
      "the association between leader iem strategies and work outcomes: ocbis and job satisfaction (see fig. 1 for a graphical description).\n",
      "\n",
      "interpersonal emotion management strategies\n",
      "\n",
      "interpersonal emotion management (iem) strategies derive from gross (1998) work on emotion management of the self and the\n",
      "notion that individuals manage others' emotions at work using the same tactics that they use tomanage their own emotions (francis,\n",
      "1997; little, kluemper, nelson, & gooty, 2012; lively, 2000; niven, totterdell, & holman, 2009). williams (2007) outlined four\n",
      "interpersonal emotionmanagement strategies used tomanage others' emotions: situationmodification, cognitive change, attentional\n",
      "deployment, and modulating the emotional response.\n",
      "\n",
      "situation modification consists of active efforts to directly modify or change a situation to alter its emotional impact (gross, 1998).\n",
      "in situation modification, a leader will remove, modify, or change the aspects of the situation or problem causing an undesired\n",
      "emotion in the follower. as such, situation modification is problem-focused. for example, if an employee is experiencing anxiety\n",
      "\n",
      "\n",
      "\n",
      "-.38**\n",
      "\n",
      "-.08\n",
      "\n",
      ".16\n",
      "\n",
      "-.11\n",
      "\n",
      ".22+\n",
      "\n",
      "-.32**\n",
      "\n",
      ".33*\n",
      "\n",
      "-.05\n",
      "\n",
      "-.06\n",
      "\n",
      ".41**\n",
      "\n",
      ".33**\n",
      "\n",
      "-.14\n",
      "\n",
      "sm\n",
      "\n",
      "lmx\n",
      "\n",
      "ocbis\n",
      "\n",
      "cc\n",
      "\n",
      "ad\n",
      "\n",
      "mer\n",
      "\n",
      "-.20*\n",
      "\n",
      "job satisfaction\n",
      "\n",
      ".22*\n",
      "\n",
      "fig. 1.path estimates additional paths tested in alternativemodel sm= situationmodification, ad= attentional deployment, cc= cognitive change,mer= modulating\n",
      "the emotional response. lmx= leader–member social exchange; +p b .10, *p b .05, **p b .01.\n",
      "\n",
      "87l.m. little et al. / the leadership quarterly 27 (2016) 85–97\n",
      "over completing work within a specified time frame, a supervisor might modify the situation by reducing the amount of work\n",
      "required for the task or by reassigning some of the employee's responsibilities to a coworker.\n",
      "\n",
      "cognitive change involves selecting which of many possible meanings will be attached to the situation, reappraising or\n",
      "reinterpreting the situation as having less potential for harm to goals, concerns, andwell-being (gross, 1998). cognitive change entails\n",
      "the leader exhibiting behaviors that put situations in perspective for the follower, helping the follower see the situation in a more\n",
      "positive light. thus, cognitive change is also problem-focused. for instance, if an employee were distressed that her r&d project\n",
      "did not receive funding, her manager might reframe the failure as a normal and important step toward developing a project that\n",
      "would get funding. cognitive change is distinguished from situation modification in that the antecedent causing the undesired\n",
      "emotion is not removed or altered. instead, the negative emotional impact of the antecedent is mitigated by changing the way the\n",
      "follower thinks about the problem. when using this strategy, a leader is attempting to reduce emotion-provoking aspects of the\n",
      "situation in the mind of the follower.\n",
      "\n",
      "we acknowledge that when cognitive change is self-focused rather than interpersonally oriented, it is similar in content to the\n",
      "coping strategy known as positive reinterpretation (i.e., seeing a stressor in a more positive light and as a challenge rather than a\n",
      "threat; carver, scheier, & weintraub, 1989). although positive reinterpretation has been cast as an emotion-focused coping strategy\n",
      "by some scholars (e.g., carver et al., 1989) and alternatively, as a problem-focused strategy by others (wright, mohr, sinclair, & yang,\n",
      "2015; lazarus & folkman, 1984), we follow the latter as we contend that in order to reinterpret a problem in amore positive light for\n",
      "others, one must understand and focus on the problem.\n",
      "\n",
      "attentional deployment involves distracting attention away from the elements of a situation that are harmful to goals, concerns,\n",
      "or well-being, or by moving away from the situation entirely (gross, 1998). in attentional deployment, a leader directs his or her\n",
      "behavior at distracting the follower in order to induce more positive emotions. leaders and other agents will often use humor\n",
      "(e.g., acting silly to make the target laugh) or other means (e.g., denigrating a common enemy) as ways of distracting followers to\n",
      "improve their emotions (niven et al., 2009). attentional deployment is distinguished from situation modification and cognitive\n",
      "change in that the problem causing the undesired emotion is not removed, reframed, or directly addressed. instead, when using\n",
      "this strategy, a leader is attempting to distract a follower's attention from the cause of the negative emotion. in this way, attentional\n",
      "deployment is emotion-focused.\n",
      "\n",
      "modulating the emotional response involves influencing emotional response tendencies. this strategy is aimed at reducing the\n",
      "behavioral expression of an emotion once it is experienced. in modulating the emotional response, leaders engage in behaviors\n",
      "that encourage followers to suppress their undesired negative emotions. suppression can be particularly important in organizations\n",
      "because it can be easily communicated and modeled by leaders and also built into an organization's culture (hochschild, 1979; huy,\n",
      "2002; mumby & putnam, 1992). indeed, organizational display rules are typically targeted at the suppression of negative emotions\n",
      "such as anger, shame, and sadness (geddes & callister, 2007), and leaders encourage adherence to these display rules via acts of\n",
      "modulating the emotional response. for example, a leader may direct an employee to calm down when upset, or advise him or her\n",
      "to “relax,” or tell him or her “that's enough.” leaders' attempts at managing followers' emotions often involve “making it clear\n",
      "[one] do[es] not care how the target feels,” and aims to reduce the follower's expression of these feelings rather than to address the\n",
      "problem causing the feelings (niven et al., 2009, p. 504). thus, modulating the emotional response, like attentional deployment is\n",
      "emotion-focused.\n",
      "\n",
      "\n",
      "\n",
      "88 l.m. little et al. / the leadership quarterly 27 (2016) 85–97\n",
      "importantly, iem strategies are focused on the management of others' negative emotions. negative emotions arise out of a\n",
      "perceived goal obstruction or threat in one's environment (see lazarus & folkman, 1984; ortony, clore, & collins, 1988). the iem\n",
      "strategies that we have described above differ in the extent to which they address the sources of followers' negative emotions. we\n",
      "contend that when iem strategies are visible and perceived by followers, not all iem strategies will create conditions that are optimal\n",
      "for relationship development and will have implications for leader-follower relationships.\n",
      "\n",
      "leader–member exchange and interpersonal emotion management\n",
      "\n",
      "leader–member exchange, with its roots in social exchange theory, suggests that leader-follower interactions lay the foundation\n",
      "for perceptions of the quality of the exchange relationship between leaders and followers (blau, 1964). followers' perceptions of lmx\n",
      "reflect the expectation that voluntary actions on their part will be reciprocated by the leader (e.g., bernerth, armenakis, feild, giles, &\n",
      "walker, 2007). these perceptions are important in the workplace because they influence performance-related and attitudinal\n",
      "variables (see dulebohn, bommer, liden, brouer, & ferris, 2012; and gerstner & day, 1997, for reviews). the history of followers'\n",
      "interactions with their leaders shapes their perceptions of the nature and quality of those relationships. such relationships develop\n",
      "over a period of time (e.g., bauer & green, 1996) and are based on role-making episodes (e.g., sin et al., 2009). this history results\n",
      "in leaders developing different types of relationships with their various followers (dansereau, graen, & haga, 1975; graen &\n",
      "cashman, 1975). relationships with one's leader can reside anywhere on a continuum from a low-quality transactional relationship\n",
      "based on quid pro quo exchanges to a high-quality exchange relationship based on felt obligation and reciprocal behavior. graen and\n",
      "uhl-bien (1995) note that higher quality exchanges are a function of met expectations resulting from such role-making episodes, and\n",
      "these expectations span both the task and interpersonal domains.\n",
      "\n",
      "the social exchange view of lmx argues that the development and maintenance of positive lmx relationships occur via\n",
      "high-quality interpersonal exchanges characterized by respect, liking, and mutual obligation (e.g., dulebohn et al., 2012; graen &\n",
      "uhl-bien, 1995). even though such interpersonal exchanges are ripe with emotions and emotion-related information, theory and\n",
      "research in lmx have adopted a largely cognitive-transactional stance with a few notable exceptions (e.g., ballinger & rockmann,\n",
      "2010; saavedra & vandyne, 1999). furthermore, early works in lmx (e.g., dienesch & liden, 1986) have underscored the importance\n",
      "of member attributions and categorizations of leader behavior in forming lmx evaluations. considering that the experience, expres-\n",
      "sion, and partner's responsiveness to emotions in interpersonal relationships is ladenwith information, attributions and intentionality,\n",
      "a focus on such emotion phenomena is key to understanding how such high quality lmx relationships could be fostered (e.g., butler\n",
      "et al., 2003). when leaders actively manage followers' emotions via iem strategies, such leader behaviors become an integral piece of\n",
      "information that followers draw upon in further evaluating, reciprocating, and maintaining that relationship with their leaders.\n",
      "\n",
      "in this section,we propose that the use of leader iems that are problem-focusedwill be positively associatedwith lmxwhile, their\n",
      "use of emotion-focused iems will be negatively associated with lmx. for example, a leader might use situation modification by\n",
      "assigning additional supportive resources (e.g., coworkers, extra pay) to a subordinate who is feeling overwhelmed and anxious.\n",
      "such a leader has clearly addressed the cause of the anxiety and attempted to alleviate it. thus, we contend that situationmodification\n",
      "will be positively related to lmx.\n",
      "\n",
      "cognitive change also addresses the cause of the negative emotion, but does so in a somewhat different manner. when using\n",
      "cognitive change, the leader attempts to alter the follower's perception of the causes of the negative emotions (rather than altering\n",
      "the causes themselves). for instance, when a leader helps the follower see the cause of the negative emotion in a different light as\n",
      "something that is temporary and will improve with each day, not only is the emotional impact of the situation reduced, but the\n",
      "follower is likely to appreciate the leader's attempt to reframe the situation. the leader has increased the follower's perceptions of\n",
      "the quality of their lmx and sense of obligation toward the leader. when followers then make positive attributions about the leader\n",
      "(e.g., “s/he cares aboutmygoals”), and they feel a sense of obligation based onmet expectations (i.e., “my leader just dealtwith threats\n",
      "inmywork environment as i expected them to”), then a sense of obligation is created via the supportive leader behavior of reframing\n",
      "the workplace hassle.\n",
      "\n",
      "there are at least three compelling pathways from follower perceptions of leader problem-focused iems use and lmx. first,\n",
      "followers have role expectations regarding leader iem (e.g. dasborough & ashkanasy, 2002; toegel et al., 2013). both positive and\n",
      "negative emotions stem from daily workplace events (dasborough, 2006; weiss & cropanzano, 1996). a key function of leadership\n",
      "is to attend to or work toward alleviating workplace hassles (i.e., be problem-focused), thus mitigating follower negative emotions\n",
      "(dasborough & ashkanasy, 2002; humphrey, 2008). when leaders use iem strategies that address the problems causing negative\n",
      "emotions (situation modification or cognitive change), followers' expectations are met, a sense of obligation is created, and lmx is\n",
      "enhanced.\n",
      "\n",
      "a second pathway from leader iems to lmx is attributions of intentionality on the part of followers when they perceive leaders\n",
      "using problem-focused coping strategies (dasborough & ashkanasy, 2005). dasborough and ashkanasy (2005) state people act as\n",
      "“naïve scientists” in deciphering, making sense of and attributing intentions to other people's behavior (see also martinko &\n",
      "gardner, 1987 for a review of leader–member attribution processes). they further note that followers could attribute leader behavior\n",
      "to a focus that is other-oriented or self-serving. we extend their logic further and suggest that followers attribute benevolent inten-\n",
      "tionality to the leader (i.e., my leader cares aboutme and is watching out forme)when they perceive the use of problem-focused iem\n",
      "strategies. as noted earlier, this is due to the alleviation of work-related hassles that form the core of such leader iems.\n",
      "\n",
      "third, when leaders use problem-focused iems, they communicate to followers that the expression of negative emotions is\n",
      "acceptable. moreover, because emotions are rich with communicative information (alea & bluck, 2007), the expression of emotions\n",
      "can enhance communication, promote positive relational functioning (gottman & levenson, 2000; gross & john, 2003) and bring\n",
      "\n",
      "\n",
      "\n",
      "89l.m. little et al. / the leadership quarterly 27 (2016) 85–97\n",
      "needed attention to important organizational issues (geddes & callister, 2007). using problem-focused iems, they not only address\n",
      "the source of the followers' emotion, but also may make followers feel validated and promote open communicate of followers'\n",
      "thoughts aswell as emotions—which could set the stage for the relationship to be better (e.g., gross & levenson, 1997). taken togeth-\n",
      "er, each of these cognitivemechanisms— i.e., met role expectations of the leader, an attribution of benevolence and emotion rich com-\n",
      "munication in the relationship—all allow higher quality lmx relationships to emerge.\n",
      "\n",
      "hypothesis 1. followers' perceptions of leaders' use of situation modification will positively impact lmx.\n",
      "\n",
      "hypothesis 2. followers' perceptions of leaders' use of cognitive change will positively impact lmx.\n",
      "\n",
      "however, not all iem strategies used by leaders produce positive outcomes. when leaders use iem strategies that do not address\n",
      "the cause of negative emotions (i.e., are not problem-focused), followers' role expectations regarding the leader go unmet. their lmx\n",
      "is undermined, and they are less likely both to invest in voluntary actions for that leader and to believe that their voluntary actions\n",
      "might be reciprocated.we argue that attentional deployment and themodulating the emotional response are likely to negatively im-\n",
      "pact lmx in the context of leader-follower relationships because they donot alleviate sources of negative emotion in the environment.\n",
      "attentional deployment signals to followers that leaders are not willing to invest time and resources in altering the source of the\n",
      "negative emotion (materially or cognitively). thus, followers will be less likely to engage in reciprocal behavior. furthermore,\n",
      "when followers observe that leaders do not attempt to address or alleviate workplace challenges in their environment, one of\n",
      "followers' fundamental role expectations of leaders is violated (graen & uhl-bien, 1995).\n",
      "\n",
      "the awareness that those who should be able to address a workplace problem are instead trying to distract from that problem\n",
      "can cause resentment over time. for example, consider a follower who has had an intense negative experience with a customer\n",
      "(or coworker) and feels angry. the leader might steer the conversation to focus on things that the follower enjoys. such responses\n",
      "to follower emotions might distract the follower momentarily. however, because the causes in the follower's environment are not\n",
      "mitigated or resolved, the follower might infer that the leader does not care enough to invest time and resources in alleviating the\n",
      "causes of his or her negative emotions. the follower will subsequently feel that his or her problem is being overlooked or ignored.\n",
      "this unmet expectation affects the follower's evaluation of the quality of the exchange relationship with the leader. furthermore,\n",
      "the follower could then attribute apathy and less benevolent intentionality to the leader as they have not observed behaviors directed\n",
      "at alleviating the follower's workplace hassles. we hypothesize the following:\n",
      "\n",
      "hypothesis 3. followers' perceptions of leaders' use of attentional deployment will negatively relate to lmx.\n",
      "\n",
      "similarly, becausemodulating the emotional response (mer) involves suggesting that a target (i.e., follower) refrain fromexpressing\n",
      "his or her negative feelings, this mode of behavior shows disregard for those feelings and does not address the source of the negative\n",
      "emotions. the use of mer not only conveys to followers that their emotions need to be suppressed, but also that the leader does not\n",
      "acknowledge their feelings as valid and is not going towork to alleviate them. in interpersonal relationships research, especially marital\n",
      "satisfaction research, a key cause for relationships to deteriorate is the suppression of emotion as they tend to be so rich with commu-\n",
      "nicative information (alea & bluck, 2007). as an example, gottman and levenson (2000) in a 14-year longitudinal study of married\n",
      "heterosexual couples found that emotions in interactions between the couple predicted divorce rates at a later timewith 93% accuracy.\n",
      "our point here is that when leaders encourage follower to suppress their emotions, they lose the opportunity to address the problem,\n",
      "make followers feel validated, and to promote open communicate of followers' thoughts as well as emotions—behavior which could\n",
      "have set the stage for the relationship to be better (e.g., gross & levenson, 1997). instead, the use of mer is likely to decrease interper-\n",
      "sonal expressiveness and relationship quality (gross & john, 2003). indeed, as noted earlier, the suppression of emotion expression in\n",
      "that dyadic relationship can be toxic to the relationship as it hinders free and fair communication (e.g., butler et al., 2003).\n",
      "\n",
      "whether or not followers choose to suppress their emotions, leaders who ask their followers to refrain from expressing their\n",
      "feelings discount their followers' experiences. they also fail to resolve the emotion-eliciting event. followers may view leaders as\n",
      "apathetic regarding their situations (e.g., dasborough & ashkanasy, 2002, 2005). thus, unmet role expectations for the leader, an\n",
      "attribution of apathy rather than benevolence, and emotion-poor communication in the relationship—all may inhibit higher quality\n",
      "lmx relationships from emerging. we propose the following:\n",
      "\n",
      "hypothesis 4. followers' perceptions of leaders' use of modulating the emotional response will negatively relate to lmx.\n",
      "iem strategies, lmx, satisfaction and ocbis\n",
      "\n",
      "overall job satisfaction, which refers to the degree to which an employee enjoys a job, is not only a central job attitude and\n",
      "outcome variable in organizational behavior (judge, thoresen, bono, & patton, 2001), but also a relevant outcome for lmx because\n",
      "leaders directly influence subordinates' experiences of their jobs (dulebohn et al., 2012). organizational citizenship behaviors,\n",
      "which refer to discretionary behaviors that promote effective functioning of the organization but are not typically recognized formally\n",
      "by an organization (lee & allen, 2002; organ, 1988), are also relevant to the leader-subordinate context. high-quality lmx is\n",
      "associated with felt obligation (e.g., “i owe him or her one”), and ocbs are a core mechanism for expressing both felt obligation\n",
      "and the reciprocity that often accompanies high-quality lmx relationships (dulebohn et al., 2012).we focus specifically on interper-\n",
      "sonal or altruistic organizational citizenship behaviors (ocbis) because these are directed at helping another individual and, therefore,\n",
      "are particularly relevant for the exchange relationships between supervisors and subordinates (williams & anderson, 1991).\n",
      "\n",
      "\n",
      "\n",
      "90 l.m. little et al. / the leadership quarterly 27 (2016) 85–97\n",
      "given this study's purpose of identifying importantwork outcomes associatedwith iem strategies, we position lmx as the explan-\n",
      "atory mechanism relating the perception of iem strategies to job satisfaction and ocbis. because the relationship between lmx and\n",
      "satisfaction and ocbis has been established in the extant literature (c.f. cropanzano & mitchell, 2005; dulebohn et al., 2012;\n",
      "erdogan & enders, 2007; gerstner & day, 1997; liden & maslyn, 1998; ozer, 2008; wayne, shore, & liden, 1997), we will present\n",
      "theoretical support and hypotheses linking iem strategies to these outcomes indirectly via lmx.\n",
      "\n",
      "we have proposed that, although all iem strategies may reduce negative emotions at least temporarily in specific contexts, only\n",
      "some strategies provide positive cues about leaders' willingness to address emotion-provoking threats to their followers' well-\n",
      "being, whereas other strategies provide negative cues about leaders' willingness to do this. specifically, because followers' role expec-\n",
      "tations regarding leaders' willingness to address threats to them are met via the problem-focused strategies of situationmodification\n",
      "and cognitive change, these behaviors signal to followers that the leaders care about them.when followers perceive these behaviors,\n",
      "they are likely to experience a sense of obligation and higher quality lmx will ensue. this higher quality lmx as well as the sense of\n",
      "indebtedness and obligation characteristic of high-quality lmx set the stage for extra effort to engage in extra-role behavior. having a\n",
      "leader who acknowledges and addresses obstacles in one's workplace via enactment of cognitive change and situation modification\n",
      "creates positive outcomes because (a) it provides a positive interpersonal cue as to the quality of the leader-follower relationship,\n",
      "(b) it motivates followers to put in extra effort toward their tasks as they feel indebted to the supervisor, and (c) the resultant percep-\n",
      "tion of higher quality lmx acts as a critical supportive resource for followers in that it enhances their belief that they can rely on their\n",
      "leaders to overcome obstacles, thus encouraging ocbis.\n",
      "\n",
      "higher quality lmx also facilitates job satisfaction for similar reasons. first, the supervisor and the work environment are both\n",
      "critical aspects of job satisfaction. when higher quality lmx relationships exist, job satisfaction should increase because followers\n",
      "enjoy the material and relational benefits of that quality relationship (e.g., dulebohn et al., 2012; erdogan & enders, 2007; ozer,\n",
      "2008). finally, follower job satisfaction is also enhanced because high quality lmx signals to followers that their leader values their\n",
      "role and contribution and is willing to invest time and resources into that relationship. thus, we hypothesize the following:\n",
      "\n",
      "hypothesis 5. followers' perceptions of leaders' use of situation modification (5a) and cognitive change (5b) will be positively and\n",
      "indirectly related to ocbis through lmx.\n",
      "\n",
      "hypothesis 6. followers' perceptions of leaders' use of situation modification (6a) and cognitive change (6b) will be positively and\n",
      "indirectly related to job satisfaction through lmx.\n",
      "\n",
      "in contrast to the effects of iem strategies that address the underlying causes of negative emotions, attentional deployment and\n",
      "modulating the emotional response are negatively related to lmx because (a) they do not address the underlying causes of followers'\n",
      "negative emotions and, thus, provide negative interpersonal cues about the quality of the leader-follower relationship, (b) they result\n",
      "in unmet role expectations on the part of the follower, and (c) they leave in place obstacles or hassles in the work environment.\n",
      "\n",
      "hypothesis 7. followers' perceptions of leaders' use of attentional deployment (7a) andmodulating the emotional response (7b)will\n",
      "be negatively and indirectly related to ocbis through lmx.\n",
      "\n",
      "hypothesis 8. followers' perceptions of leaders' use of attentional deployment (8a) andmodulating the emotional response (8b)will\n",
      "be negatively and indirectly related to job satisfaction through lmx.\n",
      "an important aspect of leadership is managing negative emotions in followers, yet researchers have just begun to investigate the\n",
      "behavioral strategies that leaders use to do so. further, even less is understood about the impact that perceptions of these strategies\n",
      "can have on leader-follower relationships or subsequent follower behavior and attitudes. the results of our study were consistent\n",
      "with a model in which followers' perceptions of lmx are influenced by their perceptions of the emotion management strategies\n",
      "used by their leader. leaders' attempts to manage follower emotions can be positive as in the case of cognitive change and situation\n",
      "modification, negative as in the case of modulating the emotional response or neutral as in the case of attentional deployment.\n",
      "\n",
      "our findings are consistent with the premise that leaders' iem strategies provide interpersonal cues that can engender stronger\n",
      "positive or negative perceptions about the nature and quality of the exchange relationships they share with their followers. perceived\n",
      "efforts by leaders to attend to followers' needs and emotions, such as modifying the situation or reframing events, can provide such\n",
      "table 1\n",
      "means, standard deviations, intercorrelations, and reliabilities.\n",
      "\n",
      "variable m sd 1 2 3 4 5 6 7\n",
      "\n",
      "1 situation modification 5.14 1.18 (0.91)\n",
      "2 cognitive change 4.75 1.04 0.44⁎⁎ (0.85)\n",
      "3 attentional deployment 4.33 1.09 0.38⁎⁎ 0.59⁎⁎ (0.82)\n",
      "4 mer 2.89 1.40 −0.04 0.15⁎ 0.34⁎⁎ (0.91)\n",
      "5 lmx 3.80 .64 0.45⁎⁎ 0.41⁎⁎ 0.20⁎ −0.16⁎ (0.93)\n",
      "6 ocbis 4.02 .73 0.06 0.02 −0.02 −0.33⁎⁎ 0.23⁎ (0.89)\n",
      "7 job satisfaction 5.99 1.06 0.20⁎ 0.23⁎⁎ 0.08 −0.27⁎⁎ 0.33⁎⁎ 0.08 (0.92)\n",
      "8 tenure with supervisor 4.06 5.82 0.02 −0.05 −0.05 −0.02 −0.09 −0.04 0.12\n",
      "\n",
      "note. n = 163. mer = modulating the emotional response, lmx = leader–member social exchange, ocbs = organizational citizenship behavior.\n",
      "⁎ p b .05.\n",
      "⁎⁎ p b .01.\n",
      "\n",
      "\n",
      "\n",
      "table 2\n",
      "results of structural nested model comparison.*\n",
      "\n",
      "model χ2 df δχ2 rmsea srmr cfi\n",
      "\n",
      "measurement model 1054.67⁎⁎ 720 – 0.053 .065 .92\n",
      "alternative measurement model 1\n",
      "two problem-focused strategies (situation modification and cognitive change) load together and the two\n",
      "emotion-focused strategies (attentional deployment and modulating the emotional response) load\n",
      "together\n",
      "\n",
      "1607.37⁎⁎ 731 552.7⁎⁎ 0.086 .124 .79\n",
      "\n",
      "alternative measurement model 2\n",
      "all four strategies load together on a single factor 2082.06⁎⁎ 735 1027.39⁎⁎ 0.106 .130 .67\n",
      "hypothesized model:\n",
      "iem strategies to lmx to ocbis and job satisfaction; mer to ocbis and job satisfaction 1087.14⁎⁎ 725 – 0.055 .081 .91\n",
      "alternative model 1:\n",
      "iem strategies to lmx to ocbis and job satisfaction; iem strategies to ocbis and job satisfaction 1049.02⁎⁎ 717 38.12⁎⁎ 0.053 .064 .92\n",
      "\n",
      "note. n = 163. iem = interpersonal emotion management, lmx = leader–member social exchange, ocbis = interpersonal organizational citizenship behavior,\n",
      "mer = modulating the emotional response.\n",
      "⁎ p b .05.\n",
      "⁎⁎ p b .01.\n",
      "\n",
      "93l.m. little et al. / the leadership quarterly 27 (2016) 85–97\n",
      "cues—perhaps via attribution of leader benevolence or met expectations—that are positively associated with lmx, ocbis and job\n",
      "satisfaction. across both of the problem-focused strategies, situation modification and cognitive change, leaders help followers\n",
      "alleviate and minimize goal-obstructive work events that serve as antecedents to undesired negative emotions. our findings suggest\n",
      "that such leader behaviors help foster follower perceptions that leaders care about their goal accomplishment and are positively\n",
      "related to their evaluation of the quality of their relationships. indirectly, they relate to follower outcomes—both behavioral and\n",
      "attitudinal. in addition, cognitive change was positively and directly associated with job satisfaction. because positive moods have\n",
      "been found to be positively related to job satisfaction (judge et al., 2001; judge & ilies, 2004), the iem strategy of cognitive change\n",
      "may also influence job satisfaction by influencing followers' moods. to the degree that followers accurately perceive leaders general\n",
      "propensity to use cognitive change, such that this perception reflects an increase in positive affect during emotion managing inter-\n",
      "actions with the leader, the more generalized relationship that we found between this iem strategy and follower job satisfaction\n",
      "may be mediated by positive mood.\n",
      "\n",
      "conversely, across both of the non-problem-focused strategies modulating the emotional response and attentional deployment,\n",
      "leaders fail to help followers alleviate and minimize goal-obstructive work events that serve as antecedents to undesired negative\n",
      "emotions. our findings are consistent with our contention that leaders who encourage followers to modulate, or suppress, their\n",
      "emotional responses to negative events reap followers' negative views of the leader-follower relationship. telling followers “that's\n",
      "enough” or to “cut it out” may signal that leaders have no interest in helping followers manage negative events; they just don't\n",
      "want followers to display negative reactions. this perception, in turn, is likely to relate to a less favorable evaluation of follower\n",
      "lmx with the leader. moreover, the perceived demand for suppression may relate the desire to balance discretionary efforts against\n",
      "these additional demands for emotion work. when employees perceive that their leaders want them to suppress negative emotions,\n",
      "this lack of support can be compounded by the perceived demand for suppression. as a result of these perceived demands for suppres-\n",
      "sion, the leader-follower exchange relationship suffers and ocbis suffer as well.\n",
      "\n",
      "it appears that modulating the emotional response may have an additional negative impact beyond that driven by lmx as it also\n",
      "significantly and negatively related to both job satisfaction and ocbis. because the act of suppressing one's emotions may degrade\n",
      "one's relationships and well-being (gross & john, 2003; gross & levenson, 1997; pennebaker & beall, 1986)—a finding that has\n",
      "been replicated in studies of the emotional labor (bhave & glomb, 2013; grandey & gabriel, 2015)—modulating the emotional\n",
      "response may influence ocbis through other mechanisms. in terms of job satisfaction, it appears that the physiological stress of sup-\n",
      "pressing emotions relates to job satisfaction, and the perceived demand to do so may directly generate dissatisfaction (hochschild,\n",
      "1983; brotheridge & grandey, 2002; grandey & gabriel, 2015). further, withholding discretionary behaviors such as ocbis is one\n",
      "way that employees correct for unfair or extra job demands (organ, 1988, 1990).\n",
      "\n",
      "unexpectedly, we did not find a relationship between attentional deployment and leader–member exchange. we argued\n",
      "that when followers are adults who are aware that they are being distracted, they might deduce that the leader is uncaring or even\n",
      "underhanded regarding follower goals. our null result suggests that attentional deployment may operate through more complex\n",
      "mechanisms. for instance, it may, at times, be perceived negatively as leader avoidance but at other times be viewed positively\n",
      "as well-intentioned attempts to alleviate the employee's stress (even if the leader cannot address the environmental obstacle).\n",
      "it could also indicate, however, that this iem strategy might not work as well in adult working populations as it does with children.\n",
      "future research will need to investigate moderators that may help tease apart the possible positive and negative effects of leaders'\n",
      "use of attentional deployment.\n",
      "\n",
      "implications for future research\n",
      "\n",
      "our study contributes to the leadership literature conceptually and empirically. conceptually, we developed a model of specific\n",
      "and observable leader behaviors targeted at managing undesired negative emotions in the workplace. a vast body of literature\n",
      "\n",
      "\n",
      "\n",
      "94 l.m. little et al. / the leadership quarterly 27 (2016) 85–97\n",
      "examines how leaders elicit positive emotions, but themanagement of undesired negative emotions is scarcely studied despite urgent\n",
      "need (gooty et al., 2010). empirically, our study provides initial evidence that leaders engage in discernible behaviors aimed at reduc-\n",
      "ing or preventing negative emotional responses to events at work. this is an important contribution to the current literature.\n",
      "\n",
      "the nature of this study has allowed us to make general statements about the potential predictive power of iem strategies and\n",
      "their general use. again, consistent with research on emotion regulation of self and much of the research on emotional labor\n",
      "(gross & levenson, 1993; brotheridge & grandey, 2002), the items used tomeasure leader iem strategies capturedwhether followers\n",
      "perceive their leaders to be using these strategies in general. our study of iem strategies opens up a host of future research directions.\n",
      "wemention several examples below. questions directly related to our results comprise our first three future directions. first, how do\n",
      "the frequency of use of each strategy and the relational contextmatter? from a follower's perspective, theremight be a point atwhich\n",
      "continued use of a certain strategy would no longer affect relationship quality in the expected manner. event-based studies of iem\n",
      "strategies could shed light on the immediate impact of each strategy while considering the quality of the preexisting relationship\n",
      "between leaders and followers, individual differences in personal emotional management styles, and other factors as moderators.\n",
      "in addition, event-based studies may also reveal how preexisting affective ties influence perceptions of leaders' iem strategies and\n",
      "may even moderate their effectiveness.\n",
      "\n",
      "secondly, does agreement matter? specifically, are there effects of the agreement between follower ratings of leaders' iem\n",
      "strategies and leaders' own ratings of the iem strategies that they claim to utilize? similarly, are there effects of the agreement\n",
      "between leaders' iem strategies and the preferred self emotion-management strategy of followers? for example, the negative effect\n",
      "of leaders' use of emotion modulation may be mitigated when a follower's preferred self emotion-management strategy is suppres-\n",
      "sion. additionally, if leaders and followers hold systematically different perceptions of the leaders' iem strategies, this could have\n",
      "important implications for both practice and theory. thirdly, are there moderators that change the effectiveness of iem strategies?\n",
      "for example, it is possible that the use of attentional deployment strategies could be positively related to lmx onlywhen the follower\n",
      "is unaware that the leader is trying to distract him or her from the problem.\n",
      "\n",
      "while the primary focus of this study was the impact of leader iem strategies on followers, future research is needed to examine\n",
      "the potential personal consequences of these strategies for the leader (e.g., niven et al., 2012). future research could investigate\n",
      "whether different iem strategies influence leaders' perceptions of lmx in the same directions that they influence followers' percep-\n",
      "tions. for example, the same relationships may not hold for leader-rated lmx. similar to the expression of compassion (kanov et al.,\n",
      "2004), iem strategiesmight be emotionally taxing on the leader and the resulting emotional exhaustion could be negatively related to\n",
      "outcomes and perceptions of lmx. on the other hand, these strategies might generate positive emotions such as pride and increased\n",
      "perceptions of lmx quality because the leader may perceive his or her own behavior as helpful and agentic. moreover, organizational\n",
      "culture may moderate the effects of a leader's iem strategies. for example, leaders' iem strategies may generate more emotional\n",
      "exhaustion in a competitive conflict culture than in a culture of love (gelfand, leslie, & keller, 2008; barsade & o'neill, 2014).\n",
      "\n",
      "future research should also investigate how leader iem strategies and lmx affect such relevant constructs as counterproductive\n",
      "workplace behaviors (cwb), absenteeism, turnover intentions, and job performance of the followers, as well as performance ratings\n",
      "of the leader.\n",
      "\n",
      "based on the current study,we canmake predictions concerning how these relationshipswill look, but future research can provide\n",
      "support for our understanding of the impact of relationship quality on a wide variety of relevant variables.\n",
      "\n",
      "limitations\n",
      "\n",
      "our research is not without limitations. one of our limitations is that datawere cross-sectional in nature. causality, thus, cannot be\n",
      "inferred. we made theoretical arguments for the expected relationships and hypothesized directional association based on previous\n",
      "research and our findings were consistent with these expectations. further, we strove to minimize method bias by including multi-\n",
      "source data collected at two points in time. consistent with work on emotion regulation of self and emotional labor, we investigated\n",
      "themanagement of undesirable, negative emotion; however, future research should also investigate situations inwhich leaders try to\n",
      "manage followers' emotions to be less positive andmore negative. for example, amanagermay try to instill fear of dismissal or guilt in\n",
      "an employee so that he or she understands the importance of avoiding certain mistakes.\n",
      "\n",
      "the use of the snowballing technique allowed us to gather matched dyadic data spanningmultiple organizations. yet, in its truest\n",
      "form, this technique yields data that could violate many assumptions in probability statistics (cf. neuman, 2002). we acknowledge\n",
      "this as a limitation of our study as well.\n",
      "\n",
      "implications for practice\n",
      "\n",
      "the findings of this study also hold several important implications for practice, should they be replicated. perhapsmost notably, it\n",
      "is important for leaders to understand that their followers are aware of the efforts beingmade tomanage follower emotions. because\n",
      "of the differential effects of the various iem strategies, leadersmust be aware that certain strategies are likely to bemore effective than\n",
      "others in ultimately improving satisfaction and increasing ocbis. managers in training could benefit from understanding the differ-\n",
      "ences between strategies that demonstrate understanding and personal caring versus strategies that demonstrate a lack of these qual-\n",
      "ities. in addition, leaders must understand that they cannot merely rely on the strategies they use to manage their own emotions to\n",
      "regulate follower emotions. inmanaging one's own emotions, attentional deployment, or distracting oneself from the negative event,\n",
      "may prove useful. in contrast, distracting a follower fromanemotion-eliciting eventmay be ineffective in terms of follower-enhancing\n",
      "perceptions of the quality of the relationship with the leader, ocbis, and satisfaction.\n",
      "\n",
      "\n",
      "\n",
      "95l.m. little et al. / the leadership quarterly 27 (2016) 85–97\n",
      "the results of our study can serve as an additional layer of support for emphasizing social exchange as the basis for leader-follower\n",
      "relationships within the organization. instead of an exclusive focus on performance-based or task-based exchanges (e.g., a promotion\n",
      "given based on higher production outputs), leaders could be encouraged to help followers effectively resolve negative emotion-\n",
      "inducing events at work. followers who perceive that leaders are “in tune” with their emotions may evaluate their relationships\n",
      "with their leadersmore favorably, performbetter, and exhibit higher levels of job satisfaction than those followerswithweak relation-\n",
      "ships with leaders. creating a perception that one genuinely is attempting to be helpful in managing emotions can be a powerful skill\n",
      "for leaders to obtain.\n",
      "\n",
      "conclusion\n",
      "\n",
      "leadership and emotions have taken a center stage in the management literature. yet, very little is known regarding the specific\n",
      "behavioral strategies used by leaders inmanaging follower negative emotions. drawing upon emotion regulation and social exchange\n",
      "theories, we contended and found results consistent with our argument that when followers perceive that problem-focused leader\n",
      "emotion management meets expectations and creates future obligation, better lmx results. conversely, when followers perceive\n",
      "that leaders use the non-problem-focused strategy of emotionmodulating suppression, they reported lower lmx and job satisfaction,\n",
      "and their leaders reported lower ocbis. our study suggests that the emotion management strategies impact the development of\n",
      "higher quality exchange relationships in the workplace and in follower ocbis.\n",
      "\n",
      "--**************************************-\n",
      "-**************************************--\n",
      "-**************************************--\n"
     ]
    }
   ],
   "source": [
    "# testing it works\n",
    "ref_doc = 10\n",
    "print(pdf_remove_step4[ref_doc])\n",
    "print('--**************************************-')\n",
    "print('-**************************************--')\n",
    "print('-**************************************--')\n",
    "# print(pdf_remove_step4[ref_doc])"
   ]
  },
  {
   "cell_type": "code",
   "execution_count": 17,
   "metadata": {},
   "outputs": [],
   "source": [
    "# remove journal title here?\n",
    "pdf_p = [re.sub('journal of management', '', t) for t in pdf_remove_step4]\n",
    "pdf_p = [re.sub('et al.', '', t) for t in pdf_p]\n",
    "pdf_p = [re.sub('e.g.', '', t) for t in pdf_p] \n",
    "pdf_p = [re.sub('e-mail:', '', t) for t in pdf_p] \n",
    "# CHECK ORDER OF OPERATIONS BELOW:\n",
    "#remove email address <-- IMPROVED, BUT E-MAIL SEEMS TO BE BROKEN UP, BUT STILL PRESENT IN DOCUMENTS AT TIMES         \n",
    "pdf_p = [re.sub(r'[\\w\\.\\-]+@[\\w\\.\\-]+\\.(?:com|net|org|live|edu)', \"\", t) for t in pdf_p]"
   ]
  },
  {
   "cell_type": "code",
   "execution_count": 18,
   "metadata": {},
   "outputs": [],
   "source": [
    "pdf_p = [re.sub( r'https?://[^\\s<>\"]+|www\\.[^\\s<>\"]+', \"\", t) for t in pdf_p]\n",
    "pdf_p = [re.sub(\"[\\S\\.\\-\\?\\!\\=]+\\.(net|com|org|info|edu|gov|uk|de|ca|jp|fr|au|us|ru|ch|it|nel|se|no|es|mil)(/[\\S\\.\\-\\?\\!\\=]*)?\\s?\", \" \", t) for t in pdf_p]"
   ]
  },
  {
   "cell_type": "code",
   "execution_count": 20,
   "metadata": {},
   "outputs": [
    {
     "data": {
      "text/plain": [
       "\"\\n\\n\\n\\n\\n\\n\\n\\n\\n\\n\\n\\n\\n\\n\\n\\n\\n\\n\\n\\n\\n\\n\\n\\n\\n\\n\\n\\n\\n\\n\\n\\n\\n\\n\\n\\nthe role of leader emotion management in leader–member exchange and follower outcomes\\n\\n\\nthe leadership quarterly 27 (2016) 85–97\\n\\ncontents lists available at sciencedirect\\n\\nthe leadership quarterly\\n\\nj ourna l homepage:  lsev ie r .com/ locate / leaqua\\nthe role of leader emotion management in leader–member\\nexchange and follower outcomes\\nlaura m. little a,⁎, janaki gooty b, michele williams c\\na terry college of business, university of georgia, athens, ga, united states\\nb belk college of business, university of north carolina, charlotte, united states\\nc michele williams, cornell university, united states\\na r t i c l e i n f o\\n⁎ corresponding author.\\ne-mail address:  (l.m. little).\\n\\n\\n1048-9843/© 2015 the authors. published\\n(\\na b s t r a c t\\narticle history:\\nreceived 15 february 2015\\nreceived in revised form 17 august 2015\\naccepted 25 august 2015\\navailable online 2 november 2015\\n\\nhandling editor: william gardner\\nin response to growing calls for such research, we develop and test amodel of leader behaviors di-\\nrected at managing followers' negative emotions. these leader interpersonal emotion manage-\\nment strategies (iems) are posited to affect followers' organizational citizenship behaviors\\nperformedwithin interpersonal relationships (ocbis) and job satisfaction via follower perceptions\\nof the quality of the leader–member exchange relationship (lmx). in addition,we posit that some,\\nbut not all, leader iems promote and strhen lmx relationships. results frommultisource data\\nin a sample of 163 leader–follower dyads confirmed themajority of the hypothesizeddirect effects\\nof the leader iems and mediating effects of lmx.\\n© 2015 the authors. published by elsevier inc. this is an open access article under the cc by-nc-\\n\\nnd license (\\nkeywords:\\ninterpersonal emotion management\\nleader–member exchange\\nsocial exchange theory\\nemotion regulation\\nintroduction\\n\\nemotions are intricately intertwined in theories of leadership and lie at the core of many leadership mechanisms such as inspiring\\nfollowers, building and sustaining interpersonal relationships, and investing in follower outcomes such as satisfaction, performance and\\ncitizenship behaviors (, ashkanasy & humphrey, 2011; connelly, gaddis, & helton-fauth, 2002; gooty, connelly, griffith, & gupta,\\n2010; humphrey, 2008; humphrey, pollack, & hawver, 2008; rajah, song, & arvey, 2011). indeed, many scholars have acknowld\\nthat leaders are active managers of group emotion (ashkanasy & humphrey, 2011; brotheridge & lee, 2008; george, 2000; humphrey,\\n2008; humphrey , 2008; pescosolido, 2002; pirola-merlo, härtel, mann, & hirst, 2002).\\n\\ngiven the vast number of studies, debates and comprehensive reviews that have accumulated (, antonakis, ashkanasy, &\\ndasborough, 2009; ashkanasy, 2003; gooty , 2010; humphrey, 2008; rajah , 2011), the study of leadership and emotions is no\\nlonger considered an emng domain. many of these accumulated empirical studies have shed light on issues such as how leader's\\nownpositive andnegative emotional displays affect followers (i.e., brotheridge&lee, 2008), the impact of contagionprocesses that transmit\\nleader affect to the workgroup (, sy, côté, & saavedra, 2005), and the effects of leader surface and deep acting on follower outcomes to\\nname just a few (i.e., humphrey , 2008). the role of emotions in leadership literature, then, has primarily focused on leaders' emotional\\ndisplays, processes (, contagion, emotional labor) and emotion-related abilities (, emotional intelligence; positive and negative\\naffectivity) and the effects thereof on their followers, or groups of followers. what is less common in the literature is a focus on the active\\nor conscious behaviors enacted by leaders to manage follower emotions. such a focus would be consistent with the work of many scholars\\nwho have argued convincingly that followers and leaders alike consider the management of follower emotion, and negative emotion in\\nby elsevier inc. this is an open access article under the cc by-nc-nd license\\n\\n\\n\\n\\n\\n\\n\\n\\n86 l.m. little  / the leadership quarterly 27 (2016) 85–97\\nparticular, a fundamental leadership task (, ashkanasy, 2003; dasborough & ashkanasy, 2002; humphrey, 2008; huy, 2002; sanchez-\\nburks &huy, 2009; pescosolido, 2002; seo , 2012; toegel, kilduff, & anand, 2013). indeed, humphrey (2008) coined the term “leading\\nwith emotional labor” to reflect this critical function of a leader as an activemanager of follower emotion. yet, rather surprisingly, the liter-\\nature is fairly scant in this domain with very few studies focusing on specific behaviors leaders enact in response to follower emotion\\n(, gooty , 2010).\\n\\nto be sure, a handful of studies have examined leader behaviors as the cause of follower emotions. for example, dasborough\\n(2006) found that certain leader behaviors (, empowering followers, communication, demonstrating concern, recognizing\\nemployee effort) are the causes of affective events in followers thus leading to emotion experiences. similarly, mccoll-kennedy\\nand anderson (2002) found that followers experience more positive emotions when leaders display transformational behaviors.\\nin an earlier theoretical treatise, weierter (1997) argued that charismatic leaders reinforce follower self-esteem via displays of\\nenthusiasm and passion and thus nder positive emotions in followers. despite this progress, less is known about what specific\\nbehaviors leaders enact tomanage followers' negative emotions. and, importantly, what is the influence of these behaviors on impor-\\ntant job-related outcomes such as relationship quality, contextual performance and satisfaction?\\n\\nin this paper, we cast interpersonal emotion management (iem) strategies (williams, 2007) as observable leader behaviors\\ntargeted at managing followers' negative emotions. drawing upon increasing evidence in emotion regulation theories and empirical\\nfindings which suggest that people routinely manage and regulate others' emotions (, barden, zelko, duncan, & masters, 1980;\\ncovell & abramovitch, 1987; francis, 1997; huy, 2002; mccoy & masters, 1985; niven, holman, & totterdell, 2012; niven,\\ntotterdell, holman, & headley, 2012; pierce, 1995; rafaeli & sutton, 1990; richards, butler, & gross, 2003; toegel, anand, & kilduff,\\n2007; williams, 2007; williams & emich, 2014), we suggest that leaders regulate follower emotions via the use of leader iem strate-\\ngies. furthermore, drawing upon the tenets of social exchange theory and attribution theory we argue that followers attribute differ-\\ning intentionality to the use of these strategies, which in turn will influence relationship quality.\\n\\nspecifically, a leader's use of problem-focused strategies that mitigate or eliminate underlying causes of negative emotions will\\nrelate to positive follower perceptions of a quality exchange relationship between the follower and leader (i.e., lmx). in contrast, a\\nleader's use of iem strategies that are emotion-focused and leave the underlying cause of negative emotion unaddressed hinder\\nthe lmx relationship via decreased rapport and affiliation (, butler , 2003). we further expect that lmx will mediate the\\nrelationships between each of the iem strategies and routinely studied work outcomes: organizational citizenship behaviors\\nperformedwithin interpersonalwork relationships (ocbis) and job satisfaction.we chose these outcomes because of their conceptual\\nrelationships with lmx and their organizational importance, as both have been linked to organizational performance (, bolino,\\nturnley, & bloodgood, 2002; ostroff, 1992).\\n\\nour work contributes to the leadership and emotions literature in three unique ways. first, we extend research on emotions in\\nleadership by investigating perceptions of specific leader behavior targeted at managing followers' negative emotions. the lmx liter-\\nature has long contended that leader-follower interactions and role-making episodes can elicit high-quality lmx (, ballinger &\\nrockmann, 2010; liden, sparrowe, & wayne, 1997; liden & maslyn, 1998; sparrowe & liden, 1997; sin, nahrgang, & morgeson,\\n2009). yet, we know very little about the specific leader behaviors that are enacted during such role-making episodes or interactions\\nthat relate to lmx. an understanding of such behaviors could stimulate further theory and empirical research by pinpointing specific\\nleader behaviors (in addition to known lmx antecedents such as dyad tenure) that could foster higher quality lmx.\\n\\nsecond, we contribute to theory and findings in the study of social exchanges which have started to move away from a purely\\ntransactional-cognitive route to one that contends that emotion expression and regulation are key building blocks for the develop-\\nment and maintenance of interpersonal relationships (, ballinger & rockmann, 2010; butler , 2003; gooty, thomas, &\\nconnelly, 2015; harker & keltner, 2001; lawler & thye, 1999; saavedra & van dyne, 1999). considering that leaders' responsiveness\\nto followers' emotions in interpersonal relationships is laden with information, attributions and intentionality, a focus on such\\nemotional phenomena may be central to understanding social exchange (, butler , 2003; lawler, thye, & yoon, 2009).\\n\\nfinally, we contribute to the iem literature by offering a finer grained examination of iem strategies. this examination suggests\\nthat specific iem strategies differentially affect the quality of leader-follower relationships. understanding why perceptions of some\\niem strategies are likely to elicit positive outcomes whereas some are likely to elicit negative outcomes deepens our theoretical\\nunderstanding of iem strategies in organizations beyond current models, which suggest primarily positive effects for the target\\nindividual (williams & emich, 2014). in the following sections, we develop theory connecting the use of leader iem strategies to\\nevaluations of the social exchange relationships between leaders and their followers, ocbis, and job satisfaction. next, we present\\nempirical findings showing the importance of iem strategies in building or thwarting high-quality lmx. such lmx, in turn, mediates\\nthe association between leader iem strategies and work outcomes: ocbis and job satisfaction (see fig. 1 for a graphical description).\\n\\ninterpersonal emotion management strategies\\n\\ninterpersonal emotion management (iem) strategies derive from gross (1998) work on emotion management of the self and the\\nnotion that individuals manage others' emotions at work using the same tactics that they use tomanage their own emotions (francis,\\n1997; little, kluemper, nelson, & gooty, 2012; lively, 2000; niven, totterdell, & holman, 2009). williams (2007) outlined four\\ninterpersonal emotionmanagement strategies used tomanage others' emotions: situationmodification, cognitive change, attentional\\ndeployment, and modulating the emotional response.\\n\\nsituation modification consists of active efforts to directly modify or change a situation to alter its emotional impact (gross, 1998).\\nin situation modification, a leader will remove, modify, or change the aspects of the situation or problem causing an undesired\\nemotion in the follower. as such, situation modification is problem-focused. for example, if an employee is experiencing anxiety\\n\\n\\n\\n-.38**\\n\\n-.08\\n\\n.16\\n\\n-.11\\n\\n.22+\\n\\n-.32**\\n\\n.33*\\n\\n-.05\\n\\n-.06\\n\\n.41**\\n\\n.33**\\n\\n-.14\\n\\nsm\\n\\nlmx\\n\\nocbis\\n\\ncc\\n\\nad\\n\\nmer\\n\\n-.20*\\n\\njob satisfaction\\n\\n.22*\\n\\nfig. 1.path estimates additional paths tested in alternativemodel sm= situationmodification, ad= attentional deployment, cc= cognitive change,mer= modulating\\nthe emotional response. lmx= leader–member social exchange; +p b .10, *p b .05, **p b .01.\\n\\n87l.m. little  / the leadership quarterly 27 (2016) 85–97\\nover completing work within a specified time frame, a supervisor might modify the situation by reducing the amount of work\\nrequired for the task or by reassigning some of the employee's responsibilities to a coworker.\\n\\ncognitive change involves selecting which of many possible meanings will be attached to the situation, reappraising or\\nreinterpreting the situation as having less potential for harm to goals, concerns, andwell-being (gross, 1998). cognitive change entails\\nthe leader exhibiting behaviors that put situations in perspective for the follower, helping the follower see the situation in a more\\npositive light. thus, cognitive change is also problem-focused. for instance, if an employee were distressed that her r&d project\\ndid not receive funding, her manager might reframe the failure as a normal and important step toward developing a project that\\nwould get funding. cognitive change is distinguished from situation modification in that the antecedent causing the undesired\\nemotion is not removed or altered. instead, the negative emotional impact of the antecedent is mitigated by changing the way the\\nfollower thinks about the problem. when using this strategy, a leader is attempting to reduce emotion-provoking aspects of the\\nsituation in the mind of the follower.\\n\\nwe acknowl that when cognitive change is self-focused rather than interpersonally oriented, it is similar in content to the\\ncoping strategy known as positive reinterpretation (i.e., seeing a stressor in a more positive light and as a chall rather than a\\nthreat; carver, scheier, & weintraub, 1989). although positive reinterpretation has been cast as an emotion-focused coping strategy\\nby some scholars (, carver , 1989) and alternatively, as a problem-focused strategy by others (wright, mohr, sinclair, & yang,\\n2015; lazarus & folkman, 1984), we follow the latter as we contend that in order to reinterpret a problem in amore positive light for\\nothers, one must understand and focus on the problem.\\n\\nattentional deployment involves distracting attention away from the elements of a situation that are harmful to goals, concerns,\\nor well-being, or by moving away from the situation entirely (gross, 1998). in attentional deployment, a leader directs his or her\\nbehavior at distracting the follower in order to induce more positive emotions. leaders and other agents will often use humor\\n(, acting silly to make the target laugh) or other means (, denigrating a common enemy) as ways of distracting followers to\\nimprove their emotions (niven , 2009). attentional deployment is distinguished from situation modification and cognitive\\nchange in that the problem causing the undesired emotion is not removed, reframed, or directly addressed. instead, when using\\nthis strategy, a leader is attempting to distract a follower's attention from the cause of the negative emotion. in this way, attentional\\ndeployment is emotion-focused.\\n\\nmodulating the emotional response involves influencing emotional response tendencies. this strategy is aimed at reducing the\\nbehavioral expression of an emotion once it is experienced. in modulating the emotional response, leaders ge in behaviors\\nthat encourage followers to suppress their undesired negative emotions. suppression can be particularly important in organizations\\nbecause it can be easily communicated and modeled by leaders and also built into an organization's culture (hochschild, 1979; huy,\\n2002; mumby & putnam, 1992). indeed, organizational display rules are typically targeted at the suppression of negative emotions\\nsuch as anger, shame, and sadness (geddes & callister, 2007), and leaders encourage adherence to these display rules via acts of\\nmodulating the emotional response. for example, a leader may direct an employee to calm down when upset, or advise him or her\\nto “relax,” or tell him or her “that's enough.” leaders' attempts at managing followers' emotions often involve “making it clear\\n[one] do[es] not care how the target feels,” and aims to reduce the follower's expression of these feelings rather than to address the\\nproblem causing the feelings (niven , 2009, p. 504). thus, modulating the emotional response, like attentional deployment is\\nemotion-focused.\\n\\n\\n\\n88 l.m. little  / the leadership quarterly 27 (2016) 85–97\\nimportantly, iem strategies are focused on the management of others' negative emotions. negative emotions arise out of a\\nperceived goal obstruction or threat in one's environment (see lazarus & folkman, 1984; ortony, clore, & collins, 1988). the iem\\nstrategies that we have described above differ in the extent to which they address the sources of followers' negative emotions. we\\ncontend that when iem strategies are visible and perceived by followers, not all iem strategies will create conditions that are optimal\\nfor relationship development and will have implications for leader-follower relationships.\\n\\nleader–member exchange and interpersonal emotion management\\n\\nleader–member exchange, with its roots in social exchange theory, suggests that leader-follower interactions lay the foundation\\nfor perceptions of the quality of the exchange relationship between leaders and followers (blau, 1964). followers' perceptions of lmx\\nreflect the expectation that voluntary actions on their part will be reciprocated by the leader (, bernerth, armenakis, feild, giles, &\\nwalker, 2007). these perceptions are important in the workplace because they influence performance-related and attitudinal\\nvariables (see dulebohn, bommer, liden, brouer, & ferris, 2012; and gerstner & day, 1997, for reviews). the history of followers'\\ninteractions with their leaders shapes their perceptions of the nature and quality of those relationships. such relationships develop\\nover a period of time (, bauer & green, 1996) and are based on role-making episodes (, sin , 2009). this history results\\nin leaders developing different types of relationships with their various followers (dansereau, graen, & haga, 1975; graen &\\ncashman, 1975). relationships with one's leader can reside anywhere on a continuum from a low-quality transactional relationship\\nbased on quid pro quo exchanges to a high-quality exchange relationship based on felt obligation and reciprocal behavior. graen and\\nuhl-bien (1995) note that higher quality exchanges are a function of met expectations resulting from such role-making episodes, and\\nthese expectations span both the task and interpersonal domains.\\n\\nthe social exchange view of lmx argues that the development and maintenance of positive lmx relationships occur via\\nhigh-quality interpersonal exchanges characterized by respect, liking, and mutual obligation (, dulebohn , 2012; graen &\\nuhl-bien, 1995). even though such interpersonal exchanges are ripe with emotions and emotion-related information, theory and\\nresearch in lmx have adopted a largely cognitive-transactional stance with a few notable exceptions (, ballinger & rockmann,\\n2010; saavedra & vandyne, 1999). furthermore, early works in lmx (, dienesch & liden, 1986) have underscored the importance\\nof member attributions and categorizations of leader behavior in forming lmx evaluations. considering that the experience, expres-\\nsion, and partner's responsiveness to emotions in interpersonal relationships is ladenwith information, attributions and intentionality,\\na focus on such emotion phenomena is key to understanding how such high quality lmx relationships could be fostered (, butler\\n, 2003). when leaders actively manage followers' emotions via iem strategies, such leader behaviors become an integral piece of\\ninformation that followers draw upon in further evaluating, reciprocating, and maintaining that relationship with their leaders.\\n\\nin this section,we propose that the use of leader iems that are problem-focusedwill be positively associatedwith lmxwhile, their\\nuse of emotion-focused iems will be negatively associated with lmx. for example, a leader might use situation modification by\\nassigning additional supportive resources (, coworkers, extra pay) to a subordinate who is feeling overwhelmed and anxious.\\nsuch a leader has clearly addressed the cause of the anxiety and attempted to alleviate it. thus, we contend that situationmodification\\nwill be positively related to lmx.\\n\\ncognitive change also addresses the cause of the negative emotion, but does so in a somewhat different manner. when using\\ncognitive change, the leader attempts to alter the follower's perception of the causes of the negative emotions (rather than altering\\nthe causes themselves). for instance, when a leader helps the follower see the cause of the negative emotion in a different light as\\nsomething that is temporary and will improve with each day, not only is the emotional impact of the situation reduced, but the\\nfollower is likely to appreciate the leader's attempt to reframe the situation. the leader has increased the follower's perceptions of\\nthe quality of their lmx and sense of obligation toward the leader. when followers then make positive attributions about the leader\\n(, “s/he cares aboutmygoals”), and they feel a sense of obligation based onmet expectations (i.e., “my leader just dealtwith threats\\ninmywork environment as i expected them to”), then a sense of obligation is created via the supportive leader behavior of reframing\\nthe workplace hassle.\\n\\nthere are at least three compelling pathways from follower perceptions of leader problem-focused iems use and lmx. first,\\nfollowers have role expectations regarding leader iem ( dasborough & ashkanasy, 2002; toegel , 2013). both positive and\\nnegative emotions stem from daily workplace events (dasborough, 2006; weiss & cropanzano, 1996). a key function of leadership\\nis to attend to or work toward alleviating workplace hassles (i.e., be problem-focused), thus mitigating follower negative emotions\\n(dasborough & ashkanasy, 2002; humphrey, 2008). when leaders use iem strategies that address the problems causing negative\\nemotions (situation modification or cognitive change), followers' expectations are met, a sense of obligation is created, and lmx is\\nenhanced.\\n\\na second pathway from leader iems to lmx is attributions of intentionality on the part of followers when they perceive leaders\\nusing problem-focused coping strategies (dasborough & ashkanasy, 2005). dasborough and ashkanasy (2005) state people act as\\n“naïve scientists” in deciphering, making sense of and attributing intentions to other people's behavior (see also martinko &\\ngardner, 1987 for a review of leader–member attribution processes). they further note that followers could attribute leader behavior\\nto a focus that is other-oriented or self-serving. we extend their logic further and suggest that followers attribute benevolent inten-\\ntionality to the leader (i.e., my leader cares aboutme and is watching out forme)when they perceive the use of problem-focused iem\\nstrategies. as noted earlier, this is due to the alleviation of work-related hassles that form the core of such leader iems.\\n\\nthird, when leaders use problem-focused iems, they communicate to followers that the expression of negative emotions is\\nacceptable. moreover, because emotions are rich with communicative information (alea & bluck, 2007), the expression of emotions\\ncan enhance communication, promote positive relational functioning (gottman & levenson, 2000; gross & john, 2003) and bring\\n\\n\\n\\n89l.m. little  / the leadership quarterly 27 (2016) 85–97\\nneeded attention to important organizational issues (geddes & callister, 2007). using problem-focused iems, they not only address\\nthe source of the followers' emotion, but also may make followers feel validated and promote open communicate of followers'\\nthoughts aswell as emotions—which could set the stage for the relationship to be better (, gross & levenson, 1997). taken togeth-\\ner, each of these cognitivemechanisms— i.e., met role expectations of the leader, an attribution of benevolence and emotion rich com-\\nmunication in the relationship—all allow higher quality lmx relationships to em.\\n\\nhypothesis 1. followers' perceptions of leaders' use of situation modification will positively impact lmx.\\n\\nhypothesis 2. followers' perceptions of leaders' use of cognitive change will positively impact lmx.\\n\\nhowever, not all iem strategies used by leaders produce positive outcomes. when leaders use iem strategies that do not address\\nthe cause of negative emotions (i.e., are not problem-focused), followers' role expectations regarding the leader go unmet. their lmx\\nis undermined, and they are less likely both to invest in voluntary actions for that leader and to believe that their voluntary actions\\nmight be reciprocated.we argue that attentional deployment and themodulating the emotional response are likely to negatively im-\\npact lmx in the context of leader-follower relationships because they donot alleviate sources of negative emotion in the environment.\\nattentional deployment signals to followers that leaders are not willing to invest time and resources in altering the source of the\\nnegative emotion (materially or cognitively). thus, followers will be less likely to ge in reciprocal behavior. furthermore,\\nwhen followers observe that leaders do not attempt to address or alleviate workplace challs in their environment, one of\\nfollowers' fundamental role expectations of leaders is violated (graen & uhl-bien, 1995).\\n\\nthe awareness that those who should be able to address a workplace problem are instead trying to distract from that problem\\ncan cause resentment over time. for example, consider a follower who has had an intense negative experience with a customer\\n(or coworker) and feels angry. the leader might steer the conversation to focus on things that the follower enjoys. such responses\\nto follower emotions might distract the follower momentarily. however, because the causes in the follower's environment are not\\nmitigated or resolved, the follower might infer that the leader does not care enough to invest time and resources in alleviating the\\ncauses of his or her negative emotions. the follower will subsequently feel that his or her problem is being overlooked or ignored.\\nthis unmet expectation affects the follower's evaluation of the quality of the exchange relationship with the leader. furthermore,\\nthe follower could then attribute apathy and less benevolent intentionality to the leader as they have not observed behaviors directed\\nat alleviating the follower's workplace hassles. we hypothesize the following:\\n\\nhypothesis 3. followers' perceptions of leaders' use of attentional deployment will negatively relate to lmx.\\n\\nsimilarly, becausemodulating the emotional response (mer) involves suggesting that a target (i.e., follower) refrain fromexpressing\\nhis or her negative feelings, this mode of behavior shows disregard for those feelings and does not address the source of the negative\\nemotions. the use of mer not only conveys to followers that their emotions need to be suppressed, but also that the leader does not\\nacknowl their feelings as valid and is not going towork to alleviate them. in interpersonal relationships research, especially marital\\nsatisfaction research, a key cause for relationships to deteriorate is the suppression of emotion as they tend to be so rich with commu-\\nnicative information (alea & bluck, 2007). as an example, gottman and levenson (2000) in a 14-year longitudinal study of married\\nheterosexual couples found that emotions in interactions between the couple predicted divorce rates at a later timewith 93% accuracy.\\nour point here is that when leaders encourage follower to suppress their emotions, they lose the opportunity to address the problem,\\nmake followers feel validated, and to promote open communicate of followers' thoughts as well as emotions—behavior which could\\nhave set the stage for the relationship to be better (, gross & levenson, 1997). instead, the use of mer is likely to decrease interper-\\nsonal expressiveness and relationship quality (gross & john, 2003). indeed, as noted earlier, the suppression of emotion expression in\\nthat dyadic relationship can be toxic to the relationship as it hinders free and fair communication (, butler , 2003).\\n\\nwhether or not followers choose to suppress their emotions, leaders who ask their followers to refrain from expressing their\\nfeelings discount their followers' experiences. they also fail to resolve the emotion-eliciting event. followers may view leaders as\\napathetic regarding their situations (, dasborough & ashkanasy, 2002, 2005). thus, unmet role expectations for the leader, an\\nattribution of apathy rather than benevolence, and emotion-poor communication in the relationship—all may inhibit higher quality\\nlmx relationships from emng. we propose the following:\\n\\nhypothesis 4. followers' perceptions of leaders' use of modulating the emotional response will negatively relate to lmx.\\niem strategies, lmx, satisfaction and ocbis\\n\\noverall job satisfaction, which refers to the degree to which an employee enjoys a job, is not only a central job attitude and\\noutcome variable in organizational behavior (judge, thoresen, bono, & patton, 2001), but also a relevant outcome for lmx because\\nleaders directly influence subordinates' experiences of their jobs (dulebohn , 2012). organizational citizenship behaviors,\\nwhich refer to discretionary behaviors that promote effective functioning of the organization but are not typically recognized formally\\nby an organization (lee & allen, 2002; organ, 1988), are also relevant to the leader-subordinate context. high-quality lmx is\\nassociated with felt obligation (, “i owe him or her one”), and ocbs are a core mechanism for expressing both felt obligation\\nand the reciprocity that often accompanies high-quality lmx relationships (dulebohn , 2012).we focus specifically on interper-\\nsonal or altruistic organizational citizenship behaviors (ocbis) because these are directed at helping another individual and, therefore,\\nare particularly relevant for the exchange relationships between supervisors and subordinates (williams & anderson, 1991).\\n\\n\\n\\n90 l.m. little  / the leadership quarterly 27 (2016) 85–97\\ngiven this study's purpose of identifying importantwork outcomes associatedwith iem strategies, we position lmx as the explan-\\natory mechanism relating the perception of iem strategies to job satisfaction and ocbis. because the relationship between lmx and\\nsatisfaction and ocbis has been established in the extant literature (c.f. cropanzano & mitchell, 2005; dulebohn , 2012;\\nerdogan & enders, 2007; gerstner & day, 1997; liden & maslyn, 1998; ozer, 2008; wayne, shore, & liden, 1997), we will present\\ntheoretical support and hypotheses linking iem strategies to these outcomes indirectly via lmx.\\n\\nwe have proposed that, although all iem strategies may reduce negative emotions at least temporarily in specific contexts, only\\nsome strategies provide positive cues about leaders' willingness to address emotion-provoking threats to their followers' well-\\nbeing, whereas other strategies provide negative cues about leaders' willingness to do this. specifically, because followers' role expec-\\ntations regarding leaders' willingness to address threats to them are met via the problem-focused strategies of situationmodification\\nand cognitive change, these behaviors signal to followers that the leaders care about them.when followers perceive these behaviors,\\nthey are likely to experience a sense of obligation and higher quality lmx will ensue. this higher quality lmx as well as the sense of\\nindebtedness and obligation characteristic of high-quality lmx set the stage for extra effort to ge in extra-role behavior. having a\\nleader who acknowls and addresses obstacles in one's workplace via enactment of cognitive change and situation modification\\ncreates positive outcomes because (a) it provides a positive interpersonal cue as to the quality of the leader-follower relationship,\\n(b) it motivates followers to put in extra effort toward their tasks as they feel indebted to the supervisor, and (c) the resultant percep-\\ntion of higher quality lmx acts as a critical supportive resource for followers in that it enhances their belief that they can rely on their\\nleaders to overcome obstacles, thus encouraging ocbis.\\n\\nhigher quality lmx also facilitates job satisfaction for similar reasons. first, the supervisor and the work environment are both\\ncritical aspects of job satisfaction. when higher quality lmx relationships exist, job satisfaction should increase because followers\\nenjoy the material and relational benefits of that quality relationship (, dulebohn , 2012; erdogan & enders, 2007; ozer,\\n2008). finally, follower job satisfaction is also enhanced because high quality lmx signals to followers that their leader values their\\nrole and contribution and is willing to invest time and resources into that relationship. thus, we hypothesize the following:\\n\\nhypothesis 5. followers' perceptions of leaders' use of situation modification (5a) and cognitive change (5b) will be positively and\\nindirectly related to ocbis through lmx.\\n\\nhypothesis 6. followers' perceptions of leaders' use of situation modification (6a) and cognitive change (6b) will be positively and\\nindirectly related to job satisfaction through lmx.\\n\\nin contrast to the effects of iem strategies that address the underlying causes of negative emotions, attentional deployment and\\nmodulating the emotional response are negatively related to lmx because (a) they do not address the underlying causes of followers'\\nnegative emotions and, thus, provide negative interpersonal cues about the quality of the leader-follower relationship, (b) they result\\nin unmet role expectations on the part of the follower, and (c) they leave in place obstacles or hassles in the work environment.\\n\\nhypothesis 7. followers' perceptions of leaders' use of attentional deployment (7a) andmodulating the emotional response (7b)will\\nbe negatively and indirectly related to ocbis through lmx.\\n\\nhypothesis 8. followers' perceptions of leaders' use of attentional deployment (8a) andmodulating the emotional response (8b)will\\nbe negatively and indirectly related to job satisfaction through lmx.\\nan important aspect of leadership is managing negative emotions in followers, yet researchers have just begun to investigate the\\nbehavioral strategies that leaders use to do so. further, even less is understood about the impact that perceptions of these strategies\\ncan have on leader-follower relationships or subsequent follower behavior and attitudes. the results of our study were consistent\\nwith a model in which followers' perceptions of lmx are influenced by their perceptions of the emotion management strategies\\nused by their leader. leaders' attempts to manage follower emotions can be positive as in the case of cognitive change and situation\\nmodification, negative as in the case of modulating the emotional response or neutral as in the case of attentional deployment.\\n\\nour findings are consistent with the premise that leaders' iem strategies provide interpersonal cues that can nder stronger\\npositive or negative perceptions about the nature and quality of the exchange relationships they share with their followers. perceived\\nefforts by leaders to attend to followers' needs and emotions, such as modifying the situation or reframing events, can provide such\\ntable 1\\nmeans, standard deviations, intercorrelations, and reliabilities.\\n\\nvariable m sd 1 2 3 4 5 6 7\\n\\n1 situation modification 5.14 1.18 (0.91)\\n2 cognitive change 4.75 1.04 0.44⁎⁎ (0.85)\\n3 attentional deployment 4.33 1.09 0.38⁎⁎ 0.59⁎⁎ (0.82)\\n4 mer 2.89 1.40 −0.04 0.15⁎ 0.34⁎⁎ (0.91)\\n5 lmx 3.80 .64 0.45⁎⁎ 0.41⁎⁎ 0.20⁎ −0.16⁎ (0.93)\\n6 ocbis 4.02 .73 0.06 0.02 −0.02 −0.33⁎⁎ 0.23⁎ (0.89)\\n7 job satisfaction 5.99 1.06 0.20⁎ 0.23⁎⁎ 0.08 −0.27⁎⁎ 0.33⁎⁎ 0.08 (0.92)\\n8 tenure with supervisor 4.06 5.82 0.02 −0.05 −0.05 −0.02 −0.09 −0.04 0.12\\n\\nnote. n = 163. mer = modulating the emotional response, lmx = leader–member social exchange, ocbs = organizational citizenship behavior.\\n⁎ p b .05.\\n⁎⁎ p b .01.\\n\\n\\n\\ntable 2\\nresults of structural nested model comparison.*\\n\\nmodel χ2 df δχ2 rmsea srmr cfi\\n\\nmeasurement model 1054.67⁎⁎ 720 – 0.053 .065 .92\\nalternative measurement model 1\\ntwo problem-focused strategies (situation modification and cognitive change) load together and the two\\nemotion-focused strategies (attentional deployment and modulating the emotional response) load\\ntogether\\n\\n1607.37⁎⁎ 731 552.7⁎⁎ 0.086 .124 .79\\n\\nalternative measurement model 2\\nall four strategies load together on a single factor 2082.06⁎⁎ 735 1027.39⁎⁎ 0.106 .130 .67\\nhypothesized model:\\niem strategies to lmx to ocbis and job satisfaction; mer to ocbis and job satisfaction 1087.14⁎⁎ 725 – 0.055 .081 .91\\nalternative model 1:\\niem strategies to lmx to ocbis and job satisfaction; iem strategies to ocbis and job satisfaction 1049.02⁎⁎ 717 38.12⁎⁎ 0.053 .064 .92\\n\\nnote. n = 163. iem = interpersonal emotion management, lmx = leader–member social exchange, ocbis = interpersonal organizational citizenship behavior,\\nmer = modulating the emotional response.\\n⁎ p b .05.\\n⁎⁎ p b .01.\\n\\n93l.m. little  / the leadership quarterly 27 (2016) 85–97\\ncues—perhaps via attribution of leader benevolence or met expectations—that are positively associated with lmx, ocbis and job\\nsatisfaction. across both of the problem-focused strategies, situation modification and cognitive change, leaders help followers\\nalleviate and minimizal-obstructive work events that serve as antecedents to undesired negative emotions. our findings suggest\\nthat such leader behaviors help foster follower perceptions that leaders care about their goal accomplishment and are positively\\nrelated to their evaluation of the quality of their relationships. indirectly, they relate to follower outcomes—both behavioral and\\nattitudinal. in addition, cognitive change was positively and directly associated with job satisfaction. because positive moods have\\nbeen found to be positively related to job satisfaction (judge , 2001; judge & ilies, 2004), the iem strategy of cognitive change\\nmay also influence job satisfaction by influencing followers' moods. to the degree that followers accurately perceive leaders general\\npropensity to use cognitive change, such that this perception reflects an increase in positive affect during emotion managing inter-\\nactions with the leader, the morneralized relationship that we found between this iem strategy and follower job satisfaction\\nmay be mediated by positive mood.\\n\\nconversely, across both of the non-problem-focused strategies modulating the emotional response and attentional deployment,\\nleaders fail to help followers alleviate and minimizal-obstructive work events that serve as antecedents to undesired negative\\nemotions. our findings are consistent with our contention that leaders who encourage followers to modulate, or suppress, their\\nemotional responses to negative events reap followers' negative views of the leader-follower relationship. telling followers “that's\\nenough” or to “cut it out” may signal that leaders have no interest in helping followers manage negative events; they just don't\\nwant followers to display negative reactions. this perception, in turn, is likely to relate to a less favorable evaluation of follower\\nlmx with the leader. moreover, the perceived demand for suppression may relate the desire to balance discretionary efforts against\\nthese additional demands for emotion work. when employees perceive that their leaders want them to suppress negative emotions,\\nthis lack of support can be compounded by the perceived demand for suppression. as a result of these perceived demands for suppres-\\nsion, the leader-follower exchange relationship suffers and ocbis suffer as well.\\n\\nit appears that modulating the emotional response may have an additional negative impact beyond that driven by lmx as it also\\nsignificantly and negatively related to both job satisfaction and ocbis. because the act of suppressing one's emotions may degrade\\none's relationships and well-being (gross & john, 2003; gross & levenson, 1997; pennebaker & beall, 1986)—a finding that has\\nbeen replicated in studies of the emotional labor (bhave & glomb, 2013; grandey & gabriel, 2015)—modulating the emotional\\nresponse may influence ocbis through other mechanisms. in terms of job satisfaction, it appears that the physiological stress of sup-\\npressing emotions relates to job satisfaction, and the perceived demand to do so may directly generate dissatisfaction (hochschild,\\n1983; brotheridge & grandey, 2002; grandey & gabriel, 2015). further, withholding discretionary behaviors such as ocbis is one\\nway that employees correct for unfair or extra job demands (organ, 1988, 1990).\\n\\nunexpectedly, we did not find a relationship between attentional deployment and leader–member exchange. we argued\\nthat when followers are adults who are aware that they are being distracted, they might deduce that the leader is uncaring or even\\nunderhanded regarding follower goals. our null result suggests that attentional deployment may operate through more complex\\nmechanisms. for instance, it may, at times, be perceived negatively as leader avoidance but at other times be viewed positively\\nas well-intentioned attempts to alleviate the employee's stress (even if the leader cannot address the environmental obstacle).\\nit could also indicate, however, that this iem strategy might not work as well in adult working populations as it does with children.\\nfuture research will need to investigate moderators that may help tease apart the possible positive and negative effects of leaders'\\nuse of attentional deployment.\\n\\nimplications for future research\\n\\nour study contributes to the leadership literature conceptually and empirically. conceptually, we developed a model of specific\\nand observable leader behaviors targeted at managing undesired negative emotions in the workplace. a vast body of literature\\n\\n\\n\\n94 l.m. little  / the leadership quarterly 27 (2016) 85–97\\nexamines how leaders elicit positive emotions, but themanagement of undesired negative emotions is scarcely studied despite urgent\\nneed (gooty , 2010). empirically, our study provides initial evidence that leaders ge in discernible behaviors aimed at reduc-\\ning or preventing negative emotional responses to events at work. this is an important contribution to the current literature.\\n\\nthe nature of this study has allowed us to makneral statements about the potential predictive power of iem strategies and\\ntheir general use. again, consistent with research on emotion regulation of self and much of the research on emotional labor\\n(gross & levenson, 1993; brotheridge & grandey, 2002), the items used tomeasure leader iem strategies capturedwhether followers\\nperceive their leaders to be using these strategies in general. our study of iem strategies opens up a host of future research directions.\\nwemention several examples below. questions directly related to our results comprise our first three future directions. first, how do\\nthe frequency of use of each strategy and the relational contextmatter? from a follower's perspective, theremight be a point atwhich\\ncontinued use of a certain strategy would no longer affect relationship quality in the expected manner. event-based studies of iem\\nstrategies could shed light on the immediate impact of each strategy while considering the quality of the preexisting relationship\\nbetween leaders and followers, individual differences in personal emotional management styles, and other factors as moderators.\\nin addition, event-based studies may also reveal how preexisting affective ties influence perceptions of leaders' iem strategies and\\nmay even moderate their effectiveness.\\n\\nsecondly, does agreement matter? specifically, are there effects of the agreement between follower ratings of leaders' iem\\nstrategies and leaders' own ratings of the iem strategies that they claim to utilize? similarly, are there effects of the agreement\\nbetween leaders' iem strategies and the preferred self emotion-management strategy of followers? for example, the negative effect\\nof leaders' use of emotion modulation may be mitigated when a follower's preferred self emotion-management strategy is suppres-\\nsion. additionally, if leaders and followers hold systematically different perceptions of the leaders' iem strategies, this could have\\nimportant implications for both practice and theory. thirdly, are there moderators that change the effectiveness of iem strategies?\\nfor example, it is possible that the use of attentional deployment strategies could be positively related to lmx onlywhen the follower\\nis unaware that the leader is trying to distract him or her from the problem.\\n\\nwhile the primary focus of this study was the impact of leader iem strategies on followers, future research is needed to examine\\nthe potential personal consequences of these strategies for the leader (, niven , 2012). future research could investigate\\nwhether different iem strategies influence leaders' perceptions of lmx in the same directions that they influence followers' percep-\\ntions. for example, the same relationships may not hold for leader-rated lmx. similar to the expression of compassion (kanov ,\\n2004), iem strategiesmight be emotionally taxing on the leader and the resulting emotional exhaustion could be negatively related to\\noutcomes and perceptions of lmx. on the other hand, these strategies might generate positive emotions such as pride and increased\\nperceptions of lmx quality because the leader may perceive his or her own behavior as helpful and agentic. moreover, organizational\\nculture may moderate the effects of a leader's iem strategies. for example, leaders' iem strategies may generate more emotional\\nexhaustion in a competitive conflict culture than in a culture of love (gelfand, leslie, & keller, 2008; barsade & o'neill, 2014).\\n\\nfuture research should also investigate how leader iem strategies and lmx affect such relevant constructs as counterproductive\\nworkplace behaviors (cwb), absenteeism, turnover intentions, and job performance of the followers, as well as performance ratings\\nof the leader.\\n\\nbased on the current study,we canmake predictions concerning how these relationshipswill look, but future research can provide\\nsupport for our understanding of the impact of relationship quality on a wide variety of relevant variables.\\n\\nlimitations\\n\\nour research is not without limitations. one of our limitations is that datawere cross-sectional in nature. causality, thus, cannot be\\ninferred. we made theoretical arguments for the expected relationships and hypothesized directional association based on previous\\nresearch and our findings were consistent with these expectations. further, we strove to minimize method bias by including multi-\\nsource data collected at two points in time. consistent with work on emotion regulation of self and emotional labor, we investigated\\nthemanagement of undesirable, negative emotion; however, future research should also investigate situations inwhich leaders try to\\nmanage followers' emotions to be less positive andmore negative. for example, amanagermay try to instill fear of dismissal or guilt in\\nan employee so that he or she understands the importance of avoiding certain mistakes.\\n\\nthe use of the snowballing technique allowed us to gather matched dyadic data spanningmultiple organizations. yet, in its truest\\nform, this technique yields data that could violate many assumptions in probability statistics (cf. neuman, 2002). we acknowl\\nthis as a limitation of our study as well.\\n\\nimplications for practice\\n\\nthe findings of this study also hold several important implications for practice, should they be replicated. perhapsmost notably, it\\nis important for leaders to understand that their followers are aware of the efforts beingmade tomanage follower emotions. because\\nof the differential effects of the various iem strategies, leadersmust be aware that certain strategies are likely to bemore effective than\\nothers in ultimately improving satisfaction and increasing ocbis. managers in training could benefit from understanding the differ-\\nences between strategies that demonstrate understanding and personal caring versus strategies that demonstrate a lack of these qual-\\nities. in addition, leaders must understand that they cannot merely rely on the strategies they use to manage their own emotions to\\nregulate follower emotions. inmanaging one's own emotions, attentional deployment, or distracting oneself from the negative event,\\nmay prove useful. in contrast, distracting a follower fromanemotion-eliciting eventmay be ineffective in terms of follower-enhancing\\nperceptions of the quality of the relationship with the leader, ocbis, and satisfaction.\\n\\n\\n\\n95l.m. little  / the leadership quarterly 27 (2016) 85–97\\nthe results of our study can serve as an additional layer of support for emphasizing social exchange as the basis for leader-follower\\nrelationships within the organization. instead of an exclusive focus on performance-based or task-based exchanges (, a promotion\\ngiven based on higher production outputs), leaders could be encouraged to help followers effectively resolve negative emotion-\\ninducing events at work. followers who perceive that leaders are “in tune” with their emotions may evaluate their relationships\\nwith their leadersmore favorably, performbetter, and exhibit higher levels of job satisfaction than those followerswithweak relation-\\nships with leaders. creating a perception that onnuinely is attempting to be helpful in managing emotions can be a powerful skill\\nfor leaders to obtain.\\n\\nconclusion\\n\\nleadership and emotions have taken a center stage in the management literature. yet, very little is known regarding the specific\\nbehavioral strategies used by leaders inmanaging follower negative emotions. drawing upon emotion regulation and social exchange\\ntheories, we contended and found results consistent with our argument that when followers perceive that problem-focused leader\\nemotion management meets expectations and creates future obligation, better lmx results. conversely, when followers perceive\\nthat leaders use the non-problem-focused strategy of emotionmodulating suppression, they reported lower lmx and job satisfaction,\\nand their leaders reported lower ocbis. our study suggests that the emotion management strategies impact the development of\\nhigher quality exchange relationships in the workplace and in follower ocbis.\\n\""
      ]
     },
     "execution_count": 20,
     "metadata": {},
     "output_type": "execute_result"
    }
   ],
   "source": [
    "pdf_p[ref_doc]"
   ]
  },
  {
   "cell_type": "code",
   "execution_count": 21,
   "metadata": {},
   "outputs": [],
   "source": [
    "#remove hyphon only if it is at the end of the line.\n",
    "#pdf_p = [re.sub(r'(\\W[a-z]+)-\\n(\\W[a-z]+)', r'\\1\\2', t) for t in pdf_p]\n",
    "pdf_p = [re.sub(r'-\\n', '', t) for t in pdf_p]"
   ]
  },
  {
   "cell_type": "code",
   "execution_count": 22,
   "metadata": {},
   "outputs": [],
   "source": [
    "#remove text within ()\n",
    "pdf_p = [re.sub(r\"\\([^)]*\\)\", \"\", t) for t in pdf_p]\n",
    "# remove text with [] eg citation\n",
    "pdf_p = [re.sub(r\"\\[[^)]*\\]\", \"\", t) for t in pdf_p]\n",
    "#Remove numbers\n",
    "pdf_p = [re.sub('[0-9]+', '', f) for f in pdf_p]\n"
   ]
  },
  {
   "cell_type": "code",
   "execution_count": 23,
   "metadata": {},
   "outputs": [],
   "source": [
    "pdf_p = [re.sub('[\\n\\r]+', ' ', f) for f in pdf_p] # remove newline and linebreak characters, replace with space\n",
    "pdf_p = [re.sub('[@/%#$,=\\+:’“”]', ' ', f) for f in pdf_p] # remove stray non-word characters"
   ]
  },
  {
   "cell_type": "code",
   "execution_count": 24,
   "metadata": {},
   "outputs": [],
   "source": [
    "#pdf_p = [re.sub(r\"\\s\\([A-Z][a-z]+,\\s[A-Z][a-z]?\\.[^\\)]*,\\s\\d{4}\\)\", \"\", f) for f in pdf_p] # is this supposed to filter out citations?\n",
    "\n",
    "# save all periods, exclamation marks and question marks, but get rid of unnecessary characters\n",
    "pdf_p = [re.sub('[\\.!?]+ ', 'XYZXYZ', t) for t in pdf_p]\n",
    "pdf_p = [re.sub('-', 'ZYXXYZ', t) for t in pdf_p]\n",
    "pdf_p = [re.sub('[\\W_]+', ' ', f) for f in pdf_p]\n",
    "pdf_p = [re.sub('XYZXYZ', '. ', f) for f in pdf_p]\n",
    "pdf_p = [re.sub('ZYXXYZ', '-', f) for f in pdf_p]\n",
    "#pdf_p[0]\n",
    "\n",
    "#Remove placeholder x repetitions\n",
    "pdf_p = [re.sub(' x+ ', '', f) for f in pdf_p]\n",
    "\n",
    "# remove single characters\n",
    "pdf_p = [re.sub(' [a-z] ' ,  ' ', f) for f in pdf_p]\n",
    "pdf_p = [re.sub(' [a-z]\\.', '.', f) for f in pdf_p]\n",
    "pdf_p = [re.sub(' \\.', '.', f) for f in pdf_p]"
   ]
  },
  {
   "cell_type": "code",
   "execution_count": 25,
   "metadata": {},
   "outputs": [
    {
     "name": "stdout",
     "output_type": "stream",
     "text": [
      " the role of leader emotion management in leader member exchange and follower outcomes the leadership quarterly contents lists available at sciencedirect the leadership quarterly ourna homepage lsev ie com locate leaqua the role of leader emotion management in leader member exchange and follower outcomes laura. little janaki gooty michele williams a terry college of business university of georgia athens ga united states belk college of business university of north carolina charlotte united states michele williams cornell university united states r i l i f corresponding author. e-mail address. - the authors. published are posited to affect followers organizational citizenship behaviors performedwithin interpersonal relationships and job satisfaction via follower perceptions of the quality of the leader member exchange relationship. in addition we posit that some but not all leader iems promote and strhen lmx relationships. results frommultisource data in sample of leader follower dyads confirmed themajority of the hypothesizeddirect effects of the leader iems and mediating effects of lmx.  the authors. published by elsevier inc. this is an open access article under the cc by-nc nd license. indeed many scholars have acknowld that leaders are active managers of group emotion. given the vast number of studies debates and comprehensive reviews that have accumulated the study of leadership and emotions is no longer considered an emng domain. many of these accumulated empirical studies have shed light on issues such as how leader ownpositive andnegative emotional displays affect followers the impact of contagionprocesses that transmit leader affect to the workgroup and the effects of leader surface and deep acting on follower outcomes to name just few. the role of emotions in leadership literature then has primarily focused on leaders emotional displays processes and emotion-related abilities and the effects thereof on their followers or groups of followers. what is less common in the literature is focus on the active or conscious behaviors enacted by leaders to manage follower emotions. such focus would be consistent with the work of many scholars who have argued convincingly that followers and leaders alike consider the management of follower emotion and negative emotion in by elsevier inc. this is an open access article under the cc by-nc-nd license. little the leadership quarterly particular fundamental leadership task. indeed humphrey coined the term leading with emotional labor to reflect this critical function of leader as an activemanager of follower emotion. yet rather surprisingly the literature is fairly scant in this domain with very few studies focusing on specific behaviors leaders enact in response to follower emotion. to be sure handful of studies have examined leader behaviors as the cause of follower emotions. for example dasborough found that certain leader behaviors are the causes of affective events in followers thus leading to emotion experiences. similarly mccoll-kennedy and anderson found that followers experience more positive emotions when leaders display transformational behaviors. in an earlier theoretical treatise weierter argued that charismatic leaders reinforce follower self-esteem via displays of enthusiasm and passion and thus nder positive emotions in followers. despite this progress less is known about what specific behaviors leaders enact tomanage followers negative emotions. and importantly what is the influence of these behaviors on important job-related outcomes such as relationship quality contextual performance and satisfaction. in this paper we cast interpersonal emotion management strategies as observable leader behaviors targeted at managing followers negative emotions. drawing upon increasing evidence in emotion regulation theories and empirical findings which suggest that people routinely manage and regulate others emotions we suggest that leaders regulate follower emotions via the use of leader iem strategies. furthermore drawing upon the tenets of social exchange theory and attribution theory we argue that followers attribute differing intentionality to the use of these strategies which in turn will influence relationship quality. specifically leader use of problem-focused strategies that mitigate or eliminate underlying causes of negative emotions will relate to positive follower perceptions of quality exchange relationship between the follower and leader. in contrast leader use of iem strategies that are emotion-focused and leave the underlying cause of negative emotion unaddressed hinder the lmx relationship via decreased rapport and affiliation. we further expect that lmx will mediate the relationships between each of the iem strategies and routinely studied work outcomes organizational citizenship behaviors performedwithin interpersonalwork relationships and job satisfaction we chose these outcomes because of their conceptual relationships with lmx and their organizational importance as both have been linked to organizational performance. our work contributes to the leadership and emotions literature in three unique ways. first we extend research on emotions in leadership by investigating perceptions of specific leader behavior targeted at managing followers negative emotions. the lmx literature has long contended that leader-follower interactions and role-making episodes can elicit high-quality lmx. yet we know very little about the specific leader behaviors that are enacted during such role-making episodes or interactions that relate to lmx. an understanding of such behaviors could stimulate further theory and empirical research by pinpointing specific leader behaviors that could foster higher quality lmx. second we contribute to theory and findings in the study of social exchanges which have started to move away from purely transactional-cognitive route to one that contends that emotion expression and regulation are key building blocks for the development and maintenance of interpersonal relationships. considering that leaders responsiveness to followers emotions in interpersonal relationships is laden with information attributions and intentionality focus on such emotional phenomena may be central to understanding social exchange. finally we contribute to the iem literature by offering finer grained examination of iem strategies. this examination suggests that specific iem strategies differentially affect the quality of leader-follower relationships. understanding why perceptions of some iem strategies are likely to elicit positive outcomes whereas some are likely to elicit negative outcomes deepens our theoretical understanding of iem strategies in organizations beyond current models which suggest primarily positive effects for the target individual. in the following sections we develop theory connecting the use of leader iem strategies to evaluations of the social exchange relationships between leaders and their followers ocbis and job satisfaction. next we present empirical findings showing the importance of iem strategies in building or thwarting high-quality lmx. such lmx in turn mediates the association between leader iem strategies and work outcomes ocbis and job satisfaction. interpersonal emotion management strategies interpersonal emotion management strategies derive from gross work on emotion management of the self and the notion that individuals manage others emotions at work using the same tactics that they use tomanage their own emotions. williams outlined four interpersonal emotionmanagement strategies used tomanage others emotions situationmodification cognitive change attentional deployment and modulating the emotional response. situation modification consists of active efforts to directly modify or change situation to alter its emotional impact. in situation modification leader will remove modify or change the aspects of the situation or problem causing an undesired emotion in the follower. as such situation modification is problem-focused. for example if an employee is experiencing anxiety - ZYX.. XYZZYX.. XYZ - ZYX. XYZZYX. XYZ ZYX. XYZsm lmx ocbis cc ad mer - job satisfaction fig.  path estimates additional paths tested in alternativemodel sm situationmodification ad attentional deployment cc cognitive change mer modulating the emotional response. lmx leader member social exchange b.  b.  b.. little the leadership quarterly over completing work within specified time frame supervisor might modify the situation by reducing the amount of work required for the task or by reassigning some of the employee responsibilities to coworker. cognitive change involves selecting which of many possible meanings will be attached to the situation reappraising or reinterpreting the situation as having less potential for harm to goals concerns andwell-being. cognitive change entails the leader exhibiting behaviors that put situations in perspective for the follower helping the follower see the situation in more positive light. thus cognitive change is also problem-focused. for instance if an employee were distressed that her d project did not receive funding her manager might reframe the failure as normal and important step toward developing project that would get funding. cognitive change is distinguished from situation modification in that the antecedent causing the undesired emotion is not removed or altered. instead the negative emotional impact of the antecedent is mitigated by changing the way the follower thinks about the problem. when using this strategy leader is attempting to reduce emotion-provoking aspects of the situation in the mind of the follower. we acknowl that when cognitive change is self-focused rather than interpersonally oriented it is similar in content to the coping strategy known as positive reinterpretation. although positive reinterpretation has been cast as an emotion-focused coping strategy by some scholars and alternatively as problem-focused strategy by others we follow the latter as we contend that in order to reinterpret problem in amore positive light for others one must understand and focus on the problem. attentional deployment involves distracting attention away from the elements of situation that are harmful to goals concerns or well-being or by moving away from the situation entirely. in attentional deployment leader directs his or her behavior at distracting the follower in order to induce more positive emotions. leaders and other agents will often use humor or other means as ways of distracting followers to improve their emotions. attentional deployment is distinguished from situation modification and cognitive change in that the problem causing the undesired emotion is not removed reframed or directly addressed. instead when using this strategy leader is attempting to distract follower attention from the cause of the negative emotion. in this way attentional deployment is emotion-focused. modulating the emotional response involves influencing emotional response tendencies. this strategy is aimed at reducing the behavioral expression of an emotion once it is experienced. in modulating the emotional response leaders ge in behaviors that encourage followers to suppress their undesired negative emotions. suppression can be particularly important in organizations because it can be easily communicated and modeled by leaders and also built into an organization culture. indeed organizational display rules are typically targeted at the suppression of negative emotions such as anger shame and sadness and leaders encourage adherence to these display rules via acts of modulating the emotional response. for example leader may direct an employee to calm down when upset or advise him or her to relax or tell him or her that enough.  leaders attempts at managing followers emotions often involve making it clear not care how the target feels and aims to reduce the follower expression of these feelings rather than to address the problem causing the feelings. thus modulating the emotional response like attentional deployment is emotion-focused.. little the leadership quarterly importantly iem strategies are focused on the management of others negative emotions. negative emotions arise out of perceived goal obstruction or threat in one environment. the iem strategies that we have described above differ in the extent to which they address the sources of followers negative emotions. we contend that when iem strategies are visible and perceived by followers not all iem strategies will create conditions that are optimal for relationship development and will have implications for leader-follower relationships. leader member exchange and interpersonal emotion management leader member exchange with its roots in social exchange theory suggests that leader-follower interactions lay the foundation for perceptions of the quality of the exchange relationship between leaders and followers. followers perceptions of lmx reflect the expectation that voluntary actions on their part will be reciprocated by the leader. these perceptions are important in the workplace because they influence performance-related and attitudinal variables. the history of followers interactions with their leaders shapes their perceptions of the nature and quality of those relationships. such relationships develop over period of time and are based on role-making episodes. this history results in leaders developing different types of relationships with their various followers. relationships with one leader can reside anywhere on continuum from low-quality transactional relationship based on quid pro quo exchanges to high-quality exchange relationship based on felt obligation and reciprocal behavior. graen and uhl-bien note that higher quality exchanges are function of met expectations resulting from such role-making episodes and these expectations span both the task and interpersonal domains. the social exchange view of lmx argues that the development and maintenance of positive lmx relationships occur via high-quality interpersonal exchanges characterized by respect liking and mutual obligation. even though such interpersonal exchanges are ripe with emotions and emotion-related information theory and research in lmx have adopted largely cognitive-transactional stance with few notable exceptions. furthermore early works in lmx have underscored the importance of member attributions and categorizations of leader behavior in forming lmx evaluations. considering that the experience expression and partner responsiveness to emotions in interpersonal relationships is ladenwith information attributions and intentionality focus on such emotion phenomena is key to understanding how such high quality lmx relationships could be fostered. when leaders actively manage followers emotions via iem strategies such leader behaviors become an integral piece of information that followers draw upon in further evaluating reciprocating and maintaining that relationship with their leaders. in this section we propose that the use of leader iems that are problem-focusedwill be positively associatedwith lmxwhile their use of emotion-focused iems will be negatively associated with lmx. for example leader might use situation modification by assigning additional supportive resources to subordinate who is feeling overwhelmed and anxious. such leader has clearly addressed the cause of the anxiety and attempted to alleviate it. thus we contend that situationmodification will be positively related to lmx. cognitive change also addresses the cause of the negative emotion but does so in somewhat different manner. when using cognitive change the leader attempts to alter the follower perception of the causes of the negative emotions. for instance when leader helps the follower see the cause of the negative emotion in different light as something that is temporary and will improve with each day not only is the emotional impact of the situation reduced but the follower is likely to appreciate the leader attempt to reframe the situation. the leader has increased the follower perceptions of the quality of their lmx and sense of obligation toward the leader. when followers then make positive attributions about the leader and they feel sense of obligation based onmet expectations then sense of obligation is created via the supportive leader behavior of reframing the workplace hassle. there are at least three compelling pathways from follower perceptions of leader problem-focused iems use and lmx. first followers have role expectations regarding leader iem. both positive and negative emotions stem from daily workplace events. key function of leadership is to attend to or work toward alleviating workplace hassles thus mitigating follower negative emotions. when leaders use iem strategies that address the problems causing negative emotions followers expectations are met sense of obligation is created and lmx is enhanced. second pathway from leader iems to lmx is attributions of intentionality on the part of followers when they perceive leaders using problem-focused coping strategies. dasborough and ashkanasy state people act as naïve scientists in deciphering making sense of and attributing intentions to other people behavior. they further note that followers could attribute leader behavior to focus that is other-oriented or self-serving. we extend their logic further and suggest that followers attribute benevolent intentionality to the leader when they perceive the use of problem-focused iem strategies. as noted earlier this is due to the alleviation of work-related hassles that form the core of such leader iems. third when leaders use problem-focused iems they communicate to followers that the expression of negative emotions is acceptable. moreover because emotions are rich with communicative information the expression of emotions can enhance communication promote positive relational functioning and bring. little the leadership quarterly needed attention to important organizational issues. using problem-focused iems they not only address the source of the followers emotion but also may make followers feel validated and promote open communicate of followers thoughts aswell as emotions which could set the stage for the relationship to be better. taken together each of these cognitivemechanisms.  met role expectations of the leader an attribution of benevolence and emotion rich communication in the relationship all allow higher quality lmx relationships to em. hypothesis. followers perceptions of leaders use of situation modification will positively impact lmx. hypothesis. followers perceptions of leaders use of cognitive change will positively impact lmx. however not all iem strategies used by leaders produce positive outcomes. when leaders use iem strategies that do not address the cause of negative emotions followers role expectations regarding the leader go unmet. their lmx is undermined and they are less likely both to invest in voluntary actions for that leader and to believe that their voluntary actions might be reciprocated we argue that attentional deployment and themodulating the emotional response are likely to negatively impact lmx in the context of leader-follower relationships because they donot alleviate sources of negative emotion in the environment. attentional deployment signals to followers that leaders are not willing to invest time and resources in altering the source of the negative emotion. thus followers will be less likely to ge in reciprocal behavior. furthermore when followers observe that leaders do not attempt to address or alleviate workplace challs in their environment one of followers fundamental role expectations of leaders is violated. the awareness that those who should be able to address workplace problem are instead trying to distract from that problem can cause resentment over time. for example consider follower who has had an intense negative experience with customer and feels angry. the leader might steer the conversation to focus on things that the follower enjoys. such responses to follower emotions might distract the follower momentarily. however because the causes in the follower environment are not mitigated or resolved the follower might infer that the leader does not care enough to invest time and resources in alleviating the causes of his or her negative emotions. the follower will subsequently feel that his or her problem is being overlooked or ignored. this unmet expectation affects the follower evaluation of the quality of the exchange relationship with the leader. furthermore the follower could then attribute apathy and less benevolent intentionality to the leader as they have not observed behaviors directed at alleviating the follower workplace hassles. we hypothesize the following hypothesis. followers perceptions of leaders use of attentional deployment will negatively relate to lmx. similarly becausemodulating the emotional response involves suggesting that target refrain fromexpressing his or her negative feelings this mode of behavior shows disregard for those feelings and does not address the source of the negative emotions. the use of mer not only conveys to followers that their emotions need to be suppressed but also that the leader does not acknowl their feelings as valid and is not going towork to alleviate them. in interpersonal relationships research especially marital satisfaction research key cause for relationships to deteriorate is the suppression of emotion as they tend to be so rich with communicative information. as an example gottman and levenson in -year longitudinal study of married heterosexual couples found that emotions in interactions between the couple predicted divorce rates at later timewith accuracy. our point here is that when leaders encourage follower to suppress their emotions they lose the opportunity to address the problem make followers feel validated and to promote open communicate of followers thoughts as well as emotions behavior which could have set the stage for the relationship to be better. instead the use of mer is likely to decrease interpersonal expressiveness and relationship quality. indeed as noted earlier the suppression of emotion expression in that dyadic relationship can be toxic to the relationship as it hinders free and fair communication. whether or not followers choose to suppress their emotions leaders who ask their followers to refrain from expressing their feelings discount their followers experiences. they also fail to resolve the emotion-eliciting event. followers may view leaders as apathetic regarding their situations. thus unmet role expectations for the leader an attribution of apathy rather than benevolence and emotion-poor communication in the relationship all may inhibit higher quality lmx relationships from emng. we propose the following hypothesis. followers perceptions of leaders use of modulating the emotional response will negatively relate to lmx. iem strategies lmx satisfaction and ocbis overall job satisfaction which refers to the degree to which an employee enjoys job is not only central job attitude and outcome variable in organizational behavior but also relevant outcome for lmx because leaders directly influence subordinates experiences of their jobs. organizational citizenship behaviors which refer to discretionary behaviors that promote effective functioning of the organization but are not typically recognized formally by an organization are also relevant to the leader-subordinate context. high-quality lmx is associated with felt obligation and ocbs are core mechanism for expressing both felt obligation and the reciprocity that often accompanies high-quality lmx relationships we focus specifically on interpersonal or altruistic organizational citizenship behaviors because these are directed at helping another individual and therefore are particularly relevant for the exchange relationships between supervisors and subordinates.. little the leadership quarterly given this study purpose of identifying importantwork outcomes associatedwith iem strategies we position lmx as the explanatory mechanism relating the perception of iem strategies to job satisfaction and ocbis. because the relationship between lmx and satisfaction and ocbis has been established in the extant literature we will present theoretical support and hypotheses linking iem strategies to these outcomes indirectly via lmx. we have proposed that although all iem strategies may reduce negative emotions at least temporarily in specific contexts only some strategies provide positive cues about leaders willingness to address emotion-provoking threats to their followers wellbeing whereas other strategies provide negative cues about leaders willingness to do this. specifically because followers role expectations regarding leaders willingness to address threats to them are met via the problem-focused strategies of situationmodification and cognitive change these behaviors signal to followers that the leaders care about them when followers perceive these behaviors they are likely to experience sense of obligation and higher quality lmx will ensue. this higher quality lmx as well as the sense of indebtedness and obligation characteristic of high-quality lmx set the stage for extra effort to ge in extra-role behavior. having leader who acknowls and addresses obstacles in one workplace via enactment of cognitive change and situation modification creates positive outcomes because it provides positive interpersonal cue as to the quality of the leader-follower relationship it motivates followers to put in extra effort toward their tasks as they feel indebted to the supervisor and the resultant perception of higher quality lmx acts as critical supportive resource for followers in that it enhances their belief that they can rely on their leaders to overcome obstacles thus encouraging ocbis. higher quality lmx also facilitates job satisfaction for similar reasons. first the supervisor and the work environment are both critical aspects of job satisfaction. when higher quality lmx relationships exist job satisfaction should increase because followers enjoy the material and relational benefits of that quality relationship. finally follower job satisfaction is also enhanced because high quality lmx signals to followers that their leader values their role and contribution and is willing to invest time and resources into that relationship. thus we hypothesize the following hypothesis. followers perceptions of leaders use of situation modification and cognitive change will be positively and indirectly related to ocbis through lmx. hypothesis. followers perceptions of leaders use of situation modification and cognitive change will be positively and indirectly related to job satisfaction through lmx. in contrast to the effects of iem strategies that address the underlying causes of negative emotions attentional deployment and modulating the emotional response are negatively related to lmx because they do not address the underlying causes of followers negative emotions and thus provide negative interpersonal cues about the quality of the leader-follower relationship they result in unmet role expectations on the part of the follower and they leave in place obstacles or hassles in the work environment. hypothesis. followers perceptions of leaders use of attentional deployment andmodulating the emotional response will be negatively and indirectly related to ocbis through lmx. hypothesis. followers perceptions of leaders use of attentional deployment andmodulating the emotional response will be negatively and indirectly related to job satisfaction through lmx. an important aspect of leadership is managing negative emotions in followers yet researchers have just begun to investigate the behavioral strategies that leaders use to do so. further even less is understood about the impact that perceptions of these strategies can have on leader-follower relationships or subsequent follower behavior and attitudes. the results of our study were consistent with model in which followers perceptions of lmx are influenced by their perceptions of the emotion management strategies used by their leader. leaders attempts to manage follower emotions can be positive as in the case of cognitive change and situation modification negative as in the case of modulating the emotional response or neutral as in the case of attentional deployment. our findings are consistent with the premise that leaders iem strategies provide interpersonal cues that can nder stronger positive or negative perceptions about the nature and quality of the exchange relationships they share with their followers. perceived efforts by leaders to attend to followers needs and emotions such as modifying the situation or reframing events can provide such table means standard deviations intercorrelations and reliabilities. variable sd situation modification..  cognitive change..  attentional deployment..  mer.. .  lmx..  ocbis.... .  job satisfaction.. . .  tenure with supervisor... . . . . .. note.. mer modulating the emotional response lmx leader member social exchange ocbs organizational citizenship behavior.  b.  b. table results of structural nested model comparison model χ df δχ rmsea srmr cfi measurement model... alternative measurement model two problem-focused strategies load together and the two emotion-focused strategies load together... alternative measurement model all four strategies load together on single factor... hypothesized model iem strategies to lmx to ocbis and job satisfaction mer to ocbis and job satisfaction... alternative model iem strategies to lmx to ocbis and job satisfaction iem strategies to ocbis and job satisfaction... note.. iem interpersonal emotion management lmx leader member social exchange ocbis interpersonal organizational citizenship behavior mer modulating the emotional response.  b.  b.. little the leadership quarterly cues perhaps via attribution of leader benevolence or met expectations that are positively associated with lmx ocbis and job satisfaction. across both of the problem-focused strategies situation modification and cognitive change leaders help followers alleviate and minimizal-obstructive work events that serve as antecedents to undesired negative emotions. our findings suggest that such leader behaviors help foster follower perceptions that leaders care about their goal accomplishment and are positively related to their evaluation of the quality of their relationships. indirectly they relate to follower outcomes both behavioral and attitudinal. in addition cognitive change was positively and directly associated with job satisfaction. because positive moods have been found to be positively related to job satisfaction the iem strategy of cognitive change may also influence job satisfaction by influencing followers moods. to the degree that followers accurately perceive leaders general propensity to use cognitive change such that this perception reflects an increase in positive affect during emotion managing interactions with the leader the morneralized relationship that we found between this iem strategy and follower job satisfaction may be mediated by positive mood. conversely across both of the non-problem-focused strategies modulating the emotional response and attentional deployment leaders fail to help followers alleviate and minimizal-obstructive work events that serve as antecedents to undesired negative emotions. our findings are consistent with our contention that leaders who encourage followers to modulate or suppress their emotional responses to negative events reap followers negative views of the leader-follower relationship. telling followers that enough or to cut it out may signal that leaders have no interest in helping followers manage negative events they just don want followers to display negative reactions. this perception in turn is likely to relate to less favorable evaluation of follower lmx with the leader. moreover the perceived demand for suppression may relate the desire to balance discretionary efforts against these additional demands for emotion work. when employees perceive that their leaders want them to suppress negative emotions this lack of support can be compounded by the perceived demand for suppression. as result of these perceived demands for suppression the leader-follower exchange relationship suffers and ocbis suffer as well. it appears that modulating the emotional response may have an additional negative impact beyond that driven by lmx as it also significantly and negatively related to both job satisfaction and ocbis. because the act of suppressing one emotions may degrade one relationships and well-being finding that has been replicated in studies of the emotional labor modulating the emotional response may influence ocbis through other mechanisms. in terms of job satisfaction it appears that the physiological stress of suppressing emotions relates to job satisfaction and the perceived demand to do so may directly generate dissatisfaction. further withholding discretionary behaviors such as ocbis is one way that employees correct for unfair or extra job demands. unexpectedly we did not find relationship between attentional deployment and leader member exchange. we argued that when followers are adults who are aware that they are being distracted they might deduce that the leader is uncaring or even underhanded regarding follower goals. our null result suggests that attentional deployment may operate through more complex mechanisms. for instance it may at times be perceived negatively as leader avoidance but at other times be viewed positively as well-intentioned attempts to alleviate the employee stress. it could also indicate however that this iem strategy might not work as well in adult working populations as it does with children. future research will need to investigate moderators that may help tease apart the possible positive and negative effects of leaders use of attentional deployment. implications for future research our study contributes to the leadership literature conceptually and empirically. conceptually we developed model of specific and observable leader behaviors targeted at managing undesired negative emotions in the workplace. vast body of literature. little the leadership quarterly examines how leaders elicit positive emotions but themanagement of undesired negative emotions is scarcely studied despite urgent need. empirically our study provides initial evidence that leaders ge in discernible behaviors aimed at reducing or preventing negative emotional responses to events at work. this is an important contribution to the current literature. the nature of this study has allowed us to makneral statements about the potential predictive power of iem strategies and their general use. again consistent with research on emotion regulation of self and much of the research on emotional labor the items used tomeasure leader iem strategies capturedwhether followers perceive their leaders to be using these strategies in general. our study of iem strategies opens up host of future research directions. wemention several examples below. questions directly related to our results comprise our first three future directions. first how do the frequency of use of each strategy and the relational contextmatter. from follower perspective theremight be point atwhich continued use of certain strategy would no longer affect relationship quality in the expected manner. event-based studies of iem strategies could shed light on the immediate impact of each strategy while considering the quality of the preexisting relationship between leaders and followers individual differences in personal emotional management styles and other factors as moderators. in addition event-based studies may also reveal how preexisting affective ties influence perceptions of leaders iem strategies and may even moderate their effectiveness. secondly does agreement matter. specifically are there effects of the agreement between follower ratings of leaders iem strategies and leaders own ratings of the iem strategies that they claim to utilize. similarly are there effects of the agreement between leaders iem strategies and the preferred self emotion-management strategy of followers. for example the negative effect of leaders use of emotion modulation may be mitigated when follower preferred self emotion-management strategy is suppression. additionally if leaders and followers hold systematically different perceptions of the leaders iem strategies this could have important implications for both practice and theory. thirdly are there moderators that change the effectiveness of iem strategies. for example it is possible that the use of attentional deployment strategies could be positively related to lmx onlywhen the follower is unaware that the leader is trying to distract him or her from the problem. while the primary focus of this study was the impact of leader iem strategies on followers future research is needed to examine the potential personal consequences of these strategies for the leader. future research could investigate whether different iem strategies influence leaders perceptions of lmx in the same directions that they influence followers perceptions. for example the same relationships may not hold for leader-rated lmx. similar to the expression of compassion iem strategiesmight be emotionally taxing on the leader and the resulting emotional exhaustion could be negatively related to outcomes and perceptions of lmx. on the other hand these strategies might generate positive emotions such as pride and increased perceptions of lmx quality because the leader may perceive his or her own behavior as helpful and agentic. moreover organizational culture may moderate the effects of leader iem strategies. for example leaders iem strategies may generate more emotional exhaustion in competitive conflict culture than in culture of love. future research should also investigate how leader iem strategies and lmx affect such relevant constructs as counterproductive workplace behaviors absenteeism turnover intentions and job performance of the followers as well as performance ratings of the leader. based on the current study we canmake predictions concerning how these relationshipswill look but future research can provide support for our understanding of the impact of relationship quality on wide variety of relevant variables. limitations our research is not without limitations. one of our limitations is that datawere cross-sectional in nature. causality thus cannot be inferred. we made theoretical arguments for the expected relationships and hypothesized directional association based on previous research and our findings were consistent with these expectations. further we strove to minimize method bias by including multisource data collected at two points in time. consistent with work on emotion regulation of self and emotional labor we investigated themanagement of undesirable negative emotion however future research should also investigate situations inwhich leaders try to manage followers emotions to be less positive andmore negative. for example amanagermay try to instill fear of dismissal or guilt in an employee so that he or she understands the importance of avoiding certain mistakes. the use of the snowballing technique allowed us to gather matched dyadic data spanningmultiple organizations. yet in its truest form this technique yields data that could violate many assumptions in probability statistics. we acknowl this as limitation of our study as well. implications for practice the findings of this study also hold several important implications for practice should they be replicated. perhapsmost notably it is important for leaders to understand that their followers are aware of the efforts beingmade tomanage follower emotions. because of the differential effects of the various iem strategies leadersmust be aware that certain strategies are likely to bemore effective than others in ultimately improving satisfaction and increasing ocbis. managers in training could benefit from understanding the differences between strategies that demonstrate understanding and personal caring versus strategies that demonstrate lack of these qualities. in addition leaders must understand that they cannot merely rely on the strategies they use to manage their own emotions to regulate follower emotions. inmanaging one own emotions attentional deployment or distracting oneself from the negative event may prove useful. in contrast distracting follower fromanemotion-eliciting eventmay be ineffective in terms of follower-enhancing perceptions of the quality of the relationship with the leader ocbis and satisfaction.. little the leadership quarterly the results of our study can serve as an additional layer of support for emphasizing social exchange as the basis for leader-follower relationships within the organization. instead of an exclusive focus on performance-based or task-based exchanges leaders could be encouraged to help followers effectively resolve negative emotioninducing events at work. followers who perceive that leaders are in tune with their emotions may evaluate their relationships with their leadersmore favorably performbetter and exhibit higher levels of job satisfaction than those followerswithweak relationships with leaders. creating perception that onnuinely is attempting to be helpful in managing emotions can be powerful skill for leaders to obtain. conclusion leadership and emotions have taken center stage in the management literature. yet very little is known regarding the specific behavioral strategies used by leaders inmanaging follower negative emotions. drawing upon emotion regulation and social exchange theories we contended and found results consistent with our argument that when followers perceive that problem-focused leader emotion management meets expectations and creates future obligation better lmx results. conversely when followers perceive that leaders use the non-problem-focused strategy of emotionmodulating suppression they reported lower lmx and job satisfaction and their leaders reported lower ocbis. our study suggests that the emotion management strategies impact the development of higher quality exchange relationships in the workplace and in follower ocbis. \n",
      "---\n",
      "---\n",
      "---\n"
     ]
    }
   ],
   "source": [
    "print(pdf_p[ref_doc])\n",
    "print('---')\n",
    "print('---')\n",
    "print('---')\n",
    "# print(pdf_p[ref_doc])"
   ]
  },
  {
   "cell_type": "code",
   "execution_count": 26,
   "metadata": {},
   "outputs": [],
   "source": [
    "def get_author_names(txt):\n",
    "\n",
    "    refs = re.sub('[0-9]{4}.*\\n','',txt)\n",
    "\n",
    "    l = re.compile(\" [a-z]\\.\").split(refs)\n",
    "    l = [ll for ll in l if not bool(re.search('[0-9]+', ll))]\n",
    "    l = [ll for ll in l if len(ll) < 35]\n",
    "    l = [re.sub('[\\n ,\\&\\.]', '', ll) for ll in l]\n",
    "    l = [re.sub('[!(*);&$]', '', l1) for l1 in l]\n",
    "    authors = [ll for ll in l if len(ll) > 1]\n",
    "\n",
    "    return(authors)\n",
    "#for n in names:\n",
    "#    print(n)\n",
    "\n",
    "#refs = re.sub('\\n.*[0-9].*', '', refs)\n",
    "#refs = re.sub('\\n[^,]+\\n', '\\n', refs)\n",
    "#print(refs)"
   ]
  },
  {
   "cell_type": "code",
   "execution_count": 27,
   "metadata": {
    "scrolled": true
   },
   "outputs": [
    {
     "name": "stdout",
     "output_type": "stream",
     "text": [
      "['parayitam', 'jin', 'alderling', 'borgmann', '⁎shin', 'goffin', 'weigand', 'lechner', 'horn', 'tsui', 'hitt', 'mullainathan', 'arriaga', 'offermann', 'antonakis', 'sepinwall', 'lind', 'bian', 'holman', 'coats', 'schoorman', 'flood', 'rast', 'modin', 'dion', 'bhagwat', 'uysal', 'chao', 'bryk', 'mawritz', 'menzies', 'wurgler', '⁎keller', 'romelsjö', 'candee', 'freytag', 'shipp', 'dennick', '⁎dayan', 'guerrero', 'gordon', 'gower', 'ghiselli', 'dekker', 'mayman', 'lehmann-willenbrock', 'vaara', 'pressdaft', 'oerlemans', 'whitener', 'green', 'gu', 'kastner', 'sosik', 'christianson', 'mummendey', 'xi', 'gahmberg', 'grutterink', 'carter', 'roloff', 'dwertmann', 'vandijke', '-ypodsakoff', 'aycan', 'baron', 'kolb', 'scheibe', 'anseel', 'topolnytsky', 'ottenbacher', '⁎howell', 'frese', 'kalshoven', 'caza', 'jthye', 'miscenko', 'trinh', 'curseu', 'pearsall', 'dawis', 'dulebohn', 'feinberg', 'jrattenweiler', 'rhumphrey', 'solga', 'normand', 'theorell', 'impactofsocialsupportin', 'zajac', 'schmidt', 'hauenstein', 'gross', 'santora', 'lin', 'salem', 'johannesen', 'schuelke', 'leddleston', 'yost', 'dlin', 'teamdecisionmakingin', 'aduncan', 'gerhardt', 'tuuli', 'dhami', 'weisweiler', 'albright', 'bearden', 'gellatly', 'keltner', 'wooldridge', 'brewer', 'kuljanin', 'boden', 'stallworth', 'vazire', 'rosenbloom', 'leritz', 'rust', 'shih', 'healey', 'fletcher', 'sanchez-burks', 'kress', 'dragoni', 'weekley', 'muthénmuthénng', 'schweitzer', 'bodner', 'ramaswami', 'mcgue', 'carrington', 'read', 'strycker', 'ilsev', 'reivich', 'ali', 'osborne', 'siguaw', 'gupta', 'lossie', 'loerbroks', 'batra', '⁎hinduan', 'stapel', 'constantinides', 'rich', 'brinkworth', 'simbula']\n",
      "2453\n"
     ]
    }
   ],
   "source": [
    "authors = []\n",
    "for r in references:\n",
    "    authors += get_author_names(r)\n",
    "    \n",
    "author_nam = list(set(list(authors)))\n",
    "\n",
    "# result is still not perfect, but I have not found any stray 'plain English' so far\n",
    "print(author_nam[100:250])\n",
    "print(len(author_nam))"
   ]
  },
  {
   "cell_type": "code",
   "execution_count": 28,
   "metadata": {},
   "outputs": [],
   "source": [
    "# GET REFERENCE LISTS OF STOPWORDS, I.E. WORDS THAT ARE ESSENTIALLY MEANINGLESS\n",
    "# Get all the list of authors names\n",
    "\n",
    "from nltk.corpus import stopwords as wrd\n",
    "\n",
    "sw = wrd.words('english') + author_nam + country_list + cities_lower\n",
    "\n",
    "#print(sw)"
   ]
  },
  {
   "cell_type": "code",
   "execution_count": 29,
   "metadata": {},
   "outputs": [],
   "source": [
    "#include corpus-specific stopwords\n",
    "sw += ['vol', 'doi', 'article', 'articles', 'reuse', 'sagepub', 'journal', 'journals', 'com', 'quarter', 'quarterly', 'annual', 'proceedings']\n",
    "sw += ['sage', 'editorial', 'report', 'publications', 'publication', 'publisher', 'jom', 'manuscript', 'manuscripts', 'submission', 'submissions']\n",
    "sw += ['editor', 'editors', 'orcid', 'id', 'month', 'mailto', 'author', 'authors', 'homepage', 'sciencedirect', 'scopus']\n",
    "sw += ['january', 'february', 'march', 'april', 'may', 'june', 'july', 'august', 'september', 'october', 'november', 'december']\n",
    "sw += ['monday', 'tuesday', 'wednesday', 'thursday', 'friday', 'saturday', 'sunday']\n",
    "\n",
    "# add a metric ton of generic terms\n",
    "sw += ['a', 'about', 'above', 'across', 'after', 'afterwards']\n",
    "sw += ['again', 'against', 'all', 'almost', 'alone', 'along']\n",
    "sw += ['already', 'also', 'although', 'always', 'am', 'among']\n",
    "sw += ['amongst', 'amoungst', 'amount', 'an', 'and', 'another']\n",
    "sw += ['any', 'anyhow', 'anyone', 'anything', 'anyway', 'anywhere']\n",
    "sw += ['are', 'around', 'as', 'at', 'back', 'be', 'became']\n",
    "sw += ['because', 'become', 'becomes', 'becoming', 'been']\n",
    "sw += ['before', 'beforehand', 'behind', 'being', 'below']\n",
    "sw += ['beside', 'besides', 'between', 'beyond', 'bill', 'both']\n",
    "sw += ['bottom', 'but', 'by', 'call', 'can', 'cannot', 'cant']\n",
    "sw += ['co', 'computer', 'con', 'could', 'couldnt', 'cry', 'de']\n",
    "sw += ['describe', 'detail', 'did', 'do', 'done', 'down', 'due']\n",
    "sw += ['during', 'each', 'eg', 'eight', 'either', 'eleven', 'else']\n",
    "sw += ['elsewhere', 'empty', 'enough', 'etc', 'even', 'ever']\n",
    "sw += ['every', 'everyone', 'everything', 'everywhere', 'except']\n",
    "sw += ['few', 'fifteen', 'fifty', 'fill', 'find', 'fire', 'first']\n",
    "sw += ['five', 'for', 'former', 'formerly', 'forty', 'found']\n",
    "sw += ['four', 'from', 'front', 'full', 'further', 'get', 'give']\n",
    "sw += ['go', 'had', 'has', 'hasnt', 'have', 'he', 'hence', 'her']\n",
    "sw += ['here', 'hereafter', 'hereby', 'herein', 'hereupon', 'hers']\n",
    "sw += ['herself', 'him', 'himself', 'his', 'how', 'however']\n",
    "sw += ['hundred', 'i', 'ie', 'if', 'in', 'inc', 'indeed']\n",
    "sw += ['interest', 'into', 'is', 'it', 'its', 'itself', 'keep']\n",
    "sw += ['last', 'latter', 'latterly', 'least', 'less', 'ltd', 'made']\n",
    "sw += ['many', 'may', 'me', 'meanwhile', 'might', 'mill', 'mine']\n",
    "sw += ['more', 'moreover', 'most', 'mostly', 'move', 'much']\n",
    "sw += ['must', 'my', 'myself', 'name', 'namely', 'neither', 'never']\n",
    "sw += ['nevertheless', 'next', 'nine', 'no', 'nobody', 'none']\n",
    "sw += ['noone', 'nor', 'not', 'nothing', 'now', 'nowhere', 'of']\n",
    "sw += ['off', 'often', 'on','once', 'one', 'only', 'onto', 'or']\n",
    "sw += ['other', 'others', 'otherwise', 'our', 'ours', 'ourselves']\n",
    "sw += ['out', 'over', 'own', 'part', 'per', 'perhaps', 'please']\n",
    "sw += ['put', 'rather', 're', 's', 'same', 'see', 'seem', 'seemed']\n",
    "sw += ['seeming', 'seems', 'serious', 'several', 'she', 'should']\n",
    "sw += ['show', 'side', 'since', 'sincere', 'six', 'sixty', 'so']\n",
    "sw += ['some', 'somehow', 'someone', 'something', 'sometime']\n",
    "sw += ['sometimes', 'somewhere', 'still', 'such', 'system', 'take']\n",
    "sw += ['ten', 'than', 'that', 'the', 'their', 'them', 'themselves']\n",
    "sw += ['then', 'thence', 'there', 'thereafter', 'thereby']\n",
    "sw += ['therefore', 'therein', 'thereupon', 'these', 'they']\n",
    "sw += ['thick', 'thin', 'third', 'this', 'those', 'though', 'three']\n",
    "sw += ['three', 'through', 'throughout', 'thru', 'thus', 'to']\n",
    "sw += ['together', 'too', 'top', 'toward', 'towards', 'twelve']\n",
    "sw += ['twenty', 'two', 'un', 'under', 'until', 'up', 'upon']\n",
    "sw += ['us', 'very', 'via', 'was', 'we', 'well', 'were', 'what']\n",
    "sw += ['whatever', 'when', 'whence', 'whenever', 'where']\n",
    "sw += ['whereafter', 'whereas', 'whereby', 'wherein', 'whereupon']\n",
    "sw += ['wherever', 'whether', 'which', 'while', 'whither', 'who']\n",
    "sw += ['whoever', 'whole', 'whom', 'whose', 'why', 'will', 'with']\n",
    "sw += ['within', 'without', 'would', 'yet', 'you', 'your']\n",
    "sw += ['yours', 'yourself', 'yourselves']\n",
    "\n",
    "sw = list(set(sw))"
   ]
  },
  {
   "cell_type": "code",
   "execution_count": 30,
   "metadata": {},
   "outputs": [],
   "source": [
    "# Function to filter out the stopwords and authors names\n",
    "def filterWords(msg, words):\n",
    "    m = msg.split(' ')\n",
    "    words_end = [w + '.' for w in words]\n",
    "    filtered_words = list(filter(lambda word: word not in words, m))\n",
    "    filtered_words = [(w if w not in words_end else '.') for w in filtered_words]\n",
    "    result = ' '.join(filtered_words)\n",
    "    return(result)"
   ]
  },
  {
   "cell_type": "code",
   "execution_count": 31,
   "metadata": {},
   "outputs": [],
   "source": [
    "# GET RID OF THE STOPWORDS IN TEXTS\n",
    "data_proc = [filterWords(f, sw) for f in pdf_p]  "
   ]
  },
  {
   "cell_type": "code",
   "execution_count": 32,
   "metadata": {},
   "outputs": [],
   "source": [
    "import pickle\n",
    "# exclude author list from metadata\n",
    "author_metadata = pickle.load(open(\"C:/Thesis/Data/save/Master_Data/author_list/author_list.p\", \"rb\"))"
   ]
  },
  {
   "cell_type": "code",
   "execution_count": 33,
   "metadata": {},
   "outputs": [],
   "source": [
    "# GET RID OF THE author names (extracted from the metadata)\n",
    "data_proc_1 = [filterWords(f, author_metadata) for f in data_proc] #running"
   ]
  },
  {
   "cell_type": "code",
   "execution_count": 34,
   "metadata": {},
   "outputs": [
    {
     "data": {
      "text/plain": [
       "' role leader emotion leader member exchange follower outcomes leadership contents lists available leadership ourna lsev locate leaqua role leader emotion leader member exchange follower outcomes . janaki college ga united states belk college north carolina united states cornell united states r l f corresponding . e-mail address. - . published posited affect followers organizational citizenship behaviors performedwithin interpersonal relationships satisfaction follower perceptions quality leader member exchange relationship. addition posit leader iems promote strhen lmx relationships. results frommultisource data sample leader follower dyads confirmed themajority hypothesizeddirect effects leader iems mediating effects lmx.  . published elsevier . open access cc by-nc nd license. scholars acknowld leaders active managers group emotion. given vast number studies debates comprehensive reviews accumulated study leadership emotions longer considered emng domain. accumulated empirical studies shed light issues leader ownpositive andnegative emotional displays affect followers impact contagionprocesses transmit leader affect workgroup effects leader surface deep acting follower outcomes . role emotions leadership literature primarily focused leaders emotional displays processes emotion-related abilities effects thereof followers groups followers. common literature focus active conscious behaviors enacted leaders manage follower emotions. focus consistent work scholars argued convincingly followers leaders alike consider follower emotion negative emotion elsevier . open access cc by-nc-nd license. leadership particular fundamental leadership task. coined term leading emotional labor reflect critical function leader activemanager follower emotion. surprisingly literature fairly scant domain studies focusing specific behaviors leaders enact response follower emotion. sure handful studies examined leader behaviors cause follower emotions. example certain leader behaviors causes affective events followers leading emotion experiences. similarly followers experience positive emotions leaders display transformational behaviors. earlier theoretical treatise weierter argued charismatic leaders reinforce follower self-esteem displays enthusiasm passion nder positive emotions followers. despite progress known specific behaviors leaders enact tomanage followers negative emotions. importantly influence behaviors important job-related outcomes relationship quality contextual performance satisfaction. paper cast interpersonal emotion strategies observable leader behaviors targeted managing followers negative emotions. drawing increasing evidence emotion regulation theories empirical findings suggest people routinely manage regulate emotions suggest leaders regulate follower emotions use leader iem strategies. furthermore drawing tenets exchange theory attribution theory argue followers attribute differing intentionality use strategies turn influence relationship quality. specifically leader use problem-focused strategies mitigate eliminate underlying causes negative emotions relate positive follower perceptions quality exchange relationship follower leader. contrast leader use iem strategies emotion-focused leave underlying cause negative emotion unaddressed hinder lmx relationship decreased rapport affiliation. expect lmx mediate relationships iem strategies routinely studied work outcomes organizational citizenship behaviors performedwithin interpersonalwork relationships satisfaction chose outcomes conceptual relationships lmx organizational importance linked organizational performance. work contributes leadership emotions literature unique ways. extend emotions leadership investigating perceptions specific leader behavior targeted managing followers negative emotions. lmx literature contended leader-follower interactions role-making episodes elicit high-quality lmx. know specific leader behaviors enacted role-making episodes interactions relate lmx. understanding behaviors stimulate theory empirical pinpointing specific leader behaviors higher quality lmx. second contribute theory findings study exchanges started away purely transactional-cognitive route contends emotion expression regulation key building blocks development maintenance interpersonal relationships. considering leaders responsiveness followers emotions interpersonal relationships laden information attributions intentionality focus emotional phenomena understanding exchange. finally contribute iem literature offering finer grained examination iem strategies. examination suggests specific iem strategies differentially affect quality leader-follower relationships. understanding perceptions iem strategies likely elicit positive outcomes likely elicit negative outcomes deepens theoretical understanding iem strategies organizations current models suggest primarily positive effects target individual. following sections develop theory connecting use leader iem strategies evaluations exchange relationships leaders followers ocbis satisfaction. present empirical findings showing importance iem strategies building thwarting high-quality lmx. lmx turn mediates association leader iem strategies work outcomes ocbis satisfaction. interpersonal emotion strategies interpersonal emotion strategies derive work emotion self notion individuals manage emotions work using tactics use tomanage emotions. outlined interpersonal emotionmanagement strategies used tomanage emotions situationmodification cognitive change attentional deployment modulating emotional response. situation modification consists active efforts directly modify change situation alter emotional impact. situation modification leader remove modify change aspects situation problem causing undesired emotion follower. situation modification problem-focused. example employee experiencing anxiety - ZYX.. XYZZYX.. XYZ - ZYX. XYZZYX. XYZ ZYX. XYZsm lmx ocbis cc ad mer - satisfaction fig.  path estimates additional paths tested alternativemodel sm situationmodification ad attentional deployment cc cognitive change mer modulating emotional response. lmx leader member exchange b.  b.  b.. leadership completing work specified time frame supervisor modify situation reducing work required task reassigning employee responsibilities coworker. cognitive change involves selecting possible meanings attached situation reappraising reinterpreting situation potential harm goals concerns andwell-being. cognitive change entails leader exhibiting behaviors situations perspective follower helping follower situation positive light. cognitive change problem-focused. instance employee distressed project receive funding manager reframe failure important step developing project funding. cognitive change distinguished situation modification antecedent causing undesired emotion removed altered. instead negative emotional impact antecedent mitigated changing follower thinks problem. using strategy leader attempting reduce emotion-provoking aspects situation mind follower. acknowl cognitive change self-focused interpersonally oriented similar content coping strategy known positive reinterpretation. positive reinterpretation cast emotion-focused coping strategy scholars alternatively problem-focused strategy follow contend order reinterpret problem amore positive light understand focus problem. attentional deployment involves distracting attention away elements situation harmful goals concerns well-being moving away situation entirely. attentional deployment leader directs behavior distracting follower order induce positive emotions. leaders agents use humor means ways distracting followers improve emotions. attentional deployment distinguished situation modification cognitive change problem causing undesired emotion removed reframed directly addressed. instead using strategy leader attempting distract follower attention cause negative emotion. attentional deployment emotion-focused. modulating emotional response involves influencing emotional response tendencies. strategy aimed reducing behavioral expression emotion experienced. modulating emotional response leaders ge behaviors encourage followers suppress undesired negative emotions. suppression particularly important organizations easily communicated modeled leaders built organization culture. organizational display rules typically targeted suppression negative emotions anger shame sadness leaders encourage adherence display rules acts modulating emotional response. example leader direct employee calm upset advise relax tell .  leaders attempts managing followers emotions involve making clear care target feels aims reduce follower expression feelings address problem causing feelings. modulating emotional response like attentional deployment emotion-focused.. leadership importantly iem strategies focused negative emotions. negative emotions arise perceived goal obstruction threat environment. iem strategies described differ extent address sources followers negative emotions. contend iem strategies visible perceived followers iem strategies create conditions optimal relationship development implications leader-follower relationships. leader member exchange interpersonal emotion leader member exchange roots exchange theory suggests leader-follower interactions lay foundation perceptions quality exchange relationship leaders followers. followers perceptions lmx reflect expectation voluntary actions reciprocated leader. perceptions important workplace influence performance-related attitudinal variables. history followers interactions leaders shapes perceptions nature quality relationships. relationships develop period time based role-making episodes. history results leaders developing different types relationships various followers. relationships leader reside continuum low-quality transactional relationship based quid pro quo exchanges high-quality exchange relationship based felt obligation reciprocal behavior. note higher quality exchanges function met expectations resulting role-making episodes expectations span task interpersonal domains. exchange view lmx argues development maintenance positive lmx relationships occur high-quality interpersonal exchanges characterized respect liking mutual obligation. interpersonal exchanges ripe emotions emotion-related information theory lmx adopted largely cognitive-transactional stance notable exceptions. furthermore early works lmx underscored importance member attributions categorizations leader behavior forming lmx evaluations. considering experience expression partner responsiveness emotions interpersonal relationships ladenwith information attributions intentionality focus emotion phenomena key understanding high quality lmx relationships fostered. leaders actively manage followers emotions iem strategies leader behaviors integral piece information followers draw evaluating reciprocating maintaining relationship leaders. section propose use leader iems problem-focusedwill positively associatedwith lmxwhile use emotion-focused iems negatively associated lmx. example leader use situation modification assigning additional supportive resources subordinate feeling overwhelmed anxious. leader clearly addressed cause anxiety attempted alleviate . contend situationmodification positively related lmx. cognitive change addresses cause negative emotion somewhat different manner. using cognitive change leader attempts alter follower perception causes negative emotions. instance leader helps follower cause negative emotion different light temporary improve emotional impact situation reduced follower likely appreciate leader attempt reframe situation. leader increased follower perceptions quality lmx sense obligation leader. followers make positive attributions leader feel sense obligation based onmet expectations sense obligation created supportive leader behavior reframing workplace hassle. compelling pathways follower perceptions leader problem-focused iems use lmx. followers role expectations regarding leader iem. positive negative emotions stem daily workplace events. key function leadership attend work alleviating workplace hassles mitigating follower negative emotions. leaders use iem strategies address problems causing negative emotions followers expectations met sense obligation created lmx enhanced. second pathway leader iems lmx attributions intentionality followers perceive leaders using problem-focused coping strategies. state people act naïve scientists deciphering making sense attributing intentions people behavior. note followers attribute leader behavior focus other-oriented self-serving. extend logic suggest followers attribute benevolent intentionality leader perceive use problem-focused iem strategies. noted earlier alleviation work-related hassles form core leader iems. leaders use problem-focused iems communicate followers expression negative emotions acceptable. emotions communicative information expression emotions enhance communication promote positive relational functioning bring. leadership needed attention important organizational issues. using problem-focused iems address source followers emotion make followers feel validated promote open communicate followers thoughts aswell emotions set stage relationship better. taken cognitivemechanisms.  met role expectations leader attribution benevolence emotion communication relationship allow higher quality lmx relationships em. hypothesis. followers perceptions leaders use situation modification positively impact lmx. hypothesis. followers perceptions leaders use cognitive change positively impact lmx. iem strategies used leaders produce positive outcomes. leaders use iem strategies address cause negative emotions followers role expectations regarding leader unmet. lmx undermined likely invest voluntary actions leader believe voluntary actions reciprocated argue attentional deployment themodulating emotional response likely negatively impact lmx context leader-follower relationships donot alleviate sources negative emotion environment. attentional deployment signals followers leaders willing invest time resources altering source negative emotion. followers likely ge reciprocal behavior. furthermore followers observe leaders attempt address alleviate workplace challs environment followers fundamental role expectations leaders violated. awareness able address workplace problem instead trying distract problem cause resentment time. example consider follower intense negative experience customer feels angry. leader steer conversation focus things follower enjoys. responses follower emotions distract follower momentarily. causes follower environment mitigated resolved follower infer leader care invest time resources alleviating causes negative emotions. follower subsequently feel problem overlooked ignored. unmet expectation affects follower evaluation quality exchange relationship leader. furthermore follower attribute apathy benevolent intentionality leader observed behaviors directed alleviating follower workplace hassles. hypothesize following hypothesis. followers perceptions leaders use attentional deployment negatively relate lmx. similarly becausemodulating emotional response involves suggesting target refrain fromexpressing negative feelings mode behavior shows disregard feelings address source negative emotions. use mer conveys followers emotions need suppressed leader acknowl feelings valid going towork alleviate . interpersonal relationships especially marital satisfaction key cause relationships deteriorate suppression emotion tend communicative information. example -year longitudinal study married heterosexual couples emotions interactions couple predicted divorce rates later timewith accuracy. leaders encourage follower suppress emotions lose address problem make followers feel validated promote open communicate followers thoughts emotions behavior set stage relationship better. instead use mer likely decrease interpersonal expressiveness relationship quality. noted earlier suppression emotion expression dyadic relationship toxic relationship hinders free fair communication. followers choose suppress emotions leaders ask followers refrain expressing feelings discount followers experiences. fail resolve emotion-eliciting event. followers view leaders apathetic regarding situations. unmet role expectations leader attribution apathy benevolence emotion-poor communication relationship inhibit higher quality lmx relationships emng. propose following hypothesis. followers perceptions leaders use modulating emotional response negatively relate lmx. iem strategies lmx satisfaction ocbis overall satisfaction refers degree employee enjoys attitude outcome variable organizational behavior relevant outcome lmx leaders directly influence subordinates experiences jobs. organizational citizenship behaviors refer discretionary behaviors promote effective functioning organization typically recognized formally organization relevant leader-subordinate context. high-quality lmx associated felt obligation ocbs core mechanism expressing felt obligation reciprocity accompanies high-quality lmx relationships focus specifically interpersonal altruistic organizational citizenship behaviors directed helping individual particularly relevant exchange relationships supervisors subordinates.. leadership given study purpose identifying importantwork outcomes associatedwith iem strategies position lmx explanatory mechanism relating perception iem strategies satisfaction ocbis. relationship lmx satisfaction ocbis established extant literature present theoretical support hypotheses linking iem strategies outcomes indirectly lmx. proposed iem strategies reduce negative emotions temporarily specific contexts strategies provide positive cues leaders willingness address emotion-provoking threats followers wellbeing strategies provide negative cues leaders willingness . specifically followers role expectations regarding leaders willingness address threats met problem-focused strategies situationmodification cognitive change behaviors signal followers leaders care followers perceive behaviors likely experience sense obligation higher quality lmx ensue. higher quality lmx sense indebtedness obligation characteristic high-quality lmx set stage extra effort ge extra-role behavior. leader acknowls addresses obstacles workplace enactment cognitive change situation modification creates positive outcomes provides positive interpersonal cue quality leader-follower relationship motivates followers extra effort tasks feel indebted supervisor resultant perception higher quality lmx acts critical supportive resource followers enhances belief rely leaders overcome obstacles encouraging ocbis. higher quality lmx facilitates satisfaction similar reasons. supervisor work environment critical aspects satisfaction. higher quality lmx relationships exist satisfaction increase followers enjoy material relational benefits quality relationship. finally follower satisfaction enhanced high quality lmx signals followers leader values role contribution willing invest time resources relationship. hypothesize following hypothesis. followers perceptions leaders use situation modification cognitive change positively indirectly related ocbis lmx. hypothesis. followers perceptions leaders use situation modification cognitive change positively indirectly related satisfaction lmx. contrast effects iem strategies address underlying causes negative emotions attentional deployment modulating emotional response negatively related lmx address underlying causes followers negative emotions provide negative interpersonal cues quality leader-follower relationship result unmet role expectations follower leave place obstacles hassles work environment. hypothesis. followers perceptions leaders use attentional deployment andmodulating emotional response negatively indirectly related ocbis lmx. hypothesis. followers perceptions leaders use attentional deployment andmodulating emotional response negatively indirectly related satisfaction lmx. important aspect leadership managing negative emotions followers researchers begun investigate behavioral strategies leaders use . understood impact perceptions strategies leader-follower relationships subsequent follower behavior attitudes. results study consistent model followers perceptions lmx influenced perceptions emotion strategies used leader. leaders attempts manage follower emotions positive case cognitive change situation modification negative case modulating emotional response neutral case attentional deployment. findings consistent premise leaders iem strategies provide interpersonal cues nder stronger positive negative perceptions nature quality exchange relationships share followers. perceived efforts leaders attend followers needs emotions modifying situation reframing events provide table means standard deviations intercorrelations reliabilities. variable sd situation modification..  cognitive change..  attentional deployment..  mer.. .  lmx..  ocbis.... .  satisfaction.. . .  tenure supervisor... . . . . .. note.. mer modulating emotional response lmx leader member exchange ocbs organizational citizenship behavior.  b.  b. table results structural nested model comparison model χ df δχ rmsea srmr cfi measurement model... alternative measurement model problem-focused strategies load emotion-focused strategies load together... alternative measurement model strategies load single factor... hypothesized model iem strategies lmx ocbis satisfaction mer ocbis satisfaction... alternative model iem strategies lmx ocbis satisfaction iem strategies ocbis satisfaction... note.. iem interpersonal emotion lmx leader member exchange ocbis interpersonal organizational citizenship behavior mer modulating emotional response.  b.  b.. leadership cues attribution leader benevolence met expectations positively associated lmx ocbis satisfaction. problem-focused strategies situation modification cognitive change leaders help followers alleviate minimizal-obstructive work events serve antecedents undesired negative emotions. findings suggest leader behaviors help follower perceptions leaders care goal accomplishment positively related evaluation quality relationships. indirectly relate follower outcomes behavioral attitudinal. addition cognitive change positively directly associated satisfaction. positive moods positively related satisfaction iem strategy cognitive change influence satisfaction influencing followers moods. degree followers accurately perceive leaders general propensity use cognitive change perception reflects increase positive affect emotion managing interactions leader morneralized relationship iem strategy follower satisfaction mediated positive mood. conversely non-problem-focused strategies modulating emotional response attentional deployment leaders fail help followers alleviate minimizal-obstructive work events serve antecedents undesired negative emotions. findings consistent contention leaders encourage followers modulate suppress emotional responses negative events reap followers negative views leader-follower relationship. telling followers cut signal leaders helping followers manage negative events want followers display negative reactions. perception turn likely relate favorable evaluation follower lmx leader. perceived demand suppression relate desire balance discretionary efforts additional demands emotion work. employees perceive leaders want suppress negative emotions lack support compounded perceived demand suppression. result perceived demands suppression leader-follower exchange relationship suffers ocbis suffer . appears modulating emotional response additional negative impact driven lmx significantly negatively related satisfaction ocbis. act suppressing emotions degrade relationships well-being finding replicated studies emotional labor modulating emotional response influence ocbis mechanisms. terms satisfaction appears physiological stress suppressing emotions relates satisfaction perceived demand directly generate dissatisfaction. withholding discretionary behaviors ocbis employees correct unfair extra demands. unexpectedly relationship attentional deployment leader member exchange. argued followers adults aware distracted deduce leader uncaring underhanded regarding follower goals. null result suggests attentional deployment operate complex mechanisms. instance times perceived negatively leader avoidance times viewed positively well-intentioned attempts alleviate employee stress. indicate iem strategy work adult working populations children. future need investigate moderators help tease apart possible positive negative effects leaders use attentional deployment. implications future study contributes leadership literature conceptually empirically. conceptually developed model specific observable leader behaviors targeted managing undesired negative emotions workplace. vast body literature. leadership examines leaders elicit positive emotions themanagement undesired negative emotions scarcely studied despite urgent need. empirically study provides initial evidence leaders ge discernible behaviors aimed reducing preventing negative emotional responses events work. important contribution current literature. nature study allowed makneral statements potential predictive power iem strategies general use. consistent emotion regulation self emotional labor items used tomeasure leader iem strategies capturedwhether followers perceive leaders using strategies general. study iem strategies opens host future directions. wemention examples . questions directly related results comprise future directions. frequency use strategy relational contextmatter. follower perspective theremight atwhich continued use certain strategy longer affect relationship quality expected manner. event-based studies iem strategies shed light immediate impact strategy considering quality preexisting relationship leaders followers individual differences personal emotional styles factors moderators. addition event-based studies reveal preexisting affective ties influence perceptions leaders iem strategies moderate effectiveness. secondly agreement matter. specifically effects agreement follower ratings leaders iem strategies leaders ratings iem strategies claim utilize. similarly effects agreement leaders iem strategies preferred self emotion-management strategy followers. example negative effect leaders use emotion modulation mitigated follower preferred self emotion-management strategy suppression. additionally leaders followers hold systematically different perceptions leaders iem strategies important implications practice theory. thirdly moderators change effectiveness iem strategies. example possible use attentional deployment strategies positively related lmx onlywhen follower unaware leader trying distract problem. primary focus study impact leader iem strategies followers future needed examine potential personal consequences strategies leader. future investigate different iem strategies influence leaders perceptions lmx directions influence followers perceptions. example relationships hold leader-rated lmx. similar expression compassion iem strategiesmight emotionally taxing leader resulting emotional exhaustion negatively related outcomes perceptions lmx. hand strategies generate positive emotions pride increased perceptions lmx quality leader perceive behavior helpful agentic. organizational culture moderate effects leader iem strategies. example leaders iem strategies generate emotional exhaustion competitive conflict culture culture . future investigate leader iem strategies lmx affect relevant constructs counterproductive workplace behaviors absenteeism turnover intentions performance followers performance ratings leader. based current study canmake predictions concerning relationshipswill look future provide support understanding impact relationship quality wide variety relevant variables. limitations limitations. limitations datawere cross-sectional nature. causality inferred. theoretical arguments expected relationships hypothesized directional association based previous findings consistent expectations. strove minimize method bias including multisource data collected points time. consistent work emotion regulation self emotional labor investigated themanagement undesirable negative emotion future investigate situations inwhich leaders try manage followers emotions positive andmore negative. example amanagermay try instill fear dismissal guilt employee understands importance avoiding certain mistakes. use snowballing technique allowed gather matched dyadic data spanningmultiple organizations. truest form technique yields data violate assumptions probability statistics. acknowl limitation study . implications practice findings study hold important implications practice replicated. perhapsmost notably important leaders understand followers aware efforts beingmade tomanage follower emotions. differential effects various iem strategies leadersmust aware certain strategies likely bemore effective ultimately improving satisfaction increasing ocbis. managers training benefit understanding differences strategies demonstrate understanding personal caring versus strategies demonstrate lack qualities. addition leaders understand merely rely strategies use manage emotions regulate follower emotions. inmanaging emotions attentional deployment distracting oneself negative event prove useful. contrast distracting follower fromanemotion-eliciting eventmay ineffective terms follower-enhancing perceptions quality relationship leader ocbis satisfaction.. leadership results study serve additional layer support emphasizing exchange basis leader-follower relationships organization. instead exclusive focus performance-based task-based exchanges leaders encouraged help followers effectively resolve negative emotioninducing events work. followers perceive leaders tune emotions evaluate relationships leadersmore favorably performbetter exhibit higher levels satisfaction followerswithweak relationships leaders. creating perception onnuinely attempting helpful managing emotions powerful skill leaders obtain. conclusion leadership emotions taken stage literature. known regarding specific behavioral strategies used leaders inmanaging follower negative emotions. drawing emotion regulation exchange theories contended results consistent argument followers perceive problem-focused leader emotion meets expectations creates future obligation better lmx results. conversely followers perceive leaders use non-problem-focused strategy emotionmodulating suppression reported lower lmx satisfaction leaders reported lower ocbis. study suggests emotion strategies impact development higher quality exchange relationships workplace follower ocbis. '"
      ]
     },
     "execution_count": 34,
     "metadata": {},
     "output_type": "execute_result"
    }
   ],
   "source": [
    "data_proc_1[ref_doc]"
   ]
  },
  {
   "cell_type": "code",
   "execution_count": 35,
   "metadata": {},
   "outputs": [],
   "source": [
    "data_proc2 = [re.sub(\"([a-z]+\\.)+[a-z]+\",\"\", f) for f in data_proc_1]\n",
    "data_proc2 = [re.sub('\\s([?\\.!\"](?:\\s|$))' , r'\\1', f) for f in data_proc2]\n",
    "data_proc2 = [re.sub(\"^\\s+\",\"\", f) for f in data_proc2]\n",
    "data_proc2 = [re.sub(\"\\s+\\Z\",\"\", f) for f in data_proc2]\n",
    "data_proc2 = [re.sub(\"(\\.)+\",\".\", f) for f in data_proc2]\n",
    "data_proc2 = [re.sub(\" +\",\" \", f) for f in data_proc2]\n",
    "data_proc2 = [re.sub(\"( +\\.)\",\".\", f) for f in data_proc2]\n",
    "data_proc2 = [re.sub(\"\\.$\",\"\", f) for f in data_proc2]"
   ]
  },
  {
   "cell_type": "code",
   "execution_count": 36,
   "metadata": {},
   "outputs": [
    {
     "name": "stdout",
     "output_type": "stream",
     "text": [
      "['role leader emotion leader member exchange follower outcomes leadership contents lists available leadership ourna lsev locate leaqua role leader emotion leader member exchange follower outcomes', 'janaki college ga united states belk college north carolina united states cornell united states r l f corresponding', 'e-mail address', '-', 'published posited affect followers organizational citizenship behaviors performedwithin interpersonal relationships satisfaction follower perceptions quality leader member exchange relationship', 'addition posit leader iems promote strhen lmx relationships', 'results frommultisource data sample leader follower dyads confirmed themajority hypothesizeddirect effects leader iems mediating effects lmx.', 'published elsevier', 'open access cc by-nc nd license', 'scholars acknowld leaders active managers group emotion', 'given vast number studies debates comprehensive reviews accumulated study leadership emotions longer considered emng domain', 'accumulated empirical studies shed light issues leader ownpositive andnegative emotional displays affect followers impact contagionprocesses transmit leader affect workgroup effects leader surface deep acting follower outcomes', 'role emotions leadership literature primarily focused leaders emotional displays processes emotion-related abilities effects thereof followers groups followers', 'common literature focus active conscious behaviors enacted leaders manage follower emotions', 'focus consistent work scholars argued convincingly followers leaders alike consider follower emotion negative emotion elsevier', 'open access cc by-nc-nd license', 'leadership particular fundamental leadership task', 'coined term leading emotional labor reflect critical function leader activemanager follower emotion', 'surprisingly literature fairly scant domain studies focusing specific behaviors leaders enact response follower emotion', 'sure handful studies examined leader behaviors cause follower emotions', 'example certain leader behaviors causes affective events followers leading emotion experiences', 'similarly followers experience positive emotions leaders display transformational behaviors', 'earlier theoretical treatise weierter argued charismatic leaders reinforce follower self-esteem displays enthusiasm passion nder positive emotions followers', 'despite progress known specific behaviors leaders enact tomanage followers negative emotions', 'importantly influence behaviors important job-related outcomes relationship quality contextual performance satisfaction', 'paper cast interpersonal emotion strategies observable leader behaviors targeted managing followers negative emotions', 'drawing increasing evidence emotion regulation theories empirical findings suggest people routinely manage regulate emotions suggest leaders regulate follower emotions use leader iem strategies', 'furthermore drawing tenets exchange theory attribution theory argue followers attribute differing intentionality use strategies turn influence relationship quality', 'specifically leader use problem-focused strategies mitigate eliminate underlying causes negative emotions relate positive follower perceptions quality exchange relationship follower leader', 'contrast leader use iem strategies emotion-focused leave underlying cause negative emotion unaddressed hinder lmx relationship decreased rapport affiliation', 'expect lmx mediate relationships iem strategies routinely studied work outcomes organizational citizenship behaviors performedwithin interpersonalwork relationships satisfaction chose outcomes conceptual relationships lmx organizational importance linked organizational performance', 'work contributes leadership emotions literature unique ways', 'extend emotions leadership investigating perceptions specific leader behavior targeted managing followers negative emotions', 'lmx literature contended leader-follower interactions role-making episodes elicit high-quality lmx', 'know specific leader behaviors enacted role-making episodes interactions relate lmx', 'understanding behaviors stimulate theory empirical pinpointing specific leader behaviors higher quality lmx', 'second contribute theory findings study exchanges started away purely transactional-cognitive route contends emotion expression regulation key building blocks development maintenance interpersonal relationships', 'considering leaders responsiveness followers emotions interpersonal relationships laden information attributions intentionality focus emotional phenomena understanding exchange', 'finally contribute iem literature offering finer grained examination iem strategies', 'examination suggests specific iem strategies differentially affect quality leader-follower relationships', 'understanding perceptions iem strategies likely elicit positive outcomes likely elicit negative outcomes deepens theoretical understanding iem strategies organizations current models suggest primarily positive effects target individual', 'following sections develop theory connecting use leader iem strategies evaluations exchange relationships leaders followers ocbis satisfaction', 'present empirical findings showing importance iem strategies building thwarting high-quality lmx', 'lmx turn mediates association leader iem strategies work outcomes ocbis satisfaction', 'interpersonal emotion strategies interpersonal emotion strategies derive work emotion self notion individuals manage emotions work using tactics use tomanage emotions', 'outlined interpersonal emotionmanagement strategies used tomanage emotions situationmodification cognitive change attentional deployment modulating emotional response', 'situation modification consists active efforts directly modify change situation alter emotional impact', 'situation modification leader remove modify change aspects situation problem causing undesired emotion follower', 'situation modification problem-focused', 'example employee experiencing anxiety - ZYX', 'XYZZYX', 'XYZ - ZYX', 'XYZZYX', 'XYZ ZYX', 'XYZsm lmx ocbis cc ad mer - satisfaction fig', 'path estimates additional paths tested alternativemodel sm situationmodification ad attentional deployment cc cognitive change mer modulating emotional response', 'lmx leader member exchange b', 'b', 'b', 'leadership completing work specified time frame supervisor modify situation reducing work required task reassigning employee responsibilities coworker', 'cognitive change involves selecting possible meanings attached situation reappraising reinterpreting situation potential harm goals concerns andwell-being', 'cognitive change entails leader exhibiting behaviors situations perspective follower helping follower situation positive light', 'cognitive change problem-focused', 'instance employee distressed project receive funding manager reframe failure important step developing project funding', 'cognitive change distinguished situation modification antecedent causing undesired emotion removed altered', 'instead negative emotional impact antecedent mitigated changing follower thinks problem', 'using strategy leader attempting reduce emotion-provoking aspects situation mind follower', 'acknowl cognitive change self-focused interpersonally oriented similar content coping strategy known positive reinterpretation', 'positive reinterpretation cast emotion-focused coping strategy scholars alternatively problem-focused strategy follow contend order reinterpret problem amore positive light understand focus problem', 'attentional deployment involves distracting attention away elements situation harmful goals concerns well-being moving away situation entirely', 'attentional deployment leader directs behavior distracting follower order induce positive emotions', 'leaders agents use humor means ways distracting followers improve emotions', 'attentional deployment distinguished situation modification cognitive change problem causing undesired emotion removed reframed directly addressed', 'instead using strategy leader attempting distract follower attention cause negative emotion', 'attentional deployment emotion-focused', 'modulating emotional response involves influencing emotional response tendencies', 'strategy aimed reducing behavioral expression emotion experienced', 'modulating emotional response leaders ge behaviors encourage followers suppress undesired negative emotions', 'suppression particularly important organizations easily communicated modeled leaders built organization culture', 'organizational display rules typically targeted suppression negative emotions anger shame sadness leaders encourage adherence display rules acts modulating emotional response', 'example leader direct employee calm upset advise relax tell', 'leaders attempts managing followers emotions involve making clear care target feels aims reduce follower expression feelings address problem causing feelings', 'modulating emotional response like attentional deployment emotion-focused', 'leadership importantly iem strategies focused negative emotions', 'negative emotions arise perceived goal obstruction threat environment', 'iem strategies described differ extent address sources followers negative emotions', 'contend iem strategies visible perceived followers iem strategies create conditions optimal relationship development implications leader-follower relationships', 'leader member exchange interpersonal emotion leader member exchange roots exchange theory suggests leader-follower interactions lay foundation perceptions quality exchange relationship leaders followers', 'followers perceptions lmx reflect expectation voluntary actions reciprocated leader', 'perceptions important workplace influence performance-related attitudinal variables', 'history followers interactions leaders shapes perceptions nature quality relationships', 'relationships develop period time based role-making episodes', 'history results leaders developing different types relationships various followers', 'relationships leader reside continuum low-quality transactional relationship based quid pro quo exchanges high-quality exchange relationship based felt obligation reciprocal behavior', 'note higher quality exchanges function met expectations resulting role-making episodes expectations span task interpersonal domains', 'exchange view lmx argues development maintenance positive lmx relationships occur high-quality interpersonal exchanges characterized respect liking mutual obligation', 'interpersonal exchanges ripe emotions emotion-related information theory lmx adopted largely cognitive-transactional stance notable exceptions', 'furthermore early works lmx underscored importance member attributions categorizations leader behavior forming lmx evaluations', 'considering experience expression partner responsiveness emotions interpersonal relationships ladenwith information attributions intentionality focus emotion phenomena key understanding high quality lmx relationships fostered', 'leaders actively manage followers emotions iem strategies leader behaviors integral piece information followers draw evaluating reciprocating maintaining relationship leaders', 'section propose use leader iems problem-focusedwill positively associatedwith lmxwhile use emotion-focused iems negatively associated lmx', 'example leader use situation modification assigning additional supportive resources subordinate feeling overwhelmed anxious', 'leader clearly addressed cause anxiety attempted alleviate', 'contend situationmodification positively related lmx', 'cognitive change addresses cause negative emotion somewhat different manner', 'using cognitive change leader attempts alter follower perception causes negative emotions', 'instance leader helps follower cause negative emotion different light temporary improve emotional impact situation reduced follower likely appreciate leader attempt reframe situation', 'leader increased follower perceptions quality lmx sense obligation leader', 'followers make positive attributions leader feel sense obligation based onmet expectations sense obligation created supportive leader behavior reframing workplace hassle', 'compelling pathways follower perceptions leader problem-focused iems use lmx', 'followers role expectations regarding leader iem', 'positive negative emotions stem daily workplace events', 'key function leadership attend work alleviating workplace hassles mitigating follower negative emotions', 'leaders use iem strategies address problems causing negative emotions followers expectations met sense obligation created lmx enhanced', 'second pathway leader iems lmx attributions intentionality followers perceive leaders using problem-focused coping strategies', 'state people act naïve scientists deciphering making sense attributing intentions people behavior', 'note followers attribute leader behavior focus other-oriented self-serving', 'extend logic suggest followers attribute benevolent intentionality leader perceive use problem-focused iem strategies', 'noted earlier alleviation work-related hassles form core leader iems', 'leaders use problem-focused iems communicate followers expression negative emotions acceptable', 'emotions communicative information expression emotions enhance communication promote positive relational functioning bring', 'leadership needed attention important organizational issues', 'using problem-focused iems address source followers emotion make followers feel validated promote open communicate followers thoughts aswell emotions set stage relationship better', 'taken cognitivemechanisms', 'met role expectations leader attribution benevolence emotion communication relationship allow higher quality lmx relationships em', 'hypothesis', 'followers perceptions leaders use situation modification positively impact lmx', 'hypothesis', 'followers perceptions leaders use cognitive change positively impact lmx', 'iem strategies used leaders produce positive outcomes', 'leaders use iem strategies address cause negative emotions followers role expectations regarding leader unmet', 'lmx undermined likely invest voluntary actions leader believe voluntary actions reciprocated argue attentional deployment themodulating emotional response likely negatively impact lmx context leader-follower relationships donot alleviate sources negative emotion environment', 'attentional deployment signals followers leaders willing invest time resources altering source negative emotion', 'followers likely ge reciprocal behavior', 'furthermore followers observe leaders attempt address alleviate workplace challs environment followers fundamental role expectations leaders violated', 'awareness able address workplace problem instead trying distract problem cause resentment time', 'example consider follower intense negative experience customer feels angry', 'leader steer conversation focus things follower enjoys', 'responses follower emotions distract follower momentarily', 'causes follower environment mitigated resolved follower infer leader care invest time resources alleviating causes negative emotions', 'follower subsequently feel problem overlooked ignored', 'unmet expectation affects follower evaluation quality exchange relationship leader', 'furthermore follower attribute apathy benevolent intentionality leader observed behaviors directed alleviating follower workplace hassles', 'hypothesize following hypothesis', 'followers perceptions leaders use attentional deployment negatively relate lmx', 'similarly becausemodulating emotional response involves suggesting target refrain fromexpressing negative feelings mode behavior shows disregard feelings address source negative emotions', 'use mer conveys followers emotions need suppressed leader acknowl feelings valid going towork alleviate', 'interpersonal relationships especially marital satisfaction key cause relationships deteriorate suppression emotion tend communicative information', 'example -year longitudinal study married heterosexual couples emotions interactions couple predicted divorce rates later timewith accuracy', 'leaders encourage follower suppress emotions lose address problem make followers feel validated promote open communicate followers thoughts emotions behavior set stage relationship better', 'instead use mer likely decrease interpersonal expressiveness relationship quality', 'noted earlier suppression emotion expression dyadic relationship toxic relationship hinders free fair communication', 'followers choose suppress emotions leaders ask followers refrain expressing feelings discount followers experiences', 'fail resolve emotion-eliciting event', 'followers view leaders apathetic regarding situations', 'unmet role expectations leader attribution apathy benevolence emotion-poor communication relationship inhibit higher quality lmx relationships emng', 'propose following hypothesis', 'followers perceptions leaders use modulating emotional response negatively relate lmx', 'iem strategies lmx satisfaction ocbis overall satisfaction refers degree employee enjoys attitude outcome variable organizational behavior relevant outcome lmx leaders directly influence subordinates experiences jobs', 'organizational citizenship behaviors refer discretionary behaviors promote effective functioning organization typically recognized formally organization relevant leader-subordinate context', 'high-quality lmx associated felt obligation ocbs core mechanism expressing felt obligation reciprocity accompanies high-quality lmx relationships focus specifically interpersonal altruistic organizational citizenship behaviors directed helping individual particularly relevant exchange relationships supervisors subordinates', 'leadership given study purpose identifying importantwork outcomes associatedwith iem strategies position lmx explanatory mechanism relating perception iem strategies satisfaction ocbis', 'relationship lmx satisfaction ocbis established extant literature present theoretical support hypotheses linking iem strategies outcomes indirectly lmx', 'proposed iem strategies reduce negative emotions temporarily specific contexts strategies provide positive cues leaders willingness address emotion-provoking threats followers wellbeing strategies provide negative cues leaders willingness', 'specifically followers role expectations regarding leaders willingness address threats met problem-focused strategies situationmodification cognitive change behaviors signal followers leaders care followers perceive behaviors likely experience sense obligation higher quality lmx ensue', 'higher quality lmx sense indebtedness obligation characteristic high-quality lmx set stage extra effort ge extra-role behavior', 'leader acknowls addresses obstacles workplace enactment cognitive change situation modification creates positive outcomes provides positive interpersonal cue quality leader-follower relationship motivates followers extra effort tasks feel indebted supervisor resultant perception higher quality lmx acts critical supportive resource followers enhances belief rely leaders overcome obstacles encouraging ocbis', 'higher quality lmx facilitates satisfaction similar reasons', 'supervisor work environment critical aspects satisfaction', 'higher quality lmx relationships exist satisfaction increase followers enjoy material relational benefits quality relationship', 'finally follower satisfaction enhanced high quality lmx signals followers leader values role contribution willing invest time resources relationship', 'hypothesize following hypothesis', 'followers perceptions leaders use situation modification cognitive change positively indirectly related ocbis lmx', 'hypothesis', 'followers perceptions leaders use situation modification cognitive change positively indirectly related satisfaction lmx', 'contrast effects iem strategies address underlying causes negative emotions attentional deployment modulating emotional response negatively related lmx address underlying causes followers negative emotions provide negative interpersonal cues quality leader-follower relationship result unmet role expectations follower leave place obstacles hassles work environment', 'hypothesis', 'followers perceptions leaders use attentional deployment andmodulating emotional response negatively indirectly related ocbis lmx', 'hypothesis', 'followers perceptions leaders use attentional deployment andmodulating emotional response negatively indirectly related satisfaction lmx', 'important aspect leadership managing negative emotions followers researchers begun investigate behavioral strategies leaders use', 'understood impact perceptions strategies leader-follower relationships subsequent follower behavior attitudes', 'results study consistent model followers perceptions lmx influenced perceptions emotion strategies used leader', 'leaders attempts manage follower emotions positive case cognitive change situation modification negative case modulating emotional response neutral case attentional deployment', 'findings consistent premise leaders iem strategies provide interpersonal cues nder stronger positive negative perceptions nature quality exchange relationships share followers', 'perceived efforts leaders attend followers needs emotions modifying situation reframing events provide table means standard deviations intercorrelations reliabilities', 'variable sd situation modification', 'cognitive change', 'attentional deployment', 'mer', 'lmx', 'ocbis', 'satisfaction.', 'tenure supervisor...', 'note', 'mer modulating emotional response lmx leader member exchange ocbs organizational citizenship behavior', 'b', 'b', 'table results structural nested model comparison model χ df δχ rmsea srmr cfi measurement model', 'alternative measurement model problem-focused strategies load emotion-focused strategies load together', 'alternative measurement model strategies load single factor', 'hypothesized model iem strategies lmx ocbis satisfaction mer ocbis satisfaction', 'alternative model iem strategies lmx ocbis satisfaction iem strategies ocbis satisfaction', 'note', 'iem interpersonal emotion lmx leader member exchange ocbis interpersonal organizational citizenship behavior mer modulating emotional response', 'b', 'b', 'leadership cues attribution leader benevolence met expectations positively associated lmx ocbis satisfaction', 'problem-focused strategies situation modification cognitive change leaders help followers alleviate minimizal-obstructive work events serve antecedents undesired negative emotions', 'findings suggest leader behaviors help follower perceptions leaders care goal accomplishment positively related evaluation quality relationships', 'indirectly relate follower outcomes behavioral attitudinal', 'addition cognitive change positively directly associated satisfaction', 'positive moods positively related satisfaction iem strategy cognitive change influence satisfaction influencing followers moods', 'degree followers accurately perceive leaders general propensity use cognitive change perception reflects increase positive affect emotion managing interactions leader morneralized relationship iem strategy follower satisfaction mediated positive mood', 'conversely non-problem-focused strategies modulating emotional response attentional deployment leaders fail help followers alleviate minimizal-obstructive work events serve antecedents undesired negative emotions', 'findings consistent contention leaders encourage followers modulate suppress emotional responses negative events reap followers negative views leader-follower relationship', 'telling followers cut signal leaders helping followers manage negative events want followers display negative reactions', 'perception turn likely relate favorable evaluation follower lmx leader', 'perceived demand suppression relate desire balance discretionary efforts additional demands emotion work', 'employees perceive leaders want suppress negative emotions lack support compounded perceived demand suppression', 'result perceived demands suppression leader-follower exchange relationship suffers ocbis suffer', 'appears modulating emotional response additional negative impact driven lmx significantly negatively related satisfaction ocbis', 'act suppressing emotions degrade relationships well-being finding replicated studies emotional labor modulating emotional response influence ocbis mechanisms', 'terms satisfaction appears physiological stress suppressing emotions relates satisfaction perceived demand directly generate dissatisfaction', 'withholding discretionary behaviors ocbis employees correct unfair extra demands', 'unexpectedly relationship attentional deployment leader member exchange', 'argued followers adults aware distracted deduce leader uncaring underhanded regarding follower goals', 'null result suggests attentional deployment operate complex mechanisms', 'instance times perceived negatively leader avoidance times viewed positively well-intentioned attempts alleviate employee stress', 'indicate iem strategy work adult working populations children', 'future need investigate moderators help tease apart possible positive negative effects leaders use attentional deployment', 'implications future study contributes leadership literature conceptually empirically', 'conceptually developed model specific observable leader behaviors targeted managing undesired negative emotions workplace', 'vast body literature', 'leadership examines leaders elicit positive emotions themanagement undesired negative emotions scarcely studied despite urgent need', 'empirically study provides initial evidence leaders ge discernible behaviors aimed reducing preventing negative emotional responses events work', 'important contribution current literature', 'nature study allowed makneral statements potential predictive power iem strategies general use', 'consistent emotion regulation self emotional labor items used tomeasure leader iem strategies capturedwhether followers perceive leaders using strategies general', 'study iem strategies opens host future directions', 'wemention examples', 'questions directly related results comprise future directions', 'frequency use strategy relational contextmatter', 'follower perspective theremight atwhich continued use certain strategy longer affect relationship quality expected manner', 'event-based studies iem strategies shed light immediate impact strategy considering quality preexisting relationship leaders followers individual differences personal emotional styles factors moderators', 'addition event-based studies reveal preexisting affective ties influence perceptions leaders iem strategies moderate effectiveness', 'secondly agreement matter', 'specifically effects agreement follower ratings leaders iem strategies leaders ratings iem strategies claim utilize', 'similarly effects agreement leaders iem strategies preferred self emotion-management strategy followers', 'example negative effect leaders use emotion modulation mitigated follower preferred self emotion-management strategy suppression', 'additionally leaders followers hold systematically different perceptions leaders iem strategies important implications practice theory', 'thirdly moderators change effectiveness iem strategies', 'example possible use attentional deployment strategies positively related lmx onlywhen follower unaware leader trying distract problem', 'primary focus study impact leader iem strategies followers future needed examine potential personal consequences strategies leader', 'future investigate different iem strategies influence leaders perceptions lmx directions influence followers perceptions', 'example relationships hold leader-rated lmx', 'similar expression compassion iem strategiesmight emotionally taxing leader resulting emotional exhaustion negatively related outcomes perceptions lmx', 'hand strategies generate positive emotions pride increased perceptions lmx quality leader perceive behavior helpful agentic', 'organizational culture moderate effects leader iem strategies', 'example leaders iem strategies generate emotional exhaustion competitive conflict culture culture', 'future investigate leader iem strategies lmx affect relevant constructs counterproductive workplace behaviors absenteeism turnover intentions performance followers performance ratings leader', 'based current study canmake predictions concerning relationshipswill look future provide support understanding impact relationship quality wide variety relevant variables', 'limitations limitations', 'limitations datawere cross-sectional nature', 'causality inferred', 'theoretical arguments expected relationships hypothesized directional association based previous findings consistent expectations', 'strove minimize method bias including multisource data collected points time', 'consistent work emotion regulation self emotional labor investigated themanagement undesirable negative emotion future investigate situations inwhich leaders try manage followers emotions positive andmore negative', 'example amanagermay try instill fear dismissal guilt employee understands importance avoiding certain mistakes', 'use snowballing technique allowed gather matched dyadic data spanningmultiple organizations', 'truest form technique yields data violate assumptions probability statistics', 'acknowl limitation study', 'implications practice findings study hold important implications practice replicated', 'perhapsmost notably important leaders understand followers aware efforts beingmade tomanage follower emotions', 'differential effects various iem strategies leadersmust aware certain strategies likely bemore effective ultimately improving satisfaction increasing ocbis', 'managers training benefit understanding differences strategies demonstrate understanding personal caring versus strategies demonstrate lack qualities', 'addition leaders understand merely rely strategies use manage emotions regulate follower emotions', 'inmanaging emotions attentional deployment distracting oneself negative event prove useful', 'contrast distracting follower fromanemotion-eliciting eventmay ineffective terms follower-enhancing perceptions quality relationship leader ocbis satisfaction', 'leadership results study serve additional layer support emphasizing exchange basis leader-follower relationships organization', 'instead exclusive focus performance-based task-based exchanges leaders encouraged help followers effectively resolve negative emotioninducing events work', 'followers perceive leaders tune emotions evaluate relationships leadersmore favorably performbetter exhibit higher levels satisfaction followerswithweak relationships leaders', 'creating perception onnuinely attempting helpful managing emotions powerful skill leaders obtain', 'conclusion leadership emotions taken stage literature', 'known regarding specific behavioral strategies used leaders inmanaging follower negative emotions', 'drawing emotion regulation exchange theories contended results consistent argument followers perceive problem-focused leader emotion meets expectations creates future obligation better lmx results', 'conversely followers perceive leaders use non-problem-focused strategy emotionmodulating suppression reported lower lmx satisfaction leaders reported lower ocbis', 'study suggests emotion strategies impact development higher quality exchange relationships workplace follower ocbis']\n"
     ]
    }
   ],
   "source": [
    "print(data_proc2[ref_doc].split('. '))\n",
    "\n",
    "sents = []\n",
    "for d in data_proc2:\n",
    "    sents += d.split('. ')"
   ]
  },
  {
   "cell_type": "code",
   "execution_count": 37,
   "metadata": {},
   "outputs": [
    {
     "name": "stdout",
     "output_type": "stream",
     "text": [
      "['meta-analytic review authentic transformational leadership test redundancy leadership contents lists available leadership ourna lsev locate leaqua meta-analytic review authentic transformational leadership test redundancy', 'mccauley.', 'guler north carolina nc canyon tx tech tx r l f suggestions bymatthewbaker in-su version paper presented southe corresponding north caroli e-mail address', '- elsevier', 'rights reserved', 'b history received received revised form accepted available online handling', 'authentic leadership seen dramatic increase scholarly attention decade contribution relative established leadership constructs merits investigation', 'employ meta-analytic techniques compare al transformational leadership theories using independent samples individuals', 'findings reveal relationship authentic transformational leadership large inmagnitude suggesting construct redundancy al transformational leadership add noticeable incremental validity construct al lower relative wt transformational leadership outcomes follower satisfaction follower satisfaction leader task performance leader effectiveness al demonstrates dominance transformational leadership predicting group organization performance organizational citizenship behaviors recommend future examine al component level relationships related ethical constructs potentially differentiate transformational leadership', 'elsevier', 'rights reserved', 'keywords authentic leadership transformational leadership meta-analysis introduction authenticity leadership context received significant attention literature standalone construct response crisis confidence today corporate government leaders', 'introduction authentic leadership gained considerable practitioner scholarly', 'time study al benefitted critical refinements theoretical models development multiple validated scales', 'result advancements empirical work examining al increased quite dramatically past years', 'despite impressive advances theoretically empirically researchers expressed concerns regarding contribution al theory leadership literature', 'example al overlaps conceptually positive theories leadership', 'application occam razor suggest equal redundant constructs add unnecessary complexity understanding leadership theory', 'eoh seerswere valuable improvement paper andwereatly appreciated', 'earlier rn association conference', 'na belk college city blvd nc', 'leadership suggest al incorporate theories leadership including transformational charismatic servant spiritual forms positive leadership', 'conceptual overlap concerns emd al sufficiently distinct theories', 'issue distinctiveness theories theoretically empirically important lack distinctiveness al positive leadership theories suggest al theory old wine new bottles', 'determining al represents case construct redundancy al accounts unique variance key outcomes help assess value al adds leadership literature', 'study offers primary contributions literature', 'initial steps addressing concerns construct redundancy leadership literature investigating empirical distinction al transformational leadership', 'explore potential empirical redundancy al comparison transformational leadership present test relationship authentic transformational leadership multiple studies', 'incremental validity al transformational leadership vice versa provide test relative contribution authentic transformational leadership predicting important work outcomes', 'second completing tests offer meta-analytic review al literature', 'number al studies pales comparison number transformational leadership studies empirical work demonstrated importance early meta-analytic reviews providing critical guidance fast-growing bodies literature', 'leavitt despite potential utility meta-analysis rarely used compare theories address concerns regarding theory proliferation', 'seek capitalize potential believe meta-analysis provides advantageous tool exploring questions', 'specifically selected meta-analysis examine discriminant validity al relative transformational leadership theories reflect considerable conceptual overlap', 'lastly contribution present roadmap future al theory development empirical', 'al theory conceptualization al ignited scholarly al construct provided foundation current understandings construct', 'building work scholars refined al theory', 'refinements resulted generally accepted definition al literature', 'authentic leaders described self-aware showing openness clarity regarding consistently disclosing acting accordance personal values beliefs motives sentiments', 'based view components al self-awareness relational transparency balanced processing internalized moral perspective', 'self-awareness arises understanding self-reflection regarding values emotions goals knowl talents strhs weaknesses', 'additionally refers knowl multifaceted nature self meaning-making process relation world', 'internalizedmoral perspective based self-regulation anchored mission deep-seeded values desire tomake difference', 'balanced processing includes considering opinions available relevant information decision-making maintaining relatively objective lens', 'finally relational transparency refers showing true self openly appropriately sharing information regarding true thoughts emotions', 'authentic leaders welcome openness self-disclosure close relationships', 'past empirical evidence linked al attitudinal behavioral outcomes', 'purpose examining empirical redundancy al focus specifically following outcomes follower satisfaction follower satisfaction leader task performance organizational citizenship behaviors group organization performance rated leader effectiveness', 'outcomes selected explicitly identified al theory consequences authentic leader follower relationship previously examined meta-analytic studies transformational leadership', 'overlap outcomes study prior transformational leadership meta-analyses necessary order test incremental validity relative importance al compared transformational leadership', 'empirical evidence suggests leaders aware values act beliefs likely achieve elevated levels performance help accomplish', 'followers tend express greater satisfaction leader leader ges authentic behaviors satisfaction likely correspond increase satisfaction', 'leaders perceived ethical make principled decisions perceived caring followers likely inspire increased levels ocbs', 'additionally al seen strong link improved task performance performance group firm levels individuals authentic able effectively use balanced processing information illustrate consistency words deeds', 'result followers likely receive assistance guidance resources need perform roles', 'addition', 'leadership direct effect al likely indirect effect performance', 'authentic leaders serve role models act integrity fairness', 'furthermore given al linked important performance-related outcomes likely authentic leaders rated effective', 'suggest following hypothesis', 'al positive nonzero relationships following work outcomes follower satisfaction follower satisfaction leader satisfaction task performance organizational citizenship behaviors group organization performance rated leader effectiveness', 'transformational leadership theory transformational leadership theory received tremendous attention decades deservedly emd dominant leadership theories', 'proposed theory advanced critical revisions', 'theory received benefits theoretical meta-analytic reviews in-depth theoretical methodological critique', 'transformational leadership describes leader seeks meet higher-order needs followers', 'dimensions transformational leadership proposed', 'idealized influence characterizes extent individual ges behaviors encourage followers identify', 'second inspirational motivation describes extent individual puts forth vision meant inspire followers', 'intellectual stimulation characterizes extent individuals chall existing assumptions encourage risks', 'finally individual consideration describes extent individual seeks meet individual needs followers', 'suggest introducing new leadership construct al necessary stock novel construct fares predicting important outcomes relative existing constructs transformational leadership', 'case al illustrate incremental validity certain importance relative established leadership constructs contribution leadership brought question', 'extensive reviews transformational leadership literature exist', 'section discuss literature transformational leadership relates al theory', 'differences similarities transformational leadership al', 'regard conceptual differences transformational leadership focuses developing followers purpose performing leadership roles al concerned developing followers sense self mornerally', 'additionally authentic leaders necessarily charismatic inspirational transformational leaders definition paint powerful visions stimulate creativity followers organization', 'key elements al theory distinct absent transformational leadership theory include reciprocal relationship positive psychological capital authentic leadership followership open transparent relationships close alignment leader values ethical conduct positive strhs-based perspective follower authenticity development', 'differences reflect core premise al alignment leaders values behavior produces tangible benefits leader form htened levels psychological well-being', 'conversely follower modeling authenticity contributes elevated levels follower gement trust leader well-being performance', 'explicit focus psychological health well-being leader followers accrues attainment authenticity represents unique feature al theory present transformational leadership literature', 'similarities review original definitions transformational leadership suggests necessity true opposed pseudo transformational leaders authentic actions', 'al likely highly related genuine transformational leadership serve root construct forms positive leadership', 'note underlying leadership processes described theories stress importance leader self-awareness positive modeling follower self-determination positive exchanges leaders followers supportive ethical organizational context positing positive effects follower group organizational performance', 'finally transformational leadership theory explicitly discuss role positive psychological capital follower leader relational transparency elements al implicit scholarly discussions transformational leadership', 'notable differences posited elements al versus transformational leadership considerable conceptual overlap', 'examination tools used measure constructs illustrates distinctiveness', 'items multifactor leadership questionnaire extensively used measure transformational leadership suggest content measure differs authentic leadership questionnaire authentic leadership inventory measure al dimensions', 'mean conceptual overlap measures al transformational leadership', 'leadership appears case dimensions idealized influence transformational leadership theory internalized moral perspective al theory', 'case sub-dimensions expect leader role model ideal behaviors meant inspire followers capacity', 'conceptual measurement perspective al transformational leadership appear related distinct', 'strong relationship measures al transformational leadership raise issue empirical redundancy', 'based arguments propose following competing hypotheses hypothesis', 'al reflect incremental validity provide greater relative contribution transformational leadership predicting important work outcomes', 'hypothesis', 'al reflect incremental validity provide greater relative contribution transformational leadership predicting important work outcomes', 'primary objective study consider potential empirical redundancy authentic transformational leadership constructs', 'despite recent advancements theoretical understanding al years ago dearth empirical studies necessary conduct meta-analytic review consider contribution construct', 'dramatic increase al studies critical mass reached allowing metaanalytic review topic']\n"
     ]
    }
   ],
   "source": [
    "print(sents[0:100])"
   ]
  },
  {
   "cell_type": "code",
   "execution_count": 38,
   "metadata": {},
   "outputs": [],
   "source": [
    "# save data\n",
    "pickle.dump(data_proc2, open( \"C:/Thesis/Data/save/Master_Data/pre_processed_data/data_preprocessed.p\", \"wb\" ) )"
   ]
  },
  {
   "cell_type": "code",
   "execution_count": 39,
   "metadata": {},
   "outputs": [],
   "source": [
    "import io\n",
    "\n",
    "# writing documents one sentence per line to form a larger data set (allowing use of a generator for model training):\n",
    "with open(\"C:/Thesis/Data/save/Master_Data/pre_processed_data/data_preprocessed_txt.txt\", \"a\",encoding=\"utf-8\") as outfile:\n",
    "    \n",
    "    for s in sents:\n",
    "        outstring = s + '\\n'\n",
    "        outfile.write(outstring)\n",
    "        \n",
    "# (additionally you could keep document boundaries intact, \n",
    "# e.g. by writing a file per document or marking start and end of articles in the larger file)"
   ]
  },
  {
   "cell_type": "code",
   "execution_count": null,
   "metadata": {
    "collapsed": true
   },
   "outputs": [],
   "source": [
    "#import io\n",
    "#with open(\"C:/Thesis/Data/save/Master_Data/MD_3/data_proc_latest/JM_data_proc_txt.txt\", \"w\",encoding=\"utf-8\") as outfile:\n",
    "#    for i in range(len(data_proc)):\n",
    "#        outstring = \"\"\n",
    "#        outstring += str(data_proc[i])\n",
    "#        outfile.write(outstring)"
   ]
  },
  {
   "cell_type": "code",
   "execution_count": null,
   "metadata": {
    "collapsed": true
   },
   "outputs": [],
   "source": []
  }
 ],
 "metadata": {
  "kernelspec": {
   "display_name": "Python 3",
   "language": "python",
   "name": "python3"
  },
  "language_info": {
   "codemirror_mode": {
    "name": "ipython",
    "version": 3
   },
   "file_extension": ".py",
   "mimetype": "text/x-python",
   "name": "python",
   "nbconvert_exporter": "python",
   "pygments_lexer": "ipython3",
   "version": "3.7.6"
  }
 },
 "nbformat": 4,
 "nbformat_minor": 2
}
