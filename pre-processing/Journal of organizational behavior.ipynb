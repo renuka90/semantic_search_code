{
 "cells": [
  {
   "cell_type": "code",
   "execution_count": 1,
   "metadata": {},
   "outputs": [],
   "source": [
    "import os\n",
    "import re\n",
    "import pandas as pd\n",
    "import urllib\n",
    "from nltk import SnowballStemmer\n",
    "from gensim.models import Word2Vec\n",
    "#import langdetect\n",
    "import tika\n",
    "import time\n",
    "from tika import parser\n",
    "import pickle"
   ]
  },
  {
   "cell_type": "markdown",
   "metadata": {},
   "source": [
    "# Raw Articles pdf Data\n",
    "Convert pdf to text using Tika apache server "
   ]
  },
  {
   "cell_type": "code",
   "execution_count": 2,
   "metadata": {},
   "outputs": [],
   "source": [
    "# specify the target data folder\n",
    "target_dir = 'C:/Thesis/Data/Journal_of_organizational_behavior'"
   ]
  },
  {
   "cell_type": "code",
   "execution_count": 3,
   "metadata": {},
   "outputs": [],
   "source": [
    "# prep pdf extraction\n",
    "pdf_files = []\n",
    "wrd_files = []\n",
    "\n",
    "for f in os.listdir(target_dir):\n",
    "    if f.endswith(\".pdf\") | f.endswith(\".PDF\"):\n",
    "        thispdf = os.path.join(target_dir, f)\n",
    "        pdf_files = pdf_files + [thispdf]\n",
    "    if f.endswith(\".doc\") | f.endswith(\".docx\") | f.endswith(\".DOC\") | f.endswith(\".DOCX\"):\n",
    "        thiswrd = os.path.join(target_dir, f)\n",
    "        wrd_files = wrd_files + [thiswrd]"
   ]
  },
  {
   "cell_type": "code",
   "execution_count": 4,
   "metadata": {},
   "outputs": [
    {
     "name": "stdout",
     "output_type": "stream",
     "text": [
      "Command to start Tika:\n",
      "java -jarC:\\Software\\ tika-server-1.23.jar --port 4321\n",
      "---\n",
      "Number of pdf files: 1168\n",
      "Number of word files: 0\n"
     ]
    }
   ],
   "source": [
    "port = 4321 # port to use for Tika server (chosen arbitrarily)\n",
    "server_str = 'http://localhost:' + str(port)\n",
    "tika_path  = 'C:\\Software\\ tika-server-1.23.jar'\n",
    "tika_run   = 'java -jar' + tika_path + ' --port ' + str(port)\n",
    "print('Command to start Tika:')\n",
    "print(tika_run)\n",
    "print('---')\n",
    "print('Number of pdf files: ' + str(len(pdf_files)))\n",
    "print('Number of word files: ' + str(len(wrd_files)))"
   ]
  },
  {
   "cell_type": "markdown",
   "metadata": {},
   "source": [
    "# PDF metadata"
   ]
  },
  {
   "cell_type": "code",
   "execution_count": 5,
   "metadata": {},
   "outputs": [],
   "source": [
    "# process the PDF files, store text in memory\n",
    "tika.TikaClientOnly = True \n",
    "\n",
    "pdf_metadata = [parser.from_file(t, server_str, xmlContent=False)[\"metadata\"] for t in (pdf_files + wrd_files)]"
   ]
  },
  {
   "cell_type": "code",
   "execution_count": 9,
   "metadata": {},
   "outputs": [],
   "source": [
    "# save data metadata\n",
    "pickle.dump(pdf_metadata, open( \"C:/Thesis/Data/save/Journal_of_organizational_behavior/metadata/metadata_all.p\", \"wb\" ) )"
   ]
  },
  {
   "cell_type": "markdown",
   "metadata": {},
   "source": [
    "# Text Data\n",
    "\n",
    "Eliminate title, sections (eg: content between Method and Discussion) and Reference. It is saved as a pre-processed data"
   ]
  },
  {
   "cell_type": "code",
   "execution_count": null,
   "metadata": {},
   "outputs": [],
   "source": [
    "# process the PDF files, store text in memory\n",
    "tika.TikaClientOnly = True \n",
    "\n",
    "#pdf_text = [parser.from_file(t, server_str, xmlContent=False)[\"content\"] for t in (pdf_files + wrd_files)]"
   ]
  },
  {
   "cell_type": "code",
   "execution_count": null,
   "metadata": {},
   "outputs": [],
   "source": []
  },
  {
   "cell_type": "markdown",
   "metadata": {},
   "source": [
    "# step-1 Load pdf content\n"
   ]
  },
  {
   "cell_type": "code",
   "execution_count": 6,
   "metadata": {},
   "outputs": [],
   "source": [
    "import pickle\n",
    "#load the text data\n",
    "pdf_text = pickle.load(open(\"C:/Thesis/Data/save/Journal_of_organizational_behavior/save_alltextData.p\", \"rb\"))\n"
   ]
  },
  {
   "cell_type": "code",
   "execution_count": null,
   "metadata": {},
   "outputs": [],
   "source": [
    "# step-2 convert it to lowercase"
   ]
  },
  {
   "cell_type": "code",
   "execution_count": 7,
   "metadata": {},
   "outputs": [],
   "source": [
    "#Convert each string to lowercase\n",
    "for i in range(len(pdf_text)):\n",
    "    pdf_text[i] = pdf_text[i].lower()"
   ]
  },
  {
   "cell_type": "code",
   "execution_count": null,
   "metadata": {},
   "outputs": [],
   "source": [
    "# step-3 remove reference"
   ]
  },
  {
   "cell_type": "code",
   "execution_count": 8,
   "metadata": {},
   "outputs": [],
   "source": [
    "# remove references section \n",
    "import re\n",
    "pdf_ref = [re.sub(r\"(?is)\\nreferences\\n.+\", \"\", f) for f in pdf_text]"
   ]
  },
  {
   "cell_type": "code",
   "execution_count": null,
   "metadata": {},
   "outputs": [],
   "source": [
    "# step-4 load metadata\n"
   ]
  },
  {
   "cell_type": "code",
   "execution_count": 10,
   "metadata": {},
   "outputs": [],
   "source": [
    "import pickle\n",
    "#load the text data\n",
    "pdf_metadata = pickle.load(open(\"C:/Thesis/Data/save/Journal_of_organizational_behavior/metadata/metadata_all.p\", \"rb\"))"
   ]
  },
  {
   "cell_type": "code",
   "execution_count": null,
   "metadata": {},
   "outputs": [],
   "source": [
    "# step-5 get metadata = author, subject, title"
   ]
  },
  {
   "cell_type": "code",
   "execution_count": 27,
   "metadata": {},
   "outputs": [],
   "source": [
    "pdf_title = []\n",
    "pdf_Author = []\n",
    "pdf_subject = []\n",
    "\n",
    "for i in pdf_metadata:\n",
    "    try:\n",
    "        temp = i['title'] # got an error - multiple repeat at position 73\n",
    "        auth_temp = i['Author']\n",
    "        subj_temp = i['subject']\n",
    "      \n",
    "        pdf_title.append(temp.lower()) # \n",
    "        pdf_Author.append(auth_temp) # author will be added in the stopwords list\n",
    "        pdf_subject.append(subj_temp.lower()) # subject is filtered\n",
    "        \n",
    "    except:\n",
    "        #print(\"An exception occurred\" )\n",
    "        pdf_title.append(temp.lower())\n",
    "        pdf_Author.append(auth_temp)\n",
    "        pdf_subject.append(subj_temp.lower())"
   ]
  },
  {
   "cell_type": "code",
   "execution_count": 30,
   "metadata": {},
   "outputs": [],
   "source": [
    "# pre-process author\n",
    "import re\n",
    "pdf_auth = []\n",
    "\n",
    "for j in pdf_Author:\n",
    "    k = re.sub(' and ', '', str(j))\n",
    "    k = re.sub('[!;&$]', '', k)\n",
    "    k = re.sub('[0-9]+', '', k)\n",
    "    k = re.sub( r'\\b\\w{1,3}\\b', '', k)\n",
    "    k = re.sub( r'-', ' ', k)\n",
    "#     pdf_p = [re.sub(' +', ' ', f) for f in pdf_p]\n",
    "    k = re.sub(' +', ',', k)\n",
    "    k = k.split(\",\")\n",
    "   \n",
    "    pdf_auth.append(k)\n",
    "    "
   ]
  },
  {
   "cell_type": "code",
   "execution_count": 29,
   "metadata": {},
   "outputs": [],
   "source": [
    "# got error \n",
    "# pdf_text_title = []\n",
    "\n",
    "# for i in pdf_ref:\n",
    "#     line = i\n",
    "#     # for author\n",
    "#     for j in pdf_title:\n",
    "#         line = re.sub(j, '', line)\n",
    "        \n",
    "#     pdf_text_title.append(line)\n"
   ]
  },
  {
   "cell_type": "code",
   "execution_count": 19,
   "metadata": {},
   "outputs": [],
   "source": [
    "import re\n",
    "# step-1 preprocess subject \n",
    "pdf_sub = []\n",
    "\n",
    "  # pre-processing for subject\n",
    "for i in pdf_subject:\n",
    "    # remove special character\n",
    "    t = (re.sub(r'[?\\-|.|:|!]','',i))\n",
    "    # remove digits\n",
    "    t = (re.sub(\"\\d+\", \"\", t))\n",
    "    # remove end whitespace\n",
    "    t = re.sub(r\"\\s+$\",\"\",t)\n",
    "    # append to the list\n",
    "    pdf_sub.append(t) "
   ]
  },
  {
   "cell_type": "code",
   "execution_count": 22,
   "metadata": {},
   "outputs": [],
   "source": [
    "pdf_text_subject = [] #running\n",
    "\n",
    "for i in pdf_ref:\n",
    "    line = i\n",
    "\n",
    "    for j in pdf_sub:\n",
    "        line = re.sub(j, '', line)\n",
    "        \n",
    "    pdf_text_subject.append(line)"
   ]
  },
  {
   "cell_type": "code",
   "execution_count": 32,
   "metadata": {},
   "outputs": [
    {
     "data": {
      "text/plain": [
       "'\\n\\n\\n\\n\\n\\n\\n\\n\\n\\n\\n\\n\\n\\n\\n\\n\\n\\n\\n\\n\\n\\n\\n\\n\\n\\n\\n\\n\\n\\n\\n\\n\\n\\n\\n\\n\\n\\n\\n\\n\\n\\n\\n\\n\\n\\n\\n\\nfirm or subgroup culture: where does fitting in matter most?\\n\\n\\n\\n\\nj. organiz. behav. 25, 969–978 (2004)\\n\\npublished online in wiley interscience (www.interscience.wiley.com). doi: 10.1002/job.291\\n\\nfirm or subgroup culture: where does\\nfitting in matter most?\\n\\nbryan adkins1 and david caldwell2*\\n1denison consulting, half moon bay, california, u.s.a.\\n2leavey school of business, santa clara university, santa clara, california, u.s.a.\\n\\nsummary using the organizational culture profile (ocp), this research investigated the extent to which\\nfit between individuals (n¼ 136) and their competency groups (p–g fit) and the organization\\n(p–o fit) were related to job satisfaction. even in a consulting firm with a strong organization\\nculture, we found small, but interpretable, differences between the value-based cultures of the\\ncompetency groups in the firm. although the two forms of fit were highly correlated, both indi-\\nvidual consultants’ fit with the culture of their competency group and the organization as a whole\\nwere significant predictors of job satisfaction. copyright # 2004 john wiley & sons, ltd.\\n\\nintroduction\\n\\nover the past two decades, a substantial amount of research has shown that the culture of an organiza-\\n\\ntion has implications for both the organization’s ability to implement its strategy and its ability to attract\\n\\nand retain employees. when an organization has a strong culture, that is, members hold a set of shared\\n\\nvalues, and when the culture is consistent with organization goals, it is generally assumed that the orga-\\n\\nnization will be better able to enact its strategy (sorensen, 2002). in addition, when individuals ‘fit’ the\\n\\nculture of the organization, that is, when an individual’s values are congruent with the values that define\\n\\nthe culture of the organization, individuals are more likely to be satisfied and less likely to leave the\\n\\norganization than if there is a lack of congruence (chatman, 1991; meglino, ravlin, & adkins, 1989;\\n\\no’reilly, chatman, & caldwell, 1991; vandenberghe, 1999; verquer, beehr, & wagner, 2003).\\n\\nat the same time that researchers have explored the overall effects of organization culture, the exis-\\n\\ntence of subcultures within an organization has been a widely observed phenomenon (hofstede, 1998;\\n\\njerimer, slocum, fry, & gaines, 1991). subcultures may develop within different functions, by pro-\\n\\nfession, practice areas, or by level within the organization (drucker, 1997; van maanen & barley,\\n\\n1984; wenger, 1998).\\n\\nin a recent review of the literature on subcultures, boisnier and chatman (2003) note that researchers\\n\\nhave typically thought of organizations as either having a strong overall culture or as consisting of a more\\n\\nfragmented collection of distinct subcultures. however, they argue that an organization can have both a\\n\\nreceived 6 march 2003\\nrevised 11 may 2004\\n\\ncopyright # 2004 john wiley & sons, ltd. accepted 23 june 2004\\n\\n* correspondence to: david caldwell, department of management, santa clara university, 500 el camino real, santa clara,\\nca 95053, u.s.a. e-mail: dcaldwell@scu.edu\\n\\n\\n\\nstrong overall culture and distinct subcultures at the same time. they argue that the values of an organiza-\\n\\ntion can be distinguished between ones that are pivotal and others that are peripheral. pivotal values are\\n\\nthose values that are strongly held throughout the organization and enforced by sanctions, while peri-\\n\\npheral values may also define the culture but are not likely to be sanctioned. boisnier and chatman\\n\\n(2003) argue that subcultures within an organization can be defined by the strong pivotal values of the\\n\\norganization but also by peripheral values that may be strongly held within a unit. thus, subcultures\\n\\nwithin an organization will be based on both the pivotal values that define the culture of the organization\\n\\nand a set of peripheral values that are not shared throughout the organization. in this way, strong subcul-\\n\\ntures can reflect the overall culture of the organization but also reflect unique aspects of individual units.\\n\\nthe notion that a strong organization-wide culture and strong subcultures can exist together has\\n\\nimportant implications in a number of areas. for example, organizations attempt to communicate to\\n\\npotential and new employees the values that define the culture (cable, aiman-smith, mulvey, &\\n\\nedwards, 2000). in doing so, should the organization try to communicate the cultural values that define\\n\\nthe overall organization or those specific values that make subcultures unique? similarly, since shared\\n\\nvalues and norms among the members of a group can influence the nature of the performance strategies\\n\\nwithin a group (jehn & mannix, 2001) and group performance (chatman & flynn, 2001), should\\n\\nhiring managers be most concerned about fit with the organization or group culture? although sub-\\n\\nstantial evidence exists that both the fit between the person and the overall organization (p–o fit)\\n\\nand the person and the group or subunit (p–g fit) are related to individual outcomes (see kristof,\\n\\n1996, and verquer et al., 2003, for reviews), to our knowledge no research has systematically explored\\n\\nthese two types of fit using the same dimensions or tried to identify the relative influence of each.\\n\\nthe distinction between an organization’s culture and subcultures is becoming more important as\\n\\nthe dynamics and structures of organizations change. as organizations become more ‘virtual,’ less-\\n\\nco-located, and more reliant on self-managed individuals and teams, maintaining an overall organiza-\\n\\ntion culture may become difficult (mirvis & hall, 1994; tolbert, 1996). further, it has been asserted\\n\\nthat employees are becoming more connected to their practice and skills and less so with the organiza-\\n\\ntions in which they apply them (drucker, 1997; russo, 1998). thus, changes in organizations may\\n\\nsimultaneously weaken connections to the overall organization and strengthen ties to the unit of which\\n\\nan employee is a part. despite the fact that relatively little empirical work has addressed the culture of\\n\\nthese practice-based groups, writers in the business press have observed their importance. stewart\\n\\n(1996) has gone so far as to suggest that organization values will emerge from an organization’s com-\\n\\npetencies. ‘they [organization values] grow out of core professional skills, communities of practi-\\n\\nce . . . if this is where we live, this is where we will find our values’ (p. 147).\\nbased on this, we propose that individuals’ fit with the value-based culture of both their organization\\n\\n(p–o fit) and subunit (p–g fit) will be predictive of satisfaction at work. because of the increasing\\n\\nimportance of these competency groups in organizations, we speculate that p–g fit will be more pre-\\n\\ndictive of satisfaction than p–o fit.\\n\\nthe present study\\n\\nwe look at the culture of a large, worldwide consulting firm. in such firms a strong culture is important\\n\\n(chatman & jehn, 1994). because of the large number of professional employees working in remote\\n\\nlocations, a reliance on formal control systems to guide individuals’ behavior may be problematic and\\n\\nsocial control systems, such as shared values, are likely to be particularly effective and important in\\n\\ninfluencing individuals’ actions at work (o’reilly, 1989). consultants in the firm are organized into\\n\\nfour practice groups: strategy; technology; business processes; and change management. although\\n\\nthe practice groups are co-located in regional offices, they undertake different types of engagements\\n\\n970 b. adkins and d. caldwell\\n\\ncopyright # 2004 john wiley & sons, ltd. j. organiz. behav. 25, 969–978 (2004)\\n\\n\\n\\nand have different clients. even though the consulting work is done within practice groups, the firm\\n\\nplaces a strong emphasis on developing a common culture independent of any regional or group differ-\\n\\nences. to reinforce this all newly hired professional employees spend 2 weeks in a formal orientation\\n\\nprogram at a central training facility that focuses primarily on the firm’s values and general processes. in\\n\\naddition, individual consultants spend one or more weeks per year at this central training facility.\\n\\napproximately 75 per cent of the annual training is devoted to firm-wide as opposed to regional or spe-\\n\\ncific practice issues. the fact that we are looking at individuals who all do the same type of work, within\\n\\nan organization that emphasizes a strong organization culture, suggests that differences between orga-\\n\\nnization and group cultures may be subtle and makes any tests of those differences very conservative.\\n\\nbecause the culture of a group is likely to reflect many of the core values of the organization, a fine-\\n\\ngrained method for assessing values is particularly useful. therefore, we assessed the culture of the firm\\n\\nand the four practice groups using the organizational culture profile (ocp; o’reilly et al., 1991). this\\n\\nipsative measure can be used to develop a profile of the relative importance of 54 values in describing\\n\\nthe culture of an organization or unit. it can also be used to develop a profile of the relative desirability\\n\\nof these same values to the individual. thus, one can assess the overall similarity between profiles of\\n\\ndifferent cultures or between an individual’s preferences and the culture across a wide range of values.\\n\\norganizational context\\n\\nmethod\\n\\noverview and sample\\n\\nthree separate groups of respondents provided data for the study. one set of respondents used the ocp\\n\\nto provide a description of the culture of the overall organization. a second group, made up of four\\n\\nwe conducted this study in a large, worldwide consulting firm with consultants who were organized\\n\\ninto four distinct competency-based practice groups. although the groups share field offices, each\\n\\ngroup concentrates on different types of problems for client companies and manages its own client\\n\\nengagements. the strategy group (approximately 6 per cent of the firm’s consultants) provides\\n\\nadvice on long-term strategy to client companies. this group typically works with senior executives\\n\\nin the client organizations regarding topics such as mergers, divestitures, and product and market\\n\\nstrategies. the technology group (32 per cent of the consultants) works with clients to implement\\n\\nand maintain technology systems. for example, the consultants might design a network to facilitate\\n\\ninformation exchange across divisions or automate a process to reduce labor costs. the business\\n\\nprocess group (50 per cent of the consultants) engages in the implementation of re-engineering and\\n\\nprocess improvement projects and advises clients on topics such as outsourcing and the tactical use\\n\\nof information systems. the change management group (12 per cent of the consultants) undertakes\\n\\nprojects associated with supporting change efforts in client organizations, often focusing on human\\n\\nresource issues including training and organization development. we collected data from consul-\\n\\ntants in three large regional offices.\\n\\nfirm or subgroup culture 971\\n\\ncopyright # 2004 john wiley & sons, ltd. j. organiz. behav. 25, 969–978 (2004)\\n\\n\\n\\nsubgroups, used the instrument to describe the culture of the four competency-based groups within the\\n\\norganization. the third group used the ocp to describe the cultural values they desired within an orga-\\n\\nnization. this group also completed a measure of satisfaction.\\n\\nsampling strategy\\n\\nsenior executives in the organization informed us we should anticipate a response rate of approxi-\\n\\nmately 20 per cent to our survey. we estimated that we would need approximately 150 individual\\n\\nrespondents to provide adequate power to test the relations between individuals’ fit with the organiza-\\n\\ntion (p–o fit) and competency group (p–g fit) and their satisfaction. a randomly generated list of 853\\n\\nemployees (consultants, managers, partners) representing the four competency groups were asked to\\n\\ncomplete the ocp to describe the values they desired in their ideal organization and to complete a\\n\\nmeasure of job satisfaction.\\n\\nbased on previous studies assessing culture using ocp and other methods (cable et al., 2000;\\n\\nchatman, 1991; o’reilly et al., 1991) and other q-sort-based assessments (block, 1978), we estimated\\n\\nthat a minimum of 10 respondents for each competency group would allow us to develop reliable\\n\\nq-sort-based assessments of competency group culture. because of the anticipated low response rate,\\n\\na randomly generated list of 272 individuals across the four practice groups were asked to use the ocp\\n\\nto describe the values characteristic of their competency group.\\n\\nfinally, we surveyed partners and managers to create the organizational culture profile. since we\\n\\nwere told to anticipate a response rate of under 10 per cent for this group, a random set of 345 managers\\n\\nand partners were asked to complete the ocp based on the values they believed were characteristic of\\n\\nthe overall culture of the firm.\\n\\nparticipants\\n\\nafter two e-mail reminders, the final sample included 136 individuals who described the values they\\n\\ndesired (response rate of 16 per cent), 52 individuals describing the organization culture (response rate\\n\\nof 15 per cent), and 51 individuals describing the culture of one of the competency groups (response\\n\\nrate of 19 per cent) including 11 respondents from the strategy group, 10 from the change\\n\\nmanagement group, 18 from the technology group, and 12 from the business practices group.\\n\\nalthough the response rates were low, the absolute number of responses was roughly consistent with\\n\\nwhat we had anticipated. of the final sample, 62 per cent of the respondents were male and 61 per cent\\n\\nwere under the age of 36. the average tenure of the group was 9.2 years. all respondents in the sample\\n\\npossessed a bachelors degree and 43 per cent also possessed a graduate degree. of the respondents,\\n\\n32 per cent were partners or associate partners, 44 per cent were managers, and the rest were consul-\\n\\ntants. because of the low response rates, we compared the demographic characteristics of the respon-\\n\\ndents to the overall population of the firm. in general, the respondents were representative of the\\n\\noverall population, with the exception that the final sample was slightly older and had longer tenure\\n\\nthan the average of the firm. this is not surprising in that we oversampled partners. there were no\\n\\nsignificant differences between the sample and population regarding gender, education, or the percen-\\n\\ntage of individuals assigned to the competency groups.\\n\\nmeasures\\n\\norganization culture, group culture, and desired culture\\n\\nwe assessed the cultures of the overall organization and the four practice groups using the ocp\\n\\n(o’reilly et al., 1991). the instrument contains 54 ‘value statements’ that emerged from a review\\n\\nof popular press and academic writings on organization culture assessing such things as risk taking,\\n\\n972 b. adkins and d. caldwell\\n\\ncopyright # 2004 john wiley & sons, ltd. j. organiz. behav. 25, 969–978 (2004)\\n\\n\\n\\nflexibility, and concern for individuals. the 52 individuals assessing the organization culture sorted\\n\\nthose items into nine categories based on how characteristic each item is of the overall firm.1 the\\n\\n51 individuals assessing the subcultures of the competency-based groups sorted the items in terms\\n\\nof how characteristic each is of the group of which the individual is a member. the third group of\\n\\n136 individuals used the ocp to sort the 54 items in terms of the type of culture they would prefer\\n\\nto work in and used the same forced distribution process to place the items in categories ranging from\\n\\n‘most desirable’ to ‘most undesirable.’\\n\\nindividual outcome measure\\n\\noverall job satisfaction was measured using a three-item scale (e.g., i would take this job again) devel-\\n\\noped by quinn and staines (cook, hepworth, wall, & warr, 1989). the internal consistency of this\\n\\nmeasure in this sample was satisfactory (alpha¼ 0.86).\\n\\ncontrol variables\\n\\nsince this organization placed a very strong emphasis on training and socializing both new hires and\\n\\nlonger-tenured employees, we used total days of training the individual had received as a measure of\\n\\nthe level of socialization (m¼ 45.51, sd¼ 63.99). we also used dummy variables for the practice\\ngroup to control for overall differences. we included these in the analyses of fit and satisfaction.\\n\\nresults\\n\\norganization and competency group culture\\n\\nbefore assessing the relative importance of p–o and p–g fit, it is necessary to develop a reliable\\n\\ndescription of the organization and group cultures. recall that separate groups of raters completed\\n\\nthe ocp for each competency group and for the overall organization. for each group, we calculated\\n\\nitem-by-item averages and developed an overall profile based on those averages. we then used a var-\\n\\niation of the spearman–brown general prophecy formula to calculate a coefficient alpha for each\\n\\ngroup. the coefficient alpha scores ranged from 0.85 to 0.96 for the five aggregated profiles.2 we also\\n\\ncalculated the median pairwise correlation for the raters of organization and group culture profiles.\\n\\nthese ranged from 0.29 to 0.46. this level of agreement is consistent with or greater than reported\\n\\nin other studies in which agreement was concluded (chatman & jehn, 1994; sheridan, 1992). these\\n\\nresults suggest that the profiles for each competency group and the organization are reliable, even\\n\\nthough the number of respondents assessing the competency-based groups is small.\\n\\nto assess the extent to which competency groups had distinct cultures from one another and the\\n\\norganization, we calculated correlation coefficients between the overall profiles. the correlations\\n\\nbetween the profiles ranged from 0.78 to 0.93 (p< 0.001 for all) indicating that the cultures of the\\ncompetency groups and organization were quite similar. even though the overall profiles of the\\n\\n1items are categorized as follows: most characteristic (desirable) 2 items; quite characteristic 4 items; fairly characteristic 6\\nitems; somewhat characteristic 9 items; neither characteristic or uncharacteristic 12 items; somewhat uncharacteristic 9 items;\\nfairly uncharacteristic 6 items; quite uncharacteristic 4 items; most uncharacteristic 2 items.\\n2the interpretation of a reliability coefficient based on q-sort data is different than if nomothetic data are used and represents the\\nsimilarity of individuals’ profiles to the aggregrated profile and is an estimate of how likely it would be to obtain the same profile\\nif the sample was expanded.\\n\\nfirm or subgroup culture 973\\n\\ncopyright # 2004 john wiley & sons, ltd. j. organiz. behav. 25, 969–978 (2004)\\n\\n\\n\\ncultures of the competency groups were significantly related, our next step was to see whether the\\n\\ngroups differed on some specific elements of culture.\\n\\nprevious investigations using the ocp (chatman & jehn, 1994; o’reilly et al., 1991) have reported\\n\\nthat the 54 value items reflect seven factors including: (1) innovation; (2) stability; (3) people orienta-\\n\\ntion; (4) outcome orientation; (5) easygoing; (6) detail orientation; and (7) team orientation. to iden-\\n\\ntify differences among the subcultures, we calculated scores for each of the seven ocp factors for each\\n\\ngroup by averaging the scores on specific value statements that loaded on each factor and then com-\\n\\nparing these means with separate one-way anovas.\\n\\nas shown in table 1, there were no significant differences for four of the dimensions: stability,\\n\\npeople orientation, detail orientation, and team orientation. significant differences existed on the inno-\\n\\nvation, outcome orientation, and easygoing dimensions. overall, these results suggest that there are\\n\\nsmall but interpretable differences among the subcultures and organization culture. these difference\\n\\nsuggest that p–g as well as p–o fit may be useful in explaining individual satisfaction.\\n\\nperson–organization and person–group fit\\n\\nrecall that 136 respondents used the ocp to describe the organization culture they most desired. it\\n\\nshould be noted that none of the individual respondents contributed to the development of the orga-\\n\\nnization or competency group culture profiles. we calculated p–o fit and p–g fit by correlating the\\n\\nindividual profile with the organization profile and appropriate competency group profile. thus each\\n\\nindividual received two fit scores: one based on fit with the profile of the organization culture and the\\n\\nother based on the fit with the profile of the competency group of which he or she was a member. over-\\n\\nall, individuals’ p–o fit correlations ranged from �0.52 to 0.53 (m¼ 0.02, sd¼ 0.19). the range of\\np–g correlations was �0.55 to 0.48 (m¼ 0.01, sd¼ 0.18). there was no significant difference\\nbetween the means of the fit measures. these two fit scores were highly correlated (r¼ 0.92,\\np< 0.001). this high correlation between the fit scores is not surprising given the similarity between\\nthe subcultures and overall organization culture.\\n\\nto determine the relations between p–o and p–g fit and satisfaction we conducted two hierarchical\\n\\nregression analyses. in the first step of each, we entered the control variables for practice group and\\n\\nprevious socialization. in the second step we entered either p–o or p–g fit. these results are shown in\\n\\ntable 2. the results of both regression analyses are nearly identical. in the separate equations, both\\n\\np–o and p–g fit explained significance amounts of variance in satisfaction (p–o fit, t¼ 3.16, p< 0.01;\\np–g fit, t¼ 3.77, p< 0.001) even after controlling for practice group and socialization. these results\\n\\ntable 1. mean ocp dimensions by group\\n\\ninnovation people detail easygoing stability outcome team\\norientation orientation orientation orientation\\n\\noverall organization 5.39ab 5.22 5.61 3.35ab 4.94 6.54ab 6.10\\nchange management 5.90ab 5.02 5.77 3.04ab 4.86 6.95b 5.45\\ngroup\\nstrategy group 6.09b 4.98 5.15 2.96a 4.55 6.91b 6.18\\nprocess management 5.01a 4.82 5.80 3.58ab 5.12 6.42ab 5.33\\ngroup\\ntechnology group 5.33ab 5.08 5.70 3.67b 5.12 6.10a 6.19\\noverall f 3.22* 2.62* 2.29*\\n\\ngroups with a common subscript do not differ significantly (tukey test p> 0.05).\\n*p< 0.05.\\n\\n974 b. adkins and d. caldwell\\n\\ncopyright # 2004 john wiley & sons, ltd. j. organiz. behav. 25, 969–978 (2004)\\n\\n\\n\\nare consistent with previous work that shows that value-based fit between the individual and culture is\\n\\nrelated to individual outcomes, in this case satisfaction. (kristof, 1996).\\n\\nbecause of the high correlation (r¼ 0.92) between the two measures of fit, assessing their indepen-\\ndent contributions of the two types of fit to satisfaction is difficult. for example, including both fit\\n\\nmeasures in a single regression equation introduces collinearity problems that make it impossible to\\n\\naccurately assess the independent contributions of the variables. therefore, we were forced to try indir-\\n\\nect ways to determine which type of fit was most important.\\n\\nfirst, we calculated the difference between p–o and p–g fit and included it in a regression equation\\n\\nalong with p–o fit and the control variables. although there are problems with using difference scores\\n\\nsuch as this, our logic was that the difference score would provide an indirect measure of the relative\\n\\nstrength of the two types of fit for each person as well as a measure of the level of fit. this analysis\\n\\nessentially replicated model 1 shown in table 2 but added the difference score in a third step. the first\\n\\ntwo steps of the analysis are identical to what is reported in table 2. adding the difference score in the\\n\\nthird step explained marginally more variance in affect (beta¼ 0.30, t¼ 1.76, p< 0.10). although the\\ntest and results are weak, this analysis suggests that exploring p–g fit may be useful in understanding\\n\\nindividuals’ affect.\\n\\nsecond, we attempted to identify whether there might be specific areas in which fit differed by look-\\n\\ning at the differences between fit scores within competency groups. since the means of both p–o and\\n\\np–g fit were approximately 0, we assumed that within any group 50 per cent of respondents should\\n\\nscore higher on each measure. we calculated one-sample chi-square tests to determine whether the\\n\\noverall distribution of scores differed from what should be expected. when the scores from all com-\\n\\npetency groups were examined together, the distribution of scores for individuals with higher p–o fit\\n\\n(or higher p–g fit) did not significantly differ from the expected distribution of 50 per cent (chi-\\n\\nsquare¼ 1.83). however, when the same analysis was conducted for each competency group a differ-\\nent pattern emerged. for both the change management and process management competency groups,\\n\\nthe percentage of individuals with higher p–o fit scores than p–g fit scores was greater than expected\\n\\n(change management� chi-square¼ 6.26, p< 0.01; process management� chi-square¼ 13.07,\\np< 0.01). the results were the opposite for the other two competency groups. a greater percentage\\nof individuals in the technology and strategy competency groups more closely fit the group culture\\n\\n(p–g fit) than the organization culture (p–o fit) (technology� chi-square¼ 13.33, p< 0.01; strate-\\ngy� chi-square¼ 6.00, p< 0.01). taken together, these results suggest that although there is no\\n\\ntable 2. hierarchical regression results for individual satisfactiony (n¼ 136)\\n\\nmodel 1 model 2\\n\\ncontrol variables\\nbusiness process group 0.14 0.13\\nstrategy group �0.01 �0.01\\nchange management group 0.09 0.09\\nsocialization 0.06 0.06\\nchange in r2 0.02 0.02\\nfit\\np–o fit 0.28**\\np–g fit 0.30***\\nchange in r2 0.08*** 0.09***\\noverall adjusted r2 0.09 0.09\\noverall f 2.54* 2.82*\\n\\nyentries are standardized regression coefficients. signs have been reversed so that positive\\nvalues are associated with higher levels of individual affect.\\n***p< 0.001; **p< 0.01; *p< 0.05.\\n\\nfirm or subgroup culture 975\\n\\ncopyright # 2004 john wiley & sons, ltd. j. organiz. behav. 25, 969–978 (2004)\\n\\n\\n\\noverall difference between p–o and p–g fit, some differences do exist within specific competency\\n\\ngroups. this is further indirect evidence that exploring both p–o and p–g fit may be useful in devel-\\n\\noping a full understanding of person–situation interactions.\\n\\ndiscussion\\n\\nconsistent with previous research, we found that both p–o and p–g fit were related to individuals’\\n\\nsatisfaction at work. in contrast to other studies, we looked at the two types of fit simultaneously using\\n\\na large set of values to test both. overall, we found that both p–o and p–g fit had similar relations to\\n\\nsatisfaction. this is no doubt due to the fact that the cultures of the organization and competency\\n\\ngroups were very similar. this similarity is not surprising in that all of the competency-based groups\\n\\nwere in the same ‘business’ of consulting and the organization sought to present a consistent face to\\n\\nclients. in addition, this firm invests substantial resources in company-wide training and socialization,\\n\\nincluding a central facility at which all consultants spend substantial time.\\n\\nalthough we speculated that p–g fit would be more predictive of satisfaction than p–o fit, this was\\n\\nnot directly supported. it may well be that this effect would be observed in organizations where groups\\n\\nare more distinct. for example, if the relevant groups were distinct business units or engaged in dif-\\n\\nferent types of work, differences between group culture and organization culture might be more pro-\\n\\nnounced. this would allow a more realistic competitive test between these two types of fit.\\n\\neven in an organization that seeks to develop a strong, consistent culture we did find some indirect\\n\\nevidence that distinct group cultures can emerge and be related to satisfaction. competency groups\\n\\ndiffered from one another on some dimensions of culture, even though no group differed from the\\n\\norganization’s culture. and within two of the competency groups fit with the group was higher than\\n\\nfit with the organization. it may be that these groups recruit and select people based on fit with the\\n\\nsubculture to a greater extent than other groups do or that these groups do more to socialize consultants\\n\\ninto the competency group than do the other groups. clearly further research is necessary to explore\\n\\nboth how differences between group cultures emerge and the relative contributions of p–o and p–g\\n\\nculture fit to satisfaction.\\n\\nthe ocp proved to be a viable tool for the simultaneous assessment of individual, group, and orga-\\n\\nnizational culture profiles. it can provide comprehensive, detailed portraits of the values characteristic\\n\\nof the organization, subgroups, and the individual, and allow direct comparisons across all of these\\n\\nentities. these comparisons can be made at an overall level or at a more fine-grained level. the specific\\n\\nitems in q-sort-based assessment approaches, such as the ocp, can be used to develop specific ‘clin-\\n\\nical portraits’ based on the specific items that are ranked (block, 1978). although the specific items are\\n\\nnot amenable to sophisticated statistical analysis, the portrait can provide an understanding of the spe-\\n\\ncific values that best describe a person, group, or organization.\\n\\nthere are a number of factors that may limit the generalizability of our results. first, as we noted\\n\\nabove, the firm we studied operated in a single industry and sought to build a strong organization cul-\\n\\nture. in other more diversified firms that compete in several industries, subcultures may become more\\n\\ndifferentiated. in this way, our site perhaps provides an overly conservative test of the phenomenon.\\n\\na second limitation comes from both the sample size and low response rates. although we antici-\\n\\npated a low response rate and sampled accordingly, questions can certainly be raised about the extent\\n\\nto which the low response rate could have distorted the results even though our sample was quite repre-\\n\\nsentative of the overall firm. in addition, the small number of individuals providing profiles of the\\n\\ncultures of the competency-based groups is troublesome. the reliability of q-sort data is assessed\\n\\n976 b. adkins and d. caldwell\\n\\ncopyright # 2004 john wiley & sons, ltd. j. organiz. behav. 25, 969–978 (2004)\\n\\n\\n\\ndifferently than for nomothetic data and our estimates of reliability were consistent with those that are\\n\\ntypically reported in published work using q-sort measures, including the ocp. despite this, the small\\n\\nnumber of responses invites questions regarding the assessments.\\n\\nthird, there are many ways of assessing culture and fit, all of which have different strengths and\\n\\nweaknesses. we chose the ocp in part because it can assess a very complete list of the values that can\\n\\ndefine a culture. in our view, this is important for studies comparing cultures or assessing congruence,\\n\\nsince there is a risk that omitting important, salient values may distort results. however, the ocp is an\\n\\nideographic, ipsative measure which limits the use of some statistical techniques (edwards, 1994).\\n\\nin summary, is sharing values with the overall organization or the group to which a person belongs\\n\\nmore important? these results suggest that both are important but that their relative importance may be\\n\\ndifficult to determine precisely. what the results do suggest is that if discernible subcultures exist,\\n\\nmanagers may potentially increase the satisfaction of employees by systematically attempting to\\n\\nimprove the fit between the individual and the culture of the group. group cultures are easier to change\\n\\nthan organization cultures and may directly and indirectly affect important outcomes (chatman &\\n\\nflynn, 2001; jehn & mannix, 2001). further, the conclusions from this study suggest that organiza-\\n\\ntions that are concerned with their ability to establish and maintain employee connections in a global,\\n\\nvirtual work environment may do so by focusing on subcultures as well as the overall organization\\n\\nculture.\\n\\nauthor biographies\\n\\nbryan adkins is affiliated with denison consulting. he received his doctorate in human resource\\n\\ndevelopment from the george washington university in 2000. his primary interest is in the area of\\n\\norganizational culture particularly as it applies to ‘communities-of-practice,’ knowledge management,\\n\\nand organizational learning.\\n\\ndavid caldwell is the stephen and patricia schott professor of business in the leavey school of busi-\\n\\nness at santa clara university. he received his phd from ucla and his current research interests\\n\\ninclude person–organization fit and innovation in large organizations.\\n'"
      ]
     },
     "execution_count": 32,
     "metadata": {},
     "output_type": "execute_result"
    }
   ],
   "source": [
    "pdf_text_subject[2]"
   ]
  },
  {
   "cell_type": "code",
   "execution_count": null,
   "metadata": {},
   "outputs": [],
   "source": []
  },
  {
   "cell_type": "code",
   "execution_count": null,
   "metadata": {},
   "outputs": [],
   "source": [
    "# not required\n",
    "def eliminate_method_result(method, discussion):\n",
    "    \n",
    "    import re    \n",
    "    start = method\n",
    "    end = discussion\n",
    "    #start of pattern, followed by any number of times 'any character OR a newline' and terminated by the end pattern.\n",
    "    pattern = start + '.*'+'(.|\\n)*'+end\n",
    "    pdf_method_dis = [re.sub(pattern, '', f) for f in pdf_text]\n",
    "\n",
    "    return pdf_method_dis"
   ]
  },
  {
   "cell_type": "code",
   "execution_count": null,
   "metadata": {},
   "outputs": [],
   "source": [
    "# not required\n",
    "def eliminate_method_result_ref(method, dis, ref):\n",
    "    \n",
    "    import re\n",
    "\n",
    "    start = method\n",
    "    end = dis\n",
    "    \n",
    "    #start of pattern, followed by any number of times 'any character OR a newline' and terminated by the end pattern.\n",
    "    pattern = start + '.*'+'(.|\\n)*'+end\n",
    "    pdf_method_dis = [re.sub(pattern, '', f) for f in pdf_text]\n",
    "    \n",
    "    start_ref = ref\n",
    "    pattern_ref = start_ref +'(.|\\n)*$'\n",
    "\n",
    "    pdf_ref= [re.sub(pattern_ref, '', f) for f in pdf_method_dis]\n",
    "    \n",
    "    return pdf_ref"
   ]
  },
  {
   "cell_type": "markdown",
   "metadata": {},
   "source": [
    "#  Pre-processing\n",
    "Regular expression is used to clean up the pre-processed data and saved as a Master data"
   ]
  },
  {
   "cell_type": "code",
   "execution_count": 33,
   "metadata": {},
   "outputs": [],
   "source": [
    "import re\n",
    "pdf_p= [re.sub(r\"-\\n(\\n)*\", \"\", t)for t in pdf_text_subject]\n",
    "\n",
    "pdf_p= [re.sub(r\"\\n(\\n)*\", \"\\n\", t)for t in pdf_p]\n",
    "\n",
    "pdf_p= [re.sub(r\"\\n\", \" \", t)for t in pdf_p]\n",
    "# remove text with [] eg citation\n",
    "pdf_p = [re.sub(r\"\\[[^)]*\\]\", \"\", t)for t in pdf_p]\n",
    "#Remove numbers\n",
    "pdf_p = [re.sub('[0-9]+', '', f) for f in pdf_p]\n",
    "#pdf_p = [re.sub(\"r[\\S]+\\.(net|com|org|info|edu|gov|uk|de|ca|jp|fr|au|us|ru|ch|it|nel|se|no|es|mil)[\\S]*\\s?\", \" \", t)for t in pdf_p]\n",
    "pdf_p = [re.sub('[!@/%“”‘:#©β<>+=δχ*&$]', ' ', f) for f in pdf_p]\n",
    "pdf_p = [re.sub('’s','', f) for f in pdf_p]\n",
    "pdf_p = [re.sub('’re','', f) for f in pdf_p]\n",
    "pdf_p = [re.sub('’t','', f) for f in pdf_p]\n",
    "pdf_p = [re.sub('’ve','', f) for f in pdf_p]\n",
    "pdf_p = [re.sub('’ll','', f) for f in pdf_p]\n",
    "pdf_p = [re.sub('’m','', f) for f in pdf_p]\n",
    "\n",
    "pdf_p = [re.sub('[:()-]', ' ', f) for f in pdf_p]\n",
    "pdf_p = [re.sub('[\\.!?]+ ', 'XYZXYZ', t) for t in pdf_p]\n",
    "# \\w will match alphanumeric characters and underscores\n",
    "# [^\\w] will match anything that's not alphanumeric or underscore\n",
    "pdf_p = [re.sub(r'[^\\w]', ' ', f) for f in pdf_p]\n",
    "pdf_p = [re.sub('XYZXYZ', '.', f) for f in pdf_p]\n",
    "pdf_p = [re.sub(' +', ' ', f) for f in pdf_p]\n",
    "# Replace multiple dots with one dot\n",
    "pdf_p = [re.sub('\\.\\.+',\".\", f) for f in pdf_p]\n",
    "pdf_p = [re.sub(r'\\b\\w{1,3}\\b',\"\", f) for f in pdf_p]\n",
    "pdf_p = [re.sub(' +', ' ', f) for f in pdf_p]\n",
    "\n",
    "pdf_p = [re.sub(\"^\\s+\",\"\", f) for f in pdf_p]# remove the front space\n",
    "pdf_p = [re.sub(\"\\s+\\Z\",\"\", f) for f in pdf_p]#remove the back space"
   ]
  },
  {
   "cell_type": "code",
   "execution_count": 35,
   "metadata": {},
   "outputs": [],
   "source": [
    "#pdf_p[2]"
   ]
  },
  {
   "cell_type": "code",
   "execution_count": 38,
   "metadata": {},
   "outputs": [],
   "source": [
    "author_list = ['ines', 'meyer','stuart','carr','lori', 'foster', 'joseph','allen','nale', 'lehmann']\n",
    "author_list += ['willenbrock', 'steven', 'rogelberg', 'david', 'antons', 'mathieu', 'declerck', 'kathleen', 'diener', 'iring', 'koch']\n",
    "author_list += ['frank', 'piller', 'kara', 'arnold', 'catherine', 'connelly', 'gellatly', 'megan', 'walsh', 'michael', 'withey']\n",
    "author_list += ['susan', 'ashford', 'wellman', 'mary', 'sully', 'luque', 'katleen',  'stobbeleir', 'melody', 'wollan', 'blake']\n",
    "author_list += ['ashforth', 'glen', 'kreiner', 'mark', 'clark', 'fugate', 'neal','ashkanasy', 'uqbweave', \"neal\", \"ashkanasy\"]\n",
    "author_list += ['william', \"becker\", 'david', \"waldman\", 'oluremi', \"ayoko\", 'karen', \"jehn\", \"soroush\", \"aslani\", 'jimena']\n",
    "author_list += ['ramirez', \"marin\", 'jeanne', \"brett\", 'jingjing', 'zhaleh', 'semnani', \"azad\", \"zhang\", \"tinsley\", 'laurie']\n",
    "author_list += [\"weingart\", 'wendi', \"adair\", 'prasad', 'balkundi','wang','rajiv', 'kishore', \"boris\", \"baltes\", 'kevin']\n",
    "author_list += [\"wynne\", 'mgrdich', \"sirabian\", 'daniel', \"krenn\", 'annet', \"lange\", 'sarah', 'bankins', 'george', 'banks', 'sven']\n",
    "author_list += ['kepes', 'mahendra', 'joshi', 'anson', 'seers', 'larissa','barberchristopher','budnick', 'william','beckerrussell'] \n",
    "author_list += ['cropanzano', 'thomas', 'becker', 'guclu', 'atinc', 'james', 'breaugh', 'carlson', 'jeffrey']\n",
    "author_list += ['edwards', 'paul', 'spector', 'terry','beehr', \"terry\", \"beehr\", 'jennifer', \"ragsdale\", 'jonathan']\n",
    "author_list += [\"kochert\", 'peter', 'belmijeffrey', 'pfeffer', 'andrew', 'bennett', 'bakker', 'field', 'carmen', 'binnewies','sabine']\n",
    "author_list += ['sonnentag', 'mojza', 'michal', 'bironmarc', 'veldhoven', 'douglas','bonettthomas','wright', \"anthony\"] \n",
    "author_list += [\"boyce\", 'levi', \"nieminen\", \"gillespie\", 'marie', \"ryan\", \"denison\", 'kimberley']\n",
    "author_list += ['breevaart', 'evangelia', 'demerouti', 'daantje', 'derks', 'nicola', 'breugst', 'rebecca', 'preller', 'holger']\n",
    "author_list += ['patzelt', 'dean', 'shepherd', 'roman', 'briker','frank', 'walter','michael','cole', 'robert', 'buch','bård', 'kuvaas']\n",
    "author_list += ['anders', 'dysvik', \"claudia\", \"buengeler\", 'astrid', \"homan\", \"voelpel\",'travis']\n",
    "author_list += ['maynard', 'deanna', 'kennedy', 'christian', 'resick', 'anne', 'burmeister', 'yixuan', 'wang', 'junqi', 'yanghua']\n",
    "author_list += ['vantilborgh','joeri', 'hofmans','timothy','judge', 'olivia', 'byza', 'sebastian', 'schuh']\n",
    "author_list += ['stefan', 'dörr', 'matthias', 'spörrle', 'günter', 'maier', 'paul', 'harveymarie', 'dasborough', 'francesco']\n",
    "author_list += ['cangiano', 'sharon', 'parker', 'gillian', 'dawn', 'merideth', 'thompson', 'wayne', 'crawford', 'michele', 'kacmar']\n",
    "author_list += ['abraham', 'carmeli', 'stephen', 'brammer', 'emanuel', 'gomes', 'shlomo', 'tarba', 'mark','martinkojeremy','mackey']\n",
    "author_list += ['filipa', 'castanheira', 'fabrice', 'cavarretta', 'laura', 'trinchera', 'dong', 'choi', 'sean', 'hannah']\n",
    "author_list += ['lucia', 'ceja', 'heesun', 'chae','jisung', 'park','choi', 'melissa', 'chamberlin', 'newton', 'jeffery']\n",
    "author_list += ['lepine','ling', 'chang', \"jennifer\", 'chatman', 'caldwell', 'charles', \"reilly\", 'bernadette', 'doerr']\n",
    "author_list += [\"caldwell\",  \"reilly\", \"doerr\", \"david\", \"charles\", \"bernadette\", \"doerr\", 'tingting', 'chen','kwok']\n",
    "author_list += ['leung','fuli','zhanying','ying', 'chen', 'zhen', 'xiong', 'lifeng', 'zhong', 'jooyeon', 'xiujuan']\n",
    "author_list += ['zhang', 'zhiqiang', 'daniel', 'ming', 'chngjoyce', 'cong', 'ying', 'wang', 'jaee', 'chomichael','morris']\n",
    "author_list += ['jaepil', 'andrea', 'kyongji', 'seongmin', 'jong', 'park', 'bora', 'kwon','chun','kyoungmin','john','sosik','hyeok']\n",
    "author_list += ['chung','choi','jing','peter','colemankatharina','kugler']\n",
    "author_list += ['brizzi', 'catherine', 'matej', 'černe', 'anders', 'dysvik', 'miha', 'škerlavaj', 'samantha','conroynina']\n",
    "author_list += ['gupta', 'samantha', 'conroy', 'christine', 'henle', 'lynn', 'shore', 'samantha', 'stelman', 'neil', 'conway']\n",
    "author_list += ['clinton', 'jane', 'sturges', 'budjanovcanin', 'jose','cortina','cristina', 'costa', 'ashley', 'fulmer']\n",
    "author_list += ['neil', 'anderson','services', 'marcus', 'credépeter','harms', 'jeffrey','cucinamichael','mcdaniel', 'carla', 'gomes'] \n",
    "author_list += ['costa','zhou','aristides','ferreira', 'jason','dahlingmelissa','gutworth', 'marie','dasborough', 'marie']\n",
    "author_list += ['dasboroughpaul', 'harvey', \"emily\", \"david\", 'derek', \"avery\"]\n",
    "author_list += [\"witt\", 'patrick', \"mckay\", 'sarah', 'dawkins', 'tian', 'alexander', 'newman', 'angela', 'martin', 'kevin', 'dawson']\n",
    "author_list += ['kimberly', \"brien\", 'terry', 'beehr','meulenaere','christophe', 'boone','tine', 'buyl', 'frank']\n",
    "author_list += ['daan', 'scheepers', 'naomi', 'ellemers', 'sassenberg', 'annika', 'scholl', 'nathalie', 'delobbe', 'helena', 'cooper']\n",
    "author_list += ['thomas', 'roxane', 'hong', 'deng','frank', 'walter','yanjun', 'guan', 'lindsay', 'dhanani', 'amanda', 'main']\n",
    "author_list += ['andrew', 'pueschel', 'rebekah', 'dibble', 'mihaela', 'dimitrova', 'angela','dionisijulian', 'barling', 'direnzo']\n",
    "author_list += ['marco', 'greenhaus', 'weer', 'christy','stanislav','dobrevjennifer', 'merluzzi', 'yuntao', 'kathryn']\n",
    "author_list += ['bartol', 'chenwei', 'danyang', 'derks', 'chang', 'erin', 'eatough', 'laurenz', 'meier', 'ivana', 'igic', 'achim']\n",
    "author_list += ['elfering', 'spector', 'norbert', 'semmer', 'ludvig', 'levasseur', 'abbie', 'shipp', 'yitzhak', 'fried', 'denise']\n",
    "author_list += ['rousseau', 'philip', 'zimbardo', 'silke', 'astrid', 'eisenbeissdaan', 'knippenberg', \"robert\", \"eisenberger\"]\n",
    "author_list += ['mindy', 'krischer', \"shoss\", 'gökhan', \"karagonlar\", 'gloria', 'gonzalez', \"morales\", 'robert', \"wickham\", 'louis']\n",
    "author_list += [\"buffardi\", 'gabi', 'eissascott','lester', 'liat', 'eldoritzhak', 'harpaz', 'pervez', 'ghauri', 'john', 'child']\n",
    "author_list += ['simon', 'collinson','parker', 'ellen','kyle','emichli','olga', 'epitropaki', 'ilias']\n",
    "author_list += ['kapoutsis', 'ellen', 'gerald', 'ferris', 'konstantinos', 'drivas', 'anastasia', 'ntotsi', 'miriam', 'erez','andrew']\n",
    "author_list += ['cynthia','jinyan', 'fanlei','steven','farmerlinn', 'dyne', 'kayla', 'follmer']\n",
    "author_list += ['isaac', 'emmanuel', 'sabat', 'rose', 'siuta', \"marion\", \"fortin\", 'irina', \"cojuharenco\", \"patient\", 'hayley']\n",
    "author_list += [\"german\", 'katherine', 'frear', 'paustian', 'underdahl', 'eric', 'heggestad', 'lisa', 'slattery', 'walker','ashley']\n",
    "author_list += ['fulmercheri', 'ostroff', 'marylène', 'gagné', 'khee', 'seng', 'benjamin', 'katrina', 'hosszu', 'xiaohan']\n",
    "author_list += ['urhahn','torsten', 'biemann','stephen','jaros', 'patrick', 'raymund', 'garcia', 'prashant', 'bordia']\n",
    "author_list += ['lloyd', 'restubog', 'valerie', 'caines', 'michele', 'gelfand', 'severance', 'tiane', 'bayan', 'bruss', 'janetta']\n",
    "author_list += ['abdel', 'hamid', 'latif', 'asmaa', 'ahmed', 'moghazy', 'sally', 'moustafa', 'ahmed', 'sonia', 'ghumman','marie']\n",
    "author_list += ['ryan','park', 'elisabeth', 'gilbert','trevor', 'foulk','joyce', 'bono', 'paula', 'giordano', 'patient']\n",
    "author_list += ['margarida', 'passos', 'francesco', 'sguera', 'barry', 'goldmanrussell', 'cropanzano', 'ryan','gottfredsonherman']\n",
    "author_list += ['aguinis', 'laura', 'goverlinda', 'duxbury', \"alicia\", \"grandey\", 'deborah', \"rupp\", \"brice\", 'rebecca']\n",
    "author_list += ['greenbaum', 'mawritz', 'julena', 'bonner', 'brian', 'webster', 'joseph', 'truit', 'gray', 'mawritz', 'martin']\n",
    "author_list += ['gubler', 'yves', 'guillaume', 'jeremy', 'lilian', 'otaye', 'ebede', 'woods', 'west', \"naina\", \"gupta\", 'violet']\n",
    "author_list += [\"pollack\", 'felipe','guzmanalvaro', 'espejo', 'dana','haggardhee', 'park', 'daniel', 'halgin']\n",
    "author_list += ['borgatti', 'ajay', 'mehra', 'scott', 'soltis', 'angela', 'hall', 'dwight', 'frink', 'ronald', 'buckley', 'jing']\n",
    "author_list += ['hanjuan', 'ling', \"sean\", \"hannah\", \"sumanth\", \"lester\", 'fabrice', \"cavarretta\", 'crystal','haroldbrian','holtz']\n",
    "author_list += ['brad', 'harris', 'teresa', 'cardador', 'cole', 'mistry', 'bradley', 'kirkman', 'paul', 'harveymarie','dasborough']\n",
    "author_list += ['jeffrey', 'haynie', 'mossholder', 'stanley', 'harris','ryan', 'fehr','rong', 'long','design', 'unit', 'london']\n",
    "author_list += ['school', 'economics', \"guido\", \"hertel\", 'cornelia']\n",
    "author_list += [\"rauschenbach\", 'markus', \"thielgen\", \"krumm\", 'ivona', 'hideggerben','kleef', 'higginmo', 'gerard','hodgkinsonj']\n",
    "author_list += ['kevin', 'ford', 'joeri', 'hofmans', 'edina', 'dóci', 'omar', 'solinger', 'woohee', 'timothy', 'judge']\n",
    "author_list += ['anthony', 'hood', 'bachrach', 'suzanne', 'zivnuska', 'elliot', 'bendoly', 'annekatrin', 'hoppe', 'toker', 'vivian']\n",
    "author_list += ['schachler', 'ziegler', 'matt','howardrick','jacobs', 'ryan', 'shuwei', 'hsujames','stanworth']\n",
    "author_list += ['xiaoxiao', 'huseth', 'kaplan', 'xiaoxiao', 'hujunqi','xiaoxiao', 'yujie', 'zhan', 'xiang', 'garden','huang','dina']\n",
    "author_list += ['krasikova','peter','harms', \"ronald\", \"humphrey\", 'blake', \"ashforth\", \"diefendorff\"]\n",
    "author_list += ['samuel', 'hunter', 'lily', 'cushenbery', 'jayne', 'seulki', 'jang', 'winny', 'shen', 'tammy', 'haiyan', 'zhang']\n",
    "author_list += [\"peter\", \"jennings\", \"mitchell\", \"hannah\", 'jaclyn', 'jensen', 'rubin', 'yuan', 'jiang','susan','jackson','saba']\n",
    "author_list += ['colakoglu', 'zhou', 'jiang', 'xiaowen', 'zhongmin', 'xuan', 'jiang', 'gary', 'johnsraghid']\n",
    "author_list += ['hajj', 'andrew','johnsonkatherine','roberto', 'kristen', 'jones', 'eden', 'king', 'afra', 'ahmad', 'tracy']\n",
    "author_list += ['mccausland', 'tiffani', 'chen', \"dustin\", \"jundt\", 'jason', \"huang\", 'jvanrooyen', 'gökhan', 'karagonlar']\n",
    "author_list += ['eisenberger', 'justin', 'aselage', 'olli', 'pekka', 'kauppila', 'steffen', 'kecklinda', 'babcock', 'stacey','kessler']\n",
    "author_list += ['kaitlin', 'kiburz', 'french', 'yeol', 'kyoung', 'yong','robert', 'eisenberger','kibok']\n",
    "author_list += ['baik', 'sooyeol','youngah', 'park','qikun','linn', 'dyne','stephanie','scott','kingfred','bryant', 'danielle']\n",
    "author_list += ['king','alexander', 'newman','fred', 'luthans']\n",
    "author_list += ['howard', 'klein', 'anne‐kathrin', 'kleine', 'cort', 'rudolph', 'hannes', 'zacher', 'petra', 'klumb', 'manuel']\n",
    "author_list += ['voelkle', 'siegler', 'michaela', 'knecht', 'bettina', 'wiese', 'alexandra', 'freund', 'kniffin', 'jubo', 'wansink']\n",
    "author_list += ['schulze', 'caroline', 'knight','malcolm', 'patterson','jeremy', 'dawson', 'young', 'kojin', 'choi']\n",
    "author_list += ['dohyoung','kyootai','kailash', 'joshi', \"jaclyn\", \"koopmann\", 'klodiana', \"lanaj\", 'joyce']\n",
    "author_list += [\"bono\", 'kristie', \"campana\", 'jörg', 'korff','torsten', 'biemann','sven','voelpel', 'kristof']\n",
    "author_list += ['brown', 'young', 'seong', 'degeest', 'seung', 'hong', 'mukta', 'kulkarni', \"kunze\",\"florian\",\"menges\",'jochen']\n",
    "author_list += ['florian', 'kunze','stephan','boehmheike', 'bruch', 'lauren', 'kuykendall','lydia']\n",
    "author_list += ['craig','louis','letty', 'kwanchi', 'chiu', 'jana', 'kühnel','ronald', 'bledow','nicolas']\n",
    "author_list += ['feuerhahn', 'catherine','frank', 'walter','huang', 'lance', 'frazier', 'christina', 'tupper']\n",
    "author_list += ['stav', 'fainshmidt', 'laurent', 'lapierre', 'elianne', 'steenbergen', 'maria', 'peeters', 'esther', 'kluwer']\n",
    "author_list += ['lapierre', 'laurent', 'yanhong', 'kwan', 'kwong', 'direnzo', 'shao', 'ping', 'james', 'lavelle', 'christopher', 'rupp']\n",
    "author_list += ['herda', 'randall', 'hargrove', 'meghan', 'thornton', 'lugo', 'gary', 'mcmahan', 'allan','sara', 'willis','tian', 'seth']\n",
    "author_list += ['kaplan', 'carol', 'wong', 'kwok', 'leungjie', 'wang', 'author', 'alexander', 'lewisjonathan', 'clark','yuan', 'zhang']\n",
    "author_list += ['xiao', 'ming', 'tian', 'zhaoli', 'song', 'richard', 'arvey', 'junchao', 'jason','tyler','burch','thomas','bertolt']\n",
    "author_list += ['meyer','meir', 'shemla','jürgen']\n",
    "author_list += ['wegge', 'schaubroeck', 'anita', 'keller', 'junchao', 'jason', 'barnes', 'cristiano', 'guaranalin', 'wang', 'jian']\n",
    "author_list += ['liang','crystal',  'farh','liaohui', 'chun', \"chenwei\", \"liao\", 'sandy', \"wayne\"]\n",
    "author_list += [\"rousseau\", \"weipeng\", \"wang\", \"wang\", 'dirk', 'lindebaumdeanna', 'geddes', 'dirk', 'lindebaumpeter','jordan']\n",
    "author_list += ['jukka', 'lipponen','barbara', 'wisse','jolanda', 'jetten', \"songqi\", 'aleksandra', \"luksyte\", \"zhou\",'leigh']\n",
    "author_list += ['anne','jian', 'dong', 'zhang', 'subrahmaniam', 'tangirala', 'cynthia', 'parker', 'natalia','lorinkovasara']\n",
    "author_list += ['jansen', 'perry', 'fuli', 'kwok', 'leung', 'krishna', 'savani', 'morris', 'aleksandra']\n",
    "author_list += ['luksytechristiane', 'spitzmueller', 'aleksandra', 'luksyte', 'kerrie', 'unsworth', 'avery','luria', \"luria\"]\n",
    "author_list += ['yuval', \"kalish\", 'miriam', \"weinstein\", 'luria', 'allon', 'kahana', 'judith', 'goldenberg', 'yair', 'noam']\n",
    "author_list += ['jeremy', 'mackey', 'charn', 'mcallister', 'brees', 'huang', 'jack', 'carson', 'leticia', 'maia', 'antônio', 'virgílio']\n",
    "author_list += ['bittencourt', 'bastos', 'nathanaël', 'solinger', \"muhammad\", 'abdur', 'rahman', \"malik\", 'arif', \"butt\", \"choi\"]\n",
    "author_list += ['muhammad', 'malik', 'nazir', 'butt', \"charles\", \"manz\", 'bruce', \"skaggs\", 'craig', \"pearce\", \"wassenaar\"]\n",
    "author_list += [\"mark\", \"martinko\", \"harvey\", \"mackey\", 'suzanne','masterson', 'courtney','mastersonjenny','hoobler', 'john']\n",
    "author_list += ['mathieu', \"fadel\", 'matta', 'tuğba', 'erol', 'korkmaz', 'russell', 'johnson', 'pinar']\n",
    "author_list += [\"b𝚤çaks𝚤z\", \"korkmaz\", \"johnson\", 'ella', 'miron', 'spektor', 'susannah', 'paletz', 'chun', 'rebecca']\n",
    "author_list += ['mitchellbrendan', 'boyle', 'darya', 'moghimi', 'zacher', 'susanne', 'scheibe', 'nico', 'yperen', \"tassilo\", \"momm\"]\n",
    "author_list += ['gerhard', \"blickle\", 'yongmei', 'andreas', \"wihler\", 'mareike', \"kholin\", 'jochen', \"menges\", 'francesco']\n",
    "author_list += ['montani','massimo', 'maoret','lucas', 'dufour', 'diego', 'montano', 'anna', 'reeske', 'franziska', 'franke']\n",
    "author_list += ['joachim', 'hüffmeier', 'frank','ramona', 'bobocel', 'michael','mumfordyitzhak', 'fried', 'timothy','munyonrachel']\n",
    "author_list += ['kane', 'frieder', 'charles', 'murnieks', 'anthony', 'klotz', 'teresa', 'müllercornelia']\n",
    "author_list += ['niessen', 'mohamed', 'ikram', 'nasr', 'assâad', 'akremi', 'jacqueline', 'coyle', 'shapiro', \"eitan\", \"naveh\",'katz']\n",
    "author_list += [\"navon\",\"stern\", 'thomas','nglorenzo', 'lucianetti', 'jessica','nicklinpaul','spector', 'cornelia', 'niessen', 'müller']\n",
    "author_list += ['sabine', 'hommelhoff', 'mina', 'westman', 'karen', 'nivenluke']\n",
    "author_list += ['boorman', 'norton', 'stacey', 'neal', 'ashkanasy', 'rikki', 'nouri', 'erez', 'jian', 'liang', 'brendan', 'bannister']\n",
    "author_list += ['warren', 'chiu', 'kimberly',\"brienterry\",'beehr', 'jane', \"learyjörgen\", 'sandberg', 'anna', 'carmella']\n",
    "author_list += ['ocampo', 'kohyar', 'kiazad', 'jacoba', 'oedzes', 'gerben', 'vegt', 'floor', 'rink', 'walter', 'florian', 'offergelt']\n",
    "author_list += ['klaus', 'moser', 'shaw','brian', 'holtz','seongsu','sandra', 'ohly','sabine', 'sonnentag','franziska', 'pluntke', 'hakan']\n",
    "author_list += ['ozcelik', 'youngah', 'parkverena','haun', 'youngah']\n",
    "author_list += ['parkjustin','sprung', \"vesa\", \"peltokorpi\", \"allen\", 'fabian', \"froese\",\"pengdongkyu\",'chunyan', 'pengwei', 'zeng']\n",
    "author_list += ['mark','petersontais', 'siqueira', 'barreto', 'mark', 'edward', 'pickering']\n",
    "author_list += ['matthew','piszczek', 'pollack', 'ernest', \"boyle\", 'corinne', 'post', 'roman', 'prem', 'sandra', 'ohly']\n",
    "author_list += ['kubicek', 'korunka', 'manuela', 'priesemuthregina','taylor', 'alexander', 'pundtlaura', 'venz', 'minya', 'duan']\n",
    "author_list += [\"yilong\", \"direnzo\", 'yilong', \"duan\", 'jennifer','ragsdaleterry','beehr', 'stefan', 'razinskasmartin']\n",
    "author_list += ['hoegl', 'young', 'rheejin', 'choi', 'kirsten', 'robertsonjane', \"reilly\", 'mark','roehlingjason', 'huang']\n",
    "author_list += ['jade', 'talbot', 'alex', 'rubenstein', 'kammeyer', 'mueller', 'tomas', 'thundiyil', 'jörgen', 'sandbergharidimos']\n",
    "author_list += ['tsoukas', 'carsten','schermulybertolt', 'meyer', \"pauline\", \"schilpzand\", 'irene', \"pater\", 'amir', \"erez\"]\n",
    "author_list += ['benjamin', 'schneider', 'allison', 'yost', 'kropp', 'cory', 'kind', 'holly', 'jeremy','schoen', 'selenko','mäkikangas']\n",
    "author_list += ['stride','shan','joshua', 'keller','damien', 'joseph', 'ping']\n",
    "author_list += ['shao','andrew','mary', 'mawritz', \"meir\", \"shemla\", 'bertolt', \"meyer\", 'lindred', \"greer\", 'shung']\n",
    "author_list += ['shin','feirong', 'yuan','jing', 'zhou', 'shockley', 'heather', 'ureksoy', 'ozgun', 'burcu', 'rodopman']\n",
    "author_list += ['poteat', 'ryan', 'dullaghan', 'shoham','almor','smahammad','jost']\n",
    "author_list += ['siewekebin', 'zhao', 'barjinder', 'singh', 'margaret', 'shaffer', 'selvarajan', 'adam', 'smale', 'silvia', 'bagdadli']\n",
    "author_list += ['rick', 'cotton', 'dello', 'russo', 'dickmann', 'martina', 'gianecchini', 'kaše', 'mila', 'lazarova', 'reichel', 'rozo']\n",
    "author_list += ['marijke', 'verbruggen', 'ifedapo', 'adeleye', 'maike', 'andresen', 'eleni', 'apospori', 'olusegun', 'babalola']\n",
    "author_list += ['briscoe', 'seok', 'katharina', 'chudzikowski', 'nicky', 'dries', 'petra', 'eggenhofer', 'rehart', 'zhangfeng']\n",
    "author_list += ['martin', 'gubler', 'douglas', 'svetlana', 'khapova', 'najung', 'evgenia', 'lysova', 'sergio', 'madero', 'debbie']\n",
    "author_list += ['mandel', 'wolfgang', 'mayrhofer', 'biljana', 'bogićević', 'milikić', 'sushanta', 'kumar', 'mishra', 'chikae', 'naito']\n",
    "author_list += ['emma', 'parry', 'noreen', 'saher', 'richa', 'saxena', 'nanni', 'schleicher', 'florian', 'schramm', 'pamela', 'mami']\n",
    "author_list += ['taniguchi', 'julie', 'unite']\n",
    "author_list += [\"bryan\", \"acton\",\"roseanne\", \"foti\", \"robert\", \"lord\", \"jessica\", \"gladfelter\", \"mats\"]\n",
    "author_list += [\"alvesson\",\"katja\", \"einola\", 'steina', 'jantonak', \"john\", \"antonakis\", \"samuel\", \"bendahan\", \"philippe\"]\n",
    "author_list += [\"jacquart\", \"rafael\", \"lalive\", \"george\", \"banks\", \"nicolas\", \"bastardoz\", \"michael\", \"cole\", \"david\",\"alice\"]\n",
    "author_list += [\"eagly\", \"olga\", \"epitropaki\"]\n",
    "author_list += [\"william\", \"gardner\", \".\", 'alexander', \"haslam\", \"hogg\", \"ronit\"]\n",
    "author_list += [\"kark\", \"kevin\", \"lowe\", \"philip\", \"podsakoff\", \"seth\", \"spain\", \"janka\", \"stoker\", \"niels\", \"quaquebeke\"]\n",
    "author_list += [\"mark\", \"vugt\", \"dusya\", \"vera\", \"roberto\", \"weber\", \"nicolas\", \"bastardoz\",\"mark\", \"vugt\", 'stephane']\n",
    "author_list += ['brutus', 'shawn', 'burke', 'dana', 'sims', 'elizabeth', 'lazzara', 'eduardo', 'salas', 'abraham', 'carmeli']\n",
    "author_list += ['meyrav', 'yitzack', 'halevi', \"david\", \"carrington\", \"combe\", \"mumford\", 'jingnan', 'chen', \"minyoung\", \"cheong\"]\n",
    "author_list += [\"francis\", \"yammarino\", \"shelley\", \"dionne\", \"chou\", \"tsai\",'cheng', \"steve\",\"shin\", 'guang']\n",
    "author_list += [\"liang\", \"amon\", \"chizema\",\"ganna\", \"pogrebna\", 'neil', 'stewart', \"joseph\", \"crawford\",'anne', \"kelder\", \"stéphane\"]\n",
    "author_list += [\"côté\", \"paulo\", \"lopes\", \"peter\", \"salovey\", \"christopher\", \"miners\"]\n",
    "author_list += ['uqbweave', 'david',\"david\", \"hock\", 'peng',\"belle\", \"derks\",\"colette\", \"laar\",\"naomi\", \"ellemers\", 'shelley', 'dionne']\n",
    "author_list += ['yvonne', 'budden', 'nathan',\"bassam\", \"farah\", \"rida\"]\n",
    "author_list += [\"elias\", \"cristine\", \"clercy\", \"glenn\", \"rowe\", 'christopher', 'watkins', \"louis\", \"sean\", \"hannah\", \"noel\"]\n",
    "author_list += [\"fred\", \"walumbwa\", \"zachary\", \"garfield\", \"rueden\", \"edward\", \"hagen\", 'geys', 'steffen', 'giessner']\n",
    "author_list += ['daan', 'knippenberg', 'sleebos', \"laura\", \"giurge\", \"marius\", \"dijke\", \"michelle\", \"zheng\", \"cremer\", 'design']\n",
    "author_list += ['unit', 'london', 'school', 'economics','activepdf', 'kelly', 'hannum', \"anna\", 'luca', \"heimann\"]\n",
    "author_list += [\"ingold\", \"martin\", \"kleinmann\", \"nathan\", \"hiller\", \"hock\", 'peng', \"ajay\", \"ponnapalli\", \"sibel\", \"ozgen\"]\n",
    "author_list += ['crystal', 'hoyt', 'stefanie', 'johnson', 'susan', 'elaine', 'murphy', 'kerry', 'hogue', 'skinnell', 'hendrik']\n",
    "author_list += ['huettermann', 'sebastian', 'doering', 'sabine', 'boerner', \"hughes\", \"allan\", \"tian\", \"alex\", \"newman\", \"alison\"]\n",
    "author_list += [\"legood\", 'center', 'applied', 'social', 'research', 'dongil', 'jung', 'francis', 'yammarino',\"thomas\"]\n",
    "author_list += [\"kelemen\", \"matthews\", \"kimberley\", \"breevaart\", 'michael', 'kosfeld', \"lindie\", \"liang\", \"douglas\", \"brown\"]\n",
    "author_list += [\"huiwen\", \"lian\", \"hanig\", 'lance', \"ferris\", \"lisa\", \"keeping\", \"jukka\", \"lipponen\", \"janne\", \"kaltiainen\"]\n",
    "author_list += [\"werff\", \"niklas\", \"steffens\", \"jeffrey\", \"lovelace\", \"brett\", \"neely\", \"julian\", \"allen\", \"hunter\"]\n",
    "author_list += ['bourgoin', \"charles\", \"reilly\", \"bernadette\", \"doerr\", \"caldwell\", \"jennifer\", \"chatman\", \"reilly\"]\n",
    "author_list += ['dawn', 'eubanks', \"philip\", \"podsakoff\",\"nathan\", \"podsakoff\", \"therese\", \"reitan\",\"sten\"]\n",
    "author_list += [\"stenberg\", 'chester', 'schriesheim', 'joshua', 'terri', 'scandura', 'jeroen', 'staff', \"maria\"]\n",
    "author_list += [\"tims\", \"arnold\", \"bakker\", \"despoina\", \"xanthopoulou\", \"chou\", \"tsai\", 'chih', \"wang\", 'shiuan', \"cheng\"]\n",
    "author_list += [\"herman\",\"huang\",\"wing\",'hardin','kragt','djohnston', 'billings']\n",
    "author_list += [\"fred\", \"walumbwa\", \"peng\", \"john\", \"schaubroeck\", \"bruce\", \"avolio\", 'user', \"philip\", \"yang\"]\n",
    "author_list += [\"riepe\", \"katharina\", \"moser\", \"kerstin\", \"pull\", \"siri\", \"terjesen\", \"christian\", \"zehnder\", \"holger\"]\n",
    "author_list += [\"herz\", \"jean\", 'philippe', \"bonardi\", 'school', 'business', 'msmhh']\n",
    "author_list += ['ambika', 'ambika', 'natalie', 'allen', 'tracy', 'hecht', 'neil', 'anderson', 'sarah', 'sleap', 'nikos']\n",
    "author_list += ['bozionelos', 'adam', 'butler', 'amie', 'skattebo', 'john', 'cordery', 'kevin', 'daniels', 'claire', 'harris']\n",
    "author_list += ['briner', 'taru', 'feldt', 'mika', 'kivimaumlki', 'anne', 'rantala', 'asko', 'tolvanen', 'donald', 'gardner']\n",
    "author_list += ['linn', 'dyne', 'pierce', 'filip', 'lievens', 'frederik', 'anseel', 'adam', 'meade', 'james', 'meindl']\n",
    "author_list += ['paul', 'paulus', 'karen', 'charlie', 'reeve', 'eric', 'heggestad', 'astrid', 'richardsen','zhao','zhou','jing']\n",
    "author_list += ['monica', 'martinussen', 'anit', 'somech', 'anat', 'drach', 'zahavy', 'gigi', 'sutton', 'mark', 'griffin']\n",
    "author_list += ['william', 'turnley', 'mark', 'bolino', 'scott', 'lester', 'james', 'bloodgood', 'joan', 'horn', 'toon', 'taris']\n",
    "author_list += ['wilmar', 'schaufeli', 'paul', 'schreurs', 'fred', 'walumbwa', 'peng', 'wang', 'john', 'lawler']\n",
    "author_list += ['michael', 'west', 'felix', 'brodbeck', 'andreas', 'richter', 'mark', 'wilson', 'david', 'dejoy']\n",
    "author_list += ['robert', 'vandenberg', 'hettie', 'richardson', 'allison', 'mcgrath', 'ambika','david','micheal']\n",
    "author_list += ['elena','belogolovsky','peter','bamberger','karlene','roberts','chris','bingham','campbell','seung','hwan','jeong','scott','graffin']\n",
    "author_list += ['robert','messen','andrew','carton','brice','roberts','dattée','oliver','alexy','erkko','autio','sreedhari','desai','patricio']\n",
    "author_list += ['duran','nadine','kammerlander','marc','essen','thomas','zellweger','john','joseph','wshong','gokhan','ertug','tamar','yogev']\n",
    "author_list += ['yonghoon','lee','peter','hedström','kibler','ewald','markus','perkmann','brenda','flannery','douglas','michael','florin','lubatkin']\n",
    "author_list += ['william','schulze','raghu','garud','sanjay','jain','arun','kumaraswamy','gerard','george','christopher','corbishley','jane','khayesi']\n",
    "author_list += ['martine','haas','laszlo','tihanyi','wakenshaw','gibbons','deborah','brian','gunia','joo','hun','han','saehee','kang']\n",
    "author_list += ['rebecca','kehoe','david','lepak','hausknecht','nathan','hiller','robert','vance','hitt','tina','dacin','edward','levita']\n",
    "author_list += ['jean','arregle','luc','anca','borza','fmurray','philippe','jacquart','antonakis','jason','jay','fuller','elfenbeinh','cynthia']\n",
    "author_list += ['kim','jensen','lorraine','crystal','hkpu','margaret','luciano','amy','bartels','lauren','innocenzo','travis','maynard','mathieu']\n",
    "author_list += ['hardy','smagui','johanna','mair','ignasi','marti','marc','ventresca','dellring','jcarson','mmcardle','erez','mia','mathieu']\n",
    "author_list += ['monin','niels','noorderhaven','eero','vaara','kroon','jeroen','neckebrouck','gina','dokko','lisa','hisae','nishii','sonja']\n",
    "author_list += ['opper','donde','ashmos','plowman','lakami','baker','tammy','beck','mukta','kulkarni','stephanie','solansky','deandra','villarreal']\n",
    "author_list += ['ridge','ingram','aaron','hill','bloy','drew','harry','dwight','lemke','richard','dino','staf','guillaume','soenen']\n",
    "author_list += ['tessa','melkonian','maureen','ambrose','evans','bennett','tepper','nikolaos','dimotakis','schurer','lambert','joel','koopman','fadel']\n",
    "author_list += ['matta','hee','man','park','wongun','goo','tepper','varkey','titus','owen','parker','francesca','gino','bass']\n",
    "author_list += ['erin','charlie','trevor','home','computer','martins','martín','esmt','european','varkey','gmbh','cwbauman','school','francesca','gino','bass']"
   ]
  },
  {
   "cell_type": "code",
   "execution_count": 39,
   "metadata": {},
   "outputs": [],
   "source": [
    "# Function to filter out the stopwords and authors names\n",
    "def filterWords(msg, words):\n",
    "    m = msg.split(' ')\n",
    "    words_end = [w + '.' for w in words]\n",
    "    filtered_words = list(filter(lambda word: word not in words, m))\n",
    "    filtered_words = [(w if w not in words_end else '.') for w in filtered_words]\n",
    "    result = ' '.join(filtered_words)\n",
    "    return(result)"
   ]
  },
  {
   "cell_type": "code",
   "execution_count": 40,
   "metadata": {},
   "outputs": [],
   "source": [
    "data_proc_auth = [filterWords(f, author_list) for f in pdf_p] "
   ]
  },
  {
   "cell_type": "code",
   "execution_count": 42,
   "metadata": {},
   "outputs": [],
   "source": [
    "#data_proc_auth[2]"
   ]
  },
  {
   "cell_type": "code",
   "execution_count": 44,
   "metadata": {},
   "outputs": [],
   "source": [
    "stopwords = ['a', 'about', 'above', 'across', 'after', 'afterwards']\n",
    "stopwords += ['again', 'against', 'all', 'almost', 'alone', 'along']\n",
    "stopwords += ['already', 'also', 'although', 'always', 'am', 'among']\n",
    "stopwords += ['amongst', 'amoungst', 'amount', 'an', 'and', 'another']\n",
    "stopwords += ['any', 'anyhow', 'anyone', 'anything', 'anyway', 'anywhere']\n",
    "stopwords += ['are', 'around', 'as', 'at', 'back', 'be', 'became']\n",
    "stopwords += ['because', 'become', 'becomes', 'becoming', 'been']\n",
    "stopwords += ['before', 'beforehand', 'behind', 'being', 'below']\n",
    "stopwords += ['beside', 'besides', 'between', 'beyond', 'bill', 'both']\n",
    "stopwords += ['bottom', 'but', 'by', 'call', 'can', 'cannot', 'cant']\n",
    "stopwords += ['co', 'computer', 'con', 'could', 'couldnt', 'cry', 'de']\n",
    "stopwords += ['describe', 'detail', 'did', 'do', 'done', 'down', 'due']\n",
    "stopwords += ['during', 'each', 'eg', 'eight', 'either', 'eleven', 'else']\n",
    "stopwords += ['elsewhere', 'empty', 'enough', 'etc', 'even', 'ever']\n",
    "stopwords += ['every', 'everyone', 'everything', 'everywhere', 'except']\n",
    "stopwords += ['few', 'fifteen', 'fifty', 'fill', 'find', 'fire', 'first']\n",
    "stopwords += ['five', 'for', 'former', 'formerly', 'forty', 'found']\n",
    "stopwords += ['four', 'from', 'front', 'full', 'further', 'get', 'give']\n",
    "stopwords += ['go', 'had', 'has', 'hasnt', 'have', 'he', 'hence', 'her']\n",
    "stopwords += ['here', 'hereafter', 'hereby', 'herein', 'hereupon', 'hers']\n",
    "stopwords += ['herself', 'him', 'himself', 'his', 'how', 'however']\n",
    "stopwords += ['hundred', 'i', 'ie', 'if', 'in', 'inc', 'indeed']\n",
    "stopwords += ['interest', 'into', 'is', 'it', 'its', 'itself', 'keep']\n",
    "stopwords += ['last', 'latter', 'latterly', 'least', 'less', 'ltd', 'made']\n",
    "stopwords += ['many', 'may', 'me', 'meanwhile', 'might', 'mill', 'mine']\n",
    "stopwords += ['more', 'moreover', 'most', 'mostly', 'move', 'much']\n",
    "stopwords += ['must', 'my', 'myself', 'name', 'namely', 'neither', 'never']\n",
    "stopwords += ['nevertheless', 'next', 'nine', 'no', 'nobody', 'none']\n",
    "stopwords += ['noone', 'nor', 'not', 'nothing', 'now', 'nowhere', 'of']\n",
    "stopwords += ['off', 'often', 'on','once', 'one', 'only', 'onto', 'or']\n",
    "stopwords += ['other', 'others', 'otherwise', 'our', 'ours', 'ourselves']\n",
    "stopwords += ['out', 'over', 'own', 'part', 'per', 'perhaps', 'please']\n",
    "stopwords += ['put', 'rather', 're', 's', 'same', 'see', 'seem', 'seemed']\n",
    "stopwords += ['seeming', 'seems', 'serious', 'several', 'she', 'should']\n",
    "stopwords += ['show', 'side', 'since', 'sincere', 'six', 'sixty', 'so']\n",
    "stopwords += ['some', 'somehow', 'someone', 'something', 'sometime']\n",
    "stopwords += ['sometimes', 'somewhere', 'still', 'such', 'system', 'take']\n",
    "stopwords += ['ten', 'than', 'that', 'the', 'their', 'them', 'themselves']\n",
    "stopwords += ['then', 'thence', 'there', 'thereafter', 'thereby']\n",
    "stopwords += ['therefore', 'therein', 'thereupon', 'these', 'they']\n",
    "stopwords += ['thick', 'thin', 'third', 'this', 'those', 'though', 'three']\n",
    "stopwords += ['three', 'through', 'throughout', 'thru', 'thus', 'to']\n",
    "stopwords += ['together', 'too', 'top', 'toward', 'towards', 'twelve']\n",
    "stopwords += ['twenty', 'two', 'un', 'under', 'until', 'up', 'upon']\n",
    "stopwords += ['us', 'very', 'via', 'was', 'we', 'well', 'were', 'what']\n",
    "stopwords += ['whatever', 'when', 'whence', 'whenever', 'where']\n",
    "stopwords += ['whereafter', 'whereas', 'whereby', 'wherein', 'whereupon']\n",
    "stopwords += ['wherever', 'whether', 'which', 'while', 'whither', 'who']\n",
    "stopwords += ['whoever', 'whole', 'whom', 'whose', 'why', 'will', 'with']\n",
    "stopwords += ['within', 'without', 'would', 'yet', 'you', 'your']\n",
    "stopwords += ['yours', 'yourself', 'yourselves']\n",
    "stopwords += ['january', 'february', 'march', 'february', 'march', 'april', 'may', 'june', 'july', 'august', 'september', 'october', 'november', 'december']\n",
    "# metadata- subject\n",
    "stopwords += ['business administration', 'economics and finance']\n",
    "# author name to remove\n",
    "stopwords +=['karina nielsen','kevin daniels','elaine', 'jaewan yang','andrew O herdman','amanda', 'sabine','kerstin','kertin','sagepub','journalspermissions','catheine','chidiebere ogbonnaya','john wiley','sons ltd','martin','jeffrey B arthur']"
   ]
  },
  {
   "cell_type": "code",
   "execution_count": 45,
   "metadata": {},
   "outputs": [],
   "source": [
    "data_proc = [filterWords(f, stopwords) for f in data_proc_auth]"
   ]
  },
  {
   "cell_type": "markdown",
   "metadata": {},
   "source": [
    "# Get country name"
   ]
  },
  {
   "cell_type": "code",
   "execution_count": 46,
   "metadata": {},
   "outputs": [],
   "source": [
    "import pycountry\n",
    "\n",
    "country_list = []\n",
    "for country in pycountry.countries:\n",
    "    a = (country.name).lower()\n",
    "    country_list.append(a) "
   ]
  },
  {
   "cell_type": "code",
   "execution_count": 47,
   "metadata": {},
   "outputs": [],
   "source": [
    "data_proc_country =[]\n",
    "for j in data_proc:\n",
    "    line = j\n",
    "    for k in country_list:\n",
    "        line = re.sub(k, '', line)\n",
    "        \n",
    "    data_proc_country.append(line)"
   ]
  },
  {
   "cell_type": "code",
   "execution_count": 48,
   "metadata": {},
   "outputs": [
    {
     "data": {
      "text/plain": [
       "'best practice recommendations estimating interaction effects using meta analysis .organiz.behav. published online wiley online library wileyonlinelibrary ..researcher best practice recommendations estimating notebook correspondence street blooming copyright interaction effects using meta analysis .gottfredson .wright department management entrepreneurship kelley na university street bloomington na .department management calvin kansas state university manhattan kansas .summary advantages meta analysis quantitative literature review narrative literature review allows formal tests interaction effects relationship variables contingent value moderator variable.interaction effects play central role organizational science highlight boundary conditions theory conditions relationships change strength direction.this article describes procedures estimating interaction effects using meta analysis distills technical literature general readership organizational science researchers includes specific best practice recommendations regarding actions researchers data collection improve accuracy substantive conclusions regarding interaction effects investigated meta analytically.copyright wiley sons .keywords meta analysis methodology synthesis literature review introduction interaction labeled moderating effects provide information relationship variables contingent value variable gottfredson press .understanding theory moderators means understand theory boundary conditions.thus understanding interaction effects issue theory development testing practical applications theory. goal article provide overview best practice recommendations regarding test hypotheses assess possible presence magnitude interpret interaction effects using meta analysis.there extensive body technical literature meta analysis.much literature quite specialized including analytic work mathematically sophisticated monte carlo simulations involving lengthy complex procedures results. nature work easily accessible researchers usual methodological statistical background obtained doctoral level training organizational sciences.accordingly manuscript distills technical literature general readership includes specific bestpractice recommendations researchers able implement quest interaction effects using meta analysis.herman department management entrepreneurship kelley na university mail haguinis na wiley sons .received accepted .aguinis .estimating interaction effects meta analytically meta analysis refers family data collection analysis techniques goal produce quantitative review body literature. word meta indicates meta analysis occurs later transcends original analysis. meta analysis consists extracting effect size estimates studies conducted previously computing summary study effect size variance estimates.meta analyzed effect sizes extracted studies using experimental providing evidence regarding causality passive observational providing evidence regarding covariation designs.based gathering primary level study effect sizes meta analysts principal goals estimate overall strength direction effect relationship estimate study variance effect relationship estimates factors moderator variables explain variance bosco dalton dalton press .this second goal involves investigation interaction effects.meta analysts assessing interaction effects face numerous choices regarding doing .however meta analysts seldom explain justify choices. noted sturman meta analysts choose specific meta analytic technique based habit availability familiarity specific software package usage trends specific topic areas relative merits available approaches biggest challenges faced researchers interested testing interaction effect hypotheses meta analytically specific steps data collected choose choices available conducting meta analysis given options available. choice researcher faces type meta analytic model established choices random effects model fixed effect common effect model.these models different underlying assumptions choice model affect substantive conclusions regarding presence moderating effects. model assumes studies metaanalysis random sample superpopulation possible studies superpopulation true effect sizes normally distributed. model variance distribution observed effects attributed study variance mainly sampling error study variance differences true effect sizes superpopulation contrast model assumes common true effect underlying distribution observed effects.hence model variance distribution observed effect sizes attributed solely study sampling variance. confidence interval mean effect size wider using model compared model confidence interval describing large superpopulation likely heterogeneous effect sizes confidence interval describing small subset homogeneous superpopulation effect sizes.should meta analyst choose model. organizational science model appropriate choice .using model allows study variance value including zero model forces study variance zero.thus model conceptualized general case model specific case model betweenstudy variance true effect sizes assumed zero.however realize benefits meta analysis important assumptions satisfied observed effect sizes randomly sampled superpopulation true effect sizes superpopulation true effect sizes normally distributed bonett press .schulze warned random studies assumption potentially limitation model. addition superpopulation norty assumption taken lightly inferential methods perform poorly minor deviations norty bonett press .alternatively model appropriate primary level studies included metaanalysis functionally identical borenstein hedges higgins rothstein chapter .this condition rarely exists organizational primary level studies include samples participants exactly population team researchers measures independent dependent variables procedures aspects study.this type copyright wiley sons ..organiz.behav. interaction effects meta analysis meta analysis occur biological medical health sciences. example team researchers conduct separate randomized trial studies examining effect drug using samples population individuals exactly procedures study conduct subsequent metaanalysis using effect size estimates. situation impossible organizational sciences. short meta analysis difficult justify organizational research.alternatives traditional methods varying coefficient methods proposed bonett press .like methods methods assume equality effect sizes studies unlike methods methods rely random studies normal distribution superpopulation effect sizes assumptions.however methods limitation methods provide inferences subset superpopulation. methods preferred methods random studies assumption superpopulation norty assumption justified methods preferred methods.another advantage approach availability confidence interval methods assessing magnitude interaction effects bonett press .once meta analytic model chosen second important choice meta analysts face type effect size estimate extract primary level studies.usually choice pearson correlation coefficient standardized difference group means .once choice types statistics reported primary level studies means standard deviations converted chosen focal effect size .those researchers cumulate tend schmidt meta analytic approach meta analyze tend procedures developed hedges colleagues borenstein hedges olkin hedges vevea choice regarding focal effect size forced software packages available conduct metaanalysis schmidt programs focus schmidt approach comprehensive metaanalysis focuses hedges .approach. technically possible implement schmidt approach using schmidt chapter hedges .approach using .however rarely probably schmidt procedures developed specific domain mind personnel selection situational specificity hypothesis hypothesis validity coefficients affected contextual factors focal effect size validity coefficient expressed pearson .alternatively hedges .procedures originally designed meta analyze experimental studies typically report .another reason hedges .procedures usually implemented using schmidt procedures using analyzes fisher transformed correlations analyzes correlations.analyzing problem assumptions model satisfied.however study population correlations identical using introduces important challenges regarding interpretation results.first estimator reversetransformed average biased models .second parameters meta regression model later article meaningful interpretation slope parameters changes values values.third variance true effect sizes superpopulation refers variance instead correlations lead ambiguous interpretations.note interpretation slope coefficients does pose challenges modeling .there clear divide terms researchers cumulate versus subsequent choices guided initial decision regarding focal effect size estimate.specifically dalton bosco dalton press reported cent meta analyses published academy management journal journal psychology journal management personnel psychology ppsych strategic management journal cumulated .showing precise opposite pattern results schmidt hayes reported cent meta analyses published psychological bulletin past years cumulated .most likely difference passive observational nature primary level studies meta analyzed articles published ppsych reporting experimental nature primary level studies meta analyzed articles copyright wiley sons ..organiz.behav. .aguinis .published psychological bulletin reporting .note choice implications understanding practical significance effect refers proportion variance explained outcome refers standardized differences groups.thus discussing practical significance based involves discussing relative usefulness predictor variable terms explaining fluctuations criterion variable discussing practical significance based involves discussion intervention differential effects groups.although meta analytic approaches proposed years hedges schmidt approaches remain popular estimate interaction effects using meta analysis organizational sciences dalton press .accordingly discuss approaches next.hedges .approach using hedges borenstein hedges olkin hedges vevea approach estimate interaction effects involves computing unbiased effect size estimate primary level study computing summary effect size usually mean based study level estimates. compute summary effect size study level effect size weighted inverse variance model includes study study component model includes study component only.note meta analysts assess extent heterogeneity variance true effect sizes computing statistic follows distribution number studies included meta analysis .however similar tests significance rejecting null hypothesis homogeneity caused insufficient statistical power lack heterogeneity statistical power statistic affected total sample size number primary level studies included meta analysis .thus statistical significance level used decision making tool choosing models. noted earlier decision based goals meta analysis nature primary level studies included review.rather test exact homogeneity effect sizes using statistic follow general recommendations bonett assess degree effect size heterogeneity superpopulation constructing confidence interval standard deviation true effect sizes superpopulation.methods computing confidence interval described borenstein sets statistical procedures used test presence particular moderating effects depending hypothesized moderator categorical variables values represent discrete categories gender ethnicity continuous variables limits variable range value possible satisfaction work motivation tests hypothesized categorical moderating effects primary level study assigned numerical value based moderator gender female ¼male subgrouped according coding scheme. called subgroup analysis goal examine effect sizes differ subgroups assumed differ subgroup.although types subgroup analysis algebraically equivalent yield value. type subgroup analysis resonates organizational science researchers analogous anova primary level research.this analysis involves computing subgroup statistic test difference mean subgroup effect sizes zero subgroup homogeneity statistic obtained using underlying model subgroup assuming effect sizes group share common population effect statistically significant follows distribution number subgroups suggests subgrouping variable moderator. follow analysis possible model subgroup test heterogeneity subdivide subgroups based additional hypothesized moderators. terms size moderating effect meta analysts compute value indicates proportion variance total group variance explained moderator variable.copyright wiley sons ..organiz.behav. interaction effects meta analysis meta analyst interested hypothesis regarding continuous moderator variable procedure involves conducting meta regression.similar familiar multiple regression meta regression consists regression model involving predictors potential moderators criterion weighted observed effect sizes words primary level study effect sizes regressed moderators continuous categorical.assuming situation focal effect size metric continuous moderators meta regression model d¼xbþxbr represents vector effect sizes represents vector values hypothesized moderator represents vector values hypothesized moderator represents vector residuals. statistical significance individual moderator predictor assessed computing statistic coefficient meta regression model addition confidence intervals created slope coefficient.regarding size moderating effect similar subgroup analysis categorical moderators metaanalysts compute value indicates proportion variance total group variance explained moderator variables.also examination individual regression coefficients provides estimate strength relationship moderator effect sizes.finally note moderators substantive methodological nature. example meta analyst test hypothesis measurement error continuous moderator assess degree measurement error reported primary level study predictor effect size meta regression model. effects measurement error range restriction methodological statistical artifacts variance study effect sizes receive different treatment schmidt approach described next.hunter schmidt approach similar hedges .approach goal schmidt approach estimate summary effect size primary level studies variance effects factors explain variability moderating effects .although hedges .approach implemented using model schmidt approach exclusively model. schmidt approach labeled validity generalization psychometric meta analysis.proponents psychometric approaches meta analysis extend arguments measurement theory suggesting substantial portion variability observed relationship variables primary level studies substantive result methodological statistical artifacts.psychometric meta analysis posits artifacts controlled prior data collection corrective measures data collected researchers conclude interaction effect fact source variance primary level studies artifactual substantive nature whitehead .these artifacts include sampling error error measurement independent dependent variables dichotomization continuous dependent variable dichotomization continuous independent variable range variation independent variable range variation dependent variable attrition artifacts deviation perfect construct validity independent variable deviation perfect construct validity dependent variable reporting transcriptional errors variance extraneous factors scale coarseness culpepper schmidt schmidt putka goal corrections eliminate source variance distribution primary level effect size estimates minimize study variability caused methodological statistical artifacts. step involves estimating overall variance effect sizes studies. second step involves computing variance attributed methodological statistical artifacts. variance attributed artifacts computed based information provided study reliability estimates range restriction values reported primary level studies included meta analysis using artifact distribution approach. step includes subtracting variance effect sizes artifacts total copyright wiley sons ..organiz.behav. .aguinis .variance. resulting variance actual differences true effect sizes sampling error artifacts case correlation coefficients conceptually similar hedges .approach. important difference variance estimates excludes variance attributed sampling error methodological statistical artifacts excludes variance attributed sampling error.there suggestions regarding determine hypothesis interaction effect received support. frequently used cent heuristic cent variance effectsize estimates primary level studies artifacts likely substantive variance search moderators warranted schmidt .although formal statistical justification heuristic argument meta analysts correct artifacts cause effect size estimates vary studies sufficient information implement correction factors simply uncorrectable deviation perfect construct validity independent variable transcriptional errors variance extraneous factors schmidt approach assumes correctable factors account cent study variance likely remaining variance accounted uncorrectable factors artifactual nature.also reporting credibility interval mean study effect obtained weighting primary level study sample size provides useful information regarding heterogeneity effects. example lower bound cent credibility interval value cent true effect sizes expected .finally tests categorical moderator variables similar hedges .approach studies assigned numerical value based moderator subgrouped accordingly.best practice measurement analysis recommendations estimating moderating effects using meta analysis meta analysis referred treated data analytic technique. fact implies analysis useful think meta analysis terms data analysis terms measurement. fact problems related measurement unlikely meta analysis used effectively lead important theoretical advancements.also choices primary level researchers make measurement place constraints subsequent metaanalyses. example primary level studies provide information measurement error variables correcting unreliability meta analysis turn guessing game.results metaanalysis contested grounds correction factors methodological statistical artifacts appropriate.similarly clear correspondence constructs meta analysis attempting study constructs measured primary level studies resulting analysis likely lead inconclusive results.before discussing specific best practice recommendations testing interaction effect hypotheses metaanalytically consider overarching fundamental recommendations.each recommendations stem important fairly unique challenge nature meta analysis meta analysts data collected studies designed researchers variables measured researchers. meta analysts rely choices regarding measurement primary level studies available particular domain. overarching best practice recommendation choose appropriate meta analytic model.given earlier discussion regarding methods recommendation organizational science domains methods preferred methods.copyright wiley sons ..organiz.behav. interaction effects meta analysis second overarching recommendation understand meta analysis aimed testing particular interaction effect possible given available data. fundamental issue address conduct metaanalysis test interaction hypothesis place. advantage methods used studies borenstein bonett press contrast methods require primary level studies order obtain properly performing mean effect size assuming approximate norty superpopulation effect sizes meta analysts need answer following questions studies available assessed relationship estimated.have studies implemented designs conducive valid conclusions terms construct internal external statistical conclusion validity.will meta analysis sufficient statistical power detect interaction effect exists borenstein chapter hedges pigott .only questions answered affirmative meta analysis likely lead valid conclusions. questions answered affirmative meta analysis good approach testing particular interaction effect hypothesis instead conducting primary level study researcher makes choices measurement better alternative. overarching best practice recommendation stemming secondary nature metaanalytic databases decision conduct meta analysis need spell procedures implemented choices stage meta analysis including measurement analysis.these include clear definition criteria study inclusion studies searched selected data extracted studies coding moderators took place data analyzed including decision rules testing interaction effect hypotheses publications communications board working group journal article reporting standards .replicability fundamental principle scientific endeavor particularly relevant context testing interaction effect hypotheses metaanalytically choices conducting meta analysis described explicitly great obtained results interaction effects replicated future.having described fundamental critical best practice recommendations turn specific recommendations measurement analysis.table includes summary recommendations derived sources published outside organizational sciences borenstein hedges valentine schmidt .regarding issues recommendation establish clear purpose meta analysis meta analyst select appropriate studies include review. words clear definition domain lead clear criteria study inclusion. noted bobko roth need systematic sets articles focused thinking meta analytic study purpose reflection relates choice primary studies analytic method coding .second search relevant studies conducted using keywords electronic databases using procedures ancestry searching known citation chasing .ancestry searching consists working references list contemporary references tracking prior work relied. best practice recommendation terms avoid including duplicate studies meta analysis wood inclusion duplicate studies produce substantial bias meta analytic results.wood provided detailed description procedures detecting avoiding inclusion covert overt duplicate studies meta analytic database.regarding measurement issues noted earlier regarding overarching best practice recommendations clear description coding takes place.meta analysts rely excellent advice deriving content analysis literature terms create coding protocols duriau reger pfarrer gather evidence regarding validity reliability coding process lebreton senter .second measures used primary level studies perfectly reliable. decision correct measurement error artifacts meta analysis depends interested understanding construct level measurement error free relationships operational level constructs usually assessed using fallible measures relationships. example meta analyst copyright wiley sons ..organiz.behav. table .summary best practice recommendations estimating interaction effects using meta analysis data collection recommendations .choose implement random effects varying coefficient common effect model. situations models appropriate model. methods preferred methods random studies superpopulation norty assumptions justified.assess sufficient primary level studies available conduct meta analysis specific domain determine statistical power detect hypothesized interaction effects.create thorough detailed description procedures implemented choices stage meta analysis ranging measurement analysis.define domain clearly criteria study inclusion clearly defined.search relevant studies using keywords electronic databases procedures ancestry searching .avoid including duplicate studies.create coding protocols following best practice recommendations derived content analysis literature.post data collection recommendations .gather report evidence regarding reliability validity coding protocols.implement corrections statistical methodological artifacts measurement error range restriction understanding construct level interaction effects. implement corrections observed operational relationships. schmidt approach primary level studies report applying corrections methodological statistical artifacts. meta regression methods assess theory based interaction hypotheses.assess degree effect size heterogeneity superpopulation true effect sizes constructing confidence interval true effect size superpopulation trim method estimate extent possible publication bias. .aguinis .theoretical understanding relationship satisfaction organizational citizenship behavior depends individual identification organizational goals. situation implementation corrections appropriate meta analysis answer question construct level interaction effect satisfaction goal identification .however meta analyst interested predicting specific level observed employees various levels satisfaction goal identification measurement error correction appropriate predictions perfectly reliable measures available. short implementing measurement error corrections corrections address statistical methodological artifacts range restriction dictated meta analyst purpose corrections appropriate goal understand construct level relationships results look like primary level studies conducted methodological imperfections. appropriate goal understand predict actual imperfect observed scores.regarding analysis issues noted earlier meta analysts choose .although corrections methodological statistical artifacts type effect size schmidt approach provides detailed analysis using addition primarylevel studies report converted point biserial correlations .however primary level studies report converting require artificially crippling data schmidt short recommendation schmidt procedures primary level studies report applying corrections methodological statistical artifacts.second terms testing interaction effect hypothesis researchers meta regression procedures described earlier compute confidence intervals assess size effects.finally analysis issue need consider possible publication bias rothstein whetzel .publication bias occurs appears published literature systematically unrepresentative population completed studies rothstein borenstein example publication bias studies strong positive relationship variables available copyright wiley sons ..organiz.behav. interaction effects meta analysis relationship survive peer review process reporting statistically nonsignificant results .there reasons possible presence publication bias studies contravene financial political ideological professional interests investigators sponsors journal editors.publication bias means sample studies random assumption methods violated. trim technique allows meta analysts understand publication bias potential impact goal trim method values missing studies assess value estimated summary effect size change missing studies.essentially trim technique involves inspecting funnel plot study level effect size estimates determine funnel plot asymmetrical funnel plot symmetrical possible publication bias.second funnel plot asymmetrical trim method imputes missing study level effect size estimates needed make funnel plot symmetrical adds meta analysis calculates trim adjusted mean effect size estimate.third meta analyst examines size difference value observed mean effect size estimate value trim adjusted mean effect size estimate.note trim method best current technique detecting potential publication bias does limitations important confuse true heterogeneity bias.concluding comments noted meta analysis widespread recognition indispensable tool. replaced traditional narrative assessment body better conducting literature review .meta analysis gold standard terms methodological procedures available summarize empirical evidence available guide management practice. article offered best practice recommendations implement data collected goal estimating interaction effects meta analytically. overarching recommendation procedures spelled metaanalyses fully replicable.after impetus development meta analytic methods traditional narrative reviews subjective idiosyncratic difficult replicate. terribly ironic meta analysis falls prey criticism served major impetus foundation development.author biographies professor professor organizational behavior human resources director institute global organizational effectiveness kelley na university. current interests span organizational behavior human resource management methods analysis topics.ryan .gottfredson doctoral student organizational behavior kelley na university. received bachelor degree brigham university administration major finance. current interests includes methods analysis trust violations personnel selection.thomas .wright earned .degree university california berkeley wefald leadership chair college kansas state university. current interests include copyright wiley sons ..organiz.behav. .aguinis .optimizing peak performance character based leadership finding innovative ways enhance employee health methodological topics sample size determination interval estimation'"
      ]
     },
     "execution_count": 48,
     "metadata": {},
     "output_type": "execute_result"
    }
   ],
   "source": [
    "data_proc_country[6]"
   ]
  },
  {
   "cell_type": "code",
   "execution_count": 50,
   "metadata": {},
   "outputs": [],
   "source": [
    " #save removed title\n",
    "pickle.dump(data_proc_country, open(\"C:/Thesis/Data/save/Journal_of_organizational_behavior/metadata/removed_country/metadata_all.p\", \"wb\" ) )"
   ]
  },
  {
   "cell_type": "code",
   "execution_count": 51,
   "metadata": {},
   "outputs": [],
   "source": [
    "# Authors names are saved already (code is available at author name folder-get name list notebook)\n",
    "#load authors names\n",
    "import pickle\n",
    "author_nam = pickle.load(open(\"C:/Thesis/Data/save/Master_Data/auth_ref_filter_num_char/auth_Journal_of_organizational_behavior.p\", \"rb\"))"
   ]
  },
  {
   "cell_type": "code",
   "execution_count": 52,
   "metadata": {},
   "outputs": [],
   "source": [
    "# GET REFERENCE LISTS OF STOPWORDS, I.E. WORDS THAT ARE ESSENTIALLY MEANINGLESS\n",
    "# Get all the list of authors names\n",
    "\n",
    "from nltk.corpus import stopwords\n",
    "\n",
    "sw = stopwords.words('english') + author_nam"
   ]
  },
  {
   "cell_type": "code",
   "execution_count": 53,
   "metadata": {},
   "outputs": [],
   "source": [
    "data_proc_1 = [filterWords(f, sw) for f in data_proc_country]  #running"
   ]
  },
  {
   "cell_type": "code",
   "execution_count": 59,
   "metadata": {},
   "outputs": [
    {
     "data": {
      "text/plain": [
       "'firm subgroup culture fitting most..organiz.behav. published interscience interscience ..firm subgroup culture fitting most.bryan consulting half california .leavey santa santa california .summary organizational culture profile investigated extent individuals competency organization related satisfaction.even consulting firm organization culture interpretable differences value based cultures competency firm.although forms highly correlated individual consultants culture competency organization significant predictors satisfaction.copyright .introduction past decades substantial shown culture organization implications organization ability implement strategy ability attract retain employees.when organization culture members hold shared values culture consistent organization goals generally assumed organization better able enact strategy addition individuals culture organization individual values congruent values define culture organization individuals likely satisfied likely leave organization lack congruence oilly time researchers explored effects organization culture existence subcultures organization widely observed phenomenon .subcultures develop different functions profession practice areas level organization recent review subcultures researchers typically thought organizations culture consisting fragmented collection distinct subcultures.however argue organization received revised copyright .accepted correspondence santa camino santa dcaldwell culture distinct subcultures time.they argue values organization distinguished pivotal peripheral.pivotal values values strongly organization enforced sanctions peripheral values define culture likely sanctioned.boisnier argue subcultures organization defined pivotal values organization peripheral values strongly unit.thus subcultures organization based pivotal values define culture organization peripheral values shared organization. subcultures reflect culture organization reflect unique aspects individual units. notion organization wide culture subcultures exist important implications number areas. example organizations attempt communicate potential employees values define culture organization communicate cultural values define organization specific values make subcultures unique.similarly shared values norms members influence performance strategies performance hiring managers concerned organization culture.although substantial evidence exists person organization person subunit related individual outcomes reviews knowledge systematically explored types dimensions tried identify relative influence . distinction organization culture subcultures important dynamics structures organizations change. organizations virtual lessco located reliant managed individuals teams maintaining organization culture difficult .further asserted employees connected practice skills organizations apply .thus changes organizations simultaneously weaken connections organization strengthen ties employee part.despite fact relatively empirical addressed culture practice based writers observed importance.stewart gone suggest organization values emerge organization competencies. professional skills communities practice live values .based propose individuals value based culture organization subunit predictive satisfaction work.because increasing importance competency organizations speculate predictive satisfaction present look culture consulting firm. firms culture important .because number professional employees working remote locations reliance formal control systems guide individuals problematic control systems shared values likely particularly effective important influencing individuals actions oilly .consultants firm organized practice strategy technology processes change management.although practice located regional offices undertake different types engagements .adkins .caldwell copyright ..organiz.behav. different clients.even consulting practice firm places emphasis developing common culture independent regional differences. reinforce newly hired professional employees spend formal orientation program central training facility focuses primarily firm values general processes. addition individual consultants spend year central training facility.approximately cent annual training devoted firm wide opposed regional specific practice issues. fact looking individuals type organization emphasizes organization culture suggests differences organization cultures subtle makes tests differences conservative.because culture likely reflect values organization finegrained method assessing values particularly useful.therefore assessed culture firm practice organizational culture profile oilly .this ipsative measure used develop profile relative importance values describing culture organization . used develop profile relative desirability values individual.thus assess similarity profiles different cultures individual preferences culture wide range values.organizational context method overview separate respondents provided data . respondents used provide description culture organization. second conducted consulting firm consultants organized distinct competency based practice groups.although share offices concentrates different types problems client companies manages client engagements. strategy approximately cent firm consultants provides advice term strategy client companies.this typically executives client organizations regarding topics mergers divestitures product market strategies. technology cent consultants clients implement maintain technology systems. example consultants facilitate exchange divisions automate process reduce costs. process cent consultants engages implementation engineering process improvement projects advises clients topics outsourcing tactical systems. change cent consultants undertakes projects associated supporting change efforts client organizations focusing issues including training organization . collected data consultants regional offices.firm subgroup culture copyright ..organiz.behav. subgroups used instrument culture competency based organization. used cultural values desired organization.this completed measure satisfaction.sampling strategy executives organization informed anticipate response rate approximately cent survey. estimated need approximately individual respondents provide adequate relations individuals organization competency satisfaction. randomly generated employees consultants managers partners representing competency asked complete values desired ideal organization complete measure satisfaction.based previous assessing culture oilly sort based assessments estimated minimum respondents competency allow develop reliable sort based assessments competency culture.because anticipated response rate randomly generated individuals practice asked values characteristic competency group.finally surveyed partners managers create organizational culture profile.since told anticipate response rate cent random managers partners asked complete based values believed characteristic culture firm.participants reminders final included individuals described values desired response rate cent individuals describing organization culture response rate cent individuals describing culture competency response rate cent including respondents strategy change technology practices group.although response rates absolute number responses roughly consistent anticipated. final cent respondents male cent average tenure .years. respondents possessed bachelors degree cent possessed graduate degree. respondents cent partners associate partners cent managers consultants.because response rates compared demographic characteristics respondents population firm. general respondents representative population exception final slightly longer tenure average firm.this surprising oversampled partners.there significant differences population regarding gender percentage individuals assigned competency groups.measures organization culture culture desired culture assessed cultures organization practice oilly instrument contains value statements emerged review popular academic writings organization culture assessing things risk taking .adkins .caldwell copyright ..organiz.behav. flexibility concern individuals. individuals assessing organization culture sorted items categories based characteristic firm. individuals assessing subcultures competency based sorted items terms characteristic individual member. individuals used sort items terms type culture prefer used forced distribution process items categories ranging desirable undesirable individual outcome measure satisfaction measured scale developed internal consistency measure satisfactory alpha¼ .control variables organization placed emphasis training socializing hires longer tenured employees used total days training individual received measure level socialization used dummy variables practice control differences. included analyses satisfaction.results organization competency culture assessing relative importance necessary develop reliable description organization cultures.recall separate raters completed competency organization. calculated averages developed profile based averages. used variation general prophecy formula calculate coefficient alpha . coefficient alpha scores ranged aggregated profiles. calculated median pairwise correlation raters organization culture profiles.these ranged .this level agreement consistent greater reported agreement concluded .these results suggest profiles competency organization reliable number respondents assessing competency based . assess extent competency distinct cultures organization calculated correlation coefficients profiles. correlations profiles ranged indicating cultures competency organization quite similar.even profiles items categorized follows characteristic desirable items quite characteristic items fairly characteristic items somewhat characteristic items characteristic uncharacteristic items somewhat uncharacteristic items fairly uncharacteristic items quite uncharacteristic items uncharacteristic items. interpretation reliability coefficient based sort data different nomothetic data used represents similarity individuals profiles aggregrated profile estimate likely obtain profile expanded.firm subgroup culture copyright ..organiz.behav. cultures competency significantly related step differed specific elements culture.previous investigations oilly reported value items reflect seven factors including innovation stability orientation outcome orientation easygoing orientation orientation. identify differences subcultures calculated scores seven factors averaging scores specific value statements loaded comparing separate anovas. shown table significant differences dimensions stability orientation orientation orientation.significant differences existed innovation outcome orientation easygoing dimensions.overall results suggest interpretable differences subcultures organization culture.these difference suggest useful explaining individual satisfaction.person organization person recall respondents used organization culture desired. noted individual respondents contributed organization competency culture profiles. calculated correlating individual profile organization profile appropriate competency profile.thus individual received scores based profile organization culture based profile competency member.overall individuals correlations ranged range correlations .there significant difference measures.these scores highly correlated .this high correlation scores surprising similarity subcultures organization culture. determine relations satisfaction conducted hierarchical regression analyses. step entered control variables practice previous socialization. second step entered .these results shown table results regression analyses nearly identical. separate equations explained significance amounts variance satisfaction controlling practice socialization.these results table .mean dimensions innovation easygoing stability outcome orientation orientation orientation orientation organization .change .group strategy .process .group technology .overall common subscript differ significantly .adkins .caldwell copyright ..organiz.behav. consistent previous shows value based individual culture related individual outcomes satisfaction. .because high correlation measures assessing independent contributions types satisfaction difficult. example including measures regression equation introduces collinearity problems make impossible accurately assess independent contributions variables.therefore forced indirect ways determine type important.first calculated difference included regression equation control variables.although problems difference scores logic difference score provide indirect measure relative strength types person measure level .this analysis essentially replicated model shown table added difference score step. steps analysis identical reported table .adding difference score step explained marginally variance affect beta¼ .although results weak analysis suggests exploring useful understanding individuals affect.second attempted identify specific areas differed looking differences scores competency groups.since approximately assumed cent respondents score measure. calculated square tests determine distribution scores differed expected.when scores competency examined distribution scores individuals significantly differ expected distribution cent chisquare¼ .however analysis conducted competency different pattern emerged. change process competency percentage individuals scores scores greater expected change square¼ process square¼ results opposite competency . greater percentage individuals technology strategy competency closely culture organization culture technology square¼ strategy square¼ .taken results suggest table .hierarchical regression results individual satisfactiony model model control variables process .strategy .change .socialization .change change adjusted .overall yentries standardized regression coefficients.signs reversed positive values associated levels individual affect. .firm subgroup culture copyright ..organiz.behav. difference differences exist specific competency groups.this indirect evidence exploring useful developing understanding person situation interactions.discussion consistent previous related individuals satisfaction . contrast looked types simultaneously values both.overall similar relations satisfaction.this doubt fact cultures organization competency similar.this similarity surprising competency based consulting organization sought present consistent face clients. addition firm invests substantial resources wide training socialization including central facility consultants spend substantial time.although speculated predictive satisfaction directly supported. effect observed organizations distinct. example relevant distinct units engaged different types differences culture organization culture pronounced.this allow realistic competitive types .even organization seeks develop consistent culture indirect evidence distinct cultures emerge related satisfaction.competency differed dimensions culture differed organization culture. competency organization. recruit select based subculture greater extent socialize consultants competency groups.clearly necessary explore differences cultures emerge relative contributions culture satisfaction. proved viable tool simultaneous assessment individual organizational culture profiles. provide detailed portraits values characteristic organization subgroups individual allow direct comparisons entities.these comparisons level grained level. specific items sort based assessment approaches used develop specific clinical portraits based specific items ranked .although specific items amenable sophisticated statistical analysis portrait provide understanding specific values person organization.there number factors limit generalizability results.first noted firm studied operated industry sought build organization culture. diversified firms compete subcultures differentiated. site provides overly conservative phenomenon. second limitation comes size response rates.although anticipated response rate sampled accordingly questions certainly raised extent response rate distorted results quite representative firm. addition number individuals providing profiles cultures competency based troublesome. reliability sort data assessed .adkins .caldwell copyright ..organiz.behav. differently nomothetic data estimates reliability consistent typically reported published sort measures including .despite number responses invites questions regarding assessments.third ways assessing culture different strengths weaknesses. chose assess complete values define culture. view important comparing cultures assessing congruence risk omitting important salient values distort results.however ideographic ipsative measure limits statistical techniques summary sharing values organization person belongs important.these results suggest important relative importance difficult determine precisely.what results suggest discernible subcultures exist managers potentially increase satisfaction employees systematically attempting improve individual culture group.group cultures easier change organization cultures directly indirectly affect important outcomes .further conclusions suggest organizations concerned ability establish maintain employee connections virtual environment focusing subcultures organization culture.author biographies affiliated consulting. received doctorate primary area organizational culture particularly applies communities practice knowledge organizational learning.david patricia professor leavey santa . received ucla current interests include person organization innovation organizations.'"
      ]
     },
     "execution_count": 59,
     "metadata": {},
     "output_type": "execute_result"
    }
   ],
   "source": [
    "data_proc_1[2]"
   ]
  },
  {
   "cell_type": "code",
   "execution_count": 56,
   "metadata": {},
   "outputs": [],
   "source": [
    "data_proc_2 = [re.sub(' \\.+', ' ', f) for f in data_proc_1]\n",
    "data_proc_2 = [re.sub(' +', ' ', f) for f in data_proc_2]\n",
    "data_proc_2 = [re.sub('http', '', f) for f in data_proc_2]\n",
    "data_proc_2 = [re.sub('www', '', f) for f in data_proc_2]\n",
    "data_proc_2 = [re.sub('iweb', '', f) for f in data_proc_2]\n",
    "data_proc_2 = [re.sub(' +', ' ', f) for f in data_proc_2]\n"
   ]
  },
  {
   "cell_type": "code",
   "execution_count": 64,
   "metadata": {},
   "outputs": [
    {
     "data": {
      "text/plain": [
       "'firm subgroup culture fitting most..organiz.behav. published interscience interscience firm subgroup culture fitting most.bryan consulting half california leavey santa santa california summary organizational culture profile investigated extent individuals competency organization related satisfaction.even consulting firm organization culture interpretable differences value based cultures competency firm.although forms highly correlated individual consultants culture competency organization significant predictors satisfaction.copyright introduction past decades substantial shown culture organization implications organization ability implement strategy ability attract retain employees.when organization culture members hold shared values culture consistent organization goals generally assumed organization better able enact strategy addition individuals culture organization individual values congruent values define culture organization individuals likely satisfied likely leave organization lack congruence oilly time researchers explored effects organization culture existence subcultures organization widely observed phenomenon subcultures develop different functions profession practice areas level organization recent review subcultures researchers typically thought organizations culture consisting fragmented collection distinct subcultures.however argue organization received revised copyright accepted correspondence santa camino santa dcaldwell culture distinct subcultures time.they argue values organization distinguished pivotal peripheral.pivotal values values strongly organization enforced sanctions peripheral values define culture likely sanctioned.boisnier argue subcultures organization defined pivotal values organization peripheral values strongly unit.thus subcultures organization based pivotal values define culture organization peripheral values shared organization. subcultures reflect culture organization reflect unique aspects individual units. notion organization wide culture subcultures exist important implications number areas. example organizations attempt communicate potential employees values define culture organization communicate cultural values define organization specific values make subcultures unique.similarly shared values norms members influence performance strategies performance hiring managers concerned organization culture.although substantial evidence exists person organization person subunit related individual outcomes reviews knowledge systematically explored types dimensions tried identify relative influence distinction organization culture subcultures important dynamics structures organizations change. organizations virtual lessco located reliant managed individuals teams maintaining organization culture difficult further asserted employees connected practice skills organizations apply thus changes organizations simultaneously weaken connections organization strengthen ties employee part.despite fact relatively empirical addressed culture practice based writers observed importance.stewart gone suggest organization values emerge organization competencies. professional skills communities practice live values based propose individuals value based culture organization subunit predictive satisfaction work.because increasing importance competency organizations speculate predictive satisfaction present look culture consulting firm. firms culture important because number professional employees working remote locations reliance formal control systems guide individuals problematic control systems shared values likely particularly effective important influencing individuals actions oilly consultants firm organized practice strategy technology processes change management.although practice located regional offices undertake different types engagements adkins caldwell copyright organiz.behav. different clients.even consulting practice firm places emphasis developing common culture independent regional differences. reinforce newly hired professional employees spend formal orientation program central training facility focuses primarily firm values general processes. addition individual consultants spend year central training facility.approximately cent annual training devoted firm wide opposed regional specific practice issues. fact looking individuals type organization emphasizes organization culture suggests differences organization cultures subtle makes tests differences conservative.because culture likely reflect values organization finegrained method assessing values particularly useful.therefore assessed culture firm practice organizational culture profile oilly this ipsative measure used develop profile relative importance values describing culture organization used develop profile relative desirability values individual.thus assess similarity profiles different cultures individual preferences culture wide range values.organizational context method overview separate respondents provided data respondents used provide description culture organization. second conducted consulting firm consultants organized distinct competency based practice groups.although share offices concentrates different types problems client companies manages client engagements. strategy approximately cent firm consultants provides advice term strategy client companies.this typically executives client organizations regarding topics mergers divestitures product market strategies. technology cent consultants clients implement maintain technology systems. example consultants facilitate exchange divisions automate process reduce costs. process cent consultants engages implementation engineering process improvement projects advises clients topics outsourcing tactical systems. change cent consultants undertakes projects associated supporting change efforts client organizations focusing issues including training organization collected data consultants regional offices.firm subgroup culture copyright organiz.behav. subgroups used instrument culture competency based organization. used cultural values desired organization.this completed measure satisfaction.sampling strategy executives organization informed anticipate response rate approximately cent survey. estimated need approximately individual respondents provide adequate relations individuals organization competency satisfaction. randomly generated employees consultants managers partners representing competency asked complete values desired ideal organization complete measure satisfaction.based previous assessing culture oilly sort based assessments estimated minimum respondents competency allow develop reliable sort based assessments competency culture.because anticipated response rate randomly generated individuals practice asked values characteristic competency group.finally surveyed partners managers create organizational culture profile.since told anticipate response rate cent random managers partners asked complete based values believed characteristic culture firm.participants reminders final included individuals described values desired response rate cent individuals describing organization culture response rate cent individuals describing culture competency response rate cent including respondents strategy change technology practices group.although response rates absolute number responses roughly consistent anticipated. final cent respondents male cent average tenure years. respondents possessed bachelors degree cent possessed graduate degree. respondents cent partners associate partners cent managers consultants.because response rates compared demographic characteristics respondents population firm. general respondents representative population exception final slightly longer tenure average firm.this surprising oversampled partners.there significant differences population regarding gender percentage individuals assigned competency groups.measures organization culture culture desired culture assessed cultures organization practice oilly instrument contains value statements emerged review popular academic writings organization culture assessing things risk taking adkins caldwell copyright organiz.behav. flexibility concern individuals. individuals assessing organization culture sorted items categories based characteristic firm. individuals assessing subcultures competency based sorted items terms characteristic individual member. individuals used sort items terms type culture prefer used forced distribution process items categories ranging desirable undesirable individual outcome measure satisfaction measured scale developed internal consistency measure satisfactory alpha¼ control variables organization placed emphasis training socializing hires longer tenured employees used total days training individual received measure level socialization used dummy variables practice control differences. included analyses satisfaction.results organization competency culture assessing relative importance necessary develop reliable description organization cultures.recall separate raters completed competency organization. calculated averages developed profile based averages. used variation general prophecy formula calculate coefficient alpha coefficient alpha scores ranged aggregated profiles. calculated median pairwise correlation raters organization culture profiles.these ranged this level agreement consistent greater reported agreement concluded these results suggest profiles competency organization reliable number respondents assessing competency based assess extent competency distinct cultures organization calculated correlation coefficients profiles. correlations profiles ranged indicating cultures competency organization quite similar.even profiles items categorized follows characteristic desirable items quite characteristic items fairly characteristic items somewhat characteristic items characteristic uncharacteristic items somewhat uncharacteristic items fairly uncharacteristic items quite uncharacteristic items uncharacteristic items. interpretation reliability coefficient based sort data different nomothetic data used represents similarity individuals profiles aggregrated profile estimate likely obtain profile expanded.firm subgroup culture copyright organiz.behav. cultures competency significantly related step differed specific elements culture.previous investigations oilly reported value items reflect seven factors including innovation stability orientation outcome orientation easygoing orientation orientation. identify differences subcultures calculated scores seven factors averaging scores specific value statements loaded comparing separate anovas. shown table significant differences dimensions stability orientation orientation orientation.significant differences existed innovation outcome orientation easygoing dimensions.overall results suggest interpretable differences subcultures organization culture.these difference suggest useful explaining individual satisfaction.person organization person recall respondents used organization culture desired. noted individual respondents contributed organization competency culture profiles. calculated correlating individual profile organization profile appropriate competency profile.thus individual received scores based profile organization culture based profile competency member.overall individuals correlations ranged range correlations there significant difference measures.these scores highly correlated this high correlation scores surprising similarity subcultures organization culture. determine relations satisfaction conducted hierarchical regression analyses. step entered control variables practice previous socialization. second step entered these results shown table results regression analyses nearly identical. separate equations explained significance amounts variance satisfaction controlling practice socialization.these results table mean dimensions innovation easygoing stability outcome orientation orientation orientation orientation organization change group strategy process group technology overall common subscript differ significantly adkins caldwell copyright organiz.behav. consistent previous shows value based individual culture related individual outcomes satisfaction. because high correlation measures assessing independent contributions types satisfaction difficult. example including measures regression equation introduces collinearity problems make impossible accurately assess independent contributions variables.therefore forced indirect ways determine type important.first calculated difference included regression equation control variables.although problems difference scores logic difference score provide indirect measure relative strength types person measure level this analysis essentially replicated model shown table added difference score step. steps analysis identical reported table adding difference score step explained marginally variance affect beta¼ although results weak analysis suggests exploring useful understanding individuals affect.second attempted identify specific areas differed looking differences scores competency groups.since approximately assumed cent respondents score measure. calculated square tests determine distribution scores differed expected.when scores competency examined distribution scores individuals significantly differ expected distribution cent chisquare¼ however analysis conducted competency different pattern emerged. change process competency percentage individuals scores scores greater expected change square¼ process square¼ results opposite competency greater percentage individuals technology strategy competency closely culture organization culture technology square¼ strategy square¼ taken results suggest table hierarchical regression results individual satisfactiony model model control variables process strategy change socialization change change adjusted overall yentries standardized regression coefficients.signs reversed positive values associated levels individual affect. firm subgroup culture copyright organiz.behav. difference differences exist specific competency groups.this indirect evidence exploring useful developing understanding person situation interactions.discussion consistent previous related individuals satisfaction contrast looked types simultaneously values both.overall similar relations satisfaction.this doubt fact cultures organization competency similar.this similarity surprising competency based consulting organization sought present consistent face clients. addition firm invests substantial resources wide training socialization including central facility consultants spend substantial time.although speculated predictive satisfaction directly supported. effect observed organizations distinct. example relevant distinct units engaged different types differences culture organization culture pronounced.this allow realistic competitive types even organization seeks develop consistent culture indirect evidence distinct cultures emerge related satisfaction.competency differed dimensions culture differed organization culture. competency organization. recruit select based subculture greater extent socialize consultants competency groups.clearly necessary explore differences cultures emerge relative contributions culture satisfaction. proved viable tool simultaneous assessment individual organizational culture profiles. provide detailed portraits values characteristic organization subgroups individual allow direct comparisons entities.these comparisons level grained level. specific items sort based assessment approaches used develop specific clinical portraits based specific items ranked although specific items amenable sophisticated statistical analysis portrait provide understanding specific values person organization.there number factors limit generalizability results.first noted firm studied operated industry sought build organization culture. diversified firms compete subcultures differentiated. site provides overly conservative phenomenon. second limitation comes size response rates.although anticipated response rate sampled accordingly questions certainly raised extent response rate distorted results quite representative firm. addition number individuals providing profiles cultures competency based troublesome. reliability sort data assessed adkins caldwell copyright organiz.behav. differently nomothetic data estimates reliability consistent typically reported published sort measures including despite number responses invites questions regarding assessments.third ways assessing culture different strengths weaknesses. chose assess complete values define culture. view important comparing cultures assessing congruence risk omitting important salient values distort results.however ideographic ipsative measure limits statistical techniques summary sharing values organization person belongs important.these results suggest important relative importance difficult determine precisely.what results suggest discernible subcultures exist managers potentially increase satisfaction employees systematically attempting improve individual culture group.group cultures easier change organization cultures directly indirectly affect important outcomes further conclusions suggest organizations concerned ability establish maintain employee connections virtual environment focusing subcultures organization culture.author biographies affiliated consulting. received doctorate primary area organizational culture particularly applies communities practice knowledge organizational learning.david patricia professor leavey santa received ucla current interests include person organization innovation organizations.'"
      ]
     },
     "execution_count": 64,
     "metadata": {},
     "output_type": "execute_result"
    }
   ],
   "source": [
    "data_proc_2[2]"
   ]
  },
  {
   "cell_type": "code",
   "execution_count": 61,
   "metadata": {},
   "outputs": [],
   "source": [
    "# save data\n",
    "pickle.dump(data_proc_2, open( \"C:/Thesis/Data/save/Master_Data/MD_4/data_proc_latest/J_OF_OB_data_proc.p\", \"wb\" ) )"
   ]
  },
  {
   "cell_type": "code",
   "execution_count": 62,
   "metadata": {},
   "outputs": [],
   "source": [
    "#import io\n",
    "with open(\"C:/Thesis/Data/save/Master_Data/MD_4/data_proc_latest/J_OF_OB_data_proc_txt.txt\", \"w\",encoding=\"utf-8\") as outfile:\n",
    "    for i in range(len(data_proc_2)):\n",
    "        outstring = \"\"\n",
    "        outstring += str(data_proc_2[i])\n",
    "        outfile.write(outstring)"
   ]
  },
  {
   "cell_type": "code",
   "execution_count": null,
   "metadata": {},
   "outputs": [],
   "source": []
  }
 ],
 "metadata": {
  "kernelspec": {
   "display_name": "Python 3",
   "language": "python",
   "name": "python3"
  },
  "language_info": {
   "codemirror_mode": {
    "name": "ipython",
    "version": 3
   },
   "file_extension": ".py",
   "mimetype": "text/x-python",
   "name": "python",
   "nbconvert_exporter": "python",
   "pygments_lexer": "ipython3",
   "version": "3.7.6"
  }
 },
 "nbformat": 4,
 "nbformat_minor": 2
}
