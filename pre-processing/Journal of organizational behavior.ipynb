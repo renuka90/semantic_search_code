{
 "cells": [
  {
   "cell_type": "code",
   "execution_count": null,
   "metadata": {},
   "outputs": [],
   "source": [
    "import os\n",
    "import re\n",
    "import pandas as pd\n",
    "import urllib\n",
    "from nltk import SnowballStemmer\n",
    "from gensim.models import Word2Vec\n",
    "#import langdetect\n",
    "import tika\n",
    "import time\n",
    "from tika import parser\n",
    "import pickle"
   ]
  },
  {
   "cell_type": "markdown",
   "metadata": {},
   "source": [
    "# Raw Articles pdf Data\n",
    "Convert pdf to text using Tika apache server "
   ]
  },
  {
   "cell_type": "code",
   "execution_count": null,
   "metadata": {},
   "outputs": [],
   "source": [
    "# specify the target data folder\n",
    "\n",
    "target_dir = 'C:/Thesis/Data/Journal_of_organizational_behavior'"
   ]
  },
  {
   "cell_type": "code",
   "execution_count": null,
   "metadata": {},
   "outputs": [],
   "source": [
    "# prep pdf extraction\n",
    "pdf_files = []\n",
    "wrd_files = []\n",
    "\n",
    "for f in os.listdir(target_dir):\n",
    "    if f.endswith(\".pdf\") | f.endswith(\".PDF\"):\n",
    "        thispdf = os.path.join(target_dir, f)\n",
    "        pdf_files = pdf_files + [thispdf]\n",
    "    if f.endswith(\".doc\") | f.endswith(\".docx\") | f.endswith(\".DOC\") | f.endswith(\".DOCX\"):\n",
    "        thiswrd = os.path.join(target_dir, f)\n",
    "        wrd_files = wrd_files + [thiswrd]"
   ]
  },
  {
   "cell_type": "code",
   "execution_count": null,
   "metadata": {
    "scrolled": true
   },
   "outputs": [],
   "source": [
    "port = 4321 # port to use for Tika server (chosen arbitrarily)\n",
    "server_str = 'http://localhost:' + str(port)\n",
    "tika_path  = 'C:\\Software\\ tika-server-1.23.jar'\n",
    "tika_run   = 'java -jar' + tika_path + ' --port ' + str(port)\n",
    "print('Command to start Tika:')\n",
    "print(tika_run)\n",
    "print('---')\n",
    "print('Number of pdf files: ' + str(len(pdf_files)))\n",
    "print('Number of word files: ' + str(len(wrd_files)))"
   ]
  },
  {
   "cell_type": "code",
   "execution_count": null,
   "metadata": {},
   "outputs": [],
   "source": [
    "# process the PDF files, store text in memory\n",
    "tika.TikaClientOnly = True \n",
    "\n",
    "pdf_metadata = [parser.from_file(t, server_str, xmlContent=False)[\"metadata\"] for t in (pdf_files + wrd_files)]"
   ]
  },
  {
   "cell_type": "code",
   "execution_count": null,
   "metadata": {},
   "outputs": [],
   "source": [
    "# save data metadata\n",
    "pickle.dump(pdf_metadata, open( \"C:/Thesis/Data/save/Journal_of_organizational_behavior/metadata/metadata_all.p\", \"wb\" ) )"
   ]
  },
  {
   "cell_type": "markdown",
   "metadata": {},
   "source": [
    "# Text Data\n",
    "\n",
    "Eliminate title, sections (eg: content between Method and Discussion) and Reference. It is saved as a pre-processed data"
   ]
  },
  {
   "cell_type": "code",
   "execution_count": null,
   "metadata": {
    "scrolled": true
   },
   "outputs": [],
   "source": [
    "# process the PDF files, store text in memory\n",
    "tika.TikaClientOnly = True \n",
    "\n",
    "pdf_text = [parser.from_file(t, server_str, xmlContent=False)[\"content\"] for t in (pdf_files + wrd_files)]"
   ]
  },
  {
   "cell_type": "code",
   "execution_count": null,
   "metadata": {},
   "outputs": [],
   "source": [
    "# save data\n",
    "pickle.dump(pdf_text, open( \"C:/Thesis/Data/save/Journal_of_organizational_behavior/save_alltextData.p\", \"wb\" ) )"
   ]
  },
  {
   "cell_type": "markdown",
   "metadata": {},
   "source": [
    "#  Load the Text data"
   ]
  },
  {
   "cell_type": "code",
   "execution_count": 1,
   "metadata": {},
   "outputs": [],
   "source": [
    "import pickle\n",
    "#load the text data\n",
    "pdf_text = pickle.load(open(\"C:/Thesis/Data/save/Journal_of_organizational_behavior/save_alltextData.p\", \"rb\"))\n"
   ]
  },
  {
   "cell_type": "code",
   "execution_count": 2,
   "metadata": {},
   "outputs": [
    {
     "data": {
      "text/plain": [
       "1168"
      ]
     },
     "execution_count": 2,
     "metadata": {},
     "output_type": "execute_result"
    }
   ],
   "source": [
    "len(pdf_text)"
   ]
  },
  {
   "cell_type": "markdown",
   "metadata": {},
   "source": [
    "# Get country names"
   ]
  },
  {
   "cell_type": "code",
   "execution_count": 3,
   "metadata": {},
   "outputs": [],
   "source": [
    "# Since it is case sensetive, firstly get the list of country before converting the text to lowercase\n",
    "country_list = ['america', 'vietnam', 'usa']\n",
    "import pycountry\n",
    "\n",
    "for country in pycountry.countries:\n",
    "#    for i in pdf_text:\n",
    "#        if country.name in i:\n",
    "            #print(country.name)\n",
    "            country_list.append(country.name.lower())"
   ]
  },
  {
   "cell_type": "code",
   "execution_count": 4,
   "metadata": {},
   "outputs": [],
   "source": [
    "#Convert country list to lower case. it will be called in filter function\n",
    "#country_lower = [x.lower() for x in country_list]\n",
    "#print(country_list)"
   ]
  },
  {
   "cell_type": "markdown",
   "metadata": {},
   "source": [
    "# Get city names (and additional countries)"
   ]
  },
  {
   "cell_type": "code",
   "execution_count": 5,
   "metadata": {},
   "outputs": [],
   "source": [
    "from geotext import GeoText\n",
    "\n",
    "cities_list = []\n",
    "for i in pdf_text:\n",
    "    place = GeoText(i)\n",
    "    #print(place.cities)\n",
    "    #print(place.countries)\n",
    "    cities_list.append(place.cities + place.countries)\n",
    "\n",
    "t = []\n",
    "for i in cities_list:\n",
    "    t += i\n",
    "    \n",
    "# print(len(t))    \n",
    "    \n",
    "cities_list = list(set(t))\n",
    "# cities_list"
   ]
  },
  {
   "cell_type": "code",
   "execution_count": 6,
   "metadata": {},
   "outputs": [
    {
     "name": "stdout",
     "output_type": "stream",
     "text": [
      "1654\n"
     ]
    }
   ],
   "source": [
    "#Convert cities list to lower case. it will be called in filter function\n",
    "cities_lower =[]\n",
    "for i in cities_list:\n",
    "    #for j in i:\n",
    "    cities_lower.append(i.lower())\n",
    "print(len(cities_lower))\n"
   ]
  },
  {
   "cell_type": "markdown",
   "metadata": {},
   "source": [
    "#  Convert pdf text to lower case"
   ]
  },
  {
   "cell_type": "code",
   "execution_count": 7,
   "metadata": {},
   "outputs": [],
   "source": [
    "#Convert each string to lowercase\n",
    "for i in range(len(pdf_text)):\n",
    "    pdf_text[i] = pdf_text[i].lower()"
   ]
  },
  {
   "cell_type": "markdown",
   "metadata": {},
   "source": [
    "# Excluding pdfs if it doesnot have the standard format \n",
    "check the standard format of pdf- if it contains method and discussion section or not"
   ]
  },
  {
   "cell_type": "code",
   "execution_count": 8,
   "metadata": {},
   "outputs": [
    {
     "data": {
      "text/plain": [
       "527"
      ]
     },
     "execution_count": 8,
     "metadata": {},
     "output_type": "execute_result"
    }
   ],
   "source": [
    "import re\n",
    "pdf_included =[]\n",
    "pdf_excluded =[]\n",
    "\n",
    "for i in pdf_text:\n",
    "    flag_1 = re.search(r'\\n(general )?discussion\\n', i)\n",
    "    flag_2 = re.search(r'\\nmethods?\\n', i)\n",
    "   \n",
    "    if flag_1 and flag_2: \n",
    "        pdf_included.append(i)\n",
    "     \n",
    "    else:\n",
    "        pdf_excluded.append(i)\n",
    "len(pdf_included)"
   ]
  },
  {
   "cell_type": "code",
   "execution_count": 9,
   "metadata": {},
   "outputs": [
    {
     "data": {
      "text/plain": [
       "641"
      ]
     },
     "execution_count": 9,
     "metadata": {},
     "output_type": "execute_result"
    }
   ],
   "source": [
    "len(pdf_excluded)"
   ]
  },
  {
   "cell_type": "code",
   "execution_count": 10,
   "metadata": {},
   "outputs": [],
   "source": [
    "# Within JM: acknowledgement section appears in two approaches:1: before or after keyword section (only few pdfs)\n",
    "# 2: before reference section (maximum pdfs)\n",
    "# thus, focusing on the majority occurance of acknowledgements before reference second, we removed it based on that condition.\n",
    "\n",
    "# step-1 remove content after acknowledgements section( it will include appendix, reference section)\n",
    "pdf_remove_step1 = [re.sub(r\"(?is)\\nacknowledgments\\n.*\", \"\", f) for f in pdf_included]\n",
    "\n",
    "# step-2 if there is no acknowledgements section than start with appendix (it will include reference section.)\n",
    "pdf_remove_step2 = [re.sub(r\"(?is)\\nappendix\\n.*\", \"\", f) for f in pdf_remove_step1]\n",
    "\n",
    "# step-3 remove all from reference section\n",
    "pdf_remove_step3 = [re.sub(r\"(?is)\\nreferences\\n.*\", \"\", f) for f in pdf_remove_step2]\n",
    "\n",
    "# get the reference section\n",
    "references = [re.sub(r\"^(.|\\n)+\\nreferences\\n\", \"\", f) for f in pdf_included]"
   ]
  },
  {
   "cell_type": "code",
   "execution_count": 11,
   "metadata": {},
   "outputs": [
    {
     "data": {
      "text/plain": [
       "527"
      ]
     },
     "execution_count": 11,
     "metadata": {},
     "output_type": "execute_result"
    }
   ],
   "source": [
    "len(pdf_remove_step3)"
   ]
  },
  {
   "cell_type": "code",
   "execution_count": 12,
   "metadata": {},
   "outputs": [],
   "source": [
    "# step-4: remove content between method and discussion section (it contains method and result section)\n",
    "def remove_method_result(method, discussion, text):\n",
    "    \n",
    "    import re    \n",
    "    start = method\n",
    "    end = discussion\n",
    "    #start of pattern, followed by any number of times 'any character OR a newline' and terminated by the end pattern.\n",
    "    #pattern = start + '.*'+'(.|\\n)*'+end\n",
    "    pattern = start +'(.|\\n)*'+end\n",
    "    #pdf_method_dis = [re.sub(pattern, '', f) for f in pdf_text]\n",
    "    pdf_method_dis = re.sub(pattern, '', text)\n",
    "\n",
    "    return pdf_method_dis"
   ]
  },
  {
   "cell_type": "code",
   "execution_count": 13,
   "metadata": {},
   "outputs": [],
   "source": [
    "import re\n",
    "#  remove method and result\n",
    "pdf_remove_step4 = [remove_method_result('\\nmethods?\\n', '\\n(general )?discussion\\n', t) for t in pdf_remove_step3]"
   ]
  },
  {
   "cell_type": "code",
   "execution_count": 14,
   "metadata": {},
   "outputs": [
    {
     "data": {
      "text/plain": [
       "527"
      ]
     },
     "execution_count": 14,
     "metadata": {},
     "output_type": "execute_result"
    }
   ],
   "source": [
    "len(pdf_remove_step4)"
   ]
  },
  {
   "cell_type": "markdown",
   "metadata": {},
   "source": [
    "# Pre-processing\n",
    "Regular expression is used to clean up the data"
   ]
  },
  {
   "cell_type": "code",
   "execution_count": 15,
   "metadata": {},
   "outputs": [
    {
     "name": "stdout",
     "output_type": "stream",
     "text": [
      "\n",
      "\n",
      "\n",
      "\n",
      "\n",
      "\n",
      "\n",
      "\n",
      "\n",
      "\n",
      "\n",
      "\n",
      "\n",
      "\n",
      "\n",
      "\n",
      "\n",
      "\n",
      "\n",
      "\n",
      "\n",
      "\n",
      "\n",
      "\n",
      "\n",
      "\n",
      "\n",
      "\n",
      "\n",
      "\n",
      "\n",
      "\n",
      "\n",
      "\n",
      "\n",
      "\n",
      "\n",
      "\n",
      "\n",
      "\n",
      "\n",
      "\n",
      "\n",
      "\n",
      "\n",
      "\n",
      "\n",
      "\n",
      "what does team–member exchange bring to the party? a meta‐analytic review of team and leader social exchange\n",
      "\n",
      "\n",
      "what does team–member exchange bring to the\n",
      "party? a meta-analytic review of team and leader\n",
      "social exchange\n",
      "\n",
      "george c. banks1*, john h. batchelor2, anson seers3,\n",
      "ernest h. o’boyle jr.4, jeffrey m. pollack5 and kim gower6\n",
      "1longwood university, farmville, virginia, u.s.a.\n",
      "2university of west florida, pensacola, florida, u.s.a.\n",
      "3virginia commonwealth university, richmond, virginia, u.s.a.\n",
      "4university of iowa, iowa city, iowa, u.s.a.\n",
      "5university of richmond, richmond, virginia, u.s.a.\n",
      "6virginia state university, petersburg, virginia, u.s.a.\n",
      "\n",
      "summary both leader–member exchange (lmx) and team–member exchange (tmx) measure the quality of reciprocal\n",
      "exchange among employees in the workplace. although lmx focuses on supervisor–subordinate relation-\n",
      "ships while tmx examines the relationships among team members, both have theory-based and empirically\n",
      "proven relations with workplace outcomes such as job performance, organizational commitment, job satisfac-\n",
      "tion, and turnover intentions. however, it is not yet known which has more of an impact on such workplace\n",
      "outcomes—specifically, it is not clear if an employee’s time is best spent developing vertical relationships\n",
      "among supervisors and subordinates (lmx) or on the horizontal relationships among team members\n",
      "(tmx). accordingly, this meta-analysis explores the incremental validity and relative importance of these\n",
      "two social exchange-based constructs. the theoretical logic underlying lmx and tmx is clarified, and the\n",
      "parameter estimates between lmx, tmx, and work outcomes are reported. results demonstrate that tmx\n",
      "shows incremental validity above and beyond lmx for some outcomes (organizational commitment and\n",
      "job satisfaction), but not others (job performance and turnover intentions). also, lmx shows greater relative\n",
      "importance across all four outcomes. in sum, the clarification of the theoretical and empirical landscape lays a\n",
      "foundation for recommendations for future research. copyright © 2013 john wiley & sons, ltd.\n",
      "\n",
      "keywords: leader–member exchange (lmx); team–member exchange (tmx); social exchange theory;\n",
      "organizational commitment; job satisfaction; job performance; turnover intentions\n",
      "\n",
      "research on role processes in organizational environments dates back over half a century (getzels & guba, 1954).\n",
      "however, much of the contemporary research focuses on supervisor–subordinate role relationships negotiated\n",
      "through social exchange processes as described by leader–member exchange (lmx) theory (graen & cashman,\n",
      "1975; graen, cashman, ginsburgh, & schiemann, 1977). although the nature of this vertical relationship is impor-\n",
      "tant to consider, as organizational forms become flatter (bettis & hitt, 1995), its salience may diminish relative to\n",
      "horizontal relationships seen in work teams (avolio, jung, murry, & sivasubramaniam, 1996). over recent decades,\n",
      "organizational structures have been increasingly designed around teams (mesmer-magnus & dechurch, 2009) be-\n",
      "cause of their ability to leverage individual knowledge and skills (stevens & campion, 1994). subsequently, recent\n",
      "empirical work (e.g., anand, vidyarthi, liden, & rousseau, 2010; dierdorff, bell, & belohlav, 2011; liao, liu, &\n",
      "loi, 2010) has dedicated greater attention to studies that explore the quality of social exchange relationships within\n",
      "work groups as described by team–member exchange (tmx) theory (seers, 1989; seers, petty, & cashman, 1995).\n",
      "yet, to date, “there is no substantive empirical evidence to determine whether one form of social exchange still mat-\n",
      "ters in the presence of the other” (liao et al., 2010, p. 1090). accordingly, the quandary in the literature is that we do\n",
      "\n",
      "*correspondence to: george c. banks, longwood university, 201 high street, farmville, virginia 23909, u.s.a. e-mail: gcbanks@gmail.com\n",
      "\n",
      "copyright © 2013 john wiley & sons, ltd.\n",
      "received 16 january 2012\n",
      "\n",
      "revised 01 june 2013, accepted 16 june 2013\n",
      "\n",
      "journal of organizational behavior, j. organiz. behav. 35, 273–295 (2014)\n",
      "published online 31 july 2013 in wiley online library (wileyonlinelibrary.com) doi: 10.1002/job.1885\n",
      "\n",
      "r\n",
      "esearch\n",
      "\n",
      "a\n",
      "rticle\n",
      "\n",
      "\n",
      "\n",
      "not know the incremental and relative contributions of lmx and tmx with regards to key workplace outcomes\n",
      "including job performance, job satisfaction, organizational commitment, and turnover intentions.\n",
      "as team-oriented structures are growing in prevalence, a more complete understanding of social exchange rela-\n",
      "\n",
      "tionships within work groups can aid both practitioners and researchers (liao et al., 2010). just as work on lmx\n",
      "has made clear that the actual process of supervisory leadership occurs through vertical exchange relationships, in-\n",
      "creasing interest in team or shared leadership that occurs apart from, or along with, the supervisor’s formal leader-\n",
      "ship calls for a better understanding of how horizontal peer exchange relationships may operate alongside vertical\n",
      "relationships. some research to this point has investigated vertical (lmx) and horizontal (tmx) exchanges in par-\n",
      "allel (tse & dasborough, 2008). more specifically, though, it is not known if the limited time of employees is best\n",
      "spent developing vertical relationships among supervisors and subordinates (lmx) or on the horizontal relation-\n",
      "ships among team members (tmx). day, gronn, and salas (2006) echoed this point by describing the diversity\n",
      "in conceptual understandings of team leadership; they noted that there are many theories of team leadership (i.e.,\n",
      "collective, relational, and individual) and that mapping this territory is an important direction for this line of\n",
      "research. such is the goal of this study, to bring meta-analytic clarity and consolidation to what is known about\n",
      "how vertical and horizontal exchanges relate with one another and with important work outcomes, so that\n",
      "researchers are no longer limited to inferences from various sources.\n",
      "multiple theoretical and practical contributions emerge from the present research. for academics, this work pro-\n",
      "\n",
      "vides theoretical clarification of tmx and lmx social exchange-based constructs. in light of this theoretical\n",
      "clarification, we are able to report an estimate of the magnitude of the correlation between lmx and tmx as well\n",
      "as a quantitative summary of the correlations between tmx and four work outcomes (job performance, job\n",
      "satisfaction, organizational commitment, and turnover intentions) for the first time in the literature. from this, a clear\n",
      "outline for future theoretical and empirical research is presented. additionally, this study moves beyond traditional\n",
      "meta-analytic reporting to explore whether tmx can provide incremental validity over lmx and whether lmx or\n",
      "tmx demonstrates greater relative importance in each other’s presence when explaining work outcomes.\n",
      "for practitioners, this is also a crucial step whereby evidence-based, actionable advice is offered. for managers,\n",
      "\n",
      "who have limited time and resources, knowing where to focus is a crucial point of debate. should managers focus on\n",
      "the quality of leader–member relationships? should managers focus on facilitating the relationships among team\n",
      "members? the literature is conflicted. a summary of which organizational outcomes are influenced more by which\n",
      "exchange (e.g., leader or team) is provided. again, the theoretical and empirical landscapes within the literature are\n",
      "clarified, and practitioners are provided with much-needed direction on how to influence critical organizational\n",
      "outcomes. accordingly, several practical implications of these data are noted as well as recommendations for future\n",
      "research aimed at improving the study of lmx and tmx.\n",
      "\n",
      "theoretical background\n",
      "\n",
      "social exchange-based constructs\n",
      "\n",
      "lmx is founded on the notion that leaders develop relationships of different qualities with their subordinates (graen\n",
      "& cashman, 1975; graen et al., 1977). the relationships that are of high quality are characterized by honesty, the\n",
      "open exchange of information, and support. leaders contribute opportunities, information, and support in exchange\n",
      "for effort, commitment, and proactive behaviors from subordinates (wilson, sin, & conlon, 2010). a growing body\n",
      "of evidence has demonstrated the importance of lmx within the work group context (e.g., ford & seers, 2006;\n",
      "henderson, liden, glibkowski, & chaudhry, 2009; tse, dasborough, & ashkanasy, 2008). yet, to this point, no\n",
      "study has examined the magnitude of the importance of lmx relative to tmx in explaining variance in work out-\n",
      "comes (e.g., job performance, job satisfaction, organizational commitment, and turnover intentions).\n",
      "seers (1989) proposed the construct of tmx to represent the quality of reciprocal exchange among peers\n",
      "\n",
      "within a team. tmx was adapted from lmx and represents an individual’s perception of the exchange quality\n",
      "\n",
      "274 g. c. banks et al.\n",
      "\n",
      "copyright © 2013 john wiley & sons, ltd. j. organiz. behav. 35, 273–295 (2014)\n",
      "doi: 10.1002/job\n",
      "\n",
      "\n",
      "\n",
      "of his or her role relationship interactions with other team members (seers, 1989). tmx has been formally\n",
      "defined as a team member’s perception of the quality of “the reciprocity between a member and his or her team\n",
      "with respect to the member’s contribution of ideas, feedback, and assistance to other members and, in turn, the\n",
      "member’s receipt of information, help, and recognition from other team members” (seers et al., 1995, p. 21).\n",
      "thus, tmx represents exchange quality with other team members, not as unique individuals, but in their shared\n",
      "role as team members.\n",
      "the use of the word “team” in studies of tmx refers to an instrument of joint performance. we cite the definition\n",
      "\n",
      "proposed by kozlowski, gully, salas, and cannon-bowers (1996): (a) multiple individuals, (b) formed to perform\n",
      "task-relevant functions, (c) who mutually interact, (d) exhibit task interdependence, (e) possess one or more shared\n",
      "goals, and (f) are embedded in a broader organizational setting. all of the samples with tmx in this meta-analytic\n",
      "review reported data from individuals working within a context consistent with this definition of the term “team.”\n",
      "the work conducted by the teams varied from study to study (e.g., research and development teams to telecommu-\n",
      "nication teams); many of the samples involved project teams. in sum, tmx characterizes team members’ percep-\n",
      "tions of the reciprocity and contributions between themselves and their team members.\n",
      "\n",
      "the current study\n",
      "\n",
      "this meta-analytic review focuses on the studies that conducted individual-level hypothesis testing, which reflects\n",
      "the bulk of the accumulated research. in summary of the relation between lmx and tmx, these parallel constructs\n",
      "address two different psychologically salient relational counterparts in work settings but are closely related by their\n",
      "common derivation. both constructs draw upon role theory and social exchange theory, which emphasize reciprocal\n",
      "reinforcements (jacobs, 1970), but with a few important differences. generally, one individual occupies the super-\n",
      "visor role while multiple individuals serve in team member roles. also, the nature of reciprocal reinforcement is\n",
      "different in the dyadic supervisor–subordinate relationship of lmx because supervisors have resources and power\n",
      "that their subordinates lack (graen, 1976). in the instance of tmx, team members are more likely to be on equal\n",
      "footing in terms of resources and power.\n",
      "across multiple individuals playing team roles, tmx recognizes that team members form a perception of their\n",
      "\n",
      "team as a psychological object, to which they have an affiliative relationship (jacobs, 1970). tmx reflects how\n",
      "individuals see their relational interactions with other members as they represent team identity, rather than as unique\n",
      "individuals. this is in contrast to lmx where individuals form a specifically dyadic, reciprocal relationship with\n",
      "their supervisor as a unique individual. tmx, then, ignores whatever differences there may be between specific\n",
      "dyadic relationships among various team members.\n",
      "lmx similarly reflects characteristic behaviors specific to supervisor–subordinate interaction. unlike tmx, super-\n",
      "\n",
      "visor–subordinate relationships are specifically dyadic relationships, but the same interpersonal awareness, sensitivity,\n",
      "and concern that allow some individuals to more readily forge strong relationships should operate analogously for\n",
      "lmx as for tmx. as effective working relationships facilitate work performance, they also promote social attachment\n",
      "and make on-the-job experiences more enjoyable. accordingly, we expect that both tmx and lmx explain unique\n",
      "variance in work outcomes. however, the nature of this contribution is also important to consider.\n",
      "although lmx and tmx are distinct constructs (baugh & graen, 1997; seers, 1989), we suggest that individuals\n",
      "\n",
      "who establish high-quality reciprocal exchange with their leaders (vs. those who fail to do so) also establish high-\n",
      "quality (vs. low-quality) reciprocal exchange with their team. individuals who value high-quality relationships\n",
      "and invest their efforts to that end will likely do so with respect to both their peers and their supervisor. even as\n",
      "no two relationships in which a focal individual participates are identical, what that focal individual brings to differ-\n",
      "ent relationships must still incorporate the same characteristic attributes of the individual. for example, nahrgang,\n",
      "morgeson, and ilies (2009) and bernerth, armenakis, feild, giles, and walker (2007) found member personality\n",
      "characteristics to correlate with lmx quality. thus, we hypothesize the following.\n",
      "\n",
      "hypothesis 1: there will be a positive correlation between lmx and tmx.\n",
      "\n",
      "team and leader exchange 275\n",
      "\n",
      "copyright © 2013 john wiley & sons, ltd. j. organiz. behav. 35, 273–295 (2014)\n",
      "doi: 10.1002/job\n",
      "\n",
      "\n",
      "\n",
      "moderators\n",
      "we consider several potential moderators of the lmx–tmx relation: industry, scale used, nationality, and publica-\n",
      "tion status. as is the case with all meta-analyses, this study was limited by the data included in the primary studies\n",
      "identified. unfortunately, several potential theoretically meaningful moderators have not received sufficient empir-\n",
      "ical attention necessary to be included in the meta-analytic review. in the discussion section, we review the aspects\n",
      "of the lmx and tmx literature that require future research. despite the limited number of variables in the data, we\n",
      "were able to explore several potential moderators that might affect the magnitude of the lmx–tmx relation. these\n",
      "moderators were selected for exploratory purposes, and therefore, we do not make specific hypotheses regarding the\n",
      "direction or magnitude of the relationships.\n",
      "we include two potential moderator variables in each of two categories. one category addresses the potential for\n",
      "\n",
      "contextual moderation. team-oriented practices and forms have become more widespread in general relative to\n",
      "traditional hierarchy, but we should not expect their spread to be uniform across industries and national cultures.\n",
      "thus, we examined industry type, including professional (e.g., software developers and bankers), industrial (e.g.,\n",
      "assembly workers), and mixed or other samples. industry type might well reflect the organizational salience of\n",
      "horizontal versus vertical relationships because of mimetic practices. macro organizational research has shown that\n",
      "organizations commonly pursue greater legitimacy by copying practices and forms from each other and much of this\n",
      "copying follows industrial lines. industry type has been shown to moderate between constructs of interest in\n",
      "previous research (kim & mauborgne, 1993). golden (2006), whose study focused on the experiences of telecom-\n",
      "muters, found a more positive correlation between lmx and job satisfaction relative to tmx and job satisfaction. in\n",
      "contrast, kamdar and van dyne (2007), whose study examined the workplace experiences of employees in a large\n",
      "multinational conglomerate, found a stronger correlation between tmx and organizational tenure relative to lmx\n",
      "(nonsignificant) and organizational tenure.\n",
      "second, the nationality of participants in studies (e.g., u.s. vs. international) might reflect the relative salience of\n",
      "\n",
      "vertical versus horizontal working relationships because of differing national cultural norms such as power distance\n",
      "and individualism versus collectivism (ashforth & johnson, 2001). previous research has shown that differences in\n",
      "social constructs, such as trust and reciprocation, likely exist between nationalities (buchan, croson, & dawes,\n",
      "2002), and many examples of nationality-based moderation (e.g., culture) have been used in prior social ex-\n",
      "change-based meta-analyses (e.g., dulebohn, bommer, liden, brouer, & ferris, 2012).\n",
      "the second category included two potential moderators that might reflect method effects or method variance.\n",
      "\n",
      "here, the lmx scale used was considered as a moderator. many examples of scale-based moderation have been\n",
      "found in previous meta-analyses (e.g., o’boyle, humphrey, pollack, hawver, & story, 2010). in a similar\n",
      "fashion, we explored the possibility that certain scales affect the relations here. in particular, we noticed that baugh\n",
      "and graen (1997) found a larger magnitude relation between lmx and tmx than did liden, wayne, and sparrowe\n",
      "(2000). from a theory-based perspective, we suggest that it could be the case that older, more established scales (i.e.,\n",
      "graen and colleagues) may exhibit a different relation relative to newer and less established measures (liden &\n",
      "maslyn, 1998). more specifically, whereas the measurement of tmx has been conducted by using\n",
      "scales developed by seers and colleagues (seers, 1989; seers et al., 1995), the measurement of the lmx construct\n",
      "has been conducted with scales developed by graen and colleagues and liden and maslyn (1998). thus, we\n",
      "consider whether or not the relationship between lmx and tmx depends on the type of scale used. the final\n",
      "moderator investigates the possibility that published versus unpublished studies may differ in the quality of research\n",
      "methods or magnitude of the relations. thus, we investigated how the lmx–tmx relation might vary in published\n",
      "versus unpublished sources.\n",
      "\n",
      "team–member exchange and work outcomes\n",
      "we also explored the relations between tmx and job performance, job satisfaction, organizational commitment,\n",
      "and turnover intentions, which are four of the most commonly researched outcomes in management and indus-\n",
      "trial/organizational psychology. to this point, the accumulation of empirical studies of tmx has not had the\n",
      "same benefit as lmx with respect to the progression of efforts directed at theoretical extension, conceptual\n",
      "\n",
      "276 g. c. banks et al.\n",
      "\n",
      "copyright © 2013 john wiley & sons, ltd. j. organiz. behav. 35, 273–295 (2014)\n",
      "doi: 10.1002/job\n",
      "\n",
      "\n",
      "\n",
      "refinement, and clarification (e.g., graen & scandura, 1987; graen & uhl-bien, 1995; sparrowe & liden, 1997).\n",
      "thus, we do not focus on the relations between lmx and these four outcomes because previous meta-analytic\n",
      "research has already demonstrated the magnitude of these relations (for theoretical logic and effect sizes, see\n",
      "dulebohn et al., 2012; gerstner & day, 1997). therefore, the following set of hypotheses is focused solely\n",
      "on the relations between tmx and these four work outcomes (e.g., job performance, job satisfaction, organiza-\n",
      "tional commitment, and turnover intentions).\n",
      "tmx, by reflecting high-quality working relationships within a team, should predict these outcomes.\n",
      "\n",
      "teams with high-quality, trusting exchange relationships are likely to exchange information and resources\n",
      "and therefore better leverage the skills of individual team members through collaboration (hoegl & wagner,\n",
      "2005). by better utilizing colleagues, team members are likely to achieve higher performance. relationships\n",
      "that allow those individuals to better anticipate each other’s actions and accomplish their work efficiently and\n",
      "effectively will greatly facilitate teamwork. furthermore, high-quality exchange relationships allow team\n",
      "members the opportunity to realize performance expectations of role senders (seers, 1989). as a result, team\n",
      "members with higher levels of tmx are likely to receive better performance evaluations (kamdar & van\n",
      "dyne, 2007; liden et al., 2000). accordingly, and not surprisingly, research has shown that higher levels\n",
      "of tmx resulted in increased ratings of performance (jordan, feild, & armenakis, 2002).\n",
      "\n",
      "hypothesis 2a: tmx will be positively correlated with individual job performance.\n",
      "\n",
      "higher levels of tmx are likely to have a positive effect on work attitudes, such as job satisfaction (major,\n",
      "kozlowski, chao, & gardner, 1995). low levels of tmx may reflect troubled relationships with other team\n",
      "members, and higher levels may reflect more congenial and more reliable coworker relationships. the benefit of\n",
      "higher-quality interpersonal relationships may be enjoyable to employees, and thus, they would experience more\n",
      "job satisfaction. for instance, tse and dasborough (2008) argued that, through emotional contagion, positive emo-\n",
      "tions in teams promote team member satisfaction. additionally, higher levels of tmx likely reflect more established\n",
      "roles that are less prone to role ambiguity and should result in increased satisfaction (rizzo, house, & lirtzman,\n",
      "1970). for these reasons, employees with higher-quality tmx are likely to experience higher levels of satisfaction\n",
      "(golden, 2006; liden et al., 2000).\n",
      "\n",
      "hypothesis 2b: tmx will be positively correlated with individual job satisfaction.\n",
      "\n",
      "the experience of strong relationships as reflected in high levels of tmx should support psychological attachment in\n",
      "the work setting, including increased levels of affective commitment, which is strongly tied to overall organizational com-\n",
      "mitment (meyer, stanley, herscovitch, & topolnytsky, 2002). this is because teams with strong interpersonal relation-\n",
      "ships are likely to develop affective bonds between team members. by developing reciprocal exchange, on the basis of\n",
      "affective relationships, we expect tmx to have a positive correlation with commitment. empirical evidence supports this\n",
      "position. for instance, major et al. (1995) found a significant relationship between tmx and commitment and attributed\n",
      "this finding to the important role that high-quality coworker relationships play in socialization. when discussing their\n",
      "findings of a direct link between tmx and organizational commitment, liden et al. (2000) contended that the association\n",
      "is due to the support and guidance one receives from their interpersonal relationships with coworkers. in other words, co-\n",
      "workers are key agents for socialization in terms of the role development process of employees. the nature of one’s re-\n",
      "lationship with these individuals is linked to one’s commitment to his or her organization.\n",
      "\n",
      "hypothesis 2c: tmx will be positively correlated with individual organizational commitment.\n",
      "\n",
      "individuals’ turnover intentions are influenced by a variety of factors (lee & mowday, 1987). with respect to the\n",
      "present work, high-quality working relationships should affect individuals’ turnover intentions. research indicates, as\n",
      "noted earlier, that high-quality working relationships benefit individuals’ performance as well as their job satisfaction\n",
      "and organizational commitment. these positive relations are due to the efficiencies and benefits of working well\n",
      "\n",
      "team and leader exchange 277\n",
      "\n",
      "copyright © 2013 john wiley & sons, ltd. j. organiz. behav. 35, 273–295 (2014)\n",
      "doi: 10.1002/job\n",
      "\n",
      "\n",
      "\n",
      "together—and when individuals work well together, that decreases any desire to exit the organization. put differently,\n",
      "giving up good relationships at work is an opportunity cost in its own right. and, not surprisingly, if one expects\n",
      "high-quality working relationships and these expectations are not met, this situation is likely to increase one’s turnover\n",
      "intentions (major et al., 1995; wanous, poland, premack, & davis, 1992). for these reasons, high tmx should be\n",
      "negatively correlated with turnover intentions.\n",
      "\n",
      "hypothesis 2d: tmx will be negatively correlated with individual turnover intentions.\n",
      "\n",
      "incremental validity and dominance analyses\n",
      "\n",
      "in order to demonstrate that a construct increases our ability to explain variance in work outcomes, the construct\n",
      "needs to explain additional variance above and beyond other constructs. furthermore, the construct must show its\n",
      "importance relative to other constructs. therefore, in order to illustrate value in both the social exchange literature\n",
      "and the broader research field, both lmx and tmx must provide a unique contribution in predicting work outcomes\n",
      "in the presence of related constructs. we evaluate the incremental validity of tmx above and beyond lmx.\n",
      "the lmx literature has enjoyed a greater amount of theoretical and empirical attention in theoretical (dulebohn\n",
      "et al., 2012; gerstner & day, 1997; graen & uhl-bien, 1995; sparrowe & liden, 1997) and meta-analytic\n",
      "reviews (dulebohn et al., 2012; gerstner & day, 1997; ilies, nahrgang, & morgeson, 2007). for instance, in their\n",
      "meta-analysis containing 51 studies, ilies et al. (2007) found lmx to have a moderately strong relationship (.37)\n",
      "with citizenship behaviors. further, in a more comprehensive meta-analysis containing 247 studies, dulebohn\n",
      "et al. (2012) found that lmx is a strong mediator of many important relationships involving constructs such as\n",
      "contingent reward, positive affect, and transformational leadership. from this body of work, we suggest that the\n",
      "burden falls on tmx to demonstrate incremental validity.\n",
      "tmx is a similar yet unique construct with respect to lmx, and consequently, we anticipate that tmx will explain\n",
      "\n",
      "unique variance above that already explained by lmx. we suggest that this will be supported because the dyadic rela-\n",
      "tionships that characterize lmx are between supervisors and subordinates and therefore measure workplace relationships\n",
      "distinct from the peer interactions measured by tmx. again, these peer interactions form the perception of a team as a\n",
      "psychological object with whom the team member holds a relationship (jacobs, 1970). therefore, tmx should measure\n",
      "unique variance in the work outcomes that are explained by the quality of peer rather than supervisory relationships.\n",
      "\n",
      "hypothesis 3: tmx will demonstrate incremental validity above and beyond lmx in predicting work outcomes.\n",
      "\n",
      "although incremental validity tests are useful, they do not answer questions about the relative usefulness of vari-\n",
      "ables in a regression model (lebreton, hargis, griepentrog, oswald, & ployhart, 2007). accordingly, we use a\n",
      "dominance analysis based on guidance provided in johnson (2000, 2001) and johnson and lebreton (2004). we\n",
      "suggest that lmx will explain the majority of the variance in each of the work outcomes relative to tmx. while\n",
      "both lmx and tmx measure the quality of exchange relationships, the supervisor–subordinate relationship of\n",
      "lmx is unique in that supervisors have access to specific resources, information, and opportunities necessary for\n",
      "effective job performance. supervisors also hold the unique power of being able to reward and punish subordinates.\n",
      "thus, high-quality lmx relationships are likely to be more beneficial for individual job performance as well as ac-\n",
      "tual performance evaluations. for these same reasons, lmx is likely to carry greater relative weight than tmx\n",
      "when explaining job satisfaction and commitment. however, because employees likely receive social and emotional\n",
      "support from high-quality tmx relationships, the weight of lmx in predicting these outcomes should be less dom-\n",
      "inant. finally, lmx is likely to carry greater relative weight when explaining job performance, job satisfaction, and\n",
      "commitment; for the same reasons, it is also more likely to influence individual turnover intentions.\n",
      "\n",
      "hypothesis 4: lmx will demonstrate greater relative weight compared with tmx when predicting work outcomes.\n",
      "\n",
      "278 g. c. banks et al.\n",
      "\n",
      "copyright © 2013 john wiley & sons, ltd. j. organiz. behav. 35, 273–295 (2014)\n",
      "doi: 10.1002/job\n",
      "\n",
      "\n",
      "\n",
      "this meta-analytic review offers immediate contributions to the social exchange literature. first, we provided theoretical\n",
      "clarification of tmx and lmx as social exchange-based constructs. what we learn from this study allows us to sharply\n",
      "contrast between tmx and lmx as relationships among peers within a team and the relationship between leader and\n",
      "subordinate, respectively. we demonstrate ways in which they are related as well as ways they are distinct constructs.\n",
      "second, we presented the parameter estimate of the overall lmx–tmx relation as well as across various contex-\n",
      "\n",
      "tual moderators. we also provided estimates of tmx relations with work outcomes. our findings support the\n",
      "perspective that there are positive relations of tmx with individual job performance, job satisfaction, and organiza-\n",
      "tional commitment. as expected, tmx was negatively correlated with turnover intentions. this study thus brings\n",
      "further clarity to what is known about teams by showing that one’s perception of the exchange quality across his\n",
      "or her team as a whole is an important consideration, as opposed to one’s dyadic relationships with individual mem-\n",
      "bers (i.e., member–member exchange).\n",
      "third, we reported the incremental and relative contributions of lmx and tmx. the results of the incremental\n",
      "\n",
      "validity analysis demonstrated the ability of tmx to contribute to the explanation of job satisfaction and organiza-\n",
      "tional commitment above and beyond lmx. however, contrary to what was hypothesized, tmx did not provide a\n",
      "practically significant incremental contribution over lmx in explaining individual job performance and turnover\n",
      "intentions. consequently, there appears to be mixed evidence of the contribution from tmx in predicting work\n",
      "outcomes relative to lmx. thus, while tmx does explain practically significant amounts of variance over and\n",
      "above lmx when predicting organizational commitment and job satisfaction (δr2 = 0.08 and 0.07, respectively),\n",
      "tmx appeared to add little value when predicting job performance and turnover intentions (δr2 = 0.01 and 0.00,\n",
      "respectively).\n",
      "\n",
      "team and leader exchange 287\n",
      "\n",
      "copyright © 2013 john wiley & sons, ltd. j. organiz. behav. 35, 273–295 (2014)\n",
      "doi: 10.1002/job\n",
      "\n",
      "\n",
      "\n",
      "the results of the dominance analysis mirror the findings from the incremental validity tests. while tmx\n",
      "explained approximately 40 percent of the variance in organizational commitment and job satisfaction, it explained\n",
      "less than 25 percent of the variance in job performance and turnover intentions. thus, when investigating individual\n",
      "organizational commitment and job satisfaction in a team context, tmx should be included as a variable of interest.\n",
      "consequently, the results present a complicated story in which tmx seems to play a critical role in some\n",
      "\n",
      "instances, while in others it may not. the findings do highlight the importance of beneficial social exchange relation-\n",
      "ship with one’s leader, regardless of the relationships one has with one’s teammates. nonetheless, because of the\n",
      "mixed findings, it seems unlikely that lmx will always be completely dominant over tmx. in fact, we suggest that\n",
      "as research on tmx and lmx continues to emerge, we may see instances in which tmx is more dominant than\n",
      "lmx, particularly when the outcomes that are investigated are more team oriented (e.g., team cohesiveness and\n",
      "team performance). furthermore, we believe that better reporting practices (necessary to test for important moderat-\n",
      "ing variables), better comprehension of theoretically important moderators, and attention to a broader range of out-\n",
      "comes (including those that are team focused) will allow for a clearer understanding of what both tmx and lmx\n",
      "“bring to the party.” for example, if we do not know how large teams are, how long employees have been a part of\n",
      "their teams, how long employees have been developing relationships with their leaders, and how much autonomy\n",
      "teams have from the leader, it is very difficult to make a conclusive statement regarding the contributions of\n",
      "tmx and lmx in predicting work outcomes.\n",
      "given the modest number of studies, particularly in some cells of our analysis, we must consider the type of error\n",
      "\n",
      "that may be made if meta-analysis relies on too few studies. do we increase the risk of violating the assumption that\n",
      "the studies are normally distributed when there is a small k? when there is a small k, does it reduce the power of the\n",
      "test? herein, we use the most conservative methods possible (i.e., random-effects model) to ensure accuracy, yet\n",
      "there is still a need to issue appropriate warning to the reader. because tmx is still a developing research area,\n",
      "all results of this study should be interpreted with caution. for instance, the veracity of results may be limited in\n",
      "some understudied cell(s). in time, when more research is brought to light on this subject, further conclusive results\n",
      "may be examined, which could bolster the present findings.\n",
      "\n",
      "practical applications\n",
      "\n",
      "for practitioners, these results demonstrate the importance of developing both supervisor–subordinate relationships\n",
      "and team member relationships. as organizational forms become flatter (bettis & hitt, 1995), greater research atten-\n",
      "tion must be shifted towards horizontal, peer relationships, such as those found in teams. however, practitioners\n",
      "should not neglect the importance of supervisor–subordinate relationships and the need for high-quality social\n",
      "exchanges here as well. as this study shows, team–member relationship quality and leader–follower relationship\n",
      "quality relate to one another positively.\n",
      "we suggest four approaches firms may take to develop and maintain high-quality supervisor–subordinate and\n",
      "\n",
      "tmx relationships. first, firms need to monitor and evaluate exchange relationships. this can be accomplished in\n",
      "multiple ways. for example, 360-degree feedback assessments (morgeson, mumford, & campion, 2005) give indi-\n",
      "viduals the opportunity to be evaluated by their supervisors, direct reports, coworkers, and themselves. such a prac-\n",
      "tice can be used to identify strengths and developmental needs in employees’ knowledge, skills, and abilities\n",
      "necessary to develop high-quality exchange relationships.\n",
      "second, firms can structure training opportunities (potentially based on 360-degree assessments) for leaders\n",
      "\n",
      "and team members to develop the necessary competencies to engage in high-quality lmx and tmx relationships\n",
      "(yukl & lepsinger, 1995). for instance, liao et al. (2010) pointed out that the leadership behavior individualized\n",
      "consideration, which is a skill that can be trained (barling, weber, & kelloway, 1996), has been linked with\n",
      "higher-quality lmx relationships. in addition to skills training, firms may elect to engage in training that is directly\n",
      "focused on developing interpersonal relationships, such as team-building exercises.\n",
      "\n",
      "288 g. c. banks et al.\n",
      "\n",
      "copyright © 2013 john wiley & sons, ltd. j. organiz. behav. 35, 273–295 (2014)\n",
      "doi: 10.1002/job\n",
      "\n",
      "\n",
      "\n",
      "third, firms should consider implementing work structures and reporting relationships that facilitate the open\n",
      "exchange of information, which are necessary to improve the quality of social exchanges. this focus on intentional\n",
      "work design, as a means to improve lmx and tmx relationships, would not necessarily replace needed training on\n",
      "techniques such as interpersonal skills. however, work design and employer attention to the social aspects of work,\n",
      "and in particular, the increasing importance of teams, may foster more effective work environments (oldham &\n",
      "hackman, 2010).\n",
      "fourth, our findings that tmx relates positively with job performance, job satisfaction, organizational commit-\n",
      "\n",
      "ment, and turnover yet only increments lmx for organizational commitment and job satisfaction are important\n",
      "for practitioners. time is a finite resource for those engaged in business. thus, organizations wish to be as efficient\n",
      "as possible with the time allotted to training and other interventions. for this reason, if a choice must be made in\n",
      "allocating time between tmx-related and lmx-related interventions, those employees diagnosed with commitment\n",
      "and satisfaction issues may be best served by training related to both constructs. for those diagnosed with job\n",
      "performance issues and the intention to turnover, under tight time constraints, interventions should focus primarily\n",
      "on lmx-related skills.\n",
      "\n",
      "limitations and future directions\n",
      "\n",
      "as with most meta-analyses, a limitation of this work derives from shortcomings in the primary studies we reviewed.\n",
      "first, too few studies of group-level factors in relation to tmx currently exist for examining how relational interac-\n",
      "tions among peer coworkers shape the characteristic nature of teams, even as no team has a unique nature apart from\n",
      "such interactions. more group-level studies are needed, and especially studies that investigate how working relation-\n",
      "ships facilitate cooperation, coordination, and performance at the team level. longitudinal studies would be most\n",
      "helpful in this respect.\n",
      "second, basic reporting issues limited the ability to explore moderators such as average team tenure and average\n",
      "\n",
      "number of participants per team. for instance, higher average team tenure may result in higher levels of tmx as it\n",
      "can take time for such relationships to develop. relatively speaking, lmx relationships with one individual (i.e., the\n",
      "leader) may develop more quickly than tmx with multiple team members. the total number of participants per\n",
      "team may also play an important role. for example, larger teams may make it more difficult for a subordinate to\n",
      "develop high-quality exchange relationships with the leader, as the leader likely has to attend to many more mem-\n",
      "bers. lmx is founded on the notion that leaders develop exchange relationships of different quality. better reporting\n",
      "practices in primary studies would allow for the testing of such moderating constructs.\n",
      "another potential moderator of the relative importance of lmx quality compared with tmx would be the extent\n",
      "\n",
      "to which a team has work autonomy from a supervisor (i.e., self-managed teams). teams with more autonomy\n",
      "undoubtedly require less interaction with a leader and may engage in leadership behaviors within the team.\n",
      "furthermore, the need to develop high-quality lmx relationships will be attenuated, as leaders will be less likely\n",
      "to control pertinent information and resources. therefore, future research should attempt to operationally define\n",
      "and measure the extent of team autonomy in order to evaluate its moderating influence. additionally, future studies\n",
      "should indicate when team leaders are considered team members when measuring tmx. because of their status,\n",
      "leaders are highly salient group members (connelly, gaddis, & helton-fauth, 2002), making them highly influential\n",
      "team members. it is possible that leader inclusion has an effect on tmx ratings by team members. for this reason,\n",
      "future research should investigate team leader inclusion as a moderator.\n",
      "third, differentiation has also been considered as an important factor when exploring lmx within work groups\n",
      "\n",
      "(ford & seers, 2006; liao et al., 2010), but not enough primary studies currently exist to incorporate it into a meta-\n",
      "analysis. differentiation is characterized by the extent of quality variability in lmx and tmx relationships. previ-\n",
      "ous research has demonstrated that lmx differentiation attenuated the value of lmx quality while it augmented the\n",
      "value of tmx quality on self-efficacy and creativity (liao et al., 2010). thus, more studies should investigate dif-\n",
      "ferentiation as an important construct to be considered. additionally, we know of only one study, an unpublished\n",
      "\n",
      "team and leader exchange 289\n",
      "\n",
      "copyright © 2013 john wiley & sons, ltd. j. organiz. behav. 35, 273–295 (2014)\n",
      "doi: 10.1002/job\n",
      "\n",
      "\n",
      "\n",
      "doctoral dissertation (keup, 2000), that has attempted to directly compare dyadic peer aggregation with tmx, but\n",
      "publishable research comparing tmx with dyadic peer analysis remains an important gap in the literature.\n",
      "finally, further studies are needed for better understanding other outcomes, such as citizenship behaviors and coun-\n",
      "\n",
      "terproductive work behavior, as well as team-focused outcomes, including team cohesiveness and team performance. it\n",
      "is likely that the relative importance of tmx, compared with lmx, is greater in work situations in which success is\n",
      "contingent upon strong social exchange relationships between team members. furthermore, perceived organizational\n",
      "support (pos) should also be considered in future research. unfortunately, the number of samples with pos was too\n",
      "small to include in this meta-analytic review. individuals have a somewhat affiliative relationship to the employing\n",
      "organization as a psychological object. eisenberger, huntington, hutchison, and sowa (1986) based their proposal of\n",
      "the pos construct on levinson’s (1965) observation that individuals personify their employing organization, viewing\n",
      "actions by organizational agents as actions of the organization itself. this personification is integral to an employee’s\n",
      "sense of a psychological contract (rousseau & parks, 1992) as a reciprocal exchange relationship with the organization.\n",
      "posmay complement lmx and tmx, or it may provide redundant information. thus, future research should consider\n",
      "the relative weight of pos as well as the potential incremental validity above and beyond lmx and tmx.\n",
      "\n",
      "conclusion\n",
      "\n",
      "the use of teams within firms has continued to increase over recent decades in order to better capitalize on the\n",
      "synergist effects of collaboration. the results of this study provide mixed evidence for the contribution of tmx,\n",
      "compared with lmx, when predicting outcomes in the workplace. tmx did demonstrate incremental validity\n",
      "and a moderate relative contribution when predicting organizational commitment and job satisfaction, but tmx\n",
      "added little value when predicting job performance and turnover intentions.\n",
      "research on tmx continues to increase (anand et al., 2010; dierdorff et al., 2011; liao et al., 2010; liao, yang,\n",
      "\n",
      "wang, drown, & shi, ; muñoz-doyague & nieto, 2012). yet, a re-focused research agenda that includes better\n",
      "reporting practices, the inclusion of theoretically meaningful moderators, and a broader range of outcomes (e.g.,\n",
      "team-oriented outcomes) is needed. thus, while it appears that tmx adds value in predicting some outcomes, more\n",
      "research is needed in order to identify, under differing conditions, the relative and unique contributions of tmx and\n",
      "lmx quality within work groups.\n",
      "\n",
      "acknowledgement\n",
      "\n",
      "suggestions by michael a. mcdaniel were valuable in the improvement of this paper and were greatly appreciated.\n",
      "\n",
      "author biographies\n",
      "\n",
      "george banks (phd, virginia commonwealth university, 2012) is an assistant professor of management at\n",
      "longwood university. his substantive areas of research include personnel selection, strategic human resources man-\n",
      "agement, and research methodology.his work on these topics has appeared in journals such as journal of applied\n",
      "psychology and organizational research methods.\n",
      "john batchelor (phd, virginia commonwealth university, 2011) is an assistant professor of management at west\n",
      "florida. his substantive areas of teaching and research interests include emotional labor, leadership, entrepreneur-\n",
      "ship, and meta-analysis.\n",
      "\n",
      "290 g. c. banks et al.\n",
      "\n",
      "copyright © 2013 john wiley & sons, ltd. j. organiz. behav. 35, 273–295 (2014)\n",
      "doi: 10.1002/job\n",
      "\n",
      "\n",
      "\n",
      "anson seers (phd, university of cincinnati, 1981) is a professor emeritus in the school of business at virginia\n",
      "commonwealth university. his areas of research expertise are leadership and organizational behavior.\n",
      "ernest o’boyle (phd, virginia commonwealth university, 2010) is an assistant professor of management and or-\n",
      "ganizations at the university of iowa. his research interests include counterproductive work behaviors, human per-\n",
      "formance, and research methodology. his work on these topics has appeared in journals such as journal of applied\n",
      "psychology, journal of management, organizational research methods, personnel psychology, and psychological\n",
      "bulletin.\n",
      "jeffrey m. pollack (phd, virginia commonwealth university, 2009) is an assistant professor in the robins school\n",
      "of business at the university of richmond. he conducts research on, and teaches classes involving, the topic of en-\n",
      "trepreneurship and the determinants of performance at the firm and individual levels.\n",
      "kim gower (phd, virginia commonwealth university, 2012) is an assistant professor in the reginald f. lewis\n",
      "school of business at virginia state university. she conducts research on, and teaches classes involving, the topics\n",
      "of leadership and organizational behavior.\n",
      "\n",
      "--**************************************-\n",
      "-**************************************--\n",
      "-**************************************--\n"
     ]
    }
   ],
   "source": [
    "# testing it works\n",
    "ref_doc = 20\n",
    "print(pdf_remove_step4[ref_doc])\n",
    "print('--**************************************-')\n",
    "print('-**************************************--')\n",
    "print('-**************************************--')\n",
    "# print(pdf_remove_step4[ref_doc])"
   ]
  },
  {
   "cell_type": "code",
   "execution_count": 16,
   "metadata": {},
   "outputs": [],
   "source": [
    "# remove journal title here?\n",
    "pdf_p = [re.sub('journal of management', '', t) for t in pdf_remove_step4]\n",
    "pdf_p = [re.sub('et al.', '', t) for t in pdf_p]\n",
    "pdf_p = [re.sub('e.g.', '', t) for t in pdf_p] \n",
    "pdf_p = [re.sub('e-mail:', '', t) for t in pdf_p] \n",
    "# CHECK ORDER OF OPERATIONS BELOW:\n",
    "#remove email address <-- IMPROVED, BUT E-MAIL SEEMS TO BE BROKEN UP, BUT STILL PRESENT IN DOCUMENTS AT TIMES         \n",
    "pdf_p = [re.sub(r'[\\w\\.\\-]+@[\\w\\.\\-]+\\.(?:com|net|org|live|edu)', \"\", t) for t in pdf_p]"
   ]
  },
  {
   "cell_type": "code",
   "execution_count": 17,
   "metadata": {},
   "outputs": [],
   "source": [
    "pdf_p = [re.sub( r'https?://[^\\s<>\"]+|www\\.[^\\s<>\"]+', \"\", t) for t in pdf_p]\n",
    "pdf_p = [re.sub(\"[\\S\\.\\-\\?\\!\\=]+\\.(net|com|org|info|edu|gov|uk|de|ca|jp|fr|au|us|ru|ch|it|nel|se|no|es|mil)(/[\\S\\.\\-\\?\\!\\=]*)?\\s?\", \" \", t) for t in pdf_p]"
   ]
  },
  {
   "cell_type": "code",
   "execution_count": 18,
   "metadata": {},
   "outputs": [
    {
     "data": {
      "text/plain": [
       "'\\n\\n\\n\\n\\n\\n\\n\\n\\n\\n\\n\\n\\n\\n\\n\\n\\n\\n\\n\\n\\n\\n\\n\\n\\n\\n\\n\\n\\n\\n\\n\\n\\n\\n\\n\\n\\n\\n\\n\\n\\n\\n\\n\\n\\n\\n\\n\\nwhat does team–member exchange bring to the party? a meta‐analytic review of team and leader social exchange\\n\\n\\nwhat does team–member exchange bring to the\\nparty? a meta-analytic review of team and leader\\nsocial exchange\\n\\ngeorge c. banks1*, john h. batchelor2, anson seers3,\\nernest h. o’boyle jr.4, jeffrey m. pollack5 and kim gower6\\n1longwood university, farmville, virginia, u.s.a.\\n2university of west florida, pensacola, florida, u.s.a.\\n3virginia commonwealth university, richmond, virginia, u.s.a.\\n4university of iowa, iowa city, iowa, u.s.a.\\n5university of richmond, richmond, virginia, u.s.a.\\n6virginia state university, petersburg, virginia, u.s.a.\\n\\nsummary both leader–member exchange (lmx) and team–member exchange (tmx) measure the quality of reciprocal\\nexchange among employees in the workplace. although lmx focuses on supervisor–subordinate relation-\\nships while tmx examines the relationships among team members, both have theory-based and empirically\\nproven relations with workplace outcomes such as job performance, organizational commitment, job satisfac-\\ntion, and turnover intentions. however, it is not yet known which has more of an impact on such workplace\\noutcomes—specifically, it is not clear if an employee’s time is best spent developing vertical relationships\\namong supervisors and subordinates (lmx) or on the horizontal relationships among team members\\n(tmx). accordingly, this meta-analysis explores the incremental validity and relative importance of these\\ntwo social exchange-based constructs. the theoretical logic underlying lmx and tmx is clarified, and the\\nparameter estimates between lmx, tmx, and work outcomes are reported. results demonstrate that tmx\\nshows incremental validity above and beyond lmx for some outcomes (organizational commitment and\\njob satisfaction), but not others (job performance and turnover intentions). also, lmx shows greater relative\\nimportance across all four outcomes. in sum, the clarification of the theoretical and empirical landscape lays a\\nfoundation for recommendations for future research. copyright © 2013 john wiley & sons, ltd.\\n\\nkeywords: leader–member exchange (lmx); team–member exchange (tmx); social exchange theory;\\norganizational commitment; job satisfaction; job performance; turnover intentions\\n\\nresearch on role processes in organizational environments dates back over half a century (getzels & guba, 1954).\\nhowever, much of the contemporary research focuses on supervisor–subordinate role relationships negotiated\\nthrough social exchange processes as described by leader–member exchange (lmx) theory (graen & cashman,\\n1975; graen, cashman, ginsburgh, & schiemann, 1977). although the nature of this vertical relationship is impor-\\ntant to consider, as organizational forms become flatter (bettis & hitt, 1995), its salience may diminish relative to\\nhorizontal relationships seen in work teams (avolio, jung, murry, & sivasubramaniam, 1996). over recent decades,\\norganizational structures have been increasingly designed around teams (mesmer-magnus & dechurch, 2009) be-\\ncause of their ability to leverage individual knowl and skills (stevens & campion, 1994). subsequently, recent\\nempirical work (, anand, vidyarthi, liden, & rousseau, 2010; dierdorff, bell, & belohlav, 2011; liao, liu, &\\nloi, 2010) has dedicated greater attention to studies that explore the quality of social exchange relationships within\\nwork groups as described by team–member exchange (tmx) theory (seers, 1989; seers, petty, & cashman, 1995).\\nyet, to date, “there is no substantive empirical evidence to determine whether one form of social exchange still mat-\\nters in the presence of the other” (liao , 2010, p. 1090). accordingly, the quandary in the literature is that we do\\n\\n*correspondence to: george c. banks, longwood university, 201 high street, farmville, virginia 23909, u.s.a.  \\n\\ncopyright © 2013 john wiley & sons, ltd.\\nreceived 16 january 2012\\n\\nrevised 01 june 2013, accepted 16 june 2013\\n\\njournal of organizational behavior, j. organiz. behav. 35, 273–295 (2014)\\npublished online 31 july 2013 in wiley online library  ) doi: 10.1002/job.1885\\n\\nr\\nesearch\\n\\na\\nrticle\\n\\n\\n\\nnot know the incremental and relative contributions of lmx and tmx with regards to key workplace outcomes\\nincluding job performance, job satisfaction, organizational commitment, and turnover intentions.\\nas team-oriented structures arowing in prevalence, a more complete understanding of social exchange rela-\\n\\ntionships within work groups can aid both practitioners and researchers (liao , 2010). just as work on lmx\\nhas made clear that the actual process of supervisory leadership occurs through vertical exchange relationships, in-\\ncreasing interest in team or shared leadership that occurs apart from, or along with, the supervisor’s formal leader-\\nship calls for a better understanding of how horizontal peer exchange relationships may operate alongside vertical\\nrelationships. some research to this point has investigated vertical (lmx) and horizontal (tmx) exchanges in par-\\nallel (tse & dasborough, 2008). more specifically, though, it is not known if the limited time of employees is best\\nspent developing vertical relationships among supervisors and subordinates (lmx) or on the horizontal relation-\\nships among team members (tmx). day, gronn, and salas (2006) echoed this point by describing the diversity\\nin conceptual understandings of team leadership; they noted that there are many theories of team leadership (i.e.,\\ncollective, relational, and individual) and that mapping this territory is an important direction for this line of\\nresearch. such is thal of this study, to bring meta-analytic clarity and consolidation to what is known about\\nhow vertical and horizontal exchanges relate with one another and with important work outcomes, so that\\nresearchers are no longer limited to inferences from various sources.\\nmultiple theoretical and practical contributions em from the present research. for academics, this work pro-\\n\\nvides theoretical clarification of tmx and lmx social exchange-based constructs. in light of this theoretical\\nclarification, we are able to report an estimate of the magnitude of the correlation between lmx and tmx as well\\nas a quantitative summary of the correlations between tmx and four work outcomes (job performance, job\\nsatisfaction, organizational commitment, and turnover intentions) for the first time in the literature. from this, a clear\\noutline for future theoretical and empirical research is presented. additionally, this study moves beyond traditional\\nmeta-analytic reporting to explore whether tmx can provide incremental validity over lmx and whether lmx or\\ntmx demonstrates greater relative importance in each other’s presence when explaining work outcomes.\\nfor practitioners, this is also a crucial step whereby evidence-based, actionable advice is offered. for managers,\\n\\nwho have limited time and resources, knowing where to focus is a crucial point of debate. should managers focus on\\nthe quality of leader–member relationships? should managers focus on facilitating the relationships among team\\nmembers? the literature is conflicted. a summary of which organizational outcomes are influenced more by which\\nexchange (, leader or team) is provided. again, the theoretical and empirical landscapes within the literature are\\nclarified, and practitioners are provided with much-needed direction on how to influence critical organizational\\noutcomes. accordingly, several practical implications of these data are noted as well as recommendations for future\\nresearch aimed at improving the study of lmx and tmx.\\n\\ntheoretical background\\n\\nsocial exchange-based constructs\\n\\nlmx is founded on the notion that leaders develop relationships of different qualities with their subordinates (graen\\n& cashman, 1975; graen , 1977). the relationships that are of high quality are characterized by honesty, the\\nopen exchange of information, and support. leaders contribute opportunities, information, and support in exchange\\nfor effort, commitment, and proactive behaviors from subordinates (wilson, sin, & conlon, 2010). a growing body\\nof evidence has demonstrated the importance of lmx within the work group context (, ford & seers, 2006;\\nhenderson, liden, glibkowski, & chaudhry, 2009; tse, dasborough, & ashkanasy, 2008). yet, to this point, no\\nstudy has examined the magnitude of the importance of lmx relative to tmx in explaining variance in work out-\\ncomes (, job performance, job satisfaction, organizational commitment, and turnover intentions).\\nseers (1989) proposed the construct of tmx to represent the quality of reciprocal exchange among peers\\n\\nwithin a team. tmx was adapted from lmx and represents an individual’s perception of the exchange quality\\n\\n274 g. c. banks \\n\\ncopyright © 2013 john wiley & sons, ltd. j. organiz. behav. 35, 273–295 (2014)\\ndoi: 10.1002/job\\n\\n\\n\\nof his or her role relationship interactions with other team members (seers, 1989). tmx has been formally\\ndefined as a team member’s perception of the quality of “the reciprocity between a member and his or her team\\nwith respect to the member’s contribution of ideas, feedback, and assistance to other members and, in turn, the\\nmember’s receipt of information, help, and recognition from other team members” (seers , 1995, p. 21).\\nthus, tmx represents exchange quality with other team members, not as unique individuals, but in their shared\\nrole as team members.\\nthe use of the word “team” in studies of tmx refers to an instrument of joint performance. we cite the definition\\n\\nproposed by kozlowski, gully, salas, and cannon-bowers (1996): (a) multiple individuals, (b) formed to perform\\ntask-relevant functions, (c) who mutually interact, (d) exhibit task interdependence, (e) possess one or more shared\\ngoals, and (f) are embedded in a broader organizational setting. all of the samples with tmx in this meta-analytic\\nreview reported data from individuals working within a context consistent with this definition of the term “team.”\\nthe work conducted by the teams varied from study to study (, research and development teams to telecommu-\\nnication teams); many of the samples involved project teams. in sum, tmx characterizes team members’ percep-\\ntions of the reciprocity and contributions between themselves and their team members.\\n\\nthe current study\\n\\nthis meta-analytic review focuses on the studies that conducted individual-level hypothesis testing, which reflects\\nthe bulk of the accumulated research. in summary of the relation between lmx and tmx, these parallel constructs\\naddress two different psychologically salient relational counterparts in work settings but are closely related by their\\ncommon derivation. both constructs draw upon role theory and social exchange theory, which emphasize reciprocal\\nreinforcements (jacobs, 1970), but with a few important differences. generally, one individual occupies the super-\\nvisor role while multiple individuals serve in team member roles. also, the nature of reciprocal reinforcement is\\ndifferent in the dyadic supervisor–subordinate relationship of lmx because supervisors have resources and power\\nthat their subordinates lack (graen, 1976). in the instance of tmx, team members are more likely to be on equal\\nfooting in terms of resources and power.\\nacross multiple individuals playing team roles, tmx recognizes that team members form a perception of their\\n\\nteam as a psychological object, to which they have an affiliative relationship (jacobs, 1970). tmx reflects how\\nindividuals see their relational interactions with other members as they represent team identity, rather than as unique\\nindividuals. this is in contrast to lmx where individuals form a specifically dyadic, reciprocal relationship with\\ntheir supervisor as a unique individual. tmx, then, ignores whatever differences there may be between specific\\ndyadic relationships among various team members.\\nlmx similarly reflects characteristic behaviors specific to supervisor–subordinate interaction. unlike tmx, super-\\n\\nvisor–subordinate relationships are specifically dyadic relationships, but the same interpersonal awareness, sensitivity,\\nand concern that allow some individuals to more readily forge strong relationships should operate analogously for\\nlmx as for tmx. as effective working relationships facilitate work performance, they also promote social attachment\\nand make on-the-job experiences more enjoyable. accordingly, we expect that both tmx and lmx explain unique\\nvariance in work outcomes. however, the nature of this contribution is also important to consider.\\nalthough lmx and tmx are distinct constructs (baugh & graen, 1997; seers, 1989), we suggest that individuals\\n\\nwho establish high-quality reciprocal exchange with their leaders (vs. those who fail to do so) also establish high-\\nquality (vs. low-quality) reciprocal exchange with their team. individuals who value high-quality relationships\\nand invest their efforts to that end will likely do so with respect to both their peers and their supervisor. even as\\nno two relationships in which a focal individual participates are identical, what that focal individual brings to differ-\\nent relationships must still incorporate the same characteristic attributes of the individual. for example, nahrgang,\\nmorgeson, and ilies (2009) and bernerth, armenakis, feild, giles, and walker (2007) found member personality\\ncharacteristics to correlate with lmx quality. thus, we hypothesize the following.\\n\\nhypothesis 1: there will be a positive correlation between lmx and tmx.\\n\\nteam and leader exchange 275\\n\\ncopyright © 2013 john wiley & sons, ltd. j. organiz. behav. 35, 273–295 (2014)\\ndoi: 10.1002/job\\n\\n\\n\\nmoderators\\nwe consider several potential moderators of the lmx–tmx relation: industry, scale used, nationality, and publica-\\ntion status. as is the case with all meta-analyses, this study was limited by the data included in the primary studies\\nidentified. unfortunately, several potential theoretically meaningful moderators have not received sufficient empir-\\nical attention necessary to be included in the meta-analytic review. in the discussion section, we review the aspects\\nof the lmx and tmx literature that require future research. despite the limited number of variables in the data, we\\nwere able to explore several potential moderators that might affect the magnitude of the lmx–tmx relation. these\\nmoderators were selected for exploratory purposes, and therefore, we do not make specific hypotheses regarding the\\ndirection or magnitude of the relationships.\\nwe include two potential moderator variables in each of two categories. one category addresses the potential for\\n\\ncontextual moderation. team-oriented practices and forms have become more widespread in general relative to\\ntraditional hierarchy, but we should not expect their spread to be uniform across industries and national cultures.\\nthus, we examined industry type, including professional (, software developers and bankers), industrial (,\\nassembly workers), and mixed or other samples. industry type might well reflect the organizational salience of\\nhorizontal versus vertical relationships because of mimetic practices. macro organizational research has shown that\\norganizations commonly pursueater legitimacy by copying practices and forms from each other and much of this\\ncopying follows industrial lines. industry type has been shown to moderate between constructs of interest in\\nprevious research (kim & mauborgne, 1993). golden (2006), whose study focused on the experiences of telecom-\\nmuters, found a more positive correlation between lmx and job satisfaction relative to tmx and job satisfaction. in\\ncontrast, kamdar and van dyne (2007), whose study examined the workplace experiences of employees in a large\\nmultinational conglomerate, found a stronger correlation between tmx and organizational tenure relative to lmx\\n(nonsignificant) and organizational tenure.\\nsecond, the nationality of participants in studies (, u.s. vs. international) might reflect the relative salience of\\n\\nvertical versus horizontal working relationships because of differing national cultural norms such as power distance\\nand individualism versus collectivism (ashforth & johnson, 2001). previous research has shown that differences in\\nsocial constructs, such as trust and reciprocation, likely exist between nationalities (buchan, croson, & dawes,\\n2002), and many examples of nationality-based moderation (, culture) have been used in prior social ex-\\nchange-based meta-analyses (, dulebohn, bommer, liden, brouer, & ferris, 2012).\\nthe second category included two potential moderators that might reflect method effects or method variance.\\n\\nhere, the lmx scale used was considered as a moderator. many examples of scale-based moderation have been\\nfound in previous meta-analyses (, o’boyle, humphrey, pollack, hawver, & story, 2010). in a similar\\nfashion, we explored the possibility that certain scales affect the relations here. in particular, we noticed that baugh\\nand graen (1997) found a larger magnitude relation between lmx and tmx than did liden, wayne, and sparrowe\\n(2000). from a theory-based perspective, we suggest that it could be the case that older, more established scales (i.e.,\\ngraen and colles) may exhibit a different relation relative to newer and less established measures (liden &\\nmaslyn, 1998). more specifically, whereas the measurement of tmx has been conducted by using\\nscales developed by seers and colles (seers, 1989; seers , 1995), the measurement of the lmx construct\\nhas been conducted with scales developed by graen and colles and liden and maslyn (1998). thus, we\\nconsider whether or not the relationship between lmx and tmx depends on the type of scale used. the final\\nmoderator investigates the possibility that published versus unpublished studies may differ in the quality of research\\nmethods or magnitude of the relations. thus, we investigated how the lmx–tmx relation might vary in published\\nversus unpublished sources.\\n\\nteam–member exchange and work outcomes\\nwe also explored the relations between tmx and job performance, job satisfaction, organizational commitment,\\nand turnover intentions, which are four of the most commonly researched outcomes in management and indus-\\ntrial/organizational psychology. to this point, the accumulation of empirical studies of tmx has not had the\\nsame benefit as lmx with respect to the progression of efforts directed at theoretical extension, conceptual\\n\\n276 g. c. banks \\n\\ncopyright © 2013 john wiley & sons, ltd. j. organiz. behav. 35, 273–295 (2014)\\ndoi: 10.1002/job\\n\\n\\n\\nrefinement, and clarification (, graen & scandura, 1987; graen & uhl-bien, 1995; sparrowe & liden, 1997).\\nthus, we do not focus on the relations between lmx and these four outcomes because previous meta-analytic\\nresearch has already demonstrated the magnitude of these relations (for theoretical logic and effect sizes, see\\ndulebohn , 2012; gerstner & day, 1997). therefore, the following set of hypotheses is focused solely\\non the relations between tmx and these four work outcomes (, job performance, job satisfaction, organiza-\\ntional commitment, and turnover intentions).\\ntmx, by reflecting high-quality working relationships within a team, should predict these outcomes.\\n\\nteams with high-quality, trusting exchange relationships are likely to exchange information and resources\\nand therefore better leverage the skills of individual team members through collaboration (hoegl & wagner,\\n2005). by better utilizing colles, team members are likely to achieve higher performance. relationships\\nthat allow those individuals to better anticipate each other’s actions and accomplish their work efficiently and\\neffectively will greatly facilitate teamwork. furthermore, high-quality exchange relationships allow team\\nmembers the opportunity to realize performance expectations of role senders (seers, 1989). as a result, team\\nmembers with higher levels of tmx are likely to receive better performance evaluations (kamdar & van\\ndyne, 2007; liden , 2000). accordingly, and not surprisingly, research has shown that higher levels\\nof tmx resulted in increased ratings of performance (jordan, feild, & armenakis, 2002).\\n\\nhypothesis 2a: tmx will be positively correlated with individual job performance.\\n\\nhigher levels of tmx are likely to have a positive effect on work attitudes, such as job satisfaction (major,\\nkozlowski, chao, & gardner, 1995). low levels of tmx may reflect troubled relationships with other team\\nmembers, and higher levels may reflect more congenial and more reliable coworker relationships. the benefit of\\nhigher-quality interpersonal relationships may be enjoyable to employees, and thus, they would experience more\\njob satisfaction. for instance, tse and dasborough (2008) argued that, through emotional contagion, positive emo-\\ntions in teams promote team member satisfaction. additionally, higher levels of tmx likely reflect more established\\nroles that are less prone to role ambiguity and should result in increased satisfaction (rizzo, house, & lirtzman,\\n1970). for these reasons, employees with higher-quality tmx are likely to experience higher levels of satisfaction\\n(golden, 2006; liden , 2000).\\n\\nhypothesis 2b: tmx will be positively correlated with individual job satisfaction.\\n\\nthe experience of strong relationships as reflected in high levels of tmx should support psychological attachment in\\nthe work setting, including increased levels of affective commitment, which is strongly tied to overall organizational com-\\nmitment (meyer, stanley, herscovitch, & topolnytsky, 2002). this is because teams with strong interpersonal relation-\\nships are likely to develop affective bonds between team members. by developing reciprocal exchange, on the basis of\\naffective relationships, we expect tmx to have a positive correlation with commitment. empirical evidence supports this\\nposition. for instance, major  (1995) found a significant relationship between tmx and commitment and attributed\\nthis finding to the important role that high-quality coworker relationships play in socialization. when discussing their\\nfindings of a direct link between tmx and organizational commitment, liden  (2000) contended that the association\\nis due to the support and guidance one receives from their interpersonal relationships with coworkers. in other words, co-\\nworkers are key agents for socialization in terms of the role development process of employees. the nature of one’s re-\\nlationship with these individuals is linked to one’s commitment to his or her organization.\\n\\nhypothesis 2c: tmx will be positively correlated with individual organizational commitment.\\n\\nindividuals’ turnover intentions are influenced by a variety of factors (lee & mowday, 1987). with respect to the\\npresent work, high-quality working relationships should affect individuals’ turnover intentions. research indicates, as\\nnoted earlier, that high-quality working relationships benefit individuals’ performance as well as their job satisfaction\\nand organizational commitment. these positive relations are due to the efficiencies and benefits of working well\\n\\nteam and leader exchange 277\\n\\ncopyright © 2013 john wiley & sons, ltd. j. organiz. behav. 35, 273–295 (2014)\\ndoi: 10.1002/job\\n\\n\\n\\ntogether—and when individuals work well together, that decreases any desire to exit the organization. put differently,\\ngiving up good relationships at work is an opportunity cost in its own right. and, not surprisingly, if one expects\\nhigh-quality working relationships and these expectations are not met, this situation is likely to increase one’s turnover\\nintentions (major , 1995; wanous, poland, premack, & davis, 1992). for these reasons, high tmx should be\\nnegatively correlated with turnover intentions.\\n\\nhypothesis 2d: tmx will be negatively correlated with individual turnover intentions.\\n\\nincremental validity and dominance analyses\\n\\nin order to demonstrate that a construct increases our ability to explain variance in work outcomes, the construct\\nneeds to explain additional variance above and beyond other constructs. furthermore, the construct must show its\\nimportance relative to other constructs. therefore, in order to illustrate value in both the social exchange literature\\nand the broader research field, both lmx and tmx must provide a unique contribution in predicting work outcomes\\nin the presence of related constructs. we evaluate the incremental validity of tmx above and beyond lmx.\\nthe lmx literature has enjoyed a greater amount of theoretical and empirical attention in theoretical (dulebohn\\n, 2012; gerstner & day, 1997; graen & uhl-bien, 1995; sparrowe & liden, 1997) and meta-analytic\\nreviews (dulebohn , 2012; gerstner & day, 1997; ilies, nahrgang, & morgeson, 2007). for instance, in their\\nmeta-analysis containing 51 studies, ilies  (2007) found lmx to have a moderately strong relationship (.37)\\nwith citizenship behaviors. further, in a more comprehensive meta-analysis containing 247 studies, dulebohn\\n (2012) found that lmx is a strong mediator of many important relationships involving constructs such as\\ncontingent reward, positive affect, and transformational leadership. from this body of work, we suggest that the\\nburden falls on tmx to demonstrate incremental validity.\\ntmx is a similar yet unique construct with respect to lmx, and consequently, we anticipate that tmx will explain\\n\\nunique variance above that already explained by lmx. we suggest that this will be supported because the dyadic rela-\\ntionships that characterize lmx are between supervisors and subordinates and therefore measure workplace relationships\\ndistinct from the peer interactions measured by tmx. again, these peer interactions form the perception of a team as a\\npsychological object with whom the team member holds a relationship (jacobs, 1970). therefore, tmx should measure\\nunique variance in the work outcomes that are explained by the quality of peer rather than supervisory relationships.\\n\\nhypothesis 3: tmx will demonstrate incremental validity above and beyond lmx in predicting work outcomes.\\n\\nalthough incremental validity tests are useful, they do not answer questions about the relative usefulness of vari-\\nables in a regression model (lebreton, hargis, griepentrog, oswald, & ployhart, 2007). accordingly, we use a\\ndominance analysis based on guidance provided in johnson (2000, 2001) and johnson and lebreton (2004). we\\nsuggest that lmx will explain the majority of the variance in each of the work outcomes relative to tmx. while\\nboth lmx and tmx measure the quality of exchange relationships, the supervisor–subordinate relationship of\\nlmx is unique in that supervisors have access to specific resources, information, and opportunities necessary for\\neffective job performance. supervisors also hold the unique power of being able to reward and punish subordinates.\\nthus, high-quality lmx relationships are likely to be more beneficial for individual job performance as well as ac-\\ntual performance evaluations. for these same reasons, lmx is likely to carry greater relative wt than tmx\\nwhen explaining job satisfaction and commitment. however, because employees likely receive social and emotional\\nsupport from high-quality tmx relationships, the wt of lmx in predicting these outcomes should be less dom-\\ninant. finally, lmx is likely to carry greater relative wt when explaining job performance, job satisfaction, and\\ncommitment; for the same reasons, it is also more likely to influence individual turnover intentions.\\n\\nhypothesis 4: lmx will demonstrateater relative wt compared with tmx when predicting work outcomes.\\n\\n278 g. c. banks \\n\\ncopyright © 2013 john wiley & sons, ltd. j. organiz. behav. 35, 273–295 (2014)\\ndoi: 10.1002/job\\n\\n\\n\\nthis meta-analytic review offers immediate contributions to the social exchange literature. first, we provided theoretical\\nclarification of tmx and lmx as social exchange-based constructs. what we learn from this study allows us to sharply\\ncontrast between tmx and lmx as relationships among peers within a team and the relationship between leader and\\nsubordinate, respectively. we demonstrate ways in which they are related as well as ways they are distinct constructs.\\nsecond, we presented the parameter estimate of the overall lmx–tmx relation as well as across various contex-\\n\\ntual moderators. we also provided estimates of tmx relations with work outcomes. our findings support the\\nperspective that there are positive relations of tmx with individual job performance, job satisfaction, and organiza-\\ntional commitment. as expected, tmx was negatively correlated with turnover intentions. this study thus brings\\nfurther clarity to what is known about teams by showing that one’s perception of the exchange quality across his\\nor her team as a whole is an important consideration, as opposed to one’s dyadic relationships with individual mem-\\nbers (i.e., member–member exchange).\\nthird, we reported the incremental and relative contributions of lmx and tmx. the results of the incremental\\n\\nvalidity analysis demonstrated the ability of tmx to contribute to the explanation of job satisfaction and organiza-\\ntional commitment above and beyond lmx. however, contrary to what was hypothesized, tmx did not provide a\\npractically significant incremental contribution over lmx in explaining individual job performance and turnover\\nintentions. consequently, there appears to be mixed evidence of the contribution from tmx in predicting work\\noutcomes relative to lmx. thus, while tmx does explain practically significant amounts of variance over and\\nabove lmx when predicting organizational commitment and job satisfaction (δr2 = 0.08 and 0.07, respectively),\\ntmx appeared to add little value when predicting job performance and turnover intentions (δr2 = 0.01 and 0.00,\\nrespectively).\\n\\nteam and leader exchange 287\\n\\ncopyright © 2013 john wiley & sons, ltd. j. organiz. behav. 35, 273–295 (2014)\\ndoi: 10.1002/job\\n\\n\\n\\nthe results of the dominance analysis mirror the findings from the incremental validity tests. while tmx\\nexplained approximately 40 percent of the variance in organizational commitment and job satisfaction, it explained\\nless than 25 percent of the variance in job performance and turnover intentions. thus, when investigating individual\\norganizational commitment and job satisfaction in a team context, tmx should be included as a variable of interest.\\nconsequently, the results present a complicated story in which tmx seems to play a critical role in some\\n\\ninstances, while in others it may not. the findings do highlight the importance of beneficial social exchange relation-\\nship with one’s leader, regardless of the relationships one has with one’s teammates. nonetheless, because of the\\nmixed findings, it seems unlikely that lmx will always be completely dominant over tmx. in fact, we suggest that\\nas research on tmx and lmx continues to em, we may see instances in which tmx is more dominant than\\nlmx, particularly when the outcomes that are investigated are more team oriented (, team cohesiveness and\\nteam performance). furthermore, we believe that better reporting practices (necessary to test for important moderat-\\ning variables), better comprehension of theoretically important moderators, and attention to a broader range of out-\\ncomes (including those that are team focused) will allow for a clearer understanding of what both tmx and lmx\\n“bring to the party.” for example, if we do not know how large teams are, how long employees have been a part of\\ntheir teams, how long employees have been developing relationships with their leaders, and how much autonomy\\nteams have from the leader, it is very difficult to make a conclusive statement regarding the contributions of\\ntmx and lmx in predicting work outcomes.\\ngiven the modest number of studies, particularly in some cells of our analysis, we must consider the type of error\\n\\nthat may be made if meta-analysis relies on too few studies. do we increase the risk of violating the assumption that\\nthe studies are normally distributed when there is a small k? when there is a small k, does it reduce the power of the\\ntest? herein, we use the most conservative methods possible (i.e., random-effects model) to ensure accuracy, yet\\nthere is still a need to issue appropriate warning to the reader. because tmx is still a developing research area,\\nall results of this study should be interpreted with caution. for instance, the veracity of results may be limited in\\nsome understudied cell(s). in time, when more research is brought to light on this subject, further conclusive results\\nmay be examined, which could bolster the present findings.\\n\\npractical applications\\n\\nfor practitioners, these results demonstrate the importance of developing both supervisor–subordinate relationships\\nand team member relationships. as organizational forms become flatter (bettis & hitt, 1995), greater research atten-\\ntion must be shifted towards horizontal, peer relationships, such as those found in teams. however, practitioners\\nshould not neglect the importance of supervisor–subordinate relationships and the need for high-quality social\\nexchanges here as well. as this study shows, team–member relationship quality and leader–follower relationship\\nquality relate to one another positively.\\nwe suggest four approaches firms may take to develop and maintain high-quality supervisor–subordinate and\\n\\ntmx relationships. first, firms need to monitor and evaluate exchange relationships. this can be accomplished in\\nmultiple ways. for example, 360-degree feedback assessments (morgeson, mumford, & campion, 2005) give indi-\\nviduals the opportunity to be evaluated by their supervisors, direct reports, coworkers, and themselves. such a prac-\\ntice can be used to identify strhs and developmental needs in employees’ knowl, skills, and abilities\\nnecessary to develop high-quality exchange relationships.\\nsecond, firms can structure training opportunities (potentially based on 360-degree assessments) for leaders\\n\\nand team members to develop the necessary competencies to ge in high-quality lmx and tmx relationships\\n(yukl & lepsinger, 1995). for instance, liao  (2010) pointed out that the leadership behavior individualized\\nconsideration, which is a skill that can be trained (barling, weber, & kelloway, 1996), has been linked with\\nhigher-quality lmx relationships. in addition to skills training, firms may elect to ge in training that is directly\\nfocused on developing interpersonal relationships, such as team-building exercises.\\n\\n288 g. c. banks \\n\\ncopyright © 2013 john wiley & sons, ltd. j. organiz. behav. 35, 273–295 (2014)\\ndoi: 10.1002/job\\n\\n\\n\\nthird, firms should consider implementing work structures and reporting relationships that facilitate the open\\nexchange of information, which are necessary to improve the quality of social exchanges. this focus on intentional\\nwork design, as a means to improve lmx and tmx relationships, would not necessarily replace needed training on\\ntechniques such as interpersonal skills. however, work design and employer attention to the social aspects of work,\\nand in particular, the increasing importance of teams, may foster more effective work environments (oldham &\\nhackman, 2010).\\nfourth, our findings that tmx relates positively with job performance, job satisfaction, organizational commit-\\n\\nment, and turnover yet only increments lmx for organizational commitment and job satisfaction are important\\nfor practitioners. time is a finite resource for those ged in business. thus, organizations wish to be as efficient\\nas possible with the time allotted to training and other interventions. for this reason, if a choice must be made in\\nallocating time between tmx-related and lmx-related interventions, those employees diagnosed with commitment\\nand satisfaction issues may be best served by training related to both constructs. for those diagnosed with job\\nperformance issues and the intention to turnover, under tight time constraints, interventions should focus primarily\\non lmx-related skills.\\n\\nlimitations and future directions\\n\\nas with most meta-analyses, a limitation of this work derives from shortcomings in the primary studies we reviewed.\\nfirst, too few studies of group-level factors in relation to tmx currently exist for examining how relational interac-\\ntions among peer coworkers shape the characteristic nature of teams, even as no team has a unique nature apart from\\nsuch interactions. moroup-level studies are needed, and especially studies that investigate how working relation-\\nships facilitate cooperation, coordination, and performance at the team level. longitudinal studies would be most\\nhelpful in this respect.\\nsecond, basic reporting issues limited the ability to explore moderators such as average team tenure and average\\n\\nnumber of participants per team. for instance, higher average team tenure may result in higher levels of tmx as it\\ncan take time for such relationships to develop. relatively speaking, lmx relationships with one individual (i.e., the\\nleader) may develop more quickly than tmx with multiple team members. the total number of participants per\\nteam may also play an important role. for example, larger teams may make it more difficult for a subordinate to\\ndevelop high-quality exchange relationships with the leader, as the leader likely has to attend to many more mem-\\nbers. lmx is founded on the notion that leaders develop exchange relationships of different quality. better reporting\\npractices in primary studies would allow for the testing of such moderating constructs.\\nanother potential moderator of the relative importance of lmx quality compared with tmx would be the extent\\n\\nto which a team has work autonomy from a supervisor (i.e., self-managed teams). teams with more autonomy\\nundoubtedly require less interaction with a leader and may ge in leadership behaviors within the team.\\nfurthermore, the need to develop high-quality lmx relationships will be attenuated, as leaders will be less likely\\nto control pertinent information and resources. therefore, future research should attempt to operationally define\\nand measure the extent of team autonomy in order to evaluate its moderating influence. additionally, future studies\\nshould indicate when team leaders are considered team members when measuring tmx. because of their status,\\nleaders are highly salient group members (connelly, gaddis, & helton-fauth, 2002), making them highly influential\\nteam members. it is possible that leader inclusion has an effect on tmx ratings by team members. for this reason,\\nfuture research should investigate team leader inclusion as a moderator.\\nthird, differentiation has also been considered as an important factor when exploring lmx within work groups\\n\\n(ford & seers, 2006; liao , 2010), but not enough primary studies currently exist to incorporate it into a meta-\\nanalysis. differentiation is characterized by the extent of quality variability in lmx and tmx relationships. previ-\\nous research has demonstrated that lmx differentiation attenuated the value of lmx quality while it augmented the\\nvalue of tmx quality on self-efficacy and creativity (liao , 2010). thus, more studies should investigate dif-\\nferentiation as an important construct to be considered. additionally, we know of only one study, an unpublished\\n\\nteam and leader exchange 289\\n\\ncopyright © 2013 john wiley & sons, ltd. j. organiz. behav. 35, 273–295 (2014)\\ndoi: 10.1002/job\\n\\n\\n\\ndoctoral dissertation (keup, 2000), that has attempted to directly compare dyadic peer aggregation with tmx, but\\npublishable research comparing tmx with dyadic peer analysis remains an important gap in the literature.\\nfinally, further studies are needed for better understanding other outcomes, such as citizenship behaviors and coun-\\n\\nterproductive work behavior, as well as team-focused outcomes, including team cohesiveness and team performance. it\\nis likely that the relative importance of tmx, compared with lmx, is greater in work situations in which success is\\ncontingent upon strong social exchange relationships between team members. furthermore, perceived organizational\\nsupport (pos) should also be considered in future research. unfortunately, the number of samples with pos was too\\nsmall to include in this meta-analytic review. individuals have a somewhat affiliative relationship to the employing\\norganization as a psychological object. eisenbr, huntington, hutchison, and sowa (1986) based their proposal of\\nthe pos construct on levinson’s (1965) observation that individuals personify their employing organization, viewing\\nactions by organizational agents as actions of the organization itself. this personification is integral to an employee’s\\nsense of a psychological contract (rousseau & parks, 1992) as a reciprocal exchange relationship with the organization.\\nposmay complement lmx and tmx, or it may provide redundant information. thus, future research should consider\\nthe relative wt of pos as well as the potential incremental validity above and beyond lmx and tmx.\\n\\nconclusion\\n\\nthe use of teams within firms has continued to increase over recent decades in order to better capitalize on the\\nsynst effects of collaboration. the results of this study provide mixed evidence for the contribution of tmx,\\ncompared with lmx, when predicting outcomes in the workplace. tmx did demonstrate incremental validity\\nand a moderate relative contribution when predicting organizational commitment and job satisfaction, but tmx\\nadded little value when predicting job performance and turnover intentions.\\nresearch on tmx continues to increase (anand , 2010; dierdorff , 2011; liao , 2010; liao, yang,\\n\\nwang, drown, & shi, ; muñoz-doyague & nieto, 2012). yet, a re-focused research agenda that includes better\\nreporting practices, the inclusion of theoretically meaningful moderators, and a broader range of outcomes (,\\nteam-oriented outcomes) is needed. thus, while it appears that tmx adds value in predicting some outcomes, more\\nresearch is needed in order to identify, under differing conditions, the relative and unique contributions of tmx and\\nlmx quality within work groups.\\n\\nacknowlment\\n\\nsuggestions by michael a. mcdaniel were valuable in the improvement of this paper and wereatly appreciated.\\n\\nauthor biographies\\n\\ngeorge banks (phd, virginia commonwealth university, 2012) is an assistant professor of management at\\nlongwood university. his substantive areas of research include personnel selection, strategic human resources man-\\nagement, and research methodology.his work on these topics has appeared in journals such as journal of applied\\npsychology and organizational research methods.\\njohn batchelor (phd, virginia commonwealth university, 2011) is an assistant professor of management at west\\nflorida. his substantive areas of teaching and research interests include emotional labor, leadership, entrepreneur-\\nship, and meta-analysis.\\n\\n290 g. c. banks \\n\\ncopyright © 2013 john wiley & sons, ltd. j. organiz. behav. 35, 273–295 (2014)\\ndoi: 10.1002/job\\n\\n\\n\\nanson seers (phd, university of cincinnati, 1981) is a professor emeritus in the school of business at virginia\\ncommonwealth university. his areas of research expertise are leadership and organizational behavior.\\nernest o’boyle (phd, virginia commonwealth university, 2010) is an assistant professor of management and or-\\nganizations at the university of iowa. his research interests include counterproductive work behaviors, human per-\\nformance, and research methodology. his work on these topics has appeared in journals such as journal of applied\\npsychology, , organizational research methods, personnel psychology, and psychological\\nbulletin.\\njeffrey m. pollack (phd, virginia commonwealth university, 2009) is an assistant professor in the robins school\\nof business at the university of richmond. he conducts research on, and teaches classes involving, the topic of en-\\ntrepreneurship and the determinants of performance at the firm and individual levels.\\nkim gower (phd, virginia commonwealth university, 2012) is an assistant professor in the reginald f. lewis\\nschool of business at virginia state university. she conducts research on, and teaches classes involving, the topics\\nof leadership and organizational behavior.\\n'"
      ]
     },
     "execution_count": 18,
     "metadata": {},
     "output_type": "execute_result"
    }
   ],
   "source": [
    "pdf_p[ref_doc]"
   ]
  },
  {
   "cell_type": "code",
   "execution_count": 19,
   "metadata": {},
   "outputs": [],
   "source": [
    "#remove hyphon only if it is at the end of the line.\n",
    "#pdf_p = [re.sub(r'(\\W[a-z]+)-\\n(\\W[a-z]+)', r'\\1\\2', t) for t in pdf_p]\n",
    "pdf_p = [re.sub(r'-\\n', '', t) for t in pdf_p]"
   ]
  },
  {
   "cell_type": "code",
   "execution_count": 20,
   "metadata": {},
   "outputs": [],
   "source": [
    "#remove text within ()\n",
    "pdf_p = [re.sub(r\"\\([^)]*\\)\", \"\", t) for t in pdf_p]\n",
    "# remove text with [] eg citation\n",
    "pdf_p = [re.sub(r\"\\[[^)]*\\]\", \"\", t) for t in pdf_p]\n",
    "#Remove numbers\n",
    "pdf_p = [re.sub('[0-9]+', '', f) for f in pdf_p]\n"
   ]
  },
  {
   "cell_type": "code",
   "execution_count": 21,
   "metadata": {},
   "outputs": [],
   "source": [
    "pdf_p = [re.sub('[\\n\\r]+', ' ', f) for f in pdf_p] # remove newline and linebreak characters, replace with space\n",
    "pdf_p = [re.sub('[@/%#$,=\\+:’“”]', ' ', f) for f in pdf_p] # remove stray non-word characters"
   ]
  },
  {
   "cell_type": "code",
   "execution_count": 22,
   "metadata": {},
   "outputs": [],
   "source": [
    "#pdf_p = [re.sub(r\"\\s\\([A-Z][a-z]+,\\s[A-Z][a-z]?\\.[^\\)]*,\\s\\d{4}\\)\", \"\", f) for f in pdf_p] # is this supposed to filter out citations?\n",
    "\n",
    "# save all periods, exclamation marks and question marks, but get rid of unnecessary characters\n",
    "pdf_p = [re.sub('[\\.!?]+ ', 'XYZXYZ', t) for t in pdf_p]\n",
    "pdf_p = [re.sub('-', 'ZYXXYZ', t) for t in pdf_p]\n",
    "pdf_p = [re.sub('[\\W_]+', ' ', f) for f in pdf_p]\n",
    "pdf_p = [re.sub('XYZXYZ', '. ', f) for f in pdf_p]\n",
    "pdf_p = [re.sub('ZYXXYZ', '-', f) for f in pdf_p]\n",
    "#pdf_p[0]\n",
    "\n",
    "#Remove placeholder x repetitions\n",
    "pdf_p = [re.sub(' x+ ', '', f) for f in pdf_p]\n",
    "\n",
    "# remove single characters\n",
    "pdf_p = [re.sub(' [a-z] ' ,  ' ', f) for f in pdf_p]\n",
    "pdf_p = [re.sub(' [a-z]\\.', '.', f) for f in pdf_p]\n",
    "pdf_p = [re.sub(' \\.', '.', f) for f in pdf_p]"
   ]
  },
  {
   "cell_type": "code",
   "execution_count": 23,
   "metadata": {},
   "outputs": [
    {
     "name": "stdout",
     "output_type": "stream",
     "text": [
      " what does team member exchange bring to the party. meta analytic review of team and leader social exchange what does team member exchange bring to the party. meta-analytic review of team and leader social exchange george. banks john. batchelor anson seers ernest. boyle jr.  jeffrey. pollack and kim gower longwood university farmville virginia s. university of west florida pensacola florida s. virginia commonwealth university richmond virginia s. university of iowa iowa city iowa s. university of richmond richmond virginia s. virginia state university petersburg virginia s. summary both leader member exchange and team member exchange measure the quality of reciprocal exchange among employees in the workplace. although lmx focuses on supervisor subordinate relationships while tmx examines the relationships among team members both have theory-based and empirically proven relations with workplace outcomes such as job performance organizational commitment job satisfaction and turnover intentions. however it is not yet known which has more of an impact on such workplace outcomes specifically it is not clear if an employee time is best spent developing vertical relationships among supervisors and subordinates or on the horizontal relationships among team members. accordingly this meta-analysis explores the incremental validity and relative importance of these two social exchange-based constructs. the theoretical logic underlying lmx and tmx is clarified and the parameter estimates between lmx tmx and work outcomes are reported. results demonstrate that tmx shows incremental validity above and beyond lmx for some outcomes but not others. also lmx shows greater relative importance across all four outcomes. in sum the clarification of the theoretical and empirical landscape lays foundation for recommendations for future research. copyright john wiley sons ltd. keywords leader member exchange team member exchange social exchange theory organizational commitment job satisfaction job performance turnover intentions research on role processes in organizational environments dates back over half century. however much of the contemporary research focuses on supervisor subordinate role relationships negotiated through social exchange processes as described by leader member exchange theory. although the nature of this vertical relationship is important to consider as organizational forms become flatter its salience may diminish relative to horizontal relationships seen in work teams. over recent decades organizational structures have been increasingly designed around teams because of their ability to leverage individual knowl and skills. subsequently recent empirical work has dedicated greater attention to studies that explore the quality of social exchange relationships within work groups as described by team member exchange theory. yet to date there is no substantive empirical evidence to determine whether one form of social exchange still matters in the presence of the other. accordingly the quandary in the literature is that we do correspondence to george. banks longwood university high street farmville virginia s.  copyright john wiley sons ltd. received january revised june accepted june journal of organizational behavior. organiz. behav.  published online july in wiley online library doi. job. esearch rticle not know the incremental and relative contributions of lmx and tmx with regards to key workplace outcomes including job performance job satisfaction organizational commitment and turnover intentions. as team-oriented structures arowing in prevalence more complete understanding of social exchange rela tionships within work groups can aid both practitioners and researchers. just as work on lmx has made clear that the actual process of supervisory leadership occurs through vertical exchange relationships increasing interest in team or shared leadership that occurs apart from or along with the supervisor formal leadership calls for better understanding of how horizontal peer exchange relationships may operate alongside vertical relationships. some research to this point has investigated vertical and horizontal exchanges in parallel. more specifically though it is not known if the limited time of employees is best spent developing vertical relationships among supervisors and subordinates or on the horizontal relationships among team members. day gronn and salas echoed this point by describing the diversity in conceptual understandings of team leadership they noted that there are many theories of team leadership and that mapping this territory is an important direction for this line of research. such is thal of this study to bring meta-analytic clarity and consolidation to what is known about how vertical and horizontal exchanges relate with one another and with important work outcomes so that researchers are no longer limited to inferences from various sources. multiple theoretical and practical contributions em from the present research. for academics this work pro vides theoretical clarification of tmx and lmx social exchange-based constructs. in light of this theoretical clarification we are able to report an estimate of the magnitude of the correlation between lmx and tmx as well as quantitative summary of the correlations between tmx and four work outcomes for the first time in the literature. from this clear outline for future theoretical and empirical research is presented. additionally this study moves beyond traditional meta-analytic reporting to explore whether tmx can provide incremental validity over lmx and whether lmx or tmx demonstrates greater relative importance in each other presence when explaining work outcomes. for practitioners this is also crucial step whereby evidence-based actionable advice is offered. for managers who have limited time and resources knowing where to focus is crucial point of debate. should managers focus on the quality of leader member relationships. should managers focus on facilitating the relationships among team members. the literature is conflicted. summary of which organizational outcomes are influenced more by which exchange is provided. again the theoretical and empirical landscapes within the literature are clarified and practitioners are provided with much-needed direction on how to influence critical organizational outcomes. accordingly several practical implications of these data are noted as well as recommendations for future research aimed at improving the study of lmx and tmx. theoretical background social exchange-based constructs lmx is founded on the notion that leaders develop relationships of different qualities with their subordinates. the relationships that are of high quality are characterized by honesty the open exchange of information and support. leaders contribute opportunities information and support in exchange for effort commitment and proactive behaviors from subordinates. growing body of evidence has demonstrated the importance of lmx within the work group context. yet to this point no study has examined the magnitude of the importance of lmx relative to tmx in explaining variance in work outcomes. seers proposed the construct of tmx to represent the quality of reciprocal exchange among peers within team. tmx was adapted from lmx and represents an individual perception of the exchange quality.. banks copyright john wiley sons ltd.. organiz. behav.  doi. job of his or her role relationship interactions with other team members. tmx has been formally defined as team member perception of the quality of the reciprocity between member and his or her team with respect to the member contribution of ideas feedback and assistance to other members and in turn the member receipt of information help and recognition from other team members. thus tmx represents exchange quality with other team members not as unique individuals but in their shared role as team members. the use of the word team in studies of tmx refers to an instrument of joint performance. we cite the definition proposed by kozlowski gully salas and cannon-bowers multiple individuals formed to perform task-relevant functions who mutually interact exhibit task interdependence possess one or more shared goals and are embedded in broader organizational setting. all of the samples with tmx in this meta-analytic review reported data from individuals working within context consistent with this definition of the term team.  the work conducted by the teams varied from study to study many of the samples involved project teams. in sum tmx characterizes team members perceptions of the reciprocity and contributions between themselves and their team members. the current study this meta-analytic review focuses on the studies that conducted individual-level hypothesis testing which reflects the bulk of the accumulated research. in summary of the relation between lmx and tmx these parallel constructs address two different psychologically salient relational counterparts in work settings but are closely related by their common derivation. both constructs draw upon role theory and social exchange theory which emphasize reciprocal reinforcements but with few important differences. generally one individual occupies the supervisor role while multiple individuals serve in team member roles. also the nature of reciprocal reinforcement is different in the dyadic supervisor subordinate relationship of lmx because supervisors have resources and power that their subordinates lack. in the instance of tmx team members are more likely to be on equal footing in terms of resources and power. across multiple individuals playing team roles tmx recognizes that team members form perception of their team as psychological object to which they have an affiliative relationship. tmx reflects how individuals see their relational interactions with other members as they represent team identity rather than as unique individuals. this is in contrast to lmx where individuals form specifically dyadic reciprocal relationship with their supervisor as unique individual. tmx then ignores whatever differences there may be between specific dyadic relationships among various team members. lmx similarly reflects characteristic behaviors specific to supervisor subordinate interaction. unlike tmx super visor subordinate relationships are specifically dyadic relationships but the same interpersonal awareness sensitivity and concern that allow some individuals to more readily forge strong relationships should operate analogously for lmx as for tmx. as effective working relationships facilitate work performance they also promote social attachment and make on-the-job experiences more enjoyable. accordingly we expect that both tmx and lmx explain unique variance in work outcomes. however the nature of this contribution is also important to consider. although lmx and tmx are distinct constructs we suggest that individuals who establish high-quality reciprocal exchange with their leaders also establish highquality reciprocal exchange with their team. individuals who value high-quality relationships and invest their efforts to that end will likely do so with respect to both their peers and their supervisor. even as no two relationships in which focal individual participates are identical what that focal individual brings to different relationships must still incorporate the same characteristic attributes of the individual. for example nahrgang morgeson and ilies and bernerth armenakis feild giles and walker found member personality characteristics to correlate with lmx quality. thus we hypothesize the following. hypothesis there will be positive correlation between lmx and tmx. team and leader exchange copyright john wiley sons ltd.. organiz. behav.  doi. job moderators we consider several potential moderators of the lmx tmx relation industry scale used nationality and publication status. as is the case with all meta-analyses this study was limited by the data included in the primary studies identified. unfortunately several potential theoretically meaningful moderators have not received sufficient empirical attention necessary to be included in the meta-analytic review. in the discussion section we review the aspects of the lmx and tmx literature that require future research. despite the limited number of variables in the data we were able to explore several potential moderators that might affect the magnitude of the lmx tmx relation. these moderators were selected for exploratory purposes and therefore we do not make specific hypotheses regarding the direction or magnitude of the relationships. we include two potential moderator variables in each of two categories. one category addresses the potential for contextual moderation. team-oriented practices and forms have become more widespread in general relative to traditional hierarchy but we should not expect their spread to be uniform across industries and national cultures. thus we examined industry type including professional industrial and mixed or other samples. industry type might well reflect the organizational salience of horizontal versus vertical relationships because of mimetic practices. macro organizational research has shown that organizations commonly pursueater legitimacy by copying practices and forms from each other and much of this copying follows industrial lines. industry type has been shown to moderate between constructs of interest in previous research. golden whose study focused on the experiences of telecommuters found more positive correlation between lmx and job satisfaction relative to tmx and job satisfaction. in contrast kamdar and van dyne whose study examined the workplace experiences of employees in large multinational conglomerate found stronger correlation between tmx and organizational tenure relative to lmx and organizational tenure. second the nationality of participants in studies might reflect the relative salience of vertical versus horizontal working relationships because of differing national cultural norms such as power distance and individualism versus collectivism. previous research has shown that differences in social constructs such as trust and reciprocation likely exist between nationalities and many examples of nationality-based moderation have been used in prior social exchange-based meta-analyses. the second category included two potential moderators that might reflect method effects or method variance. here the lmx scale used was considered as moderator. many examples of scale-based moderation have been found in previous meta-analyses. in similar fashion we explored the possibility that certain scales affect the relations here. in particular we noticed that baugh and graen found larger magnitude relation between lmx and tmx than did liden wayne and sparrowe. from theory-based perspective we suggest that it could be the case that older more established scales may exhibit different relation relative to newer and less established measures. more specifically whereas the measurement of tmx has been conducted by using scales developed by seers and colles the measurement of the lmx construct has been conducted with scales developed by graen and colles and liden and maslyn. thus we consider whether or not the relationship between lmx and tmx depends on the type of scale used. the final moderator investigates the possibility that published versus unpublished studies may differ in the quality of research methods or magnitude of the relations. thus we investigated how the lmx tmx relation might vary in published versus unpublished sources. team member exchange and work outcomes we also explored the relations between tmx and job performance job satisfaction organizational commitment and turnover intentions which are four of the most commonly researched outcomes in management and industrial organizational psychology. to this point the accumulation of empirical studies of tmx has not had the same benefit as lmx with respect to the progression of efforts directed at theoretical extension conceptual.. banks copyright john wiley sons ltd.. organiz. behav.  doi. job refinement and clarification. thus we do not focus on the relations between lmx and these four outcomes because previous meta-analytic research has already demonstrated the magnitude of these relations. therefore the following set of hypotheses is focused solely on the relations between tmx and these four work outcomes. tmx by reflecting high-quality working relationships within team should predict these outcomes. teams with high-quality trusting exchange relationships are likely to exchange information and resources and therefore better leverage the skills of individual team members through collaboration. by better utilizing colles team members are likely to achieve higher performance. relationships that allow those individuals to better anticipate each other actions and accomplish their work efficiently and effectively will greatly facilitate teamwork. furthermore high-quality exchange relationships allow team members the opportunity to realize performance expectations of role senders. as result team members with higher levels of tmx are likely to receive better performance evaluations. accordingly and not surprisingly research has shown that higher levels of tmx resulted in increased ratings of performance. hypothesis tmx will be positively correlated with individual job performance. higher levels of tmx are likely to have positive effect on work attitudes such as job satisfaction. low levels of tmx may reflect troubled relationships with other team members and higher levels may reflect more congenial and more reliable coworker relationships. the benefit of higher-quality interpersonal relationships may be enjoyable to employees and thus they would experience more job satisfaction. for instance tse and dasborough argued that through emotional contagion positive emotions in teams promote team member satisfaction. additionally higher levels of tmx likely reflect more established roles that are less prone to role ambiguity and should result in increased satisfaction. for these reasons employees with higher-quality tmx are likely to experience higher levels of satisfaction. hypothesis tmx will be positively correlated with individual job satisfaction. the experience of strong relationships as reflected in high levels of tmx should support psychological attachment in the work setting including increased levels of affective commitment which is strongly tied to overall organizational commitment. this is because teams with strong interpersonal relationships are likely to develop affective bonds between team members. by developing reciprocal exchange on the basis of affective relationships we expect tmx to have positive correlation with commitment. empirical evidence supports this position. for instance major found significant relationship between tmx and commitment and attributed this finding to the important role that high-quality coworker relationships play in socialization. when discussing their findings of direct link between tmx and organizational commitment liden contended that the association is due to the support and guidance one receives from their interpersonal relationships with coworkers. in other words coworkers are key agents for socialization in terms of the role development process of employees. the nature of one relationship with these individuals is linked to one commitment to his or her organization. hypothesis tmx will be positively correlated with individual organizational commitment. individuals turnover intentions are influenced by variety of factors. with respect to the present work high-quality working relationships should affect individuals turnover intentions. research indicates as noted earlier that high-quality working relationships benefit individuals performance as well as their job satisfaction and organizational commitment. these positive relations are due to the efficiencies and benefits of working well team and leader exchange copyright john wiley sons ltd.. organiz. behav.  doi. job together and when individuals work well together that decreases any desire to exit the organization. put differently giving up good relationships at work is an opportunity cost in its own right. and not surprisingly if one expects high-quality working relationships and these expectations are not met this situation is likely to increase one turnover intentions. for these reasons high tmx should be negatively correlated with turnover intentions. hypothesis tmx will be negatively correlated with individual turnover intentions. incremental validity and dominance analyses in order to demonstrate that construct increases our ability to explain variance in work outcomes the construct needs to explain additional variance above and beyond other constructs. furthermore the construct must show its importance relative to other constructs. therefore in order to illustrate value in both the social exchange literature and the broader research field both lmx and tmx must provide unique contribution in predicting work outcomes in the presence of related constructs. we evaluate the incremental validity of tmx above and beyond lmx. the lmx literature has enjoyed greater amount of theoretical and empirical attention in theoretical and meta-analytic reviews. for instance in their meta-analysis containing studies ilies found lmx to have moderately strong relationship with citizenship behaviors. further in more comprehensive meta-analysis containing studies dulebohn found that lmx is strong mediator of many important relationships involving constructs such as contingent reward positive affect and transformational leadership. from this body of work we suggest that the burden falls on tmx to demonstrate incremental validity. tmx is similar yet unique construct with respect to lmx and consequently we anticipate that tmx will explain unique variance above that already explained by lmx. we suggest that this will be supported because the dyadic relationships that characterize lmx are between supervisors and subordinates and therefore measure workplace relationships distinct from the peer interactions measured by tmx. again these peer interactions form the perception of team as psychological object with whom the team member holds relationship. therefore tmx should measure unique variance in the work outcomes that are explained by the quality of peer rather than supervisory relationships. hypothesis tmx will demonstrate incremental validity above and beyond lmx in predicting work outcomes. although incremental validity tests are useful they do not answer questions about the relative usefulness of variables in regression model. accordingly we use dominance analysis based on guidance provided in johnson and johnson and lebreton. we suggest that lmx will explain the majority of the variance in each of the work outcomes relative to tmx. while both lmx and tmx measure the quality of exchange relationships the supervisor subordinate relationship of lmx is unique in that supervisors have access to specific resources information and opportunities necessary for effective job performance. supervisors also hold the unique power of being able to reward and punish subordinates. thus high-quality lmx relationships are likely to be more beneficial for individual job performance as well as actual performance evaluations. for these same reasons lmx is likely to carry greater relative wt than tmx when explaining job satisfaction and commitment. however because employees likely receive social and emotional support from high-quality tmx relationships the wt of lmx in predicting these outcomes should be less dominant. finally lmx is likely to carry greater relative wt when explaining job performance job satisfaction and commitment for the same reasons it is also more likely to influence individual turnover intentions. hypothesis lmx will demonstrateater relative wt compared with tmx when predicting work outcomes... banks copyright john wiley sons ltd.. organiz. behav.  doi. job this meta-analytic review offers immediate contributions to the social exchange literature. first we provided theoretical clarification of tmx and lmx as social exchange-based constructs. what we learn from this study allows us to sharply contrast between tmx and lmx as relationships among peers within team and the relationship between leader and subordinate respectively. we demonstrate ways in which they are related as well as ways they are distinct constructs. second we presented the parameter estimate of the overall lmx tmx relation as well as across various contex tual moderators. we also provided estimates of tmx relations with work outcomes. our findings support the perspective that there are positive relations of tmx with individual job performance job satisfaction and organizational commitment. as expected tmx was negatively correlated with turnover intentions. this study thus brings further clarity to what is known about teams by showing that one perception of the exchange quality across his or her team as whole is an important consideration as opposed to one dyadic relationships with individual members. third we reported the incremental and relative contributions of lmx and tmx. the results of the incremental validity analysis demonstrated the ability of tmx to contribute to the explanation of job satisfaction and organizational commitment above and beyond lmx. however contrary to what was hypothesized tmx did not provide practically significant incremental contribution over lmx in explaining individual job performance and turnover intentions. consequently there appears to be mixed evidence of the contribution from tmx in predicting work outcomes relative to lmx. thus while tmx does explain practically significant amounts of variance over and above lmx when predicting organizational commitment and job satisfaction tmx appeared to add little value when predicting job performance and turnover intentions. team and leader exchange copyright john wiley sons ltd.. organiz. behav.  doi. job the results of the dominance analysis mirror the findings from the incremental validity tests. while tmx explained approximately percent of the variance in organizational commitment and job satisfaction it explained less than percent of the variance in job performance and turnover intentions. thus when investigating individual organizational commitment and job satisfaction in team context tmx should be included as variable of interest. consequently the results present complicated story in which tmx seems to play critical role in some instances while in others it may not. the findings do highlight the importance of beneficial social exchange relationship with one leader regardless of the relationships one has with one teammates. nonetheless because of the mixed findings it seems unlikely that lmx will always be completely dominant over tmx. in fact we suggest that as research on tmx and lmx continues to em we may see instances in which tmx is more dominant than lmx particularly when the outcomes that are investigated are more team oriented. furthermore we believe that better reporting practices better comprehension of theoretically important moderators and attention to broader range of outcomes will allow for clearer understanding of what both tmx and lmx bring to the party.  for example if we do not know how large teams are how long employees have been part of their teams how long employees have been developing relationships with their leaders and how much autonomy teams have from the leader it is very difficult to make conclusive statement regarding the contributions of tmx and lmx in predicting work outcomes. given the modest number of studies particularly in some cells of our analysis we must consider the type of error that may be made if meta-analysis relies on too few studies. do we increase the risk of violating the assumption that the studies are normally distributed when there is small. when there is small does it reduce the power of the test. herein we use the most conservative methods possible to ensure accuracy yet there is still need to issue appropriate warning to the reader. because tmx is still developing research area all results of this study should be interpreted with caution. for instance the veracity of results may be limited in some understudied cell. in time when more research is brought to light on this subject further conclusive results may be examined which could bolster the present findings. practical applications for practitioners these results demonstrate the importance of developing both supervisor subordinate relationships and team member relationships. as organizational forms become flatter greater research attention must be shifted towards horizontal peer relationships such as those found in teams. however practitioners should not neglect the importance of supervisor subordinate relationships and the need for high-quality social exchanges here as well. as this study shows team member relationship quality and leader follower relationship quality relate to one another positively. we suggest four approaches firms may take to develop and maintain high-quality supervisor subordinate and tmx relationships. first firms need to monitor and evaluate exchange relationships. this can be accomplished in multiple ways. for example -degree feedback assessments give individuals the opportunity to be evaluated by their supervisors direct reports coworkers and themselves. such practice can be used to identify strhs and developmental needs in employees knowl skills and abilities necessary to develop high-quality exchange relationships. second firms can structure training opportunities for leaders and team members to develop the necessary competencies to ge in high-quality lmx and tmx relationships. for instance liao pointed out that the leadership behavior individualized consideration which is skill that can be trained has been linked with higher-quality lmx relationships. in addition to skills training firms may elect to ge in training that is directly focused on developing interpersonal relationships such as team-building exercises... banks copyright john wiley sons ltd.. organiz. behav.  doi. job third firms should consider implementing work structures and reporting relationships that facilitate the open exchange of information which are necessary to improve the quality of social exchanges. this focus on intentional work design as means to improve lmx and tmx relationships would not necessarily replace needed training on techniques such as interpersonal skills. however work design and employer attention to the social aspects of work and in particular the increasing importance of teams may foster more effective work environments. fourth our findings that tmx relates positively with job performance job satisfaction organizational commit ment and turnover yet only increments lmx for organizational commitment and job satisfaction are important for practitioners. time is finite resource for those ged in business. thus organizations wish to be as efficient as possible with the time allotted to training and other interventions. for this reason if choice must be made in allocating time between tmx-related and lmx-related interventions those employees diagnosed with commitment and satisfaction issues may be best served by training related to both constructs. for those diagnosed with job performance issues and the intention to turnover under tight time constraints interventions should focus primarily on lmx-related skills. limitations and future directions as with most meta-analyses limitation of this work derives from shortcomings in the primary studies we reviewed. first too few studies of group-level factors in relation to tmx currently exist for examining how relational interactions among peer coworkers shape the characteristic nature of teams even as no team has unique nature apart from such interactions. moroup-level studies are needed and especially studies that investigate how working relationships facilitate cooperation coordination and performance at the team level. longitudinal studies would be most helpful in this respect. second basic reporting issues limited the ability to explore moderators such as average team tenure and average number of participants per team. for instance higher average team tenure may result in higher levels of tmx as it can take time for such relationships to develop. relatively speaking lmx relationships with one individual may develop more quickly than tmx with multiple team members. the total number of participants per team may also play an important role. for example larger teams may make it more difficult for subordinate to develop high-quality exchange relationships with the leader as the leader likely has to attend to many more members. lmx is founded on the notion that leaders develop exchange relationships of different quality. better reporting practices in primary studies would allow for the testing of such moderating constructs. another potential moderator of the relative importance of lmx quality compared with tmx would be the extent to which team has work autonomy from supervisor. teams with more autonomy undoubtedly require less interaction with leader and may ge in leadership behaviors within the team. furthermore the need to develop high-quality lmx relationships will be attenuated as leaders will be less likely to control pertinent information and resources. therefore future research should attempt to operationally define and measure the extent of team autonomy in order to evaluate its moderating influence. additionally future studies should indicate when team leaders are considered team members when measuring tmx. because of their status leaders are highly salient group members making them highly influential team members. it is possible that leader inclusion has an effect on tmx ratings by team members. for this reason future research should investigate team leader inclusion as moderator. third differentiation has also been considered as an important factor when exploring lmx within work groups but not enough primary studies currently exist to incorporate it into metaanalysis. differentiation is characterized by the extent of quality variability in lmx and tmx relationships. previous research has demonstrated that lmx differentiation attenuated the value of lmx quality while it augmented the value of tmx quality on self-efficacy and creativity. thus more studies should investigate differentiation as an important construct to be considered. additionally we know of only one study an unpublished team and leader exchange copyright john wiley sons ltd.. organiz. behav.  doi. job doctoral dissertation that has attempted to directly compare dyadic peer aggregation with tmx but publishable research comparing tmx with dyadic peer analysis remains an important gap in the literature. finally further studies are needed for better understanding other outcomes such as citizenship behaviors and coun terproductive work behavior as well as team-focused outcomes including team cohesiveness and team performance. it is likely that the relative importance of tmx compared with lmx is greater in work situations in which success is contingent upon strong social exchange relationships between team members. furthermore perceived organizational support should also be considered in future research. unfortunately the number of samples with pos was too small to include in this meta-analytic review. individuals have somewhat affiliative relationship to the employing organization as psychological object. eisenbr huntington hutchison and sowa based their proposal of the pos construct on levinson observation that individuals personify their employing organization viewing actions by organizational agents as actions of the organization itself. this personification is integral to an employee sense of psychological contract as reciprocal exchange relationship with the organization. posmay complement lmx and tmx or it may provide redundant information. thus future research should consider the relative wt of pos as well as the potential incremental validity above and beyond lmx and tmx. conclusion the use of teams within firms has continued to increase over recent decades in order to better capitalize on the synst effects of collaboration. the results of this study provide mixed evidence for the contribution of tmx compared with lmx when predicting outcomes in the workplace. tmx did demonstrate incremental validity and moderate relative contribution when predicting organizational commitment and job satisfaction but tmx added little value when predicting job performance and turnover intentions. research on tmx continues to increase. yet re-focused research agenda that includes better reporting practices the inclusion of theoretically meaningful moderators and broader range of outcomes is needed. thus while it appears that tmx adds value in predicting some outcomes more research is needed in order to identify under differing conditions the relative and unique contributions of tmx and lmx quality within work groups. acknowlment suggestions by michael. mcdaniel were valuable in the improvement of this paper and wereatly appreciated. author biographies george banks is an assistant professor of management at longwood university. his substantive areas of research include personnel selection strategic human resources management and research methodology his work on these topics has appeared in journals such as journal of applied psychology and organizational research methods. john batchelor is an assistant professor of management at west florida. his substantive areas of teaching and research interests include emotional labor leadership entrepreneurship and meta-analysis... banks copyright john wiley sons ltd.. organiz. behav.  doi. job anson seers is professor emeritus in the school of business at virginia commonwealth university. his areas of research expertise are leadership and organizational behavior. ernest boyle is an assistant professor of management and organizations at the university of iowa. his research interests include counterproductive work behaviors human performance and research methodology. his work on these topics has appeared in journals such as journal of applied psychology organizational research methods personnel psychology and psychological bulletin. jeffrey. pollack is an assistant professor in the robins school of business at the university of richmond. he conducts research on and teaches classes involving the topic of entrepreneurship and the determinants of performance at the firm and individual levels. kim gower is an assistant professor in the reginald. lewis school of business at virginia state university. she conducts research on and teaches classes involving the topics of leadership and organizational behavior. \n",
      "---\n",
      "---\n",
      "---\n"
     ]
    }
   ],
   "source": [
    "print(pdf_p[ref_doc])\n",
    "print('---')\n",
    "print('---')\n",
    "print('---')\n",
    "# print(pdf_p[ref_doc])"
   ]
  },
  {
   "cell_type": "code",
   "execution_count": 26,
   "metadata": {},
   "outputs": [],
   "source": [
    "def get_author_names(txt):\n",
    "\n",
    "    refs = re.sub('[0-9]{4}.*\\n','',txt)\n",
    "\n",
    "    l = re.compile(\" [a-z]\\.\").split(refs)\n",
    "    l = [ll for ll in l if not bool(re.search('[0-9]+', ll))]\n",
    "    l = [ll for ll in l if len(ll) < 35]\n",
    "    l = [re.sub('[\\n ,\\&\\.]', '', ll) for ll in l]\n",
    "    l = [re.sub('[!(*);�&$]', '', l1) for l1 in l]\n",
    "    authors = [ll for ll in l if len(ll) > 1]\n",
    "\n",
    "    return(authors)\n",
    "#for n in names:\n",
    "#    print(n)\n",
    "\n",
    "#refs = re.sub('\\n.*[0-9].*', '', refs)\n",
    "#refs = re.sub('\\n[^,]+\\n', '\\n', refs)\n",
    "#print(refs)"
   ]
  },
  {
   "cell_type": "code",
   "execution_count": 27,
   "metadata": {
    "scrolled": true
   },
   "outputs": [
    {
     "name": "stdout",
     "output_type": "stream",
     "text": [
      "['marsh', 'heo', 'worthtxfimian', 'schmook', 'predmore', 'davies', 'nisbett', 'mschaubroeck', 'calic', 'ingelgård', 'mayr', 'alocke', 'hansez', 'meden', 'hurlbert', 'carpentier', 'adigmin', 'culbert', 'a:kluweracademicstroud', 'donnelly', 'weigold', 'sacchi', 'dinich', 'worley', '-wakutsu', 'nordstrom', 'atwater', 'mak', 'stickel', 'nudurupati', 'truax', 'andreiss', 'mindin', 'sleeth', 'oke', 'spear', 'pellegrino', 'zagenczyk', 'ones', 'jaeger', 'edschneider', 'patterson', 'weatherly', 'ball-rokeach', 'coolidge', 'universitypresspreacher', 'belanger', 'gonzales‐roma', 'bongers', 'identityandbiasin', 'andaviram', 'muchinsky', 'jetten', 'chamberlain', 'tetlock', 'liuetalhsu', 'avons', 'levinson', 'dansereau', 'hodgson', 'swaen', 'brinsfield', 'mckeown', 'segal', 'robinson', 'internationalincjudge', 'dovido', 'mazursky', 'hakoyama', 'catanese', 'affleck', 'perspectivein', 'kralovec', 'd’amelio', 'ganster', 'eddy', 'harre', 'hedeker', 'joensuu', 'marschan-piekkari', 'kickuletalcopyright#', 'heydens-gahir', 'wohlwend-lloyd', 'amongnavalofficersin', 'publishedinmarch', 'hexlett', 'browntravi', 'solmon', 'choietalklein', 'hershkovitz', 'birks', 'wohlfarth', '-yzeger', 'aman', 'kloimuller', 'stan', 'hillsdalenj:', 'salmela-aro', 'stephenson', 'mignonac', 'doorewaard', 'verhaar', 'paradise', 'krantz', 'street', 'ferrin', 'mezias', 'pelletier', 'lay', 'eber', 'massam', 'casad', 'gittell', 'kmaznevski', 'ny:owlbookselfenbein', 'allen', 'californiapresshofstede', 'sugarawa', 'leite', 'peiró', 'gelléri', 'vansanten', 'stimpson', 'holden', 'gharibiangharghani', 'alteras‐webb', 'aldridge', 'gering', 'brownpodsakoff', 'andclausen', 'maccallum', 'semeniuk', 'nadkarni', 'levan', 'vancouver', 'ponte', 'moch', 'kohles', 'brondolo', 'quade', 'davids', 'brock', 'presssaunders', 'andulrich', 'iiibyham', 'hakim', 'gribble', 'tahlin', 'lange', 'bettencourt']\n",
      "14362\n"
     ]
    }
   ],
   "source": [
    "authors = []\n",
    "for r in references:\n",
    "    authors += get_author_names(r)\n",
    "    \n",
    "author_nam = list(set(list(authors)))\n",
    "\n",
    "# result is still not perfect, but I have not found any stray 'plain English' so far\n",
    "print(author_nam[100:250])\n",
    "print(len(author_nam))"
   ]
  },
  {
   "cell_type": "code",
   "execution_count": 28,
   "metadata": {},
   "outputs": [],
   "source": [
    "# GET REFERENCE LISTS OF STOPWORDS, I.E. WORDS THAT ARE ESSENTIALLY MEANINGLESS\n",
    "# Get all the list of authors names\n",
    "\n",
    "from nltk.corpus import stopwords as wrd\n",
    "\n",
    "sw = wrd.words('english') + author_nam + country_list + cities_lower\n",
    "\n",
    "#print(sw)"
   ]
  },
  {
   "cell_type": "code",
   "execution_count": 29,
   "metadata": {},
   "outputs": [],
   "source": [
    "#include corpus-specific stopwords\n",
    "sw += ['vol', 'doi', 'article', 'articles', 'reuse', 'sagepub', 'journal', 'journals', 'com', 'quarter', 'quarterly', 'annual', 'proceedings']\n",
    "sw += ['sage', 'editorial', 'report', 'publications', 'publication', 'publisher', 'jom', 'manuscript', 'manuscripts', 'submission', 'submissions']\n",
    "sw += ['editor', 'editors', 'orcid', 'id', 'month', 'mailto', 'author', 'authors', 'homepage', 'sciencedirect', 'scopus']\n",
    "sw += ['january', 'february', 'march', 'april', 'may', 'june', 'july', 'august', 'september', 'october', 'november', 'december']\n",
    "sw += ['monday', 'tuesday', 'wednesday', 'thursday', 'friday', 'saturday', 'sunday']\n",
    "\n",
    "# add a metric ton of generic terms\n",
    "sw += ['a', 'about', 'above', 'across', 'after', 'afterwards']\n",
    "sw += ['again', 'against', 'all', 'almost', 'alone', 'along']\n",
    "sw += ['already', 'also', 'although', 'always', 'am', 'among']\n",
    "sw += ['amongst', 'amoungst', 'amount', 'an', 'and', 'another']\n",
    "sw += ['any', 'anyhow', 'anyone', 'anything', 'anyway', 'anywhere']\n",
    "sw += ['are', 'around', 'as', 'at', 'back', 'be', 'became']\n",
    "sw += ['because', 'become', 'becomes', 'becoming', 'been']\n",
    "sw += ['before', 'beforehand', 'behind', 'being', 'below']\n",
    "sw += ['beside', 'besides', 'between', 'beyond', 'bill', 'both']\n",
    "sw += ['bottom', 'but', 'by', 'call', 'can', 'cannot', 'cant']\n",
    "sw += ['co', 'computer', 'con', 'could', 'couldnt', 'cry', 'de']\n",
    "sw += ['describe', 'detail', 'did', 'do', 'done', 'down', 'due']\n",
    "sw += ['during', 'each', 'eg', 'eight', 'either', 'eleven', 'else']\n",
    "sw += ['elsewhere', 'empty', 'enough', 'etc', 'even', 'ever']\n",
    "sw += ['every', 'everyone', 'everything', 'everywhere', 'except']\n",
    "sw += ['few', 'fifteen', 'fifty', 'fill', 'find', 'fire', 'first']\n",
    "sw += ['five', 'for', 'former', 'formerly', 'forty', 'found']\n",
    "sw += ['four', 'from', 'front', 'full', 'further', 'get', 'give']\n",
    "sw += ['go', 'had', 'has', 'hasnt', 'have', 'he', 'hence', 'her']\n",
    "sw += ['here', 'hereafter', 'hereby', 'herein', 'hereupon', 'hers']\n",
    "sw += ['herself', 'him', 'himself', 'his', 'how', 'however']\n",
    "sw += ['hundred', 'i', 'ie', 'if', 'in', 'inc', 'indeed']\n",
    "sw += ['interest', 'into', 'is', 'it', 'its', 'itself', 'keep']\n",
    "sw += ['last', 'latter', 'latterly', 'least', 'less', 'ltd', 'made']\n",
    "sw += ['many', 'may', 'me', 'meanwhile', 'might', 'mill', 'mine']\n",
    "sw += ['more', 'moreover', 'most', 'mostly', 'move', 'much']\n",
    "sw += ['must', 'my', 'myself', 'name', 'namely', 'neither', 'never']\n",
    "sw += ['nevertheless', 'next', 'nine', 'no', 'nobody', 'none']\n",
    "sw += ['noone', 'nor', 'not', 'nothing', 'now', 'nowhere', 'of']\n",
    "sw += ['off', 'often', 'on','once', 'one', 'only', 'onto', 'or']\n",
    "sw += ['other', 'others', 'otherwise', 'our', 'ours', 'ourselves']\n",
    "sw += ['out', 'over', 'own', 'part', 'per', 'perhaps', 'please']\n",
    "sw += ['put', 'rather', 're', 's', 'same', 'see', 'seem', 'seemed']\n",
    "sw += ['seeming', 'seems', 'serious', 'several', 'she', 'should']\n",
    "sw += ['show', 'side', 'since', 'sincere', 'six', 'sixty', 'so']\n",
    "sw += ['some', 'somehow', 'someone', 'something', 'sometime']\n",
    "sw += ['sometimes', 'somewhere', 'still', 'such', 'system', 'take']\n",
    "sw += ['ten', 'than', 'that', 'the', 'their', 'them', 'themselves']\n",
    "sw += ['then', 'thence', 'there', 'thereafter', 'thereby']\n",
    "sw += ['therefore', 'therein', 'thereupon', 'these', 'they']\n",
    "sw += ['thick', 'thin', 'third', 'this', 'those', 'though', 'three']\n",
    "sw += ['three', 'through', 'throughout', 'thru', 'thus', 'to']\n",
    "sw += ['together', 'too', 'top', 'toward', 'towards', 'twelve']\n",
    "sw += ['twenty', 'two', 'un', 'under', 'until', 'up', 'upon']\n",
    "sw += ['us', 'very', 'via', 'was', 'we', 'well', 'were', 'what']\n",
    "sw += ['whatever', 'when', 'whence', 'whenever', 'where']\n",
    "sw += ['whereafter', 'whereas', 'whereby', 'wherein', 'whereupon']\n",
    "sw += ['wherever', 'whether', 'which', 'while', 'whither', 'who']\n",
    "sw += ['whoever', 'whole', 'whom', 'whose', 'why', 'will', 'with']\n",
    "sw += ['within', 'without', 'would', 'yet', 'you', 'your']\n",
    "sw += ['yours', 'yourself', 'yourselves']\n",
    "\n",
    "sw = list(set(sw))"
   ]
  },
  {
   "cell_type": "code",
   "execution_count": 30,
   "metadata": {},
   "outputs": [],
   "source": [
    "# Function to filter out the stopwords and authors names\n",
    "def filterWords(msg, words):\n",
    "    m = msg.split(' ')\n",
    "    words_end = [w + '.' for w in words]\n",
    "    filtered_words = list(filter(lambda word: word not in words, m))\n",
    "    filtered_words = [(w if w not in words_end else '.') for w in filtered_words]\n",
    "    result = ' '.join(filtered_words)\n",
    "    return(result)"
   ]
  },
  {
   "cell_type": "code",
   "execution_count": 31,
   "metadata": {},
   "outputs": [],
   "source": [
    "# GET RID OF THE STOPWORDS IN TEXTS\n",
    "data_proc = [filterWords(f, sw) for f in pdf_p]  "
   ]
  },
  {
   "cell_type": "code",
   "execution_count": 33,
   "metadata": {},
   "outputs": [],
   "source": [
    "import pickle\n",
    "# exclude author list from metadata\n",
    "author_metadata = pickle.load(open(\"C:/Thesis/Data/save/Master_Data/author_list/author_list.p\", \"rb\"))"
   ]
  },
  {
   "cell_type": "code",
   "execution_count": 34,
   "metadata": {},
   "outputs": [],
   "source": [
    "# GET RID OF THE author names (extracted from the metadata)\n",
    "data_proc_1 = [filterWords(f, author_metadata) for f in data_proc] #running"
   ]
  },
  {
   "cell_type": "code",
   "execution_count": 36,
   "metadata": {},
   "outputs": [
    {
     "data": {
      "text/plain": [
       "' team member exchange bring party. meta analytic review team leader exchange team member exchange bring party. meta-analytic review team leader exchange . . batchelor . .  . gower longwood farmville . . commonwealth . . . state . summary leader member exchange team member exchange measure quality reciprocal exchange employees workplace. lmx focuses supervisor subordinate relationships tmx examines relationships team members theory-based empirically proven relations workplace outcomes job performance organizational commitment job satisfaction turnover intentions. known impact workplace outcomes specifically clear employee time spent developing vertical relationships supervisors subordinates horizontal relationships team members. accordingly meta-analysis explores incremental validity relative importance exchange-based constructs. theoretical logic underlying lmx tmx clarified parameter estimates lmx tmx work outcomes reported. results demonstrate tmx shows incremental validity lmx outcomes . lmx shows greater relative importance outcomes. sum clarification theoretical empirical landscape lays foundation recommendations future . copyright sons . keywords leader member exchange team member exchange exchange theory organizational commitment job satisfaction job performance turnover intentions role processes organizational environments dates half century. contemporary focuses supervisor subordinate role relationships negotiated exchange processes described leader member exchange theory. nature vertical relationship important consider organizational forms flatter salience diminish relative horizontal relationships seen work teams. recent decades organizational structures increasingly designed teams ability leverage individual knowl skills. subsequently recent empirical work dedicated greater attention studies explore quality exchange relationships work groups described team member exchange theory. substantive empirical evidence determine form exchange matters presence . accordingly quandary literature correspondence . longwood high farmville .  copyright sons . received revised accepted organizational behavior. organiz. behav.  published online online library . job. esearch rticle know incremental relative contributions lmx tmx regards key workplace outcomes including job performance job satisfaction organizational commitment turnover intentions. team-oriented structures arowing prevalence complete understanding exchange rela tionships work groups aid practitioners researchers. work lmx clear actual process supervisory leadership occurs vertical exchange relationships increasing team shared leadership occurs apart supervisor formal leadership calls better understanding horizontal exchange relationships operate alongside vertical relationships. investigated vertical horizontal exchanges parallel. specifically known limited time employees spent developing vertical relationships supervisors subordinates horizontal relationships team members. echoed describing diversity conceptual understandings team leadership noted theories team leadership mapping territory important direction . study bring meta-analytic clarity consolidation known vertical horizontal exchanges relate important work outcomes researchers longer limited inferences various sources. multiple theoretical practical contributions em present . academics work pro vides theoretical clarification tmx lmx exchange-based constructs. theoretical clarification able estimate magnitude correlation lmx tmx quantitative summary correlations tmx work outcomes time literature. clear outline future theoretical empirical presented. additionally study moves traditional meta-analytic reporting explore tmx provide incremental validity lmx lmx tmx demonstrates greater relative importance presence explaining work outcomes. practitioners crucial step evidence-based actionable advice offered. managers limited time resources knowing focus crucial debate. managers focus quality leader member relationships. managers focus facilitating relationships team members. literature conflicted. summary organizational outcomes influenced exchange provided. theoretical empirical landscapes literature clarified practitioners provided much-needed direction influence critical organizational outcomes. accordingly practical implications data noted recommendations future aimed improving study lmx tmx. theoretical background exchange-based constructs lmx founded notion leaders develop relationships different qualities subordinates. relationships high quality characterized honesty open exchange information support. leaders contribute opportunities information support exchange effort commitment proactive behaviors subordinates. growing body evidence demonstrated importance lmx work group context. study examined magnitude importance lmx relative tmx explaining variance work outcomes. proposed construct tmx represent quality reciprocal exchange peers team. tmx adapted lmx represents individual perception exchange quality.. copyright sons ltd.. organiz. behav.  . job role relationship interactions team members. tmx formally defined team member perception quality reciprocity member team respect member contribution ideas feedback assistance members turn member receipt information help recognition team members. tmx represents exchange quality team members unique individuals shared role team members. use word team studies tmx refers instrument joint performance. cite definition proposed multiple individuals formed perform task-relevant functions mutually interact exhibit task interdependence possess shared goals embedded broader organizational setting. samples tmx meta-analytic review reported data individuals working context consistent definition term team.  work conducted teams varied study study samples involved project teams. sum tmx characterizes team members perceptions reciprocity contributions team members. current study meta-analytic review focuses studies conducted individual-level hypothesis testing reflects bulk accumulated . summary relation lmx tmx parallel constructs address different psychologically salient relational counterparts work settings closely related common derivation. constructs draw role theory exchange theory emphasize reciprocal reinforcements important differences. generally individual occupies supervisor role multiple individuals serve team member roles. nature reciprocal reinforcement different dyadic supervisor subordinate relationship lmx supervisors resources subordinates lack. instance tmx team members likely equal footing terms resources . multiple individuals playing team roles tmx recognizes team members form perception team psychological object affiliative relationship. tmx reflects individuals relational interactions members represent team identity unique individuals. contrast lmx individuals form specifically dyadic reciprocal relationship supervisor unique individual. tmx ignores differences specific dyadic relationships various team members. lmx similarly reflects characteristic behaviors specific supervisor subordinate interaction. unlike tmx visor subordinate relationships specifically dyadic relationships interpersonal awareness sensitivity concern allow individuals readily forge strong relationships operate analogously lmx tmx. effective working relationships facilitate work performance promote attachment make on-the-job experiences enjoyable. accordingly expect tmx lmx explain unique variance work outcomes. nature contribution important consider. lmx tmx distinct constructs suggest individuals establish high-quality reciprocal exchange leaders establish highquality reciprocal exchange team. individuals value high-quality relationships invest efforts end likely respect peers supervisor. relationships focal individual participates identical focal individual brings different relationships incorporate characteristic attributes individual. example member personality characteristics correlate lmx quality. hypothesize following. hypothesis positive correlation lmx tmx. team leader exchange copyright sons ltd.. organiz. behav.  . job moderators consider potential moderators lmx tmx relation industry scale used nationality status. meta-analyses study limited data included primary studies identified. unfortunately potential theoretically meaningful moderators received sufficient empirical attention necessary included meta-analytic review. discussion section review aspects lmx tmx literature require future . despite limited number variables data able explore potential moderators affect magnitude lmx tmx relation. moderators selected exploratory purposes make specific hypotheses regarding direction magnitude relationships. include potential moderator variables categories. category addresses potential contextual moderation. team-oriented practices forms widespread general relative traditional hierarchy expect spread uniform industries national cultures. examined industry type including professional industrial mixed samples. industry type reflect organizational salience horizontal versus vertical relationships mimetic practices. macro organizational shown organizations commonly pursueater legitimacy copying practices forms copying follows industrial lines. industry type shown moderate constructs previous . study focused experiences telecommuters positive correlation lmx job satisfaction relative tmx job satisfaction. contrast study examined workplace experiences employees large multinational conglomerate stronger correlation tmx organizational tenure relative lmx organizational tenure. second nationality participants studies reflect relative salience vertical versus horizontal working relationships differing national cultural norms distance individualism versus collectivism. previous shown differences constructs trust reciprocation likely exist nationalities examples nationality-based moderation used prior exchange-based meta-analyses. second category included potential moderators reflect method effects method variance. lmx scale used considered moderator. examples scale-based moderation previous meta-analyses. similar fashion explored possibility certain affect relations . particular noticed larger magnitude relation lmx tmx . theory-based perspective suggest older established exhibit different relation relative newer established measures. specifically measurement tmx conducted using developed colles measurement lmx construct conducted developed colles . consider relationship lmx tmx depends type scale used. final moderator investigates possibility published versus unpublished studies differ quality methods magnitude relations. investigated lmx tmx relation vary published versus unpublished sources. team member exchange work outcomes explored relations tmx job performance job satisfaction organizational commitment turnover intentions commonly researched outcomes industrial organizational psychology. accumulation empirical studies tmx benefit lmx respect progression efforts directed theoretical extension conceptual.. copyright sons ltd.. organiz. behav.  . job refinement clarification. focus relations lmx outcomes previous meta-analytic demonstrated magnitude relations. following set hypotheses focused solely relations tmx work outcomes. tmx reflecting high-quality working relationships team predict outcomes. teams high-quality trusting exchange relationships likely exchange information resources better leverage skills individual team members collaboration. better utilizing colles team members likely achieve higher performance. relationships allow individuals better anticipate actions accomplish work efficiently effectively greatly facilitate teamwork. furthermore high-quality exchange relationships allow team members realize performance expectations role senders. result team members higher levels tmx likely receive better performance evaluations. accordingly surprisingly shown higher levels tmx resulted increased ratings performance. hypothesis tmx positively correlated individual job performance. higher levels tmx likely positive effect work attitudes job satisfaction. levels tmx reflect troubled relationships team members higher levels reflect congenial reliable coworker relationships. benefit higher-quality interpersonal relationships enjoyable employees experience job satisfaction. instance argued emotional contagion positive emotions teams promote team member satisfaction. additionally higher levels tmx likely reflect established roles prone role ambiguity result increased satisfaction. reasons employees higher-quality tmx likely experience higher levels satisfaction. hypothesis tmx positively correlated individual job satisfaction. experience strong relationships reflected high levels tmx support psychological attachment work setting including increased levels affective commitment strongly tied overall organizational commitment. teams strong interpersonal relationships likely develop affective bonds team members. developing reciprocal exchange basis affective relationships expect tmx positive correlation commitment. empirical evidence supports position. instance significant relationship tmx commitment attributed finding important role high-quality coworker relationships play socialization. discussing findings direct tmx organizational commitment contended association support guidance receives interpersonal relationships coworkers. words coworkers key agents socialization terms role development process employees. nature relationship individuals linked commitment organization. hypothesis tmx positively correlated individual organizational commitment. individuals turnover intentions influenced variety factors. respect present work high-quality working relationships affect individuals turnover intentions. indicates noted earlier high-quality working relationships benefit individuals performance job satisfaction organizational commitment. positive relations efficiencies benefits working team leader exchange copyright sons ltd.. organiz. behav.  . job individuals work decreases desire exit organization. differently giving relationships work cost right. surprisingly expects high-quality working relationships expectations met situation likely increase turnover intentions. reasons high tmx negatively correlated turnover intentions. hypothesis tmx negatively correlated individual turnover intentions. incremental validity dominance analyses order demonstrate construct increases ability explain variance work outcomes construct needs explain additional variance constructs. furthermore construct importance relative constructs. order illustrate value exchange literature broader lmx tmx provide unique contribution predicting work outcomes presence related constructs. evaluate incremental validity tmx lmx. lmx literature enjoyed greater theoretical empirical attention theoretical meta-analytic reviews. instance meta-analysis containing studies lmx moderately strong relationship citizenship behaviors. comprehensive meta-analysis containing studies lmx strong mediator important relationships involving constructs contingent reward positive affect transformational leadership. body work suggest burden falls tmx demonstrate incremental validity. tmx similar unique construct respect lmx consequently anticipate tmx explain unique variance explained lmx. suggest supported dyadic relationships characterize lmx supervisors subordinates measure workplace relationships distinct interactions measured tmx. interactions form perception team psychological object team member holds relationship. tmx measure unique variance work outcomes explained quality supervisory relationships. hypothesis tmx demonstrate incremental validity lmx predicting work outcomes. incremental validity tests useful answer questions relative usefulness variables regression model. accordingly use dominance analysis based guidance provided . suggest lmx explain majority variance work outcomes relative tmx. lmx tmx measure quality exchange relationships supervisor subordinate relationship lmx unique supervisors access specific resources information opportunities necessary effective job performance. supervisors hold unique able reward punish subordinates. high-quality lmx relationships likely beneficial individual job performance actual performance evaluations. reasons lmx likely carry greater relative wt tmx explaining job satisfaction commitment. employees likely receive emotional support high-quality tmx relationships wt lmx predicting outcomes dominant. finally lmx likely carry greater relative wt explaining job performance job satisfaction commitment reasons likely influence individual turnover intentions. hypothesis lmx demonstrateater relative wt compared tmx predicting work outcomes... copyright sons ltd.. organiz. behav.  . job meta-analytic review offers immediate contributions exchange literature. provided theoretical clarification tmx lmx exchange-based constructs. learn study allows sharply contrast tmx lmx relationships peers team relationship leader subordinate respectively. demonstrate ways related ways distinct constructs. second presented parameter estimate overall lmx tmx relation various contex tual moderators. provided estimates tmx relations work outcomes. findings support perspective positive relations tmx individual job performance job satisfaction organizational commitment. expected tmx negatively correlated turnover intentions. study brings clarity known teams showing perception exchange quality team important consideration opposed dyadic relationships individual members. reported incremental relative contributions lmx tmx. results incremental validity analysis demonstrated ability tmx contribute explanation job satisfaction organizational commitment lmx. contrary hypothesized tmx provide practically significant incremental contribution lmx explaining individual job performance turnover intentions. consequently appears mixed evidence contribution tmx predicting work outcomes relative lmx. tmx explain practically significant amounts variance lmx predicting organizational commitment job satisfaction tmx appeared add value predicting job performance turnover intentions. team leader exchange copyright sons ltd.. organiz. behav.  . job results dominance analysis mirror findings incremental validity tests. tmx explained approximately percent variance organizational commitment job satisfaction explained percent variance job performance turnover intentions. investigating individual organizational commitment job satisfaction team context tmx included variable . consequently results present complicated tmx play critical role instances . findings highlight importance beneficial exchange relationship leader regardless relationships teammates. nonetheless mixed findings unlikely lmx completely dominant tmx. fact suggest tmx lmx continues em instances tmx dominant lmx particularly outcomes investigated team oriented. furthermore believe better reporting practices better comprehension theoretically important moderators attention broader range outcomes allow clearer understanding tmx lmx bring party.  example know large teams employees teams employees developing relationships leaders autonomy teams leader difficult make conclusive statement regarding contributions tmx lmx predicting work outcomes. modest number studies particularly cells analysis consider type error meta-analysis relies studies. increase risk violating assumption studies normally distributed . reduce . use conservative methods possible ensure accuracy need issue appropriate warning reader. tmx developing area results study interpreted caution. instance veracity results limited understudied cell. time brought subject conclusive results examined bolster present findings. practical applications practitioners results demonstrate importance developing supervisor subordinate relationships team member relationships. organizational forms flatter greater attention shifted horizontal relationships teams. practitioners neglect importance supervisor subordinate relationships need high-quality exchanges . study shows team member relationship quality leader follower relationship quality relate positively. suggest approaches firms develop maintain high-quality supervisor subordinate tmx relationships. firms need monitor evaluate exchange relationships. accomplished multiple ways. example -degree feedback assessments individuals evaluated supervisors direct reports coworkers . practice used identify strhs developmental needs employees knowl skills abilities necessary develop high-quality exchange relationships. second firms structure training opportunities leaders team members develop necessary competencies high-quality lmx tmx relationships. instance pointed leadership behavior individualized consideration skill trained linked higher-quality lmx relationships. addition skills training firms elect training directly focused developing interpersonal relationships team-building exercises... copyright sons ltd.. organiz. behav.  . job firms consider implementing work structures reporting relationships facilitate open exchange information necessary improve quality exchanges. focus intentional work means improve lmx tmx relationships necessarily replace needed training techniques interpersonal skills. work employer attention aspects work particular increasing importance teams effective work environments. fourth findings tmx relates positively job performance job satisfaction organizational commit ment turnover increments lmx organizational commitment job satisfaction important practitioners. time finite resource ged . organizations efficient possible time allotted training interventions. choice allocating time tmx-related lmx-related interventions employees diagnosed commitment satisfaction issues served training related constructs. diagnosed job performance issues intention turnover tight time constraints interventions focus primarily lmx-related skills. limitations future directions meta-analyses limitation work derives shortcomings primary studies reviewed. studies group-level factors relation tmx currently exist examining relational interactions coworkers shape characteristic nature teams team unique nature apart interactions. moroup-level studies needed especially studies investigate working relationships facilitate cooperation coordination performance team level. longitudinal studies helpful respect. second basic reporting issues limited ability explore moderators average team tenure average number participants team. instance higher average team tenure result higher levels tmx time relationships develop. relatively speaking lmx relationships individual develop quickly tmx multiple team members. total number participants team play important role. example larger teams make difficult subordinate develop high-quality exchange relationships leader leader likely attend members. lmx founded notion leaders develop exchange relationships different quality. better reporting practices primary studies allow testing moderating constructs. potential moderator relative importance lmx quality compared tmx extent team work autonomy supervisor. teams autonomy undoubtedly require interaction leader leadership behaviors team. furthermore need develop high-quality lmx relationships attenuated leaders likely control pertinent information resources. future attempt operationally define measure extent team autonomy order evaluate moderating influence. additionally future studies indicate team leaders considered team members measuring tmx. status leaders highly salient group members making highly influential team members. possible leader inclusion effect tmx ratings team members. future investigate team leader inclusion moderator. differentiation considered important factor exploring lmx work groups primary studies currently exist incorporate metaanalysis. differentiation characterized extent quality variability lmx tmx relationships. previous demonstrated lmx differentiation attenuated value lmx quality augmented value tmx quality self-efficacy creativity. studies investigate differentiation important construct considered. additionally know study unpublished team leader exchange copyright sons ltd.. organiz. behav.  . job doctoral dissertation attempted directly compare dyadic aggregation tmx publishable comparing tmx dyadic analysis remains important literature. finally studies needed better understanding outcomes citizenship behaviors coun terproductive work behavior team-focused outcomes including team cohesiveness team performance. likely relative importance tmx compared lmx greater work situations success contingent strong exchange relationships team members. furthermore perceived organizational support considered future . unfortunately number samples pos include meta-analytic review. individuals somewhat affiliative relationship employing organization psychological object. eisenbr based proposal pos construct observation individuals personify employing organization viewing actions organizational agents actions organization . personification integral employee sense psychological contract reciprocal exchange relationship organization. posmay complement lmx tmx provide redundant information. future consider relative wt pos potential incremental validity lmx tmx. conclusion use teams firms continued increase recent decades order better capitalize synst effects collaboration. results study provide mixed evidence contribution tmx compared lmx predicting outcomes workplace. tmx demonstrate incremental validity moderate relative contribution predicting organizational commitment job satisfaction tmx added value predicting job performance turnover intentions. tmx continues increase. re-focused agenda includes better reporting practices inclusion theoretically meaningful moderators broader range outcomes needed. appears tmx adds value predicting outcomes needed order identify differing conditions relative unique contributions tmx lmx quality work groups. acknowlment suggestions . valuable improvement paper wereatly appreciated. biographies assistant professor longwood . substantive areas include personnel selection strategic resources methodology work topics appeared psychology organizational methods. batchelor assistant professor . substantive areas teaching interests include emotional labor leadership entrepreneurship meta-analysis... copyright sons ltd.. organiz. behav.  . job professor emeritus commonwealth . areas expertise leadership organizational behavior. assistant professor organizations . interests include counterproductive work behaviors performance methodology. work topics appeared psychology organizational methods personnel psychology psychological bulletin. . assistant professor . conducts teaches classes involving topic entrepreneurship determinants performance firm individual levels. gower assistant professor reginald. state . conducts teaches classes involving topics leadership organizational behavior. '"
      ]
     },
     "execution_count": 36,
     "metadata": {},
     "output_type": "execute_result"
    }
   ],
   "source": [
    "data_proc_1[ref_doc]"
   ]
  },
  {
   "cell_type": "code",
   "execution_count": 37,
   "metadata": {},
   "outputs": [],
   "source": [
    "data_proc2 = [re.sub(\"([a-z]+\\.)+[a-z]+\",\"\", f) for f in data_proc_1]\n",
    "data_proc2 = [re.sub('\\s([?\\.!\"](?:\\s|$))' , r'\\1', f) for f in data_proc2]\n",
    "data_proc2 = [re.sub(\"^\\s+\",\"\", f) for f in data_proc2]\n",
    "data_proc2 = [re.sub(\"\\s+\\Z\",\"\", f) for f in data_proc2]\n",
    "data_proc2 = [re.sub(\"(\\.)+\",\".\", f) for f in data_proc2]\n",
    "data_proc2 = [re.sub(\" +\",\" \", f) for f in data_proc2]\n",
    "data_proc2 = [re.sub(\"( +\\.)\",\".\", f) for f in data_proc2]\n",
    "data_proc2 = [re.sub(\"\\.$\",\"\", f) for f in data_proc2]"
   ]
  },
  {
   "cell_type": "code",
   "execution_count": 38,
   "metadata": {},
   "outputs": [
    {
     "name": "stdout",
     "output_type": "stream",
     "text": [
      "['team member exchange bring party', 'meta analytic review team leader exchange team member exchange bring party', 'meta-analytic review team leader exchange.', 'batchelor..', 'gower longwood farmville.', 'commonwealth.', 'state', 'summary leader member exchange team member exchange measure quality reciprocal exchange employees workplace', 'lmx focuses supervisor subordinate relationships tmx examines relationships team members theory-based empirically proven relations workplace outcomes job performance organizational commitment job satisfaction turnover intentions', 'known impact workplace outcomes specifically clear employee time spent developing vertical relationships supervisors subordinates horizontal relationships team members', 'accordingly meta-analysis explores incremental validity relative importance exchange-based constructs', 'theoretical logic underlying lmx tmx clarified parameter estimates lmx tmx work outcomes reported', 'results demonstrate tmx shows incremental validity lmx outcomes', 'lmx shows greater relative importance outcomes', 'sum clarification theoretical empirical landscape lays foundation recommendations future', 'copyright sons', 'keywords leader member exchange team member exchange exchange theory organizational commitment job satisfaction job performance turnover intentions role processes organizational environments dates half century', 'contemporary focuses supervisor subordinate role relationships negotiated exchange processes described leader member exchange theory', 'nature vertical relationship important consider organizational forms flatter salience diminish relative horizontal relationships seen work teams', 'recent decades organizational structures increasingly designed teams ability leverage individual knowl skills', 'subsequently recent empirical work dedicated greater attention studies explore quality exchange relationships work groups described team member exchange theory', 'substantive empirical evidence determine form exchange matters presence', 'accordingly quandary literature correspondence', 'longwood high farmville', 'copyright sons', 'received revised accepted organizational behavior', 'organiz', 'behav', 'published online online library', 'job', 'esearch rticle know incremental relative contributions lmx tmx regards key workplace outcomes including job performance job satisfaction organizational commitment turnover intentions', 'team-oriented structures arowing prevalence complete understanding exchange rela tionships work groups aid practitioners researchers', 'work lmx clear actual process supervisory leadership occurs vertical exchange relationships increasing team shared leadership occurs apart supervisor formal leadership calls better understanding horizontal exchange relationships operate alongside vertical relationships', 'investigated vertical horizontal exchanges parallel', 'specifically known limited time employees spent developing vertical relationships supervisors subordinates horizontal relationships team members', 'echoed describing diversity conceptual understandings team leadership noted theories team leadership mapping territory important direction', 'study bring meta-analytic clarity consolidation known vertical horizontal exchanges relate important work outcomes researchers longer limited inferences various sources', 'multiple theoretical practical contributions em present', 'academics work pro vides theoretical clarification tmx lmx exchange-based constructs', 'theoretical clarification able estimate magnitude correlation lmx tmx quantitative summary correlations tmx work outcomes time literature', 'clear outline future theoretical empirical presented', 'additionally study moves traditional meta-analytic reporting explore tmx provide incremental validity lmx lmx tmx demonstrates greater relative importance presence explaining work outcomes', 'practitioners crucial step evidence-based actionable advice offered', 'managers limited time resources knowing focus crucial debate', 'managers focus quality leader member relationships', 'managers focus facilitating relationships team members', 'literature conflicted', 'summary organizational outcomes influenced exchange provided', 'theoretical empirical landscapes literature clarified practitioners provided much-needed direction influence critical organizational outcomes', 'accordingly practical implications data noted recommendations future aimed improving study lmx tmx', 'theoretical background exchange-based constructs lmx founded notion leaders develop relationships different qualities subordinates', 'relationships high quality characterized honesty open exchange information support', 'leaders contribute opportunities information support exchange effort commitment proactive behaviors subordinates', 'growing body evidence demonstrated importance lmx work group context', 'study examined magnitude importance lmx relative tmx explaining variance work outcomes', 'proposed construct tmx represent quality reciprocal exchange peers team', 'tmx adapted lmx represents individual perception exchange quality', 'copyright sons ltd', 'organiz', 'behav.', 'job role relationship interactions team members', 'tmx formally defined team member perception quality reciprocity member team respect member contribution ideas feedback assistance members turn member receipt information help recognition team members', 'tmx represents exchange quality team members unique individuals shared role team members', 'use word team studies tmx refers instrument joint performance', 'cite definition proposed multiple individuals formed perform task-relevant functions mutually interact exhibit task interdependence possess shared goals embedded broader organizational setting', 'samples tmx meta-analytic review reported data individuals working context consistent definition term team', 'work conducted teams varied study study samples involved project teams', 'sum tmx characterizes team members perceptions reciprocity contributions team members', 'current study meta-analytic review focuses studies conducted individual-level hypothesis testing reflects bulk accumulated', 'summary relation lmx tmx parallel constructs address different psychologically salient relational counterparts work settings closely related common derivation', 'constructs draw role theory exchange theory emphasize reciprocal reinforcements important differences', 'generally individual occupies supervisor role multiple individuals serve team member roles', 'nature reciprocal reinforcement different dyadic supervisor subordinate relationship lmx supervisors resources subordinates lack', 'instance tmx team members likely equal footing terms resources', 'multiple individuals playing team roles tmx recognizes team members form perception team psychological object affiliative relationship', 'tmx reflects individuals relational interactions members represent team identity unique individuals', 'contrast lmx individuals form specifically dyadic reciprocal relationship supervisor unique individual', 'tmx ignores differences specific dyadic relationships various team members', 'lmx similarly reflects characteristic behaviors specific supervisor subordinate interaction', 'unlike tmx visor subordinate relationships specifically dyadic relationships interpersonal awareness sensitivity concern allow individuals readily forge strong relationships operate analogously lmx tmx', 'effective working relationships facilitate work performance promote attachment make on-the-job experiences enjoyable', 'accordingly expect tmx lmx explain unique variance work outcomes', 'nature contribution important consider', 'lmx tmx distinct constructs suggest individuals establish high-quality reciprocal exchange leaders establish highquality reciprocal exchange team', 'individuals value high-quality relationships invest efforts end likely respect peers supervisor', 'relationships focal individual participates identical focal individual brings different relationships incorporate characteristic attributes individual', 'example member personality characteristics correlate lmx quality', 'hypothesize following', 'hypothesis positive correlation lmx tmx', 'team leader exchange copyright sons ltd', 'organiz', 'behav.', 'job moderators consider potential moderators lmx tmx relation industry scale used nationality status', 'meta-analyses study limited data included primary studies identified', 'unfortunately potential theoretically meaningful moderators received sufficient empirical attention necessary included meta-analytic review', 'discussion section review aspects lmx tmx literature require future', 'despite limited number variables data able explore potential moderators affect magnitude lmx tmx relation', 'moderators selected exploratory purposes make specific hypotheses regarding direction magnitude relationships', 'include potential moderator variables categories', 'category addresses potential contextual moderation', 'team-oriented practices forms widespread general relative traditional hierarchy expect spread uniform industries national cultures', 'examined industry type including professional industrial mixed samples', 'industry type reflect organizational salience horizontal versus vertical relationships mimetic practices', 'macro organizational shown organizations commonly pursueater legitimacy copying practices forms copying follows industrial lines', 'industry type shown moderate constructs previous', 'study focused experiences telecommuters positive correlation lmx job satisfaction relative tmx job satisfaction', 'contrast study examined workplace experiences employees large multinational conglomerate stronger correlation tmx organizational tenure relative lmx organizational tenure', 'second nationality participants studies reflect relative salience vertical versus horizontal working relationships differing national cultural norms distance individualism versus collectivism', 'previous shown differences constructs trust reciprocation likely exist nationalities examples nationality-based moderation used prior exchange-based meta-analyses', 'second category included potential moderators reflect method effects method variance', 'lmx scale used considered moderator', 'examples scale-based moderation previous meta-analyses', 'similar fashion explored possibility certain affect relations', 'particular noticed larger magnitude relation lmx tmx', 'theory-based perspective suggest older established exhibit different relation relative newer established measures', 'specifically measurement tmx conducted using developed colles measurement lmx construct conducted developed colles', 'consider relationship lmx tmx depends type scale used', 'final moderator investigates possibility published versus unpublished studies differ quality methods magnitude relations', 'investigated lmx tmx relation vary published versus unpublished sources', 'team member exchange work outcomes explored relations tmx job performance job satisfaction organizational commitment turnover intentions commonly researched outcomes industrial organizational psychology', 'accumulation empirical studies tmx benefit lmx respect progression efforts directed theoretical extension conceptual', 'copyright sons ltd', 'organiz', 'behav.', 'job refinement clarification', 'focus relations lmx outcomes previous meta-analytic demonstrated magnitude relations', 'following set hypotheses focused solely relations tmx work outcomes', 'tmx reflecting high-quality working relationships team predict outcomes', 'teams high-quality trusting exchange relationships likely exchange information resources better leverage skills individual team members collaboration', 'better utilizing colles team members likely achieve higher performance', 'relationships allow individuals better anticipate actions accomplish work efficiently effectively greatly facilitate teamwork', 'furthermore high-quality exchange relationships allow team members realize performance expectations role senders', 'result team members higher levels tmx likely receive better performance evaluations', 'accordingly surprisingly shown higher levels tmx resulted increased ratings performance', 'hypothesis tmx positively correlated individual job performance', 'higher levels tmx likely positive effect work attitudes job satisfaction', 'levels tmx reflect troubled relationships team members higher levels reflect congenial reliable coworker relationships', 'benefit higher-quality interpersonal relationships enjoyable employees experience job satisfaction', 'instance argued emotional contagion positive emotions teams promote team member satisfaction', 'additionally higher levels tmx likely reflect established roles prone role ambiguity result increased satisfaction', 'reasons employees higher-quality tmx likely experience higher levels satisfaction', 'hypothesis tmx positively correlated individual job satisfaction', 'experience strong relationships reflected high levels tmx support psychological attachment work setting including increased levels affective commitment strongly tied overall organizational commitment', 'teams strong interpersonal relationships likely develop affective bonds team members', 'developing reciprocal exchange basis affective relationships expect tmx positive correlation commitment', 'empirical evidence supports position', 'instance significant relationship tmx commitment attributed finding important role high-quality coworker relationships play socialization', 'discussing findings direct tmx organizational commitment contended association support guidance receives interpersonal relationships coworkers', 'words coworkers key agents socialization terms role development process employees', 'nature relationship individuals linked commitment organization', 'hypothesis tmx positively correlated individual organizational commitment', 'individuals turnover intentions influenced variety factors', 'respect present work high-quality working relationships affect individuals turnover intentions', 'indicates noted earlier high-quality working relationships benefit individuals performance job satisfaction organizational commitment', 'positive relations efficiencies benefits working team leader exchange copyright sons ltd', 'organiz', 'behav.', 'job individuals work decreases desire exit organization', 'differently giving relationships work cost right', 'surprisingly expects high-quality working relationships expectations met situation likely increase turnover intentions', 'reasons high tmx negatively correlated turnover intentions', 'hypothesis tmx negatively correlated individual turnover intentions', 'incremental validity dominance analyses order demonstrate construct increases ability explain variance work outcomes construct needs explain additional variance constructs', 'furthermore construct importance relative constructs', 'order illustrate value exchange literature broader lmx tmx provide unique contribution predicting work outcomes presence related constructs', 'evaluate incremental validity tmx lmx', 'lmx literature enjoyed greater theoretical empirical attention theoretical meta-analytic reviews', 'instance meta-analysis containing studies lmx moderately strong relationship citizenship behaviors', 'comprehensive meta-analysis containing studies lmx strong mediator important relationships involving constructs contingent reward positive affect transformational leadership', 'body work suggest burden falls tmx demonstrate incremental validity', 'tmx similar unique construct respect lmx consequently anticipate tmx explain unique variance explained lmx', 'suggest supported dyadic relationships characterize lmx supervisors subordinates measure workplace relationships distinct interactions measured tmx', 'interactions form perception team psychological object team member holds relationship', 'tmx measure unique variance work outcomes explained quality supervisory relationships', 'hypothesis tmx demonstrate incremental validity lmx predicting work outcomes', 'incremental validity tests useful answer questions relative usefulness variables regression model', 'accordingly use dominance analysis based guidance provided', 'suggest lmx explain majority variance work outcomes relative tmx', 'lmx tmx measure quality exchange relationships supervisor subordinate relationship lmx unique supervisors access specific resources information opportunities necessary effective job performance', 'supervisors hold unique able reward punish subordinates', 'high-quality lmx relationships likely beneficial individual job performance actual performance evaluations', 'reasons lmx likely carry greater relative wt tmx explaining job satisfaction commitment', 'employees likely receive emotional support high-quality tmx relationships wt lmx predicting outcomes dominant', 'finally lmx likely carry greater relative wt explaining job performance job satisfaction commitment reasons likely influence individual turnover intentions', 'hypothesis lmx demonstrateater relative wt compared tmx predicting work outcomes', 'copyright sons ltd', 'organiz', 'behav.', 'job meta-analytic review offers immediate contributions exchange literature', 'provided theoretical clarification tmx lmx exchange-based constructs', 'learn study allows sharply contrast tmx lmx relationships peers team relationship leader subordinate respectively', 'demonstrate ways related ways distinct constructs', 'second presented parameter estimate overall lmx tmx relation various contex tual moderators', 'provided estimates tmx relations work outcomes', 'findings support perspective positive relations tmx individual job performance job satisfaction organizational commitment', 'expected tmx negatively correlated turnover intentions', 'study brings clarity known teams showing perception exchange quality team important consideration opposed dyadic relationships individual members', 'reported incremental relative contributions lmx tmx', 'results incremental validity analysis demonstrated ability tmx contribute explanation job satisfaction organizational commitment lmx', 'contrary hypothesized tmx provide practically significant incremental contribution lmx explaining individual job performance turnover intentions', 'consequently appears mixed evidence contribution tmx predicting work outcomes relative lmx', 'tmx explain practically significant amounts variance lmx predicting organizational commitment job satisfaction tmx appeared add value predicting job performance turnover intentions', 'team leader exchange copyright sons ltd', 'organiz', 'behav.', 'job results dominance analysis mirror findings incremental validity tests', 'tmx explained approximately percent variance organizational commitment job satisfaction explained percent variance job performance turnover intentions', 'investigating individual organizational commitment job satisfaction team context tmx included variable', 'consequently results present complicated tmx play critical role instances', 'findings highlight importance beneficial exchange relationship leader regardless relationships teammates', 'nonetheless mixed findings unlikely lmx completely dominant tmx', 'fact suggest tmx lmx continues em instances tmx dominant lmx particularly outcomes investigated team oriented', 'furthermore believe better reporting practices better comprehension theoretically important moderators attention broader range outcomes allow clearer understanding tmx lmx bring party', 'example know large teams employees teams employees developing relationships leaders autonomy teams leader difficult make conclusive statement regarding contributions tmx lmx predicting work outcomes', 'modest number studies particularly cells analysis consider type error meta-analysis relies studies', 'increase risk violating assumption studies normally distributed', 'reduce', 'use conservative methods possible ensure accuracy need issue appropriate warning reader', 'tmx developing area results study interpreted caution', 'instance veracity results limited understudied cell', 'time brought subject conclusive results examined bolster present findings', 'practical applications practitioners results demonstrate importance developing supervisor subordinate relationships team member relationships', 'organizational forms flatter greater attention shifted horizontal relationships teams', 'practitioners neglect importance supervisor subordinate relationships need high-quality exchanges', 'study shows team member relationship quality leader follower relationship quality relate positively', 'suggest approaches firms develop maintain high-quality supervisor subordinate tmx relationships', 'firms need monitor evaluate exchange relationships', 'accomplished multiple ways', 'example -degree feedback assessments individuals evaluated supervisors direct reports coworkers', 'practice used identify strhs developmental needs employees knowl skills abilities necessary develop high-quality exchange relationships', 'second firms structure training opportunities leaders team members develop necessary competencies high-quality lmx tmx relationships', 'instance pointed leadership behavior individualized consideration skill trained linked higher-quality lmx relationships', 'addition skills training firms elect training directly focused developing interpersonal relationships team-building exercises', 'copyright sons ltd', 'organiz', 'behav.', 'job firms consider implementing work structures reporting relationships facilitate open exchange information necessary improve quality exchanges', 'focus intentional work means improve lmx tmx relationships necessarily replace needed training techniques interpersonal skills', 'work employer attention aspects work particular increasing importance teams effective work environments', 'fourth findings tmx relates positively job performance job satisfaction organizational commit ment turnover increments lmx organizational commitment job satisfaction important practitioners', 'time finite resource ged', 'organizations efficient possible time allotted training interventions', 'choice allocating time tmx-related lmx-related interventions employees diagnosed commitment satisfaction issues served training related constructs', 'diagnosed job performance issues intention turnover tight time constraints interventions focus primarily lmx-related skills', 'limitations future directions meta-analyses limitation work derives shortcomings primary studies reviewed', 'studies group-level factors relation tmx currently exist examining relational interactions coworkers shape characteristic nature teams team unique nature apart interactions', 'moroup-level studies needed especially studies investigate working relationships facilitate cooperation coordination performance team level', 'longitudinal studies helpful respect', 'second basic reporting issues limited ability explore moderators average team tenure average number participants team', 'instance higher average team tenure result higher levels tmx time relationships develop', 'relatively speaking lmx relationships individual develop quickly tmx multiple team members', 'total number participants team play important role', 'example larger teams make difficult subordinate develop high-quality exchange relationships leader leader likely attend members', 'lmx founded notion leaders develop exchange relationships different quality', 'better reporting practices primary studies allow testing moderating constructs', 'potential moderator relative importance lmx quality compared tmx extent team work autonomy supervisor', 'teams autonomy undoubtedly require interaction leader leadership behaviors team', 'furthermore need develop high-quality lmx relationships attenuated leaders likely control pertinent information resources', 'future attempt operationally define measure extent team autonomy order evaluate moderating influence', 'additionally future studies indicate team leaders considered team members measuring tmx', 'status leaders highly salient group members making highly influential team members', 'possible leader inclusion effect tmx ratings team members', 'future investigate team leader inclusion moderator', 'differentiation considered important factor exploring lmx work groups primary studies currently exist incorporate metaanalysis', 'differentiation characterized extent quality variability lmx tmx relationships', 'previous demonstrated lmx differentiation attenuated value lmx quality augmented value tmx quality self-efficacy creativity', 'studies investigate differentiation important construct considered', 'additionally know study unpublished team leader exchange copyright sons ltd', 'organiz', 'behav.', 'job doctoral dissertation attempted directly compare dyadic aggregation tmx publishable comparing tmx dyadic analysis remains important literature', 'finally studies needed better understanding outcomes citizenship behaviors coun terproductive work behavior team-focused outcomes including team cohesiveness team performance', 'likely relative importance tmx compared lmx greater work situations success contingent strong exchange relationships team members', 'furthermore perceived organizational support considered future', 'unfortunately number samples pos include meta-analytic review', 'individuals somewhat affiliative relationship employing organization psychological object', 'eisenbr based proposal pos construct observation individuals personify employing organization viewing actions organizational agents actions organization', 'personification integral employee sense psychological contract reciprocal exchange relationship organization', 'posmay complement lmx tmx provide redundant information', 'future consider relative wt pos potential incremental validity lmx tmx', 'conclusion use teams firms continued increase recent decades order better capitalize synst effects collaboration', 'results study provide mixed evidence contribution tmx compared lmx predicting outcomes workplace', 'tmx demonstrate incremental validity moderate relative contribution predicting organizational commitment job satisfaction tmx added value predicting job performance turnover intentions', 'tmx continues increase', 're-focused agenda includes better reporting practices inclusion theoretically meaningful moderators broader range outcomes needed', 'appears tmx adds value predicting outcomes needed order identify differing conditions relative unique contributions tmx lmx quality work groups', 'acknowlment suggestions', 'valuable improvement paper wereatly appreciated', 'biographies assistant professor longwood', 'substantive areas include personnel selection strategic resources methodology work topics appeared psychology organizational methods', 'batchelor assistant professor', 'substantive areas teaching interests include emotional labor leadership entrepreneurship meta-analysis', 'copyright sons ltd', 'organiz', 'behav.', 'job professor emeritus commonwealth', 'areas expertise leadership organizational behavior', 'assistant professor organizations', 'interests include counterproductive work behaviors performance methodology', 'work topics appeared psychology organizational methods personnel psychology psychological bulletin', 'assistant professor', 'conducts teaches classes involving topic entrepreneurship determinants performance firm individual levels', 'gower assistant professor reginald', 'state', 'conducts teaches classes involving topics leadership organizational behavior']\n"
     ]
    }
   ],
   "source": [
    "print(data_proc2[ref_doc].split('. '))\n",
    "\n",
    "sents = []\n",
    "for d in data_proc2:\n",
    "    sents += d.split('. ')"
   ]
  },
  {
   "cell_type": "code",
   "execution_count": 39,
   "metadata": {},
   "outputs": [
    {
     "name": "stdout",
     "output_type": "stream",
     "text": [
      "['gender subordinate relationship nigerian study organizational behavior', 'organiz', 'behav', 'published online interscience theory renamed leader member exchange renowned analysis leadership-related issues organizations', 'suggests differences leader relates subordinates limited time faced leader job differences subordi nates role expectations', 'advocates lmx hypothesized subordinates roles quality leader subordinate exchange divided basic categories', 'in-group class characterized high trust interaction support reward out-group category characterized trust interaction support reward', 'empirical demonstrates strong support concept unique leader subordinate relationship exchange especially american japanese industrial environments', 'studies conducted implicated number contextual personal factors developmental process lmx model', 'paucity literature relating gender lmx construct particularly african setting', 'limitation need assess thneralizability lmx african organizations study received copyright sons', 'accepted correspondence to', 'adebayo department psychology', 'investigated influence gender subordinate relationships', 'pertinent salient nature prevalence sex role ideology compared countries', 'furthermore study justified view thowing shown agerial positions females practical implications organizations', 'example men difficult work supervision females women uncomfortable supervising men', 'learning theory theory used explain interaction males females work setting', 'theory posits differential sex role socialization observed behavior males females explained successful socialization individuals culturally appropriate sex roles', 'example women taught littlrls tidy reserved interaction socially oriented men taught boys outgoing physically active achievement oriented', 'consequence sex role differentiation sex typing occupational roles', 'leads differential expectations behavior males females workplace', 'studies suggest traditional sex role stereotypes imperative understanding dynamics expectations leadership positions females males organizations', 'traditional sex role stereotypes perceive women roles incompatible leadership roles', 'contrast stereotypes constructed ways make men roles compatible leadership roles', 'boldy study gender stereotypes evaluation men women military training observed female cadets considered men motivation leadership qualities necessary effective performance', 'women believed possess character traits integrity selflessness', 'traits seen impair effec tive military performance', 'noted women perceived competent men seen violating prescriptivnder role norms require communal', 'consequently people particularly males dislike females reject contributions', 'observed men arnerally socialized leadership roles itarian women socialized supportive caring', 'western stereotypical views leadership structure essentially dominated monolithic unidirectional observed african organizations', 'researchers argued western stereotypical views leadership impositions african societies western thought', 'contrary western views using gender basis ranking oyewumi contends body-type basis hierarchy males females ranked according anatomic distinctions pre-colonial', 'relationship ranking females males pre-colonial determined seniority based age', 'biological age order marriage', 'result pervasiveness western culture modernization urbanization doubt gender basis ranking present-day nigerian society men hold managerial executive positions organizations females predominantly subordinate lower cadre jobs', 'differences exist expectations men women leadership styles especially subordinate dyadic relationships based gender stereotypes', 'acceptable supervisor verbally chastise recalcitrant female subordinate behavior female supervisor perceived role unacceptable particularly predominantly muslim country', 'adebayo and', 'udegbe copyright sons ltd', 'organiz', 'behav', 'furthermore subordinates likely resent question authority female leaders sex role stereotypes variance female leadership position', 'paternalism theory explains dominance leadership positions', 'postulates women seen children held responsible misdeeds', 'pam pered protected', 'supervisors strict come expect female subordinates', 'disproportionate representation women particularly upper echelons nigerian organizations implications interactions working women', 'suggest junior female workers female leaders prototype models look comparison counterparts', 'wrong impression upward mobility difficult impossible', 'added operation queen bee syndrome refers tendency females supervisory roles treat females subordinate roles favorably', 'overall consequence relationships females working impaired', 'negative impact nature quality relationships female female subordinate dyad', 'foregoing gender interacting variable focus study follow ing hypotheses tested hypothesis strongest quality exchange relationships occur female subordinate dyad compared gender combinations', 'hypothesis weakest quality exchange relationships occur female female subordinate dyad compared gender combinations', 'organizational context capital officially replaced nation capital assumed status administrative political', 'bounded state plateau state', 'gaphically republic', 'makes accessible parts country', 'unlike nigerian cities founder belongs nigerians', 'estimated population', 'million inhabitants', 'present largest indigenous group thagyi gwari living rural areas plateau states', 'second largest group koro rural communities extending state', 'smaller tribes include thde ganagana ebirra bassa', 'ish official language', 'hausa second prevalent language gwari spoken rural areas', 'sheraton hotel study conducted employees sheraton hotel', '-storey located ladi kwali began operation', 'excellent five-star facilities', 'apex administrative set-up thneral manager followed executive assistant gender subordinate relationship copyright sons ltd', 'organiz', 'behav', 'results study provide support role gender differentiation subordinate relationship', 'consistent findings previous studies support influence gender leader subordinate relationship findings thnder supervisors subordinates significant effect differentiation subordinate relationships', 'results reveal effect gender subordinate relationship dependent nature sex combination dyads question', 'results consistently dyads opposite sexes quality exchange tends better composed sex', 'pattern result consistent studies men women interacting member opposite sex', 'comparison subordinates perception quality subordinate relationship dyadic groups revealed subordinates female subordinate dyad perception quality exchange', 'pattern result consistent implica tion chivalry paternalism theory suggests women seen children held accountable misdeeds pampered protected', 'supervisors strict come expect female subordinates', 'furthermore following extensive literature review concluded men helping women especially prevalent form helping', 'gives credence present results', 'subordinates perception female subordinate dyad second-best quality exchange somewhat contrary expectations considering role sex role stereotypes dominance islamic study conducted', 'appears make women obscure men particularly muslim strongly object serving female leadership', 'thought appears reasonable large extent government establishments characterized feudalistic tendencies particularly muslim', 'private sector characterized meritocracy run profit ing', 'addition women service organizations private sector', 'makes subordinates female supervision domains', 'conversely male-dominated professions subordinates likely resentful female supervision operation sex role ideology', 'addition harsh economic reality makes difficult jobs make subordinates reporting female supervisors submissive', 'explains quality relationship female subordinates', 'probable subordinates submissive result youthfulness limited level education vis-a -vis female visors better educated', 'subordinate dyad quality exchange supported findings suggest men relative women refrain asking needed help men', 'precludes subordinates asking supervisors role clarification course performing duties explains present pattern findings', 'finally female female subordinate dyad recorded lowest quality exchange possibly tendency females supervisory roles treat female subordinates favorably', 'study conducted relatively lower-cadre employees whose', 'adebayo and', 'udegbe copyright sons ltd']\n"
     ]
    }
   ],
   "source": [
    "print(sents[0:100])"
   ]
  },
  {
   "cell_type": "code",
   "execution_count": 40,
   "metadata": {},
   "outputs": [],
   "source": [
    "# save data\n",
    "pickle.dump(data_proc2, open( \"C:/Thesis/Data/save/Master_Data/pre_processed_data/data_preprocessed.p\", \"wb\" ) )"
   ]
  },
  {
   "cell_type": "code",
   "execution_count": 41,
   "metadata": {},
   "outputs": [],
   "source": [
    "import io\n",
    "\n",
    "# writing documents one sentence per line to form a larger data set (allowing use of a generator for model training):\n",
    "with open(\"C:/Thesis/Data/save/Master_Data/pre_processed_data/data_preprocessed_txt.txt\", \"a\",encoding=\"utf-8\") as outfile:\n",
    "    \n",
    "    for s in sents:\n",
    "        outstring = s + '\\n'\n",
    "        outfile.write(outstring)\n",
    "        \n",
    "# (additionally you could keep document boundaries intact, \n",
    "# e.g. by writing a file per document or marking start and end of articles in the larger file)"
   ]
  },
  {
   "cell_type": "code",
   "execution_count": null,
   "metadata": {},
   "outputs": [],
   "source": [
    "#import io\n",
    "#with open(\"C:/Thesis/Data/save/Master_Data/MD_3/data_proc_latest/JM_data_proc_txt.txt\", \"w\",encoding=\"utf-8\") as outfile:\n",
    "#    for i in range(len(data_proc)):\n",
    "#        outstring = \"\"\n",
    "#        outstring += str(data_proc[i])\n",
    "#        outfile.write(outstring)"
   ]
  },
  {
   "cell_type": "code",
   "execution_count": null,
   "metadata": {},
   "outputs": [],
   "source": []
  }
 ],
 "metadata": {
  "kernelspec": {
   "display_name": "Python 3",
   "language": "python",
   "name": "python3"
  },
  "language_info": {
   "codemirror_mode": {
    "name": "ipython",
    "version": 3
   },
   "file_extension": ".py",
   "mimetype": "text/x-python",
   "name": "python",
   "nbconvert_exporter": "python",
   "pygments_lexer": "ipython3",
   "version": "3.7.6"
  }
 },
 "nbformat": 4,
 "nbformat_minor": 2
}
