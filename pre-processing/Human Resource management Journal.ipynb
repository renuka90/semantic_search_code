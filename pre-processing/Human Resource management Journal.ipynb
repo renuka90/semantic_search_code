{
 "cells": [
  {
   "cell_type": "code",
   "execution_count": null,
   "metadata": {},
   "outputs": [],
   "source": [
    "import os\n",
    "import re\n",
    "import pandas as pd\n",
    "import urllib\n",
    "from nltk import SnowballStemmer\n",
    "from gensim.models import Word2Vec\n",
    "#import langdetect\n",
    "import tika\n",
    "import time\n",
    "from tika import parser\n",
    "import pickle"
   ]
  },
  {
   "cell_type": "markdown",
   "metadata": {},
   "source": [
    "# Raw Articles pdf Data\n",
    "Convert pdf to text using Tika apache server "
   ]
  },
  {
   "cell_type": "code",
   "execution_count": null,
   "metadata": {},
   "outputs": [],
   "source": [
    "# specify the target data folder\n",
    "\n",
    "target_dir = 'C:/Thesis/Data/Academy_of_Management_journal'"
   ]
  },
  {
   "cell_type": "code",
   "execution_count": null,
   "metadata": {},
   "outputs": [],
   "source": [
    "# prep pdf extraction\n",
    "pdf_files = []\n",
    "wrd_files = []\n",
    "\n",
    "for f in os.listdir(target_dir):\n",
    "    if f.endswith(\".pdf\") | f.endswith(\".PDF\"):\n",
    "        thispdf = os.path.join(target_dir, f)\n",
    "        pdf_files = pdf_files + [thispdf]\n",
    "    if f.endswith(\".doc\") | f.endswith(\".docx\") | f.endswith(\".DOC\") | f.endswith(\".DOCX\"):\n",
    "        thiswrd = os.path.join(target_dir, f)\n",
    "        wrd_files = wrd_files + [thiswrd]"
   ]
  },
  {
   "cell_type": "code",
   "execution_count": null,
   "metadata": {
    "scrolled": true
   },
   "outputs": [],
   "source": [
    "port = 4321 # port to use for Tika server (chosen arbitrarily)\n",
    "server_str = 'http://localhost:' + str(port)\n",
    "tika_path  = 'C:\\Software\\ tika-server-1.23.jar'\n",
    "tika_run   = 'java -jar' + tika_path + ' --port ' + str(port)\n",
    "print('Command to start Tika:')\n",
    "print(tika_run)\n",
    "print('---')\n",
    "print('Number of pdf files: ' + str(len(pdf_files)))\n",
    "print('Number of word files: ' + str(len(wrd_files)))"
   ]
  },
  {
   "cell_type": "code",
   "execution_count": null,
   "metadata": {},
   "outputs": [],
   "source": [
    "# process the PDF files, store text in memory\n",
    "tika.TikaClientOnly = True \n",
    "\n",
    "pdf_metadata = [parser.from_file(t, server_str, xmlContent=False)[\"metadata\"] for t in (pdf_files + wrd_files)]"
   ]
  },
  {
   "cell_type": "code",
   "execution_count": null,
   "metadata": {},
   "outputs": [],
   "source": [
    "# save data metadata\n",
    "pickle.dump(pdf_metadata, open( \"C:/Thesis/Data/save/Human_Resource_Management_journal/metadata/metadata_all.p\", \"wb\" ) )"
   ]
  },
  {
   "cell_type": "markdown",
   "metadata": {},
   "source": [
    "# Text Data\n",
    "\n",
    "Eliminate title, sections (eg: content between Method and Discussion) and Reference. It is saved as a pre-processed data"
   ]
  },
  {
   "cell_type": "code",
   "execution_count": null,
   "metadata": {
    "scrolled": true
   },
   "outputs": [],
   "source": [
    "# process the PDF files, store text in memory\n",
    "tika.TikaClientOnly = True \n",
    "\n",
    "pdf_text = [parser.from_file(t, server_str, xmlContent=False)[\"content\"] for t in (pdf_files + wrd_files)]"
   ]
  },
  {
   "cell_type": "code",
   "execution_count": null,
   "metadata": {},
   "outputs": [],
   "source": [
    "# save data\n",
    "pickle.dump(pdf_text, open( \"C:/Thesis/Data/save/Human_Resource_Management_journal/save_alltextData.p\", \"wb\" ) )"
   ]
  },
  {
   "cell_type": "markdown",
   "metadata": {},
   "source": [
    "#  Load the Text data"
   ]
  },
  {
   "cell_type": "code",
   "execution_count": 1,
   "metadata": {},
   "outputs": [],
   "source": [
    "import pickle\n",
    "#load the text data\n",
    "pdf_text = pickle.load(open(\"C:/Thesis/Data/save/Human_Resource_Management_journal/save_alltextData.p\", \"rb\"))\n"
   ]
  },
  {
   "cell_type": "code",
   "execution_count": 2,
   "metadata": {},
   "outputs": [
    {
     "data": {
      "text/plain": [
       "481"
      ]
     },
     "execution_count": 2,
     "metadata": {},
     "output_type": "execute_result"
    }
   ],
   "source": [
    "len(pdf_text)"
   ]
  },
  {
   "cell_type": "markdown",
   "metadata": {},
   "source": [
    "# Get country names"
   ]
  },
  {
   "cell_type": "code",
   "execution_count": 3,
   "metadata": {},
   "outputs": [],
   "source": [
    "# Since it is case sensetive, firstly get the list of country before converting the text to lowercase\n",
    "country_list = ['america', 'vietnam', 'usa']\n",
    "import pycountry\n",
    "\n",
    "for country in pycountry.countries:\n",
    "    country_list.append(country.name.lower())"
   ]
  },
  {
   "cell_type": "code",
   "execution_count": 4,
   "metadata": {},
   "outputs": [],
   "source": [
    "#Convert country list to lower case. it will be called in filter function\n",
    "#country_lower = [x.lower() for x in country_list]\n",
    "#print(country_list)"
   ]
  },
  {
   "cell_type": "markdown",
   "metadata": {},
   "source": [
    "# Get city names (and additional countries)"
   ]
  },
  {
   "cell_type": "code",
   "execution_count": 5,
   "metadata": {},
   "outputs": [],
   "source": [
    "from geotext import GeoText\n",
    "\n",
    "cities_list = []\n",
    "for i in pdf_text:\n",
    "    place = GeoText(i)\n",
    "    #print(place.cities)\n",
    "    #print(place.countries)\n",
    "    cities_list.append(place.cities + place.countries)\n",
    "\n",
    "t = []\n",
    "for i in cities_list:\n",
    "    t += i\n",
    "    \n",
    "# print(len(t))    \n",
    "    \n",
    "cities_list = list(set(t))\n",
    "# cities_list"
   ]
  },
  {
   "cell_type": "code",
   "execution_count": 6,
   "metadata": {},
   "outputs": [
    {
     "name": "stdout",
     "output_type": "stream",
     "text": [
      "1113\n"
     ]
    }
   ],
   "source": [
    "#Convert cities list to lower case. it will be called in filter function\n",
    "cities_lower =[]\n",
    "for i in cities_list:\n",
    "    #for j in i:\n",
    "    cities_lower.append(i.lower())\n",
    "print(len(cities_lower))\n"
   ]
  },
  {
   "cell_type": "markdown",
   "metadata": {},
   "source": [
    "#  Convert pdf text to lower case"
   ]
  },
  {
   "cell_type": "code",
   "execution_count": 7,
   "metadata": {},
   "outputs": [],
   "source": [
    "#Convert each string to lowercase\n",
    "for i in range(len(pdf_text)):\n",
    "    pdf_text[i] = pdf_text[i].lower()"
   ]
  },
  {
   "cell_type": "markdown",
   "metadata": {},
   "source": [
    "# Excluding pdfs if it doesnot have the standard format \n",
    "check the standard format of pdf- if it contains method and discussion section or not"
   ]
  },
  {
   "cell_type": "code",
   "execution_count": 8,
   "metadata": {},
   "outputs": [
    {
     "data": {
      "text/plain": [
       "87"
      ]
     },
     "execution_count": 8,
     "metadata": {},
     "output_type": "execute_result"
    }
   ],
   "source": [
    "import re\n",
    "pdf_included =[]\n",
    "pdf_excluded =[]\n",
    "\n",
    "for i in pdf_text:\n",
    "    flag_1 = re.search(r'\\n(general )?discussion\\n', i)\n",
    "    flag_2 = re.search(r'\\nmethods?\\n', i)\n",
    "   \n",
    "    if flag_1 and flag_2: \n",
    "        pdf_included.append(i)\n",
    "     \n",
    "    else:\n",
    "        pdf_excluded.append(i)\n",
    "len(pdf_included)"
   ]
  },
  {
   "cell_type": "code",
   "execution_count": 9,
   "metadata": {},
   "outputs": [
    {
     "data": {
      "text/plain": [
       "394"
      ]
     },
     "execution_count": 9,
     "metadata": {},
     "output_type": "execute_result"
    }
   ],
   "source": [
    "len(pdf_excluded)"
   ]
  },
  {
   "cell_type": "code",
   "execution_count": 10,
   "metadata": {},
   "outputs": [],
   "source": [
    "# Within JM: acknowledgement section appears in two approaches:1: before or after keyword section (only few pdfs)\n",
    "# 2: before reference section (maximum pdfs)\n",
    "# thus, focusing on the majority occurance of acknowledgements before reference second, we removed it based on that condition.\n",
    "\n",
    "# step-1 remove content after acknowledgements section( it will include appendix, reference section)\n",
    "pdf_remove_step1 = [re.sub(r\"(?is)\\nacknowledgments\\n.*\", \"\", f) for f in pdf_included]\n",
    "\n",
    "# step-2 if there is no acknowledgements section than start with appendix (it will include reference section.)\n",
    "pdf_remove_step2 = [re.sub(r\"(?is)\\nappendix\\n.*\", \"\", f) for f in pdf_remove_step1]\n",
    "\n",
    "# step-3 remove all from reference section\n",
    "pdf_remove_step3 = [re.sub(r\"(?is)\\nreferences\\n.*\", \"\", f) for f in pdf_remove_step2]\n",
    "\n",
    "# get the reference section\n",
    "references = [re.sub(r\"^(.|\\n)+\\nreferences\\n\", \"\", f) for f in pdf_included]"
   ]
  },
  {
   "cell_type": "code",
   "execution_count": 11,
   "metadata": {},
   "outputs": [
    {
     "data": {
      "text/plain": [
       "87"
      ]
     },
     "execution_count": 11,
     "metadata": {},
     "output_type": "execute_result"
    }
   ],
   "source": [
    "len(pdf_remove_step3)"
   ]
  },
  {
   "cell_type": "code",
   "execution_count": 12,
   "metadata": {},
   "outputs": [],
   "source": [
    "# step-4: remove content between method and discussion section (it contains method and result section)\n",
    "def remove_method_result(method, discussion, text):\n",
    "    \n",
    "    import re    \n",
    "    start = method\n",
    "    end = discussion\n",
    "    #start of pattern, followed by any number of times 'any character OR a newline' and terminated by the end pattern.\n",
    "    #pattern = start + '.*'+'(.|\\n)*'+end\n",
    "    pattern = start +'(.|\\n)*'+end\n",
    "    #pdf_method_dis = [re.sub(pattern, '', f) for f in pdf_text]\n",
    "    pdf_method_dis = re.sub(pattern, '', text)\n",
    "\n",
    "    return pdf_method_dis"
   ]
  },
  {
   "cell_type": "code",
   "execution_count": 13,
   "metadata": {},
   "outputs": [],
   "source": [
    "import re\n",
    "#  remove method and result\n",
    "pdf_remove_step4 = [remove_method_result('\\nmethods?\\n', '\\n(general )?discussion\\n', t) for t in pdf_remove_step3]"
   ]
  },
  {
   "cell_type": "code",
   "execution_count": 14,
   "metadata": {},
   "outputs": [
    {
     "data": {
      "text/plain": [
       "87"
      ]
     },
     "execution_count": 14,
     "metadata": {},
     "output_type": "execute_result"
    }
   ],
   "source": [
    "len(pdf_remove_step4)"
   ]
  },
  {
   "cell_type": "markdown",
   "metadata": {},
   "source": [
    "# Pre-processing\n",
    "Regular expression is used to clean up the data"
   ]
  },
  {
   "cell_type": "code",
   "execution_count": 15,
   "metadata": {},
   "outputs": [
    {
     "name": "stdout",
     "output_type": "stream",
     "text": [
      "\n",
      "\n",
      "\n",
      "\n",
      "\n",
      "\n",
      "\n",
      "\n",
      "\n",
      "\n",
      "\n",
      "\n",
      "\n",
      "\n",
      "\n",
      "\n",
      "\n",
      "\n",
      "\n",
      "\n",
      "\n",
      "\n",
      "\n",
      "\n",
      "\n",
      "\n",
      "\n",
      "\n",
      "\n",
      "\n",
      "\n",
      "\n",
      "\n",
      "\n",
      "\n",
      "\n",
      "\n",
      "\n",
      "\n",
      "\n",
      "\n",
      "\n",
      "\n",
      "\n",
      "\n",
      "\n",
      "no job name\n",
      "\n",
      "\n",
      "opportunity, fair process and relationship value:\n",
      "\n",
      "career development as a driver of proactive\n",
      "\n",
      "work behaviour\n",
      "\n",
      "jonathan r. crawshaw, aston business school, aston university\n",
      "rolf van dick, institute of psychology, goethe university\n",
      "felix c. brodbeck, institute of psychology, ludwig-maximilians university\n",
      "human resource management journal, vol 22, no 1, 2012, pages 4–20\n",
      "\n",
      "in line with recent findings from organisational justice theory, we hypothesised that employee proactive\n",
      "behaviour and careerist orientation is predicted by the interplay of perceived favourability of career\n",
      "development opportunities, the perceived fairness of the procedures used to decide them, and employee\n",
      "organisational commitment. employees (n = 325) of a large financial services organisation responded to\n",
      "a self-completion questionnaire. as predicted, when career development opportunities were viewed\n",
      "unfavourably, perceived procedural justice was significantly and positively related to individual proactive\n",
      "behaviour and significantly and negatively related to careerist orientation but only when organisational\n",
      "commitment was high. it appears that high procedural justice may only ‘offset’ the negative effects of\n",
      "unfavourable career development opportunities when employees identify with, and are committed to, their\n",
      "organisation. further support is presented for a relational, rather than instrumental, model of procedural\n",
      "justice when reflecting on employee reactions to their employers’ policies and decision-making.\n",
      "implications for theory and practice are discussed.\n",
      "contact: dr jonathan r. crawshaw, work and organisational psychology group (sw8011),\n",
      "aston business school, aston university, birmingham b4 7et, uk. email:\n",
      "j.r.crawshaw2@aston.ac.ukhrmj_169 4..20\n",
      "\n",
      "introduction\n",
      "\n",
      "e\n",
      "mployers face a dilemma. on the one hand, there is growing opinion that if organisations\n",
      "are to survive and prosper, it will be through the development and retention of a highly\n",
      "skilled and high-performing workforce (e.g. barney, 1991; huselid, 1995; ichniowski et al.,\n",
      "\n",
      "1997). indeed, within the context of an increasingly competitive, dynamic and unpredictable\n",
      "work environment, particular attention has been paid to the importance of developing\n",
      "employees who are willing and able to work proactively (e.g. crant, 2000; frese and fay, 2001;\n",
      "griffin et al., 2007). proactive employees are said to exhibit the necessary innovativeness, future\n",
      "orientation and self-motivation required to add real value to organisations facing these difficult\n",
      "challenges (parker et al., 2006).\n",
      "\n",
      "on the other hand, however, these very same external forces have led many organisations\n",
      "to initiate strategies to improve their flexibility and efficiency in order to remain competitive.\n",
      "such strategies commonly involve a significant re-organisation of work; very often involving\n",
      "regular rounds of redundancy, the introduction of short term ‘flexible’ contracting and/or the\n",
      "outsourcing of non-core functions (see atkinson, 1987). rather than promoting a proactive\n",
      "workforce, such strategies have been shown to undermine trust in the employment relationship\n",
      "and support the emergence of a more careerist-orientated employee (feldman and weitz, 1991;\n",
      "robinson, 1996; atkinson, 2007).\n",
      "\n",
      "doi: 10.1111/j.1748-8583.2011.00169.x\n",
      "\n",
      "human resource management journal, vol 22 no 1, 20124\n",
      "\n",
      "© 2011 blackwell publishing ltd.\n",
      "\n",
      "please cite this article in press as: crawshaw, j.r., van dick, r. and brodbeck, f.c. (2012) ‘opportunity, fair process and relationship value: career\n",
      "development as a driver of proactive work behaviour’. human resource management journal 22: 1, 4–20.\n",
      "\n",
      "\n",
      "\n",
      "careerist-orientated employees acknowledge disconnection between their own long-term\n",
      "career development goals and the goals of their employer. a lack of trust in the employer’s\n",
      "ability, or willingness, to provide long-term job security leads to a focus on protecting one’s\n",
      "own career interests (feldman, 1985, 1989; feldman and weitz, 1991). importantly, such career\n",
      "commitment has been shown to have significant negative implications for a variety of\n",
      "important work attitudes and behaviours, including job involvement and commitment (e.g.\n",
      "aryee and chen, 2004).\n",
      "\n",
      "kanter (1990), and more recently herriot and pemberton (1996, 1997), present a solution to\n",
      "this dilemma. employers need to provide employees with a range of career development\n",
      "opportunities that promote their employability security. in other words, an economic exchange\n",
      "model is proposed where employee loyalty and high performance (albeit perhaps over the short\n",
      "term) is generated through the provision of valued and marketable career development\n",
      "opportunities (herriot and pemberton, 1996, 1997; sturges et al., 2005). organisations may\n",
      "therefore be able to reduce the emergence of damaging careerist orientations to work and\n",
      "garner the required levels of work performance, in particular proactive behaviours, by\n",
      "providing employees with valued and satisfying career development opportunities.\n",
      "\n",
      "to date, however, empirical support for these propositions is limited. despite the obvious\n",
      "salience of proactive behaviour and careerist orientation, they have been largely overlooked by\n",
      "career researchers investigating employee perceptions of, and reactions to, their career\n",
      "development opportunities. the authors could find no previous empirical studies exploring the\n",
      "relationship between employee perceptions of their career development opportunities and their\n",
      "proactive behaviour. moreover, only one published study, carried out within the chinese\n",
      "manufacturing context, could be found that has investigated the relationship between employee\n",
      "perceptions of their career development opportunities and careerist orientation (see aryee and\n",
      "chen, 2004).\n",
      "\n",
      "theoretically, the extant careers literature has also been dominated by simple exchange\n",
      "models such as the one posited above (e.g. aryee and chen, 2004). although useful, researchers\n",
      "have yet to explore the conditions under which employees’ perceptions of career development\n",
      "opportunities may matter more (or less) in predicting important outcomes such as proactive\n",
      "behaviour and careerist orientation. in other words, research is needed that investigates the\n",
      "existence of moderators of the relationship between career development opportunities and\n",
      "important outcomes. if we are to more effectively inform current and future policy making and\n",
      "practice in organisational career management, it is essential therefore that research begins to\n",
      "explore important contextual variables that may impact upon employees’ reactions to career\n",
      "development opportunities.\n",
      "\n",
      "in order to meet these gaps in the current careers literature, we turned to organisational\n",
      "justice theory, and in particular, recent findings that suggest employee reactions to\n",
      "organisational decisions (e.g. the allocation of career development opportunities) may be\n",
      "moderated by a three-way interaction between the perceived favourability of reward/resource\n",
      "allocations, their perceptions of procedural justice, or the fairness of the organisations’ decision-\n",
      "making processes (leventhal, 1980) regarding these decisions, and their affective organisational\n",
      "commitment (e.g. kwong and leung, 2002). kwong and leung found support for such an\n",
      "interaction effect when predicting employee work effort and stay intentions. when employees\n",
      "viewed the allocation of valued rewards and resources as unfavourable, the moderating effect\n",
      "of high procedural justice on work effort and stay intentions was found to be more pronounced\n",
      "in employees who reported high organisational commitment.\n",
      "\n",
      "in light of these findings, we propose and test a similar model, where careerist orientation\n",
      "and proactive behaviour are predicted by an interaction between employee perceptions of their\n",
      "\n",
      "jonathan r. crawshaw, rolf van dick and felix c. brodbeck\n",
      "\n",
      "human resource management journal, vol 22 no 1, 2012 5\n",
      "\n",
      "© 2011 blackwell publishing ltd.\n",
      "\n",
      "\n",
      "\n",
      "career development opportunities (a resource allocation), the perceived fairness of the\n",
      "procedures used to decide them and their affective organisational commitment. more\n",
      "specifically, we hypothesise that when employees perceive their career development\n",
      "opportunities unfavourably, the negative implications for proactive behaviour and careerist\n",
      "orientation will be lessened if the decision-making procedures are perceived as fair and their\n",
      "commitment is high.\n",
      "\n",
      "we aim at making contributions to both the careers and organisational justice literatures. the\n",
      "careers literature is provided with much needed empirical research exploring the importance\n",
      "of employee perceptions of career development opportunities for two new dependent variables,\n",
      "proactive behaviour and careerist orientation. moreover, a new organisational justice-based\n",
      "theoretical lens through which to understand employee reactions to their career development\n",
      "opportunities is also presented. although recent research has begun to recognise the potential\n",
      "importance of organisational justice in a career management context, this literature is still\n",
      "limited in its empirical scope and theoretical development (e.g. wooten and cobb, 1999; aryee\n",
      "and chen, 2004; crawshaw, 2006; crawshaw and brodbeck, 2011).\n",
      "\n",
      "the organisational justice literature is provided with a much needed replication of the\n",
      "interaction between outcome favourability, procedural justice and affective organisational\n",
      "commitment within a new uk career management context. to our knowledge, no subsequent\n",
      "study has presented additional empirical evidence of this three-way interaction effect, and as\n",
      "such, this study aims to increase confidence in the generalisability and utility of kwong and\n",
      "leung’s findings.\n",
      "\n",
      "career development opportunities, careerism and proactive behaviour\n",
      "\n",
      "the positive gains for organisations of providing employees with satisfying and rewarding\n",
      "career development opportunities are fairly well established. for example, a number of prior\n",
      "studies have highlighted the significant relationships between perceived career development\n",
      "opportunities and positive work attitudes such as job satisfaction (birdi et al., 1997; chen et al.,\n",
      "2003) and organisational commitment (blau et al., 2001). to date, however, this research has\n",
      "been fairly limited in its range of dependent variables studied.\n",
      "\n",
      "as highlighted above, the emergence of more careerist-orientated employees may provide\n",
      "many problems for employers, not least the potential for lower job performance and increased\n",
      "turnover (feldman and weitz, 1991). given the assumptions that a lack of long-term career\n",
      "development opportunities may be a key antecedent of careerist orientation, it is perhaps\n",
      "surprising that very few studies have actually explored this relationship. aryee and chen\n",
      "(2004) provide some support for a significant negative relationship between career growth\n",
      "opportunities and careerist orientation but the specific chinese context of their research means\n",
      "that more evidence is needed, and in different employment contexts.\n",
      "\n",
      "another significant absentee has been research exploring the impact of perceived career\n",
      "development opportunities on employee job performance. kraimer et al. (2010) present some\n",
      "empirical support for the positive relationship between career opportunities and role-based\n",
      "performance. however, again, more evidence is required that focuses on other important\n",
      "aspects of work performance such as employee proactive or extra-role behaviour. it is essential\n",
      "that more research is carried out that explores the links between career variables, such as\n",
      "perceived career development opportunities, and outcomes that are valued by senior\n",
      "management in organisations (kraimer et al., 2010). by focussing our study on employee\n",
      "careerist orientation and proactive behaviour, we aimed to begin to fill this gap in the literature.\n",
      "\n",
      "career motivation theory (london, 1983) and social exchange theory (blau, 1964) have both\n",
      "emerged as frameworks for understanding these relationships. career motivation theory posits\n",
      "\n",
      "interactions of commitment and justice\n",
      "\n",
      "human resource management journal, vol 22 no 1, 20126\n",
      "\n",
      "© 2011 blackwell publishing ltd.\n",
      "\n",
      "\n",
      "\n",
      "that an individual’s work attitudes and behaviours are, to some extent, motivated by their\n",
      "personal career goals. thus, employees increase their effort and commitment to the attainment\n",
      "of organisational goals because they wish to gain access to valuable career development\n",
      "opportunities that are on offer (kraimer et al., 2010). alternatively, social exchange theory is\n",
      "based on the principles of reciprocity, where employees’ increase their commitment and work\n",
      "effort in response to positive treatment by the organisation – like the receipt of valuable career\n",
      "development opportunities (e.g. aryee and chen, 2004). either way, both theories posit a\n",
      "significant positive relationship between the perceived favourability of career development\n",
      "opportunities and individual proactive behaviour and a significant negative relationship\n",
      "between the perceived favourability of career development opportunities and careerist\n",
      "orientation.\n",
      "\n",
      "the current study, however, extends these theoretical models, and prior empirical research,\n",
      "by exploring the existence of important moderators of these relationships. to this end, we draw\n",
      "upon research from the field of organisational justice, and in particular, a study by kwong and\n",
      "leung (2002) that finds support for a three-way interaction effect between the perceived\n",
      "favourability of outcomes, procedural justice and affective organisational commitment.\n",
      "\n",
      "the interaction of perceived career development opportunities, procedural justice and\n",
      "\n",
      "affective commitment\n",
      "\n",
      "considerable empirical support has emerged within the organisational justice literature for an\n",
      "interaction effect between an individual’s perceptions of procedural justice and outcome\n",
      "favourability when predicting his/her reactions to a decision-making system (for a meta-\n",
      "analysis, see brockner and wiesenfeld, 1996). studies have repeatedly shown that an\n",
      "employee’s concerns for procedural justice are greater when they feel that they have been\n",
      "treated unfavourably in the distribution of valued rewards or resources (e.g. folger, 1987).\n",
      "when outcomes are viewed unfavourably, the potential negative implications for important\n",
      "organisation-directed attitudes and behaviours appear to be ‘offset’ or ‘buffered’ by the\n",
      "presence of high levels of procedural fairness (for reviews, see brockner and wiesenfeld, 1996;\n",
      "cropanzano and greenberg, 1997; colquitt et al., 2001).\n",
      "\n",
      "two explanations for the interaction of procedural justice and outcome favourability have\n",
      "been put forward. from an instrumental perspective, procedural justice is viewed as evidence\n",
      "of one’s potential future economic gain from that decision-making system. if the procedures\n",
      "followed to make the unfavourable decision are viewed as fair and just it is proposed that the\n",
      "individual is, at least in part, reassured that this system and relationship should ultimately\n",
      "benefit them, economically speaking, over the longer term (lind and tyler, 1988). the potential\n",
      "negative attitudinal or behavioural implications associated with unfavourable reward allocation\n",
      "are thus offset as current decisions are viewed by the individual as less important than the\n",
      "potential economic gains from the longer term relationship.\n",
      "\n",
      "alternatively, the ‘group value’, or relational, perspective draws on social identity theory\n",
      "(tajfel and turner, 1986) and interprets this interaction effect as reflecting an individual’s\n",
      "desire to be accepted by their peer or working group (tyler, 1989). being subjected to fair and\n",
      "just procedures suggests one is valued and respected within the group, irrespective of the\n",
      "relative unfavourability of the current rewards and resources provided by the group.\n",
      "although a desire for in-group acceptance may also be deemed as instrumental, the\n",
      "motivation here is not mainly for economic gain or benefit, but mostly for meeting\n",
      "relationship and social needs. the potential negative implications for individual attitudes or\n",
      "behaviours associated with the receipt of unfavourable rewards or resources are thus offset,\n",
      "not because procedural justice guarantees future economic gain, but because one’s desires for\n",
      "\n",
      "jonathan r. crawshaw, rolf van dick and felix c. brodbeck\n",
      "\n",
      "human resource management journal, vol 22 no 1, 2012 7\n",
      "\n",
      "© 2011 blackwell publishing ltd.\n",
      "\n",
      "\n",
      "\n",
      "social group acceptance and respect are upheld (tyler and bies, 1990; tyler and lind, 1992;\n",
      "blader and tyler, 2009).\n",
      "\n",
      "a study by kwong and leung (2002) has, however, presented some evidence that this\n",
      "interaction is itself contingent on the degree of importance an individual places on their\n",
      "relationship with the decision-making system. drawing on earlier research (e.g. brockner et al.,\n",
      "1992, 2000; tyler and degoey, 1996), kwong and leung suggest that procedural justice may\n",
      "only matter to individuals when the relationship with the decision maker itself matters and is\n",
      "valued. in other words, one has to care about one’s relationship with their employer, to\n",
      "ultimately care about how you are treated by them. the compensatory or ‘buffering’ effect of\n",
      "procedural justice on outcome unfavourability would therefore only be observed when an\n",
      "individual identifies with and is affectively committed to their organisation.\n",
      "\n",
      "in their study of 151 chinese members of the hong kong retail union, and their reactions\n",
      "to a pay freeze decision, kwong and leung found support for this proposed three-way\n",
      "interaction. perceptions of procedural justice, in relation to the pay freeze decision, were found\n",
      "to be more strongly and positively related to employee work effort and stay intentions when\n",
      "the outcome was perceived unfavourably and employee organisational commitment was high\n",
      "(kwong and leung, 2002). put differently, the negative implications of a pay freeze decision for\n",
      "work effort and stay intentions was offset by the perceived fairness of the procedures used to\n",
      "decide this pay freeze, but only when employees were committed to their organisation. as\n",
      "procedural justice only moderates the negative implications of unfavourable rewards under\n",
      "conditions of high organisational commitment, kwong and leung conclude that these findings\n",
      "present support for the relational or ‘group value’, rather than instrumental and economic,\n",
      "perspective on procedural justice. one has to care about one’s organisation (high organisational\n",
      "commitment) before any evaluation on the fairness of its decision-making procedures matters.\n",
      "\n",
      "drawing on these findings, therefore, we propose that an employee’s careerist orientation\n",
      "and proactive behaviour will be predicted by a three-way interaction between the perceived\n",
      "favourability of career development opportunities, perceptions of procedural justice and\n",
      "organisational commitment. more specifically, when an individual views the procedures for\n",
      "allocating career development opportunities as fair, this will ‘offset’ or ‘buffer’ the potential\n",
      "negative implications for their proactive behaviour and careerist orientation caused by\n",
      "unfavourable career development opportunities, but only when the individual is committed to,\n",
      "or identifies with, their organisation. the following hypotheses are therefore proposed:\n",
      "\n",
      "hypothesis 1: when employees view their career development opportunities unfavourably\n",
      "(rather than favourably), perceptions of procedural justice will be strongly and positively\n",
      "related to proactive behaviour, but only when organisational commitment is high.\n",
      "\n",
      "hypothesis 2: when employees view their career development opportunities unfavourably\n",
      "(rather than favourably), perceptions of procedural justice will be strongly and negatively\n",
      "related to careerist orientation, but only when organisational commitment is high.\n",
      "\n",
      "in sum, the present study aims to replicate the findings of kwong and leung within a new\n",
      "career context, thus increasing confidence in their generalisability and utility. moreover, the\n",
      "salience of the ‘group value’ model, rather than the instrumental/economic model, of\n",
      "procedural justice is also further tested within our study. finally, by exploring the moderating\n",
      "effects of two key contextual variables (affective organisational commitment and procedural\n",
      "justice) on the relationship between career development opportunities and proactive behaviour\n",
      "and careerist orientation, managers and hr practitioners are provided with a new insight into\n",
      "the dynamics of managing the career development of their employees.\n",
      "\n",
      "interactions of commitment and justice\n",
      "\n",
      "human resource management journal, vol 22 no 1, 20128\n",
      "\n",
      "© 2011 blackwell publishing ltd.\n",
      "\n",
      "\n",
      "\n",
      "our key hypotheses were supported. when individuals view their career development\n",
      "opportunities unfavourably, their perceptions of procedural justice are strongly and positively\n",
      "\n",
      "table 2 summary regression analysis for outcome favourability, procedural justice and organisational\n",
      "commitment predicting proactive behaviour\n",
      "\n",
      "step variable std.\n",
      "error\n",
      "\n",
      "b model\n",
      "f\n",
      "\n",
      "r2 adjusted\n",
      "r2\n",
      "\n",
      "change in\n",
      "adjusted r2\n",
      "\n",
      "1 gender 0.11 0.09 5.23*** 0.06 0.05 0.05***\n",
      "age 0.01 -0.22***\n",
      "tenure 0.01 0.00\n",
      "seniority 0.29 0.15**\n",
      "\n",
      "2 procedural justice (pj) 0.06 0.10 5.98*** 0.12 0.10 0.05***\n",
      "outcome 0.07 -0.20**\n",
      "favourability (of)\n",
      "commitment (oc) 0.05 0.24***\n",
      "\n",
      "3 pj ¥ of 0.05 0.00 4.72*** 0.13 0.10 0.00\n",
      "pj ¥ oc 0.07 0.17*\n",
      "of ¥ oc 0.06 -0.13\n",
      "\n",
      "4 pj ¥ of ¥ oc 0.05 -0.16* 4.73*** 0.14 0.11 0.01*\n",
      "\n",
      "* p < 0.05, ** p < 0.01, *** p < 0.001.\n",
      "n = 325.\n",
      "\n",
      "jonathan r. crawshaw, rolf van dick and felix c. brodbeck\n",
      "\n",
      "human resource management journal, vol 22 no 1, 2012 13\n",
      "\n",
      "© 2011 blackwell publishing ltd.\n",
      "\n",
      "\n",
      "\n",
      "table 3 summary regression analysis for outcome favourability, procedural justice and organisational\n",
      "commitment predicting careerist orientation\n",
      "\n",
      "step variable std.\n",
      "error\n",
      "\n",
      "b model\n",
      "f\n",
      "\n",
      "r2 adjusted\n",
      "r2\n",
      "\n",
      "change in\n",
      "adjusted r2\n",
      "\n",
      "1 gender 0.08 -0.09 1.90 0.02 0.01 0.01\n",
      "age 0.00 -0.11\n",
      "tenure 0.01 0.08\n",
      "seniority 0.21 -0.08\n",
      "\n",
      "2 procedural justice (pj) 0.04 -0.09 17.94*** 0.28 0.27 0.26***\n",
      "outcome 0.04 0.10\n",
      "favourability (of)\n",
      "commitment (oc) 0.03 0.43***\n",
      "\n",
      "3 pj ¥ of 0.03 -0.11* 14.05*** 0.31 0.29 0.02**\n",
      "pj ¥ oc 0.04 -0.10\n",
      "of ¥ oc 0.04 0.03\n",
      "\n",
      "4 pj ¥ of ¥ oc 0.03 0.16* 13.45*** 0.32 0.30 0.01*\n",
      "\n",
      "* p < 0.05, ** p < 0.01, *** p < 0.001.\n",
      "n = 325.\n",
      "\n",
      "figure 1 simple slope analysis with proactive behaviour as dependent variable\n",
      "\n",
      "interactions of commitment and justice\n",
      "\n",
      "human resource management journal, vol 22 no 1, 201214\n",
      "\n",
      "© 2011 blackwell publishing ltd.\n",
      "\n",
      "\n",
      "\n",
      "related to proactive behaviour, and strongly and negatively related to careerist orientation – but\n",
      "only when their levels of organisational commitment are high. it appears that the ability of\n",
      "procedural justice perceptions to suppress or ‘buffer’ the negative implications of unfavourable\n",
      "career development opportunities for proactive behaviour and careerist orientation is only\n",
      "apparent when an individual values the relationship with their employer.\n",
      "\n",
      "implications for theory\n",
      "\n",
      "these findings render essential theoretical developments in the careers literature regarding the\n",
      "role of injustice perceptions in employee evaluations of, and reactions to, organisational career\n",
      "management policies and practices. past research applying organisational justice theory to a\n",
      "career context has been dominated by simple exchange models that assume the fair distribution\n",
      "of career development opportunities and the use of fair decision-making procedures will be\n",
      "reciprocated by positive employee attitudes and behaviours (see wooten and cobb, 1999; aryee\n",
      "and chen, 2004; crawshaw, 2006). the current study presents empirical support for a more\n",
      "complex set of cognitions when it comes to employee reactions to the career development\n",
      "opportunities offered, highlighting the interaction effects of outcome favourability, procedural\n",
      "justice and organisational commitment when predicting an individual’s careerist orientation\n",
      "and proactive behaviour.\n",
      "\n",
      "this study also provides important empirical testing of the relationships between employee\n",
      "perceptions of their career development opportunities and individual proactive behaviour.\n",
      "\n",
      "figure 2 simple slope analysis with careerist orientation as dependent variable\n",
      "\n",
      "jonathan r. crawshaw, rolf van dick and felix c. brodbeck\n",
      "\n",
      "human resource management journal, vol 22 no 1, 2012 15\n",
      "\n",
      "© 2011 blackwell publishing ltd.\n",
      "\n",
      "\n",
      "\n",
      "effective organisational career management policies and practices are those that promote\n",
      "employee attitudes and behaviours that are essential for organisational survival and prosperity,\n",
      "and increasingly individual innovation and proactivity are viewed as such (crant, 2000; parker\n",
      "et al., 2006). to the authors’ best knowledge, no study exists that has explored the role of career\n",
      "management and career development in promoting such behaviours. initial, tentative, support\n",
      "is provided here for the important roles that the provision of career development opportunities\n",
      "and fair career management procedures may play in promoting individual proactivity.\n",
      "\n",
      "the organisational justice literature is presented with further testing of the three-way\n",
      "interaction effect between outcome favourability, procedural justice and organisational\n",
      "commitment first proposed by kwong and leung (2002). by confirming this within a new\n",
      "national (uk) and work (career management) context, and on new previously untested\n",
      "dependent variables (proactive behaviour and careerist orientation), this article provides\n",
      "important evidence of the generalisability of these effects. not only are these effects apparently\n",
      "important within the contexts of pay negotiations and pay freeze decisions in china (kwong and\n",
      "leung, 2002), there is now evidence that they may also be central to the effective management,\n",
      "by employers, of the careers and career development opportunities of uk employees.\n",
      "\n",
      "these findings also further enhance kwong and leung’s theoretical proposition that a\n",
      "relational rather than instrumental (economic) perspective on procedural justice may be more\n",
      "relevant when trying to understand employee reactions to their employers’ policies and\n",
      "decision making. the fact that procedural justice only appears to matter when an individual\n",
      "values the relationship with their employer strongly counters an instrumental, economic,\n",
      "perspective on procedural justice. this is particularly interesting within the context of\n",
      "managing careers, where recent thinking has tended towards the emergence of a transactional\n",
      "psychological momentum in the employment relationship (see herriot and pemberton, 1996,\n",
      "1997; robinson, 1996). within this context, careers and career management are viewed as an\n",
      "economic, short-term and instrumental transaction, where high performance and flexibility is\n",
      "exchanged for access to transferable and marketable skills (herriot and pemberton, 1996, 1997).\n",
      "within the organisation investigated in the present study, however, relational concerns in the\n",
      "employment contract still appear to be an important and central factor in governing employee\n",
      "reactions to organisational or managerial decisions regarding their career development.\n",
      "\n",
      "limitations and future research\n",
      "\n",
      "the contributions of this research should be viewed in light of a number of potential\n",
      "methodological limitations, which are presented here as possible opportunities for future\n",
      "research and methodological development. first, all data collected within this study was\n",
      "self-reported, and as such, raises the potential problems of common method bias in the\n",
      "findings. that said, it is commonly felt that concerns of common method bias may not\n",
      "necessarily apply to tests of moderation, with several authors suggesting that common method\n",
      "bias may actually work against the detection of interaction effects, suppressing their emergence\n",
      "in the data analysis (e.g. mcclelland and judd, 1993). in line with a recent demonstration by\n",
      "siemsen et al. (2011), the existence of reliable three-way interaction effects within the present\n",
      "study suggests that common method bias may not be a major problem. despite this, it would\n",
      "be useful for future research to investigate these issues using more ‘objective’ data to avoid\n",
      "potential same source bias. for example, supervisor/line manager evaluations of proactive\n",
      "behaviour could be sought, whereas for careerist orientation self-report seems to be more\n",
      "appropriate.\n",
      "\n",
      "second, data was collected at a single point in time. the cross-sectional design of this\n",
      "research thus limits our ability to confirm the causal direction of hypotheses. for example, it\n",
      "\n",
      "interactions of commitment and justice\n",
      "\n",
      "human resource management journal, vol 22 no 1, 201216\n",
      "\n",
      "© 2011 blackwell publishing ltd.\n",
      "\n",
      "\n",
      "\n",
      "may be conceivable that those employees who are more careerist orientated are more likely to\n",
      "rate their career development opportunities as unfavourable and organisational procedures as\n",
      "unfair. our model, however, is very much in line with the theoretical developments within the\n",
      "organisational justice literature and our findings confirm those of previous research (e.g. kwong\n",
      "and leung, 2002). that said, future studies may look to build upon this research by using more\n",
      "longitudinal designs to explore these interaction effects.\n",
      "\n",
      "third, the single organisation focus of this study reduces the generalisability of these\n",
      "findings to individuals not employed by this company. despite confirming the findings of\n",
      "previous studies, it is essential that future research is carried out in different national and\n",
      "organisational contexts to further generate greater confidence in their generalisability.\n",
      "\n",
      "finally, within this study, participants were asked for their overall or general opinions\n",
      "regarding the favourability of their career development opportunities, and the fairness of the\n",
      "procedures used to decide this. this ‘averaging’ of experiences might be problematic, as for\n",
      "example, procedures used to decide promotional opportunities and those used to decide access\n",
      "to a secondment may include very different agents and processes. despite this, the current\n",
      "study is in line with previous research investigating such issues (e.g. brockner et al., 1997; aryee\n",
      "and chen, 2004), and as such, confidence should be taken in the appropriateness and accuracy\n",
      "of this data. however, future research may begin to focus on more specific career management\n",
      "interventions like reactions to promotional decisions or outcomes of mentoring relationships,\n",
      "thereby potentially alleviating these problems of ‘averaging’.\n",
      "\n",
      "implications for practice\n",
      "\n",
      "despite the limitations discussed above, our results suggest a number of important practical\n",
      "implications. there are times when employers may be unable to provide the kinds of career\n",
      "development opportunities desired by their employees, perhaps in periods of economic\n",
      "hardship and recession. at such times, employees are liable to become frustrated with their\n",
      "career development opportunities and are more likely to view them unfavourably. it is under\n",
      "these conditions that individual proactivity may be threatened, ironically when it may be\n",
      "needed most for organisational survival, and more careerist orientations to work may begin to\n",
      "emerge. the results of this study show careerism may be averted and proactive behaviours\n",
      "maintained, even if career development opportunities are viewed unfavourably, if employers\n",
      "ensure that their procedures for allocating career development opportunities are viewed as fair\n",
      "and their employees’ organisational commitment has been upheld.\n",
      "\n",
      "one, of course, could view this scenario differently. that in times of economic hardship and\n",
      "recession, a lack of alternative work opportunities may lead employees to exhibit more\n",
      "proactive behaviours in order to signal their value to the organisation. in this case, it is high\n",
      "levels of continuance commitment (meyer and allen, 1984) that is proposed as a driver for\n",
      "proactive behaviour. although our study does not explicitly test the moderating role of\n",
      "continuance commitment, we do present good evidence that the affective ‘want to’ aspect of\n",
      "organisational commitment is essential for securing proactive behaviour when desirable career\n",
      "development opportunities are unavailable.\n",
      "\n",
      "it is important, therefore, that employers attract and maintain a committed workforce. much\n",
      "work has already been done on the roles of high-commitment or high-performance work\n",
      "practices and hrm strategies in promoting employee engagement and organisational\n",
      "commitment (e.g. huselid, 1995). this literature presents strong support for the various roles\n",
      "played by effective recruitment, job design, employee involvement mechanisms, reward\n",
      "strategies and performance management systems in promoting the high levels of affective\n",
      "commitment required from one’s employees (see ichniowski et al., 1997; riketta et al., 2006).\n",
      "\n",
      "jonathan r. crawshaw, rolf van dick and felix c. brodbeck\n",
      "\n",
      "human resource management journal, vol 22 no 1, 2012 17\n",
      "\n",
      "© 2011 blackwell publishing ltd.\n",
      "\n",
      "\n",
      "\n",
      "at the same time, it is equally important that managers and supervisors are made aware of\n",
      "the importance of fair processes and procedures in the allocation of career development\n",
      "opportunities, and that they gain the necessary experience of facilitating and supporting the\n",
      "careers of their employees. such decision-making processes (and therefore any relevant\n",
      "training) should uphold the principles of procedural justice by being transparent, consistent,\n",
      "allowing employee input and influence, suppressing bias and being based on accurate and\n",
      "relevant information (leventhal, 1980). employees should also be provided with regular\n",
      "communications regarding their career development and be given quality and timely feedback\n",
      "on any career-related decisions affecting them (bies and moag, 1986).\n",
      "\n",
      "--**************************************-\n",
      "-**************************************--\n",
      "-**************************************--\n"
     ]
    }
   ],
   "source": [
    "# testing it works\n",
    "ref_doc = 20\n",
    "print(pdf_remove_step4[ref_doc])\n",
    "print('--**************************************-')\n",
    "print('-**************************************--')\n",
    "print('-**************************************--')\n",
    "# print(pdf_remove_step4[ref_doc])"
   ]
  },
  {
   "cell_type": "code",
   "execution_count": 16,
   "metadata": {},
   "outputs": [],
   "source": [
    "# remove journal title here?\n",
    "pdf_p = [re.sub('journal of management', '', t) for t in pdf_remove_step4]\n",
    "pdf_p = [re.sub('et al.', '', t) for t in pdf_p]\n",
    "pdf_p = [re.sub('e.g.', '', t) for t in pdf_p] \n",
    "pdf_p = [re.sub('e-mail:', '', t) for t in pdf_p] \n",
    "# CHECK ORDER OF OPERATIONS BELOW:\n",
    "#remove email address <-- IMPROVED, BUT E-MAIL SEEMS TO BE BROKEN UP, BUT STILL PRESENT IN DOCUMENTS AT TIMES         \n",
    "pdf_p = [re.sub(r'[\\w\\.\\-]+@[\\w\\.\\-]+\\.(?:com|net|org|live|edu)', \"\", t) for t in pdf_p]"
   ]
  },
  {
   "cell_type": "code",
   "execution_count": 17,
   "metadata": {},
   "outputs": [],
   "source": [
    "pdf_p = [re.sub( r'https?://[^\\s<>\"]+|www\\.[^\\s<>\"]+', \"\", t) for t in pdf_p]\n",
    "pdf_p = [re.sub(\"[\\S\\.\\-\\?\\!\\=]+\\.(net|com|org|info|edu|gov|uk|de|ca|jp|fr|au|us|ru|ch|it|nel|se|no|es|mil)(/[\\S\\.\\-\\?\\!\\=]*)?\\s?\", \" \", t) for t in pdf_p]"
   ]
  },
  {
   "cell_type": "code",
   "execution_count": 18,
   "metadata": {},
   "outputs": [
    {
     "data": {
      "text/plain": [
       "'\\n\\n\\n\\n\\n\\n\\n\\n\\n\\n\\n\\n\\n\\n\\n\\n\\n\\n\\n\\n\\n\\n\\n\\n\\n\\n\\n\\n\\n\\n\\n\\n\\n\\n\\n\\n\\n\\n\\n\\n\\n\\n\\n\\n\\n\\nno job name\\n\\n\\nopportunity, fair process and relationship value:\\n\\ncareer development as a driver of proactive\\n\\nwork behaviour\\n\\njonathan r. crawshaw, aston business school, aston university\\nrolf van dick, institute of psychology, goethe university\\nfelix c. brodbeck, institute of psychology, ludwig-maximilians university\\nhuman resource management journal, vol 22, no 1, 2012, pages 4–20\\n\\nin line with recent findings from organisational justice theory, we hypothesised that employee proactive\\nbehaviour and careerist orientation is predicted by the interplay of perceived favourability of career\\ndevelopment opportunities, the perceived fairness of the procedures used to decide them, and employee\\norganisational commitment. employees (n = 325) of a large financial services organisation responded to\\na self-completion questionnaire. as predicted, when career development opportunities were viewed\\nunfavourably, perceived procedural justice was significantly and positively related to individual proactive\\nbehaviour and significantly and negatively related to careerist orientation but only when organisational\\ncommitment was high. it appears that high procedural justice may only ‘offset’ the negative effects of\\nunfavourable career development opportunities when employees identify with, and are committed to, their\\norganisation. further support is presented for a relational, rather than instrumental, model of procedural\\njustice when reflecting on employee reactions to their employers’ policies and decision-making.\\nimplications for theory and practice are discussed.\\ncontact: dr jonathan r. crawshaw, work and organisational psychology group (sw8011),\\naston business school, aston university, birmingham b4 7et, uk. email:\\n hrmj_169 4..20\\n\\nintroduction\\n\\ne\\nmployers face a dilemma. on the one hand, there is growing opinion that if organisations\\nare to survive and prosper, it will be through the development and retention of a highly\\nskilled and high-performing workforce ( barney, 1991; huselid, 1995; ichniowski ,\\n\\n1997). indeed, within the context of an increasingly competitive, dynamic and unpredictable\\nwork environment, particular attention has been paid to the importance of developing\\nemployees who are willing and able to work proactively ( crant, 2000; frese and fay, 2001;\\ngriffin , 2007). proactive employees are said to exhibit the necessary innovativeness, future\\norientation and self-motivation required to add real value to organisations facing these difficult\\nchalls (parker , 2006).\\n\\non the other hand, however, these very same external forces have led many organisations\\nto initiate strategies to improve their flexibility and efficiency in order to remain competitive.\\nsuch strategies commonly involve a significant re-organisation of work; very often involving\\nregular rounds of redundancy, the introduction of short term ‘flexible’ contracting and/or the\\noutsourcing of non-core functions (see atkinson, 1987). rather than promoting a proactive\\nworkforce, such strategies have been shown to undermine trust in the employment relationship\\nand support the emnce of a more careerist-orientated employee (feldman and weitz, 1991;\\nrobinson, 1996; atkinson, 2007).\\n\\ndoi: 10.1111/j.1748-8583.2011.00169.x\\n\\nhuman resource management journal, vol 22 no 1, 20124\\n\\n© 2011 blackwell publishing ltd.\\n\\nplease cite this article in press as: crawshaw, j.r., van dick, r. and brodbeck, f.c. (2012) ‘opportunity, fair process and relationship value: career\\ndevelopment as a driver of proactive work behaviour’. human resource management journal 22: 1, 4–20.\\n\\n\\n\\ncareerist-orientated employees acknowl disconnection between their own long-term\\ncareer development goals and thals of their employer. a lack of trust in the employer’s\\nability, or willingness, to provide long-term job security leads to a focus on protecting one’s\\nown career interests (feldman, 1985, 1989; feldman and weitz, 1991). importantly, such career\\ncommitment has been shown to have significant negative implications for a variety of\\nimportant work attitudes and behaviours, including job involvement and commitment (\\naryee and chen, 2004).\\n\\nkanter (1990), and more recently herriot and pemberton (1996, 1997), present a solution to\\nthis dilemma. employers need to provide employees with a range of career development\\nopportunities that promote their employability security. in other words, an economic exchange\\nmodel is proposed where employee loyalty and high performance (albeit perhaps over the short\\nterm) is generated through the provision of valued and marketable career development\\nopportunities (herriot and pemberton, 1996, 1997; sturges , 2005). organisations may\\ntherefore be able to reduce the emnce of damaging careerist orientations to work and\\ngarner the required levels of work performance, in particular proactive behaviours, by\\nproviding employees with valued and satisfying career development opportunities.\\n\\nto date, however, empirical support for these propositions is limited. despite the obvious\\nsalience of proactive behaviour and careerist orientation, they have been largely overlooked by\\ncareer researchers investigating employee perceptions of, and reactions to, their career\\ndevelopment opportunities. the authors could find no previous empirical studies exploring the\\nrelationship between employee perceptions of their career development opportunities and their\\nproactive behaviour. moreover, only one published study, carried out within the chinese\\nmanufacturing context, could be found that has investigated the relationship between employee\\nperceptions of their career development opportunities and careerist orientation (see aryee and\\nchen, 2004).\\n\\ntheoretically, the extant careers literature has also been dominated by simple exchange\\nmodels such as the one posited above ( aryee and chen, 2004). although useful, researchers\\nhave yet to explore the conditions under which employees’ perceptions of career development\\nopportunities may matter more (or less) in predicting important outcomes such as proactive\\nbehaviour and careerist orientation. in other words, research is needed that investigates the\\nexistence of moderators of the relationship between career development opportunities and\\nimportant outcomes. if we are to more effectively inform current and future policy making and\\npractice in organisational career management, it is essential therefore that research begins to\\nexplore important contextual variables that may impact upon employees’ reactions to career\\ndevelopment opportunities.\\n\\nin order to meet thesps in the current careers literature, we turned to organisational\\njustice theory, and in particular, recent findings that suggest employee reactions to\\norganisational decisions ( the allocation of career development opportunities) may be\\nmoderated by a three-way interaction between the perceived favourability of reward/resource\\nallocations, their perceptions of procedural justice, or the fairness of the organisations’ decision-\\nmaking processes (leventhal, 1980) regarding these decisions, and their affective organisational\\ncommitment ( kwong and leung, 2002). kwong and leung found support for such an\\ninteraction effect when predicting employee work effort and stay intentions. when employees\\nviewed the allocation of valued rewards and resources as unfavourable, the moderating effect\\nof high procedural justice on work effort and stay intentions was found to be more pronounced\\nin employees who reported high organisational commitment.\\n\\nin light of these findings, we propose and test a similar model, where careerist orientation\\nand proactive behaviour are predicted by an interaction between employee perceptions of their\\n\\njonathan r. crawshaw, rolf van dick and felix c. brodbeck\\n\\nhuman resource management journal, vol 22 no 1, 2012 5\\n\\n© 2011 blackwell publishing ltd.\\n\\n\\n\\ncareer development opportunities (a resource allocation), the perceived fairness of the\\nprocedures used to decide them and their affective organisational commitment. more\\nspecifically, we hypothesise that when employees perceive their career development\\nopportunities unfavourably, the negative implications for proactive behaviour and careerist\\norientation will be lessened if the decision-making procedures are perceived as fair and their\\ncommitment is high.\\n\\nwe aim at making contributions to both the careers and organisational justice literatures. the\\ncareers literature is provided with much needed empirical research exploring the importance\\nof employee perceptions of career development opportunities for two new dependent variables,\\nproactive behaviour and careerist orientation. moreover, a new organisational justice-based\\ntheoretical lens through which to understand employee reactions to their career development\\nopportunities is also presented. although recent research has begun to recognise the potential\\nimportance of organisational justice in a career management context, this literature is still\\nlimited in its empirical scope and theoretical development ( wooten and cobb, 1999; aryee\\nand chen, 2004; crawshaw, 2006; crawshaw and brodbeck, 2011).\\n\\nthe organisational justice literature is provided with a much needed replication of the\\ninteraction between outcome favourability, procedural justice and affective organisational\\ncommitment within a new uk career management context. to our knowl, no subsequent\\nstudy has presented additional empirical evidence of this three-way interaction effect, and as\\nsuch, this study aims to increase confidence in thneralisability and utility of kwong and\\nleung’s findings.\\n\\ncareer development opportunities, careerism and proactive behaviour\\n\\nthe positivins for organisations of providing employees with satisfying and rewarding\\ncareer development opportunities are fairly well established. for example, a number of prior\\nstudies have highlighted the significant relationships between perceived career development\\nopportunities and positive work attitudes such as job satisfaction (birdi , 1997; chen ,\\n2003) and organisational commitment (blau , 2001). to date, however, this research has\\nbeen fairly limited in its range of dependent variables studied.\\n\\nas highlighted above, the emnce of more careerist-orientated employees may provide\\nmany problems for employers, not least the potential for lower job performance and increased\\nturnover (feldman and weitz, 1991). given the assumptions that a lack of long-term career\\ndevelopment opportunities may be a key antecedent of careerist orientation, it is perhaps\\nsurprising that very few studies have actually explored this relationship. aryee and chen\\n(2004) provide some support for a significant negative relationship between career growth\\nopportunities and careerist orientation but the specific chinese context of their research means\\nthat more evidence is needed, and in different employment contexts.\\n\\nanother significant absentee has been research exploring the impact of perceived career\\ndevelopment opportunities on employee job performance. kraimer  (2010) present some\\nempirical support for the positive relationship between career opportunities and role-based\\nperformance. however, again, more evidence is required that focuses on other important\\naspects of work performance such as employee proactive or extra-role behaviour. it is essential\\nthat more research is carried out that explores the links between career variables, such as\\nperceived career development opportunities, and outcomes that are valued by senior\\nmanagement in organisations (kraimer , 2010). by focussing our study on employee\\ncareerist orientation and proactive behaviour, we aimed to begin to fill this gap in the literature.\\n\\ncareer motivation theory (london, 1983) and social exchange theory (blau, 1964) have both\\nemd as frameworks for understanding these relationships. career motivation theory posits\\n\\ninteractions of commitment and justice\\n\\nhuman resource management journal, vol 22 no 1, 20126\\n\\n© 2011 blackwell publishing ltd.\\n\\n\\n\\nthat an individual’s work attitudes and behaviours are, to some extent, motivated by their\\npersonal career goals. thus, employees increase their effort and commitment to the attainment\\nof organisational goals because they wish to gain access to valuable career development\\nopportunities that are on offer (kraimer , 2010). alternatively, social exchange theory is\\nbased on the principles of reciprocity, where employees’ increase their commitment and work\\neffort in response to positive treatment by the organisation – like the receipt of valuable career\\ndevelopment opportunities ( aryee and chen, 2004). either way, both theories posit a\\nsignificant positive relationship between the perceived favourability of career development\\nopportunities and individual proactive behaviour and a significant negative relationship\\nbetween the perceived favourability of career development opportunities and careerist\\norientation.\\n\\nthe current study, however, extends these theoretical models, and prior empirical research,\\nby exploring the existence of important moderators of these relationships. to this end, we draw\\nupon research from the field of organisational justice, and in particular, a study by kwong and\\nleung (2002) that finds support for a three-way interaction effect between the perceived\\nfavourability of outcomes, procedural justice and affective organisational commitment.\\n\\nthe interaction of perceived career development opportunities, procedural justice and\\n\\naffective commitment\\n\\nconsiderable empirical support has emd within the organisational justice literature for an\\ninteraction effect between an individual’s perceptions of procedural justice and outcome\\nfavourability when predicting his/her reactions to a decision-making system (for a meta-\\nanalysis, see brockner and wiesenfeld, 1996). studies have repeatedly shown that an\\nemployee’s concerns for procedural justice areater when they feel that they have been\\ntreated unfavourably in the distribution of valued rewards or resources ( folger, 1987).\\nwhen outcomes are viewed unfavourably, the potential negative implications for important\\norganisation-directed attitudes and behaviours appear to be ‘offset’ or ‘buffered’ by the\\npresence of high levels of procedural fairness (for reviews, see brockner and wiesenfeld, 1996;\\ncropanzano and greenb 1997; colquitt , 2001).\\n\\ntwo explanations for the interaction of procedural justice and outcome favourability have\\nbeen put forward. from an instrumental perspective, procedural justice is viewed as evidence\\nof one’s potential future economic gain from that decision-making system. if the procedures\\nfollowed to make the unfavourable decision are viewed as fair and just it is proposed that the\\nindividual is, at least in part, reassured that this system and relationship should ultimately\\nbenefit them, economically speaking, over the longer term (lind and tyler, 1988). the potential\\nnegative attitudinal or behavioural implications associated with unfavourable reward allocation\\nare thus offset as current decisions are viewed by the individual as less important than the\\npotential economic gains from the longer term relationship.\\n\\nalternatively, the ‘group value’, or relational, perspective draws on social identity theory\\n(tajfel and turner, 1986) and interprets this interaction effect as reflecting an individual’s\\ndesire to be accepted by their peer or working group (tyler, 1989). being subjected to fair and\\njust procedures suggests one is valued and respected within thoup, irrespective of the\\nrelative unfavourability of the current rewards and resources provided by thoup.\\nalthough a desire for in-group acceptance may also be deemed as instrumental, the\\nmotivation here is not mainly for economic gain or benefit, but mostly for meeting\\nrelationship and social needs. the potential negative implications for individual attitudes or\\nbehaviours associated with the receipt of unfavourable rewards or resources are thus offset,\\nnot because procedural justicarantees future economic gain, but because one’s desires for\\n\\njonathan r. crawshaw, rolf van dick and felix c. brodbeck\\n\\nhuman resource management journal, vol 22 no 1, 2012 7\\n\\n© 2011 blackwell publishing ltd.\\n\\n\\n\\nsocial group acceptance and respect are upheld (tyler and bies, 1990; tyler and lind, 1992;\\nblader and tyler, 2009).\\n\\na study by kwong and leung (2002) has, however, presented some evidence that this\\ninteraction is itself contingent on the degree of importance an individual places on their\\nrelationship with the decision-making system. drawing on earlier research ( brockner ,\\n1992, 2000; tyler and degoey, 1996), kwong and leung suggest that procedural justice may\\nonly matter to individuals when the relationship with the decision maker itself matters and is\\nvalued. in other words, one has to care about one’s relationship with their employer, to\\nultimately care about how you are treated by them. the compensatory or ‘buffering’ effect of\\nprocedural justice on outcome unfavourability would therefore only be observed when an\\nindividual identifies with and is affectively committed to their organisation.\\n\\nin their study of 151 chinese members of the hong kong retail union, and their reactions\\nto a pay freeze decision, kwong and leung found support for this proposed three-way\\ninteraction. perceptions of procedural justice, in relation to the pay freeze decision, were found\\nto be more strongly and positively related to employee work effort and stay intentions when\\nthe outcome was perceived unfavourably and employee organisational commitment was high\\n(kwong and leung, 2002). put differently, the negative implications of a pay freeze decision for\\nwork effort and stay intentions was offset by the perceived fairness of the procedures used to\\ndecide this pay freeze, but only when employees were committed to their organisation. as\\nprocedural justice only moderates the negative implications of unfavourable rewards under\\nconditions of high organisational commitment, kwong and leung conclude that these findings\\npresent support for the relational or ‘group value’, rather than instrumental and economic,\\nperspective on procedural justice. one has to care about one’s organisation (high organisational\\ncommitment) before any evaluation on the fairness of its decision-making procedures matters.\\n\\ndrawing on these findings, therefore, we propose that an employee’s careerist orientation\\nand proactive behaviour will be predicted by a three-way interaction between the perceived\\nfavourability of career development opportunities, perceptions of procedural justice and\\norganisational commitment. more specifically, when an individual views the procedures for\\nallocating career development opportunities as fair, this will ‘offset’ or ‘buffer’ the potential\\nnegative implications for their proactive behaviour and careerist orientation caused by\\nunfavourable career development opportunities, but only when the individual is committed to,\\nor identifies with, their organisation. the following hypotheses are therefore proposed:\\n\\nhypothesis 1: when employees view their career development opportunities unfavourably\\n(rather than favourably), perceptions of procedural justice will be strongly and positively\\nrelated to proactive behaviour, but only when organisational commitment is high.\\n\\nhypothesis 2: when employees view their career development opportunities unfavourably\\n(rather than favourably), perceptions of procedural justice will be strongly and negatively\\nrelated to careerist orientation, but only when organisational commitment is high.\\n\\nin sum, the present study aims to replicate the findings of kwong and leung within a new\\ncareer context, thus increasing confidence in their generalisability and utility. moreover, the\\nsalience of the ‘group value’ model, rather than the instrumental/economic model, of\\nprocedural justice is also further tested within our study. finally, by exploring the moderating\\neffects of two key contextual variables (affective organisational commitment and procedural\\njustice) on the relationship between career development opportunities and proactive behaviour\\nand careerist orientation, managers and hr practitioners are provided with a new insight into\\nthe dynamics of managing the career development of their employees.\\n\\ninteractions of commitment and justice\\n\\nhuman resource management journal, vol 22 no 1, 20128\\n\\n© 2011 blackwell publishing ltd.\\n\\n\\n\\nour key hypotheses were supported. when individuals view their career development\\nopportunities unfavourably, their perceptions of procedural justice are strongly and positively\\n\\ntable 2 summary regression analysis for outcome favourability, procedural justice and organisational\\ncommitment predicting proactive behaviour\\n\\nstep variable std.\\nerror\\n\\nb model\\nf\\n\\nr2 adjusted\\nr2\\n\\nchange in\\nadjusted r2\\n\\n1 gender 0.11 0.09 5.23*** 0.06 0.05 0.05***\\nage 0.01 -0.22***\\ntenure 0.01 0.00\\nseniority 0.29 0.15**\\n\\n2 procedural justice (pj) 0.06 0.10 5.98*** 0.12 0.10 0.05***\\noutcome 0.07 -0.20**\\nfavourability (of)\\ncommitment (oc) 0.05 0.24***\\n\\n3 pj ¥ of 0.05 0.00 4.72*** 0.13 0.10 0.00\\npj ¥ oc 0.07 0.17*\\nof ¥ oc 0.06 -0.13\\n\\n4 pj ¥ of ¥ oc 0.05 -0.16* 4.73*** 0.14 0.11 0.01*\\n\\n* p < 0.05, ** p < 0.01, *** p < 0.001.\\nn = 325.\\n\\njonathan r. crawshaw, rolf van dick and felix c. brodbeck\\n\\nhuman resource management journal, vol 22 no 1, 2012 13\\n\\n© 2011 blackwell publishing ltd.\\n\\n\\n\\ntable 3 summary regression analysis for outcome favourability, procedural justice and organisational\\ncommitment predicting careerist orientation\\n\\nstep variable std.\\nerror\\n\\nb model\\nf\\n\\nr2 adjusted\\nr2\\n\\nchange in\\nadjusted r2\\n\\n1 gender 0.08 -0.09 1.90 0.02 0.01 0.01\\nage 0.00 -0.11\\ntenure 0.01 0.08\\nseniority 0.21 -0.08\\n\\n2 procedural justice (pj) 0.04 -0.09 17.94*** 0.28 0.27 0.26***\\noutcome 0.04 0.10\\nfavourability (of)\\ncommitment (oc) 0.03 0.43***\\n\\n3 pj ¥ of 0.03 -0.11* 14.05*** 0.31 0.29 0.02**\\npj ¥ oc 0.04 -0.10\\nof ¥ oc 0.04 0.03\\n\\n4 pj ¥ of ¥ oc 0.03 0.16* 13.45*** 0.32 0.30 0.01*\\n\\n* p < 0.05, ** p < 0.01, *** p < 0.001.\\nn = 325.\\n\\nfigure 1 simple slope analysis with proactive behaviour as dependent variable\\n\\ninteractions of commitment and justice\\n\\nhuman resource management journal, vol 22 no 1, 201214\\n\\n© 2011 blackwell publishing ltd.\\n\\n\\n\\nrelated to proactive behaviour, and strongly and negatively related to careerist orientation – but\\nonly when their levels of organisational commitment are high. it appears that the ability of\\nprocedural justice perceptions to suppress or ‘buffer’ the negative implications of unfavourable\\ncareer development opportunities for proactive behaviour and careerist orientation is only\\napparent when an individual values the relationship with their employer.\\n\\nimplications for theory\\n\\nthese findings render essential theoretical developments in the careers literature regarding the\\nrole of injustice perceptions in employee evaluations of, and reactions to, organisational career\\nmanagement policies and practices. past research applying organisational justice theory to a\\ncareer context has been dominated by simple exchange models that assume the fair distribution\\nof career development opportunities and the use of fair decision-making procedures will be\\nreciprocated by positive employee attitudes and behaviours (see wooten and cobb, 1999; aryee\\nand chen, 2004; crawshaw, 2006). the current study presents empirical support for a more\\ncomplex set of cognitions when it comes to employee reactions to the career development\\nopportunities offered, highlighting the interaction effects of outcome favourability, procedural\\njustice and organisational commitment when predicting an individual’s careerist orientation\\nand proactive behaviour.\\n\\nthis study also provides important empirical testing of the relationships between employee\\nperceptions of their career development opportunities and individual proactive behaviour.\\n\\nfigure 2 simple slope analysis with careerist orientation as dependent variable\\n\\njonathan r. crawshaw, rolf van dick and felix c. brodbeck\\n\\nhuman resource management journal, vol 22 no 1, 2012 15\\n\\n© 2011 blackwell publishing ltd.\\n\\n\\n\\neffective organisational career management policies and practices are those that promote\\nemployee attitudes and behaviours that are essential for organisational survival and prosperity,\\nand increasingly individual innovation and proactivity are viewed as such (crant, 2000; parker\\n, 2006). to the authors’ best knowl, no study exists that has explored the role of career\\nmanagement and career development in promoting such behaviours. initial, tentative, support\\nis provided here for the important roles that the provision of career development opportunities\\nand fair career management procedures may play in promoting individual proactivity.\\n\\nthe organisational justice literature is presented with further testing of the three-way\\ninteraction effect between outcome favourability, procedural justice and organisational\\ncommitment first proposed by kwong and leung (2002). by confirming this within a new\\nnational (uk) and work (career management) context, and on new previously untested\\ndependent variables (proactive behaviour and careerist orientation), this article provides\\nimportant evidence of thneralisability of these effects. not only are these effects apparently\\nimportant within the contexts of pay negotiations and pay freeze decisions in china (kwong and\\nleung, 2002), there is now evidence that they may also be central to the effective management,\\nby employers, of the careers and career development opportunities of uk employees.\\n\\nthese findings also further enhance kwong and leung’s theoretical proposition that a\\nrelational rather than instrumental (economic) perspective on procedural justice may be more\\nrelevant when trying to understand employee reactions to their employers’ policies and\\ndecision making. the fact that procedural justice only appears to matter when an individual\\nvalues the relationship with their employer strongly counters an instrumental, economic,\\nperspective on procedural justice. this is particularly interesting within the context of\\nmanaging careers, where recent thinking has tended towards the emnce of a transactional\\npsychological momentum in the employment relationship (see herriot and pemberton, 1996,\\n1997; robinson, 1996). within this context, careers and career management are viewed as an\\neconomic, short-term and instrumental transaction, where high performance and flexibility is\\nexchanged for access to transferable and marketable skills (herriot and pemberton, 1996, 1997).\\nwithin the organisation investigated in the present study, however, relational concerns in the\\nemployment contract still appear to be an important and central factor in governing employee\\nreactions to organisational or managerial decisions regarding their career development.\\n\\nlimitations and future research\\n\\nthe contributions of this research should be viewed in light of a number of potential\\nmethodological limitations, which are presented here as possible opportunities for future\\nresearch and methodological development. first, all data collected within this study was\\nself-reported, and as such, raises the potential problems of common method bias in the\\nfindings. that said, it is commonly felt that concerns of common method bias may not\\nnecessarily apply to tests of moderation, with several authors suggesting that common method\\nbias may actually work against the detection of interaction effects, suppressing their emnce\\nin the data analysis ( mcclelland and judd, 1993). in line with a recent demonstration by\\nsiemsen  (2011), the existence of reliable three-way interaction effects within the present\\nstudy suggests that common method bias may not be a major problem. despite this, it would\\nbe useful for future research to investigate these issues using more ‘objective’ data to avoid\\npotential same source bias. for example, supervisor/line manager evaluations of proactive\\nbehaviour could be sought, whereas for careerist orientation self-report seems to be more\\nappropriate.\\n\\nsecond, data was collected at a single point in time. the cross-sectional design of this\\nresearch thus limits our ability to confirm the causal direction of hypotheses. for example, it\\n\\ninteractions of commitment and justice\\n\\nhuman resource management journal, vol 22 no 1, 201216\\n\\n© 2011 blackwell publishing ltd.\\n\\n\\n\\nmay be conceivable that those employees who are more careerist orientated are more likely to\\nrate their career development opportunities as unfavourable and organisational procedures as\\nunfair. our model, however, is very much in line with the theoretical developments within the\\norganisational justice literature and our findings confirm those of previous research ( kwong\\nand leung, 2002). that said, future studies may look to build upon this research by using more\\nlongitudinal designs to explore these interaction effects.\\n\\nthird, the single organisation focus of this study reduces thneralisability of these\\nfindings to individuals not employed by this company. despite confirming the findings of\\nprevious studies, it is essential that future research is carried out in different national and\\norganisational contexts to further generateater confidence in their generalisability.\\n\\nfinally, within this study, participants were asked for their overall or general opinions\\nregarding the favourability of their career development opportunities, and the fairness of the\\nprocedures used to decide this. this ‘averaging’ of experiences might be problematic, as for\\nexample, procedures used to decide promotional opportunities and those used to decide access\\nto a secondment may include very different agents and processes. despite this, the current\\nstudy is in line with previous research investigating such issues ( brockner , 1997; aryee\\nand chen, 2004), and as such, confidence should be taken in the appropriateness and accuracy\\nof this data. however, future research may begin to focus on more specific career management\\ninterventions like reactions to promotional decisions or outcomes of mentoring relationships,\\nthereby potentially alleviating these problems of ‘averaging’.\\n\\nimplications for practice\\n\\ndespite the limitations discussed above, our results suggest a number of important practical\\nimplications. there are times when employers may be unable to provide the kinds of career\\ndevelopment opportunities desired by their employees, perhaps in periods of economic\\nhardship and recession. at such times, employees are liable to become frustrated with their\\ncareer development opportunities and are more likely to view them unfavourably. it is under\\nthese conditions that individual proactivity may be threatened, ironically when it may be\\nneeded most for organisational survival, and more careerist orientations to work may begin to\\nem. the results of this study show careerism may be averted and proactive behaviours\\nmaintained, even if career development opportunities are viewed unfavourably, if employers\\nensure that their procedures for allocating career development opportunities are viewed as fair\\nand their employees’ organisational commitment has been upheld.\\n\\none, of course, could view this scenario differently. that in times of economic hardship and\\nrecession, a lack of alternative work opportunities may lead employees to exhibit more\\nproactive behaviours in order to signal their value to the organisation. in this case, it is high\\nlevels of continuance commitment (meyer and allen, 1984) that is proposed as a driver for\\nproactive behaviour. although our study does not explicitly test the moderating role of\\ncontinuance commitment, we do present good evidence that the affective ‘want to’ aspect of\\norganisational commitment is essential for securing proactive behaviour when desirable career\\ndevelopment opportunities are unavailable.\\n\\nit is important, therefore, that employers attract and maintain a committed workforce. much\\nwork has already been done on the roles of high-commitment or high-performance work\\npractices and hrm strategies in promoting employee gement and organisational\\ncommitment ( huselid, 1995). this literature presents strong support for the various roles\\nplayed by effective recruitment, job design, employee involvement mechanisms, reward\\nstrategies and performance management systems in promoting the high levels of affective\\ncommitment required from one’s employees (see ichniowski , 1997; riketta , 2006).\\n\\njonathan r. crawshaw, rolf van dick and felix c. brodbeck\\n\\nhuman resource management journal, vol 22 no 1, 2012 17\\n\\n© 2011 blackwell publishing ltd.\\n\\n\\n\\nat the same time, it is equally important that managers and supervisors are made aware of\\nthe importance of fair processes and procedures in the allocation of career development\\nopportunities, and that they gain the necessary experience of facilitating and supporting the\\ncareers of their employees. such decision-making processes (and therefore any relevant\\ntraining) should uphold the principles of procedural justice by being transparent, consistent,\\nallowing employee input and influence, suppressing bias and being based on accurate and\\nrelevant information (leventhal, 1980). employees should also be provided with regular\\ncommunications regarding their career development and bven quality and timely feedback\\non any career-related decisions affecting them (bies and moag, 1986).\\n'"
      ]
     },
     "execution_count": 18,
     "metadata": {},
     "output_type": "execute_result"
    }
   ],
   "source": [
    "pdf_p[ref_doc]"
   ]
  },
  {
   "cell_type": "code",
   "execution_count": 19,
   "metadata": {},
   "outputs": [],
   "source": [
    "#remove hyphon only if it is at the end of the line.\n",
    "#pdf_p = [re.sub(r'(\\W[a-z]+)-\\n(\\W[a-z]+)', r'\\1\\2', t) for t in pdf_p]\n",
    "pdf_p = [re.sub(r'-\\n', '', t) for t in pdf_p]"
   ]
  },
  {
   "cell_type": "code",
   "execution_count": 20,
   "metadata": {},
   "outputs": [],
   "source": [
    "#remove text within ()\n",
    "pdf_p = [re.sub(r\"\\([^)]*\\)\", \"\", t) for t in pdf_p]\n",
    "# remove text with [] eg citation\n",
    "pdf_p = [re.sub(r\"\\[[^)]*\\]\", \"\", t) for t in pdf_p]\n",
    "#Remove numbers\n",
    "pdf_p = [re.sub('[0-9]+', '', f) for f in pdf_p]\n"
   ]
  },
  {
   "cell_type": "code",
   "execution_count": 21,
   "metadata": {},
   "outputs": [],
   "source": [
    "pdf_p = [re.sub('[\\n\\r]+', ' ', f) for f in pdf_p] # remove newline and linebreak characters, replace with space\n",
    "pdf_p = [re.sub('[@/%#$,=\\+:’“”]', ' ', f) for f in pdf_p] # remove stray non-word characters"
   ]
  },
  {
   "cell_type": "code",
   "execution_count": 22,
   "metadata": {},
   "outputs": [],
   "source": [
    "#pdf_p = [re.sub(r\"\\s\\([A-Z][a-z]+,\\s[A-Z][a-z]?\\.[^\\)]*,\\s\\d{4}\\)\", \"\", f) for f in pdf_p] # is this supposed to filter out citations?\n",
    "\n",
    "# save all periods, exclamation marks and question marks, but get rid of unnecessary characters\n",
    "pdf_p = [re.sub('[\\.!?]+ ', 'XYZXYZ', t) for t in pdf_p]\n",
    "pdf_p = [re.sub('-', 'ZYXXYZ', t) for t in pdf_p]\n",
    "pdf_p = [re.sub('[\\W_]+', ' ', f) for f in pdf_p]\n",
    "pdf_p = [re.sub('XYZXYZ', '. ', f) for f in pdf_p]\n",
    "pdf_p = [re.sub('ZYXXYZ', '-', f) for f in pdf_p]\n",
    "#pdf_p[0]\n",
    "\n",
    "#Remove placeholder x repetitions\n",
    "pdf_p = [re.sub(' x+ ', '', f) for f in pdf_p]\n",
    "\n",
    "# remove single characters\n",
    "pdf_p = [re.sub(' [a-z] ' ,  ' ', f) for f in pdf_p]\n",
    "pdf_p = [re.sub(' [a-z]\\.', '.', f) for f in pdf_p]\n",
    "pdf_p = [re.sub(' \\.', '.', f) for f in pdf_p]"
   ]
  },
  {
   "cell_type": "code",
   "execution_count": 23,
   "metadata": {},
   "outputs": [
    {
     "name": "stdout",
     "output_type": "stream",
     "text": [
      " no job name opportunity fair process and relationship value career development as driver of proactive work behaviour jonathan. crawshaw aston business school aston university rolf van dick institute of psychology goethe university felix. brodbeck institute of psychology ludwig-maximilians university human resource management journal vol no pages in line with recent findings from organisational justice theory we hypothesised that employee proactive behaviour and careerist orientation is predicted by the interplay of perceived favourability of career development opportunities the perceived fairness of the procedures used to decide them and employee organisational commitment. employees of large financial services organisation responded to self-completion questionnaire. as predicted when career development opportunities were viewed unfavourably perceived procedural justice was significantly and positively related to individual proactive behaviour and significantly and negatively related to careerist orientation but only when organisational commitment was high. it appears that high procedural justice may only offset the negative effects of unfavourable career development opportunities when employees identify with and are committed to their organisation. further support is presented for relational rather than instrumental model of procedural justice when reflecting on employee reactions to their employers policies and decision-making. implications for theory and practice are discussed. contact dr jonathan. crawshaw work and organisational psychology group aston business school aston university birmingham et uk. email hrmj. introduction mployers face dilemma. on the one hand there is growing opinion that if organisations are to survive and prosper it will be through the development and retention of highly skilled and high-performing workforce. indeed within the context of an increasingly competitive dynamic and unpredictable work environment particular attention has been paid to the importance of developing employees who are willing and able to work proactively. proactive employees are said to exhibit the necessary innovativeness future orientation and self-motivation required to add real value to organisations facing these difficult challs. on the other hand however these very same external forces have led many organisations to initiate strategies to improve their flexibility and efficiency in order to remain competitive. such strategies commonly involve significant re-organisation of work very often involving regular rounds of redundancy the introduction of short term flexible contracting and or the outsourcing of non-core functions. rather than promoting proactive workforce such strategies have been shown to undermine trust in the employment relationship and support the emnce of more careerist-orientated employee. doi. -human resource management journal vol no blackwell publishing ltd. please cite this article in press as crawshaw.  van dick. and brodbeck.  opportunity fair process and relationship value career development as driver of proactive work behaviour. human resource management journal. careerist-orientated employees acknowl disconnection between their own long-term career development goals and thals of their employer. lack of trust in the employer ability or willingness to provide long-term job security leads to focus on protecting one own career interests. importantly such career commitment has been shown to have significant negative implications for variety of important work attitudes and behaviours including job involvement and commitment. kanter and more recently herriot and pemberton present solution to this dilemma. employers need to provide employees with range of career development opportunities that promote their employability security. in other words an economic exchange model is proposed where employee loyalty and high performance is generated through the provision of valued and marketable career development opportunities. organisations may therefore be able to reduce the emnce of damaging careerist orientations to work and garner the required levels of work performance in particular proactive behaviours by providing employees with valued and satisfying career development opportunities. to date however empirical support for these propositions is limited. despite the obvious salience of proactive behaviour and careerist orientation they have been largely overlooked by career researchers investigating employee perceptions of and reactions to their career development opportunities. the authors could find no previous empirical studies exploring the relationship between employee perceptions of their career development opportunities and their proactive behaviour. moreover only one published study carried out within the chinese manufacturing context could be found that has investigated the relationship between employee perceptions of their career development opportunities and careerist orientation. theoretically the extant careers literature has also been dominated by simple exchange models such as the one posited above. although useful researchers have yet to explore the conditions under which employees perceptions of career development opportunities may matter more in predicting important outcomes such as proactive behaviour and careerist orientation. in other words research is needed that investigates the existence of moderators of the relationship between career development opportunities and important outcomes. if we are to more effectively inform current and future policy making and practice in organisational career management it is essential therefore that research begins to explore important contextual variables that may impact upon employees reactions to career development opportunities. in order to meet thesps in the current careers literature we turned to organisational justice theory and in particular recent findings that suggest employee reactions to organisational decisions may be moderated by three-way interaction between the perceived favourability of reward resource allocations their perceptions of procedural justice or the fairness of the organisations decisionmaking processes regarding these decisions and their affective organisational commitment. kwong and leung found support for such an interaction effect when predicting employee work effort and stay intentions. when employees viewed the allocation of valued rewards and resources as unfavourable the moderating effect of high procedural justice on work effort and stay intentions was found to be more pronounced in employees who reported high organisational commitment. in light of these findings we propose and test similar model where careerist orientation and proactive behaviour are predicted by an interaction between employee perceptions of their jonathan. crawshaw rolf van dick and felix. brodbeck human resource management journal vol no blackwell publishing ltd. career development opportunities the perceived fairness of the procedures used to decide them and their affective organisational commitment. more specifically we hypothesise that when employees perceive their career development opportunities unfavourably the negative implications for proactive behaviour and careerist orientation will be lessened if the decision-making procedures are perceived as fair and their commitment is high. we aim at making contributions to both the careers and organisational justice literatures. the careers literature is provided with much needed empirical research exploring the importance of employee perceptions of career development opportunities for two new dependent variables proactive behaviour and careerist orientation. moreover new organisational justice-based theoretical lens through which to understand employee reactions to their career development opportunities is also presented. although recent research has begun to recognise the potential importance of organisational justice in career management context this literature is still limited in its empirical scope and theoretical development. the organisational justice literature is provided with much needed replication of the interaction between outcome favourability procedural justice and affective organisational commitment within new uk career management context. to our knowl no subsequent study has presented additional empirical evidence of this three-way interaction effect and as such this study aims to increase confidence in thneralisability and utility of kwong and leung findings. career development opportunities careerism and proactive behaviour the positivins for organisations of providing employees with satisfying and rewarding career development opportunities are fairly well established. for example number of prior studies have highlighted the significant relationships between perceived career development opportunities and positive work attitudes such as job satisfaction and organisational commitment. to date however this research has been fairly limited in its range of dependent variables studied. as highlighted above the emnce of more careerist-orientated employees may provide many problems for employers not least the potential for lower job performance and increased turnover. given the assumptions that lack of long-term career development opportunities may be key antecedent of careerist orientation it is perhaps surprising that very few studies have actually explored this relationship. aryee and chen provide some support for significant negative relationship between career growth opportunities and careerist orientation but the specific chinese context of their research means that more evidence is needed and in different employment contexts. another significant absentee has been research exploring the impact of perceived career development opportunities on employee job performance. kraimer present some empirical support for the positive relationship between career opportunities and role-based performance. however again more evidence is required that focuses on other important aspects of work performance such as employee proactive or extra-role behaviour. it is essential that more research is carried out that explores the links between career variables such as perceived career development opportunities and outcomes that are valued by senior management in organisations. by focussing our study on employee careerist orientation and proactive behaviour we aimed to begin to fill this gap in the literature. career motivation theory and social exchange theory have both emd as frameworks for understanding these relationships. career motivation theory posits interactions of commitment and justice human resource management journal vol no blackwell publishing ltd. that an individual work attitudes and behaviours are to some extent motivated by their personal career goals. thus employees increase their effort and commitment to the attainment of organisational goals because they wish to gain access to valuable career development opportunities that are on offer. alternatively social exchange theory is based on the principles of reciprocity where employees increase their commitment and work effort in response to positive treatment by the organisation like the receipt of valuable career development opportunities. either way both theories posit significant positive relationship between the perceived favourability of career development opportunities and individual proactive behaviour and significant negative relationship between the perceived favourability of career development opportunities and careerist orientation. the current study however extends these theoretical models and prior empirical research by exploring the existence of important moderators of these relationships. to this end we draw upon research from the field of organisational justice and in particular study by kwong and leung that finds support for three-way interaction effect between the perceived favourability of outcomes procedural justice and affective organisational commitment. the interaction of perceived career development opportunities procedural justice and affective commitment considerable empirical support has emd within the organisational justice literature for an interaction effect between an individual perceptions of procedural justice and outcome favourability when predicting his her reactions to decision-making system. studies have repeatedly shown that an employee concerns for procedural justice areater when they feel that they have been treated unfavourably in the distribution of valued rewards or resources. when outcomes are viewed unfavourably the potential negative implications for important organisation-directed attitudes and behaviours appear to be offset or buffered by the presence of high levels of procedural fairness. two explanations for the interaction of procedural justice and outcome favourability have been put forward. from an instrumental perspective procedural justice is viewed as evidence of one potential future economic gain from that decision-making system. if the procedures followed to make the unfavourable decision are viewed as fair and just it is proposed that the individual is at least in part reassured that this system and relationship should ultimately benefit them economically speaking over the longer term. the potential negative attitudinal or behavioural implications associated with unfavourable reward allocation are thus offset as current decisions are viewed by the individual as less important than the potential economic gains from the longer term relationship. alternatively the group value or relational perspective draws on social identity theory and interprets this interaction effect as reflecting an individual desire to be accepted by their peer or working group. being subjected to fair and just procedures suggests one is valued and respected within thoup irrespective of the relative unfavourability of the current rewards and resources provided by thoup. although desire for in-group acceptance may also be deemed as instrumental the motivation here is not mainly for economic gain or benefit but mostly for meeting relationship and social needs. the potential negative implications for individual attitudes or behaviours associated with the receipt of unfavourable rewards or resources are thus offset not because procedural justicarantees future economic gain but because one desires for jonathan. crawshaw rolf van dick and felix. brodbeck human resource management journal vol no blackwell publishing ltd. social group acceptance and respect are upheld. study by kwong and leung has however presented some evidence that this interaction is itself contingent on the degree of importance an individual places on their relationship with the decision-making system. drawing on earlier research kwong and leung suggest that procedural justice may only matter to individuals when the relationship with the decision maker itself matters and is valued. in other words one has to care about one relationship with their employer to ultimately care about how you are treated by them. the compensatory or buffering effect of procedural justice on outcome unfavourability would therefore only be observed when an individual identifies with and is affectively committed to their organisation. in their study of chinese members of the hong kong retail union and their reactions to pay freeze decision kwong and leung found support for this proposed three-way interaction. perceptions of procedural justice in relation to the pay freeze decision were found to be more strongly and positively related to employee work effort and stay intentions when the outcome was perceived unfavourably and employee organisational commitment was high. put differently the negative implications of pay freeze decision for work effort and stay intentions was offset by the perceived fairness of the procedures used to decide this pay freeze but only when employees were committed to their organisation. as procedural justice only moderates the negative implications of unfavourable rewards under conditions of high organisational commitment kwong and leung conclude that these findings present support for the relational or group value rather than instrumental and economic perspective on procedural justice. one has to care about one organisation before any evaluation on the fairness of its decision-making procedures matters. drawing on these findings therefore we propose that an employee careerist orientation and proactive behaviour will be predicted by three-way interaction between the perceived favourability of career development opportunities perceptions of procedural justice and organisational commitment. more specifically when an individual views the procedures for allocating career development opportunities as fair this will offset or buffer the potential negative implications for their proactive behaviour and careerist orientation caused by unfavourable career development opportunities but only when the individual is committed to or identifies with their organisation. the following hypotheses are therefore proposed hypothesis when employees view their career development opportunities unfavourably perceptions of procedural justice will be strongly and positively related to proactive behaviour but only when organisational commitment is high. hypothesis when employees view their career development opportunities unfavourably perceptions of procedural justice will be strongly and negatively related to careerist orientation but only when organisational commitment is high. in sum the present study aims to replicate the findings of kwong and leung within new career context thus increasing confidence in their generalisability and utility. moreover the salience of the group value model rather than the instrumental economic model of procedural justice is also further tested within our study. finally by exploring the moderating effects of two key contextual variables on the relationship between career development opportunities and proactive behaviour and careerist orientation managers and hr practitioners are provided with new insight into the dynamics of managing the career development of their employees. interactions of commitment and justice human resource management journal vol no blackwell publishing ltd. our key hypotheses were supported. when individuals view their career development opportunities unfavourably their perceptions of procedural justice are strongly and positively table summary regression analysis for outcome favourability procedural justice and organisational commitment predicting proactive behaviour step variable std. error model r adjusted change in adjusted gender.. ..  age. - tenure.. seniority.  procedural justice.. ..  outcome. - favourability commitment.  pj of.. ... pj oc.  of oc. ZYX. XYZ pj of oc. -.. . . .. jonathan. crawshaw rolf van dick and felix. brodbeck human resource management journal vol no blackwell publishing ltd. table summary regression analysis for outcome favourability procedural justice and organisational commitment predicting careerist orientation step variable std. error model r adjusted change in adjusted gender. ZYX..... XYZage. ZYX. XYZtenure.. seniority. ZYX. XYZ procedural justice. ZYX. XYZ..  outcome.. favourability commitment.  pj of. -..  pj oc. ZYX. XYZof oc..  pj of oc. .. . . .. figure simple slope analysis with proactive behaviour as dependent variable interactions of commitment and justice human resource management journal vol no blackwell publishing ltd. related to proactive behaviour and strongly and negatively related to careerist orientation but only when their levels of organisational commitment are high. it appears that the ability of procedural justice perceptions to suppress or buffer the negative implications of unfavourable career development opportunities for proactive behaviour and careerist orientation is only apparent when an individual values the relationship with their employer. implications for theory these findings render essential theoretical developments in the careers literature regarding the role of injustice perceptions in employee evaluations of and reactions to organisational career management policies and practices. past research applying organisational justice theory to career context has been dominated by simple exchange models that assume the fair distribution of career development opportunities and the use of fair decision-making procedures will be reciprocated by positive employee attitudes and behaviours. the current study presents empirical support for more complex set of cognitions when it comes to employee reactions to the career development opportunities offered highlighting the interaction effects of outcome favourability procedural justice and organisational commitment when predicting an individual careerist orientation and proactive behaviour. this study also provides important empirical testing of the relationships between employee perceptions of their career development opportunities and individual proactive behaviour. figure simple slope analysis with careerist orientation as dependent variable jonathan. crawshaw rolf van dick and felix. brodbeck human resource management journal vol no blackwell publishing ltd. effective organisational career management policies and practices are those that promote employee attitudes and behaviours that are essential for organisational survival and prosperity and increasingly individual innovation and proactivity are viewed as such. to the authors best knowl no study exists that has explored the role of career management and career development in promoting such behaviours. initial tentative support is provided here for the important roles that the provision of career development opportunities and fair career management procedures may play in promoting individual proactivity. the organisational justice literature is presented with further testing of the three-way interaction effect between outcome favourability procedural justice and organisational commitment first proposed by kwong and leung. by confirming this within new national and work context and on new previously untested dependent variables this article provides important evidence of thneralisability of these effects. not only are these effects apparently important within the contexts of pay negotiations and pay freeze decisions in china there is now evidence that they may also be central to the effective management by employers of the careers and career development opportunities of uk employees. these findings also further enhance kwong and leung theoretical proposition that relational rather than instrumental perspective on procedural justice may be more relevant when trying to understand employee reactions to their employers policies and decision making. the fact that procedural justice only appears to matter when an individual values the relationship with their employer strongly counters an instrumental economic perspective on procedural justice. this is particularly interesting within the context of managing careers where recent thinking has tended towards the emnce of transactional psychological momentum in the employment relationship. within this context careers and career management are viewed as an economic short-term and instrumental transaction where high performance and flexibility is exchanged for access to transferable and marketable skills. within the organisation investigated in the present study however relational concerns in the employment contract still appear to be an important and central factor in governing employee reactions to organisational or managerial decisions regarding their career development. limitations and future research the contributions of this research should be viewed in light of number of potential methodological limitations which are presented here as possible opportunities for future research and methodological development. first all data collected within this study was self-reported and as such raises the potential problems of common method bias in the findings. that said it is commonly felt that concerns of common method bias may not necessarily apply to tests of moderation with several authors suggesting that common method bias may actually work against the detection of interaction effects suppressing their emnce in the data analysis. in line with recent demonstration by siemsen the existence of reliable three-way interaction effects within the present study suggests that common method bias may not be major problem. despite this it would be useful for future research to investigate these issues using more objective data to avoid potential same source bias. for example supervisor line manager evaluations of proactive behaviour could be sought whereas for careerist orientation self-report seems to be more appropriate. second data was collected at single point in time. the cross-sectional design of this research thus limits our ability to confirm the causal direction of hypotheses. for example it interactions of commitment and justice human resource management journal vol no blackwell publishing ltd. may be conceivable that those employees who are more careerist orientated are more likely to rate their career development opportunities as unfavourable and organisational procedures as unfair. our model however is very much in line with the theoretical developments within the organisational justice literature and our findings confirm those of previous research. that said future studies may look to build upon this research by using more longitudinal designs to explore these interaction effects. third the single organisation focus of this study reduces thneralisability of these findings to individuals not employed by this company. despite confirming the findings of previous studies it is essential that future research is carried out in different national and organisational contexts to further generateater confidence in their generalisability. finally within this study participants were asked for their overall or general opinions regarding the favourability of their career development opportunities and the fairness of the procedures used to decide this. this averaging of experiences might be problematic as for example procedures used to decide promotional opportunities and those used to decide access to secondment may include very different agents and processes. despite this the current study is in line with previous research investigating such issues and as such confidence should be taken in the appropriateness and accuracy of this data. however future research may begin to focus on more specific career management interventions like reactions to promotional decisions or outcomes of mentoring relationships thereby potentially alleviating these problems of averaging. implications for practice despite the limitations discussed above our results suggest number of important practical implications. there are times when employers may be unable to provide the kinds of career development opportunities desired by their employees perhaps in periods of economic hardship and recession. at such times employees are liable to become frustrated with their career development opportunities and are more likely to view them unfavourably. it is under these conditions that individual proactivity may be threatened ironically when it may be needed most for organisational survival and more careerist orientations to work may begin to em. the results of this study show careerism may be averted and proactive behaviours maintained even if career development opportunities are viewed unfavourably if employers ensure that their procedures for allocating career development opportunities are viewed as fair and their employees organisational commitment has been upheld. one of course could view this scenario differently. that in times of economic hardship and recession lack of alternative work opportunities may lead employees to exhibit more proactive behaviours in order to signal their value to the organisation. in this case it is high levels of continuance commitment that is proposed as driver for proactive behaviour. although our study does not explicitly test the moderating role of continuance commitment we do present good evidence that the affective want to aspect of organisational commitment is essential for securing proactive behaviour when desirable career development opportunities are unavailable. it is important therefore that employers attract and maintain committed workforce. much work has already been done on the roles of high-commitment or high-performance work practices and hrm strategies in promoting employee gement and organisational commitment. this literature presents strong support for the various roles played by effective recruitment job design employee involvement mechanisms reward strategies and performance management systems in promoting the high levels of affective commitment required from one employees. jonathan. crawshaw rolf van dick and felix. brodbeck human resource management journal vol no blackwell publishing ltd. at the same time it is equally important that managers and supervisors are made aware of the importance of fair processes and procedures in the allocation of career development opportunities and that they gain the necessary experience of facilitating and supporting the careers of their employees. such decision-making processes should uphold the principles of procedural justice by being transparent consistent allowing employee input and influence suppressing bias and being based on accurate and relevant information. employees should also be provided with regular communications regarding their career development and bven quality and timely feedback on any career-related decisions affecting them. \n",
      "---\n",
      "---\n",
      "---\n"
     ]
    }
   ],
   "source": [
    "print(pdf_p[ref_doc])\n",
    "print('---')\n",
    "print('---')\n",
    "print('---')\n",
    "# print(pdf_p[ref_doc])"
   ]
  },
  {
   "cell_type": "code",
   "execution_count": 24,
   "metadata": {},
   "outputs": [],
   "source": [
    "def get_author_names(txt):\n",
    "\n",
    "    refs = re.sub('[0-9]{4}.*\\n','',txt)\n",
    "\n",
    "    l = re.compile(\" [a-z]\\.\").split(refs)\n",
    "    l = [ll for ll in l if not bool(re.search('[0-9]+', ll))]\n",
    "    l = [ll for ll in l if len(ll) < 35]\n",
    "    l = [re.sub('[\\n ,\\&\\.]', '', ll) for ll in l]\n",
    "    l = [re.sub('[!(*);&$]', '', l1) for l1 in l]\n",
    "    authors = [ll for ll in l if len(ll) > 1]\n",
    "\n",
    "    return(authors)\n",
    "#for n in names:\n",
    "#    print(n)\n",
    "\n",
    "#refs = re.sub('\\n.*[0-9].*', '', refs)\n",
    "#refs = re.sub('\\n[^,]+\\n', '\\n', refs)\n",
    "#print(refs)"
   ]
  },
  {
   "cell_type": "code",
   "execution_count": 25,
   "metadata": {
    "scrolled": true
   },
   "outputs": [
    {
     "name": "stdout",
     "output_type": "stream",
     "text": [
      "['pauly', 'woehrand', 'jüttemann', 'anddelery', 'andwayne', 'saunders', 'andstorey', 'andrhodes', 'bachand', 'buck', 'landrapee', 'smith', 'eandrozell', 'goss', 'campion', 'wand', 'handjohnson', 'candgrebing', 'bandnorman', 'schiffinger', 'mdenhartog', 'andkinnie', 'andsorge', 'sahlinand', 'veiga', 'aandbolino', 'ypotter', 'candbax', 'andday', 'andmaher', 'handbruvold', 'andedenborough', 'andfouarge', 'mandyzerbyt', 'jandferris', 'wybenga', 'cooper', 'cbrowne', 'androger', 'jbradley', 'andcarneiro', 'jandbeatty', 'decuyper', 'mhadley', 'gilmour', 'hpatton', 'andmishra', 'jblewin', 'selfvariables’in', 'allen', 'candweitz', 'forbes', 'vandlorenz', 'nandkreps', 'meaton', 'bridgetownbarbadossteers', 'millmore', 'pandcarroll', 'cbliese', 'lcooper', 'dandkatzell', 'harrisand', 'andlim', 'mandstone-romero', 'jmeterko', 'roth', 'pallen', '-yandpan', 'andyammarino', 'mpfeffer', 'hallan', 'turner', 'applebaum', 'andschein', 'handözbilgin', 'andlequeux', 'bernhardtand', 'fdedreu', 'aandcovin', 'stuart', 'ltheindividual’in', 'andvaughn', 'st-onge', 'andhall', 'handouimet', 'bgersons', 'landdubois', 'sandlawler', 'mandsánchez-gardey', 'nandkoopman', 'candwright', 'andhartog', 'liao', 'rpsgoodmanand', 'mandmowday', 'andpliskin', 'jshore', 'dandspector', 'kraus', 'andvanriemsdijk', 'aandmaertz', 'mandtyler', 'andlandreville', 'wilsonandzachary', 'andharden', 'eliebeskind', 'aandwilson', 'mconti', 'pbasuil', 'anddallner', 'bennettand', 'andkovalainen', 'andhill', 'andvandenbroeck', 'mquinn', 'andtweedie', 'candrichardsen', 'jandgeorge', 'aargote', 'gsternburgh', 'andlaschinger', 'eandfinlay', 'paton', 'publishingseligman', 'bartol', 'jandkacmar', 'anealeand', 'panddavis-blake', 'takeuchi', 'handdonia', 'bbaltesand', 'andsellaro', 'aandgilley', 'andlepine', 'bruyère', 'adaly', 'macías', '-yandpodsakoff', 'collins', 'acolquitt', 'andelyakim', 'gandmiles', 'haugen', 'wright', 'brockner', 'ichniowski', 'andsohal', 'jrichardson', 'demirbag', 'andpate']\n",
      "5227\n"
     ]
    }
   ],
   "source": [
    "authors = []\n",
    "for r in references:\n",
    "    authors += get_author_names(r)\n",
    "    \n",
    "author_nam = list(set(list(authors)))\n",
    "\n",
    "# result is still not perfect, but I have not found any stray 'plain English' so far\n",
    "print(author_nam[100:250])\n",
    "print(len(author_nam))"
   ]
  },
  {
   "cell_type": "code",
   "execution_count": 26,
   "metadata": {},
   "outputs": [],
   "source": [
    "# GET REFERENCE LISTS OF STOPWORDS, I.E. WORDS THAT ARE ESSENTIALLY MEANINGLESS\n",
    "# Get all the list of authors names\n",
    "\n",
    "from nltk.corpus import stopwords as wrd\n",
    "\n",
    "sw = wrd.words('english') + author_nam + country_list + cities_lower\n",
    "\n",
    "#print(sw)"
   ]
  },
  {
   "cell_type": "code",
   "execution_count": 27,
   "metadata": {},
   "outputs": [],
   "source": [
    "#include corpus-specific stopwords\n",
    "sw += ['vol', 'doi', 'article', 'articles', 'reuse', 'sagepub', 'journal', 'journals', 'com', 'quarter', 'quarterly', 'annual', 'proceedings']\n",
    "sw += ['sage', 'editorial', 'report', 'publications', 'publication', 'publisher', 'jom', 'manuscript', 'manuscripts', 'submission', 'submissions']\n",
    "sw += ['editor', 'editors', 'orcid', 'id', 'month', 'mailto', 'author', 'authors', 'homepage', 'sciencedirect', 'scopus']\n",
    "sw += ['january', 'february', 'march', 'april', 'may', 'june', 'july', 'august', 'september', 'october', 'november', 'december']\n",
    "sw += ['monday', 'tuesday', 'wednesday', 'thursday', 'friday', 'saturday', 'sunday']\n",
    "\n",
    "# add a metric ton of generic terms\n",
    "sw += ['a', 'about', 'above', 'across', 'after', 'afterwards']\n",
    "sw += ['again', 'against', 'all', 'almost', 'alone', 'along']\n",
    "sw += ['already', 'also', 'although', 'always', 'am', 'among']\n",
    "sw += ['amongst', 'amoungst', 'amount', 'an', 'and', 'another']\n",
    "sw += ['any', 'anyhow', 'anyone', 'anything', 'anyway', 'anywhere']\n",
    "sw += ['are', 'around', 'as', 'at', 'back', 'be', 'became']\n",
    "sw += ['because', 'become', 'becomes', 'becoming', 'been']\n",
    "sw += ['before', 'beforehand', 'behind', 'being', 'below']\n",
    "sw += ['beside', 'besides', 'between', 'beyond', 'bill', 'both']\n",
    "sw += ['bottom', 'but', 'by', 'call', 'can', 'cannot', 'cant']\n",
    "sw += ['co', 'computer', 'con', 'could', 'couldnt', 'cry', 'de']\n",
    "sw += ['describe', 'detail', 'did', 'do', 'done', 'down', 'due']\n",
    "sw += ['during', 'each', 'eg', 'eight', 'either', 'eleven', 'else']\n",
    "sw += ['elsewhere', 'empty', 'enough', 'etc', 'even', 'ever']\n",
    "sw += ['every', 'everyone', 'everything', 'everywhere', 'except']\n",
    "sw += ['few', 'fifteen', 'fifty', 'fill', 'find', 'fire', 'first']\n",
    "sw += ['five', 'for', 'former', 'formerly', 'forty', 'found']\n",
    "sw += ['four', 'from', 'front', 'full', 'further', 'get', 'give']\n",
    "sw += ['go', 'had', 'has', 'hasnt', 'have', 'he', 'hence', 'her']\n",
    "sw += ['here', 'hereafter', 'hereby', 'herein', 'hereupon', 'hers']\n",
    "sw += ['herself', 'him', 'himself', 'his', 'how', 'however']\n",
    "sw += ['hundred', 'i', 'ie', 'if', 'in', 'inc', 'indeed']\n",
    "sw += ['interest', 'into', 'is', 'it', 'its', 'itself', 'keep']\n",
    "sw += ['last', 'latter', 'latterly', 'least', 'less', 'ltd', 'made']\n",
    "sw += ['many', 'may', 'me', 'meanwhile', 'might', 'mill', 'mine']\n",
    "sw += ['more', 'moreover', 'most', 'mostly', 'move', 'much']\n",
    "sw += ['must', 'my', 'myself', 'name', 'namely', 'neither', 'never']\n",
    "sw += ['nevertheless', 'next', 'nine', 'no', 'nobody', 'none']\n",
    "sw += ['noone', 'nor', 'not', 'nothing', 'now', 'nowhere', 'of']\n",
    "sw += ['off', 'often', 'on','once', 'one', 'only', 'onto', 'or']\n",
    "sw += ['other', 'others', 'otherwise', 'our', 'ours', 'ourselves']\n",
    "sw += ['out', 'over', 'own', 'part', 'per', 'perhaps', 'please']\n",
    "sw += ['put', 'rather', 're', 's', 'same', 'see', 'seem', 'seemed']\n",
    "sw += ['seeming', 'seems', 'serious', 'several', 'she', 'should']\n",
    "sw += ['show', 'side', 'since', 'sincere', 'six', 'sixty', 'so']\n",
    "sw += ['some', 'somehow', 'someone', 'something', 'sometime']\n",
    "sw += ['sometimes', 'somewhere', 'still', 'such', 'system', 'take']\n",
    "sw += ['ten', 'than', 'that', 'the', 'their', 'them', 'themselves']\n",
    "sw += ['then', 'thence', 'there', 'thereafter', 'thereby']\n",
    "sw += ['therefore', 'therein', 'thereupon', 'these', 'they']\n",
    "sw += ['thick', 'thin', 'third', 'this', 'those', 'though', 'three']\n",
    "sw += ['three', 'through', 'throughout', 'thru', 'thus', 'to']\n",
    "sw += ['together', 'too', 'top', 'toward', 'towards', 'twelve']\n",
    "sw += ['twenty', 'two', 'un', 'under', 'until', 'up', 'upon']\n",
    "sw += ['us', 'very', 'via', 'was', 'we', 'well', 'were', 'what']\n",
    "sw += ['whatever', 'when', 'whence', 'whenever', 'where']\n",
    "sw += ['whereafter', 'whereas', 'whereby', 'wherein', 'whereupon']\n",
    "sw += ['wherever', 'whether', 'which', 'while', 'whither', 'who']\n",
    "sw += ['whoever', 'whole', 'whom', 'whose', 'why', 'will', 'with']\n",
    "sw += ['within', 'without', 'would', 'yet', 'you', 'your']\n",
    "sw += ['yours', 'yourself', 'yourselves']\n",
    "\n",
    "sw = list(set(sw))"
   ]
  },
  {
   "cell_type": "code",
   "execution_count": 28,
   "metadata": {},
   "outputs": [],
   "source": [
    "# Function to filter out the stopwords and authors names\n",
    "def filterWords(msg, words):\n",
    "    m = msg.split(' ')\n",
    "    words_end = [w + '.' for w in words]\n",
    "    filtered_words = list(filter(lambda word: word not in words, m))\n",
    "    filtered_words = [(w if w not in words_end else '.') for w in filtered_words]\n",
    "    result = ' '.join(filtered_words)\n",
    "    return(result)"
   ]
  },
  {
   "cell_type": "code",
   "execution_count": 29,
   "metadata": {},
   "outputs": [],
   "source": [
    "# GET RID OF THE STOPWORDS IN TEXTS\n",
    "data_proc = [filterWords(f, sw) for f in pdf_p] "
   ]
  },
  {
   "cell_type": "code",
   "execution_count": 30,
   "metadata": {},
   "outputs": [],
   "source": [
    "import pickle\n",
    "# exclude author list from metadata\n",
    "author_metadata = pickle.load(open(\"C:/Thesis/Data/save/Master_Data/author_list/author_list.p\", \"rb\"))"
   ]
  },
  {
   "cell_type": "code",
   "execution_count": 31,
   "metadata": {},
   "outputs": [],
   "source": [
    "# GET RID OF THE author names (extracted from the metadata)\n",
    "data_proc_1 = [filterWords(f, author_metadata) for f in data_proc] #running"
   ]
  },
  {
   "cell_type": "code",
   "execution_count": 38,
   "metadata": {},
   "outputs": [
    {
     "data": {
      "text/plain": [
       "' job opportunity fair process relationship value career development driver proactive work behaviour . rolf van dick institute psychology goethe . institute psychology ludwig-maximilians human resource pages line recent findings organisational justice theory hypothesised employee proactive behaviour careerist orientation predicted interplay perceived favourability career development opportunities perceived fairness procedures used decide employee organisational commitment. employees large financial organisation responded self-completion questionnaire. predicted career development opportunities viewed unfavourably perceived procedural justice significantly positively related individual proactive behaviour significantly negatively related careerist orientation organisational commitment high. appears high procedural justice offset negative effects unfavourable career development opportunities employees identify committed organisation. support presented relational instrumental model procedural justice reflecting employee reactions employers policies decision-making. implications theory practice discussed. contact dr . work organisational psychology group birmingham et uk. hrmj. introduction mployers face dilemma. growing opinion organisations survive prosper development retention highly skilled high-performing workforce. context increasingly competitive dynamic unpredictable work environment particular attention paid importance developing employees willing able work proactively. proactive employees said exhibit necessary innovativeness future orientation self-motivation required add real value organisations facing difficult challs. external forces led organisations initiate strategies improve flexibility efficiency order remain competitive. strategies commonly involve significant re-organisation work involving regular rounds redundancy introduction term flexible contracting outsourcing non-core functions. promoting proactive workforce strategies shown undermine trust employment relationship support emnce careerist-orientated employee. . -human resource publishing . cite press .  van dick. .  opportunity fair process relationship value career development driver proactive work behaviour. human resource . careerist-orientated employees acknowl disconnection long-term career development goals thals employer. lack trust employer ability willingness provide long-term job security leads focus protecting career interests. importantly career commitment shown significant negative implications variety important work attitudes behaviours including job involvement commitment. kanter recently pemberton present solution dilemma. employers need provide employees range career development opportunities promote employability security. words economic exchange model proposed employee loyalty high performance generated provision valued marketable career development opportunities. organisations able reduce emnce damaging careerist orientations work garner required levels work performance particular proactive behaviours providing employees valued satisfying career development opportunities. date empirical support propositions limited. despite obvious salience proactive behaviour careerist orientation largely overlooked career researchers investigating employee perceptions reactions career development opportunities. previous empirical studies exploring relationship employee perceptions career development opportunities proactive behaviour. published study carried chinese manufacturing context investigated relationship employee perceptions career development opportunities careerist orientation. theoretically extant careers literature dominated simple exchange models posited . useful researchers explore conditions employees perceptions career development opportunities matter predicting important outcomes proactive behaviour careerist orientation. words needed investigates existence moderators relationship career development opportunities important outcomes. effectively inform current future policy making practice organisational career essential begins explore important contextual variables impact employees reactions career development opportunities. order meet thesps current careers literature turned organisational justice theory particular recent findings suggest employee reactions organisational decisions moderated three-way interaction perceived favourability reward resource allocations perceptions procedural justice fairness organisations decisionmaking processes regarding decisions affective organisational commitment. support interaction effect predicting employee work effort stay intentions. employees viewed allocation valued rewards resources unfavourable moderating effect high procedural justice work effort stay intentions pronounced employees reported high organisational commitment. light findings propose test similar model careerist orientation proactive behaviour predicted interaction employee perceptions . rolf van dick . human resource publishing . career development opportunities perceived fairness procedures used decide affective organisational commitment. specifically hypothesise employees perceive career development opportunities unfavourably negative implications proactive behaviour careerist orientation lessened decision-making procedures perceived fair commitment high. aim making contributions careers organisational justice literatures. careers literature provided needed empirical exploring importance employee perceptions career development opportunities new dependent variables proactive behaviour careerist orientation. new organisational justice-based theoretical lens understand employee reactions career development opportunities presented. recent begun recognise potential importance organisational justice career context literature limited empirical scope theoretical development. organisational justice literature provided needed replication interaction outcome favourability procedural justice affective organisational commitment new uk career context. knowl subsequent study presented additional empirical evidence three-way interaction effect study aims increase confidence thneralisability utility findings. career development opportunities careerism proactive behaviour positivins organisations providing employees satisfying rewarding career development opportunities fairly established. example number prior studies highlighted significant relationships perceived career development opportunities positive work attitudes job satisfaction organisational commitment. date fairly limited range dependent variables studied. highlighted emnce careerist-orientated employees provide problems employers potential lower job performance increased turnover. given assumptions lack long-term career development opportunities key antecedent careerist orientation surprising studies actually explored relationship. provide support significant negative relationship career growth opportunities careerist orientation specific chinese context means evidence needed different employment contexts. significant absentee exploring impact perceived career development opportunities employee job performance. present empirical support positive relationship career opportunities role-based performance. evidence required focuses important aspects work performance employee proactive extra-role behaviour. essential carried explores links career variables perceived career development opportunities outcomes valued senior organisations. focussing study employee careerist orientation proactive behaviour aimed begin gap literature. career motivation theory exchange theory emd frameworks understanding relationships. career motivation theory posits interactions commitment justice human resource publishing . individual work attitudes behaviours extent motivated personal career goals. employees increase effort commitment attainment organisational goals wish gain access valuable career development opportunities offer. alternatively exchange theory based principles reciprocity employees increase commitment work effort response positive treatment organisation like receipt valuable career development opportunities. theories posit significant positive relationship perceived favourability career development opportunities individual proactive behaviour significant negative relationship perceived favourability career development opportunities careerist orientation. current study extends theoretical models prior empirical exploring existence important moderators relationships. end draw organisational justice particular study finds support three-way interaction effect perceived favourability outcomes procedural justice affective organisational commitment. interaction perceived career development opportunities procedural justice affective commitment considerable empirical support emd organisational justice literature interaction effect individual perceptions procedural justice outcome favourability predicting reactions decision-making . studies repeatedly shown employee concerns procedural justice areater feel treated unfavourably distribution valued rewards resources. outcomes viewed unfavourably potential negative implications important organisation-directed attitudes behaviours appear offset buffered presence high levels procedural fairness. explanations interaction procedural justice outcome favourability forward. instrumental perspective procedural justice viewed evidence potential future economic gain decision-making . procedures followed make unfavourable decision viewed fair proposed individual reassured relationship ultimately benefit economically speaking longer term. potential negative attitudinal behavioural implications associated unfavourable reward allocation offset current decisions viewed individual important potential economic gains longer term relationship. alternatively group value relational perspective draws identity theory interprets interaction effect reflecting individual desire accepted peer working group. subjected fair procedures suggests valued respected thoup irrespective relative unfavourability current rewards resources provided thoup. desire in-group acceptance deemed instrumental motivation mainly economic gain benefit meeting relationship needs. potential negative implications individual attitudes behaviours associated receipt unfavourable rewards resources offset procedural justicarantees future economic gain desires . rolf van dick . human resource publishing . group acceptance respect upheld. study presented evidence interaction contingent degree importance individual places relationship decision-making . drawing earlier suggest procedural justice matter individuals relationship decision maker matters valued. words care relationship employer ultimately care treated . compensatory buffering effect procedural justice outcome unfavourability observed individual identifies affectively committed organisation. study chinese members retail union reactions pay freeze decision support proposed three-way interaction. perceptions procedural justice relation pay freeze decision strongly positively related employee work effort stay intentions outcome perceived unfavourably employee organisational commitment high. differently negative implications pay freeze decision work effort stay intentions offset perceived fairness procedures used decide pay freeze employees committed organisation. procedural justice moderates negative implications unfavourable rewards conditions high organisational commitment conclude findings present support relational group value instrumental economic perspective procedural justice. care organisation evaluation fairness decision-making procedures matters. drawing findings propose employee careerist orientation proactive behaviour predicted three-way interaction perceived favourability career development opportunities perceptions procedural justice organisational commitment. specifically individual views procedures allocating career development opportunities fair offset buffer potential negative implications proactive behaviour careerist orientation caused unfavourable career development opportunities individual committed identifies organisation. following hypotheses proposed hypothesis employees view career development opportunities unfavourably perceptions procedural justice strongly positively related proactive behaviour organisational commitment high. hypothesis employees view career development opportunities unfavourably perceptions procedural justice strongly negatively related careerist orientation organisational commitment high. sum present study aims replicate findings new career context increasing confidence generalisability utility. salience group value model instrumental economic model procedural justice tested study. finally exploring moderating effects key contextual variables relationship career development opportunities proactive behaviour careerist orientation managers hr practitioners provided new insight dynamics managing career development employees. interactions commitment justice human resource publishing . key hypotheses supported. individuals view career development opportunities unfavourably perceptions procedural justice strongly positively table summary regression analysis outcome favourability procedural justice organisational commitment predicting proactive behaviour step variable std. error model r adjusted change adjusted gender.. ..  age. - tenure.. seniority.  procedural justice.. ..  outcome. - favourability commitment.  pj of.. ... pj oc.  oc. ZYX. XYZ pj oc. -.. . . .. . rolf van dick . human resource publishing . table summary regression analysis outcome favourability procedural justice organisational commitment predicting careerist orientation step variable std. error model r adjusted change adjusted gender. ZYX..... XYZage. ZYX. XYZtenure.. seniority. ZYX. XYZ procedural justice. ZYX. XYZ..  outcome.. favourability commitment.  pj . -..  pj oc. ZYX. XYZof oc..  pj oc. .. . . .. figure simple slope analysis proactive behaviour dependent variable interactions commitment justice human resource publishing . related proactive behaviour strongly negatively related careerist orientation levels organisational commitment high. appears ability procedural justice perceptions suppress buffer negative implications unfavourable career development opportunities proactive behaviour careerist orientation apparent individual values relationship employer. implications theory findings render essential theoretical developments careers literature regarding role injustice perceptions employee evaluations reactions organisational career policies practices. past applying organisational justice theory career context dominated simple exchange models assume fair distribution career development opportunities use fair decision-making procedures reciprocated positive employee attitudes behaviours. current study presents empirical support complex set cognitions comes employee reactions career development opportunities offered highlighting interaction effects outcome favourability procedural justice organisational commitment predicting individual careerist orientation proactive behaviour. study provides important empirical testing relationships employee perceptions career development opportunities individual proactive behaviour. figure simple slope analysis careerist orientation dependent variable . rolf van dick . human resource publishing . effective organisational career policies practices promote employee attitudes behaviours essential organisational survival prosperity increasingly individual innovation proactivity viewed . knowl study exists explored role career career development promoting behaviours. initial tentative support provided important roles provision career development opportunities fair career procedures play promoting individual proactivity. organisational justice literature presented testing three-way interaction effect outcome favourability procedural justice organisational commitment proposed . confirming new national work context new previously untested dependent variables provides important evidence thneralisability effects. effects apparently important contexts pay negotiations pay freeze decisions evidence central effective employers careers career development opportunities uk employees. findings enhance theoretical proposition relational instrumental perspective procedural justice relevant trying understand employee reactions employers policies decision making. fact procedural justice appears matter individual values relationship employer strongly counters instrumental economic perspective procedural justice. particularly interesting context managing careers recent thinking tended emnce transactional psychological momentum employment relationship. context careers career viewed economic short-term instrumental transaction high performance flexibility exchanged access transferable marketable skills. organisation investigated present study relational concerns employment contract appear important central factor governing employee reactions organisational managerial decisions regarding career development. limitations future contributions viewed light number potential methodological limitations presented possible opportunities future methodological development. data collected study self-reported raises potential problems common method bias findings. said commonly felt concerns common method bias necessarily apply tests moderation suggesting common method bias actually work detection interaction effects suppressing emnce data analysis. line recent demonstration siemsen existence reliable three-way interaction effects present study suggests common method bias major problem. despite useful future investigate issues using objective data avoid potential source bias. example supervisor line manager evaluations proactive behaviour sought careerist orientation self-report appropriate. second data collected single time. cross-sectional limits ability confirm causal direction hypotheses. example interactions commitment justice human resource publishing . conceivable employees careerist orientated likely rate career development opportunities unfavourable organisational procedures unfair. model line theoretical developments organisational justice literature findings confirm previous . said future studies look build using longitudinal designs explore interaction effects. single organisation focus study reduces thneralisability findings individuals employed company. despite confirming findings previous studies essential future carried different national organisational contexts generateater confidence generalisability. finally study participants asked overall general opinions regarding favourability career development opportunities fairness procedures used decide . averaging experiences problematic example procedures used decide promotional opportunities used decide access secondment include different agents processes. despite current study line previous investigating issues confidence taken appropriateness accuracy data. future begin focus specific career interventions like reactions promotional decisions outcomes mentoring relationships potentially alleviating problems averaging. implications practice despite limitations discussed results suggest number important practical implications. times employers unable provide kinds career development opportunities desired employees periods economic hardship recession. times employees liable frustrated career development opportunities likely view unfavourably. conditions individual proactivity threatened ironically needed organisational survival careerist orientations work begin em. results study careerism averted proactive behaviours maintained career development opportunities viewed unfavourably employers ensure procedures allocating career development opportunities viewed fair employees organisational commitment upheld. course view scenario differently. times economic hardship recession lack alternative work opportunities lead employees exhibit proactive behaviours order signal value organisation. high levels continuance commitment proposed driver proactive behaviour. study explicitly test moderating role continuance commitment present good evidence affective want aspect organisational commitment essential securing proactive behaviour desirable career development opportunities unavailable. important employers attract maintain committed workforce. work roles high-commitment high-performance work practices hrm strategies promoting employee gement organisational commitment. literature presents strong support various roles played effective recruitment job employee involvement mechanisms reward strategies performance systems promoting high levels affective commitment required employees. . rolf van dick . human resource publishing . time equally important managers supervisors aware importance fair processes procedures allocation career development opportunities gain necessary experience facilitating supporting careers employees. decision-making processes uphold principles procedural justice transparent consistent allowing employee input influence suppressing bias based accurate relevant information. employees provided regular communications regarding career development bven quality timely feedback career-related decisions affecting . '"
      ]
     },
     "execution_count": 38,
     "metadata": {},
     "output_type": "execute_result"
    }
   ],
   "source": [
    "data_proc_1[ref_doc]"
   ]
  },
  {
   "cell_type": "code",
   "execution_count": 39,
   "metadata": {},
   "outputs": [],
   "source": [
    "data_proc2 = [re.sub(\"([a-z]+\\.)+[a-z]+\",\"\", f) for f in data_proc_1]\n",
    "data_proc2 = [re.sub('\\s([?\\.!\"](?:\\s|$))' , r'\\1', f) for f in data_proc2]\n",
    "data_proc2 = [re.sub(\"^\\s+\",\"\", f) for f in data_proc2]\n",
    "data_proc2 = [re.sub(\"\\s+\\Z\",\"\", f) for f in data_proc2]\n",
    "data_proc2 = [re.sub(\"(\\.)+\",\".\", f) for f in data_proc2]\n",
    "data_proc2 = [re.sub(\" +\",\" \", f) for f in data_proc2]\n",
    "data_proc2 = [re.sub(\"( +\\.)\",\".\", f) for f in data_proc2]\n",
    "data_proc2 = [re.sub(\"\\.$\",\"\", f) for f in data_proc2]"
   ]
  },
  {
   "cell_type": "code",
   "execution_count": 40,
   "metadata": {},
   "outputs": [
    {
     "name": "stdout",
     "output_type": "stream",
     "text": [
      "['job opportunity fair process relationship value career development driver proactive work behaviour', 'rolf van dick institute psychology goethe', 'institute psychology ludwig-maximilians human resource pages line recent findings organisational justice theory hypothesised employee proactive behaviour careerist orientation predicted interplay perceived favourability career development opportunities perceived fairness procedures used decide employee organisational commitment', 'employees large financial organisation responded self-completion questionnaire', 'predicted career development opportunities viewed unfavourably perceived procedural justice significantly positively related individual proactive behaviour significantly negatively related careerist orientation organisational commitment high', 'appears high procedural justice offset negative effects unfavourable career development opportunities employees identify committed organisation', 'support presented relational instrumental model procedural justice reflecting employee reactions employers policies decision-making', 'implications theory practice discussed', 'contact dr', 'work organisational psychology group birmingham et uk', 'hrmj', 'introduction mployers face dilemma', 'growing opinion organisations survive prosper development retention highly skilled high-performing workforce', 'context increasingly competitive dynamic unpredictable work environment particular attention paid importance developing employees willing able work proactively', 'proactive employees said exhibit necessary innovativeness future orientation self-motivation required add real value organisations facing difficult challs', 'external forces led organisations initiate strategies improve flexibility efficiency order remain competitive', 'strategies commonly involve significant re-organisation work involving regular rounds redundancy introduction term flexible contracting outsourcing non-core functions', 'promoting proactive workforce strategies shown undermine trust employment relationship support emnce careerist-orientated employee', '-human resource publishing', 'cite press', 'van dick', 'opportunity fair process relationship value career development driver proactive work behaviour', 'human resource', 'careerist-orientated employees acknowl disconnection long-term career development goals thals employer', 'lack trust employer ability willingness provide long-term job security leads focus protecting career interests', 'importantly career commitment shown significant negative implications variety important work attitudes behaviours including job involvement commitment', 'kanter recently pemberton present solution dilemma', 'employers need provide employees range career development opportunities promote employability security', 'words economic exchange model proposed employee loyalty high performance generated provision valued marketable career development opportunities', 'organisations able reduce emnce damaging careerist orientations work garner required levels work performance particular proactive behaviours providing employees valued satisfying career development opportunities', 'date empirical support propositions limited', 'despite obvious salience proactive behaviour careerist orientation largely overlooked career researchers investigating employee perceptions reactions career development opportunities', 'previous empirical studies exploring relationship employee perceptions career development opportunities proactive behaviour', 'published study carried chinese manufacturing context investigated relationship employee perceptions career development opportunities careerist orientation', 'theoretically extant careers literature dominated simple exchange models posited', 'useful researchers explore conditions employees perceptions career development opportunities matter predicting important outcomes proactive behaviour careerist orientation', 'words needed investigates existence moderators relationship career development opportunities important outcomes', 'effectively inform current future policy making practice organisational career essential begins explore important contextual variables impact employees reactions career development opportunities', 'order meet thesps current careers literature turned organisational justice theory particular recent findings suggest employee reactions organisational decisions moderated three-way interaction perceived favourability reward resource allocations perceptions procedural justice fairness organisations decisionmaking processes regarding decisions affective organisational commitment', 'support interaction effect predicting employee work effort stay intentions', 'employees viewed allocation valued rewards resources unfavourable moderating effect high procedural justice work effort stay intentions pronounced employees reported high organisational commitment', 'light findings propose test similar model careerist orientation proactive behaviour predicted interaction employee perceptions', 'rolf van dick', 'human resource publishing', 'career development opportunities perceived fairness procedures used decide affective organisational commitment', 'specifically hypothesise employees perceive career development opportunities unfavourably negative implications proactive behaviour careerist orientation lessened decision-making procedures perceived fair commitment high', 'aim making contributions careers organisational justice literatures', 'careers literature provided needed empirical exploring importance employee perceptions career development opportunities new dependent variables proactive behaviour careerist orientation', 'new organisational justice-based theoretical lens understand employee reactions career development opportunities presented', 'recent begun recognise potential importance organisational justice career context literature limited empirical scope theoretical development', 'organisational justice literature provided needed replication interaction outcome favourability procedural justice affective organisational commitment new uk career context', 'knowl subsequent study presented additional empirical evidence three-way interaction effect study aims increase confidence thneralisability utility findings', 'career development opportunities careerism proactive behaviour positivins organisations providing employees satisfying rewarding career development opportunities fairly established', 'example number prior studies highlighted significant relationships perceived career development opportunities positive work attitudes job satisfaction organisational commitment', 'date fairly limited range dependent variables studied', 'highlighted emnce careerist-orientated employees provide problems employers potential lower job performance increased turnover', 'given assumptions lack long-term career development opportunities key antecedent careerist orientation surprising studies actually explored relationship', 'provide support significant negative relationship career growth opportunities careerist orientation specific chinese context means evidence needed different employment contexts', 'significant absentee exploring impact perceived career development opportunities employee job performance', 'present empirical support positive relationship career opportunities role-based performance', 'evidence required focuses important aspects work performance employee proactive extra-role behaviour', 'essential carried explores links career variables perceived career development opportunities outcomes valued senior organisations', 'focussing study employee careerist orientation proactive behaviour aimed begin gap literature', 'career motivation theory exchange theory emd frameworks understanding relationships', 'career motivation theory posits interactions commitment justice human resource publishing', 'individual work attitudes behaviours extent motivated personal career goals', 'employees increase effort commitment attainment organisational goals wish gain access valuable career development opportunities offer', 'alternatively exchange theory based principles reciprocity employees increase commitment work effort response positive treatment organisation like receipt valuable career development opportunities', 'theories posit significant positive relationship perceived favourability career development opportunities individual proactive behaviour significant negative relationship perceived favourability career development opportunities careerist orientation', 'current study extends theoretical models prior empirical exploring existence important moderators relationships', 'end draw organisational justice particular study finds support three-way interaction effect perceived favourability outcomes procedural justice affective organisational commitment', 'interaction perceived career development opportunities procedural justice affective commitment considerable empirical support emd organisational justice literature interaction effect individual perceptions procedural justice outcome favourability predicting reactions decision-making', 'studies repeatedly shown employee concerns procedural justice areater feel treated unfavourably distribution valued rewards resources', 'outcomes viewed unfavourably potential negative implications important organisation-directed attitudes behaviours appear offset buffered presence high levels procedural fairness', 'explanations interaction procedural justice outcome favourability forward', 'instrumental perspective procedural justice viewed evidence potential future economic gain decision-making', 'procedures followed make unfavourable decision viewed fair proposed individual reassured relationship ultimately benefit economically speaking longer term', 'potential negative attitudinal behavioural implications associated unfavourable reward allocation offset current decisions viewed individual important potential economic gains longer term relationship', 'alternatively group value relational perspective draws identity theory interprets interaction effect reflecting individual desire accepted peer working group', 'subjected fair procedures suggests valued respected thoup irrespective relative unfavourability current rewards resources provided thoup', 'desire in-group acceptance deemed instrumental motivation mainly economic gain benefit meeting relationship needs', 'potential negative implications individual attitudes behaviours associated receipt unfavourable rewards resources offset procedural justicarantees future economic gain desires', 'rolf van dick', 'human resource publishing', 'group acceptance respect upheld', 'study presented evidence interaction contingent degree importance individual places relationship decision-making', 'drawing earlier suggest procedural justice matter individuals relationship decision maker matters valued', 'words care relationship employer ultimately care treated', 'compensatory buffering effect procedural justice outcome unfavourability observed individual identifies affectively committed organisation', 'study chinese members retail union reactions pay freeze decision support proposed three-way interaction', 'perceptions procedural justice relation pay freeze decision strongly positively related employee work effort stay intentions outcome perceived unfavourably employee organisational commitment high', 'differently negative implications pay freeze decision work effort stay intentions offset perceived fairness procedures used decide pay freeze employees committed organisation', 'procedural justice moderates negative implications unfavourable rewards conditions high organisational commitment conclude findings present support relational group value instrumental economic perspective procedural justice', 'care organisation evaluation fairness decision-making procedures matters', 'drawing findings propose employee careerist orientation proactive behaviour predicted three-way interaction perceived favourability career development opportunities perceptions procedural justice organisational commitment', 'specifically individual views procedures allocating career development opportunities fair offset buffer potential negative implications proactive behaviour careerist orientation caused unfavourable career development opportunities individual committed identifies organisation', 'following hypotheses proposed hypothesis employees view career development opportunities unfavourably perceptions procedural justice strongly positively related proactive behaviour organisational commitment high', 'hypothesis employees view career development opportunities unfavourably perceptions procedural justice strongly negatively related careerist orientation organisational commitment high', 'sum present study aims replicate findings new career context increasing confidence generalisability utility', 'salience group value model instrumental economic model procedural justice tested study', 'finally exploring moderating effects key contextual variables relationship career development opportunities proactive behaviour careerist orientation managers hr practitioners provided new insight dynamics managing career development employees', 'interactions commitment justice human resource publishing', 'key hypotheses supported', 'individuals view career development opportunities unfavourably perceptions procedural justice strongly positively table summary regression analysis outcome favourability procedural justice organisational commitment predicting proactive behaviour step variable std', 'error model r adjusted change adjusted gender.', 'age', '- tenure', 'seniority', 'procedural justice.', 'outcome', '- favourability commitment', 'pj of.', 'pj oc', 'oc', 'ZYX', 'XYZ pj oc', '-..', 'rolf van dick', 'human resource publishing', 'table summary regression analysis outcome favourability procedural justice organisational commitment predicting careerist orientation step variable std', 'error model r adjusted change adjusted gender', 'ZYX', 'XYZage', 'ZYX', 'XYZtenure', 'seniority', 'ZYX', 'XYZ procedural justice', 'ZYX', 'XYZ', 'outcome', 'favourability commitment', 'pj', '-', 'pj oc', 'ZYX', 'XYZof oc', 'pj oc...', 'figure simple slope analysis proactive behaviour dependent variable interactions commitment justice human resource publishing', 'related proactive behaviour strongly negatively related careerist orientation levels organisational commitment high', 'appears ability procedural justice perceptions suppress buffer negative implications unfavourable career development opportunities proactive behaviour careerist orientation apparent individual values relationship employer', 'implications theory findings render essential theoretical developments careers literature regarding role injustice perceptions employee evaluations reactions organisational career policies practices', 'past applying organisational justice theory career context dominated simple exchange models assume fair distribution career development opportunities use fair decision-making procedures reciprocated positive employee attitudes behaviours', 'current study presents empirical support complex set cognitions comes employee reactions career development opportunities offered highlighting interaction effects outcome favourability procedural justice organisational commitment predicting individual careerist orientation proactive behaviour', 'study provides important empirical testing relationships employee perceptions career development opportunities individual proactive behaviour', 'figure simple slope analysis careerist orientation dependent variable', 'rolf van dick', 'human resource publishing', 'effective organisational career policies practices promote employee attitudes behaviours essential organisational survival prosperity increasingly individual innovation proactivity viewed', 'knowl study exists explored role career career development promoting behaviours', 'initial tentative support provided important roles provision career development opportunities fair career procedures play promoting individual proactivity', 'organisational justice literature presented testing three-way interaction effect outcome favourability procedural justice organisational commitment proposed', 'confirming new national work context new previously untested dependent variables provides important evidence thneralisability effects', 'effects apparently important contexts pay negotiations pay freeze decisions evidence central effective employers careers career development opportunities uk employees', 'findings enhance theoretical proposition relational instrumental perspective procedural justice relevant trying understand employee reactions employers policies decision making', 'fact procedural justice appears matter individual values relationship employer strongly counters instrumental economic perspective procedural justice', 'particularly interesting context managing careers recent thinking tended emnce transactional psychological momentum employment relationship', 'context careers career viewed economic short-term instrumental transaction high performance flexibility exchanged access transferable marketable skills', 'organisation investigated present study relational concerns employment contract appear important central factor governing employee reactions organisational managerial decisions regarding career development', 'limitations future contributions viewed light number potential methodological limitations presented possible opportunities future methodological development', 'data collected study self-reported raises potential problems common method bias findings', 'said commonly felt concerns common method bias necessarily apply tests moderation suggesting common method bias actually work detection interaction effects suppressing emnce data analysis', 'line recent demonstration siemsen existence reliable three-way interaction effects present study suggests common method bias major problem', 'despite useful future investigate issues using objective data avoid potential source bias', 'example supervisor line manager evaluations proactive behaviour sought careerist orientation self-report appropriate', 'second data collected single time', 'cross-sectional limits ability confirm causal direction hypotheses', 'example interactions commitment justice human resource publishing', 'conceivable employees careerist orientated likely rate career development opportunities unfavourable organisational procedures unfair', 'model line theoretical developments organisational justice literature findings confirm previous', 'said future studies look build using longitudinal designs explore interaction effects', 'single organisation focus study reduces thneralisability findings individuals employed company', 'despite confirming findings previous studies essential future carried different national organisational contexts generateater confidence generalisability', 'finally study participants asked overall general opinions regarding favourability career development opportunities fairness procedures used decide', 'averaging experiences problematic example procedures used decide promotional opportunities used decide access secondment include different agents processes', 'despite current study line previous investigating issues confidence taken appropriateness accuracy data', 'future begin focus specific career interventions like reactions promotional decisions outcomes mentoring relationships potentially alleviating problems averaging', 'implications practice despite limitations discussed results suggest number important practical implications', 'times employers unable provide kinds career development opportunities desired employees periods economic hardship recession', 'times employees liable frustrated career development opportunities likely view unfavourably', 'conditions individual proactivity threatened ironically needed organisational survival careerist orientations work begin em', 'results study careerism averted proactive behaviours maintained career development opportunities viewed unfavourably employers ensure procedures allocating career development opportunities viewed fair employees organisational commitment upheld', 'course view scenario differently', 'times economic hardship recession lack alternative work opportunities lead employees exhibit proactive behaviours order signal value organisation', 'high levels continuance commitment proposed driver proactive behaviour', 'study explicitly test moderating role continuance commitment present good evidence affective want aspect organisational commitment essential securing proactive behaviour desirable career development opportunities unavailable', 'important employers attract maintain committed workforce', 'work roles high-commitment high-performance work practices hrm strategies promoting employee gement organisational commitment', 'literature presents strong support various roles played effective recruitment job employee involvement mechanisms reward strategies performance systems promoting high levels affective commitment required employees', 'rolf van dick', 'human resource publishing', 'time equally important managers supervisors aware importance fair processes procedures allocation career development opportunities gain necessary experience facilitating supporting careers employees', 'decision-making processes uphold principles procedural justice transparent consistent allowing employee input influence suppressing bias based accurate relevant information', 'employees provided regular communications regarding career development bven quality timely feedback career-related decisions affecting']\n"
     ]
    }
   ],
   "source": [
    "print(data_proc2[ref_doc].split('. '))\n",
    "\n",
    "sents = []\n",
    "for d in data_proc2:\n",
    "    sents += d.split('. ')"
   ]
  },
  {
   "cell_type": "code",
   "execution_count": 41,
   "metadata": {},
   "outputs": [
    {
     "name": "stdout",
     "output_type": "stream",
     "text": [
      "['link perceived hrm practices performance moderating effect trust employer link perceived hrm practices performance well-being moderating effect trust employer kingston kingston human resource human resource pages present study examines interaction perceived hrm practices trust employer employee performance well-being', 'specifically study tests trust employer moderates relationships perceptions hrm practices task performance organisational citizenship behaviour turnover intentions employee well-being', 'support majority hypotheses using data employees line managers service sector organisation uk', 'trust employer moderates relationships perceived hrm practices task performance turnover intentions individual well-being organisational citizenship behaviour', 'implications findings organisations future discussed', 'contact kingston kingston kingston kingston thames kt lb uk', 'introduction hree perspectives trust emd organisational literature', 'trust contextualised rational choice theoretical paradigm decision', 'second examined act observable behaviour', 'perspectives problematic confound trust outcomes', 'perspective steered trust organisational settings defines trust set confident beliefs party', 'clarified definition trust perspective belief state involves positive expectations party intention accept vulnerability', 'present study trust conceptualised belief party fair reliable competent consequence trustor vulnerable trustee', 'number studies highlighted importance trust fostering positive outcomes individuals employing organisation', 'context researchers sought explore factors leading development', 'perception hrm practices employees observations nature organisation hrm identified factor particularly relevant creating maintaining trust', 'recently researchers innocenti turned attention investigating trust moderator relationship perceived hrm practices outcomes', 'present study builds studies ways', 'study innocenti focuses trust supervisors present study focuses trust employer', 'employees develop trust beliefs organisation bs bs banner', 'ZYX', 'XYZhuman resource publishing', 'cite press..', 'link perceived hrm practices performance well-being moderating effect trust employer', 'human resource', 'micro level individuals trust specific individuals supervisors co-workers macro level employees build trust relationships generalised representatives employer', 'perceptions trust employer relate reliability faith correctness abstract principles faith institution fair reliable competent non-threatening', 'individual perceptions trust employer hinge collective characteristics organisation', 'perceptions tied specific individual instead akin lasting impression characterised predictability reliability continuity includes beliefs employer truthful fair good intentions predictable', 'trust employer important role play understanding effects hrm practices employee outcomes given hrm practices reflection organisation strategy policies', 'present study referent trust employer', 'examining trust employer pivotal explaining effect hrm practices employee outcomes', 'second present study examines combined impact trust employer perceptions hrm practices range employee behavioural outcomes', 'previous studies demonstrated trust moderates relationship perceived hrm practices employee attitudes date study investigated moderating effect trust employer relationship perceived hrm practices behaviours employee performance examined impact employee well-being', 'important omissions given employee performance well-being discussed key outcome variables hrm', 'individual performance seen antecedent organisational performance important organisation perspective employee well-being considered important outcome studies focusing effect hrm workers', 'aim bring literatures focused perceived hrm practices trust performance well-being examining moderating role trust employer relationship perceived hrm practices employee outcomes', 'study responds searle examine effects trust employer outcomes important employees employers addresses often-mentioned need studies assessing impact hrm practices well-being date sparse', 'perceived hrm employee performance well-being researchers increasingly emphasised need differentiate levels analysis assessing impact hrm practices employee outcomes', 'intended hrm practices typically rated single hrm professional capture organisation strategic hrm intent', 'interpreted line managers filter intended message employees enactment practices', 'employees perceive practices ultimately exerts influence feel behave work', 'individuals likely perceive react organisation hrm practices different ways depending range factors past experience values expectations', 'hrm strategy interpreted differently individual frames reference', 'perceived hrm practices trust performance well-being human resource publishing', 'wide range studies examined single hrm practices isolate effect various outcomes recently researchers argued hrm practices need viewed synstically considering employees perceptions hrm', 'individual hrm practices potential complement conflict substitute hrm practices eyes workers focusing employee perceptions overarching hrm complete understanding relationship hrm individual-level outcomes achieved', 'prior suggested high-performance hrm practices particularly relevant influencing employees attitudes behaviours', 'term high-performance hrm practices refers bundle separate interconnected hrm practices designed enhance employees attitudes behaviours improving ability motivation opportunities participate', 'searle stated bundles tap discretionary effort workers fostering psychological links organisation individual employees goals', 'consensus make-up content studies agree high-performance hrm bundles include information sharing employee participation job security performance training', 'example person reports positive perceptions hrm likely acknowl provided sufficient opportunities training comprehensive selection procedure used rewards commensurate performance', 'person reports negative perceptions hrm tend disagree practices place organisation', 'prior studies considering link employee perceptions hrm systems various individual-level outcomes situated analyses exchange framework', 'argued employees perceive organisation investing positively experienced hrm practices likely reciprocate range positive behaviours', 'example prior demonstrated positive perceptions hrm practices lead employees higher task-related performance exhibit organisational citizenship behaviour likely quit', 'present study builds studies analysing effect perceived hrm practices range individual performance outcomes', 'following seminal paper multidimensional approach job performance taken distinguishing types employee performance task performance relates behaviours generally specified job description contribute organisation technical core citizenship behaviour includes behaviours support task performance enhancing maintaining psychological environment turnover intentions', 'hypothesis positively perceived hrm practices positively related task performance', 'hypothesis positively perceived hrm practices positively related citizenship behaviour', 'human resource publishing', 'hypothesis positively perceived hrm practices negatively related turnover intentions', 'mainstream hrm scholars traditionally argued positive relationship perceptions hrm employee well-being commentators critical hrm general noted probable negative link high-performance hrm practices well-being shown positive relationship work intensification ill health stress', 'empirical support refute claims sparse studies exist present inconclusive findings', 'studies high-performance hrm practices lead higher levels job strain job-to-home spillover effects shown positive perceptions hrm practices decrease stress levels', 'conflicting findings consequence manner data collected', 'virtually studies used national survey data researchers rely existing survey items negative relationship hrm practices well-being studies used high-performance hrm scales measuring employees perceptions hrm positive relationship hrm practices well-being', 'given researchers pointed individuals holistic perceptions hrm relevant individual-level attitudinal behavioural outcomes present study examines perceptions hrm practices proposes hypothesis positively perceived hrm practices positively related employee well-being', 'moderating role trust employer trust employer relates employee belief likelihood employer future actions beneficial favourable harmful employee crucial factor influencing employee behaviour', 'according information processing theory employee context informs intent meaning actions influences employee attitudes behaviours', 'trust employer imbued context employee people perceptions intent meaning implementation hrm practices vary function level trust employer', 'trust employer strhen relationship hrm practices employee outcomes employees feel trust employer likely interpret high-performance hrm practices investment effort work', 'hrm practices increase performance well-being functional role facilitating cognitive outcomes establishment trusting relationship employer amplify positive relationship activating positive affective responses employees', 'fit perceptions hrm practices aspects organisation result combined positive effect individual-level outcomes', 'conversely context defined mistrust employees interpret high-performance hrm practices favourably perceived hrm practices trust performance well-being human resource publishing', 'extent hrm initiatives influence performance well-being reduced', 'studies examined role trust moderating relationship hrm outcomes relevant organisations', 'innocenti trust supervisor high hrm practices stronger relationship employee attitudes compared situations trust low', 'similarly demonstrated trust senior strhens link performance dimensions high-commitment work practices commitment', 'studies focused selected hrm practices', 'innocenti study included selection hrm practices based ability motivation opportunity model measured dichotomous indicators measure hrm focused exclusively performance', 'important limitations indicates employees capture hrm practices holistically', 'furthermore studies focused limited range attitudinal outcome variables', 'examined interaction trust hrm organisational commitment innocenti explored moderating role trust relationship hrm practices employee attitudes organisation consisted potpourri items related meaningfulness pride self-efficacy', 'present study seeks extend line examining moderating role trust employer outcomes important individuals organisations task performance organisational citizenship behaviour turnover intentions well-being', 'hypothesis positive association perceived hrm practices task performance moderated trust employer strhens relationship high low levels trust employer', 'hypothesis positive association perceived hrm practices citizenship behaviour moderated trust employer strhens relationship high low levels trust employer', 'hypothesis negative association perceived hrm practices turnover intentions moderated trust employer weakens relationship high low levels trust employer', 'hypothesis positive association perceived hrm practices employee well-being moderated trust employer strhens relationship high low levels trust employer', 'scarcity studies examining role trust employer developing maintaining work-related relationships', 'present findings provide additional insight interaction trust employer perceived hrm practices employee performance well-being contribute extant literature ways', 'present study adds literature investigates different elements hrm performance chain focusing outcomes task performance rated figure trust employer moderates relationship hrm practices task performance note high hrm practices denotes employees agreement high-performance hrm practices exist organisation', 'figure trust employer moderates relationship hrm practices well-being note high hrm practices denotes employees agreement high-performance hrm practices exist organisation', 'human resource publishing', 'supervisors citizenship behaviour turnover intentions well-being', 'researchers argued individual performance proximal predictor organisational level performance employee attitudes called studies incorporating individual performance outcome variable', 'findings present study employee perceptions hrm practices direct impact extent individuals ge citizenship behaviours likelihood remaining employer', 'data employee perceptions high-performance hrm practices directly lead higher levels task performance', 'hrm practices impact task performance trust employer taken consideration', 'important finding given prior investigated relationship relied primarily self-report performance data produced inconsistent results']\n"
     ]
    }
   ],
   "source": [
    "print(sents[0:100])"
   ]
  },
  {
   "cell_type": "code",
   "execution_count": 42,
   "metadata": {},
   "outputs": [],
   "source": [
    "# save data\n",
    "pickle.dump(data_proc2, open( \"C:/Thesis/Data/save/Master_Data/pre_processed_data/data_preprocessed.p\", \"wb\" ) )"
   ]
  },
  {
   "cell_type": "code",
   "execution_count": 43,
   "metadata": {},
   "outputs": [],
   "source": [
    "import io\n",
    "\n",
    "# writing documents one sentence per line to form a larger data set (allowing use of a generator for model training):\n",
    "with open(\"C:/Thesis/Data/save/Master_Data/pre_processed_data/data_preprocessed_txt.txt\", \"a\",encoding=\"utf-8\") as outfile:\n",
    "    \n",
    "    for s in sents:\n",
    "        outstring = s + '\\n'\n",
    "        outfile.write(outstring)\n",
    "        \n",
    "# (additionally you could keep document boundaries intact, \n",
    "# e.g. by writing a file per document or marking start and end of articles in the larger file)"
   ]
  },
  {
   "cell_type": "code",
   "execution_count": null,
   "metadata": {},
   "outputs": [],
   "source": [
    "#import io\n",
    "#with open(\"C:/Thesis/Data/save/Master_Data/MD_3/data_proc_latest/JM_data_proc_txt.txt\", \"w\",encoding=\"utf-8\") as outfile:\n",
    "#    for i in range(len(data_proc)):\n",
    "#        outstring = \"\"\n",
    "#        outstring += str(data_proc[i])\n",
    "#        outfile.write(outstring)"
   ]
  },
  {
   "cell_type": "code",
   "execution_count": null,
   "metadata": {},
   "outputs": [],
   "source": []
  }
 ],
 "metadata": {
  "kernelspec": {
   "display_name": "Python 3",
   "language": "python",
   "name": "python3"
  },
  "language_info": {
   "codemirror_mode": {
    "name": "ipython",
    "version": 3
   },
   "file_extension": ".py",
   "mimetype": "text/x-python",
   "name": "python",
   "nbconvert_exporter": "python",
   "pygments_lexer": "ipython3",
   "version": "3.7.6"
  }
 },
 "nbformat": 4,
 "nbformat_minor": 2
}
