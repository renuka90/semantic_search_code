{
 "cells": [
  {
   "cell_type": "code",
   "execution_count": null,
   "metadata": {},
   "outputs": [],
   "source": [
    "import os\n",
    "import re\n",
    "import pandas as pd\n",
    "import urllib\n",
    "from nltk import SnowballStemmer\n",
    "from gensim.models import Word2Vec\n",
    "#import langdetect\n",
    "import tika\n",
    "import time\n",
    "from tika import parser\n",
    "import pickle"
   ]
  },
  {
   "cell_type": "markdown",
   "metadata": {},
   "source": [
    "# Raw Articles pdf Data\n",
    "Convert pdf to text using Tika apache server "
   ]
  },
  {
   "cell_type": "code",
   "execution_count": null,
   "metadata": {},
   "outputs": [],
   "source": [
    "# specify the target data folder\n",
    "\n",
    "target_dir = 'C:/Thesis/Data/Journal_of_occupational_and_OP'"
   ]
  },
  {
   "cell_type": "code",
   "execution_count": null,
   "metadata": {},
   "outputs": [],
   "source": [
    "# prep pdf extraction\n",
    "pdf_files = []\n",
    "wrd_files = []\n",
    "\n",
    "for f in os.listdir(target_dir):\n",
    "    if f.endswith(\".pdf\") | f.endswith(\".PDF\"):\n",
    "        thispdf = os.path.join(target_dir, f)\n",
    "        pdf_files = pdf_files + [thispdf]\n",
    "    if f.endswith(\".doc\") | f.endswith(\".docx\") | f.endswith(\".DOC\") | f.endswith(\".DOCX\"):\n",
    "        thiswrd = os.path.join(target_dir, f)\n",
    "        wrd_files = wrd_files + [thiswrd]"
   ]
  },
  {
   "cell_type": "code",
   "execution_count": null,
   "metadata": {
    "scrolled": true
   },
   "outputs": [],
   "source": [
    "port = 4321 # port to use for Tika server (chosen arbitrarily)\n",
    "server_str = 'http://localhost:' + str(port)\n",
    "tika_path  = 'C:\\Software\\ tika-server-1.23.jar'\n",
    "tika_run   = 'java -jar' + tika_path + ' --port ' + str(port)\n",
    "print('Command to start Tika:')\n",
    "print(tika_run)\n",
    "print('---')\n",
    "print('Number of pdf files: ' + str(len(pdf_files)))\n",
    "print('Number of word files: ' + str(len(wrd_files)))"
   ]
  },
  {
   "cell_type": "code",
   "execution_count": null,
   "metadata": {},
   "outputs": [],
   "source": [
    "# process the PDF files, store text in memory\n",
    "tika.TikaClientOnly = True \n",
    "\n",
    "pdf_metadata = [parser.from_file(t, server_str, xmlContent=False)[\"metadata\"] for t in (pdf_files + wrd_files)]"
   ]
  },
  {
   "cell_type": "code",
   "execution_count": null,
   "metadata": {},
   "outputs": [],
   "source": [
    "# save data metadata\n",
    "pickle.dump(pdf_metadata, open( \"C:/Thesis/Data/save/Journal_of_occupational_and_OP/metadata/metadata_all.p\", \"wb\" ) )"
   ]
  },
  {
   "cell_type": "markdown",
   "metadata": {},
   "source": [
    "# Text Data\n",
    "\n",
    "Eliminate title, sections (eg: content between Method and Discussion) and Reference. It is saved as a pre-processed data"
   ]
  },
  {
   "cell_type": "code",
   "execution_count": null,
   "metadata": {
    "scrolled": true
   },
   "outputs": [],
   "source": [
    "# process the PDF files, store text in memory\n",
    "tika.TikaClientOnly = True \n",
    "\n",
    "pdf_text = [parser.from_file(t, server_str, xmlContent=False)[\"content\"] for t in (pdf_files + wrd_files)]"
   ]
  },
  {
   "cell_type": "code",
   "execution_count": null,
   "metadata": {},
   "outputs": [],
   "source": [
    "# save data\n",
    "pickle.dump(pdf_text, open( \"C:/Thesis/Data/save/Journal_of_occupational_and_OP/save_alltextData.p\", \"wb\" ) )"
   ]
  },
  {
   "cell_type": "markdown",
   "metadata": {},
   "source": [
    "#  Load the Text data"
   ]
  },
  {
   "cell_type": "code",
   "execution_count": 1,
   "metadata": {},
   "outputs": [],
   "source": [
    "import pickle\n",
    "#load the text data\n",
    "pdf_text = pickle.load(open(\"C:/Thesis/Data/save/Journal_of_occupational_and_OP/save_alltextData.p\", \"rb\"))\n"
   ]
  },
  {
   "cell_type": "code",
   "execution_count": 2,
   "metadata": {},
   "outputs": [
    {
     "data": {
      "text/plain": [
       "779"
      ]
     },
     "execution_count": 2,
     "metadata": {},
     "output_type": "execute_result"
    }
   ],
   "source": [
    "len(pdf_text)"
   ]
  },
  {
   "cell_type": "markdown",
   "metadata": {},
   "source": [
    "# Get country names"
   ]
  },
  {
   "cell_type": "code",
   "execution_count": 3,
   "metadata": {},
   "outputs": [],
   "source": [
    "# Since it is case sensetive, firstly get the list of country before converting the text to lowercase\n",
    "country_list = ['america', 'vietnam', 'usa']\n",
    "import pycountry\n",
    "\n",
    "for country in pycountry.countries:\n",
    "#    for i in pdf_text:\n",
    "#        if country.name in i:\n",
    "            #print(country.name)\n",
    "            country_list.append(country.name.lower())"
   ]
  },
  {
   "cell_type": "code",
   "execution_count": 4,
   "metadata": {},
   "outputs": [],
   "source": [
    "#Convert country list to lower case. it will be called in filter function\n",
    "#country_lower = [x.lower() for x in country_list]\n",
    "#print(country_list)"
   ]
  },
  {
   "cell_type": "markdown",
   "metadata": {},
   "source": [
    "# Get city names (and additional countries)"
   ]
  },
  {
   "cell_type": "code",
   "execution_count": 5,
   "metadata": {},
   "outputs": [],
   "source": [
    "from geotext import GeoText\n",
    "\n",
    "cities_list = []\n",
    "for i in pdf_text:\n",
    "    place = GeoText(i)\n",
    "    #print(place.cities)\n",
    "    #print(place.countries)\n",
    "    cities_list.append(place.cities + place.countries)\n",
    "\n",
    "t = []\n",
    "for i in cities_list:\n",
    "    t += i\n",
    "    \n",
    "# print(len(t))    \n",
    "    \n",
    "cities_list = list(set(t))\n",
    "# cities_list"
   ]
  },
  {
   "cell_type": "code",
   "execution_count": 6,
   "metadata": {},
   "outputs": [
    {
     "name": "stdout",
     "output_type": "stream",
     "text": [
      "1362\n"
     ]
    }
   ],
   "source": [
    "#Convert cities list to lower case. it will be called in filter function\n",
    "cities_lower =[]\n",
    "for i in cities_list:\n",
    "    #for j in i:\n",
    "    cities_lower.append(i.lower())\n",
    "print(len(cities_lower))\n"
   ]
  },
  {
   "cell_type": "markdown",
   "metadata": {},
   "source": [
    "#  Convert pdf text to lower case"
   ]
  },
  {
   "cell_type": "code",
   "execution_count": 8,
   "metadata": {},
   "outputs": [],
   "source": [
    "#Convert each string to lowercase\n",
    "for i in range(len(pdf_text)):\n",
    "    pdf_text[i] = pdf_text[i].lower()"
   ]
  },
  {
   "cell_type": "markdown",
   "metadata": {},
   "source": [
    "# Excluding pdfs if it doesnot have the standard format \n",
    "check the standard format of pdf- if it contains method and discussion section or not"
   ]
  },
  {
   "cell_type": "code",
   "execution_count": 9,
   "metadata": {},
   "outputs": [
    {
     "data": {
      "text/plain": [
       "610"
      ]
     },
     "execution_count": 9,
     "metadata": {},
     "output_type": "execute_result"
    }
   ],
   "source": [
    "import re\n",
    "pdf_included =[]\n",
    "pdf_excluded =[]\n",
    "\n",
    "for i in pdf_text:\n",
    "    flag_1 = re.search(r'\\n(general )?discussion\\n', i)\n",
    "    flag_2 = re.search(r'\\nmethods?\\n', i)\n",
    "   \n",
    "    if flag_1 and flag_2: \n",
    "        pdf_included.append(i)\n",
    "     \n",
    "    else:\n",
    "        pdf_excluded.append(i)\n",
    "len(pdf_included)"
   ]
  },
  {
   "cell_type": "code",
   "execution_count": 10,
   "metadata": {},
   "outputs": [
    {
     "data": {
      "text/plain": [
       "169"
      ]
     },
     "execution_count": 10,
     "metadata": {},
     "output_type": "execute_result"
    }
   ],
   "source": [
    "len(pdf_excluded)"
   ]
  },
  {
   "cell_type": "code",
   "execution_count": 11,
   "metadata": {},
   "outputs": [],
   "source": [
    "# Within JM: acknowledgement section appears in two approaches:1: before or after keyword section (only few pdfs)\n",
    "# 2: before reference section (maximum pdfs)\n",
    "# thus, focusing on the majority occurance of acknowledgements before reference second, we removed it based on that condition.\n",
    "\n",
    "# step-1 remove content after acknowledgements section( it will include appendix, reference section)\n",
    "pdf_remove_step1 = [re.sub(r\"(?is)\\nacknowledgments\\n.*\", \"\", f) for f in pdf_included]\n",
    "\n",
    "# step-2 if there is no acknowledgements section than start with appendix (it will include reference section.)\n",
    "pdf_remove_step2 = [re.sub(r\"(?is)\\nappendix\\n.*\", \"\", f) for f in pdf_remove_step1]\n",
    "\n",
    "# step-3 remove all from reference section\n",
    "pdf_remove_step3 = [re.sub(r\"(?is)\\nreferences\\n.*\", \"\", f) for f in pdf_remove_step2]\n",
    "\n",
    "# get the reference section\n",
    "references = [re.sub(r\"^(.|\\n)+\\nreferences\\n\", \"\", f) for f in pdf_included]"
   ]
  },
  {
   "cell_type": "code",
   "execution_count": 12,
   "metadata": {},
   "outputs": [
    {
     "data": {
      "text/plain": [
       "610"
      ]
     },
     "execution_count": 12,
     "metadata": {},
     "output_type": "execute_result"
    }
   ],
   "source": [
    "len(pdf_remove_step3)"
   ]
  },
  {
   "cell_type": "code",
   "execution_count": 13,
   "metadata": {},
   "outputs": [],
   "source": [
    "# step-4: remove content between method and discussion section (it contains method and result section)\n",
    "def remove_method_result(method, discussion, text):\n",
    "    \n",
    "    import re    \n",
    "    start = method\n",
    "    end = discussion\n",
    "    #start of pattern, followed by any number of times 'any character OR a newline' and terminated by the end pattern.\n",
    "    #pattern = start + '.*'+'(.|\\n)*'+end\n",
    "    pattern = start +'(.|\\n)*'+end\n",
    "    #pdf_method_dis = [re.sub(pattern, '', f) for f in pdf_text]\n",
    "    pdf_method_dis = re.sub(pattern, '', text)\n",
    "\n",
    "    return pdf_method_dis"
   ]
  },
  {
   "cell_type": "code",
   "execution_count": 14,
   "metadata": {},
   "outputs": [],
   "source": [
    "import re\n",
    "#  remove method and result\n",
    "pdf_remove_step4 = [remove_method_result('\\nmethods?\\n', '\\n(general )?discussion\\n', t) for t in pdf_remove_step3]"
   ]
  },
  {
   "cell_type": "code",
   "execution_count": 15,
   "metadata": {},
   "outputs": [
    {
     "data": {
      "text/plain": [
       "610"
      ]
     },
     "execution_count": 15,
     "metadata": {},
     "output_type": "execute_result"
    }
   ],
   "source": [
    "len(pdf_remove_step4)"
   ]
  },
  {
   "cell_type": "markdown",
   "metadata": {},
   "source": [
    "# Pre-processing\n",
    "Regular expression is used to clean up the data"
   ]
  },
  {
   "cell_type": "code",
   "execution_count": 16,
   "metadata": {},
   "outputs": [
    {
     "name": "stdout",
     "output_type": "stream",
     "text": [
      "\n",
      "\n",
      "\n",
      "\n",
      "\n",
      "\n",
      "\n",
      "\n",
      "\n",
      "\n",
      "\n",
      "\n",
      "\n",
      "\n",
      "\n",
      "\n",
      "\n",
      "\n",
      "\n",
      "\n",
      "\n",
      "\n",
      "\n",
      "\n",
      "\n",
      "\n",
      "\n",
      "\n",
      "\n",
      "\n",
      "\n",
      "\n",
      "\n",
      "\n",
      "\n",
      "\n",
      "\n",
      "\n",
      "\n",
      "\n",
      "\n",
      "\n",
      "\n",
      "\n",
      "\n",
      "\n",
      "\n",
      "\n",
      "\n",
      "\n",
      "\n",
      "job autonomy and workload as antecedents of workplace bullying: a two‐wave test of karasek's job demand control model for targets and perpetrators\n",
      "\n",
      "\n",
      "191\n",
      "\n",
      "journal of occupational and organizational psychology (2011), 84, 191–208\n",
      "c© 2010 the british psychological society\n",
      "\n",
      "the\n",
      "british\n",
      "psychological\n",
      "society\n",
      "\n",
      "www.wileyonlinelibrary.com\n",
      "\n",
      "job autonomy and workload as antecedents of\n",
      "workplace bullying: a two-wave test of karasek’s\n",
      "job demand control model for targets and\n",
      "perpetrators\n",
      "\n",
      "elfi baillien∗, nele de cuyper and hans de witte\n",
      "katholieke universiteit leuven, belgium\n",
      "\n",
      "the current study aims to test the hypotheses that are central to karasek’s job demand\n",
      "control model in relation to workplace bullying. particular contributions are, first,\n",
      "the focus upon both targets and perpetrators of workplace bullying, and second, the\n",
      "two-wave design with a 6-month time lag. we assume that (a) workload at time 1\n",
      "associates positively with being a target/perpetrator at time 2, (b) job autonomy at\n",
      "time 1 associates negatively with being a target/perpetrator at time 2, and (c) the\n",
      "positive relationship between workload at time 1 and being a target/perpetrator at\n",
      "time 2 is stronger under the condition of low (vs. high) job autonomy at time 1 (i.e.,\n",
      "interaction between workload and job autonomy). moderated hierarchical regression\n",
      "analyses (n = 320) revealed lagged main effects for being a target, and interaction effects\n",
      "for being a perpetrator. in particular, time 1 workload was positively and time 1 job\n",
      "autonomy negatively associated with being a target at time 2. job autonomy at time 1\n",
      "reduced the positive relationship between workload at time 1 and being a perpetrator\n",
      "at time 2. overall, our results suggest that high strain jobs relate to both being a target\n",
      "and to being perpetrator of workplace bullying, yet through different processes: main\n",
      "effects and interactions, respectively.\n",
      "\n",
      "since the 1980s up to now, many scholars have sought to apply karasek’s job demand\n",
      "control model (karasek, 1979) to a wide variety of stress reactions, mostly indicators\n",
      "of poor physical health or general and job-related ill-being. seemingly missing in this\n",
      "stream of research are social behavioural outcomes that signal a stress response, such\n",
      "as workplace bullying (baillien, neyens, de witte, & de cuyper, 2009; einarsen, 2000).\n",
      "according to leading experts in the workplace bullying field (einarsen, raknes, &\n",
      "matthiesen, 1994; hoel, zapf, & cooper, 2002), workplace bullying is however a relevant\n",
      "outcome in the context of the job demand control model. therefore, our aim is to test\n",
      "the hypotheses that are central to the job demand control model in relation to workplace\n",
      "\n",
      "∗correspondence should be addressed to elfi baillien, research group work, organizational and personnel psychology,\n",
      "department of psychology, katholieke universiteit leuven, tiensestraat 102, box 3725, 3000 leuven, belgium\n",
      "(e-mail: elfi.baillien@psy.kuleuven.be).\n",
      "\n",
      "doi:10.1348/096317910x508371\n",
      "\n",
      "\n",
      "\n",
      "192 elfi baillien et al.\n",
      "\n",
      "bullying. particular strengths are that we investigate bullying both from the viewpoint\n",
      "of targets and perpetrators and that we use a two-wave design and lagged analyses (de\n",
      "lange, 2005; singer & willet, 2003).\n",
      "\n",
      "karasek’s job demand control model\n",
      "most studies in the tradition of the job demand control model have concerned\n",
      "quantitative job demands and job autonomy in relation to strain. quantitative job\n",
      "demands typically refer to the combination of work quantity and work pace (i.e.,\n",
      "‘workload’; karasek, 1985). job autonomy refers to the employee’s ability or freedom\n",
      "to make decisions about his or her work activities (de jonge & kompier, 1997; de\n",
      "witte, verhofstadt, & omey, 2007). whereas workload is generally thought to induce\n",
      "strain, job autonomy is assumed to decrease strain (karasek, 1979), evidence for which\n",
      "is abundant (häusser, mojzisch, niesel, & schulz-hardt, 2010). consequently, jobs that\n",
      "combine relatively high levels of workload and low levels of job autonomy are referred\n",
      "to as ‘high strain jobs’. conversely, jobs with a relatively low workload and high job\n",
      "autonomy are ‘low strain jobs’.\n",
      "\n",
      "karasek’s job demand control model typically builds upon three hypotheses: (a)\n",
      "workload relates positively to strain (main effect workload), (b) job autonomy relates\n",
      "negatively to strain (main effect job autonomy), and (c) workload and job autonomy\n",
      "interact in a synergistic way. the model’s interaction hypothesis is sometimes formulated\n",
      "as a ‘buffer effect’ in which the negative effect of workload is buffered by job autonomy:\n",
      "the positive relationship between workload and strain is less strong with increasing job\n",
      "autonomy. the assumed main effects have found support in both cross-sectional (van\n",
      "der doef & maes, 1999) and longitudinal studies (de lange, taris, kompier, houtman,\n",
      "& bongers, 2003; häusser et al., 2010; ter doest & de jonge, 2006). support for\n",
      "the interaction hypothesis is less consistent; particularly when using (overly) general\n",
      "operationalizations of job demands and job control (e.g., broader than workload and\n",
      "job autonomy) and in longitudinal designs (de jonge, van vegchel, shimazu, shaufeli, &\n",
      "dormann, in press; häusser et al., 2010). recently, however, de lange et al. (2003) have\n",
      "argued that the general idea of the job demand control model finds support when there\n",
      "are main effects of workload and job autonomy, and/or a synergistic interaction effect;\n",
      "a viewpoint that we tend to share.\n",
      "\n",
      "to date, karasek’s job demand control model has been applied to a diverse set\n",
      "of well-being and health variables. examples are physical health (e.g., coronary heart\n",
      "disease and muscle tension; kristensen, 1995; schnall, landsbergis, & bakker, 1994),\n",
      "general well-being (e.g., anxiety and depression; van der doef & maes, 1999), job-related\n",
      "well-being (e.g., job satisfaction, sickness absence, and burnout; see de jonge, le blanc,\n",
      "schaufeli, & van der linden, 1998; humphris & peacock, 1992; smulders & nijhuis,\n",
      "1999). in contrast, behavioural outcomes have attracted relatively little attention. so far,\n",
      "the job demand control model has been applied to work-related outcomes (e.g., work\n",
      "performance; sargent & terry, 2000), health-related behaviour (e.g., smoking; otten,\n",
      "bosma, & swinkels, 1999) or organizational outcomes (e.g., turnover; verhofstadt, de\n",
      "witte, & omey, 2009). still missing in this list is a focus upon social behaviour, for\n",
      "example in the form of workplace bullying.\n",
      "\n",
      "workplace bullying\n",
      "‘workplace bullying’ has been labelled ‘mobbing’ (matthiesen, raknes, & rökkum,\n",
      "1989), ‘harassment’ (brodsky, 1976), and ‘emotional abuse in the workplace’ (keashly,\n",
      "\n",
      "\n",
      "\n",
      "demands, control and workplace bullying 193\n",
      "\n",
      "1998). these terms all refer to a situation in which a broad range of negative acts\n",
      "are systematically directed to one or more employees. the current study aligns with\n",
      "the european perspective (einarsen & raknes, 1997) in which (1) workplace bullying\n",
      "contains persistent (i.e., minimum 6 months) negative behaviour at work; and (2) the\n",
      "negative acts are mainly psychological in nature. workplace bullying may concern\n",
      "personal issues (e.g., insulting and humiliating acts) as well as work-related issues\n",
      "(e.g., withholding documentation) and social isolation (cowie, naylor, rivers, smith, &\n",
      "pereira, 2002). workplace bullying is by definition long-standing and typically includes\n",
      "the accumulation of many ‘minor negative acts’, leading to a pattern of systematic\n",
      "maltreatment (salin, 2008). it stigmatizes the target, so that he/she obtains an inferior\n",
      "position (einarsen & skogstad, 1996; zapf & gross, 2001): the target often feels helpless\n",
      "to defend him- or herself against the negative acts (einarsen et al., 1994; leymann, 1996).\n",
      "unlike most north american scholars (see, e.g., aquino & thau, 2009), we follow the\n",
      "tradition set by leymann (1996; see, e.g., einarsen, matthiesen, & hauge, 2009; zapf &\n",
      "einarsen, 2003) that intent is not a defining characteristic of workplace bullying.\n",
      "\n",
      "studies in the realm of bullying research about antecedents have mostly been inspired\n",
      "by the ‘work environment hypothesis’ (einarsen, 2000; leymann, 1996). this hypothesis\n",
      "refers to the widely accepted assumption that workplace bullying can be attributed to\n",
      "a stressful work environment. studies in this area are however bound to theoretical and\n",
      "methodological constraints. as respects theory, most studies to date have remained rather\n",
      "descriptive or explorative. they have produced a broad list of potential antecedents,\n",
      "such as role conflict (e.g., hauge, skogstad, & einarsen, 2007), job insecurity (e.g., de\n",
      "cuyper, baillien, & de witte, 2009), social support (e.g., notelaers, de witte, & einarsen,\n",
      "in press), and various leadership styles (e.g., hoel, glaso, hetland, cooper, & einarsen,\n",
      "in press). they have moreover inspired the development of various new and specific\n",
      "bullying models. the problem with these models is that they are either fairly complex\n",
      "or general, but in either case difficult to test empirically, due to an exhaustive list of\n",
      "included antecedents (e.g., anderson, anderson, & deuser, 1996) or a lack of clear-cut\n",
      "definitions of the antecedents (e.g., zapf & einarsen, 2003). in addition, most studies have\n",
      "been focused upon being a target of bullying (zapf & einarsen, 2003). little is known\n",
      "about work environmental factors that may trigger bullying enactment by perpetrators.\n",
      "this leaves the assumption advanced by baillien et al. (2009) or bowling and beehr\n",
      "(2006) that the processes leading to bullying may be similar for targets and perpetrators\n",
      "speculative. as respects methods, a particular concern is that most studies to date are\n",
      "based on cross-sectional designs. hence, they can only draw very weak conclusions\n",
      "regarding causality or lagged effects as a first indicator of causality. altogether, this led\n",
      "us to conclude that the work environment hypothesis needs stronger empirical evidence\n",
      "(for a discussion, see einarsen et al., 2009).\n",
      "\n",
      "against this backdrop, the current study’s aims and associated contributions are three-\n",
      "fold. first, we apply insights from the job demand control model to the bullying domain.\n",
      "second, we evaluate the extent to which similar processes underlie workplace bulling\n",
      "from the perspective of the target or the perpetrator of bullying. third, we investigate\n",
      "lagged effects of workload and job autonomy on workplace bullying through the adop-\n",
      "tion of a two-wave design and lagged analyses (de lange, 2005; singer & willet, 2003).\n",
      "\n",
      "the job demand control model and workplace bullying\n",
      "we see two reasons to integrate the workplace bullying and the job demand control\n",
      "model literature. first, workplace bullying has been associated with strain, which is\n",
      "\n",
      "\n",
      "\n",
      "194 elfi baillien et al.\n",
      "\n",
      "also a critical outcome in the job demand control model. in this respect, baillien\n",
      "et al. (2009) developed an incident-based model in which job characteristics (e.g., high\n",
      "workload and low job autonomy) were thought to increase work-related strain, which,\n",
      "in turn, was related to workplace bullying. from the target’s perspective in particular,\n",
      "the process may be as follows: exposure to poor job characteristics may trigger feelings\n",
      "of helplessness among a specific worker. these feelings may lead him or her to violate\n",
      "work-related habits and expectations. the response from co-workers may take the form\n",
      "of negative reactions which then lead to personal conflicts so that the worker ultimately\n",
      "becomes a target of bullying (see also felson & tedeschi, 1993; neuman & baron, 1998).\n",
      "similarly, poor job characteristics may wear out the employee’s resources. he or she\n",
      "then becomes an ‘easy target’ who offers little resistance against workplace bullying\n",
      "(hoel & salin, 2003). from the perpetrator’s perspective, poor job characteristics may\n",
      "trigger negative affects and tension which may be relieved by directing negative acts\n",
      "towards a co-worker. a similar process has been described in the revised frustration\n",
      "aggression theory (berkowitz, 1989) and general strain theory (hinduja, 2007).\n",
      "\n",
      "second, workload and job autonomy have been related to being a target of workplace\n",
      "bullying in a way that aligns with assumptions made in karasek’s job demand control\n",
      "model. some authors have related workload and job autonomy to workplace bullying\n",
      "(agervold & mikkelsen, 2004; appelberg, romanov, honlasalo, & koskenvuo, 1991;\n",
      "einarsen et al., 1994; neyens, baillien, notelaers, & de witte, 2007; zapf, knorz, &\n",
      "kulla, 1996): they suggest a positive main effects of workload and a negative main effect\n",
      "of job autonomy. other authors have argued that especially the combination of high job\n",
      "demands and low job control would lead to workplace bullying; an assumption that has\n",
      "not been tested so far (see, e.g., hoel et al., 2002; hubert, furda, & steensma, 2001; van\n",
      "den bossche, de jonge, & hamers, 2001).\n",
      "\n",
      "drawing on the job demand control model, we hypothesize the following: as respects\n",
      "the targets’ perspective, we expect a positive association between time 1 workload and\n",
      "being a target of workplace bullying at time 2 (hypothesis 1a) and a negative association\n",
      "between time 1 job autonomy and being a target of workplace bullying at time 2\n",
      "(hypothesis 2a). we moreover expect a significant time 1 workload–job autonomy\n",
      "interaction in relation to being a target of workplace bullying at time 2: the relationship\n",
      "between workload and being a target of workplace bullying is particularly strong under\n",
      "the condition of lower compared with higher job autonomy (hypothesis 3a). similarly,\n",
      "as respects the perpetrator’s perspective, we assume a positive relation between time\n",
      "1 workload and being a perpetrator of workplace bullying at time 2 (hypothesis 1b), a\n",
      "negative association between time 1 job autonomy and being a perpetrator of workplace\n",
      "bullying at time 2 (hypothesis 2b), and a significant interaction between time 1\n",
      "workload and job autonomy in relation to being a perpetrator of workplace bullying\n",
      "at time 2; the relationship between workload and being a perpetrator of workplace\n",
      "bullying is particularly strong under the condition of lower compared with higher job\n",
      "autonomy (hypothesis 3b).\n",
      "the main purpose of this study was to investigate workplace bullying as a social\n",
      "behavioural outcome that fits karasek’s job demand control model (karasek, 1979).\n",
      "we believe that this study contributes to the literature in three distinct ways. first, we\n",
      "integrated the job stress and the bullying research domains. second, we studied bullying\n",
      "both from the target’s and the perpetrator’s perspective: this enhances insight in the\n",
      "bullying phenomenon which to date has mostly been studied based on target’s reports\n",
      "(notelaers, einarsen, de witte, & vermunt, 2006; zapf & einarsen, 2003). third, we\n",
      "used a two-wave complete panel design which demonstrated lagged effects of workload\n",
      "and job autonomy on workplace bullying.\n",
      "\n",
      "the job demand control model was supported for being a target of workplace\n",
      "bullying: we established two main effects which is, according to de lange et al. (2003)\n",
      "a sufficient condition to support the job demand control model. time 1 workload\n",
      "associated positively and time 1 job autonomy associated negatively with being a target\n",
      "of workplace bullying at time 2 (hypotheses 1a and 2a). the analyses did not reveal a\n",
      "significant time 1 workload–job autonomy interaction in relation to being a target of\n",
      "workplace bullying (hypothesis 3a). based on our results, high workload and low job\n",
      "autonomy appear to wear out the employees’ resources, which could imply that such\n",
      "employees become ‘easy targets’ who offer little resistance against workplace bullying\n",
      "(hoel & salin, 2003).\n",
      "\n",
      "the job demand control model was supported for perpetrators’ reports of workplace\n",
      "bullying, too (de lange et al., 2003). there were no main effects (hypothesis 1b and\n",
      "2b). results did however reveal a significant time 1 workload–job autonomy interaction\n",
      "\n",
      "1results are available from the first author upon request.\n",
      "\n",
      "\n",
      "\n",
      "demands, control and workplace bullying 201\n",
      "\n",
      "in relation to being a perpetrator of workplace bullying (hypothesis 3c). as suggested in\n",
      "karasek’s job demand control model, high strain jobs combining high workload with\n",
      "low job autonomy at time 1 related with being a perpetrator at time 2. based on these\n",
      "results, (high) workload associates with being a perpetrator of workplace bullying when\n",
      "combined with low job autonomy, as in these situations the stressed employee may\n",
      "lash out at a co-worker to deal with his/her negative emotions (baillien et al., 2009;\n",
      "berkowitz, 1989; hinduja, 2007).\n",
      "\n",
      "overall, the job demand control model was thus supported for workplace bullying.\n",
      "yet, our results revealed that different processes may link workload and job autonomy\n",
      "to being a target versus perpetrator of workplace bullying: whereas workload and job\n",
      "autonomy are independently associated with being a target (i.e., two main effects), they\n",
      "only relate to being a perpetrator when ‘joining forces’. in other words, the threshold for\n",
      "being a perpetrator of workplace bullying seems to be higher than the threshold for being\n",
      "a target: the presence of low job autonomy and high workload (interaction) related to\n",
      "being a perpetrator, whereas job autonomy or workload (absence of interaction) related\n",
      "to being a target of workplace bullying. these findings refine earlier speculations that\n",
      "the processes that may lead to being a target versus perpetrator of workplace bullying\n",
      "are largely similar (baillien et al., 2009; bowling & beehr, 2006). note however that\n",
      "both being a target and perpetrator seem to be triggered by job contexts in which\n",
      "workers perceive low job autonomy. three observations further support the current\n",
      "study’s findings. first, our tests for the reversed hypotheses (zapf, dormann, et al., 1996)\n",
      "revealed no lagged effects of bullying on job characteristics, suggesting that workload\n",
      "and job autonomy were antecedents rather than consequences of bullying. second, our\n",
      "results were found with a 6-month time lag. accordingly, workload and job autonomy\n",
      "seemed to effect bullying in the short term, underlining the job demand control model’s\n",
      "added value in predicting workplace bullying. third, adding or omitting a broad range of\n",
      "control variables did not alter our results, suggesting the above-mentioned lagged effects\n",
      "to be robust and fairly consistent.\n",
      "\n",
      "an interesting observation concerned the moderate correlation between being a\n",
      "target and perpetrator of workplace bullying. first, target–perpetrator reciprocity is\n",
      "undeniably part of workplace bullying: perpetrators often see themselves as targets\n",
      "(aquino & lamertz, 2004; glomb & liao, 2003), whereas targets may engage in bullying\n",
      "towards other colleagues in an attempt to shift the perpetrator’s attention to a ‘new’\n",
      "scapegoat (thylefors, 1987). inspecting in more detail how and why being a target\n",
      "versus perpetrator of bullying are intertwined may serve as a fruitful avenue for bullying\n",
      "research. a related issue concerned the fairly strong lagged associations between being\n",
      "a target and being a perpetrator at times 1 and 2. this may indicate that bullying could\n",
      "be a predictor of future bullying (e.g., matthiesen & einarsen, 2007). additional tests in\n",
      "which we reran the regression analyses in which we (a) additionally included being a\n",
      "perpetrator at times 1 and 2 when predicting being a target at time 2 and (b) additionally\n",
      "included being a target at times 1 and 2 when predicting being a perpetrator at time 2\n",
      "did however not significantly alter our results.2\n",
      "\n",
      "our results moreover revealed interesting guidelines for practitioners who want to\n",
      "counteract bullying within their organization. from a general point of view, our study\n",
      "underlined the role of job characteristics in the emergence of workplace bullying; both\n",
      "from the perspective of the target as well as the perpetrator. specifically, based on our\n",
      "\n",
      "2results are available from the first author upon request.\n",
      "\n",
      "\n",
      "\n",
      "202 elfi baillien et al.\n",
      "\n",
      "findings, organizations aiming to prevent bullying may avoid high strain jobs (i.e., less\n",
      "perpetrators of bullying) and may invest in job designs yielding high job autonomy (i.e.,\n",
      "less targets of bullying).\n",
      "\n",
      "limitations, strengths, and future research\n",
      "we acknowledge that the current study has some drawbacks. a first concern could be\n",
      "that the present study relied on self-reports, which may have led to method variance or\n",
      "socially desirable responses. as respects method variance, we feel however confident\n",
      "that common method bias did not substantially influence our results. first, there is\n",
      "considerable debate about the magnitude of possible inflation of relationships owing\n",
      "to common method variance (spector, 1987, 2006). second, we relied on two-wave\n",
      "full panel data, which diminishes the risk for common method variance (podsakoff,\n",
      "mackenzie, lee, & podsakoff, 2003). third, we followed suggestions on questionnaire\n",
      "design which reduce potential risks associated with common method variance, such as\n",
      "anonymity and instructing the participants that there are no correct or wrong answers\n",
      "(podsakoff et al., 2003). fourth, cfa showed that workload, job autonomy, being a\n",
      "target of workplace bullying, and being a perpetrator of workplace bullying were distinct\n",
      "latent factors. and fifth, non-linear effects such as interactions are hardly attributable to\n",
      "method bias (aiken & west, 1991). to the contrary, common method variance is likely\n",
      "to attenuate rather than to strengthen interaction (wall, jackson, mullarkey, & parker,\n",
      "1996).\n",
      "\n",
      "alternatively, social desirability may have reduced the likelihood of obtaining accurate\n",
      "responses when workplace bullying, particularly bullying from the perspective of the\n",
      "perpetrator, was concerned. our findings may therefore reflect the experiences of\n",
      "a subgroup of perpetrators/targets who were willing to admit their situation. social\n",
      "desirability in this sense implies an underestimation of effects due to a lack of variance.\n",
      "in other words, relationships may become even stronger when accounting for social\n",
      "desirability. yet, to strengthen this research design, future research may benefit from\n",
      "multi-method data and objective measurements. examples are including managerial\n",
      "reports or scores from a third party (e.g., researchers). note however that assessing\n",
      "third party scores on workplace bullying without trying to counteract such behaviour\n",
      "raises ethical concerns, as workplace bullying yields many negative consequences for\n",
      "the parties involved as well as for the work unit and the organization (einarsen et al.,\n",
      "2009).\n",
      "\n",
      "another concern could be that the lagged effects between time 1 workload and job\n",
      "autonomy and time 2 bullying were rather small. the size of the effect however aligns\n",
      "with other longitudinal studies about work-related strain (zapf, dormann, et al., 1996).\n",
      "our results furthermore showed significant relationships with a fairly short time lag of\n",
      "6 months, which hints at the importance of workload and job autonomy in relation to\n",
      "workplace bullying.\n",
      "\n",
      "a third concern could be that our sample was not representative for the belgian\n",
      "working population, which is, for example, reflected in a strong dominance of white-\n",
      "collar (clerical) workers. a related issue concerns the non-response during times 1 and\n",
      "2 measurements, which may have hampered study’s generalizability to similar organi-\n",
      "zations. future research may therefore replicate our findings in more representative\n",
      "samples.\n",
      "\n",
      "besides these limitations, some particular strengths should be noted. first, our two-\n",
      "wave panel design offers several advantages compared to cross-sectional designs; the\n",
      "\n",
      "\n",
      "\n",
      "demands, control and workplace bullying 203\n",
      "\n",
      "most important one being the possibility to control for baseline effects. yet a stronger\n",
      "test, particularly when the aim is to establish causal relations, would involve a multi-\n",
      "wave study (de lange, 2005; dormann & zapf, 1999). this could be a challenge for\n",
      "future studies.\n",
      "\n",
      "second, we introduced the job demand control model as one of the most well-\n",
      "known theoretical frameworks in work and organizational psychology in the domain\n",
      "of workplace bullying; a domain in which studies have quickly proliferated but that is\n",
      "still mainly descriptive and atheoretical. the jd-c model is an appealing model given its\n",
      "conciseness and validity in explaining a broad range of strain-related outcomes. future\n",
      "studies may want to add to the present research by introducing more job characteristics,\n",
      "for example, as outlined in the job demands resources model (demerouti, bakker,\n",
      "nachreiner, & schaufeli, 2001). more specifically, and related to our findings, research\n",
      "may explore associations between various job demands and bullying perpetration under\n",
      "conditions of high and low job autonomy, or even in case of low strain jobs (i.e., low\n",
      "workload and high job autonomy).\n",
      "\n",
      "third, our time lag was inspired by calls advanced in longitudinal stress research that\n",
      "highlighted the need for more cross-lagged studies with time lags shorter than 1 year\n",
      "(e.g., de lange et al., 2004). applying the rather short temporal lag of 6 months then\n",
      "allowed us to investigate whether workplace bullying appeared as a short-term effect of\n",
      "workload and job autonomy. future research may however benefit from replicating our\n",
      "findings in studies applying longer time lags, as to date little is known about the ‘causal\n",
      "interval’ of the workplace bullying process (de lange et al., 2003).\n",
      "\n",
      "concluding remarks\n",
      "the current study’s implications are threefold. first, our results underlined workplace\n",
      "bullying as a valuable social and behavioural outcome of karasek’s job demand control\n",
      "model, expanding research in the realm of the job demand control model as well as\n",
      "stress research in general to a broader range of behavioural outcomes (for a discussion,\n",
      "see cooper, dewe, & o’driscoll, 2001). second, the study enhanced insight in the\n",
      "workplace bullying phenomenon by applying a well-known theoretical framework\n",
      "and giving a particular strong indication of workload and job autonomy as important\n",
      "antecedents for targets as well as perpetrators. moreover, the lagged associations\n",
      "between poor job characteristics and workplace bullying further supported the work\n",
      "environment hypothesis. third, our findings suggest valuable leads for organizations that\n",
      "wish to pursue a policy against workplace bullying. specifically, our results stressed the\n",
      "importance of job characteristics (i.e., workload and job autonomy) as precursors of\n",
      "bullying: organizations should avoid and counteract high strain jobs, and invest in job\n",
      "autonomy.\n",
      "\n",
      "acknowledgements\n",
      "the first author was supported by a grand from the fwo (fonds wetenschappelijk\n",
      "onderzoek – vlaanderen). the second author was supported by a grant from the fwo\n",
      "(fonds wetenschappelijk onderzoek – vlaanderen) for post-doctoral fellows. the authors\n",
      "would like to thank dr anja vandenbroeck for valuable comments on an earlier version of\n",
      "this manuscript.\n",
      "\n",
      "\n",
      "\n",
      "204 elfi baillien et al.\n",
      "\n",
      "--**************************************-\n",
      "-**************************************--\n",
      "-**************************************--\n"
     ]
    }
   ],
   "source": [
    "# testing it works\n",
    "ref_doc = 20\n",
    "print(pdf_remove_step4[ref_doc])\n",
    "print('--**************************************-')\n",
    "print('-**************************************--')\n",
    "print('-**************************************--')\n",
    "# print(pdf_remove_step4[ref_doc])"
   ]
  },
  {
   "cell_type": "code",
   "execution_count": 17,
   "metadata": {},
   "outputs": [],
   "source": [
    "# remove journal title here?\n",
    "pdf_p = [re.sub('journal of management', '', t) for t in pdf_remove_step4]\n",
    "pdf_p = [re.sub('et al.', '', t) for t in pdf_p]\n",
    "pdf_p = [re.sub('e.g.', '', t) for t in pdf_p] \n",
    "pdf_p = [re.sub('e-mail:', '', t) for t in pdf_p] \n",
    "# CHECK ORDER OF OPERATIONS BELOW:\n",
    "#remove email address <-- IMPROVED, BUT E-MAIL SEEMS TO BE BROKEN UP, BUT STILL PRESENT IN DOCUMENTS AT TIMES         \n",
    "pdf_p = [re.sub(r'[\\w\\.\\-]+@[\\w\\.\\-]+\\.(?:com|net|org|live|edu)', \"\", t) for t in pdf_p]"
   ]
  },
  {
   "cell_type": "code",
   "execution_count": 18,
   "metadata": {},
   "outputs": [],
   "source": [
    "pdf_p = [re.sub( r'https?://[^\\s<>\"]+|www\\.[^\\s<>\"]+', \"\", t) for t in pdf_p]\n",
    "pdf_p = [re.sub(\"[\\S\\.\\-\\?\\!\\=]+\\.(net|com|org|info|edu|gov|uk|de|ca|jp|fr|au|us|ru|ch|it|nel|se|no|es|mil)(/[\\S\\.\\-\\?\\!\\=]*)?\\s?\", \" \", t) for t in pdf_p]"
   ]
  },
  {
   "cell_type": "code",
   "execution_count": 19,
   "metadata": {},
   "outputs": [
    {
     "data": {
      "text/plain": [
       "\"\\n\\n\\n\\n\\n\\n\\n\\n\\n\\n\\n\\n\\n\\n\\n\\n\\n\\n\\n\\n\\n\\n\\n\\n\\n\\n\\n\\n\\n\\n\\n\\n\\n\\n\\n\\n\\n\\n\\n\\n\\n\\n\\n\\n\\n\\n\\n\\n\\n\\n\\njob autonomy and workload as antecedents of workplace bullying: a two‐wave test of karasek's job demand control model for targets and perpetrators\\n\\n\\n191\\n\\njournal of occupational and organizational psychology (2011), 84, 191–208\\nc© 2010 the british psychological society\\n\\nthe\\nbritish\\npsychological\\nsociety\\n\\n\\n\\njob autonomy and workload as antecedents of\\nworkplace bullying: a two-wave test of karasek’s\\njob demand control model for targets and\\nperpetrators\\n\\nelfi baillien∗, nele de cuyper and hans de witte\\nkatholieke universiteit leuven, bum\\n\\nthe current study aims to test the hypotheses that are central to karasek’s job demand\\ncontrol model in relation to workplace bullying. particular contributions are, first,\\nthe focus upon both targets and perpetrators of workplace bullying, and second, the\\ntwo-wave design with a 6-month time lag. we assume that (a) workload at time 1\\nassociates positively with being a target/perpetrator at time 2, (b) job autonomy at\\ntime 1 associates negatively with being a target/perpetrator at time 2, and (c) the\\npositive relationship between workload at time 1 and being a target/perpetrator at\\ntime 2 is stronger under the condition of low (vs. high) job autonomy at time 1 (i.e.,\\ninteraction between workload and job autonomy). moderated hierarchical regression\\nanalyses (n = 320) revealed lagged main effects for being a target, and interaction effects\\nfor being a perpetrator. in particular, time 1 workload was positively and time 1 job\\nautonomy negatively associated with being a target at time 2. job autonomy at time 1\\nreduced the positive relationship between workload at time 1 and being a perpetrator\\nat time 2. overall, our results suggest that high strain jobs relate to both being a target\\nand to being perpetrator of workplace bullying, yet through different processes: main\\neffects and interactions, respectively.\\n\\nsince the 1980s up to now, many scholars have sought to apply karasek’s job demand\\ncontrol model (karasek, 1979) to a wide variety of stress reactions, mostly indicators\\nof poor physical health or general and job-related ill-being. seemingly missing in this\\nstream of research are social behavioural outcomes that signal a stress response, such\\nas workplace bullying (baillien, neyens, de witte, & de cuyper, 2009; einarsen, 2000).\\naccording to leading experts in the workplace bullying field (einarsen, raknes, &\\nmatthiesen, 1994; hoel, zapf, & cooper, 2002), workplace bullying is however a relevant\\noutcome in the context of the job demand control model. therefore, our aim is to test\\nthe hypotheses that are central to the job demand control model in relation to workplace\\n\\n∗correspondence should be addressed to elfi baillien, research group work, organizational and personnel psychology,\\ndepartment of psychology, katholieke universiteit leuven, tiensestraat 102, box 3725, 3000 leuven, bum\\n( elfi.baillien@psy.kuleuven.be).\\n\\ndoi:10.1348/096317910x508371\\n\\n\\n\\n192 elfi baillien \\n\\nbullying. particular strhs are that we investigate bullying both from the viewpoint\\nof targets and perpetrators and that we use a two-wave design and lagged analyses (de\\nlange, 2005; singer & willet, 2003).\\n\\nkarasek’s job demand control model\\nmost studies in the tradition of the job demand control model have concerned\\nquantitative job demands and job autonomy in relation to strain. quantitative job\\ndemands typically refer to the combination of work quantity and work pace (i.e.,\\n‘workload’; karasek, 1985). job autonomy refers to the employee’s ability or freedom\\nto make decisions about his or her work activities (de jonge & kompier, 1997; de\\nwitte, verhofstadt, & omey, 2007). whereas workload is generally thought to induce\\nstrain, job autonomy is assumed to decrease strain (karasek, 1979), evidence for which\\nis abundant (häusser, mojzisch, niesel, & schulz-hardt, 2010). consequently, jobs that\\ncombine relatively high levels of workload and low levels of job autonomy are referred\\nto as ‘high strain jobs’. conversely, jobs with a relatively low workload and high job\\nautonomy are ‘low strain jobs’.\\n\\nkarasek’s job demand control model typically builds upon three hypotheses: (a)\\nworkload relates positively to strain (main effect workload), (b) job autonomy relates\\nnegatively to strain (main effect job autonomy), and (c) workload and job autonomy\\ninteract in a synstic way. the model’s interaction hypothesis is sometimes formulated\\nas a ‘buffer effect’ in which the negative effect of workload is buffered by job autonomy:\\nthe positive relationship between workload and strain is less strong with increasing job\\nautonomy. the assumed main effects have found support in both cross-sectional (van\\nder doef & maes, 1999) and longitudinal studies (de lange, taris, kompier, houtman,\\n& bongers, 2003; häusser , 2010; ter doest & de jonge, 2006). support for\\nthe interaction hypothesis is less consistent; particularly when using (overly) general\\noperationalizations of job demands and job control (, broader than workload and\\njob autonomy) and in longitudinal designs (de jonge, van vegchel, shimazu, shaufeli, &\\ndormann, in press; häusser , 2010). recently, however, de lange  (2003) have\\nargued that thneral idea of the job demand control model finds support when there\\nare main effects of workload and job autonomy, and/or a synstic interaction effect;\\na viewpoint that we tend to share.\\n\\nto date, karasek’s job demand control model has been applied to a diverse set\\nof well-being and health variables. examples are physical health (, coronary heart\\ndisease and muscle tension; kristensen, 1995; schnall, landsbs, & bakker, 1994),\\ngeneral well-being (, anxiety and depression; van der doef & maes, 1999), job-related\\nwell-being (, job satisfaction, sickness absence, and burnout; see de jonge, le blanc,\\nschaufeli, & van der linden, 1998; humphris & peacock, 1992; smulders & nijhuis,\\n1999). in contrast, behavioural outcomes have attracted relatively little attention. so far,\\nthe job demand control model has been applied to work-related outcomes (, work\\nperformance; sargent & terry, 2000), health-related behaviour (, smoking; otten,\\nbosma, & swinkels, 1999) or organizational outcomes (, turnover; verhofstadt, de\\nwitte, & omey, 2009). still missing in this list is a focus upon social behaviour, for\\nexample in the form of workplace bullying.\\n\\nworkplace bullying\\n‘workplace bullying’ has been labelled ‘mobbing’ (matthiesen, raknes, & rökkum,\\n1989), ‘harassment’ (brodsky, 1976), and ‘emotional abuse in the workplace’ (keashly,\\n\\n\\n\\ndemands, control and workplace bullying 193\\n\\n1998). these terms all refer to a situation in which a broad range of negative acts\\nare systematically directed to one or more employees. the current study aligns with\\nthe european perspective (einarsen & raknes, 1997) in which (1) workplace bullying\\ncontains persistent (i.e., minimum 6 months) negative behaviour at work; and (2) the\\nnegative acts are mainly psychological in nature. workplace bullying may concern\\npersonal issues (, insulting and humiliating acts) as well as work-related issues\\n(, withholding documentation) and social isolation (cowie, naylor, rivers, smith, &\\npereira, 2002). workplace bullying is by definition long-standing and typically includes\\nthe accumulation of many ‘minor negative acts’, leading to a pattern of systematic\\nmaltreatment (salin, 2008). it stigmatizes the target, so that he/she obtains an inferior\\nposition (einarsen & skogstad, 1996; zapf & gross, 2001): the target often feels helpless\\nto defend him- or herself against the negative acts (einarsen , 1994; leymann, 1996).\\nunlike most north american scholars (see, , aquino & thau, 2009), we follow the\\ntradition set by leymann (1996; see, , einarsen, matthiesen, & hauge, 2009; zapf &\\neinarsen, 2003) that intent is not a defining characteristic of workplace bullying.\\n\\nstudies in the realm of bullying research about antecedents have mostly been inspired\\nby the ‘work environment hypothesis’ (einarsen, 2000; leymann, 1996). this hypothesis\\nrefers to the widely accepted assumption that workplace bullying can be attributed to\\na stressful work environment. studies in this area are however bound to theoretical and\\nmethodological constraints. as respects theory, most studies to date have remained rather\\ndescriptive or explorative. they have produced a broad list of potential antecedents,\\nsuch as role conflict (, hauge, skogstad, & einarsen, 2007), job insecurity (, de\\ncuyper, baillien, & de witte, 2009), social support (, notelaers, de witte, & einarsen,\\nin press), and various leadership styles (, hoel, glaso, hetland, cooper, & einarsen,\\nin press). they have moreover inspired the development of various new and specific\\nbullying models. the problem with these models is that they are either fairly complex\\nor general, but in either case difficult to test empirically, due to an exhaustive list of\\nincluded antecedents (, anderson, anderson, & deuser, 1996) or a lack of clear-cut\\ndefinitions of the antecedents (, zapf & einarsen, 2003). in addition, most studies have\\nbeen focused upon being a target of bullying (zapf & einarsen, 2003). little is known\\nabout work environmental factors that may trigger bullying enactment by perpetrators.\\nthis leaves the assumption advanced by baillien  (2009) or bowling and beehr\\n(2006) that the processes leading to bullying may be similar for targets and perpetrators\\nspeculative. as respects methods, a particular concern is that most studies to date are\\nbased on cross-sectional designs. hence, they can only draw very weak conclusions\\nregarding causality or lagged effects as a first indicator of causality. altogether, this led\\nus to conclude that the work environment hypothesis needs stronger empirical evidence\\n(for a discussion, see einarsen , 2009).\\n\\nagainst this backdrop, the current study’s aims and associated contributions are three-\\nfold. first, we apply insights from the job demand control model to the bullying domain.\\nsecond, we evaluate the extent to which similar processes underlie workplace bulling\\nfrom the perspective of the target or the perpetrator of bullying. third, we investigate\\nlagged effects of workload and job autonomy on workplace bullying through the adop-\\ntion of a two-wave design and lagged analyses (de lange, 2005; singer & willet, 2003).\\n\\nthe job demand control model and workplace bullying\\nwe see two reasons to integrate the workplace bullying and the job demand control\\nmodel literature. first, workplace bullying has been associated with strain, which is\\n\\n\\n\\n194 elfi baillien \\n\\nalso a critical outcome in the job demand control model. in this respect, baillien\\n (2009) developed an incident-based model in which job characteristics (, high\\nworkload and low job autonomy) were thought to increase work-related strain, which,\\nin turn, was related to workplace bullying. from the target’s perspective in particular,\\nthe process may be as follows: exposure to poor job characteristics may trigger feelings\\nof helplessness among a specific worker. these feelings may lead him or her to violate\\nwork-related habits and expectations. the response from co-workers may take the form\\nof negative reactions which then lead to personal conflicts so that the worker ultimately\\nbecomes a target of bullying (see also felson & tedeschi, 1993; neuman & baron, 1998).\\nsimilarly, poor job characteristics may wear out the employee’s resources. he or she\\nthen becomes an ‘easy target’ who offers little resistance against workplace bullying\\n(hoel & salin, 2003). from the perpetrator’s perspective, poor job characteristics may\\ntrigger negative affects and tension which may be relieved by directing negative acts\\ntowards a co-worker. a similar process has been described in the revised frustration\\naggression theory (berkowitz, 1989) and general strain theory (hinduja, 2007).\\n\\nsecond, workload and job autonomy have been related to being a target of workplace\\nbullying in a way that aligns with assumptions made in karasek’s job demand control\\nmodel. some authors have related workload and job autonomy to workplace bullying\\n(agervold & mikkelsen, 2004; appelb romanov, honlasalo, & koskenvuo, 1991;\\neinarsen , 1994; neyens, baillien, notelaers, & de witte, 2007; zapf, knorz, &\\nkulla, 1996): they suggest a positive main effects of workload and a negative main effect\\nof job autonomy. other authors have argued that especially the combination of high job\\ndemands and low job control would lead to workplace bullying; an assumption that has\\nnot been tested so far (see, , hoel , 2002; hubert, furda, & steensma, 2001; van\\nden bossche, de jonge, & hamers, 2001).\\n\\ndrawing on the job demand control model, we hypothesize the following: as respects\\nthe targets’ perspective, we expect a positive association between time 1 workload and\\nbeing a target of workplace bullying at time 2 (hypothesis 1a) and a negative association\\nbetween time 1 job autonomy and being a target of workplace bullying at time 2\\n(hypothesis 2a). we moreover expect a significant time 1 workload–job autonomy\\ninteraction in relation to being a target of workplace bullying at time 2: the relationship\\nbetween workload and being a target of workplace bullying is particularly strong under\\nthe condition of lower compared with higher job autonomy (hypothesis 3a). similarly,\\nas respects the perpetrator’s perspective, we assume a positive relation between time\\n1 workload and being a perpetrator of workplace bullying at time 2 (hypothesis 1b), a\\nnegative association between time 1 job autonomy and being a perpetrator of workplace\\nbullying at time 2 (hypothesis 2b), and a significant interaction between time 1\\nworkload and job autonomy in relation to being a perpetrator of workplace bullying\\nat time 2; the relationship between workload and being a perpetrator of workplace\\nbullying is particularly strong under the condition of lower compared with higher job\\nautonomy (hypothesis 3b).\\nthe main purpose of this study was to investigate workplace bullying as a social\\nbehavioural outcome that fits karasek’s job demand control model (karasek, 1979).\\nwe believe that this study contributes to the literature in three distinct ways. first, we\\nintegrated the job stress and the bullying research domains. second, we studied bullying\\nboth from the target’s and the perpetrator’s perspective: this enhances insight in the\\nbullying phenomenon which to date has mostly been studied based on target’s reports\\n(notelaers, einarsen, de witte, & vermunt, 2006; zapf & einarsen, 2003). third, we\\nused a two-wave complete panel design which demonstrated lagged effects of workload\\nand job autonomy on workplace bullying.\\n\\nthe job demand control model was supported for being a target of workplace\\nbullying: we established two main effects which is, according to de lange  (2003)\\na sufficient condition to support the job demand control model. time 1 workload\\nassociated positively and time 1 job autonomy associated negatively with being a target\\nof workplace bullying at time 2 (hypotheses 1a and 2a). the analyses did not reveal a\\nsignificant time 1 workload–job autonomy interaction in relation to being a target of\\nworkplace bullying (hypothesis 3a). based on our results, high workload and low job\\nautonomy appear to wear out the employees’ resources, which could imply that such\\nemployees become ‘easy targets’ who offer little resistance against workplace bullying\\n(hoel & salin, 2003).\\n\\nthe job demand control model was supported for perpetrators’ reports of workplace\\nbullying, too (de lange , 2003). there were no main effects (hypothesis 1b and\\n2b). results did however reveal a significant time 1 workload–job autonomy interaction\\n\\n1results are available from the first author upon request.\\n\\n\\n\\ndemands, control and workplace bullying 201\\n\\nin relation to being a perpetrator of workplace bullying (hypothesis 3c). as suggested in\\nkarasek’s job demand control model, high strain jobs combining high workload with\\nlow job autonomy at time 1 related with being a perpetrator at time 2. based on these\\nresults, (high) workload associates with being a perpetrator of workplace bullying when\\ncombined with low job autonomy, as in these situations the stressed employee may\\nlash out at a co-worker to deal with his/her negative emotions (baillien , 2009;\\nberkowitz, 1989; hinduja, 2007).\\n\\noverall, the job demand control model was thus supported for workplace bullying.\\nyet, our results revealed that different processes may link workload and job autonomy\\nto being a target versus perpetrator of workplace bullying: whereas workload and job\\nautonomy are independently associated with being a target (i.e., two main effects), they\\nonly relate to being a perpetrator when ‘joining forces’. in other words, the threshold for\\nbeing a perpetrator of workplace bullying seems to be higher than the threshold for being\\na target: the presence of low job autonomy and high workload (interaction) related to\\nbeing a perpetrator, whereas job autonomy or workload (absence of interaction) related\\nto being a target of workplace bullying. these findings refine earlier speculations that\\nthe processes that may lead to being a target versus perpetrator of workplace bullying\\nare largely similar (baillien , 2009; bowling & beehr, 2006). note however that\\nboth being a target and perpetrator seem to be triggered by job contexts in which\\nworkers perceive low job autonomy. three observations further support the current\\nstudy’s findings. first, our tests for the reversed hypotheses (zapf, dormann, , 1996)\\nrevealed no lagged effects of bullying on job characteristics, suggesting that workload\\nand job autonomy were antecedents rather than consequences of bullying. second, our\\nresults were found with a 6-month time lag. accordingly, workload and job autonomy\\nseemed to effect bullying in the short term, underlining the job demand control model’s\\nadded value in predicting workplace bullying. third, adding or omitting a broad range of\\ncontrol variables did not alter our results, suggesting the above-mentioned lagged effects\\nto be robust and fairly consistent.\\n\\nan interesting observation concerned the moderate correlation between being a\\ntarget and perpetrator of workplace bullying. first, target–perpetrator reciprocity is\\nundeniably part of workplace bullying: perpetrators often see themselves as targets\\n(aquino & lamertz, 2004; glomb & liao, 2003), whereas targets may ge in bullying\\ntowards other colles in an attempt to shift the perpetrator’s attention to a ‘new’\\nscapegoat (thylefors, 1987). inspecting in more detail how and why being a target\\nversus perpetrator of bullying are intertwined may serve as a fruitful avenue for bullying\\nresearch. a related issue concerned the fairly strong lagged associations between being\\na target and being a perpetrator at times 1 and 2. this may indicate that bullying could\\nbe a predictor of future bullying (, matthiesen & einarsen, 2007). additional tests in\\nwhich we reran the regression analyses in which we (a) additionally included being a\\nperpetrator at times 1 and 2 when predicting being a target at time 2 and (b) additionally\\nincluded being a target at times 1 and 2 when predicting being a perpetrator at time 2\\ndid however not significantly alter our results.2\\n\\nour results moreover revealed interesting guidelines for practitioners who want to\\ncounteract bullying within their organization. from a general point of view, our study\\nunderlined the role of job characteristics in the emnce of workplace bullying; both\\nfrom the perspective of the target as well as the perpetrator. specifically, based on our\\n\\n2results are available from the first author upon request.\\n\\n\\n\\n202 elfi baillien \\n\\nfindings, organizations aiming to prevent bullying may avoid high strain jobs (i.e., less\\nperpetrators of bullying) and may invest in job designs yielding high job autonomy (i.e.,\\nless targets of bullying).\\n\\nlimitations, strhs, and future research\\nwe acknowl that the current study has some drawbacks. a first concern could be\\nthat the present study relied on self-reports, which may have led to method variance or\\nsocially desirable responses. as respects method variance, we feel however confident\\nthat common method bias did not substantially influence our results. first, there is\\nconsiderable debate about the magnitude of possible inflation of relationships owing\\nto common method variance (spector, 1987, 2006). second, we relied on two-wave\\nfull panel data, which diminishes the risk for common method variance (podsakoff,\\nmackenzie, lee, & podsakoff, 2003). third, we followed suggestions on questionnaire\\ndesign which reduce potential risks associated with common method variance, such as\\nanonymity and instructing the participants that there are no correct or wrong answers\\n(podsakoff , 2003). fourth, cfa showed that workload, job autonomy, being a\\ntarget of workplace bullying, and being a perpetrator of workplace bullying were distinct\\nlatent factors. and fifth, non-linear effects such as interactions are hardly attributable to\\nmethod bias (aiken & west, 1991). to the contrary, common method variance is likely\\nto attenuate rather than to strhen interaction (wall, jackson, mullarkey, & parker,\\n1996).\\n\\nalternatively, social desirability may have reduced the likelihood of obtaining accurate\\nresponses when workplace bullying, particularly bullying from the perspective of the\\nperpetrator, was concerned. our findings may therefore reflect the experiences of\\na subgroup of perpetrators/targets who were willing to admit their situation. social\\ndesirability in this sense implies an underestimation of effects due to a lack of variance.\\nin other words, relationships may become even stronger when accounting for social\\ndesirability. yet, to strhen this research design, future research may benefit from\\nmulti-method data and objective measurements. examples are including managerial\\nreports or scores from a third party (, researchers). note however that assessing\\nthird party scores on workplace bullying without trying to counteract such behaviour\\nraises ethical concerns, as workplace bullying yields many negative consequences for\\nthe parties involved as well as for the work unit and the organization (einarsen ,\\n2009).\\n\\nanother concern could be that the lagged effects between time 1 workload and job\\nautonomy and time 2 bullying were rather small. the size of the effect however aligns\\nwith other longitudinal studies about work-related strain (zapf, dormann, , 1996).\\nour results furthermore showed significant relationships with a fairly short time lag of\\n6 months, which hints at the importance of workload and job autonomy in relation to\\nworkplace bullying.\\n\\na third concern could be that our sample was not representative for the ban\\nworking population, which is, for example, reflected in a strong dominance of white-\\ncollar (clerical) workers. a related issue concerns the non-response during times 1 and\\n2 measurements, which may have hampered study’s generalizability to similar organi-\\nzations. future research may therefore replicate our findings in more representative\\nsamples.\\n\\nbesides these limitations, some particular strhs should be noted. first, our two-\\nwave panel design offers several advantages compared to cross-sectional designs; the\\n\\n\\n\\ndemands, control and workplace bullying 203\\n\\nmost important one being the possibility to control for baseline effects. yet a stronger\\ntest, particularly when the aim is to establish causal relations, would involve a multi-\\nwave study (de lange, 2005; dormann & zapf, 1999). this could be a chall for\\nfuture studies.\\n\\nsecond, we introduced the job demand control model as one of the most well-\\nknown theoretical frameworks in work and organizational psychology in the domain\\nof workplace bullying; a domain in which studies have quickly proliferated but that is\\nstill mainly descriptive and atheoretical. the jd-c model is an appealing model given its\\nconciseness and validity in explaining a broad range of strain-related outcomes. future\\nstudies may want to add to the present research by introducing more job characteristics,\\nfor example, as outlined in the job demands resources model (demerouti, bakker,\\nnachreiner, & schaufeli, 2001). more specifically, and related to our findings, research\\nmay explore associations between various job demands and bullying perpetration under\\nconditions of high and low job autonomy, or even in case of low strain jobs (i.e., low\\nworkload and high job autonomy).\\n\\nthird, our time lag was inspired by calls advanced in longitudinal stress research that\\nhighlighted the need for more cross-lagged studies with time lags shorter than 1 year\\n(, de lange , 2004). applying the rather short temporal lag of 6 months then\\nallowed us to investigate whether workplace bullying appeared as a short-term effect of\\nworkload and job autonomy. future research may however benefit from replicating our\\nfindings in studies applying longer time lags, as to date little is known about the ‘causal\\ninterval’ of the workplace bullying process (de lange , 2003).\\n\\nconcluding remarks\\nthe current study’s implications are threefold. first, our results underlined workplace\\nbullying as a valuable social and behavioural outcome of karasek’s job demand control\\nmodel, expanding research in the realm of the job demand control model as well as\\nstress research in general to a broader range of behavioural outcomes (for a discussion,\\nsee cooper, dewe, & o’driscoll, 2001). second, the study enhanced insight in the\\nworkplace bullying phenomenon by applying a well-known theoretical framework\\nand giving a particular strong indication of workload and job autonomy as important\\nantecedents for targets as well as perpetrators. moreover, the lagged associations\\nbetween poor job characteristics and workplace bullying further supported the work\\nenvironment hypothesis. third, our findings suggest valuable leads for organizations that\\nwish to pursue a policy against workplace bullying. specifically, our results stressed the\\nimportance of job characteristics (i.e., workload and job autonomy) as precursors of\\nbullying: organizations should avoid and counteract high strain jobs, and invest in job\\nautonomy.\\n\\nacknowlments\\nthe first author was supported by a grand from the fwo (fonds wetenschappelijk\\nonderzoek – vlaanderen). the second author was supported by a grant from the fwo\\n(fonds wetenschappelijk onderzoek – vlaanderen) for post-doctoral fellows. the authors\\nwould like to thank dr anja vandenbroeck for valuable comments on an earlier version of\\nthis manuscript.\\n\\n\\n\\n204 elfi baillien \\n\""
      ]
     },
     "execution_count": 19,
     "metadata": {},
     "output_type": "execute_result"
    }
   ],
   "source": [
    "pdf_p[20]"
   ]
  },
  {
   "cell_type": "code",
   "execution_count": 20,
   "metadata": {},
   "outputs": [],
   "source": [
    "#remove hyphon only if it is at the end of the line.\n",
    "#pdf_p = [re.sub(r'(\\W[a-z]+)-\\n(\\W[a-z]+)', r'\\1\\2', t) for t in pdf_p]\n",
    "pdf_p = [re.sub(r'-\\n', '', t) for t in pdf_p]"
   ]
  },
  {
   "cell_type": "code",
   "execution_count": 21,
   "metadata": {},
   "outputs": [],
   "source": [
    "#remove text within ()\n",
    "pdf_p = [re.sub(r\"\\([^)]*\\)\", \"\", t) for t in pdf_p]\n",
    "# remove text with [] eg citation\n",
    "pdf_p = [re.sub(r\"\\[[^)]*\\]\", \"\", t) for t in pdf_p]\n",
    "#Remove numbers\n",
    "pdf_p = [re.sub('[0-9]+', '', f) for f in pdf_p]\n"
   ]
  },
  {
   "cell_type": "code",
   "execution_count": 22,
   "metadata": {},
   "outputs": [],
   "source": [
    "pdf_p = [re.sub('[\\n\\r]+', ' ', f) for f in pdf_p] # remove newline and linebreak characters, replace with space\n",
    "pdf_p = [re.sub('[@/%#$,=\\+:’“”]', ' ', f) for f in pdf_p] # remove stray non-word characters"
   ]
  },
  {
   "cell_type": "code",
   "execution_count": 23,
   "metadata": {},
   "outputs": [],
   "source": [
    "#pdf_p = [re.sub(r\"\\s\\([A-Z][a-z]+,\\s[A-Z][a-z]?\\.[^\\)]*,\\s\\d{4}\\)\", \"\", f) for f in pdf_p] # is this supposed to filter out citations?\n",
    "\n",
    "# save all periods, exclamation marks and question marks, but get rid of unnecessary characters\n",
    "pdf_p = [re.sub('[\\.!?]+ ', 'XYZXYZ', t) for t in pdf_p]\n",
    "pdf_p = [re.sub('-', 'ZYXXYZ', t) for t in pdf_p]\n",
    "pdf_p = [re.sub('[\\W_]+', ' ', f) for f in pdf_p]\n",
    "pdf_p = [re.sub('XYZXYZ', '. ', f) for f in pdf_p]\n",
    "pdf_p = [re.sub('ZYXXYZ', '-', f) for f in pdf_p]\n",
    "#pdf_p[0]\n",
    "\n",
    "#Remove placeholder x repetitions\n",
    "pdf_p = [re.sub(' x+ ', '', f) for f in pdf_p]\n",
    "\n",
    "# remove single characters\n",
    "pdf_p = [re.sub(' [a-z] ' ,  ' ', f) for f in pdf_p]\n",
    "pdf_p = [re.sub(' [a-z]\\.', '.', f) for f in pdf_p]\n",
    "pdf_p = [re.sub(' \\.', '.', f) for f in pdf_p]"
   ]
  },
  {
   "cell_type": "code",
   "execution_count": 24,
   "metadata": {},
   "outputs": [
    {
     "name": "stdout",
     "output_type": "stream",
     "text": [
      " job autonomy and workload as antecedents of workplace bullying two wave test of karasek job demand control model for targets and perpetrators journal of occupational and organizational psychology the british psychological society the british psychological society job autonomy and workload as antecedents of workplace bullying two-wave test of karasek job demand control model for targets and perpetrators elfi baillien nele de cuyper and hans de witte katholieke universiteit leuven bum the current study aims to test the hypotheses that are central to karasek job demand control model in relation to workplace bullying. particular contributions are first the focus upon both targets and perpetrators of workplace bullying and second the two-wave design with -month time lag. we assume that workload at time associates positively with being target perpetrator at time job autonomy at time associates negatively with being target perpetrator at time and the positive relationship between workload at time and being target perpetrator at time is stronger under the condition of low job autonomy at time. moderated hierarchical regression analyses revealed lagged main effects for being target and interaction effects for being perpetrator. in particular time workload was positively and time job autonomy negatively associated with being target at time. job autonomy at time reduced the positive relationship between workload at time and being perpetrator at time. overall our results suggest that high strain jobs relate to both being target and to being perpetrator of workplace bullying yet through different processes main effects and interactions respectively. since the up to now many scholars have sought to apply karasek job demand control model to wide variety of stress reactions mostly indicators of poor physical health or general and job-related ill-being. seemingly missing in this stream of research are social behavioural outcomes that signal stress response such as workplace bullying. according to leading experts in the workplace bullying field workplace bullying is however relevant outcome in the context of the job demand control model. therefore our aim is to test the hypotheses that are central to the job demand control model in relation to workplace correspondence should be addressed to elfi baillien research group work organizational and personnel psychology department of psychology katholieke universiteit leuven tiensestraat box leuven bum. doi.elfi baillien bullying. particular strhs are that we investigate bullying both from the viewpoint of targets and perpetrators and that we use two-wave design and lagged analyses. karasek job demand control model most studies in the tradition of the job demand control model have concerned quantitative job demands and job autonomy in relation to strain. quantitative job demands typically refer to the combination of work quantity and work pace. job autonomy refers to the employee ability or freedom to make decisions about his or her work activities. whereas workload is generally thought to induce strain job autonomy is assumed to decrease strain evidence for which is abundant. consequently jobs that combine relatively high levels of workload and low levels of job autonomy are referred to as high strain jobs. conversely jobs with relatively low workload and high job autonomy are low strain jobs. karasek job demand control model typically builds upon three hypotheses workload relates positively to strain job autonomy relates negatively to strain and workload and job autonomy interact in synstic way. the model interaction hypothesis is sometimes formulated as buffer effect in which the negative effect of workload is buffered by job autonomy the positive relationship between workload and strain is less strong with increasing job autonomy. the assumed main effects have found support in both cross-sectional and longitudinal studies. support for the interaction hypothesis is less consistent particularly when using general operationalizations of job demands and job control and in longitudinal designs. recently however de lange have argued that thneral idea of the job demand control model finds support when there are main effects of workload and job autonomy and or synstic interaction effect viewpoint that we tend to share. to date karasek job demand control model has been applied to diverse set of well-being and health variables. examples are physical health general well-being job-related well-being. in contrast behavioural outcomes have attracted relatively little attention. so far the job demand control model has been applied to work-related outcomes health-related behaviour or organizational outcomes. still missing in this list is focus upon social behaviour for example in the form of workplace bullying. workplace bullying workplace bullying has been labelled mobbing harassment and emotional abuse in the workplace. these terms all refer to situation in which broad range of negative acts are systematically directed to one or more employees. the current study aligns with the european perspective in which workplace bullying contains persistent negative behaviour at work and the negative acts are mainly psychological in nature. workplace bullying may concern personal issues as well as work-related issues and social isolation. workplace bullying is by definition long-standing and typically includes the accumulation of many minor negative acts leading to pattern of systematic maltreatment. it stigmatizes the target so that he she obtains an inferior position the target often feels helpless to defend him- or herself against the negative acts. unlike most north american scholars we follow the tradition set by leymann that intent is not defining characteristic of workplace bullying. studies in the realm of bullying research about antecedents have mostly been inspired by the work environment hypothesis. this hypothesis refers to the widely accepted assumption that workplace bullying can be attributed to stressful work environment. studies in this area are however bound to theoretical and methodological constraints. as respects theory most studies to date have remained rather descriptive or explorative. they have produced broad list of potential antecedents such as role conflict job insecurity social support and various leadership styles. they have moreover inspired the development of various new and specific bullying models. the problem with these models is that they are either fairly complex or general but in either case difficult to test empirically due to an exhaustive list of included antecedents or lack of clear-cut definitions of the antecedents. in addition most studies have been focused upon being target of bullying. little is known about work environmental factors that may trigger bullying enactment by perpetrators. this leaves the assumption advanced by baillien or bowling and beehr that the processes leading to bullying may be similar for targets and perpetrators speculative. as respects methods particular concern is that most studies to date are based on cross-sectional designs. hence they can only draw very weak conclusions regarding causality or lagged effects as first indicator of causality. altogether this led us to conclude that the work environment hypothesis needs stronger empirical evidence. against this backdrop the current study aims and associated contributions are threefold. first we apply insights from the job demand control model to the bullying domain. second we evaluate the extent to which similar processes underlie workplace bulling from the perspective of the target or the perpetrator of bullying. third we investigate lagged effects of workload and job autonomy on workplace bullying through the adoption of two-wave design and lagged analyses. the job demand control model and workplace bullying we see two reasons to integrate the workplace bullying and the job demand control model literature. first workplace bullying has been associated with strain which is elfi baillien also critical outcome in the job demand control model. in this respect baillien developed an incident-based model in which job characteristics were thought to increase work-related strain which in turn was related to workplace bullying. from the target perspective in particular the process may be as follows exposure to poor job characteristics may trigger feelings of helplessness among specific worker. these feelings may lead him or her to violate work-related habits and expectations. the response from co-workers may take the form of negative reactions which then lead to personal conflicts so that the worker ultimately becomes target of bullying. similarly poor job characteristics may wear out the employee resources. he or she then becomes an easy target who offers little resistance against workplace bullying. from the perpetrator perspective poor job characteristics may trigger negative affects and tension which may be relieved by directing negative acts towards co-worker. similar process has been described in the revised frustration aggression theory and general strain theory. second workload and job autonomy have been related to being target of workplace bullying in way that aligns with assumptions made in karasek job demand control model. some authors have related workload and job autonomy to workplace bullying they suggest positive main effects of workload and negative main effect of job autonomy. other authors have argued that especially the combination of high job demands and low job control would lead to workplace bullying an assumption that has not been tested so far. drawing on the job demand control model we hypothesize the following as respects the targets perspective we expect positive association between time workload and being target of workplace bullying at time and negative association between time job autonomy and being target of workplace bullying at time. we moreover expect significant time workload job autonomy interaction in relation to being target of workplace bullying at time the relationship between workload and being target of workplace bullying is particularly strong under the condition of lower compared with higher job autonomy. similarly as respects the perpetrator perspective we assume positive relation between time workload and being perpetrator of workplace bullying at time negative association between time job autonomy and being perpetrator of workplace bullying at time and significant interaction between time workload and job autonomy in relation to being perpetrator of workplace bullying at time the relationship between workload and being perpetrator of workplace bullying is particularly strong under the condition of lower compared with higher job autonomy. the main purpose of this study was to investigate workplace bullying as social behavioural outcome that fits karasek job demand control model. we believe that this study contributes to the literature in three distinct ways. first we integrated the job stress and the bullying research domains. second we studied bullying both from the target and the perpetrator perspective this enhances insight in the bullying phenomenon which to date has mostly been studied based on target reports. third we used two-wave complete panel design which demonstrated lagged effects of workload and job autonomy on workplace bullying. the job demand control model was supported for being target of workplace bullying we established two main effects which is according to de lange sufficient condition to support the job demand control model. time workload associated positively and time job autonomy associated negatively with being target of workplace bullying at time. the analyses did not reveal significant time workload job autonomy interaction in relation to being target of workplace bullying. based on our results high workload and low job autonomy appear to wear out the employees resources which could imply that such employees become easy targets who offer little resistance against workplace bullying. the job demand control model was supported for perpetrators reports of workplace bullying too. there were no main effects. results did however reveal significant time workload job autonomy interaction results are available from the first author upon request. demands control and workplace bullying in relation to being perpetrator of workplace bullying. as suggested in karasek job demand control model high strain jobs combining high workload with low job autonomy at time related with being perpetrator at time. based on these results workload associates with being perpetrator of workplace bullying when combined with low job autonomy as in these situations the stressed employee may lash out at co-worker to deal with his her negative emotions. overall the job demand control model was thus supported for workplace bullying. yet our results revealed that different processes may link workload and job autonomy to being target versus perpetrator of workplace bullying whereas workload and job autonomy are independently associated with being target they only relate to being perpetrator when joining forces. in other words the threshold for being perpetrator of workplace bullying seems to be higher than the threshold for being target the presence of low job autonomy and high workload related to being perpetrator whereas job autonomy or workload related to being target of workplace bullying. these findings refine earlier speculations that the processes that may lead to being target versus perpetrator of workplace bullying are largely similar. note however that both being target and perpetrator seem to be triggered by job contexts in which workers perceive low job autonomy. three observations further support the current study findings. first our tests for the reversed hypotheses revealed no lagged effects of bullying on job characteristics suggesting that workload and job autonomy were antecedents rather than consequences of bullying. second our results were found with -month time lag. accordingly workload and job autonomy seemed to effect bullying in the short term underlining the job demand control model added value in predicting workplace bullying. third adding or omitting broad range of control variables did not alter our results suggesting the above-mentioned lagged effects to be robust and fairly consistent. an interesting observation concerned the moderate correlation between being target and perpetrator of workplace bullying. first target perpetrator reciprocity is undeniably part of workplace bullying perpetrators often see themselves as targets whereas targets may ge in bullying towards other colles in an attempt to shift the perpetrator attention to new scapegoat. inspecting in more detail how and why being target versus perpetrator of bullying are intertwined may serve as fruitful avenue for bullying research. related issue concerned the fairly strong lagged associations between being target and being perpetrator at times and. this may indicate that bullying could be predictor of future bullying. additional tests in which we reran the regression analyses in which we additionally included being perpetrator at times and when predicting being target at time and additionally included being target at times and when predicting being perpetrator at time did however not significantly alter our results. our results moreover revealed interesting guidelines for practitioners who want to counteract bullying within their organization. from general point of view our study underlined the role of job characteristics in the emnce of workplace bullying both from the perspective of the target as well as the perpetrator. specifically based on our results are available from the first author upon request.  elfi baillien findings organizations aiming to prevent bullying may avoid high strain jobs and may invest in job designs yielding high job autonomy. limitations strhs and future research we acknowl that the current study has some drawbacks. first concern could be that the present study relied on self-reports which may have led to method variance or socially desirable responses. as respects method variance we feel however confident that common method bias did not substantially influence our results. first there is considerable debate about the magnitude of possible inflation of relationships owing to common method variance. second we relied on two-wave full panel data which diminishes the risk for common method variance. third we followed suggestions on questionnaire design which reduce potential risks associated with common method variance such as anonymity and instructing the participants that there are no correct or wrong answers. fourth cfa showed that workload job autonomy being target of workplace bullying and being perpetrator of workplace bullying were distinct latent factors. and fifth non-linear effects such as interactions are hardly attributable to method bias. to the contrary common method variance is likely to attenuate rather than to strhen interaction. alternatively social desirability may have reduced the likelihood of obtaining accurate responses when workplace bullying particularly bullying from the perspective of the perpetrator was concerned. our findings may therefore reflect the experiences of subgroup of perpetrators targets who were willing to admit their situation. social desirability in this sense implies an underestimation of effects due to lack of variance. in other words relationships may become even stronger when accounting for social desirability. yet to strhen this research design future research may benefit from multi-method data and objective measurements. examples are including managerial reports or scores from third party. note however that assessing third party scores on workplace bullying without trying to counteract such behaviour raises ethical concerns as workplace bullying yields many negative consequences for the parties involved as well as for the work unit and the organization. another concern could be that the lagged effects between time workload and job autonomy and time bullying were rather small. the size of the effect however aligns with other longitudinal studies about work-related strain. our results furthermore showed significant relationships with fairly short time lag of months which hints at the importance of workload and job autonomy in relation to workplace bullying. third concern could be that our sample was not representative for the ban working population which is for example reflected in strong dominance of whitecollar workers. related issue concerns the non-response during times and measurements which may have hampered study generalizability to similar organizations. future research may therefore replicate our findings in more representative samples. besides these limitations some particular strhs should be noted. first our twowave panel design offers several advantages compared to cross-sectional designs the demands control and workplace bullying most important one being the possibility to control for baseline effects. yet stronger test particularly when the aim is to establish causal relations would involve multiwave study. this could be chall for future studies. second we introduced the job demand control model as one of the most wellknown theoretical frameworks in work and organizational psychology in the domain of workplace bullying domain in which studies have quickly proliferated but that is still mainly descriptive and atheoretical. the jd-c model is an appealing model given its conciseness and validity in explaining broad range of strain-related outcomes. future studies may want to add to the present research by introducing more job characteristics for example as outlined in the job demands resources model. more specifically and related to our findings research may explore associations between various job demands and bullying perpetration under conditions of high and low job autonomy or even in case of low strain jobs. third our time lag was inspired by calls advanced in longitudinal stress research that highlighted the need for more cross-lagged studies with time lags shorter than year. applying the rather short temporal lag of months then allowed us to investigate whether workplace bullying appeared as short-term effect of workload and job autonomy. future research may however benefit from replicating our findings in studies applying longer time lags as to date little is known about the causal interval of the workplace bullying process. concluding remarks the current study implications are threefold. first our results underlined workplace bullying as valuable social and behavioural outcome of karasek job demand control model expanding research in the realm of the job demand control model as well as stress research in general to broader range of behavioural outcomes. second the study enhanced insight in the workplace bullying phenomenon by applying well-known theoretical framework and giving particular strong indication of workload and job autonomy as important antecedents for targets as well as perpetrators. moreover the lagged associations between poor job characteristics and workplace bullying further supported the work environment hypothesis. third our findings suggest valuable leads for organizations that wish to pursue policy against workplace bullying. specifically our results stressed the importance of job characteristics as precursors of bullying organizations should avoid and counteract high strain jobs and invest in job autonomy. acknowlments the first author was supported by grand from the fwo. the second author was supported by grant from the fwo for post-doctoral fellows. the authors would like to thank dr anja vandenbroeck for valuable comments on an earlier version of this manuscript.  elfi baillien \n",
      "---\n",
      "---\n",
      "---\n"
     ]
    }
   ],
   "source": [
    "print(pdf_p[ref_doc])\n",
    "print('---')\n",
    "print('---')\n",
    "print('---')\n",
    "# print(pdf_p[ref_doc])"
   ]
  },
  {
   "cell_type": "code",
   "execution_count": 25,
   "metadata": {},
   "outputs": [],
   "source": [
    "def get_author_names(txt):\n",
    "\n",
    "    refs = re.sub('[0-9]{4}.*\\n','',txt)\n",
    "\n",
    "    l = re.compile(\" [a-z]\\.\").split(refs)\n",
    "    l = [ll for ll in l if not bool(re.search('[0-9]+', ll))]\n",
    "    l = [ll for ll in l if len(ll) < 35]\n",
    "    l = [re.sub('[\\n ,\\&\\.]', '', ll) for ll in l]\n",
    "    l = [re.sub('[!(*);&$]', '', l1) for l1 in l]\n",
    "    authors = [ll for ll in l if len(ll) > 1]\n",
    "\n",
    "    return(authors)\n",
    "#for n in names:\n",
    "#    print(n)\n",
    "\n",
    "#refs = re.sub('\\n.*[0-9].*', '', refs)\n",
    "#refs = re.sub('\\n[^,]+\\n', '\\n', refs)\n",
    "#print(refs)"
   ]
  },
  {
   "cell_type": "code",
   "execution_count": 26,
   "metadata": {
    "scrolled": true
   },
   "outputs": [
    {
     "name": "stdout",
     "output_type": "stream",
     "text": [
      "['jans', 'touval', 'aub�e', 'weingart', 'labroo', 'canavan', 'dyrnes', 'wehrung', 'miles', 'rizzo', 'o’donnell', 'cifci', 'thrash', 'willmott', 'favero', 'conklin', 'sedgwick', 'associatesheilman', 'mervis', 'muth�enorgan', 'grundei', 'jellisonwapratt-hyatt', 'o’connor', 'dekoekkoek', 'nstanley', 'ybasco', 'rockmann', 'overg�ard', 'kennedy-moore', 'link', 'dulebohn', 'hellwig', 'gr€oßler', 'dematteo', 'reynolds', 'bernerth', 'newton', '-tmarsh', 'oken', 'purvanova', 'green', 'flitcroft', 'palgravemacmillanegeland', 'resourcemanagementin', 'louis', 'yinon', 'vansteelandt', 'beutell', 'v€olker', 'lance', 'rapson', 'newdirectionsin', 'guilfordpressk€uhnel', 'wilk', 'coover', 'gerhold', 'gruenfeld', 'tambs', 'gailliard', 'yuce', 'schkade', 'fincham', 'medina', 'vanhiel', 'associatesincrafaeli', 'dvanderveldem', 'iiichatman', 'bolker', 'parmar', 'london:sagehui', 'mgeurts', 'munzenrider', '-ldallner', 'milford', 'greiner', 'spencelaschinger', 'vinck', 'williamsetal', 'zerbec', 'waller', 'vesley', 'tebrake', 'simms', 'homer', 'dawis', 'carpenter', 'goodale', 'hodgkinson', 'wegner', 'salimi', 'haidt', 'ide', 'joice', 'hgeorge', 'ybema', 'abeleandbettina', 'strenta', 'christophersen', 'bleske-rechek', 'tangirala', 'assessmentsystemsjackson', 'caddell', 'thomasgething', 'gemmel', '-msonnentag', 'obonyo', 'burgi', 'uk:sagehaslam', 'rochberg', 'munkvold', 'folkes', 'mcadams', 'danon', 'fujita', 'jadamopoulos', 'hearns', 'trougakossonnentag', 'roman', 'pannekoek', 'wesleyrosenblatt', 'garrod', 'f€ullemann', 'dunegan', 'california:sagemillward', 'snir', 'pekrun', 'goldens', 'macintyre', 'bourne', 'harackiewicz', 'ganim', 'bollmann', 'mortimer', 'whitehead', 'sodenkamp', 'fayant', 'oberle', 'turnleyetal', 'ferrer', 'woods', 'howat', 'chao', 'harel', 'knippenberg', 'vathera', 'hardesty', 'carnespalanski', 'walumbwaetal', 'carrier', 'wryan']\n",
      "15487\n"
     ]
    }
   ],
   "source": [
    "authors = []\n",
    "for r in references:\n",
    "    authors += get_author_names(r)\n",
    "    \n",
    "author_nam = list(set(list(authors)))\n",
    "\n",
    "# result is still not perfect, but I have not found any stray 'plain English' so far\n",
    "print(author_nam[100:250])\n",
    "print(len(author_nam))"
   ]
  },
  {
   "cell_type": "code",
   "execution_count": 27,
   "metadata": {},
   "outputs": [],
   "source": [
    "# GET REFERENCE LISTS OF STOPWORDS, I.E. WORDS THAT ARE ESSENTIALLY MEANINGLESS\n",
    "# Get all the list of authors names\n",
    "\n",
    "from nltk.corpus import stopwords as wrd\n",
    "\n",
    "sw = wrd.words('english') + author_nam + country_list + cities_lower\n",
    "\n",
    "#print(sw)"
   ]
  },
  {
   "cell_type": "code",
   "execution_count": 28,
   "metadata": {},
   "outputs": [],
   "source": [
    "#include corpus-specific stopwords\n",
    "sw += ['vol', 'doi', 'article', 'articles', 'reuse', 'sagepub', 'journal', 'journals', 'com', 'quarter', 'quarterly', 'annual', 'proceedings']\n",
    "sw += ['sage', 'editorial', 'report', 'publications', 'publication', 'publisher', 'jom', 'manuscript', 'manuscripts', 'submission', 'submissions']\n",
    "sw += ['editor', 'editors', 'orcid', 'id', 'month', 'mailto', 'author', 'authors', 'homepage', 'sciencedirect', 'scopus']\n",
    "sw += ['january', 'february', 'march', 'april', 'may', 'june', 'july', 'august', 'september', 'october', 'november', 'december']\n",
    "sw += ['monday', 'tuesday', 'wednesday', 'thursday', 'friday', 'saturday', 'sunday']\n",
    "\n",
    "# add a metric ton of generic terms\n",
    "sw += ['a', 'about', 'above', 'across', 'after', 'afterwards']\n",
    "sw += ['again', 'against', 'all', 'almost', 'alone', 'along']\n",
    "sw += ['already', 'also', 'although', 'always', 'am', 'among']\n",
    "sw += ['amongst', 'amoungst', 'amount', 'an', 'and', 'another']\n",
    "sw += ['any', 'anyhow', 'anyone', 'anything', 'anyway', 'anywhere']\n",
    "sw += ['are', 'around', 'as', 'at', 'back', 'be', 'became']\n",
    "sw += ['because', 'become', 'becomes', 'becoming', 'been']\n",
    "sw += ['before', 'beforehand', 'behind', 'being', 'below']\n",
    "sw += ['beside', 'besides', 'between', 'beyond', 'bill', 'both']\n",
    "sw += ['bottom', 'but', 'by', 'call', 'can', 'cannot', 'cant']\n",
    "sw += ['co', 'computer', 'con', 'could', 'couldnt', 'cry', 'de']\n",
    "sw += ['describe', 'detail', 'did', 'do', 'done', 'down', 'due']\n",
    "sw += ['during', 'each', 'eg', 'eight', 'either', 'eleven', 'else']\n",
    "sw += ['elsewhere', 'empty', 'enough', 'etc', 'even', 'ever']\n",
    "sw += ['every', 'everyone', 'everything', 'everywhere', 'except']\n",
    "sw += ['few', 'fifteen', 'fifty', 'fill', 'find', 'fire', 'first']\n",
    "sw += ['five', 'for', 'former', 'formerly', 'forty', 'found']\n",
    "sw += ['four', 'from', 'front', 'full', 'further', 'get', 'give']\n",
    "sw += ['go', 'had', 'has', 'hasnt', 'have', 'he', 'hence', 'her']\n",
    "sw += ['here', 'hereafter', 'hereby', 'herein', 'hereupon', 'hers']\n",
    "sw += ['herself', 'him', 'himself', 'his', 'how', 'however']\n",
    "sw += ['hundred', 'i', 'ie', 'if', 'in', 'inc', 'indeed']\n",
    "sw += ['interest', 'into', 'is', 'it', 'its', 'itself', 'keep']\n",
    "sw += ['last', 'latter', 'latterly', 'least', 'less', 'ltd', 'made']\n",
    "sw += ['many', 'may', 'me', 'meanwhile', 'might', 'mill', 'mine']\n",
    "sw += ['more', 'moreover', 'most', 'mostly', 'move', 'much']\n",
    "sw += ['must', 'my', 'myself', 'name', 'namely', 'neither', 'never']\n",
    "sw += ['nevertheless', 'next', 'nine', 'no', 'nobody', 'none']\n",
    "sw += ['noone', 'nor', 'not', 'nothing', 'now', 'nowhere', 'of']\n",
    "sw += ['off', 'often', 'on','once', 'one', 'only', 'onto', 'or']\n",
    "sw += ['other', 'others', 'otherwise', 'our', 'ours', 'ourselves']\n",
    "sw += ['out', 'over', 'own', 'part', 'per', 'perhaps', 'please']\n",
    "sw += ['put', 'rather', 're', 's', 'same', 'see', 'seem', 'seemed']\n",
    "sw += ['seeming', 'seems', 'serious', 'several', 'she', 'should']\n",
    "sw += ['show', 'side', 'since', 'sincere', 'six', 'sixty', 'so']\n",
    "sw += ['some', 'somehow', 'someone', 'something', 'sometime']\n",
    "sw += ['sometimes', 'somewhere', 'still', 'such', 'system', 'take']\n",
    "sw += ['ten', 'than', 'that', 'the', 'their', 'them', 'themselves']\n",
    "sw += ['then', 'thence', 'there', 'thereafter', 'thereby']\n",
    "sw += ['therefore', 'therein', 'thereupon', 'these', 'they']\n",
    "sw += ['thick', 'thin', 'third', 'this', 'those', 'though', 'three']\n",
    "sw += ['three', 'through', 'throughout', 'thru', 'thus', 'to']\n",
    "sw += ['together', 'too', 'top', 'toward', 'towards', 'twelve']\n",
    "sw += ['twenty', 'two', 'un', 'under', 'until', 'up', 'upon']\n",
    "sw += ['us', 'very', 'via', 'was', 'we', 'well', 'were', 'what']\n",
    "sw += ['whatever', 'when', 'whence', 'whenever', 'where']\n",
    "sw += ['whereafter', 'whereas', 'whereby', 'wherein', 'whereupon']\n",
    "sw += ['wherever', 'whether', 'which', 'while', 'whither', 'who']\n",
    "sw += ['whoever', 'whole', 'whom', 'whose', 'why', 'will', 'with']\n",
    "sw += ['within', 'without', 'would', 'yet', 'you', 'your']\n",
    "sw += ['yours', 'yourself', 'yourselves']\n",
    "\n",
    "sw = list(set(sw))"
   ]
  },
  {
   "cell_type": "code",
   "execution_count": 29,
   "metadata": {},
   "outputs": [],
   "source": [
    "# Function to filter out the stopwords and authors names\n",
    "def filterWords(msg, words):\n",
    "    m = msg.split(' ')\n",
    "    words_end = [w + '.' for w in words]\n",
    "    filtered_words = list(filter(lambda word: word not in words, m))\n",
    "    filtered_words = [(w if w not in words_end else '.') for w in filtered_words]\n",
    "    result = ' '.join(filtered_words)\n",
    "    return(result)"
   ]
  },
  {
   "cell_type": "code",
   "execution_count": 30,
   "metadata": {},
   "outputs": [],
   "source": [
    "# GET RID OF THE STOPWORDS IN TEXTS\n",
    "data_proc = [filterWords(f, sw) for f in pdf_p]"
   ]
  },
  {
   "cell_type": "code",
   "execution_count": 33,
   "metadata": {},
   "outputs": [],
   "source": [
    "import pickle\n",
    "# exclude author list from metadata\n",
    "author_metadata = pickle.load(open(\"C:/Thesis/Data/save/Master_Data/author_list/author_list.p\", \"rb\"))"
   ]
  },
  {
   "cell_type": "code",
   "execution_count": 34,
   "metadata": {},
   "outputs": [],
   "source": [
    "# GET RID OF THE author names (extracted from the metadata)\n",
    "data_proc_1 = [filterWords(f, author_metadata) for f in data_proc] #running"
   ]
  },
  {
   "cell_type": "code",
   "execution_count": 2,
   "metadata": {},
   "outputs": [
    {
     "ename": "NameError",
     "evalue": "name 'data_proc_1' is not defined",
     "output_type": "error",
     "traceback": [
      "\u001b[1;31m---------------------------------------------------------------------------\u001b[0m",
      "\u001b[1;31mNameError\u001b[0m                                 Traceback (most recent call last)",
      "\u001b[1;32m<ipython-input-2-f57a49f9e23d>\u001b[0m in \u001b[0;36m<module>\u001b[1;34m\u001b[0m\n\u001b[1;32m----> 1\u001b[1;33m \u001b[0mdata_proc_1\u001b[0m\u001b[1;33m[\u001b[0m\u001b[0mref_doc\u001b[0m\u001b[1;33m]\u001b[0m\u001b[1;33m\u001b[0m\u001b[1;33m\u001b[0m\u001b[0m\n\u001b[0m",
      "\u001b[1;31mNameError\u001b[0m: name 'data_proc_1' is not defined"
     ]
    }
   ],
   "source": [
    "data_proc_1[ref_doc]"
   ]
  },
  {
   "cell_type": "code",
   "execution_count": 36,
   "metadata": {},
   "outputs": [],
   "source": [
    "data_proc2 = [re.sub(\"([a-z]+\\.)+[a-z]+\",\"\", f) for f in data_proc_1]\n",
    "data_proc2 = [re.sub('\\s([?\\.!\"](?:\\s|$))' , r'\\1', f) for f in data_proc2]\n",
    "data_proc2 = [re.sub(\"^\\s+\",\"\", f) for f in data_proc2]\n",
    "data_proc2 = [re.sub(\"\\s+\\Z\",\"\", f) for f in data_proc2]\n",
    "data_proc2 = [re.sub(\"(\\.)+\",\".\", f) for f in data_proc2]\n",
    "data_proc2 = [re.sub(\" +\",\" \", f) for f in data_proc2]\n",
    "data_proc2 = [re.sub(\"( +\\.)\",\".\", f) for f in data_proc2]\n",
    "data_proc2 = [re.sub(\"\\.$\",\"\", f) for f in data_proc2]"
   ]
  },
  {
   "cell_type": "code",
   "execution_count": 37,
   "metadata": {},
   "outputs": [
    {
     "name": "stdout",
     "output_type": "stream",
     "text": [
      "['job autonomy workload antecedents workplace bullying wave test job demand control model targets perpetrators occupational organizational psychology british psychological society british psychological society job autonomy workload antecedents workplace bullying two-wave test job demand control model targets perpetrators nele cuyper katholieke universiteit bum current study aims test hypotheses job demand control model relation workplace bullying', 'particular contributions focus targets perpetrators workplace bullying second two-wave -month time lag', 'assume workload time associates positively target perpetrator time job autonomy time associates negatively target perpetrator time positive relationship workload time target perpetrator time stronger condition job autonomy time', 'moderated hierarchical regression analyses revealed lagged effects target interaction effects perpetrator', 'particular time workload positively time job autonomy negatively associated target time', 'job autonomy time reduced positive relationship workload time perpetrator time', 'results suggest high strain jobs relate target perpetrator workplace bullying different processes effects interactions respectively', 'scholars sought apply job demand control model wide variety stress reactions indicators poor physical health general job-related ill-being', 'seemingly missing stream behavioural outcomes signal stress response workplace bullying', 'according leading experts workplace bullying workplace bullying relevant outcome context job demand control model', 'aim test hypotheses job demand control model relation workplace correspondence addressed group work organizational personnel psychology department psychology katholieke universiteit tiensestraat box bum', 'bullying', 'particular strhs investigate bullying viewpoint targets perpetrators use two-wave lagged analyses', 'job demand control model studies tradition job demand control model concerned quantitative job demands job autonomy relation strain', 'quantitative job demands typically refer combination work quantity work', 'job autonomy refers employee ability freedom make decisions work activities', 'workload generally thought induce strain job autonomy assumed decrease strain evidence abundant', 'consequently jobs combine relatively high levels workload levels job autonomy referred high strain jobs', 'conversely jobs relatively workload high job autonomy strain jobs', 'job demand control model typically builds hypotheses workload relates positively strain job autonomy relates negatively strain workload job autonomy interact synstic', 'model interaction hypothesis formulated buffer effect negative effect workload buffered job autonomy positive relationship workload strain increasing job autonomy', 'assumed effects support cross-sectional longitudinal studies', 'support interaction hypothesis consistent particularly using general operationalizations job demands job control longitudinal designs', 'recently argued thneral idea job demand control model finds support effects workload job autonomy synstic interaction effect viewpoint tend', 'job demand control model diverse set well-being health variables', 'examples physical health general well-being job-related well-being', 'contrast behavioural outcomes attracted relatively attention', 'far job demand control model work-related outcomes health-related behaviour organizational outcomes', 'missing focus behaviour example form workplace bullying', 'workplace bullying workplace bullying labelled mobbing harassment emotional abuse workplace', 'terms refer situation broad range negative acts systematically directed employees', 'current study aligns perspective workplace bullying contains persistent negative behaviour work negative acts mainly psychological nature', 'workplace bullying concern personal issues work-related issues isolation', 'workplace bullying definition long-standing typically includes accumulation minor negative acts leading pattern systematic maltreatment', 'stigmatizes target obtains inferior position target feels helpless defend him- negative acts', 'unlike american scholars follow tradition set leymann intent defining characteristic workplace bullying', 'studies realm bullying antecedents inspired work environment hypothesis', 'hypothesis refers widely accepted assumption workplace bullying attributed stressful work environment', 'studies area bound theoretical methodological constraints', 'respects theory studies remained descriptive explorative', 'produced broad potential antecedents role conflict job insecurity support various leadership styles', 'inspired development various specific bullying models', 'problem models fairly complex general difficult test empirically exhaustive included antecedents lack clear-cut definitions antecedents', 'addition studies focused target bullying', 'known work environmental factors trigger bullying enactment perpetrators', 'leaves assumption advanced processes leading bullying similar targets perpetrators speculative', 'respects methods particular concern studies based cross-sectional designs', 'draw weak conclusions regarding causality lagged effects indicator causality', 'altogether led conclude work environment hypothesis needs stronger empirical evidence', 'backdrop current study aims associated contributions threefold', 'apply insights job demand control model bullying domain', 'second evaluate extent similar processes underlie workplace bulling perspective target perpetrator bullying', 'investigate lagged effects workload job autonomy workplace bullying adoption two-wave lagged analyses', 'job demand control model workplace bullying reasons integrate workplace bullying job demand control model literature', 'workplace bullying associated strain critical outcome job demand control model', 'respect developed incident-based model job characteristics thought increase work-related strain turn related workplace bullying', 'target perspective particular process follows exposure poor job characteristics trigger feelings helplessness specific worker', 'feelings lead violate work-related habits expectations', 'response co-workers form negative reactions lead personal conflicts worker ultimately target bullying', 'similarly poor job characteristics wear employee resources', 'easy target offers resistance workplace bullying', 'perpetrator perspective poor job characteristics trigger negative affects tension relieved directing negative acts co-worker', 'similar process described revised frustration aggression theory general strain theory', 'second workload job autonomy related target workplace bullying aligns assumptions job demand control model', 'related workload job autonomy workplace bullying suggest positive effects workload negative effect job autonomy', 'argued especially combination high job demands job control lead workplace bullying assumption tested far', 'drawing job demand control model hypothesize following respects targets perspective expect positive association time workload target workplace bullying time negative association time job autonomy target workplace bullying time', 'expect significant time workload job autonomy interaction relation target workplace bullying time relationship workload target workplace bullying particularly condition lower compared higher job autonomy', 'similarly respects perpetrator perspective assume positive relation time workload perpetrator workplace bullying time negative association time job autonomy perpetrator workplace bullying time significant interaction time workload job autonomy relation perpetrator workplace bullying time relationship workload perpetrator workplace bullying particularly condition lower compared higher job autonomy', 'purpose study investigate workplace bullying behavioural outcome fits job demand control model', 'believe study contributes literature distinct ways', 'integrated job stress bullying domains', 'second studied bullying target perpetrator perspective enhances insight bullying phenomenon studied based target reports', 'used two-wave complete panel demonstrated lagged effects workload job autonomy workplace bullying', 'job demand control model supported target workplace bullying established effects according sufficient condition support job demand control model', 'time workload associated positively time job autonomy associated negatively target workplace bullying time', 'analyses reveal significant time workload job autonomy interaction relation target workplace bullying', 'based results high workload job autonomy appear wear employees resources imply employees easy targets resistance workplace bullying', 'job demand control model supported perpetrators reports workplace bullying', 'effects', 'results reveal significant time workload job autonomy interaction results available request', 'demands control workplace bullying relation perpetrator workplace bullying', 'suggested job demand control model high strain jobs combining high workload job autonomy time related perpetrator time', 'based results workload associates perpetrator workplace bullying combined job autonomy situations stressed employee lash co-worker negative emotions', 'job demand control model supported workplace bullying', 'results revealed different processes workload job autonomy target versus perpetrator workplace bullying workload job autonomy independently associated target relate perpetrator joining forces', 'words threshold perpetrator workplace bullying higher threshold target presence job autonomy high workload related perpetrator job autonomy workload related target workplace bullying', 'findings refine earlier speculations processes lead target versus perpetrator workplace bullying largely similar', 'note target perpetrator triggered job contexts workers perceive job autonomy', 'observations support current study findings', 'tests reversed hypotheses revealed lagged effects bullying job characteristics suggesting workload job autonomy antecedents consequences bullying', 'second results -month time lag', 'accordingly workload job autonomy effect bullying term underlining job demand control model added value predicting workplace bullying', 'adding omitting broad range control variables results suggesting above-mentioned lagged effects robust fairly consistent', 'interesting observation concerned moderate correlation target perpetrator workplace bullying', 'target perpetrator reciprocity undeniably workplace bullying perpetrators targets targets ge bullying colles attempt shift perpetrator attention scapegoat', 'inspecting target versus perpetrator bullying intertwined serve fruitful avenue bullying', 'related issue concerned fairly lagged associations target perpetrator times', 'indicate bullying predictor future bullying', 'additional tests reran regression analyses additionally included perpetrator times predicting target time additionally included target times predicting perpetrator time significantly results', 'results revealed interesting guidelines practitioners want counteract bullying organization', 'general view study underlined role job characteristics emnce workplace bullying perspective target perpetrator', 'specifically based results available request', 'findings organizations aiming prevent bullying avoid high strain jobs invest job designs yielding high job autonomy', 'limitations strhs future acknowl current study drawbacks', 'concern present study relied self-reports led method variance socially desirable responses', 'respects method variance feel confident common method bias substantially influence results', 'considerable debate magnitude possible inflation relationships owing common method variance', 'second relied two-wave panel data diminishes risk common method variance', 'followed suggestions questionnaire reduce potential risks associated common method variance anonymity instructing participants correct wrong answers', 'fourth cfa showed workload job autonomy target workplace bullying perpetrator workplace bullying distinct latent factors', 'fifth non-linear effects interactions hardly attributable method bias', 'contrary common method variance likely attenuate strhen interaction', 'alternatively desirability reduced likelihood obtaining accurate responses workplace bullying particularly bullying perspective perpetrator concerned', 'findings reflect experiences subgroup perpetrators targets willing admit situation', 'desirability sense implies underestimation effects lack variance', 'words relationships stronger accounting desirability', 'strhen future benefit multi-method data objective measurements', 'examples including managerial reports scores party', 'note assessing party scores workplace bullying trying counteract behaviour raises ethical concerns workplace bullying yields negative consequences parties involved work organization', 'concern lagged effects time workload job autonomy time bullying', 'size effect aligns longitudinal studies work-related strain', 'results furthermore showed significant relationships fairly time lag months hints importance workload job autonomy relation workplace bullying', 'concern sample representative ban working population example reflected dominance whitecollar workers', 'related issue concerns non-response times measurements hampered study generalizability similar organizations', 'future replicate findings representative samples', 'limitations particular strhs noted', 'twowave panel offers advantages compared cross-sectional designs demands control workplace bullying important possibility control baseline effects', 'stronger test particularly aim establish causal relations involve multiwave study', 'chall future studies', 'second introduced job demand control model wellknown theoretical frameworks work organizational psychology domain workplace bullying domain studies quickly proliferated mainly descriptive atheoretical', 'jd-c model appealing model given conciseness validity explaining broad range strain-related outcomes', 'future studies want add present introducing job characteristics example outlined job demands resources model', 'specifically related findings explore associations various job demands bullying perpetration conditions high job autonomy strain jobs', 'time lag inspired calls advanced longitudinal stress highlighted need cross-lagged studies time lags shorter year', 'applying temporal lag months allowed investigate workplace bullying appeared short-term effect workload job autonomy', 'future benefit replicating findings studies applying longer time lags known causal interval workplace bullying process', 'concluding remarks current study implications threefold', 'results underlined workplace bullying valuable behavioural outcome job demand control model expanding realm job demand control model stress general broader range behavioural outcomes', 'second study enhanced insight workplace bullying phenomenon applying well-known theoretical framework giving particular indication workload job autonomy important antecedents targets perpetrators', 'lagged associations poor job characteristics workplace bullying supported work environment hypothesis', 'findings suggest valuable leads organizations pursue policy workplace bullying', 'specifically results stressed importance job characteristics precursors bullying organizations avoid counteract high strain jobs invest job autonomy', 'acknowlments supported fwo', 'second supported fwo post-doctoral fellows', 'like thank dr valuable comments earlier version']\n"
     ]
    }
   ],
   "source": [
    "print(data_proc2[ref_doc].split('. '))\n",
    "\n",
    "sents = []\n",
    "for d in data_proc2:\n",
    "    sents += d.split('. ')"
   ]
  },
  {
   "cell_type": "code",
   "execution_count": 1,
   "metadata": {},
   "outputs": [
    {
     "ename": "NameError",
     "evalue": "name 'sents' is not defined",
     "output_type": "error",
     "traceback": [
      "\u001b[1;31m---------------------------------------------------------------------------\u001b[0m",
      "\u001b[1;31mNameError\u001b[0m                                 Traceback (most recent call last)",
      "\u001b[1;32m<ipython-input-1-0e7d12c4189d>\u001b[0m in \u001b[0;36m<module>\u001b[1;34m\u001b[0m\n\u001b[1;32m----> 1\u001b[1;33m \u001b[0mprint\u001b[0m\u001b[1;33m(\u001b[0m\u001b[0msents\u001b[0m\u001b[1;33m[\u001b[0m\u001b[1;36m0\u001b[0m\u001b[1;33m:\u001b[0m\u001b[1;36m100\u001b[0m\u001b[1;33m]\u001b[0m\u001b[1;33m)\u001b[0m\u001b[1;33m\u001b[0m\u001b[1;33m\u001b[0m\u001b[0m\n\u001b[0m",
      "\u001b[1;31mNameError\u001b[0m: name 'sents' is not defined"
     ]
    }
   ],
   "source": [
    "print(sents[0:100])"
   ]
  },
  {
   "cell_type": "code",
   "execution_count": 39,
   "metadata": {},
   "outputs": [],
   "source": [
    "# save data\n",
    "pickle.dump(data_proc2, open( \"C:/Thesis/Data/save/Master_Data/pre_processed_data/data_preprocessed.p\", \"wb\" ) )"
   ]
  },
  {
   "cell_type": "code",
   "execution_count": 40,
   "metadata": {},
   "outputs": [],
   "source": [
    "import io\n",
    "\n",
    "# writing documents one sentence per line to form a larger data set (allowing use of a generator for model training):\n",
    "with open(\"C:/Thesis/Data/save/Master_Data/pre_processed_data/data_preprocessed_txt.txt\", \"a\",encoding=\"utf-8\") as outfile:\n",
    "    \n",
    "    for s in sents:\n",
    "        outstring = s + '\\n'\n",
    "        outfile.write(outstring)\n",
    "        \n",
    "# (additionally you could keep document boundaries intact, \n",
    "# e.g. by writing a file per document or marking start and end of articles in the larger file)"
   ]
  },
  {
   "cell_type": "code",
   "execution_count": null,
   "metadata": {},
   "outputs": [],
   "source": [
    "#import io\n",
    "#with open(\"C:/Thesis/Data/save/Master_Data/MD_3/data_proc_latest/JM_data_proc_txt.txt\", \"w\",encoding=\"utf-8\") as outfile:\n",
    "#    for i in range(len(data_proc)):\n",
    "#        outstring = \"\"\n",
    "#        outstring += str(data_proc[i])\n",
    "#        outfile.write(outstring)"
   ]
  },
  {
   "cell_type": "code",
   "execution_count": null,
   "metadata": {},
   "outputs": [],
   "source": []
  }
 ],
 "metadata": {
  "kernelspec": {
   "display_name": "Python 3",
   "language": "python",
   "name": "python3"
  },
  "language_info": {
   "codemirror_mode": {
    "name": "ipython",
    "version": 3
   },
   "file_extension": ".py",
   "mimetype": "text/x-python",
   "name": "python",
   "nbconvert_exporter": "python",
   "pygments_lexer": "ipython3",
   "version": "3.7.6"
  }
 },
 "nbformat": 4,
 "nbformat_minor": 2
}
