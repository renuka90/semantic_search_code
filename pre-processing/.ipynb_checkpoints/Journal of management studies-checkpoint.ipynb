{
 "cells": [
  {
   "cell_type": "code",
   "execution_count": null,
   "metadata": {},
   "outputs": [],
   "source": [
    "import os\n",
    "import re\n",
    "import pandas as pd\n",
    "import urllib\n",
    "from nltk import SnowballStemmer\n",
    "from gensim.models import Word2Vec\n",
    "#import langdetect\n",
    "import tika\n",
    "import time\n",
    "from tika import parser\n",
    "import pickle"
   ]
  },
  {
   "cell_type": "markdown",
   "metadata": {},
   "source": [
    "# Raw Articles pdf Data\n",
    "Convert pdf to text using Tika apache server "
   ]
  },
  {
   "cell_type": "code",
   "execution_count": null,
   "metadata": {},
   "outputs": [],
   "source": [
    "# specify the target data folder\n",
    "target_dir = 'C:/Thesis/Data/Academy_of_Management_journal'"
   ]
  },
  {
   "cell_type": "code",
   "execution_count": null,
   "metadata": {},
   "outputs": [],
   "source": [
    "# prep pdf extraction\n",
    "pdf_files = []\n",
    "wrd_files = []\n",
    "\n",
    "for f in os.listdir(target_dir):\n",
    "    if f.endswith(\".pdf\") | f.endswith(\".PDF\"):\n",
    "        thispdf = os.path.join(target_dir, f)\n",
    "        pdf_files = pdf_files + [thispdf]\n",
    "    if f.endswith(\".doc\") | f.endswith(\".docx\") | f.endswith(\".DOC\") | f.endswith(\".DOCX\"):\n",
    "        thiswrd = os.path.join(target_dir, f)\n",
    "        wrd_files = wrd_files + [thiswrd]"
   ]
  },
  {
   "cell_type": "code",
   "execution_count": null,
   "metadata": {},
   "outputs": [],
   "source": [
    "port = 4321 # port to use for Tika server (chosen arbitrarily)\n",
    "server_str = 'http://localhost:' + str(port)\n",
    "tika_path  = 'C:\\Software\\ tika-server-1.23.jar'\n",
    "tika_run   = 'java -jar' + tika_path + ' --port ' + str(port)\n",
    "print('Command to start Tika:')\n",
    "print(tika_run)\n",
    "print('---')\n",
    "print('Number of pdf files: ' + str(len(pdf_files)))\n",
    "print('Number of word files: ' + str(len(wrd_files)))"
   ]
  },
  {
   "cell_type": "markdown",
   "metadata": {},
   "source": [
    "# Text Data\n",
    "\n",
    "Eliminate title, sections (eg: content between Method and Discussion) and Reference. It is saved as a pre-processed data"
   ]
  },
  {
   "cell_type": "code",
   "execution_count": null,
   "metadata": {},
   "outputs": [],
   "source": [
    "# process the PDF files, store text in memory\n",
    "tika.TikaClientOnly = True \n",
    "\n",
    "#pdf_text = [parser.from_file(t, server_str, xmlContent=False)[\"content\"] for t in (pdf_files + wrd_files)]"
   ]
  },
  {
   "cell_type": "code",
   "execution_count": null,
   "metadata": {},
   "outputs": [],
   "source": []
  },
  {
   "cell_type": "markdown",
   "metadata": {},
   "source": [
    "# 1 - Load the Text data"
   ]
  },
  {
   "cell_type": "code",
   "execution_count": 1,
   "metadata": {},
   "outputs": [],
   "source": [
    "import pickle\n",
    "#load the text data\n",
    "pdf_text = pickle.load(open(\"C:/Thesis/Data/save/Journal_of_management_studies/save_alltextData.p\", \"rb\"))\n"
   ]
  },
  {
   "cell_type": "code",
   "execution_count": 2,
   "metadata": {},
   "outputs": [
    {
     "data": {
      "text/plain": [
       "1133"
      ]
     },
     "execution_count": 2,
     "metadata": {},
     "output_type": "execute_result"
    }
   ],
   "source": [
    "len(pdf_text)"
   ]
  },
  {
   "cell_type": "markdown",
   "metadata": {},
   "source": [
    "# Get country name"
   ]
  },
  {
   "cell_type": "code",
   "execution_count": 3,
   "metadata": {},
   "outputs": [],
   "source": [
    "# Since it is case sensetive, firstly get the list of country before converting the text to lowercase\n",
    "country_list = []\n",
    "import pycountry\n",
    "\n",
    "for country in pycountry.countries:\n",
    "    for i in pdf_text:\n",
    "        if country.name in i:\n",
    "            #print(country.name)\n",
    "            country_list.append(country.name)"
   ]
  },
  {
   "cell_type": "code",
   "execution_count": 4,
   "metadata": {},
   "outputs": [],
   "source": [
    "#Convert country list to lower case. it will be called in filter function\n",
    "country_lower = [x.lower() for x in country_list]\n",
    "#country_lower[1]"
   ]
  },
  {
   "cell_type": "markdown",
   "metadata": {},
   "source": [
    "# Get Cities name"
   ]
  },
  {
   "cell_type": "code",
   "execution_count": 5,
   "metadata": {},
   "outputs": [],
   "source": [
    "from geotext import GeoText\n",
    "\n",
    "cities_list = []\n",
    "for i in pdf_text:\n",
    "    place = GeoText(i)\n",
    "    place.cities\n",
    "    cities_list.append(place.cities)"
   ]
  },
  {
   "cell_type": "code",
   "execution_count": 6,
   "metadata": {},
   "outputs": [],
   "source": [
    "#Convert cities list to lower case. it will be called in filter function\n",
    "cities_lower =[]\n",
    "for i in cities_list:\n",
    "    for j in i:\n",
    "        cities_lower.append(j.lower())\n",
    "#cities_lower       "
   ]
  },
  {
   "cell_type": "markdown",
   "metadata": {},
   "source": [
    "# 2 -  Convert pdf text to lower case"
   ]
  },
  {
   "cell_type": "code",
   "execution_count": 7,
   "metadata": {},
   "outputs": [],
   "source": [
    "#Convert each string to lowercase\n",
    "for i in range(len(pdf_text)):\n",
    "    pdf_text[i] = pdf_text[i].lower()"
   ]
  },
  {
   "cell_type": "code",
   "execution_count": 8,
   "metadata": {},
   "outputs": [],
   "source": [
    "# remove references section \n",
    "import re\n",
    "pdf_ref = [re.sub(r\"(?is)\\nreferences\\n.+\", \"\", f) for f in pdf_text]"
   ]
  },
  {
   "cell_type": "code",
   "execution_count": null,
   "metadata": {},
   "outputs": [],
   "source": [
    "# not required\n",
    "def eliminate_method_result(method, discussion):\n",
    "    \n",
    "    import re    \n",
    "    start = method\n",
    "    end = discussion\n",
    "    #start of pattern, followed by any number of times 'any character OR a newline' and terminated by the end pattern.\n",
    "    pattern = start + '.*'+'(.|\\n)*'+end\n",
    "    pdf_method_dis = [re.sub(pattern, '', f) for f in pdf_text]\n",
    "\n",
    "    return pdf_method_dis"
   ]
  },
  {
   "cell_type": "code",
   "execution_count": null,
   "metadata": {},
   "outputs": [],
   "source": [
    "# not required\n",
    "def eliminate_method_result_ref(method, dis, ref):\n",
    "    \n",
    "    import re\n",
    "\n",
    "    start = method\n",
    "    end = dis\n",
    "    \n",
    "    #start of pattern, followed by any number of times 'any character OR a newline' and terminated by the end pattern.\n",
    "    pattern = start + '.*'+'(.|\\n)*'+end\n",
    "    pdf_method_dis = [re.sub(pattern, '', f) for f in pdf_text]\n",
    "    \n",
    "    start_ref = ref\n",
    "    pattern_ref = start_ref +'(.|\\n)*$'\n",
    "\n",
    "    pdf_ref= [re.sub(pattern_ref, '', f) for f in pdf_method_dis]\n",
    "    \n",
    "    return pdf_ref"
   ]
  },
  {
   "cell_type": "markdown",
   "metadata": {},
   "source": [
    "# 3 - Pre-processing\n",
    "Regular expression is used to clean up the pre-processed data and saved as a Master data"
   ]
  },
  {
   "cell_type": "code",
   "execution_count": 9,
   "metadata": {},
   "outputs": [],
   "source": [
    "import re\n",
    "pdf_p = [re.sub(\"r[\\S]+\\.(net|com|org|info|edu|gov|uk|de|ca|jp|fr|au|us|ru|ch|it|nel|se|no|es|mil)[\\S]*\\s?\", \" \", t)for t in pdf_ref]\n",
    "#remove hyphon only if it is at the end of the line.\n",
    "pdf_p = [re.sub(r'-\\n(\\w+ *)', r'\\1\\n', t) for t in pdf_p]\n",
    "# remove urls\n",
    "pdf_p = [re.sub( r'https?://[^\\s<>\"]+|www\\.[^\\s<>\"]+', \"\", t)for t in pdf_p]\n",
    "#remove email address          \n",
    "pdf_p = [re.sub(r'\\w+@\\w+\\.(?:com|net|org|live|edu)', \"\", t)for t in pdf_p]\n",
    "#remove text within ()\n",
    "pdf_p = [re.sub(r\"\\([^)]*\\)\", \"\", t)for t in pdf_p]\n",
    "# remove text with [] eg citation\n",
    "pdf_p = [re.sub(r\"\\[[^)]*\\]\", \"\", t)for t in pdf_p]\n",
    "#Remove numbers\n",
    "pdf_p = [re.sub('[0-9]+', '', f) for f in pdf_p]\n",
    "# remove single characters\n",
    "pdf_p = [re.sub(' [a-z] ' ,  ' ', f) for f in pdf_p]\n",
    "\n",
    "pdf_p = [re.sub(' [a-z]\\.', '.', f) for f in pdf_p]\n",
    "\n",
    "pdf_p = [re.sub(' \\.', '.', f) for f in pdf_p]\n",
    "\n",
    "pdf_p = [re.sub('[\\n\\r]+', ' ', f) for f in pdf_p]\n",
    "pdf_p = [re.sub('[!@/%#$]', ' ', f) for f in pdf_p]\n",
    "pdf_p = [re.sub(r\"\\s\\([A-Z][a-z]+,\\s[A-Z][a-z]?\\.[^\\)]*,\\s\\d{4}\\)\", \"\", f) for f in pdf_p]\n",
    "# save all periods, exclamation marks and question marks, but get rid of unnecessary characters\n",
    "pdf_p = [re.sub('[\\.!?]+ ', 'XYZXYZ', t) for t in pdf_p]\n",
    "pdf_p = [re.sub('\\W*-\\W*', ' ', f) for f in pdf_p] # woordreparatie :)\n",
    "pdf_p = [re.sub('[\\W_]+', ' ', f) for f in pdf_p]\n",
    "pdf_p = [re.sub('XYZXYZ', '. ', f) for f in pdf_p]\n",
    "#pdf_p[0]"
   ]
  },
  {
   "cell_type": "code",
   "execution_count": null,
   "metadata": {},
   "outputs": [],
   "source": [
    "#pdf_p"
   ]
  },
  {
   "cell_type": "code",
   "execution_count": 12,
   "metadata": {},
   "outputs": [],
   "source": [
    "# Authors names are saved already (code is available at author name folder-get name list notebook)\n",
    "#load authors names\n",
    "import pickle\n",
    "author_name = pickle.load(open(\"C:/Thesis/Data/save/Master_Data/auth_ref_filter_num_char/auth_Journal_of_management_studies.p\", \"rb\"))"
   ]
  },
  {
   "cell_type": "code",
   "execution_count": 13,
   "metadata": {},
   "outputs": [],
   "source": [
    "# GET REFERENCE LISTS OF STOPWORDS, I.E. WORDS THAT ARE ESSENTIALLY MEANINGLESS\n",
    "# Get all the list of authors names\n",
    "\n",
    "from nltk.corpus import stopwords\n",
    "\n",
    "sw = stopwords.words('english') + author_name + country_lower + cities_lower\n",
    "\n",
    "#print(sw)"
   ]
  },
  {
   "cell_type": "code",
   "execution_count": 14,
   "metadata": {},
   "outputs": [],
   "source": [
    "# Function to filter out the stopwords and authors names\n",
    "def filterWords(msg, words):\n",
    "    m = msg.split(' ')\n",
    "    words_end = [w + '.' for w in words]\n",
    "    filtered_words = list(filter(lambda word: word not in words, m))\n",
    "    filtered_words = [(w if w not in words_end else '.') for w in filtered_words]\n",
    "    result = ' '.join(filtered_words)\n",
    "    return(result)"
   ]
  },
  {
   "cell_type": "code",
   "execution_count": 15,
   "metadata": {},
   "outputs": [],
   "source": [
    "# GET RID OF THE STOPWORDS IN TEXTS\n",
    "data_proc_1 = [filterWords(f, sw) for f in pdf_p]"
   ]
  },
  {
   "cell_type": "code",
   "execution_count": null,
   "metadata": {},
   "outputs": [],
   "source": [
    "#data_proc_1[11]"
   ]
  },
  {
   "cell_type": "code",
   "execution_count": 16,
   "metadata": {},
   "outputs": [],
   "source": [
    "stopwords = ['a', 'about', 'above', 'across', 'after', 'afterwards']\n",
    "stopwords += ['again', 'against', 'all', 'almost', 'alone', 'along']\n",
    "stopwords += ['already', 'also', 'although', 'always', 'am', 'among']\n",
    "stopwords += ['amongst', 'amoungst', 'amount', 'an', 'and', 'another']\n",
    "stopwords += ['any', 'anyhow', 'anyone', 'anything', 'anyway', 'anywhere']\n",
    "stopwords += ['are', 'around', 'as', 'at', 'back', 'be', 'became']\n",
    "stopwords += ['because', 'become', 'becomes', 'becoming', 'been']\n",
    "stopwords += ['before', 'beforehand', 'behind', 'being', 'below']\n",
    "stopwords += ['beside', 'besides', 'between', 'beyond', 'bill', 'both']\n",
    "stopwords += ['bottom', 'but', 'by', 'call', 'can', 'cannot', 'cant']\n",
    "stopwords += ['co', 'computer', 'con', 'could', 'couldnt', 'cry', 'de']\n",
    "stopwords += ['describe', 'detail', 'did', 'do', 'done', 'down', 'due']\n",
    "stopwords += ['during', 'each', 'eg', 'eight', 'either', 'eleven', 'else']\n",
    "stopwords += ['elsewhere', 'empty', 'enough', 'etc', 'even', 'ever']\n",
    "stopwords += ['every', 'everyone', 'everything', 'everywhere', 'except']\n",
    "stopwords += ['few', 'fifteen', 'fifty', 'fill', 'find', 'fire', 'first']\n",
    "stopwords += ['five', 'for', 'former', 'formerly', 'forty', 'found']\n",
    "stopwords += ['four', 'from', 'front', 'full', 'further', 'get', 'give']\n",
    "stopwords += ['go', 'had', 'has', 'hasnt', 'have', 'he', 'hence', 'her']\n",
    "stopwords += ['here', 'hereafter', 'hereby', 'herein', 'hereupon', 'hers']\n",
    "stopwords += ['herself', 'him', 'himself', 'his', 'how', 'however']\n",
    "stopwords += ['hundred', 'i', 'ie', 'if', 'in', 'inc', 'indeed']\n",
    "stopwords += ['interest', 'into', 'is', 'it', 'its', 'itself', 'keep']\n",
    "stopwords += ['last', 'latter', 'latterly', 'least', 'less', 'ltd', 'made']\n",
    "stopwords += ['many', 'may', 'me', 'meanwhile', 'might', 'mill', 'mine']\n",
    "stopwords += ['more', 'moreover', 'most', 'mostly', 'move', 'much']\n",
    "stopwords += ['must', 'my', 'myself', 'name', 'namely', 'neither', 'never']\n",
    "stopwords += ['nevertheless', 'next', 'nine', 'no', 'nobody', 'none']\n",
    "stopwords += ['noone', 'nor', 'not', 'nothing', 'now', 'nowhere', 'of']\n",
    "stopwords += ['off', 'often', 'on','once', 'one', 'only', 'onto', 'or']\n",
    "stopwords += ['other', 'others', 'otherwise', 'our', 'ours', 'ourselves']\n",
    "stopwords += ['out', 'over', 'own', 'part', 'per', 'perhaps', 'please']\n",
    "stopwords += ['put', 'rather', 're', 's', 'same', 'see', 'seem', 'seemed']\n",
    "stopwords += ['seeming', 'seems', 'serious', 'several', 'she', 'should']\n",
    "stopwords += ['show', 'side', 'since', 'sincere', 'six', 'sixty', 'so']\n",
    "stopwords += ['some', 'somehow', 'someone', 'something', 'sometime']\n",
    "stopwords += ['sometimes', 'somewhere', 'still', 'such', 'system', 'take']\n",
    "stopwords += ['ten', 'than', 'that', 'the', 'their', 'them', 'themselves']\n",
    "stopwords += ['then', 'thence', 'there', 'thereafter', 'thereby']\n",
    "stopwords += ['therefore', 'therein', 'thereupon', 'these', 'they']\n",
    "stopwords += ['thick', 'thin', 'third', 'this', 'those', 'though', 'three']\n",
    "stopwords += ['three', 'through', 'throughout', 'thru', 'thus', 'to']\n",
    "stopwords += ['together', 'too', 'top', 'toward', 'towards', 'twelve']\n",
    "stopwords += ['twenty', 'two', 'un', 'under', 'until', 'up', 'upon']\n",
    "stopwords += ['us', 'very', 'via', 'was', 'we', 'well', 'were', 'what']\n",
    "stopwords += ['whatever', 'when', 'whence', 'whenever', 'where']\n",
    "stopwords += ['whereafter', 'whereas', 'whereby', 'wherein', 'whereupon']\n",
    "stopwords += ['wherever', 'whether', 'which', 'while', 'whither', 'who']\n",
    "stopwords += ['whoever', 'whole', 'whom', 'whose', 'why', 'will', 'with']\n",
    "stopwords += ['within', 'without', 'would', 'yet', 'you', 'your']\n",
    "stopwords += ['yours', 'yourself', 'yourselves']"
   ]
  },
  {
   "cell_type": "code",
   "execution_count": 17,
   "metadata": {},
   "outputs": [],
   "source": [
    "data_proc = [filterWords(f, stopwords) for f in data_proc_1]"
   ]
  },
  {
   "cell_type": "code",
   "execution_count": null,
   "metadata": {},
   "outputs": [],
   "source": [
    "#data_proc[0]"
   ]
  },
  {
   "cell_type": "code",
   "execution_count": 18,
   "metadata": {},
   "outputs": [],
   "source": [
    "data_proc = [re.sub('\\s([?.!\"](?:\\s|$))' , r'\\1', f) for f in data_proc]\n",
    "data_proc = [re.sub(\"^\\s+\",\"\", f) for f in data_proc]\n",
    "data_proc = [re.sub(\"\\s+\\Z\",\"\", f) for f in data_proc]"
   ]
  },
  {
   "cell_type": "code",
   "execution_count": 19,
   "metadata": {},
   "outputs": [],
   "source": [
    "#data_proc"
   ]
  },
  {
   "cell_type": "code",
   "execution_count": 20,
   "metadata": {},
   "outputs": [],
   "source": [
    "# save data\n",
    "pickle.dump(data_proc, open( \"C:/Thesis/Data/save/Master_Data/MD_3/data_proc_latest/JM_studies_data_proc.p\", \"wb\" ) )"
   ]
  },
  {
   "cell_type": "code",
   "execution_count": 21,
   "metadata": {},
   "outputs": [],
   "source": [
    "#import io\n",
    "with open(\"C:/Thesis/Data/save/Master_Data/MD_3/data_proc_latest/JM_studies_data_proc_txt.txt\", \"w\",encoding=\"utf-8\") as outfile:\n",
    "    for i in range(len(data_proc)):\n",
    "        outstring = \"\"\n",
    "        outstring += str(data_proc[i])\n",
    "        outfile.write(outstring)"
   ]
  },
  {
   "cell_type": "code",
   "execution_count": null,
   "metadata": {},
   "outputs": [],
   "source": []
  }
 ],
 "metadata": {
  "kernelspec": {
   "display_name": "Python 3",
   "language": "python",
   "name": "python3"
  },
  "language_info": {
   "codemirror_mode": {
    "name": "ipython",
    "version": 3
   },
   "file_extension": ".py",
   "mimetype": "text/x-python",
   "name": "python",
   "nbconvert_exporter": "python",
   "pygments_lexer": "ipython3",
   "version": "3.7.6"
  }
 },
 "nbformat": 4,
 "nbformat_minor": 2
}
