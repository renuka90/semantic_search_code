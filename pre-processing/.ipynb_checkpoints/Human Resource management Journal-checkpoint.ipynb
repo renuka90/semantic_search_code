{
 "cells": [
  {
   "cell_type": "code",
   "execution_count": null,
   "metadata": {},
   "outputs": [],
   "source": [
    "import os\n",
    "import re\n",
    "import pandas as pd\n",
    "import urllib\n",
    "from nltk import SnowballStemmer\n",
    "from gensim.models import Word2Vec\n",
    "#import langdetect\n",
    "import tika\n",
    "import time\n",
    "from tika import parser\n",
    "import pickle"
   ]
  },
  {
   "cell_type": "markdown",
   "metadata": {},
   "source": [
    "# Raw Articles pdf Data\n",
    "Convert pdf to text using Tika apache server "
   ]
  },
  {
   "cell_type": "code",
   "execution_count": null,
   "metadata": {},
   "outputs": [],
   "source": [
    "# specify the target data folder\n",
    "target_dir = 'C:/Thesis/Data/Academy_of_Management_journal'"
   ]
  },
  {
   "cell_type": "code",
   "execution_count": null,
   "metadata": {},
   "outputs": [],
   "source": [
    "# prep pdf extraction\n",
    "pdf_files = []\n",
    "wrd_files = []\n",
    "\n",
    "for f in os.listdir(target_dir):\n",
    "    if f.endswith(\".pdf\") | f.endswith(\".PDF\"):\n",
    "        thispdf = os.path.join(target_dir, f)\n",
    "        pdf_files = pdf_files + [thispdf]\n",
    "    if f.endswith(\".doc\") | f.endswith(\".docx\") | f.endswith(\".DOC\") | f.endswith(\".DOCX\"):\n",
    "        thiswrd = os.path.join(target_dir, f)\n",
    "        wrd_files = wrd_files + [thiswrd]"
   ]
  },
  {
   "cell_type": "code",
   "execution_count": null,
   "metadata": {},
   "outputs": [],
   "source": [
    "port = 4321 # port to use for Tika server (chosen arbitrarily)\n",
    "server_str = 'http://localhost:' + str(port)\n",
    "tika_path  = 'C:\\Software\\ tika-server-1.23.jar'\n",
    "tika_run   = 'java -jar' + tika_path + ' --port ' + str(port)\n",
    "print('Command to start Tika:')\n",
    "print(tika_run)\n",
    "print('---')\n",
    "print('Number of pdf files: ' + str(len(pdf_files)))\n",
    "print('Number of word files: ' + str(len(wrd_files)))"
   ]
  },
  {
   "cell_type": "markdown",
   "metadata": {},
   "source": [
    "# PDF Metadata"
   ]
  },
  {
   "cell_type": "code",
   "execution_count": null,
   "metadata": {},
   "outputs": [],
   "source": [
    "# process the PDF files, store text in memory\n",
    "tika.TikaClientOnly = True \n",
    "\n",
    "pdf_metadata = [parser.from_file(t, server_str, xmlContent=False)[\"metadata\"] for t in (pdf_files + wrd_files)]"
   ]
  },
  {
   "cell_type": "code",
   "execution_count": null,
   "metadata": {},
   "outputs": [],
   "source": [
    "# save data metadata\n",
    "pickle.dump(pdf_metadata, open( \"C:/Thesis/Data/save/Human_Resource_Management_journal/metadata/metadata_all.p\", \"wb\" ) )"
   ]
  },
  {
   "cell_type": "markdown",
   "metadata": {},
   "source": [
    "# pdf content"
   ]
  },
  {
   "cell_type": "code",
   "execution_count": null,
   "metadata": {},
   "outputs": [],
   "source": [
    "# process the PDF files, store text in memory\n",
    "tika.TikaClientOnly = True \n",
    "\n",
    "#pdf_text = [parser.from_file(t, server_str, xmlContent=False)[\"content\"] for t in (pdf_files + wrd_files)]"
   ]
  },
  {
   "cell_type": "markdown",
   "metadata": {},
   "source": [
    "# step-1 Load pdf content"
   ]
  },
  {
   "cell_type": "code",
   "execution_count": 1,
   "metadata": {},
   "outputs": [],
   "source": [
    "import pickle\n",
    "#load the text data\n",
    "pdf_text = pickle.load(open(\"C:/Thesis/Data/save/Human_Resource_Management_journal/save_alltextData.p\", \"rb\"))\n"
   ]
  },
  {
   "cell_type": "code",
   "execution_count": 2,
   "metadata": {},
   "outputs": [
    {
     "data": {
      "text/plain": [
       "481"
      ]
     },
     "execution_count": 2,
     "metadata": {},
     "output_type": "execute_result"
    }
   ],
   "source": [
    "len(pdf_text)"
   ]
  },
  {
   "cell_type": "markdown",
   "metadata": {},
   "source": [
    "# step-2 convert it to lowercase"
   ]
  },
  {
   "cell_type": "code",
   "execution_count": 4,
   "metadata": {},
   "outputs": [],
   "source": [
    "#Convert each string to lowercase\n",
    "for i in range(len(pdf_text)):\n",
    "    pdf_text[i] = pdf_text[i].lower()"
   ]
  },
  {
   "cell_type": "markdown",
   "metadata": {},
   "source": [
    "# Excluding pdfs if it doesnot have the standard format\n",
    "check the standard format of pdf- if it contains method and discussion section or not"
   ]
  },
  {
   "cell_type": "code",
   "execution_count": 5,
   "metadata": {},
   "outputs": [
    {
     "data": {
      "text/plain": [
       "87"
      ]
     },
     "execution_count": 5,
     "metadata": {},
     "output_type": "execute_result"
    }
   ],
   "source": [
    "import re\n",
    "pdf_included =[]\n",
    "pdf_excluded =[]\n",
    "\n",
    "for i in pdf_text:\n",
    "    flag_1 = re.search(r'\\n(general )?discussion\\n', i)\n",
    "    flag_2 = re.search(r'\\nmethods?\\n', i)\n",
    "   \n",
    "    if flag_1 and flag_2: \n",
    "        pdf_included.append(i)\n",
    "     \n",
    "    else:\n",
    "        pdf_excluded.append(i)\n",
    "len(pdf_included)"
   ]
  },
  {
   "cell_type": "code",
   "execution_count": 6,
   "metadata": {},
   "outputs": [
    {
     "data": {
      "text/plain": [
       "'\\n\\n\\n\\n\\n\\n\\n\\n\\n\\n\\n\\n\\n\\n\\n\\n\\n\\n\\n\\n\\n\\n\\n\\n\\n\\n\\n\\n\\n\\n\\n\\n\\n\\n\\n\\n\\n\\n\\n\\n\\n\\n\\n\\n\\n\\n\\n\\n\\n\\n\\n\\n\\n\\n\\n\\n\\n\\n\\n\\n\\n\\nreducing perceptions of overqualification and its impact on job satisfaction: the dual roles of interpersonal relationships at work\\n\\n\\nreducing perceptions of overqualification and its\\n\\nimpact on job satisfaction: the dual roles of\\n\\ninterpersonal relationships at work\\n\\nkerstinalfes, chair of organisation andhuman resourcemanagement, escpeurope\\nwirtschaftshochschule berlin\\namanda shantz, department of management, iéseg school of management lem-\\ncnrs (umr 9221)\\nsabine van baalen, department of human resource studies, tilburg university\\nhuman resource management journal, vol 26, no 1, 2016, pages 84–101\\n\\na sizeable portion of the working population perceives that they are overqualified for their jobs. this is\\nproblematic, given that research consistently shows that such beliefs translate into lower levels of job\\nsatisfaction. hence, it behoves human resource management (hrm) scholars to identify factors that influence\\nperceptions of overqualification and also moderators that may reduce the negative effect of perceived\\noverqualification on job satisfaction. in this study, we present a moderated path model that posits that the\\nquality of the relationships that employees hold with their leader and with their team is not only antecedents of\\nperceived overqualification but it is also hypothesised to weaken the negative relationship between perceived\\noverqualification and job satisfaction. survey data that were gathered from two organisations in the\\nnetherlands (n = 183) supported the model. implications for theory and practice in hrm are discussed.\\ncontact: kerstin alfes, escp europe wirtschaftshochschule berlin, chair of organisation and\\nhuman resource management, heubnerweg 8-10, 14059 berlin. email: kalfes@escpeurope.eu\\nkeywords: job satisfaction; leader–member exchange; perceived overqualification; team cohesiveness\\n\\nintroduction\\n\\no\\nne of the central issues facing hrm practitioners is ensuring that employees possess\\nand deploy skills to carry out their jobs successfully (grugulis, 2003). while human\\nresource management (hrm) research has primarily focused on managing under-\\n\\nskilled workers (e.g. edwards et al., 2009), more recently, attention has been directed towards\\nmanaging those who are overqualified for their jobs (erdogan et al., 2011a). this is because a\\nnumber of conditions, including rising education levels, the global mobility of jobs and the\\nrecent economic crisis, have led to a situation in which an increasing number of employees\\npossess more skills and education than what is required for their jobs (quintini, 2011;\\npouliakas, 2013). for instance, research suggests that as many as one in three workers are\\noverqualified in countries such as the uk, the us, canada and germany (groot and maassen\\nvan den brink, 2000; quintini, 2011), and the number of overqualified employees is likely to\\nincrease in the future (vaisey, 2006). overqualification is therefore of central interest to scholars,\\npolicymakers and hrm practitioners.\\n\\nhuman resource management research has produced compelling evidence that perceptions\\nof overqualification, that is, the extent to which employees are aware of the mismatch between\\ntheir qualifications and job requirements, have negative consequences for overqualified\\nemployees and the organisations that employ them (e.g. feldman et al., 2002; erdogan and\\nbauer, 2009). indeed, a robust finding is that employees who perceive that they are\\noverqualified have poor job satisfaction because they believe that they are deprived of a better\\n\\nplease cite this article in press as: alfes, k., shantz, a. and van baalen, s. (2016) ‘reducing perceptions of overqualification and its impact on job\\n\\nsatisfaction: the dual roles of interpersonal relationships at work’. human resource management journal 26: 1, 84–101.\\n\\n84 human resource management journal, vol 26, no 1, 2016\\n\\n© 2016 john wiley & sons ltd.\\n\\ndoi: 10.1111/1748-8583.12094\\n\\nbs_bs_banner\\n\\n\\n\\njob (crosby, 1976; feldman et al., 2002). this is problematic given the association between job\\nsatisfaction and a host of important individual and organisational outcomes (e.g. judge et al.,\\n2001; faragher et al., 2005). in order to minimise the occurrence and negative consequences\\nof perceived overqualification, hrm scholarsmust respond to two pressing questions: (a) what\\nfactors influence the extent to which employees perceive that they are overqualified for their\\njobs? and (b) what factors minimise dissatisfaction due to overqualification?\\n\\ntheoretical models have shed some light on the first question (feldman, 1996; mckee-\\nryan and harvey, 2011). indeed, factors such as the economic environment, employees’\\ncareer history and employees’ traits and work preferences likely influence the extent to\\nwhich employees feel overqualified for their jobs (see mckee-ryan and harvey, 2011, for\\na review). in the present article, we argue that factors located within an employee’s work\\nenvironment may also be associated with perceived overqualification. this is because\\nproximal factors in the work environment play a dominant role in influencing employee\\nattitudes (lewin, 1943).\\n\\nto respond to the second question, it is necessary to explore moderators of the relationship\\nbetween perceived overqualification and job satisfaction. examining moderating factors is\\nimportant, not only because it enhances overqualification theory by identifying conditions\\nunder which the relationship between overqualification and job satisfaction is tempered\\n(whetten, 1989; colquitt and zapata-phelan, 2007) but it also has practical significance. this\\nis becausehrmprofessionals seemingly face a dilemmawith regard to engaging and retaining\\noverqualified workers. although they recognise that many overqualified candidates are likely\\nto perform well in their jobs, hrm professionals are oftentimes fearful of hiring overqualified\\nworkers because they believe that theywill be less satisfied atwork andmay quit if they find an\\nalternative job that is commensurate with their qualifications (e.g. green, 2013; sullivan, 2014).\\nhence, identifying factors that reduce the negative relationship between perceptions of\\noverqualification and job satisfaction will help to resolve this dilemma.\\n\\nthe present study was designed to respond to these two questions through an examination\\nof the dual (i.e. independent and moderating) roles of interpersonal relationships at work\\n(figure 1) in the context of overqualification. specifically, we focus on employees’ perceptions\\nof the quality of the relationships that they have with their manager, or leader–member\\nexchange (graen and uhl-bien, 1995) and with their team, as indicated by employees’\\nperceptions of team cohesiveness (schermerhorn et al., 2002) as antecedents of perceived\\noverqualification, as well as moderators of the relationship between perceived\\noverqualification and job satisfaction.\\n\\ninterpersonal relationships at work as antecedents of perceived\\n\\noverqualification\\n\\nalthough researchers in the fields of education and economics suggest that employees are\\noverqualified when their educational qualifications exceed the mean or modal level of\\nqualification held by their occupational group (pouliakas, 2013), researchers in hrm tend to\\ntake a broader view of overqualification. they suggest that it occurs when employees perceive\\nthat they have skills, knowledge, abilities, qualifications and/or experience that exceed the\\nrequirements of the job, or are not used on the job (erdogan et al., 2011b). we focus on\\nperceptions of overqualification because they take into account more than educational\\nqualifications, they reflect the experience of employees (zalesny and ford, 1990; maynard\\net al., 2006) and they are more likely to be related to important job attitudes such as job\\nsatisfaction (erdogan et al., 2011b).\\n\\nkerstin alfes, amanda shantz and sabine van baalen\\n\\nhuman resource management journal, vol 26, no 1, 2016 85\\n\\n© 2016 john wiley & sons ltd.\\n\\n\\n\\ntheoretical models have identified a number of important determinants of overqualification.\\nmost research in this area has focused on either macro level or demographic factors that tend not\\nto be within an organisation’s control (i.e. economic conditions within particular industries and\\nemployees’ race) (e.g.mckee-ryanandharvey, 2011).weadd to this bodyof literatureby looking\\ninside the organisation for factors thatmay lessen employees’ perceptions of overqualification by\\nexamining the quality of their interpersonal relationshipswith their leader andwith their team.\\n\\nemployees who forge high-quality interpersonal relationships at work are likely to report\\nlower perceptions of overqualification because they feel that their knowledge, skills and\\nabilities are utilised at work. for instance, followers of high-quality leader–member exchange\\nrelationships enjoy more open and honest communication, greater access to resources and\\nare provided with more challenging job assignments. their leaders also make them feel more\\nvaluable, as they recognise their potential and understand their problems and needs (graen\\nand uhl-bien, 1995). lower-quality relationships, on the other hand, tend to put followers at\\na relative disadvantage in terms of job benefits and career progression (vecchio, 1997), as\\nfollowers receive less information and recognition from their leader (e.g. gerstner and day,\\n1997) and therefore feel less valued by their leader. unlike those in lower-quality relationships,\\nemployees who forge high-quality leader–member exchange relationships feel more\\nempowered (aryee and chen, 2006), and they believe that their work is more meaningful\\n(tummers and knies, 2013). therefore, we hypothesise:\\n\\nh1: leader–member exchange is negatively related to perceived overqualification.\\n\\nemployees who belong to cohesive teams may also feel more utilised at work and therefore\\nhave lower perceptions of overqualification. this is because members of cohesive groups often\\ngo beyond their job description to benefit the group because of their enhanced identification\\nand commitment to the team’s goals (hausknecht et al., 2009; thatcher and patel, 2011).\\nemployees who work in cohesive teams interact closely and frequently with each other, which\\n\\nfigure 1 conceptual model\\n\\nperceptions of overqualification and job satisfaction\\n\\n86 human resource management journal, vol 26, no 1, 2016\\n\\n© 2016 john wiley & sons ltd.\\n\\n\\n\\nresults in a convergence in team members’ perceptions regarding the relative strength of\\nindividual group members and the group’s overall goals (cartwright, 1968). members of\\ncohesive teams may feel more valued at work because they get along well with those in their\\nteam, and team members defend and assist each other when needed; those who belong to less\\ncohesive teams, on the other hand, lack support and may feel undervalued. consequently,\\nmembers of cohesive teams engage in more cooperative behaviours (van dyne et al., 1995;\\nkidwell et al., 1997), whichmay prompt them to feel more utilised, evenwhen their knowledge,\\nskills and abilities are not formally required in their job. hence, we hypothesise:\\n\\nh2: team cohesiveness is negatively related to perceived overqualification.\\n\\nperceptions of overqualification and job satisfaction\\n\\nprevious research has illustrated the negative effects of overqualification for organisations and\\noverqualified individuals. for instance, research has demonstrated that overqualified employees\\nreport poorer health outcomes (johnson and johnson, 1997), higher intentions to turnover\\n(maynard et al., 2006; erdogan and bauer, 2009) and more negative job attitudes, including\\ndisengagement and job dissatisfaction, compared with their adequately qualified counterparts\\n(e.g. lee, 2005; kraimer et al., 2009). in the present study, we focus on the relationship between\\nperceived overqualification and job satisfaction, whereby job satisfaction is defined as a positive\\nor pleasurable emotional state resulting from the appraisal of one’s job (locke, 1976).\\n\\nrelative deprivation theory explains the negative relationship between overqualification\\nand job satisfaction; it maintains that people feel dissatisfied with an outcome, including their\\njobs, when there is a discrepancy between the outcome they want and the outcome they\\nreceive; when past experience has led them to expect more than what they currently have;\\nand when they feel that they are entitled to more (crosby, 1976). overqualified employees\\nexpect to hold jobs in which they are able to fully use their abilities and talents, and given their\\neducation and/orwork experience, feel that they deserve better jobs (erdogan and bauer, 2009).\\nthe greater the relative deprivation, the greater the sense of frustration, resulting in increased\\nnegative job attitudes, such as job dissatisfaction (crosby, 1976; feldman et al., 2002). hence,\\nwe hypothesise:\\n\\nh3: perceived overqualification is negatively related to job satisfaction.\\n\\nthe moderating role of interpersonal relationships on the link between\\n\\nperceived overqualification and job satisfaction\\n\\ndespite the evidence that overqualified employees have poorer job attitudes, there may be\\nconditions that mitigate its negative effect (erdogan et al., 2011b). because overqualified\\nemployees feel deprived of what they deserve, it follows that the provision of alternative\\nresources may compensate for feelings of relative deprivation, thereby weakening the negative\\nrelationship between overqualification and job satisfaction.\\n\\nimportant resources that employees can draw from are derived from the interpersonal\\nrelationships they hold at work. this is because, according to social exchange theory, parties\\nin interpersonal relationships engage in economic and social exchanges. economic exchanges\\nprovide tangible resources that are typically short-term and financially oriented (shore et al.,\\n2006), such as money, information or services. social exchanges involve the exchange of both\\ntangible and intangible resources that are directed at fulfilling employees’ needs for esteem,\\n\\nkerstin alfes, amanda shantz and sabine van baalen\\n\\nhuman resource management journal, vol 26, no 1, 2016 87\\n\\n© 2016 john wiley & sons ltd.\\n\\n\\n\\napproval and care and may include support, friendship and respect (armeli et al., 1998; shore\\net al., 2009). in what follows, we develop theoretical arguments that interpersonal relationship\\npartners provide employees with tangible and intangible resources that may weaken the\\nrelationship between perceptions of overqualification and job satisfaction.\\n\\nthe moderating role of leadership\\n\\noverqualified employees with high-quality relationships with their leader may believe that\\ntheir leader provides them with tangible resources. these tangible resources may cause\\noverqualified employees to believe that they are less deprived fromwhat they deserve, thereby\\nreducing the negative relationship between overqualification and job satisfaction. for instance,\\noverqualified employees’ leadersmay position them for future promotion opportunities so that\\nthey can move out of their overqualified job, leaving them more satisfied with their work.\\nindeed, seibert et al. (2003) found that employees who perceive that they have high-quality\\nleader–member exchange relationships are more integrated into their leader’s network, which\\nmay instil in them confidence that their leader will provide themwith challenging assignments\\nand growth opportunities in the future. the provision of challenging assignments or other\\ngrowth opportunities does not change the actual positions that overqualified employees hold\\nin terms of salary level, for instance, yet they do prepare overqualified employees to take the\\nnext step on their career ladder towards positions in which they feel adequately qualified.\\nhence, overqualified employees with high-quality leader–member exchange relationships\\nmay believe that career progress is in store for them, thereby reducing feelings of relative\\ndeprivation, and increase levels of job satisfaction.\\n\\nalongside tangible resources, high-quality leader–member exchange relationships may also\\nprovide intangible resources. in high-quality leader–member exchange relationships, leaders\\nprovide followers with socio-emotional support, such as showing concern or celebrating\\nsuccess, which may reduce the feeling that they are deprived of something that they deserve,\\nmaking them more satisfied with their jobs. support for this is found in a study by ritz et al.\\n(2012); the authors demonstrated that employees with a negative self-view had higher\\ncommitment to change when they also had high-quality leader–member exchange\\nrelationships. hence, high-quality leader–member exchange relationships may counterbalance\\nthe negative effect of overqualification because they minimise the felt relative deprivation that\\ncoincides with perceptions of overqualification. hence, we hypothesise:\\n\\nh4: leader–member exchange moderates the negative relationship between perceived\\noverqualification and job satisfaction, such that the relationship will be weaker when leader–\\nmember exchange is high.\\n\\nthe moderating role of team cohesiveness\\n\\nin terms of tangible support, team members provide information-related task support, such as\\nadvice on how to solve a work-related problem, and behavioural task support, such as\\nassistance during task completion (fenlason and beehr, 1994). both types of activities may\\ncontribute to weakening the negative effect of overqualification on job satisfaction. for\\ninstance, task-related support may trigger reciprocal support from others, which increases\\nteam members’ satisfaction with their jobs. likewise, behavioural support may cause\\noverqualified employees to be more satisfied with their jobs, as they share information with\\none another, thereby learning new job roles (hüffmeier and hertel, 2011). because\\noverqualified employees may perceive that they are entitled to more than what they have in\\n\\nperceptions of overqualification and job satisfaction\\n\\n88 human resource management journal, vol 26, no 1, 2016\\n\\n© 2016 john wiley & sons ltd.\\n\\n\\n\\ntheir current job roles, these forms of tangible support may counterbalance their feelings of\\nrelative deprivation and therefore increase their levels of job satisfaction.\\n\\nwith regard to intangible resources, cohesive teams provide emotion-related support, such as\\nencouragement and recognition (carson et al., 2007). moreover, they promote a sense of\\npurpose, and they make the work situation more enjoyable (lim, 1996). a cohesive team may\\nstabilise or increase overqualified employees’ self-perceptions, which are undercut by their\\noverqualified status. their sense of relative deprivationmay therefore decrease leading to higher\\nsatisfaction, given that they have developed emotional bonds with their team members. in a\\nsimilar way, support from overqualified employees’ team members may increase their feelings\\nof belonging, as the success of the team may inform personal self-esteem (e.g. van dick et al.,\\n2009), therefore leaving them relatively more satisfied with their jobs. hence, we hypothesise:\\n\\nh5: team cohesiveness moderates the negative relationship between perceived overqualification and\\njob satisfaction, such that the relationship will be weaker when team cohesiveness is high.\\n\\nmethods\\n\\nthe data were collected from employees who worked at two organisations in different\\nindustries located in the netherlands. a series of t-tests showed that employees did not\\nsignificantly differ along perceptions of overqualification, leader–member exchange or team\\ncohesiveness between the two organisations.\\n\\ncompany a\\n\\ncompany a is a multinational fast-moving consumer goods company. a total of 126\\nemployees were sent an e-mail with a link to an online questionnaire. the e-mail explained\\nthe purpose of the study and guaranteed participant anonymity and confidentiality. after\\n10days, participants were sent a reminder to complete the survey. from the sample, 48\\nquestionnaires were returned, resulting in a response rate of 38.09per cent. the sample\\ncomprised 42.6per cent women, the average age was 36.57years (sd=9.7), 79.2per cent of\\nthe respondents were employed full-time and the majority of participants held a permanent\\ncontract (85.1per cent). participants held administrative, technical support and sales roles.\\n\\ncompany b\\n\\ncompany b is an employment agency, and the data were collected following the same\\nprocedure as company a. the sample comprised 346 employees. a total of 135 employees\\ncompleted the questionnaire, resulting in a response rate of 39.02per cent. the sample\\ncomprised 70.9per cent women, the average age was 30.95years (sd=7.7), 57.6per cent of\\nthe respondentswere employed full-time and 63.9per cent of the participants held a permanent\\ncontract. the majority of the participants carried out marketing or sales tasks with\\nresponsibilities for the acquisition and relationship management of client portfolios. the\\nparticipants also held administrative or technical support roles.\\n\\nmeasures\\n\\nthe study was conducted in dutch-speaking companies. hence, all of the measures were\\ntranslated into dutch using a back-translation procedure (brislin et al., 1973). all scales were\\nrated on a seven-point likert-type scale, ranging from (1) strongly disagree to (7) strongly agree.\\n\\nperceptions of overqualification were measured using the nine-item scale of perceived\\noverqualification developed bymaynard et al. (2006). an example item is: ‘my job requires less\\n\\nkerstin alfes, amanda shantz and sabine van baalen\\n\\nhuman resource management journal, vol 26, no 1, 2016 89\\n\\n© 2016 john wiley & sons ltd.\\n\\n\\n\\neducation than i have’. cronbach’s alpha was 0.88. given the translation of the measure, the\\nstructure of this scale was confirmed via confirmatory factor analysis (hair et al., 2009). the\\nresults supported the structure and construct validity of the dutch perceived overqualification\\nscale. the translatedmeasure, alongwith the results of these analyses, can be obtained from the\\nfirst author.\\n\\njob satisfaction was measured with a three-item scale used by takeuchi et al. (2009). an\\nexample item is: ‘all in all, i am satisfied with my job’. cronbach’s alpha was 0.91.\\n\\nleader–member exchange was measured by graen and uhl-bien’s (1995) seven-item leader–\\nmember exchange scale. employee ratings of leader–member exchange were used in the\\npresent study because our theorising focuses on how employees perceive the quality of the\\nleader–member relationship and the support they receive from their supervisor. an example\\nitem is: ‘my manager recognises my potential’. cronbach’s alpha was 0.93.\\n\\nteam cohesiveness was measured using an eight-item scale developed by dobbins and\\nzaccaro (1986). an example item is: ‘the team which i belong to is a close one’. cronbach’s\\nalpha was 0.75.\\n\\ncontrol variables included age, working part-time/full-time (full-time=1), contract type\\n(permanent contract = 1) and organisation (company a=1). these were chosen because\\noverqualification is highly relevant to the ageing of the workforce (erdogan et al., 2011b),\\npart-time employees tend to experience higher perceptions of overqualification compared with\\nfull-time employees (li et al., 2006) and temporary workers tend to have lower job satisfaction\\ncompared with permanent workers (e.g. booth et al., 2000). the organisation in which the\\nemployees worked was controlled for, given the myriad differences in terms of their respective\\nstructure, hrm practices and organisational culture. all analyses were carried out with and\\nwithout control variables. the results were the same, supporting the robustness of the findings\\n(becker, 2005).\\n\\nresults\\n\\ndescriptive statistics\\n\\nspss (version 22) (armonk, ny) was used to calculate the descriptive statistics and to test the\\nhypotheses. table 1 presents the means, standard deviations and correlations among the\\nvariables. all correlation coefficients were below 0.70. hence, problems associated with\\nmulticollinearity are less of a concern (tabachnick and fidell, 2007).\\n\\ntable 1 descriptive statistics\\n\\nm sd 1. 2. 3. 4. 5. 6. 7.\\n\\n1. age 32.41 8.57\\n2. full-time 0.64 0.48 0.14\\n3. organisation a 0.26 0.44 0.29** �0.21**\\n4. permanent contract 0.69 0.46 0.43** 0.05 0.20**\\n5. perceived overqualification 3.90 1.34 �0.27** 0.10 �0.05 �0.35**\\n6. job satisfaction 6.07 0.98 0.16* �0.13 0.10 0.13 �0.34**\\n7. leader–member exchange 5.53 1.17 0.03 �0.08 0.03 0.09 �0.20** 0.45**\\n8. team cohesiveness 5.99 0.81 0.01 �0.20** �0.04 0.15* �0.25** 0.42** 0.39**\\n\\n* p< 0.05.\\n\\n** p< 0.01.\\n\\nperceptions of overqualification and job satisfaction\\n\\n90 human resource management journal, vol 26, no 1, 2016\\n\\n© 2016 john wiley & sons ltd.\\n\\n\\n\\nhypotheses testing\\n\\nwe tested the hypotheses using conditional process analysis. specifically, we used hayes’\\n(2013) process spss macro to test the hypotheses. we conducted two separate moderated\\npath models: one for leader–member exchange and another for team cohesiveness. this\\nenabled us to test the independent and moderating roles for each interpersonal relationship\\nsimultaneously. moreover, bootstrapping was used; this is advantageous, especially in smaller\\nsamples, and helps to reduce the chances of committing a type 2 error.\\n\\nhayes’ procedure simultaneously estimates two models. the first specifies perceived\\noverqualification as the dependent variable and leader–member exchange (or team cohesiveness)\\nas the predictor variables, whereas the latter specifies job satisfaction as the dependent variable\\nand overqualification, leader–member exchange (or team cohesiveness) and the cross product of\\noverqualification and leader–member exchange (or team cohesiveness), as predictors. ninety-five\\nper cent bias-corrected bootstrapped confidence intervals were computed to make inferences\\nabout significant relationships. the results for each of the moderated path models are presented\\nin figure 2 and tables 2 and 3. in particular, the first models in tables 2 and 3 present the test\\nresults for the first set of hypotheses. the second models in tables 2 and 3 present the test results\\nfor the latter two hypotheses. the use of conditional process analysis allowed us to test these\\nmodels for each interpersonal relationship simultaneously.\\n\\nfigure 2 empirical model\\n\\nkerstin alfes, amanda shantz and sabine van baalen\\n\\nhuman resource management journal, vol 26, no 1, 2016 91\\n\\n© 2016 john wiley & sons ltd.\\n\\n\\n\\ntable 2 shows the estimated standardised regression coefficients of the moderated path\\nmodel, using leader–member exchange as a predictor and moderator. looking at the first\\nmodel, leader–member exchange is a negative and significant predictor of perceived\\n\\ntable 2 moderated path model of lmx, perceived overqualification and job satisfaction\\n\\n(1) dependent variable = perceived overqualification\\n\\nindependent variables β (standard error) lower cl, upper ci\\nage �0.03 (0.01)* �0.06,�0.01\\nfull-time �0.42 (0.20)* �0.82,�0.03\\norganisation 0.26 (0.23) �0.19, 0.70\\npermanent �0.80 (0.22)** �1.24,�0.36\\nlmx �0.20 (0.08)* �0.35,�0.04\\n\\n(2) dependent variable = job satisfaction\\nindependent variables β (standard error) lower cl, upper ci\\nage 0.01 (0.01) �0.01, 0.03\\nfull-time 0.16 (0.14) �0.11, 0.43\\norganisation 0.13 (0.15) �0.17, 0.43\\npermanent �0.10 (0.16) �0.41, 0.21\\nlmx 0.04 (0.17) �0.30, 0.37\\noverqualification �0.59 (0.23)* �1.04,�0.13\\nlmx × overqualification 0.08 (0.04)* 0.01, 0.16\\n\\n* p< 0.05.\\n\\n** p< 0.01.\\n\\nlmx, leader–member exchange.\\n\\nci = 95% bias-corrected bootstrapped confidence intervals.\\n\\ntable 3 moderated path model of team cohesiveness, perceived overqualification and job satisfaction\\n\\n(1) dependent variable = perceived overqualification\\n\\nindependent variables β (standard error) lower cl, upper ci\\nage �0.03 (0.01)* �0.06,�0.01\\nfull-time �0.35 (0.20) �0.75, 0.05\\norganisation 0.20 (0.23) �0.25, 0.64\\npermanent �0.75 (0.22)** �1.18,�0.30\\nteam cohesiveness �0.32 (0.11)** �0.55,�0.09\\n\\n(2) dependent variable = job satisfaction\\nindependent variables β (standard error) lower cl, upper ci\\nage 0.01 (0.01) �0.01, 0.03\\nfull-time 0.06 (0.14) �0.22, 0.34\\norganisation 0.22 (0.16) �0.09, 0.52\\npermanent �0.20 (0.16) �0.52, 0.12\\nteam cohesiveness �0.01 (0.24) �0.48, 0.46\\noverqualification �0.85 (0.33)* �1.51,�0.19\\nteam cohesiveness × overqualification 0.12 (0.06)* 0.01, 0.23\\n\\n* p< 0.05.\\n\\n** p< 0.01 .\\n\\nci = 95% bias-corrected bootstrapped confidence intervals.\\n\\nperceptions of overqualification and job satisfaction\\n\\n92 human resource management journal, vol 26, no 1, 2016\\n\\n© 2016 john wiley & sons ltd.\\n\\n\\n\\noverqualification, supporting hypothesis 1 [adj. r2 = 0.20, f(5, 171) = 8.47, p< 0.00]. turning\\nattention to the second model, the relationship between overqualification and job satisfaction\\nis negative, lending support to hypothesis 3. a separate multiple regression analysis with only\\nperceived overqualification and the controls as independent variables [β =�0.31, se=0.06,\\np< 0.001; adj. r2 = 0.11; f(5, 171) = 5.12, p< 0.01] supported this hypothesis.\\n\\nthe model that predicts job satisfaction in table 2 also shows that the interaction\\nbetween perceived overqualification and leader–member exchange was significant [adj.\\nr2 = 0.31, f(7, 169) = 10.67, p< 0.00]. figure 3 shows the plot with conditional indirect effects\\nof overqualification on job satisfaction estimated for employees who score high (1 standard\\ndeviation above the mean) and who score low (1 standard deviation below the mean) on\\nleader–member exchange. the interaction indicates that the slopes are different from one\\nanother, and the figure depicts a negative relationship between overqualification and job\\nsatisfaction, but the slope of the line is less steep for those who have high-quality relationships\\nwith their leader. hypothesis 4 is therefore supported.\\n\\nwe also estimated the conditional indirect effects of perceived overqualification on the\\nrelationship between leader–member exchange and job satisfaction estimated at two values\\nof leader–member exchange as the moderator (one standard deviation above and below the\\nmean). the indirect effect is significantly positive at low levels of leader–member exchange\\n(β =0.05, se=0.02, p< 0.05); it is not significant at high levels of leader–member exchange\\n(β =0.01, se=0.01, p =n.s.). this means that among those who have a high-quality relationship\\nwith their leader, it is less likely that they perceive that they are overqualified, prompting lower\\nlevels of job satisfaction. thus, the indirect effect of leader–member exchange on job satisfaction\\nthrough perceived overqualification was larger among those who had a poorer relationship\\nwith their manager. these results are in line with our theoretical model.\\n\\nturning to the results for team cohesiveness as a predictor andmoderator, table 3 shows the\\nestimated standardised regression coefficients of the moderated path model. the results from\\nthe first model of this analysis show that team cohesiveness is a negative and significant\\n\\nfigure 3 the effect of leader–member exchange (lmx) on the relationship between perceptions of\\noverqualification and job satisfaction\\n\\nkerstin alfes, amanda shantz and sabine van baalen\\n\\nhuman resource management journal, vol 26, no 1, 2016 93\\n\\n© 2016 john wiley & sons ltd.\\n\\n\\n\\npredictor of perceived overqualification, supportinghypothesis 2 [adj.r2 = 0.21, f(5, 171)= 8.74,\\np< 0.00]. the results of the second model revealed that the interaction between perceived\\noverqualification and team cohesiveness was significant [adj. r2 = 0.29, f(7, 169) = 9.65,\\np< 0.00]. figure 4 shows the plot with conditional indirect effects of overqualification on job\\nsatisfaction estimated for employees who score high (1 standard deviation above the mean)\\nand who score low (1 standard deviation below the mean) on team cohesiveness. the\\ninteraction implies that the slopes are different from one another, and the figure shows a\\nnegative relationship between overqualification and job satisfaction, but the slope of the line\\nis less steep for those who have high levels of team cohesiveness. hypothesis 5 is therefore\\nsupported.\\n\\nwe computed the conditional indirect effects of perceived overqualification on the\\nrelationship between team cohesiveness and job satisfaction estimated at two values of team\\ncohesiveness as a moderator (one standard deviation above and below the mean). the indirect\\neffect is significant and positive at low levels of team cohesiveness (β =0.08, se=0.04, p< 0.05);\\nit is not significant at high levels of team cohesiveness (β = 0.02, se=0.02, p =n.s.). these results\\nare in linewith our theoreticalmodel; the indirect effect of team cohesiveness on job satisfaction\\nthrough perceived overqualification was larger among those who belonged to less cohesive\\nteams.\\n\\nwe carried out two post hoc tests in order to explore the data further. first, we tested the\\nproposition that overqualified employees’ job satisfaction is highest when they have higher-\\nquality relationships with both their leader and team. results of the regression analyses\\nshowed that the three-way interaction was not significant. this suggests that leader–member\\nexchange and team cohesiveness independently moderate the relationship between perceived\\noverqualification and job satisfaction; they do not jointly influence this relationship.\\n\\nsecond, we regressed job satisfaction on both leader–member exchange and team\\ncohesiveness, along with the control variables, to determine their relative strength in their\\nassociationwith job satisfaction. the results showed that although the coefficients representing\\n\\nfigure 4 the effect of team cohesiveness on the relationship between perceptions of overqualification and job\\nsatisfaction\\n\\nperceptions of overqualification and job satisfaction\\n\\n94 human resource management journal, vol 26, no 1, 2016\\n\\n© 2016 john wiley & sons ltd.\\n\\n\\n\\nboth team cohesiveness (β =�0.25, se =0.13, p< 0.05) and leader–member exchange (β =�0.14,\\nse=0.09, p =0.11) were in the expected negative direction, only the former was statistically\\nsignificant [adj. r2 = 0.22, f(6, 171) = 7.77, p< 0.00].\\n\\ndiscussion\\n\\nour results contribute to overqualification and hrm theories in a number of ways. first, we\\ncontribute to overqualification theory by identifying two antecedents of perceptions of\\noverqualification. although theoretical models and some empirical evidence have identified\\nfactors that are associated with perceived overqualification (e.g. feldman, 1996; mckee-ryan\\nand harvey, 2011), this is the first study, to our knowledge, to examine proximal, work-related\\nfactors that have the potential to lessen perceptions of overqualification. our finding that high-\\nquality relationships with one’s leader and team are associated with lower levels of perceived\\noverqualification is important, as it expands our theoretical understanding of the antecedents\\nof perceived overqualification, and it also may guide organisations in managing these\\nperceptions among employees.\\n\\nalthough it appears that both interpersonal relationship partners have the potential to\\ninfluence perceptions of overqualification, when overqualification was regressed on both\\nvariables, only team cohesiveness remained statistically significant. this highlights the\\nimportant role of overqualified employees’ team members in influencing their responses to\\ntheir perceptions of overqualification. this finding resonates with research that has examined\\nhow individuals respond to their overqualified status based on the extent to which others in\\ntheir team are overqualified (alfes, 2013; hu et al., 2015).\\n\\nthe present study also contributes to overqualification theory via our moderation results.\\nempirical evidence on the buffering effect of workplace phenomena on the relationship\\nbetween perceived overqualification and its reported negative outcomes is sparse (erdogan\\net al., 2011b). although prior research has established that factors related to employees’ work\\ntasks are important in shielding against the negative ramifications of perceived\\noverqualification (erdogan and bauer, 2009), the present study found that interpersonal\\nrelationships that employees hold at work likewise reduce the negative effect of perceived\\noverqualification on job satisfaction. this study therefore enhances overqualification theory\\nby identifying conditions under which the relationship between perceived overqualification\\nand its outcome is attenuated (whetten, 1989). in doing so, we show how relative deprivation\\ntheory and social exchange theory can be integrated and leveraged to understand how\\ninterpersonal relationships at work mitigate the negative relationship between perceived\\noverqualification and job satisfaction by emphasising how tangible and intangible\\nresources reduce overqualified employees’ feelings of relative deprivation.\\n\\nit is also noteworthy that we tested our hypotheses using conditional process analysis\\n(hayes, 2013) and found that interpersonal relationships at work serve (at least) two roles: they\\nacted both as antecedents of overqualification and as moderators of the relationship between\\noverqualification and job satisfaction. that both roles were statistically significant within the\\nsame test provides a nuanced account of the impact of social relationships on those who are\\noverqualified.\\n\\nalthough our theory-building emphasised the importance of resources, we did not examine\\nthe particular tangible or intangible resources that are principal in influencing overqualified\\nemployees’ job attitudes. future research should therefore explore which resources are most\\nrelevant in reducing feelings of relative deprivation. it is plausible that the provision of challenging\\nassignments is particularly helpful in influencing overqualified employees’ job satisfaction for\\n\\nkerstin alfes, amanda shantz and sabine van baalen\\n\\nhuman resource management journal, vol 26, no 1, 2016 95\\n\\n© 2016 john wiley & sons ltd.\\n\\n\\n\\ntworeasons. first, challenging assignments may enable overqualified employees to carry out\\ntasks that match the skills and knowledge they have acquired. second, challenging assignments\\nare an important development tool that may facilitate overqualified employees’ transition\\nfrom their current job to one in which they feel adequately qualified (mccauley et al., 1995).\\n\\nour research findings may also be of interest in light of those found by bal et al. (2010), who\\nfound that social exchange relationships intensified the negative relationship between\\npsychological contract breach and the outcomes in the bal et al. study. juxtaposed against the\\npresent findings, we are left with the nagging question of why social exchange relationships\\nreduced the negative effect of perceived overqualification on job satisfaction in the present\\nstudy, but they intensified the negative relationship between psychological contract breach\\nand in-role performance and citizenship behaviours in the study conducted by bal et al.\\n(2010). a potential explanation is that in the bal et al. study, employees’ psychological contract\\nbreach occurred because of an unfulfilled promise, whereas in the present study, employees\\nlikely knew that they were overqualified for their jobs when they were hired and therefore\\ndid not perceive a violated promise. future research designed to shed light on these different\\nfindings is welcome.\\n\\nthe limitations inherent in the present studymay also open avenues for future research. for\\ninstance, the study’s cross-sectional design limits our ability to assert causality in the proposed\\nrelationships. although the hypothesised relationships are grounded in strong theoretical\\nunderpinnings and are in line with previous research on perceived overqualification, we\\ncannot rule out the possibility of reverse-causality. additionally, our data were collected from\\none source, raising concerns regarding common method variance. however, our latter two\\nhypotheses and findings are related tomoderating relationships (i.e. interactions), and common\\nmethod variance does not explain the findings of a significant interaction (mcclelland and\\njudd, 1993; siemsen et al., 2010). moreover, we employed procedural remedies as described\\nby podsakoff et al. (2003) for reducing common method bias. for example, we ensured survey\\nanonymity through de-identified surveys and anonymous returns, separated predictors and\\ncriteria on the survey and ensured scale-item quality (e.g. items had familiar terms in the dutch\\ncontext).\\n\\nwe also conducted a series of confirmatory factor analyses in amos (version 22) to assess\\nthe extent to which common method bias was present in our data, as well as to determine\\nthe distinctiveness of the constructs. the full measurement model, in which all items for the\\nfour scales loaded onto their respective factors, fits the data well (hair et al., 2009). we also\\ncompared the full measurementmodel with four alternative nestedmodels; the results showed\\nthat the fit of the alternative models was significantly worse compared with the full\\nmeasurement model (all at p< 0.001). finally, we introduced an unmeasured latent methods\\nfactor to our original measurement model, allowing all items to load on to their theoretical\\nconstructs, as well as on to the latentmethods factor. the results, available from the first author,\\nindicated that common method bias did not unduly influence the results. notwithstanding,\\nfuture research should examine the hypothesised model using a longitudinal design and other\\nrated measures.\\n\\nfuture research should also examine our hypothesised model in different organisations\\nusing a larger sample. our sample is admittedly small (n= 183) and included two organisations\\nin the netherlands. the results may differ across industries or national contexts.\\n\\na further limitation relates to our measure of overqualification. employees’ perceptions of\\noverqualification do not necessarily reflect an accurate assessment of reality; employees might\\nbelieve that they are overqualified even though theymight be adequately qualified for their jobs.\\narguably, a perceptualmeasure is appropriate in the present study, as it is employees’perception\\n\\nperceptions of overqualification and job satisfaction\\n\\n96 human resource management journal, vol 26, no 1, 2016\\n\\n© 2016 john wiley & sons ltd.\\n\\n\\n\\nof their employment situation that most strongly influences how they feel about their jobs\\n(maynard et al., 2006; erdogan et al., 2011a). nevertheless, we encourage future research to\\ninclude both objective and subjective measures of overqualification in their analyses.\\n\\nmoreover, it is important to note that the beta-coefficients associated with the interaction\\nterms are relatively small, and although the relationship between overqualification and job\\nsatisfaction is weakened for those with higher-quality interpersonal relationships with others,\\nit was not completely reduced. yet, given the complicated nature of identifying moderating\\nrelationships in field studies, even 1per cent of incremental variance explained by an\\ninteraction is a meaningful finding (evans, 1985; mcclelland and judd, 1993). in our study,\\nthe interaction term for leader–member exchange and team cohesiveness explained 2per cent\\nof incremental variance on job satisfaction, respectively, demonstrating that the moderating\\neffects, albeit small, are meaningful. however, the provision of high-quality interpersonal\\nrelationships at work does not guarantee that overqualified employees will become fully\\nsatisfied. instead, we can conclude that there is room for future research to identify additional\\nways to weaken the negative relationship between perceived overqualification and job\\nsatisfaction.\\n\\na final limitation relates to the measure of leader–member exchange. although our interest\\nwas in employees’ perception of the quality of the relationships they have with their leaders,\\nscholars have argued that leader–member exchange should be measured at the dyadic level\\n(schriesheim et al., 2001). exploring the dyadic relationship between supervisors and their\\nemployees in a team can, for example, inform the extent to which there is variability in the\\nrelationships between the manager and each team member within the team. future research\\nshould examine the extent to which overqualified employees belong to their leader’s in-group\\n(asmeasured by the relative dyadic exchange quality) and the extent towhich this results in the\\nprovision of increased discretion in how to carry out their work.\\n\\npractical implications\\n\\nthe results of the present study confirm that employees who believe that they are overqualified\\nfor their jobs report greater job dissatisfaction. however, the results do not necessarily imply\\nthat hrm professionals should refrain from hiring overqualified employees. this is because\\nthey can reduce the negative effects of overqualification through the provision of high-quality\\nleadership and the facilitation of cohesive teams. this is an especially important finding for\\norganisations, because research has established that overqualified employees tend to perform\\nat a higher level than their adequately qualified counterparts (e.g. fine andnevo, 2008). hence,\\nhrm professionals can capitalise on the higher performance of overqualified employees and\\nensure that their job attitudes are positive if they put conditions in place where employees have\\nhigh-quality relationships with their leader and are positioned in cohesive teams.\\n\\nhuman resource management departments should invest in ensuring the development and\\nmaintenance of high-quality relationships between managers and employees. to facilitate\\nhigh-quality relationships, managers should regularly communicate how employees\\ncontribute to the success of the broader organisation. moreover, they should clearly\\ncommunicatework expectationswhile ensuring that employees’ knowledge, skills and abilities\\nare used at work, decreasing feelings of deprivation. leaders should also ensure that\\nemployees feel valued for their contributions by, for example, celebrating individual and group\\nsuccesses. hrm departments can also sponsor formal training programmes for leaders that\\nfocus on leading by example, employee participation, and delegation to increase involvement\\nand self-esteem among overqualified employees (scandura and graen, 1984).\\n\\nkerstin alfes, amanda shantz and sabine van baalen\\n\\nhuman resource management journal, vol 26, no 1, 2016 97\\n\\n© 2016 john wiley & sons ltd.\\n\\n\\n\\nin addition, hrm departments should invest in raising levels of team cohesiveness. to do\\nso, teams should be tasked with relatively complex work and be provided with sufficient\\nautonomy to make group-based decisions (man and lam, 2003). doing so may assist those\\nwho perceive that they are overqualified to feel that their talents are utilised at work.managers\\ncan attempt to heighten group cohesion by increasing team members’ interpersonal attraction\\nto one another by organising social events among team members (e.g. collective coffee breaks\\nand bowling socials). ensuring that each team member is integrated in the team through\\nregular interaction may increase the feeling of being valued.\\n\\nconclusion\\n\\nhuman resource management practitioners often refrain from hiring job candidates who are\\noverqualified for fear that they may be dissatisfied and ultimately leave the organisation. the\\nresults of our study show that this conclusion may be incomplete as it fails to take into\\nconsideration the possibility that factors in thework environment, such as high leader–member\\nexchange and team cohesiveness, may not only reduce the extent to which employees perceive\\nthat they are overqualified but may also weaken the negative effect of perceived\\noverqualification on job satisfaction. hence, the assumption that overqualified employees\\nsuffer from lower levels of job satisfaction is true only part of the time, and cultivating high-\\nquality interpersonal relationships at work is an effective way to reduce perceptions of\\noverqualification, as well as the potential negative ramifications of it.\\n\\nreferences\\n\\nalfes, k. (2013). ‘perceived overqualification and performance. the role of the peer group’. zeitschrift für\\npersonalforschung, 27: 4, 314–330.\\n\\narmeli, s., eisenberger, r., fasolo, p. and lynch, p. (1998). ‘perceived organizational support and police\\nperformance: the moderating influence of socioemotional needs’. journal of applied psychology, 83: 2,\\n288–297.\\n\\naryee, s. and chen, z.x. (2006). ‘leader–member exchange in a chinese context: antecedents, the\\nmediating role of psychological empowerment and outcomes’. journal of business research, 59: 7,\\n793–801.\\n\\nbal, p.m., chiaburu, d.s. and jansen, p.g.w. (2010). ‘psychological contract breach andwork performance:\\nis social exchange a buffer or an intensifier?’. journal of managerial psychology, 25: 3, 252–273.\\n\\nbecker, t.e. (2005). ‘potential problems in the statistical control of variables in organizational research: a\\nqualitative analysis with recommendations’. organizational research methods, 8: 3, 274–289.\\n\\nbooth, a.l., francesconi, m. and frank, j. (2000). ‘temporary jobs: stepping stones or dead ends?’ iza\\ndiscussion paper series no. 205.\\n\\nbrislin, r.w., lonner, w.j. and thorndike, r.m. (1973). cross-cultural research methods, new york: wiley.\\ncarson, j.b., tesluk, p.e. and marrone, j.a. (2007). ‘shared leadership in teams: an investigation of\\n\\nantecedent conditions and performance’. academy of management journal, 50: 5, 1217–1234.\\ncartwright, d. (1968). ‘the nature of group cohesiveness’, in d. cartwright and a. zander (eds), group\\n\\ndynamics: research and theory, 3rd edn, new york: harper & row.\\ncolquitt, j.a. and zapata-phelan, c.p. (2007). ‘trends in theory building and theory testing. a five-decade\\n\\nstudy of the academy of management journal’. academy of management journal, 50: 6, 1281–1303.\\ncrosby, f. (1976). ‘a model of egoistical relative deprivation’. psychological review, 83: 2, 85–113.\\ndobbins, g.h. and zaccaro, s.j. (1986). ‘the effects of group cohesion and leader behavior on subordinate\\n\\nsatisfaction’. group & organization management, 11: 3, 203–219.\\nedwards, p., sengupta, s. and tsai, c.j. (2009). ‘managing low-skill workers: a study of small uk food\\n\\nmanufacturing firms’. human resource management journal, 19: 1, 40–58.\\n\\nperceptions of overqualification and job satisfaction\\n\\n98 human resource management journal, vol 26, no 1, 2016\\n\\n© 2016 john wiley & sons ltd.\\n\\n\\n\\nerdogan, b. and bauer, t.n. (2009). ‘perceived overqualification and its outcomes: the moderating role of\\nempowerment’. journal of applied psychology, 94: 2, 557–565.\\n\\nerdogan, b., bauer, t.n., peiro, j.m. and truxillo, d.m. (2011a). ‘overqualification theory, research, and\\npractice: things that matter’. industrial and organizational psychology, 4: 2, 260–267.\\n\\nerdogan, b., bauer, t.n., peiro, j.m. and truxillo, d.m. (2011b). ‘overqualified employees:making the best\\nof a potentially bad situation for individuals and organizations’. industrial andorganizational psychology,\\n4: 2, 215–232.\\n\\nevans, m.g. (1985). ‘a monte carlo study of the effects of correlated method variance in moderated\\nmultiple regression analysis’. organizational behavior and human decision processes, 36: 3, 305–323.\\n\\nfaragher, e.b., cass, m. and cooper, c.l. (2005). ‘the relationship between job satisfaction and health: a\\nmeta-analysis’. occupational and environmental medicine, 62: 2, 105–112.\\n\\nfeldman, d.c. (1996). ‘the nature, antecedents and consequences of underemployment’. journal of\\nmanagement, 22: 3, 385–407.\\n\\nfeldman, d.c., leana, c.r. and bolino, m.c. (2002). ‘underemployment and relative deprivation among\\nre-employed executives’. journal of occupational and organizational psychology, 75: 4, 453–471.\\n\\nfenlason, k.j. and beehr, t.a. (1994). ‘social support and occupational stress: effects of talking to others’.\\njournal of organizational behavior, 15: 2, 157–175.\\n\\nfine, s. andnevo, b. (2008). ‘too smart for their own good? a study of perceived cognitive overqualification\\nin the workforce’. the international journal of human resource management, 19: 2, 346–355.\\n\\ngerstner, c.r. and day, d.v. (1997). ‘meta-analytic review of leader–member exchange theory: correlates\\nand construct issues’. journal of applied psychology, 82: 6, 827–844.\\n\\ngraen, g.b. and uhl-bien, m. (1995). ‘relationship-based approach to leadership: development of leader-\\nmember exchange (lmx) theory of leadership over 25years: applying a multi-level multi-domain\\nperspective’. the leadership quarterly, 6: 2, 219–247.\\n\\ngreen, a. (2013).why employers don’t want to hire overqualified candidates. usnews andworld report.\\nhttp://money.usnews.com/money/blogs/outside-voices-careers/2013/07/31/why-employers-dont-want-\\nto-hire-overqualified-candidates, accessed 15 december 2014.\\n\\ngroot, w. and maassen van den brink, h. (2000). ‘overeducation in the labor market: a meta-analysis’.\\neconomics of education review, 19: 2, 149–158.\\n\\ngrugulis, i. (2003). ‘putting skills to work: learning and employment at the start of the century’. human\\nresource management journal, 13: 2, 3–12.\\n\\nhair, j.f., black, w.c., babin, b.j. and anderson, r.e. (2009). multivariate data analysis, upper saddle\\nriver, nj: pearson prentice hall.\\n\\nhausknecht, j.p., trevor, c.o. and howard,m.j. (2009). ‘unit-level voluntary turnover rates and customer\\nservice quality: implications of group cohesiveness, newcomer concentration, and size’. journal of\\napplied psychology, 94: 4, 1068–1075.\\n\\nhayes, a.f. (2013). an introduction to mediation, moderation, and conditional process analysis: a regression-\\nbased approach, new york: guilford press.\\n\\nhu, j., erdogan, b., bauer, t.n., jiang, k., liu, s. and li, y. (2015). ‘there are lots of big fish in this pond: the\\nrole of peer overqualification on task significance, perceived fit, and performance for overqualified\\nemployees’. journal of applied psychology, 100: 4, 1228–1238.\\n\\nhüffmeier, j. and hertel, g. (2011). ‘many cheers make light the work: how social support triggers process\\ngains in teams’. journal of managerial psychology, 26: 3, 185–204.\\n\\njohnson, g.j. and johnson, w.r. (1997). ‘perceived overqualification, emotional support, and health’.\\njournal of applied social psychology, 27: 21, 1906–1918.\\n\\njudge, t.a., bono, j.e., thoresen, c.j. and patton, g.k. (2001). ‘the job satisfaction–job performance\\nrelationship: a qualitative and quantitative review’. psychological bulletin, 127: 3, 376–407.\\n\\nkidwell, r.e., mossholder, k.w. and bennett, n. (1997). ‘cohesiveness and organizational citizenship\\nbehavior: a multilevel analysis using work groups and individuals’. journal of management, 23: 6,\\n775–793.\\n\\nkraimer, m.l., shaffer, m.a. and bolino, m.c. (2009). ‘the influence of expatriate and repatriate\\nexperiences on career advancement and repatriate retention’.human resourcemanagement, 48: 1, 27–47.\\n\\nkerstin alfes, amanda shantz and sabine van baalen\\n\\nhuman resource management journal, vol 26, no 1, 2016 99\\n\\n© 2016 john wiley & sons ltd.\\n\\nhttp://money.usnews.com/money/blogs/outside-voices-careers/2013/07/31/why-employers-dont-want-to-hire-overqualified-candidates\\nhttp://money.usnews.com/money/blogs/outside-voices-careers/2013/07/31/why-employers-dont-want-to-hire-overqualified-candidates\\n\\n\\nlee, c.h. (2005). ‘a study of underemployment among self-initiated expatriates’. journal of world business,\\n40: 2, 172–187.\\n\\nlewin, k. (1943). ‘defining the “field at a given time”’. psychological review, 50: 3, 290–310.\\nli, c., gervais, g. and duval, a. (2006). the dynamics of overqualification: canada’s underemployed\\n\\nuniversity graduates, ottawa, canada: minister of industry.\\nlim, v.k.g. (1996). ‘job insecurity and its outcomes:moderating effects ofwork-based and nonwork-based\\n\\nsocial support’. human relations, 49: 2, 171–194.\\nlocke, e.a. (1976). ‘the nature and causes of job satisfaction’, inm.d. dunnette (ed.),handbook of industrial\\n\\nand organizational psychology, chicago, il: rand mcnally.\\nman, d.c. and lam, s.s.k. (2003). ‘the effects of job complexity and autonomy on cohesiveness in\\n\\ncollectivistic and individualistic work groups: a cross-cultural analysis’. journal of organizational\\nbehavior, 24: 8, 979–1001.\\n\\nmaynard, d.c., joseph, t.a. and maynard, a.m. (2006). ‘underemployment, job attitudes, and turnover\\nintentions’. journal of organizational behavior, 27: 4, 509–536.\\n\\nmccauley, c.d., eastman, l.j. and ohlott, p.j. (1995). ‘linking management selection and development\\nthrough stretch assignments’. human resource management, 34: 1, 93–115.\\n\\nmcclelland, g.h. and judd, c.m. (1993). ‘statistical difficulties of detecting interactions and moderator\\neffects’. psychological bulletin, 114: 2, 376–390.\\n\\nmckee-ryan, f.m. and harvey, j. (2011). ‘“i have a job, but . . .”: a review of underemployment’. journal of\\nmanagement, 37: 4, 962–996.\\n\\npodsakoff, p.m., mackenzie, s.b., jeong-yeon, l. and podsakoff, n.p. (2003). ‘common method biases in\\nbehavioral research: a critical review of the literature and recommended remedies’. journal of applied\\npsychology, 88: 5, 879–903.\\n\\npouliakas, k. (2013).‘the skill mismatch challenge in europe‘, in european commission (ed.), employment\\nand social developments in europe 2012, brussels: publications office of the european union.\\n\\nquintini, g. (2011). ‘over-qualified or under-skilled. a review of existing literature’, oecd social,\\nemployment and migration working papers no. 121, paris: organisation for economic cooperation\\nand development.\\n\\nritz, a., shantz, a., alfes, k. and arshoff, a.s. (2012). ‘who needs leaders the most? the interactive effect\\nof leadership and core self-evaluations on commitment to change in the public sector’. international\\npublic management journal, 15: 2, 160–185.\\n\\nscandura, t.a. andgraen, g.b. (1984). ‘moderating effects of initial leader–member exchange status on the\\neffects of a leadership intervention’. journal of applied psychology, 69: 3, 428–436.\\n\\nschermerhorn, j.r., hunt, j.g. and osborn, r.n. (2002). organizational behavior, new york: wiley.\\nschriesheim, c.a., castro, s.l., zhou, x. and yammarino, f.j. (2001). ‘the folly of theorizing “a” but\\n\\ntesting “b”: a selective level-of-analysis review of the field and a detailed leader–member exchange\\nillustration’. the leadership quarterly, 12: 4, 515–551.\\n\\nseibert, s., sparrowe, r.t. and liden, r.c. (2003). ‘a group exchange structure approach to leadership in\\ngroups’, in c. pearce and j. conger (eds), shared leadership: reframing the ‘hows’ and ‘whys’ of leadership,\\nnewbury park, ca: sage.\\n\\nshore, l.m., bommer, w.h., rao, a.n. and seo, j. (2009). ‘social and economic exchange in the employee-\\norganization relationship: the moderating role of reciprocation wariness’. journal of managerial\\npsychology, 24: 8, 701–721.\\n\\nshore, l.m., tetrick, l.e., lynch, p. and barksdale, k. (2006). ‘social and economic exchange: construct\\ndevelopment and validation’. journal of applied social psychology, 36: 4, 837–867.\\n\\nsiemsen, e., roth, a. and oliveira, p. (2010). ‘common method bias in regression models with linear,\\nquadratic, and interaction effects’. organizational research methods, 13: 3, 456–476.\\n\\nsullivan, j. (2014). refusing to hire overqualified candidates. hrcertification institute. http://www.ere.net/\\n2014/08/25/refusing-to-hire-overqualified-candidates-a-myth-that-can-hurt-your-firm/, accessed 1 december 2014.\\n\\ntabachnick, b.g. and fidell, l.s. (2007). using multivariate statistics, boston, ma: pearson.\\ntakeuchi, r., chen, g. and lepak, d.p. (2009). ‘through the looking glass of a social system. cross-level\\n\\neffects of high-performance work systems on employees’ attitudes’. personnel psychology, 62: 1, 1–29.\\n\\nperceptions of overqualification and job satisfaction\\n\\n100 human resource management journal, vol 26, no 1, 2016\\n\\n© 2016 john wiley & sons ltd.\\n\\nhttp://www.ere.net/2014/08/25/refusing-to-hire-overqualified-candidates-a-myth-that-can-hurt-your-firm/\\nhttp://www.ere.net/2014/08/25/refusing-to-hire-overqualified-candidates-a-myth-that-can-hurt-your-firm/\\n\\n\\nthatcher, s.m.b. and patel, p.c. (2011). ‘demographic faultlines: ameta-analysis of the literature’. journal of\\napplied psychology, 96: 6, 1119–1139.\\n\\ntummers, l.g. and knies, e. (2013). ‘leadership and meaningful work in the public sector’. public\\nadministration review, 73: 6, 859–868.\\n\\nvaisey, s. (2006). ‘education and its discontents: overqualification in america, 1972–2002’. social forces, 85:\\n2, 835–864.\\n\\nvan dick, r., tissington, p.a. and hertel, g. (2009). ‘domany hands make light work?: how to overcome\\nsocial loafing and gain motivation in work teams’. european business review, 21: 3, 233–245.\\n\\nvan dyne, l., cummings, l.l. and parks, j.m. (1995). ‘extra-role behaviors: in pursuit of construct and\\ndefinitional clarity (a bridge over mudded waters)’, in l.l. cummings and b.m. staw (eds), research\\nin organizational behavior, greenwich, ct: jai press.\\n\\nvecchio, r.p. (1997). ‘are you in or out with your boss?’, in r.p. vecchio (ed.), leadership: understanding the\\ndynamics of power and influence in organizations, notre dame, in: university of notre dame press.\\n\\nwhetten,d.a. (1989). ‘what constitutes a theoretical contribution?’.academy ofmanagementreview, 14: 4, 490–495.\\nzalesny, m.d. and ford, j.k. (1990). ‘extending the social information processing perspective: new\\n\\nlinks to attitudes, behaviors, and perceptions’. organizational behavior and human decision processes,\\n47: 2, 205–246.\\n\\nkerstin alfes, amanda shantz and sabine van baalen\\n\\nhuman resource management journal, vol 26, no 1, 2016 101\\n\\n© 2016 john wiley & sons ltd.\\n\\n\\n'"
      ]
     },
     "execution_count": 6,
     "metadata": {},
     "output_type": "execute_result"
    }
   ],
   "source": [
    "pdf_included[1]"
   ]
  },
  {
   "cell_type": "markdown",
   "metadata": {},
   "source": [
    "# step-3 remove reference"
   ]
  },
  {
   "cell_type": "code",
   "execution_count": null,
   "metadata": {},
   "outputs": [],
   "source": [
    "# remove references section \n",
    "import re\n",
    "pdf_ref = [re.sub(r\"(?is)\\nreferences\\n.+\", \"\", f) for f in pdf_text]"
   ]
  },
  {
   "cell_type": "markdown",
   "metadata": {},
   "source": [
    "# step-4 load metadata"
   ]
  },
  {
   "cell_type": "code",
   "execution_count": null,
   "metadata": {},
   "outputs": [],
   "source": [
    "import pickle\n",
    "#load the text data\n",
    "pdf_metadata = pickle.load(open(\"C:/Thesis/Data/save/Human_Resource_Management_journal/metadata/metadata_all.p\", \"rb\"))"
   ]
  },
  {
   "cell_type": "markdown",
   "metadata": {},
   "source": [
    "# step-5 get metadata = author, subject, title"
   ]
  },
  {
   "cell_type": "code",
   "execution_count": null,
   "metadata": {},
   "outputs": [],
   "source": [
    "pdf_title = []\n",
    "pdf_Author = []\n",
    "pdf_subject = []\n",
    "\n",
    "for i in pdf_metadata:\n",
    "    temp = \"\"\n",
    "    auth_temp = \"\"\n",
    "    subj_temp =\"\"\n",
    "    try:\n",
    "        temp = i['title']\n",
    "        auth_temp = i['Author']\n",
    "        subj_temp = i['subject']\n",
    "      \n",
    "        pdf_title.append(temp.lower())\n",
    "        pdf_Author.append(auth_temp.lower()) \n",
    "        pdf_subject.append(subj_temp.lower()) # it is included in stopwords list.\n",
    "        \n",
    "    except:\n",
    "        #print(\"An exception occurred\" )\n",
    "        pdf_title.append(temp.lower())\n",
    "        pdf_Author.append(auth_temp.lower())\n",
    "        pdf_subject.append(subj_temp.lower())\n",
    "        "
   ]
  },
  {
   "cell_type": "code",
   "execution_count": null,
   "metadata": {},
   "outputs": [],
   "source": [
    "pickle.dump(pdf_text_title, open(\"C:/Thesis/Data/save/Human_Resource_Management_journal/metadata/removed_author_title/metadata_all.p\", \"wb\" ) )"
   ]
  },
  {
   "cell_type": "code",
   "execution_count": null,
   "metadata": {},
   "outputs": [],
   "source": [
    "# not required\n",
    "def eliminate_method_result(method, discussion):\n",
    "    \n",
    "    import re    \n",
    "    start = method\n",
    "    end = discussion\n",
    "    #start of pattern, followed by any number of times 'any character OR a newline' and terminated by the end pattern.\n",
    "    pattern = start + '.*'+'(.|\\n)*'+end\n",
    "    pdf_method_dis = [re.sub(pattern, '', f) for f in pdf_text]\n",
    "\n",
    "    return pdf_method_dis"
   ]
  },
  {
   "cell_type": "code",
   "execution_count": null,
   "metadata": {},
   "outputs": [],
   "source": [
    "# not required\n",
    "def eliminate_method_result_ref(method, dis, ref):\n",
    "    \n",
    "    import re\n",
    "\n",
    "    start = method\n",
    "    end = dis\n",
    "    \n",
    "    #start of pattern, followed by any number of times 'any character OR a newline' and terminated by the end pattern.\n",
    "    pattern = start + '.*'+'(.|\\n)*'+end\n",
    "    pdf_method_dis = [re.sub(pattern, '', f) for f in pdf_text]\n",
    "    \n",
    "    start_ref = ref\n",
    "    pattern_ref = start_ref +'(.|\\n)*$'\n",
    "\n",
    "    pdf_ref= [re.sub(pattern_ref, '', f) for f in pdf_method_dis]\n",
    "    \n",
    "    return pdf_ref"
   ]
  },
  {
   "cell_type": "markdown",
   "metadata": {},
   "source": [
    "# Pre-processing\n",
    "Regular expression is used to clean up the pre-processed data and saved as a Master data"
   ]
  },
  {
   "cell_type": "code",
   "execution_count": null,
   "metadata": {},
   "outputs": [],
   "source": [
    "import re\n",
    "pdf_p= [re.sub(r\"-\\n(\\n)*\", \"\", t)for t in pdf_ref]\n",
    "\n",
    "pdf_p= [re.sub(r\"\\n(\\n)*\", \"\\n\", t)for t in pdf_p]\n",
    "\n",
    "pdf_p= [re.sub(r\"\\n\", \" \", t)for t in pdf_p]\n",
    "# remove text with [] eg citation\n",
    "pdf_p = [re.sub(r\"\\[[^)]*\\]\", \"\", t)for t in pdf_p]\n",
    "#Remove numbers\n",
    "pdf_p = [re.sub('[0-9]+', '', f) for f in pdf_p]\n",
    "#pdf_p = [re.sub(\"r[\\S]+\\.(net|com|org|info|edu|gov|uk|de|ca|jp|fr|au|us|ru|ch|it|nel|se|no|es|mil)[\\S]*\\s?\", \" \", t)for t in pdf_p]\n",
    "pdf_p = [re.sub('[!@/%“”‘:#©β<>+=δχ*&$]', ' ', f) for f in pdf_p]\n",
    "pdf_p = [re.sub('’s','', f) for f in pdf_p]\n",
    "pdf_p = [re.sub('’re','', f) for f in pdf_p]\n",
    "pdf_p = [re.sub('’t','', f) for f in pdf_p]\n",
    "pdf_p = [re.sub('’ve','', f) for f in pdf_p]\n",
    "pdf_p = [re.sub('’ll','', f) for f in pdf_p]\n",
    "pdf_p = [re.sub('’m','', f) for f in pdf_p]\n",
    "\n",
    "pdf_p = [re.sub('[:()-]', ' ', f) for f in pdf_p]\n",
    "pdf_p = [re.sub('[\\.!?]+ ', 'XYZXYZ', t) for t in pdf_p]\n",
    "# \\w will match alphanumeric characters and underscores\n",
    "# [^\\w] will match anything that's not alphanumeric or underscore\n",
    "pdf_p = [re.sub(r'[^\\w]', ' ', f) for f in pdf_p]\n",
    "pdf_p = [re.sub('XYZXYZ', '.', f) for f in pdf_p]\n",
    "pdf_p = [re.sub(' +', ' ', f) for f in pdf_p]\n",
    "# Replace multiple dots with one dot\n",
    "pdf_p = [re.sub('\\.\\.+',\".\", f) for f in pdf_p]\n",
    "pdf_p = [re.sub(r'\\b\\w{1,3}\\b',\"\", f) for f in pdf_p]\n",
    "pdf_p = [re.sub(' +', ' ', f) for f in pdf_p]\n",
    "\n",
    "pdf_p = [re.sub(\"^\\s+\",\"\", f) for f in pdf_p]# remove the front space\n",
    "pdf_p = [re.sub(\"\\s+\\Z\",\"\", f) for f in pdf_p]#remove the back space"
   ]
  },
  {
   "cell_type": "code",
   "execution_count": null,
   "metadata": {},
   "outputs": [],
   "source": [
    "#pdf_p"
   ]
  },
  {
   "cell_type": "code",
   "execution_count": null,
   "metadata": {},
   "outputs": [],
   "source": [
    "# author first and last name extracted from metadata\n",
    "author_list = ['neil','stewart','spotlight','martin','jonghoon','michael','baer','kevin','corley','pratima','bansal','kconnolly','battilana','dorado']\n",
    "\n",
    "author_list += ['elena','belogolovsky','peter','bamberger','karlene','roberts','chris','bingham','campbell','seung','hwan','jeong','scott','graffin']\n",
    "\n",
    "author_list += ['robert','messen','andrew','carton','brice','roberts','dattée','oliver','alexy','erkko','autio','sreedhari','desai','patricio']\n",
    "\n",
    "author_list += ['duran','nadine','kammerlander','marc','essen','thomas','zellweger','john','joseph','wshong','gokhan','ertug','tamar','yogev']\n",
    "\n",
    "\n",
    "author_list += ['yonghoon','lee','peter','hedström','kibler','ewald','markus','perkmann','brenda','flannery','douglas','michael','florin','lubatkin']\n",
    "\n",
    "\n",
    "author_list += ['william','schulze','raghu','garud','sanjay','jain','arun','kumaraswamy','gerard','george','christopher','corbishley','jane','khayesi']\n",
    "\n",
    "\n",
    "author_list += ['martine','haas','laszlo','tihanyi','wakenshaw','gibbons','deborah','brian','gunia','joo','hun','han','saehee','kang']\n",
    "\n",
    "\n",
    "\n",
    "author_list += ['rebecca','kehoe','david','lepak','hausknecht','nathan','hiller','robert','vance','hitt','tina','dacin','edward','levita']\n",
    "\n",
    "\n",
    "\n",
    "author_list += ['jean','arregle','luc','anca','borza','fmurray','philippe','jacquart','antonakis','jason','jay','fuller','elfenbeinh','cynthia']\n",
    "\n",
    "author_list += ['kim','jensen','lorraine','crystal','hkpu','margaret','luciano','amy','bartels','lauren','innocenzo','travis','maynard','mathieu']\n",
    "\n",
    "\n",
    "author_list += ['hardy','smagui','johanna','mair','ignasi','marti','marc','ventresca','dellring','jcarson','mmcardle','erez','mia','mathieu']\n",
    "\n",
    "\n",
    "author_list += ['monin','niels','noorderhaven','eero','vaara','kroon','jeroen','neckebrouck','gina','dokko','lisa','hisae','nishii','sonja']\n",
    "\n",
    "\n",
    "author_list += ['opper','donde','ashmos','plowman','lakami','baker','tammy','beck','mukta','kulkarni','stephanie','solansky','deandra','villarreal']\n",
    "\n",
    "author_list += ['ridge','ingram','aaron','hill','bloy','drew','harry','dwight','lemke','richard','dino','staf','guillaume','soenen']\n",
    "\n",
    "author_list += ['tessa','melkonian','maureen','ambrose','evans','bennett','tepper','nikolaos','dimotakis','schurer','lambert','joel','koopman','fadel']\n",
    "\n",
    "\n",
    "author_list += ['matta','hee','man','park','wongun','goo','tepper','varkey','titus','owen','parker','francesca','gino','bass']\n",
    "\n",
    "\n",
    "author_list += ['erin','charlie','trevor','home','computer','martins','martín','esmt','european','varkey','gmbh','cwbauman','school','francesca','gino','bass']\n",
    "\n"
   ]
  },
  {
   "cell_type": "code",
   "execution_count": null,
   "metadata": {},
   "outputs": [],
   "source": [
    "# Function to filter out the stopwords and authors names\n",
    "def filterWords(msg, words):\n",
    "    m = msg.split(' ')\n",
    "    words_end = [w + '.' for w in words]\n",
    "    filtered_words = list(filter(lambda word: word not in words, m))\n",
    "    filtered_words = [(w if w not in words_end else '.') for w in filtered_words]\n",
    "    result = ' '.join(filtered_words)\n",
    "    return(result)"
   ]
  },
  {
   "cell_type": "code",
   "execution_count": null,
   "metadata": {},
   "outputs": [],
   "source": [
    "data_proc_auth = [filterWords(f, author_list) for f in pdf_p]"
   ]
  },
  {
   "cell_type": "code",
   "execution_count": null,
   "metadata": {},
   "outputs": [],
   "source": [
    "#data_proc_auth"
   ]
  },
  {
   "cell_type": "code",
   "execution_count": null,
   "metadata": {},
   "outputs": [],
   "source": [
    "stopwords = ['a', 'about', 'above', 'across', 'after', 'afterwards']\n",
    "stopwords += ['again', 'against', 'all', 'almost', 'alone', 'along']\n",
    "stopwords += ['already', 'also', 'although', 'always', 'am', 'among']\n",
    "stopwords += ['amongst', 'amoungst', 'amount', 'an', 'and', 'another']\n",
    "stopwords += ['any', 'anyhow', 'anyone', 'anything', 'anyway', 'anywhere']\n",
    "stopwords += ['are', 'around', 'as', 'at', 'back', 'be', 'became']\n",
    "stopwords += ['because', 'become', 'becomes', 'becoming', 'been']\n",
    "stopwords += ['before', 'beforehand', 'behind', 'being', 'below']\n",
    "stopwords += ['beside', 'besides', 'between', 'beyond', 'bill', 'both']\n",
    "stopwords += ['bottom', 'but', 'by', 'call', 'can', 'cannot', 'cant']\n",
    "stopwords += ['co', 'computer', 'con', 'could', 'couldnt', 'cry', 'de']\n",
    "stopwords += ['describe', 'detail', 'did', 'do', 'done', 'down', 'due']\n",
    "stopwords += ['during', 'each', 'eg', 'eight', 'either', 'eleven', 'else']\n",
    "stopwords += ['elsewhere', 'empty', 'enough', 'etc', 'even', 'ever']\n",
    "stopwords += ['every', 'everyone', 'everything', 'everywhere', 'except']\n",
    "stopwords += ['few', 'fifteen', 'fifty', 'fill', 'find', 'fire', 'first']\n",
    "stopwords += ['five', 'for', 'former', 'formerly', 'forty', 'found']\n",
    "stopwords += ['four', 'from', 'front', 'full', 'further', 'get', 'give']\n",
    "stopwords += ['go', 'had', 'has', 'hasnt', 'have', 'he', 'hence', 'her']\n",
    "stopwords += ['here', 'hereafter', 'hereby', 'herein', 'hereupon', 'hers']\n",
    "stopwords += ['herself', 'him', 'himself', 'his', 'how', 'however']\n",
    "stopwords += ['hundred', 'i', 'ie', 'if', 'in', 'inc', 'indeed']\n",
    "stopwords += ['interest', 'into', 'is', 'it', 'its', 'itself', 'keep']\n",
    "stopwords += ['last', 'latter', 'latterly', 'least', 'less', 'ltd', 'made']\n",
    "stopwords += ['many', 'may', 'me', 'meanwhile', 'might', 'mill', 'mine']\n",
    "stopwords += ['more', 'moreover', 'most', 'mostly', 'move', 'much']\n",
    "stopwords += ['must', 'my', 'myself', 'name', 'namely', 'neither', 'never']\n",
    "stopwords += ['nevertheless', 'next', 'nine', 'no', 'nobody', 'none']\n",
    "stopwords += ['noone', 'nor', 'not', 'nothing', 'now', 'nowhere', 'of']\n",
    "stopwords += ['off', 'often', 'on','once', 'one', 'only', 'onto', 'or']\n",
    "stopwords += ['other', 'others', 'otherwise', 'our', 'ours', 'ourselves']\n",
    "stopwords += ['out', 'over', 'own', 'part', 'per', 'perhaps', 'please']\n",
    "stopwords += ['put', 'rather', 're', 's', 'same', 'see', 'seem', 'seemed']\n",
    "stopwords += ['seeming', 'seems', 'serious', 'several', 'she', 'should']\n",
    "stopwords += ['show', 'side', 'since', 'sincere', 'six', 'sixty', 'so']\n",
    "stopwords += ['some', 'somehow', 'someone', 'something', 'sometime']\n",
    "stopwords += ['sometimes', 'somewhere', 'still', 'such', 'system', 'take']\n",
    "stopwords += ['ten', 'than', 'that', 'the', 'their', 'them', 'themselves']\n",
    "stopwords += ['then', 'thence', 'there', 'thereafter', 'thereby']\n",
    "stopwords += ['therefore', 'therein', 'thereupon', 'these', 'they']\n",
    "stopwords += ['thick', 'thin', 'third', 'this', 'those', 'though', 'three']\n",
    "stopwords += ['three', 'through', 'throughout', 'thru', 'thus', 'to']\n",
    "stopwords += ['together', 'too', 'top', 'toward', 'towards', 'twelve']\n",
    "stopwords += ['twenty', 'two', 'un', 'under', 'until', 'up', 'upon']\n",
    "stopwords += ['us', 'very', 'via', 'was', 'we', 'well', 'were', 'what']\n",
    "stopwords += ['whatever', 'when', 'whence', 'whenever', 'where']\n",
    "stopwords += ['whereafter', 'whereas', 'whereby', 'wherein', 'whereupon']\n",
    "stopwords += ['wherever', 'whether', 'which', 'while', 'whither', 'who']\n",
    "stopwords += ['whoever', 'whole', 'whom', 'whose', 'why', 'will', 'with']\n",
    "stopwords += ['within', 'without', 'would', 'yet', 'you', 'your']\n",
    "stopwords += ['yours', 'yourself', 'yourselves']\n",
    "stopwords += ['january', 'february', 'march', 'february', 'march', 'april', 'may', 'june', 'july', 'august', 'september', 'october', 'november', 'december']\n",
    "# metadata- subject\n",
    "stopwords += ['business administration', 'economics and finance']\n",
    "# author name to remove\n",
    "stopwords +=['karina nielsen','kevin daniels','elaine', 'jaewan yang','andrew O herdman','amanda', 'sabine','kerstin','kertin','sagepub','journalspermissions','catheine','chidiebere ogbonnaya','john wiley','sons ltd','martin','jeffrey B arthur']"
   ]
  },
  {
   "cell_type": "code",
   "execution_count": null,
   "metadata": {},
   "outputs": [],
   "source": [
    "data_proc = [filterWords(f, stopwords) for f in data_proc_auth]"
   ]
  },
  {
   "cell_type": "code",
   "execution_count": null,
   "metadata": {},
   "outputs": [],
   "source": [
    " data_proc[2]"
   ]
  },
  {
   "cell_type": "markdown",
   "metadata": {},
   "source": [
    "# Get country name"
   ]
  },
  {
   "cell_type": "code",
   "execution_count": null,
   "metadata": {},
   "outputs": [],
   "source": [
    "import pycountry\n",
    "\n",
    "country_list = []\n",
    "for country in pycountry.countries:\n",
    "    a = (country.name).lower()\n",
    "    country_list.append(a) "
   ]
  },
  {
   "cell_type": "code",
   "execution_count": null,
   "metadata": {},
   "outputs": [],
   "source": [
    "data_proc_country =[]\n",
    "for j in data_proc:\n",
    "    line = j\n",
    "    for k in country_list:\n",
    "        line = re.sub(k, '', line)\n",
    "        \n",
    "    data_proc_country.append(line)"
   ]
  },
  {
   "cell_type": "code",
   "execution_count": null,
   "metadata": {},
   "outputs": [],
   "source": [
    "# data_proc_country[22]"
   ]
  },
  {
   "cell_type": "code",
   "execution_count": null,
   "metadata": {},
   "outputs": [],
   "source": [
    "# save data\n",
    "pickle.dump(data_proc_country, open( \"C:/Thesis/Data/save/Human_Resource_Management_journal/metadata/removed_country/metadata_all.p\", \"wb\" ) )"
   ]
  },
  {
   "cell_type": "code",
   "execution_count": null,
   "metadata": {},
   "outputs": [],
   "source": [
    "# Authors names are saved already (code is available at author name folder-get name list notebook)\n",
    "#load authors names\n",
    "import pickle\n",
    "author_name = pickle.load(open(\"C:/Thesis/Data/save/Master_Data/auth_ref_filter_num_char/auth_Human_Resource_Management_journal.p\", \"rb\"))"
   ]
  },
  {
   "cell_type": "code",
   "execution_count": null,
   "metadata": {},
   "outputs": [],
   "source": [
    "# GET REFERENCE LISTS OF STOPWORDS, I.E. WORDS THAT ARE ESSENTIALLY MEANINGLESS\n",
    "# Get all the list of authors names\n",
    "\n",
    "from nltk.corpus import stopwords\n",
    "\n",
    "sw = stopwords.words('english') + author_name \n",
    "#print(sw)"
   ]
  },
  {
   "cell_type": "code",
   "execution_count": null,
   "metadata": {},
   "outputs": [],
   "source": [
    "data_proc_1 = [filterWords(f, sw) for f in data_proc_country]"
   ]
  },
  {
   "cell_type": "code",
   "execution_count": null,
   "metadata": {},
   "outputs": [],
   "source": [
    "data_proc_1[2]"
   ]
  },
  {
   "cell_type": "code",
   "execution_count": null,
   "metadata": {},
   "outputs": [],
   "source": [
    "data_proc_2 = [re.sub(' \\.+', ' ', f) for f in data_proc_1]\n",
    "data_proc_2 = [re.sub(' +', ' ', f) for f in data_proc_2]\n",
    "data_proc_2 = [re.sub('http', '', f) for f in data_proc_2]\n",
    "data_proc_2 = [re.sub('www', '', f) for f in data_proc_2]\n",
    "data_proc_2 = [re.sub('iweb', '', f) for f in data_proc_2]\n",
    "data_proc_2 = [re.sub(' +', ' ', f) for f in data_proc_2]\n"
   ]
  },
  {
   "cell_type": "code",
   "execution_count": null,
   "metadata": {},
   "outputs": [],
   "source": [
    "data_proc_2[2]"
   ]
  },
  {
   "cell_type": "code",
   "execution_count": null,
   "metadata": {},
   "outputs": [],
   "source": [
    "# save data\n",
    "pickle.dump(data_proc_2, open( \"C:/Thesis/Data/save/Master_Data/MD_1/data_proc_latest/HRMJ_data_proc.p\", \"wb\" ) )"
   ]
  },
  {
   "cell_type": "code",
   "execution_count": null,
   "metadata": {},
   "outputs": [],
   "source": [
    "#import io\n",
    "with open(\"C:/Thesis/Data/save/Master_Data/MD_1/data_proc_latest/HRMJ_data_proc_txt.txt\", \"w\",encoding=\"utf-8\") as outfile:\n",
    "    for i in range(len(data_proc_2)):\n",
    "        outstring = \"\"\n",
    "        outstring += str(data_proc_2[i])\n",
    "        outfile.write(outstring)"
   ]
  },
  {
   "cell_type": "code",
   "execution_count": null,
   "metadata": {},
   "outputs": [],
   "source": []
  }
 ],
 "metadata": {
  "kernelspec": {
   "display_name": "Python 3",
   "language": "python",
   "name": "python3"
  },
  "language_info": {
   "codemirror_mode": {
    "name": "ipython",
    "version": 3
   },
   "file_extension": ".py",
   "mimetype": "text/x-python",
   "name": "python",
   "nbconvert_exporter": "python",
   "pygments_lexer": "ipython3",
   "version": "3.7.6"
  }
 },
 "nbformat": 4,
 "nbformat_minor": 2
}
