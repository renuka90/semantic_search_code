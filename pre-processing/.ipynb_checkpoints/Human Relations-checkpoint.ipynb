{
 "cells": [
  {
   "cell_type": "code",
   "execution_count": null,
   "metadata": {},
   "outputs": [],
   "source": [
    "import os\n",
    "import re\n",
    "import pandas as pd\n",
    "import urllib\n",
    "from nltk import SnowballStemmer\n",
    "from gensim.models import Word2Vec\n",
    "#import langdetect\n",
    "import tika\n",
    "import time\n",
    "from tika import parser\n",
    "import pickle"
   ]
  },
  {
   "cell_type": "markdown",
   "metadata": {},
   "source": [
    "# Raw Articles pdf Data\n",
    "Convert pdf to text using Tika apache server "
   ]
  },
  {
   "cell_type": "code",
   "execution_count": null,
   "metadata": {},
   "outputs": [],
   "source": [
    "# specify the target data folder\n",
    "target_dir = 'C:/Thesis/Data/Human_Relations'"
   ]
  },
  {
   "cell_type": "code",
   "execution_count": null,
   "metadata": {},
   "outputs": [],
   "source": [
    "# prep pdf extraction\n",
    "pdf_files = []\n",
    "wrd_files = []\n",
    "\n",
    "for f in os.listdir(target_dir):\n",
    "    if f.endswith(\".pdf\") | f.endswith(\".PDF\"):\n",
    "        thispdf = os.path.join(target_dir, f)\n",
    "        pdf_files = pdf_files + [thispdf]\n",
    "    if f.endswith(\".doc\") | f.endswith(\".docx\") | f.endswith(\".DOC\") | f.endswith(\".DOCX\"):\n",
    "        thiswrd = os.path.join(target_dir, f)\n",
    "        wrd_files = wrd_files + [thiswrd]"
   ]
  },
  {
   "cell_type": "code",
   "execution_count": null,
   "metadata": {},
   "outputs": [],
   "source": [
    "port = 4321 # port to use for Tika server (chosen arbitrarily)\n",
    "server_str = 'http://localhost:' + str(port)\n",
    "tika_path  = 'C:\\Software\\ tika-server-1.23.jar'\n",
    "tika_run   = 'java -jar' + tika_path + ' --port ' + str(port)\n",
    "print('Command to start Tika:')\n",
    "print(tika_run)\n",
    "print('---')\n",
    "print('Number of pdf files: ' + str(len(pdf_files)))\n",
    "print('Number of word files: ' + str(len(wrd_files)))"
   ]
  },
  {
   "cell_type": "markdown",
   "metadata": {},
   "source": [
    "# PDF Metadata"
   ]
  },
  {
   "cell_type": "code",
   "execution_count": null,
   "metadata": {},
   "outputs": [],
   "source": [
    "# process the PDF files, store text in memory\n",
    "tika.TikaClientOnly = True \n",
    "\n",
    "pdf_metadata = [parser.from_file(t, server_str, xmlContent=False)[\"metadata\"] for t in (pdf_files + wrd_files)]"
   ]
  },
  {
   "cell_type": "code",
   "execution_count": null,
   "metadata": {},
   "outputs": [],
   "source": [
    "# save data metadata\n",
    "pickle.dump(pdf_metadata, open( \"C:/Thesis/Data/save/Human_Relations/metadata/metadata_all.p\", \"wb\" ) )"
   ]
  },
  {
   "cell_type": "markdown",
   "metadata": {},
   "source": [
    "# pdf content"
   ]
  },
  {
   "cell_type": "code",
   "execution_count": null,
   "metadata": {},
   "outputs": [],
   "source": [
    "# process the PDF files, store text in memory\n",
    "tika.TikaClientOnly = True \n",
    "\n",
    "#pdf_text = [parser.from_file(t, server_str, xmlContent=False)[\"content\"] for t in (pdf_files + wrd_files)]"
   ]
  },
  {
   "cell_type": "markdown",
   "metadata": {},
   "source": [
    "# step: 1 - Load pdf content"
   ]
  },
  {
   "cell_type": "code",
   "execution_count": 1,
   "metadata": {},
   "outputs": [],
   "source": [
    "import pickle\n",
    "#load the text data\n",
    "pdf_text = pickle.load(open(\"C:/Thesis/Data/save/Human_Relations/save_alltextData.p\", \"rb\"))"
   ]
  },
  {
   "cell_type": "code",
   "execution_count": 4,
   "metadata": {},
   "outputs": [
    {
     "data": {
      "text/plain": [
       "434"
      ]
     },
     "execution_count": 4,
     "metadata": {},
     "output_type": "execute_result"
    }
   ],
   "source": [
    "len(pdf_text)"
   ]
  },
  {
   "cell_type": "markdown",
   "metadata": {},
   "source": [
    "# step-2 convert it to lowercase"
   ]
  },
  {
   "cell_type": "code",
   "execution_count": 2,
   "metadata": {},
   "outputs": [],
   "source": [
    "#Convert each string to lowercase\n",
    "for i in range(len(pdf_text)):\n",
    "    pdf_text[i] = pdf_text[i].lower()"
   ]
  },
  {
   "cell_type": "markdown",
   "metadata": {},
   "source": [
    "# Excluding pdfs if it doesnot have the standard format\n",
    "check the standard format of pdf- if it contains method and discussion section or not"
   ]
  },
  {
   "cell_type": "code",
   "execution_count": 3,
   "metadata": {},
   "outputs": [
    {
     "data": {
      "text/plain": [
       "56"
      ]
     },
     "execution_count": 3,
     "metadata": {},
     "output_type": "execute_result"
    }
   ],
   "source": [
    "import re\n",
    "pdf_included =[]\n",
    "pdf_excluded =[]\n",
    "\n",
    "for i in pdf_text:\n",
    "    flag_1 = re.search(r'\\n(general )?discussion\\n', i)\n",
    "    flag_2 = re.search(r'\\nmethods?\\n', i)\n",
    "   \n",
    "    if flag_1 and flag_2: \n",
    "        pdf_included.append(i)\n",
    "     \n",
    "    else:\n",
    "        pdf_excluded.append(i)\n",
    "len(pdf_included)"
   ]
  },
  {
   "cell_type": "code",
   "execution_count": 6,
   "metadata": {},
   "outputs": [
    {
     "data": {
      "text/plain": [
       "\"\\n\\n\\n\\n\\n\\n\\n\\n\\n\\n\\n\\n\\n\\n\\n\\n\\n\\n\\n\\n\\n\\n\\n\\n\\n\\n\\n\\n\\n\\n\\n\\n\\n\\n\\n\\n\\n\\n\\n\\n\\n\\n\\n\\n\\n\\n\\n\\n\\n\\nmiddle managers as boundary subjects: managerial subjectivity and multiple identifications\\n\\n\\nhal id: halshs-01959107\\nhttps://halshs.archives-ouvertes.fr/halshs-01959107\\n\\nsubmitted on 18 dec 2018\\n\\nhal is a multi-disciplinary open access\\narchive for the deposit and dissemination of sci-\\nentific research documents, whether they are pub-\\nlished or not. the documents may come from\\nteaching and research institutions in france or\\nabroad, or from public or private research centers.\\n\\nl’archive ouverte pluridisciplinaire hal, est\\ndestinée au dépôt et à la diffusion de documents\\nscientifiques de niveau recherche, publiés ou non,\\némanant des établissements d’enseignement et de\\nrecherche français ou étrangers, des laboratoires\\npublics ou privés.\\n\\nworking at the boundaries: middle managerial work as\\na source of emancipation and alienation\\n\\nricardo azambuja, gazi islam\\n\\nto cite this version:\\nricardo azambuja, gazi islam. working at the boundaries: middle managerial work as a source of\\nemancipation and alienation. human relations, sage publications, in press. �halshs-01959107�\\n\\nhttps://halshs.archives-ouvertes.fr/halshs-01959107\\nhttps://hal.archives-ouvertes.fr\\n\\n\\n \\n\\n \\n\\n \\n\\nrunning head: middle managerial work \\n\\n \\n\\nworking at the boundaries:  \\n\\nmiddle managerial work as a source of emancipation and alienation \\n\\n \\n\\n \\nazambuja, r. & islam, g. (2018).working at the boundaries: middle managerial work as a  \\n\\n source  of emancipation and alienation. human relations, onlinefirst \\n\\n \\n\\n \\n\\nabstract: the current paper examines the experience of middle management through the \\n\\nconcept of boundary work, characterized as the work of negotiating between multiple roles at \\n\\nthe interstices of organizational groups. through an ethnographic study of a brazilian \\n\\naccounting firm, we explore the ambivalent experience of boundary work as characteristic of \\n\\nprofessional middle managerial workers. our managers described themselves as proactive \\n\\nand reflexive agents, on the one hand, yet also as lacking autonomy and a sense of belonging, \\n\\non the other. we examine this tension as a contrast between forces of emancipation (i.e. sense \\n\\nof mastery, autonomy, empowerment and reflexivity) and alienation (i.e. fatigue, lack of self-\\n\\ndetermination, and detachment from their profession and coworkers). we discuss these forces \\n\\nand their implications for managerial work in the light that, in our findings, managers \\n\\nroutinely shift between being agential and reflexive mediators – boundary subjects – and \\n\\ninterfacing and coordination devices – boundary objects. \\n\\n \\n\\nkey-words: alienation, boundary objects, boundary subjects, brazil, emancipation, \\n\\nethnography, experience of work, managerial work, middle managers, politics of everyday \\n\\nlife. \\n\\n\\n\\n                                               \\n\\n \\n\\n  \\n\\n1. introduction \\n\\nmiddle managerial experience takes place within complex configurations of roles \\n\\n(e.g. rouleau and balogun, 2011). by roles, we refer to people’s socially constructed \\n\\npositions and performances in a given organization, which may be  multiple and conflicting \\n\\n(ashforth et al., 2000). where employees work between, adapt to, and cope with competing \\n\\nand contradictory role demands, the resulting complexity impacts their subjective experiences \\n\\nof work and of themselves (beech, 2011). such complexity, moreover, particularly \\n\\ncharacterizes middle managers, who deal on a daily basis with multiple organizational \\n\\nfunctions, working between ranks and occupying multiple roles (harding et al., 2014). how \\n\\nsuch heterogeneity reverberates in the work lives of middle managers has implications for \\n\\ncontemporary managerial work situations marked by contradictory and increased work \\n\\npressure (e.g. mumby et al., 2017). \\n\\n the current study reports the results of a multi-site ethnography of middle managers \\n\\nin a brazilian accounting firm to understand middle managers’ boundary work and its \\n\\nambivalent repercussions for the experiences of middle managerial work. specifically, \\n\\ntensions ensuing from middle managers’ performing with, and adjusting to, multiple actors in \\n\\ntheir attempts to foster collaboration may give rise to contradictory experiences that are not \\n\\nwell understood. we describe the position taken by middle managers as being that of \\n\\n“boundary subjects” (huzzard et al., 2010) – people who perform the functions of boundary \\n\\nobjects – and term their work “boundary work”. in performing boundary work, middle \\n\\nmanagers experience being boundary subjects – that is, agential and reflexive mediators \\n\\nbetween social positions. yet, they also experience being used as interfacing and coordination \\n\\ndevices for the sake of organizational functioning – that is, being boundary objects (star and \\n\\ngriesemer, 1989). these contrasting experiences establish ambivalence as a core \\n\\ncharacteristic of boundary work.  \\n\\n\\n\\n                                               \\n\\n \\n\\n  \\n\\nthe literature on middle managers emphasizes that their work takes place at symbolic \\n\\nboundaries, such as those between different logics (e.g. llewellyn, 2001), distinct \\n\\nhierarchical ranks (e.g. balogun, 2003), and divergent organizational groups and coalitions \\n\\n(e.g. raes et al., 2011). by drawing on contradictory sources to construct their precarious and \\n\\ncontingent work situations (down and reveley, 2009) between elites and workers in \\n\\norganizations and in society at large (peschanski, 1985), middle managers perform \\n\\nantagonistic roles such as those of leader and bureaucrat (sveningsson and alvesson, 2003), \\n\\ncontroller and controlled, and resister and resisted (harding et al., 2014). they deal with \\n\\ndemands for both emotional engagement and detachment, professionalism and \\n\\nunprofessionalism, and are expected to privilege the interests of both the business and the \\n\\nindividuals within it (clarke et al., 2009). thus, understanding the contradictions emerging \\n\\nfrom the work of mediating across various kinds of boundaries is a central task for the \\n\\nliterature on middle managers. \\n\\nstudying middle managers’ lived experiences of work is of particular importance \\n\\ngiven the centrality of middle managers (ahearne et al., 2014) in both large and medium-\\n\\nsized organizations (mair and thurner, 2008). yet, few studies have provided empirical \\n\\nevidence to specify how middle managers deal subjectively with the challenges they face \\n\\n(pawlowski and robey, 2004), nor has there been significant study of managerial work in \\n\\naccounting firms (korica et al., 2017), our empirical setting. \\n\\nmost research on individuals performing boundary work between contradictory \\n\\ninfluences has focused on their roles (e.g. huzzard et al., 2010) and coping mechanisms (e.g. \\n\\nsillince and mueller, 2007) at the expense of understanding their lived experiences of work. \\n\\nthe limited exceptions have arrived at inconsistent results. on the one hand, existing research \\n\\ncharacterizes boundary work as triggering openness, fluidity and a sense of autonomy in \\n\\ndealing with multiple competing demands and situational requirements (sveningsson and \\n\\n\\n\\n                                               \\n\\n \\n\\n  \\n\\nalvesson, 2003). on the other hand, such work may give rise to feelings of separation, \\n\\ntension and a sense of otherness (beech, 2011). the fact that middle managers can harbor \\n\\nsuch heterogeneous experiences begs explanation. thus, the current study focuses on the \\n\\nquestion of how the role complexity and tensions ensuing from boundary work are \\n\\nexperienced by middle managers. \\n\\nto answer this question, the next two sections discuss the contradictory pressures \\n\\nexerted upon middle managers when performing boundary work, and the ambivalent position \\n\\nthese pressures establish for managers. we then describe our ethnographic engagement with a \\n\\nbrazilian accounting firm, where we followed middle managers during the course of their \\n\\ndaily organizational lives (courpasson, 2017) to produce thick description (geertz, 1973) of \\n\\ntheir subjective experiences of work. our findings examine the diversity of reactions to \\n\\nboundary work, including not only a sense of liberation and autonomy, but also of suffering \\n\\nand social detachment. empirically, in order to explain this ambivalence, we build upon and \\n\\nelaborate concepts of emancipation and alienation, allowing us to theorize their co-emergence \\n\\nwithin complex managerial roles by proposing a taxonomy of experiential categories that \\n\\nencompasses the range of experiences encountered during the routine course of middle \\n\\nmanagers’ work. based on this resulting theorization, we draw out a research agenda for \\n\\nexamining emancipation and alienation in professional work, and consider its implications for \\n\\nour understanding of managerial work. \\n\\n2. literature review \\n\\n2.1 ambivalence in middle managerial work  \\n\\nthere is no unanimously accepted definition of middle managerial work (harding et \\n\\nal., 2014). for our purposes, we characterize middle managerial work as work carried out by \\n\\norganizational members who interact regularly with both top executives and operational \\n\\nemployees (wooldridge et al., 2008), involving the performance of multidirectional roles \\n\\n\\n\\n                                               \\n\\n \\n\\n  \\n\\n(bryant and stensaker, 2011) and serving as a conduit between ranks (nielsen, 2009), so as to \\n\\ninterpret and translate abstract strategic vision into practical implementation (e.g. huy, 2001). \\n\\ngiven their organizational responsibilities and positioning, middle managers cope \\n\\nwith “conflicting expectations and frustrating demands” (keys and bell, 1982: 59), routinely \\n\\nfacing contradictory work situations (sims, 2003). moreover, middle managers struggle to \\n\\ndeal with both upward and downward relations within the organizational hierarchy, as well as \\n\\nwith groups both internal and external to the organization (rouleau, 2005). this multi-\\n\\ndirectionality presents difficulties given the conflicting attitudes, skills, requirements and \\n\\nexigencies demanded of a single individual by different groups (keys and bell, 1982). \\n\\nresearch on middle managers’ lived experiences while dealing with these \\n\\ncontradictory influences has identified a multitude of responses. clarke et al. (2009) \\n\\ndemonstrate three contradictions stemming from middle managers’ disparate sources of \\n\\ninfluence: their accounts suffer from a lack of coherence in incorporating conflicting \\n\\nelements, their identities display conflicting features, and they are shaped by organizational \\n\\ncontrols at the same time as they resist these controls. harding et al. (2014) further show that \\n\\nmiddle managers’ status involves perpetual shifts between being agents of control and being \\n\\nsubjected to control – they are resisted and themselves resist, resulting in a plethora of routine \\n\\npositions that renders their work difficult to comprehend. \\n\\norganizational roles provide mediating structures that allow subjects to navigate this \\n\\ncomplexity (järventie-thesleff and tienari, 2016). scholarship around roles has considered \\n\\nthe subjective importance of transitioning across roles, particularly in terms of identity-\\n\\nrelated processes (e.g. ashforth et al., 2000; simpson and carroll, 2008). however, the \\n\\nsubjective experience of work cannot be reduced to role occupation, and while the ongoing \\n\\nshifts between control and subjection experienced in such intermediate positions has been \\n\\n\\n\\n                                               \\n\\n \\n\\n  \\n\\nnoted (harding et al, 2014), little is known about the subjective experiences of agency or \\n\\npowerlessness as middle managers enact different persona across organizational situations. \\n\\nsuch ambivalent experiences derive both from middle managers’ work situation and \\n\\ntheir social position (thomas and linstead, 2002). according to peschanski (1985), both in \\n\\ntheir work and social lives, middle managers occupy intermediary positions between the \\n\\ncapitalists and the workers, between the bourgeois and the proletarian, rendering their \\n\\nstanding more contradictory than in the case of any other social stratum. situated between \\n\\nspheres of influence, middle managers are exposed to, and are required to cope with, \\n\\ncontradictions and tensions of empowerment and exploitation. as such, middle managers’ \\n\\nsituation can be described as a pull between their “state as subjects” (courpasson, 2017: 855) \\n\\n– in which the relationship of middle managerial individuals to their surroundings involves \\n\\nexperimentation, recognition and reflection – and as mere “reacting objects” numbed by \\n\\ndominating situations (blauner, 1964: 16). \\n\\nalthough some work has examined the ways in which middle managers tackle \\n\\norganizational contradictions (e.g. beck and plowman, 2009), and the impact these \\n\\ncontradictions have on middle managers’ identity (e.g. sims, 2003), emotions (turnbull, \\n\\n2001), language usage (watson, 1995) and career progression (kornberger et al., 2011), the \\n\\nsubjective experiences of being both agent of action and object of control suggests an \\n\\nambivalence that is not well understood. out of the frictions between these contradictory \\n\\npossibilities of human existence, the ontological possibilities imagined by individuals may be \\n\\nrendered unpredictable, and everyday politics indeterminate. \\n\\n2.2 middle managerial boundary work \\n\\nthe ambivalent position described above results from middle managers’ work in \\n\\ncoordinating different actors across hierarchical and functional lines (e.g. balogun et al., \\n\\n2005). promoting and coordinating action is a classically recognized managerial task \\n\\n\\n\\n                                               \\n\\n \\n\\n  \\n\\n(mintzberg, 1990), involving struggles between divergent agencies and interests (clegg, \\n\\n1989). although such coordination has important repercussions on organizational \\n\\nfunctioning, it has been a persistent academic puzzle (e.g. delmestri and walgenbach, 2005; \\n\\nfayol, 1916/1979; mintzberg, 1973). while some studies have identified “universal” \\n\\nmanagerial roles – arguing, for instance, that managers are required to perform decisional, \\n\\ninformational and interpersonal roles (mintzberg, 1973) – other research has demonstrated \\n\\nthe existence of divergences as well as similarities across contexts. for instance, the german, \\n\\nitalian and british middle managers studied by delmestri and walgenbach (2005) mobilized \\n\\ntechnical and managerial knowledge to varying degrees; yet, their managerial work was \\n\\nsimilar in that they shared the responsibility of buffering between groups in order to maintain \\n\\na positive social environment, attain goals and retain organizational flexibility. \\n\\nthus, with middle managers, facilitating collaborative action also implies navigating \\n\\nbetween different organizational publics. given their need to understand both the technical \\n\\nand social aspects of organizations (huy, 2001), middle managers capitalize on both informal \\n\\nand formal channels of communication and foster cross-functional collaborations by \\n\\ninfluencing key organizational actors (rouleau and balogun, 2011), negotiating between the \\n\\nstrategic and operational levels of an organization. we call the activity of working between \\n\\nthese actors “boundary work”. \\n\\nexisting literature has mentioned boundary work as a way of establishing and \\n\\nmaintaining group divisions (lamont and molnár, 2002); however, the structural focus of this \\n\\nwork neglected the micro-interactional aspects of boundary work (okhuysen et al., 2013). to \\n\\nfocus on this micro-level and its experiential possibilities, we use the term boundary work to \\n\\nevoke the ways in which middle managers’ work mimics the role of boundary objects, by \\n\\ncatalyzing intergroup collaboration via interpretive flexibility across, or local tailoring to, \\n\\ndiverse groups (star & griesemer, 1989). drawing the parallel between middle managers’ \\n\\n\\n\\n                                               \\n\\n \\n\\n  \\n\\nwork and boundary objects highlights the definitional ambiguity of middle managers’ status \\n\\nwithin organizations. \\n\\nboundary objects are characterized by their lack of a specific definition and by their \\n\\ncontinuity across a range of possible categorizations (star and griesemer, 1989). to produce \\n\\ncoherence among divergent contributing social worlds, boundary objects simultaneously \\n\\nassume seemingly contradictory positions (star and griesemer, 1989), serving as spaces of \\n\\nnegotiation in which differences and information are articulated, amended and transferred. \\n\\nboundary objects allow actors to cope with and overcome problems arising at the interfaces \\n\\nof different spheres of activity, and are perceived differently by different actors. \\n\\nunlike boundary objects, however, middle managers do not only “sit in the middle of \\n\\na group of actors with divergent viewpoints” (star, 1989: 46), they also actively constitute \\n\\nand enact their position and work (harding et al., 2014). thus, individuals – such as middle \\n\\nmanagers – are not (merely) objects, in that they are not passive “linking pins” (harding et \\n\\nal., 2014). rather, they also consciously and reflexively regulate their boundary-negotiating \\n\\nactivities and standings, and, in this way, subjectively experience their positions as ones of \\n\\npossibility or constraint. for this reason, we refer to middle managers as “boundary subjects” \\n\\n(huzzard et al., 2010). \\n\\nhuzzard et al. (2010) used the concept of “boundary subjects” to describe action \\n\\nresearchers as they practiced research interventions at the boundaries of coalitions with the \\n\\naim of cultivating inter-organizational cooperation. while mediating between different \\n\\ngroups, boundary subjects encouraged mutual reflection and constructed shared meanings, \\n\\nemphasizing diversity while also securing agreement on ways of working, and building \\n\\nrelationships and coalitions through dialogue. through these activities, boundary subjects \\n\\ninfluenced the parties involved, thereby facilitating collaboration. \\n\\n\\n\\n                                               \\n\\n \\n\\n  \\n\\nsimilarly to boundary objects, boundary subjects mediate between heterogeneous \\n\\ngroups to achieve collaboration. however, while boundary objects serve diverse \\n\\nconstituencies through their receptivity to multiple interpretations (star and griesemer, \\n\\n1989), boundary subjects enact these socially constituted worlds (huzzard et al., 2010).  \\n\\nperforming their roles in political and discursive ways and, as subjects, subjectively \\n\\nexperiencing their mediational role, boundary subjects make sense of their intermediary \\n\\npositions as the enactment of boundary work. \\n\\nthe notion of the boundary subject is useful for characterizing the experience of work \\n\\nat boundary interfaces, an increasingly important area of study (laine et al., 2016). yet the \\n\\nconcept appears only in two recent studies (i.e. huzzard et al., 2010; laine et al., 2016), and \\n\\nhas not been applied to middle managers, a group uniquely poised as boundary subjects. nor \\n\\nhas the experience of such a subjectivity, and its inherent ambivalences, been empirically \\n\\nexplored. despite this lacuna, the concept provides us with an analytical lens through which \\n\\nto examine the work of middle managers in their agential and subjective experience of \\n\\nintersectional work at the crossroads of organizational groups. \\n\\n3. method \\n\\nmiddle managers have been studied using both quantitative (e.g. pappas and \\n\\nwooldbridge, 2007) and qualitative (e.g. mantere, 2008) methods. however, a recent review \\n\\nof over sixty years of literature (korica et al., 2017) finds few examples of deep ethnographic \\n\\nengagement in middle managers’ daily lives. prioritizing the lived experience of middle \\n\\nmanagers in their ambivalent experiences of agency and instrumentalization in everyday \\n\\nexperience, our study began from a broad ethnographic strategy. this involved immersion in \\n\\nour subjects’ daily lives and activities and closely observing and recording behaviors, \\n\\nrelations, structures, symbols and meanings, with the aim of writing detailed accounts of \\n\\nthese subjects and their culture. \\n\\n\\n\\n                                               \\n\\n \\n\\n  \\n\\ndespite the lack of a rich ethnographic tradition on middle managers, related work \\n\\nexists on professional services firms (watson, 2011), work-embodied practices (cf. barley \\n\\nand kunda, 2001), emancipation in organizations (alvesson and willmott, 1992) and the \\n\\ncontrol/resistance dichotomy (prasad and prasad, 2000). following this work \\n\\nmethodologically, we foreground our focus individuals’ capacities to actively create the \\n\\nworld and themselves via everyday mundane actions, encounters and life experiences shared \\n\\nat work (courpasson, 2017). \\n\\n3.1 background of the studied firm \\n\\n brabig 1 was founded in 1965 and is among the twelve largest audit firms operating \\n\\nin brazil. brabig’s main services are auditing of financial statements and internal controls, \\n\\ninformation security auditing, and consulting. table 1 presents brabig’s personnel \\n\\nstructure, as described by the firm’s directors and hr department, indicating the number of \\n\\npeople in each office location per organizational rank. the personnel structure has four ranks: \\n\\ntop management, middle management, auditors and consultants (also called staff), and back-\\n\\noffice. middle managers are located between top managers and staff. \\n\\n<insert table 1 here> \\n\\n3.2 data collection \\n\\nthe ethnographic fieldwork, conducted by the first author in an open and emergent \\n\\nmanner with research questions emerging from the field (van maanen, 1998), lasted until \\n\\ntheoretical saturation was achieved. the larger context of the study was the daily work lives \\n\\nof middle managers, with an emphasis on interactions with top managers and subordinates in \\n\\nformal (e.g. meetings and training sessions) and less formal (e.g. everyday work and \\n\\nlunchtime) conversations and situations. \\n\\n                                                      \\n1 a pseudonym. \\n\\n\\n\\n                                               \\n\\n \\n\\n  \\n\\nfieldwork, consisting of observations, shadowing and interviews, took place in two \\n\\nphases – august-october 2011 and february-june 2012 – across four offices, selected for \\n\\ntheir size and strategic importance: the firm’s headquarters in porto alegre and branches in \\n\\nsão paulo (two offices) and rio de janeiro. initial insights about the performances of \\n\\nboundary work derived from observations and shadowing; however, we relied largely on \\n\\ninterviews to understand and convey informants’ experiences of such a work. we interviewed \\n\\nmiddle managers, their direct supervisors, subordinates, and colleagues regarding their work \\n\\npractices and interpersonal relations. a multi-angle approach was adopted, with responses of \\n\\ndifferent interviewees cross-verified and interviews repeated to aid in identifying recurrent \\n\\nthemes. a first phase (in 2011) of individual open-ended interviews (around thirty minutes \\n\\neach) with 40 brabig personnel in general, focusing on work responsibilities, practices and \\n\\nrelations, was followed by a more focused, in-depth, second phase (in 2012) of individual \\n\\nrecurrent interviews (4-9 hours with each manager) with 12 middle managers. the interview \\n\\nscript of the second phase was informed by our reading of the pertinent literature as well as \\n\\nour analysis of the data gathered during the first phase. these structured interviews were \\n\\ndesigned with the specific aim of gathering, among other information, insights into matters \\n\\nrelating to the quality of “in-betweenness”, the challenges and pleasures arising from \\n\\nmediating between heterogeneous groups, and the interviewees’ successes and failures in \\n\\nestablishing cross-functional collaborations. \\n\\nall interviews were recorded, with the exception of those of two participants who, in \\n\\nthe first phase of interviews, felt uncomfortable being recorded despite being guaranteed \\n\\nanonymity – for these two cases, notes were taken. all observations and interviews were \\n\\nconducted in brazilian portuguese. all interviews were transcribed verbatim into portuguese \\n\\nby the first author. only the interview extracts used in the paper were translated into english \\n\\nby the first author and verified by the second author, fluent in both english and portuguese. \\n\\n\\n\\n                                               \\n\\n \\n\\n  \\n\\nminor disagreements in translation to english were solved by giving preference to the author \\n\\nwhose first language is english. a summary of interviewees’ details is given in table 2. \\n\\n< insert table 2 here > \\n\\n3.3 analysis \\n\\nthe first insights around boundary work occurred during observation and shadowing, \\n\\nwhen we noticed that middle managers’ ways of working and presenting themselves were \\n\\ncontinuously tailored to their environments and roles. middle managers’ intermediary \\n\\nposition became evident during the observation of key managerial activities (e.g. interfacing, \\n\\nconveying information and knowledge, and translating between organizational groups and \\n\\nranks) and in response to situational requirements (e.g. the need to appease, and the need to \\n\\nrender information comprehensible and coherent). \\n\\nour data collection and analysis co-evolved iteratively (cf. corbin and straus, 2008), \\n\\nwith initial observations of everyday work practices followed by interviews more directly \\n\\ninterrogating middle managers’ subjective experiences. our initial focus on work moved \\n\\ninductively into a consideration of interpersonal relationships organized around interfacing \\n\\nroles, where the in-between condition of middle managers’ work became a central concern. \\n\\nthus, our focus of analysis shifted to middle managers’ interactions and social role \\n\\npositioning. at this point, gaining access to the experience of being subjected to this kind of \\n\\npositioning required direct interviewing techniques. as such, as noted above, our final \\n\\nexperiential categories drew heavily on the interview data. taking intermediation as a \\n\\nconceptual object led us to envision this aspect of middle managerial work in terms of the \\n\\nfunctions performed by boundary objects. from the concern with lived experience and the \\n\\nemerging considerations about boundary work, we decided to build upon huzzard et al.’s \\n\\n(2010) notion of boundary subjects as our “sensitizing concept” (blumer, 1954). \\n\\n\\n\\n                                               \\n\\n \\n\\n  \\n\\nspecifically, we focused on middle managers’ responses to boundary work: how they \\n\\nthought about it, felt about it, and perceived its deployment. two overarching themes \\n\\nemerged, encompassing the experiential categories of emancipation and alienation as \\n\\nundertheorized features of middle managerial work. we organized similar pieces of empirical \\n\\nevidence into salient categories, some associated with a sense of liberation, proficiency and \\n\\nfreedom, and others linked to frustration, disorientation and detachment. we began to view \\n\\nthese two aspects as dialectical, deriving from and acting through opposing forces, hence \\n\\nconceptualizing middle managers simultaneously as being boundary subjects and as serving \\n\\nas boundary objects for the purposes of the organization’s functioning. \\n\\nbeyond cataloguing different experiences of boundary work, we sought to theorize \\n\\nemancipatory and alienating experiences as related parts of a more general phenomenon. \\n\\nemancipatory and alienating experiences of boundary work were conceptualized in terms of \\n\\ntheir mutual reinforcement within a unified field of experience. furthermore, the two themes \\n\\nappear in different ways across the categories demonstrated in the findings section.2 the \\n\\noverarching themes do not describe a single positive or negative experience, but rather a \\n\\nthematic range involving ambivalence, uncertainty and contradictory experiences. \\n\\nthe authors met frequently to discuss the empirical material collected and the \\n\\ndynamics witnessed by the first author in the field, helping to shape the emerging categories \\n\\nand allowing for systematic evaluation of judgments regarding the evidence. although our \\n\\nongoing engagement with the literature informed the analysis, our concern was to allow the \\n\\nresearch findings to emerge from the empirical material itself, linking it with, but not being \\n\\nconstrained by, pre-existing theoretical frameworks. \\n\\n                                                      \\n2 as for instance elaborated in the ‘reflexivity’ category below. \\n\\n\\n\\n                                               \\n\\n \\n\\n  \\n\\ntable 3 demonstrates our conceptualization process and some empirical material \\n\\nemployed: i) illustrative codes generated from field notes (observations and shadowing) \\n\\nabout boundary work, which assisted us in developing interview scripts to capture how \\n\\nmanagers experience this work, ii) illustrative extracts from interviews we draw upon to \\n\\ndevelop the theoretical categories, and iii) the aggregate theoretical dimensions that \\n\\nencompass the emancipatory and alienating experiences of boundary work. \\n\\n< insert table 3 here > \\n\\n4. findings \\n\\n4.1 experiencing emancipation \\n\\nthe experience of being a boundary subject involved what we call “emancipation” \\n\\nwhen boundary work allowed middle managers to improve their craft, offered autonomy \\n\\nacross diverse functions and ranks, established possibilities to access influential actors, and \\n\\ntriggered critical thinking. the four experiential categories we identified under the \\n\\noverarching supercategory of emancipation – mastery, autonomy, empowerment and \\n\\nreflexivity – are analytically distinct, despite being phenomenologically related in their \\n\\ncommon emergence from boundary work. \\n\\n4.1.1 mastery \\n\\nmastery of boundary work was experienced as proficiency in adapting to multiple \\n\\nroles, several times a day. interfacing across, and crossing over, functional and hierarchical \\n\\nboundaries was deemed important for task completion and cross-collaboration. as marcos3, a \\n\\nyoung manager responsible for government projects, said regarding a lottery audit project: \\n\\nthis matter about the [auditing of the] lottery and its contracts, i am not gonna fix it \\n\\n[by myself], i am gonna make people talk. then i’ll go and make these four \\n\\n[departments] sit down and resolve the matter. that’s what i’ll do; it’s a mediation of \\n\\nconversation involving four different areas. \\n\\n \\n\\n                                                      \\n3 all interviewee are middle managers and have been given fictitious names to protect anonymity. \\n\\n\\n\\n                                               \\n\\n \\n\\n  \\n\\nalexandre, who has worked in several different areas and branches of bragig, \\n\\nreported that the skills required to perform boundary work are rare and valued: “even the \\n\\ndirectors don’t have the knowledge to resolve these problems because the one who is \\n\\ntransitioning among all these levels is me”. tiago, responsible for brabig’s most important \\n\\nbusiness unit, took pride in the creativity inherent to this adaptability, reinforcing the sense of \\n\\nmastery: “to play these different people [roles] is the art of an intermediary manager.” \\n\\nselling seemed to be acutely dependent on mastering boundary work, its in-\\n\\nbetweenness and requirement for juggling a diversity of knowledge bases and relationships. \\n\\nleonardo, a branch manager known for his intelligence and political skills, noted, regarding \\n\\nworking at organizational crossroads: “a service is not sold without having technical \\n\\nknowledge of the matter. so, this line places me in a position to act on any of the corners of \\n\\nthe [organizational] tripod, that is, the technical, administrative and commercial”. \\n\\nleonardo’s comment suggests the multifunctionality and varied knowledge bases required to \\n\\nsuccessfully expand businesses, and how these are concentrated in the middle manager’s role. \\n\\nduring observations, it was noted that middle managers discussed the importance of \\n\\nflexibility and adaptation as performance elements within their teams. they cited this \\n\\ncapacity as key to career progression. as documented in the field notes:  \\n\\nin a training session, tiago instructs his senior auditors that to be a real project leader \\n\\nthey should be flexible and adapt their behaviors according to the clients’ interlocutor: \\n\\nstricter and more direct with the accountants and friendlier and more talkative with the \\n\\nfinance director. \\n\\n \\n\\nfelipe, a branch manager known as brabig’s best salesperson, mentioned that roles \\n\\nlike “leader” and “follower” would frequently alternate during work – “i am a follower, and \\n\\nalso i am a leader” – indicating several possible configurations of professional domain and \\n\\nhierarchical position. a similar point was made by jorge, an experienced special projects \\n\\nmanager, who added a reason for such role accumulation: “firstly, i am an engineer. i am no \\n\\naccountant… i helped establish the consultancy… i am a supervisor, a manager, a director \\n\\n\\n\\n                                               \\n\\n \\n\\n  \\n\\nbecause when i am working with a team with a client, or in a meeting, i have to defend the \\n\\nproject and the firm.” \\n\\non a regular working day, middle managers were observed transitioning across, and \\n\\nacclimatizing to, diverse organizational groups and situations, and engaging and disengaging \\n\\nwith distinct roles (e.g. director, organizational psychologist, auditor/consultant, auditing \\n\\npartner, business unit manager, sales person and team leader), as corroborated by tiago: \\n\\n“changing roles is a necessary part of the managerial work; that is, it is a function of the one \\n\\nwho is between the ones who have the capital and the ones who have the labour [to offer].” \\n\\ntiago here explicitly acknowledges the position between capital and labour as the root of the \\n\\nambivalence of boundary work. this ambivalence extended to interpersonal relations, as \\n\\nmarcos notes, suggesting that mastery of boundary work connecting distinct agendas is an \\n\\nimportant professional asset: “to be a good manager here you cannot communicate as you \\n\\nwish and only in your own way, you have to adapt, to be able to transit in the different \\n\\nhierarchical levels and among people with different sorts of personalities.”  \\n\\nthus, by mastering boundary work, middle managers as boundary subjects \\n\\nexperienced a sense of proficiency in accommodating contradictions, a situation reported by \\n\\njoão, the manager of a new service line: “if i don’t defend, simultaneously, the interests of the \\n\\nteam, the directors, and the client, the client would leave, the employees would quit and the \\n\\ndirectors would lose all their profit.” his remarks indicate the in-betweenness of boundary \\n\\nwork, its political intensity and inherent juggling of contradictions, suggesting that \\n\\nharmonizing interests facilitates keeping the organizational ensemble operating properly. \\n\\n4.1.2 autonomy \\n\\nautonomy involves the experience of enjoying latitude and discretion, resulting from \\n\\nopportunities for open and creative juggling of roles and organizational groups. informants \\n\\n\\n\\n                                               \\n\\n \\n\\n  \\n\\ndescribed their mediational work as “free,” and reported having space to draw upon diverse \\n\\nfunctional areas and construct a broad network of relationships.  \\n\\nperforming, changing and adapting boundary work on an ongoing basis led middle \\n\\nmanagers to experience autonomy in making their own choices – “i have a capacity to do and \\n\\nto be in all the areas, and to tailor myself to them” (alexandre) – and to prize such a liberty: \\n\\n“for me it is a much greater personal satisfaction playing these various roles than only one. \\n\\nit is not only a pleasure; it is also a professional achievement” (tiago). \\n\\nboundary work was associated with autonomy, conveying a sense of freedom from a \\n\\nsingle categorical organizational role through intermeshing, and working within, multiple \\n\\ndomains: “i do not belong to a single job, i belong to 200 jobs. so i have to be open to all of \\n\\nthem at any moment” (felipe). carlos, known for his dynamism and capacity to keep abreast \\n\\nof new norms and regulations affecting audits, believes he has ample leeway to choose his \\n\\nroles: “it’s you that chooses the roles you will develop. this gives you a certain freedom.” \\n\\nhowever, as indicated in the field notes, shadowing middle managers revealed that \\n\\nthis sense of autonomy also generated animosities, mainly when middle managers: i) \\n\\nencroached upon the autonomy of other managers by dealing with other branches’ matters or \\n\\nclients outside of their jurisdictions, ii) attempted to get involved in brabig’s cash flow \\n\\nmatters for which the headquarters finance department was exclusively responsible, or iii) \\n\\ntried to influence the auditor’s opinion document – the final product of auditing engagements \\n\\nand a legal prerogative of audit directors. \\n\\n4.1.3 empowerment \\n\\nas boundary subjects, middle managers experienced a feeling of empowerment when \\n\\nthe opportunities created through boundary work led to a sense of responsibility and \\n\\nauthority, sometimes exceeding that of their officially sanctioned position in the \\n\\norganizational hierarchy. tiago, for instance, believed his responsibilities extended to taking \\n\\n\\n\\n                                               \\n\\n \\n\\n  \\n\\ncare of all aspects of organizational functioning – “you represent the role of a steward of a \\n\\nfarm” – while daniel, a manager with a great reputation among clients and regulatory bodies, \\n\\nfelt empowered by the authority granted to him by top managers to mitigate problems: “when \\n\\ntop management tells me: ‘that is your problem,’ it relocates me higher in the hierarchy, to a \\n\\nposition at the top. i have to solve it [the problem]... and then top management has no \\n\\ninterference… the decisions are mine.” \\n\\ntop managers were observed treating middle managers as equals and encouraging \\n\\nthem to operate on their own. middle managers, such as felipe, often enacted the directors’ \\n\\nrole, and were recognized as top managers by coworkers (“here in the branch there are \\n\\npeople who call me director”) as well as by themselves (“my role mixes up with that of a \\n\\ndirector”). as documented in the field notes: \\n\\nmiddle managers often introduce themselves as directors, and top managers often \\n\\npresent middle managers as peers (e.g. to potential and actual clients and \\n\\nsubcontractors). \\n\\n \\n\\nrelations with clients were reported as situations empowering middle managers: “the \\n\\ntechnical part [of the work] is more middle, the administrative part is middle to the top, and \\n\\nin the commercial part we are practically directors” (alexandre). these external relations \\n\\nwere crucial to organizational performance and were usually led by middle managers: “most \\n\\nof the time the clients think i am the director in their projects. and then, i act as a director at \\n\\nthat moment… because if i do not play the director with the client, most often i do not have \\n\\n[keep] the client” (leonardo). in short, boundary work was linked to the experience of \\n\\nempowerment via the possibility to perform prestigious, “upgraded” roles, with heightened \\n\\nlevels of responsibility beyond the middle managers’ official roles. \\n\\n4.1.4 reflexivity \\n\\na key aspect of middle managers’ experience was their heightened sense of \\n\\nreflexivity. reflexivity involved the experience of being aware of oneself as an observer, \\n\\n\\n\\n                                               \\n\\n \\n\\n  \\n\\nresulting in the capacity to contemplate one’s own actions as if at a distance. boundary work \\n\\ngave rise to the experience of reflexivity because of its constant requirement to reconfigure \\n\\naction patterns and step outside of given scripts. pedro, the manager responsible for \\n\\ninternational clients, describes how such work requires the creation of a space outside of \\n\\naction: “it’s hard to imagine, but sometimes i think that there’s an empty space between the \\n\\ndifferent roles. but no-one sees it, it’s challenging, you have to have talent to manage it, it’s \\n\\nnot recognized but at the same time it’s a nice sensation”. middle managers’ reflexivity was \\n\\nlinked to the decoupling of the self from any single role. as tiago expressed: “there’s the \\n\\nfeeling of you not being yourself. many times you have to perform many roles but none of \\n\\nthem is really me. but was i hired to be me, or to be a manager?” in this quote, tiago \\n\\nquestions the insecurity and the sense of a lack of authenticity triggered by a work experience \\n\\nmarked by constant adaptation to distinct roles. he suggests that being a manager requires \\n\\nperforming roles that are not the self he would like to express at the workplace. \\n\\nthus, despite harboring doubts about whether their actions correctly addressed \\n\\norganizational and personal expectations, middle managers enacted multiple repertoires as \\n\\npart of their normal work experience. informants reported that they did not know the exact \\n\\ncontours of their responsibilities and prerogatives, questioning whether this fuzziness \\n\\nimpacted organizational functioning and performance: “i would be more effective if i knew \\n\\nthe range i can go to without being questioned by the directors, the range of my \\n\\nresponsibilities. i don’t have a job description” (joão). \\n\\nduring observations, it was noted that middle managers tended to reflect at length on \\n\\ntheir own jobs, spontaneously bringing up self-examinations about what they were doing, \\n\\nwhat group they belonged to, and where they “found themselves” in their work. for instance, \\n\\nas noted in the field notes:  \\n\\nleaving a meeting with a subcontractor [a law firm], where the two representatives of \\n\\nthis subcontractor were directors and in which a deal was made, alexandre vented to \\n\\n\\n\\n                                               \\n\\n \\n\\n  \\n\\nme his preoccupation about whether he had the legal authority to make such a deal, \\n\\neven though brabig directors had sent him alone to represent the firm. \\n\\n \\n\\nmiddle managers’ role as de facto directors was also considered ambiguous: “i am in \\n\\npractice and not in principle. i am often treated as a director, but i am not” (alexandre). \\n\\ndespite often enacting the director role, middle managers knew they were not directors. \\n\\nwhile providing prestige and recognition, this aspect of boundary work was considered \\n\\nsuspicious, given top managers’ possible instrumental deployment of it: “i am treated by top \\n\\nmanagement as a director – de facto but not in principle… i am often introduced as a \\n\\ndirector. they [top managers] use that a lot” (jorge). taking on a director’s role, and the \\n\\nmore general lack of a stable set of meaningful roles and their impermanence over time, \\n\\ngenerated both a sense of empowerment and reflexivity, leading middle managers to question \\n\\ntheir place in the organizational hierarchy and their possibilities for discretion and action. \\n\\n4.2 experiencing alienation \\n\\n in contrast to the experiences described above, as boundary subjects, middle \\n\\nmanagers also experienced alienation through the ongoing demands for achieving \\n\\ncollaboration between divergent interests and for occupying shifting roles. middle managers \\n\\nsometimes expressed the feeling that such demands were externally driven rather than freely \\n\\nchosen, and diverted them from deepening their professional knowledge and their intimacy \\n\\nwith colleagues. these experiences, in which middle managers framed boundary work as \\n\\nsomething endured rather than something achieved, are demonstrated and discussed below \\n\\nunder the following four categories: fatigue, lack of self-determination, detachment from \\n\\nprofession and detachment from coworkers. as with the experiential subcategories under the \\n\\ncategory of emancipation, these sub-divisions are analytically distinct but \\n\\nphenomenologically intertwined in everyday experiences of middle manager boundary work. \\n\\n4.2.1 fatigue \\n\\n\\n\\n                                               \\n\\n \\n\\n  \\n\\nboundary work produced fatigue, resulting from the subtle yet ongoing effort of fine-\\n\\ntuning roles while remaining sensitive to diverse audiences. during fieldwork, the researcher \\n\\nnoted leonardo’s fatigue on the days a headquarters director visited his branch office. as \\n\\ndocumented in the field notes:  \\n\\nin the early evening, when just a handful of people remained in the office and most \\n\\nlights were off, leonardo vented the fact that he was exhausted because of the effort to \\n\\nconstantly switch between subordinate and boss roles during that day. \\n\\n \\n\\nmiddle managers reported the burden in regularly improvising their day-to-day \\n\\nactivities: “i find it strange and tiring when you have to change hats so many times each day, \\n\\nevery day” (alexandre). changing and adapting roles to interface between different groups \\n\\nwas seen as shifting between “realities”, a challenge to be surmounted, requiring continuous \\n\\nattention, learning and effort: \\n\\nup to the moment i understood the various political forms of how to strategically \\n\\naddress myself, it was a challenge, it was a difficulty.[...] then you understand that \\n\\npolitically you have to have such a posture toward this [group], and that before such \\n\\n[group] and that before such [group]. (leonardo) \\n\\n \\n\\nfatigue was more acutely experienced in the following four cases. first, boundary \\n\\nwork involved a greater degree of effort when distinct audiences were present at the same \\n\\ntime in the same environment, as described by felipe: \\n\\nthere is an effort to change roles when directors are here. and then i interact with my \\n\\nteam having the director around me. i think there is an effort due to having to make \\n\\nthings [messages] more palatable. one thing is to discuss with the director over the \\n\\nphone and then transmit the matter to my team without having the director around. \\n\\nanother thing is to, having the director beside me, transmit to my team something that i \\n\\nknow he told me in a different way... so, then, yes there is a difficulty when directors \\n\\nare here... and to transmit a message having the original sender of the message by your \\n\\nside generates a larger than usual effort. \\n\\n \\n\\nsecond, unexpected performances were also especially delicate, as tiago exemplifies:  \\n\\ni found myself playing as if i was the commercial manager of [the pr branch office in] \\n\\ncuritiba, and i am not even the commercial manager of são paulo [the branch he \\n\\nworks for]... it was a role that i was not prepared [to perform], it was an impromptu \\n\\nperformance. \\n\\n \\n\\n\\n\\n                                               \\n\\n \\n\\n  \\n\\nthird, branch middle managers experienced more boundary work, and thus greater \\n\\nhardships, than their counterparts from headquarters: “the geographical remoteness of the \\n\\ndirectors increases the number of roles and the frequency of shifting between them” (daniel). \\n\\nfinally, boundary work seemed to present a greater difficulty for early-career middle \\n\\nmanagers: it is a laborious process demanding several years of practice and learning. when \\n\\nasked about the multiplicity of roles, tiago declared: \\n\\nit is natural. it is natural because i have been doing that for 15 or 20 years [long \\n\\npause] so it is natural, it is natural today, huh! it was not natural 15 or 20 years ago. i \\n\\nconsider myself a coordinator or a manager since 1997... so today it is natural that i \\n\\nplay these various roles because of my experience. in 1997 it was not natural... but now \\n\\ni see this is a matter of survival in these types of positions. \\n\\n \\n\\nin short, the movement involved in boundary work, just as it opened up spaces for \\n\\nactivity and possibility, increased the demand for energetic and active role-improvisation, \\n\\nleading to additional work demands and fatigue. \\n\\n4.2.2 lack of self-determination \\n\\n lack of self-determination describes the demand for adherence to others’ expectations \\n\\nand conventions, and the feeling that action is not truly determined by one’s own will. tiago \\n\\ndescribes such an experience metaphorically, explaining that, despite the putative \\n\\nempowerment of his position (“it’s a fact that you are director and actor at the same time”), \\n\\nhis freedom is actually an illusion and his actions are externally driven: “you have to play \\n\\nseveral characters [roles], and it is you who decides which to perform. but the liberty you \\n\\nhave is a function of necessity. you have liberty but are not always driven by yourself.” thus, \\n\\nfactors external to middle managers’ control impose a certain role and script to be followed, \\n\\nsuggesting that the freedom middle managers have when transitioning between and \\n\\nperforming different roles is only apparent. \\n\\n\\n\\n                                               \\n\\n \\n\\n  \\n\\n informants, such as the manager responsible for the audit engagement logistics, \\n\\ncarolina, reported not feeling in control of their conduct and actions, of being obliged to \\n\\nadjust to others: “because you are in the middle you have to mold yourself on both sides.” \\n\\nmiddle managers often complained that, though they were given many \\n\\nresponsibilities, they were faced with reduced possibilities for action and ambiguous \\n\\ndirectives that could be contradicted at any time. they used the term “desmando” (counter-\\n\\norder) to describe such situations. as indicated in the field notes:  \\n\\nfelipe arrives in the office looking very irritated, randomly walking around the office \\n\\nspace. he then comes closer to the staff area, interrupts carlos who was debriefing a \\n\\njunior auditor, and starts talking. he says he had just lost three weeks of work and lots \\n\\nof money in commissions because of a headquarters director, who in a last-minute \\n\\ndecision, augmented brabig’s price in a public bid, bypassing felipe’s orders. the \\n\\nresult was that brabig did not get the contract. he goes on saying that the winning \\n\\nfirm, a competitor with cost structure similar to that of brabig’s, offered a price \\n\\nslightly higher than the price that felipe had estimated for the service – thus attesting \\n\\nto the fact that his estimation was appropriate, but making him even more angry and \\n\\nfrustrated. \\n\\n \\n\\nmaria, who was somehow involved in virtually every technical aspect of brabig’s \\n\\naudit engagements, is emblematic of the prevailing attitude of boundary subjects. maria \\n\\nbelieved that her work dictated some behavioral norms and perceived requirements, and that, \\n\\nas such, she behaved in predetermined ways: “you have to be dynamic, political, open; you \\n\\ncannot be strict.” middle managers were continuously being watched by, and needed to both \\n\\nrespond to and influence, others. thus, middle managers resorted to boundary work via the \\n\\nexertion of conscious and continuous diligence to choose the right role performance for a \\n\\ngiven situated interaction, yet they lacked self-determination regarding their performances. \\n\\nfurthermore, by being systematically context-sensitive, middle managers also had to \\n\\nreconcile multiple concerns: “diplomatic people are interested in relationships, and \\n\\ntechnical people are interested in numbers; but i have to be both” (joão). continuing his \\n\\nargument, this informant suggests that lack of self-determination ends up compromising \\n\\none’s professional pursuits – “usually a person specializes in an area, but i see myself [as \\n\\n\\n\\n                                               \\n\\n \\n\\n  \\n\\nbeing] forced to learn from all departments” – to the extent of leading one astray from his/her \\n\\nprofession, an alienating experience discussed below. \\n\\n4.2.3 detachment from profession \\n\\ndetachment from profession denotes the experience of being distant from the craft or \\n\\nprofessional expertise of one’s work. boundary work and expert work represented competing \\n\\ndemands, vying for middle managers’ busy agendas. brabig middle managers experienced \\n\\ntheir work as being that of constantly having to “fix things” between actors:  \\n\\nthe auditing [department] understands things in a way, the planning [department] \\n\\nunderstands things in another way and the finance [department] understands things in \\n\\nanother different way, about the same contract. so you have to have a harmony... then \\n\\nyou have to link them. (alexandre) \\n\\n \\n\\nauditors, whether junior or senior, were often noted to describe themselves as \\n\\n“auditors”, while middle managers, also auditors by profession, would describe themselves as \\n\\na “business person”, a “manager” or a “sales person.” the fieldworker observed that middle \\n\\nmanagers, in contrast to auditors, spent little time reading accounting regulations or \\n\\nlegislation, or attending professional society training sessions. as noted in the field: \\n\\nwhen middle managers have to attend more technical meetings, that is where auditing, \\n\\naccounting or taxation matters were in the meetings’ agenda, they are accompanied by \\n\\na senior auditor to be sure that the technical issue would be handled properly. \\n\\n \\n\\nmoreover, leading people and projects was also time-consuming: “i’m not a sound \\n\\nexpert... i’m not a technician, i define the coordination” (felipe). middle managers were \\n\\ntrapped in a situation perceived as being devalued and precarious: “this work of sitting in the \\n\\nmiddle doesn’t feel constructive… it has a rhythm and you go with it, and it seems never to \\n\\nadd up... i would like to build up something” (maria). thus, rather than developing sound \\n\\nauditing and/or accounting expertise, middle managers felt doomed to mobilize several \\n\\nknowledge bases as a daily and recurrent dimension of their working lives: “i will not get \\n\\ngood at anything, i am superficial in everything... the need to guide them [staff] makes me \\n\\nread a little of everything” (carlos). \\n\\n\\n\\n                                               \\n\\n \\n\\n  \\n\\nin contrast to what would be expected from an auditing expert, middle managers were \\n\\nroutinely involved in negotiating demands and facilitating dialogues across groups – “i think \\n\\nthat this [work] is basically pure good communication, which you have to have, and someone \\n\\nhas to play the carrier pigeon” (joão) – and in steering relations between parties with \\n\\ndivergent interests. the analogy with the carrier pigeon suggests the idea of conveying a \\n\\nmessage that is not one’s own, and is distant from the image of an authoritative professional. \\n\\nboundary work distanced middle managers from their profession, leaving them with the \\n\\nfeeling of not undergoing professional development or deepening their professional expertise. \\n\\n4.2.4 detachment from coworkers \\n\\nboundary work drove middle managers away from, and obstructed the possibilities of \\n\\ngetting acquainted with, their colleagues. at no time during observations did branch middle \\n\\nmanagers have lunch with their coworkers, even when these managers spent the entire day in \\n\\nthe office.4 the field notes point out that:  \\n\\nmiddle managers tend to not take part in the everyday chats around smoking areas or \\n\\nthe “little coffee” breaks (cafezinho), important moments in brabig’s brazilian work \\n\\nculture. \\n\\n \\n\\ndespite dealing with a multitude of people and groups every day, boundary subjects felt \\n\\nexploited by their coworkers, experienced loneliness, and suffered from relations of rivalry \\n\\nwith their peers, as elaborated below. \\n\\nboundary subjects invoked a feeling of being objectified by work colleagues, who \\n\\nused them instrumentally: \\n\\ni think you become a functional object. you are a mere mainspring of a gear that needs \\n\\nyou to function; things need to “go through you.”[...] it is good for the firm, the firm \\n\\nneeds that person. for me? i do not know if it is good. it has side-effects. ah, i am a \\n\\nfacilitator, i bring information from management and the board and i will make the \\n\\nwheel turn down here [staff]. i think there is a certain artificiality about it. i think \\n\\n                                                      \\n4 a similar observation was not possible at headquarters given its size, facility design, and personnel magnitude. \\n\\n\\n\\n                                               \\n\\n \\n\\n  \\n\\npeople start to see you as being this, this cog in the gear that makes the gear function, \\n\\nand people stop seeing you as a person. (tiago) \\n\\n \\n\\ncorroborating this sentiment of being used and having to serve others, leonardo noted \\n\\nextreme instances of discretionary de-personification: “i do not have to have an ego, i cannot \\n\\nhave an ego. i think that more than ever the leadership has to be based upon this detachment \\n\\nregarding vanities.” such a statement shows his work as downplaying his sense of identity.  \\n\\nwhile adapting to the instability of roles and demands was necessary, it also led our \\n\\nmanagers to conceal their thoughts and feelings, finding themselves to be isolated and \\n\\ndisconnected from personal relationships: \\n\\none negative thing deriving from playing these several roles is a certain loneliness, \\n\\ndespite having relationships that could be expanded in terms of friendship with people \\n\\nwho live with you so many hours of the day. (carlos) \\n\\n \\n\\nmiddle managers commented that they did not consider coworkers as people with whom they \\n\\ncould discuss intimate matters regarding working conditions and situations: “the feeling of \\n\\nnon-inclusion is total... being a manager is not being included in anyone’s group.” (daniel). \\n\\nthe transitional, shifting work of boundary subjects left many respondents distrustful of other \\n\\nmiddle managers, whom they reported as duplicitous and difficult to read. \\n\\nthese perceptions contributed to the sense of rivalry experienced by middle \\n\\nmanagers. it was observed that middle managers did not feel comfortable in the presence of, \\n\\nand did not trust, their peers, as leonardo attests: \\n\\ntop management has a very frank way of treating you, as a rule. people from the base \\n\\n[subordinates] give you very frank treatment. when you are relating to your peers, you \\n\\nhave a different situation. i have no difficulty handling it [lack of frankness from other \\n\\nmiddle managers], but i think i will always have difficulties understanding this \\n\\nanimosity. \\n\\n \\n\\nas a result, boundary work prompted middle managers to experience alienation from \\n\\ncoworkers, rendering them unable to nurture trust bonds and comradeship in the workplace. \\n\\n5. discussion \\n\\n\\n\\n                                               \\n\\n \\n\\n  \\n\\nour findings shed light on the ambivalent lived experience of middle managers as \\n\\nboundary subjects, vacillating between feelings of emancipation and alienation. carrying out \\n\\nboundary work gave rise to diverse reactions, which we divided into two experiential \\n\\ncategories – ‘emancipation,’ involving the senses of mastery, autonomy, empowerment, and \\n\\nreflexivity promoted by boundary work, and ‘alienation,’ involving fatigue, lack of self-\\n\\ndetermination, distancing from one’s profession caused by performing roles unrelated to it, \\n\\nand difficulties in nurturing authentic personal connections in the workplace. \\n\\nour contribution to the understanding of middle managers’ work lies in this \\n\\nexploration of the ambivalent feelings of emancipation and alienation deriving from their \\n\\nposition as boundary subjects. rather than describing emancipatory acts though resistance \\n\\nactivity (cf. courpasson and vallas, 2016), we problematize the distinction between \\n\\nemancipatory and alienating experiences by exploring the heterogeneity of experiences \\n\\npertaining to a given activity. to do this, we have explored how middle managers’ work both \\n\\nenables them to access multiple organizational action spheres in order to leverage their \\n\\nprofessional and personal pursuits (e.g. kornberger et al., 2011), while, at the same time, \\n\\ngenerating subjective feelings of alienation from their profession and coworkers.  \\n\\nthese ambivalent reactions are summarized in what courpasson (2017) called forces \\n\\nof emancipation and alienation. while emancipation and alienation are often considered as \\n\\nopposing work regimes or practices (e.g. alvesson and willmott, 2002), focusing on \\n\\nsubjective experience opens up the possibility that both may co-exist within a similar horizon \\n\\nof lived experience. the ambivalent intermingling of emancipatory and alienating \\n\\nexperiences in the daily lives of our middle managers suggests a more complex interpretation \\n\\nof managers’ work experience. \\n\\nsimilar to recent treatments of “high-involvement” work (ekman, 2014), the \\n\\nexperience of ambiguity can create opportunity, but also uncertainty and a loss of bearings. \\n\\n\\n\\n                                               \\n\\n \\n\\n  \\n\\nsuch research has shown that contemporary work settings juxtapose exploitative and \\n\\nexpressive elements in ways that make monological readings of the workplace untenable \\n\\n(endrissat et al., 2015), complicating attempts at critique. rather than considering \\n\\nemancipation and alienation experiences as simple opposites, our findings frame the two as \\n\\ncohabiting in middle managers’ ambivalent responses to the exigencies of boundary work. \\n\\nthe openness, multi-role demands, and in-between nature of boundary work were \\n\\nexperienced in contradictory ways that were held together in experience. indeed, middle \\n\\nmanagers’ boundary work made them experts at holding together lived experiences of \\n\\ndifference, an emancipatory capability that also brought with it a kind of suffering. how this \\n\\nduality informs current discussions of emancipation and alienation is discussed below. \\n\\n5.1 contributions to emancipation/alienation literature \\n\\nalienation is traditionally considered in relation to the commodification of labour \\n\\npower and workers’ loss of control over, and consequent distancing from, the means of \\n\\nproduction and social relations (marx, 1844/1988). the structural condition of alienation \\n\\nrenders workers a passive object of history, distanced from the possibility to fully develop \\n\\ntheir human potential (cf. schacht, 1970). this has led critical labour scholarship to focus on \\n\\nissues of workers’ loss of autonomy – for instance, through de-skilling in industrial settings \\n\\n(braverman, 1974). later literature problematized the relation between de-skilling and the \\n\\nloss of autonomy (e.g. hodson, 1996), with the suggestion that alienation and emancipation \\n\\nmay trade off in different ways across work contexts. moreover, more recent work locates \\n\\nnotions of alienation in non-industrial settings with demands for feigned authenticity and \\n\\nidentification (e.g. costas and fleming, 2009). \\n\\nconversely, emancipation has been discussed in terms of the material, intellectual and \\n\\npsychological freedom from conditions of domination (e.g. laclau, 1996). applied to \\n\\norganizational settings, emancipation has been used to highlight situations of autonomy. \\n\\n\\n\\n                                               \\n\\n \\n\\n  \\n\\nfocusing on the case of workplace politics, courpasson (2017) characterizes emancipation as \\n\\nthe creativity, freedom and inventiveness that individuals manifest at work, and alienation as \\n\\nthe constraining and oppressive aspects of work and routine productive activities, and the \\n\\nconsequent sense of frustration and suffering on the part of the individual. \\n\\nacross these various conceptualizations, emancipation and alienation oppose each \\n\\nother as symbolic or material forms of freedom and domination. the prospect that both could \\n\\nbe produced simultaneously from ambivalent characteristics of the same work practices, \\n\\nhowever, puts such discussions into question. poised between capital and labour, between the \\n\\nsense of empowerment and the feeling of being objectified, middle managers do not neatly fit \\n\\ninto the commonly-accepted labour process narrative. \\n\\nour study witnessed auditing experts experiencing de-skilling regarding their auditing \\n\\nand accounting knowledge due to the competing demands placed upon them by their \\n\\nmediational responsibilities. in contrast to the more well-documented concerns regarding the \\n\\nmechanization and standardization of labour (braverman, 1974), here alienation results from \\n\\nwork being stretched across multiple situations, creating myriad demands and a resultant loss \\n\\nof bearings. although these aspects require further study, a tentative suggestion would be that \\n\\nmanagerial or professional alienation may involve deskilling, but also detachment from \\n\\nimportant social and professional sources of identification, rather than the more classical \\n\\ntreatments of alienation from the means and products of labour. \\n\\nat the same time, as boundary subjects, middle managers experienced mastery in their \\n\\ninterfacing between different organizational ranks and areas (huy, 2001), spanning diverse \\n\\nlogics (llewellyn, 2001) and divergent coalitions (raes et al., 2011). this shift from \\n\\ntraditional expertise to the ‘translational’ role of mediation involved a kind of reflexive \\n\\npractice that was experienced as emancipatory. we contribute to existing understandings of \\n\\nworkplace emancipation by suggesting that the erosion of role positions may leave in its \\n\\n\\n\\n                                               \\n\\n \\n\\n  \\n\\nplace new forms of practice that are destabilizing yet open, combining the reflexivity needed \\n\\nto navigate divergent positions with the anxiety of de-professionalization. \\n\\nstudies in the “micro-emancipation” tradition (alvesson and willmott, 1992) have \\n\\nconceptualized everyday transgressions as potentially emancipatory (e.g. courpasson, 2017). \\n\\nwhile remaining agnostic on the objective power of boundary work to change organizations \\n\\nor to resist formal structures, our study adds the important caveat that work activities that \\n\\nfulfill actual organizational responsibilities embody deeply taxing, unstable and demanding \\n\\nwork systems even as they may be experienced as emancipatory. this contribution opens up \\n\\nour empirical and conceptual gaze to a range of possible experiences of work and questions \\n\\ntheir relationship to objective work conditions. \\n\\nthe lack of closeness among managers in our study was notable; with few exceptions, \\n\\nmanagers did not rely on peers to accomplish work, and did not see or refer to themselves as \\n\\nforming a particular organizational group. when not in the presence of their coworkers, our \\n\\nmanagers seemed to occupy a non-populated “backstage” (goffman, 1959), a deserted space, \\n\\ncontrasting with the observed exuberance of their social interactions. relegated to their \\n\\nsubjective state of reflexive vigilance and unable to identify with professional peers, they \\n\\ncould not share this backstage with their coworkers, nor even with other middle managers, \\n\\nwho might seem to be their natural companions there. this lonely backstage, then, can be \\n\\nunderstood as a side-effect of instrumentalized coworker relations and rivalry in relation to \\n\\npeers. furthermore, habits such as exchanging best practices and mutual counseling were not \\n\\nobserved or reported. in this sense, the subjective experience of emancipation as individual \\n\\nfreedom contrasted notably with critical theoretical notions of emancipation as objective and \\n\\nrooted in social solidarity (e.g. dean, 2012). thus, our study contributes to the literature on \\n\\nalienation by arguing that diverse roles and professional relationships may lead individuals to \\n\\na dearth of deep personal ties and of meaningful belonging to organizational groups. \\n\\n\\n\\n                                               \\n\\n \\n\\n  \\n\\n5.2 contributions to managerial work literature \\n\\nour study strives to achieve a better understanding of managerial work by introducing \\n\\nthe concept of the boundary subject to account for middle managers’ experience of boundary \\n\\nwork. we challenge the assumption that managerial work aims at consensus and that its \\n\\nprecariousness and contradictions provoke only distress, proposing dual explanations that add \\n\\ncomplexity to current understandings of managerial work. \\n\\n conceptualizing middle managers as boundary subjects engaging in boundary work, \\n\\nwe extend the analytical reach of the boundary subject concept (huzzard et al., 2010). \\n\\ncorroborating prior claims that individuals can perform boundary object functions (huzzard \\n\\net al., 2010; laine et al., 2016), we go beyond a focus on how employees link heterogeneous \\n\\ngroups. rather, we explore the experiential aspects of middle managers’ status as boundary \\n\\nsubjects. thus, this paper expands the concept of the boundary subject to account for the \\n\\nlived experiences triggered by boundary work. \\n\\nmore broadly, our theorization links to discussions surrounding hybridity, multiplicity \\n\\nand the ambivalent workplace experiences they imply – for instance, in studies of inter-\\n\\norganizational collaborations (teulier and rouleau, 2013) or of the power-identity struggles \\n\\nwithin hybrid organizations (e.g. mangen and brivot, 2015). individuals working in such in-\\n\\nbetween circumstances may experience switching between multiple roles as being important \\n\\nparts of their interfacing job. thus, the expanded concept of boundary subjects is important \\n\\nwhere such interface conditions shape individuals’ lived experience. \\n\\nmiddle managers’ positions as boundary subjects are malleable and constructed \\n\\nthrough and in social relations (down and reveley, 2009) between diverse groups (clarke et \\n\\nal., 2009). most studies characterize this social plasticity primarily as a source of struggle and \\n\\ndistress (e.g. harding et al., 2014; sims, 2003; thomas and linstead, 2002). conversely, at \\n\\nthe site of our analysis, the intermediation of fragile functional and political arrangements \\n\\n\\n\\n                                               \\n\\n \\n\\n  \\n\\nalso allowed middle managers to feel liberated because “it is in moments of dissensus and \\n\\ndisagreement where the experience and moment of emancipation is to be found” (huault et \\n\\nal., 2012: 12). echoing ekman’s (2014) work on the opportunism made possible by \\n\\nprecarious situations, it was exactly the precarious and contradictory nature of middle \\n\\nmanagerial boundary work, deployed in the interstices of relations, interpretation and \\n\\ninterests, that offered possibilities for emancipatory experiences. this experience was felt in \\n\\nthe heightened reflexivity of those inhabiting in-between positions (turner, 1969). in short, \\n\\nboundary subjects simultaneously represented experiences of emancipation and alienation, \\n\\nand the associated reflexivity reflected both a loss of authentic presence at work and the \\n\\nability to change perspectives while stepping outside given positions. \\n\\nour focus on differences across boundaries stands in contrast to the focus on the \\n\\nachievement of consensus in much existing literature on managerial work (e.g. nielsen, 2009; \\n\\nrouleau, 2005). we agree that middle managerial work crosses different organizational \\n\\nworlds, existing at the intersection of and translating between diverse dialogues (e.g. balogun \\n\\net al., 2005; llewellyn, 2001). however, this cross-over function should not be understood as \\n\\nsynonymous with achieving consensus: “consensus is not necessary for cooperation nor for \\n\\nthe successful conduct of work” (star and griesemer, 1989: 388). meanings and interests can \\n\\nbe reconciled without their full convergence. \\n\\nin the contemporary workplace, middle managers’ lack of decision-making power \\n\\nleads them to spend time in discussions with subordinates to find solutions (vie, 2010) and \\n\\nconfront multifaceted responsibilities (tengblad, 2012). while we corroborate the perpetual \\n\\n‘negotiational’ aspects of contemporary middle managerial work, we add that these job \\n\\naspects configure work to produce experiences of both emancipation and alienation. thus, \\n\\nour two-sided view adds nuance to understanding middle managerial work and well-being. \\n\\n5.3 future research directions, limitations and conclusion \\n\\n\\n\\n                                               \\n\\n \\n\\n  \\n\\n the implications of boundary work, and the heterogeneity of the lived experiences of \\n\\nboundary subjects positioned between constituencies, leaves several questions open for \\n\\nexploration. our study adds to literature in which workplace uncertainty gives rise to \\n\\nambivalent responses regarding the emancipatory potential inherent in the work role (ekman, \\n\\n2014; endrissat et al., 2015; sturdy et al., 2016). complementing labour process perspectives \\n\\nthat view workplace changes in relation to objective conditions, we have shown that similar \\n\\nexternal conditions can give rise to complex subjective experiences in which emancipation \\n\\nand alienation can co-emerge. following ekman’s (2014) discussion of the hybrid and \\n\\ndouble-sided nature of flexibility in creative work, and endrissat et al.’s (2015) focus on the \\n\\nambiguities of worker emancipation in low-paid service work, critical scholarship must deal \\n\\nwith the fact that workers experience freedom as well as constraint, characterizing their jobs \\n\\nas both vehicles for self-expression and sources of suffering. the next step in the research \\n\\nagenda is to theorize the objective conditions of worker alienation developed in labour \\n\\nprocess approaches together with the ambivalence of lived experience, moving beyond \\n\\n‘subjective’ and ‘objective’ forms of workplace emancipation to understand the complex \\n\\ninteraction between the two levels. \\n\\n notably, our focus on lived experience as a reflection of emancipation and alienation \\n\\nmay provide a contrast to more “structural” explanations of managers’ experience and action. \\n\\nfor instance, our focus on boundary work complements perspectives on boundary spanning \\n\\nthat are common in contemporary descriptions of work dynamics (cf. okhuysen et al., 2013); \\n\\nsuch work often focuses on structural positions as determinants of identity and interpersonal \\n\\nrelations (e.g. richter et al., 2006). within the critical theory tradition, moreover, \\n\\nemancipation and alienation are often explained through structural relations of class \\n\\nantagonism, rather than being treated at the level of worker experience as such (cf. dickens, \\n\\n1994). we support such structural explanations both at the level of networks and as a mode of \\n\\n\\n\\n                                               \\n\\n \\n\\n  \\n\\ncritical theorizing about emancipation and alienation as social forces. our approach is \\n\\ncomplementary to such traditions, providing responses to, and encouraging inquiry into, the \\n\\nquestion of how such structural positions and forces are experienced at the level of lived \\n\\nexperience as actors enact and reflect such structures throughout their work. \\n\\n in terms of context, our results should also be read in the light of the weak internal \\n\\ncontrols characteristic of brazilian organizations, which could support the margin of action of \\n\\nmiddle managers. the strong emphasis on personalist ties and unstable systems that are \\n\\ncharacteristic of brazilian management (cf. islam, 2012) make our site a particularly well-\\n\\nsuited case for studying inter-group boundary work; conversely, settings with tighter internal \\n\\ncontrol systems might allow less of a margin for such boundary work. to the extent, \\n\\nhowever, that organizational stability gives way to increasing “liquidity”, such sites may \\n\\nproliferate and become prevalent even in advanced economies. \\n\\nour setting involved accountants and auditors performing managerial roles, a situation \\n\\ninfused with politically charged and contested disciplinary practices (covaleski et al., 1998). \\n\\nhowever, boundary work is likely prevalent across many different contexts. czarniawska and \\n\\nmazza (2003) and sturdy et al. (2016) both noted the tactical use of liminality among \\n\\nknowledge workers. how other forms of workplace ambivalence result in respective \\n\\nexperiences of emancipation and alienation is beyond the scope of this study; however, we \\n\\nwould expect that non-professionalized work would encounter such ambivalence in other \\n\\nforms, especially given discussions of the deeply ambivalent experience of service work (e.g. \\n\\nendrissat et al., 2015). \\n\\nto conclude, middle managers’ attempts to foster cross-functional collaboration force \\n\\nthem to move into, out of and across a multitude of distinct organizational positions, \\n\\nrendering their work neither completely fluid nor stable. our informants slipped between \\n\\nbeing autonomous reflexive subjects and passive objects caught in webs of motives that were \\n\\n\\n\\n                                               \\n\\n \\n\\n  \\n\\nnot their own. navigating between these conditions led them to experience both \\n\\nresourcefulness and aloofness in a tug-of-war between diverse demands. these experiences \\n\\nwere key to the managers’ social relations, in personal and intimate terms, and professional \\n\\nchoices. in this way, experiencing both emancipation and alienation is a central and enduring \\n\\nfeature of middle managerial work, and coping with this contradiction is a core aspect of \\n\\nworking in, and inhabiting, middle managerial positions. \\n\\n6. references \\n\\nahearne m, lam s and kraus f (2014) performance impact of middle managers’ adaptative \\n\\nstrategy implementation: the role of social capital. strategic management journal \\n\\n35(1): 68–87. \\n\\nalvesson m and willmott h (1992) on the idea of emancipation in management and \\n\\norganization studies. academy of management review 17(3): 432–464. \\n\\nashforth b, kreiner g and fugate m (2000) all in a day’s work: boundaries and micro role \\n\\ntransitions. academy of management review 25(3): 472–491. \\n\\nbalogun j (2003) from blaming the middle to harnessing its potential: creating change \\n\\nintermediaries. british journal of management 14(1): 69–83. \\n\\nbalogun j, gleadle p, hailey v and willmott h (2005) managing change across boundaries: \\n\\nboundary-shaking practices. british journal of management 16(4): 261–278. \\n\\nbarley s and kunda g (2001) bringing work back in. organization science 12(1): 76–95. \\n\\nbeck t and plowman d (2009) experiencing rare and unusual events richly: the role of \\n\\nmiddle managers in animating and guiding organizational interpretation. organization \\n\\nscience 20(5): 909–924. \\n\\nbeech n (2011) liminality and the practices of identity reconstruction. human relations \\n\\n64(4): 285–302. \\n\\nblauner r (1964) the factory worker and his industry. chicago: u. of chicago press. \\n\\n\\n\\n                                               \\n\\n \\n\\n  \\n\\nblumer h (1954) what is wrong with social theory? american sociological review 19: 146- \\n\\n58. \\n\\nbraverman h (1974) labor and monopoly capital: the degradation of work in the \\n\\ntwentieth century. new york: monthly review press. \\n\\nbryant m and stensaker i (2011) the competing roles of middle management: negotiated \\n\\norder in the context of change. journal of change management 11(3): 353–373. \\n\\nclarke c, brown a and hailey v (2009) working identities? antagonistic discursive \\n\\nresources and managerial identity. human relations 62(3): 323–352. \\n\\nclegg s (1989) radical revisions: power, discipline and organizations. organization studies \\n\\n10(1): 97–115. \\n\\ncorbin j and strauss a (2008) basics of qualitative research: techniques and procedures \\n\\nfor developing grounded theory. los angeles: sage. \\n\\ncostas j and fleming p (2009) beyond dis-identification: a discursive approach to self-\\n\\nalienation in contemporary organizations. human relations 62(3): 353–378.  \\n\\ncourpasson d (2017) the politics of everyday. organization studies 38(6): 843–859. \\n\\ncourpasson d and vallas s (2016) resistance studies: a critical introduction. in: \\n\\ncourpasson d and vallas s (eds) the sage handbook of resistance. london: sage. \\n\\ncovaleski m, dirsmith m, heian j and samuel s (1998) the calculated and the avowed: \\n\\ntechniques of discipline and struggles over identity in big six public accounting firms. \\n\\nadministrative science quarterly 43(2): 293–327. \\n\\nczarniawska b and mazza c (2003) consulting as a liminal space. human relations 56(3): \\n\\n267–290. \\n\\ndean j (2012) the communist horizon. london: verso. \\n\\ndelmestri g and walgenbach p (2005) mastering techniques or brokering knowledge?middle \\n\\nmanagers in germany, great britain and italy. organization studies 26(2): 197–220. \\n\\n\\n\\n                                               \\n\\n \\n\\n  \\n\\ndickens p (1997) reconstructing nature: alienation, emancipation and the division of \\n\\nlabour. london: routledge. \\n\\ndown s and reveley j (2009) between narration and interaction: situating first-line \\n\\nsupervisor identity work. human relations 62(3): 379–401. \\n\\nekman s (2014) is the high-involvement worker precarious or opportunistic? hierarchical \\n\\nambiguities in late capitalism. organization 21(2): 141–158.  \\n\\nendrissat n, islam g and noppeney c (2015) enchanting work. new spirits of service work \\n\\nin an organic supermarket. organization studies 36(11): 1555–1576. \\n\\nfayol h (1916/1979). administration industrielle et générale (functions and principles of \\n\\nmanagement). bulletin de la société de l’industrie minérale. paris: dunod. \\n\\ngeertz c (1973) the interpretation of cultures. new york: basic books. \\n\\ngoffman e (1959) the presentation of self in everyday life. new york: anchor books. \\n\\nharding n, lee h and ford j (2014) who is ‘the middle manager’? human relations 67(10): \\n\\n1213–1237. \\n\\nhodson r (1996) dignity in the workplace under participative management: alienation and \\n\\nfreedom revisited. american sociological review 61(5): 719–738. \\n\\nhuault i, perret v and spicer a (2014) beyond macro- and micro- emancipation: rethinking \\n\\nemancipation in organization studies. organization 21(1): 22–49. \\n\\nhuy q (2001) in praise of middle managers. harvard business review 79: 72–79. \\n\\nhuzzard t, ahlberg b and ekman m (2010) constructing interorganizational collaboration: \\n\\nthe action researcher as boundary subject. action research 8(3): 293–314. \\n\\nislam g (2012) between unity and diversity: historical and cultural foundations of brazilian \\n\\nmanagement. european journal of international management 6(3): 265–282. \\n\\njärventie-thesleff r and tienari j (2016) roles as mediators in identity work. organization \\n\\nstudies 37(2): 237–265. \\n\\n\\n\\n                                               \\n\\n \\n\\n  \\n\\nkeys b and bell r (1982) four faces of the fully functioning middle manager. california \\n\\nmanagement review 24(4): 59–67. \\n\\nkorica m, nicolini d and johnson b (2017) in search of ‘managerial work: past, present and \\n\\nfuture of an analytical category. international journal of management reviews 19(2): \\n\\n151–174. \\n\\nkornberger m, justesen l and mouritsen j (2011) “when you make manager, we put a big \\n\\nmountain in front of you”: an ethnography of managers in a big 4 accounting firm. \\n\\naccounting, organizations and society 36(8): 514–533. \\n\\nlaclau, e (1996) emancipation(s). london: verso. \\n\\nlaine t, korhonen t, suomala p and rantamaa a (2016) boundary subjects and boundary \\n\\nobjects in accounting fact construction and communication. qualitative research in \\n\\naccounting & management 13(3): 303–329. \\n\\nlamont m and molnár v (2002) the study of boundaries in the social sciences. annual \\n\\nreview of sociology (28): 167–95. \\n\\nllewellyn s (2001) two-way windows: clinicians as medical managers. organization \\n\\nstudies 22(4): 593–623. \\n\\nmair j and thurner c (2008) going global: how middle managers approach the process in \\n\\nmedium-sized firms. strategic change 17(3/4): 83–99. \\n\\nmangen c and brivot m (2015) the challenge of sustaining organizational hybridity: the \\n\\nrole of power and agency. human relations 68(4): 659–684.  \\n\\nmantere s (2008) role expectations and middle manager strategic agency. journal of \\n\\nmanagement studies 45(2): 294–316. \\n\\nmarx k (1844/1988). economic and philosophic manuscripts of 1844. new york: \\n\\nprometheus books. \\n\\nmintzberg h (1973) the nature of managerial work. new york: harper & row. \\n\\n\\n\\n                                               \\n\\n \\n\\n  \\n\\nmintzberg h (1990) the manager’s job: folklore and fact. harvard business review \\n\\nmarch/april: 163–176. \\n\\nmumby d, thomas r, martí i and seidl d (2017) resistance redux. organization studies \\n\\n38(9): 1157–1183. \\n\\nnielsen m (2009) interpretative management in business meetings. journal of business \\n\\ncommunication 46(1): 23–56. \\n\\nokhuysen g, lepak d, ashcraft k., labianca g, smith v and steensma, h (2013) theories \\n\\nof work and working today. academy of management review 38(4): 491–502. \\n\\npappas j and wooldbridge b (2007) middle manager’s divergent strategic activity: an \\n\\ninvestigation of multiple measures of network centrality. journal of management \\n\\nstudies 44(3): 323–341. \\n\\npawlowski s and robey d (2004) bridging user organizations: knowledge brokering and the \\n\\nwork of information technology professionals. mis quarterly 28(4): 645–672. \\n\\npeschanski v (1985) middle managers in contemporary capitalism. acta sociologica 28(3): \\n\\n243–255. \\n\\nprasad p and prasad a (2000) stretching the iron cage: the constitution and implications of \\n\\nroutine workplace resistance. organization science 11(4): 387–403. \\n\\nraes a, heijltjes m, glunk u and roe r (2011) the interface of the top management team \\n\\nand middle managers: a process model. academy of management review 36(1): 102–\\n\\n126. \\n\\nrichter a, west m, van dick r and dawson j (2006) boundary spanners’ identification, \\n\\nintergroup contact, and effective intergroup relations. academy of management journal \\n\\n49: 1252–1269. \\n\\n\\n\\n                                               \\n\\n \\n\\n  \\n\\nrouleau l (2005) micro-practices of strategic sensemaking and sensegiving: how middle \\n\\nmanagers interpret and sell change every day. journal of management studies 42(7): \\n\\n1413–1441. \\n\\nrouleau l and balogun j (2011) middle managers, strategic sensemaking, and discursive \\n\\ncompetence. journal of management studies 48(5): 953–983. \\n\\nschacht r (1970) alienation. garden city, ny: anchor books. \\n\\nsillince j and mueller f (2007) switching strategic perspective: the reframing of accounts of \\n\\nresponsibility. organization studies 28(2): 155–176. \\n\\nsims d (2003) between the millstones: a narrative account of the vulnerability of middle \\n\\nmanagers’ storying. human relations 56(10): 1195–1211. \\n\\nsimpson b and carroll b (2008) re-viewing “role” in processes of identity construction. \\n\\norganization 15: 29–50. \\n\\nstar s (1989) regions of the mind: brain research and the quest for scientific certainty. \\n\\nstanford: stanford university press. \\n\\nstar s and griesemer j (1989) institutional ecology, translations and boundary objects: \\n\\namateurs and professionals in berkeley’s museum of vertebrate zoology, 1907-39. \\n\\nsocial studies of science 19(3): 387–420. \\n\\nsturdy a, wright c and wylie n (2016). managers as consultants: the hybridity and \\n\\ntensions of neo-bureaucratic management. organization 23(2): 184–205.  \\n\\nsveningsson s and alvesson m (2003) managing managerial identities: organizational \\n\\nfragmentation, discourse and identity struggle. human relations 56(10): 1163–1193. \\n\\ntengblad s (2012) management in practice: overview of classic studies on managerial \\n\\nwork. new york: oxford university press. \\n\\n\\n\\n                                               \\n\\n \\n\\n  \\n\\nteulier r and rouleau l (2013) middle managers’ sensemaking and interorganizational \\n\\nchange initiation: translation spaces and editing practices. journal of change \\n\\nmanagement 13(3): 308–337. \\n\\nthomas r and linstead a (2002) losing the plot? middle managers and identity. \\n\\norganization 9(1): 71–93. \\n\\nturnbull s (2001) corporate ideology: meanings and contradictions for middle managers. \\n\\nbritish journal of management 12(3): 231–242. \\n\\nturner v (1969) the ritual process: structure and anti-structure. chicago: aldine de \\n\\ngruyter. \\n\\nvan maanen j (1998) qualitative studies of organizations. thousand oaks: sage. \\n\\nvie o (2010) have post-bureaucratic changes occurred in managerial work? european \\n\\nmanagement journal 28(3): 182–194. \\n\\nwatson t (1995) rhetoric and argument in organizational sense making: a reflexive tale. \\n\\norganization studies 16(5): 805–821. \\n\\nwatson t (2011) ethnography, reality, and truth: the vital need for studies of ‘how things \\n\\nwork’ in organizations and management. journal of management studies 48(1): 202–17. \\n\\nwooldridge b, schmid t and floyd s (2008) the middle management perspective on \\n\\nstrategy process: contributions, synthesis, and future research. journal of management \\n\\n34(6): 1190–1221. \\n\\n \\n\\n \\n\\n \\n\\n \\n\\n \\n\\n \\n\\n\\n\\n                                               \\n\\n \\n\\n  \\n\\n \\n\\ntable 1. brabig’s personnel structure \\n\\n \\n\\n \\n\\n \\n\\n                                                      \\n5 hq-rs: headquarters, in rio grande do sul (southern brazil). sp: branch in são paulo (1,100 km from hq). \\n\\nrj: branch in rio de janeiro (1,550 km from hq). pr: branch in paraná (700 km from hq). df: branch in the \\n\\nfederal district – brasília (2,100 km from hq).  \\n\\ngroups / locations5 hq-rs sp rj pr df usa total % \\n\\ntop management 3 0 0 0 0 1 4 2% \\n\\nmiddle management 10 6 2 1 1 0 20 9% \\n\\nauditors & consultants 75 30 20 13 8 0 146 65% \\n\\nback-office 40 10 2 2 1 0 55 24% \\n\\ntotal  128 46 24 16 10 1 225 100% \\n\\n% of company total 57% 20% 11% 7% 5% 0% 100%  \\n\\n\\n\\n                                               \\n\\n \\n\\n  \\n\\n \\n\\ntable 2. profile of the middle managers who were interviewed recurrently \\n\\n \\n\\n \\n\\npseudonym \\n# of \\n\\ninterviews \\n\\ntotal time \\n\\ninterviewed \\n\\n(in minutes) \\nage gender degree location \\n\\nmain \\n\\nresponsibility \\n\\nyears of \\n\\nworking \\n\\nexperience \\n\\nyears of \\n\\nexperience \\n\\nas manager \\n\\nyears of \\n\\nexperience \\n\\nat \\n\\nbrabig \\n\\nnumber of \\n\\nsubordinates \\n\\nduring \\n\\nemployment \\n\\nat bama \\n\\n(min/max) \\n\\nmaria 9 288 39 f accounting hq \\n\\nplanning and \\n\\ncontrolling \\n\\nauditing \\n\\nengagements – \\n\\ntechnical (nation-\\n\\nwide) \\n\\n25 8 8 2 / 50 \\n\\ncarolina 6 244 52 f education hq \\n\\nplanning and \\n\\ncontrolling \\n\\nauditing  \\n\\nengagements – \\n\\nlogistics (nation-\\n\\nwide) \\n\\n20 14 3 1 / 2 \\n\\npedro 6 252 42 m \\n\\ninternational \\n\\nrelations \\n\\nand auditing \\n\\nhq \\ninternational \\n\\nclients \\n13 8 1,5 1 / 1 \\n\\nmarcos 7 349 28 m \\n\\nbusiness \\n\\nadm. and \\n\\naccounting \\n\\nhq \\ncommercial - \\n\\npublic bids \\n13 8 8 1 / 5 \\n\\njorge 10 439 66 m engineering hq consulting 47 40 15 1 / 40 \\n\\nalexandre 7 357 43 m accounting hq \\n\\nunit management \\n\\nand management \\n\\ncontrol \\n\\n30 22 13 2 /16 \\n\\ncarlos 9 507 40 m \\n\\nbusiness \\n\\nadm. and \\n\\naccounting \\n\\nrio de \\n\\njaneiro \\n\\nauditing (branch \\n\\nclients) \\n24 20 3 4 / 10 \\n\\nfelipe 13 409 46 m \\n\\nbusiness \\n\\nadm. and \\n\\nauditing \\n\\nrio de \\n\\njaneiro \\nunit management 32 27 6 10 / 30 \\n\\njoão 9 312 31 m \\n\\ninternational \\n\\nrelations \\n\\nand law \\n\\nsão \\n\\npaulo \\n\\ninternational \\n\\nclients and \\n\\noutsourcing \\n\\n16 11 3 months 8 / 8 \\n\\nleonardo 24 596 39 m accounting \\nsão \\n\\npaulo \\n\\nunit management \\n\\n(commercial) \\n21 18 12 4 / 48 \\n\\ntiago 8 509 41 m \\n\\nlaw and  \\n\\nbusiness \\n\\nadm. \\n\\nsão \\n\\npaulo \\n\\nunit management \\n\\n(administrative) \\n25 12 2 45/50 \\n\\ndaniel 7 203 41 m \\n\\ninformation \\n\\nsystems and \\n\\ntax auditing \\n\\nsão \\n\\npaulo \\n\\nit auditing and \\n\\nconsulting \\n25 22 5 2 / 5 \\n\\n\\n\\n                                               \\n\\n \\n\\n  \\n\\n \\n\\ntable 3. overview of data structure \\n\\n \\n\\n \\n \\n \\n \\n \\n\\nillustrative codes from \\n\\nobservations and shadowing field \\n\\nnotes  \\n\\n(regarding boundary work) \\n\\nillustrative extracts from interviews  \\n\\n(regarding the experiences of boundary work) \\n\\naggregate \\n\\ntheoretical \\n\\ndimensions \\n\\n \\n\\nperforming several roles (e.g. \\n\\ndirector, auditing partner, auditor, \\n\\nconsultant, salesperson and \\n\\norganizational psychologist). \\n\\n \\n\\npurposefully changing attitudes and \\n\\nbehaviors depending on role and \\n\\nsituation. \\n\\n \\n\\nexpressing a feeling of mastering \\n\\nmultiplicity and of playing a game. \\n\\n \\n\\nknowledge about groups’ \\n\\ndifferences. \\n\\n \\n\\nexpressing feelings of \\n\\ncapability/professional asset. \\n\\n \\n\\ndelegation from top management to \\n\\ndeal with different actors in different \\n\\nfronts. \\n\\ni am multi-functional. (alexandre) \\n\\n \\n\\nyou deal with multiple fronts, multiple segments, \\n\\nmultiple markets, various types of clients and \\n\\nvarious situations. (jorge) \\n\\n \\n\\ndepending on the situation you have to be more or \\n\\nless formal, sometimes you have to use and abuse \\n\\ntechnical terms to gain respect, but it is not everyone \\n\\nwho is able to do that. (carlos) \\n\\nmastery \\n\\ne\\nx\\np\\n\\ner\\nie\\n\\nn\\nci\\n\\nn\\ng\\n e\\n\\nm\\na\\nn\\n\\nci\\np\\n\\na\\nti\\n\\no\\nn\\n\\n \\n\\nexpressing sense of increased \\n\\nfreedom and leeway.  \\n\\n \\n\\ndemonstrating feeling of ability to go \\n\\nbeyond a single function. \\n\\n \\n\\nsense of not being limited by one’s \\n\\nroles and positions. \\n\\n \\n\\ndescribing oneself as more than \\n\\none’s specific job. \\n\\n[my work] involves the entire structure of the \\n\\ncompany, mainly in the commercial matters. \\n\\nbecause the commercial area interacts with the \\n\\nfinancial area, with the technical area, with the after-\\n\\nsales, with the other offices, and with the directors. \\n\\nthen i'm going to explode to all [areas], and up and \\n\\ndown [in the hierarchy]. (joão) \\n\\n \\n\\nregardless of the level, if the company has a \\n\\nproblem, i cannot wash my hands and say “that's not \\n\\nmy problem!”. (felipe) \\n\\nautonomy \\n\\nintroducing themselves as directors \\n\\nrather than managers. \\n\\n \\n\\ngetting involved with strategic \\n\\nmatters without requiring directors’ \\n\\ni am the spokesperson of the headquarters. (felipe) \\n\\n \\n\\nas a director at that moment, i may commit myself \\n\\nto some things that the top management would agree \\n\\nwith. so my knowledge of them [top managers] is \\n\\nempowerme\\n\\nnt \\n\\nwhich informed and \\n\\ncalibrated interview \\n\\nscripts \\n\\nwhich informed the \\n\\ntheoretical categories \\n\\n\\n\\n                                               \\n\\n \\n\\n  \\n\\nconsent. \\n\\n \\n\\nattending clients’ meetings where \\n\\nonly clients’ directors are present. \\n\\nvery important. at the time i have to think what \\n\\nwould they [directors] do?...i strive to know their \\n\\npositioning on various subjects…and this will help \\n\\nme to be [play the role of] director, because if i do \\n\\nnot play the director with the client, most often i do \\n\\nnot have [keep] the client. (leonardo) \\n\\n \\n\\nthe truth is that there is a responsibility greater than \\n\\nthe function…then there are problems that are not \\n\\nfrom your area, but if you're just there, you will \\n\\nsolve them. (alexandre) \\n\\ndoubtful about the latitude of their \\n\\naction spheres. \\n\\n \\n\\nquestioning the scope of their \\n\\npossibilities and responsibilities. \\n\\n \\n\\ndoubtful about “caps” on how far \\n\\nthey can compromise firms’ liability \\n\\nand resources. \\n\\nstrange that it’s necessary, but no one told me \\n\\nduring my mba. it is almost like being an actor, \\n\\nwithout being false, but it’s a representation. i have \\n\\nto be a chameleon to make myself understood. \\n\\n(tiago) \\n\\n \\n\\ni am putting myself on equal footing to discuss some \\n\\nsituations compared to the technical director’s \\n\\nfooting. so there is a mixture [overlaps]. there is no \\n\\nclear role on that. although it is clear that he is the \\n\\ntechnical director. (leonardo) \\n\\nreflexivity \\n\\ndifficulties in dealing with multiple \\n\\ngroups simultaneously. \\n\\n \\n\\nenduring the accumulation of roles. \\n\\n \\n\\nconfusion about evolving ways of \\n\\naddressing themselves. \\n\\n \\n\\nparticular situations cause more \\n\\ndistress in changing and adjusting \\n\\nattitudes and behaviors. \\n\\nyou have to be diplomatic. you have to please both \\n\\nthe greeks and the trojans. (joão) \\n\\n \\n\\nsometimes you’re being pushed by the boss and also \\n\\nby the subordinates, about the same thing at the \\n\\nsame time, real-time on the phone, and you need to \\n\\nhold onto yourself to both hear the demand being \\n\\nmade and at the same time transform yourself to \\n\\nspeak to the one implementing it. (tiago) \\n\\nfatigue \\n\\ne\\nx\\np\\n\\ner\\nie\\n\\nn\\nci\\n\\nn\\ng\\n a\\n\\nli\\nen\\n\\na\\nti\\n\\no\\nn\\n\\n \\n\\nlack of drive regarding how to \\n\\nbehave. \\n\\n \\n\\nsense of going with the flow rather \\n\\nthan being in control of their agenda, \\n\\nbehavior and pursuits. \\n\\n \\n\\nperception of re-acting rather than \\n\\nacting. \\n\\nyou are accountable for things over which you have \\n\\nno control. (felipe) \\n\\n \\n\\nyou have to pay attention, to be aware that \\n\\nsometimes you’re an actor but you do not direct the \\n\\naction. (leonardo) \\n\\nlack of self-\\n\\ndeterminati\\n\\non \\n\\nsense of not being updated about \\n\\naccounting, auditing and taxation \\n\\nmatters. \\n\\n \\n\\ntoo busy to review technical \\n\\n(auditing) matters. \\n\\n \\n\\ni have to know how to work with people from other \\n\\nsectors. i have to be flexible, seek to understand \\n\\npeople, not only those of my sector but also those \\n\\nfrom other sectors. (carolina) \\n\\n \\n\\nafter closing the sale, it is difficult to change the \\n\\nclient’s focal point in the firm. the clients will be \\n\\ndetachment \\n\\nfrom \\n\\nprofession \\n\\n\\n\\n                                               \\n\\n \\n\\n  \\n\\ndelegating auditing matters to the \\n\\nsenior auditor of the project. \\n\\n \\n\\nin client meetings and visits \\n\\nperforming mostly social and \\n\\nsymbolic work rather than technical \\n\\nwork. \\n\\n \\n\\ndaydreaming and comparing \\n\\nthemselves with other accountants \\n\\nwho are recognized as experts. \\n\\n \\n\\nlack of time to attend training \\n\\nopportunities. \\n\\ndissatisfied if i close the contract [with them] and do \\n\\nnot continue to monitor the work. the clients do not \\n\\nseek contacts within the company – logistics, \\n\\ntechnical, back-office departments, etc. the clients \\n\\nalways look for their manager to know about \\n\\nbusiness matters in logistics, technical, and the back-\\n\\noffice. (daniel) \\n\\n \\n\\nit’s not just about studying and knowing, you have \\n\\ngot to have posture. you might know the very \\n\\nminimum, but still have posture. you must have a \\n\\nsense when you approach the client, the director, the \\n\\nboard, that you are dealing with people that feel \\n\\nyour presence as being important to the process. \\n\\n(carlos) \\n\\nsense of being separate from others \\n\\n \\n\\nloneliness. \\n\\n \\n\\ndistrusting peers.  \\n\\n \\n\\nsense of lacking colleagues with \\n\\nwhom to share personal matters. \\n\\n \\n\\nmost of the days middle managers \\n\\ndid not have lunch with coworkers \\n\\n(even when they were not busy with \\n\\nexternal actors). \\n\\nyou seem to be an instrument for things to work \\n\\nthemselves out, and this in turn will generate a \\n\\ncertain artificiality in behavior, or at least an \\n\\nimpression of artificiality, which will end up \\n\\ngenerating solitude. (felipe) \\n\\n \\n\\nleadership in my view is a very solitary activity. \\n\\nthis idea of sharing leadership does not exist. \\n\\n(daniel) \\n\\n \\n\\nbecause of the excess of functions that you perform, \\n\\nyou end up interacting a lot with different people, \\n\\nbut little with each one of them. (tiago) \\n\\ndetachment \\n\\nfrom \\n\\ncoworkers \\n\\n \\n \\n \\n\\n\\n\""
      ]
     },
     "execution_count": 6,
     "metadata": {},
     "output_type": "execute_result"
    }
   ],
   "source": [
    "pdf_excluded[11]"
   ]
  },
  {
   "cell_type": "markdown",
   "metadata": {},
   "source": [
    "# step-3 remove reference"
   ]
  },
  {
   "cell_type": "code",
   "execution_count": null,
   "metadata": {},
   "outputs": [],
   "source": [
    "import re\n",
    "pdf_ref = [re.sub(r\"(?is)\\nreferences\\n.+\", \"\", f) for f in pdf_text]"
   ]
  },
  {
   "cell_type": "markdown",
   "metadata": {},
   "source": [
    "# step-4 load metadata"
   ]
  },
  {
   "cell_type": "code",
   "execution_count": null,
   "metadata": {},
   "outputs": [],
   "source": [
    "import pickle\n",
    "#load the metadata\n",
    "pdf_metadata = pickle.load(open(\"C:/Thesis/Data/save/Human_Relations/metadata/metadata_all.p\", \"rb\"))"
   ]
  },
  {
   "cell_type": "code",
   "execution_count": null,
   "metadata": {},
   "outputs": [],
   "source": [
    "pdf_metadata[10]"
   ]
  },
  {
   "cell_type": "markdown",
   "metadata": {},
   "source": [
    "# step-5: Get title, subject and author"
   ]
  },
  {
   "cell_type": "code",
   "execution_count": null,
   "metadata": {},
   "outputs": [],
   "source": [
    "# it does not contain author metadata\n",
    "pdf_title = []\n",
    "pdf_Author = []\n",
    "pdf_subject = []\n",
    "\n",
    "\n",
    "for i in pdf_metadata:\n",
    "    temp =\"\"\n",
    "    auth_temp = \"\"\n",
    "    subj_temp = \"\"\n",
    "    try:\n",
    "        temp = i['title']\n",
    "        auth_temp = i['Author']\n",
    "        subj_temp = i['subject']\n",
    "        \n",
    "        pdf_title.append(temp)\n",
    "        pdf_Author.append(auth_temp)\n",
    "        pdf_subject.append(subj_temp)\n",
    "    \n",
    "    except:\n",
    "        #print(\"An exception occurred\" )\n",
    "        pdf_title.append(temp)\n",
    "        pdf_Author.append(auth_temp)\n",
    "        pdf_subject.append(subj_temp)\n",
    "       "
   ]
  },
  {
   "cell_type": "code",
   "execution_count": null,
   "metadata": {},
   "outputs": [],
   "source": [
    "# pre-process author\n",
    "import re\n",
    "pdf_auth = []\n",
    "\n",
    "for j in pdf_Author:\n",
    "    k = re.sub(' and ', '', str(j))\n",
    "    k = re.sub('[!;&$]', '', k)\n",
    "    k = re.sub('[0-9]+', '', k)\n",
    "    k = re.sub( r'\\b\\w{1,3}\\b', '', k)\n",
    "    k = re.sub( r'-', ' ', k)\n",
    "#     pdf_p = [re.sub(' +', ' ', f) for f in pdf_p]\n",
    "    k = re.sub(' +', ',', k)\n",
    "    k = k.split(\",\")\n",
    "   \n",
    "    pdf_auth.append(k)\n",
    "    "
   ]
  },
  {
   "cell_type": "code",
   "execution_count": null,
   "metadata": {},
   "outputs": [],
   "source": [
    "pdf_auth"
   ]
  },
  {
   "cell_type": "code",
   "execution_count": null,
   "metadata": {},
   "outputs": [],
   "source": [
    "# save removed subject \n",
    "# pickle.dump(pdf_txt_sub, open( \"C:/Thesis/Data/save/Human_Relations/metadata/removed_subject/metadata_all.p\", \"wb\" ) )\n"
   ]
  },
  {
   "cell_type": "code",
   "execution_count": null,
   "metadata": {},
   "outputs": [],
   "source": [
    "# not required\n",
    "def eliminate_method_result(method, discussion):\n",
    "    \n",
    "    import re    \n",
    "    start = method\n",
    "    end = discussion\n",
    "    #start of pattern, followed by any number of times 'any character OR a newline' and terminated by the end pattern.\n",
    "    pattern = start + '.*'+'(.|\\n)*'+end\n",
    "    pdf_method_dis = [re.sub(pattern, '', f) for f in pdf_text]\n",
    "\n",
    "    return pdf_method_dis"
   ]
  },
  {
   "cell_type": "code",
   "execution_count": null,
   "metadata": {},
   "outputs": [],
   "source": [
    "# not required\n",
    "def eliminate_method_result_ref(method, dis, ref):\n",
    "    \n",
    "    import re\n",
    "\n",
    "    start = method\n",
    "    end = dis\n",
    "    \n",
    "    #start of pattern, followed by any number of times 'any character OR a newline' and terminated by the end pattern.\n",
    "    pattern = start + '.*'+'(.|\\n)*'+end\n",
    "    pdf_method_dis = [re.sub(pattern, '', f) for f in pdf_text]\n",
    "    \n",
    "    start_ref = ref\n",
    "    pattern_ref = start_ref +'(.|\\n)*$'\n",
    "\n",
    "    pdf_ref= [re.sub(pattern_ref, '', f) for f in pdf_method_dis]\n",
    "    \n",
    "    return pdf_ref"
   ]
  },
  {
   "cell_type": "markdown",
   "metadata": {},
   "source": [
    "#  Pre-processing\n",
    "Regular expression is used to clean up the pre-processed data and saved as a Master data"
   ]
  },
  {
   "cell_type": "code",
   "execution_count": null,
   "metadata": {},
   "outputs": [],
   "source": [
    "#pdf_ref[2]"
   ]
  },
  {
   "cell_type": "code",
   "execution_count": null,
   "metadata": {},
   "outputs": [],
   "source": [
    "import re\n",
    "pdf_p= [re.sub(r\"-\\n(\\n)*\", \"\", t)for t in pdf_ref]\n",
    "\n",
    "pdf_p= [re.sub(r\"\\n(\\n)*\", \"\\n\", t)for t in pdf_p]\n",
    "\n",
    "pdf_p= [re.sub(r\"\\n\", \" \", t)for t in pdf_p]\n",
    "# remove text with [] eg citation\n",
    "pdf_p = [re.sub(r\"\\[[^)]*\\]\", \"\", t)for t in pdf_p]\n",
    "#Remove numbers\n",
    "pdf_p = [re.sub('[0-9]+', '', f) for f in pdf_p]\n",
    "#pdf_p = [re.sub(\"r[\\S]+\\.(net|com|org|info|edu|gov|uk|de|ca|jp|fr|au|us|ru|ch|it|nel|se|no|es|mil)[\\S]*\\s?\", \" \", t)for t in pdf_p]\n",
    "pdf_p = [re.sub('[!@/%“”‘:#©β<>+=δχ*&$]', ' ', f) for f in pdf_p]\n",
    "pdf_p = [re.sub('’s','', f) for f in pdf_p]\n",
    "pdf_p = [re.sub('’re','', f) for f in pdf_p]\n",
    "pdf_p = [re.sub('’t','', f) for f in pdf_p]\n",
    "pdf_p = [re.sub('’ve','', f) for f in pdf_p]\n",
    "pdf_p = [re.sub('’ll','', f) for f in pdf_p]\n",
    "pdf_p = [re.sub('’m','', f) for f in pdf_p]\n",
    "\n",
    "pdf_p = [re.sub('[:()-]', ' ', f) for f in pdf_p]\n",
    "pdf_p = [re.sub('[\\.!?]+ ', 'XYZXYZ', t) for t in pdf_p]\n",
    "# \\w will match alphanumeric characters and underscores\n",
    "# [^\\w] will match anything that's not alphanumeric or underscore\n",
    "pdf_p = [re.sub(r'[^\\w]', ' ', f) for f in pdf_p]\n",
    "pdf_p = [re.sub('XYZXYZ', '.', f) for f in pdf_p]\n",
    "pdf_p = [re.sub(' +', ' ', f) for f in pdf_p]\n",
    "# Replace multiple dots with one dot\n",
    "pdf_p = [re.sub('\\.\\.+',\".\", f) for f in pdf_p]\n",
    "pdf_p = [re.sub(r'\\b\\w{1,3}\\b',\"\", f) for f in pdf_p]\n",
    "pdf_p = [re.sub(' +', ' ', f) for f in pdf_p]\n",
    "# pdf_p = [re.sub(' +', ' ', f) for f in pdf_p]\n",
    "\n",
    "pdf_p = [re.sub(\"^\\s+\",\"\", f) for f in pdf_p]# remove the front space\n",
    "pdf_p = [re.sub(\"\\s+\\Z\",\"\", f) for f in pdf_p]#remove the back space\n",
    "pdf_p = [re.sub(\"ø\",\"o\", f) for f in pdf_p]\n",
    "pdf_p = [re.sub(\"ö\",\"o\", f) for f in pdf_p]\n",
    "\n"
   ]
  },
  {
   "cell_type": "code",
   "execution_count": null,
   "metadata": {},
   "outputs": [],
   "source": [
    "pdf_p[2]"
   ]
  },
  {
   "cell_type": "code",
   "execution_count": null,
   "metadata": {},
   "outputs": [],
   "source": [
    "author_list = ['abildgaard','nielsen','wåhlin', 'jacobsen', 'maltesen', 'christensen', 'holtermann', 'jonescd', 'neil','stewart']\n",
    "author_list +=['ricardo', 'azambuja', 'benjamin', 'baran', 'steven', 'rogelberg', 'erika', 'carello', 'lopina', 'joseph', 'allen']\n",
    "author_list += ['christiane', 'spitzmã¼ller', 'mindy', 'bergman', 'barton','michelle','sutcliffe', 'kathleen',  'beech']\n",
    "author_list +=['hindmarsh','jonathan', 'alex', 'bryson', 'sbbj', 'home', 'lceja', 'henriette', 'lbke', 'gcooke', 'systemroot']\n",
    "author_list +=['courpasson', 'david', 'winee', 'jcullen', 'kevin', 'daniels', 'françoise', 'dany', 'séverine', 'louvel', 'annick']\n",
    "author_list +=['valette', 'michi', 'nick', 'drydakis', 'sandy', 'jitendra', 'santi', 'user', 'charlotte', 'stephen', 'gibson']\n",
    "author_list +=['jackie', 'abell', 'steffen', 'giessner', 'ludo', 'glimmerveen', 'sierk', 'ybema', 'henk', 'nies', 'nicolinis']\n",
    "author_list +=['nickyh', 'graham', 'symon', 'unknown', 'management', 'martin', 'harris', 'beverley', 'hawkins', 'hongwei','valued']\n",
    "author_list +=['acer', 'customer', 'hoogervorst', 'christina', 'hoon', 'rebecca', 'bednarek', 'ewald', 'kibler', 'christoph', 'mandl']\n",
    "author_list +=['steffen', 'farny', 'virva', 'salmivaara', 'lindsey', 'kotrba', 'michael', 'gillespie', 'aaron', 'schmidt', 'ryan']\n",
    "author_list +=['smerek', 'samantha', 'ritchie', 'daniel', 'denison', 'alice', 'michel', 'lander', 'hans', 'oosterhout', 'pursey']\n",
    "author_list +=['heugens', 'jorien', 'pruijssers', 'unknown', 'brenda', 'lautsch', 'jonathan', 'lavelle', 'barbara', 'lawrence']\n",
    "author_list +=['sreiche', 'jantonak', 'danielle', 'logue', 'loveridge', 'mairi', 'mairi', 'maclean', 'stephan', 'manning']\n",
    "author_list +=['emmanuelle', 'marchal','kévin', 'mellet','géraldine', 'rieucau', 'mavin','grandy','darren', 'mccabe','mccann', 'paula']\n",
    "author_list +=['mcdonald', 'ecxkm', 'isabella', 'mezihorak', 'nanna', 'meyer', \"gisa\", \"moenkemeyer\", \"martin\", 'hoegl', 'matthias']\n",
    "author_list +=[\"weiss\", 'irma', 'mooi', 'recimark', 'wooden', 'umcmorris', 'alexandre', 'morin', 'john', 'meyer','milie', 'langer']\n",
    "author_list +=['jean', 'sebastien', 'boudrias', 'marylã', 'gagnã', 'philip', 'david', 'parker', 'mette', 'morsinglaura', 'spence']\n",
    "author_list +=['munro',  'mork', 'bjorn', 'erik', 'angela', 'neff', 'cornelia', 'niessen', 'sabine', 'sonnentag', 'dana', 'unger']\n",
    "author_list +=['nielsen', 'miraglia','karina', 'marietta', 'nielsen',  'cornelia', 'niessen', 'daniela', 'weseler', 'petya']\n",
    "author_list +=['kostova', 'ollier', 'edward', 'connormarian', 'crowley', 'henry', 'jone', 'pearce', 'design', 'unit', 'london']\n",
    "author_list +=['school', 'economics', 'miguel', 'cunha', 'mforeman', 'lbsrtta', 'igor', 'pyrko', 'viktor', 'dorfler', 'colin', 'eden']\n",
    "author_list +=['marco', 'guerci', 'laurasue', 'gerdien', 'regts', 'eric', 'molleman', 'hendrik', 'johan', 'brake', 'juliane']\n",
    "author_list +=['reinecke', 'jimmy', 'donaghey', 'adrian', 'wilkinson', 'geoffrey', 'wood', 'caroline', 'fixter', 'richard', 'robinson']\n",
    "author_list +=['emma', 'russellkevin', 'daniels', 'patrick', 'furu', 'christopher', 'wickert', 'kees', 'schakeljeroen', 'wolbers']\n",
    "author_list +=['michaela', 'schippers', 'dennis', 'schoeneborn', 'dora', 'scholariosphil', 'taylor', 'burkard', 'sievers', 'susan']\n",
    "author_list +=['long', 'gordon', 'lawrence', 'irene', 'skovgaard', 'smith', 'hola', 'lotte', 'staelens', 'céline', 'louche', 'irobhs']\n",
    "author_list +=['harry',  'mnsst', 'tomlinson', 'baird', 'berg', 'pcooper',  'anne', 'touboulic', 'ulsea', 'nick', 'turner', 'umney'] \n",
    "author_list +=['dana', 'unger', 'wieke', 'borg', 'petra', 'verdonk', 'linda', 'dauwerse', 'tineke', 'abma', 'suzanne', 'gils', 'niels']\n",
    "author_list +=['quaquebeke', 'borkowski', 'daan', 'knippenberg', 'james', 'mvidal', 'default', 'vincent',  'ldannen', 'ulrica']\n",
    "author_list +=['thiele', 'schwarz', 'karina', 'terese', 'stenfors', 'hayes', 'henna', 'hasson', 'mvoronov','wang', 'administrator']\n",
    "author_list +=['whittle', \"whittle\",\"mueller\",'monica', 'whitty','lilians', 'christopherw', 'madeleine', 'wyattjo','silvester']\n",
    "author_list +=['morgan', 'anders', 'ortenblad', 'linda', 'putnam', 'kiran', 'trehan']"
   ]
  },
  {
   "cell_type": "code",
   "execution_count": null,
   "metadata": {},
   "outputs": [],
   "source": [
    "# Function to filter out the stopwords and authors names\n",
    "def filterWords(msg, words):\n",
    "    m = msg.split(' ')\n",
    "    words_end = [w + '.' for w in words]\n",
    "    filtered_words = list(filter(lambda word: word not in words, m))\n",
    "    filtered_words = [(w if w not in words_end else '.') for w in filtered_words]\n",
    "    result = ' '.join(filtered_words)\n",
    "    return(result)"
   ]
  },
  {
   "cell_type": "code",
   "execution_count": null,
   "metadata": {},
   "outputs": [],
   "source": [
    "data_proc_auth = [filterWords(f, author_list) for f in test]"
   ]
  },
  {
   "cell_type": "code",
   "execution_count": null,
   "metadata": {},
   "outputs": [],
   "source": [
    "stopwords = ['a', 'about', 'above', 'across', 'after', 'afterwards']\n",
    "stopwords += ['again', 'against', 'all', 'almost', 'alone', 'along']\n",
    "stopwords += ['already', 'also', 'although', 'always', 'am', 'among']\n",
    "stopwords += ['amongst', 'amoungst', 'amount', 'an', 'and', 'another']\n",
    "stopwords += ['any', 'anyhow', 'anyone', 'anything', 'anyway', 'anywhere']\n",
    "stopwords += ['are', 'around', 'as', 'at', 'back', 'be', 'became']\n",
    "stopwords += ['because', 'become', 'becomes', 'becoming', 'been']\n",
    "stopwords += ['before', 'beforehand', 'behind', 'being', 'below']\n",
    "stopwords += ['beside', 'besides', 'between', 'beyond', 'bill', 'both']\n",
    "stopwords += ['bottom', 'but', 'by', 'call', 'can', 'cannot', 'cant']\n",
    "stopwords += ['co', 'computer', 'con', 'could', 'couldnt', 'cry', 'de']\n",
    "stopwords += ['describe', 'detail', 'did', 'do', 'done', 'down', 'due']\n",
    "stopwords += ['during', 'each', 'eg', 'eight', 'either', 'eleven', 'else']\n",
    "stopwords += ['elsewhere', 'empty', 'enough', 'etc', 'even', 'ever']\n",
    "stopwords += ['every', 'everyone', 'everything', 'everywhere', 'except']\n",
    "stopwords += ['few', 'fifteen', 'fifty', 'fill', 'find', 'fire', 'first']\n",
    "stopwords += ['five', 'for', 'former', 'formerly', 'forty', 'found']\n",
    "stopwords += ['four', 'from', 'front', 'full', 'further', 'get', 'give']\n",
    "stopwords += ['go', 'had', 'has', 'hasnt', 'have', 'he', 'hence', 'her']\n",
    "stopwords += ['here', 'hereafter', 'hereby', 'herein', 'hereupon', 'hers']\n",
    "stopwords += ['herself', 'him', 'himself', 'his', 'how', 'however']\n",
    "stopwords += ['hundred', 'i', 'ie', 'if', 'in', 'inc', 'indeed']\n",
    "stopwords += ['interest', 'into', 'is', 'it', 'its', 'itself', 'keep']\n",
    "stopwords += ['last', 'latter', 'latterly', 'least', 'less', 'ltd', 'made']\n",
    "stopwords += ['many', 'may', 'me', 'meanwhile', 'might', 'mill', 'mine']\n",
    "stopwords += ['more', 'moreover', 'most', 'mostly', 'move', 'much']\n",
    "stopwords += ['must', 'my', 'myself', 'name', 'namely', 'neither', 'never']\n",
    "stopwords += ['nevertheless', 'next', 'nine', 'no', 'nobody', 'none']\n",
    "stopwords += ['noone', 'nor', 'not', 'nothing', 'now', 'nowhere', 'of']\n",
    "stopwords += ['off', 'often', 'on','once', 'one', 'only', 'onto', 'or']\n",
    "stopwords += ['other', 'others', 'otherwise', 'our', 'ours', 'ourselves']\n",
    "stopwords += ['out', 'over', 'own', 'part', 'per', 'perhaps', 'please']\n",
    "stopwords += ['put', 'rather', 're', 's', 'same', 'see', 'seem', 'seemed']\n",
    "stopwords += ['seeming', 'seems', 'serious', 'several', 'she', 'should']\n",
    "stopwords += ['show', 'side', 'since', 'sincere', 'six', 'sixty', 'so']\n",
    "stopwords += ['some', 'somehow', 'someone', 'something', 'sometime']\n",
    "stopwords += ['sometimes', 'somewhere', 'still', 'such', 'system', 'take']\n",
    "stopwords += ['ten', 'than', 'that', 'the', 'their', 'them', 'themselves']\n",
    "stopwords += ['then', 'thence', 'there', 'thereafter', 'thereby']\n",
    "stopwords += ['therefore', 'therein', 'thereupon', 'these', 'they']\n",
    "stopwords += ['thick', 'thin', 'third', 'this', 'those', 'though', 'three']\n",
    "stopwords += ['three', 'through', 'throughout', 'thru', 'thus', 'to']\n",
    "stopwords += ['together', 'too', 'top', 'toward', 'towards', 'twelve']\n",
    "stopwords += ['twenty', 'two', 'un', 'under', 'until', 'up', 'upon']\n",
    "stopwords += ['us', 'very', 'via', 'was', 'we', 'well', 'were', 'what']\n",
    "stopwords += ['whatever', 'when', 'whence', 'whenever', 'where']\n",
    "stopwords += ['whereafter', 'whereas', 'whereby', 'wherein', 'whereupon']\n",
    "stopwords += ['wherever', 'whether', 'which', 'while', 'whither', 'who']\n",
    "stopwords += ['whoever', 'whole', 'whom', 'whose', 'why', 'will', 'with']\n",
    "stopwords += ['within', 'without', 'would', 'yet', 'you', 'your']\n",
    "stopwords += ['yours', 'yourself', 'yourselves']\n",
    "# subject extracted from metadata\n",
    "stopwords += ['business administration','sociology','human relations']\n",
    "stopwords += ['january', 'february', 'march', 'february', 'march', 'april', 'may', 'june', 'july', 'august', 'september', 'october', 'november', 'december']\n",
    "# author name to remove\n",
    "stopwords +=['karina nielsen','kevin daniels','elaine', 'jaewan yang','andrew O herdman','amanda', 'sabine','kerstin','kertin','sagepub','journalspermissions','catheine','chidiebere ogbonnaya','john wiley','sons ltd','martin','jeffrey B arthur']"
   ]
  },
  {
   "cell_type": "code",
   "execution_count": null,
   "metadata": {},
   "outputs": [],
   "source": [
    "data_proc = [filterWords(f, stopwords) for f in data_proc_auth]"
   ]
  },
  {
   "cell_type": "code",
   "execution_count": null,
   "metadata": {},
   "outputs": [],
   "source": [
    "import re\n",
    "data_proc_2 = [re.sub(' \\.+', ' ', f) for f in data_proc]\n",
    "data_proc_2 = [re.sub(' +', ' ', f) for f in data_proc_2]\n",
    "data_proc_2 = [re.sub('http', '', f) for f in data_proc_2]\n",
    "data_proc_2 = [re.sub('www', '', f) for f in data_proc_2]\n",
    "data_proc_2 = [re.sub('iweb', '', f) for f in data_proc_2]\n",
    "data_proc_2 = [re.sub('_', ' ', f) for f in data_proc_2]\n",
    "data_proc_2 = [re.sub(' +', ' ', f) for f in data_proc_2]"
   ]
  },
  {
   "cell_type": "code",
   "execution_count": null,
   "metadata": {},
   "outputs": [],
   "source": [
    "import pycountry\n",
    "\n",
    "country_list = []\n",
    "for country in pycountry.countries:\n",
    "    a = (country.name).lower()\n",
    "    country_list.append(a) "
   ]
  },
  {
   "cell_type": "code",
   "execution_count": null,
   "metadata": {},
   "outputs": [],
   "source": [
    "data_proc_country =[]\n",
    "for j in data_proc_2:\n",
    "    line = j\n",
    "    for k in country_list:\n",
    "        line = re.sub(k, '', line)\n",
    "        \n",
    "    data_proc_country.append(line)"
   ]
  },
  {
   "cell_type": "code",
   "execution_count": null,
   "metadata": {},
   "outputs": [],
   "source": []
  },
  {
   "cell_type": "code",
   "execution_count": null,
   "metadata": {},
   "outputs": [],
   "source": [
    "# save removed \n",
    "pickle.dump(data_proc_country, open( \"C:/Thesis/Data/save/Human_Relations/metadata/removed_country/metadata_all.p\", \"wb\" ) )"
   ]
  },
  {
   "cell_type": "code",
   "execution_count": null,
   "metadata": {},
   "outputs": [],
   "source": [
    "# Authors names are saved already (code is available at author name folder-get name list notebook)\n",
    "#load authors names\n",
    "import pickle\n",
    "author_name = pickle.load(open(\"C:/Thesis/Data/save/Master_Data/auth_ref_filter_num_char/auth_Human_Relations.p\", \"rb\"))"
   ]
  },
  {
   "cell_type": "code",
   "execution_count": null,
   "metadata": {},
   "outputs": [],
   "source": [
    "# GET REFERENCE LISTS OF STOPWORDS, I.E. WORDS THAT ARE ESSENTIALLY MEANINGLESS\n",
    "# Get all the list of authors names\n",
    "\n",
    "from nltk.corpus import stopwords\n",
    "\n",
    "sw = stopwords.words('english') + author_name\n",
    "\n",
    "#print(sw)"
   ]
  },
  {
   "cell_type": "code",
   "execution_count": null,
   "metadata": {},
   "outputs": [],
   "source": [
    "\n",
    "data_proc_1 = [filterWords(f, sw) for f in data_proc_country]"
   ]
  },
  {
   "cell_type": "code",
   "execution_count": null,
   "metadata": {},
   "outputs": [],
   "source": [
    "# save data\n",
    "pickle.dump(data_proc_2, open( \"C:/Thesis/Data/save/Master_Data/MD_4/data_proc_latest/HR_data_proc.p\", \"wb\" ) )"
   ]
  },
  {
   "cell_type": "code",
   "execution_count": null,
   "metadata": {},
   "outputs": [],
   "source": [
    "#import io\n",
    "with open(\"C:/Thesis/Data/save/Master_Data/MD_4/data_proc_latest/HR_data_proc_txt.txt\", \"w\",encoding=\"utf-8\") as outfile:\n",
    "    for i in range(len(data_proc_2)):\n",
    "        outstring = \"\"\n",
    "        outstring += str(data_proc_2[i])\n",
    "        outfile.write(outstring)"
   ]
  },
  {
   "cell_type": "code",
   "execution_count": null,
   "metadata": {},
   "outputs": [],
   "source": []
  }
 ],
 "metadata": {
  "kernelspec": {
   "display_name": "Python 3",
   "language": "python",
   "name": "python3"
  },
  "language_info": {
   "codemirror_mode": {
    "name": "ipython",
    "version": 3
   },
   "file_extension": ".py",
   "mimetype": "text/x-python",
   "name": "python",
   "nbconvert_exporter": "python",
   "pygments_lexer": "ipython3",
   "version": "3.7.6"
  }
 },
 "nbformat": 4,
 "nbformat_minor": 2
}
